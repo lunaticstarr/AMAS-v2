{
 "cells": [
  {
   "cell_type": "code",
   "execution_count": 1,
   "id": "ae465943",
   "metadata": {},
   "outputs": [],
   "source": [
    "# create CheBI Graph using a saved local chebi file\n",
    "# this will ensure the reproducilibility of chebi ontology graph\n",
    "# possibly.. also using bioservices\n",
    "# from bioservices import *"
   ]
  },
  {
   "cell_type": "markdown",
   "id": "f535f5ce",
   "metadata": {},
   "source": [
    "# Create CHEIB-G (Last updated Apr. 29, 2022)\n",
    "## 1. Graph with only primary IDs\n",
    "## 2. Dictionary that maps all secondary IDs to primary ids\n",
    "## 3. Dictionary: chebi to full formula \n",
    "## 4. Dictionary: chebi to shortened formula"
   ]
  },
  {
   "cell_type": "code",
   "execution_count": 1,
   "id": "a0663b17",
   "metadata": {},
   "outputs": [
    {
     "name": "stderr",
     "output_type": "stream",
     "text": [
      "* Owlready2 * Warning: optimized Cython parser module 'owlready2_optimized' is not available, defaulting to slower Python implementation\n"
     ]
    }
   ],
   "source": [
    "import collections\n",
    "import compress_pickle\n",
    "import networkx as nx\n",
    "import os\n",
    "import owlready2\n",
    "import pickle\n",
    "import re\n",
    "import xmltodict"
   ]
  },
  {
   "cell_type": "code",
   "execution_count": 2,
   "id": "73b60e25",
   "metadata": {},
   "outputs": [],
   "source": [
    "DATA_DIR = '/Users/woosubs/Desktop/AutomateAnnotation/DATA'\n",
    "CHEBI_DIR = os.path.join(DATA_DIR, \"chebi\")"
   ]
  },
  {
   "cell_type": "code",
   "execution_count": 3,
   "id": "caaa5610",
   "metadata": {},
   "outputs": [],
   "source": [
    "# onto = owlready2.get_ontology(\"chebi.owl\").load()"
   ]
  },
  {
   "cell_type": "code",
   "execution_count": 4,
   "id": "fb7d9378",
   "metadata": {},
   "outputs": [],
   "source": [
    "# onto.save(\"chebi.xml\")"
   ]
  },
  {
   "cell_type": "code",
   "execution_count": 5,
   "id": "3c981d00",
   "metadata": {},
   "outputs": [
    {
     "data": {
      "text/plain": [
       "178349"
      ]
     },
     "execution_count": 5,
     "metadata": {},
     "output_type": "execute_result"
    }
   ],
   "source": [
    "contents = open(\"chebi.xml\").read()\n",
    "ch = xmltodict.parse(contents)\n",
    "chebis = ch['rdf:RDF']['owl:Class']\n",
    "len(chebis)"
   ]
  },
  {
   "cell_type": "code",
   "execution_count": 6,
   "id": "5c982d59",
   "metadata": {},
   "outputs": [
    {
     "data": {
      "text/plain": [
       "OrderedDict([('@rdf:datatype', 'http://www.w3.org/2001/XMLSchema#string'),\n",
       "             ('#text', 'CHEBI:18357')])"
      ]
     },
     "execution_count": 6,
     "metadata": {},
     "output_type": "execute_result"
    }
   ],
   "source": [
    "chebis[1]['oboI:id']"
   ]
  },
  {
   "cell_type": "code",
   "execution_count": 7,
   "id": "8241299b",
   "metadata": {},
   "outputs": [],
   "source": [
    "# with open(os.path.join(CHEBI_DIR, 'chebis.pickle'), 'wb') as handle:\n",
    "#     pickle.dump(chebis, handle, protocol=pickle.HIGHEST_PROTOCOL)"
   ]
  },
  {
   "cell_type": "code",
   "execution_count": 8,
   "id": "570f1ba7",
   "metadata": {},
   "outputs": [],
   "source": [
    "## TODO: chebi ID: Chebi Label (name)\n",
    "## mapping is done only with primary ids\n",
    "chebi2label = dict()\n",
    "for one_chebi in chebis:\n",
    "  if 'oboI:id' in one_chebi:\n",
    "    primary_id = one_chebi['oboI:id']['#text']\n",
    "    chebi_label = one_chebi['rdfs:label']['#text']\n",
    "    chebi2label[primary_id] = chebi_label"
   ]
  },
  {
   "cell_type": "code",
   "execution_count": 9,
   "id": "6b6f3914",
   "metadata": {},
   "outputs": [],
   "source": [
    "compress_pickle.dump(chebi2label, 'chebi2label_18jan2023.lzma',\n",
    "                     compression=\"lzma\", set_default_extension=False)"
   ]
  },
  {
   "cell_type": "code",
   "execution_count": 10,
   "id": "42ba0ad4",
   "metadata": {},
   "outputs": [],
   "source": [
    "# map secondary ID to primary ID\n",
    "second2prime_dict = dict()\n",
    "for one_chebi in chebis:\n",
    "  if 'oboI:id' in one_chebi:\n",
    "    primary_id = one_chebi['oboI:id']['#text']\n",
    "    if 'oboI:hasAlternativeId' in one_chebi:\n",
    "      # if there is only one secondary ID, it produces an ordered dict\n",
    "      if isinstance(one_chebi['oboI:hasAlternativeId'], collections.OrderedDict):\n",
    "        secondary_id = []\n",
    "        secondary_id = secondary_id.append(one_chebi['oboI:hasAlternativeId']['#text'])\n",
    "      # if there is more than one secondary ID, you get a list; treat properly\n",
    "      else:\n",
    "        secondary_id = [val['#text'] for val in one_chebi['oboI:hasAlternativeId']]\n",
    "    else:\n",
    "      secondary_id = None\n",
    "    second2prime_dict[primary_id] = primary_id\n",
    "    if secondary_id:\n",
    "      for one_secondary in secondary_id:\n",
    "        second2prime_dict[one_secondary] = primary_id"
   ]
  },
  {
   "cell_type": "code",
   "execution_count": 11,
   "id": "94c64429",
   "metadata": {},
   "outputs": [
    {
     "data": {
      "text/plain": [
       "176629"
      ]
     },
     "execution_count": 11,
     "metadata": {},
     "output_type": "execute_result"
    }
   ],
   "source": [
    "len(second2prime_dict)"
   ]
  },
  {
   "cell_type": "code",
   "execution_count": 12,
   "id": "12b4e011",
   "metadata": {},
   "outputs": [],
   "source": [
    "# save the dictionary and graph\n",
    "with open(os.path.join(CHEBI_DIR, 'chebi_second2prime_29apr2022.pickle'), 'wb') as handle:\n",
    "    pickle.dump(second2prime_dict, handle, protocol=pickle.HIGHEST_PROTOCOL)"
   ]
  },
  {
   "cell_type": "markdown",
   "id": "705645fc",
   "metadata": {},
   "source": [
    "## First of all, this version assumes that every CHEBI term has been mapped into its primary form"
   ]
  },
  {
   "cell_type": "code",
   "execution_count": null,
   "id": "453c9813",
   "metadata": {},
   "outputs": [],
   "source": []
  },
  {
   "cell_type": "code",
   "execution_count": 13,
   "id": "8927a92f",
   "metadata": {},
   "outputs": [],
   "source": [
    "def getCHEBIEdges(inp_one_chebi):\n",
    "  \"\"\"\n",
    "  Parse ordered dictionary of a chebi term\n",
    "  and extract a list of (children, parent) pairs. \n",
    "  Result will get directly fed into a\n",
    "  networkx object.\n",
    "  \n",
    "  Currently the relationship is restricted to \n",
    "  'is' relationship, so 'owl:Restriction' qualifiers\n",
    "  will not be considered. \n",
    "  \n",
    "  If no such is-pair exists, return None. \n",
    "  \n",
    "  Paremters\n",
    "  ---------\n",
    "  inp_one_chebi: collections.OrderedDict\n",
    "  \n",
    "  Returns\n",
    "  -------\n",
    "  edge_mapper: list-str/None\n",
    "  \"\"\"\n",
    "  # if an edge is detected, flag will be True\n",
    "  flag = False\n",
    "  if 'oboI:id' in inp_one_chebi and 'rdfs:subClassOf' in inp_one_chebi:\n",
    "    # if list, check whether terms with '@rdf:resource' key exists\n",
    "    if isinstance(inp_one_chebi['rdfs:subClassOf'], list):\n",
    "      filtered_terms = [val['@rdf:resource'] for val in inp_one_chebi['rdfs:subClassOf'] \\\n",
    "                     if '@rdf:resource' in val.keys()]\n",
    "      # if at least one term with a regular parent exists, create edge\n",
    "      if len(filtered_terms) > 0:\n",
    "        edge_tos = [val.split('/')[-1].replace('_', ':') \\\n",
    "                    for val in filtered_terms]\n",
    "        flag = True\n",
    "    # if not list (i.e., orderedDict, determine if '@rdf:resource' is given\n",
    "    elif '@rdf:resource' in inp_one_chebi['rdfs:subClassOf']: \n",
    "      edge_tos = [inp_one_chebi['rdfs:subClassOf']['@rdf:resource'].split('/')[-1].replace('_', ':')]\n",
    "      flag = True\n",
    "  # if flag=True, edge_tos should have been already created\n",
    "  if flag:\n",
    "    edge_from = [inp_one_chebi['oboI:id']['#text']]\n",
    "    edge_mapper = list(zip(edge_from*len(edge_tos), edge_tos))\n",
    "    return edge_mapper\n",
    "  else:\n",
    "    return None\n",
    "#                   for val in inp_one_chebi['rdfs:subClassOf'] \\\n",
    "#       edge_tos = [val['@rdf:resource'].split('/')[-1].replace('_', ':') \\\n",
    "#                   for val in inp_one_chebi['rdfs:subClassOf'] \\\n",
    "#                   if '@rdf:resource' in val]"
   ]
  },
  {
   "cell_type": "code",
   "execution_count": 14,
   "id": "d55d8176",
   "metadata": {},
   "outputs": [
    {
     "data": {
      "text/plain": [
       "[('CHEBI:99999', 'CHEBI:24995'), ('CHEBI:99999', 'CHEBI:52898')]"
      ]
     },
     "execution_count": 14,
     "metadata": {},
     "output_type": "execute_result"
    }
   ],
   "source": [
    "getCHEBIEdges(one_chebi)"
   ]
  },
  {
   "cell_type": "code",
   "execution_count": 15,
   "id": "cdf54d70",
   "metadata": {},
   "outputs": [],
   "source": [
    "# tested a few caes :) \n",
    "# for one_chebi in chebis:\n",
    "#   res = getCHEBIEdges(one_chebi)\n",
    "#   if res is None and 'oboI:id' in one_chebi:\n",
    "#     print(\"======================================\")\n",
    "#     print(\"found :) \")\n",
    "#     print(one_chebi)\n",
    "#     print(\"======================================\")\n",
    "#     print()\n",
    "#   else:\n",
    "#     print(getCHEBIEdges(one_chebi))"
   ]
  },
  {
   "cell_type": "code",
   "execution_count": 16,
   "id": "5f3c26bb",
   "metadata": {},
   "outputs": [],
   "source": [
    "g = nx.DiGraph()\n",
    "for one_chebi in chebis:\n",
    "  chebi_edges = getCHEBIEdges(one_chebi)\n",
    "  if chebi_edges is not None:\n",
    "    g.add_edges_from(chebi_edges)"
   ]
  },
  {
   "cell_type": "code",
   "execution_count": 17,
   "id": "8a8fea9d",
   "metadata": {},
   "outputs": [],
   "source": [
    "# ## original code :) \n",
    "# g = nx.DiGraph()\n",
    "# for one_chebi in chebis:\n",
    "#   if 'oboI:id' in one_chebi and 'rdfs:subClassOf' in one_chebi:\n",
    "#     edge_from = [one_chebi['oboI:id']['#text']]\n",
    "#     if isinstance(one_chebi['rdfs:subClassOf'], list):\n",
    "#       edge_tos = [val['@rdf:resource'].split('/')[-1].replace('_', ':') for val in one_chebi['rdfs:subClassOf'] if\\\n",
    "#                  '@rdf:resource' in val]\n",
    "#     else:\n",
    "#       edge_tos = [one_chebi['rdfs:subClassOf']['@rdf:resource'].split('/')[-1].replace('_', ':')]\n",
    "#     edge_mapper = list(zip(edge_from*len(edge_tos), edge_tos))\n",
    "#     g.add_edges_from(edge_mapper)"
   ]
  },
  {
   "cell_type": "code",
   "execution_count": 18,
   "id": "3c617996",
   "metadata": {},
   "outputs": [
    {
     "data": {
      "text/plain": [
       "231283"
      ]
     },
     "execution_count": 18,
     "metadata": {},
     "output_type": "execute_result"
    }
   ],
   "source": [
    "g.number_of_edges()"
   ]
  },
  {
   "cell_type": "code",
   "execution_count": 19,
   "id": "eeaf0f32",
   "metadata": {},
   "outputs": [
    {
     "data": {
      "text/plain": [
       "True"
      ]
     },
     "execution_count": 19,
     "metadata": {},
     "output_type": "execute_result"
    }
   ],
   "source": [
    "'CHEBI:24431' in g.nodes"
   ]
  },
  {
   "cell_type": "code",
   "execution_count": 20,
   "id": "a4422cf9",
   "metadata": {},
   "outputs": [],
   "source": [
    "with open(os.path.join(CHEBI_DIR, 'chebi_primary_graph_full_30apr2022.pickle'), 'wb') as handle:\n",
    "    pickle.dump(g, handle, protocol=pickle.HIGHEST_PROTOCOL)"
   ]
  },
  {
   "cell_type": "markdown",
   "id": "dfa97094",
   "metadata": {},
   "source": [
    "# Below is another, comprehensive version of mapping CHEBI -> Formula\n",
    "# Previous mapper was just confined within RHEA-components\n",
    "# This one will include all CHEBI terms with formula"
   ]
  },
  {
   "cell_type": "code",
   "execution_count": 21,
   "id": "d124460b",
   "metadata": {},
   "outputs": [],
   "source": [
    "# just get the first of the formulae if multiple are given. \n",
    "#######################################\n",
    "## In case multiple formulae are given, \n",
    "## just return the list of formula-str\n",
    "#######################################\n",
    "chebi_full_formula = dict()\n",
    "for one_chebi in chebis:\n",
    "  if 'oboI:id' in one_chebi and 'cheb:formula' in one_chebi:\n",
    "    if isinstance(one_chebi['cheb:formula'], list):\n",
    "      chebi_formula = [val['#text'] for val in one_chebi['cheb:formula']]\n",
    "    else:\n",
    "      chebi_formula = one_chebi['cheb:formula']['#text']\n",
    "    chebi_full_formula[one_chebi['oboI:id']['#text']] = chebi_formula"
   ]
  },
  {
   "cell_type": "code",
   "execution_count": 22,
   "id": "90ef6e18",
   "metadata": {},
   "outputs": [
    {
     "data": {
      "text/plain": [
       "148331"
      ]
     },
     "execution_count": 22,
     "metadata": {},
     "output_type": "execute_result"
    }
   ],
   "source": [
    "len(chebi_full_formula)"
   ]
  },
  {
   "cell_type": "code",
   "execution_count": 23,
   "id": "f62c6450",
   "metadata": {},
   "outputs": [
    {
     "data": {
      "text/plain": [
       "'C41H77NO7'"
      ]
     },
     "execution_count": 23,
     "metadata": {},
     "output_type": "execute_result"
    }
   ],
   "source": [
    "chebi_full_formula['CHEBI:189081']"
   ]
  },
  {
   "cell_type": "code",
   "execution_count": 24,
   "id": "d883b3aa",
   "metadata": {},
   "outputs": [],
   "source": [
    "with open(os.path.join(CHEBI_DIR, 'chebi_full_formula_30apr2022.pickle'), 'wb') as handle:\n",
    "    pickle.dump(chebi_full_formula, handle, protocol=pickle.HIGHEST_PROTOCOL)"
   ]
  },
  {
   "cell_type": "code",
   "execution_count": 122,
   "id": "3f2e58fd",
   "metadata": {},
   "outputs": [],
   "source": [
    "# one_chebi['cheb:formula']"
   ]
  },
  {
   "cell_type": "code",
   "execution_count": 114,
   "id": "5f673a5c",
   "metadata": {},
   "outputs": [
    {
     "data": {
      "text/plain": [
       "['C', 'H', 'O', 'R', 'n', 'C', 'H', 'O', 'n']"
      ]
     },
     "execution_count": 114,
     "metadata": {},
     "output_type": "execute_result"
    }
   ],
   "source": [
    "# re.findall('[A-Za-z]+','(C5H7O4R)n.(C5H8O4)n')"
   ]
  },
  {
   "cell_type": "code",
   "execution_count": 25,
   "id": "7c376d35",
   "metadata": {},
   "outputs": [
    {
     "name": "stdout",
     "output_type": "stream",
     "text": [
      "CHEBI:99999\n",
      "OrderedDict([('@rdf:datatype', 'http://www.w3.org/2001/XMLSchema#string'), ('#text', 'C25H30N4O4S')])\n"
     ]
    }
   ],
   "source": [
    "# one example; multiple formulae minus R\n",
    "print(one_chebi['oboI:id']['#text'])\n",
    "print(one_chebi['cheb:formula'])"
   ]
  },
  {
   "cell_type": "code",
   "execution_count": 26,
   "id": "032870df",
   "metadata": {},
   "outputs": [],
   "source": [
    "def findCHEBITerm(search_term, inp_chebis=chebis):\n",
    "  \"\"\"\n",
    "  List of CHEBI terms, where\n",
    "  CHEBI terms are given as ordered dictionary.\n",
    "  \n",
    "  Paramters\n",
    "  ---------\n",
    "  inp_chebis: list-orderedDict\n",
    "  \n",
    "  Returns\n",
    "  -------\n",
    "  : orderedDict\n",
    "  \"\"\"\n",
    "  for one_chebi in inp_chebis:\n",
    "    if 'oboI:id' in one_chebi:\n",
    "      chebi_id = one_chebi['oboI:id']['#text']\n",
    "      if search_term == chebi_id:\n",
    "        return one_chebi\n",
    "  return None"
   ]
  },
  {
   "cell_type": "code",
   "execution_count": 27,
   "id": "2ae41ebf",
   "metadata": {},
   "outputs": [],
   "source": [
    "def removeAtom(input_formula, atoms_to_remove):\n",
    "  \"\"\"\n",
    "  Remove a list of Atoms\n",
    "  from the string formula.\n",
    "  Primary goal is to remove\n",
    "  H and D (heavy hydrogen). \n",
    "  :param str input_formula:\n",
    "  :param list-str atoms_to_remove:\n",
    "  :return str:\n",
    "  \"\"\"\n",
    "  idx_to_remove = []\n",
    "  letters = re.findall('[A-Z][a-z]?|\\d+|.', input_formula)\n",
    "  for one_letter in atoms_to_remove:\n",
    "    if one_letter in letters:\n",
    "      one_idx = letters.index(one_letter)\n",
    "      idx_to_remove.append(one_idx)\n",
    "      # if one_idx is the last element, pass\n",
    "      if len(letters) == (one_idx+1):\n",
    "        pass\n",
    "      elif letters[one_idx+1].isdigit():\n",
    "        idx_to_remove.append(one_idx+1)\n",
    "  res = [val for idx, val in enumerate(letters) if idx not in idx_to_remove]\n",
    "  return \"\".join(res)\n",
    "      \n",
    "#       found_val = letters[one_id  "
   ]
  },
  {
   "cell_type": "code",
   "execution_count": 28,
   "id": "045b726e",
   "metadata": {},
   "outputs": [
    {
     "data": {
      "text/plain": [
       "'A2B4Hg2S9'"
      ]
     },
     "execution_count": 28,
     "metadata": {},
     "output_type": "execute_result"
    }
   ],
   "source": [
    "one_m = 'A2B4Hg2H10S9D2'\n",
    "removeAtom(one_m, ['H', 'D'])"
   ]
  },
  {
   "cell_type": "code",
   "execution_count": 29,
   "id": "b36ae714",
   "metadata": {},
   "outputs": [
    {
     "data": {
      "text/plain": [
       "''"
      ]
     },
     "execution_count": 29,
     "metadata": {},
     "output_type": "execute_result"
    }
   ],
   "source": [
    "removeAtom('HD3', ['H', 'D'])"
   ]
  },
  {
   "cell_type": "code",
   "execution_count": 30,
   "id": "a1c8e432",
   "metadata": {},
   "outputs": [],
   "source": [
    "def getCHEBIOriginalFormula(one_info):\n",
    "  \"\"\"\n",
    "  Extract chemical formula\n",
    "  and return it or None.\n",
    "  Original formula conserves all information\n",
    "  given as formula. \n",
    "  param: collections.OrderedDict one_info:\n",
    "  return: str/None\n",
    "  \"\"\"\n",
    "  if 'cheb:formula' in one_info:\n",
    "    if isinstance(one_info['cheb:formula'], list):\n",
    "      res = [val['#text'] for val in one_info['cheb:formula']]\n",
    "    else:\n",
    "      res = one_info['cheb:formula']['#text']\n",
    "  else:\n",
    "    res = None\n",
    "  return res"
   ]
  },
  {
   "cell_type": "code",
   "execution_count": 31,
   "id": "7a01fe1e",
   "metadata": {},
   "outputs": [],
   "source": [
    "# We will be conservative, will choose all formulas mapped from each CHEBI IDs\n",
    "def getShortenedCHEBIFormula(one_info):\n",
    "  \"\"\"\n",
    "  Extract chemical formula\n",
    "  and return it or None.\n",
    "  Formulas that contain n, ., R (radical)\n",
    "  are not considered. \n",
    "  \n",
    "  Parameters\n",
    "  ----------\n",
    "  one_info: collections.OrderedDict\n",
    "  \n",
    "  Returns\n",
    "  -------\n",
    "  return: str/None\n",
    "  \"\"\"\n",
    "  if 'cheb:formula' in one_info:\n",
    "    # if multiple formulae are given, choose the shortest (rare situation, imo)\n",
    "    if isinstance(one_info['cheb:formula'], list):\n",
    "      form = sorted([val['#text'] for val in one_info['cheb:formula']], key=len)[0]\n",
    "    else:\n",
    "      form = one_info['cheb:formula']['#text']\n",
    "##############################################\n",
    "#### Removed Below#############################\n",
    "#     if 'n' in form or '.' in form or 'R' in form:\n",
    "#       res = None\n",
    "#     else:\n",
    "#       # Otherwise, return after removing 'H' and 'D'\n",
    "##############################################    \n",
    "    \n",
    "    res = removeAtom(input_formula=form, atoms_to_remove=['H', 'D'])\n",
    "    # if res is only composed of 'H' or 'D'. assign 'H'\n",
    "    if res == '':\n",
    "      res = 'H'\n",
    "  else:\n",
    "    res = None\n",
    "  return res"
   ]
  },
  {
   "cell_type": "code",
   "execution_count": 32,
   "id": "ad03ad47",
   "metadata": {},
   "outputs": [
    {
     "data": {
      "text/plain": [
       "OrderedDict([('@rdf:about', 'http://purl.obolibrary.org/obo/CHEBI_1'),\n",
       "             ('obo:IAO_0000231',\n",
       "              OrderedDict([('@rdf:resource',\n",
       "                            'http://purl.obolibrary.org/obo/IAO_0000227')])),\n",
       "             ('obo:IAO_0100001',\n",
       "              OrderedDict([('@rdf:resource',\n",
       "                            'http://purl.obolibrary.org/obo/CHEBI_18357')])),\n",
       "             ('owl:deprecated',\n",
       "              OrderedDict([('@rdf:datatype',\n",
       "                            'http://www.w3.org/2001/XMLSchema#boolean'),\n",
       "                           ('#text', 'true')]))])"
      ]
     },
     "execution_count": 32,
     "metadata": {},
     "output_type": "execute_result"
    }
   ],
   "source": [
    "chebis[0]"
   ]
  },
  {
   "cell_type": "code",
   "execution_count": 33,
   "id": "ce6d63fd",
   "metadata": {},
   "outputs": [
    {
     "name": "stdout",
     "output_type": "stream",
     "text": [
      "S\n"
     ]
    }
   ],
   "source": [
    "res_chebi = findCHEBITerm('CHEBI:16136')\n",
    "s = getShortenedCHEBIFormula(res_chebi)\n",
    "print(s)"
   ]
  },
  {
   "cell_type": "code",
   "execution_count": 34,
   "id": "18bee24b",
   "metadata": {},
   "outputs": [
    {
     "data": {
      "text/plain": [
       "159840"
      ]
     },
     "execution_count": 34,
     "metadata": {},
     "output_type": "execute_result"
    }
   ],
   "source": [
    "all_shortened_chebi_to_formula = {one_chebi['oboI:id']['#text']:getShortenedCHEBIFormula(one_chebi) for\\\n",
    "                                  one_chebi in chebis if 'oboI:id' in one_chebi}\n",
    "len(all_shortened_chebi_to_formula)"
   ]
  },
  {
   "cell_type": "code",
   "execution_count": 35,
   "id": "1c4b16fe",
   "metadata": {},
   "outputs": [],
   "source": [
    "chebi_shortened_formula = dict()\n",
    "for one_chebi in chebis:\n",
    "  if 'oboI:id' in one_chebi:\n",
    "    one_shortened_formula = getShortenedCHEBIFormula(one_chebi)\n",
    "    if one_shortened_formula is not None:\n",
    "      chebi_shortened_formula[one_chebi['oboI:id']['#text']] = one_shortened_formula"
   ]
  },
  {
   "cell_type": "code",
   "execution_count": 36,
   "id": "9a467ead",
   "metadata": {},
   "outputs": [
    {
     "data": {
      "text/plain": [
       "'S'"
      ]
     },
     "execution_count": 36,
     "metadata": {},
     "output_type": "execute_result"
    }
   ],
   "source": [
    "chebi_shortened_formula['CHEBI:16136']"
   ]
  },
  {
   "cell_type": "code",
   "execution_count": 37,
   "id": "d1a49173",
   "metadata": {},
   "outputs": [
    {
     "name": "stdout",
     "output_type": "stream",
     "text": [
      "148331\n"
     ]
    }
   ],
   "source": [
    "print(len(chebi_shortened_formula))"
   ]
  },
  {
   "cell_type": "code",
   "execution_count": 38,
   "id": "eea1f544",
   "metadata": {},
   "outputs": [],
   "source": [
    "with open(os.path.join(CHEBI_DIR, 'chebi_shortened_formula_30apr2022.pickle'), 'wb') as handle:\n",
    "    pickle.dump(chebi_shortened_formula, handle, protocol=pickle.HIGHEST_PROTOCOL)"
   ]
  },
  {
   "cell_type": "markdown",
   "id": "2336af7b-f435-466d-94be-702844be7a05",
   "metadata": {},
   "source": [
    "## In chebi_full_formula, some have (624) multiple formulas aas list; \n",
    "## only the first are chosen in this case"
   ]
  },
  {
   "cell_type": "code",
   "execution_count": null,
   "id": "caed8009-e036-44db-a7e8-383d9fcfda7c",
   "metadata": {},
   "outputs": [],
   "source": []
  },
  {
   "cell_type": "code",
   "execution_count": 69,
   "id": "2c5e0f4e-216a-4900-8b1a-0cb0ec23e41f",
   "metadata": {},
   "outputs": [
    {
     "data": {
      "text/plain": [
       "49260"
      ]
     },
     "execution_count": 69,
     "metadata": {},
     "output_type": "execute_result"
    }
   ],
   "source": [
    "def getOneFormula(one_f):\n",
    "  \"\"\"\n",
    "  Get formula from full formula items.\n",
    "  If item is str, just return it; \n",
    "  If item is list, sort and return the shortest\n",
    "  \"\"\"\n",
    "  if isinstance(one_f, str):\n",
    "    return one_f\n",
    "  elif isinstance(one_f, list):\n",
    "    return sorted(one_f)[0]\n",
    "full_unique_formulas = set([getOneFormula(chebi_full_formula[k]) for k in chebi_full_formula.keys()])\n",
    "len(full_unique_formulas)"
   ]
  },
  {
   "cell_type": "code",
   "execution_count": 70,
   "id": "a8b13279-4bbe-49c6-84ce-0a0a97e58e1c",
   "metadata": {},
   "outputs": [
    {
     "data": {
      "text/plain": [
       "148331"
      ]
     },
     "execution_count": 70,
     "metadata": {},
     "output_type": "execute_result"
    }
   ],
   "source": [
    "len(chebi_full_formula)"
   ]
  },
  {
   "cell_type": "code",
   "execution_count": 71,
   "id": "dea57d1c-3209-4327-88a6-90398e141ccc",
   "metadata": {},
   "outputs": [
    {
     "data": {
      "text/plain": [
       "22600"
      ]
     },
     "execution_count": 71,
     "metadata": {},
     "output_type": "execute_result"
    }
   ],
   "source": [
    "shortened_unique_formulas = set([getOneFormula(chebi_shortened_formula[k]) for k in chebi_shortened_formula.keys()])\n",
    "len(shortened_unique_formulas)"
   ]
  },
  {
   "cell_type": "code",
   "execution_count": 66,
   "id": "58118fe0-3ffa-4f5c-b851-5e90c9dc4865",
   "metadata": {},
   "outputs": [
    {
     "data": {
      "text/plain": [
       "148331"
      ]
     },
     "execution_count": 66,
     "metadata": {},
     "output_type": "execute_result"
    }
   ],
   "source": [
    "len()"
   ]
  },
  {
   "cell_type": "code",
   "execution_count": null,
   "id": "fb3ceb49-ecae-4668-b49e-074449c2354c",
   "metadata": {},
   "outputs": [],
   "source": []
  }
 ],
 "metadata": {
  "kernelspec": {
   "display_name": "Python 3 (ipykernel)",
   "language": "python",
   "name": "python3"
  },
  "language_info": {
   "codemirror_mode": {
    "name": "ipython",
    "version": 3
   },
   "file_extension": ".py",
   "mimetype": "text/x-python",
   "name": "python",
   "nbconvert_exporter": "python",
   "pygments_lexer": "ipython3",
   "version": "3.11.2"
  }
 },
 "nbformat": 4,
 "nbformat_minor": 5
}
