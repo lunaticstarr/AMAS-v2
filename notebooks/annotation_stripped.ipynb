{
 "cells": [
  {
   "cell_type": "code",
   "execution_count": 1,
   "id": "9f62cbc3-4367-433c-ace6-0673d7d673a0",
   "metadata": {},
   "outputs": [],
   "source": [
    "# working with annotation-stripped version - per Herbert's request"
   ]
  },
  {
   "cell_type": "code",
   "execution_count": 2,
   "id": "07e880c7-2dfb-4b76-84b8-34701a68804c",
   "metadata": {},
   "outputs": [
    {
     "name": "stdout",
     "output_type": "stream",
     "text": [
      "Number of BioModels to be analyzed for SPECIES: 306\n",
      "Number of BioModels to be analyzed for REACTIONS: 131\n"
     ]
    }
   ],
   "source": [
    "import collections\n",
    "import compress_pickle\n",
    "import copy\n",
    "import itertools\n",
    "import libsbml\n",
    "import numpy as np\n",
    "import operator\n",
    "import os\n",
    "import pickle\n",
    "import pandas as pd\n",
    "import sys\n",
    "import matplotlib.pyplot as plt\n",
    "%matplotlib inline  \n",
    "\n",
    "BIOMD_12 = 'BIOMD0000000012.xml'\n",
    "BASE_DIR = '/Users/woosubshin/Desktop/AutomateAnnotation/'\n",
    "DATA_DIR = os.path.join(BASE_DIR, \"DATA\")\n",
    "ALGO_DIR = os.path.join(DATA_DIR, \"algo\")\n",
    "CHEBI_DIR = os.path.join(DATA_DIR, \"chebi\")\n",
    "RHEA_DIR = os.path.join(DATA_DIR, \"rhea\")\n",
    "BIOMODEL_DIR = os.path.join(DATA_DIR, \"biomodels/curated_biomodels_31mar2021\")\n",
    "BIGG_DIR = '/Users/woosubshin/Desktop/AutomateAnnotation/DATA/bigg'\n",
    "ecoli_fpath = os.path.join(BIGG_DIR, \"e_coli_core.xml\")\n",
    "\n",
    "PROJ_DIR = os.path.join(os.getcwd(), os.pardir)\n",
    "AMAS_DIR = os.path.join(PROJ_DIR, \"AMAS\")\n",
    "sys.path.append(PROJ_DIR)\n",
    "\n",
    "SUPPL_DIR = os.path.join(PROJ_DIR, os.pardir, \"AMAS_suppl\")\n",
    "ACCURACY_DIR = os.path.join(SUPPL_DIR, \"data_for_credibility\")\n",
    "\n",
    "from AMAS import annotation_maker as am\n",
    "from AMAS import species_annotation as sa\n",
    "from AMAS import reaction_annotation as ra\n",
    "from AMAS import recommender\n",
    "from AMAS import constants as cn\n",
    "from AMAS import iterator as it\n",
    "from AMAS import tools\n",
    "\n",
    "spec_ml_df = pd.read_csv(os.path.join(ACCURACY_DIR, 'biomd_individual_species_accuracy.csv'))\n",
    "biomds_spec = np.unique(spec_ml_df['model'])\n",
    "print(\"Number of BioModels to be analyzed for SPECIES: %d\" % len(biomds_spec))\n",
    "\n",
    "reac_ml_df = pd.read_csv(os.path.join(ACCURACY_DIR, 'biomd_individual_reactions_accuracy.csv'))\n",
    "biomds_reac = np.unique(reac_ml_df['model'])\n",
    "print(\"Number of BioModels to be analyzed for REACTIONS: %d\" % len(biomds_reac))"
   ]
  },
  {
   "cell_type": "code",
   "execution_count": null,
   "id": "cc848ba3-8286-4e0d-b298-8d1854365355",
   "metadata": {},
   "outputs": [],
   "source": []
  }
 ],
 "metadata": {
  "kernelspec": {
   "display_name": "Python 3 (ipykernel)",
   "language": "python",
   "name": "python3"
  },
  "language_info": {
   "codemirror_mode": {
    "name": "ipython",
    "version": 3
   },
   "file_extension": ".py",
   "mimetype": "text/x-python",
   "name": "python",
   "nbconvert_exporter": "python",
   "pygments_lexer": "ipython3",
   "version": "3.11.2"
  }
 },
 "nbformat": 4,
 "nbformat_minor": 5
}
