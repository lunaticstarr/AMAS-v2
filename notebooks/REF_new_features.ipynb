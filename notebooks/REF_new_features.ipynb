{
 "cells": [
  {
   "cell_type": "code",
   "execution_count": 1,
   "id": "8cecb41a-2afa-4d4e-b6ca-3ef573c74943",
   "metadata": {},
   "outputs": [],
   "source": [
    "# Sort based on match scores, \n",
    "# 1. cutoff, 2. save file with annotation\n",
    "import collections\n",
    "\n",
    "import compress_pickle\n",
    "import itertools\n",
    "import libsbml\n",
    "import numpy as np\n",
    "import os\n",
    "import pickle\n",
    "import pandas as pd\n",
    "import sys\n",
    "import time\n",
    "import matplotlib.pyplot as plt\n",
    "%matplotlib inline  \n",
    "\n",
    "BIOMD_12 = 'BIOMD0000000012.xml'\n",
    "BASE_DIR = '/Users/woosubs/Desktop/AutomateAnnotation/'\n",
    "DATA_DIR = os.path.join(BASE_DIR, \"DATA\")\n",
    "ALGO_DIR = os.path.join(DATA_DIR, \"algo\")\n",
    "CHEBI_DIR = os.path.join(DATA_DIR, \"chebi\")\n",
    "RHEA_DIR = os.path.join(DATA_DIR, \"rhea\")\n",
    "BIOMODEL_DIR = os.path.join(DATA_DIR, \"biomodels/curated_biomodels_31mar2021\")\n",
    "BIGG_DIR = '/Users/woosubs/Desktop/AutomateAnnotation/DATA/bigg'\n",
    "ecoli_fpath = os.path.join(BIGG_DIR, \"e_coli_core.xml\")\n",
    "\n",
    "PROJ_DIR = os.path.join(os.getcwd(), os.pardir)\n",
    "AMAS_DIR = os.path.join(PROJ_DIR, \"AMAS\")\n",
    "sys.path.append(PROJ_DIR)\n",
    "\n",
    "SUPPL_DIR = os.path.join(PROJ_DIR, os.pardir, \"AMAS_suppl\")\n",
    "ACCURACY_DIR = os.path.join(SUPPL_DIR, \"data_for_credibility\")\n",
    "RESULT_DIR = '/Users/woosubs/Desktop/AutomateAnnotation/AMAS_suppl/result_files'\n",
    "\n",
    "from AMAS import species_annotation as sa\n",
    "from AMAS import reaction_annotation as ra\n",
    "from AMAS import recommender\n",
    "from AMAS import constants as cn\n",
    "from AMAS import iterator as it\n",
    "from AMAS import tools"
   ]
  },
  {
   "cell_type": "code",
   "execution_count": 2,
   "id": "c10381de-9c78-4862-855c-301d0b8896c1",
   "metadata": {},
   "outputs": [],
   "source": [
    "E_COLI_PATH = os.path.join(cn.TEST_DIR, 'e_coli_core.xml')\n",
    "recom = recommender.Recommender(libsbml_fpath=E_COLI_PATH)\n",
    "reader = libsbml.SBMLReader()\n",
    "document = reader.readSBML(E_COLI_PATH)\n",
    "model = document.getModel()"
   ]
  },
  {
   "cell_type": "code",
   "execution_count": 4,
   "id": "b7faa3bf-6740-4464-96d7-4c3befc9d6ae",
   "metadata": {},
   "outputs": [],
   "source": [
    "exist_anot_species = list(recom.species.exist_annotation_formula)\n",
    "exist_anot_reaction = list(recom.reactions.exist_annotation)"
   ]
  },
  {
   "cell_type": "code",
   "execution_count": 15,
   "id": "36ce1bad-835b-42dc-a10b-98d04c6d69c7",
   "metadata": {},
   "outputs": [
    {
     "data": {
      "text/plain": [
       "Recommendation(id='R_PFL', credibility=0.92, candidates=[('RHEA:11844', 1.0), ('RHEA:17425', 0.8), ('RHEA:22988', 0.8), ('RHEA:22992', 0.8), ('RHEA:28042', 0.8), ('RHEA:12765', 0.667), ('RHEA:21912', 0.667), ('RHEA:44140', 0.667)], urls=['https://www.rhea-db.org/rhea/11844', 'https://www.rhea-db.org/rhea/17425', 'https://www.rhea-db.org/rhea/22988', 'https://www.rhea-db.org/rhea/22992', 'https://www.rhea-db.org/rhea/28042', 'https://www.rhea-db.org/rhea/12765', 'https://www.rhea-db.org/rhea/21912', 'https://www.rhea-db.org/rhea/44140'], labels=['formate C-acetyltransferase activity', 'pyruvate dehydrogenase (NADP+) activity', 'malonate-semialdehyde dehydrogenase (acetylating) activity', 'malonate-semialdehyde dehydrogenase (acetylating, NAD+) activity', 'pyruvate dehydrogenase (NAD+) activity', 'pyruvate synthase activity', 'pyruvate oxidase (CoA-acetylating) activity', 'pyruvate-flavodoxin oxidoreductase activity'])"
      ]
     },
     "execution_count": 15,
     "metadata": {},
     "output_type": "execute_result"
    }
   ],
   "source": [
    "\n",
    "one_rid = exist_anot_reaction[1]\n",
    "inp_recom = recom.getReactionAnnotation(pred_id=one_rid)\n",
    "inp_recom"
   ]
  },
  {
   "cell_type": "code",
   "execution_count": 22,
   "id": "75a25cbc-f467-4158-a908-91c2321ad89a",
   "metadata": {},
   "outputs": [
    {
     "name": "stdout",
     "output_type": "stream",
     "text": [
      "R_PDH None met the threshold!\n"
     ]
    }
   ],
   "source": [
    "for one_rid in exist_anot_reaction:\n",
    "  inp_recom = recom.getReactionAnnotation(pred_id=one_rid) \n",
    "  # first, get index, so that greater or equal\n",
    "  inp_thresh = 0.8\n",
    "  thresh_index = np.sum([val[1]>=inp_thresh for val in inp_recom.candidates])\n",
    "  if thresh_index > 0:\n",
    "    filt_recom = cn.Recommendation(inp_recom.id,\n",
    "                                   inp_recom.credibility,\n",
    "                                   inp_recom.candidates[:thresh_index],\n",
    "                                   inp_recom.urls[:thresh_index],\n",
    "                                   inp_recom.labels[:thresh_index]\n",
    "                                  )\n",
    "    print(filt_recom.id, \"Filterd\")\n",
    "  else:\n",
    "    print(filt_recom.id, \"None met the threshold!\")\n",
    "    break"
   ]
  },
  {
   "cell_type": "code",
   "execution_count": 29,
   "id": "88374ed1-888c-4335-8e20-c66ca55d43b1",
   "metadata": {},
   "outputs": [],
   "source": [
    "def filterRecommendationByThreshold(inp_recom, inp_thresh=0.0):\n",
    "  thresh_index = np.sum([val[1]>=inp_thresh for val in inp_recom.candidates])\n",
    "  if thresh_index > 0:\n",
    "    filt_recom = cn.Recommendation(inp_recom.id,\n",
    "                                   inp_recom.credibility,\n",
    "                                   inp_recom.candidates[:thresh_index],\n",
    "                                   inp_recom.urls[:thresh_index],\n",
    "                                   inp_recom.labels[:thresh_index])\n",
    "    return filt_recom\n",
    "  else:\n",
    "    return None"
   ]
  },
  {
   "cell_type": "code",
   "execution_count": 30,
   "id": "1bef681f-e7d1-4814-8e03-4b911bc87e4b",
   "metadata": {},
   "outputs": [
    {
     "data": {
      "text/plain": [
       "'R_PFL'"
      ]
     },
     "execution_count": 30,
     "metadata": {},
     "output_type": "execute_result"
    }
   ],
   "source": [
    "exist_anot_reaction[1]"
   ]
  },
  {
   "cell_type": "code",
   "execution_count": 31,
   "id": "9d7e6c20-fb3d-4d07-832f-9aec89f1d036",
   "metadata": {},
   "outputs": [],
   "source": [
    "one_rid = 'R_PFK'\n",
    "two_rid = 'R_PFL'"
   ]
  },
  {
   "cell_type": "code",
   "execution_count": 34,
   "id": "94568338-1be8-4b69-a9c6-d5ae806151ee",
   "metadata": {},
   "outputs": [],
   "source": [
    "one_recom = recom.getReactionAnnotation(pred_id=one_rid)\n",
    "filterRecommendationByThreshold(inp_recom=one_recom, inp_thresh=0.8)"
   ]
  },
  {
   "cell_type": "code",
   "execution_count": 35,
   "id": "d6941434-9dd2-4d60-8727-482063f18f75",
   "metadata": {},
   "outputs": [
    {
     "data": {
      "text/plain": [
       "Recommendation(id='R_PFL', credibility=0.92, candidates=[('RHEA:11844', 1.0), ('RHEA:17425', 0.8), ('RHEA:22988', 0.8), ('RHEA:22992', 0.8), ('RHEA:28042', 0.8)], urls=['https://www.rhea-db.org/rhea/11844', 'https://www.rhea-db.org/rhea/17425', 'https://www.rhea-db.org/rhea/22988', 'https://www.rhea-db.org/rhea/22992', 'https://www.rhea-db.org/rhea/28042'], labels=['formate C-acetyltransferase activity', 'pyruvate dehydrogenase (NADP+) activity', 'malonate-semialdehyde dehydrogenase (acetylating) activity', 'malonate-semialdehyde dehydrogenase (acetylating, NAD+) activity', 'pyruvate dehydrogenase (NAD+) activity'])"
      ]
     },
     "execution_count": 35,
     "metadata": {},
     "output_type": "execute_result"
    }
   ],
   "source": [
    "two_recom = recom.getReactionAnnotation(pred_id=two_rid)\n",
    "filterRecommendationByThreshold(inp_recom=two_recom, inp_thresh=0.8)"
   ]
  },
  {
   "cell_type": "code",
   "execution_count": 38,
   "id": "501cee10-d8a8-4282-80ba-c7c7101dccb3",
   "metadata": {},
   "outputs": [
    {
     "name": "stdout",
     "output_type": "stream",
     "text": [
      "8\n",
      "5\n"
     ]
    }
   ],
   "source": [
    "print(len(two_recom.candidates))\n",
    "print(len(filterRecommendationByThreshold(inp_recom=two_recom, inp_thresh=0.8).candidates))"
   ]
  },
  {
   "cell_type": "markdown",
   "id": "12aaf321-1737-43da-9adf-90d62d1d6178",
   "metadata": {},
   "source": [
    "### Include filtered recommendations to update results"
   ]
  },
  {
   "cell_type": "code",
   "execution_count": null,
   "id": "dd2fcc5e-e88d-4a2a-8746-8559adfd3bd6",
   "metadata": {},
   "outputs": [],
   "source": [
    "# how to save recommendation? \n",
    "# If species, create "
   ]
  },
  {
   "cell_type": "code",
   "execution_count": null,
   "id": "6ffb0081-3001-4d22-86b3-3c0a86627676",
   "metadata": {},
   "outputs": [],
   "source": []
  },
  {
   "cell_type": "code",
   "execution_count": null,
   "id": "00784541-0c72-4a52-a34f-7d67e3ec128f",
   "metadata": {},
   "outputs": [],
   "source": []
  },
  {
   "cell_type": "code",
   "execution_count": 19,
   "id": "5691bf16-b208-485d-aaa4-88faf734c55a",
   "metadata": {},
   "outputs": [
    {
     "name": "stdout",
     "output_type": "stream",
     "text": [
      "14.541666666666666\n",
      "3.953846153846154\n"
     ]
    }
   ],
   "source": [
    "name_lengths = []\n",
    "comp_numbers = []\n",
    "exist_anot_species = list(recom.species.exist_annotation_formula)\n",
    "exist_anot_reaction = list(recom.reactions.exist_annotation)\n",
    "for one_sid in exist_anot_species:\n",
    "  used_name = recom.species.getNameToUse(inp_id=one_sid)\n",
    "  name_lengths.append(len(used_name))\n",
    "for one_rid in exist_anot_reaction:\n",
    "  comp_numbers.append(len(recom.reactions.reaction_components[one_rid]))\n",
    "print(np.mean(name_lengths))\n",
    "print(np.mean(comp_numbers))"
   ]
  },
  {
   "cell_type": "code",
   "execution_count": 29,
   "id": "fc9d4820-6656-482a-9a78-75341bf8dfdb",
   "metadata": {},
   "outputs": [],
   "source": [
    "biomd_spec_res = compress_pickle.load(os.path.join(RESULT_DIR, 'biomd_spec_res.lzma'))\n",
    "biomd_reac_res = compress_pickle.load(os.path.join(RESULT_DIR, 'biomd_reac_res.lzma'))\n",
    "bigg_spec_res = compress_pickle.load(os.path.join(RESULT_DIR, 'bigg_spec_res.lzma'))\n",
    "bigg_reac_res = compress_pickle.load(os.path.join(RESULT_DIR, 'bigg_reac_res.lzma'))"
   ]
  },
  {
   "cell_type": "code",
   "execution_count": 30,
   "id": "13db39d6-4f62-4a6c-9155-8c06b2137b45",
   "metadata": {},
   "outputs": [],
   "source": [
    "spec_biomds = list(biomd_spec_res['biomd_anotspec_numbers'].keys())\n",
    "reac_biomds = list(biomd_reac_res['biomd_anotreac_numbers'].keys())\n",
    "spec_biggs = list(bigg_spec_res['bigg_anotspec_numbers'].keys())\n",
    "reac_biggs = list(bigg_reac_res['bigg_anotreac_numbers'].keys())"
   ]
  },
  {
   "cell_type": "markdown",
   "id": "2c27d48b-3419-4dd8-b19b-22c9ea6347c8",
   "metadata": {},
   "source": [
    "## Name Length of Species"
   ]
  },
  {
   "cell_type": "code",
   "execution_count": 53,
   "id": "f19b09e8-1683-493c-ae2a-32576a373b05",
   "metadata": {},
   "outputs": [
    {
     "data": {
      "text/plain": [
       "'E1'"
      ]
     },
     "execution_count": 53,
     "metadata": {},
     "output_type": "execute_result"
    }
   ],
   "source": [
    "one_sid"
   ]
  },
  {
   "cell_type": "code",
   "execution_count": 55,
   "id": "272e469b-4b45-42d5-8541-cdcb9e1132f7",
   "metadata": {},
   "outputs": [
    {
     "data": {
      "text/plain": [
       "{'G1': 'Glucose_1', 'T1': 'ATP_1', 'G2': 'Glucose_2', 'T2': 'ATP_2'}"
      ]
     },
     "execution_count": 55,
     "metadata": {},
     "output_type": "execute_result"
    }
   ],
   "source": [
    "recom.species.names"
   ]
  },
  {
   "cell_type": "code",
   "execution_count": 58,
   "id": "a0ca3736-3117-4bef-ac6f-083873a28026",
   "metadata": {},
   "outputs": [
    {
     "name": "stdout",
     "output_type": "stream",
     "text": [
      "We are at 0.\n",
      "We are at 50.\n",
      "We are at 100.\n",
      "We are at 150.\n",
      "We are at 200.\n",
      "We are at 250.\n",
      "Biomodel species 7.205431397239302\n",
      "Biomodel, null display names 0.1975190165111077\n",
      "We are at 0.\n",
      "We are at 10.\n",
      "We are at 20.\n",
      "We are at 30.\n",
      "We are at 40.\n",
      "We are at 50.\n",
      "We are at 60.\n",
      "We are at 70.\n",
      "We are at 80.\n",
      "We are at 90.\n",
      "We are at 100.\n",
      "BiGG species 19.301197015646924\n",
      "BiGG, null display names 0.0\n"
     ]
    }
   ],
   "source": [
    "# species \n",
    "splen_bio = []\n",
    "nulls_bio = []\n",
    "for idx, one_biomd in enumerate(spec_biomds):\n",
    "  if idx % 50 == 0:\n",
    "    print(\"We are at %d.\" % idx)\n",
    "  one_fpath = os.path.join(BIOMODEL_DIR, one_biomd)\n",
    "  recom = recommender.Recommender(libsbml_fpath=one_fpath)\n",
    "  name_lengths = []\n",
    "  null_display_name = 0\n",
    "  exist_anot_species = list(recom.species.exist_annotation_formula)\n",
    "  for one_sid in exist_anot_species:\n",
    "    used_name = recom.species.getNameToUse(inp_id=one_sid)\n",
    "    name_lengths.append(len(used_name))\n",
    "    if recom.species.names[one_sid] == '':\n",
    "      null_display_name += 1\n",
    "  splen_bio.append(np.mean(name_lengths))\n",
    "  nulls_bio.append(null_display_name / len(name_lengths))\n",
    "\n",
    "print(\"Biomodel species\", np.mean(splen_bio))\n",
    "print(\"Biomodel, null display names\", np.mean(nulls_bio))\n",
    "\n",
    "\n",
    "splen_bigg = []\n",
    "nulls_bigg = []\n",
    "for idx, one_bigg in enumerate(spec_biggs):\n",
    "  if idx % 10 == 0:\n",
    "    print(\"We are at %d.\" % idx)\n",
    "  one_fpath = os.path.join(BIGG_DIR, one_bigg)\n",
    "  recom = recommender.Recommender(libsbml_fpath=one_fpath)\n",
    "  name_lengths = []\n",
    "  null_display_name = 0\n",
    "  exist_anot_species = list(recom.species.exist_annotation_formula)\n",
    "  for one_sid in exist_anot_species:\n",
    "    used_name = recom.species.getNameToUse(inp_id=one_sid)\n",
    "    name_lengths.append(len(used_name))\n",
    "    if recom.species.names[one_sid] == '':\n",
    "      null_display_name += 1\n",
    "  splen_bigg.append(np.mean(name_lengths))\n",
    "  nulls_bigg.append(null_display_name / len(name_lengths))\n",
    "\n",
    "print(\"BiGG species\", np.mean(splen_bigg))\n",
    "print(\"BiGG, null display names\", np.mean(nulls_bigg))"
   ]
  },
  {
   "cell_type": "markdown",
   "id": "fbb2f3c5-8dc1-4909-816d-a7dac5764926",
   "metadata": {},
   "source": [
    "## Num Components of Reactions"
   ]
  },
  {
   "cell_type": "code",
   "execution_count": 44,
   "id": "0fcab151-6711-46e5-b86d-6a6e54fcb7b5",
   "metadata": {},
   "outputs": [
    {
     "name": "stdout",
     "output_type": "stream",
     "text": [
      "We are at 0.\n",
      "We are at 50.\n",
      "We are at 100.\n",
      "Biomodel Reactions 2.6807023403128025\n",
      "We are at 0.\n",
      "We are at 10.\n",
      "We are at 20.\n",
      "We are at 30.\n",
      "We are at 40.\n",
      "We are at 50.\n",
      "We are at 60.\n",
      "We are at 70.\n",
      "We are at 80.\n",
      "We are at 90.\n",
      "We are at 100.\n",
      "BiGG Reactions 4.1314935172461835\n"
     ]
    }
   ],
   "source": [
    "# reactions \n",
    "numcom_bio = []\n",
    "for idx, one_biomd in enumerate(reac_biomds):\n",
    "  if idx % 50 == 0:\n",
    "    print(\"We are at %d.\" % idx)\n",
    "  one_fpath = os.path.join(BIOMODEL_DIR, one_biomd)\n",
    "  recom = recommender.Recommender(libsbml_fpath=one_fpath)\n",
    "  num_comps = []\n",
    "  exist_anot_reactions = list(recom.reactions.exist_annotation)\n",
    "  for one_rid in exist_anot_reactions:\n",
    "    numc = recom.reactions.reaction_components[one_rid]\n",
    "    num_comps.append(len(numc))\n",
    "  numcom_bio.append(np.mean(num_comps))\n",
    "\n",
    "print(\"Biomodel Reactions\", np.mean(numcom_bio))\n",
    "\n",
    "numcom_bigg = []\n",
    "for idx, one_bigg in enumerate(reac_biggs):\n",
    "  if idx % 10 == 0:\n",
    "    print(\"We are at %d.\" % idx)\n",
    "  one_fpath = os.path.join(BIGG_DIR, one_bigg)\n",
    "  recom = recommender.Recommender(libsbml_fpath=one_fpath)\n",
    "  num_comps = []\n",
    "  exist_anot_reactions = list(recom.reactions.exist_annotation)\n",
    "  for one_rid in exist_anot_reactions:\n",
    "    numc = recom.reactions.reaction_components[one_rid]\n",
    "    num_comps.append(len(numc))\n",
    "  numcom_bigg.append(np.mean(num_comps))\n",
    "\n",
    "print(\"BiGG Reactions\", np.mean(numcom_bigg))"
   ]
  },
  {
   "cell_type": "code",
   "execution_count": 38,
   "id": "4102020c-c49a-476b-95a2-8ccd8f7d1ee4",
   "metadata": {},
   "outputs": [
    {
     "data": {
      "text/plain": [
       "['M_thr__L_c', 'M_h_e', 'M_h_c', 'M_thr__L_e']"
      ]
     },
     "execution_count": 38,
     "metadata": {},
     "output_type": "execute_result"
    }
   ],
   "source": [
    "numc"
   ]
  },
  {
   "cell_type": "code",
   "execution_count": null,
   "id": "576f3ba7-d649-4b11-a8bb-86574d0029a0",
   "metadata": {},
   "outputs": [],
   "source": []
  },
  {
   "cell_type": "code",
   "execution_count": 14,
   "id": "1c4a19f0-3437-4bd7-b89c-4ecf66374619",
   "metadata": {},
   "outputs": [
    {
     "name": "stdout",
     "output_type": "stream",
     "text": [
      "<sbml:annotation xmlns:sbml=\"http://www.sbml.org/sbml/level3/version1/core\">\n",
      "  <rdf:RDF xmlns:rdf=\"http://www.w3.org/1999/02/22-rdf-syntax-ns#\">\n",
      "    <rdf:Description rdf:about=\"#R_GLNabc\">\n",
      "      <bqbiol:is xmlns:bqbiol=\"http://biomodels.net/biology-qualifiers/\">\n",
      "        <rdf:Bag>\n",
      "          <rdf:li rdf:resource=\"http://identifiers.org/bigg.reaction/GLNabc\"/>\n",
      "          <rdf:li rdf:resource=\"http://identifiers.org/biocyc/META:ABC-12-RXN\"/>\n",
      "          <rdf:li rdf:resource=\"http://identifiers.org/ec-code/3.6.3.21\"/>\n",
      "          <rdf:li rdf:resource=\"http://identifiers.org/metanetx.reaction/MNXR100258\"/>\n",
      "          <rdf:li rdf:resource=\"http://identifiers.org/rhea/29895#1\"/>\n",
      "          <rdf:li rdf:resource=\"http://identifiers.org/rhea/29897#1\"/>\n",
      "          <rdf:li rdf:resource=\"http://identifiers.org/rhea/29898#1\"/>\n",
      "          <rdf:li rdf:resource=\"http://identifiers.org/rhea/29896#1\"/>\n",
      "          <rdf:li rdf:resource=\"http://identifiers.org/seed.reaction/rxn11233\"/>\n",
      "          <rdf:li rdf:resource=\"http://identifiers.org/seed.reaction/rxn05196\"/>\n",
      "          <rdf:li rdf:resource=\"http://identifiers.org/seed.reaction/rxn05155\"/>\n",
      "          <rdf:li rdf:resource=\"http://identifiers.org/seed.reaction/rxn11101\"/>\n",
      "          <rdf:li rdf:resource=\"http://identifiers.org/seed.reaction/rxn08624\"/>\n",
      "        </rdf:Bag>\n",
      "      </bqbiol:is>\n",
      "    </rdf:Description>\n",
      "  </rdf:RDF>\n",
      "</sbml:annotation>\n"
     ]
    },
    {
     "data": {
      "text/plain": [
       "[('RHEA:19425', 0.833), ('RHEA:31599', 0.714)]"
      ]
     },
     "execution_count": 14,
     "metadata": {},
     "output_type": "execute_result"
    }
   ],
   "source": [
    "err_rid = 'R_GLNabc'\n",
    "err_r = model.getReaction(err_rid)\n",
    "print(err_r.getAnnotationString())\n",
    "pred_err_r = recom.getReactionAnnotation(pred_id=err_rid)\n",
    "pred_err_r.candidates"
   ]
  },
  {
   "cell_type": "code",
   "execution_count": 62,
   "id": "8ced4189-9893-43eb-b2f5-6e3a0f5bacfd",
   "metadata": {},
   "outputs": [],
   "source": [
    "one_biomd = 'BIOMD0000000012.xml'\n",
    "one_fpath = os.path.join(BIOMODEL_DIR, one_biomd)\n",
    "recom = recommender.Recommender(libsbml_fpath=one_fpath)\n",
    "reader = libsbml.SBMLReader()\n",
    "document = reader.readSBML(one_fpath)\n",
    "model = document.getModel()"
   ]
  },
  {
   "cell_type": "code",
   "execution_count": 86,
   "id": "20e35a29-404d-4aec-996f-2058de21290b",
   "metadata": {},
   "outputs": [],
   "source": [
    "def getStr(inp_r):\n",
    "  if len(inp_r)==0:\n",
    "    return \"\"\n",
    "  else:\n",
    "    ls_str = [\"%s * %s\" % (str(val.stoichiometry), val.species) for val in inp_r]\n",
    "    return \"+\".join(ls_str)\n",
    "def getReactionStr(inp_reaction):\n",
    "  rs = inp_reaction.getListOfReactants()\n",
    "  ps = inp_reaction.getListOfProducts()\n",
    "  return getStr(rs) + \" => \" + getStr(ps) "
   ]
  },
  {
   "cell_type": "code",
   "execution_count": 88,
   "id": "92bc25e6-eac4-4a7b-88a9-60c74f22d681",
   "metadata": {},
   "outputs": [
    {
     "name": "stdout",
     "output_type": "stream",
     "text": [
      "1.0 * X => \n",
      "<bound method SBase.getAnnotationString of <Reaction Reaction1 \"degradation of LacI transcripts\">>\n",
      "1.0 * Y => \n",
      "<bound method SBase.getAnnotationString of <Reaction Reaction2 \"degradation of TetR transcripts\">>\n",
      "1.0 * Z => \n",
      "<bound method SBase.getAnnotationString of <Reaction Reaction3 \"degradation of CI transcripts\">>\n",
      " => 1.0 * PX\n",
      "<bound method SBase.getAnnotationString of <Reaction Reaction4 \"translation of LacI\">>\n",
      " => 1.0 * PY\n",
      "<bound method SBase.getAnnotationString of <Reaction Reaction5 \"translation of TetR\">>\n",
      " => 1.0 * PZ\n",
      "<bound method SBase.getAnnotationString of <Reaction Reaction6 \"translation of CI\">>\n",
      "1.0 * PX => \n",
      "<bound method SBase.getAnnotationString of <Reaction Reaction7 \"degradation of LacI\">>\n",
      "1.0 * PY => \n",
      "<bound method SBase.getAnnotationString of <Reaction Reaction8 \"degradation of TetR\">>\n",
      "1.0 * PZ => \n",
      "<bound method SBase.getAnnotationString of <Reaction Reaction9 \"degradation of CI\">>\n",
      " => 1.0 * X\n",
      "<bound method SBase.getAnnotationString of <Reaction Reaction10 \"transcription of LacI\">>\n",
      " => 1.0 * Y\n",
      "<bound method SBase.getAnnotationString of <Reaction Reaction11 \"transcription of TetR\">>\n",
      " => 1.0 * Z\n",
      "<bound method SBase.getAnnotationString of <Reaction Reaction12 \"transcription of CI\">>\n"
     ]
    }
   ],
   "source": [
    "one_reaction = model.getReaction(0)\n",
    "\n",
    "for one_r in model.getListOfReactions():\n",
    "  one_str = getReactionStr(one_r)\n",
    "  print(one_str)\n",
    "  print(one_r.getAnnotationString)"
   ]
  },
  {
   "cell_type": "code",
   "execution_count": 91,
   "id": "b705bfe4-b921-48af-8800-3e5ec1e3d0d7",
   "metadata": {},
   "outputs": [
    {
     "name": "stdout",
     "output_type": "stream",
     "text": [
      "PX\n",
      "LacI protein\n",
      "PY\n",
      "TetR protein\n",
      "PZ\n",
      "cI protein\n",
      "X\n",
      "LacI mRNA\n",
      "Y\n",
      "TetR mRNA\n",
      "Z\n",
      "cI mRNA\n"
     ]
    }
   ],
   "source": [
    "for one_s in model.getListOfSpecies():\n",
    "  print(one_s.getId())\n",
    "  print(one_s.name)"
   ]
  },
  {
   "cell_type": "code",
   "execution_count": null,
   "id": "3cc6f5da-48ce-44bd-b350-50c1c4baff53",
   "metadata": {},
   "outputs": [],
   "source": []
  }
 ],
 "metadata": {
  "kernelspec": {
   "display_name": "Python 3 (ipykernel)",
   "language": "python",
   "name": "python3"
  },
  "language_info": {
   "codemirror_mode": {
    "name": "ipython",
    "version": 3
   },
   "file_extension": ".py",
   "mimetype": "text/x-python",
   "name": "python",
   "nbconvert_exporter": "python",
   "pygments_lexer": "ipython3",
   "version": "3.9.15"
  }
 },
 "nbformat": 4,
 "nbformat_minor": 5
}
