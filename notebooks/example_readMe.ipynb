{
 "cells": [
  {
   "cell_type": "code",
   "execution_count": 1,
   "id": "ad92b04a",
   "metadata": {},
   "outputs": [],
   "source": [
    "# Create example for readMe\n",
    "import libsbml\n",
    "import os\n",
    "import sys\n",
    "\n",
    "BASE_DIR = '/Users/woosubs/Desktop/AutomateAnnotation/'\n",
    "DATA_DIR = os.path.join(BASE_DIR, \"DATA\")\n",
    "CHEBI_DIR = os.path.join(DATA_DIR, \"chebi\")\n",
    "RHEA_DIR = os.path.join(DATA_DIR, \"rhea\")\n",
    "BIOMODEL_DIR = os.path.join(DATA_DIR, \"biomodels/curated_biomodels_31mar2021\")\n",
    "BIGG_DIR = '/Users/woosubs/Desktop/AutomateAnnotation/DATA/bigg'\n",
    "ecoli_fpath = os.path.join(BIGG_DIR, \"e_coli_core.xml\")\n",
    "PROJ_DIR = os.path.join(os.getcwd(), os.pardir)\n",
    "sys.path.append(PROJ_DIR)"
   ]
  },
  {
   "cell_type": "code",
   "execution_count": 3,
   "id": "6eaac5fe",
   "metadata": {},
   "outputs": [],
   "source": [
    "from AMAS import recommender\n",
    "\n",
    "MODEL_190 = 'BIOMD0000000190.xml'\n",
    "recom = recommender.Recommender(MODEL_190)"
   ]
  },
  {
   "cell_type": "code",
   "execution_count": 8,
   "id": "93512860",
   "metadata": {},
   "outputs": [],
   "source": [
    "species_annotation = recom.getSpeciesAnnotation(pred_id='SAM')"
   ]
  },
  {
   "cell_type": "code",
   "execution_count": 20,
   "id": "391d7f18",
   "metadata": {},
   "outputs": [
    {
     "name": "stdout",
     "output_type": "stream",
     "text": [
      "Species ID: SAM\n",
      "Credibility: 1.0\n",
      "CHEBI terms and match score: ('CHEBI:15414', 1.0), ('CHEBI:59789', 1.0)\n",
      "URLs: https://www.ebi.ac.uk/chebi/searchId.do?chebiId=CHEBI%3A15414\n",
      "      https://www.ebi.ac.uk/chebi/searchId.do?chebiId=CHEBI%3A59789\n"
     ]
    }
   ],
   "source": [
    "print(\"Species ID:\", species_annotation.id)\n",
    "print(\"Credibility:\", species_annotation.credibility)\n",
    "print(\"CHEBI terms and match score: %s, %s\" % \n",
    "      (str(species_annotation.candidates[0]),\n",
    "      str(species_annotation.candidates[1])))\n",
    "print(\"URLs: %s\\n      %s\" % (species_annotation.urls[0], species_annotation.urls[1]))"
   ]
  },
  {
   "cell_type": "code",
   "execution_count": 21,
   "id": "79105bf4",
   "metadata": {},
   "outputs": [],
   "source": [
    "reaction_annotation = recom.getReactionAnnotation(pred_id='ODC')"
   ]
  },
  {
   "cell_type": "code",
   "execution_count": 22,
   "id": "f308aac6",
   "metadata": {},
   "outputs": [
    {
     "data": {
      "text/plain": [
       "Recommendation(id='ODC', credibility=1.0, candidates=[('RHEA:28830', 1.0), ('RHEA:22967', 0.5), ('RHEA:59051', 0.5)], urls=['https://www.rhea-db.org/rhea/28830', 'https://www.rhea-db.org/rhea/22967', 'https://www.rhea-db.org/rhea/59051'])"
      ]
     },
     "execution_count": 22,
     "metadata": {},
     "output_type": "execute_result"
    }
   ],
   "source": [
    "reaction_annotation"
   ]
  },
  {
   "cell_type": "code",
   "execution_count": 23,
   "id": "b6ac9d4d",
   "metadata": {},
   "outputs": [
    {
     "name": "stdout",
     "output_type": "stream",
     "text": [
      "Reaction ID: ODC\n",
      "Credibility: 1.0\n",
      "Rhea terms and match score: ('RHEA:28830', 1.0), ('RHEA:22967', 0.5)\n",
      "URLs: https://www.rhea-db.org/rhea/28830\n",
      "      https://www.rhea-db.org/rhea/22967\n"
     ]
    }
   ],
   "source": [
    "print(\"Reaction ID:\", reaction_annotation.id)\n",
    "print(\"Credibility:\", reaction_annotation.credibility)\n",
    "print(\"Rhea terms and match score: %s, %s\" % \n",
    "      (str(reaction_annotation.candidates[0]),\n",
    "      str(reaction_annotation.candidates[1])))\n",
    "print(\"URLs: %s\\n      %s\" % (reaction_annotation.urls[0], reaction_annotation.urls[1]))"
   ]
  },
  {
   "cell_type": "code",
   "execution_count": 9,
   "id": "15ef092d",
   "metadata": {},
   "outputs": [
    {
     "data": {
      "text/plain": [
       "'S-adenosyl-L-methionine'"
      ]
     },
     "execution_count": 9,
     "metadata": {},
     "output_type": "execute_result"
    }
   ],
   "source": [
    "recom.species.getNameToUse('SAM')"
   ]
  },
  {
   "cell_type": "code",
   "execution_count": 11,
   "id": "c465fc75",
   "metadata": {},
   "outputs": [
    {
     "name": "stdout",
     "output_type": "stream",
     "text": [
      "{'chebi': ['CHEBI:15414', 'CHEBI:67040'], 'match_score': [('CHEBI:15414', 1.0), ('CHEBI:67040', 1.0)], 'formula': ['C15N6O5S']}\n"
     ]
    }
   ],
   "source": [
    "pred_res = recom.species.predictAnnotationByEditDistance('SAM')\n",
    "print(pred_res)"
   ]
  },
  {
   "cell_type": "code",
   "execution_count": null,
   "id": "7d6bd463",
   "metadata": {},
   "outputs": [],
   "source": []
  },
  {
   "cell_type": "code",
   "execution_count": null,
   "id": "749ac784",
   "metadata": {},
   "outputs": [],
   "source": []
  }
 ],
 "metadata": {
  "kernelspec": {
   "display_name": "pyo",
   "language": "python",
   "name": "pyo"
  },
  "language_info": {
   "codemirror_mode": {
    "name": "ipython",
    "version": 3
   },
   "file_extension": ".py",
   "mimetype": "text/x-python",
   "name": "python",
   "nbconvert_exporter": "python",
   "pygments_lexer": "ipython3",
   "version": "3.8.8"
  }
 },
 "nbformat": 4,
 "nbformat_minor": 5
}
