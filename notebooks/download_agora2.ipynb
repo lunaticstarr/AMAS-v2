{
 "cells": [
  {
   "cell_type": "code",
   "execution_count": 1,
   "id": "9ae55b3f-f864-457d-8261-8a88965be2c2",
   "metadata": {},
   "outputs": [],
   "source": [
    "# Download Agora2 file and see if it makes sense;\n",
    "import requests\n",
    "import os\n",
    "import shutil\n",
    "\n",
    "import httplib2\n",
    "from bs4 import BeautifulSoup, SoupStrainer\n",
    "from concurrent.futures import ThreadPoolExecutor\n",
    "from concurrent.futures import as_completed\n",
    "\n",
    "AGORA_URL = 'https://www.vmh.life/files/reconstructions/AGORA2/version2.01/' +\\\n",
    "            'sbml_files/individual_reconstructions/'\n",
    "SAVE_FPATH = '/Volumes/MGTEC/Agora2'"
   ]
  },
  {
   "cell_type": "code",
   "execution_count": 2,
   "id": "2b536caa-cf1e-47ed-a10a-c624103ae65a",
   "metadata": {},
   "outputs": [
    {
     "data": {
      "text/plain": [
       "7302"
      ]
     },
     "execution_count": 2,
     "metadata": {},
     "output_type": "execute_result"
    }
   ],
   "source": [
    "# collecting all downloadable files\n",
    "indiv_files = []\n",
    "http = httplib2.Http()\n",
    "status, response = http.request(AGORA_URL)\n",
    "\n",
    "for link in BeautifulSoup(response, parse_only=SoupStrainer('a')):\n",
    "    if link.has_attr('href'):\n",
    "      if link['href'][-3:]=='xml':\n",
    "        indiv_files.append(link['href'])\n",
    "len(indiv_files)"
   ]
  },
  {
   "cell_type": "code",
   "execution_count": 3,
   "id": "b2a9624b-8c84-41f8-9ff5-d43132a619c8",
   "metadata": {},
   "outputs": [],
   "source": [
    "# # working example for a single file\n",
    "\n",
    "# fname = indiv_files[0]\n",
    "# url = os.path.join(agora_url, fname)\n",
    "# response = requests.get(url)\n",
    "# with open(os.path.join(save_fpath, fname), 'wb') as file:\n",
    "#     file.write(response.content)"
   ]
  },
  {
   "cell_type": "code",
   "execution_count": 4,
   "id": "26e8a834-210b-49fe-a450-3af9bc04dc9e",
   "metadata": {},
   "outputs": [],
   "source": [
    "def download_url_to_file(fname):\n",
    "  \"\"\"\n",
    "  Parameters\n",
    "  ----------\n",
    "  fname: str\n",
    "      Name of file to be downloaded\n",
    "  \"\"\"\n",
    "  url = os.path.join(AGORA_URL, fname)\n",
    "  response = requests.get(url)\n",
    "  fpath = os.path.join(SAVE_FPATH, fname)\n",
    "  with open(fpath, 'wb') as file:\n",
    "    file.write(response.content)\n",
    "  return fpath\n",
    "\n",
    "# create the pool of worker threads\n",
    "with ThreadPoolExecutor(max_workers=20) as exe:\n",
    "    # dispatch all download tasks to worker threads\n",
    "    futures = [exe.submit(download_url_to_file, f) for f in indiv_files]\n",
    "    # report results as they become available\n",
    "    for future in as_completed(futures):\n",
    "      outpath = future.result()"
   ]
  },
  {
   "cell_type": "code",
   "execution_count": 5,
   "id": "76c29fd7-16f2-400a-ab7f-ea72579786ca",
   "metadata": {},
   "outputs": [
    {
     "name": "stdout",
     "output_type": "stream",
     "text": [
      "Number of BiGG models to be analyzed: 108\n",
      "Number of BioModels to be analyzed for SPECIES: 306\n",
      "Number of BioModels to be analyzed for REACTIONS: 131\n"
     ]
    }
   ],
   "source": [
    "# new accuracy & precision plots; \n",
    "# collect all data so that no other loading of data would be needed. \n",
    "import collections\n",
    "\n",
    "import compress_pickle\n",
    "import copy\n",
    "import editdistance\n",
    "import itertools\n",
    "import libsbml\n",
    "import numpy as np\n",
    "import operator\n",
    "import os\n",
    "import pickle\n",
    "import pandas as pd\n",
    "import sys\n",
    "import time\n",
    "import matplotlib.pyplot as plt\n",
    "%matplotlib inline  \n",
    "\n",
    "BIOMD_12 = 'BIOMD0000000012.xml'\n",
    "BASE_DIR = '/Users/woosubshin/Desktop/AutomateAnnotation/'\n",
    "DATA_DIR = os.path.join(BASE_DIR, \"DATA\")\n",
    "ALGO_DIR = os.path.join(DATA_DIR, \"algo\")\n",
    "CHEBI_DIR = os.path.join(DATA_DIR, \"chebi\")\n",
    "FIGURE_DIR = '/Users/woosubshin/Desktop/AutomateAnnotation/AMAS_suppl/figure_files'\n",
    "RHEA_DIR = os.path.join(DATA_DIR, \"rhea\")\n",
    "BIOMODEL_DIR = os.path.join(DATA_DIR, \"biomodels/curated_biomodels_31mar2021\")\n",
    "BIGG_DIR = '/Users/woosubshin/Desktop/AutomateAnnotation/DATA/bigg'\n",
    "ecoli_fpath = os.path.join(BIGG_DIR, \"e_coli_core.xml\")\n",
    "\n",
    "PROJ_DIR = os.path.join(os.getcwd(), os.pardir)\n",
    "AMAS_DIR = os.path.join(PROJ_DIR, \"AMAS\")\n",
    "sys.path.append(PROJ_DIR)\n",
    "\n",
    "SUPPL_DIR = os.path.join(PROJ_DIR, os.pardir, \"AMAS_suppl\")\n",
    "ACCURACY_DIR = os.path.join(SUPPL_DIR, \"data_for_credibility\")\n",
    "\n",
    "# address changed - as of May 12, 2023. \n",
    "MANU_FIGURE_DIR = '/Users/woosubshin/Desktop/AutomateAnnotation/writeup/AMAS/Manu_figures_new'\n",
    "SUPPL_FIGURE_DIR = '/Users/woosubshin/Desktop/AutomateAnnotation/writeup/AMAS/Supple_figures_new'\n",
    "# TEMPFIG_DIR = os.path.join(FIGURE_DIR, 'temp')\n",
    "\n",
    "from AMAS import species_annotation as sa\n",
    "from AMAS import reaction_annotation as ra\n",
    "from AMAS import recommender\n",
    "from AMAS import constants as cn\n",
    "from AMAS import iterator as it\n",
    "from AMAS import tools\n",
    "\n",
    "biggs = [val for val in os.listdir(BIGG_DIR) if val[-4:]=='.xml']\n",
    "print(\"Number of BiGG models to be analyzed: %d\" % len(biggs))\n",
    "\n",
    "spec_ml_df = pd.read_csv(os.path.join(ACCURACY_DIR, 'biomd_individual_species_accuracy.csv'))\n",
    "biomds_spec = np.unique(spec_ml_df['model'])\n",
    "print(\"Number of BioModels to be analyzed for SPECIES: %d\" % len(biomds_spec))\n",
    "\n",
    "reac_ml_df = pd.read_csv(os.path.join(ACCURACY_DIR, 'biomd_individual_reactions_accuracy.csv'))\n",
    "biomds_reac = np.unique(reac_ml_df['model'])\n",
    "print(\"Number of BioModels to be analyzed for REACTIONS: %d\" % len(biomds_reac))"
   ]
  },
  {
   "cell_type": "code",
   "execution_count": 6,
   "id": "1653d2ef-8cb1-48f8-9cee-1a3f95e7e15b",
   "metadata": {},
   "outputs": [],
   "source": [
    "reader = libsbml.SBMLReader()\n",
    "sbml_document = reader.readSBML(os.path.join(SAVE_FPATH, indiv_files[0]))\n",
    "model = sbml_document.getModel()"
   ]
  },
  {
   "cell_type": "code",
   "execution_count": 8,
   "id": "2fd18c23-270c-41de-917f-36ab4e7f4db5",
   "metadata": {},
   "outputs": [
    {
     "data": {
      "text/plain": [
       "<Species M_10fthf__91__c__93__ \"10-Formyltetrahydrofolate\">"
      ]
     },
     "execution_count": 8,
     "metadata": {},
     "output_type": "execute_result"
    }
   ],
   "source": [
    "model.getListOfSpecies()"
   ]
  },
  {
   "cell_type": "code",
   "execution_count": 9,
   "id": "2b760edb-3c4f-4c72-a4f4-7e37d55b5cbc",
   "metadata": {},
   "outputs": [],
   "source": [
    "recom = recommender.Recommender(libsbml_fpath=os.path.join(SAVE_FPATH, indiv_files[0]))"
   ]
  },
  {
   "cell_type": "code",
   "execution_count": 12,
   "id": "e42c3beb-88c6-4a82-b305-9686535e56d3",
   "metadata": {},
   "outputs": [
    {
     "data": {
      "text/plain": [
       "644"
      ]
     },
     "execution_count": 12,
     "metadata": {},
     "output_type": "execute_result"
    }
   ],
   "source": [
    "len(recom.reactions.exist_annotation)"
   ]
  },
  {
   "cell_type": "code",
   "execution_count": null,
   "id": "da8283d9-e9fd-4213-9b0f-48fa7793bcb4",
   "metadata": {},
   "outputs": [],
   "source": []
  }
 ],
 "metadata": {
  "kernelspec": {
   "display_name": "Python 3 (ipykernel)",
   "language": "python",
   "name": "python3"
  },
  "language_info": {
   "codemirror_mode": {
    "name": "ipython",
    "version": 3
   },
   "file_extension": ".py",
   "mimetype": "text/x-python",
   "name": "python",
   "nbconvert_exporter": "python",
   "pygments_lexer": "ipython3",
   "version": "3.11.2"
  }
 },
 "nbformat": 4,
 "nbformat_minor": 5
}
