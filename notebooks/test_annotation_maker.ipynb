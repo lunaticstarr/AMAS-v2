{
 "cells": [
  {
   "cell_type": "code",
   "execution_count": 1,
   "id": "8041e6a9-3114-46e0-84ca-5ebc0c3d0215",
   "metadata": {},
   "outputs": [],
   "source": [
    "# Sort based on match scores, \n",
    "# 1. cutoff, 2. save file with annotation\n",
    "import collections\n",
    "\n",
    "import compress_pickle\n",
    "import itertools\n",
    "import libsbml\n",
    "import numpy as np\n",
    "import os\n",
    "import pickle\n",
    "import pandas as pd\n",
    "import sys\n",
    "import time\n",
    "import matplotlib.pyplot as plt\n",
    "%matplotlib inline  \n",
    "\n",
    "BIOMD_12 = 'BIOMD0000000012.xml'\n",
    "BASE_DIR = '/Users/woosubs/Desktop/AutomateAnnotation/'\n",
    "DATA_DIR = os.path.join(BASE_DIR, \"DATA\")\n",
    "ALGO_DIR = os.path.join(DATA_DIR, \"algo\")\n",
    "CHEBI_DIR = os.path.join(DATA_DIR, \"chebi\")\n",
    "RHEA_DIR = os.path.join(DATA_DIR, \"rhea\")\n",
    "BIOMODEL_DIR = os.path.join(DATA_DIR, \"biomodels/curated_biomodels_31mar2021\")\n",
    "BIGG_DIR = '/Users/woosubs/Desktop/AutomateAnnotation/DATA/bigg'\n",
    "ecoli_fpath = os.path.join(BIGG_DIR, \"e_coli_core.xml\")\n",
    "\n",
    "PROJ_DIR = os.path.join(os.getcwd(), os.pardir)\n",
    "AMAS_DIR = os.path.join(PROJ_DIR, \"AMAS\")\n",
    "sys.path.append(PROJ_DIR)\n",
    "\n",
    "SUPPL_DIR = os.path.join(PROJ_DIR, os.pardir, \"AMAS_suppl\")\n",
    "ACCURACY_DIR = os.path.join(SUPPL_DIR, \"data_for_credibility\")\n",
    "RESULT_DIR = '/Users/woosubs/Desktop/AutomateAnnotation/AMAS_suppl/result_files'\n",
    "\n",
    "from AMAS import species_annotation as sa\n",
    "from AMAS import reaction_annotation as ra\n",
    "from AMAS import recommender\n",
    "from AMAS import constants as cn\n",
    "from AMAS import iterator as it\n",
    "from AMAS import tools"
   ]
  },
  {
   "cell_type": "code",
   "execution_count": 2,
   "id": "53e49a50-8d4d-4692-8236-36986105c268",
   "metadata": {},
   "outputs": [],
   "source": [
    "BIOMD_190_PATH = os.path.join(cn.TEST_DIR, 'BIOMD0000000190.xml')\n",
    "recom = recommender.Recommender(libsbml_fpath=BIOMD_190_PATH)\n",
    "one_recom = recom.getSpeciesAnnotation(pred_id='SAM')\n",
    "two_recom = recom.getReactionAnnotation(pred_id='VCoA')"
   ]
  },
  {
   "cell_type": "code",
   "execution_count": 3,
   "id": "4e66df8d-faec-4b37-9279-66fccbcf3d67",
   "metadata": {},
   "outputs": [
    {
     "data": {
      "text/plain": [
       "[('CHEBI:15414', 1.0), ('CHEBI:59789', 1.0)]"
      ]
     },
     "execution_count": 3,
     "metadata": {},
     "output_type": "execute_result"
    }
   ],
   "source": [
    "filt_recom = recom.filterRecommendationByThreshold(inp_recom=one_recom,\n",
    "                                                   inp_thresh=0.8)\n",
    "filt_recom.candidates"
   ]
  },
  {
   "cell_type": "code",
   "execution_count": 9,
   "id": "1fafc21e-4693-4926-a808-519aede0b545",
   "metadata": {},
   "outputs": [
    {
     "data": {
      "text/plain": [
       "[('CHEBI:15414', 1.0), ('CHEBI:59789', 1.0)]"
      ]
     },
     "execution_count": 9,
     "metadata": {},
     "output_type": "execute_result"
    }
   ],
   "source": [
    "filt_recom.candidates"
   ]
  },
  {
   "cell_type": "code",
   "execution_count": 12,
   "id": "ee5552f3-62a9-4b67-81d2-4bc6bdb36dd8",
   "metadata": {},
   "outputs": [
    {
     "name": "stdout",
     "output_type": "stream",
     "text": [
      "<annotation>\n",
      "  <rdf:RDF xmlns:rdf=\"http://www.w3.org/1999/02/22-rdf-syntax-ns#\" xmlns:dcterms=\"http://purl.org/dc/terms/\" xmlns:vcard4=\"http://www.w3.org/2006/vcard/ns#\" xmlns:bqbiol=\"http://biomodels.net/biology-qualifiers/\" xmlns:bqmodel=\"http://biomodels.net/model-qualifiers/\">\n",
      "    <rdf:Description rdf:about=\"#metaid_00001\">\n",
      "      <bqbiol:is>\n",
      "        <rdf:Bag>\n",
      "          <rdf:li rdf:resource=\"http://identifiers.org/chebi/CHEBI:15414\"/>\n",
      "          <bqbiol:hasProperty>\n",
      "            <rdf:Bag>\n",
      "              <rdf:li rdf:resource=\"http://amas/match_score/by_name/1.0\"/>\n",
      "            </rdf:Bag>\n",
      "          </bqbiol:hasProperty>\n",
      "          <rdf:li rdf:resource=\"http://identifiers.org/chebi/CHEBI:59789\"/>\n",
      "          <bqbiol:hasProperty>\n",
      "            <rdf:Bag>\n",
      "              <rdf:li rdf:resource=\"http://amas/match_score/by_name/1.0\"/>\n",
      "            </rdf:Bag>\n",
      "          </bqbiol:hasProperty>\n",
      "        </rdf:Bag>\n",
      "      </bqbiol:is>\n",
      "    </rdf:Description>\n",
      "  </rdf:RDF>\n",
      "</annotation>\n"
     ]
    }
   ],
   "source": [
    "from AMAS import annotation_maker as am\n",
    "\n",
    "maker = am.AnnotationMaker('species', '00001')\n",
    "res = maker.getAnnotationString(filt_recom.candidates)\n",
    "print(res)"
   ]
  },
  {
   "cell_type": "code",
   "execution_count": 5,
   "id": "c27f0d7e-b3b8-4ca7-89a7-0a930c2d6f10",
   "metadata": {},
   "outputs": [
    {
     "name": "stdout",
     "output_type": "stream",
     "text": [
      "<annotation>\n",
      "  <rdf:RDF xmlns:rdf=\"http://www.w3.org/1999/02/22-rdf-syntax-ns#\" xmlns:bqmodel=\"http://biomodels.net/model-qualifiers/\" xmlns:bqbiol=\"http://biomodels.net/biology-qualifiers/\">\n",
      "    <rdf:Description rdf:about=\"#metaid_0000036\">\n",
      "      <bqbiol:is>\n",
      "        <rdf:Bag>\n",
      "          <rdf:li rdf:resource=\"http://identifiers.org/obo.chebi/CHEBI:15414\"/>\n",
      "          <rdf:li rdf:resource=\"http://identifiers.org/kegg.compound/C00019\"/>\n",
      "        </rdf:Bag>\n",
      "      </bqbiol:is>\n",
      "    </rdf:Description>\n",
      "  </rdf:RDF>\n",
      "</annotation>\n"
     ]
    }
   ],
   "source": [
    "model = recom.sbml_document.getModel()\n",
    "one_s = model.getSpecies('SAM')\n",
    "print(one_s.getAnnotationString())"
   ]
  },
  {
   "cell_type": "code",
   "execution_count": 6,
   "id": "31eb72b5-8855-47a3-9c33-f45bb0b83dc8",
   "metadata": {},
   "outputs": [
    {
     "data": {
      "text/plain": [
       "0"
      ]
     },
     "execution_count": 6,
     "metadata": {},
     "output_type": "execute_result"
    }
   ],
   "source": [
    "one_s.setAnnotation(res)"
   ]
  },
  {
   "cell_type": "code",
   "execution_count": 7,
   "id": "3d8a2f44-0cef-49fb-be58-9c29c6fba6ca",
   "metadata": {},
   "outputs": [
    {
     "name": "stdout",
     "output_type": "stream",
     "text": [
      "<annotation>\n",
      "  <rdf:RDF xmlns:rdf=\"http://www.w3.org/1999/02/22-rdf-syntax-ns#\" xmlns:dcterms=\"http://purl.org/dc/terms/\" xmlns:vcard4=\"http://www.w3.org/2006/vcard/ns#\" xmlns:bqbiol=\"http://biomodels.net/biology-qualifiers/\" xmlns:bqmodel=\"http://biomodels.net/model-qualifiers/\">\n",
      "    <rdf:Description rdf:about=\"#metaid_0000036\">\n",
      "      <bqbiol:is>\n",
      "        <rdf:Bag>\n",
      "          <rdf:li rdf:resource=\"http://identifiers.org/chebi/CHEBI:15414\"/>\n",
      "          <rdf:li rdf:resource=\"http://identifiers.org/chebi/CHEBI:59789\"/>\n",
      "        </rdf:Bag>\n",
      "      </bqbiol:is>\n",
      "    </rdf:Description>\n",
      "    <rdf:Description rdf:about=\"#metaid_not_provided\">\n",
      "      <bqbiol:is>\n",
      "        <rdf:Bag>\n",
      "          <rdf:li rdf:resource=\"http://identifiers.org/chebi/CHEBI:15414\"/>\n",
      "          <bqbiol:hasProperty>\n",
      "            <rdf:Bag>\n",
      "              <rdf:li rdf:resource=\"http://amas/match_score/by_name/1.0\"/>\n",
      "            </rdf:Bag>\n",
      "          </bqbiol:hasProperty>\n",
      "          <rdf:li rdf:resource=\"http://identifiers.org/chebi/CHEBI:59789\"/>\n",
      "          <bqbiol:hasProperty>\n",
      "            <rdf:Bag>\n",
      "              <rdf:li rdf:resource=\"http://amas/match_score/by_name/1.0\"/>\n",
      "            </rdf:Bag>\n",
      "          </bqbiol:hasProperty>\n",
      "        </rdf:Bag>\n",
      "      </bqbiol:is>\n",
      "    </rdf:Description>\n",
      "  </rdf:RDF>\n",
      "</annotation>\n"
     ]
    }
   ],
   "source": [
    "print(one_s.getAnnotationString())"
   ]
  },
  {
   "cell_type": "code",
   "execution_count": 13,
   "id": "60cc4a2e-8048-475d-a2d3-80d766f0065a",
   "metadata": {},
   "outputs": [
    {
     "data": {
      "text/plain": [
       "['<annotation>', '</annotation>']"
      ]
     },
     "execution_count": 13,
     "metadata": {},
     "output_type": "execute_result"
    }
   ],
   "source": [
    "maker.createTag('annotation', 0)"
   ]
  },
  {
   "cell_type": "code",
   "execution_count": 17,
   "id": "7e57b523-ff86-4352-96fd-9b8db3dbf181",
   "metadata": {},
   "outputs": [],
   "source": [
    "with open(os.path.join(cn.TEST_DIR, 'annotation_example.txt')) as file:\n",
    "    lines = [line.rstrip() for line in file]"
   ]
  },
  {
   "cell_type": "code",
   "execution_count": 18,
   "id": "ef97d16b-dac0-4f6f-8603-82bff376d5aa",
   "metadata": {},
   "outputs": [
    {
     "data": {
      "text/plain": [
       "['<annotation>',\n",
       " '  <rdf:RDF xmlns:rdf=\"http://www.w3.org/1999/02/22-rdf-syntax-ns#\" xmlns:dcterms=\"http://purl.org/dc/terms/\" xmlns:vcard4=\"http://www.w3.org/2006/vcard/ns#\" xmlns:bqbiol=\"http://biomodels.net/biology-qualifiers/\" xmlns:bqmodel=\"http://biomodels.net/model-qualifiers/\">',\n",
       " '    <rdf:Description rdf:about=\"#metaid_00001\">',\n",
       " '      <bqbiol:is>',\n",
       " '        <rdf:Bag>',\n",
       " '          <rdf:li rdf:resource=\"http://identifiers.org/chebi/CHEBI:15414\"/>',\n",
       " '          <bqbiol:hasProperty>',\n",
       " '            <rdf:Bag>',\n",
       " '              <rdf:li rdf:resource=\"http://amas/match_score/by_name/1.0\"/>',\n",
       " '            </rdf:Bag>',\n",
       " '          </bqbiol:hasProperty>',\n",
       " '          <rdf:li rdf:resource=\"http://identifiers.org/chebi/CHEBI:59789\"/>',\n",
       " '          <bqbiol:hasProperty>',\n",
       " '            <rdf:Bag>',\n",
       " '              <rdf:li rdf:resource=\"http://amas/match_score/by_name/1.0\"/>',\n",
       " '            </rdf:Bag>',\n",
       " '          </bqbiol:hasProperty>',\n",
       " '        </rdf:Bag>',\n",
       " '      </bqbiol:is>',\n",
       " '    </rdf:Description>',\n",
       " '  </rdf:RDF>',\n",
       " '</annotation>']"
      ]
     },
     "execution_count": 18,
     "metadata": {},
     "output_type": "execute_result"
    }
   ],
   "source": [
    "lines"
   ]
  },
  {
   "cell_type": "code",
   "execution_count": 24,
   "id": "4874c5e9-a451-4e76-a0e9-d9e81ade8aa8",
   "metadata": {},
   "outputs": [],
   "source": [
    "block = maker.createAnnotationBlock(identifier='CHEBI:15414',\n",
    "                            match_score=1.0,\n",
    "                            knowledge_resource=None,\n",
    "                            score_type=None,\n",
    "                            nested_prefix='bqbiol:hasProperty')"
   ]
  },
  {
   "cell_type": "code",
   "execution_count": 27,
   "id": "fffc5d3b-8608-4349-97d2-082debd0081f",
   "metadata": {},
   "outputs": [
    {
     "name": "stdout",
     "output_type": "stream",
     "text": [
      "<rdf:li rdf:resource=\"http://identifiers.org/chebi/CHEBI:15414\"/>\n",
      "<bqbiol:hasProperty>\n",
      "  <rdf:Bag>\n",
      "    <rdf:li rdf:resource=\"http://amas/match_score/by_name/1.0\"/>\n",
      "  </rdf:Bag>\n",
      "</bqbiol:hasProperty>\n"
     ]
    }
   ],
   "source": [
    "print('\\n'.join(block))"
   ]
  },
  {
   "cell_type": "code",
   "execution_count": 30,
   "id": "97b76327-c43a-45c2-99d7-8f962be11a63",
   "metadata": {},
   "outputs": [
    {
     "name": "stdout",
     "output_type": "stream",
     "text": [
      "['<rdf:li rdf:resource=\"http://identifiers.org/chebi/CHEBI:15414\"/>', '<bqbiol:hasProperty>', '  <rdf:Bag>', '    <rdf:li rdf:resource=\"http://amas/match_score/by_name/1.0\"/>', '  </rdf:Bag>']\n",
      "  </rdf:Bag>\n",
      "['<rdf:li rdf:resource=\"http://identifiers.org/chebi/CHEBI:15414\"/>', '<bqbiol:hasProperty>', '  <rdf:Bag>', '    <rdf:li rdf:resource=\"http://amas/match_score/by_name/1.0\"/>']\n"
     ]
    }
   ],
   "source": [
    "print(block)\n",
    "s = block.pop()\n",
    "print(s)\n",
    "print(block)"
   ]
  },
  {
   "cell_type": "code",
   "execution_count": 32,
   "id": "81b4c16e-791f-4ee1-b4fa-a6177c20ccac",
   "metadata": {},
   "outputs": [
    {
     "data": {
      "text/plain": [
       "['<annotation>', '</annotation>']"
      ]
     },
     "execution_count": 32,
     "metadata": {},
     "output_type": "execute_result"
    }
   ],
   "source": [
    "maker._createAnnotationContainer(['annotation'])"
   ]
  },
  {
   "cell_type": "code",
   "execution_count": null,
   "id": "474e00cd-b337-43f5-92b3-59a8438e6458",
   "metadata": {},
   "outputs": [],
   "source": [
    "maker.getAnnotationString"
   ]
  }
 ],
 "metadata": {
  "kernelspec": {
   "display_name": "Python 3 (ipykernel)",
   "language": "python",
   "name": "python3"
  },
  "language_info": {
   "codemirror_mode": {
    "name": "ipython",
    "version": 3
   },
   "file_extension": ".py",
   "mimetype": "text/x-python",
   "name": "python",
   "nbconvert_exporter": "python",
   "pygments_lexer": "ipython3",
   "version": "3.9.15"
  }
 },
 "nbformat": 4,
 "nbformat_minor": 5
}
