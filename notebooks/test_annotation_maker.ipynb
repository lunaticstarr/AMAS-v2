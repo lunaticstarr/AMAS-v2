{
 "cells": [
  {
   "cell_type": "code",
   "execution_count": 1,
   "id": "8041e6a9-3114-46e0-84ca-5ebc0c3d0215",
   "metadata": {},
   "outputs": [],
   "source": [
    "# Sort based on match scores, \n",
    "# 1. cutoff, 2. save file with annotation\n",
    "import collections\n",
    "\n",
    "import compress_pickle\n",
    "import itertools\n",
    "import libsbml\n",
    "import numpy as np\n",
    "import os\n",
    "import pickle\n",
    "import pandas as pd\n",
    "import sys\n",
    "import time\n",
    "import matplotlib.pyplot as plt\n",
    "%matplotlib inline  \n",
    "\n",
    "BIOMD_12 = 'BIOMD0000000012.xml'\n",
    "BASE_DIR = '/Users/woosubs/Desktop/AutomateAnnotation/'\n",
    "DATA_DIR = os.path.join(BASE_DIR, \"DATA\")\n",
    "ALGO_DIR = os.path.join(DATA_DIR, \"algo\")\n",
    "CHEBI_DIR = os.path.join(DATA_DIR, \"chebi\")\n",
    "RHEA_DIR = os.path.join(DATA_DIR, \"rhea\")\n",
    "BIOMODEL_DIR = os.path.join(DATA_DIR, \"biomodels/curated_biomodels_31mar2021\")\n",
    "BIGG_DIR = '/Users/woosubs/Desktop/AutomateAnnotation/DATA/bigg'\n",
    "ecoli_fpath = os.path.join(BIGG_DIR, \"e_coli_core.xml\")\n",
    "\n",
    "PROJ_DIR = os.path.join(os.getcwd(), os.pardir)\n",
    "AMAS_DIR = os.path.join(PROJ_DIR, \"AMAS\")\n",
    "sys.path.append(PROJ_DIR)\n",
    "\n",
    "SUPPL_DIR = os.path.join(PROJ_DIR, os.pardir, \"AMAS_suppl\")\n",
    "ACCURACY_DIR = os.path.join(SUPPL_DIR, \"data_for_credibility\")\n",
    "RESULT_DIR = '/Users/woosubs/Desktop/AutomateAnnotation/AMAS_suppl/result_files'\n",
    "\n",
    "from AMAS import species_annotation as sa\n",
    "from AMAS import reaction_annotation as ra\n",
    "from AMAS import recommender\n",
    "from AMAS import constants as cn\n",
    "from AMAS import iterator as it\n",
    "from AMAS import tools"
   ]
  },
  {
   "cell_type": "code",
   "execution_count": 2,
   "id": "87e5b05a-bfbe-41fd-bfe9-6dd1edb7c451",
   "metadata": {},
   "outputs": [],
   "source": [
    "from AMAS import annotation_maker as am\n",
    "one_anot = 'CHEBI:15414'\n",
    "one_score = 0.2"
   ]
  },
  {
   "cell_type": "code",
   "execution_count": 10,
   "id": "53e49a50-8d4d-4692-8236-36986105c268",
   "metadata": {},
   "outputs": [],
   "source": [
    "BIOMD_190_PATH = os.path.join(cn.TEST_DIR, 'BIOMD0000000190.xml')\n",
    "recom = recommender.Recommender(libsbml_fpath=BIOMD_190_PATH)\n",
    "one_recom = recom.getSpeciesAnnotation(pred_id='SAM')"
   ]
  },
  {
   "cell_type": "code",
   "execution_count": 18,
   "id": "c27f0d7e-b3b8-4ca7-89a7-0a930c2d6f10",
   "metadata": {},
   "outputs": [
    {
     "name": "stdout",
     "output_type": "stream",
     "text": [
      "<rdf:li rdf:resource=\"http://identifiers.org/chebi/CHEBI:59789\"/>\n",
      "  <bqbiol:hasProperty>\n",
      "    <rdf:Bag>\n",
      "      <rdf:li rdf:resource=\"http://amas/match_score/by_name/1.0\"/>\n",
      "    </rdf:Bag>\n",
      "  </bqbiol:hasProperty>\n",
      "<rdf:li rdf:resource=\"http://identifiers.org/chebi/CHEBI:15414\"/>\n",
      "  <bqbiol:hasProperty>\n",
      "    <rdf:Bag>\n",
      "      <rdf:li rdf:resource=\"http://amas/match_score/by_name/1.0\"/>\n",
      "    </rdf:Bag>\n",
      "  </bqbiol:hasProperty>\n"
     ]
    }
   ],
   "source": [
    "am_maker = am.AnnotationMaker('species')\n",
    "annotations = []\n",
    "for one_cand in one_recom.candidates:\n",
    "  annotations = annotations + am_maker.createAnnotationBlock(one_cand[0], one_cand[1])\n",
    "\n",
    "print(('\\n').join(annotations))"
   ]
  },
  {
   "cell_type": "code",
   "execution_count": 17,
   "id": "3d8a2f44-0cef-49fb-be58-9c29c6fba6ca",
   "metadata": {},
   "outputs": [
    {
     "data": {
      "text/plain": [
       "['<rdf:li rdf:resource=\"http://identifiers.org/chebi/CHEBI:59789\"/>',\n",
       " '  <bqbiol:hasProperty>',\n",
       " '    <rdf:Bag>',\n",
       " '      <rdf:li rdf:resource=\"http://amas/match_score/by_name/1.0\"/>',\n",
       " '    </rdf:Bag>',\n",
       " '  </bqbiol:hasProperty>',\n",
       " '<rdf:li rdf:resource=\"http://identifiers.org/chebi/CHEBI:15414\"/>',\n",
       " '  <bqbiol:hasProperty>',\n",
       " '    <rdf:Bag>',\n",
       " '      <rdf:li rdf:resource=\"http://amas/match_score/by_name/1.0\"/>',\n",
       " '    </rdf:Bag>',\n",
       " '  </bqbiol:hasProperty>']"
      ]
     },
     "execution_count": 17,
     "metadata": {},
     "output_type": "execute_result"
    }
   ],
   "source": [
    "annotations"
   ]
  },
  {
   "cell_type": "code",
   "execution_count": null,
   "id": "b1cc6f7e-f8de-42fd-9b47-8c517b84f45c",
   "metadata": {},
   "outputs": [],
   "source": []
  }
 ],
 "metadata": {
  "kernelspec": {
   "display_name": "Python 3 (ipykernel)",
   "language": "python",
   "name": "python3"
  },
  "language_info": {
   "codemirror_mode": {
    "name": "ipython",
    "version": 3
   },
   "file_extension": ".py",
   "mimetype": "text/x-python",
   "name": "python",
   "nbconvert_exporter": "python",
   "pygments_lexer": "ipython3",
   "version": "3.9.15"
  }
 },
 "nbformat": 4,
 "nbformat_minor": 5
}
