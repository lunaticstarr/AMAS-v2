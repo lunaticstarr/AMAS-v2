{
 "cells": [
  {
   "cell_type": "code",
   "execution_count": 1,
   "id": "8041e6a9-3114-46e0-84ca-5ebc0c3d0215",
   "metadata": {},
   "outputs": [],
   "source": [
    "# Sort based on match scores, \n",
    "# 1. cutoff, 2. save file with annotation\n",
    "import collections\n",
    "\n",
    "import compress_pickle\n",
    "import itertools\n",
    "import libsbml\n",
    "import numpy as np\n",
    "import os\n",
    "import pickle\n",
    "import pandas as pd\n",
    "import sys\n",
    "import time\n",
    "import matplotlib.pyplot as plt\n",
    "%matplotlib inline  \n",
    "\n",
    "BIOMD_12 = 'BIOMD0000000012.xml'\n",
    "BASE_DIR = '/Users/woosubs/Desktop/AutomateAnnotation/'\n",
    "DATA_DIR = os.path.join(BASE_DIR, \"DATA\")\n",
    "ALGO_DIR = os.path.join(DATA_DIR, \"algo\")\n",
    "CHEBI_DIR = os.path.join(DATA_DIR, \"chebi\")\n",
    "RHEA_DIR = os.path.join(DATA_DIR, \"rhea\")\n",
    "BIOMODEL_DIR = os.path.join(DATA_DIR, \"biomodels/curated_biomodels_31mar2021\")\n",
    "BIGG_DIR = '/Users/woosubs/Desktop/AutomateAnnotation/DATA/bigg'\n",
    "ecoli_fpath = os.path.join(BIGG_DIR, \"e_coli_core.xml\")\n",
    "\n",
    "PROJ_DIR = os.path.join(os.getcwd(), os.pardir)\n",
    "AMAS_DIR = os.path.join(PROJ_DIR, \"AMAS\")\n",
    "sys.path.append(PROJ_DIR)\n",
    "\n",
    "SUPPL_DIR = os.path.join(PROJ_DIR, os.pardir, \"AMAS_suppl\")\n",
    "ACCURACY_DIR = os.path.join(SUPPL_DIR, \"data_for_credibility\")\n",
    "RESULT_DIR = '/Users/woosubs/Desktop/AutomateAnnotation/AMAS_suppl/result_files'\n",
    "\n",
    "from AMAS import species_annotation as sa\n",
    "from AMAS import reaction_annotation as ra\n",
    "from AMAS import recommender\n",
    "from AMAS import constants as cn\n",
    "from AMAS import iterator as it\n",
    "from AMAS import tools"
   ]
  },
  {
   "cell_type": "code",
   "execution_count": 2,
   "id": "53e49a50-8d4d-4692-8236-36986105c268",
   "metadata": {},
   "outputs": [],
   "source": [
    "BIOMD_190_PATH = os.path.join(cn.TEST_DIR, 'BIOMD0000000190.xml')\n",
    "recom = recommender.Recommender(libsbml_fpath=BIOMD_190_PATH)\n",
    "one_recom = recom.getSpeciesRecommendation(pred_id='SAM')\n",
    "two_recom = recom.getReactionRecommendation(pred_id='VCoA')"
   ]
  },
  {
   "cell_type": "code",
   "execution_count": 3,
   "id": "4e66df8d-faec-4b37-9279-66fccbcf3d67",
   "metadata": {},
   "outputs": [
    {
     "data": {
      "text/plain": [
       "[('CHEBI:15414', 1.0), ('CHEBI:67040', 1.0)]"
      ]
     },
     "execution_count": 3,
     "metadata": {},
     "output_type": "execute_result"
    }
   ],
   "source": [
    "filt_recom = recom.filterRecommendationByThreshold(rec=one_recom,\n",
    "                                                   thresh=0.8)\n",
    "filt_recom.candidates"
   ]
  },
  {
   "cell_type": "code",
   "execution_count": 4,
   "id": "1fafc21e-4693-4926-a808-519aede0b545",
   "metadata": {},
   "outputs": [
    {
     "data": {
      "text/plain": [
       "[('CHEBI:15414', 1.0), ('CHEBI:67040', 1.0)]"
      ]
     },
     "execution_count": 4,
     "metadata": {},
     "output_type": "execute_result"
    }
   ],
   "source": [
    "filt_recom.candidates"
   ]
  },
  {
   "cell_type": "code",
   "execution_count": 5,
   "id": "d7ddc1b2-c2b3-4b26-8017-47123eceb3da",
   "metadata": {},
   "outputs": [],
   "source": [
    "from AMAS import annotation_maker as am"
   ]
  },
  {
   "cell_type": "code",
   "execution_count": 6,
   "id": "ef04387f-75d4-4610-8943-c9b9d13a808e",
   "metadata": {},
   "outputs": [],
   "source": [
    "maker = am.AnnotationMaker('species')"
   ]
  },
  {
   "cell_type": "code",
   "execution_count": 7,
   "id": "caac1618-9af7-4a00-b4c5-9e0438aaa8b7",
   "metadata": {},
   "outputs": [],
   "source": [
    "container_items = ['annotation', \n",
    "                   am.RDF_TAG,\n",
    "                   'rdf:Description rdf:about=\"#'+'meta_id'+'\"',\n",
    "                   maker.prefix,\n",
    "                   'rdf:Bag']"
   ]
  },
  {
   "cell_type": "code",
   "execution_count": 10,
   "id": "cba1b64c-8a83-4057-b798-fb0ec814cae5",
   "metadata": {},
   "outputs": [
    {
     "name": "stdout",
     "output_type": "stream",
     "text": [
      "<annotation>\n",
      "  <rdf:RDF xmlns:rdf=\"http://www.w3.org/1999/02/22-rdf-syntax-ns#\" xmlns:bqmodel=\"http://biomodels.net/model-qualifiers/\" xmlns:bqbiol=\"http://biomodels.net/biology-qualifiers/\">\n",
      "    <rdf:Description rdf:about=\"#metaid_0000036\">\n",
      "      <bqbiol:is>\n",
      "        <rdf:Bag>\n",
      "          <rdf:li rdf:resource=\"http://identifiers.org/obo.chebi/CHEBI:15414\"/>\n",
      "          <rdf:li rdf:resource=\"http://identifiers.org/kegg.compound/C00019\"/>\n",
      "        </rdf:Bag>\n",
      "      </bqbiol:is>\n",
      "    </rdf:Description>\n",
      "  </rdf:RDF>\n",
      "</annotation>\n"
     ]
    }
   ],
   "source": [
    "model = recom.sbml_document.getModel()\n",
    "one_s = model.getSpecies('SAM')\n",
    "exist_anot_str = one_s.getAnnotationString()\n",
    "print(exist_anot_str)"
   ]
  },
  {
   "cell_type": "code",
   "execution_count": 12,
   "id": "9d52e5d5-ee6e-404c-aa3f-6be8b3280c16",
   "metadata": {},
   "outputs": [
    {
     "data": {
      "text/plain": [
       "['<annotation>',\n",
       " '  <rdf:RDF xmlns:rdf=\"http://www.w3.org/1999/02/22-rdf-syntax-ns#\" xmlns:bqmodel=\"http://biomodels.net/model-qualifiers/\" xmlns:bqbiol=\"http://biomodels.net/biology-qualifiers/\">',\n",
       " '    <rdf:Description rdf:about=\"#metaid_0000036\">',\n",
       " '      <bqbiol:is>',\n",
       " '        <rdf:Bag>',\n",
       " '          <rdf:li rdf:resource=\"http://identifiers.org/obo.chebi/CHEBI:15414\"/>',\n",
       " '          <rdf:li rdf:resource=\"http://identifiers.org/kegg.compound/C00019\"/>',\n",
       " '        </rdf:Bag>',\n",
       " '      </bqbiol:is>',\n",
       " '    </rdf:Description>',\n",
       " '  </rdf:RDF>',\n",
       " '</annotation>']"
      ]
     },
     "execution_count": 12,
     "metadata": {},
     "output_type": "execute_result"
    }
   ],
   "source": [
    "exist_anot_list = exist_anot_str.split('\\n')\n",
    "exist_anot_list"
   ]
  },
  {
   "cell_type": "code",
   "execution_count": 101,
   "id": "6ba20d6f-c3aa-4622-a3c4-a5aa294c532c",
   "metadata": {},
   "outputs": [],
   "source": [
    "ELEMENT = 'species'\n",
    "def divideExistingAnnotation(inp_str):\n",
    "  \"\"\"\n",
    "  Divide existing string annotation\n",
    "  into an empty container and\n",
    "  items; \n",
    "  \n",
    "  Parameters\n",
    "  ----------\n",
    "  inp_str: str\n",
    "  \n",
    "  Returns\n",
    "  -------\n",
    "  :dict\n",
    "      Dictionary of container,\n",
    "      and items to be augmented\n",
    "  \"\"\"\n",
    "  exist_anot_list = inp_str.split('\\n')\n",
    "  template_container = []\n",
    "  items = []\n",
    "  one_line = ''\n",
    "  while one_line.strip() != '<rdf:Bag>' and exist_anot_list:\n",
    "    one_line = exist_anot_list.pop(0)\n",
    "    template_container.append(one_line)\n",
    "\n",
    "  one_line = exist_anot_list.pop(0)\n",
    "  while one_line.strip() != '</rdf:Bag>' and exist_anot_list:\n",
    "    items.append(one_line.strip())\n",
    "    one_line = exist_anot_list.pop(0)\n",
    "\n",
    "  template_container.append(one_line)\n",
    "  while exist_anot_list:\n",
    "    one_line = exist_anot_list.pop(0)\n",
    "    template_container.append(one_line)  \n",
    "  res = {'container': template_container,\n",
    "         'items': items}\n",
    "  return res\n",
    "\n",
    "def augmentAnnotation(candidates,\n",
    "                      annotation):\n",
    "  \"\"\"\n",
    "  Augment existing annotations\n",
    "  (meta id is supposed to be included\n",
    "  in the existing annotation)\n",
    "  \n",
    "  Parameters\n",
    "  ----------\n",
    "  candidates: str-list\n",
    "      List of candidates\n",
    "      \n",
    "  existing_annotation: str\n",
    "      Existing element annotation\n",
    "  \"\"\"\n",
    "  annotation_dict = divideExistingAnnotation(annotation)\n",
    "  container = annotation_dict['container']\n",
    "  existing_items = annotation_dict['items']\n",
    "  existing_identifiers = []\n",
    "  for val in existing_items:\n",
    "    url = re.findall('\"(.*?)\"', val)[0]\n",
    "    existing_identifiers.append(url.split('/')[-1])\n",
    "  additional_identifiers = [val for val in candidates \\\n",
    "                            if val not in existing_identifiers]\n",
    "  new_items = [maker.createAnnotationItem(am.KNOWLEDGE_RESOURCE[ELEMENT],one_cand) \\\n",
    "               for one_cand in additional_identifiers]\n",
    "  items = existing_items + new_items\n",
    "  res = maker.insertList(template_container, items)\n",
    "  return '\\n'.join(res)"
   ]
  },
  {
   "cell_type": "code",
   "execution_count": 104,
   "id": "5061628a-f016-4f13-a29e-ad7626fefcd5",
   "metadata": {},
   "outputs": [
    {
     "name": "stdout",
     "output_type": "stream",
     "text": [
      "<annotation>\n",
      "  <rdf:RDF xmlns:rdf=\"http://www.w3.org/1999/02/22-rdf-syntax-ns#\" xmlns:bqmodel=\"http://biomodels.net/model-qualifiers/\" xmlns:bqbiol=\"http://biomodels.net/biology-qualifiers/\">\n",
      "    <rdf:Description rdf:about=\"#metaid_0000036\">\n",
      "      <bqbiol:is>\n",
      "        <rdf:Bag>\n",
      "          <rdf:li rdf:resource=\"http://identifiers.org/obo.chebi/CHEBI:15414\"/>\n",
      "          <rdf:li rdf:resource=\"http://identifiers.org/kegg.compound/C00019\"/>\n",
      "        </rdf:Bag>\n",
      "      </bqbiol:is>\n",
      "    </rdf:Description>\n",
      "  </rdf:RDF>\n",
      "</annotation>\n"
     ]
    }
   ],
   "source": [
    "print(exist_anot_str)"
   ]
  },
  {
   "cell_type": "code",
   "execution_count": 102,
   "id": "b1db759f-3fce-4d49-ae2a-044140d10515",
   "metadata": {},
   "outputs": [
    {
     "name": "stdout",
     "output_type": "stream",
     "text": [
      "<annotation>\n",
      "  <rdf:RDF xmlns:rdf=\"http://www.w3.org/1999/02/22-rdf-syntax-ns#\" xmlns:bqmodel=\"http://biomodels.net/model-qualifiers/\" xmlns:bqbiol=\"http://biomodels.net/biology-qualifiers/\">\n",
      "    <rdf:Description rdf:about=\"#metaid_0000036\">\n",
      "      <bqbiol:is>\n",
      "        <rdf:Bag>\n",
      "          <rdf:li rdf:resource=\"http://identifiers.org/obo.chebi/CHEBI:15414\"/>\n",
      "          <rdf:li rdf:resource=\"http://identifiers.org/kegg.compound/C00019\"/>\n",
      "          <rdf:li rdf:resource=\"http://identifiers.org/chebi/CHEBI:00000\"/>\n",
      "        </rdf:Bag>\n",
      "      </bqbiol:is>\n",
      "    </rdf:Description>\n",
      "  </rdf:RDF>\n",
      "</annotation>\n"
     ]
    }
   ],
   "source": [
    "print(augmentAnnotation(['CHEBI:00000'], exist_anot_str))"
   ]
  },
  {
   "cell_type": "code",
   "execution_count": 97,
   "id": "da12f1db-7f5d-4152-91fc-eea917ccc828",
   "metadata": {},
   "outputs": [
    {
     "data": {
      "text/plain": [
       "'<annotation>\\n  <rdf:RDF xmlns:rdf=\"http://www.w3.org/1999/02/22-rdf-syntax-ns#\" xmlns:bqmodel=\"http://biomodels.net/model-qualifiers/\" xmlns:bqbiol=\"http://biomodels.net/biology-qualifiers/\">\\n    <rdf:Description rdf:about=\"#metaid_0000036\">\\n      <bqbiol:is>\\n        <rdf:Bag>\\n          <rdf:li rdf:resource=\"http://identifiers.org/obo.chebi/CHEBI:15414\"/>\\n          <rdf:li rdf:resource=\"http://identifiers.org/kegg.compound/C00019\"/>\\n        </rdf:Bag>\\n      </bqbiol:is>\\n    </rdf:Description>\\n  </rdf:RDF>\\n</annotation>'"
      ]
     },
     "execution_count": 97,
     "metadata": {},
     "output_type": "execute_result"
    }
   ],
   "source": [
    "exist_anot_str"
   ]
  },
  {
   "cell_type": "code",
   "execution_count": 93,
   "id": "a60f1be0-0075-457c-832c-b7e9d603e195",
   "metadata": {},
   "outputs": [],
   "source": [
    "import re\n",
    "\n",
    "existing_identifiers = []\n",
    "for val in res['items']:\n",
    "  url = re.findall('\"(.*?)\"', val)[0]\n",
    "  existing_identifiers.append(url.split('/')[-1])"
   ]
  },
  {
   "cell_type": "code",
   "execution_count": 94,
   "id": "59d9bf18-a8f2-4545-9a13-00671f58c038",
   "metadata": {},
   "outputs": [
    {
     "data": {
      "text/plain": [
       "['CHEBI:15414', 'C00019']"
      ]
     },
     "execution_count": 94,
     "metadata": {},
     "output_type": "execute_result"
    }
   ],
   "source": [
    "existing_identifiers"
   ]
  },
  {
   "cell_type": "code",
   "execution_count": null,
   "id": "55d3c7e5-9e8a-4c74-914a-06b4af522502",
   "metadata": {},
   "outputs": [],
   "source": []
  },
  {
   "cell_type": "code",
   "execution_count": 64,
   "id": "ad1d9304-164d-4d7a-b6e5-ba6f43c19768",
   "metadata": {},
   "outputs": [],
   "source": [
    "exist_anot_list = exist_anot_str.split('\\n')\n",
    "\n",
    "template_container = []\n",
    "items_tobe_added = []\n",
    "one_line = ''\n",
    "while one_line.strip() != '<rdf:Bag>' and exist_anot_list:\n",
    "  one_line = exist_anot_list.pop(0)\n",
    "  template_container.append(one_line)\n",
    "    \n",
    "one_line = exist_anot_list.pop(0)\n",
    "while one_line.strip() != '</rdf:Bag>' and exist_anot_list:\n",
    "  items_tobe_added.append(one_line.strip())\n",
    "  one_line = exist_anot_list.pop(0)\n",
    "\n",
    "template_container.append(one_line)\n",
    "while exist_anot_list:\n",
    "  one_line = exist_anot_list.pop(0)\n",
    "  template_container.append(one_line)  \n",
    "\n",
    "res = {'container': template_container,\n",
    "       'items': items_tobe_added}"
   ]
  },
  {
   "cell_type": "code",
   "execution_count": 59,
   "id": "cdc64849-6b9a-4c95-b323-a75318f38de2",
   "metadata": {},
   "outputs": [
    {
     "data": {
      "text/plain": [
       "['<annotation>',\n",
       " '  <rdf:RDF xmlns:rdf=\"http://www.w3.org/1999/02/22-rdf-syntax-ns#\" xmlns:bqmodel=\"http://biomodels.net/model-qualifiers/\" xmlns:bqbiol=\"http://biomodels.net/biology-qualifiers/\">',\n",
       " '    <rdf:Description rdf:about=\"#metaid_0000036\">',\n",
       " '      <bqbiol:is>',\n",
       " '        <rdf:Bag>',\n",
       " '        </rdf:Bag>',\n",
       " '      </bqbiol:is>',\n",
       " '    </rdf:Description>',\n",
       " '  </rdf:RDF>',\n",
       " '</annotation>']"
      ]
     },
     "execution_count": 59,
     "metadata": {},
     "output_type": "execute_result"
    }
   ],
   "source": [
    "template_container"
   ]
  },
  {
   "cell_type": "code",
   "execution_count": 60,
   "id": "6a04b6b7-e5b0-41e2-a136-bcd4d4e5717f",
   "metadata": {},
   "outputs": [
    {
     "data": {
      "text/plain": [
       "['<rdf:li rdf:resource=\"http://identifiers.org/obo.chebi/CHEBI:15414\"/>',\n",
       " '<rdf:li rdf:resource=\"http://identifiers.org/kegg.compound/C00019\"/>']"
      ]
     },
     "execution_count": 60,
     "metadata": {},
     "output_type": "execute_result"
    }
   ],
   "source": [
    "items_tobe_added"
   ]
  },
  {
   "cell_type": "code",
   "execution_count": 61,
   "id": "0391351c-dda6-4129-a051-d07e824136c3",
   "metadata": {},
   "outputs": [
    {
     "data": {
      "text/plain": [
       "['<annotation>',\n",
       " '  <rdf:RDF xmlns:rdf=\"http://www.w3.org/1999/02/22-rdf-syntax-ns#\" xmlns:bqmodel=\"http://biomodels.net/model-qualifiers/\" xmlns:bqbiol=\"http://biomodels.net/biology-qualifiers/\">',\n",
       " '    <rdf:Description rdf:about=\"#metaid_0000036\">',\n",
       " '      <bqbiol:is>',\n",
       " '        <rdf:Bag>',\n",
       " '          <rdf:li rdf:resource=\"http://identifiers.org/obo.chebi/CHEBI:15414\"/>',\n",
       " '          <rdf:li rdf:resource=\"http://identifiers.org/kegg.compound/C00019\"/>',\n",
       " '        </rdf:Bag>',\n",
       " '      </bqbiol:is>',\n",
       " '    </rdf:Description>',\n",
       " '  </rdf:RDF>',\n",
       " '</annotation>']"
      ]
     },
     "execution_count": 61,
     "metadata": {},
     "output_type": "execute_result"
    }
   ],
   "source": [
    "maker.insertList(template_container, items_tobe_added)"
   ]
  },
  {
   "cell_type": "code",
   "execution_count": 14,
   "id": "ec994e5f-6223-42cc-9a3b-f7f3424182b1",
   "metadata": {},
   "outputs": [
    {
     "data": {
      "text/plain": [
       "['<annotation>',\n",
       " '  <rdf:Description rdf:about=\"#>',\n",
       " '    <rdf:Bag>',\n",
       " '    </rdf:Bag>',\n",
       " '  </rdf:Description>',\n",
       " '</annotation>']"
      ]
     },
     "execution_count": 14,
     "metadata": {},
     "output_type": "execute_result"
    }
   ],
   "source": [
    "container_items = ['annotation', \n",
    "                   'rdf:Description rdf:about=\"#',\n",
    "                   'rdf:Bag']\n",
    "maker.createAnnotationContainer(container_items)"
   ]
  },
  {
   "cell_type": "code",
   "execution_count": null,
   "id": "9a58d240-d8eb-473a-b2fc-d34f43ac5af0",
   "metadata": {},
   "outputs": [],
   "source": []
  },
  {
   "cell_type": "code",
   "execution_count": 8,
   "id": "0ea20706-732d-454e-93c5-fa6d158a6f7c",
   "metadata": {},
   "outputs": [
    {
     "data": {
      "text/plain": [
       "['<annotation>',\n",
       " '  <rdf:RDF xmlns:rdf=\"http://www.w3.org/1999/02/22-rdf-syntax-ns#\" xmlns:dcterms=\"http://purl.org/dc/terms/\" xmlns:vcard4=\"http://www.w3.org/2006/vcard/ns#\" xmlns:bqbiol=\"http://biomodels.net/biology-qualifiers/\" xmlns:bqmodel=\"http://biomodels.net/model-qualifiers/\">',\n",
       " '    <rdf:Description rdf:about=\"#meta_id\">',\n",
       " '      <bqbiol:is>',\n",
       " '        <rdf:Bag>',\n",
       " '        </rdf:Bag>',\n",
       " '      </bqbiol:is>',\n",
       " '    </rdf:Description>',\n",
       " '  </rdf:RDF>',\n",
       " '</annotation>']"
      ]
     },
     "execution_count": 8,
     "metadata": {},
     "output_type": "execute_result"
    }
   ],
   "source": [
    "maker.createAnnotationContainer(container_items)"
   ]
  },
  {
   "cell_type": "code",
   "execution_count": 9,
   "id": "7d8da091-825e-49dd-b7fa-c817d6a4dc3e",
   "metadata": {},
   "outputs": [],
   "source": [
    "candidates = ['CHEBI:15414', 'CHEBI:67040']\n",
    "res = maker.getAnnotationString(candidates, 'meta_id_00111')"
   ]
  },
  {
   "cell_type": "code",
   "execution_count": 10,
   "id": "2e7157ec-3812-4f02-a46b-f749af5d2758",
   "metadata": {},
   "outputs": [
    {
     "name": "stdout",
     "output_type": "stream",
     "text": [
      "<annotation>\n",
      "  <rdf:RDF xmlns:rdf=\"http://www.w3.org/1999/02/22-rdf-syntax-ns#\" xmlns:dcterms=\"http://purl.org/dc/terms/\" xmlns:vcard4=\"http://www.w3.org/2006/vcard/ns#\" xmlns:bqbiol=\"http://biomodels.net/biology-qualifiers/\" xmlns:bqmodel=\"http://biomodels.net/model-qualifiers/\">\n",
      "    <rdf:Description rdf:about=\"#meta_id_00111\">\n",
      "      <bqbiol:is>\n",
      "        <rdf:Bag>\n",
      "          <rdf:li rdf:resource=\"http://identifiers.org/chebi/CHEBI:15414\"/>\n",
      "          <rdf:li rdf:resource=\"http://identifiers.org/chebi/CHEBI:67040\"/>\n",
      "        </rdf:Bag>\n",
      "      </bqbiol:is>\n",
      "    </rdf:Description>\n",
      "  </rdf:RDF>\n",
      "</annotation>\n"
     ]
    }
   ],
   "source": [
    "print(res)"
   ]
  },
  {
   "cell_type": "code",
   "execution_count": 11,
   "id": "c27f0d7e-b3b8-4ca7-89a7-0a930c2d6f10",
   "metadata": {},
   "outputs": [
    {
     "name": "stdout",
     "output_type": "stream",
     "text": [
      "<annotation>\n",
      "  <rdf:RDF xmlns:rdf=\"http://www.w3.org/1999/02/22-rdf-syntax-ns#\" xmlns:bqmodel=\"http://biomodels.net/model-qualifiers/\" xmlns:bqbiol=\"http://biomodels.net/biology-qualifiers/\">\n",
      "    <rdf:Description rdf:about=\"#metaid_0000036\">\n",
      "      <bqbiol:is>\n",
      "        <rdf:Bag>\n",
      "          <rdf:li rdf:resource=\"http://identifiers.org/obo.chebi/CHEBI:15414\"/>\n",
      "          <rdf:li rdf:resource=\"http://identifiers.org/kegg.compound/C00019\"/>\n",
      "        </rdf:Bag>\n",
      "      </bqbiol:is>\n",
      "    </rdf:Description>\n",
      "  </rdf:RDF>\n",
      "</annotation>\n"
     ]
    }
   ],
   "source": [
    "model = recom.sbml_document.getModel()\n",
    "one_s = model.getSpecies('SAM')\n",
    "print(one_s.getAnnotationString())"
   ]
  },
  {
   "cell_type": "code",
   "execution_count": 13,
   "id": "01732fe8-085f-4dcd-8e00-4b169c880626",
   "metadata": {},
   "outputs": [
    {
     "name": "stdout",
     "output_type": "stream",
     "text": [
      "<annotation>\n",
      "  <rdf:RDF xmlns:rdf=\"http://www.w3.org/1999/02/22-rdf-syntax-ns#\" xmlns:dc=\"http://purl.org/dc/elements/1.1/\" xmlns:dcterms=\"http://purl.org/dc/terms/\" xmlns:vCard=\"http://www.w3.org/2001/vcard-rdf/3.0#\" xmlns:bqbiol=\"http://biomodels.net/biology-qualifiers/\" xmlns:bqmodel=\"http://biomodels.net/model-qualifiers/\">\n",
      "    <rdf:Description rdf:about=\"#metaid_0000036\">\n",
      "      <bqbiol:is>\n",
      "        <rdf:Bag>\n",
      "          <rdf:li rdf:resource=\"http://identifiers.org/chebi/CHEBI:15414\"/>\n",
      "          <rdf:li rdf:resource=\"http://identifiers.org/chebi/CHEBI:67040\"/>\n",
      "        </rdf:Bag>\n",
      "      </bqbiol:is>\n",
      "    </rdf:Description>\n",
      "  </rdf:RDF>\n",
      "</annotation>\n"
     ]
    }
   ],
   "source": [
    "one_s.setAnnotation(res)\n",
    "print(one_s.getAnnotationString())"
   ]
  },
  {
   "cell_type": "code",
   "execution_count": 14,
   "id": "7c87fe9a-3e11-4ab9-ac30-a43df67acbe8",
   "metadata": {},
   "outputs": [
    {
     "data": {
      "text/plain": [
       "['<annotation>', '</annotation>']"
      ]
     },
     "execution_count": 14,
     "metadata": {},
     "output_type": "execute_result"
    }
   ],
   "source": [
    "maker.createAnnotationContainer(['annotation'])"
   ]
  },
  {
   "cell_type": "code",
   "execution_count": 20,
   "id": "c5aaeb2d-0ab4-45ec-9f2f-bfbe470b7625",
   "metadata": {},
   "outputs": [],
   "source": [
    "ONE_CHEBI = 'CHEBI:15414'\n",
    "ONE_CHEBI_SCORE = 1.00\n",
    "TWO_CHEBI = 'CHEBI:59789'\n",
    "TWO_CHEBI_SCORE = 1.00\n",
    "CANDIDATES = [ONE_CHEBI, TWO_CHEBI]\n",
    "CHEBI = 'chebi'\n",
    "\n",
    "ONE_ANNOTATION_ITEM = '<rdf:li rdf:resource=\"http://identifiers.org/chebi/CHEBI:15414\"/>'\n",
    "ONE_SCORE_ITEM = '<rdf:li rdf:resource=\"http://reproduciblebiomodels.org/amas/v1/by_name/0.20\"/>'\n",
    "ONE_CONTAINER = ['<annotation>', '</annotation>']\n",
    "TWO_CONTAINER = ['<rdf:RDF>', '</rdf:RDF>']\n",
    "\n",
    "with open(os.path.join(cn.TEST_DIR, 'full_annotation_example.txt')) as file:\n",
    "    lines = [line.rstrip() for line in file]\n",
    "FULL_ANNOTATION = '\\n'.join(lines)\n",
    "\n",
    "ONE_INSERTED = ['<annotation>', '  <rdf:RDF>', '  </rdf:RDF>', '</annotation>']\n",
    "TWO_INSERTED = ['rdf:RDF']"
   ]
  },
  {
   "cell_type": "code",
   "execution_count": 21,
   "id": "1b7225b2-48c1-4bd0-a3ae-2b06f6056ad2",
   "metadata": {},
   "outputs": [
    {
     "data": {
      "text/plain": [
       "'<rdf:li rdf:resource=\"http://identifiers.org/chebi/CHEBI:15414\"/>'"
      ]
     },
     "execution_count": 21,
     "metadata": {},
     "output_type": "execute_result"
    }
   ],
   "source": [
    "maker.createAnnotationItem(CHEBI,\n",
    "                                               ONE_CHEBI)"
   ]
  },
  {
   "cell_type": "code",
   "execution_count": 23,
   "id": "0b97700f-1ee0-4f88-b27a-248640bf3c94",
   "metadata": {},
   "outputs": [
    {
     "name": "stdout",
     "output_type": "stream",
     "text": [
      "<annotation>\n",
      "  <rdf:RDF xmlns:rdf=\"http://www.w3.org/1999/02/22-rdf-syntax-ns#\" xmlns:dcterms=\"http://purl.org/dc/terms/\" xmlns:vcard4=\"http://www.w3.org/2006/vcard/ns#\" xmlns:bqbiol=\"http://biomodels.net/biology-qualifiers/\" xmlns:bqmodel=\"http://biomodels.net/model-qualifiers/\">\n",
      "    <rdf:Description rdf:about=\"#metaid_00001\">\n",
      "      <bqbiol:is>\n",
      "        <rdf:Bag>\n",
      "          <rdf:li rdf:resource=\"http://identifiers.org/chebi/CHEBI:15414\"/>\n",
      "          <rdf:li rdf:resource=\"http://identifiers.org/chebi/CHEBI:59789\"/>\n",
      "        </rdf:Bag>\n",
      "      </bqbiol:is>\n",
      "    </rdf:Description>\n",
      "  </rdf:RDF>\n",
      "</annotation>\n"
     ]
    }
   ],
   "source": [
    "print(maker.getAnnotationString(CANDIDATES, meta_id='metaid_00001'))"
   ]
  },
  {
   "cell_type": "code",
   "execution_count": null,
   "id": "c3640148-a6e1-4bd8-bdd3-3e2fdeb04660",
   "metadata": {},
   "outputs": [],
   "source": []
  }
 ],
 "metadata": {
  "kernelspec": {
   "display_name": "Python 3 (ipykernel)",
   "language": "python",
   "name": "python3"
  },
  "language_info": {
   "codemirror_mode": {
    "name": "ipython",
    "version": 3
   },
   "file_extension": ".py",
   "mimetype": "text/x-python",
   "name": "python",
   "nbconvert_exporter": "python",
   "pygments_lexer": "ipython3",
   "version": "3.9.15"
  }
 },
 "nbformat": 4,
 "nbformat_minor": 5
}
