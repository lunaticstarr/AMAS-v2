{
 "cells": [
  {
   "cell_type": "code",
   "execution_count": 1,
   "id": "8041e6a9-3114-46e0-84ca-5ebc0c3d0215",
   "metadata": {},
   "outputs": [],
   "source": [
    "# Sort based on match scores, \n",
    "# 1. cutoff, 2. save file with annotation\n",
    "import collections\n",
    "\n",
    "import compress_pickle\n",
    "import itertools\n",
    "import libsbml\n",
    "import numpy as np\n",
    "import os\n",
    "import pickle\n",
    "import pandas as pd\n",
    "import sys\n",
    "import time\n",
    "import matplotlib.pyplot as plt\n",
    "%matplotlib inline  \n",
    "\n",
    "BIOMD_12 = 'BIOMD0000000012.xml'\n",
    "BASE_DIR = '/Users/woosubs/Desktop/AutomateAnnotation/'\n",
    "DATA_DIR = os.path.join(BASE_DIR, \"DATA\")\n",
    "ALGO_DIR = os.path.join(DATA_DIR, \"algo\")\n",
    "CHEBI_DIR = os.path.join(DATA_DIR, \"chebi\")\n",
    "RHEA_DIR = os.path.join(DATA_DIR, \"rhea\")\n",
    "BIOMODEL_DIR = os.path.join(DATA_DIR, \"biomodels/curated_biomodels_31mar2021\")\n",
    "BIGG_DIR = '/Users/woosubs/Desktop/AutomateAnnotation/DATA/bigg'\n",
    "ecoli_fpath = os.path.join(BIGG_DIR, \"e_coli_core.xml\")\n",
    "\n",
    "PROJ_DIR = os.path.join(os.getcwd(), os.pardir)\n",
    "AMAS_DIR = os.path.join(PROJ_DIR, \"AMAS\")\n",
    "sys.path.append(PROJ_DIR)\n",
    "\n",
    "SUPPL_DIR = os.path.join(PROJ_DIR, os.pardir, \"AMAS_suppl\")\n",
    "ACCURACY_DIR = os.path.join(SUPPL_DIR, \"data_for_credibility\")\n",
    "RESULT_DIR = '/Users/woosubs/Desktop/AutomateAnnotation/AMAS_suppl/result_files'\n",
    "\n",
    "from AMAS import species_annotation as sa\n",
    "from AMAS import reaction_annotation as ra\n",
    "from AMAS import recommender\n",
    "from AMAS import constants as cn\n",
    "from AMAS import iterator as it\n",
    "from AMAS import tools"
   ]
  },
  {
   "cell_type": "code",
   "execution_count": 2,
   "id": "87e5b05a-bfbe-41fd-bfe9-6dd1edb7c451",
   "metadata": {},
   "outputs": [],
   "source": [
    "from AMAS import annotation_maker as am\n",
    "one_anot = 'CHEBI:15414'\n",
    "one_score = 0.2"
   ]
  },
  {
   "cell_type": "code",
   "execution_count": 3,
   "id": "53e49a50-8d4d-4692-8236-36986105c268",
   "metadata": {},
   "outputs": [],
   "source": [
    "BIOMD_190_PATH = os.path.join(cn.TEST_DIR, 'BIOMD0000000190.xml')\n",
    "recom = recommender.Recommender(libsbml_fpath=BIOMD_190_PATH)\n",
    "one_recom = recom.getSpeciesAnnotation(pred_id='SAM')"
   ]
  },
  {
   "cell_type": "code",
   "execution_count": 4,
   "id": "7055929c-c4ea-4819-aeb6-5991fcb9702e",
   "metadata": {},
   "outputs": [],
   "source": [
    "maker = am.AnnotationMaker('species')"
   ]
  },
  {
   "cell_type": "code",
   "execution_count": 5,
   "id": "cabf8eda-da58-4934-b933-750714f97959",
   "metadata": {},
   "outputs": [
    {
     "name": "stdout",
     "output_type": "stream",
     "text": [
      "<annotation>\n",
      "  <rdf:RDF xmlns:rdf=\"http://www.w3.org/1999/02/22-rdf-syntax-ns#\" xmlns:dcterms=\"http://purl.org/dc/terms/\" xmlns:vcard4=\"http://www.w3.org/2006/vcard/ns#\" xmlns:bqbiol=\"http://biomodels.net/biology-qualifiers/\" xmlns:bqmodel=\"http://biomodels.net/model-qualifiers/\">\n",
      "    <rdf:Description rdf:about=\"#metaid_not_provided\">\n",
      "      <bqbiol:is>\n",
      "        <rdf:Bag>\n",
      "          <rdf:li rdf:resource=\"http://identifiers.org/chebi/CHEBI:59789\"/>\n",
      "          <bqbiol:hasProperty>\n",
      "            <rdf:Bag>\n",
      "              <rdf:li rdf:resource=\"http://amas/match_score/by_name/1.0\"/>\n",
      "            </rdf:Bag>\n",
      "          </bqbiol:hasProperty>\n",
      "          <rdf:li rdf:resource=\"http://identifiers.org/chebi/CHEBI:15414\"/>\n",
      "          <bqbiol:hasProperty>\n",
      "            <rdf:Bag>\n",
      "              <rdf:li rdf:resource=\"http://amas/match_score/by_name/1.0\"/>\n",
      "            </rdf:Bag>\n",
      "          </bqbiol:hasProperty>\n",
      "        </rdf:Bag>\n",
      "      </bqbiol:is>\n",
      "    </rdf:Description>\n",
      "  </rdf:RDF>\n",
      "</annotation>\n"
     ]
    }
   ],
   "source": [
    "res = maker.getAnnotationString(one_recom.candidates)\n",
    "print(res)"
   ]
  },
  {
   "cell_type": "code",
   "execution_count": 6,
   "id": "c27f0d7e-b3b8-4ca7-89a7-0a930c2d6f10",
   "metadata": {},
   "outputs": [
    {
     "name": "stdout",
     "output_type": "stream",
     "text": [
      "<annotation>\n",
      "  <rdf:RDF xmlns:rdf=\"http://www.w3.org/1999/02/22-rdf-syntax-ns#\" xmlns:bqmodel=\"http://biomodels.net/model-qualifiers/\" xmlns:bqbiol=\"http://biomodels.net/biology-qualifiers/\">\n",
      "    <rdf:Description rdf:about=\"#metaid_0000036\">\n",
      "      <bqbiol:is>\n",
      "        <rdf:Bag>\n",
      "          <rdf:li rdf:resource=\"http://identifiers.org/obo.chebi/CHEBI:15414\"/>\n",
      "          <rdf:li rdf:resource=\"http://identifiers.org/kegg.compound/C00019\"/>\n",
      "        </rdf:Bag>\n",
      "      </bqbiol:is>\n",
      "    </rdf:Description>\n",
      "  </rdf:RDF>\n",
      "</annotation>\n"
     ]
    }
   ],
   "source": [
    "model = recom.sbml_document.getModel()\n",
    "one_s = model.getSpecies('SAM')\n",
    "print(one_s.getAnnotationString())"
   ]
  },
  {
   "cell_type": "code",
   "execution_count": 7,
   "id": "31eb72b5-8855-47a3-9c33-f45bb0b83dc8",
   "metadata": {},
   "outputs": [
    {
     "data": {
      "text/plain": [
       "0"
      ]
     },
     "execution_count": 7,
     "metadata": {},
     "output_type": "execute_result"
    }
   ],
   "source": [
    "one_s.setAnnotation(res)"
   ]
  },
  {
   "cell_type": "code",
   "execution_count": 8,
   "id": "3d8a2f44-0cef-49fb-be58-9c29c6fba6ca",
   "metadata": {},
   "outputs": [
    {
     "name": "stdout",
     "output_type": "stream",
     "text": [
      "<annotation>\n",
      "  <rdf:RDF xmlns:rdf=\"http://www.w3.org/1999/02/22-rdf-syntax-ns#\" xmlns:dcterms=\"http://purl.org/dc/terms/\" xmlns:vcard4=\"http://www.w3.org/2006/vcard/ns#\" xmlns:bqbiol=\"http://biomodels.net/biology-qualifiers/\" xmlns:bqmodel=\"http://biomodels.net/model-qualifiers/\">\n",
      "    <rdf:Description rdf:about=\"#metaid_0000036\">\n",
      "      <bqbiol:is>\n",
      "        <rdf:Bag>\n",
      "          <rdf:li rdf:resource=\"http://identifiers.org/chebi/CHEBI:59789\"/>\n",
      "          <rdf:li rdf:resource=\"http://identifiers.org/chebi/CHEBI:15414\"/>\n",
      "        </rdf:Bag>\n",
      "      </bqbiol:is>\n",
      "    </rdf:Description>\n",
      "    <rdf:Description rdf:about=\"#metaid_not_provided\">\n",
      "      <bqbiol:is>\n",
      "        <rdf:Bag>\n",
      "          <rdf:li rdf:resource=\"http://identifiers.org/chebi/CHEBI:59789\"/>\n",
      "          <bqbiol:hasProperty>\n",
      "            <rdf:Bag>\n",
      "              <rdf:li rdf:resource=\"http://amas/match_score/by_name/1.0\"/>\n",
      "            </rdf:Bag>\n",
      "          </bqbiol:hasProperty>\n",
      "          <rdf:li rdf:resource=\"http://identifiers.org/chebi/CHEBI:15414\"/>\n",
      "          <bqbiol:hasProperty>\n",
      "            <rdf:Bag>\n",
      "              <rdf:li rdf:resource=\"http://amas/match_score/by_name/1.0\"/>\n",
      "            </rdf:Bag>\n",
      "          </bqbiol:hasProperty>\n",
      "        </rdf:Bag>\n",
      "      </bqbiol:is>\n",
      "    </rdf:Description>\n",
      "  </rdf:RDF>\n",
      "</annotation>\n"
     ]
    }
   ],
   "source": [
    "print(one_s.getAnnotationString())"
   ]
  },
  {
   "cell_type": "code",
   "execution_count": null,
   "id": "60cc4a2e-8048-475d-a2d3-80d766f0065a",
   "metadata": {},
   "outputs": [],
   "source": []
  }
 ],
 "metadata": {
  "kernelspec": {
   "display_name": "Python 3 (ipykernel)",
   "language": "python",
   "name": "python3"
  },
  "language_info": {
   "codemirror_mode": {
    "name": "ipython",
    "version": 3
   },
   "file_extension": ".py",
   "mimetype": "text/x-python",
   "name": "python",
   "nbconvert_exporter": "python",
   "pygments_lexer": "ipython3",
   "version": "3.9.15"
  }
 },
 "nbformat": 4,
 "nbformat_minor": 5
}
