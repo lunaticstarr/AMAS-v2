{
 "cells": [
  {
   "cell_type": "code",
   "execution_count": 1,
   "id": "1c16653c",
   "metadata": {},
   "outputs": [],
   "source": [
    "# Update species_annotation, so that result returns sorted, CHEBI candidates & match score"
   ]
  },
  {
   "cell_type": "code",
   "execution_count": 2,
   "id": "86f5c58e",
   "metadata": {},
   "outputs": [],
   "source": [
    "import editdistance\n",
    "import libsbml\n",
    "import numpy as np\n",
    "import operator\n",
    "import os\n",
    "import pickle\n",
    "import pandas as pd\n",
    "import sys\n",
    "import matplotlib.pyplot as plt\n",
    "%matplotlib inline  \n",
    "\n",
    "BIOMD_12 = 'BIOMD0000000012.xml'\n",
    "BASE_DIR = '/Users/woosubs/Desktop/AutomateAnnotation/'\n",
    "DATA_DIR = os.path.join(BASE_DIR, \"DATA\")\n",
    "ALGO_DIR = os.path.join(DATA_DIR, \"algo\")\n",
    "CHEBI_DIR = os.path.join(DATA_DIR, \"chebi\")\n",
    "RHEA_DIR = os.path.join(DATA_DIR, \"rhea\")\n",
    "BIOMODEL_DIR = os.path.join(DATA_DIR, \"biomodels/curated_biomodels_31mar2021\")\n",
    "BIGG_DIR = '/Users/woosubs/Desktop/AutomateAnnotation/DATA/bigg'\n",
    "ecoli_fpath = os.path.join(BIGG_DIR, \"e_coli_core.xml\")\n",
    "\n",
    "PROJ_DIR = os.path.join(os.getcwd(), os.pardir)\n",
    "AMAS_DIR = os.path.join(PROJ_DIR, \"AMAS\")\n",
    "sys.path.append(PROJ_DIR)\n",
    "\n",
    "from AMAS import species_annotation as sa\n",
    "from AMAS import reaction_annotation as ra\n",
    "from AMAS import constants as cn\n",
    "from AMAS import iterator as it\n",
    "from AMAS import tools"
   ]
  },
  {
   "cell_type": "code",
   "execution_count": 3,
   "id": "79e0e620",
   "metadata": {},
   "outputs": [],
   "source": [
    "prev_notebook_dir = '/Users/woosubs/Desktop/AutomateAnnotation/AnnotationRecommender/annotation_recommender/notebook'\n",
    "with open(os.path.join(prev_notebook_dir, 'chebi_models.pickle'), 'rb') as handle:\n",
    "  chebi_models = pickle.load(handle)\n",
    "\n",
    "with open(os.path.join(cn.REF_DIR, 'chebi_shortened_formula_30apr2022.pickle'), 'rb') as f:\n",
    "  ref_shortened_chebi_to_formula = pickle.load(f)\n",
    "with open(os.path.join(cn.REF_DIR, 'chebi_low_synonyms.pickle'), 'rb') as f:\n",
    "  chebi_low_synonyms = pickle.load(f)\n",
    "\n",
    "one_biomd = 'BIOMD0000000634.xml'\n",
    "one_biomd_fpath = os.path.join(BIOMODEL_DIR, one_biomd)\n",
    "species_an = sa.SpeciesAnnotation(libsbml_fpath=one_biomd_fpath)\n",
    "model_itm = chebi_models[one_biomd]\n",
    "pred_species = species_an.predictAnnotationByName(inp_spec_list=list(model_itm.keys()))\n",
    "\n",
    "reader = libsbml.SBMLReader()\n",
    "document = reader.readSBML(one_biomd_fpath)\n",
    "model = document.getModel()"
   ]
  },
  {
   "cell_type": "code",
   "execution_count": 4,
   "id": "b0041c39",
   "metadata": {},
   "outputs": [
    {
     "data": {
      "text/plain": [
       "{'ATP': {'chebi': ['CHEBI:30616', 'CHEBI:15422'],\n",
       "  'match_score': [('CHEBI:30616', 0.51), ('CHEBI:15422', 0.34)],\n",
       "  'formula': ['C10N5O13P3']},\n",
       " 'ADP': {'chebi': ['CHEBI:73342', 'CHEBI:456216', 'CHEBI:16761'],\n",
       "  'match_score': [('CHEBI:73342', 0.39),\n",
       "   ('CHEBI:456216', 0.37),\n",
       "   ('CHEBI:16761', 0.34)],\n",
       "  'formula': ['C10N5O10P2', 'C12N3O6']},\n",
       " 'AMP': {'chebi': ['CHEBI:456215', 'CHEBI:28971', 'CHEBI:16027'],\n",
       "  'match_score': [('CHEBI:456215', 0.29),\n",
       "   ('CHEBI:28971', 0.23),\n",
       "   ('CHEBI:16027', 0.15)],\n",
       "  'formula': ['C10N5O7P', 'C16N3O4S']}}"
      ]
     },
     "execution_count": 4,
     "metadata": {},
     "output_type": "execute_result"
    }
   ],
   "source": [
    "pred_species"
   ]
  },
  {
   "cell_type": "code",
   "execution_count": 5,
   "id": "618c0c9f",
   "metadata": {},
   "outputs": [
    {
     "data": {
      "text/plain": [
       "['CHEBI:73342', 'CHEBI:456216', 'CHEBI:16761']"
      ]
     },
     "execution_count": 5,
     "metadata": {},
     "output_type": "execute_result"
    }
   ],
   "source": [
    "pred_species['ADP']['chebi']"
   ]
  },
  {
   "cell_type": "code",
   "execution_count": 7,
   "id": "fa6d9f7d",
   "metadata": {},
   "outputs": [
    {
     "name": "stdout",
     "output_type": "stream",
     "text": [
      "['https://www.ebi.ac.uk/chebi/searchId.do?chebiId=CHEBI%3ACHEBI:30616', 'https://www.ebi.ac.uk/chebi/searchId.do?chebiId=CHEBI%3ACHEBI:15422']\n",
      "['https://www.ebi.ac.uk/chebi/searchId.do?chebiId=CHEBI%3ACHEBI:73342', 'https://www.ebi.ac.uk/chebi/searchId.do?chebiId=CHEBI%3ACHEBI:456216', 'https://www.ebi.ac.uk/chebi/searchId.do?chebiId=CHEBI%3ACHEBI:16761']\n",
      "['https://www.ebi.ac.uk/chebi/searchId.do?chebiId=CHEBI%3ACHEBI:456215', 'https://www.ebi.ac.uk/chebi/searchId.do?chebiId=CHEBI%3ACHEBI:28971', 'https://www.ebi.ac.uk/chebi/searchId.do?chebiId=CHEBI%3ACHEBI:16027']\n"
     ]
    }
   ],
   "source": [
    "url_default = 'https://www.ebi.ac.uk/chebi/searchId.do?chebiId=CHEBI%3A'\n",
    "for one_k in pred_species.keys():\n",
    "  urls = [url_default+val for val in pred_species[one_k]['chebi']]\n",
    "  print(urls)"
   ]
  },
  {
   "cell_type": "code",
   "execution_count": 70,
   "id": "cceba173",
   "metadata": {},
   "outputs": [],
   "source": [
    "inp_str = 'glucose'\n",
    "# For now, choose the terms that are included in the CHEBI-formula mapping reference\n",
    "dist_dict_min = {one_k:np.min([editdistance.eval(inp_str.lower(), val) for val in chebi_low_synonyms[one_k]]) \\\n",
    "                 for one_k in chebi_low_synonyms.keys() if one_k in ref_shortened_chebi_to_formula.keys()}\n",
    "min_min_dist = np.min([dist_dict_min[val] for val in dist_dict_min.keys()])\n",
    "min_min_chebis = [one_k for one_k in dist_dict_min.keys() \\\n",
    "                  if dist_dict_min[one_k]==min_min_dist and one_k in ref_shortened_chebi_to_formula.keys()]\n",
    "# Results are sorted based on match_score (average of 1 - (editdistance/len_synonyms)\n",
    "res_tuple = [(one_chebi,\n",
    "              np.round(np.mean([1.0-editdistance.eval(inp_str.lower(), val)/len(val) \\\n",
    "                                for val in chebi_low_synonyms[one_chebi]]), 2)) \\\n",
    "             for one_chebi in min_min_chebis] \n",
    "res_tuple.sort(key=operator.itemgetter(1), reverse=True)\n",
    "one_result[cn.CHEBI] = res_tup\n",
    "min_min_formula = list(set([ref_shortened_chebi_to_formula[val] for val in min_min_chebis]))\n",
    "one_result[cn.FORMULA] = min_min_formula\n",
    "\n",
    "\n",
    "# one_match_score = 1 - min_min_dist/len(inp_str)\n",
    "# one_result[cn.MATCH_SCORE] = one_match_score\n",
    "\n",
    "# # predicted formula of the species\n",
    "# one_result[cn.CHEBI] = min_min_chebis\n",
    "# min_min_formula = list(set([ref_shortened_chebi_to_formula[val] for val in min_min_chebis]))\n",
    "# one_result[cn.FORMULA] = min_min_formula"
   ]
  },
  {
   "cell_type": "code",
   "execution_count": 47,
   "id": "810bef90",
   "metadata": {},
   "outputs": [
    {
     "data": {
      "text/plain": [
       "['CHEBI:4167', 'CHEBI:42758', 'CHEBI:17234']"
      ]
     },
     "execution_count": 47,
     "metadata": {},
     "output_type": "execute_result"
    }
   ],
   "source": [
    "min_min_chebis"
   ]
  },
  {
   "cell_type": "code",
   "execution_count": 73,
   "id": "743b709c",
   "metadata": {},
   "outputs": [
    {
     "name": "stdout",
     "output_type": "stream",
     "text": [
      "['glc-oh', 'd-glucose', 'd-glcp', 'grape sugar', 'dextrose', 'd-glc', 'd-glucopyranose', 'wurcs=2.0/1,1,0/[a2122h-1x_1-5]/1/', 'glucose']\n",
      "0.32933419158909355\n",
      "\n",
      "['aldehydo-d-gluco-hexose', 'd-glucose', 'd(+)-glucose', 'aldehydo-d-glucose', 'dextrose', 'd-glucose in linear form', '(2r,3s,4r,5r)-2,3,4,5,6-pentahydroxyhexanal', 'wurcs=2.0/1,1,0/[o2122h]/1/', 'glucose']\n",
      "0.4268444660816304\n",
      "\n",
      "['glukose', 'glc', 'gluco-hexose', 'dl-glucose', 'glucose']\n",
      "0.5614285714285714\n",
      "\n"
     ]
    }
   ],
   "source": [
    "for one_chebi in min_min_chebis:\n",
    "  print(chebi_low_synonyms[one_chebi])\n",
    "  print(np.mean([1.0-editdistance.eval(inp_str.lower(), val)/len(val) for val in chebi_low_synonyms[one_chebi]]))\n",
    "  print()"
   ]
  },
  {
   "cell_type": "code",
   "execution_count": 63,
   "id": "e49e22d3",
   "metadata": {},
   "outputs": [],
   "source": [
    "res_tup = [(one_chebi,\n",
    "            np.round(np.mean([1.0-editdistance.eval(inp_str.lower(), val)/len(val) for val in chebi_low_synonyms[one_chebi]]), 2)) \\\n",
    "          for one_chebi in min_min_chebis] "
   ]
  },
  {
   "cell_type": "code",
   "execution_count": 64,
   "id": "79608928",
   "metadata": {},
   "outputs": [
    {
     "data": {
      "text/plain": [
       "[('CHEBI:4167', 0.33), ('CHEBI:42758', 0.43), ('CHEBI:17234', 0.56)]"
      ]
     },
     "execution_count": 64,
     "metadata": {},
     "output_type": "execute_result"
    }
   ],
   "source": [
    "res_tup"
   ]
  },
  {
   "cell_type": "code",
   "execution_count": 65,
   "id": "d0bfe206",
   "metadata": {},
   "outputs": [],
   "source": [
    "res_tup.sort(key=operator.itemgetter(1), reverse=True)"
   ]
  },
  {
   "cell_type": "code",
   "execution_count": 66,
   "id": "70bd8f0e",
   "metadata": {},
   "outputs": [
    {
     "data": {
      "text/plain": [
       "[('CHEBI:17234', 0.56), ('CHEBI:42758', 0.43), ('CHEBI:4167', 0.33)]"
      ]
     },
     "execution_count": 66,
     "metadata": {},
     "output_type": "execute_result"
    }
   ],
   "source": [
    "res_tup"
   ]
  },
  {
   "cell_type": "code",
   "execution_count": null,
   "id": "1d412109",
   "metadata": {},
   "outputs": [],
   "source": []
  }
 ],
 "metadata": {
  "kernelspec": {
   "display_name": "pyo",
   "language": "python",
   "name": "pyo"
  },
  "language_info": {
   "codemirror_mode": {
    "name": "ipython",
    "version": 3
   },
   "file_extension": ".py",
   "mimetype": "text/x-python",
   "name": "python",
   "nbconvert_exporter": "python",
   "pygments_lexer": "ipython3",
   "version": "3.8.8"
  }
 },
 "nbformat": 4,
 "nbformat_minor": 5
}
