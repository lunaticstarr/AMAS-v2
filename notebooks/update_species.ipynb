{
 "cells": [
  {
   "cell_type": "code",
   "execution_count": 1,
   "id": "c5cf979a",
   "metadata": {},
   "outputs": [],
   "source": [
    "# Update species_annotation, so that result returns sorted, CHEBI candidates & match score"
   ]
  },
  {
   "cell_type": "code",
   "execution_count": 1,
   "id": "bd059b22",
   "metadata": {},
   "outputs": [],
   "source": [
    "import editdistance\n",
    "import libsbml\n",
    "import numpy as np\n",
    "import operator\n",
    "import os\n",
    "import pickle\n",
    "import pandas as pd\n",
    "import sys\n",
    "import matplotlib.pyplot as plt\n",
    "%matplotlib inline  \n",
    "\n",
    "BIOMD_12 = 'BIOMD0000000012.xml'\n",
    "BASE_DIR = '/Users/woosubs/Desktop/AutomateAnnotation/'\n",
    "DATA_DIR = os.path.join(BASE_DIR, \"DATA\")\n",
    "ALGO_DIR = os.path.join(DATA_DIR, \"algo\")\n",
    "CHEBI_DIR = os.path.join(DATA_DIR, \"chebi\")\n",
    "RHEA_DIR = os.path.join(DATA_DIR, \"rhea\")\n",
    "BIOMODEL_DIR = os.path.join(DATA_DIR, \"biomodels/curated_biomodels_31mar2021\")\n",
    "BIGG_DIR = '/Users/woosubs/Desktop/AutomateAnnotation/DATA/bigg'\n",
    "ecoli_fpath = os.path.join(BIGG_DIR, \"e_coli_core.xml\")\n",
    "\n",
    "PROJ_DIR = os.path.join(os.getcwd(), os.pardir)\n",
    "AMAS_DIR = os.path.join(PROJ_DIR, \"AMAS\")\n",
    "sys.path.append(PROJ_DIR)\n",
    "\n",
    "from AMAS import species_annotation as sa\n",
    "from AMAS import reaction_annotation as ra\n",
    "from AMAS import constants as cn\n",
    "from AMAS import iterator as it\n",
    "from AMAS import tools"
   ]
  },
  {
   "cell_type": "code",
   "execution_count": 2,
   "id": "cd339e5c",
   "metadata": {},
   "outputs": [],
   "source": [
    "prev_notebook_dir = '/Users/woosubs/Desktop/AutomateAnnotation/AnnotationRecommender/annotation_recommender/notebook'\n",
    "with open(os.path.join(prev_notebook_dir, 'chebi_models.pickle'), 'rb') as handle:\n",
    "  chebi_models = pickle.load(handle)\n",
    "\n",
    "with open(os.path.join(cn.REF_DIR, 'chebi_shortened_formula_30apr2022.pickle'), 'rb') as f:\n",
    "  ref_shortened_chebi_to_formula = pickle.load(f)\n",
    "with open(os.path.join(cn.REF_DIR, 'chebi_low_synonyms.pickle'), 'rb') as f:\n",
    "  chebi_low_synonyms = pickle.load(f)"
   ]
  },
  {
   "cell_type": "code",
   "execution_count": 3,
   "id": "7eec3712",
   "metadata": {},
   "outputs": [
    {
     "name": "stdout",
     "output_type": "stream",
     "text": [
      "{'name_used': 'ATP', 'chebi': ['CHEBI:15422', 'CHEBI:30616'], 'match_score': [('CHEBI:15422', 1.0), ('CHEBI:30616', 1.0)], 'formula': ['C10N5O13P3']}\n"
     ]
    }
   ],
   "source": [
    "one_biomd = 'BIOMD0000000634.xml'\n",
    "one_biomd_fpath = os.path.join(BIOMODEL_DIR, one_biomd)\n",
    "species_an = sa.SpeciesAnnotation(libsbml_fpath=one_biomd_fpath)\n",
    "model_itm = chebi_models[one_biomd]\n",
    "pred_one_spec = species_an.predictAnnotationByEditDistance('ATP')\n",
    "print(pred_one_spec)\n",
    "\n",
    "\n",
    "# pred_species = species_an.predictAnnotationByName(inp_spec_list=list(model_itm.keys()))\n",
    "\n",
    "# reader = libsbml.SBMLReader()\n",
    "# document = reader.readSBML(one_biomd_fpath)\n",
    "# model = document.getModel()"
   ]
  },
  {
   "cell_type": "code",
   "execution_count": 4,
   "id": "bfd1c9ab",
   "metadata": {},
   "outputs": [
    {
     "data": {
      "text/plain": [
       "1.0"
      ]
     },
     "execution_count": 4,
     "metadata": {},
     "output_type": "execute_result"
    }
   ],
   "source": [
    "species_an.evaluatePredictedSpeciesAnnotation(pred_one_spec)"
   ]
  },
  {
   "cell_type": "code",
   "execution_count": 10,
   "id": "efe60b4d",
   "metadata": {},
   "outputs": [
    {
     "name": "stdout",
     "output_type": "stream",
     "text": [
      "{'name_used': 'M_atp_c', 'chebi': ['CHEBI:147284'], 'match_score': [('CHEBI:147284', 0.4)], 'formula': ['C20N2OS.ClH']}\n",
      "0.07957664046479836\n",
      "************************************\n",
      "{'name_used': 'M_fdp_c', 'chebi': ['CHEBI:132167', 'CHEBI:9437', 'CHEBI:137272', 'CHEBI:147284', 'CHEBI:183049', 'CHEBI:53005', 'CHEBI:75949', 'CHEBI:87194', 'CHEBI:59414', 'CHEBI:73629', 'CHEBI:38848', 'CHEBI:40265', 'CHEBI:53074', 'CHEBI:75062', 'CHEBI:37917', 'CHEBI:34756', 'CHEBI:34467'], 'match_score': [('CHEBI:132167', 0.33), ('CHEBI:9437', 0.33), ('CHEBI:137272', 0.29), ('CHEBI:147284', 0.2), ('CHEBI:183049', 0.2), ('CHEBI:53005', 0.2), ('CHEBI:75949', 0.2), ('CHEBI:87194', 0.2), ('CHEBI:59414', 0.18), ('CHEBI:73629', 0.18), ('CHEBI:38848', 0.12), ('CHEBI:40265', 0.12), ('CHEBI:53074', 0.12), ('CHEBI:75062', 0.11), ('CHEBI:37917', 0.1), ('CHEBI:34756', 0.09), ('CHEBI:34467', 0.07)], 'formula': ['C40NO8P', 'C16N3O6S', 'C20N2OS.ClH', 'C10MgN5O10P2', 'C109N16O22S', 'C44N4O4', 'C8ClN7O', 'C19N4O11', 'C10F18', 'C38NO8P', 'C62NO26P2', 'C15O', 'C21O8P', 'C18N6O13P2', 'C8NO2', 'C21N4O5S', 'C13NO2']}\n",
      "0.14453846153846153\n"
     ]
    }
   ],
   "source": [
    "M_FDP_C = 'M_fdp_c'\n",
    "M_ATP_C = 'M_atp_c'\n",
    "species_an = sa.SpeciesAnnotation(libsbml_fpath=ecoli_fpath)\n",
    "pred_spec = species_an.predictAnnotationByEditDistance(M_ATP_C)\n",
    "print(pred_spec)\n",
    "pred_score = species_an.evaluatePredictedSpeciesAnnotation(pred_result=pred_spec)\n",
    "print(pred_score)\n",
    "print(\"************************************\")\n",
    "pred_spec = species_an.predictAnnotationByEditDistance(M_FDP_C)\n",
    "print(pred_spec)\n",
    "pred_score = species_an.evaluatePredictedSpeciesAnnotation(pred_result=pred_spec)\n",
    "print(pred_score)"
   ]
  },
  {
   "cell_type": "code",
   "execution_count": 7,
   "id": "45d474cc",
   "metadata": {},
   "outputs": [
    {
     "data": {
      "text/plain": [
       "1"
      ]
     },
     "execution_count": 7,
     "metadata": {},
     "output_type": "execute_result"
    }
   ],
   "source": [
    "len(pred_spec['chebi'])"
   ]
  },
  {
   "cell_type": "code",
   "execution_count": null,
   "id": "f1b1ab0d",
   "metadata": {},
   "outputs": [],
   "source": []
  },
  {
   "cell_type": "code",
   "execution_count": 13,
   "id": "726bb3b7",
   "metadata": {},
   "outputs": [],
   "source": [
    "# Check tests\n",
    "E_COLI_PATH = os.path.join(BIGG_DIR, 'e_coli_core.xml')\n",
    "BIOMD_248_PATH = os.path.join(BIOMODEL_DIR, 'BIOMD0000000248.xml')\n",
    "# IDs of species\n",
    "M_FDP_C = 'M_fdp_c'\n",
    "M_ATP_C = 'M_atp_c'\n",
    "ONESET_SPECIES_IDS = [M_FDP_C, M_ATP_C]"
   ]
  },
  {
   "cell_type": "code",
   "execution_count": 14,
   "id": "62511a97",
   "metadata": {},
   "outputs": [],
   "source": [
    "spec_cl = sa.SpeciesAnnotation(libsbml_fpath = E_COLI_PATH)"
   ]
  },
  {
   "cell_type": "code",
   "execution_count": 20,
   "id": "d2f55e8e",
   "metadata": {},
   "outputs": [],
   "source": [
    "one_spec_name = spec_cl.model.getSpecies(M_FDP_C).name.lower()\n",
    "one_pred_spec = spec_cl.predictAnnotationByEditDistance(inp_str=one_spec_name)"
   ]
  },
  {
   "cell_type": "code",
   "execution_count": 21,
   "id": "9e63ad92",
   "metadata": {},
   "outputs": [
    {
     "data": {
      "text/plain": [
       "{'chebi': ['CHEBI:16905', 'CHEBI:49299'],\n",
       " 'match_score': [('CHEBI:16905', 1.0), ('CHEBI:49299', 1.0)],\n",
       " 'formula': ['C6O12P2']}"
      ]
     },
     "execution_count": 21,
     "metadata": {},
     "output_type": "execute_result"
    }
   ],
   "source": [
    "one_pred_spec"
   ]
  },
  {
   "cell_type": "code",
   "execution_count": 25,
   "id": "3c356f43",
   "metadata": {},
   "outputs": [
    {
     "data": {
      "text/plain": [
       "{'M_fdp_c': {'chebi': ['CHEBI:16905', 'CHEBI:49299'],\n",
       "  'match_score': [('CHEBI:16905', 1.0), ('CHEBI:49299', 1.0)],\n",
       "  'formula': ['C6O12P2']},\n",
       " 'M_atp_c': {'chebi': ['CHEBI:182955', 'CHEBI:135736'],\n",
       "  'match_score': [('CHEBI:182955', 0.23), ('CHEBI:135736', 0.06)],\n",
       "  'formula': ['C18ClN2O6S2', 'C20O4']}}"
      ]
     },
     "execution_count": 25,
     "metadata": {},
     "output_type": "execute_result"
    }
   ],
   "source": [
    "one_pred_spec = spec_cl.predictAnnotationByName(inp_spec_list=ONESET_SPECIES_IDS)\n",
    "one_pred_spec"
   ]
  },
  {
   "cell_type": "code",
   "execution_count": 26,
   "id": "f1b270d4",
   "metadata": {},
   "outputs": [
    {
     "data": {
      "text/plain": [
       "{'M_fdp_c': 1.0, 'M_atp_c': 0.038285714285714284}"
      ]
     },
     "execution_count": 26,
     "metadata": {},
     "output_type": "execute_result"
    }
   ],
   "source": [
    "spec_cl.evaluatePredictedSpeciesAnnotation(ONESET_SPECIES_IDS)"
   ]
  },
  {
   "cell_type": "code",
   "execution_count": null,
   "id": "62438542",
   "metadata": {},
   "outputs": [],
   "source": []
  }
 ],
 "metadata": {
  "kernelspec": {
   "display_name": "pyo",
   "language": "python",
   "name": "pyo"
  },
  "language_info": {
   "codemirror_mode": {
    "name": "ipython",
    "version": 3
   },
   "file_extension": ".py",
   "mimetype": "text/x-python",
   "name": "python",
   "nbconvert_exporter": "python",
   "pygments_lexer": "ipython3",
   "version": "3.8.8"
  }
 },
 "nbformat": 4,
 "nbformat_minor": 5
}
