{
 "cells": [
  {
   "cell_type": "code",
   "execution_count": 1,
   "id": "d7a92959",
   "metadata": {},
   "outputs": [],
   "source": [
    "# Update species_annotation, so that result returns sorted, CHEBI candidates & match score"
   ]
  },
  {
   "cell_type": "code",
   "execution_count": 2,
   "id": "d1de6ab4",
   "metadata": {},
   "outputs": [],
   "source": [
    "import editdistance\n",
    "import libsbml\n",
    "import numpy as np\n",
    "import operator\n",
    "import os\n",
    "import pickle\n",
    "import pandas as pd\n",
    "import sys\n",
    "import matplotlib.pyplot as plt\n",
    "%matplotlib inline  \n",
    "\n",
    "BIOMD_12 = 'BIOMD0000000012.xml'\n",
    "BASE_DIR = '/Users/woosubs/Desktop/AutomateAnnotation/'\n",
    "DATA_DIR = os.path.join(BASE_DIR, \"DATA\")\n",
    "ALGO_DIR = os.path.join(DATA_DIR, \"algo\")\n",
    "CHEBI_DIR = os.path.join(DATA_DIR, \"chebi\")\n",
    "RHEA_DIR = os.path.join(DATA_DIR, \"rhea\")\n",
    "BIOMODEL_DIR = os.path.join(DATA_DIR, \"biomodels/curated_biomodels_31mar2021\")\n",
    "BIGG_DIR = '/Users/woosubs/Desktop/AutomateAnnotation/DATA/bigg'\n",
    "ecoli_fpath = os.path.join(BIGG_DIR, \"e_coli_core.xml\")\n",
    "\n",
    "PROJ_DIR = os.path.join(os.getcwd(), os.pardir)\n",
    "AMAS_DIR = os.path.join(PROJ_DIR, \"AMAS\")\n",
    "sys.path.append(PROJ_DIR)\n",
    "\n",
    "from AMAS import species_annotation as sa\n",
    "from AMAS import reaction_annotation as ra\n",
    "from AMAS import constants as cn\n",
    "from AMAS import iterator as it\n",
    "from AMAS import tools"
   ]
  },
  {
   "cell_type": "code",
   "execution_count": 3,
   "id": "fb2e3b54",
   "metadata": {},
   "outputs": [],
   "source": [
    "prev_notebook_dir = '/Users/woosubs/Desktop/AutomateAnnotation/AnnotationRecommender/annotation_recommender/notebook'\n",
    "with open(os.path.join(prev_notebook_dir, 'chebi_models.pickle'), 'rb') as handle:\n",
    "  chebi_models = pickle.load(handle)\n",
    "\n",
    "with open(os.path.join(cn.REF_DIR, 'chebi_shortened_formula_30apr2022.pickle'), 'rb') as f:\n",
    "  ref_shortened_chebi_to_formula = pickle.load(f)\n",
    "with open(os.path.join(cn.REF_DIR, 'chebi_low_synonyms.pickle'), 'rb') as f:\n",
    "  chebi_low_synonyms = pickle.load(f)\n",
    "\n",
    "one_biomd = 'BIOMD0000000634.xml'\n",
    "one_biomd_fpath = os.path.join(BIOMODEL_DIR, one_biomd)\n",
    "species_an = sa.SpeciesAnnotation(libsbml_fpath=one_biomd_fpath)\n",
    "model_itm = chebi_models[one_biomd]\n",
    "pred_species = species_an.predictAnnotationByName(inp_spec_list=list(model_itm.keys()))\n",
    "\n",
    "reader = libsbml.SBMLReader()\n",
    "document = reader.readSBML(one_biomd_fpath)\n",
    "model = document.getModel()"
   ]
  },
  {
   "cell_type": "code",
   "execution_count": 4,
   "id": "4308b781",
   "metadata": {},
   "outputs": [
    {
     "data": {
      "text/plain": [
       "{'ATP': [('CHEBI:15422', 1.0), ('CHEBI:30616', 1.0)],\n",
       " 'ADP': [('CHEBI:16761', 1.0), ('CHEBI:456216', 1.0), ('CHEBI:73342', 1.0)],\n",
       " 'AMP': [('CHEBI:16027', 1.0), ('CHEBI:28971', 1.0), ('CHEBI:456215', 1.0)]}"
      ]
     },
     "execution_count": 4,
     "metadata": {},
     "output_type": "execute_result"
    }
   ],
   "source": [
    "species_an.match_score"
   ]
  },
  {
   "cell_type": "code",
   "execution_count": 5,
   "id": "d74927df",
   "metadata": {},
   "outputs": [
    {
     "data": {
      "text/plain": [
       "['CHEBI:16761', 'CHEBI:456216', 'CHEBI:73342']"
      ]
     },
     "execution_count": 5,
     "metadata": {},
     "output_type": "execute_result"
    }
   ],
   "source": [
    "pred_species['ADP']['chebi']"
   ]
  },
  {
   "cell_type": "code",
   "execution_count": 6,
   "id": "0cf80f9e",
   "metadata": {},
   "outputs": [
    {
     "name": "stdout",
     "output_type": "stream",
     "text": [
      "['https://www.ebi.ac.uk/chebi/searchId.do?chebiId=CHEBI%3ACHEBI:15422', 'https://www.ebi.ac.uk/chebi/searchId.do?chebiId=CHEBI%3ACHEBI:30616']\n",
      "['https://www.ebi.ac.uk/chebi/searchId.do?chebiId=CHEBI%3ACHEBI:16761', 'https://www.ebi.ac.uk/chebi/searchId.do?chebiId=CHEBI%3ACHEBI:456216', 'https://www.ebi.ac.uk/chebi/searchId.do?chebiId=CHEBI%3ACHEBI:73342']\n",
      "['https://www.ebi.ac.uk/chebi/searchId.do?chebiId=CHEBI%3ACHEBI:16027', 'https://www.ebi.ac.uk/chebi/searchId.do?chebiId=CHEBI%3ACHEBI:28971', 'https://www.ebi.ac.uk/chebi/searchId.do?chebiId=CHEBI%3ACHEBI:456215']\n"
     ]
    }
   ],
   "source": [
    "# url_default = 'https://www.ebi.ac.uk/chebi/searchId.do?chebiId=CHEBI%3A'\n",
    "# for one_k in pred_species.keys():\n",
    "#   urls = [url_default+val for val in pred_species[one_k]['chebi']]\n",
    "#   print(urls)"
   ]
  },
  {
   "cell_type": "code",
   "execution_count": null,
   "id": "11287378",
   "metadata": {},
   "outputs": [],
   "source": []
  },
  {
   "cell_type": "code",
   "execution_count": 13,
   "id": "4ccb7a1e",
   "metadata": {},
   "outputs": [],
   "source": [
    "# Check tests\n",
    "E_COLI_PATH = os.path.join(BIGG_DIR, 'e_coli_core.xml')\n",
    "BIOMD_248_PATH = os.path.join(BIOMODEL_DIR, 'BIOMD0000000248.xml')\n",
    "# IDs of species\n",
    "M_FDP_C = 'M_fdp_c'\n",
    "M_ATP_C = 'M_atp_c'\n",
    "ONESET_SPECIES_IDS = [M_FDP_C, M_ATP_C]"
   ]
  },
  {
   "cell_type": "code",
   "execution_count": 14,
   "id": "ce1df9b4",
   "metadata": {},
   "outputs": [],
   "source": [
    "spec_cl = sa.SpeciesAnnotation(libsbml_fpath = E_COLI_PATH)"
   ]
  },
  {
   "cell_type": "code",
   "execution_count": 20,
   "id": "e2894fde",
   "metadata": {},
   "outputs": [],
   "source": [
    "one_spec_name = spec_cl.model.getSpecies(M_FDP_C).name.lower()\n",
    "one_pred_spec = spec_cl.predictAnnotationByEditDistance(inp_str=one_spec_name)"
   ]
  },
  {
   "cell_type": "code",
   "execution_count": 21,
   "id": "bda848e0",
   "metadata": {},
   "outputs": [
    {
     "data": {
      "text/plain": [
       "{'chebi': ['CHEBI:16905', 'CHEBI:49299'],\n",
       " 'match_score': [('CHEBI:16905', 1.0), ('CHEBI:49299', 1.0)],\n",
       " 'formula': ['C6O12P2']}"
      ]
     },
     "execution_count": 21,
     "metadata": {},
     "output_type": "execute_result"
    }
   ],
   "source": [
    "one_pred_spec"
   ]
  },
  {
   "cell_type": "code",
   "execution_count": 25,
   "id": "0415e619",
   "metadata": {},
   "outputs": [
    {
     "data": {
      "text/plain": [
       "{'M_fdp_c': {'chebi': ['CHEBI:16905', 'CHEBI:49299'],\n",
       "  'match_score': [('CHEBI:16905', 1.0), ('CHEBI:49299', 1.0)],\n",
       "  'formula': ['C6O12P2']},\n",
       " 'M_atp_c': {'chebi': ['CHEBI:182955', 'CHEBI:135736'],\n",
       "  'match_score': [('CHEBI:182955', 0.23), ('CHEBI:135736', 0.06)],\n",
       "  'formula': ['C18ClN2O6S2', 'C20O4']}}"
      ]
     },
     "execution_count": 25,
     "metadata": {},
     "output_type": "execute_result"
    }
   ],
   "source": [
    "one_pred_spec = spec_cl.predictAnnotationByName(inp_spec_list=ONESET_SPECIES_IDS)\n",
    "one_pred_spec"
   ]
  },
  {
   "cell_type": "code",
   "execution_count": 26,
   "id": "7722136d",
   "metadata": {},
   "outputs": [
    {
     "data": {
      "text/plain": [
       "{'M_fdp_c': 1.0, 'M_atp_c': 0.038285714285714284}"
      ]
     },
     "execution_count": 26,
     "metadata": {},
     "output_type": "execute_result"
    }
   ],
   "source": [
    "spec_cl.evaluatePredictedSpeciesAnnotation(ONESET_SPECIES_IDS)"
   ]
  },
  {
   "cell_type": "code",
   "execution_count": null,
   "id": "b4c1c565",
   "metadata": {},
   "outputs": [],
   "source": []
  }
 ],
 "metadata": {
  "kernelspec": {
   "display_name": "pyo",
   "language": "python",
   "name": "pyo"
  },
  "language_info": {
   "codemirror_mode": {
    "name": "ipython",
    "version": 3
   },
   "file_extension": ".py",
   "mimetype": "text/x-python",
   "name": "python",
   "nbconvert_exporter": "python",
   "pygments_lexer": "ipython3",
   "version": "3.8.8"
  }
 },
 "nbformat": 4,
 "nbformat_minor": 5
}
