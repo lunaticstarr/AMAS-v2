{
 "cells": [
  {
   "cell_type": "code",
   "execution_count": 1,
   "id": "f4d8cafc-dd78-4a10-8f1c-02337e8acab7",
   "metadata": {},
   "outputs": [],
   "source": [
    "# This cell will become unncessary once the package is installed;\n",
    "# User will only need 'import AMAS' only. \n",
    "import libsbml\n",
    "import os\n",
    "import sys\n",
    "\n",
    "PROJ_DIR = os.path.join(os.getcwd(), os.pardir)\n",
    "AMAS_DIR = os.path.join(PROJ_DIR, \"AMAS\")\n",
    "sys.path.append(PROJ_DIR)"
   ]
  },
  {
   "cell_type": "code",
   "execution_count": 2,
   "id": "cda488fd-1ebc-4714-accc-9814c280bff4",
   "metadata": {},
   "outputs": [],
   "source": [
    "import AMAS\n",
    "BIOMD_190_PATH = os.path.join(cn.TEST_DIR, 'BIOMD0000000190.xml')\n",
    "recom = AMAS.Recommender(libsbml_fpath=BIOMD_190_PATH)"
   ]
  },
  {
   "cell_type": "code",
   "execution_count": 4,
   "id": "92cc02b3-2589-4483-8101-60430d60a587",
   "metadata": {},
   "outputs": [
    {
     "data": {
      "text/plain": [
       "['AcCoA', 'CoA']"
      ]
     },
     "execution_count": 4,
     "metadata": {},
     "output_type": "execute_result"
    }
   ],
   "source": [
    "recom.getSpeciesIDs(pattern='*CoA')"
   ]
  },
  {
   "cell_type": "code",
   "execution_count": 5,
   "id": "ad101ce1-26bf-4bfc-89f5-fd20be0b450a",
   "metadata": {},
   "outputs": [
    {
     "name": "stdout",
     "output_type": "stream",
     "text": [
      "           AcCoA (credibility score: 0.972)           \n",
      "+----+--------------+---------------+----------------+\n",
      "|    | annotation   |   match score | label          |\n",
      "+====+==============+===============+================+\n",
      "|  1 | CHEBI:15351  |         1.000 | acetyl-CoA     |\n",
      "+----+--------------+---------------+----------------+\n",
      "|  2 | CHEBI:57288  |         1.000 | acetyl-CoA(4-) |\n",
      "+----+--------------+---------------+----------------+\n",
      "\n"
     ]
    }
   ],
   "source": [
    "recom.recommendSpecies('AcCoA')"
   ]
  },
  {
   "cell_type": "code",
   "execution_count": 6,
   "id": "f3b30db3-91a5-42ed-8655-c8d903039630",
   "metadata": {},
   "outputs": [
    {
     "name": "stdout",
     "output_type": "stream",
     "text": [
      "Selection updated.\n"
     ]
    }
   ],
   "source": [
    "recom.selectAnnotation(('AcCoA', 1))"
   ]
  },
  {
   "cell_type": "code",
   "execution_count": 7,
   "id": "deeee09a-83db-4744-ae79-a5147bcc353b",
   "metadata": {},
   "outputs": [
    {
     "name": "stdout",
     "output_type": "stream",
     "text": [
      "         AcCoA (credibility score: 0.972)         \n",
      "+----+--------------+---------------+------------+\n",
      "|    | annotation   |   match score | label      |\n",
      "+====+==============+===============+============+\n",
      "|  1 | CHEBI:15351  |         1.000 | acetyl-CoA |\n",
      "+----+--------------+---------------+------------+\n",
      "\n"
     ]
    }
   ],
   "source": [
    "recom.displaySelection()"
   ]
  },
  {
   "cell_type": "code",
   "execution_count": 13,
   "id": "fb31d017-86e6-4734-bad2-9798ca783efd",
   "metadata": {},
   "outputs": [
    {
     "name": "stdout",
     "output_type": "stream",
     "text": [
      "                                        ODC (credibility score: 0.817)                                       \n",
      "+----+--------------+---------------+-----------------------------------------------------------------------+\n",
      "|    | annotation   |   match score | label                                                                 |\n",
      "+====+==============+===============+=======================================================================+\n",
      "|  1 | RHEA:28827   |         1.000 | L-ornithine(out) + putrescine(in) = L-ornithine(in) + putrescine(out) |\n",
      "+----+--------------+---------------+-----------------------------------------------------------------------+\n",
      "|  2 | RHEA:22964   |         0.500 | ornithine decarboxylase activity                                      |\n",
      "+----+--------------+---------------+-----------------------------------------------------------------------+\n",
      "|  3 | RHEA:59048   |         0.500 | D-ornithine + H(+) = CO2 + putrescine                                 |\n",
      "+----+--------------+---------------+-----------------------------------------------------------------------+\n",
      "\n"
     ]
    }
   ],
   "source": [
    "recom.recommendReaction('ODC')"
   ]
  },
  {
   "cell_type": "code",
   "execution_count": 14,
   "id": "36db077d-ec73-4a3d-abb6-7a20f3c6dc0f",
   "metadata": {},
   "outputs": [
    {
     "name": "stdout",
     "output_type": "stream",
     "text": [
      "Selection updated.\n"
     ]
    }
   ],
   "source": [
    "recom.selectAnnotation(('ODC', 1))"
   ]
  },
  {
   "cell_type": "code",
   "execution_count": 15,
   "id": "aa6d0310-8c0d-4512-bbfe-9029408a5fb5",
   "metadata": {},
   "outputs": [
    {
     "name": "stdout",
     "output_type": "stream",
     "text": [
      "Annotation of AcCoA saved.\n",
      "Annotation of ODC saved.\n"
     ]
    }
   ],
   "source": [
    "recom.saveToFile('updated_model.xml')"
   ]
  },
  {
   "cell_type": "code",
   "execution_count": null,
   "id": "25488174-c9b1-401b-ba28-999613f93493",
   "metadata": {},
   "outputs": [],
   "source": [
    "specs2use = recom.getSpeciesIDs(pattern='*CoA', regex=False)\n",
    "specs2use"
   ]
  },
  {
   "cell_type": "code",
   "execution_count": null,
   "id": "edc6a455-96dd-4dab-990b-3d8a668aee5a",
   "metadata": {},
   "outputs": [],
   "source": [
    "recom.recommendSpecies(specs2use)"
   ]
  },
  {
   "cell_type": "code",
   "execution_count": null,
   "id": "c15c037c-68a0-443d-b552-ba2b3d803834",
   "metadata": {},
   "outputs": [],
   "source": [
    "recom.selectAnnotation(('AcCoA', [1,2]))"
   ]
  },
  {
   "cell_type": "code",
   "execution_count": null,
   "id": "00202523-d288-4c0b-9053-4ee206ff862d",
   "metadata": {},
   "outputs": [],
   "source": [
    "recom.selectAnnotation(('CoA', 3))"
   ]
  },
  {
   "cell_type": "code",
   "execution_count": null,
   "id": "e860a7ad-6c8f-421f-a764-5f102be709c4",
   "metadata": {},
   "outputs": [],
   "source": [
    "recom.getReactionIDs()"
   ]
  },
  {
   "cell_type": "code",
   "execution_count": null,
   "id": "e72d50c7-9376-48cd-ad69-eaaeffc7f762",
   "metadata": {},
   "outputs": [],
   "source": [
    "recom.recommendReaction('ODC')"
   ]
  },
  {
   "cell_type": "code",
   "execution_count": null,
   "id": "c3f8e74e-5494-4b4b-89d7-b34e447850fc",
   "metadata": {},
   "outputs": [],
   "source": [
    "recom.selectAnnotation(('ODC', 1))"
   ]
  },
  {
   "cell_type": "code",
   "execution_count": null,
   "id": "715076db-526d-4803-9537-0dc46abbd5b1",
   "metadata": {},
   "outputs": [],
   "source": []
  },
  {
   "cell_type": "code",
   "execution_count": null,
   "id": "b95b2bfc-35f6-41d5-b0a5-a375e54eee35",
   "metadata": {},
   "outputs": [],
   "source": [
    "recom.displaySelection()"
   ]
  },
  {
   "cell_type": "code",
   "execution_count": 17,
   "id": "a2e7f5dc-ddeb-4f8c-bb58-fc0a805d700d",
   "metadata": {},
   "outputs": [
    {
     "name": "stdout",
     "output_type": "stream",
     "text": [
      "Annotation of AcCoA saved.\n",
      "Annotation of ODC saved.\n"
     ]
    }
   ],
   "source": [
    "recom.saveToFile('updated_model.xml')"
   ]
  },
  {
   "cell_type": "code",
   "execution_count": 18,
   "id": "3f01edc5-3fc9-45ce-a367-8ec1bac9d057",
   "metadata": {},
   "outputs": [],
   "source": [
    "reader = libsbml.SBMLReader()\n",
    "document = reader.readSBML(\"updated_model.xml\")\n",
    "model = document.getModel()"
   ]
  },
  {
   "cell_type": "code",
   "execution_count": 19,
   "id": "2bbdfac7-21a8-4c01-ad4e-96e0b5875411",
   "metadata": {},
   "outputs": [
    {
     "name": "stdout",
     "output_type": "stream",
     "text": [
      "<annotation>\n",
      "  <rdf:RDF xmlns:rdf=\"http://www.w3.org/1999/02/22-rdf-syntax-ns#\" xmlns:dcterms=\"http://purl.org/dc/terms/\" xmlns:vcard4=\"http://www.w3.org/2006/vcard/ns#\" xmlns:bqbiol=\"http://biomodels.net/biology-qualifiers/\" xmlns:bqmodel=\"http://biomodels.net/model-qualifiers/\">\n",
      "    <rdf:Description rdf:about=\"#metaid_0000062\">\n",
      "      <bqbiol:is>\n",
      "        <rdf:Bag>\n",
      "          <rdf:li rdf:resource=\"http://identifiers.org/rhea/RHEA:28827\"/>\n",
      "        </rdf:Bag>\n",
      "      </bqbiol:is>\n",
      "    </rdf:Description>\n",
      "    <rdf:Description rdf:about=\"#metaid_0000062\">\n",
      "      <bqbiol:is>\n",
      "        <rdf:Bag>\n",
      "          <rdf:li rdf:resource=\"http://identifiers.org/rhea/RHEA:28827\"/>\n",
      "          <bqbiol:hasProperty>\n",
      "            <rdf:Bag>\n",
      "              <rdf:li rdf:resource=\"http://reproduciblebiomodels.org/amas/v1/by_component/1.00\"/>\n",
      "            </rdf:Bag>\n",
      "          </bqbiol:hasProperty>\n",
      "        </rdf:Bag>\n",
      "      </bqbiol:is>\n",
      "    </rdf:Description>\n",
      "  </rdf:RDF>\n",
      "</annotation>\n"
     ]
    }
   ],
   "source": [
    "print(model.getReaction('ODC').getAnnotationString())"
   ]
  },
  {
   "cell_type": "code",
   "execution_count": 20,
   "id": "ac23344f-c6e5-45d0-a8c4-7a3d289d57c6",
   "metadata": {},
   "outputs": [
    {
     "data": {
      "text/plain": [
       "'metaid_0000062'"
      ]
     },
     "execution_count": 20,
     "metadata": {},
     "output_type": "execute_result"
    }
   ],
   "source": [
    "model.getReaction('ODC').meta_id"
   ]
  },
  {
   "cell_type": "code",
   "execution_count": null,
   "id": "9dfb7d8a-8447-44a3-9a42-631e7bb06466",
   "metadata": {},
   "outputs": [],
   "source": []
  }
 ],
 "metadata": {
  "kernelspec": {
   "display_name": "Python 3 (ipykernel)",
   "language": "python",
   "name": "python3"
  },
  "language_info": {
   "codemirror_mode": {
    "name": "ipython",
    "version": 3
   },
   "file_extension": ".py",
   "mimetype": "text/x-python",
   "name": "python",
   "nbconvert_exporter": "python",
   "pygments_lexer": "ipython3",
   "version": "3.9.15"
  }
 },
 "nbformat": 4,
 "nbformat_minor": 5
}
