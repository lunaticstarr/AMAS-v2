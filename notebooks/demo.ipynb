{
 "cells": [
  {
   "cell_type": "code",
   "execution_count": 1,
   "id": "f4d8cafc-dd78-4a10-8f1c-02337e8acab7",
   "metadata": {},
   "outputs": [],
   "source": [
    "# This cell will become unncessary once the package is installed;\n",
    "# User will only need 'import AMAS' only. \n",
    "import fnmatch\n",
    "import os\n",
    "import re\n",
    "import sys\n",
    "\n",
    "PROJ_DIR = os.path.join(os.getcwd(), os.pardir)\n",
    "AMAS_DIR = os.path.join(PROJ_DIR, \"AMAS\")\n",
    "sys.path.append(PROJ_DIR)\n",
    "import AMAS\n",
    "from AMAS import constants as cn"
   ]
  },
  {
   "cell_type": "code",
   "execution_count": 2,
   "id": "b774bfbf-5e5f-4fdc-aefd-6da0415297bb",
   "metadata": {},
   "outputs": [],
   "source": [
    "E_COLI_PATH = '/Users/woosubs/Desktop/AutomateAnnotation/AMAS/AMAS/../tests/e_coli_core.xml'\n",
    "BIOMD_190_PATH = os.path.join(cn.TEST_DIR, 'BIOMD0000000190.xml')"
   ]
  },
  {
   "cell_type": "code",
   "execution_count": 8,
   "id": "cda488fd-1ebc-4714-accc-9814c280bff4",
   "metadata": {},
   "outputs": [
    {
     "data": {
      "text/plain": [
       "['AcCoA', 'CoA']"
      ]
     },
     "execution_count": 8,
     "metadata": {},
     "output_type": "execute_result"
    }
   ],
   "source": [
    "recom = AMAS.Recommender(libsbml_fpath=BIOMD_190_PATH)\n",
    "specs2use = recom.getSpeciesIDs(pattern='*CoA', regex=False)\n",
    "specs2use"
   ]
  },
  {
   "cell_type": "code",
   "execution_count": 11,
   "id": "edc6a455-96dd-4dab-990b-3d8a668aee5a",
   "metadata": {},
   "outputs": [
    {
     "data": {
      "text/plain": [
       "['SAM', 'A', 'P', 'S', 'D', 'aS', 'aD', 'Met', 'ORN', 'AcCoA', 'CoA']"
      ]
     },
     "execution_count": 11,
     "metadata": {},
     "output_type": "execute_result"
    }
   ],
   "source": [
    "recom.getSpeciesIDs(pattern='*')"
   ]
  },
  {
   "cell_type": "code",
   "execution_count": 5,
   "id": "a2e7f5dc-ddeb-4f8c-bb58-fc0a805d700d",
   "metadata": {},
   "outputs": [
    {
     "data": {
      "text/plain": [
       "['VCoA', 'VacCoA']"
      ]
     },
     "execution_count": 5,
     "metadata": {},
     "output_type": "execute_result"
    }
   ],
   "source": [
    "reactions = recom.getReactionIDs(pattern='*CoA', by_species=False)\n",
    "reactions"
   ]
  },
  {
   "cell_type": "code",
   "execution_count": 6,
   "id": "afbedc08-840e-4f7c-b8c5-84003d1d99ab",
   "metadata": {},
   "outputs": [
    {
     "data": {
      "text/plain": [
       "['SSAT_for_S', 'SpdS', 'SpmS']"
      ]
     },
     "execution_count": 6,
     "metadata": {},
     "output_type": "execute_result"
    }
   ],
   "source": [
    "recom.getReactionIDs(pattern='S*S', by_species=False, regex=False)"
   ]
  },
  {
   "cell_type": "code",
   "execution_count": 15,
   "id": "42763fc4-cd32-4d15-a018-0637e1a973f3",
   "metadata": {
    "tags": []
   },
   "outputs": [
    {
     "name": "stdout",
     "output_type": "stream",
     "text": [
      "['AcCoA', 'CoA']\n",
      "\n",
      "                                         AcCoA (credibility score: 0.972)                                        \n",
      "+--------------+---------------+---------------------------------------------------------------+----------------+\n",
      "| annotation   |   match_score | url                                                           | label          |\n",
      "+==============+===============+===============================================================+================+\n",
      "| CHEBI:57288  |         1.000 | https://www.ebi.ac.uk/chebi/searchId.do?chebiId=CHEBI%3A57288 | acetyl-CoA(4-) |\n",
      "+--------------+---------------+---------------------------------------------------------------+----------------+\n",
      "| CHEBI:15351  |         1.000 | https://www.ebi.ac.uk/chebi/searchId.do?chebiId=CHEBI%3A15351 | acetyl-CoA     |\n",
      "+--------------+---------------+---------------------------------------------------------------+----------------+\n",
      "                                          CoA (credibility score: 0.813)                                          \n",
      "+--------------+---------------+---------------------------------------------------------------+-----------------+\n",
      "| annotation   |   match_score | url                                                           | label           |\n",
      "+==============+===============+===============================================================+=================+\n",
      "| CHEBI:57287  |         1.000 | https://www.ebi.ac.uk/chebi/searchId.do?chebiId=CHEBI%3A57287 | coenzyme A(4-)  |\n",
      "+--------------+---------------+---------------------------------------------------------------+-----------------+\n",
      "| CHEBI:48076  |         1.000 | https://www.ebi.ac.uk/chebi/searchId.do?chebiId=CHEBI%3A48076 | acetyloxy group |\n",
      "+--------------+---------------+---------------------------------------------------------------+-----------------+\n",
      "| CHEBI:15346  |         1.000 | https://www.ebi.ac.uk/chebi/searchId.do?chebiId=CHEBI%3A15346 | coenzyme A      |\n",
      "+--------------+---------------+---------------------------------------------------------------+-----------------+\n"
     ]
    }
   ],
   "source": [
    "ids2annotate = recom.getSpeciesIDs(pattern=\"*CoA\")\n",
    "print(ids2annotate)\n",
    "print()\n",
    "res = recom.getSpeciesListAnnotation(pred_ids=ids2annotate, get_markdown=True)\n",
    "for one_res in res:\n",
    "  print(one_res)"
   ]
  },
  {
   "cell_type": "code",
   "execution_count": null,
   "id": "4b2b662d-4f90-42ee-a7a1-5c9f9858fa4b",
   "metadata": {},
   "outputs": [],
   "source": [
    "# dataframe! (w/ pretty print dataframe; )\n",
    "# consistency in names/arguments/etc.  default should be consistent. \n",
    "# supplementary material? explaining methods, naming conventions etc. "
   ]
  },
  {
   "cell_type": "code",
   "execution_count": null,
   "id": "5621b30b-25a4-46f8-b2c8-d64d069b09b5",
   "metadata": {},
   "outputs": [],
   "source": []
  },
  {
   "cell_type": "code",
   "execution_count": null,
   "id": "92d5be95-e6a9-467d-84e4-fb28082542c9",
   "metadata": {},
   "outputs": [],
   "source": []
  },
  {
   "cell_type": "code",
   "execution_count": 9,
   "id": "ddb914b2-2a8c-4924-8db2-1c8f0e837d36",
   "metadata": {},
   "outputs": [
    {
     "name": "stdout",
     "output_type": "stream",
     "text": [
      "[('CHEBI:15414', 1.0), ('CHEBI:59789', 1.0)]\n"
     ]
    },
    {
     "data": {
      "text/plain": [
       "Recommendation(id='SAM', credibility=0.975, candidates=[('CHEBI:15414', 1.0), ('CHEBI:59789', 1.0)], urls=['https://www.ebi.ac.uk/chebi/searchId.do?chebiId=CHEBI%3A15414', 'https://www.ebi.ac.uk/chebi/searchId.do?chebiId=CHEBI%3A59789'], labels=['S-adenosyl-L-methionine', 'S-adenosyl-L-methionine zwitterion'])"
      ]
     },
     "execution_count": 9,
     "metadata": {},
     "output_type": "execute_result"
    }
   ],
   "source": [
    "sam_recom = recom.getSpeciesAnnotation(pred_id='SAM')\n",
    "print(sam_recom.candidates)\n",
    "filt_recom = recom.filterRecommendationByThreshold(inp_recom=sam_recom,inp_thresh=0.8)\n",
    "filt_recom"
   ]
  },
  {
   "cell_type": "code",
   "execution_count": 71,
   "id": "17339711-9d63-4ee8-9d2c-a00c93e9c603",
   "metadata": {},
   "outputs": [
    {
     "name": "stdout",
     "output_type": "stream",
     "text": [
      "D-Lactate\n",
      "D-Lactate\n"
     ]
    }
   ],
   "source": [
    "model = recom.sbml_document.getModel()\n",
    "print(model.getSpecies('M_lac__D_c').name)\n",
    "print(model.getSpecies('M_lac__D_e').name)"
   ]
  },
  {
   "cell_type": "code",
   "execution_count": 53,
   "id": "d25028f4-48c1-4a2a-8154-46db35db4636",
   "metadata": {},
   "outputs": [
    {
     "name": "stdout",
     "output_type": "stream",
     "text": [
      "                                        M_glc__D_e (credibility score: 0.967)                                        \n",
      "+--------------+---------------+---------------------------------------------------------------+--------------------+\n",
      "| annotation   |   match_score | url                                                           | label              |\n",
      "+==============+===============+===============================================================+====================+\n",
      "| CHEBI:4167   |         1.000 | https://www.ebi.ac.uk/chebi/searchId.do?chebiId=CHEBI%3A4167  | D-glucopyranose    |\n",
      "+--------------+---------------+---------------------------------------------------------------+--------------------+\n",
      "| CHEBI:17634  |         1.000 | https://www.ebi.ac.uk/chebi/searchId.do?chebiId=CHEBI%3A17634 | D-glucose          |\n",
      "+--------------+---------------+---------------------------------------------------------------+--------------------+\n",
      "| CHEBI:42758  |         1.000 | https://www.ebi.ac.uk/chebi/searchId.do?chebiId=CHEBI%3A42758 | aldehydo-D-glucose |\n",
      "+--------------+---------------+---------------------------------------------------------------+--------------------+\n"
     ]
    }
   ],
   "source": [
    "# chagne -> getSpecies\"Recommendation\" instead\n",
    "print(recom.getSpeciesAnnotation(pred_id='M_glc__D_e', get_markdown=True))"
   ]
  },
  {
   "cell_type": "code",
   "execution_count": 8,
   "id": "83183242-5f9b-494a-908b-34bdcc189af6",
   "metadata": {},
   "outputs": [],
   "source": [
    "# TODO: choose annotations based on user's choices & save\n",
    "\n",
    "\n",
    "# recom.\"setSpeciesAnnotation\" -> user can choose among the candidates\n",
    "# => help reaction annotations"
   ]
  },
  {
   "cell_type": "code",
   "execution_count": null,
   "id": "24305825-d94e-4913-9e89-18eb1d5c7c9f",
   "metadata": {},
   "outputs": [],
   "source": []
  },
  {
   "cell_type": "code",
   "execution_count": null,
   "id": "b7e7752e-0bb3-4fd2-a67d-1ab3ca844536",
   "metadata": {},
   "outputs": [],
   "source": []
  }
 ],
 "metadata": {
  "kernelspec": {
   "display_name": "Python 3 (ipykernel)",
   "language": "python",
   "name": "python3"
  },
  "language_info": {
   "codemirror_mode": {
    "name": "ipython",
    "version": 3
   },
   "file_extension": ".py",
   "mimetype": "text/x-python",
   "name": "python",
   "nbconvert_exporter": "python",
   "pygments_lexer": "ipython3",
   "version": "3.9.15"
  }
 },
 "nbformat": 4,
 "nbformat_minor": 5
}
