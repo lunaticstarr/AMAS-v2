{
 "cells": [
  {
   "cell_type": "code",
   "execution_count": 1,
   "id": "f4d8cafc-dd78-4a10-8f1c-02337e8acab7",
   "metadata": {},
   "outputs": [],
   "source": [
    "# from AMAS import recommender\n",
    "import fnmatch\n",
    "import os\n",
    "import re\n",
    "import sys\n",
    "\n",
    "PROJ_DIR = os.path.join(os.getcwd(), os.pardir)\n",
    "AMAS_DIR = os.path.join(PROJ_DIR, \"AMAS\")\n",
    "sys.path.append(PROJ_DIR)\n",
    "import AMAS\n",
    "from AMAS import constants as cn"
   ]
  },
  {
   "cell_type": "code",
   "execution_count": 2,
   "id": "b774bfbf-5e5f-4fdc-aefd-6da0415297bb",
   "metadata": {},
   "outputs": [],
   "source": [
    "E_COLI_PATH = '/Users/woosubs/Desktop/AutomateAnnotation/AMAS/AMAS/../tests/e_coli_core.xml'\n",
    "BIOMD_190_PATH = os.path.join(cn.TEST_DIR, 'BIOMD0000000190.xml')"
   ]
  },
  {
   "cell_type": "code",
   "execution_count": 3,
   "id": "cda488fd-1ebc-4714-accc-9814c280bff4",
   "metadata": {},
   "outputs": [
    {
     "data": {
      "text/plain": [
       "['AcCoA', 'CoA']"
      ]
     },
     "execution_count": 3,
     "metadata": {},
     "output_type": "execute_result"
    }
   ],
   "source": [
    "recom = AMAS.Recommender(libsbml_fpath=BIOMD_190_PATH)\n",
    "specs2use = recom.getSpeciesIDs(pattern='*CoA', regex=False)\n",
    "specs2use"
   ]
  },
  {
   "cell_type": "code",
   "execution_count": 5,
   "id": "a2e7f5dc-ddeb-4f8c-bb58-fc0a805d700d",
   "metadata": {},
   "outputs": [
    {
     "data": {
      "text/plain": [
       "['VCoA', 'VacCoA']"
      ]
     },
     "execution_count": 5,
     "metadata": {},
     "output_type": "execute_result"
    }
   ],
   "source": [
    "reactions = recom.getReactionIDs(pattern='*CoA', by_species=False)\n",
    "reactions"
   ]
  },
  {
   "cell_type": "code",
   "execution_count": 55,
   "id": "cc8993c5-1751-4d77-81d1-13e3a0347b6f",
   "metadata": {},
   "outputs": [],
   "source": [
    "# def getSpeciesIDs(pattern=None, regex=False):\n",
    "#   \"\"\"\n",
    "#   Returns Species IDs that match the pattern.\n",
    "#   If none is given, returns all available\n",
    "#   species that exist in the model.\n",
    "  \n",
    "#   Parameters\n",
    "#   ---------\n",
    "#   pattern: str\n",
    "#     string pattern resembling regular expression?\n",
    "\n",
    "#   Returns\n",
    "#   -------\n",
    "#   list-str\n",
    "#   \"\"\"\n",
    "#   # list of species ids\n",
    "#   specs = list(recom.species.names.keys())\n",
    "#   # returns a list of ids thta match pattern, if None, return all\n",
    "#   if pattern is None:\n",
    "#     return specs\n",
    "#   else:\n",
    "#     if regex:\n",
    "#       re_pattern = pattern\n",
    "#     else:\n",
    "#       re_pattern = fnmatch.translate(pattern)\n",
    "#     matched = [re.match(re_pattern, val) for val in specs]\n",
    "#     filt_matched = [val.group(0) for val in matched if val]\n",
    "#     return(filt_matched)\n",
    "\n",
    "# def getReactionIDs(pattern, by_species=True, regex=False):\n",
    "#   \"\"\"\n",
    "#   Get IDs of reactions based on\n",
    "#   the pattern.\n",
    "  \n",
    "#   If by_species is True, it retrieves\n",
    "#   all reaction with the species that match\n",
    "#   the pattern; \n",
    "#   if False, it searches based on the ID of \n",
    "#   reactions\n",
    "  \n",
    "#   Parameters\n",
    "#   ---------\n",
    "#   pattern: str\n",
    "#       Pattern\n",
    "      \n",
    "#   by_species: bool\n",
    "#     If True, find species with pattern\n",
    "#     If False, find reaction IDs\n",
    "    \n",
    "#   regex: bool\n",
    "#     If True, use regex expression\n",
    "#     If False, convert it to regex.\n",
    "#   \"\"\"\n",
    "#   if regex:\n",
    "#     re_pattern = pattern\n",
    "#   else:\n",
    "#     re_pattern = fnmatch.translate(pattern)\n",
    "#   if by_species:\n",
    "#     specs2use = getSpeciesIDs(pattern=re_pattern, regex=True)\n",
    "#     comp_items = list(recom.reactions.reaction_components.items())\n",
    "#     result = [val[0] for val in comp_items \\\n",
    "#               if any(set(val[1]).intersection(specs2use))]\n",
    "#   else:\n",
    "#     reacts = list(recom.reactions.reaction_components.keys())\n",
    "#     matched = [re.match(re_pattern, val) for val in reacts]\n",
    "#     result = [val.group(0) for val in matched if val]\n",
    "#   return result"
   ]
  },
  {
   "cell_type": "code",
   "execution_count": 45,
   "id": "492c9385-bd59-4a3a-948c-2090afbe5523",
   "metadata": {},
   "outputs": [
    {
     "data": {
      "text/plain": [
       "['AcCoA', 'CoA']"
      ]
     },
     "execution_count": 45,
     "metadata": {},
     "output_type": "execute_result"
    }
   ],
   "source": []
  },
  {
   "cell_type": "code",
   "execution_count": 46,
   "id": "e461a2f3-ac9b-4e49-ac83-122adc33ee51",
   "metadata": {},
   "outputs": [
    {
     "data": {
      "text/plain": [
       "[('ODC', ['ORN', 'P']),\n",
       " ('SAMdc', ['A', 'SAM']),\n",
       " ('SSAT_for_S', ['S', 'CoA', 'AcCoA', 'aS']),\n",
       " ('SSAT_for_D', ['D', 'CoA', 'aD', 'AcCoA']),\n",
       " ('PAO_for_aD', ['aD', 'P']),\n",
       " ('PAO_for_aS', ['D', 'aS']),\n",
       " ('SpdS', ['D', 'A', 'P']),\n",
       " ('SpmS', ['D', 'S', 'A']),\n",
       " ('MAT', ['SAM', 'Met']),\n",
       " ('VCoA', ['CoA', 'AcCoA']),\n",
       " ('VacCoA', ['CoA', 'AcCoA']),\n",
       " ('P_efflux', ['P']),\n",
       " ('aD_efflux', ['aD'])]"
      ]
     },
     "execution_count": 46,
     "metadata": {},
     "output_type": "execute_result"
    }
   ],
   "source": [
    "comp_items = list(recom.reactions.reaction_components.items())\n",
    "comp_items"
   ]
  },
  {
   "cell_type": "code",
   "execution_count": 60,
   "id": "fe163342-ee9a-47fc-8954-8e98ce362742",
   "metadata": {},
   "outputs": [
    {
     "data": {
      "text/plain": [
       "['SSAT_for_S', 'SSAT_for_D', 'VCoA', 'VacCoA']"
      ]
     },
     "execution_count": 60,
     "metadata": {},
     "output_type": "execute_result"
    }
   ],
   "source": [
    "reacs2use = getReactionIDs(pattern='*CoA')\n",
    "reacs2use"
   ]
  },
  {
   "cell_type": "code",
   "execution_count": 73,
   "id": "afbedc08-840e-4f7c-b8c5-84003d1d99ab",
   "metadata": {},
   "outputs": [
    {
     "data": {
      "text/plain": [
       "['SSAT_for_S', 'SpdS', 'SpmS']"
      ]
     },
     "execution_count": 73,
     "metadata": {},
     "output_type": "execute_result"
    }
   ],
   "source": [
    "getReactionIDs(pattern='S*S', by_species=False, regex=False)"
   ]
  },
  {
   "cell_type": "code",
   "execution_count": 15,
   "id": "42763fc4-cd32-4d15-a018-0637e1a973f3",
   "metadata": {
    "tags": []
   },
   "outputs": [
    {
     "name": "stdout",
     "output_type": "stream",
     "text": [
      "['AcCoA', 'CoA']\n",
      "\n",
      "                                         AcCoA (credibility score: 0.972)                                        \n",
      "+--------------+---------------+---------------------------------------------------------------+----------------+\n",
      "| annotation   |   match_score | url                                                           | label          |\n",
      "+==============+===============+===============================================================+================+\n",
      "| CHEBI:57288  |         1.000 | https://www.ebi.ac.uk/chebi/searchId.do?chebiId=CHEBI%3A57288 | acetyl-CoA(4-) |\n",
      "+--------------+---------------+---------------------------------------------------------------+----------------+\n",
      "| CHEBI:15351  |         1.000 | https://www.ebi.ac.uk/chebi/searchId.do?chebiId=CHEBI%3A15351 | acetyl-CoA     |\n",
      "+--------------+---------------+---------------------------------------------------------------+----------------+\n",
      "                                          CoA (credibility score: 0.813)                                          \n",
      "+--------------+---------------+---------------------------------------------------------------+-----------------+\n",
      "| annotation   |   match_score | url                                                           | label           |\n",
      "+==============+===============+===============================================================+=================+\n",
      "| CHEBI:57287  |         1.000 | https://www.ebi.ac.uk/chebi/searchId.do?chebiId=CHEBI%3A57287 | coenzyme A(4-)  |\n",
      "+--------------+---------------+---------------------------------------------------------------+-----------------+\n",
      "| CHEBI:48076  |         1.000 | https://www.ebi.ac.uk/chebi/searchId.do?chebiId=CHEBI%3A48076 | acetyloxy group |\n",
      "+--------------+---------------+---------------------------------------------------------------+-----------------+\n",
      "| CHEBI:15346  |         1.000 | https://www.ebi.ac.uk/chebi/searchId.do?chebiId=CHEBI%3A15346 | coenzyme A      |\n",
      "+--------------+---------------+---------------------------------------------------------------+-----------------+\n"
     ]
    }
   ],
   "source": [
    "ids2annotate = recom.getSpeciesIDs(pattern=\"*CoA\")\n",
    "print(ids2annotate)\n",
    "print()\n",
    "res = recom.getSpeciesListAnnotation(pred_ids=ids2annotate, get_markdown=True)\n",
    "for one_res in res:\n",
    "  print(one_res)"
   ]
  },
  {
   "cell_type": "code",
   "execution_count": 16,
   "id": "ddb914b2-2a8c-4924-8db2-1c8f0e837d36",
   "metadata": {},
   "outputs": [
    {
     "data": {
      "text/plain": [
       "['SAM', 'A', 'P', 'S', 'D', 'aS', 'aD', 'Met', 'ORN', 'AcCoA', 'CoA']"
      ]
     },
     "execution_count": 16,
     "metadata": {},
     "output_type": "execute_result"
    }
   ],
   "source": [
    "recom.getSpeciesIDs(pattern=None)"
   ]
  },
  {
   "cell_type": "code",
   "execution_count": 71,
   "id": "17339711-9d63-4ee8-9d2c-a00c93e9c603",
   "metadata": {},
   "outputs": [
    {
     "name": "stdout",
     "output_type": "stream",
     "text": [
      "D-Lactate\n",
      "D-Lactate\n"
     ]
    }
   ],
   "source": [
    "model = recom.sbml_document.getModel()\n",
    "print(model.getSpecies('M_lac__D_c').name)\n",
    "print(model.getSpecies('M_lac__D_e').name)"
   ]
  },
  {
   "cell_type": "code",
   "execution_count": 53,
   "id": "d25028f4-48c1-4a2a-8154-46db35db4636",
   "metadata": {},
   "outputs": [
    {
     "name": "stdout",
     "output_type": "stream",
     "text": [
      "                                        M_glc__D_e (credibility score: 0.967)                                        \n",
      "+--------------+---------------+---------------------------------------------------------------+--------------------+\n",
      "| annotation   |   match_score | url                                                           | label              |\n",
      "+==============+===============+===============================================================+====================+\n",
      "| CHEBI:4167   |         1.000 | https://www.ebi.ac.uk/chebi/searchId.do?chebiId=CHEBI%3A4167  | D-glucopyranose    |\n",
      "+--------------+---------------+---------------------------------------------------------------+--------------------+\n",
      "| CHEBI:17634  |         1.000 | https://www.ebi.ac.uk/chebi/searchId.do?chebiId=CHEBI%3A17634 | D-glucose          |\n",
      "+--------------+---------------+---------------------------------------------------------------+--------------------+\n",
      "| CHEBI:42758  |         1.000 | https://www.ebi.ac.uk/chebi/searchId.do?chebiId=CHEBI%3A42758 | aldehydo-D-glucose |\n",
      "+--------------+---------------+---------------------------------------------------------------+--------------------+\n"
     ]
    }
   ],
   "source": [
    "# chagne -> getSpecies\"Recommendation\" instead\n",
    "print(recom.getSpeciesAnnotation(pred_id='M_glc__D_e', get_markdown=True))"
   ]
  },
  {
   "cell_type": "code",
   "execution_count": 8,
   "id": "83183242-5f9b-494a-908b-34bdcc189af6",
   "metadata": {},
   "outputs": [],
   "source": [
    "# recom.\"setSpeciesAnnotation\" -> user can choose among the candidates\n",
    "# => help reaction annotations"
   ]
  },
  {
   "cell_type": "code",
   "execution_count": 9,
   "id": "58056038-e96c-474a-917e-641eb51e4814",
   "metadata": {},
   "outputs": [
    {
     "name": "stdout",
     "output_type": "stream",
     "text": [
      "['R_PFK', 'R_PFL', 'R_PGI', 'R_PGK', 'R_PGL', 'R_ACALD', 'R_AKGt2r', 'R_PGM', 'R_PIt2r', 'R_ALCD2x', 'R_ACKr', 'R_PPC', 'R_ACONTa', 'R_ACONTb', 'R_ATPM', 'R_PPCK', 'R_PPS', 'R_ADK1', 'R_AKGDH', 'R_PTAr', 'R_PYK', 'R_RPE', 'R_CS', 'R_RPI', 'R_SUCCt2_2', 'R_ENO', 'R_SUCDi', 'R_SUCOAS', 'R_TALA', 'R_THD2', 'R_TKT1', 'R_TKT2', 'R_TPI', 'R_EX_ac_e', 'R_EX_etoh_e', 'R_EX_for_e', 'R_EX_h_e', 'R_EX_h2o_e', 'R_EX_nh4_e', 'R_EX_pi_e', 'R_FBA', 'R_FBP', 'R_FORt', 'R_FRD7', 'R_FUM', 'R_FUMt2_2', 'R_G6PDH2r', 'R_GAPD', 'R_GLNS', 'R_GLUDy', 'R_GLUN', 'R_GLUSy', 'R_GND', 'R_H2Ot', 'R_ICDHyr', 'R_ICL', 'R_LDH_D', 'R_MALS', 'R_MALt2_2', 'R_MDH', 'R_ME1', 'R_ME2', 'R_NADTRHD', 'R_NH4t', 'R_PDH']\n"
     ]
    }
   ],
   "source": [
    "print(list(recom.reactions.exist_annotation.keys()))"
   ]
  },
  {
   "cell_type": "code",
   "execution_count": 10,
   "id": "ef8300f8-75e3-4550-a3a7-d7819a5c9e26",
   "metadata": {},
   "outputs": [],
   "source": [
    "# IF a reaction IDis chosen, e.g., 'R_PGM', can print the reaction specification as a string"
   ]
  },
  {
   "cell_type": "code",
   "execution_count": 23,
   "id": "91daf85a-b8b8-46aa-bcd2-99ef59a0237f",
   "metadata": {},
   "outputs": [
    {
     "name": "stdout",
     "output_type": "stream",
     "text": [
      "                                                                                             R_PGM (credibility score: 0.109)                                                                                             \n",
      "+--------------+---------------+------------------------------------+----------------------------------------------------------------------------------------------------------------------------------------------------+\n",
      "| annotation   |   match_score | url                                | label                                                                                                                                              |\n",
      "+==============+===============+====================================+====================================================================================================================================================+\n",
      "| RHEA:15901   |         1.000 | https://www.rhea-db.org/rhea/15901 | phosphoglycerate mutase activity                                                                                                                   |\n",
      "+--------------+---------------+------------------------------------+----------------------------------------------------------------------------------------------------------------------------------------------------+\n",
      "| RHEA:10164   |         0.333 | https://www.rhea-db.org/rhea/10164 | phosphopyruvate hydratase activity                                                                                                                 |\n",
      "+--------------+---------------+------------------------------------+----------------------------------------------------------------------------------------------------------------------------------------------------+\n",
      "| RHEA:12641   |         0.333 | https://www.rhea-db.org/rhea/12641 | phosphoglycerate dehydrogenase activity                                                                                                            |\n",
      "+--------------+---------------+------------------------------------+----------------------------------------------------------------------------------------------------------------------------------------------------+\n",
      "| RHEA:18665   |         0.333 | https://www.rhea-db.org/rhea/18665 | 3-phosphoglyceroyl-phosphate-polyphosphate phosphotransferase activity                                                                             |\n",
      "+--------------+---------------+------------------------------------+----------------------------------------------------------------------------------------------------------------------------------------------------+\n",
      "| RHEA:12412   |         0.250 | https://www.rhea-db.org/rhea/12412 | 3-phosphoglycerate phosphatase activity                                                                                                            |\n",
      "+--------------+---------------+------------------------------------+----------------------------------------------------------------------------------------------------------------------------------------------------+\n",
      "| RHEA:14329   |         0.250 | https://www.rhea-db.org/rhea/14329 | O-phospho-L-serine:2-oxoglutarate aminotransferase activity                                                                                        |\n",
      "+--------------+---------------+------------------------------------+----------------------------------------------------------------------------------------------------------------------------------------------------+\n",
      "| RHEA:14801   |         0.250 | https://www.rhea-db.org/rhea/14801 | phosphoglycerate kinase activity                                                                                                                   |\n",
      "+--------------+---------------+------------------------------------+----------------------------------------------------------------------------------------------------------------------------------------------------+\n",
      "| RHEA:21156   |         0.250 | https://www.rhea-db.org/rhea/21156 | phosphoglycerate phosphatase activity                                                                                                              |\n",
      "+--------------+---------------+------------------------------------+----------------------------------------------------------------------------------------------------------------------------------------------------+\n",
      "| RHEA:21904   |         0.250 | https://www.rhea-db.org/rhea/21904 | bisphosphoglycerate 2-phosphatase activity                                                                                                         |\n",
      "+--------------+---------------+------------------------------------+----------------------------------------------------------------------------------------------------------------------------------------------------+\n",
      "| RHEA:23332   |         0.250 | https://www.rhea-db.org/rhea/23332 | phosphoglycerate kinase (GTP) activity                                                                                                             |\n",
      "+--------------+---------------+------------------------------------+----------------------------------------------------------------------------------------------------------------------------------------------------+\n",
      "| RHEA:27381   |         0.250 | https://www.rhea-db.org/rhea/27381 | bisphosphoglycerate 3-phosphatase activity                                                                                                         |\n",
      "+--------------+---------------+------------------------------------+----------------------------------------------------------------------------------------------------------------------------------------------------+\n",
      "| RHEA:35543   |         0.250 | https://www.rhea-db.org/rhea/35543 | 3-phosphooxypyruvate + H2O = 3-hydroxypyruvate + phosphate                                                                                         |\n",
      "+--------------+---------------+------------------------------------+----------------------------------------------------------------------------------------------------------------------------------------------------+\n",
      "| RHEA:13537   |         0.200 | https://www.rhea-db.org/rhea/13537 | mannosyl-3-phosphoglycerate synthase activity                                                                                                      |\n",
      "+--------------+---------------+------------------------------------+----------------------------------------------------------------------------------------------------------------------------------------------------+\n",
      "| RHEA:14669   |         0.200 | https://www.rhea-db.org/rhea/14669 | glyceraldehyde-3-phosphate dehydrogenase (NADP+) (non-phosphorylating) activity                                                                    |\n",
      "+--------------+---------------+------------------------------------+----------------------------------------------------------------------------------------------------------------------------------------------------+\n",
      "| RHEA:16769   |         0.200 | https://www.rhea-db.org/rhea/16769 | glucose-1,6-bisphosphate synthase activity                                                                                                         |\n",
      "+--------------+---------------+------------------------------------+----------------------------------------------------------------------------------------------------------------------------------------------------+\n",
      "| RHEA:23124   |         0.200 | https://www.rhea-db.org/rhea/23124 | ribulose-bisphosphate carboxylase activity                                                                                                         |\n",
      "+--------------+---------------+------------------------------------+----------------------------------------------------------------------------------------------------------------------------------------------------+\n",
      "| RHEA:23516   |         0.200 | https://www.rhea-db.org/rhea/23516 | glycerate kinase activity                                                                                                                          |\n",
      "+--------------+---------------+------------------------------------+----------------------------------------------------------------------------------------------------------------------------------------------------+\n",
      "| RHEA:24148   |         0.200 | https://www.rhea-db.org/rhea/24148 | glyceraldehyde-3-phosphate dehydrogenase (ferredoxin) activity                                                                                     |\n",
      "+--------------+---------------+------------------------------------+----------------------------------------------------------------------------------------------------------------------------------------------------+\n",
      "| RHEA:27377   |         0.200 | https://www.rhea-db.org/rhea/27377 | glycerate 2-kinase activity                                                                                                                        |\n",
      "+--------------+---------------+------------------------------------+----------------------------------------------------------------------------------------------------------------------------------------------------+\n",
      "| RHEA:31311   |         0.200 | https://www.rhea-db.org/rhea/31311 | (2R)-3-phosphoglycerate + ADP-alpha-D-glucose = (2R)-2-O-(alpha-D-glucopyranosyl)-3-phospho-glycerate + ADP + H(+)                                 |\n",
      "+--------------+---------------+------------------------------------+----------------------------------------------------------------------------------------------------------------------------------------------------+\n",
      "| RHEA:31315   |         0.200 | https://www.rhea-db.org/rhea/31315 | (2R)-3-phosphoglycerate + GDP-D-glucose = (2R)-2-O-(alpha-D-glucopyranosyl)-3-phospho-glycerate + GDP + H(+)                                       |\n",
      "+--------------+---------------+------------------------------------+----------------------------------------------------------------------------------------------------------------------------------------------------+\n",
      "| RHEA:31319   |         0.200 | https://www.rhea-db.org/rhea/31319 | (2R)-3-phosphoglycerate + UDP-alpha-D-glucose = (2R)-2-O-(alpha-D-glucopyranosyl)-3-phospho-glycerate + H(+) + UDP                                 |\n",
      "+--------------+---------------+------------------------------------+----------------------------------------------------------------------------------------------------------------------------------------------------+\n",
      "| RHEA:36631   |         0.200 | https://www.rhea-db.org/rhea/36631 | D-ribulose 1,5-bisphosphate + O2 = (2R)-3-phosphoglycerate + 2-phosphoglycolate + 2 H(+)                                                           |\n",
      "+--------------+---------------+------------------------------------+----------------------------------------------------------------------------------------------------------------------------------------------------+\n",
      "| RHEA:42408   |         0.200 | https://www.rhea-db.org/rhea/42408 | (2R)-2-phosphoglycerate + ATP = (2R)-2,3-bisphosphoglycerate + ADP + H(+)                                                                          |\n",
      "+--------------+---------------+------------------------------------+----------------------------------------------------------------------------------------------------------------------------------------------------+\n",
      "| RHEA:42760   |         0.200 | https://www.rhea-db.org/rhea/42760 | D-glyceraldehyde 3-phosphate + H2O + NAD(+) = (2R)-3-phosphoglycerate + 2 H(+) + NADH                                                              |\n",
      "+--------------+---------------+------------------------------------+----------------------------------------------------------------------------------------------------------------------------------------------------+\n",
      "| RHEA:47244   |         0.200 | https://www.rhea-db.org/rhea/47244 | (2R)-3-phosphoglycerate + an NDP-alpha-D-glucose = (2R)-2-O-(alpha-D-glucopyranosyl)-3-phospho-glycerate + a ribonucleoside 5'-diphosphate + H(+)  |\n",
      "+--------------+---------------+------------------------------------+----------------------------------------------------------------------------------------------------------------------------------------------------+\n",
      "| RHEA:57076   |         0.200 | https://www.rhea-db.org/rhea/57076 | 3-oxoisoapionate 4-phosphate + H2O = (2R)-3-phosphoglycerate + glycolate + H(+)                                                                    |\n",
      "+--------------+---------------+------------------------------------+----------------------------------------------------------------------------------------------------------------------------------------------------+\n",
      "| RHEA:63440   |         0.200 | https://www.rhea-db.org/rhea/63440 | (2R)-3-phosphoglycerate + GTP + H(+) = 3-[(R)-glyceryl]-diphospho-5'-guanosine + diphosphate                                                       |\n",
      "+--------------+---------------+------------------------------------+----------------------------------------------------------------------------------------------------------------------------------------------------+\n",
      "| RHEA:70899   |         0.200 | https://www.rhea-db.org/rhea/70899 | (2R)-3-phospho-glyceroyl phosphate + alpha-D-ribose 1-phosphate = (2R)-3-phosphoglycerate + alpha-D-ribose 1,5-bisphosphate + H(+)                 |\n",
      "+--------------+---------------+------------------------------------+----------------------------------------------------------------------------------------------------------------------------------------------------+\n",
      "| RHEA:70903   |         0.200 | https://www.rhea-db.org/rhea/70903 | (2R)-3-phospho-glyceroyl phosphate + 2-deoxy-alpha-D-ribose 1-phosphate = (2R)-3-phosphoglycerate + 2-deoxy-alpha-D-ribose 1,5-bisphosphate + H(+) |\n",
      "+--------------+---------------+------------------------------------+----------------------------------------------------------------------------------------------------------------------------------------------------+\n",
      "| RHEA:70907   |         0.200 | https://www.rhea-db.org/rhea/70907 | (2R)-3-phospho-glyceroyl phosphate + alpha-D-mannose 1-phosphate = (2R)-3-phosphoglycerate + alpha-D-mannose 1,6-bisphosphate + H(+)               |\n",
      "+--------------+---------------+------------------------------------+----------------------------------------------------------------------------------------------------------------------------------------------------+\n",
      "| RHEA:70911   |         0.200 | https://www.rhea-db.org/rhea/70911 | (2R)-3-phospho-glyceroyl phosphate + alpha-D-glucose 6-phosphate = (2R)-3-phosphoglycerate + alpha-D-glucose 1,6-bisphosphate + H(+)               |\n",
      "+--------------+---------------+------------------------------------+----------------------------------------------------------------------------------------------------------------------------------------------------+\n"
     ]
    }
   ],
   "source": [
    "print(recom.getReactionAnnotation(pred_id='R_PGM', get_markdown=True))\n",
    "# Numbering should be provided so that user can choose; \n"
   ]
  },
  {
   "cell_type": "code",
   "execution_count": null,
   "id": "5c62e7e2-8ad4-4be2-85fb-e1da5cf4ea4d",
   "metadata": {},
   "outputs": [],
   "source": []
  }
 ],
 "metadata": {
  "kernelspec": {
   "display_name": "Python 3 (ipykernel)",
   "language": "python",
   "name": "python3"
  },
  "language_info": {
   "codemirror_mode": {
    "name": "ipython",
    "version": 3
   },
   "file_extension": ".py",
   "mimetype": "text/x-python",
   "name": "python",
   "nbconvert_exporter": "python",
   "pygments_lexer": "ipython3",
   "version": "3.9.15"
  }
 },
 "nbformat": 4,
 "nbformat_minor": 5
}
