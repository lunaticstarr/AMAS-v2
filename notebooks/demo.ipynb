{
 "cells": [
  {
   "cell_type": "markdown",
   "id": "a8a60c45-a5f3-4199-b7ff-0fcfb7b70779",
   "metadata": {},
   "source": [
    "# Example of Running the AMAS Package on Jupyter Lab"
   ]
  },
  {
   "cell_type": "markdown",
   "id": "806a5658-5eb6-4099-9e63-ac0af8ee37a7",
   "metadata": {},
   "source": [
    "The cell below will become unncessary once the package is installed;\n",
    "User will only need 'import AMAS' only."
   ]
  },
  {
   "cell_type": "code",
   "execution_count": 1,
   "id": "f4d8cafc-dd78-4a10-8f1c-02337e8acab7",
   "metadata": {},
   "outputs": [],
   "source": [
    "import libsbml\n",
    "import os\n",
    "import sys\n",
    "\n",
    "PROJ_DIR = os.path.join(os.getcwd(), os.pardir)\n",
    "AMAS_DIR = os.path.join(PROJ_DIR, \"AMAS\")\n",
    "sys.path.append(PROJ_DIR)"
   ]
  },
  {
   "cell_type": "markdown",
   "id": "0a0a5b4a-7a13-4aad-8843-f64bd26faad5",
   "metadata": {
    "tags": []
   },
   "source": [
    "### 1. Getting initial predictions"
   ]
  },
  {
   "cell_type": "markdown",
   "id": "7cf31435-101c-4763-ac1f-bf19c0db66e0",
   "metadata": {},
   "source": [
    "First of all, user creates the recommender instance using the path of a SBML model file. "
   ]
  },
  {
   "cell_type": "code",
   "execution_count": 3,
   "id": "cda488fd-1ebc-4714-accc-9814c280bff4",
   "metadata": {},
   "outputs": [],
   "source": [
    "import AMAS\n",
    "TEST_DIR = '/Users/woosubs/Desktop/AutomateAnnotation/AMAS/AMAS/../tests'\n",
    "BIOMD_190_PATH = os.path.join(TEST_DIR, 'BIOMD0000000190.xml')\n",
    "recom = AMAS.Recommender(libsbml_fpath=BIOMD_190_PATH)"
   ]
  },
  {
   "cell_type": "markdown",
   "id": "676ba2fa-aa75-4c24-ba2f-f8f73c8d0795",
   "metadata": {},
   "source": [
    "The ***recommendSpecies*** and ***recommendReactions*** methods can be used to get recommendations for a specific list of elements using the list of IDs. If none is provided, all of the species will be recommended. In addition, ***getSpeciesIDs*** and ***getReactionIDs*** may help you find the IDs you might want to use. "
   ]
  },
  {
   "cell_type": "code",
   "execution_count": 4,
   "id": "ac4676df-a8e4-4992-915d-a99c29e8d2d2",
   "metadata": {},
   "outputs": [
    {
     "data": {
      "text/plain": [
       "['AcCoA', 'CoA']"
      ]
     },
     "execution_count": 4,
     "metadata": {},
     "output_type": "execute_result"
    }
   ],
   "source": [
    "recom.getSpeciesIDs(pattern='*CoA')"
   ]
  },
  {
   "cell_type": "code",
   "execution_count": 5,
   "id": "92cc02b3-2589-4483-8101-60430d60a587",
   "metadata": {},
   "outputs": [
    {
     "name": "stdout",
     "output_type": "stream",
     "text": [
      "           AcCoA (credibility score: 0.971)           \n",
      "+----+--------------+---------------+----------------+\n",
      "|    | annotation   |   match score | label          |\n",
      "+====+==============+===============+================+\n",
      "|  1 | CHEBI:57288  |         1.000 | acetyl-CoA(4-) |\n",
      "+----+--------------+---------------+----------------+\n",
      "|  2 | CHEBI:15351  |         1.000 | acetyl-CoA     |\n",
      "+----+--------------+---------------+----------------+\n",
      "\n"
     ]
    }
   ],
   "source": [
    "recom.recommendSpecies('AcCoA')"
   ]
  },
  {
   "cell_type": "code",
   "execution_count": 7,
   "id": "748c12fb-8466-437a-a05e-d94785f65615",
   "metadata": {},
   "outputs": [
    {
     "data": {
      "text/plain": [
       "['ODC',\n",
       " 'SAMdc',\n",
       " 'SSAT_for_S',\n",
       " 'SSAT_for_D',\n",
       " 'PAO_for_aD',\n",
       " 'PAO_for_aS',\n",
       " 'SpdS',\n",
       " 'SpmS',\n",
       " 'MAT',\n",
       " 'VCoA',\n",
       " 'VacCoA',\n",
       " 'P_efflux',\n",
       " 'aD_efflux']"
      ]
     },
     "execution_count": 7,
     "metadata": {},
     "output_type": "execute_result"
    }
   ],
   "source": [
    "recom.getReactionIDs()"
   ]
  },
  {
   "cell_type": "code",
   "execution_count": 8,
   "id": "cf37c5a1-f989-4dd8-bbf4-6a42489ed8ec",
   "metadata": {},
   "outputs": [
    {
     "name": "stdout",
     "output_type": "stream",
     "text": [
      "                                        ODC (credibility score: 0.815)                                       \n",
      "+----+--------------+---------------+-----------------------------------------------------------------------+\n",
      "|    | annotation   |   match score | label                                                                 |\n",
      "+====+==============+===============+=======================================================================+\n",
      "|  1 | RHEA:28827   |         1.000 | L-ornithine(out) + putrescine(in) = L-ornithine(in) + putrescine(out) |\n",
      "+----+--------------+---------------+-----------------------------------------------------------------------+\n",
      "|  2 | RHEA:22964   |         0.500 | ornithine decarboxylase activity                                      |\n",
      "+----+--------------+---------------+-----------------------------------------------------------------------+\n",
      "|  3 | RHEA:59048   |         0.500 | D-ornithine + H(+) = CO2 + putrescine                                 |\n",
      "+----+--------------+---------------+-----------------------------------------------------------------------+\n",
      "\n",
      "                  SpdS (credibility score: 0.832)                   \n",
      "+----+--------------+---------------+------------------------------+\n",
      "|    | annotation   |   match score | label                        |\n",
      "+====+==============+===============+==============================+\n",
      "|  1 | RHEA:12721   |         0.600 | spermidine synthase activity |\n",
      "+----+--------------+---------------+------------------------------+\n",
      "\n"
     ]
    }
   ],
   "source": [
    "recom.recommendReaction(['ODC', 'SpdS'])"
   ]
  },
  {
   "cell_type": "markdown",
   "id": "6f68f743-81fd-40a7-a49a-263987ccc166",
   "metadata": {},
   "source": [
    "### 2. Selection annotations"
   ]
  },
  {
   "cell_type": "markdown",
   "id": "d2b76eaa-a594-4eed-84fa-523097220448",
   "metadata": {},
   "source": [
    "Recommended elements can be *selected* via the ***selectAnnotation*** method. User can make selection only from the most recent recommendations. "
   ]
  },
  {
   "cell_type": "code",
   "execution_count": 9,
   "id": "f3b30db3-91a5-42ed-8655-c8d903039630",
   "metadata": {},
   "outputs": [
    {
     "name": "stdout",
     "output_type": "stream",
     "text": [
      "Selection updated.\n"
     ]
    }
   ],
   "source": [
    "recom.selectAnnotation(('ODC', [1,2]))"
   ]
  },
  {
   "cell_type": "code",
   "execution_count": 11,
   "id": "215c6a01-cd81-4a5e-a5c6-e528fff84808",
   "metadata": {},
   "outputs": [
    {
     "name": "stdout",
     "output_type": "stream",
     "text": [
      "Selection updated.\n"
     ]
    }
   ],
   "source": [
    "recom.selectAnnotation(('SpdS', 1))"
   ]
  },
  {
   "cell_type": "markdown",
   "id": "0cb12ee0-1e60-4912-aea4-88ba08dde648",
   "metadata": {},
   "source": [
    "The ***dispaySelection*** method shows previously selected recommendations. "
   ]
  },
  {
   "cell_type": "code",
   "execution_count": 13,
   "id": "deeee09a-83db-4744-ae79-a5147bcc353b",
   "metadata": {},
   "outputs": [
    {
     "name": "stdout",
     "output_type": "stream",
     "text": [
      "                                        ODC (credibility score: 0.815)                                       \n",
      "+----+--------------+---------------+-----------------------------------------------------------------------+\n",
      "|    | annotation   |   match score | label                                                                 |\n",
      "+====+==============+===============+=======================================================================+\n",
      "|  1 | RHEA:28827   |         1.000 | L-ornithine(out) + putrescine(in) = L-ornithine(in) + putrescine(out) |\n",
      "+----+--------------+---------------+-----------------------------------------------------------------------+\n",
      "|  2 | RHEA:22964   |         0.500 | ornithine decarboxylase activity                                      |\n",
      "+----+--------------+---------------+-----------------------------------------------------------------------+\n",
      "\n",
      "                  SpdS (credibility score: 0.832)                   \n",
      "+----+--------------+---------------+------------------------------+\n",
      "|    | annotation   |   match score | label                        |\n",
      "+====+==============+===============+==============================+\n",
      "|  1 | RHEA:12721   |         0.600 | spermidine synthase activity |\n",
      "+----+--------------+---------------+------------------------------+\n",
      "\n"
     ]
    }
   ],
   "source": [
    "recom.displaySelection()"
   ]
  },
  {
   "cell_type": "markdown",
   "id": "838b92de-d09a-43d6-8325-e2f67761c153",
   "metadata": {},
   "source": [
    "### 3. Saving selected recommendations"
   ]
  },
  {
   "cell_type": "markdown",
   "id": "7cec6693-aab2-4b57-9ae2-299a06973427",
   "metadata": {},
   "source": [
    "After making selections, user can save the annotation to an .xml file using ***saveToSBML***. "
   ]
  },
  {
   "cell_type": "code",
   "execution_count": 16,
   "id": "a2e7f5dc-ddeb-4f8c-bb58-fc0a805d700d",
   "metadata": {},
   "outputs": [
    {
     "name": "stdout",
     "output_type": "stream",
     "text": [
      "Annotation recommended for 2 reaction(s):\n",
      "[ODC, SpdS]\n",
      "\n"
     ]
    }
   ],
   "source": [
    "recom.saveToSBML('updated_model.xml')"
   ]
  },
  {
   "cell_type": "code",
   "execution_count": null,
   "id": "9dfb7d8a-8447-44a3-9a42-631e7bb06466",
   "metadata": {},
   "outputs": [],
   "source": []
  }
 ],
 "metadata": {
  "kernelspec": {
   "display_name": "Python 3 (ipykernel)",
   "language": "python",
   "name": "python3"
  },
  "language_info": {
   "codemirror_mode": {
    "name": "ipython",
    "version": 3
   },
   "file_extension": ".py",
   "mimetype": "text/x-python",
   "name": "python",
   "nbconvert_exporter": "python",
   "pygments_lexer": "ipython3",
   "version": "3.9.15"
  }
 },
 "nbformat": 4,
 "nbformat_minor": 5
}
