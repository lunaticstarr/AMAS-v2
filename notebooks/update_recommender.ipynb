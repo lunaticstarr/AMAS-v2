{
 "cells": [
  {
   "cell_type": "code",
   "execution_count": 1,
   "id": "bf84803e",
   "metadata": {},
   "outputs": [],
   "source": [
    "# Update recommender for additional features, and to accommodte reaction_recommender\n",
    "import editdistance\n",
    "import libsbml\n",
    "import numpy as np\n",
    "import operator\n",
    "import os\n",
    "import compress_pickle\n",
    "import pickle\n",
    "import pandas as pd\n",
    "import sys\n",
    "import matplotlib.pyplot as plt\n",
    "%matplotlib inline  \n",
    "\n",
    "BIOMD_12 = 'BIOMD0000000012.xml'\n",
    "BASE_DIR = '/Users/woosubs/Desktop/AutomateAnnotation/'\n",
    "DATA_DIR = os.path.join(BASE_DIR, \"DATA\")\n",
    "ALGO_DIR = os.path.join(DATA_DIR, \"algo\")\n",
    "CHEBI_DIR = os.path.join(DATA_DIR, \"chebi\")\n",
    "RHEA_DIR = os.path.join(DATA_DIR, \"rhea\")\n",
    "BIOMODEL_DIR = os.path.join(DATA_DIR, \"biomodels/curated_biomodels_31mar2021\")\n",
    "BIGG_DIR = '/Users/woosubs/Desktop/AutomateAnnotation/DATA/bigg'\n",
    "ecoli_fpath = os.path.join(BIGG_DIR, \"e_coli_core.xml\")\n",
    "\n",
    "PROJ_DIR = os.path.join(os.getcwd(), os.pardir)\n",
    "AMAS_DIR = os.path.join(PROJ_DIR, \"AMAS\")\n",
    "sys.path.append(PROJ_DIR)\n",
    "\n",
    "from AMAS import species_annotation as sa\n",
    "from AMAS import reaction_annotation as ra\n",
    "from AMAS import constants as cn\n",
    "from AMAS import recommender\n",
    "from AMAS import tools"
   ]
  },
  {
   "cell_type": "code",
   "execution_count": 2,
   "id": "cc474ba3",
   "metadata": {},
   "outputs": [],
   "source": [
    "with open(os.path.join(cn.REF_DIR, 'chebi_shortened_formula_comp.lzma'), 'rb') as f:\n",
    "  ref_shortened_chebi_to_formula = compress_pickle.load(f)"
   ]
  },
  {
   "cell_type": "code",
   "execution_count": 3,
   "id": "b1bdb04c",
   "metadata": {},
   "outputs": [],
   "source": [
    "one_biomd = 'BIOMD0000000190.xml'\n",
    "one_biomd_fpath = os.path.join(BIOMODEL_DIR, one_biomd)"
   ]
  },
  {
   "cell_type": "code",
   "execution_count": 4,
   "id": "ac794f87",
   "metadata": {},
   "outputs": [
    {
     "name": "stdout",
     "output_type": "stream",
     "text": [
      "File Type of document is: <class 'libsbml.SBMLDocument'> \n",
      "\n",
      "{'SAM': 'S-adenosyl-L-methionine', 'A': 'S-adenosylmethioninamine', 'P': 'Putrescine', 'S': 'Spermine', 'D': 'Spermidine', 'aS': 'N1-Acetylspermine', 'aD': 'N1-Acetylspermidine', 'Met': 'Methionine', 'ORN': 'L-Ornithine', 'AcCoA': 'Acetyl-CoA', 'CoA': 'CoA'}\n",
      "\n",
      "{'ODC': ['P', 'ORN'], 'SAMdc': ['SAM', 'A'], 'SSAT_for_S': ['CoA', 'S', 'aS', 'AcCoA'], 'SSAT_for_D': ['CoA', 'D', 'aD', 'AcCoA'], 'PAO_for_aD': ['aD', 'P'], 'PAO_for_aS': ['D', 'aS'], 'SpdS': ['D', 'P', 'A'], 'SpmS': ['D', 'S', 'A'], 'MAT': ['SAM', 'Met'], 'VCoA': ['CoA', 'AcCoA'], 'VacCoA': ['CoA', 'AcCoA'], 'P_efflux': ['P'], 'aD_efflux': ['aD']}\n"
     ]
    }
   ],
   "source": [
    "# First, sending a libsbml.SBMLDocument class instance\n",
    "reader = libsbml.SBMLReader()\n",
    "document = reader.readSBML(one_biomd_fpath)\n",
    "# \n",
    "print(\"File Type of document is: %s \\n\" % str(type(document)))\n",
    "recom = recommender.Recommender(document)\n",
    "# checking if model was loaded successfully\n",
    "print(recom.species.names)\n",
    "print()\n",
    "print(recom.reactions.reaction_components)"
   ]
  },
  {
   "cell_type": "code",
   "execution_count": 5,
   "id": "beee93ec",
   "metadata": {},
   "outputs": [
    {
     "data": {
      "text/plain": [
       "<AMAS.species_annotation.SpeciesAnnotation at 0x7f8041ba2b50>"
      ]
     },
     "execution_count": 5,
     "metadata": {},
     "output_type": "execute_result"
    }
   ],
   "source": [
    "recom.species"
   ]
  },
  {
   "cell_type": "code",
   "execution_count": 6,
   "id": "2b842e68",
   "metadata": {},
   "outputs": [],
   "source": [
    "species_recom = recom.getSpeciesAnnotation(pred_id='SAM', update=True)"
   ]
  },
  {
   "cell_type": "code",
   "execution_count": 7,
   "id": "5864a86b",
   "metadata": {},
   "outputs": [
    {
     "data": {
      "text/plain": [
       "Recommendation(id='SAM', credibility=1.0, candidates=[('CHEBI:15414', 1.0), ('CHEBI:59789', 1.0)], urls=['https://www.ebi.ac.uk/chebi/searchId.do?chebiId=CHEBI%3A15414', 'https://www.ebi.ac.uk/chebi/searchId.do?chebiId=CHEBI%3A59789'])"
      ]
     },
     "execution_count": 7,
     "metadata": {},
     "output_type": "execute_result"
    }
   ],
   "source": [
    "species_recom"
   ]
  },
  {
   "cell_type": "code",
   "execution_count": 9,
   "id": "e8f17077",
   "metadata": {},
   "outputs": [
    {
     "data": {
      "text/plain": [
       "'/Users/woosubs/Desktop/AutomateAnnotation/AMAS/notebooks'"
      ]
     },
     "execution_count": 9,
     "metadata": {},
     "output_type": "execute_result"
    }
   ],
   "source": [
    "os.getcwd()"
   ]
  },
  {
   "cell_type": "code",
   "execution_count": 10,
   "id": "daef457a",
   "metadata": {},
   "outputs": [
    {
     "data": {
      "text/plain": [
       "<_collections._tuplegetter at 0x7f8041bc8ac0>"
      ]
     },
     "execution_count": 10,
     "metadata": {},
     "output_type": "execute_result"
    }
   ],
   "source": [
    "cn.Recommendation.candidates"
   ]
  },
  {
   "cell_type": "code",
   "execution_count": 12,
   "id": "b95c1570",
   "metadata": {},
   "outputs": [
    {
     "name": "stdout",
     "output_type": "stream",
     "text": [
      "{}\n",
      "{}\n"
     ]
    }
   ],
   "source": []
  },
  {
   "cell_type": "code",
   "execution_count": 11,
   "id": "f188ffc7",
   "metadata": {},
   "outputs": [],
   "source": [
    "def updateSpeciesWithRecommendation(inp_recom):\n",
    "  \"\"\"\n",
    "  Update species_annotation class using\n",
    "  Recommendation namedtuple.\n",
    "  \n",
    "  self.candidates is a sorted list of tuples,\n",
    "  (chebi_id: match_score)\n",
    "  self.formula is a unsorted list of unique formulas\n",
    "  \n",
    "  Parameters\n",
    "  ----------\n",
    "  inp_recom: Recommendation\n",
    "     Result of recom.getSpeciesAnnotation\n",
    "  \n",
    "  Returns\n",
    "  -------\n",
    "  None\n",
    "  \"\"\"\n",
    "  recom.species.candidates.update({inp_recom.id: inp_recom.candidates})\n",
    "  formulas2update = list(set([ref_shortened_chebi_to_formula[val[0]] for val in inp_recom.candidates]))\n",
    "  recom.species.formula.update({inp_recom.id: formulas2update})\n",
    "  return None"
   ]
  },
  {
   "cell_type": "code",
   "execution_count": 12,
   "id": "80824670",
   "metadata": {},
   "outputs": [],
   "source": [
    "updateSpeciesWithRecommendation(inp_recom=species_recom)"
   ]
  },
  {
   "cell_type": "code",
   "execution_count": 13,
   "id": "8f29bb3c",
   "metadata": {},
   "outputs": [
    {
     "name": "stdout",
     "output_type": "stream",
     "text": [
      "{'SAM': [('CHEBI:15414', 1.0), ('CHEBI:59789', 1.0)]}\n",
      "{'SAM': ['C15N6O5S']}\n"
     ]
    }
   ],
   "source": [
    "print(recom.species.candidates)\n",
    "print(recom.species.formula)"
   ]
  },
  {
   "cell_type": "code",
   "execution_count": 14,
   "id": "1f24dea5",
   "metadata": {},
   "outputs": [
    {
     "data": {
      "text/plain": [
       "AMAS.constants.Recommendation"
      ]
     },
     "execution_count": 14,
     "metadata": {},
     "output_type": "execute_result"
    }
   ],
   "source": [
    "cn.Recommendation"
   ]
  },
  {
   "cell_type": "code",
   "execution_count": null,
   "id": "892fed16",
   "metadata": {},
   "outputs": [],
   "source": []
  }
 ],
 "metadata": {
  "kernelspec": {
   "display_name": "Python 3",
   "language": "python",
   "name": "python3"
  },
  "language_info": {
   "codemirror_mode": {
    "name": "ipython",
    "version": 3
   },
   "file_extension": ".py",
   "mimetype": "text/x-python",
   "name": "python",
   "nbconvert_exporter": "python",
   "pygments_lexer": "ipython3",
   "version": "3.8.8"
  }
 },
 "nbformat": 4,
 "nbformat_minor": 5
}
