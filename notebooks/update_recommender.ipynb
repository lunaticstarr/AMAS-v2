{
 "cells": [
  {
   "cell_type": "code",
   "execution_count": 1,
   "id": "9a034f97",
   "metadata": {},
   "outputs": [],
   "source": [
    "# Update recommender for additional features, and to accommodte reaction_recommender\n",
    "import editdistance\n",
    "import libsbml\n",
    "import numpy as np\n",
    "import operator\n",
    "import os\n",
    "import compress_pickle\n",
    "import pickle\n",
    "import pandas as pd\n",
    "import sys\n",
    "import matplotlib.pyplot as plt\n",
    "%matplotlib inline  \n",
    "\n",
    "BIOMD_12 = 'BIOMD0000000012.xml'\n",
    "BASE_DIR = '/Users/woosubs/Desktop/AutomateAnnotation/'\n",
    "DATA_DIR = os.path.join(BASE_DIR, \"DATA\")\n",
    "ALGO_DIR = os.path.join(DATA_DIR, \"algo\")\n",
    "CHEBI_DIR = os.path.join(DATA_DIR, \"chebi\")\n",
    "RHEA_DIR = os.path.join(DATA_DIR, \"rhea\")\n",
    "BIOMODEL_DIR = os.path.join(DATA_DIR, \"biomodels/curated_biomodels_31mar2021\")\n",
    "BIGG_DIR = '/Users/woosubs/Desktop/AutomateAnnotation/DATA/bigg'\n",
    "ecoli_fpath = os.path.join(BIGG_DIR, \"e_coli_core.xml\")\n",
    "\n",
    "PROJ_DIR = os.path.join(os.getcwd(), os.pardir)\n",
    "AMAS_DIR = os.path.join(PROJ_DIR, \"AMAS\")\n",
    "sys.path.append(PROJ_DIR)\n",
    "\n",
    "from AMAS import species_annotation as sa\n",
    "from AMAS import reaction_annotation as ra\n",
    "from AMAS import constants as cn\n",
    "from AMAS import recommender\n",
    "from AMAS import tools"
   ]
  },
  {
   "cell_type": "code",
   "execution_count": 2,
   "id": "35bf2476",
   "metadata": {},
   "outputs": [],
   "source": [
    "with open(os.path.join(cn.REF_DIR, 'chebi_shortened_formula_comp.lzma'), 'rb') as f:\n",
    "  ref_shortened_chebi_to_formula = compress_pickle.load(f)"
   ]
  },
  {
   "cell_type": "code",
   "execution_count": 3,
   "id": "07bcb610",
   "metadata": {},
   "outputs": [],
   "source": [
    "one_biomd = 'BIOMD0000000190.xml'\n",
    "one_biomd_fpath = os.path.join(BIOMODEL_DIR, one_biomd)"
   ]
  },
  {
   "cell_type": "code",
   "execution_count": 4,
   "id": "9b486094",
   "metadata": {},
   "outputs": [
    {
     "name": "stdout",
     "output_type": "stream",
     "text": [
      "File Type of document is: <class 'libsbml.SBMLDocument'> \n",
      "\n",
      "{'SAM': 'S-adenosyl-L-methionine', 'A': 'S-adenosylmethioninamine', 'P': 'Putrescine', 'S': 'Spermine', 'D': 'Spermidine', 'aS': 'N1-Acetylspermine', 'aD': 'N1-Acetylspermidine', 'Met': 'Methionine', 'ORN': 'L-Ornithine', 'AcCoA': 'Acetyl-CoA', 'CoA': 'CoA'}\n",
      "\n",
      "{'ODC': ['P', 'ORN'], 'SAMdc': ['A', 'SAM'], 'SSAT_for_S': ['AcCoA', 'S', 'CoA', 'aS'], 'SSAT_for_D': ['AcCoA', 'aD', 'CoA', 'D'], 'PAO_for_aD': ['aD', 'P'], 'PAO_for_aS': ['D', 'aS'], 'SpdS': ['D', 'A', 'P'], 'SpmS': ['A', 'S', 'D'], 'MAT': ['Met', 'SAM'], 'VCoA': ['AcCoA', 'CoA'], 'VacCoA': ['AcCoA', 'CoA'], 'P_efflux': ['P'], 'aD_efflux': ['aD']}\n"
     ]
    }
   ],
   "source": [
    "# First, sending a libsbml.SBMLDocument class instance\n",
    "reader = libsbml.SBMLReader()\n",
    "document = reader.readSBML(one_biomd_fpath)\n",
    "# \n",
    "print(\"File Type of document is: %s \\n\" % str(type(document)))\n",
    "recom = recommender.Recommender(document)\n",
    "# checking if model was loaded successfully\n",
    "print(recom.species.names)\n",
    "print()\n",
    "print(recom.reactions.reaction_components)"
   ]
  },
  {
   "cell_type": "code",
   "execution_count": 5,
   "id": "edd8cbeb",
   "metadata": {},
   "outputs": [
    {
     "data": {
      "text/plain": [
       "<AMAS.species_annotation.SpeciesAnnotation at 0x7ff559e61760>"
      ]
     },
     "execution_count": 5,
     "metadata": {},
     "output_type": "execute_result"
    }
   ],
   "source": [
    "recom.species"
   ]
  },
  {
   "cell_type": "code",
   "execution_count": 7,
   "id": "2f7894c8",
   "metadata": {},
   "outputs": [
    {
     "ename": "TypeError",
     "evalue": "getSpeciesAnnotation() got an unexpected keyword argument 'update'",
     "output_type": "error",
     "traceback": [
      "\u001b[0;31m---------------------------------------------------------------------------\u001b[0m",
      "\u001b[0;31mTypeError\u001b[0m                                 Traceback (most recent call last)",
      "\u001b[0;32m<ipython-input-7-3c25a237291d>\u001b[0m in \u001b[0;36m<module>\u001b[0;34m\u001b[0m\n\u001b[0;32m----> 1\u001b[0;31m \u001b[0mspecies_recom\u001b[0m \u001b[0;34m=\u001b[0m \u001b[0mrecom\u001b[0m\u001b[0;34m.\u001b[0m\u001b[0mgetSpeciesAnnotation\u001b[0m\u001b[0;34m(\u001b[0m\u001b[0mpred_id\u001b[0m\u001b[0;34m=\u001b[0m\u001b[0;34m'SAM'\u001b[0m\u001b[0;34m,\u001b[0m \u001b[0mupdate\u001b[0m\u001b[0;34m=\u001b[0m\u001b[0;32mTrue\u001b[0m\u001b[0;34m)\u001b[0m\u001b[0;34m\u001b[0m\u001b[0;34m\u001b[0m\u001b[0m\n\u001b[0m",
      "\u001b[0;31mTypeError\u001b[0m: getSpeciesAnnotation() got an unexpected keyword argument 'update'"
     ]
    }
   ],
   "source": [
    "species_recom = recom.getSpeciesAnnotation(pred_id='SAM', update=True)"
   ]
  },
  {
   "cell_type": "code",
   "execution_count": 7,
   "id": "ef23d572",
   "metadata": {},
   "outputs": [
    {
     "data": {
      "text/plain": [
       "Recommendation(id='SAM', credibility=1.0, candidates=[('CHEBI:15414', 1.0), ('CHEBI:59789', 1.0)], urls=['https://www.ebi.ac.uk/chebi/searchId.do?chebiId=CHEBI%3A15414', 'https://www.ebi.ac.uk/chebi/searchId.do?chebiId=CHEBI%3A59789'])"
      ]
     },
     "execution_count": 7,
     "metadata": {},
     "output_type": "execute_result"
    }
   ],
   "source": [
    "species_recom"
   ]
  },
  {
   "cell_type": "code",
   "execution_count": 9,
   "id": "d7fcd8b2",
   "metadata": {},
   "outputs": [
    {
     "data": {
      "text/plain": [
       "'/Users/woosubs/Desktop/AutomateAnnotation/AMAS/notebooks'"
      ]
     },
     "execution_count": 9,
     "metadata": {},
     "output_type": "execute_result"
    }
   ],
   "source": [
    "os.getcwd()"
   ]
  },
  {
   "cell_type": "code",
   "execution_count": 8,
   "id": "ac18908e",
   "metadata": {},
   "outputs": [
    {
     "ename": "AttributeError",
     "evalue": "module 'AMAS.constants' has no attribute 'Recommendation'",
     "output_type": "error",
     "traceback": [
      "\u001b[0;31m---------------------------------------------------------------------------\u001b[0m",
      "\u001b[0;31mAttributeError\u001b[0m                            Traceback (most recent call last)",
      "\u001b[0;32m<ipython-input-8-d089c850d586>\u001b[0m in \u001b[0;36m<module>\u001b[0;34m\u001b[0m\n\u001b[0;32m----> 1\u001b[0;31m \u001b[0mcn\u001b[0m\u001b[0;34m.\u001b[0m\u001b[0mRecommendation\u001b[0m\u001b[0;34m\u001b[0m\u001b[0;34m\u001b[0m\u001b[0m\n\u001b[0m",
      "\u001b[0;31mAttributeError\u001b[0m: module 'AMAS.constants' has no attribute 'Recommendation'"
     ]
    }
   ],
   "source": [
    "cn.Recommendation"
   ]
  },
  {
   "cell_type": "code",
   "execution_count": 12,
   "id": "03b5b29f",
   "metadata": {},
   "outputs": [
    {
     "name": "stdout",
     "output_type": "stream",
     "text": [
      "{}\n",
      "{}\n"
     ]
    }
   ],
   "source": []
  },
  {
   "cell_type": "code",
   "execution_count": 30,
   "id": "2a65248e",
   "metadata": {},
   "outputs": [],
   "source": [
    "def updateSpeciesWithRecommendation(inp_recom):\n",
    "  \"\"\"\n",
    "  Update species_annotation class using\n",
    "  Recommendation namedtuple.\n",
    "  \n",
    "  self.candidates is a sorted list of tuples,\n",
    "  (chebi_id: match_score)\n",
    "  self.formula is a unsorted list of unique formulas\n",
    "  \n",
    "  Parameters\n",
    "  ----------\n",
    "  inp_recom: Recommendation\n",
    "     Result of recom.getSpeciesAnnotation\n",
    "  \n",
    "  Returns\n",
    "  -------\n",
    "  None\n",
    "  \"\"\"\n",
    "  recom.species.candidates.update({inp_recom.id: inp_recom.candidates})\n",
    "  formulas2update = list(set([ref_shortened_chebi_to_formula[val[0]] for val in inp_recom.candidates]))\n",
    "  recom.species.formula.update({inp_recom.id: formulas2update})\n",
    "  return None"
   ]
  },
  {
   "cell_type": "code",
   "execution_count": 32,
   "id": "d880ef59",
   "metadata": {},
   "outputs": [],
   "source": [
    "updateSpeciesWithRecommendation(inp_recom=species_recom)"
   ]
  },
  {
   "cell_type": "code",
   "execution_count": 33,
   "id": "89f8fdf7",
   "metadata": {},
   "outputs": [
    {
     "name": "stdout",
     "output_type": "stream",
     "text": [
      "{'SAM': [('CHEBI:15414', 1.0), ('CHEBI:59789', 1.0)]}\n",
      "{'SAM': ['C15N6O5S']}\n"
     ]
    }
   ],
   "source": [
    "print(recom.species.candidates)\n",
    "print(recom.species.formula)"
   ]
  },
  {
   "cell_type": "code",
   "execution_count": 35,
   "id": "285635be",
   "metadata": {},
   "outputs": [
    {
     "ename": "AttributeError",
     "evalue": "module 'AMAS.constants' has no attribute 'Recommendation'",
     "output_type": "error",
     "traceback": [
      "\u001b[0;31m---------------------------------------------------------------------------\u001b[0m",
      "\u001b[0;31mAttributeError\u001b[0m                            Traceback (most recent call last)",
      "\u001b[0;32m<ipython-input-35-d089c850d586>\u001b[0m in \u001b[0;36m<module>\u001b[0;34m\u001b[0m\n\u001b[0;32m----> 1\u001b[0;31m \u001b[0mcn\u001b[0m\u001b[0;34m.\u001b[0m\u001b[0mRecommendation\u001b[0m\u001b[0;34m\u001b[0m\u001b[0;34m\u001b[0m\u001b[0m\n\u001b[0m",
      "\u001b[0;31mAttributeError\u001b[0m: module 'AMAS.constants' has no attribute 'Recommendation'"
     ]
    }
   ],
   "source": [
    "cn.Recommendation"
   ]
  },
  {
   "cell_type": "code",
   "execution_count": null,
   "id": "c70b1ea9",
   "metadata": {},
   "outputs": [],
   "source": []
  }
 ],
 "metadata": {
  "kernelspec": {
   "display_name": "Python 3",
   "language": "python",
   "name": "python3"
  },
  "language_info": {
   "codemirror_mode": {
    "name": "ipython",
    "version": 3
   },
   "file_extension": ".py",
   "mimetype": "text/x-python",
   "name": "python",
   "nbconvert_exporter": "python",
   "pygments_lexer": "ipython3",
   "version": "3.8.8"
  }
 },
 "nbformat": 4,
 "nbformat_minor": 5
}
