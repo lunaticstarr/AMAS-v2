{
 "cells": [
  {
   "cell_type": "code",
   "execution_count": 1,
   "id": "aa02d372",
   "metadata": {},
   "outputs": [],
   "source": [
    "# Update recommender for additional features, and to accommodte reaction_recommender\n",
    "import editdistance\n",
    "import libsbml\n",
    "import numpy as np\n",
    "import operator\n",
    "import os\n",
    "import compress_pickle\n",
    "import pickle\n",
    "import pandas as pd\n",
    "import sys\n",
    "import matplotlib.pyplot as plt\n",
    "%matplotlib inline  \n",
    "\n",
    "BIOMD_12 = 'BIOMD0000000012.xml'\n",
    "BASE_DIR = '/Users/woosubs/Desktop/AutomateAnnotation/'\n",
    "DATA_DIR = os.path.join(BASE_DIR, \"DATA\")\n",
    "ALGO_DIR = os.path.join(DATA_DIR, \"algo\")\n",
    "CHEBI_DIR = os.path.join(DATA_DIR, \"chebi\")\n",
    "RHEA_DIR = os.path.join(DATA_DIR, \"rhea\")\n",
    "BIOMODEL_DIR = os.path.join(DATA_DIR, \"biomodels/curated_biomodels_31mar2021\")\n",
    "BIGG_DIR = '/Users/woosubs/Desktop/AutomateAnnotation/DATA/bigg'\n",
    "ecoli_fpath = os.path.join(BIGG_DIR, \"e_coli_core.xml\")\n",
    "\n",
    "PROJ_DIR = os.path.join(os.getcwd(), os.pardir)\n",
    "AMAS_DIR = os.path.join(PROJ_DIR, \"AMAS\")\n",
    "sys.path.append(PROJ_DIR)\n",
    "\n",
    "from AMAS import species_annotation as sa\n",
    "from AMAS import reaction_annotation as ra\n",
    "from AMAS import constants as cn\n",
    "from AMAS import recommender\n",
    "from AMAS import tools"
   ]
  },
  {
   "cell_type": "code",
   "execution_count": 2,
   "id": "b6f084da",
   "metadata": {},
   "outputs": [],
   "source": [
    "with open(os.path.join(cn.REF_DIR, 'chebi_shortened_formula_comp.lzma'), 'rb') as f:\n",
    "  ref_shortened_chebi_to_formula = compress_pickle.load(f)"
   ]
  },
  {
   "cell_type": "code",
   "execution_count": 3,
   "id": "fdd28708",
   "metadata": {},
   "outputs": [],
   "source": [
    "one_biomd = 'BIOMD0000000190.xml'\n",
    "one_biomd_fpath = os.path.join(BIOMODEL_DIR, one_biomd)"
   ]
  },
  {
   "cell_type": "code",
   "execution_count": 4,
   "id": "c62b81e8",
   "metadata": {},
   "outputs": [
    {
     "name": "stdout",
     "output_type": "stream",
     "text": [
      "File Type of document is: <class 'libsbml.SBMLDocument'> \n",
      "\n",
      "{'SAM': 'S-adenosyl-L-methionine', 'A': 'S-adenosylmethioninamine', 'P': 'Putrescine', 'S': 'Spermine', 'D': 'Spermidine', 'aS': 'N1-Acetylspermine', 'aD': 'N1-Acetylspermidine', 'Met': 'Methionine', 'ORN': 'L-Ornithine', 'AcCoA': 'Acetyl-CoA', 'CoA': 'CoA'}\n",
      "\n",
      "{'ODC': ['P', 'ORN'], 'SAMdc': ['A', 'SAM'], 'SSAT_for_S': ['S', 'AcCoA', 'aS', 'CoA'], 'SSAT_for_D': ['D', 'AcCoA', 'CoA', 'aD'], 'PAO_for_aD': ['aD', 'P'], 'PAO_for_aS': ['D', 'aS'], 'SpdS': ['D', 'A', 'P'], 'SpmS': ['D', 'A', 'S'], 'MAT': ['SAM', 'Met'], 'VCoA': ['AcCoA', 'CoA'], 'VacCoA': ['AcCoA', 'CoA'], 'P_efflux': ['P'], 'aD_efflux': ['aD']}\n"
     ]
    }
   ],
   "source": [
    "# First, sending a libsbml.SBMLDocument class instance\n",
    "reader = libsbml.SBMLReader()\n",
    "document = reader.readSBML(one_biomd_fpath)\n",
    "# \n",
    "print(\"File Type of document is: %s \\n\" % str(type(document)))\n",
    "recom = recommender.Recommender(document)\n",
    "# checking if model was loaded successfully\n",
    "print(recom.species.names)\n",
    "print()\n",
    "print(recom.reactions.reaction_components)"
   ]
  },
  {
   "cell_type": "code",
   "execution_count": 5,
   "id": "8e8ff491",
   "metadata": {},
   "outputs": [],
   "source": [
    "# def updateSpeciesWithRecommendation(inp_recom):\n",
    "#   \"\"\"\n",
    "#   Update species_annotation class using\n",
    "#   Recommendation namedtuple.\n",
    "  \n",
    "#   self.candidates is a sorted list of tuples,\n",
    "#   (chebi_id: match_score)\n",
    "#   self.formula is a unsorted list of unique formulas\n",
    "  \n",
    "#   Parameters\n",
    "#   ----------\n",
    "#   inp_recom: Recommendation\n",
    "#      Result of recom.getSpeciesAnnotation\n",
    "  \n",
    "#   Returns\n",
    "#   -------\n",
    "#   None\n",
    "#   \"\"\"\n",
    "#   recom.species.candidates.update({inp_recom.id: inp_recom.candidates})\n",
    "#   formulas2update = list(set([ref_shortened_chebi_to_formula[val[0]] for val in inp_recom.candidates]))\n",
    "#   recom.species.formula.update({inp_recom.id: formulas2update})\n",
    "#   return None"
   ]
  },
  {
   "cell_type": "code",
   "execution_count": 6,
   "id": "6c93fa21",
   "metadata": {},
   "outputs": [],
   "source": [
    "# updateSpeciesWithRecommendation(inp_recom=species_recom)"
   ]
  },
  {
   "cell_type": "code",
   "execution_count": 7,
   "id": "d263c033",
   "metadata": {},
   "outputs": [
    {
     "name": "stdout",
     "output_type": "stream",
     "text": [
      "{}\n",
      "{}\n"
     ]
    }
   ],
   "source": [
    "print(recom.species.candidates)\n",
    "print(recom.species.formula)"
   ]
  },
  {
   "cell_type": "code",
   "execution_count": 12,
   "id": "004c0fd7",
   "metadata": {},
   "outputs": [],
   "source": [
    "# Updating reaction annotation part\n",
    "recom = recommender.Recommender(libsbml_fpath=one_biomd_fpath)\n",
    "pred_id = 'ODC'\n",
    "update=True"
   ]
  },
  {
   "cell_type": "code",
   "execution_count": 13,
   "id": "bb94dd52",
   "metadata": {},
   "outputs": [],
   "source": [
    "specs2predict = recom.reactions.reaction_components[pred_id]\n",
    "spec_results = recom.getSpeciesListAnnotation(pred_ids=specs2predict)\n",
    "# based on the function above; need to recreate it. \n",
    "pred_formulas = dict()\n",
    "for one_recom in spec_results:\n",
    "  chebis = [val[0] for val in one_recom.candidates]\n",
    "  forms = list(set([cn.ref_chebi2formula[k] \\\n",
    "           for k in chebis if k in cn.ref_chebi2formula.keys()]))\n",
    "  pred_formulas[one_recom.id] = forms\n",
    "#\n",
    "pred_reaction = recom.reactions.predictAnnotation(inp_spec_dict=pred_formulas,\n",
    "                                                 inp_reac_list=[pred_id],\n",
    "                                                 update=update)"
   ]
  },
  {
   "cell_type": "code",
   "execution_count": 14,
   "id": "9d6739d0",
   "metadata": {},
   "outputs": [
    {
     "data": {
      "text/plain": [
       "{'ODC': [('RHEA:28830', 1.0), ('RHEA:22967', 0.5), ('RHEA:59051', 0.5)]}"
      ]
     },
     "execution_count": 14,
     "metadata": {},
     "output_type": "execute_result"
    }
   ],
   "source": [
    "pred_reaction"
   ]
  },
  {
   "cell_type": "code",
   "execution_count": 16,
   "id": "020f3cdc",
   "metadata": {},
   "outputs": [
    {
     "data": {
      "text/plain": [
       "{'ODC': 3}"
      ]
     },
     "execution_count": 16,
     "metadata": {},
     "output_type": "execute_result"
    }
   ],
   "source": [
    "{one_k: len(pred_reaction[one_k]) for one_k in pred_reaction}"
   ]
  },
  {
   "cell_type": "code",
   "execution_count": null,
   "id": "6aa433ac",
   "metadata": {},
   "outputs": [],
   "source": []
  },
  {
   "cell_type": "code",
   "execution_count": null,
   "id": "f79bd465",
   "metadata": {},
   "outputs": [],
   "source": []
  }
 ],
 "metadata": {
  "kernelspec": {
   "display_name": "Python 3",
   "language": "python",
   "name": "python3"
  },
  "language_info": {
   "codemirror_mode": {
    "name": "ipython",
    "version": 3
   },
   "file_extension": ".py",
   "mimetype": "text/x-python",
   "name": "python",
   "nbconvert_exporter": "python",
   "pygments_lexer": "ipython3",
   "version": "3.8.8"
  }
 },
 "nbformat": 4,
 "nbformat_minor": 5
}
