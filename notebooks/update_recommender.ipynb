{
 "cells": [
  {
   "cell_type": "code",
   "execution_count": 1,
   "id": "846a8d25",
   "metadata": {},
   "outputs": [],
   "source": [
    "# Update recommender for additional features, and to accommodte reaction_recommender\n",
    "import editdistance\n",
    "import libsbml\n",
    "import numpy as np\n",
    "import operator\n",
    "import os\n",
    "import compress_pickle\n",
    "import pickle\n",
    "import pandas as pd\n",
    "import sys\n",
    "import matplotlib.pyplot as plt\n",
    "%matplotlib inline  \n",
    "\n",
    "BIOMD_12 = 'BIOMD0000000012.xml'\n",
    "BASE_DIR = '/Users/woosubs/Desktop/AutomateAnnotation/'\n",
    "DATA_DIR = os.path.join(BASE_DIR, \"DATA\")\n",
    "ALGO_DIR = os.path.join(DATA_DIR, \"algo\")\n",
    "CHEBI_DIR = os.path.join(DATA_DIR, \"chebi\")\n",
    "RHEA_DIR = os.path.join(DATA_DIR, \"rhea\")\n",
    "BIOMODEL_DIR = os.path.join(DATA_DIR, \"biomodels/curated_biomodels_31mar2021\")\n",
    "BIGG_DIR = '/Users/woosubs/Desktop/AutomateAnnotation/DATA/bigg'\n",
    "ecoli_fpath = os.path.join(BIGG_DIR, \"e_coli_core.xml\")\n",
    "\n",
    "PROJ_DIR = os.path.join(os.getcwd(), os.pardir)\n",
    "AMAS_DIR = os.path.join(PROJ_DIR, \"AMAS\")\n",
    "sys.path.append(PROJ_DIR)\n",
    "\n",
    "from AMAS import species_annotation as sa\n",
    "from AMAS import reaction_annotation as ra\n",
    "from AMAS import constants as cn\n",
    "from AMAS import recommender\n",
    "from AMAS import tools"
   ]
  },
  {
   "cell_type": "code",
   "execution_count": 2,
   "id": "514f8de6",
   "metadata": {},
   "outputs": [],
   "source": [
    "with open(os.path.join(cn.REF_DIR, 'chebi_shortened_formula_comp.lzma'), 'rb') as f:\n",
    "  ref_shortened_chebi_to_formula = compress_pickle.load(f)"
   ]
  },
  {
   "cell_type": "code",
   "execution_count": 3,
   "id": "9e1885dc",
   "metadata": {},
   "outputs": [],
   "source": [
    "one_biomd = 'BIOMD0000000190.xml'\n",
    "one_biomd_fpath = os.path.join(BIOMODEL_DIR, one_biomd)"
   ]
  },
  {
   "cell_type": "code",
   "execution_count": 4,
   "id": "46ed73d1",
   "metadata": {},
   "outputs": [
    {
     "name": "stdout",
     "output_type": "stream",
     "text": [
      "File Type of document is: <class 'libsbml.SBMLDocument'> \n",
      "\n",
      "{'SAM': 'S-adenosyl-L-methionine', 'A': 'S-adenosylmethioninamine', 'P': 'Putrescine', 'S': 'Spermine', 'D': 'Spermidine', 'aS': 'N1-Acetylspermine', 'aD': 'N1-Acetylspermidine', 'Met': 'Methionine', 'ORN': 'L-Ornithine', 'AcCoA': 'Acetyl-CoA', 'CoA': 'CoA'}\n",
      "\n",
      "{'ODC': ['P', 'ORN'], 'SAMdc': ['A', 'SAM'], 'SSAT_for_S': ['AcCoA', 'aS', 'CoA', 'S'], 'SSAT_for_D': ['D', 'aD', 'AcCoA', 'CoA'], 'PAO_for_aD': ['P', 'aD'], 'PAO_for_aS': ['D', 'aS'], 'SpdS': ['D', 'P', 'A'], 'SpmS': ['D', 'S', 'A'], 'MAT': ['Met', 'SAM'], 'VCoA': ['AcCoA', 'CoA'], 'VacCoA': ['AcCoA', 'CoA'], 'P_efflux': ['P'], 'aD_efflux': ['aD']}\n"
     ]
    }
   ],
   "source": [
    "# First, sending a libsbml.SBMLDocument class instance\n",
    "reader = libsbml.SBMLReader()\n",
    "document = reader.readSBML(one_biomd_fpath)\n",
    "# \n",
    "print(\"File Type of document is: %s \\n\" % str(type(document)))\n",
    "recom = recommender.Recommender(document)\n",
    "# checking if model was loaded successfully\n",
    "print(recom.species.names)\n",
    "print()\n",
    "print(recom.reactions.reaction_components)"
   ]
  },
  {
   "cell_type": "code",
   "execution_count": 5,
   "id": "e4384169",
   "metadata": {},
   "outputs": [],
   "source": [
    "# def updateSpeciesWithRecommendation(inp_recom):\n",
    "#   \"\"\"\n",
    "#   Update species_annotation class using\n",
    "#   Recommendation namedtuple.\n",
    "  \n",
    "#   self.candidates is a sorted list of tuples,\n",
    "#   (chebi_id: match_score)\n",
    "#   self.formula is a unsorted list of unique formulas\n",
    "  \n",
    "#   Parameters\n",
    "#   ----------\n",
    "#   inp_recom: Recommendation\n",
    "#      Result of recom.getSpeciesAnnotation\n",
    "  \n",
    "#   Returns\n",
    "#   -------\n",
    "#   None\n",
    "#   \"\"\"\n",
    "#   recom.species.candidates.update({inp_recom.id: inp_recom.candidates})\n",
    "#   formulas2update = list(set([ref_shortened_chebi_to_formula[val[0]] for val in inp_recom.candidates]))\n",
    "#   recom.species.formula.update({inp_recom.id: formulas2update})\n",
    "#   return None"
   ]
  },
  {
   "cell_type": "code",
   "execution_count": 6,
   "id": "2cc1c89d",
   "metadata": {},
   "outputs": [],
   "source": [
    "# updateSpeciesWithRecommendation(inp_recom=species_recom)"
   ]
  },
  {
   "cell_type": "code",
   "execution_count": 7,
   "id": "2d3ea0d5",
   "metadata": {},
   "outputs": [
    {
     "name": "stdout",
     "output_type": "stream",
     "text": [
      "{}\n",
      "{}\n"
     ]
    }
   ],
   "source": [
    "print(recom.species.candidates)\n",
    "print(recom.species.formula)"
   ]
  },
  {
   "cell_type": "code",
   "execution_count": 8,
   "id": "d0bf738d",
   "metadata": {},
   "outputs": [],
   "source": [
    "# Updating reaction annotation part\n",
    "\n",
    "# version biomodel\n",
    "# recom = recommender.Recommender(libsbml_fpath=one_biomd_fpath)\n",
    "# pred_id = 'ODC'\n",
    "# update=True\n",
    "\n",
    "# version e-coli BiGG\n",
    "recom = recommender.Recommender(libsbml_fpath=ecoli_fpath)\n",
    "pred_id = 'R_PFK'\n",
    "update=True"
   ]
  },
  {
   "cell_type": "code",
   "execution_count": 9,
   "id": "da63a60f",
   "metadata": {},
   "outputs": [
    {
     "data": {
      "text/plain": [
       "[Recommendation(id='R_PFK', credibility=0.92, candidates=[('RHEA:12423', 1.0), ('RHEA:13380', 1.0), ('RHEA:14216', 1.0), ('RHEA:15656', 1.0), ('RHEA:16112', 1.0)], urls=['https://www.rhea-db.org/rhea/12423', 'https://www.rhea-db.org/rhea/13380', 'https://www.rhea-db.org/rhea/14216', 'https://www.rhea-db.org/rhea/15656', 'https://www.rhea-db.org/rhea/16112'])]"
      ]
     },
     "execution_count": 9,
     "metadata": {},
     "output_type": "execute_result"
    }
   ],
   "source": [
    "recom.getReactionListAnnotation(pred_ids=['R_PFK'],\n",
    "                            use_exist_species_annotation=True)"
   ]
  },
  {
   "cell_type": "code",
   "execution_count": 12,
   "id": "57f6e922",
   "metadata": {},
   "outputs": [
    {
     "data": {
      "text/plain": [
       "Recommendation(id='R_PFK', credibility=0.91, candidates=[('RHEA:12423', 0.8), ('RHEA:13380', 0.8), ('RHEA:14216', 0.8), ('RHEA:15656', 0.8), ('RHEA:16112', 0.8), ('RHEA:20108', 0.8)], urls=['https://www.rhea-db.org/rhea/12423', 'https://www.rhea-db.org/rhea/13380', 'https://www.rhea-db.org/rhea/14216', 'https://www.rhea-db.org/rhea/15656', 'https://www.rhea-db.org/rhea/16112', 'https://www.rhea-db.org/rhea/20108'])"
      ]
     },
     "execution_count": 12,
     "metadata": {},
     "output_type": "execute_result"
    }
   ],
   "source": [
    "recom.getReactionAnnotation(pred_id='R_PFK',\n",
    "                            use_exist_species_annotation=False)"
   ]
  },
  {
   "cell_type": "code",
   "execution_count": 33,
   "id": "9a22586c",
   "metadata": {},
   "outputs": [
    {
     "name": "stdout",
     "output_type": "stream",
     "text": [
      "{'M_h_c': ['H'], 'M_atp_c': ['C10N5O13P3'], 'M_adp_c': ['C10N5O10P2'], 'M_fdp_c': ['C6O12P2'], 'M_f6p_c': ['C6O9P']}\n"
     ]
    }
   ],
   "source": [
    "use_exist_species_annotation = True\n",
    "\n",
    "specs2predict = recom.reactions.reaction_components[pred_id] \n",
    "if use_exist_species_annotation:\n",
    "  pred_formulas = {val:recom.species.exist_annotation_formula[val] \\\n",
    "                   for val in specs2predict \\\n",
    "                   if val in recom.species.exist_annotation_formula.keys()}\n",
    "else:\n",
    "  pred_formulas = {}\n",
    "remaining_species = [val for val in specs2predict if val not in pred_formulas.keys()]\n",
    "\n",
    "if len(remaining_species) > 0:\n",
    "  spec_results = recom.getSpeciesListAnnotation(pred_ids=remaining_species)\n",
    "  for one_recom in spec_results:\n",
    "    chebis = [val[0] for val in one_recom.candidates]\n",
    "    forms = list(set([cn.ref_chebi2formula[k] \\\n",
    "             for k in chebis if k in cn.ref_chebi2formula.keys()]))\n",
    "    pred_formulas[one_recom.id] = forms\n",
    "\n",
    "print(pred_formulas)"
   ]
  },
  {
   "cell_type": "code",
   "execution_count": 32,
   "id": "eed0468c",
   "metadata": {},
   "outputs": [
    {
     "data": {
      "text/plain": [
       "[]"
      ]
     },
     "execution_count": 32,
     "metadata": {},
     "output_type": "execute_result"
    }
   ],
   "source": [
    "remaining_species"
   ]
  },
  {
   "cell_type": "code",
   "execution_count": 16,
   "id": "983cdc88",
   "metadata": {},
   "outputs": [],
   "source": [
    "\n",
    "\n",
    "pred_formulas = dict()\n"
   ]
  },
  {
   "cell_type": "code",
   "execution_count": 21,
   "id": "fae022b1",
   "metadata": {},
   "outputs": [
    {
     "data": {
      "text/plain": [
       "{'M_h_c': ['H'],\n",
       " 'M_atp_c': ['C20O4', 'C18ClN2O6S2'],\n",
       " 'M_adp_c': ['C16F3IN2O4',\n",
       "  'C101N7O75',\n",
       "  'C14N2O',\n",
       "  'C29N6O4S',\n",
       "  'C19O9P',\n",
       "  'C26FIN5O4',\n",
       "  'C27O5',\n",
       "  'C20O4',\n",
       "  'C16NO6',\n",
       "  'C28N6OS',\n",
       "  'C19N2O2S',\n",
       "  'C17Cl2F3N7O2S',\n",
       "  'C26N7O2S',\n",
       "  'C9N4O5',\n",
       "  'C12',\n",
       "  'C18ClN2O6S2',\n",
       "  'C19O2',\n",
       "  'C18N4O11',\n",
       "  'C10N5O10P2',\n",
       "  'C20N2O5S',\n",
       "  'C35N4O4',\n",
       "  'C8NO6',\n",
       "  'C18O2',\n",
       "  'C21ClN3O2',\n",
       "  'C115N8O85'],\n",
       " 'M_fdp_c': ['C6O12P2'],\n",
       " 'M_f6p_c': ['C6O9P']}"
      ]
     },
     "execution_count": 21,
     "metadata": {},
     "output_type": "execute_result"
    }
   ],
   "source": [
    "pred_formulas"
   ]
  },
  {
   "cell_type": "code",
   "execution_count": 18,
   "id": "54cd518b",
   "metadata": {},
   "outputs": [
    {
     "data": {
      "text/plain": [
       "{'M_h_c': ['H'],\n",
       " 'M_atp_c': ['C20O4', 'C18ClN2O6S2'],\n",
       " 'M_adp_c': ['C16F3IN2O4',\n",
       "  'C101N7O75',\n",
       "  'C14N2O',\n",
       "  'C29N6O4S',\n",
       "  'C19O9P',\n",
       "  'C26FIN5O4',\n",
       "  'C27O5',\n",
       "  'C20O4',\n",
       "  'C16NO6',\n",
       "  'C28N6OS',\n",
       "  'C19N2O2S',\n",
       "  'C17Cl2F3N7O2S',\n",
       "  'C26N7O2S',\n",
       "  'C9N4O5',\n",
       "  'C12',\n",
       "  'C18ClN2O6S2',\n",
       "  'C19O2',\n",
       "  'C18N4O11',\n",
       "  'C10N5O10P2',\n",
       "  'C20N2O5S',\n",
       "  'C35N4O4',\n",
       "  'C8NO6',\n",
       "  'C18O2',\n",
       "  'C21ClN3O2',\n",
       "  'C115N8O85'],\n",
       " 'M_fdp_c': ['C6O12P2'],\n",
       " 'M_f6p_c': ['C6O9P']}"
      ]
     },
     "execution_count": 18,
     "metadata": {},
     "output_type": "execute_result"
    }
   ],
   "source": [
    "pred_formulas"
   ]
  },
  {
   "cell_type": "code",
   "execution_count": 19,
   "id": "36d8269d",
   "metadata": {},
   "outputs": [
    {
     "data": {
      "text/plain": [
       "{'M_glc__D_e': ['C6O6'],\n",
       " 'M_gln__L_c': ['C5N2O3'],\n",
       " 'M_gln__L_e': ['C5N2O3'],\n",
       " 'M_glu__L_c': ['C5NO4'],\n",
       " 'M_glu__L_e': ['C5NO4'],\n",
       " 'M_glx_c': ['C2O3'],\n",
       " 'M_h2o_c': ['[18O]', 'O'],\n",
       " 'M_h2o_e': ['[18O]', 'O'],\n",
       " 'M_h_c': ['H'],\n",
       " 'M_h_e': ['H'],\n",
       " 'M_icit_c': ['C6O7'],\n",
       " 'M_lac__D_c': ['C3O3'],\n",
       " 'M_lac__D_e': ['C3O3'],\n",
       " 'M_mal__L_c': ['C4O5'],\n",
       " 'M_mal__L_e': ['C4O5'],\n",
       " 'M_nad_c': ['C21N7O14P2'],\n",
       " 'M_nadh_c': ['C21N7O14P2'],\n",
       " 'M_nadp_c': ['C21N7O17P3'],\n",
       " 'M_nadph_c': ['C21N7O17P3'],\n",
       " 'M_nh4_c': ['[13N]', 'N'],\n",
       " 'M_13dpg_c': ['C3O10P2'],\n",
       " 'M_nh4_e': ['[13N]', 'N'],\n",
       " 'M_o2_c': ['O2'],\n",
       " 'M_2pg_c': ['C3O7P'],\n",
       " 'M_o2_e': ['O2'],\n",
       " 'M_3pg_c': ['C3O7P'],\n",
       " 'M_oaa_c': ['C4O5'],\n",
       " 'M_pep_c': ['C3O6P'],\n",
       " 'M_6pgc_c': ['C6O10P'],\n",
       " 'M_pi_c': ['O4P'],\n",
       " 'M_6pgl_c': ['C6O9P'],\n",
       " 'M_pi_e': ['O4P'],\n",
       " 'M_ac_c': ['C2O2'],\n",
       " 'M_pyr_c': ['C3O3'],\n",
       " 'M_pyr_e': ['C3O3'],\n",
       " 'M_q8_c': ['C49O4'],\n",
       " 'M_q8h2_c': ['C49O4'],\n",
       " 'M_r5p_c': ['C5O8P'],\n",
       " 'M_ru5p__D_c': ['C5O8P'],\n",
       " 'M_ac_e': ['C2O2'],\n",
       " 'M_acald_c': ['C2O'],\n",
       " 'M_s7p_c': ['C7O10P'],\n",
       " 'M_acald_e': ['C2O'],\n",
       " 'M_accoa_c': ['C23N7O17P3S'],\n",
       " 'M_succ_c': ['C4O4'],\n",
       " 'M_succ_e': ['C4O4'],\n",
       " 'M_succoa_c': ['C25N7O19P3S'],\n",
       " 'M_acon_C_c': ['C6O6'],\n",
       " 'M_xu5p__D_c': ['C5O8P'],\n",
       " 'M_actp_c': ['C2O5P'],\n",
       " 'M_adp_c': ['C10N5O10P2'],\n",
       " 'M_akg_c': ['C5O5'],\n",
       " 'M_akg_e': ['C5O5'],\n",
       " 'M_amp_c': ['C10N5O7P'],\n",
       " 'M_atp_c': ['C10N5O13P3'],\n",
       " 'M_cit_c': ['C6O7'],\n",
       " 'M_co2_c': ['CO2'],\n",
       " 'M_co2_e': ['CO2'],\n",
       " 'M_coa_c': ['C21N7O16P3S'],\n",
       " 'M_dhap_c': ['C3O6P'],\n",
       " 'M_e4p_c': ['C4O7P'],\n",
       " 'M_etoh_c': ['C2O'],\n",
       " 'M_etoh_e': ['C2O'],\n",
       " 'M_f6p_c': ['C6O9P'],\n",
       " 'M_fdp_c': ['C6O12P2'],\n",
       " 'M_for_c': ['CO2'],\n",
       " 'M_for_e': ['CO2'],\n",
       " 'M_fru_e': ['C6O6'],\n",
       " 'M_fum_c': ['C4O4'],\n",
       " 'M_fum_e': ['C4O4'],\n",
       " 'M_g3p_c': ['C3O6P'],\n",
       " 'M_g6p_c': ['C6O9P']}"
      ]
     },
     "execution_count": 19,
     "metadata": {},
     "output_type": "execute_result"
    }
   ],
   "source": [
    "recom.species.exist_annotation_formula"
   ]
  },
  {
   "cell_type": "code",
   "execution_count": null,
   "id": "06b0c8bc",
   "metadata": {},
   "outputs": [],
   "source": []
  },
  {
   "cell_type": "code",
   "execution_count": 13,
   "id": "fa01dc8b",
   "metadata": {},
   "outputs": [],
   "source": [
    "specs2predict = recom.reactions.reaction_components[pred_id]\n",
    "spec_results = recom.getSpeciesListAnnotation(pred_ids=specs2predict)\n",
    "# based on the function above; need to recreate it. \n",
    "pred_formulas = dict()\n",
    "for one_recom in spec_results:\n",
    "  chebis = [val[0] for val in one_recom.candidates]\n",
    "  forms = list(set([cn.ref_chebi2formula[k] \\\n",
    "           for k in chebis if k in cn.ref_chebi2formula.keys()]))\n",
    "  pred_formulas[one_recom.id] = forms\n",
    "#\n",
    "pred_reaction = recom.reactions.predictAnnotation(inp_spec_dict=pred_formulas,\n",
    "                                                 inp_reac_list=[pred_id],\n",
    "                                                 update=update)"
   ]
  },
  {
   "cell_type": "code",
   "execution_count": 14,
   "id": "b0685c84",
   "metadata": {},
   "outputs": [
    {
     "data": {
      "text/plain": [
       "{'ODC': [('RHEA:28830', 1.0), ('RHEA:22967', 0.5), ('RHEA:59051', 0.5)]}"
      ]
     },
     "execution_count": 14,
     "metadata": {},
     "output_type": "execute_result"
    }
   ],
   "source": [
    "pred_reaction"
   ]
  },
  {
   "cell_type": "code",
   "execution_count": 16,
   "id": "10d6a71f",
   "metadata": {},
   "outputs": [
    {
     "data": {
      "text/plain": [
       "{'ODC': 3}"
      ]
     },
     "execution_count": 16,
     "metadata": {},
     "output_type": "execute_result"
    }
   ],
   "source": [
    "{one_k: len(pred_reaction[one_k]) for one_k in pred_reaction}"
   ]
  },
  {
   "cell_type": "code",
   "execution_count": null,
   "id": "84e6832a",
   "metadata": {},
   "outputs": [],
   "source": []
  },
  {
   "cell_type": "code",
   "execution_count": null,
   "id": "4442d7e3",
   "metadata": {},
   "outputs": [],
   "source": []
  }
 ],
 "metadata": {
  "kernelspec": {
   "display_name": "Python 3",
   "language": "python",
   "name": "python3"
  },
  "language_info": {
   "codemirror_mode": {
    "name": "ipython",
    "version": 3
   },
   "file_extension": ".py",
   "mimetype": "text/x-python",
   "name": "python",
   "nbconvert_exporter": "python",
   "pygments_lexer": "ipython3",
   "version": "3.8.8"
  }
 },
 "nbformat": 4,
 "nbformat_minor": 5
}
