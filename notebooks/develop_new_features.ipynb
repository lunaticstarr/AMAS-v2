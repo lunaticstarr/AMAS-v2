{
 "cells": [
  {
   "cell_type": "code",
   "execution_count": 2,
   "id": "8cecb41a-2afa-4d4e-b6ca-3ef573c74943",
   "metadata": {},
   "outputs": [],
   "source": [
    "# Sort based on match scores, \n",
    "# 1. cutoff, 2. save file with annotation\n",
    "import collections\n",
    "\n",
    "import compress_pickle\n",
    "import itertools\n",
    "import libsbml\n",
    "import numpy as np\n",
    "import os\n",
    "import pickle\n",
    "import pandas as pd\n",
    "import sys\n",
    "import time\n",
    "import matplotlib.pyplot as plt\n",
    "%matplotlib inline  \n",
    "\n",
    "BIOMD_12 = 'BIOMD0000000012.xml'\n",
    "BASE_DIR = '/Users/woosubs/Desktop/AutomateAnnotation/'\n",
    "DATA_DIR = os.path.join(BASE_DIR, \"DATA\")\n",
    "ALGO_DIR = os.path.join(DATA_DIR, \"algo\")\n",
    "CHEBI_DIR = os.path.join(DATA_DIR, \"chebi\")\n",
    "RHEA_DIR = os.path.join(DATA_DIR, \"rhea\")\n",
    "BIOMODEL_DIR = os.path.join(DATA_DIR, \"biomodels/curated_biomodels_31mar2021\")\n",
    "BIGG_DIR = '/Users/woosubs/Desktop/AutomateAnnotation/DATA/bigg'\n",
    "ecoli_fpath = os.path.join(BIGG_DIR, \"e_coli_core.xml\")\n",
    "\n",
    "PROJ_DIR = os.path.join(os.getcwd(), os.pardir)\n",
    "AMAS_DIR = os.path.join(PROJ_DIR, \"AMAS\")\n",
    "sys.path.append(PROJ_DIR)\n",
    "\n",
    "SUPPL_DIR = os.path.join(PROJ_DIR, os.pardir, \"AMAS_suppl\")\n",
    "ACCURACY_DIR = os.path.join(SUPPL_DIR, \"data_for_credibility\")\n",
    "RESULT_DIR = '/Users/woosubs/Desktop/AutomateAnnotation/AMAS_suppl/result_files'\n",
    "\n",
    "from AMAS import species_annotation as sa\n",
    "from AMAS import reaction_annotation as ra\n",
    "from AMAS import recommender\n",
    "from AMAS import constants as cn\n",
    "from AMAS import iterator as it\n",
    "from AMAS import tools"
   ]
  },
  {
   "cell_type": "code",
   "execution_count": 2,
   "id": "c10381de-9c78-4862-855c-301d0b8896c1",
   "metadata": {},
   "outputs": [],
   "source": [
    "E_COLI_PATH = os.path.join(cn.TEST_DIR, 'e_coli_core.xml')\n",
    "recom = recommender.Recommender(libsbml_fpath=E_COLI_PATH)\n",
    "reader = libsbml.SBMLReader()\n",
    "document = reader.readSBML(E_COLI_PATH)\n",
    "model = document.getModel()"
   ]
  },
  {
   "cell_type": "code",
   "execution_count": 3,
   "id": "b7faa3bf-6740-4464-96d7-4c3befc9d6ae",
   "metadata": {},
   "outputs": [],
   "source": [
    "exist_anot_species = list(recom.species.exist_annotation_formula)\n",
    "exist_anot_reaction = list(recom.reactions.exist_annotation)"
   ]
  },
  {
   "cell_type": "code",
   "execution_count": 4,
   "id": "36ce1bad-835b-42dc-a10b-98d04c6d69c7",
   "metadata": {},
   "outputs": [
    {
     "name": "stdout",
     "output_type": "stream",
     "text": [
      "R_PFL\n"
     ]
    }
   ],
   "source": [
    "one_rid = exist_anot_reaction[1]\n",
    "print(one_rid)\n",
    "inp_recom = recom.getReactionAnnotation(pred_id=one_rid)"
   ]
  },
  {
   "cell_type": "code",
   "execution_count": 5,
   "id": "25cef70d-dbae-4103-bb91-3eb161698c21",
   "metadata": {},
   "outputs": [],
   "source": [
    "# model = recom.sbml_document.getModel()"
   ]
  },
  {
   "cell_type": "code",
   "execution_count": 5,
   "id": "0b4da0f3-bfde-4964-a12b-75e93db9ded1",
   "metadata": {},
   "outputs": [],
   "source": [
    "recom = recommender.Recommender(libsbml_fpath=E_COLI_PATH)"
   ]
  },
  {
   "cell_type": "code",
   "execution_count": 6,
   "id": "d6941434-9dd2-4d60-8727-482063f18f75",
   "metadata": {},
   "outputs": [
    {
     "data": {
      "text/plain": [
       "[('RHEA:11844', 1.0),\n",
       " ('RHEA:17425', 0.8),\n",
       " ('RHEA:22988', 0.8),\n",
       " ('RHEA:22992', 0.8),\n",
       " ('RHEA:28042', 0.8)]"
      ]
     },
     "execution_count": 6,
     "metadata": {},
     "output_type": "execute_result"
    }
   ],
   "source": [
    "filt_recom = recom.filterRecommendationByThreshold(inp_recom=inp_recom, inp_thresh=0.8)\n",
    "filt_recom.candidates"
   ]
  },
  {
   "cell_type": "code",
   "execution_count": 8,
   "id": "501cee10-d8a8-4282-80ba-c7c7101dccb3",
   "metadata": {},
   "outputs": [],
   "source": [
    "# print(len(two_recom.candidates))\n",
    "# print(len(filterRecommendationByThreshold(inp_recom=two_recom, inp_thresh=0.8).candidates))"
   ]
  },
  {
   "cell_type": "markdown",
   "id": "12aaf321-1737-43da-9adf-90d62d1d6178",
   "metadata": {},
   "source": [
    "### Include filtered recommendations to update results"
   ]
  },
  {
   "cell_type": "code",
   "execution_count": 9,
   "id": "dd2fcc5e-e88d-4a2a-8746-8559adfd3bd6",
   "metadata": {},
   "outputs": [],
   "source": [
    "# how to save recommendation? \n",
    "# If species, create annotation string and "
   ]
  },
  {
   "cell_type": "code",
   "execution_count": 7,
   "id": "00784541-0c72-4a52-a34f-7d67e3ec128f",
   "metadata": {},
   "outputs": [
    {
     "name": "stdout",
     "output_type": "stream",
     "text": [
      "SAM\n",
      "<annotation>\n",
      "  <rdf:RDF xmlns:rdf=\"http://www.w3.org/1999/02/22-rdf-syntax-ns#\" xmlns:bqmodel=\"http://biomodels.net/model-qualifiers/\" xmlns:bqbiol=\"http://biomodels.net/biology-qualifiers/\">\n",
      "    <rdf:Description rdf:about=\"#metaid_0000036\">\n",
      "      <bqbiol:is>\n",
      "        <rdf:Bag>\n",
      "          <rdf:li rdf:resource=\"http://identifiers.org/obo.chebi/CHEBI:15414\"/>\n",
      "          <rdf:li rdf:resource=\"http://identifiers.org/kegg.compound/C00019\"/>\n",
      "        </rdf:Bag>\n",
      "      </bqbiol:is>\n",
      "    </rdf:Description>\n",
      "  </rdf:RDF>\n",
      "</annotation>\n"
     ]
    }
   ],
   "source": [
    "BIOMD_190_PATH = os.path.join(cn.TEST_DIR, 'BIOMD0000000190.xml')\n",
    "recom = recommender.Recommender(libsbml_fpath=BIOMD_190_PATH)\n",
    "model = recom.sbml_document.getModel()\n",
    "# reader = libsbml.SBMLReader()\n",
    "# document = reader.readSBML(BIOMD_190_PATH)\n",
    "# model = document.getModel()\n",
    "for one_s in model.getListOfSpecies():\n",
    "  print(one_s.getId())\n",
    "  print(one_s.getAnnotationString())\n",
    "  break"
   ]
  },
  {
   "cell_type": "code",
   "execution_count": 8,
   "id": "37c44afc-d989-4529-93e0-0a44a9166dcf",
   "metadata": {},
   "outputs": [],
   "source": [
    "# one_meta_id = 'metaid_0000036'\n",
    "# one_chebi = 'CHEBI:15414'\n",
    "# pre_text = '<annotation>\\n  <rdf:RDF xmlns:rdf=\"http://www.w3.org/1999/02/22-rdf-syntax-ns#\" ' +\\\n",
    "#             'xmlns:bqmodel=\"http://biomodels.net/model-qualifiers/\" xmlns:bqbiol=\"http://biomodels.net/biology-qualifiers/\">\\n'\n",
    "\n",
    "\n",
    "# id_text = '    <rdf:Description rdf:about=\"#' + one_meta_id + \\\n",
    "#           '\">\\n      <bqbiol:is>\\n        <rdf:Bag>\\n'\n",
    "# annotation_text = '          <rdf:li rdf:resource=\"http://identifiers.org/chebi/' + \\\n",
    "#                   one_chebi + '\"  rdf:amas_score=\"amas_score,chebi,' + one_chebi + ',0.2\"/>\\n'\n",
    "# post_text = '        </rdf:Bag>\\n      </bqbiol:is>\\n    </rdf:Description>\\n' + \\\n",
    "#             '  </rdf:RDF>\\n</annotation>'\n",
    "# comb_annotation_str = pre_text + id_text + annotation_text + post_text\n",
    "# print(comb_annotation_str)"
   ]
  },
  {
   "cell_type": "code",
   "execution_count": 9,
   "id": "090fcfdc-c750-47b5-a8e4-a41761551b5c",
   "metadata": {},
   "outputs": [],
   "source": [
    "# rdf_header_list = ['rdf:RDF',\n",
    "#                    'xmlns:rdf=\"http://www.w3.org/1999/02/22-rdf-syntax-ns#\"',\n",
    "#                    'xmlns:dcterms=\"http://purl.org/dc/terms/\"',\n",
    "#                    'xmlns:vcard4=\"http://www.w3.org/2006/vcard/ns#\"',\n",
    "#                    'xmlns:bqbiol=\"http://biomodels.net/biology-qualifiers/\"',\n",
    "#                    'xmlns:bqmodel=\"http://biomodels.net/model-qualifiers/\"']\n",
    "# rdf_header = ' '.join(rdf_header_list)\n",
    "\n",
    "# def getIndent(num_indents=0):\n",
    "#   \"\"\"\n",
    "#   Parameters\n",
    "#   ----------\n",
    "#   num_indents: int\n",
    "#     Time of indentation\n",
    "    \n",
    "#   Returns\n",
    "#   -------\n",
    "#   :str\n",
    "#   \"\"\"\n",
    "#   return '  ' * (num_indents)\n",
    "\n",
    "# def createATag(tag_str, indent_val):\n",
    "#   \"\"\"\n",
    "#   Create a tag based on the given string,\n",
    "#   with indent_val\n",
    "  \n",
    "#   Parameters\n",
    "#   ---------\n",
    "#   str: inp_str\n",
    "#   indent_val: int\n",
    "  \n",
    "#   Returns\n",
    "#   -------\n",
    "#   list-str\n",
    "#   \"\"\"\n",
    "#   indent2pad = getIndent(indent_val)\n",
    "#   head_str = tag_str\n",
    "#   tail_str = tag_str.split(' ')[0]\n",
    "#   res_tag = [indent2pad+'<'+head_str+'>', indent2pad+'</'+tail_str+'>']\n",
    "#   return res_tag\n",
    "\n",
    "\n",
    "# def insertEntry(inp_str, inp_list=[], insert_loc=None, is_tag=True, insert=True):\n",
    "#   \"\"\"\n",
    "#   Create an entry\n",
    "  \n",
    "#   Parameters\n",
    "#   ----------\n",
    "#   inp_str: str\n",
    "  \n",
    "#   inp_list: list\n",
    "#     New entry will be inserted in the middle.\n",
    "#     If not specified, will create a new list\n",
    "\n",
    "#   insert_loc: int\n",
    "#      If None, choose based on the middle of inp_list\n",
    "\n",
    "#   insert: bool\n",
    "#       If None, just return the create tag\n",
    "\n",
    "#   Returns\n",
    "#   -------\n",
    "#   : list-str\n",
    "#   \"\"\"\n",
    "#   if insert_loc:\n",
    "#     idx_insert = insert_loc\n",
    "#   else:\n",
    "#     idx_insert = int(len(inp_list)/2)\n",
    "#   if is_tag: \n",
    "#     val2insert = createATag(tag_str=inp_str, indent_val=idx_insert)\n",
    "#   else:\n",
    "#     val2insert = [getIndent(idx_insert) + inp_str]\n",
    "\n",
    "#   if insert:\n",
    "#     return inp_list[:idx_insert] + val2insert + inp_list[idx_insert:]\n",
    "#   else:\n",
    "#     return val2insert"
   ]
  },
  {
   "cell_type": "code",
   "execution_count": 14,
   "id": "bac252c4-bfee-43ba-95b3-d8c7c91a3d7e",
   "metadata": {},
   "outputs": [],
   "source": [
    "# def createAnnotationBlock(knowledge_resource,\n",
    "#                           identifier,\n",
    "#                           match_score,\n",
    "#                           score_type='name'):\n",
    "#   \"\"\"\n",
    "#   Parameters\n",
    "#   ----------\n",
    "#   knowledge_resource: str\n",
    "#       'chebi' or 'rhea'\n",
    "#   identifier: str\n",
    "#       actual identifiers, e.g., 'CHEBI:59789'\n",
    "#   match_score: float/int/str\n",
    "#       match score\n",
    "#   score_type: str\n",
    "#       'name' for species or \n",
    "#       'component' for reactions\n",
    "#   \"\"\"\n",
    "#   tags_nested = ['bqbiol:hasProperty', 'rdf:Bag']\n",
    "#   annotation_items = ['identifiers.org',\n",
    "#                       knowledge_resource,\n",
    "#                       identifier]\n",
    "#   one_annotation = '<rdf:li rdf:resource=\"http://' + \\\n",
    "#                    '/'.join(annotation_items)  +\\\n",
    "#                    '\"/>'\n",
    "#   score_items = ['amas_score',\n",
    "#                  'match_score',\n",
    "#                  'name',\n",
    "#                  str(match_score)]\n",
    "#   score_annotation = '<rdf:li rdf:resource=\"http://' +\\\n",
    "#                      '/'.join(score_items)  +\\\n",
    "#                      '\"/>'\n",
    "#   # one_annotation = '<rdf:li rdf:resource=\"http://identifiers.org/chebi/' + one_cand[0] + '\"/>'\n",
    "#   # match_score_str = '<rdf:li rdf:resource=\"http://amas_score/name_match_scoree/' + str(one_cand[1]) + '\"/>'\n",
    "#   res = []\n",
    "#   for idx_indent, one_str in enumerate(tags_nested):\n",
    "#     res = insertEntry(one_str, res, insert_loc=idx_indent)\n",
    "#   res = [one_annotation] + res\n",
    "#   res = insertEntry(inp_str=score_annotation,\n",
    "#                             inp_list=res,\n",
    "#                             insert_loc=3,\n",
    "#                             is_tag=False)\n",
    "#   return res\n",
    "\n",
    "\n",
    "# # res = insertEntry(inp_str=one_annotation,\n",
    "# #                   inp_list=res,\n",
    "# #                   is_tag=False)\n",
    "# # print('\\n'.join(res))"
   ]
  },
  {
   "cell_type": "code",
   "execution_count": 15,
   "id": "b2eb9beb-440c-435e-88bb-59a71a0e3cd1",
   "metadata": {},
   "outputs": [],
   "source": [
    "# # getting each block\n",
    "# res_list = []\n",
    "# for one_cand in one_recom.candidates:\n",
    "#   one_res_list = createAnnotationBlock('chebi',  one_cand[0], one_cand[1], 'name')\n",
    "#   res_list += one_res_list\n",
    "#   print('\\n'.join(one_res_list))\n",
    "#   print(\"***************\")"
   ]
  },
  {
   "cell_type": "code",
   "execution_count": 3,
   "id": "396f46ba-43ae-4056-a3a2-4884ff0c2ecc",
   "metadata": {},
   "outputs": [],
   "source": [
    "from AMAS import annotation_maker as am"
   ]
  },
  {
   "cell_type": "code",
   "execution_count": 4,
   "id": "f7c3ed95-07c9-4b1f-b705-18f7572c6e6d",
   "metadata": {},
   "outputs": [],
   "source": [
    "one_anot = 'CHEBI:15414'\n",
    "one_score = 0.2"
   ]
  },
  {
   "cell_type": "code",
   "execution_count": 5,
   "id": "30d92311-5356-423a-a463-d59a0e24befd",
   "metadata": {},
   "outputs": [],
   "source": [
    "am_maker = am.AnnotationMaker('species')"
   ]
  },
  {
   "cell_type": "code",
   "execution_count": 6,
   "id": "a1d7ddd9-8496-4639-940e-d49d0ed1fe2f",
   "metadata": {},
   "outputs": [
    {
     "data": {
      "text/plain": [
       "'  '"
      ]
     },
     "execution_count": 6,
     "metadata": {},
     "output_type": "execute_result"
    }
   ],
   "source": [
    "am_maker.getIndent(1)"
   ]
  },
  {
   "cell_type": "code",
   "execution_count": 7,
   "id": "04624373-05b4-4eac-adc9-109814a08190",
   "metadata": {},
   "outputs": [
    {
     "ename": "NameError",
     "evalue": "name 'insertEntry' is not defined",
     "output_type": "error",
     "traceback": [
      "\u001b[0;31m---------------------------------------------------------------------------\u001b[0m",
      "\u001b[0;31mNameError\u001b[0m                                 Traceback (most recent call last)",
      "Cell \u001b[0;32mIn[7], line 1\u001b[0m\n\u001b[0;32m----> 1\u001b[0m \u001b[43mam_maker\u001b[49m\u001b[38;5;241;43m.\u001b[39;49m\u001b[43mcreateAnnotationBlock\u001b[49m\u001b[43m(\u001b[49m\u001b[43midentifier\u001b[49m\u001b[38;5;241;43m=\u001b[39;49m\u001b[43mone_anot\u001b[49m\u001b[43m,\u001b[49m\n\u001b[1;32m      2\u001b[0m \u001b[43m                               \u001b[49m\u001b[43mmatch_score\u001b[49m\u001b[38;5;241;43m=\u001b[39;49m\u001b[43mone_score\u001b[49m\u001b[43m,\u001b[49m\n\u001b[1;32m      3\u001b[0m \u001b[43m                               \u001b[49m\u001b[43mknowledge_resource\u001b[49m\u001b[38;5;241;43m=\u001b[39;49m\u001b[38;5;28;43;01mNone\u001b[39;49;00m\u001b[43m,\u001b[49m\n\u001b[1;32m      4\u001b[0m \u001b[43m                               \u001b[49m\u001b[43mscore_type\u001b[49m\u001b[38;5;241;43m=\u001b[39;49m\u001b[38;5;28;43;01mNone\u001b[39;49;00m\u001b[43m,\u001b[49m\n\u001b[1;32m      5\u001b[0m \u001b[43m                               \u001b[49m\u001b[43mnested_qual\u001b[49m\u001b[38;5;241;43m=\u001b[39;49m\u001b[38;5;124;43m'\u001b[39;49m\u001b[38;5;124;43mbqbiol:hasProperty\u001b[39;49m\u001b[38;5;124;43m'\u001b[39;49m\u001b[43m)\u001b[49m\n",
      "File \u001b[0;32m~/Desktop/AutomateAnnotation/AMAS/notebooks/../AMAS/annotation_maker.py:91\u001b[0m, in \u001b[0;36mAnnotationMaker.createAnnotationBlock\u001b[0;34m(self, identifier, match_score, knowledge_resource, score_type, nested_qual)\u001b[0m\n\u001b[1;32m     89\u001b[0m \u001b[38;5;66;03m# outer tags\u001b[39;00m\n\u001b[1;32m     90\u001b[0m \u001b[38;5;28;01mfor\u001b[39;00m idx_indent, one_str \u001b[38;5;129;01min\u001b[39;00m \u001b[38;5;28menumerate\u001b[39m(tags_nested):\n\u001b[0;32m---> 91\u001b[0m   res \u001b[38;5;241m=\u001b[39m \u001b[43minsertEntry\u001b[49m(one_str, res, insert_loc\u001b[38;5;241m=\u001b[39midx_indent)\n\u001b[1;32m     92\u001b[0m \u001b[38;5;66;03m# 'bqbiol:is' item\u001b[39;00m\n\u001b[1;32m     93\u001b[0m res \u001b[38;5;241m=\u001b[39m [one_annotation] \u001b[38;5;241m+\u001b[39m res\n",
      "\u001b[0;31mNameError\u001b[0m: name 'insertEntry' is not defined"
     ]
    }
   ],
   "source": [
    "am_maker.createAnnotationBlock(identifier=one_anot,\n",
    "                               match_score=one_score,\n",
    "                               knowledge_resource=None,\n",
    "                               score_type=None,\n",
    "                               nested_qual='bqbiol:hasProperty')"
   ]
  },
  {
   "cell_type": "code",
   "execution_count": 153,
   "id": "2ab0341b-329e-48f4-a8ec-b3aadcda5442",
   "metadata": {},
   "outputs": [
    {
     "name": "stdout",
     "output_type": "stream",
     "text": [
      "<annotation>\n",
      "  <rdf:RDF xmlns:rdf=\"http://www.w3.org/1999/02/22-rdf-syntax-ns#\" xmlns:dcterms=\"http://purl.org/dc/terms/\" xmlns:vcard4=\"http://www.w3.org/2006/vcard/ns#\" xmlns:bqbiol=\"http://biomodels.net/biology-qualifiers/\" xmlns:bqmodel=\"http://biomodels.net/model-qualifiers/\">\n",
      "    <rdf:Description rdf:about=\"#metaid_0000036\">\n",
      "      <bqbiol:is>\n",
      "        <rdf:Bag>\n",
      "          <rdf:li rdf:resource=\"http://identifiers.org/chebi/CHEBI:59789\"/>\n",
      "          <bqbiol:hasProperty>\n",
      "            <rdf:Bag>\n",
      "                <rdf:li rdf:resource=\"http://amas_score/match_score/name/1.0\"/>\n",
      "            </rdf:Bag>\n",
      "          </bqbiol:hasProperty>\n",
      "          <rdf:li rdf:resource=\"http://identifiers.org/chebi/CHEBI:15414\"/>\n",
      "          <bqbiol:hasProperty>\n",
      "            <rdf:Bag>\n",
      "                <rdf:li rdf:resource=\"http://amas_score/match_score/name/1.0\"/>\n",
      "            </rdf:Bag>\n",
      "          </bqbiol:hasProperty>\n",
      "        </rdf:Bag>\n",
      "      </bqbiol:is>\n",
      "    </rdf:Description>\n",
      "  </rdf:RDF>\n",
      "</annotation>\n"
     ]
    }
   ],
   "source": [
    "# First, create an empty container\n",
    "tag_strs = ['annotation', \n",
    "            rdf_header,\n",
    "            'rdf:Description rdf:about=\"#metaid_0000036\"',\n",
    "            'bqbiol:is',\n",
    "            'rdf:Bag']\n",
    "one_annotation = '<rdf:li rdf:resource=\"http://identifiers.org/chebi/CHEBI:15414\"/>'\n",
    "empty_container =[]\n",
    "for idx, one_str in enumerate(tag_strs):\n",
    "  empty_container = insertEntry(inp_str=one_str, inp_list=empty_container)\n",
    "# print('\\n'.join(empty_container))\n",
    "# Now, create the annotation block and insert it.\n",
    "res_annotation_list = []\n",
    "for one_cand in one_recom.candidates:\n",
    "  one_res_list = createAnnotationBlock('chebi',  one_cand[0], one_cand[1], 'name')\n",
    "  res_annotation_list += one_res_list\n",
    "    \n",
    "# print('\\n'.join(res_annotation_list))\n",
    "\n",
    "mid_point = int(len(empty_container)/2)\n",
    "res_annotation_list_with_indents = [getIndent(mid_point)+val for val in res_annotation_list]\n",
    "comb_container = empty_container[:mid_point] + res_annotation_list_with_indents + empty_container[mid_point:]\n",
    "\n",
    "print('\\n'.join(comb_container))"
   ]
  },
  {
   "cell_type": "code",
   "execution_count": 154,
   "id": "f6e12df3-f2f3-4d08-b057-b09c9b0e178e",
   "metadata": {},
   "outputs": [
    {
     "data": {
      "text/plain": [
       "0"
      ]
     },
     "execution_count": 154,
     "metadata": {},
     "output_type": "execute_result"
    }
   ],
   "source": [
    "one_s.setAnnotation('\\n'.join(comb_container))"
   ]
  },
  {
   "cell_type": "code",
   "execution_count": 155,
   "id": "14e6d19f-919a-4f1d-94a1-2ea7b6ed5457",
   "metadata": {},
   "outputs": [
    {
     "name": "stdout",
     "output_type": "stream",
     "text": [
      "<annotation>\n",
      "  <rdf:RDF xmlns:rdf=\"http://www.w3.org/1999/02/22-rdf-syntax-ns#\" xmlns:dcterms=\"http://purl.org/dc/terms/\" xmlns:vcard4=\"http://www.w3.org/2006/vcard/ns#\" xmlns:bqbiol=\"http://biomodels.net/biology-qualifiers/\" xmlns:bqmodel=\"http://biomodels.net/model-qualifiers/\">\n",
      "    <rdf:Description rdf:about=\"#metaid_0000036\">\n",
      "      <bqbiol:is>\n",
      "        <rdf:Bag>\n",
      "          <rdf:li rdf:resource=\"http://identifiers.org/chebi/CHEBI:59789\"/>\n",
      "          <rdf:li rdf:resource=\"http://identifiers.org/chebi/CHEBI:15414\"/>\n",
      "        </rdf:Bag>\n",
      "      </bqbiol:is>\n",
      "    </rdf:Description>\n",
      "    <rdf:Description rdf:about=\"#metaid_0000036\">\n",
      "      <bqbiol:is>\n",
      "        <rdf:Bag>\n",
      "          <rdf:li rdf:resource=\"http://identifiers.org/chebi/CHEBI:59789\"/>\n",
      "          <bqbiol:hasProperty>\n",
      "            <rdf:Bag>\n",
      "              <rdf:li rdf:resource=\"http://amas_score/match_score/name/1.0\"/>\n",
      "            </rdf:Bag>\n",
      "          </bqbiol:hasProperty>\n",
      "          <rdf:li rdf:resource=\"http://identifiers.org/chebi/CHEBI:15414\"/>\n",
      "          <bqbiol:hasProperty>\n",
      "            <rdf:Bag>\n",
      "              <rdf:li rdf:resource=\"http://amas_score/match_score/name/1.0\"/>\n",
      "            </rdf:Bag>\n",
      "          </bqbiol:hasProperty>\n",
      "        </rdf:Bag>\n",
      "      </bqbiol:is>\n",
      "    </rdf:Description>\n",
      "  </rdf:RDF>\n",
      "</annotation>\n"
     ]
    }
   ],
   "source": [
    "print(one_s.getAnnotationString())"
   ]
  },
  {
   "cell_type": "code",
   "execution_count": null,
   "id": "25bdf664-9531-4755-aedc-7acd51110911",
   "metadata": {},
   "outputs": [],
   "source": []
  },
  {
   "cell_type": "code",
   "execution_count": 46,
   "id": "f72e3375-25ce-4ab6-8a0f-fa6d8c9c534e",
   "metadata": {},
   "outputs": [
    {
     "name": "stdout",
     "output_type": "stream",
     "text": [
      "<annotation>\n",
      "  <rdf:RDF xmlns:rdf=\"http://www.w3.org/1999/02/22-rdf-syntax-ns#\" xmlns:bqmodel=\"http://biomodels.net/model-qualifiers/\" xmlns:bqbiol=\"http://biomodels.net/biology-qualifiers/\">\n",
      "    <rdf:Description rdf:about=\"#metaid_0000036\">\n",
      "      <bqbiol:is>\n",
      "        <rdf:Bag>\n",
      "          <rdf:li rdf:resource=\"http://identifiers.org/chebi/CHEBI:15414\"/>\n",
      "        </rdf:Bag>\n",
      "      </bqbiol:is>\n",
      "    </rdf:Description>\n",
      "    <rdf:Description rdf:about=\"#metaid_0000036\">\n",
      "      <bqbiol:is>\n",
      "        <rdf:Bag>\n",
      "          <rdf:li rdf:resource=\"http://identifiers.org/chebi/CHEBI:15414\"/>\n",
      "          <bqbiol:isDescribedBy>\n",
      "            <rdf:Bag>\n",
      "              <rdf:li rdf:resource=\"http://amasscore/name_match_scoree/0.2\"/>\n",
      "            </rdf:Bag>\n",
      "          </bqbiol:isDescribedBy>\n",
      "        </rdf:Bag>\n",
      "      </bqbiol:is>\n",
      "    </rdf:Description>\n",
      "  </rdf:RDF>\n",
      "</annotation>\n"
     ]
    }
   ],
   "source": [
    "m = recom.sbml_document.getModel()\n",
    "s = m.getSpecies(one_s.getId())\n",
    "print(s.getAnnotationString())"
   ]
  },
  {
   "cell_type": "code",
   "execution_count": 9,
   "id": "56f3fbf1-c520-4a65-a011-ba8d2bb0b5be",
   "metadata": {},
   "outputs": [
    {
     "data": {
      "text/plain": [
       "1"
      ]
     },
     "execution_count": 9,
     "metadata": {},
     "output_type": "execute_result"
    }
   ],
   "source": [
    "libsbml.writeSBMLToFile(document, \"updated_model.xml\")"
   ]
  },
  {
   "cell_type": "code",
   "execution_count": 22,
   "id": "a8616d84-a8d5-4b2e-999c-caa319be9142",
   "metadata": {},
   "outputs": [
    {
     "ename": "NameError",
     "evalue": "name 'reader' is not defined",
     "output_type": "error",
     "traceback": [
      "\u001b[0;31m---------------------------------------------------------------------------\u001b[0m",
      "\u001b[0;31mNameError\u001b[0m                                 Traceback (most recent call last)",
      "Cell \u001b[0;32mIn[22], line 1\u001b[0m\n\u001b[0;32m----> 1\u001b[0m doc \u001b[38;5;241m=\u001b[39m \u001b[43mreader\u001b[49m\u001b[38;5;241m.\u001b[39mreadSBML(\u001b[38;5;124m\"\u001b[39m\u001b[38;5;124mupdated_model.xml\u001b[39m\u001b[38;5;124m\"\u001b[39m)\n\u001b[1;32m      2\u001b[0m m \u001b[38;5;241m=\u001b[39m doc\u001b[38;5;241m.\u001b[39mgetModel()\n\u001b[1;32m      3\u001b[0m \u001b[38;5;28mprint\u001b[39m(m\u001b[38;5;241m.\u001b[39mgetSpecies(one_s\u001b[38;5;241m.\u001b[39mgetId())\u001b[38;5;241m.\u001b[39mgetAnnotationString())\n",
      "\u001b[0;31mNameError\u001b[0m: name 'reader' is not defined"
     ]
    }
   ],
   "source": [
    "doc = reader.readSBML(\"updated_model.xml\")\n",
    "m = doc.getModel()\n",
    "print(m.getSpecies(one_s.getId()).getAnnotationString())"
   ]
  },
  {
   "cell_type": "code",
   "execution_count": 20,
   "id": "9f8ca68c-d7e7-4fd1-a926-6d1f5f5fae5b",
   "metadata": {},
   "outputs": [
    {
     "name": "stdout",
     "output_type": "stream",
     "text": [
      "ODC\n",
      "<annotation>\n",
      "  <rdf:RDF xmlns:rdf=\"http://www.w3.org/1999/02/22-rdf-syntax-ns#\" xmlns:bqmodel=\"http://biomodels.net/model-qualifiers/\" xmlns:bqbiol=\"http://biomodels.net/biology-qualifiers/\">\n",
      "    <rdf:Description rdf:about=\"#metaid_0000062\">\n",
      "      <bqbiol:isVersionOf>\n",
      "        <rdf:Bag>\n",
      "          <rdf:li rdf:resource=\"http://identifiers.org/ec-code/4.1.1.17\"/>\n",
      "          <rdf:li rdf:resource=\"http://identifiers.org/kegg.reaction/R00670\"/>\n",
      "          <rdf:li rdf:resource=\"http://identifiers.org/reactome/REACT_1211.3\"/>\n",
      "        </rdf:Bag>\n",
      "      </bqbiol:isVersionOf>\n",
      "    </rdf:Description>\n",
      "  </rdf:RDF>\n",
      "</annotation>\n"
     ]
    }
   ],
   "source": [
    "BIOMD_190_PATH = os.path.join(cn.TEST_DIR, 'BIOMD0000000190.xml')\n",
    "reader = libsbml.SBMLReader()\n",
    "document = reader.readSBML(BIOMD_190_PATH)\n",
    "model = document.getModel()\n",
    "for one_r in model.getListOfReactions():\n",
    "  print(one_r.getId())\n",
    "  print(one_r.getAnnotationString())\n",
    "  break"
   ]
  },
  {
   "cell_type": "code",
   "execution_count": 22,
   "id": "64c50d3d-37ef-4bb1-8015-75022c0e553b",
   "metadata": {},
   "outputs": [
    {
     "name": "stdout",
     "output_type": "stream",
     "text": [
      "Recommendation(id='ODC', credibility=0.817, candidates=[('RHEA:28827', 1.0), ('RHEA:22964', 0.5), ('RHEA:59048', 0.5)], urls=['https://www.rhea-db.org/rhea/28827', 'https://www.rhea-db.org/rhea/22964', 'https://www.rhea-db.org/rhea/59048'], labels=['L-ornithine(out) + putrescine(in) = L-ornithine(in) + putrescine(out)', 'ornithine decarboxylase activity', 'D-ornithine + H(+) = CO2 + putrescine'])\n",
      "\n"
     ]
    },
    {
     "data": {
      "text/plain": [
       "Recommendation(id='ODC', credibility=0.817, candidates=[('RHEA:28827', 1.0)], urls=['https://www.rhea-db.org/rhea/28827'], labels=['L-ornithine(out) + putrescine(in) = L-ornithine(in) + putrescine(out)'])"
      ]
     },
     "execution_count": 22,
     "metadata": {},
     "output_type": "execute_result"
    }
   ],
   "source": [
    "recom = recommender.Recommender(libsbml_fpath=BIOMD_190_PATH)\n",
    "one_recom = recom.getReactionListAnnotation(pred_ids=[one_r.getId()])[0]\n",
    "print(one_recom)\n",
    "print()\n",
    "filt_recom = recom.filterRecommendationByThreshold(one_recom, 0.8)\n",
    "filt_recom"
   ]
  },
  {
   "cell_type": "code",
   "execution_count": null,
   "id": "cd9239f9-3b01-40bf-91f0-e1b3bdf704ea",
   "metadata": {},
   "outputs": [],
   "source": []
  },
  {
   "cell_type": "code",
   "execution_count": null,
   "id": "e45001ef-e0ac-4c44-b670-3e76b5b65e2a",
   "metadata": {},
   "outputs": [],
   "source": []
  },
  {
   "cell_type": "code",
   "execution_count": null,
   "id": "ad5474d7-5774-4951-aee1-5573639b849a",
   "metadata": {},
   "outputs": [],
   "source": []
  },
  {
   "cell_type": "code",
   "execution_count": null,
   "id": "413de5c4-252b-4186-bc94-e9d14175c205",
   "metadata": {},
   "outputs": [],
   "source": []
  },
  {
   "cell_type": "code",
   "execution_count": null,
   "id": "70aecd7e-8f6d-4533-8cfa-a9249bf016ae",
   "metadata": {},
   "outputs": [],
   "source": []
  },
  {
   "cell_type": "code",
   "execution_count": null,
   "id": "3cc6f5da-48ce-44bd-b350-50c1c4baff53",
   "metadata": {},
   "outputs": [],
   "source": []
  }
 ],
 "metadata": {
  "kernelspec": {
   "display_name": "Python 3 (ipykernel)",
   "language": "python",
   "name": "python3"
  },
  "language_info": {
   "codemirror_mode": {
    "name": "ipython",
    "version": 3
   },
   "file_extension": ".py",
   "mimetype": "text/x-python",
   "name": "python",
   "nbconvert_exporter": "python",
   "pygments_lexer": "ipython3",
   "version": "3.9.15"
  }
 },
 "nbformat": 4,
 "nbformat_minor": 5
}
