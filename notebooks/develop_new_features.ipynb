{
 "cells": [
  {
   "cell_type": "code",
   "execution_count": 1,
   "id": "8cecb41a-2afa-4d4e-b6ca-3ef573c74943",
   "metadata": {},
   "outputs": [],
   "source": [
    "# Sort based on match scores, \n",
    "# 1. cutoff, 2. save file with annotation\n",
    "import collections\n",
    "\n",
    "import compress_pickle\n",
    "import itertools\n",
    "import libsbml\n",
    "import numpy as np\n",
    "import os\n",
    "import pickle\n",
    "import pandas as pd\n",
    "import sys\n",
    "import time\n",
    "import matplotlib.pyplot as plt\n",
    "%matplotlib inline  \n",
    "\n",
    "BIOMD_12 = 'BIOMD0000000012.xml'\n",
    "BASE_DIR = '/Users/woosubs/Desktop/AutomateAnnotation/'\n",
    "DATA_DIR = os.path.join(BASE_DIR, \"DATA\")\n",
    "ALGO_DIR = os.path.join(DATA_DIR, \"algo\")\n",
    "CHEBI_DIR = os.path.join(DATA_DIR, \"chebi\")\n",
    "RHEA_DIR = os.path.join(DATA_DIR, \"rhea\")\n",
    "BIOMODEL_DIR = os.path.join(DATA_DIR, \"biomodels/curated_biomodels_31mar2021\")\n",
    "BIGG_DIR = '/Users/woosubs/Desktop/AutomateAnnotation/DATA/bigg'\n",
    "ecoli_fpath = os.path.join(BIGG_DIR, \"e_coli_core.xml\")\n",
    "\n",
    "PROJ_DIR = os.path.join(os.getcwd(), os.pardir)\n",
    "AMAS_DIR = os.path.join(PROJ_DIR, \"AMAS\")\n",
    "sys.path.append(PROJ_DIR)\n",
    "\n",
    "SUPPL_DIR = os.path.join(PROJ_DIR, os.pardir, \"AMAS_suppl\")\n",
    "ACCURACY_DIR = os.path.join(SUPPL_DIR, \"data_for_credibility\")\n",
    "RESULT_DIR = '/Users/woosubs/Desktop/AutomateAnnotation/AMAS_suppl/result_files'\n",
    "\n",
    "from AMAS import species_annotation as sa\n",
    "from AMAS import reaction_annotation as ra\n",
    "from AMAS import recommender\n",
    "from AMAS import constants as cn\n",
    "from AMAS import iterator as it\n",
    "from AMAS import tools"
   ]
  },
  {
   "cell_type": "code",
   "execution_count": 2,
   "id": "c10381de-9c78-4862-855c-301d0b8896c1",
   "metadata": {},
   "outputs": [],
   "source": [
    "E_COLI_PATH = os.path.join(cn.TEST_DIR, 'e_coli_core.xml')\n",
    "recom = recommender.Recommender(libsbml_fpath=E_COLI_PATH)\n",
    "reader = libsbml.SBMLReader()\n",
    "document = reader.readSBML(E_COLI_PATH)\n",
    "model = document.getModel()"
   ]
  },
  {
   "cell_type": "code",
   "execution_count": 3,
   "id": "b7faa3bf-6740-4464-96d7-4c3befc9d6ae",
   "metadata": {},
   "outputs": [],
   "source": [
    "exist_anot_species = list(recom.species.exist_annotation_formula)\n",
    "exist_anot_reaction = list(recom.reactions.exist_annotation)"
   ]
  },
  {
   "cell_type": "code",
   "execution_count": 4,
   "id": "36ce1bad-835b-42dc-a10b-98d04c6d69c7",
   "metadata": {},
   "outputs": [
    {
     "name": "stdout",
     "output_type": "stream",
     "text": [
      "R_PFL\n"
     ]
    }
   ],
   "source": [
    "one_rid = exist_anot_reaction[1]\n",
    "print(one_rid)\n",
    "inp_recom = recom.getReactionRecommendation(pred_id=one_rid)"
   ]
  },
  {
   "cell_type": "code",
   "execution_count": 5,
   "id": "0b4da0f3-bfde-4964-a12b-75e93db9ded1",
   "metadata": {},
   "outputs": [],
   "source": [
    "recom = recommender.Recommender(libsbml_fpath=E_COLI_PATH)"
   ]
  },
  {
   "cell_type": "code",
   "execution_count": 6,
   "id": "d6941434-9dd2-4d60-8727-482063f18f75",
   "metadata": {},
   "outputs": [
    {
     "data": {
      "text/plain": [
       "[('RHEA:11844', 1.0),\n",
       " ('RHEA:17425', 0.8),\n",
       " ('RHEA:22988', 0.8),\n",
       " ('RHEA:22992', 0.8),\n",
       " ('RHEA:28042', 0.8)]"
      ]
     },
     "execution_count": 6,
     "metadata": {},
     "output_type": "execute_result"
    }
   ],
   "source": [
    "filt_recom = recom.filterRecommendationByThreshold(inp_recom=inp_recom, inp_thresh=0.8)\n",
    "filt_recom.candidates"
   ]
  },
  {
   "cell_type": "code",
   "execution_count": 7,
   "id": "501cee10-d8a8-4282-80ba-c7c7101dccb3",
   "metadata": {},
   "outputs": [],
   "source": [
    "# print(len(two_recom.candidates))\n",
    "# print(len(filterRecommendationByThreshold(inp_recom=two_recom, inp_thresh=0.8).candidates))"
   ]
  },
  {
   "cell_type": "markdown",
   "id": "12aaf321-1737-43da-9adf-90d62d1d6178",
   "metadata": {},
   "source": [
    "### Include filtered recommendations to update results"
   ]
  },
  {
   "cell_type": "code",
   "execution_count": 8,
   "id": "dd2fcc5e-e88d-4a2a-8746-8559adfd3bd6",
   "metadata": {},
   "outputs": [],
   "source": [
    "# how to save recommendation? \n",
    "# If species, create annotation string and "
   ]
  },
  {
   "cell_type": "code",
   "execution_count": 9,
   "id": "00784541-0c72-4a52-a34f-7d67e3ec128f",
   "metadata": {},
   "outputs": [
    {
     "name": "stdout",
     "output_type": "stream",
     "text": [
      "SAM\n",
      "<annotation>\n",
      "  <rdf:RDF xmlns:rdf=\"http://www.w3.org/1999/02/22-rdf-syntax-ns#\" xmlns:bqmodel=\"http://biomodels.net/model-qualifiers/\" xmlns:bqbiol=\"http://biomodels.net/biology-qualifiers/\">\n",
      "    <rdf:Description rdf:about=\"#metaid_0000036\">\n",
      "      <bqbiol:is>\n",
      "        <rdf:Bag>\n",
      "          <rdf:li rdf:resource=\"http://identifiers.org/obo.chebi/CHEBI:15414\"/>\n",
      "          <rdf:li rdf:resource=\"http://identifiers.org/kegg.compound/C00019\"/>\n",
      "        </rdf:Bag>\n",
      "      </bqbiol:is>\n",
      "    </rdf:Description>\n",
      "  </rdf:RDF>\n",
      "</annotation>\n"
     ]
    }
   ],
   "source": [
    "BIOMD_190_PATH = os.path.join(cn.TEST_DIR, 'BIOMD0000000190.xml')\n",
    "recom = recommender.Recommender(libsbml_fpath=BIOMD_190_PATH)\n",
    "model = recom.sbml_document.getModel()\n",
    "for one_s in model.getListOfSpecies():\n",
    "  print(one_s.getId())\n",
    "  print(one_s.getAnnotationString())\n",
    "  break"
   ]
  },
  {
   "cell_type": "code",
   "execution_count": 10,
   "id": "396f46ba-43ae-4056-a3a2-4884ff0c2ecc",
   "metadata": {},
   "outputs": [],
   "source": [
    "from AMAS import annotation_maker as am"
   ]
  },
  {
   "cell_type": "code",
   "execution_count": 11,
   "id": "f7c3ed95-07c9-4b1f-b705-18f7572c6e6d",
   "metadata": {},
   "outputs": [],
   "source": [
    "one_anot = 'CHEBI:15414'\n",
    "one_score = 0.2"
   ]
  },
  {
   "cell_type": "code",
   "execution_count": 12,
   "id": "30d92311-5356-423a-a463-d59a0e24befd",
   "metadata": {},
   "outputs": [],
   "source": [
    "maker = am.AnnotationMaker('species')"
   ]
  },
  {
   "cell_type": "code",
   "execution_count": 13,
   "id": "a1d7ddd9-8496-4639-940e-d49d0ed1fe2f",
   "metadata": {},
   "outputs": [
    {
     "data": {
      "text/plain": [
       "'  '"
      ]
     },
     "execution_count": 13,
     "metadata": {},
     "output_type": "execute_result"
    }
   ],
   "source": [
    "maker.getIndent(1)"
   ]
  },
  {
   "cell_type": "code",
   "execution_count": 25,
   "id": "84edb109-6fca-4209-bab8-df25c6455b26",
   "metadata": {},
   "outputs": [
    {
     "name": "stdout",
     "output_type": "stream",
     "text": [
      "3.9.15\n"
     ]
    }
   ],
   "source": [
    "from platform import python_version\n",
    "\n",
    "print(python_version())"
   ]
  },
  {
   "cell_type": "code",
   "execution_count": 14,
   "id": "04624373-05b4-4eac-adc9-109814a08190",
   "metadata": {},
   "outputs": [
    {
     "data": {
      "text/plain": [
       "['<rdf:li rdf:resource=\"http://identifiers.org/chebi/CHEBI:15414\"/>',\n",
       " '<bqbiol:hasProperty>',\n",
       " '  <rdf:Bag>',\n",
       " '    <rdf:li rdf:resource=\"http://reproduciblebiomodels.org/amas/v1/by_name/0.20\"/>',\n",
       " '  </rdf:Bag>',\n",
       " '</bqbiol:hasProperty>']"
      ]
     },
     "execution_count": 14,
     "metadata": {},
     "output_type": "execute_result"
    }
   ],
   "source": [
    "maker.createAnnotationBlock(identifier=one_anot,\n",
    "                               match_score=one_score,\n",
    "                               knowledge_resource=None,\n",
    "                               score_type=None,\n",
    "                               nested_prefix='bqbiol:hasProperty')"
   ]
  },
  {
   "cell_type": "code",
   "execution_count": 17,
   "id": "d5a0f293-0c6b-4f42-aa7b-82a384e5f0ed",
   "metadata": {},
   "outputs": [
    {
     "data": {
      "text/plain": [
       "'<rdf:li rdf:resource=\"http://reproduciblebiomodels.org/amas/v1/by_name/0.20\"/>'"
      ]
     },
     "execution_count": 17,
     "metadata": {},
     "output_type": "execute_result"
    }
   ],
   "source": [
    "one_score = maker.createScoreItem(0.2,maker.score_type)\n",
    "one_score"
   ]
  },
  {
   "cell_type": "code",
   "execution_count": 15,
   "id": "91de48f9-b44f-4f07-bc99-9dd96e59ecc0",
   "metadata": {},
   "outputs": [
    {
     "name": "stdout",
     "output_type": "stream",
     "text": [
      "<annotation>\n",
      "  <rdf:RDF xmlns:rdf=\"http://www.w3.org/1999/02/22-rdf-syntax-ns#\" xmlns:dcterms=\"http://purl.org/dc/terms/\" xmlns:vcard4=\"http://www.w3.org/2006/vcard/ns#\" xmlns:bqbiol=\"http://biomodels.net/biology-qualifiers/\" xmlns:bqmodel=\"http://biomodels.net/model-qualifiers/\">\n",
      "    <rdf:Description rdf:about=\"#metaid_0000036\">\n",
      "      <bqbiol:is>\n",
      "        <rdf:Bag>\n",
      "          <rdf:li rdf:resource=\"http://identifiers.org/chebi/CHEBI:15414\"/>\n",
      "          <bqbiol:hasProperty>\n",
      "            <rdf:Bag>\n",
      "              <rdf:li rdf:resource=\"http://reproduciblebiomodels.org/amas/v1/by_name/1.00\"/>\n",
      "            </rdf:Bag>\n",
      "          </bqbiol:hasProperty>\n",
      "        </rdf:Bag>\n",
      "      </bqbiol:is>\n",
      "    </rdf:Description>\n",
      "  </rdf:RDF>\n",
      "</annotation>\n"
     ]
    }
   ],
   "source": [
    "ONE_CHEBI = 'CHEBI:15414'\n",
    "ONE_CHEBI_SCORE = 1.00\n",
    "TWO_CHEBI = 'CHEBI:59789'\n",
    "TWO_CHEBI_SCORE = 1.00\n",
    "CANDIDATES = [(ONE_CHEBI, ONE_CHEBI_SCORE),\n",
    "              (TWO_CHEBI, TWO_CHEBI_SCORE)]\n",
    "\n",
    "\n",
    "one_str = maker.getAnnotationString([(ONE_CHEBI, ONE_CHEBI_SCORE)], meta_id='0000036')\n",
    "print(one_str)"
   ]
  },
  {
   "cell_type": "code",
   "execution_count": 26,
   "id": "43aa6023-f398-423c-8e22-160e01be1b57",
   "metadata": {},
   "outputs": [
    {
     "name": "stdout",
     "output_type": "stream",
     "text": [
      "<annotation>\n",
      "  <rdf:RDF xmlns:rdf=\"http://www.w3.org/1999/02/22-rdf-syntax-ns#\" xmlns:dcterms=\"http://purl.org/dc/terms/\" xmlns:vcard4=\"http://www.w3.org/2006/vcard/ns#\" xmlns:bqbiol=\"http://biomodels.net/biology-qualifiers/\" xmlns:bqmodel=\"http://biomodels.net/model-qualifiers/\">\n",
      "    <rdf:Description rdf:about=\"#metaid_0000036\">\n",
      "      <bqbiol:is>\n",
      "        <rdf:Bag>\n",
      "          <rdf:li rdf:resource=\"http://identifiers.org/chebi/CHEBI:15414\"/>\n",
      "          <bqbiol:hasProperty>\n",
      "            <rdf:Bag>\n",
      "              <rdf:li rdf:resource=\"http://additional_information\"/>\n",
      "            </rdf:Bag>\n",
      "          </bqbiol:hasProperty>\n",
      "        </rdf:Bag>\n",
      "      </bqbiol:is>\n",
      "    </rdf:Description>\n",
      "  </rdf:RDF>\n",
      "</annotation>\n",
      "\n"
     ]
    }
   ],
   "source": [
    "# to directly read from a (modified) txt file. \n",
    "ANNOTATION_TXT_DIR = '/Users/woosubs/Desktop/AutomateAnnotation/AMAS_suppl/creating_annotation'\n",
    "from pathlib import Path\n",
    "txt = Path(os.path.join(ANNOTATION_TXT_DIR, 'for_issue_sbml.txt')).read_text()\n",
    "print(txt)"
   ]
  },
  {
   "cell_type": "code",
   "execution_count": 27,
   "id": "aeaf7e9a-45e9-4c3f-a6cd-40e35a5bbb06",
   "metadata": {},
   "outputs": [
    {
     "data": {
      "text/plain": [
       "libsbml.Species"
      ]
     },
     "execution_count": 27,
     "metadata": {},
     "output_type": "execute_result"
    }
   ],
   "source": [
    "type(one_s)"
   ]
  },
  {
   "cell_type": "code",
   "execution_count": 28,
   "id": "da1a8c67-cf5e-417c-945f-477d2fdf096f",
   "metadata": {},
   "outputs": [
    {
     "data": {
      "text/plain": [
       "0"
      ]
     },
     "execution_count": 28,
     "metadata": {},
     "output_type": "execute_result"
    }
   ],
   "source": [
    "one_s.setAnnotation(txt)"
   ]
  },
  {
   "cell_type": "code",
   "execution_count": 29,
   "id": "f72e3375-25ce-4ab6-8a0f-fa6d8c9c534e",
   "metadata": {},
   "outputs": [
    {
     "name": "stdout",
     "output_type": "stream",
     "text": [
      "<annotation>\n",
      "  <rdf:RDF xmlns:rdf=\"http://www.w3.org/1999/02/22-rdf-syntax-ns#\" xmlns:dcterms=\"http://purl.org/dc/terms/\" xmlns:vcard4=\"http://www.w3.org/2006/vcard/ns#\" xmlns:bqbiol=\"http://biomodels.net/biology-qualifiers/\" xmlns:bqmodel=\"http://biomodels.net/model-qualifiers/\">\n",
      "    <rdf:Description rdf:about=\"#metaid_0000036\">\n",
      "      <bqbiol:is>\n",
      "        <rdf:Bag>\n",
      "          <rdf:li rdf:resource=\"http://identifiers.org/chebi/CHEBI:15414\"/>\n",
      "        </rdf:Bag>\n",
      "      </bqbiol:is>\n",
      "    </rdf:Description>\n",
      "    <rdf:Description rdf:about=\"#metaid_0000036\">\n",
      "      <bqbiol:is>\n",
      "        <rdf:Bag>\n",
      "          <rdf:li rdf:resource=\"http://identifiers.org/chebi/CHEBI:15414\"/>\n",
      "          <bqbiol:hasProperty>\n",
      "            <rdf:Bag>\n",
      "              <rdf:li rdf:resource=\"http://additional_information\"/>\n",
      "            </rdf:Bag>\n",
      "          </bqbiol:hasProperty>\n",
      "        </rdf:Bag>\n",
      "      </bqbiol:is>\n",
      "    </rdf:Description>\n",
      "  </rdf:RDF>\n",
      "</annotation>\n"
     ]
    }
   ],
   "source": [
    "print(one_s.getAnnotationString())"
   ]
  },
  {
   "cell_type": "code",
   "execution_count": 19,
   "id": "9a3059b6-7eb6-472b-b0ca-beaa9171d789",
   "metadata": {},
   "outputs": [],
   "source": [
    "# libsbml.writeSBMLToFile(document, \"updated_model.xml\")\n",
    "# doc = reader.readSBML(\"updated_model.xml\")\n",
    "# m = doc.getModel()\n",
    "# print(m.getSpecies(one_s.getId()).getAnnotationString())"
   ]
  },
  {
   "cell_type": "code",
   "execution_count": 20,
   "id": "9f8ca68c-d7e7-4fd1-a926-6d1f5f5fae5b",
   "metadata": {},
   "outputs": [
    {
     "name": "stdout",
     "output_type": "stream",
     "text": [
      "ODC\n",
      "<annotation>\n",
      "  <rdf:RDF xmlns:rdf=\"http://www.w3.org/1999/02/22-rdf-syntax-ns#\" xmlns:bqmodel=\"http://biomodels.net/model-qualifiers/\" xmlns:bqbiol=\"http://biomodels.net/biology-qualifiers/\">\n",
      "    <rdf:Description rdf:about=\"#metaid_0000062\">\n",
      "      <bqbiol:isVersionOf>\n",
      "        <rdf:Bag>\n",
      "          <rdf:li rdf:resource=\"http://identifiers.org/ec-code/4.1.1.17\"/>\n",
      "          <rdf:li rdf:resource=\"http://identifiers.org/kegg.reaction/R00670\"/>\n",
      "          <rdf:li rdf:resource=\"http://identifiers.org/reactome/REACT_1211.3\"/>\n",
      "        </rdf:Bag>\n",
      "      </bqbiol:isVersionOf>\n",
      "    </rdf:Description>\n",
      "  </rdf:RDF>\n",
      "</annotation>\n"
     ]
    }
   ],
   "source": [
    "BIOMD_190_PATH = os.path.join(cn.TEST_DIR, 'BIOMD0000000190.xml')\n",
    "reader = libsbml.SBMLReader()\n",
    "document = reader.readSBML(BIOMD_190_PATH)\n",
    "model = document.getModel()\n",
    "for one_r in model.getListOfReactions():\n",
    "  print(one_r.getId())\n",
    "  print(one_r.getAnnotationString())\n",
    "  break"
   ]
  },
  {
   "cell_type": "code",
   "execution_count": 21,
   "id": "64c50d3d-37ef-4bb1-8015-75022c0e553b",
   "metadata": {},
   "outputs": [],
   "source": [
    "# recom = recommender.Recommender(libsbml_fpath=BIOMD_190_PATH)\n",
    "# one_recom = recom.getReactionListAnnotation(pred_ids=[one_r.getId()])[0]\n",
    "# print(one_recom)\n",
    "# print()\n",
    "# filt_recom = recom.filterRecommendationByThreshold(one_recom, 0.8)\n",
    "# filt_recom"
   ]
  },
  {
   "cell_type": "code",
   "execution_count": null,
   "id": "cd9239f9-3b01-40bf-91f0-e1b3bdf704ea",
   "metadata": {},
   "outputs": [],
   "source": []
  },
  {
   "cell_type": "code",
   "execution_count": null,
   "id": "e45001ef-e0ac-4c44-b670-3e76b5b65e2a",
   "metadata": {},
   "outputs": [],
   "source": []
  },
  {
   "cell_type": "code",
   "execution_count": null,
   "id": "ad5474d7-5774-4951-aee1-5573639b849a",
   "metadata": {},
   "outputs": [],
   "source": []
  },
  {
   "cell_type": "code",
   "execution_count": null,
   "id": "413de5c4-252b-4186-bc94-e9d14175c205",
   "metadata": {},
   "outputs": [],
   "source": []
  },
  {
   "cell_type": "code",
   "execution_count": null,
   "id": "70aecd7e-8f6d-4533-8cfa-a9249bf016ae",
   "metadata": {},
   "outputs": [],
   "source": []
  },
  {
   "cell_type": "code",
   "execution_count": null,
   "id": "3cc6f5da-48ce-44bd-b350-50c1c4baff53",
   "metadata": {},
   "outputs": [],
   "source": []
  }
 ],
 "metadata": {
  "kernelspec": {
   "display_name": "Python 3 (ipykernel)",
   "language": "python",
   "name": "python3"
  },
  "language_info": {
   "codemirror_mode": {
    "name": "ipython",
    "version": 3
   },
   "file_extension": ".py",
   "mimetype": "text/x-python",
   "name": "python",
   "nbconvert_exporter": "python",
   "pygments_lexer": "ipython3",
   "version": "3.9.15"
  }
 },
 "nbformat": 4,
 "nbformat_minor": 5
}
