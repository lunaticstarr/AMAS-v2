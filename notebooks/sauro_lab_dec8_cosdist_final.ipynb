{
 "cells": [
  {
   "cell_type": "code",
   "execution_count": 24,
   "id": "157bee32-c65e-426c-880e-3075eb147ef3",
   "metadata": {},
   "outputs": [],
   "source": [
    "def getCountOfIndividualCharacters(inp_str):\n",
    "  \"\"\"\n",
    "  Get a list of characters\n",
    "  between a-z and 0-9. \n",
    "  \n",
    "  Parameters\n",
    "  ----------\n",
    "  inp_str: str\n",
    "  \n",
    "  Returns\n",
    "  -------\n",
    "  : list\n",
    "  \"\"\"\n",
    "  return collections.Counter(itertools.chain(*re.findall('[a-z0-9]+', inp_str.lower())))\n",
    "#\n",
    "def getTupleFromDict(inp_dict):\n",
    "  \"\"\"\n",
    "  Get a list of tuples,\n",
    "  where each tuple has an item and a key\n",
    "  from a dictionary. \n",
    "  e.g.) {'key': 'x', 'y'}\n",
    "  will be transofrmed as \n",
    "  [('x', 'key'), ('y', 'key')]\n",
    "   \n",
    "  Parameters\n",
    "  ----------\n",
    "  inp_dict: dict\n",
    "  \n",
    "  Returns\n",
    "  -------\n",
    "  : list-tuple\n",
    "  \"\"\"\n",
    "  res_list = []\n",
    "  for one_k in inp_dict.keys():\n",
    "    one_itm = inp_dict[one_k]\n",
    "    res_list.append([(val, one_k) for val in one_itm])\n",
    "  return list(itertools.chain(*res_list))\n",
    "\n",
    "\n",
    "def prepareCounterQuery(specs,\n",
    "                        ref_cols,\n",
    "                        use_id=True):\n",
    "  \"\"\"\n",
    "  Prepare a query vector, which will be used\n",
    "  as a vector for predictor variables.\n",
    "  Input will be a list of\n",
    "  IDs using which names_used will be determined. \n",
    "  In addition, querys will also be scaled\n",
    "  by the length of each vector. \n",
    "  \n",
    "  There is 'use_id' option, so\n",
    "  if False, directly use the string\n",
    "  instead of searching for used_name. \n",
    "  \n",
    "  Parameters\n",
    "  ----------\n",
    "  list-str: specs\n",
    "      IDs of species\n",
    "  ref_cols: list-str\n",
    "      Column names to use\n",
    "  use_id: bool\n",
    "      If False, directly use the string\n",
    "      If True, use getNameToUse\n",
    "      \n",
    "  Returns\n",
    "  -------\n",
    "  : pandas.DataFrame\n",
    "  : dict\n",
    "  \"\"\"\n",
    "  name_used = dict()\n",
    "  query_mat = pd.DataFrame(0, index=ref_cols, columns=specs)\n",
    "  for one_spec in specs:\n",
    "    if use_id:\n",
    "      name2use = recom.species.getNameToUse(one_spec)\n",
    "      # characters are lowered in getCountOfIndividualCharacters()\n",
    "      char_counts = getCountOfIndividualCharacters(name2use)\n",
    "      name_used[one_spec] = name2use\n",
    "    else:\n",
    "      name2use = one_spec\n",
    "      # characters are lowered in getCountOfIndividualCharacters()\n",
    "      char_counts = getCountOfIndividualCharacters(name2use)\n",
    "      name_used[one_spec] = name2use\n",
    "    for one_char in char_counts:\n",
    "      query_mat.loc[one_char, one_spec] = char_counts[one_char] \n",
    "  # Now, scale it using the vector distance\n",
    "  div_row = query_mat.apply(lambda col : np.sqrt(np.sum([val**2 for val in col])), axis = 0)\n",
    "  norm_query = query_mat.divide(div_row, axis=1)\n",
    "  return norm_query, name_used\n",
    "\n",
    "def predictAnnotationByCosineDistance(inp_specs, ref_df):\n",
    "  \"\"\"\n",
    "  Predict annotation by taking cosine distance \n",
    "  of character count vectors.\n",
    "  \n",
    "  Parameters\n",
    "  ----------\n",
    "  list-str: species_ids\n",
    "      IDs of species\n",
    "\n",
    "  Returnsa\n",
    "  -------\n",
    "  : dict\n",
    "  \"\"\"\n",
    "  one_query, name_used = prepareCounterQuery(specs=inp_specs,\n",
    "                                             ref_cols=ref_df.columns,\n",
    "                                             use_id=True)\n",
    "  multi_mat = ref_df.dot(one_query)\n",
    "  max_val = multi_mat.max()\n",
    "  result = dict()\n",
    "  for one_spec in one_query.columns:\n",
    "    one_res = dict()\n",
    "    one_res[cn.NAME_USED] = name_used[one_spec]\n",
    "    cand_index = multi_mat[abs(multi_mat[one_spec]-max_val[one_spec])<0.00001].index\n",
    "    cand_tuples = [chebi_str_tups[val] for val in cand_index]\n",
    "    one_res[cn.CHEBI] = list(set([val[1] for val in cand_tuples]))\n",
    "    one_res[cn.MATCH_SCORE] = [(val, np.round(max_val[one_spec], 2)) \\\n",
    "                               for val in one_res[cn.CHEBI]]\n",
    "    one_res[cn.FORMULA] = list(set([cn.REF_CHEBI2FORMULA[val] for val in one_res[cn.CHEBI] \\\n",
    "                           if val in cn.REF_CHEBI2FORMULA.keys()])) \n",
    "    result[one_spec] = one_res\n",
    "  return result"
   ]
  },
  {
   "cell_type": "code",
   "execution_count": 25,
   "id": "8293280e-8335-45fb-a14e-d36aeb66417f",
   "metadata": {},
   "outputs": [
    {
     "name": "stdout",
     "output_type": "stream",
     "text": [
      "True\n"
     ]
    }
   ],
   "source": [
    "# developing (and testing) Alternative methods for species, evaluating them\n",
    "import collections\n",
    "import copy\n",
    "import compress_pickle\n",
    "import editdistance\n",
    "import itertools\n",
    "import libsbml\n",
    "import numpy as np\n",
    "import os\n",
    "import pickle\n",
    "import pandas as pd\n",
    "import re\n",
    "import sys\n",
    "import time\n",
    "import matplotlib.pyplot as plt\n",
    "%matplotlib inline  \n",
    "\n",
    "BIOMD_12 = 'BIOMD0000000012.xml'\n",
    "BASE_DIR = '/Users/woosubs/Desktop/AutomateAnnotation/'\n",
    "DATA_DIR = os.path.join(BASE_DIR, \"DATA\")\n",
    "ALGO_DIR = os.path.join(DATA_DIR, \"algo\")\n",
    "CHEBI_DIR = os.path.join(DATA_DIR, \"chebi\")\n",
    "RHEA_DIR = os.path.join(DATA_DIR, \"rhea\")\n",
    "BIOMODEL_DIR = os.path.join(DATA_DIR, \"biomodels/curated_biomodels_31mar2021\")\n",
    "BIGG_DIR = '/Users/woosubs/Desktop/AutomateAnnotation/DATA/bigg'\n",
    "\n",
    "# Is for this purpose only\n",
    "SAUROLAB_DIR = '/Users/woosubs/Desktop/AutomateAnnotation/presentation/sauro_lab/dec8_2022'\n",
    "\n",
    "# dir for alternative methods for species\n",
    "ALT_DIR = '/Users/woosubs/Desktop/AutomateAnnotation/AMAS_suppl/alt_methods_species_data'\n",
    "ecoli_fpath = os.path.join(BIGG_DIR, \"e_coli_core.xml\")\n",
    "\n",
    "PROJ_DIR = os.path.join(os.getcwd(), os.pardir)\n",
    "AMAS_DIR = os.path.join(PROJ_DIR, \"AMAS\")\n",
    "sys.path.append(PROJ_DIR)\n",
    "\n",
    "from AMAS import species_annotation as sa\n",
    "from AMAS import reaction_annotation as ra\n",
    "from AMAS import recommender\n",
    "from AMAS import constants as cn\n",
    "from AMAS import iterator as it\n",
    "from AMAS import tools\n",
    "\n",
    "with open(os.path.join(cn.REF_DIR, 'chebi_low_synonyms_comp.lzma'), 'rb') as f:\n",
    "  chebi_low_synonyms = compress_pickle.load(f)\n",
    "all_chars = set(itertools.chain(*[itertools.chain(*chebi_low_synonyms[val]) for val in chebi_low_synonyms]))\n",
    "\n",
    "with open(os.path.join(ALT_DIR, \"chebi_name_id_tuples.pickle\"), \"rb\") as fp:   # Unpickling\n",
    "  chebi_str_tups = pickle.load(fp)\n",
    "ref_df_chebis = [val[1] for val in chebi_str_tups]\n",
    "# chebi_str_tups = getTupleFromDict(chebi_low_synonyms)\n",
    "chebi_count_tups = [(getCountOfIndividualCharacters(val[0]), val[1]) for val in chebi_str_tups]\n",
    "\n",
    "norm_ref_df = pd.read_csv(os.path.join(ALT_DIR, 'charcount_df_normalized.csv'))\n",
    "print(len(chebi_str_tups) == norm_ref_df.shape[0])"
   ]
  },
  {
   "cell_type": "code",
   "execution_count": 30,
   "id": "8377630b-d190-42ef-8cde-f688d703f93c",
   "metadata": {},
   "outputs": [],
   "source": [
    "norm_ref_df['synonym'] = [val[0] for val in chebi_str_tups]\n",
    "norm_ref_df['chebi'] = [val[1] for val in chebi_str_tups]"
   ]
  },
  {
   "cell_type": "code",
   "execution_count": 33,
   "id": "5534aaf5-50b2-4783-b2e7-90a8013c758f",
   "metadata": {},
   "outputs": [],
   "source": [
    "# compress_pickle.dump(norm_ref_df,\n",
    "#                      os.path.join(cn.REF_DIR, 'charcount_df_scaled.lzma'), \n",
    "#                      compression=\"lzma\", set_default_extension=False)"
   ]
  },
  {
   "cell_type": "code",
   "execution_count": 34,
   "id": "d73dcfa2-1391-4079-8fc1-865e516be947",
   "metadata": {},
   "outputs": [],
   "source": [
    "# dum_df = compress_pickle.load(os.path.join(cn.REF_DIR, 'charcount_df_scaled.lzma'), \n",
    "#                      compression=\"lzma\")"
   ]
  },
  {
   "cell_type": "code",
   "execution_count": 21,
   "id": "c444a7d3-74b0-43a7-83ea-118bda196bbe",
   "metadata": {},
   "outputs": [
    {
     "name": "stdout",
     "output_type": "stream",
     "text": [
      "Number of Species IDs with Annotation: 72\n",
      "['M_glc__D_e', 'M_gln__L_c', 'M_gln__L_e', 'M_glu__L_c', 'M_glu__L_e', 'M_glx_c', 'M_h2o_c', 'M_h2o_e', 'M_h_c', 'M_h_e', 'M_icit_c', 'M_lac__D_c', 'M_lac__D_e', 'M_mal__L_c', 'M_mal__L_e', 'M_nad_c', 'M_nadh_c', 'M_nadp_c', 'M_nadph_c', 'M_nh4_c', 'M_13dpg_c', 'M_nh4_e', 'M_o2_c', 'M_2pg_c', 'M_o2_e', 'M_3pg_c', 'M_oaa_c', 'M_pep_c', 'M_6pgc_c', 'M_pi_c', 'M_6pgl_c', 'M_pi_e', 'M_ac_c', 'M_pyr_c', 'M_pyr_e', 'M_q8_c', 'M_q8h2_c', 'M_r5p_c', 'M_ru5p__D_c', 'M_ac_e', 'M_acald_c', 'M_s7p_c', 'M_acald_e', 'M_accoa_c', 'M_succ_c', 'M_succ_e', 'M_succoa_c', 'M_acon_C_c', 'M_xu5p__D_c', 'M_actp_c', 'M_adp_c', 'M_akg_c', 'M_akg_e', 'M_amp_c', 'M_atp_c', 'M_cit_c', 'M_co2_c', 'M_co2_e', 'M_coa_c', 'M_dhap_c', 'M_e4p_c', 'M_etoh_c', 'M_etoh_e', 'M_f6p_c', 'M_fdp_c', 'M_for_c', 'M_for_e', 'M_fru_e', 'M_fum_c', 'M_fum_e', 'M_g3p_c', 'M_g6p_c']\n",
      "First two species: ['M_glc__D_e', 'M_gln__L_c']\n"
     ]
    }
   ],
   "source": [
    "reader = libsbml.SBMLReader()\n",
    "document = reader.readSBML(ecoli_fpath)\n",
    "model = document.getModel()\n",
    "recom = recommender.Recommender(libsbml_fpath=ecoli_fpath)\n",
    "#\n",
    "sids = list(recom.species.exist_annotation.keys())\n",
    "print(\"Number of Species IDs with Annotation: %d\" % len(sids))\n",
    "print(sids)\n",
    "multiple_specs = sids[:2]\n",
    "print(\"First two species:\", multiple_specs)"
   ]
  },
  {
   "cell_type": "code",
   "execution_count": 4,
   "id": "9bf26663-7661-4a69-9926-62076c051469",
   "metadata": {},
   "outputs": [
    {
     "name": "stdout",
     "output_type": "stream",
     "text": [
      "Total processing time for 72 species: 275.16 seconds\n",
      "Average processing time per species: 3.82 seconds\n"
     ]
    }
   ],
   "source": [
    "# First goal is to get annotations of species and compute the (total & average) processing time. \n",
    "# First of all, original method: \n",
    "# one_spec = 'M_glc__D_e'\n",
    "# multiple_specs = sids[:2]\n",
    "\n",
    "spec_list = sids\n",
    "begin_time = time.time()\n",
    "res_editdistance = {val:recom.species.predictAnnotationByEditDistance(inp_str=recom.species.names[val]) \\\n",
    "                    for val in spec_list}\n",
    "end_time = time.time()\n",
    "# print(res_editdistance)\n",
    "time_diff = end_time - begin_time\n",
    "print(\"Total processing time for %s species: %.02f seconds\" % (len(spec_list), time_diff))\n",
    "print(\"Average processing time per species: %.02f seconds\" % (time_diff/len(spec_list)))"
   ]
  },
  {
   "cell_type": "code",
   "execution_count": 8,
   "id": "83f91f7d-b23e-45a6-9941-7d9830302206",
   "metadata": {},
   "outputs": [
    {
     "data": {
      "text/plain": [
       "['C6O6']"
      ]
     },
     "execution_count": 8,
     "metadata": {},
     "output_type": "execute_result"
    }
   ],
   "source": [
    "form_editdist = {val:res_editdistance[val][cn.FORMULA] for val in res_editdistance.keys()}\n",
    "form_editdist['M_glc__D_e']"
   ]
  },
  {
   "cell_type": "code",
   "execution_count": 22,
   "id": "bc5db336-e196-4ae5-b290-72b7449fe95a",
   "metadata": {},
   "outputs": [
    {
     "name": "stdout",
     "output_type": "stream",
     "text": [
      "0.903\n",
      "0.84\n"
     ]
    }
   ],
   "source": [
    "recall_edist = tools.getRecall(ref=recom.species.exist_annotation_formula,\n",
    "                               pred=form_editdist)\n",
    "precision_edist = tools.getPrecision(ref=recom.species.exist_annotation_formula,\n",
    "                   pred=form_editdist)\n",
    "print(np.round(recall_edist, 3))\n",
    "print(np.round(precision_edist, 3))"
   ]
  },
  {
   "cell_type": "code",
   "execution_count": 14,
   "id": "86438ba2-f17a-4bd1-80c0-dd4136435745",
   "metadata": {},
   "outputs": [],
   "source": [
    "# compress_pickle.dump(res_editdistance,\n",
    "#                      os.path.join(SAUROLAB_DIR, \"res_editdistance.lzma\"),\n",
    "#                      compression=\"lzma\",\n",
    "#                      set_default_extension=False)"
   ]
  },
  {
   "cell_type": "code",
   "execution_count": 4,
   "id": "820ac5c1-fc1d-4810-90c2-4b2b2152d669",
   "metadata": {},
   "outputs": [
    {
     "name": "stdout",
     "output_type": "stream",
     "text": [
      "Total processing time for 72 species: 1.35 seconds\n",
      "Average processing time per species: 0.02 seconds\n"
     ]
    }
   ],
   "source": [
    "spec_list = sids\n",
    "\n",
    "begin_time = time.time()\n",
    "res_cosdistance = predictAnnotationByCosineDistance(inp_specs=spec_list, ref_df=norm_ref_df)\n",
    "end_time = time.time()\n",
    "# print(res_cosdistance)\n",
    "time_diff = end_time - begin_time\n",
    "print(\"Total processing time for %s species: %.02f seconds\" % (len(spec_list), time_diff))\n",
    "print(\"Average processing time per species: %.02f seconds\" % (time_diff/len(spec_list)))"
   ]
  },
  {
   "cell_type": "code",
   "execution_count": null,
   "id": "d635adf9-dea2-4bbe-86b8-51aa24010b77",
   "metadata": {},
   "outputs": [],
   "source": [
    "# compress_pickle.dump(res_cosdistance,\n",
    "#                      os.path.join(SAUROLAB_DIR, \"res_cosdistance.lzma\"),\n",
    "#                      compression=\"lzma\",\n",
    "#                      set_default_extension=False)"
   ]
  },
  {
   "cell_type": "code",
   "execution_count": 5,
   "id": "184353f1-0e6c-4237-a316-3a28a4381852",
   "metadata": {},
   "outputs": [
    {
     "data": {
      "text/plain": [
       "['C6O6']"
      ]
     },
     "execution_count": 5,
     "metadata": {},
     "output_type": "execute_result"
    }
   ],
   "source": [
    "form_cosdist = {val:res_cosdistance[val][cn.FORMULA] for val in res_cosdistance.keys()}\n",
    "form_cosdist['M_glc__D_e']"
   ]
  },
  {
   "cell_type": "code",
   "execution_count": 6,
   "id": "de3da827-ad5f-4068-8db5-4fbb2271577d",
   "metadata": {},
   "outputs": [
    {
     "name": "stdout",
     "output_type": "stream",
     "text": [
      "0.931\n",
      "0.834\n"
     ]
    }
   ],
   "source": [
    "recall_cdist = tools.getRecall(ref=recom.species.exist_annotation_formula,\n",
    "                               pred=form_cosdist)\n",
    "precision_cdist = tools.getPrecision(ref=recom.species.exist_annotation_formula,\n",
    "                                     pred=form_cosdist)\n",
    "print(np.round(recall_cdist, 3))\n",
    "print(np.round(precision_cdist, 3))"
   ]
  },
  {
   "cell_type": "code",
   "execution_count": 7,
   "id": "4e678611-fbb7-4d3d-bdba-6e06c8fc6445",
   "metadata": {},
   "outputs": [
    {
     "data": {
      "text/html": [
       "<div>\n",
       "<style scoped>\n",
       "    .dataframe tbody tr th:only-of-type {\n",
       "        vertical-align: middle;\n",
       "    }\n",
       "\n",
       "    .dataframe tbody tr th {\n",
       "        vertical-align: top;\n",
       "    }\n",
       "\n",
       "    .dataframe thead th {\n",
       "        text-align: right;\n",
       "    }\n",
       "</style>\n",
       "<table border=\"1\" class=\"dataframe\">\n",
       "  <thead>\n",
       "    <tr style=\"text-align: right;\">\n",
       "      <th></th>\n",
       "      <th>a</th>\n",
       "      <th>b</th>\n",
       "      <th>c</th>\n",
       "      <th>d</th>\n",
       "      <th>e</th>\n",
       "      <th>f</th>\n",
       "      <th>g</th>\n",
       "      <th>h</th>\n",
       "      <th>i</th>\n",
       "      <th>j</th>\n",
       "      <th>...</th>\n",
       "      <th>1</th>\n",
       "      <th>2</th>\n",
       "      <th>3</th>\n",
       "      <th>4</th>\n",
       "      <th>5</th>\n",
       "      <th>6</th>\n",
       "      <th>7</th>\n",
       "      <th>8</th>\n",
       "      <th>9</th>\n",
       "      <th>outcome</th>\n",
       "    </tr>\n",
       "  </thead>\n",
       "  <tbody>\n",
       "    <tr>\n",
       "      <th>0</th>\n",
       "      <td>0.000000</td>\n",
       "      <td>0.000000</td>\n",
       "      <td>0.000000</td>\n",
       "      <td>0.000000</td>\n",
       "      <td>0.530330</td>\n",
       "      <td>0.000000</td>\n",
       "      <td>0.0</td>\n",
       "      <td>0.176777</td>\n",
       "      <td>0.353553</td>\n",
       "      <td>0.0</td>\n",
       "      <td>...</td>\n",
       "      <td>0.000000</td>\n",
       "      <td>0.000000</td>\n",
       "      <td>0.000000</td>\n",
       "      <td>0.000000</td>\n",
       "      <td>0.000000</td>\n",
       "      <td>0.000000</td>\n",
       "      <td>0.000000</td>\n",
       "      <td>0.000000</td>\n",
       "      <td>0.000000</td>\n",
       "      <td>CHEBI:18357</td>\n",
       "    </tr>\n",
       "    <tr>\n",
       "      <th>1</th>\n",
       "      <td>0.200000</td>\n",
       "      <td>0.000000</td>\n",
       "      <td>0.000000</td>\n",
       "      <td>0.000000</td>\n",
       "      <td>0.400000</td>\n",
       "      <td>0.200000</td>\n",
       "      <td>0.0</td>\n",
       "      <td>0.000000</td>\n",
       "      <td>0.400000</td>\n",
       "      <td>0.0</td>\n",
       "      <td>...</td>\n",
       "      <td>0.000000</td>\n",
       "      <td>0.000000</td>\n",
       "      <td>0.000000</td>\n",
       "      <td>0.000000</td>\n",
       "      <td>0.000000</td>\n",
       "      <td>0.000000</td>\n",
       "      <td>0.000000</td>\n",
       "      <td>0.000000</td>\n",
       "      <td>0.000000</td>\n",
       "      <td>CHEBI:18357</td>\n",
       "    </tr>\n",
       "    <tr>\n",
       "      <th>2</th>\n",
       "      <td>0.277350</td>\n",
       "      <td>0.000000</td>\n",
       "      <td>0.000000</td>\n",
       "      <td>0.000000</td>\n",
       "      <td>0.554700</td>\n",
       "      <td>0.000000</td>\n",
       "      <td>0.0</td>\n",
       "      <td>0.000000</td>\n",
       "      <td>0.000000</td>\n",
       "      <td>0.0</td>\n",
       "      <td>...</td>\n",
       "      <td>0.000000</td>\n",
       "      <td>0.000000</td>\n",
       "      <td>0.000000</td>\n",
       "      <td>0.000000</td>\n",
       "      <td>0.000000</td>\n",
       "      <td>0.000000</td>\n",
       "      <td>0.000000</td>\n",
       "      <td>0.000000</td>\n",
       "      <td>0.000000</td>\n",
       "      <td>CHEBI:18357</td>\n",
       "    </tr>\n",
       "    <tr>\n",
       "      <th>3</th>\n",
       "      <td>0.000000</td>\n",
       "      <td>0.000000</td>\n",
       "      <td>0.000000</td>\n",
       "      <td>0.000000</td>\n",
       "      <td>0.371391</td>\n",
       "      <td>0.000000</td>\n",
       "      <td>0.0</td>\n",
       "      <td>0.185695</td>\n",
       "      <td>0.371391</td>\n",
       "      <td>0.0</td>\n",
       "      <td>...</td>\n",
       "      <td>0.000000</td>\n",
       "      <td>0.000000</td>\n",
       "      <td>0.000000</td>\n",
       "      <td>0.000000</td>\n",
       "      <td>0.000000</td>\n",
       "      <td>0.000000</td>\n",
       "      <td>0.000000</td>\n",
       "      <td>0.000000</td>\n",
       "      <td>0.000000</td>\n",
       "      <td>CHEBI:18357</td>\n",
       "    </tr>\n",
       "    <tr>\n",
       "      <th>4</th>\n",
       "      <td>0.113228</td>\n",
       "      <td>0.113228</td>\n",
       "      <td>0.000000</td>\n",
       "      <td>0.226455</td>\n",
       "      <td>0.452911</td>\n",
       "      <td>0.000000</td>\n",
       "      <td>0.0</td>\n",
       "      <td>0.226455</td>\n",
       "      <td>0.226455</td>\n",
       "      <td>0.0</td>\n",
       "      <td>...</td>\n",
       "      <td>0.226455</td>\n",
       "      <td>0.226455</td>\n",
       "      <td>0.000000</td>\n",
       "      <td>0.113228</td>\n",
       "      <td>0.000000</td>\n",
       "      <td>0.000000</td>\n",
       "      <td>0.000000</td>\n",
       "      <td>0.000000</td>\n",
       "      <td>0.000000</td>\n",
       "      <td>CHEBI:18357</td>\n",
       "    </tr>\n",
       "    <tr>\n",
       "      <th>...</th>\n",
       "      <td>...</td>\n",
       "      <td>...</td>\n",
       "      <td>...</td>\n",
       "      <td>...</td>\n",
       "      <td>...</td>\n",
       "      <td>...</td>\n",
       "      <td>...</td>\n",
       "      <td>...</td>\n",
       "      <td>...</td>\n",
       "      <td>...</td>\n",
       "      <td>...</td>\n",
       "      <td>...</td>\n",
       "      <td>...</td>\n",
       "      <td>...</td>\n",
       "      <td>...</td>\n",
       "      <td>...</td>\n",
       "      <td>...</td>\n",
       "      <td>...</td>\n",
       "      <td>...</td>\n",
       "      <td>...</td>\n",
       "      <td>...</td>\n",
       "    </tr>\n",
       "    <tr>\n",
       "      <th>466443</th>\n",
       "      <td>0.375558</td>\n",
       "      <td>0.037556</td>\n",
       "      <td>0.112667</td>\n",
       "      <td>0.075112</td>\n",
       "      <td>0.338002</td>\n",
       "      <td>0.000000</td>\n",
       "      <td>0.0</td>\n",
       "      <td>0.262891</td>\n",
       "      <td>0.112667</td>\n",
       "      <td>0.0</td>\n",
       "      <td>...</td>\n",
       "      <td>0.187779</td>\n",
       "      <td>0.375558</td>\n",
       "      <td>0.075112</td>\n",
       "      <td>0.112667</td>\n",
       "      <td>0.075112</td>\n",
       "      <td>0.037556</td>\n",
       "      <td>0.000000</td>\n",
       "      <td>0.037556</td>\n",
       "      <td>0.000000</td>\n",
       "      <td>CHEBI:99995</td>\n",
       "    </tr>\n",
       "    <tr>\n",
       "      <th>466444</th>\n",
       "      <td>0.341593</td>\n",
       "      <td>0.136637</td>\n",
       "      <td>0.034159</td>\n",
       "      <td>0.170797</td>\n",
       "      <td>0.307434</td>\n",
       "      <td>0.068319</td>\n",
       "      <td>0.0</td>\n",
       "      <td>0.239115</td>\n",
       "      <td>0.136637</td>\n",
       "      <td>0.0</td>\n",
       "      <td>...</td>\n",
       "      <td>0.136637</td>\n",
       "      <td>0.102478</td>\n",
       "      <td>0.170797</td>\n",
       "      <td>0.136637</td>\n",
       "      <td>0.068319</td>\n",
       "      <td>0.034159</td>\n",
       "      <td>0.000000</td>\n",
       "      <td>0.000000</td>\n",
       "      <td>0.068319</td>\n",
       "      <td>CHEBI:99996</td>\n",
       "    </tr>\n",
       "    <tr>\n",
       "      <th>466445</th>\n",
       "      <td>0.338241</td>\n",
       "      <td>0.075165</td>\n",
       "      <td>0.150329</td>\n",
       "      <td>0.075165</td>\n",
       "      <td>0.300658</td>\n",
       "      <td>0.037582</td>\n",
       "      <td>0.0</td>\n",
       "      <td>0.225494</td>\n",
       "      <td>0.112747</td>\n",
       "      <td>0.0</td>\n",
       "      <td>...</td>\n",
       "      <td>0.150329</td>\n",
       "      <td>0.338241</td>\n",
       "      <td>0.112747</td>\n",
       "      <td>0.112747</td>\n",
       "      <td>0.075165</td>\n",
       "      <td>0.037582</td>\n",
       "      <td>0.000000</td>\n",
       "      <td>0.037582</td>\n",
       "      <td>0.000000</td>\n",
       "      <td>CHEBI:99997</td>\n",
       "    </tr>\n",
       "    <tr>\n",
       "      <th>466446</th>\n",
       "      <td>0.257396</td>\n",
       "      <td>0.032174</td>\n",
       "      <td>0.128698</td>\n",
       "      <td>0.193047</td>\n",
       "      <td>0.289570</td>\n",
       "      <td>0.032174</td>\n",
       "      <td>0.0</td>\n",
       "      <td>0.225221</td>\n",
       "      <td>0.257396</td>\n",
       "      <td>0.0</td>\n",
       "      <td>...</td>\n",
       "      <td>0.386094</td>\n",
       "      <td>0.225221</td>\n",
       "      <td>0.096523</td>\n",
       "      <td>0.064349</td>\n",
       "      <td>0.032174</td>\n",
       "      <td>0.032174</td>\n",
       "      <td>0.032174</td>\n",
       "      <td>0.032174</td>\n",
       "      <td>0.064349</td>\n",
       "      <td>CHEBI:99998</td>\n",
       "    </tr>\n",
       "    <tr>\n",
       "      <th>466447</th>\n",
       "      <td>0.345225</td>\n",
       "      <td>0.129460</td>\n",
       "      <td>0.172613</td>\n",
       "      <td>0.129460</td>\n",
       "      <td>0.345225</td>\n",
       "      <td>0.000000</td>\n",
       "      <td>0.0</td>\n",
       "      <td>0.172613</td>\n",
       "      <td>0.258919</td>\n",
       "      <td>0.0</td>\n",
       "      <td>...</td>\n",
       "      <td>0.388379</td>\n",
       "      <td>0.129460</td>\n",
       "      <td>0.172613</td>\n",
       "      <td>0.086306</td>\n",
       "      <td>0.129460</td>\n",
       "      <td>0.086306</td>\n",
       "      <td>0.000000</td>\n",
       "      <td>0.043153</td>\n",
       "      <td>0.086306</td>\n",
       "      <td>CHEBI:99999</td>\n",
       "    </tr>\n",
       "  </tbody>\n",
       "</table>\n",
       "<p>466448 rows × 37 columns</p>\n",
       "</div>"
      ],
      "text/plain": [
       "               a         b         c         d         e         f    g  \\\n",
       "0       0.000000  0.000000  0.000000  0.000000  0.530330  0.000000  0.0   \n",
       "1       0.200000  0.000000  0.000000  0.000000  0.400000  0.200000  0.0   \n",
       "2       0.277350  0.000000  0.000000  0.000000  0.554700  0.000000  0.0   \n",
       "3       0.000000  0.000000  0.000000  0.000000  0.371391  0.000000  0.0   \n",
       "4       0.113228  0.113228  0.000000  0.226455  0.452911  0.000000  0.0   \n",
       "...          ...       ...       ...       ...       ...       ...  ...   \n",
       "466443  0.375558  0.037556  0.112667  0.075112  0.338002  0.000000  0.0   \n",
       "466444  0.341593  0.136637  0.034159  0.170797  0.307434  0.068319  0.0   \n",
       "466445  0.338241  0.075165  0.150329  0.075165  0.300658  0.037582  0.0   \n",
       "466446  0.257396  0.032174  0.128698  0.193047  0.289570  0.032174  0.0   \n",
       "466447  0.345225  0.129460  0.172613  0.129460  0.345225  0.000000  0.0   \n",
       "\n",
       "               h         i    j  ...         1         2         3         4  \\\n",
       "0       0.176777  0.353553  0.0  ...  0.000000  0.000000  0.000000  0.000000   \n",
       "1       0.000000  0.400000  0.0  ...  0.000000  0.000000  0.000000  0.000000   \n",
       "2       0.000000  0.000000  0.0  ...  0.000000  0.000000  0.000000  0.000000   \n",
       "3       0.185695  0.371391  0.0  ...  0.000000  0.000000  0.000000  0.000000   \n",
       "4       0.226455  0.226455  0.0  ...  0.226455  0.226455  0.000000  0.113228   \n",
       "...          ...       ...  ...  ...       ...       ...       ...       ...   \n",
       "466443  0.262891  0.112667  0.0  ...  0.187779  0.375558  0.075112  0.112667   \n",
       "466444  0.239115  0.136637  0.0  ...  0.136637  0.102478  0.170797  0.136637   \n",
       "466445  0.225494  0.112747  0.0  ...  0.150329  0.338241  0.112747  0.112747   \n",
       "466446  0.225221  0.257396  0.0  ...  0.386094  0.225221  0.096523  0.064349   \n",
       "466447  0.172613  0.258919  0.0  ...  0.388379  0.129460  0.172613  0.086306   \n",
       "\n",
       "               5         6         7         8         9      outcome  \n",
       "0       0.000000  0.000000  0.000000  0.000000  0.000000  CHEBI:18357  \n",
       "1       0.000000  0.000000  0.000000  0.000000  0.000000  CHEBI:18357  \n",
       "2       0.000000  0.000000  0.000000  0.000000  0.000000  CHEBI:18357  \n",
       "3       0.000000  0.000000  0.000000  0.000000  0.000000  CHEBI:18357  \n",
       "4       0.000000  0.000000  0.000000  0.000000  0.000000  CHEBI:18357  \n",
       "...          ...       ...       ...       ...       ...          ...  \n",
       "466443  0.075112  0.037556  0.000000  0.037556  0.000000  CHEBI:99995  \n",
       "466444  0.068319  0.034159  0.000000  0.000000  0.068319  CHEBI:99996  \n",
       "466445  0.075165  0.037582  0.000000  0.037582  0.000000  CHEBI:99997  \n",
       "466446  0.032174  0.032174  0.032174  0.032174  0.064349  CHEBI:99998  \n",
       "466447  0.129460  0.086306  0.000000  0.043153  0.086306  CHEBI:99999  \n",
       "\n",
       "[466448 rows x 37 columns]"
      ]
     },
     "execution_count": 7,
     "metadata": {},
     "output_type": "execute_result"
    }
   ],
   "source": [
    "comb_df = copy.deepcopy(norm_ref_df)\n",
    "comb_df['outcome'] = ref_df_chebis\n",
    "comb_df"
   ]
  },
  {
   "cell_type": "code",
   "execution_count": 8,
   "id": "bc46d682-d1cb-4bd5-b4a9-7b36420516ac",
   "metadata": {},
   "outputs": [
    {
     "data": {
      "text/html": [
       "<div>\n",
       "<style scoped>\n",
       "    .dataframe tbody tr th:only-of-type {\n",
       "        vertical-align: middle;\n",
       "    }\n",
       "\n",
       "    .dataframe tbody tr th {\n",
       "        vertical-align: top;\n",
       "    }\n",
       "\n",
       "    .dataframe thead th {\n",
       "        text-align: right;\n",
       "    }\n",
       "</style>\n",
       "<table border=\"1\" class=\"dataframe\">\n",
       "  <thead>\n",
       "    <tr style=\"text-align: right;\">\n",
       "      <th></th>\n",
       "      <th>outcome</th>\n",
       "    </tr>\n",
       "  </thead>\n",
       "  <tbody>\n",
       "    <tr>\n",
       "      <th>0</th>\n",
       "      <td>CHEBI:18357</td>\n",
       "    </tr>\n",
       "    <tr>\n",
       "      <th>1</th>\n",
       "      <td>CHEBI:18357</td>\n",
       "    </tr>\n",
       "    <tr>\n",
       "      <th>2</th>\n",
       "      <td>CHEBI:18357</td>\n",
       "    </tr>\n",
       "    <tr>\n",
       "      <th>3</th>\n",
       "      <td>CHEBI:18357</td>\n",
       "    </tr>\n",
       "    <tr>\n",
       "      <th>4</th>\n",
       "      <td>CHEBI:18357</td>\n",
       "    </tr>\n",
       "    <tr>\n",
       "      <th>...</th>\n",
       "      <td>...</td>\n",
       "    </tr>\n",
       "    <tr>\n",
       "      <th>466443</th>\n",
       "      <td>CHEBI:99995</td>\n",
       "    </tr>\n",
       "    <tr>\n",
       "      <th>466444</th>\n",
       "      <td>CHEBI:99996</td>\n",
       "    </tr>\n",
       "    <tr>\n",
       "      <th>466445</th>\n",
       "      <td>CHEBI:99997</td>\n",
       "    </tr>\n",
       "    <tr>\n",
       "      <th>466446</th>\n",
       "      <td>CHEBI:99998</td>\n",
       "    </tr>\n",
       "    <tr>\n",
       "      <th>466447</th>\n",
       "      <td>CHEBI:99999</td>\n",
       "    </tr>\n",
       "  </tbody>\n",
       "</table>\n",
       "<p>466448 rows × 1 columns</p>\n",
       "</div>"
      ],
      "text/plain": [
       "            outcome\n",
       "0       CHEBI:18357\n",
       "1       CHEBI:18357\n",
       "2       CHEBI:18357\n",
       "3       CHEBI:18357\n",
       "4       CHEBI:18357\n",
       "...             ...\n",
       "466443  CHEBI:99995\n",
       "466444  CHEBI:99996\n",
       "466445  CHEBI:99997\n",
       "466446  CHEBI:99998\n",
       "466447  CHEBI:99999\n",
       "\n",
       "[466448 rows x 1 columns]"
      ]
     },
     "execution_count": 8,
     "metadata": {},
     "output_type": "execute_result"
    }
   ],
   "source": [
    "comb_df.iloc[:, -1:]"
   ]
  },
  {
   "cell_type": "code",
   "execution_count": 18,
   "id": "89643cf3-a8bc-470e-9696-5d483105996f",
   "metadata": {},
   "outputs": [
    {
     "data": {
      "text/html": [
       "<div>\n",
       "<style scoped>\n",
       "    .dataframe tbody tr th:only-of-type {\n",
       "        vertical-align: middle;\n",
       "    }\n",
       "\n",
       "    .dataframe tbody tr th {\n",
       "        vertical-align: top;\n",
       "    }\n",
       "\n",
       "    .dataframe thead th {\n",
       "        text-align: right;\n",
       "    }\n",
       "</style>\n",
       "<table border=\"1\" class=\"dataframe\">\n",
       "  <thead>\n",
       "    <tr style=\"text-align: right;\">\n",
       "      <th></th>\n",
       "      <th>C</th>\n",
       "      <th>H</th>\n",
       "      <th>O</th>\n",
       "    </tr>\n",
       "    <tr>\n",
       "      <th>species</th>\n",
       "      <th></th>\n",
       "      <th></th>\n",
       "      <th></th>\n",
       "    </tr>\n",
       "  </thead>\n",
       "  <tbody>\n",
       "    <tr>\n",
       "      <th>acetate</th>\n",
       "      <td>2</td>\n",
       "      <td>3</td>\n",
       "      <td>2</td>\n",
       "    </tr>\n",
       "    <tr>\n",
       "      <th>glucose</th>\n",
       "      <td>6</td>\n",
       "      <td>12</td>\n",
       "      <td>6</td>\n",
       "    </tr>\n",
       "  </tbody>\n",
       "</table>\n",
       "</div>"
      ],
      "text/plain": [
       "         C   H  O\n",
       "species          \n",
       "acetate  2   3  2\n",
       "glucose  6  12  6"
      ]
     },
     "execution_count": 18,
     "metadata": {},
     "output_type": "execute_result"
    }
   ],
   "source": [
    "dummy_df = pd.DataFrame.from_dict({'species':['acetate', 'glucose'],\n",
    "                                   'C':[2,6], 'H':[3,12], 'O':[2,6]})\n",
    "dummy_df.set_index('species')"
   ]
  },
  {
   "cell_type": "code",
   "execution_count": null,
   "id": "473f7b45-a879-446d-ab72-2d9bcea8a9c2",
   "metadata": {},
   "outputs": [],
   "source": []
  },
  {
   "cell_type": "code",
   "execution_count": null,
   "id": "41c94994-a2c8-42f1-92fb-c4ee8adc8ae6",
   "metadata": {},
   "outputs": [],
   "source": []
  },
  {
   "cell_type": "code",
   "execution_count": 4,
   "id": "279a07e2-5831-4797-9b9f-9808d87bb26e",
   "metadata": {},
   "outputs": [],
   "source": [
    "from sklearn.ensemble import RandomForestClassifier"
   ]
  },
  {
   "cell_type": "code",
   "execution_count": null,
   "id": "b0f99f56-4bf7-4d56-9956-21ad5e185a89",
   "metadata": {},
   "outputs": [],
   "source": [
    "rfc = RandomForestClassifier(random_state=0, n_jobs=-1)\n",
    "begin_time = time.time()\n",
    "rfc.fit(norm_ref_df, ref_df_chebis)\n",
    "end_time = time.time()\n",
    "time_diff = end_time - begin_time\n",
    "print(\"Total training time %.02f seconds\" % time_diff)"
   ]
  },
  {
   "cell_type": "code",
   "execution_count": 1,
   "id": "f310fbcc-d5ed-4f50-a1ff-43c31b81eedd",
   "metadata": {},
   "outputs": [],
   "source": [
    "from sklearn.cluster import KMeans"
   ]
  },
  {
   "cell_type": "code",
   "execution_count": null,
   "id": "b40d3c66-7476-4560-8e03-5e332c9891ac",
   "metadata": {},
   "outputs": [],
   "source": [
    "km_model = KMeans(n_clusters=10000)\n",
    "km_model.fit(norm_ref_df)"
   ]
  },
  {
   "cell_type": "code",
   "execution_count": 9,
   "id": "24b02c9c-367e-47b1-b22d-9c0ec3f3be74",
   "metadata": {},
   "outputs": [
    {
     "data": {
      "text/html": [
       "<div>\n",
       "<style scoped>\n",
       "    .dataframe tbody tr th:only-of-type {\n",
       "        vertical-align: middle;\n",
       "    }\n",
       "\n",
       "    .dataframe tbody tr th {\n",
       "        vertical-align: top;\n",
       "    }\n",
       "\n",
       "    .dataframe thead th {\n",
       "        text-align: right;\n",
       "    }\n",
       "</style>\n",
       "<table border=\"1\" class=\"dataframe\">\n",
       "  <thead>\n",
       "    <tr style=\"text-align: right;\">\n",
       "      <th></th>\n",
       "      <th>a</th>\n",
       "      <th>b</th>\n",
       "      <th>c</th>\n",
       "      <th>d</th>\n",
       "      <th>e</th>\n",
       "      <th>f</th>\n",
       "      <th>g</th>\n",
       "      <th>h</th>\n",
       "      <th>i</th>\n",
       "      <th>j</th>\n",
       "      <th>...</th>\n",
       "      <th>0</th>\n",
       "      <th>1</th>\n",
       "      <th>2</th>\n",
       "      <th>3</th>\n",
       "      <th>4</th>\n",
       "      <th>5</th>\n",
       "      <th>6</th>\n",
       "      <th>7</th>\n",
       "      <th>8</th>\n",
       "      <th>9</th>\n",
       "    </tr>\n",
       "  </thead>\n",
       "  <tbody>\n",
       "    <tr>\n",
       "      <th>0</th>\n",
       "      <td>0.0</td>\n",
       "      <td>0.0</td>\n",
       "      <td>0.0</td>\n",
       "      <td>0.0</td>\n",
       "      <td>0.53033</td>\n",
       "      <td>0.0</td>\n",
       "      <td>0.0</td>\n",
       "      <td>0.176777</td>\n",
       "      <td>0.353553</td>\n",
       "      <td>0.0</td>\n",
       "      <td>...</td>\n",
       "      <td>0.0</td>\n",
       "      <td>0.0</td>\n",
       "      <td>0.0</td>\n",
       "      <td>0.0</td>\n",
       "      <td>0.0</td>\n",
       "      <td>0.0</td>\n",
       "      <td>0.0</td>\n",
       "      <td>0.0</td>\n",
       "      <td>0.0</td>\n",
       "      <td>0.0</td>\n",
       "    </tr>\n",
       "  </tbody>\n",
       "</table>\n",
       "<p>1 rows × 36 columns</p>\n",
       "</div>"
      ],
      "text/plain": [
       "     a    b    c    d        e    f    g         h         i    j  ...    0  \\\n",
       "0  0.0  0.0  0.0  0.0  0.53033  0.0  0.0  0.176777  0.353553  0.0  ...  0.0   \n",
       "\n",
       "     1    2    3    4    5    6    7    8    9  \n",
       "0  0.0  0.0  0.0  0.0  0.0  0.0  0.0  0.0  0.0  \n",
       "\n",
       "[1 rows x 36 columns]"
      ]
     },
     "execution_count": 9,
     "metadata": {},
     "output_type": "execute_result"
    }
   ],
   "source": [
    "norm_ref_df.iloc[:1, :]"
   ]
  },
  {
   "cell_type": "code",
   "execution_count": 10,
   "id": "a479d378-409d-4387-9c7f-ba590e78a750",
   "metadata": {},
   "outputs": [
    {
     "data": {
      "text/plain": [
       "array([7], dtype=int32)"
      ]
     },
     "execution_count": 10,
     "metadata": {},
     "output_type": "execute_result"
    }
   ],
   "source": [
    "km_model.predict(norm_ref_df.iloc[:1, :])"
   ]
  },
  {
   "cell_type": "code",
   "execution_count": 28,
   "id": "633c4c7e-a08f-47c2-b477-24698c59a202",
   "metadata": {},
   "outputs": [
    {
     "data": {
      "text/plain": [
       "Counter({'h': 1, '2': 1, 'o': 1})"
      ]
     },
     "execution_count": 28,
     "metadata": {},
     "output_type": "execute_result"
    }
   ],
   "source": [
    "getCountOfIndividualCharacters('H2O')"
   ]
  },
  {
   "cell_type": "code",
   "execution_count": 23,
   "id": "5396052e-d374-4a57-8f6d-189794a3cb34",
   "metadata": {},
   "outputs": [
    {
     "data": {
      "text/plain": [
       "(466448, 36)"
      ]
     },
     "execution_count": 23,
     "metadata": {},
     "output_type": "execute_result"
    }
   ],
   "source": [
    "norm_ref_df.shape"
   ]
  },
  {
   "cell_type": "code",
   "execution_count": 32,
   "id": "cddbf61e-a4bc-4882-afe1-448e1f5a897e",
   "metadata": {},
   "outputs": [
    {
     "data": {
      "text/plain": [
       "8"
      ]
     },
     "execution_count": 32,
     "metadata": {},
     "output_type": "execute_result"
    }
   ],
   "source": [
    "editdistance.eval('atp', 'medicarpin')"
   ]
  },
  {
   "cell_type": "code",
   "execution_count": 16,
   "id": "48fe8c8c-c98b-4ef9-bce6-2cc04378b0e1",
   "metadata": {},
   "outputs": [
    {
     "data": {
      "text/plain": [
       "'1.4.2'"
      ]
     },
     "execution_count": 16,
     "metadata": {},
     "output_type": "execute_result"
    }
   ],
   "source": [
    "pd.__version__"
   ]
  },
  {
   "cell_type": "code",
   "execution_count": 27,
   "id": "b85e10d3-ac85-417d-ace0-d3cc968df3f4",
   "metadata": {},
   "outputs": [],
   "source": [
    "from catboost import CatBoostClassifier"
   ]
  },
  {
   "cell_type": "code",
   "execution_count": 13,
   "id": "70d99c7d-6ed1-445f-a26a-e8accb3bbea3",
   "metadata": {},
   "outputs": [],
   "source": []
  },
  {
   "cell_type": "code",
   "execution_count": 14,
   "id": "c63f331c-2baf-4c13-bbdd-1ba3d0bad2d7",
   "metadata": {},
   "outputs": [
    {
     "name": "stdout",
     "output_type": "stream",
     "text": [
      "0:\tlearn: 6.1206135\ttotal: 238ms\tremaining: 238ms\n",
      "1:\tlearn: 5.7727271\ttotal: 420ms\tremaining: 0us\n"
     ]
    },
    {
     "data": {
      "text/plain": [
       "<catboost.core.CatBoostClassifier at 0x7f9d336d7dc0>"
      ]
     },
     "execution_count": 14,
     "metadata": {},
     "output_type": "execute_result"
    }
   ],
   "source": [
    "model = CatBoostClassifier(iterations=2,\n",
    "                           learning_rate=1,\n",
    "                           depth=2)\n",
    "# Fit model\n",
    "model.fit(X=norm_ref_df.iloc[:1000,:], y=ref_df_chebis[:1000])"
   ]
  },
  {
   "cell_type": "code",
   "execution_count": 15,
   "id": "2e2c5b14-8709-4061-8df4-e6035f26b348",
   "metadata": {},
   "outputs": [],
   "source": [
    "one_query, name_used = prepareCounterQuery(specs=multiple_specs, use_id=True)"
   ]
  },
  {
   "cell_type": "code",
   "execution_count": 18,
   "id": "59bcef50-1dbc-4b00-bc64-e214dcdb2ef0",
   "metadata": {},
   "outputs": [],
   "source": [
    "# Get predicted classes\n",
    "preds_class = model.predict(one_query.T)"
   ]
  },
  {
   "cell_type": "code",
   "execution_count": 19,
   "id": "ba27f931-c00a-4fef-9bf0-9965452868b2",
   "metadata": {},
   "outputs": [
    {
     "data": {
      "text/plain": [
       "array([['CHEBI:28934'],\n",
       "       ['CHEBI:50750']], dtype=object)"
      ]
     },
     "execution_count": 19,
     "metadata": {},
     "output_type": "execute_result"
    }
   ],
   "source": [
    "preds_class"
   ]
  },
  {
   "cell_type": "code",
   "execution_count": 32,
   "id": "0a3634f9-f6eb-4e89-ad03-212e9955d888",
   "metadata": {},
   "outputs": [
    {
     "name": "stdout",
     "output_type": "stream",
     "text": [
      "0:\tlearn: 0.9089182\ttotal: 246us\tremaining: 246us\n",
      "1:\tlearn: 0.7584922\ttotal: 630us\tremaining: 0us\n"
     ]
    }
   ],
   "source": [
    "\n",
    "# Initialize data\n",
    "\n",
    "# index of categorical columns\n",
    "cat_features = [0, 1]\n",
    "train_data = [[\"a\", \"b\", 1, 4, 5, 6],\n",
    "              [\"a\", \"b\", 4, 5, 6, 7],\n",
    "              [\"c\", \"d\", 30, 40, 50, 60]]\n",
    "train_labels = ['one', 'two', 'three']\n",
    "eval_data = [[\"a\", \"b\", 2, 4, 6, 8],\n",
    "             [\"a\", \"d\", 1, 4, 50, 60]]\n",
    "\n",
    "# Initialize CatBoostClassifier\n",
    "model = CatBoostClassifier(iterations=2,\n",
    "                           learning_rate=1,\n",
    "                           depth=2)\n",
    "# Fit model\n",
    "model.fit(train_data, train_labels, cat_features)\n",
    "# Get predicted classes\n",
    "preds_class = model.predict(eval_data)\n",
    "# Get predicted probabilities for each class\n",
    "preds_proba = model.predict_proba(eval_data)\n",
    "# Get predicted RawFormulaVal\n",
    "preds_raw = model.predict(eval_data, prediction_type='RawFormulaVal')"
   ]
  },
  {
   "cell_type": "code",
   "execution_count": 33,
   "id": "2b23cdee-9b11-4a7b-bfa4-27c584e5d24f",
   "metadata": {},
   "outputs": [
    {
     "data": {
      "text/html": [
       "<div>\n",
       "<style scoped>\n",
       "    .dataframe tbody tr th:only-of-type {\n",
       "        vertical-align: middle;\n",
       "    }\n",
       "\n",
       "    .dataframe tbody tr th {\n",
       "        vertical-align: top;\n",
       "    }\n",
       "\n",
       "    .dataframe thead th {\n",
       "        text-align: right;\n",
       "    }\n",
       "</style>\n",
       "<table border=\"1\" class=\"dataframe\">\n",
       "  <thead>\n",
       "    <tr style=\"text-align: right;\">\n",
       "      <th></th>\n",
       "      <th>0</th>\n",
       "      <th>1</th>\n",
       "      <th>2</th>\n",
       "      <th>3</th>\n",
       "      <th>4</th>\n",
       "      <th>5</th>\n",
       "    </tr>\n",
       "  </thead>\n",
       "  <tbody>\n",
       "    <tr>\n",
       "      <th>0</th>\n",
       "      <td>a</td>\n",
       "      <td>b</td>\n",
       "      <td>1</td>\n",
       "      <td>4</td>\n",
       "      <td>5</td>\n",
       "      <td>6</td>\n",
       "    </tr>\n",
       "    <tr>\n",
       "      <th>1</th>\n",
       "      <td>a</td>\n",
       "      <td>b</td>\n",
       "      <td>4</td>\n",
       "      <td>5</td>\n",
       "      <td>6</td>\n",
       "      <td>7</td>\n",
       "    </tr>\n",
       "    <tr>\n",
       "      <th>2</th>\n",
       "      <td>c</td>\n",
       "      <td>d</td>\n",
       "      <td>30</td>\n",
       "      <td>40</td>\n",
       "      <td>50</td>\n",
       "      <td>60</td>\n",
       "    </tr>\n",
       "  </tbody>\n",
       "</table>\n",
       "</div>"
      ],
      "text/plain": [
       "   0  1   2   3   4   5\n",
       "0  a  b   1   4   5   6\n",
       "1  a  b   4   5   6   7\n",
       "2  c  d  30  40  50  60"
      ]
     },
     "execution_count": 33,
     "metadata": {},
     "output_type": "execute_result"
    }
   ],
   "source": [
    "pd.DataFrame(train_data)"
   ]
  },
  {
   "cell_type": "code",
   "execution_count": 34,
   "id": "3754d77b-9e4f-4e04-ae69-4e3e62b95b62",
   "metadata": {},
   "outputs": [
    {
     "data": {
      "text/html": [
       "<div>\n",
       "<style scoped>\n",
       "    .dataframe tbody tr th:only-of-type {\n",
       "        vertical-align: middle;\n",
       "    }\n",
       "\n",
       "    .dataframe tbody tr th {\n",
       "        vertical-align: top;\n",
       "    }\n",
       "\n",
       "    .dataframe thead th {\n",
       "        text-align: right;\n",
       "    }\n",
       "</style>\n",
       "<table border=\"1\" class=\"dataframe\">\n",
       "  <thead>\n",
       "    <tr style=\"text-align: right;\">\n",
       "      <th></th>\n",
       "      <th>0</th>\n",
       "      <th>1</th>\n",
       "      <th>2</th>\n",
       "      <th>3</th>\n",
       "      <th>4</th>\n",
       "      <th>5</th>\n",
       "    </tr>\n",
       "  </thead>\n",
       "  <tbody>\n",
       "    <tr>\n",
       "      <th>0</th>\n",
       "      <td>a</td>\n",
       "      <td>b</td>\n",
       "      <td>2</td>\n",
       "      <td>4</td>\n",
       "      <td>6</td>\n",
       "      <td>8</td>\n",
       "    </tr>\n",
       "    <tr>\n",
       "      <th>1</th>\n",
       "      <td>a</td>\n",
       "      <td>d</td>\n",
       "      <td>1</td>\n",
       "      <td>4</td>\n",
       "      <td>50</td>\n",
       "      <td>60</td>\n",
       "    </tr>\n",
       "  </tbody>\n",
       "</table>\n",
       "</div>"
      ],
      "text/plain": [
       "   0  1  2  3   4   5\n",
       "0  a  b  2  4   6   8\n",
       "1  a  d  1  4  50  60"
      ]
     },
     "execution_count": 34,
     "metadata": {},
     "output_type": "execute_result"
    }
   ],
   "source": [
    "pd.DataFrame(eval_data)"
   ]
  },
  {
   "cell_type": "code",
   "execution_count": 35,
   "id": "6f2a3e6a-d234-4192-a504-d1db93d7c175",
   "metadata": {},
   "outputs": [
    {
     "name": "stdout",
     "output_type": "stream",
     "text": [
      "0:\tlearn: 0.9089182\ttotal: 165us\tremaining: 165us\n",
      "1:\tlearn: 0.7584922\ttotal: 470us\tremaining: 0us\n"
     ]
    },
    {
     "data": {
      "text/plain": [
       "<catboost.core.CatBoostClassifier at 0x7f8dfcb40df0>"
      ]
     },
     "execution_count": 35,
     "metadata": {},
     "output_type": "execute_result"
    }
   ],
   "source": [
    "model.fit(pd.DataFrame(train_data), train_labels, cat_features)"
   ]
  },
  {
   "cell_type": "code",
   "execution_count": 36,
   "id": "5cbba3b9-5aaa-48e6-8f84-ce1727fd51ae",
   "metadata": {},
   "outputs": [
    {
     "data": {
      "text/plain": [
       "array([['one'],\n",
       "       ['one']], dtype=object)"
      ]
     },
     "execution_count": 36,
     "metadata": {},
     "output_type": "execute_result"
    }
   ],
   "source": [
    "preds_class = model.predict(pd.DataFrame(eval_data))\n",
    "preds_class"
   ]
  },
  {
   "cell_type": "code",
   "execution_count": 37,
   "id": "ae984d07-d5b1-4ba8-a3d7-89c77f8527a5",
   "metadata": {},
   "outputs": [
    {
     "data": {
      "text/plain": [
       "array([[0.46837208, 0.26581396, 0.26581396],\n",
       "       [0.46837208, 0.26581396, 0.26581396]])"
      ]
     },
     "execution_count": 37,
     "metadata": {},
     "output_type": "execute_result"
    }
   ],
   "source": [
    "preds_proba = model.predict_proba(eval_data)\n",
    "preds_proba"
   ]
  },
  {
   "cell_type": "code",
   "execution_count": 38,
   "id": "de129f84-5a84-4829-ae95-b1d8922cb6b3",
   "metadata": {},
   "outputs": [
    {
     "data": {
      "text/plain": [
       "array([[ 0.37764425, -0.18882212, -0.18882212],\n",
       "       [ 0.37764425, -0.18882212, -0.18882212]])"
      ]
     },
     "execution_count": 38,
     "metadata": {},
     "output_type": "execute_result"
    }
   ],
   "source": [
    "preds_raw"
   ]
  },
  {
   "cell_type": "code",
   "execution_count": 37,
   "id": "af2f8f84-b9cd-45a5-a609-934e9cea94ff",
   "metadata": {},
   "outputs": [
    {
     "data": {
      "text/html": [
       "<div>\n",
       "<style scoped>\n",
       "    .dataframe tbody tr th:only-of-type {\n",
       "        vertical-align: middle;\n",
       "    }\n",
       "\n",
       "    .dataframe tbody tr th {\n",
       "        vertical-align: top;\n",
       "    }\n",
       "\n",
       "    .dataframe thead th {\n",
       "        text-align: right;\n",
       "    }\n",
       "</style>\n",
       "<table border=\"1\" class=\"dataframe\">\n",
       "  <thead>\n",
       "    <tr style=\"text-align: right;\">\n",
       "      <th></th>\n",
       "      <th>a</th>\n",
       "      <th>b</th>\n",
       "      <th>c</th>\n",
       "      <th>d</th>\n",
       "      <th>e</th>\n",
       "      <th>f</th>\n",
       "      <th>g</th>\n",
       "      <th>h</th>\n",
       "      <th>i</th>\n",
       "      <th>j</th>\n",
       "      <th>...</th>\n",
       "      <th>0</th>\n",
       "      <th>1</th>\n",
       "      <th>2</th>\n",
       "      <th>3</th>\n",
       "      <th>4</th>\n",
       "      <th>5</th>\n",
       "      <th>6</th>\n",
       "      <th>7</th>\n",
       "      <th>8</th>\n",
       "      <th>9</th>\n",
       "    </tr>\n",
       "  </thead>\n",
       "  <tbody>\n",
       "    <tr>\n",
       "      <th>glucose</th>\n",
       "      <td>0.0</td>\n",
       "      <td>0.0</td>\n",
       "      <td>0.377964</td>\n",
       "      <td>0.0</td>\n",
       "      <td>0.377964</td>\n",
       "      <td>0.0</td>\n",
       "      <td>0.377964</td>\n",
       "      <td>0.0</td>\n",
       "      <td>0.0</td>\n",
       "      <td>0.0</td>\n",
       "      <td>...</td>\n",
       "      <td>0.0</td>\n",
       "      <td>0.0</td>\n",
       "      <td>0.0</td>\n",
       "      <td>0.0</td>\n",
       "      <td>0.0</td>\n",
       "      <td>0.0</td>\n",
       "      <td>0.0</td>\n",
       "      <td>0.0</td>\n",
       "      <td>0.0</td>\n",
       "      <td>0.0</td>\n",
       "    </tr>\n",
       "  </tbody>\n",
       "</table>\n",
       "<p>1 rows × 36 columns</p>\n",
       "</div>"
      ],
      "text/plain": [
       "           a    b         c    d         e    f         g    h    i    j  ...  \\\n",
       "glucose  0.0  0.0  0.377964  0.0  0.377964  0.0  0.377964  0.0  0.0  0.0  ...   \n",
       "\n",
       "           0    1    2    3    4    5    6    7    8    9  \n",
       "glucose  0.0  0.0  0.0  0.0  0.0  0.0  0.0  0.0  0.0  0.0  \n",
       "\n",
       "[1 rows x 36 columns]"
      ]
     },
     "execution_count": 37,
     "metadata": {},
     "output_type": "execute_result"
    }
   ],
   "source": [
    "one_query, name_used = prepareCounterQuery(specs=['glucose'],\n",
    "                                             ref_cols=norm_ref_df.columns,\n",
    "                                             use_id=False)\n",
    "one_query.T"
   ]
  },
  {
   "cell_type": "code",
   "execution_count": 23,
   "id": "061e50aa-9967-4bbf-a084-f6a5dde8825c",
   "metadata": {},
   "outputs": [
    {
     "data": {
      "text/plain": [
       "''"
      ]
     },
     "execution_count": 23,
     "metadata": {},
     "output_type": "execute_result"
    }
   ],
   "source": [
    "model.getAnnotationString()"
   ]
  },
  {
   "cell_type": "code",
   "execution_count": null,
   "id": "23f82051-8067-453d-a4f3-22bfdb488f20",
   "metadata": {},
   "outputs": [],
   "source": []
  }
 ],
 "metadata": {
  "kernelspec": {
   "display_name": "Python 3 (ipykernel)",
   "language": "python",
   "name": "python3"
  },
  "language_info": {
   "codemirror_mode": {
    "name": "ipython",
    "version": 3
   },
   "file_extension": ".py",
   "mimetype": "text/x-python",
   "name": "python",
   "nbconvert_exporter": "python",
   "pygments_lexer": "ipython3",
   "version": "3.9.15"
  }
 },
 "nbformat": 4,
 "nbformat_minor": 5
}
