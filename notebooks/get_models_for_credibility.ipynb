{
 "cells": [
  {
   "cell_type": "code",
   "execution_count": 1,
   "id": "b859e401-1d81-455d-8486-4d973daf907f",
   "metadata": {},
   "outputs": [
    {
     "name": "stderr",
     "output_type": "stream",
     "text": [
      "/Users/woosubs/anaconda3/envs/pyo2/lib/python3.9/site-packages/sklearn/base.py:329: UserWarning: Trying to unpickle estimator DecisionTreeRegressor from version 0.24.2 when using version 1.1.3. This might lead to breaking code or invalid results. Use at your own risk. For more info please refer to:\n",
      "https://scikit-learn.org/stable/model_persistence.html#security-maintainability-limitations\n",
      "  warnings.warn(\n",
      "/Users/woosubs/anaconda3/envs/pyo2/lib/python3.9/site-packages/sklearn/base.py:329: UserWarning: Trying to unpickle estimator RandomForestRegressor from version 0.24.2 when using version 1.1.3. This might lead to breaking code or invalid results. Use at your own risk. For more info please refer to:\n",
      "https://scikit-learn.org/stable/model_persistence.html#security-maintainability-limitations\n",
      "  warnings.warn(\n"
     ]
    }
   ],
   "source": [
    "# collect data and get models to predict credibility score\n",
    "import collections\n",
    "import copy\n",
    "import itertools\n",
    "import libsbml\n",
    "import numpy as np\n",
    "import os\n",
    "import pickle\n",
    "import pandas as pd\n",
    "import sys\n",
    "import matplotlib.pyplot as plt\n",
    "%matplotlib inline  \n",
    "\n",
    "BIOMD_12 = 'BIOMD0000000012.xml'\n",
    "BASE_DIR = '/Users/woosubs/Desktop/AutomateAnnotation/'\n",
    "DATA_DIR = os.path.join(BASE_DIR, \"DATA\")\n",
    "ALGO_DIR = os.path.join(DATA_DIR, \"algo\")\n",
    "CHEBI_DIR = os.path.join(DATA_DIR, \"chebi\")\n",
    "RHEA_DIR = os.path.join(DATA_DIR, \"rhea\")\n",
    "BIOMODEL_DIR = os.path.join(DATA_DIR, \"biomodels/curated_biomodels_31mar2021\")\n",
    "BIGG_DIR = '/Users/woosubs/Desktop/AutomateAnnotation/DATA/bigg'\n",
    "ecoli_fpath = os.path.join(BIGG_DIR, \"e_coli_core.xml\")\n",
    "\n",
    "PROJ_DIR = os.path.join(os.getcwd(), os.pardir)\n",
    "AMAS_DIR = os.path.join(PROJ_DIR, \"AMAS\")\n",
    "sys.path.append(PROJ_DIR)\n",
    "\n",
    "from AMAS import species_annotation as sa\n",
    "from AMAS import reaction_annotation as ra\n",
    "from AMAS import recommender\n",
    "from AMAS import constants as cn\n",
    "from AMAS import iterator as it\n",
    "from AMAS import tools"
   ]
  },
  {
   "cell_type": "code",
   "execution_count": 2,
   "id": "a02200a5-2b06-47b8-9af4-a0953facd1e0",
   "metadata": {},
   "outputs": [
    {
     "name": "stdout",
     "output_type": "stream",
     "text": [
      "BIOMD0000000634.xml\n"
     ]
    }
   ],
   "source": [
    "biomds = [val for val in os.listdir(BIOMODEL_DIR) if val[-4:]=='.xml']\n",
    "one_biomd = biomds[0]\n",
    "print(one_biomd)"
   ]
  },
  {
   "cell_type": "code",
   "execution_count": 3,
   "id": "0f750667-45bb-495c-b429-9d0faa0c2172",
   "metadata": {},
   "outputs": [],
   "source": [
    "one_fpath = os.path.join(BIOMODEL_DIR, one_biomd)\n",
    "recom = recommender.Recommender(libsbml_fpath=one_fpath)"
   ]
  },
  {
   "cell_type": "code",
   "execution_count": 4,
   "id": "559dcd3b-bd04-46fe-b294-71e097ad8838",
   "metadata": {},
   "outputs": [
    {
     "data": {
      "text/plain": [
       "{'ROS': ['CHEBI:26523'],\n",
       " 'damDNA': ['CHEBI:16991'],\n",
       " 'ATP': ['CHEBI:15422'],\n",
       " 'ADP': ['CHEBI:16761'],\n",
       " 'AMP': ['CHEBI:16027']}"
      ]
     },
     "execution_count": 4,
     "metadata": {},
     "output_type": "execute_result"
    }
   ],
   "source": [
    "recom.species.exist_annotation"
   ]
  },
  {
   "cell_type": "code",
   "execution_count": 5,
   "id": "9adb008d-12af-480d-b799-7f02c8662cfd",
   "metadata": {},
   "outputs": [
    {
     "name": "stdout",
     "output_type": "stream",
     "text": [
      "We are at 0\n"
     ]
    },
    {
     "ename": "ZeroDivisionError",
     "evalue": "division by zero",
     "output_type": "error",
     "traceback": [
      "\u001b[0;31m---------------------------------------------------------------------------\u001b[0m",
      "\u001b[0;31mZeroDivisionError\u001b[0m                         Traceback (most recent call last)",
      "Cell \u001b[0;32mIn[5], line 16\u001b[0m\n\u001b[1;32m     14\u001b[0m \u001b[38;5;28;01mif\u001b[39;00m specs2evaluate:\n\u001b[1;32m     15\u001b[0m   recoms \u001b[38;5;241m=\u001b[39m recom\u001b[38;5;241m.\u001b[39mgetSpeciesListAnnotation(pred_ids\u001b[38;5;241m=\u001b[39mrecom\u001b[38;5;241m.\u001b[39mspecies\u001b[38;5;241m.\u001b[39mexist_annotation_formula\u001b[38;5;241m.\u001b[39mkeys())\n\u001b[0;32m---> 16\u001b[0m   recalls \u001b[38;5;241m=\u001b[39m \u001b[43mrecom\u001b[49m\u001b[38;5;241;43m.\u001b[39;49m\u001b[43mgetSpeciesStatistics\u001b[49m\u001b[43m(\u001b[49m\u001b[43mmodel_mean\u001b[49m\u001b[38;5;241;43m=\u001b[39;49m\u001b[38;5;28;43;01mFalse\u001b[39;49;00m\u001b[43m)\u001b[49m[cn\u001b[38;5;241m.\u001b[39mRECALL]\n\u001b[1;32m     17\u001b[0m   \u001b[38;5;28;01mfor\u001b[39;00m one_recom \u001b[38;5;129;01min\u001b[39;00m recoms:\n\u001b[1;32m     18\u001b[0m     model_names\u001b[38;5;241m.\u001b[39mappend(one_biomd)\n",
      "File \u001b[0;32m~/Desktop/AutomateAnnotation/AMAS/notebooks/../AMAS/recommender.py:383\u001b[0m, in \u001b[0;36mRecommender.getSpeciesStatistics\u001b[0;34m(self, model_mean)\u001b[0m\n\u001b[1;32m    381\u001b[0m preds \u001b[38;5;241m=\u001b[39m {val:preds_comb[val][cn\u001b[38;5;241m.\u001b[39mFORMULA] \u001b[38;5;28;01mfor\u001b[39;00m val \u001b[38;5;129;01min\u001b[39;00m preds_comb\u001b[38;5;241m.\u001b[39mkeys()}\n\u001b[1;32m    382\u001b[0m recall \u001b[38;5;241m=\u001b[39m tools\u001b[38;5;241m.\u001b[39mgetRecall(ref\u001b[38;5;241m=\u001b[39mrefs, pred\u001b[38;5;241m=\u001b[39mpreds, mean\u001b[38;5;241m=\u001b[39mmodel_mean)\n\u001b[0;32m--> 383\u001b[0m precision \u001b[38;5;241m=\u001b[39m \u001b[43mtools\u001b[49m\u001b[38;5;241;43m.\u001b[39;49m\u001b[43mgetPrecision\u001b[49m\u001b[43m(\u001b[49m\u001b[43mref\u001b[49m\u001b[38;5;241;43m=\u001b[39;49m\u001b[43mrefs\u001b[49m\u001b[43m,\u001b[49m\u001b[43m \u001b[49m\u001b[43mpred\u001b[49m\u001b[38;5;241;43m=\u001b[39;49m\u001b[43mpreds\u001b[49m\u001b[43m,\u001b[49m\u001b[43m \u001b[49m\u001b[43mmean\u001b[49m\u001b[38;5;241;43m=\u001b[39;49m\u001b[43mmodel_mean\u001b[49m\u001b[43m)\u001b[49m\n\u001b[1;32m    384\u001b[0m \u001b[38;5;28;01mreturn\u001b[39;00m {cn\u001b[38;5;241m.\u001b[39mRECALL: recall, cn\u001b[38;5;241m.\u001b[39mPRECISION: precision}\n",
      "File \u001b[0;32m~/Desktop/AutomateAnnotation/AMAS/notebooks/../AMAS/tools.py:170\u001b[0m, in \u001b[0;36mgetPrecision\u001b[0;34m(ref, pred, mean)\u001b[0m\n\u001b[1;32m    168\u001b[0m \u001b[38;5;28;01mfor\u001b[39;00m one_k \u001b[38;5;129;01min\u001b[39;00m species_to_test:\n\u001b[1;32m    169\u001b[0m   num_intersection \u001b[38;5;241m=\u001b[39m \u001b[38;5;28mlen\u001b[39m(\u001b[38;5;28mset\u001b[39m(ref[one_k])\u001b[38;5;241m.\u001b[39mintersection(pred[one_k]))\n\u001b[0;32m--> 170\u001b[0m   precision[one_k] \u001b[38;5;241m=\u001b[39m \u001b[43mnum_intersection\u001b[49m\u001b[43m \u001b[49m\u001b[38;5;241;43m/\u001b[39;49m\u001b[43m \u001b[49m\u001b[38;5;28;43mlen\u001b[39;49m\u001b[43m(\u001b[49m\u001b[38;5;28;43mset\u001b[39;49m\u001b[43m(\u001b[49m\u001b[43mpred\u001b[49m\u001b[43m[\u001b[49m\u001b[43mone_k\u001b[49m\u001b[43m]\u001b[49m\u001b[43m)\u001b[49m\u001b[43m)\u001b[49m\n\u001b[1;32m    171\u001b[0m \u001b[38;5;66;03m# return value is rounded up to the three decimal places\u001b[39;00m\n\u001b[1;32m    172\u001b[0m \u001b[38;5;28;01mif\u001b[39;00m mean:\n",
      "\u001b[0;31mZeroDivisionError\u001b[0m: division by zero"
     ]
    }
   ],
   "source": [
    "model_names = []\n",
    "len_names = []\n",
    "num_cands = []\n",
    "num_formulas = []\n",
    "match_scores = []\n",
    "#\n",
    "for idx, one_biomd in enumerate(biomds):\n",
    "  if idx % 100 == 0:\n",
    "    print(\"We are at\", idx)\n",
    "  one_fpath = os.path.join(BIOMODEL_DIR, one_biomd)\n",
    "  recom = recommender.Recommender(libsbml_fpath=one_fpath)\n",
    "  specs2evaluate = list(recom.species.exist_annotation_formula.keys())\n",
    "  # run algorithm if there is at least one species to evaluate\n",
    "  if specs2evaluate:\n",
    "    recoms = recom.getSpeciesListAnnotation(pred_ids=recom.species.exist_annotation_formula.keys())\n",
    "    recalls = recom.getSpeciesStatistics(model_mean=False)[cn.RECALL]\n",
    "    for one_recom in recoms:\n",
    "      model_names.append(one_biomd)\n",
    "      len_names.append(len(recom.species.getNameToUse(one_recom.id)))\n",
    "      num_cands.append(len(one_recom.candidates))\n",
    "      num_formulas.append(len(recom.species.formula[one_recom.id]))\n",
    "      match_scores.append(one_recom.candidates[0][1])"
   ]
  },
  {
   "cell_type": "code",
   "execution_count": 10,
   "id": "3cf1c0cb-8b31-4f71-8351-0b8c3282fac7",
   "metadata": {},
   "outputs": [],
   "source": [
    "refs = {val:recom.species.exist_annotation_formula[val] \\\n",
    "        for val in recom.species.exist_annotation_formula.keys() \\\n",
    "        if recom.species.exist_annotation_formula[val]}\n",
    "specs2eval = list(refs.keys())\n",
    "preds_comb = recom.species.predictAnnotationByCosineSimilarity(inp_ids=specs2eval)\n",
    "preds = {val:preds_comb[val][cn.FORMULA] for val in preds_comb.keys()}"
   ]
  },
  {
   "cell_type": "code",
   "execution_count": 13,
   "id": "0db557e4-0caf-42fa-b2b4-9bf77587e7f5",
   "metadata": {},
   "outputs": [
    {
     "ename": "KeyError",
     "evalue": "'CHEBI:53715'",
     "output_type": "error",
     "traceback": [
      "\u001b[0;31m---------------------------------------------------------------------------\u001b[0m",
      "\u001b[0;31mKeyError\u001b[0m                                  Traceback (most recent call last)",
      "Cell \u001b[0;32mIn[13], line 1\u001b[0m\n\u001b[0;32m----> 1\u001b[0m \u001b[43mcn\u001b[49m\u001b[38;5;241;43m.\u001b[39;49m\u001b[43mREF_CHEBI2FORMULA\u001b[49m\u001b[43m[\u001b[49m\u001b[38;5;124;43m'\u001b[39;49m\u001b[38;5;124;43mCHEBI:53715\u001b[39;49m\u001b[38;5;124;43m'\u001b[39;49m\u001b[43m]\u001b[49m\n",
      "\u001b[0;31mKeyError\u001b[0m: 'CHEBI:53715'"
     ]
    }
   ],
   "source": [
    "# re-run so that chebi candidates can be converted into terms providing formula\n",
    "\n",
    "cn.REF_CHEBI2FORMULA['CHEBI:53715']"
   ]
  },
  {
   "cell_type": "code",
   "execution_count": 12,
   "id": "15d4198a-aaea-4817-b167-3b3cd29c820a",
   "metadata": {},
   "outputs": [
    {
     "data": {
      "text/plain": [
       "{'SBP': [('CHEBI:53715', 0.963)],\n",
       " 'S7P': [('CHEBI:18303', 0.816),\n",
       "  ('CHEBI:32412', 0.816),\n",
       "  ('CHEBI:53276', 0.816),\n",
       "  ('CHEBI:73648', 0.816),\n",
       "  ('CHEBI:157881', 0.816),\n",
       "  ('CHEBI:46710', 0.816),\n",
       "  ('CHEBI:185793', 0.816),\n",
       "  ('CHEBI:30224', 0.816),\n",
       "  ('CHEBI:74820', 0.816)],\n",
       " 'ATP': [('CHEBI:30616', 1.0),\n",
       "  ('CHEBI:61432', 1.0),\n",
       "  ('CHEBI:15422', 1.0),\n",
       "  ('CHEBI:74926', 1.0),\n",
       "  ('CHEBI:37537', 1.0),\n",
       "  ('CHEBI:53394', 1.0),\n",
       "  ('CHEBI:15702', 1.0)],\n",
       " 'ADP': [('CHEBI:135948', 1.0),\n",
       "  ('CHEBI:18383', 1.0),\n",
       "  ('CHEBI:42085', 1.0),\n",
       "  ('CHEBI:456216', 1.0),\n",
       "  ('CHEBI:53488', 1.0),\n",
       "  ('CHEBI:2247', 1.0),\n",
       "  ('CHEBI:51676', 1.0),\n",
       "  ('CHEBI:39867', 1.0),\n",
       "  ('CHEBI:34936', 1.0),\n",
       "  ('CHEBI:131833', 1.0),\n",
       "  ('CHEBI:4640', 1.0),\n",
       "  ('CHEBI:73342', 1.0),\n",
       "  ('CHEBI:16761', 1.0)],\n",
       " 'NADPH': [('CHEBI:13392', 1.0), ('CHEBI:16474', 1.0), ('CHEBI:57783', 1.0)],\n",
       " 'Pi': [('CHEBI:28874', 1.0),\n",
       "  ('CHEBI:74076', 1.0),\n",
       "  ('CHEBI:74790', 1.0),\n",
       "  ('CHEBI:35780', 1.0),\n",
       "  ('CHEBI:36349', 1.0),\n",
       "  ('CHEBI:36350', 1.0),\n",
       "  ('CHEBI:17660', 1.0),\n",
       "  ('CHEBI:53806', 1.0),\n",
       "  ('CHEBI:61484', 1.0)],\n",
       " 'CO2': [('CHEBI:48828', 1.0),\n",
       "  ('CHEBI:29334', 1.0),\n",
       "  ('CHEBI:16526', 1.0),\n",
       "  ('CHEBI:29325', 1.0)],\n",
       " 'GLYc': [('CHEBI:16535', 0.962)],\n",
       " 'SERc': [('CHEBI:163425', 0.918),\n",
       "  ('CHEBI:161690', 0.918),\n",
       "  ('CHEBI:163008', 0.918)],\n",
       " 'SucPc': [('CHEBI:155903', 0.926)],\n",
       " 'NADH': [('CHEBI:16908', 1.0), ('CHEBI:57945', 1.0)],\n",
       " 'Pic': [('CHEBI:53806', 1.0), ('CHEBI:84491', 1.0), ('CHEBI:53004', 1.0)],\n",
       " 'ATPc': [('CHEBI:33991', 1.0), ('CHEBI:2277', 1.0)],\n",
       " 'ADPc': [('CHEBI:34936', 1.0),\n",
       "  ('CHEBI:60595', 1.0),\n",
       "  ('CHEBI:60657', 1.0),\n",
       "  ('CHEBI:53355', 1.0)]}"
      ]
     },
     "execution_count": 12,
     "metadata": {},
     "output_type": "execute_result"
    }
   ],
   "source": [
    "recom.species.candidates"
   ]
  },
  {
   "cell_type": "code",
   "execution_count": 11,
   "id": "16c75d9a-040a-4edc-9ab5-3b64094e5767",
   "metadata": {},
   "outputs": [
    {
     "data": {
      "text/plain": [
       "{'SBP': [],\n",
       " 'S7P': ['C8N2O4', 'C26NO12P', 'PS', 'C8NO10P', 'C8N2O3S', '(C8)n'],\n",
       " 'ATP': ['C8O4', 'C7O4', 'C36O8', 'O40PW12', 'C10N5O13P3'],\n",
       " 'ADP': ['C12N3O6',\n",
       "  'C9Cl2NO',\n",
       "  'C8O2',\n",
       "  'C26',\n",
       "  'C5N3',\n",
       "  'C3N2O2',\n",
       "  'C12N',\n",
       "  'C9N2O2',\n",
       "  'C10N5O10P2',\n",
       "  'C22O2',\n",
       "  'C20N10O11P2'],\n",
       " 'NADPH': ['C21N7O17P3'],\n",
       " 'Pi': ['C11N2O3', 'C7NO', 'C10N5'],\n",
       " 'CO2': ['CO', 'CO2', 'Co'],\n",
       " 'GLYc': ['C4N2O2'],\n",
       " 'SERc': ['C9N3O6S'],\n",
       " 'SucPc': ['C32CuN8'],\n",
       " 'NADH': ['C21N7O14P2'],\n",
       " 'Pic': ['(C10N4O7P)n(C9H12N3O7P)nC38H50N14O30P4', 'C7NO', 'C50NO13P'],\n",
       " 'ATPc': ['C6NO2', 'C5NS5'],\n",
       " 'ADPc': ['C48NO8P', '(C8ClN)n', 'C9Cl2NO']}"
      ]
     },
     "execution_count": 11,
     "metadata": {},
     "output_type": "execute_result"
    }
   ],
   "source": [
    "preds"
   ]
  },
  {
   "cell_type": "code",
   "execution_count": 49,
   "id": "27818723-9fba-4dd9-9ab0-87ef4a32214b",
   "metadata": {},
   "outputs": [
    {
     "data": {
      "text/plain": [
       "{'cca1_mrna': [],\n",
       " 'toc1luc_mrna': [],\n",
       " 'cca1luc_mrna': [],\n",
       " 'luc_mrna': [],\n",
       " 'luc': []}"
      ]
     },
     "execution_count": 49,
     "metadata": {},
     "output_type": "execute_result"
    }
   ],
   "source": [
    "recom.species.exist_annotation_formula"
   ]
  },
  {
   "cell_type": "code",
   "execution_count": 27,
   "id": "e625ca6a-ff04-4f67-87e0-0f377fbffab3",
   "metadata": {},
   "outputs": [
    {
     "data": {
      "text/plain": [
       "[Recommendation(id='ROS', credibility=0.93, candidates=[('CHEBI:26523', 1.0)], urls=['https://www.ebi.ac.uk/chebi/searchId.do?chebiId=CHEBI%3A26523']),\n",
       " Recommendation(id='damDNA', credibility=0.99, candidates=[('CHEBI:31882', 0.95), ('CHEBI:6121', 0.95), ('CHEBI:59990', 0.95)], urls=['https://www.ebi.ac.uk/chebi/searchId.do?chebiId=CHEBI%3A31882', 'https://www.ebi.ac.uk/chebi/searchId.do?chebiId=CHEBI%3A6121', 'https://www.ebi.ac.uk/chebi/searchId.do?chebiId=CHEBI%3A59990']),\n",
       " Recommendation(id='ATP', credibility=0.97, candidates=[('CHEBI:15422', 1.0), ('CHEBI:74926', 1.0), ('CHEBI:15702', 1.0), ('CHEBI:53394', 1.0), ('CHEBI:61432', 1.0), ('CHEBI:37537', 1.0), ('CHEBI:30616', 1.0)], urls=['https://www.ebi.ac.uk/chebi/searchId.do?chebiId=CHEBI%3A15422', 'https://www.ebi.ac.uk/chebi/searchId.do?chebiId=CHEBI%3A74926', 'https://www.ebi.ac.uk/chebi/searchId.do?chebiId=CHEBI%3A15702', 'https://www.ebi.ac.uk/chebi/searchId.do?chebiId=CHEBI%3A53394', 'https://www.ebi.ac.uk/chebi/searchId.do?chebiId=CHEBI%3A61432', 'https://www.ebi.ac.uk/chebi/searchId.do?chebiId=CHEBI%3A37537', 'https://www.ebi.ac.uk/chebi/searchId.do?chebiId=CHEBI%3A30616']),\n",
       " Recommendation(id='ADP', credibility=0.97, candidates=[('CHEBI:16761', 1.0), ('CHEBI:34936', 1.0), ('CHEBI:39867', 1.0), ('CHEBI:456216', 1.0), ('CHEBI:131833', 1.0), ('CHEBI:18383', 1.0), ('CHEBI:2247', 1.0), ('CHEBI:73342', 1.0), ('CHEBI:135948', 1.0), ('CHEBI:51676', 1.0), ('CHEBI:4640', 1.0), ('CHEBI:42085', 1.0), ('CHEBI:53488', 1.0)], urls=['https://www.ebi.ac.uk/chebi/searchId.do?chebiId=CHEBI%3A16761', 'https://www.ebi.ac.uk/chebi/searchId.do?chebiId=CHEBI%3A34936', 'https://www.ebi.ac.uk/chebi/searchId.do?chebiId=CHEBI%3A39867', 'https://www.ebi.ac.uk/chebi/searchId.do?chebiId=CHEBI%3A456216', 'https://www.ebi.ac.uk/chebi/searchId.do?chebiId=CHEBI%3A131833', 'https://www.ebi.ac.uk/chebi/searchId.do?chebiId=CHEBI%3A18383', 'https://www.ebi.ac.uk/chebi/searchId.do?chebiId=CHEBI%3A2247', 'https://www.ebi.ac.uk/chebi/searchId.do?chebiId=CHEBI%3A73342', 'https://www.ebi.ac.uk/chebi/searchId.do?chebiId=CHEBI%3A135948', 'https://www.ebi.ac.uk/chebi/searchId.do?chebiId=CHEBI%3A51676', 'https://www.ebi.ac.uk/chebi/searchId.do?chebiId=CHEBI%3A4640', 'https://www.ebi.ac.uk/chebi/searchId.do?chebiId=CHEBI%3A42085', 'https://www.ebi.ac.uk/chebi/searchId.do?chebiId=CHEBI%3A53488']),\n",
       " Recommendation(id='AMP', credibility=0.97, candidates=[('CHEBI:64305', 1.0), ('CHEBI:456215', 1.0), ('CHEBI:138016', 1.0), ('CHEBI:16027', 1.0), ('CHEBI:50070', 1.0), ('CHEBI:51135', 1.0), ('CHEBI:78509', 1.0), ('CHEBI:28971', 1.0), ('CHEBI:44387', 1.0), ('CHEBI:37537', 1.0), ('CHEBI:60882', 1.0), ('CHEBI:60755', 1.0), ('CHEBI:176804', 1.0), ('CHEBI:45021', 1.0), ('CHEBI:53780', 1.0), ('CHEBI:6716', 1.0)], urls=['https://www.ebi.ac.uk/chebi/searchId.do?chebiId=CHEBI%3A64305', 'https://www.ebi.ac.uk/chebi/searchId.do?chebiId=CHEBI%3A456215', 'https://www.ebi.ac.uk/chebi/searchId.do?chebiId=CHEBI%3A138016', 'https://www.ebi.ac.uk/chebi/searchId.do?chebiId=CHEBI%3A16027', 'https://www.ebi.ac.uk/chebi/searchId.do?chebiId=CHEBI%3A50070', 'https://www.ebi.ac.uk/chebi/searchId.do?chebiId=CHEBI%3A51135', 'https://www.ebi.ac.uk/chebi/searchId.do?chebiId=CHEBI%3A78509', 'https://www.ebi.ac.uk/chebi/searchId.do?chebiId=CHEBI%3A28971', 'https://www.ebi.ac.uk/chebi/searchId.do?chebiId=CHEBI%3A44387', 'https://www.ebi.ac.uk/chebi/searchId.do?chebiId=CHEBI%3A37537', 'https://www.ebi.ac.uk/chebi/searchId.do?chebiId=CHEBI%3A60882', 'https://www.ebi.ac.uk/chebi/searchId.do?chebiId=CHEBI%3A60755', 'https://www.ebi.ac.uk/chebi/searchId.do?chebiId=CHEBI%3A176804', 'https://www.ebi.ac.uk/chebi/searchId.do?chebiId=CHEBI%3A45021', 'https://www.ebi.ac.uk/chebi/searchId.do?chebiId=CHEBI%3A53780', 'https://www.ebi.ac.uk/chebi/searchId.do?chebiId=CHEBI%3A6716'])]"
      ]
     },
     "execution_count": 27,
     "metadata": {},
     "output_type": "execute_result"
    }
   ],
   "source": [
    "recom.getSpeciesListAnnotation(pred_ids=recom.species.exist_annotation.keys())"
   ]
  },
  {
   "cell_type": "code",
   "execution_count": 18,
   "id": "91ff28b7-8118-4752-bc55-5f6cc079ab8e",
   "metadata": {},
   "outputs": [],
   "source": [
    "one_res = recom.getReactionStatistics(model_mean=False)\n",
    "one_res"
   ]
  },
  {
   "cell_type": "code",
   "execution_count": 9,
   "id": "d2c22646-1d4e-4328-bb00-f48c468941c8",
   "metadata": {},
   "outputs": [],
   "source": [
    "one_biomd = 'BIOMD0000000190.xml'"
   ]
  },
  {
   "cell_type": "code",
   "execution_count": null,
   "id": "a9197073-9ed4-473d-9798-e2b48aded5af",
   "metadata": {},
   "outputs": [],
   "source": []
  }
 ],
 "metadata": {
  "kernelspec": {
   "display_name": "Python 3 (ipykernel)",
   "language": "python",
   "name": "python3"
  },
  "language_info": {
   "codemirror_mode": {
    "name": "ipython",
    "version": 3
   },
   "file_extension": ".py",
   "mimetype": "text/x-python",
   "name": "python",
   "nbconvert_exporter": "python",
   "pygments_lexer": "ipython3",
   "version": "3.9.15"
  }
 },
 "nbformat": 4,
 "nbformat_minor": 5
}
