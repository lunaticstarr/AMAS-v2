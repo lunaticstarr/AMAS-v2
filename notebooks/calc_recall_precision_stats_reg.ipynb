{
 "cells": [
  {
   "cell_type": "code",
   "execution_count": 1,
   "id": "19af4a81",
   "metadata": {},
   "outputs": [],
   "source": [
    "# Calculate recall and precision for manuscript/paper and \n",
    "# train & test regression model\n",
    "# Plot in the initial writeup # Plot in the initial writeup \n",
    "\n",
    "# It'll be even great if recommender has a self-evaluation function\n",
    "\n",
    "import collections\n",
    "import libsbml\n",
    "import numpy as np\n",
    "import os\n",
    "import pickle\n",
    "import pandas as pd\n",
    "import sys\n",
    "import matplotlib.pyplot as plt\n",
    "%matplotlib inline  \n",
    "\n",
    "BIOMD_12 = 'BIOMD0000000012.xml'\n",
    "BASE_DIR = '/Users/woosubs/Desktop/AutomateAnnotation/'\n",
    "DATA_DIR = os.path.join(BASE_DIR, \"DATA\")\n",
    "ALGO_DIR = os.path.join(DATA_DIR, \"algo\")\n",
    "CHEBI_DIR = os.path.join(DATA_DIR, \"chebi\")\n",
    "RHEA_DIR = os.path.join(DATA_DIR, \"rhea\")\n",
    "BIOMODEL_DIR = os.path.join(DATA_DIR, \"biomodels/curated_biomodels_31mar2021\")\n",
    "BIGG_DIR = '/Users/woosubs/Desktop/AutomateAnnotation/DATA/bigg'\n",
    "ecoli_fpath = os.path.join(BIGG_DIR, \"e_coli_core.xml\")\n",
    "\n",
    "PROJ_DIR = os.path.join(os.getcwd(), os.pardir)\n",
    "AMAS_DIR = os.path.join(PROJ_DIR, \"AMAS\")\n",
    "sys.path.append(PROJ_DIR)\n",
    "\n",
    "from AMAS import species_annotation as sa\n",
    "from AMAS import reaction_annotation as ra\n",
    "from AMAS import recommender\n",
    "from AMAS import constants as cn\n",
    "from AMAS import iterator as it\n",
    "from AMAS import tools"
   ]
  },
  {
   "cell_type": "code",
   "execution_count": 2,
   "id": "eed35bed",
   "metadata": {},
   "outputs": [],
   "source": [
    "BIOMD_190_PATH = os.path.join(cn.TEST_DIR, 'BIOMD0000000190.xml')\n",
    "BIOMD_634_PATH = os.path.join(cn.TEST_DIR, 'BIOMD0000000634.xml')"
   ]
  },
  {
   "cell_type": "code",
   "execution_count": 3,
   "id": "dbb7015f",
   "metadata": {},
   "outputs": [],
   "source": [
    "recom = recommender.Recommender(libsbml_fpath=BIOMD_190_PATH)"
   ]
  },
  {
   "cell_type": "code",
   "execution_count": 13,
   "id": "22d29522",
   "metadata": {},
   "outputs": [
    {
     "data": {
      "text/plain": [
       "<Model MODEL1704060000 \"Proctor2013 - Effect of Aβ immunisation in Alzheimer's disease (stochastic version)\">"
      ]
     },
     "execution_count": 13,
     "metadata": {},
     "output_type": "execute_result"
    }
   ],
   "source": [
    "reader = libsbml.SBMLReader()\n",
    "document = reader.readSBML(BIOMD_634_PATH)\n",
    "model = document.getModel()\n",
    "model"
   ]
  },
  {
   "cell_type": "code",
   "execution_count": 12,
   "id": "b4d0ab6d",
   "metadata": {},
   "outputs": [
    {
     "data": {
      "text/plain": [
       "<Model MODEL1704060000 \"Proctor2013 - Effect of Aβ immunisation in Alzheimer's disease (stochastic version)\">"
      ]
     },
     "execution_count": 12,
     "metadata": {},
     "output_type": "execute_result"
    }
   ],
   "source": []
  },
  {
   "cell_type": "code",
   "execution_count": 4,
   "id": "9729b28e",
   "metadata": {},
   "outputs": [
    {
     "ename": "TypeError",
     "evalue": "'NoneType' object is not subscriptable",
     "output_type": "error",
     "traceback": [
      "\u001b[0;31m---------------------------------------------------------------------------\u001b[0m",
      "\u001b[0;31mTypeError\u001b[0m                                 Traceback (most recent call last)",
      "\u001b[0;32m<ipython-input-4-6cf14a714a30>\u001b[0m in \u001b[0;36m<module>\u001b[0;34m\u001b[0m\n\u001b[1;32m      1\u001b[0m \u001b[0mspec_stats\u001b[0m \u001b[0;34m=\u001b[0m \u001b[0mrecom\u001b[0m\u001b[0;34m.\u001b[0m\u001b[0mgetSpeciesStatistics\u001b[0m\u001b[0;34m(\u001b[0m\u001b[0;34m)\u001b[0m\u001b[0;34m\u001b[0m\u001b[0;34m\u001b[0m\u001b[0m\n\u001b[0;32m----> 2\u001b[0;31m \u001b[0mprint\u001b[0m\u001b[0;34m(\u001b[0m\u001b[0mspec_stats\u001b[0m\u001b[0;34m[\u001b[0m\u001b[0mcn\u001b[0m\u001b[0;34m.\u001b[0m\u001b[0mRECALL\u001b[0m\u001b[0;34m]\u001b[0m\u001b[0;34m,\u001b[0m \u001b[0;36m1.0\u001b[0m\u001b[0;34m)\u001b[0m\u001b[0;34m\u001b[0m\u001b[0;34m\u001b[0m\u001b[0m\n\u001b[0m\u001b[1;32m      3\u001b[0m \u001b[0mprint\u001b[0m\u001b[0;34m(\u001b[0m\u001b[0mspec_stats\u001b[0m\u001b[0;34m[\u001b[0m\u001b[0mcn\u001b[0m\u001b[0;34m.\u001b[0m\u001b[0mPRECISION\u001b[0m\u001b[0;34m]\u001b[0m\u001b[0;34m,\u001b[0m \u001b[0;36m0.67\u001b[0m\u001b[0;34m)\u001b[0m\u001b[0;34m\u001b[0m\u001b[0;34m\u001b[0m\u001b[0m\n",
      "\u001b[0;31mTypeError\u001b[0m: 'NoneType' object is not subscriptable"
     ]
    }
   ],
   "source": [
    "spec_stats = recom.getSpeciesStatistics()\n",
    "print(spec_stats[cn.RECALL], 1.0)\n",
    "print(spec_stats[cn.PRECISION], 0.67)"
   ]
  },
  {
   "cell_type": "code",
   "execution_count": 6,
   "id": "d6b9366b",
   "metadata": {},
   "outputs": [],
   "source": [
    "recom.getSpeciesStatistics()"
   ]
  },
  {
   "cell_type": "code",
   "execution_count": 4,
   "id": "1e2484e4",
   "metadata": {},
   "outputs": [],
   "source": [
    "one_spec = 'M_glc__D_e'\n",
    "one_spec_pred = recom.species.predictAnnotationByEditDistance(recom.species.names[one_spec])\n",
    "one_spec_pred_form = {one_spec: one_spec_pred[cn.FORMULA]}"
   ]
  },
  {
   "cell_type": "code",
   "execution_count": 5,
   "id": "f75b1fd4",
   "metadata": {},
   "outputs": [
    {
     "data": {
      "text/plain": [
       "1.0"
      ]
     },
     "execution_count": 5,
     "metadata": {},
     "output_type": "execute_result"
    }
   ],
   "source": [
    "tools.getRecall(ref={one_spec:recom.species.exist_annotation_formula[one_spec]},\n",
    "                pred=one_spec_pred_form)"
   ]
  },
  {
   "cell_type": "code",
   "execution_count": 6,
   "id": "cf64c915",
   "metadata": {},
   "outputs": [
    {
     "data": {
      "text/plain": [
       "1.0"
      ]
     },
     "execution_count": 6,
     "metadata": {},
     "output_type": "execute_result"
    }
   ],
   "source": [
    "tools.getPrecision(ref={one_spec:recom.species.exist_annotation_formula[one_spec]},\n",
    "                pred=one_spec_pred_form)"
   ]
  },
  {
   "cell_type": "code",
   "execution_count": 21,
   "id": "b6a86dad",
   "metadata": {},
   "outputs": [],
   "source": [
    "# self.spec_cl = sa.SpeciesAnnotation(libsbml_fpath = E_COLI_PATH)\n",
    "# self.reac_cl = ra.ReactionAnnotation(libsbml_fpath = E_COLI_PATH)\n",
    "one_reac = 'R_PFK'\n",
    "pred_species = recom.species.predictAnnotationByName(inp_spec_list=recom.reactions.reaction_components[one_reac])\n",
    "pred_reaction = recom.reactions.predictAnnotation(inp_spec_dict=recom.species.formula,\n",
    "                                                  inp_reac_list=['R_PFK'],\n",
    "                                                  update=True)\n",
    "one_rec_pred = pred_reaction['candidates']"
   ]
  },
  {
   "cell_type": "code",
   "execution_count": 24,
   "id": "d8b30de2",
   "metadata": {},
   "outputs": [
    {
     "data": {
      "text/plain": [
       "1.0"
      ]
     },
     "execution_count": 24,
     "metadata": {},
     "output_type": "execute_result"
    }
   ],
   "source": [
    "tools.getRecall(ref={one_reac:recom.reactions.exist_annotation[one_reac]},\n",
    "                pred=one_rec_pred)"
   ]
  },
  {
   "cell_type": "code",
   "execution_count": 25,
   "id": "235cadff",
   "metadata": {},
   "outputs": [
    {
     "data": {
      "text/plain": [
       "0.16666666666666666"
      ]
     },
     "execution_count": 25,
     "metadata": {},
     "output_type": "execute_result"
    }
   ],
   "source": [
    "tools.getPrecision(ref={one_reac:recom.reactions.exist_annotation[one_reac]},\n",
    "                   pred=one_rec_pred)"
   ]
  },
  {
   "cell_type": "code",
   "execution_count": 26,
   "id": "4185c621",
   "metadata": {},
   "outputs": [
    {
     "data": {
      "text/plain": [
       "{'M_glc__D_e': ['C6O6']}"
      ]
     },
     "execution_count": 26,
     "metadata": {},
     "output_type": "execute_result"
    }
   ],
   "source": [
    "one_spec_pred_form"
   ]
  },
  {
   "cell_type": "code",
   "execution_count": 27,
   "id": "6735e0c9",
   "metadata": {},
   "outputs": [],
   "source": [
    "DUMMY_ID = 'SAM'\n",
    "# Dummy data for calculating accuracy, recalll & precision\n",
    "DUMMY_REF = {'a': ['ABC', 'BCD'],\n",
    "              'b': ['DEF']}\n",
    "DUMMY_PRED = {'a': ['ABC'],\n",
    "             'b': ['AAA']}"
   ]
  },
  {
   "cell_type": "code",
   "execution_count": 29,
   "id": "2cc924c3",
   "metadata": {},
   "outputs": [
    {
     "data": {
      "text/plain": [
       "{'b': 0.0, 'a': 0.5}"
      ]
     },
     "execution_count": 29,
     "metadata": {},
     "output_type": "execute_result"
    }
   ],
   "source": [
    "recall2 = tools.getRecall(ref=DUMMY_REF,\n",
    "                          pred=DUMMY_PRED,\n",
    "                          mean=False)\n",
    "recall2\n",
    "# self.assertEqual(recall1, 0.25)"
   ]
  },
  {
   "cell_type": "code",
   "execution_count": 31,
   "id": "49773bee",
   "metadata": {},
   "outputs": [
    {
     "data": {
      "text/plain": [
       "{'b': 0.0, 'a': 1.0}"
      ]
     },
     "execution_count": 31,
     "metadata": {},
     "output_type": "execute_result"
    }
   ],
   "source": [
    "precision2 = tools.getPrecision(ref=DUMMY_REF,\n",
    "                             pred=DUMMY_PRED,\n",
    "                             mean=False)\n",
    "precision2"
   ]
  },
  {
   "cell_type": "code",
   "execution_count": 3,
   "id": "dbf547f2",
   "metadata": {},
   "outputs": [],
   "source": [
    "# Now, get Model statistics for both species and reactions \n",
    "# using getRecall and getPrecision. \n",
    "\n",
    "# This time, load a BiGG model\n",
    "\n",
    "# # 190 is for reactions\n",
    "# one_biomd = 'BIOMD0000000190.xml'\n",
    "\n",
    "# 634 is for species\n",
    "one_biomd = 'BIOMD0000000634.xml'\n",
    "one_biomd_fpath = os.path.join(BIOMODEL_DIR, one_biomd)\n",
    "reader = libsbml.SBMLReader()\n",
    "document = reader.readSBML(one_biomd_fpath)\n",
    "model = document.getModel()\n",
    "recom = recommender.Recommender(libsbml_fpath=one_biomd_fpath)"
   ]
  },
  {
   "cell_type": "code",
   "execution_count": 7,
   "id": "0404d1d4",
   "metadata": {},
   "outputs": [],
   "source": [
    "recom.getSpeciesStatistics()"
   ]
  },
  {
   "cell_type": "code",
   "execution_count": 5,
   "id": "834b28f2",
   "metadata": {},
   "outputs": [
    {
     "data": {
      "text/plain": [
       "{'recall': 0.67, 'precision': 0.41}"
      ]
     },
     "execution_count": 5,
     "metadata": {},
     "output_type": "execute_result"
    }
   ],
   "source": [
    "# 190 is for reactions\n",
    "one_biomd = 'BIOMD0000000190.xml'\n",
    "one_biomd_fpath = os.path.join(BIOMODEL_DIR, one_biomd)\n",
    "reader = libsbml.SBMLReader()\n",
    "document = reader.readSBML(one_biomd_fpath)\n",
    "model = document.getModel()\n",
    "recom = recommender.Recommender(libsbml_fpath=one_biomd_fpath)\n",
    "recom.getReactionStatistics()"
   ]
  },
  {
   "cell_type": "code",
   "execution_count": 6,
   "id": "3abcb9ad",
   "metadata": {},
   "outputs": [],
   "source": [
    "# 190 is for reactions\n",
    "one_biomd = 'BIOMD0000000190.xml'\n",
    "one_biomd_fpath = os.path.join(BIOMODEL_DIR, one_biomd)\n",
    "reader = libsbml.SBMLReader()\n",
    "document = reader.readSBML(one_biomd_fpath)\n",
    "model = document.getModel()\n",
    "recom = recommender.Recommender(libsbml_fpath=one_biomd_fpath)"
   ]
  },
  {
   "cell_type": "code",
   "execution_count": 8,
   "id": "c4fe39d1",
   "metadata": {},
   "outputs": [
    {
     "name": "stdout",
     "output_type": "stream",
     "text": [
      "{'ODC': ['RHEA:22967'], 'SAMdc': ['RHEA:15984'], 'SSAT_for_S': ['RHEA:11119'], 'SSAT_for_D': ['RHEA:11119'], 'PAO_for_aD': ['RHEA:25803'], 'PAO_for_aS': ['RHEA:25803'], 'SpdS': ['RHEA:12724'], 'SpmS': ['RHEA:19976'], 'MAT': ['RHEA:21083']}\n"
     ]
    }
   ],
   "source": [
    "refs = recom.reactions.exist_annotation\n",
    "print(refs)"
   ]
  },
  {
   "cell_type": "code",
   "execution_count": 32,
   "id": "2cb6e539",
   "metadata": {},
   "outputs": [],
   "source": [
    "import itertools\n",
    "specs2pred = list(set(itertools.chain(*([recom.reactions.reaction_components[val] for val in refs.keys()]))))\n",
    "specsdict2pred = {val:recom.species.getNameToUse(val) for val in specs2pred}"
   ]
  },
  {
   "cell_type": "code",
   "execution_count": 33,
   "id": "99b2524f",
   "metadata": {},
   "outputs": [
    {
     "data": {
      "text/plain": [
       "{'Met': ['C5NO2S'],\n",
       " 'S': ['C10N4'],\n",
       " 'CoA': ['C21N7O16P3S'],\n",
       " 'aD': ['C9N3O'],\n",
       " 'D': ['C7N3'],\n",
       " 'SAM': ['C15N6O5S'],\n",
       " 'A': ['C14N6O3S'],\n",
       " 'aS': ['C12N4O'],\n",
       " 'P': ['C4N2'],\n",
       " 'AcCoA': ['C23N7O17P3S'],\n",
       " 'ORN': ['C5N2O2']}"
      ]
     },
     "execution_count": 33,
     "metadata": {},
     "output_type": "execute_result"
    }
   ],
   "source": [
    "specs_predicted = {val:recom.species.predictAnnotationByEditDistance(specsdict2pred[val])[cn.FORMULA] \\\n",
    "                       for val in specs2pred}\n",
    "specs_predicted"
   ]
  },
  {
   "cell_type": "code",
   "execution_count": 27,
   "id": "d710b4a5",
   "metadata": {},
   "outputs": [
    {
     "data": {
      "text/plain": [
       "['Met', 'S', 'CoA', 'aD', 'D', 'SAM', 'A', 'aS', 'P', 'AcCoA', 'ORN']"
      ]
     },
     "execution_count": 27,
     "metadata": {},
     "output_type": "execute_result"
    }
   ],
   "source": [
    "specs2pred"
   ]
  },
  {
   "cell_type": "code",
   "execution_count": 36,
   "id": "69f603ec",
   "metadata": {},
   "outputs": [],
   "source": [
    "pred_reaction = recom.reactions.predictAnnotation(inp_spec_dict=specs_predicted,\n",
    "                                                  inp_reac_list=refs.keys(),\n",
    "                                                  update=True)[cn.CANDIDATES]"
   ]
  },
  {
   "cell_type": "code",
   "execution_count": 37,
   "id": "b396581c",
   "metadata": {},
   "outputs": [
    {
     "data": {
      "text/plain": [
       "{'ODC': Index(['RHEA:22967', 'RHEA:28830', 'RHEA:59051'], dtype='object'),\n",
       " 'SAMdc': Index(['RHEA:15984'], dtype='object'),\n",
       " 'SSAT_for_S': Index(['RHEA:33102'], dtype='object'),\n",
       " 'SSAT_for_D': Index(['RHEA:28153', 'RHEA:28273'], dtype='object'),\n",
       " 'PAO_for_aD': Index(['RHEA:25815'], dtype='object'),\n",
       " 'PAO_for_aS': Index(['RHEA:25803'], dtype='object'),\n",
       " 'SpdS': Index(['RHEA:12724'], dtype='object'),\n",
       " 'SpmS': Index(['RHEA:19976', 'RHEA:30518', 'RHEA:42879'], dtype='object'),\n",
       " 'MAT': Index(['RHEA:13344', 'RHEA:13764', 'RHEA:15428', 'RHEA:15432', 'RHEA:16588',\n",
       "        'RHEA:16664', 'RHEA:17612', 'RHEA:19228', 'RHEA:21083', 'RHEA:21823',\n",
       "        'RHEA:22063', 'RHEA:24843', 'RHEA:26364', 'RHEA:28113', 'RHEA:32158',\n",
       "        'RHEA:33078', 'RHEA:33086', 'RHEA:34278', 'RHEA:34710', 'RHEA:36342',\n",
       "        'RHEA:36350', 'RHEA:36354', 'RHEA:37070', 'RHEA:37074', 'RHEA:37078',\n",
       "        'RHEA:37090', 'RHEA:37434', 'RHEA:39650', 'RHEA:42107', 'RHEA:42635',\n",
       "        'RHEA:42919', 'RHEA:43335', 'RHEA:47695', 'RHEA:49099', 'RHEA:49103',\n",
       "        'RHEA:49107', 'RHEA:49111', 'RHEA:49131', 'RHEA:49167', 'RHEA:49579',\n",
       "        'RHEA:52255', 'RHEA:52259', 'RHEA:53507', 'RHEA:55203', 'RHEA:55207',\n",
       "        'RHEA:55815', 'RHEA:55819', 'RHEA:55823', 'RHEA:56143', 'RHEA:56523',\n",
       "        'RHEA:56839', 'RHEA:57703', 'RHEA:59075', 'RHEA:61023', 'RHEA:61595',\n",
       "        'RHEA:61979', 'RHEA:63223', 'RHEA:65495', 'RHEA:65503', 'RHEA:65947'],\n",
       "       dtype='object')}"
      ]
     },
     "execution_count": 37,
     "metadata": {},
     "output_type": "execute_result"
    }
   ],
   "source": [
    "pred_reaction"
   ]
  },
  {
   "cell_type": "code",
   "execution_count": 38,
   "id": "99df68f1",
   "metadata": {},
   "outputs": [
    {
     "data": {
      "text/plain": [
       "0.6666666666666666"
      ]
     },
     "execution_count": 38,
     "metadata": {},
     "output_type": "execute_result"
    }
   ],
   "source": [
    "tools.getRecall(ref=refs, pred=pred_reaction)"
   ]
  },
  {
   "cell_type": "code",
   "execution_count": 39,
   "id": "4bdbccde",
   "metadata": {},
   "outputs": [
    {
     "data": {
      "text/plain": [
       "0.4092592592592592"
      ]
     },
     "execution_count": 39,
     "metadata": {},
     "output_type": "execute_result"
    }
   ],
   "source": [
    "tools.getPrecision(ref=refs, pred=pred_reaction)"
   ]
  },
  {
   "cell_type": "code",
   "execution_count": null,
   "id": "756e194b",
   "metadata": {},
   "outputs": [],
   "source": []
  }
 ],
 "metadata": {
  "kernelspec": {
   "display_name": "Python 3",
   "language": "python",
   "name": "python3"
  },
  "language_info": {
   "codemirror_mode": {
    "name": "ipython",
    "version": 3
   },
   "file_extension": ".py",
   "mimetype": "text/x-python",
   "name": "python",
   "nbconvert_exporter": "python",
   "pygments_lexer": "ipython3",
   "version": "3.8.8"
  }
 },
 "nbformat": 4,
 "nbformat_minor": 5
}
