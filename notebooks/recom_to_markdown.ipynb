{
 "cells": [
  {
   "cell_type": "code",
   "execution_count": 80,
   "id": "b870d6e1-fc07-4926-ae15-39b115cbecd8",
   "metadata": {},
   "outputs": [],
   "source": [
    "# adding to_markdown option for recom.get...Annotation\n",
    "import collections\n",
    "import copy\n",
    "import itertools\n",
    "import libsbml\n",
    "import numpy as np\n",
    "import os\n",
    "import pickle\n",
    "import pandas as pd\n",
    "import sys\n",
    "import matplotlib.pyplot as plt\n",
    "%matplotlib inline  \n",
    "\n",
    "BIOMD_12 = 'BIOMD0000000012.xml'\n",
    "BASE_DIR = '/Users/woosubs/Desktop/AutomateAnnotation/'\n",
    "DATA_DIR = os.path.join(BASE_DIR, \"DATA\")\n",
    "ALGO_DIR = os.path.join(DATA_DIR, \"algo\")\n",
    "CHEBI_DIR = os.path.join(DATA_DIR, \"chebi\")\n",
    "RHEA_DIR = os.path.join(DATA_DIR, \"rhea\")\n",
    "BIOMODEL_DIR = os.path.join(DATA_DIR, \"biomodels/curated_biomodels_31mar2021\")\n",
    "BIGG_DIR = '/Users/woosubs/Desktop/AutomateAnnotation/DATA/bigg'\n",
    "ecoli_fpath = os.path.join(BIGG_DIR, \"e_coli_core.xml\")\n",
    "\n",
    "PROJ_DIR = os.path.join(os.getcwd(), os.pardir)\n",
    "AMAS_DIR = os.path.join(PROJ_DIR, \"AMAS\")\n",
    "sys.path.append(PROJ_DIR)\n",
    "\n",
    "from AMAS import species_annotation as sa\n",
    "from AMAS import reaction_annotation as ra\n",
    "from AMAS import recommender\n",
    "from AMAS import constants as cn\n",
    "from AMAS import iterator as it\n",
    "from AMAS import tools"
   ]
  },
  {
   "cell_type": "code",
   "execution_count": 81,
   "id": "22dad457-cb0b-473d-b604-7fadc1497113",
   "metadata": {},
   "outputs": [],
   "source": [
    "one_r = model.getReaction(one_reaction)"
   ]
  },
  {
   "cell_type": "code",
   "execution_count": 86,
   "id": "83d2ab1c-fdd9-43d0-a6da-52efe3e1a50f",
   "metadata": {},
   "outputs": [
    {
     "data": {
      "text/plain": [
       "'<sbml:annotation xmlns:sbml=\"http://www.sbml.org/sbml/level3/version1/core\">\\n  <rdf:RDF xmlns:rdf=\"http://www.w3.org/1999/02/22-rdf-syntax-ns#\">\\n    <rdf:Description rdf:about=\"#R_PFK\">\\n      <bqbiol:is xmlns:bqbiol=\"http://biomodels.net/biology-qualifiers/\">\\n        <rdf:Bag>\\n          <rdf:li rdf:resource=\"http://identifiers.org/bigg.reaction/PFK\"/>\\n          <rdf:li rdf:resource=\"http://identifiers.org/ec-code/2.7.1.11\"/>\\n          <rdf:li rdf:resource=\"http://identifiers.org/metanetx.reaction/MNXR102507\"/>\\n          <rdf:li rdf:resource=\"http://identifiers.org/rhea/16111\"/>\\n          <rdf:li rdf:resource=\"http://identifiers.org/rhea/16109\"/>\\n          <rdf:li rdf:resource=\"http://identifiers.org/rhea/16110\"/>\\n          <rdf:li rdf:resource=\"http://identifiers.org/rhea/16112\"/>\\n        </rdf:Bag>\\n      </bqbiol:is>\\n    </rdf:Description>\\n  </rdf:RDF>\\n</sbml:annotation>'"
      ]
     },
     "execution_count": 86,
     "metadata": {},
     "output_type": "execute_result"
    }
   ],
   "source": [
    "one_r.getAnnotationString()"
   ]
  },
  {
   "cell_type": "code",
   "execution_count": 2,
   "id": "93209d74-51fd-4a9b-979c-5ad35fafbecd",
   "metadata": {},
   "outputs": [],
   "source": [
    "reader = libsbml.SBMLReader()\n",
    "document = reader.readSBML(ecoli_fpath)\n",
    "model = document.getModel()\n",
    "recom = recommender.Recommender(libsbml_fpath=ecoli_fpath)"
   ]
  },
  {
   "cell_type": "code",
   "execution_count": 3,
   "id": "263274c4-09e9-4858-8431-7175998083c0",
   "metadata": {},
   "outputs": [
    {
     "data": {
      "text/plain": [
       "'                   R_PFK (credibility score: 0.801)                  \\n+--------------+---------------+------------------------------------+\\n| annotation   |   match_score | url                                |\\n+==============+===============+====================================+\\n| RHEA:12423   |         0.600 | https://www.rhea-db.org/rhea/12423 |\\n+--------------+---------------+------------------------------------+\\n| RHEA:13380   |         0.600 | https://www.rhea-db.org/rhea/13380 |\\n+--------------+---------------+------------------------------------+'"
      ]
     },
     "execution_count": 3,
     "metadata": {},
     "output_type": "execute_result"
    }
   ],
   "source": [
    "RESULT_RECOM = cn.Recommendation('R_PFK', 0.801,\n",
    "                                 [('RHEA:12423', 0.6), ('RHEA:13380', 0.6)],\n",
    "                                 ['https://www.rhea-db.org/rhea/12423', 'https://www.rhea-db.org/rhea/13380'])\n",
    "recom.getMarkdownFromRecommendation(inp_recom=RESULT_RECOM)"
   ]
  },
  {
   "cell_type": "code",
   "execution_count": 4,
   "id": "9b33ca92-f642-48a3-8cf3-f548d8f22ce2",
   "metadata": {},
   "outputs": [
    {
     "name": "stdout",
     "output_type": "stream",
     "text": [
      "['M_f6p_c', 'M_adp_c', 'M_atp_c', 'M_h_c', 'M_fdp_c']\n"
     ]
    }
   ],
   "source": [
    "one_reaction = 'R_PFK'\n",
    "print(recom.reactions.reaction_components[one_reaction])"
   ]
  },
  {
   "cell_type": "code",
   "execution_count": 5,
   "id": "b3448730-693c-47b4-8fcb-720f3c3c62fc",
   "metadata": {},
   "outputs": [],
   "source": [
    "recom = recommender.Recommender(libsbml_fpath=ecoli_fpath)\n",
    "one_recom = recom.getReactionAnnotation(pred_id = one_reaction, spec_method='cdist')"
   ]
  },
  {
   "cell_type": "code",
   "execution_count": 6,
   "id": "dcde794c-c597-4ee8-b202-bd767388ebc9",
   "metadata": {},
   "outputs": [
    {
     "name": "stdout",
     "output_type": "stream",
     "text": [
      "                               M_fdp_c (credibility score: 0.975)                               \n",
      "+--------------+---------------+---------------------------------------------------------------+\n",
      "| annotation   |   match_score | url                                                           |\n",
      "+==============+===============+===============================================================+\n",
      "| CHEBI:49299  |         1.000 | https://www.ebi.ac.uk/chebi/searchId.do?chebiId=CHEBI%3A49299 |\n",
      "+--------------+---------------+---------------------------------------------------------------+\n",
      "| CHEBI:16905  |         1.000 | https://www.ebi.ac.uk/chebi/searchId.do?chebiId=CHEBI%3A16905 |\n",
      "+--------------+---------------+---------------------------------------------------------------+\n"
     ]
    }
   ],
   "source": [
    "one_markd = recom.getSpeciesAnnotation(pred_id='M_fdp_c', get_markdown=True)\n",
    "print(one_markd)"
   ]
  },
  {
   "cell_type": "code",
   "execution_count": 7,
   "id": "954cf4d6-5b7b-49fc-a42c-e855419cd5f4",
   "metadata": {},
   "outputs": [
    {
     "name": "stdout",
     "output_type": "stream",
     "text": [
      "                               M_fdp_c (credibility score: 0.975)                               \n",
      "+--------------+---------------+---------------------------------------------------------------+\n",
      "| annotation   |   match_score | url                                                           |\n",
      "+==============+===============+===============================================================+\n",
      "| CHEBI:49299  |         1.000 | https://www.ebi.ac.uk/chebi/searchId.do?chebiId=CHEBI%3A49299 |\n",
      "+--------------+---------------+---------------------------------------------------------------+\n",
      "| CHEBI:16905  |         1.000 | https://www.ebi.ac.uk/chebi/searchId.do?chebiId=CHEBI%3A16905 |\n",
      "+--------------+---------------+---------------------------------------------------------------+\n",
      "                                M_atp_c (credibility score: 0.958)                               \n",
      "+--------------+---------------+----------------------------------------------------------------+\n",
      "| annotation   |   match_score | url                                                            |\n",
      "+==============+===============+================================================================+\n",
      "| CHEBI:153955 |         0.840 | https://www.ebi.ac.uk/chebi/searchId.do?chebiId=CHEBI%3A153955 |\n",
      "+--------------+---------------+----------------------------------------------------------------+\n"
     ]
    }
   ],
   "source": [
    "two_marks = recom.getSpeciesListAnnotation(pred_ids=['M_fdp_c', 'M_atp_c'], get_markdown=True)\n",
    "for one_m in two_marks:\n",
    "  print(one_m)"
   ]
  },
  {
   "cell_type": "code",
   "execution_count": 8,
   "id": "4122569a-6fd7-4875-8137-0921f0804628",
   "metadata": {},
   "outputs": [
    {
     "name": "stdout",
     "output_type": "stream",
     "text": [
      "                   R_PFK (credibility score: 0.801)                  \n",
      "+--------------+---------------+------------------------------------+\n",
      "| annotation   |   match_score | url                                |\n",
      "+==============+===============+====================================+\n",
      "| RHEA:12423   |         0.600 | https://www.rhea-db.org/rhea/12423 |\n",
      "+--------------+---------------+------------------------------------+\n",
      "| RHEA:13380   |         0.600 | https://www.rhea-db.org/rhea/13380 |\n",
      "+--------------+---------------+------------------------------------+\n",
      "| RHEA:13616   |         0.600 | https://www.rhea-db.org/rhea/13616 |\n",
      "+--------------+---------------+------------------------------------+\n",
      "| RHEA:14216   |         0.600 | https://www.rhea-db.org/rhea/14216 |\n",
      "+--------------+---------------+------------------------------------+\n",
      "| RHEA:15656   |         0.600 | https://www.rhea-db.org/rhea/15656 |\n",
      "+--------------+---------------+------------------------------------+\n",
      "| RHEA:16112   |         0.600 | https://www.rhea-db.org/rhea/16112 |\n",
      "+--------------+---------------+------------------------------------+\n",
      "| RHEA:16772   |         0.600 | https://www.rhea-db.org/rhea/16772 |\n",
      "+--------------+---------------+------------------------------------+\n",
      "| RHEA:20108   |         0.600 | https://www.rhea-db.org/rhea/20108 |\n",
      "+--------------+---------------+------------------------------------+\n",
      "| RHEA:20644   |         0.600 | https://www.rhea-db.org/rhea/20644 |\n",
      "+--------------+---------------+------------------------------------+\n",
      "| RHEA:33806   |         0.600 | https://www.rhea-db.org/rhea/33806 |\n",
      "+--------------+---------------+------------------------------------+\n"
     ]
    }
   ],
   "source": [
    "three_markd = recom.getReactionAnnotation(pred_id='R_PFK', get_markdown=True)\n",
    "print(three_markd)"
   ]
  },
  {
   "cell_type": "code",
   "execution_count": 9,
   "id": "b7fe617a-0628-438e-8f58-342f4fc2898e",
   "metadata": {},
   "outputs": [
    {
     "name": "stdout",
     "output_type": "stream",
     "text": [
      "                   R_PFK (credibility score: 0.801)                  \n",
      "+--------------+---------------+------------------------------------+\n",
      "| annotation   |   match_score | url                                |\n",
      "+==============+===============+====================================+\n",
      "| RHEA:12423   |         0.600 | https://www.rhea-db.org/rhea/12423 |\n",
      "+--------------+---------------+------------------------------------+\n",
      "| RHEA:13380   |         0.600 | https://www.rhea-db.org/rhea/13380 |\n",
      "+--------------+---------------+------------------------------------+\n",
      "| RHEA:13616   |         0.600 | https://www.rhea-db.org/rhea/13616 |\n",
      "+--------------+---------------+------------------------------------+\n",
      "| RHEA:14216   |         0.600 | https://www.rhea-db.org/rhea/14216 |\n",
      "+--------------+---------------+------------------------------------+\n",
      "| RHEA:15656   |         0.600 | https://www.rhea-db.org/rhea/15656 |\n",
      "+--------------+---------------+------------------------------------+\n",
      "| RHEA:16112   |         0.600 | https://www.rhea-db.org/rhea/16112 |\n",
      "+--------------+---------------+------------------------------------+\n",
      "| RHEA:16772   |         0.600 | https://www.rhea-db.org/rhea/16772 |\n",
      "+--------------+---------------+------------------------------------+\n",
      "| RHEA:20108   |         0.600 | https://www.rhea-db.org/rhea/20108 |\n",
      "+--------------+---------------+------------------------------------+\n",
      "| RHEA:20644   |         0.600 | https://www.rhea-db.org/rhea/20644 |\n",
      "+--------------+---------------+------------------------------------+\n",
      "| RHEA:33806   |         0.600 | https://www.rhea-db.org/rhea/33806 |\n",
      "+--------------+---------------+------------------------------------+\n",
      "                   R_PFL (credibility score: 0.920)                  \n",
      "+--------------+---------------+------------------------------------+\n",
      "| annotation   |   match_score | url                                |\n",
      "+==============+===============+====================================+\n",
      "| RHEA:11847   |         1.000 | https://www.rhea-db.org/rhea/11847 |\n",
      "+--------------+---------------+------------------------------------+\n",
      "| RHEA:17428   |         0.800 | https://www.rhea-db.org/rhea/17428 |\n",
      "+--------------+---------------+------------------------------------+\n",
      "| RHEA:22991   |         0.800 | https://www.rhea-db.org/rhea/22991 |\n",
      "+--------------+---------------+------------------------------------+\n",
      "| RHEA:22995   |         0.800 | https://www.rhea-db.org/rhea/22995 |\n",
      "+--------------+---------------+------------------------------------+\n",
      "| RHEA:28045   |         0.800 | https://www.rhea-db.org/rhea/28045 |\n",
      "+--------------+---------------+------------------------------------+\n",
      "| RHEA:12768   |         0.667 | https://www.rhea-db.org/rhea/12768 |\n",
      "+--------------+---------------+------------------------------------+\n",
      "| RHEA:21915   |         0.667 | https://www.rhea-db.org/rhea/21915 |\n",
      "+--------------+---------------+------------------------------------+\n",
      "| RHEA:44143   |         0.667 | https://www.rhea-db.org/rhea/44143 |\n",
      "+--------------+---------------+------------------------------------+\n"
     ]
    }
   ],
   "source": [
    "four_marks = recom.getReactionListAnnotation(pred_ids=['R_PFK', 'R_PFL'], get_markdown=True)\n",
    "for one_m in four_marks:\n",
    "  print(one_m)"
   ]
  },
  {
   "cell_type": "code",
   "execution_count": null,
   "id": "3b1ee762-3962-4204-b1de-6f4be5a90882",
   "metadata": {},
   "outputs": [],
   "source": []
  },
  {
   "cell_type": "code",
   "execution_count": 10,
   "id": "363d3447-2d15-4a84-8b04-5eb296ff989a",
   "metadata": {},
   "outputs": [
    {
     "name": "stdin",
     "output_type": "stream",
     "text": [
      "Enter the value:  Woosub Shin\n"
     ]
    }
   ],
   "source": [
    "dummy = input(\"Enter the value: \")"
   ]
  },
  {
   "cell_type": "code",
   "execution_count": null,
   "id": "cd00e818-af1b-4658-a268-ff51ceb4da92",
   "metadata": {},
   "outputs": [],
   "source": []
  },
  {
   "cell_type": "code",
   "execution_count": null,
   "id": "7f050382-22ef-4db0-8fe5-0d0e709a2277",
   "metadata": {},
   "outputs": [],
   "source": []
  },
  {
   "cell_type": "code",
   "execution_count": 7,
   "id": "0909600d-c635-4bea-a48c-ff3699d2485c",
   "metadata": {},
   "outputs": [
    {
     "data": {
      "text/plain": [
       "{'R_PFK': ['RHEA:16112'],\n",
       " 'R_PFL': ['RHEA:11847'],\n",
       " 'R_PGI': ['RHEA:11819'],\n",
       " 'R_PGK': ['RHEA:14804'],\n",
       " 'R_PGL': ['RHEA:12559'],\n",
       " 'R_ACALD': ['RHEA:23291'],\n",
       " 'R_AKGt2r': ['RHEA:29014'],\n",
       " 'R_PGM': ['RHEA:21907', 'RHEA:15904'],\n",
       " 'R_PIt2r': ['RHEA:29942'],\n",
       " 'R_ALCD2x': ['RHEA:10743', 'RHEA:25293', 'RHEA:10739', 'RHEA:15940'],\n",
       " 'R_ACKr': ['RHEA:23151', 'RHEA:11355'],\n",
       " 'R_PPC': ['RHEA:28373', 'RHEA:23075'],\n",
       " 'R_ACONTa': ['RHEA:10339', 'RHEA:10231'],\n",
       " 'R_ACONTb': ['RHEA:22147', 'RHEA:10339'],\n",
       " 'R_ATPM': ['RHEA:27765',\n",
       "  'RHEA:64915',\n",
       "  'RHEA:20855',\n",
       "  'RHEA:29402',\n",
       "  'RHEA:23683',\n",
       "  'RHEA:29398',\n",
       "  'RHEA:36798',\n",
       "  'RHEA:13068',\n",
       "  'RHEA:29394',\n",
       "  'RHEA:14248'],\n",
       " 'R_PPCK': ['RHEA:18620'],\n",
       " 'R_PPS': ['RHEA:11367'],\n",
       " 'R_ADK1': ['RHEA:12976'],\n",
       " 'R_AKGDH': ['RHEA:15216',\n",
       "  'RHEA:27789',\n",
       "  'RHEA:33062',\n",
       "  'RHEA:21403',\n",
       "  'RHEA:15048',\n",
       "  'RHEA:12191'],\n",
       " 'R_PTAr': ['RHEA:19524'],\n",
       " 'R_PYK': ['RHEA:30730',\n",
       "  'RHEA:30298',\n",
       "  'RHEA:56951',\n",
       "  'RHEA:56959',\n",
       "  'RHEA:18160',\n",
       "  'RHEA:56955'],\n",
       " 'R_RPE': ['RHEA:13680'],\n",
       " 'R_CS': ['RHEA:16848'],\n",
       " 'R_RPI': ['RHEA:14660'],\n",
       " 'R_SUCCt2_2': ['RHEA:29306'],\n",
       " 'R_ENO': ['RHEA:10167'],\n",
       " 'R_SUCDi': ['RHEA:29190'],\n",
       " 'R_SUCOAS': ['RHEA:17664'],\n",
       " 'R_TALA': ['RHEA:17056'],\n",
       " 'R_THD2': ['RHEA:11695'],\n",
       " 'R_TKT1': ['RHEA:27629', 'RHEA:10511'],\n",
       " 'R_TKT2': ['RHEA:27629', 'RHEA:10511'],\n",
       " 'R_TPI': ['RHEA:18588'],\n",
       " 'R_EX_ac_e': ['RHEA:27817'],\n",
       " 'R_EX_etoh_e': ['RHEA:35270'],\n",
       " 'R_EX_for_e': ['RHEA:29682'],\n",
       " 'R_EX_h_e': ['RHEA:34982'],\n",
       " 'R_EX_h2o_e': ['RHEA:29670'],\n",
       " 'R_EX_nh4_e': ['RHEA:28750'],\n",
       " 'R_EX_pi_e': ['RHEA:32826'],\n",
       " 'R_FBA': ['RHEA:14732'],\n",
       " 'R_FBP': ['RHEA:11067'],\n",
       " 'R_FORt': ['RHEA:29682'],\n",
       " 'R_FRD7': ['RHEA:29190'],\n",
       " 'R_FUM': ['RHEA:12463'],\n",
       " 'R_FUMt2_2': ['RHEA:29334'],\n",
       " 'R_G6PDH2r': ['RHEA:15844', 'RHEA:38218'],\n",
       " 'R_GAPD': ['RHEA:10299', 'RHEA:10303'],\n",
       " 'R_GLNS': ['RHEA:16172'],\n",
       " 'R_GLUDy': ['RHEA:15136', 'RHEA:11615', 'RHEA:15504'],\n",
       " 'R_GLUN': ['RHEA:15892',\n",
       "  'RHEA:21019',\n",
       "  'RHEA:31510',\n",
       "  'RHEA:18636',\n",
       "  'RHEA:26429',\n",
       "  'RHEA:15504',\n",
       "  'RHEA:12231',\n",
       "  'RHEA:12131',\n",
       "  'RHEA:11683'],\n",
       " 'R_GLUSy': ['RHEA:15504'],\n",
       " 'R_GND': ['RHEA:33026', 'RHEA:10119'],\n",
       " 'R_H2Ot': ['RHEA:29670'],\n",
       " 'R_ICDHyr': ['RHEA:19632'],\n",
       " 'R_ICL': ['RHEA:13248'],\n",
       " 'R_LDH_D': ['RHEA:16372'],\n",
       " 'R_MALS': ['RHEA:18184'],\n",
       " 'R_MALt2_2': ['RHEA:29342'],\n",
       " 'R_MDH': ['RHEA:21435', 'RHEA:10827'],\n",
       " 'R_ME1': ['RHEA:12656', 'RHEA:15644'],\n",
       " 'R_ME2': ['RHEA:18256', 'RHEA:15644'],\n",
       " 'R_NADTRHD': ['RHEA:11695'],\n",
       " 'R_NH4t': ['RHEA:28750'],\n",
       " 'R_PDH': ['RHEA:28045',\n",
       "  'RHEA:17020',\n",
       "  'RHEA:33154',\n",
       "  'RHEA:33062',\n",
       "  'RHEA:15048',\n",
       "  'RHEA:17428',\n",
       "  'RHEA:19192']}"
      ]
     },
     "execution_count": 7,
     "metadata": {},
     "output_type": "execute_result"
    }
   ],
   "source": [
    "recom.reactions.exist_annotation"
   ]
  },
  {
   "cell_type": "code",
   "execution_count": 9,
   "id": "9e1e2fdd-e0d3-4e94-8227-7a014ddb7704",
   "metadata": {},
   "outputs": [
    {
     "data": {
      "text/plain": [
       "Recommendation(id='R_PFK', credibility=0.801, candidates=[('RHEA:12423', 0.6), ('RHEA:13380', 0.6), ('RHEA:13616', 0.6), ('RHEA:14216', 0.6), ('RHEA:15656', 0.6), ('RHEA:16112', 0.6), ('RHEA:16772', 0.6), ('RHEA:20108', 0.6), ('RHEA:20644', 0.6), ('RHEA:33806', 0.6)], urls=['https://www.rhea-db.org/rhea/12423', 'https://www.rhea-db.org/rhea/13380', 'https://www.rhea-db.org/rhea/13616', 'https://www.rhea-db.org/rhea/14216', 'https://www.rhea-db.org/rhea/15656', 'https://www.rhea-db.org/rhea/16112', 'https://www.rhea-db.org/rhea/16772', 'https://www.rhea-db.org/rhea/20108', 'https://www.rhea-db.org/rhea/20644', 'https://www.rhea-db.org/rhea/33806'])"
      ]
     },
     "execution_count": 9,
     "metadata": {},
     "output_type": "execute_result"
    }
   ],
   "source": [
    "one_recom"
   ]
  },
  {
   "cell_type": "code",
   "execution_count": 68,
   "id": "fcbb81ed-cd52-4f5a-bd91-c5ad96d0bc0b",
   "metadata": {},
   "outputs": [],
   "source": [
    "def getMarkdownFromRecommendation(inp_recom):\n",
    "  \"\"\"\n",
    "  Get a markdown string for \n",
    "  a single recommendation.\n",
    "  \n",
    "  Parameters\n",
    "  ----------\n",
    "  inp_recom: cn.Recommendation\n",
    "  \n",
    "  Returns\n",
    "  -------\n",
    "  :str\n",
    "  \"\"\"\n",
    "  cands = [val[0] for val in inp_recom.candidates]\n",
    "  match_scores = [val[1] for val in inp_recom.candidates]\n",
    "  urls = inp_recom.urls\n",
    "  df = pd.DataFrame({'annotation':cands, 'match_score':match_scores, 'url':urls})\n",
    "  df_str = df.to_markdown(tablefmt=\"grid\", floatfmt=\".03f\", index=False)\n",
    "  df_str = \" %s (credibility score: %.03f)\\n\" % (inp_recom.id,  inp_recom.credibility) + \\\n",
    "           df_str\n",
    "  return df_str"
   ]
  },
  {
   "cell_type": "code",
   "execution_count": 17,
   "id": "8fb19739-ab41-4648-8d83-305736aaa980",
   "metadata": {},
   "outputs": [
    {
     "name": "stdout",
     "output_type": "stream",
     "text": [
      "                   R_PFK (credibility score: 0.801)                  \n",
      "+--------------+---------------+------------------------------------+\n",
      "| annotation   |   match_score | url                                |\n",
      "+==============+===============+====================================+\n",
      "| RHEA:12423   |         0.600 | https://www.rhea-db.org/rhea/12423 |\n",
      "+--------------+---------------+------------------------------------+\n",
      "| RHEA:13380   |         0.600 | https://www.rhea-db.org/rhea/13380 |\n",
      "+--------------+---------------+------------------------------------+\n",
      "| RHEA:13616   |         0.600 | https://www.rhea-db.org/rhea/13616 |\n",
      "+--------------+---------------+------------------------------------+\n",
      "| RHEA:14216   |         0.600 | https://www.rhea-db.org/rhea/14216 |\n",
      "+--------------+---------------+------------------------------------+\n",
      "| RHEA:15656   |         0.600 | https://www.rhea-db.org/rhea/15656 |\n",
      "+--------------+---------------+------------------------------------+\n",
      "| RHEA:16112   |         0.600 | https://www.rhea-db.org/rhea/16112 |\n",
      "+--------------+---------------+------------------------------------+\n",
      "| RHEA:16772   |         0.600 | https://www.rhea-db.org/rhea/16772 |\n",
      "+--------------+---------------+------------------------------------+\n",
      "| RHEA:20108   |         0.600 | https://www.rhea-db.org/rhea/20108 |\n",
      "+--------------+---------------+------------------------------------+\n",
      "| RHEA:20644   |         0.600 | https://www.rhea-db.org/rhea/20644 |\n",
      "+--------------+---------------+------------------------------------+\n",
      "| RHEA:33806   |         0.600 | https://www.rhea-db.org/rhea/33806 |\n",
      "+--------------+---------------+------------------------------------+\n"
     ]
    }
   ],
   "source": [
    "inp_recom = one_recom\n",
    "cands = [val[0] for val in inp_recom.candidates]\n",
    "match_scores = [val[1] for val in inp_recom.candidates]\n",
    "urls = inp_recom.urls\n",
    "df = pd.DataFrame({'annotation':cands, 'match_score':match_scores, 'url':urls})\n",
    "df_str = df.to_markdown(tablefmt=\"grid\", floatfmt=\".03f\", index=False)\n",
    "len_first_line = len(df_str.split('\\n')[0])\n",
    "header_line = \"%s (credibility score: %.03f)\" % (inp_recom.id,  inp_recom.credibility)\n",
    "header_line = header_line.center(len_first_line)\n",
    "df_str = header_line + '\\n' + df_str\n",
    "print(df_str)"
   ]
  },
  {
   "cell_type": "code",
   "execution_count": null,
   "id": "20fb652c-aca0-4a63-8d88-606b56286656",
   "metadata": {},
   "outputs": [],
   "source": []
  },
  {
   "cell_type": "code",
   "execution_count": null,
   "id": "584bd6b3-b0f7-45ec-b82a-aa68d1a926bc",
   "metadata": {},
   "outputs": [],
   "source": []
  },
  {
   "cell_type": "code",
   "execution_count": 70,
   "id": "d8d17bc0-e5f0-4847-a07a-6729419a179c",
   "metadata": {},
   "outputs": [],
   "source": [
    "\n",
    "RESULT_RECOM = cn.Recommendation('R_PFK', 0.801,\n",
    "                                 [('RHEA:12423', 0.6), ('RHEA:13380', 0.6)],\n",
    "                                 ['https://www.rhea-db.org/rhea/12423', 'https://www.rhea-db.org/rhea/13380'])\n"
   ]
  },
  {
   "cell_type": "code",
   "execution_count": 71,
   "id": "90f50270-e3d1-46eb-bb38-1216e174fac2",
   "metadata": {},
   "outputs": [
    {
     "name": "stdout",
     "output_type": "stream",
     "text": [
      " R_PFK (credibility score: 0.801)\n",
      "+--------------+---------------+------------------------------------+\n",
      "| annotation   |   match_score | url                                |\n",
      "+==============+===============+====================================+\n",
      "| RHEA:12423   |         0.600 | https://www.rhea-db.org/rhea/12423 |\n",
      "+--------------+---------------+------------------------------------+\n",
      "| RHEA:13380   |         0.600 | https://www.rhea-db.org/rhea/13380 |\n",
      "+--------------+---------------+------------------------------------+\n"
     ]
    }
   ],
   "source": [
    "res = getMarkdownFromRecommendation(RESULT_RECOM)\n",
    "print(res)"
   ]
  },
  {
   "cell_type": "code",
   "execution_count": 14,
   "id": "0a5dca7f-21f6-4cdc-b8be-ac0a641931cc",
   "metadata": {},
   "outputs": [],
   "source": [
    "import argparse "
   ]
  },
  {
   "cell_type": "code",
   "execution_count": 70,
   "id": "f3704060-eb65-458f-97a6-e06557fe5064",
   "metadata": {},
   "outputs": [],
   "source": [
    "from AMAS import recommend_species"
   ]
  },
  {
   "cell_type": "code",
   "execution_count": 79,
   "id": "3604fa4a-82b5-4d5b-a77e-13f4cac42e37",
   "metadata": {},
   "outputs": [
    {
     "data": {
      "text/plain": [
       "'/Users/woosubs/Desktop/AutomateAnnotation/DATA/biomodels/curated_biomodels_31mar2021'"
      ]
     },
     "execution_count": 79,
     "metadata": {},
     "output_type": "execute_result"
    }
   ],
   "source": [
    "os.path.join(\"../..\", BIOMODEL_DIR)"
   ]
  },
  {
   "cell_type": "code",
   "execution_count": 53,
   "id": "808e5248-338b-48c7-b920-20e8f2257729",
   "metadata": {},
   "outputs": [],
   "source": [
    "parser = argparse.ArgumentParser(description='SBML file (.XML) and one or more species IDs in the model.')\n",
    "parser.add_argument('file_path', type=str, help='SBML file in the XML format')\n",
    "parser.add_argument('species_id', type=str, help='ID of species in the model', nargs='+')\n",
    "args = parser.parse_args(args=[ecoli_fpath, 'M_f6p_c'])"
   ]
  },
  {
   "cell_type": "code",
   "execution_count": 51,
   "id": "7d811eb5-04b3-4bd3-a5d6-a77a62567161",
   "metadata": {},
   "outputs": [],
   "source": [
    "dummy_recom = recommender.Recommender(libsbml_fpath=args.file_path)"
   ]
  },
  {
   "cell_type": "code",
   "execution_count": 56,
   "id": "f51d9ca1-dab6-4af2-b213-29569f249b63",
   "metadata": {},
   "outputs": [],
   "source": [
    "dummy_recom.species.model"
   ]
  },
  {
   "cell_type": "code",
   "execution_count": 57,
   "id": "cdd463f7-9e47-44d9-9439-da84c0fbfd32",
   "metadata": {},
   "outputs": [
    {
     "data": {
      "text/plain": [
       "False"
      ]
     },
     "execution_count": 57,
     "metadata": {},
     "output_type": "execute_result"
    }
   ],
   "source": [
    "[1, 2, 3] in [1, 2, 3,4, 5]"
   ]
  },
  {
   "cell_type": "code",
   "execution_count": 72,
   "id": "f80df721-64a1-4426-a453-7332786c66a4",
   "metadata": {},
   "outputs": [
    {
     "data": {
      "text/plain": [
       "' R_PFK (credibility score: 0.801)\\n+--------------+---------------+------------------------------------+\\n| annotation   |   match_score | url                                |\\n+==============+===============+====================================+\\n| RHEA:12423   |         0.600 | https://www.rhea-db.org/rhea/12423 |\\n+--------------+---------------+------------------------------------+\\n| RHEA:13380   |         0.600 | https://www.rhea-db.org/rhea/13380 |\\n+--------------+---------------+------------------------------------+'"
      ]
     },
     "execution_count": 72,
     "metadata": {},
     "output_type": "execute_result"
    }
   ],
   "source": [
    "_ = recom.getSpeciesAnnotation('M_glc__D_e', get_m"
   ]
  },
  {
   "cell_type": "code",
   "execution_count": 37,
   "id": "1998b316-916f-48ba-94b2-1cf0a8a52262",
   "metadata": {},
   "outputs": [],
   "source": [
    "rheas = [val[0] for val in one_recom.candidates]\n",
    "match_scores = [('%.03f' % val[1]) for val in one_recom.candidates]\n",
    "urls = one_recom.urls\n",
    "df = pd.DataFrame({'rhea':rheas, 'match_score':match_scores, 'url':urls})\n",
    "#df = df.style.set_caption(\"Recommendation for %s (Credibility Score: %.03f)\" % (one_recom.id,  one_recom.credibility))"
   ]
  },
  {
   "cell_type": "code",
   "execution_count": 38,
   "id": "4536b044-fa06-4ada-8b00-c6861153eaf8",
   "metadata": {},
   "outputs": [
    {
     "name": "stdout",
     "output_type": "stream",
     "text": [
      " R_PFK (credibility score: 0.801)\n",
      "+------------+---------------+------------------------------------+\n",
      "| rhea       |   match_score | url                                |\n",
      "+============+===============+====================================+\n",
      "| RHEA:12423 |           0.6 | https://www.rhea-db.org/rhea/12423 |\n",
      "+------------+---------------+------------------------------------+\n",
      "| RHEA:13380 |           0.6 | https://www.rhea-db.org/rhea/13380 |\n",
      "+------------+---------------+------------------------------------+\n",
      "| RHEA:13616 |           0.6 | https://www.rhea-db.org/rhea/13616 |\n",
      "+------------+---------------+------------------------------------+\n",
      "| RHEA:14216 |           0.6 | https://www.rhea-db.org/rhea/14216 |\n",
      "+------------+---------------+------------------------------------+\n",
      "| RHEA:15656 |           0.6 | https://www.rhea-db.org/rhea/15656 |\n",
      "+------------+---------------+------------------------------------+\n",
      "| RHEA:16112 |           0.6 | https://www.rhea-db.org/rhea/16112 |\n",
      "+------------+---------------+------------------------------------+\n",
      "| RHEA:16772 |           0.6 | https://www.rhea-db.org/rhea/16772 |\n",
      "+------------+---------------+------------------------------------+\n",
      "| RHEA:20108 |           0.6 | https://www.rhea-db.org/rhea/20108 |\n",
      "+------------+---------------+------------------------------------+\n",
      "| RHEA:20644 |           0.6 | https://www.rhea-db.org/rhea/20644 |\n",
      "+------------+---------------+------------------------------------+\n",
      "| RHEA:33806 |           0.6 | https://www.rhea-db.org/rhea/33806 |\n",
      "+------------+---------------+------------------------------------+\n"
     ]
    }
   ],
   "source": [
    "df_str = df.to_markdown(tablefmt=\"grid\", index=False)\n",
    "df_str = \" %s (credibility score: %.03f)\\n\" % (one_recom.id,  one_recom.credibility) + \\\n",
    "         df_str\n",
    "print(df_str)"
   ]
  },
  {
   "cell_type": "code",
   "execution_count": 11,
   "id": "a61bea1f-c3a3-4115-89ac-ff7dd2893ca5",
   "metadata": {},
   "outputs": [
    {
     "data": {
      "text/plain": [
       "[('RHEA:12423', 0.6),\n",
       " ('RHEA:13380', 0.6),\n",
       " ('RHEA:13616', 0.6),\n",
       " ('RHEA:14216', 0.6),\n",
       " ('RHEA:15656', 0.6),\n",
       " ('RHEA:16112', 0.6),\n",
       " ('RHEA:16772', 0.6),\n",
       " ('RHEA:20108', 0.6),\n",
       " ('RHEA:20644', 0.6),\n",
       " ('RHEA:33806', 0.6)]"
      ]
     },
     "execution_count": 11,
     "metadata": {},
     "output_type": "execute_result"
    }
   ],
   "source": [
    "one_recom.candidates"
   ]
  },
  {
   "cell_type": "code",
   "execution_count": null,
   "id": "5510c4e4-3fa9-45ab-a19d-09cb6d5c0b27",
   "metadata": {},
   "outputs": [],
   "source": []
  }
 ],
 "metadata": {
  "kernelspec": {
   "display_name": "Python 3 (ipykernel)",
   "language": "python",
   "name": "python3"
  },
  "language_info": {
   "codemirror_mode": {
    "name": "ipython",
    "version": 3
   },
   "file_extension": ".py",
   "mimetype": "text/x-python",
   "name": "python",
   "nbconvert_exporter": "python",
   "pygments_lexer": "ipython3",
   "version": "3.9.15"
  }
 },
 "nbformat": 4,
 "nbformat_minor": 5
}
