{
 "cells": [
  {
   "cell_type": "code",
   "execution_count": 1,
   "id": "05f97bd6",
   "metadata": {},
   "outputs": [],
   "source": [
    "# Get recall and precision for manuscript/paper\n",
    "# Plot needs to be fixed in the initial writeup"
   ]
  },
  {
   "cell_type": "code",
   "execution_count": null,
   "id": "473aec50",
   "metadata": {},
   "outputs": [],
   "source": []
  }
 ],
 "metadata": {
  "kernelspec": {
   "display_name": "Python 3",
   "language": "python",
   "name": "python3"
  },
  "language_info": {
   "codemirror_mode": {
    "name": "ipython",
    "version": 3
   },
   "file_extension": ".py",
   "mimetype": "text/x-python",
   "name": "python",
   "nbconvert_exporter": "python",
   "pygments_lexer": "ipython3",
   "version": "3.8.8"
  }
 },
 "nbformat": 4,
 "nbformat_minor": 5
}
