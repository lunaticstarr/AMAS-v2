{
 "cells": [
  {
   "cell_type": "code",
   "execution_count": 2,
   "id": "a5b47af4-48b6-4575-be91-bcc834624969",
   "metadata": {},
   "outputs": [],
   "source": [
    "# Develop features for demo, etc. \n",
    "# But, first step is to create DF from Recommendation\n",
    "import collections\n",
    "import compress_pickle\n",
    "import itertools\n",
    "import libsbml\n",
    "import numpy as np\n",
    "import os\n",
    "import pickle\n",
    "import pandas as pd\n",
    "import sys\n",
    "import time\n",
    "import matplotlib.pyplot as plt\n",
    "%matplotlib inline  \n",
    "\n",
    "BIOMD_12 = 'BIOMD0000000012.xml'\n",
    "BASE_DIR = '/Users/woosubs/Desktop/AutomateAnnotation/'\n",
    "DATA_DIR = os.path.join(BASE_DIR, \"DATA\")\n",
    "ALGO_DIR = os.path.join(DATA_DIR, \"algo\")\n",
    "CHEBI_DIR = os.path.join(DATA_DIR, \"chebi\")\n",
    "RHEA_DIR = os.path.join(DATA_DIR, \"rhea\")\n",
    "BIOMODEL_DIR = os.path.join(DATA_DIR, \"biomodels/curated_biomodels_31mar2021\")\n",
    "BIGG_DIR = '/Users/woosubs/Desktop/AutomateAnnotation/DATA/bigg'\n",
    "ecoli_fpath = os.path.join(BIGG_DIR, \"e_coli_core.xml\")\n",
    "\n",
    "PROJ_DIR = os.path.join(os.getcwd(), os.pardir)\n",
    "AMAS_DIR = os.path.join(PROJ_DIR, \"AMAS\")\n",
    "sys.path.append(PROJ_DIR)\n",
    "\n",
    "SUPPL_DIR = os.path.join(PROJ_DIR, os.pardir, \"AMAS_suppl\")\n",
    "ACCURACY_DIR = os.path.join(SUPPL_DIR, \"data_for_credibility\")\n",
    "RESULT_DIR = '/Users/woosubs/Desktop/AutomateAnnotation/AMAS_suppl/result_files'\n",
    "\n",
    "from AMAS import species_annotation as sa\n",
    "from AMAS import reaction_annotation as ra\n",
    "from AMAS import recommender\n",
    "from AMAS import constants as cn\n",
    "from AMAS import iterator as it\n",
    "from AMAS import tools"
   ]
  },
  {
   "cell_type": "code",
   "execution_count": 107,
   "id": "7623e4f6-89f6-455c-a25d-042e1fea27d9",
   "metadata": {},
   "outputs": [],
   "source": [
    "def recommendSpecies():\n",
    "    # method to directly interact with user; \n",
    "    # simple display purpose\n",
    "    # TODO: Once it's displayed,\n",
    "    # save it in the recom class;\n",
    "    pass\n",
    "def recommendReaction():\n",
    "    # method to directly interact with user; \n",
    "    # simple display purpose\n",
    "    pass\n",
    "\n",
    "def getDataFrameFromRecommendation(rec, show_url=False):\n",
    "    \"\"\"\n",
    "    Get a pandas dataframe from \n",
    "    a single recommendation.\n",
    "\n",
    "    Parameters\n",
    "    ----------\n",
    "    rec: cn.Recommendation\n",
    "\n",
    "    Returns\n",
    "    -------\n",
    "    :str\n",
    "    \"\"\"\n",
    "    cands = [val[0] for val in rec.candidates]\n",
    "    match_scores = [val[1] for val in rec.candidates]\n",
    "    \n",
    "    labels = rec.labels\n",
    "    # index starts from 1;\n",
    "    df = pd.DataFrame({'annotation':cands,\n",
    "                       'match_score':match_scores,\n",
    "                       'label':labels},\n",
    "                       index=[1+val for val in list(range(len(cands)))])\n",
    "    df.index.name = 'ID: %s' % rec.id\n",
    "    if show_url:\n",
    "      urls = rec.urls\n",
    "      df['url'] = urls\n",
    "    return df\n",
    "\n",
    "def getMarkdownFromRecommendation(rec, show_url=False):\n",
    "    \"\"\"\n",
    "    Get a markdown from \n",
    "    a dataframe.\n",
    "\n",
    "    Parameters\n",
    "    ----------\n",
    "    rec: cn.Recommendation\n",
    "\n",
    "    Returns\n",
    "    -------\n",
    "    :str\n",
    "    \"\"\"\n",
    "    df = getDataFrameFromRecommendation(rec, show_url)\n",
    "    # In markdown, title is shown separately,\n",
    "    # so index name with element ID is removed; \n",
    "    df.index.name=None\n",
    "    df_str = df.to_markdown(tablefmt=\"grid\", floatfmt=\".03f\", index=True)\n",
    "    # Centering and adding the title \n",
    "    len_first_line = len(df_str.split('\\n')[0])\n",
    "    title_line = \"%s (credibility score: %.03f)\" % (rec.id,  rec.credibility)\n",
    "    title_line = title_line.center(len_first_line)\n",
    "    df_str = title_line + '\\n' + df_str\n",
    "    return df_str"
   ]
  },
  {
   "cell_type": "code",
   "execution_count": 108,
   "id": "ddd348bd-7832-4223-84fe-9402ceba44ed",
   "metadata": {},
   "outputs": [],
   "source": [
    "E_COLI_PATH = '/Users/woosubs/Desktop/AutomateAnnotation/AMAS/AMAS/../tests/e_coli_core.xml'\n",
    "BIOMD_190_PATH = os.path.join(cn.TEST_DIR, 'BIOMD0000000190.xml')"
   ]
  },
  {
   "cell_type": "code",
   "execution_count": 109,
   "id": "a45037f0-5736-4916-8c5d-f746d60a6818",
   "metadata": {},
   "outputs": [],
   "source": [
    "recom = recommender.Recommender(libsbml_fpath=BIOMD_190_PATH)\n",
    "one_rec = recom.getSpeciesAnnotation(pred_id='SAM')"
   ]
  },
  {
   "cell_type": "code",
   "execution_count": 110,
   "id": "52d7050b-802b-4502-82fb-871e0086d75f",
   "metadata": {},
   "outputs": [
    {
     "data": {
      "text/plain": [
       "Recommendation(id='SAM', credibility=0.975, candidates=[('CHEBI:59789', 1.0), ('CHEBI:15414', 1.0)], urls=['https://www.ebi.ac.uk/chebi/searchId.do?chebiId=CHEBI%3A59789', 'https://www.ebi.ac.uk/chebi/searchId.do?chebiId=CHEBI%3A15414'], labels=['S-adenosyl-L-methionine zwitterion', 'S-adenosyl-L-methionine'])"
      ]
     },
     "execution_count": 110,
     "metadata": {},
     "output_type": "execute_result"
    }
   ],
   "source": [
    "one_rec"
   ]
  },
  {
   "cell_type": "code",
   "execution_count": 134,
   "id": "822abf0d-6cf9-414f-9dc5-eff955bfef56",
   "metadata": {},
   "outputs": [],
   "source": [
    "RESULT_RECOM = cn.Recommendation('R_PFK', 0.817,\n",
    "                                 [('RHEA:12420', 0.6), ('RHEA:13377', 0.6)],\n",
    "                                 ['https://www.rhea-db.org/rhea/12420', 'https://www.rhea-db.org/rhea/13377'],\n",
    "                                 ['tagatose-6-phosphate kinase activity', 'phosphoglucokinase activity'])"
   ]
  },
  {
   "cell_type": "code",
   "execution_count": 140,
   "id": "73990d2e-f90c-45e0-9eec-f3e6cc186ebb",
   "metadata": {},
   "outputs": [
    {
     "data": {
      "text/html": [
       "<div>\n",
       "<style scoped>\n",
       "    .dataframe tbody tr th:only-of-type {\n",
       "        vertical-align: middle;\n",
       "    }\n",
       "\n",
       "    .dataframe tbody tr th {\n",
       "        vertical-align: top;\n",
       "    }\n",
       "\n",
       "    .dataframe thead th {\n",
       "        text-align: right;\n",
       "    }\n",
       "</style>\n",
       "<table border=\"1\" class=\"dataframe\">\n",
       "  <thead>\n",
       "    <tr style=\"text-align: right;\">\n",
       "      <th></th>\n",
       "      <th>annotation</th>\n",
       "      <th>match_score</th>\n",
       "      <th>label</th>\n",
       "      <th>url</th>\n",
       "    </tr>\n",
       "    <tr>\n",
       "      <th>ID: R_PFK</th>\n",
       "      <th></th>\n",
       "      <th></th>\n",
       "      <th></th>\n",
       "      <th></th>\n",
       "    </tr>\n",
       "  </thead>\n",
       "  <tbody>\n",
       "    <tr>\n",
       "      <th>1</th>\n",
       "      <td>RHEA:12420</td>\n",
       "      <td>0.6</td>\n",
       "      <td>tagatose-6-phosphate kinase activity</td>\n",
       "      <td>https://www.rhea-db.org/rhea/12420</td>\n",
       "    </tr>\n",
       "    <tr>\n",
       "      <th>2</th>\n",
       "      <td>RHEA:13377</td>\n",
       "      <td>0.6</td>\n",
       "      <td>phosphoglucokinase activity</td>\n",
       "      <td>https://www.rhea-db.org/rhea/13377</td>\n",
       "    </tr>\n",
       "  </tbody>\n",
       "</table>\n",
       "</div>"
      ],
      "text/plain": [
       "           annotation  match_score                                 label  \\\n",
       "ID: R_PFK                                                                  \n",
       "1          RHEA:12420          0.6  tagatose-6-phosphate kinase activity   \n",
       "2          RHEA:13377          0.6           phosphoglucokinase activity   \n",
       "\n",
       "                                          url  \n",
       "ID: R_PFK                                      \n",
       "1          https://www.rhea-db.org/rhea/12420  \n",
       "2          https://www.rhea-db.org/rhea/13377  "
      ]
     },
     "execution_count": 140,
     "metadata": {},
     "output_type": "execute_result"
    }
   ],
   "source": [
    "df = getDataFrameFromRecommendation(RESULT_RECOM, show_url=True)\n",
    "df"
   ]
  },
  {
   "cell_type": "code",
   "execution_count": 145,
   "id": "bbff1aed-e865-4e93-9be4-220798e970ec",
   "metadata": {},
   "outputs": [
    {
     "data": {
      "text/plain": [
       "True"
      ]
     },
     "execution_count": 145,
     "metadata": {},
     "output_type": "execute_result"
    }
   ],
   "source": [
    "1 in df.index"
   ]
  },
  {
   "cell_type": "code",
   "execution_count": 137,
   "id": "4cdb423a-c137-442a-b324-0dbbaf54637a",
   "metadata": {},
   "outputs": [
    {
     "data": {
      "text/plain": [
       "'                      R_PFK (credibility score: 0.817)                      \\n+----+--------------+---------------+--------------------------------------+\\n|    | annotation   |   match_score | label                                |\\n+====+==============+===============+======================================+\\n|  1 | RHEA:12420   |         0.600 | tagatose-6-phosphate kinase activity |\\n+----+--------------+---------------+--------------------------------------+\\n|  2 | RHEA:13377   |         0.600 | phosphoglucokinase activity          |\\n+----+--------------+---------------+--------------------------------------+'"
      ]
     },
     "execution_count": 137,
     "metadata": {},
     "output_type": "execute_result"
    }
   ],
   "source": [
    "getMarkdownFromRecommendation(RESULT_RECOM, show_url=False)"
   ]
  },
  {
   "cell_type": "code",
   "execution_count": 131,
   "id": "3d49630c-d8ae-4143-8232-96a56b3d13f3",
   "metadata": {},
   "outputs": [],
   "source": [
    "def selectAnnotation(choice=None):\n",
    "  \"\"\"\n",
    "  Based on the previous recommendation,\n",
    "  determine the annotations to store.\n",
    "  If None given, select all.\n",
    "  \n",
    "  Parameters\n",
    "  ----------\n",
    "  choice: int/list-int/None\n",
    "  \"\"\"\n",
    "  if isinstance(choice, int):\n",
    "    chosen = [choice]\n",
    "  elif isinstance(choice, list):\n",
    "    chosen = choice\n",
    "  elif choice is None:\n",
    "    return df\n",
    "  # Update previous interactions;\n",
    "  return df.loc[chosen, :]"
   ]
  },
  {
   "cell_type": "code",
   "execution_count": 132,
   "id": "9f1b986b-7142-4e0a-8b84-206c59aedcda",
   "metadata": {},
   "outputs": [
    {
     "data": {
      "text/plain": [
       "'SAM'"
      ]
     },
     "execution_count": 132,
     "metadata": {},
     "output_type": "execute_result"
    }
   ],
   "source": [
    "df.index.name.split(' ')[-1]"
   ]
  },
  {
   "cell_type": "code",
   "execution_count": null,
   "id": "aa8166bd-9f7c-4995-9b16-ae62b696a41d",
   "metadata": {},
   "outputs": [],
   "source": []
  },
  {
   "cell_type": "code",
   "execution_count": 133,
   "id": "cbec1acf-9615-48d5-ace2-897a69b63f8a",
   "metadata": {},
   "outputs": [
    {
     "data": {
      "text/html": [
       "<div>\n",
       "<style scoped>\n",
       "    .dataframe tbody tr th:only-of-type {\n",
       "        vertical-align: middle;\n",
       "    }\n",
       "\n",
       "    .dataframe tbody tr th {\n",
       "        vertical-align: top;\n",
       "    }\n",
       "\n",
       "    .dataframe thead th {\n",
       "        text-align: right;\n",
       "    }\n",
       "</style>\n",
       "<table border=\"1\" class=\"dataframe\">\n",
       "  <thead>\n",
       "    <tr style=\"text-align: right;\">\n",
       "      <th></th>\n",
       "      <th>annotation</th>\n",
       "      <th>match_score</th>\n",
       "      <th>label</th>\n",
       "    </tr>\n",
       "    <tr>\n",
       "      <th>ID: SAM</th>\n",
       "      <th></th>\n",
       "      <th></th>\n",
       "      <th></th>\n",
       "    </tr>\n",
       "  </thead>\n",
       "  <tbody>\n",
       "    <tr>\n",
       "      <th>1</th>\n",
       "      <td>CHEBI:59789</td>\n",
       "      <td>1.0</td>\n",
       "      <td>S-adenosyl-L-methionine zwitterion</td>\n",
       "    </tr>\n",
       "    <tr>\n",
       "      <th>2</th>\n",
       "      <td>CHEBI:15414</td>\n",
       "      <td>1.0</td>\n",
       "      <td>S-adenosyl-L-methionine</td>\n",
       "    </tr>\n",
       "  </tbody>\n",
       "</table>\n",
       "</div>"
      ],
      "text/plain": [
       "          annotation  match_score                               label\n",
       "ID: SAM                                                              \n",
       "1        CHEBI:59789          1.0  S-adenosyl-L-methionine zwitterion\n",
       "2        CHEBI:15414          1.0             S-adenosyl-L-methionine"
      ]
     },
     "execution_count": 133,
     "metadata": {},
     "output_type": "execute_result"
    }
   ],
   "source": [
    "selectAnnotation()"
   ]
  },
  {
   "cell_type": "code",
   "execution_count": 117,
   "id": "99dfc086-ed54-4fae-ad83-91343528a148",
   "metadata": {},
   "outputs": [
    {
     "data": {
      "text/html": [
       "<div>\n",
       "<style scoped>\n",
       "    .dataframe tbody tr th:only-of-type {\n",
       "        vertical-align: middle;\n",
       "    }\n",
       "\n",
       "    .dataframe tbody tr th {\n",
       "        vertical-align: top;\n",
       "    }\n",
       "\n",
       "    .dataframe thead th {\n",
       "        text-align: right;\n",
       "    }\n",
       "</style>\n",
       "<table border=\"1\" class=\"dataframe\">\n",
       "  <thead>\n",
       "    <tr style=\"text-align: right;\">\n",
       "      <th></th>\n",
       "      <th>annotation</th>\n",
       "      <th>match_score</th>\n",
       "    </tr>\n",
       "    <tr>\n",
       "      <th>ID: SAM</th>\n",
       "      <th></th>\n",
       "      <th></th>\n",
       "    </tr>\n",
       "  </thead>\n",
       "  <tbody>\n",
       "    <tr>\n",
       "      <th>1</th>\n",
       "      <td>CHEBI:59789</td>\n",
       "      <td>1.0</td>\n",
       "    </tr>\n",
       "  </tbody>\n",
       "</table>\n",
       "</div>"
      ],
      "text/plain": [
       "          annotation  match_score\n",
       "ID: SAM                          \n",
       "1        CHEBI:59789          1.0"
      ]
     },
     "execution_count": 117,
     "metadata": {},
     "output_type": "execute_result"
    }
   ],
   "source": [
    "df.loc[[1], ['annotation', 'match_score']]"
   ]
  },
  {
   "cell_type": "code",
   "execution_count": 62,
   "id": "8d41baf7-73d7-4550-b035-938ba74957fb",
   "metadata": {},
   "outputs": [
    {
     "data": {
      "text/html": [
       "<div>\n",
       "<style scoped>\n",
       "    .dataframe tbody tr th:only-of-type {\n",
       "        vertical-align: middle;\n",
       "    }\n",
       "\n",
       "    .dataframe tbody tr th {\n",
       "        vertical-align: top;\n",
       "    }\n",
       "\n",
       "    .dataframe thead th {\n",
       "        text-align: right;\n",
       "    }\n",
       "</style>\n",
       "<table border=\"1\" class=\"dataframe\">\n",
       "  <thead>\n",
       "    <tr style=\"text-align: right;\">\n",
       "      <th></th>\n",
       "      <th>annotation</th>\n",
       "      <th>match_score</th>\n",
       "      <th>url</th>\n",
       "      <th>label</th>\n",
       "    </tr>\n",
       "    <tr>\n",
       "      <th>ID: SAM</th>\n",
       "      <th></th>\n",
       "      <th></th>\n",
       "      <th></th>\n",
       "      <th></th>\n",
       "    </tr>\n",
       "  </thead>\n",
       "  <tbody>\n",
       "    <tr>\n",
       "      <th>1</th>\n",
       "      <td>CHEBI:59789</td>\n",
       "      <td>1.0</td>\n",
       "      <td>https://www.ebi.ac.uk/chebi/searchId.do?chebiI...</td>\n",
       "      <td>S-adenosyl-L-methionine zwitterion</td>\n",
       "    </tr>\n",
       "    <tr>\n",
       "      <th>2</th>\n",
       "      <td>CHEBI:15414</td>\n",
       "      <td>1.0</td>\n",
       "      <td>https://www.ebi.ac.uk/chebi/searchId.do?chebiI...</td>\n",
       "      <td>S-adenosyl-L-methionine</td>\n",
       "    </tr>\n",
       "  </tbody>\n",
       "</table>\n",
       "</div>"
      ],
      "text/plain": [
       "          annotation  match_score  \\\n",
       "ID: SAM                             \n",
       "1        CHEBI:59789          1.0   \n",
       "2        CHEBI:15414          1.0   \n",
       "\n",
       "                                                       url  \\\n",
       "ID: SAM                                                      \n",
       "1        https://www.ebi.ac.uk/chebi/searchId.do?chebiI...   \n",
       "2        https://www.ebi.ac.uk/chebi/searchId.do?chebiI...   \n",
       "\n",
       "                                      label  \n",
       "ID: SAM                                      \n",
       "1        S-adenosyl-L-methionine zwitterion  \n",
       "2                   S-adenosyl-L-methionine  "
      ]
     },
     "execution_count": 62,
     "metadata": {},
     "output_type": "execute_result"
    }
   ],
   "source": [
    "one_dict = {'SAM': df}\n",
    "one_dict['SAM']"
   ]
  },
  {
   "cell_type": "code",
   "execution_count": null,
   "id": "9c8de3e5-7455-4706-80fd-ab1990308e16",
   "metadata": {},
   "outputs": [],
   "source": []
  }
 ],
 "metadata": {
  "kernelspec": {
   "display_name": "Python 3 (ipykernel)",
   "language": "python",
   "name": "python3"
  },
  "language_info": {
   "codemirror_mode": {
    "name": "ipython",
    "version": 3
   },
   "file_extension": ".py",
   "mimetype": "text/x-python",
   "name": "python",
   "nbconvert_exporter": "python",
   "pygments_lexer": "ipython3",
   "version": "3.9.15"
  }
 },
 "nbformat": 4,
 "nbformat_minor": 5
}
