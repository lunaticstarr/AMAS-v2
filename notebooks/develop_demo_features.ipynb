{
 "cells": [
  {
   "cell_type": "code",
   "execution_count": 1,
   "id": "a5b47af4-48b6-4575-be91-bcc834624969",
   "metadata": {},
   "outputs": [],
   "source": [
    "# Develop features for demo, etc. \n",
    "# But, first step is to create DF from Recommendation\n",
    "import collections\n",
    "import compress_pickle\n",
    "import itertools\n",
    "import libsbml\n",
    "import numpy as np\n",
    "import os\n",
    "import pickle\n",
    "import pandas as pd\n",
    "import sys\n",
    "import time\n",
    "import matplotlib.pyplot as plt\n",
    "%matplotlib inline  \n",
    "\n",
    "BIOMD_12 = 'BIOMD0000000012.xml'\n",
    "BASE_DIR = '/Users/woosubs/Desktop/AutomateAnnotation/'\n",
    "DATA_DIR = os.path.join(BASE_DIR, \"DATA\")\n",
    "ALGO_DIR = os.path.join(DATA_DIR, \"algo\")\n",
    "CHEBI_DIR = os.path.join(DATA_DIR, \"chebi\")\n",
    "RHEA_DIR = os.path.join(DATA_DIR, \"rhea\")\n",
    "BIOMODEL_DIR = os.path.join(DATA_DIR, \"biomodels/curated_biomodels_31mar2021\")\n",
    "BIGG_DIR = '/Users/woosubs/Desktop/AutomateAnnotation/DATA/bigg'\n",
    "ecoli_fpath = os.path.join(BIGG_DIR, \"e_coli_core.xml\")\n",
    "\n",
    "PROJ_DIR = os.path.join(os.getcwd(), os.pardir)\n",
    "AMAS_DIR = os.path.join(PROJ_DIR, \"AMAS\")\n",
    "sys.path.append(PROJ_DIR)\n",
    "\n",
    "SUPPL_DIR = os.path.join(PROJ_DIR, os.pardir, \"AMAS_suppl\")\n",
    "ACCURACY_DIR = os.path.join(SUPPL_DIR, \"data_for_credibility\")\n",
    "RESULT_DIR = '/Users/woosubs/Desktop/AutomateAnnotation/AMAS_suppl/result_files'\n",
    "\n",
    "from AMAS import annotation_maker as am\n",
    "from AMAS import species_annotation as sa\n",
    "from AMAS import reaction_annotation as ra\n",
    "from AMAS import recommender\n",
    "from AMAS import constants as cn\n",
    "from AMAS import iterator as it\n",
    "from AMAS import tools"
   ]
  },
  {
   "cell_type": "code",
   "execution_count": 2,
   "id": "ddd348bd-7832-4223-84fe-9402ceba44ed",
   "metadata": {},
   "outputs": [],
   "source": [
    "E_COLI_PATH = '/Users/woosubs/Desktop/AutomateAnnotation/AMAS/AMAS/../tests/e_coli_core.xml'\n",
    "BIOMD_190_PATH = os.path.join(cn.TEST_DIR, 'BIOMD0000000190.xml')"
   ]
  },
  {
   "cell_type": "code",
   "execution_count": 3,
   "id": "a45037f0-5736-4916-8c5d-f746d60a6818",
   "metadata": {},
   "outputs": [],
   "source": [
    "recom = recommender.Recommender(libsbml_fpath=BIOMD_190_PATH)"
   ]
  },
  {
   "cell_type": "code",
   "execution_count": 4,
   "id": "f8e25344-93a1-4aa7-9bc1-369c4f877db0",
   "metadata": {},
   "outputs": [
    {
     "data": {
      "text/plain": [
       "['SAM', 'A', 'P', 'S', 'D', 'aS', 'aD', 'Met', 'ORN', 'AcCoA', 'CoA']"
      ]
     },
     "execution_count": 4,
     "metadata": {},
     "output_type": "execute_result"
    }
   ],
   "source": [
    "recom.getSpeciesIDs()"
   ]
  },
  {
   "cell_type": "code",
   "execution_count": 5,
   "id": "359b7723-c35a-423a-8c4f-4f9017313b04",
   "metadata": {},
   "outputs": [],
   "source": [
    "# recom.recommendReaction(ids='ODC', min_score=0.7)"
   ]
  },
  {
   "cell_type": "code",
   "execution_count": 6,
   "id": "e90a3d1f-07a5-4892-a5f2-bd378e5e6094",
   "metadata": {},
   "outputs": [],
   "source": [
    "# selection.update(selectAnnotation(('ODC', [1])))"
   ]
  },
  {
   "cell_type": "code",
   "execution_count": 7,
   "id": "4ce9639b-15f8-4028-94c3-966033500530",
   "metadata": {},
   "outputs": [
    {
     "name": "stdout",
     "output_type": "stream",
     "text": [
      "                      SAM (credibility score: 0.975)                      \n",
      "+----+--------------+---------------+------------------------------------+\n",
      "|    | annotation   |   match score | label                              |\n",
      "+====+==============+===============+====================================+\n",
      "|  1 | CHEBI:15414  |         1.000 | S-adenosyl-L-methionine            |\n",
      "+----+--------------+---------------+------------------------------------+\n",
      "|  2 | CHEBI:59789  |         1.000 | S-adenosyl-L-methionine zwitterion |\n",
      "+----+--------------+---------------+------------------------------------+\n",
      "\n"
     ]
    }
   ],
   "source": [
    "recom.recommendSpecies(ids='SAM', min_score=0.8)"
   ]
  },
  {
   "cell_type": "code",
   "execution_count": 8,
   "id": "40072c70-d5f7-420f-8953-cecaf0d51e4e",
   "metadata": {},
   "outputs": [
    {
     "name": "stdout",
     "output_type": "stream",
     "text": [
      "Selection updated.\n"
     ]
    }
   ],
   "source": [
    "recom.selectAnnotation(choice=('SAM', [2]))"
   ]
  },
  {
   "cell_type": "code",
   "execution_count": 9,
   "id": "899a5223-34d0-4844-8352-095b88082f7b",
   "metadata": {},
   "outputs": [
    {
     "data": {
      "text/plain": [
       "['ODC',\n",
       " 'SAMdc',\n",
       " 'SSAT_for_S',\n",
       " 'SSAT_for_D',\n",
       " 'PAO_for_aD',\n",
       " 'PAO_for_aS',\n",
       " 'SpdS',\n",
       " 'SpmS',\n",
       " 'MAT',\n",
       " 'VCoA',\n",
       " 'VacCoA',\n",
       " 'P_efflux',\n",
       " 'aD_efflux']"
      ]
     },
     "execution_count": 9,
     "metadata": {},
     "output_type": "execute_result"
    }
   ],
   "source": [
    "recom.getReactionIDs()"
   ]
  },
  {
   "cell_type": "code",
   "execution_count": 10,
   "id": "5a0f56c5-fa40-45fa-9a01-f1f8a61bd153",
   "metadata": {},
   "outputs": [
    {
     "name": "stdout",
     "output_type": "stream",
     "text": [
      "                                        ODC (credibility score: 0.817)                                       \n",
      "+----+--------------+---------------+-----------------------------------------------------------------------+\n",
      "|    | annotation   |   match score | label                                                                 |\n",
      "+====+==============+===============+=======================================================================+\n",
      "|  1 | RHEA:28827   |         1.000 | L-ornithine(out) + putrescine(in) = L-ornithine(in) + putrescine(out) |\n",
      "+----+--------------+---------------+-----------------------------------------------------------------------+\n",
      "|  2 | RHEA:22964   |         0.500 | ornithine decarboxylase activity                                      |\n",
      "+----+--------------+---------------+-----------------------------------------------------------------------+\n",
      "|  3 | RHEA:59048   |         0.500 | D-ornithine + H(+) = CO2 + putrescine                                 |\n",
      "+----+--------------+---------------+-----------------------------------------------------------------------+\n",
      "\n",
      "                         SAMdc (credibility score: 0.587)                        \n",
      "+----+--------------+---------------+-------------------------------------------+\n",
      "|    | annotation   |   match score | label                                     |\n",
      "+====+==============+===============+===========================================+\n",
      "|  1 | RHEA:15981   |         0.500 | adenosylmethionine decarboxylase activity |\n",
      "+----+--------------+---------------+-------------------------------------------+\n",
      "\n"
     ]
    }
   ],
   "source": [
    "recom.recommendReaction(ids=['ODC', 'SAMdc'], min_score=0.4)"
   ]
  },
  {
   "cell_type": "code",
   "execution_count": 11,
   "id": "c2a95b07-71f0-4fbf-842c-b438ceab6aad",
   "metadata": {},
   "outputs": [
    {
     "name": "stdout",
     "output_type": "stream",
     "text": [
      "Selection updated.\n"
     ]
    }
   ],
   "source": [
    "recom.selectAnnotation(choice=('ODC', [1,2]))"
   ]
  },
  {
   "cell_type": "code",
   "execution_count": 12,
   "id": "12bd13bc-62ee-464f-9c90-e4ec1ecdae05",
   "metadata": {},
   "outputs": [
    {
     "name": "stdout",
     "output_type": "stream",
     "text": [
      "                      SAM (credibility score: 0.975)                      \n",
      "+----+--------------+---------------+------------------------------------+\n",
      "|    | annotation   |   match score | label                              |\n",
      "+====+==============+===============+====================================+\n",
      "|  2 | CHEBI:59789  |         1.000 | S-adenosyl-L-methionine zwitterion |\n",
      "+----+--------------+---------------+------------------------------------+\n",
      "\n",
      "                                        ODC (credibility score: 0.817)                                       \n",
      "+----+--------------+---------------+-----------------------------------------------------------------------+\n",
      "|    | annotation   |   match score | label                                                                 |\n",
      "+====+==============+===============+=======================================================================+\n",
      "|  1 | RHEA:28827   |         1.000 | L-ornithine(out) + putrescine(in) = L-ornithine(in) + putrescine(out) |\n",
      "+----+--------------+---------------+-----------------------------------------------------------------------+\n",
      "|  2 | RHEA:22964   |         0.500 | ornithine decarboxylase activity                                      |\n",
      "+----+--------------+---------------+-----------------------------------------------------------------------+\n",
      "\n"
     ]
    }
   ],
   "source": [
    "recom.displaySelection()"
   ]
  },
  {
   "cell_type": "code",
   "execution_count": 13,
   "id": "0dff55ad-2619-42f9-8aff-3b5502e704c5",
   "metadata": {},
   "outputs": [
    {
     "data": {
      "text/html": [
       "<div>\n",
       "<style scoped>\n",
       "    .dataframe tbody tr th:only-of-type {\n",
       "        vertical-align: middle;\n",
       "    }\n",
       "\n",
       "    .dataframe tbody tr th {\n",
       "        vertical-align: top;\n",
       "    }\n",
       "\n",
       "    .dataframe thead th {\n",
       "        text-align: right;\n",
       "    }\n",
       "</style>\n",
       "<table border=\"1\" class=\"dataframe\">\n",
       "  <thead>\n",
       "    <tr style=\"text-align: right;\">\n",
       "      <th></th>\n",
       "      <th>annotation</th>\n",
       "      <th>match score</th>\n",
       "      <th>label</th>\n",
       "    </tr>\n",
       "  </thead>\n",
       "  <tbody>\n",
       "    <tr>\n",
       "      <th>1</th>\n",
       "      <td>RHEA:28827</td>\n",
       "      <td>1.0</td>\n",
       "      <td>L-ornithine(out) + putrescine(in) = L-ornithin...</td>\n",
       "    </tr>\n",
       "    <tr>\n",
       "      <th>2</th>\n",
       "      <td>RHEA:22964</td>\n",
       "      <td>0.5</td>\n",
       "      <td>ornithine decarboxylase activity</td>\n",
       "    </tr>\n",
       "  </tbody>\n",
       "</table>\n",
       "</div>"
      ],
      "text/plain": [
       "   annotation  match score                                              label\n",
       "1  RHEA:28827          1.0  L-ornithine(out) + putrescine(in) = L-ornithin...\n",
       "2  RHEA:22964          0.5                   ornithine decarboxylase activity"
      ]
     },
     "execution_count": 13,
     "metadata": {},
     "output_type": "execute_result"
    }
   ],
   "source": [
    "recom.selection['reaction']['ODC']"
   ]
  },
  {
   "cell_type": "code",
   "execution_count": 14,
   "id": "4c335122-650b-4e18-bee0-bd99da4d47bb",
   "metadata": {},
   "outputs": [],
   "source": [
    "# Last step is to save them as annotation;\n",
    "choice = None\n",
    "model = recom.sbml_document.getModel()\n",
    "ELEMENT_FUNC = {'species': model.getSpecies,\n",
    "              'reaction': model.getReaction}\n",
    "for one_type in recommender.ELEMENT_TYPES:\n",
    "  type_selection = recom.selection[one_type]\n",
    "  maker = am.AnnotationMaker(one_type)\n",
    "  if choice: \n",
    "    sel2save = {val:type_selection[val] for val in choice}\n",
    "  else:\n",
    "    sel2save = type_selection\n",
    "  break"
   ]
  },
  {
   "cell_type": "code",
   "execution_count": 15,
   "id": "03e19d9e-19e3-4f7f-95ce-998e895a04d9",
   "metadata": {},
   "outputs": [
    {
     "data": {
      "text/plain": [
       "{'SAM':     annotation  match score                               label\n",
       " 2  CHEBI:59789          1.0  S-adenosyl-L-methionine zwitterion}"
      ]
     },
     "execution_count": 15,
     "metadata": {},
     "output_type": "execute_result"
    }
   ],
   "source": [
    "sel2save"
   ]
  },
  {
   "cell_type": "code",
   "execution_count": 17,
   "id": "d9578ca5-08c8-4eb9-8cf0-bef96d3ad532",
   "metadata": {},
   "outputs": [],
   "source": [
    "for one_k in sel2save.keys():\n",
    "  one_element = ELEMENT_FUNC[one_type](one_k)\n",
    "  meta_id = one_element.meta_id\n",
    "  df = sel2save[one_k]\n",
    "  upd_tuples = list(zip(df['annotation'], df['match score']))\n",
    "  annotation_str = maker.getAnnotationString(upd_tuples, meta_id)\n",
    "  one_element.setAnnotation(annotation_str)"
   ]
  },
  {
   "cell_type": "code",
   "execution_count": 18,
   "id": "cb11d571-4675-4a13-a3b5-e04d54b9a6bd",
   "metadata": {},
   "outputs": [
    {
     "name": "stdout",
     "output_type": "stream",
     "text": [
      "<annotation>\n",
      "  <rdf:RDF xmlns:rdf=\"http://www.w3.org/1999/02/22-rdf-syntax-ns#\" xmlns:dcterms=\"http://purl.org/dc/terms/\" xmlns:vcard4=\"http://www.w3.org/2006/vcard/ns#\" xmlns:bqbiol=\"http://biomodels.net/biology-qualifiers/\" xmlns:bqmodel=\"http://biomodels.net/model-qualifiers/\">\n",
      "    <rdf:Description rdf:about=\"#metaid_0000036\">\n",
      "      <bqbiol:is>\n",
      "        <rdf:Bag>\n",
      "          <rdf:li rdf:resource=\"http://identifiers.org/chebi/CHEBI:59789\"/>\n",
      "        </rdf:Bag>\n",
      "      </bqbiol:is>\n",
      "    </rdf:Description>\n",
      "    <rdf:Description rdf:about=\"#metaid_0000036\">\n",
      "      <bqbiol:is>\n",
      "        <rdf:Bag>\n",
      "          <rdf:li rdf:resource=\"http://identifiers.org/chebi/CHEBI:59789\"/>\n",
      "          <bqbiol:hasProperty>\n",
      "            <rdf:Bag>\n",
      "              <rdf:li rdf:resource=\"http://reproduciblebiomodels.org/amas/v1/by_name/1.00\"/>\n",
      "            </rdf:Bag>\n",
      "          </bqbiol:hasProperty>\n",
      "        </rdf:Bag>\n",
      "      </bqbiol:is>\n",
      "    </rdf:Description>\n",
      "  </rdf:RDF>\n",
      "</annotation>\n"
     ]
    }
   ],
   "source": [
    "print(one_element.getAnnotationString())"
   ]
  },
  {
   "cell_type": "code",
   "execution_count": 19,
   "id": "9a430f76-e516-47a3-b1f4-6366e2d878b4",
   "metadata": {},
   "outputs": [],
   "source": [
    "ONE_CHEBI = 'CHEBI:15414'\n",
    "ONE_CHEBI_SCORE = 1.00\n",
    "TWO_CHEBI = 'CHEBI:59789'\n",
    "TWO_CHEBI_SCORE = 1.00\n",
    "CANDIDATES = [(ONE_CHEBI, ONE_CHEBI_SCORE),\n",
    "              (TWO_CHEBI, TWO_CHEBI_SCORE)]"
   ]
  },
  {
   "cell_type": "code",
   "execution_count": 21,
   "id": "35e267f1-5196-4606-9f0b-fc91cf2de8ae",
   "metadata": {},
   "outputs": [
    {
     "name": "stdout",
     "output_type": "stream",
     "text": [
      "<annotation>\n",
      "  <rdf:RDF xmlns:rdf=\"http://www.w3.org/1999/02/22-rdf-syntax-ns#\" xmlns:dcterms=\"http://purl.org/dc/terms/\" xmlns:vcard4=\"http://www.w3.org/2006/vcard/ns#\" xmlns:bqbiol=\"http://biomodels.net/biology-qualifiers/\" xmlns:bqmodel=\"http://biomodels.net/model-qualifiers/\">\n",
      "    <rdf:Description rdf:about=\"#metaid_0000036\">\n",
      "      <bqbiol:is>\n",
      "        <rdf:Bag>\n",
      "          <rdf:li rdf:resource=\"http://identifiers.org/chebi/CHEBI:15414\"/>\n",
      "          <bqbiol:hasProperty>\n",
      "            <rdf:Bag>\n",
      "              <rdf:li rdf:resource=\"http://reproduciblebiomodels.org/amas/v1/by_name/1.00\"/>\n",
      "            </rdf:Bag>\n",
      "          </bqbiol:hasProperty>\n",
      "          <rdf:li rdf:resource=\"http://identifiers.org/chebi/CHEBI:59789\"/>\n",
      "          <bqbiol:hasProperty>\n",
      "            <rdf:Bag>\n",
      "              <rdf:li rdf:resource=\"http://reproduciblebiomodels.org/amas/v1/by_name/1.00\"/>\n",
      "            </rdf:Bag>\n",
      "          </bqbiol:hasProperty>\n",
      "        </rdf:Bag>\n",
      "      </bqbiol:is>\n",
      "    </rdf:Description>\n",
      "  </rdf:RDF>\n",
      "</annotation>\n"
     ]
    }
   ],
   "source": [
    "print(maker.getAnnotationString(CANDIDATES, meta_id='metaid_00001'))"
   ]
  },
  {
   "cell_type": "code",
   "execution_count": null,
   "id": "af54ea0c-c6e3-4bce-93e1-aebd62339f34",
   "metadata": {},
   "outputs": [],
   "source": []
  },
  {
   "cell_type": "code",
   "execution_count": 131,
   "id": "3d49630c-d8ae-4143-8232-96a56b3d13f3",
   "metadata": {},
   "outputs": [],
   "source": [
    "ELEMENT_TYPES = ['speies', 'reaction']\n",
    "current_type = None\n",
    "just_displayed = None\n",
    "selection = {val:dict() for val in ELEMENT_TYPES}\n",
    "\n",
    "# def filterDataFrameByThreshold(df, min_score):\n",
    "#   \"\"\"\n",
    "#   Filter dataframe by min_score (threshold),\n",
    "#   and returns the result;\n",
    "  \n",
    "#   Note that if no item meets the threshold,\n",
    "#   it'll still return an empty dataframe. \n",
    "\n",
    "#   Paramters\n",
    "#   ---------\n",
    "#   df: pd.DataFrame\n",
    "  \n",
    "#   min_score: float (0.0-1.0)\n",
    "  \n",
    "#   Returns\n",
    "#   -------\n",
    "#   pd.DataFrame  \n",
    "#   \"\"\"\n",
    "#   scores = df['match score']\n",
    "#   filt_idx = scores[scores>=min_score].index\n",
    "#   filt_df = df.loc[filt_idx, :]\n",
    "#   return filt_df\n",
    " \n",
    "# def recommendSpecies(ids, min_score=0.0):\n",
    "#   \"\"\"\n",
    "#   Recommend one or more ids of species\n",
    "#   and returns a single dataframe or\n",
    "#   a list of dataframes.\n",
    "  \n",
    "#   Parameters\n",
    "#   ----------\n",
    "#   ids: str/list-str\n",
    "  \n",
    "#   min_score: threshold for cutoff\n",
    "#       If None given, returns all values; \n",
    "\n",
    "#   Returns\n",
    "#   -------\n",
    "#   None\n",
    "#   \"\"\"\n",
    "#   updateCurrentElementType('species')\n",
    "  \n",
    "#   if isinstance(ids, str):\n",
    "#     species_list = [ids]\n",
    "#   else:\n",
    "#     species_list = ids\n",
    "#   res = recom.getSpeciesListRecommendation(pred_ids=species_list,\n",
    "#                                            get_df=True,\n",
    "#                                            threshold=min_score)\n",
    "#   res_dict = {val:res[idx] for idx, val in enumerate(species_list)}\n",
    "#   for k in res_dict.keys():\n",
    "#     filt_df = filterDataFrameByThreshold(res_dict[k], min_score)\n",
    "#     print(recom.getMarkdownFromRecommendation(filt_df)+\"\\n\")\n",
    "#     # print(\"\\n\")\n",
    "#   updateJustDisplayed(res_dict)\n",
    "#   return res_dict\n",
    "\n",
    "# def recommendReaction(ids, min_score=0.0):\n",
    "#   \"\"\"\n",
    "#   Recommend one or more ids of species\n",
    "#   and returns a single dataframe or\n",
    "#   a list of dataframes.\n",
    "  \n",
    "#   Parameters\n",
    "#   ----------\n",
    "#   ids: str/list-str\n",
    "  \n",
    "#   min_score: threshold for cutoff\n",
    "#       If None given, returns all values; \n",
    "\n",
    "#   Returns\n",
    "#   -------\n",
    "#   None\n",
    "#   \"\"\"\n",
    "#   updateCurrentElementType('reaction')\n",
    "#   if isinstance(ids, str):\n",
    "#     reaction_list = [ids]\n",
    "#   else:\n",
    "#     reaction_list = ids\n",
    "#   res = recom.getReactionListRecommendation(pred_ids=reaction_list,\n",
    "#                                             get_df=True)\n",
    "#   res_dict = {val:res[idx] for idx, val in enumerate(reaction_list)}\n",
    "#   for k in res_dict.keys():\n",
    "#     filt_df = filterDataFrameByThreshold(res_dict[k], min_score)\n",
    "#     print(recom.getMarkdownFromRecommendation(filt_df)+\"\\n\")\n",
    "#     # print(\"\\n\")\n",
    "#   updateJustDisplayed(res)\n",
    "#   return res_dict\n",
    "\n",
    "# def selectAnnotation(choice=None):\n",
    "#   \"\"\"\n",
    "#   Based on the previous recommendation,\n",
    "#   determine the annotations to store.\n",
    "#   If 'all' given in choice[1],\n",
    "#   select all.\n",
    "  \n",
    "#   Parameters\n",
    "#   ----------\n",
    "#   choice: tuple/list-tuple (str, int)\n",
    "#       [(element ID, choice number)]\n",
    "  \n",
    "#   df: pandas.DataFrame\n",
    "#   \"\"\"\n",
    "#   # assumes self.just_displayced is {id: pd.dataframe}\n",
    "#   sel_id = choice[0]\n",
    "#   sel_idx = choice[1]\n",
    "#   df = just_displayed[choice[0]]\n",
    "#   if sel_idx == 'all':\n",
    "#     result = df\n",
    "#   else:\n",
    "#     if isinstance(sel_idx, int):\n",
    "#       chosen = [sel_idx]\n",
    "#     else:\n",
    "#       chosen = sel_idx\n",
    "#     result = df.loc[chosen, :]\n",
    "#   # Now, update the selected annotation\n",
    "#   updateSelection(sel_id, result)\n",
    "#   print(\"Selection updated.\")\n",
    "#   return {sel_id: result}\n",
    "\n",
    "# def updateCurrentElementType(element_type):\n",
    "#   \"\"\"\n",
    "#   Updating self.current_type\n",
    "#   indicator; updated when\n",
    "#   recommendSpecies or recommendReaction \n",
    "#   is called; \n",
    "  \n",
    "#   Parameters\n",
    "#   ----------\n",
    "#   element_type: str\n",
    "#       Either 'species' or 'reaction'\n",
    "#   \"\"\"\n",
    "#   current_type = element_type\n",
    "\n",
    "# def updateJustDisplayed(df_dict):\n",
    "#   \"\"\"\n",
    "#   Used it every time\n",
    "#   result is shown to user.\n",
    "#   called by \n",
    "#   /recommendSpecies/recommendReaction/\n",
    "#   /selectAnnotation/\n",
    "#   For now, always in the format as\n",
    "#   pandas.DataFrame. \n",
    "\n",
    "#   Parameters\n",
    "#   ----------\n",
    "#   df_dict: dict()\n",
    "#       Dictionary of pandas.DataFrame\n",
    "  \n",
    "#   Returns\n",
    "#   -------\n",
    "#   None\n",
    "#   \"\"\"\n",
    "#   just_displayed = df_dict\n",
    "\n",
    "# def updateSelection(sel_id, sel_df):\n",
    "#   \"\"\"\n",
    "#   Direct result of selectAnnotation;\n",
    "#   filtered or non-filtered\n",
    "#   dictionary of dataframes.\n",
    "  \n",
    "#   By calling SaveFile,\n",
    "#   All selected annotations will be\n",
    "#   saved as an .xml file. \n",
    "  \n",
    "#   Parameters\n",
    "#   ----------\n",
    "#   sel_id: str\n",
    "  \n",
    "#   sel_df: pandas.DataFrame\n",
    "#   \"\"\"\n",
    "#   selection[current_type].update({sel_id: sel_df})\n",
    "\n",
    "    \n",
    "# def displaySelection():\n",
    "#   \"\"\"\n",
    "#   To assist user, \n",
    "#   display all selected\n",
    "#   annotations from\n",
    "#   self.selection.\n",
    "#   \"\"\"\n",
    "#   for one_type in ELEMENT_TYPES:\n",
    "#     type_selection = selection[one_type]\n",
    "#     for k in type_selection.keys():\n",
    "#       print(recom.getMarkdownFromRecommendation(type_selection[k])+\"\\n\")\n",
    "    \n",
    "    \n",
    "def SaveFile(fpath, choice=None):\n",
    "  \"\"\"\n",
    "  Update and save model;\n",
    "  How to distinguish species vs. reactions? \n",
    "  by using self.current_element_type\n",
    "  \n",
    "  Call annotation maker;\n",
    "  \n",
    "  Parameters\n",
    "  ----------\n",
    "  filepath: str\n",
    "  \n",
    "  choice: list-str/None\n",
    "      If list of ID given, \n",
    "      only annotations of the provided IDs \n",
    "      will be saved.\n",
    "      If None, all will be saved;\n",
    "  \"\"\"\n",
    "  model = recom.sbml_document.getModel()\n",
    "  ELEMENT_FUNC = {'species': getSpecies,\n",
    "                  'reaction': getReaction}\n",
    "  for one_type in ELEMENT_TYPES:\n",
    "    type_selection = selection[one_type]\n",
    "    if choice: \n",
    "      sel2save = {val:type_selection[val] for val in choice}\n",
    "    else:\n",
    "      sel2save = type_selection\n",
    "    maker = am.AnnotationMaker(one_type)\n",
    "    # TODO: search for the type, and use setAnnotation.\n",
    "    \n",
    "    \n",
    "  # update annotation for species & reactions\n",
    "  # for one_type in self.selection.keys()\n",
    "    # create AnnotationMaker(one_type)\n",
    "    # ... setAnnotation by libannotation\n",
    "  # save with fpath filename; \n",
    "\n",
    "# TODO: recommendSpecies/recommendReaction => update just_shown => \n",
    "# user makes a choice (or not, ..etc.) => stores it as chosen_annotation =>\n",
    "# user .saveAnnotation => saves an SBML model file with updated annotation."
   ]
  },
  {
   "cell_type": "code",
   "execution_count": 62,
   "id": "9f1b986b-7142-4e0a-8b84-206c59aedcda",
   "metadata": {},
   "outputs": [
    {
     "data": {
      "text/plain": [
       "'0.817)'"
      ]
     },
     "execution_count": 62,
     "metadata": {},
     "output_type": "execute_result"
    }
   ],
   "source": [
    "df.index.name.split(' ')[-1]"
   ]
  },
  {
   "cell_type": "code",
   "execution_count": null,
   "id": "aa8166bd-9f7c-4995-9b16-ae62b696a41d",
   "metadata": {},
   "outputs": [],
   "source": []
  },
  {
   "cell_type": "code",
   "execution_count": 133,
   "id": "cbec1acf-9615-48d5-ace2-897a69b63f8a",
   "metadata": {},
   "outputs": [
    {
     "data": {
      "text/html": [
       "<div>\n",
       "<style scoped>\n",
       "    .dataframe tbody tr th:only-of-type {\n",
       "        vertical-align: middle;\n",
       "    }\n",
       "\n",
       "    .dataframe tbody tr th {\n",
       "        vertical-align: top;\n",
       "    }\n",
       "\n",
       "    .dataframe thead th {\n",
       "        text-align: right;\n",
       "    }\n",
       "</style>\n",
       "<table border=\"1\" class=\"dataframe\">\n",
       "  <thead>\n",
       "    <tr style=\"text-align: right;\">\n",
       "      <th></th>\n",
       "      <th>annotation</th>\n",
       "      <th>match_score</th>\n",
       "      <th>label</th>\n",
       "    </tr>\n",
       "    <tr>\n",
       "      <th>ID: SAM</th>\n",
       "      <th></th>\n",
       "      <th></th>\n",
       "      <th></th>\n",
       "    </tr>\n",
       "  </thead>\n",
       "  <tbody>\n",
       "    <tr>\n",
       "      <th>1</th>\n",
       "      <td>CHEBI:59789</td>\n",
       "      <td>1.0</td>\n",
       "      <td>S-adenosyl-L-methionine zwitterion</td>\n",
       "    </tr>\n",
       "    <tr>\n",
       "      <th>2</th>\n",
       "      <td>CHEBI:15414</td>\n",
       "      <td>1.0</td>\n",
       "      <td>S-adenosyl-L-methionine</td>\n",
       "    </tr>\n",
       "  </tbody>\n",
       "</table>\n",
       "</div>"
      ],
      "text/plain": [
       "          annotation  match_score                               label\n",
       "ID: SAM                                                              \n",
       "1        CHEBI:59789          1.0  S-adenosyl-L-methionine zwitterion\n",
       "2        CHEBI:15414          1.0             S-adenosyl-L-methionine"
      ]
     },
     "execution_count": 133,
     "metadata": {},
     "output_type": "execute_result"
    }
   ],
   "source": [
    "selectAnnotation()"
   ]
  },
  {
   "cell_type": "code",
   "execution_count": 117,
   "id": "99dfc086-ed54-4fae-ad83-91343528a148",
   "metadata": {},
   "outputs": [
    {
     "data": {
      "text/html": [
       "<div>\n",
       "<style scoped>\n",
       "    .dataframe tbody tr th:only-of-type {\n",
       "        vertical-align: middle;\n",
       "    }\n",
       "\n",
       "    .dataframe tbody tr th {\n",
       "        vertical-align: top;\n",
       "    }\n",
       "\n",
       "    .dataframe thead th {\n",
       "        text-align: right;\n",
       "    }\n",
       "</style>\n",
       "<table border=\"1\" class=\"dataframe\">\n",
       "  <thead>\n",
       "    <tr style=\"text-align: right;\">\n",
       "      <th></th>\n",
       "      <th>annotation</th>\n",
       "      <th>match_score</th>\n",
       "    </tr>\n",
       "    <tr>\n",
       "      <th>ID: SAM</th>\n",
       "      <th></th>\n",
       "      <th></th>\n",
       "    </tr>\n",
       "  </thead>\n",
       "  <tbody>\n",
       "    <tr>\n",
       "      <th>1</th>\n",
       "      <td>CHEBI:59789</td>\n",
       "      <td>1.0</td>\n",
       "    </tr>\n",
       "  </tbody>\n",
       "</table>\n",
       "</div>"
      ],
      "text/plain": [
       "          annotation  match_score\n",
       "ID: SAM                          \n",
       "1        CHEBI:59789          1.0"
      ]
     },
     "execution_count": 117,
     "metadata": {},
     "output_type": "execute_result"
    }
   ],
   "source": [
    "df.loc[[1], ['annotation', 'match_score']]"
   ]
  },
  {
   "cell_type": "code",
   "execution_count": 62,
   "id": "8d41baf7-73d7-4550-b035-938ba74957fb",
   "metadata": {},
   "outputs": [
    {
     "data": {
      "text/html": [
       "<div>\n",
       "<style scoped>\n",
       "    .dataframe tbody tr th:only-of-type {\n",
       "        vertical-align: middle;\n",
       "    }\n",
       "\n",
       "    .dataframe tbody tr th {\n",
       "        vertical-align: top;\n",
       "    }\n",
       "\n",
       "    .dataframe thead th {\n",
       "        text-align: right;\n",
       "    }\n",
       "</style>\n",
       "<table border=\"1\" class=\"dataframe\">\n",
       "  <thead>\n",
       "    <tr style=\"text-align: right;\">\n",
       "      <th></th>\n",
       "      <th>annotation</th>\n",
       "      <th>match_score</th>\n",
       "      <th>url</th>\n",
       "      <th>label</th>\n",
       "    </tr>\n",
       "    <tr>\n",
       "      <th>ID: SAM</th>\n",
       "      <th></th>\n",
       "      <th></th>\n",
       "      <th></th>\n",
       "      <th></th>\n",
       "    </tr>\n",
       "  </thead>\n",
       "  <tbody>\n",
       "    <tr>\n",
       "      <th>1</th>\n",
       "      <td>CHEBI:59789</td>\n",
       "      <td>1.0</td>\n",
       "      <td>https://www.ebi.ac.uk/chebi/searchId.do?chebiI...</td>\n",
       "      <td>S-adenosyl-L-methionine zwitterion</td>\n",
       "    </tr>\n",
       "    <tr>\n",
       "      <th>2</th>\n",
       "      <td>CHEBI:15414</td>\n",
       "      <td>1.0</td>\n",
       "      <td>https://www.ebi.ac.uk/chebi/searchId.do?chebiI...</td>\n",
       "      <td>S-adenosyl-L-methionine</td>\n",
       "    </tr>\n",
       "  </tbody>\n",
       "</table>\n",
       "</div>"
      ],
      "text/plain": [
       "          annotation  match_score  \\\n",
       "ID: SAM                             \n",
       "1        CHEBI:59789          1.0   \n",
       "2        CHEBI:15414          1.0   \n",
       "\n",
       "                                                       url  \\\n",
       "ID: SAM                                                      \n",
       "1        https://www.ebi.ac.uk/chebi/searchId.do?chebiI...   \n",
       "2        https://www.ebi.ac.uk/chebi/searchId.do?chebiI...   \n",
       "\n",
       "                                      label  \n",
       "ID: SAM                                      \n",
       "1        S-adenosyl-L-methionine zwitterion  \n",
       "2                   S-adenosyl-L-methionine  "
      ]
     },
     "execution_count": 62,
     "metadata": {},
     "output_type": "execute_result"
    }
   ],
   "source": [
    "one_dict = {'SAM': df}\n",
    "one_dict['SAM']"
   ]
  },
  {
   "cell_type": "code",
   "execution_count": 146,
   "id": "9c8de3e5-7455-4706-80fd-ab1990308e16",
   "metadata": {},
   "outputs": [
    {
     "data": {
      "text/plain": [
       "{'speies': None, 'reaction': None}"
      ]
     },
     "execution_count": 146,
     "metadata": {},
     "output_type": "execute_result"
    }
   ],
   "source": [
    "dict.fromkeys(['speies', 'reaction'])"
   ]
  },
  {
   "cell_type": "code",
   "execution_count": 150,
   "id": "002e4553-a768-43c7-8bfc-71aa722da679",
   "metadata": {},
   "outputs": [
    {
     "data": {
      "text/html": [
       "<div>\n",
       "<style scoped>\n",
       "    .dataframe tbody tr th:only-of-type {\n",
       "        vertical-align: middle;\n",
       "    }\n",
       "\n",
       "    .dataframe tbody tr th {\n",
       "        vertical-align: top;\n",
       "    }\n",
       "\n",
       "    .dataframe thead th {\n",
       "        text-align: right;\n",
       "    }\n",
       "</style>\n",
       "<table border=\"1\" class=\"dataframe\">\n",
       "  <thead>\n",
       "    <tr style=\"text-align: right;\">\n",
       "      <th></th>\n",
       "      <th>annotation</th>\n",
       "      <th>match_score</th>\n",
       "      <th>label</th>\n",
       "      <th>url</th>\n",
       "    </tr>\n",
       "    <tr>\n",
       "      <th>R_PFK (credibility: 0.987)</th>\n",
       "      <th></th>\n",
       "      <th></th>\n",
       "      <th></th>\n",
       "      <th></th>\n",
       "    </tr>\n",
       "  </thead>\n",
       "  <tbody>\n",
       "    <tr>\n",
       "      <th>1</th>\n",
       "      <td>RHEA:12420</td>\n",
       "      <td>0.6</td>\n",
       "      <td>tagatose-6-phosphate kinase activity</td>\n",
       "      <td>https://www.rhea-db.org/rhea/12420</td>\n",
       "    </tr>\n",
       "    <tr>\n",
       "      <th>2</th>\n",
       "      <td>RHEA:13377</td>\n",
       "      <td>0.6</td>\n",
       "      <td>phosphoglucokinase activity</td>\n",
       "      <td>https://www.rhea-db.org/rhea/13377</td>\n",
       "    </tr>\n",
       "  </tbody>\n",
       "</table>\n",
       "</div>"
      ],
      "text/plain": [
       "                            annotation  match_score  \\\n",
       "R_PFK (credibility: 0.987)                            \n",
       "1                           RHEA:12420          0.6   \n",
       "2                           RHEA:13377          0.6   \n",
       "\n",
       "                                                           label  \\\n",
       "R_PFK (credibility: 0.987)                                         \n",
       "1                           tagatose-6-phosphate kinase activity   \n",
       "2                                    phosphoglucokinase activity   \n",
       "\n",
       "                                                           url  \n",
       "R_PFK (credibility: 0.987)                                      \n",
       "1                           https://www.rhea-db.org/rhea/12420  \n",
       "2                           https://www.rhea-db.org/rhea/13377  "
      ]
     },
     "execution_count": 150,
     "metadata": {},
     "output_type": "execute_result"
    }
   ],
   "source": [
    "df.index.name = 'R_PFK (credibility: 0.987)'\n",
    "df"
   ]
  },
  {
   "cell_type": "code",
   "execution_count": null,
   "id": "96c6939a-0439-4e54-9b78-368f371f0f8a",
   "metadata": {},
   "outputs": [],
   "source": []
  }
 ],
 "metadata": {
  "kernelspec": {
   "display_name": "Python 3 (ipykernel)",
   "language": "python",
   "name": "python3"
  },
  "language_info": {
   "codemirror_mode": {
    "name": "ipython",
    "version": 3
   },
   "file_extension": ".py",
   "mimetype": "text/x-python",
   "name": "python",
   "nbconvert_exporter": "python",
   "pygments_lexer": "ipython3",
   "version": "3.9.15"
  }
 },
 "nbformat": 4,
 "nbformat_minor": 5
}
