{
 "cells": [
  {
   "cell_type": "code",
   "execution_count": 1,
   "id": "a5b47af4-48b6-4575-be91-bcc834624969",
   "metadata": {},
   "outputs": [],
   "source": [
    "# Develop features for demo, etc. \n",
    "# But, first step is to create DF from Recommendation\n",
    "import collections\n",
    "import compress_pickle\n",
    "import itertools\n",
    "import libsbml\n",
    "import numpy as np\n",
    "import os\n",
    "import pickle\n",
    "import pandas as pd\n",
    "import sys\n",
    "import time\n",
    "import matplotlib.pyplot as plt\n",
    "%matplotlib inline  \n",
    "\n",
    "BIOMD_12 = 'BIOMD0000000012.xml'\n",
    "BASE_DIR = '/Users/woosubs/Desktop/AutomateAnnotation/'\n",
    "DATA_DIR = os.path.join(BASE_DIR, \"DATA\")\n",
    "ALGO_DIR = os.path.join(DATA_DIR, \"algo\")\n",
    "CHEBI_DIR = os.path.join(DATA_DIR, \"chebi\")\n",
    "RHEA_DIR = os.path.join(DATA_DIR, \"rhea\")\n",
    "BIOMODEL_DIR = os.path.join(DATA_DIR, \"biomodels/curated_biomodels_31mar2021\")\n",
    "BIGG_DIR = '/Users/woosubs/Desktop/AutomateAnnotation/DATA/bigg'\n",
    "ecoli_fpath = os.path.join(BIGG_DIR, \"e_coli_core.xml\")\n",
    "\n",
    "PROJ_DIR = os.path.join(os.getcwd(), os.pardir)\n",
    "AMAS_DIR = os.path.join(PROJ_DIR, \"AMAS\")\n",
    "sys.path.append(PROJ_DIR)\n",
    "\n",
    "SUPPL_DIR = os.path.join(PROJ_DIR, os.pardir, \"AMAS_suppl\")\n",
    "ACCURACY_DIR = os.path.join(SUPPL_DIR, \"data_for_credibility\")\n",
    "RESULT_DIR = '/Users/woosubs/Desktop/AutomateAnnotation/AMAS_suppl/result_files'\n",
    "\n",
    "from AMAS import annotation_maker as am\n",
    "from AMAS import species_annotation as sa\n",
    "from AMAS import reaction_annotation as ra\n",
    "from AMAS import recommender\n",
    "from AMAS import constants as cn\n",
    "from AMAS import iterator as it\n",
    "from AMAS import tools"
   ]
  },
  {
   "cell_type": "code",
   "execution_count": 2,
   "id": "ddd348bd-7832-4223-84fe-9402ceba44ed",
   "metadata": {},
   "outputs": [],
   "source": [
    "E_COLI_PATH = '/Users/woosubs/Desktop/AutomateAnnotation/AMAS/AMAS/../tests/e_coli_core.xml'\n",
    "BIOMD_190_PATH = os.path.join(cn.TEST_DIR, 'BIOMD0000000190.xml')"
   ]
  },
  {
   "cell_type": "code",
   "execution_count": 3,
   "id": "a45037f0-5736-4916-8c5d-f746d60a6818",
   "metadata": {},
   "outputs": [],
   "source": [
    "recom = recommender.Recommender(libsbml_fpath=BIOMD_190_PATH)"
   ]
  },
  {
   "cell_type": "code",
   "execution_count": 73,
   "id": "f8e25344-93a1-4aa7-9bc1-369c4f877db0",
   "metadata": {},
   "outputs": [
    {
     "data": {
      "text/plain": [
       "['SAM', 'A', 'P', 'S', 'D', 'aS', 'aD', 'Met', 'ORN', 'AcCoA', 'CoA']"
      ]
     },
     "execution_count": 73,
     "metadata": {},
     "output_type": "execute_result"
    }
   ],
   "source": [
    "recom.getSpeciesIDs()"
   ]
  },
  {
   "cell_type": "raw",
   "id": "2020abfe-7b03-4221-8888-3cab4fa8cff5",
   "metadata": {},
   "source": []
  },
  {
   "cell_type": "raw",
   "id": "200a1fd5-7c45-4d3a-9b05-28ba1ea998bd",
   "metadata": {},
   "source": [
    "recom.recommendSpecies(ids='SAM', min_score=0.8)"
   ]
  },
  {
   "cell_type": "code",
   "execution_count": 108,
   "id": "522d50a8-ee95-46d8-b4fb-7cd73700f84d",
   "metadata": {},
   "outputs": [
    {
     "data": {
      "text/plain": [
       "'python recommend_species.py --model files/BIOMD0000000190.xml --species SAM A --min_score 0.6 --out_dir res'"
      ]
     },
     "execution_count": 108,
     "metadata": {},
     "output_type": "execute_result"
    }
   ],
   "source": [
    "command = \"python recommend_species.py --model files/BIOMD0000000190.xml \"\n",
    "command += \"--species SAM A --min_score 0.6 --out_dir res\"\n",
    "command"
   ]
  },
  {
   "cell_type": "code",
   "execution_count": 6,
   "id": "d6355691-a8c4-407e-bddc-798aa943881f",
   "metadata": {},
   "outputs": [],
   "source": [
    "# TODO: developing 'recommendSpecies/Reaction' as a command line tool\n",
    "# (1) Need to specify the workflow (make sure which arguments are needed)\n",
    "# (2) and implement the rest "
   ]
  },
  {
   "cell_type": "code",
   "execution_count": 7,
   "id": "c2f437a4-44d2-4bd9-a57c-d040548fec1c",
   "metadata": {},
   "outputs": [
    {
     "name": "stdout",
     "output_type": "stream",
     "text": [
      "Annotation of ODC saved.\n",
      "Done with ... IDs updated etc.\n"
     ]
    }
   ],
   "source": [
    "# for reaction\n",
    "\n",
    "##########################\n",
    "# arguments :) \n",
    "one_fpath = BIOMD_190_PATH\n",
    "ids2pred = ['ODC', 'SAMdc']\n",
    "min_threshold = 0.6\n",
    "\n",
    "recom = recommender.Recommender(libsbml_fpath=one_fpath)\n",
    "recom.current_type = 'reaction'\n",
    "res = recom.getReactionListRecommendation(ids2pred, get_df=True)\n",
    "for idx, one_df in enumerate(res):\n",
    "  filt_df = recom.autoSelectAnnotation(one_df, min_threshold)\n",
    "  # (1) create dataframe/table here instead of storing\n",
    "  # (2) update self.selection based on this\n",
    "  recom.updateSelection(ids2pred[idx], filt_df)\n",
    "# store file to csv\n",
    "recom.saveToSBML()\n",
    "print(\"Done with ... IDs updated etc.\")"
   ]
  },
  {
   "cell_type": "code",
   "execution_count": 8,
   "id": "3ae6e6d3-c2eb-4ba6-897f-ce3524608415",
   "metadata": {},
   "outputs": [
    {
     "name": "stdout",
     "output_type": "stream",
     "text": [
      "                                        ODC (credibility score: 0.817)                                       \n",
      "+----+--------------+---------------+-----------------------------------------------------------------------+\n",
      "|    | annotation   |   match score | label                                                                 |\n",
      "+====+==============+===============+=======================================================================+\n",
      "|  1 | RHEA:28827   |         1.000 | L-ornithine(out) + putrescine(in) = L-ornithine(in) + putrescine(out) |\n",
      "+----+--------------+---------------+-----------------------------------------------------------------------+\n",
      "\n",
      "     SAMdc (credibility score: 0.587)     \n",
      "+--------------+---------------+---------+\n",
      "| annotation   | match score   | label   |\n",
      "+==============+===============+=========+\n",
      "+--------------+---------------+---------+\n",
      "\n"
     ]
    }
   ],
   "source": [
    "recom.displaySelection()"
   ]
  },
  {
   "cell_type": "code",
   "execution_count": 12,
   "id": "ba426f48-54e0-4969-ba9a-3ce349fce460",
   "metadata": {},
   "outputs": [],
   "source": [
    "recom.saveToCSV()"
   ]
  },
  {
   "cell_type": "code",
   "execution_count": 11,
   "id": "e68b8a1c-d19c-4f63-ab7f-fc5b26c9c6ae",
   "metadata": {},
   "outputs": [],
   "source": [
    "# make selection to csv saveToCSV\n",
    "# def saveToCSV(fpath=\"annotation_table.csv\"):\n",
    "#   \"\"\"\n",
    "#   Save self.selection to csv.\n",
    "#   \"\"\"\n",
    "#   dfs = []\n",
    "#   pd.set_option('display.max_colwidth', 255)\n",
    "#   for one_type in recom.selection.keys():\n",
    "#     type_selection = recom.selection[one_type]\n",
    "#     if any(type_selection):\n",
    "#       element_df = pd.concat([type_selection[k] for k in type_selection.keys()])\n",
    "#       element_ids = list(itertools.chain(*[[k]*type_selection[k].shape[0] \\\n",
    "#                                            for k in type_selection.keys()]))\n",
    "#       element_types = [one_type]*len(element_ids)\n",
    "#       element_df.insert(0, \"type\", element_types)\n",
    "#       element_df.insert(1, \"id\", element_ids)\n",
    "#       dfs.append(element_df)\n",
    "#   res = pd.concat(dfs)\n",
    "#   # Write result to csv\n",
    "#   res.to_csv(fpath, index=False) "
   ]
  },
  {
   "cell_type": "code",
   "execution_count": 54,
   "id": "0694cc4d-8263-4c6e-85f2-9625835e84d8",
   "metadata": {},
   "outputs": [
    {
     "name": "stdout",
     "output_type": "stream",
     "text": [
      "1    L-ornithine(out) + putrescine(in) = L-ornithine(in) + putrescine(out)\n",
      "Name: label, dtype: object\n"
     ]
    }
   ],
   "source": [
    "print(element_df['label'])"
   ]
  },
  {
   "cell_type": "code",
   "execution_count": 9,
   "id": "d3c939be-39e8-4ef5-b032-b21e31d46499",
   "metadata": {},
   "outputs": [
    {
     "name": "stdout",
     "output_type": "stream",
     "text": [
      "<annotation>\n",
      "  <rdf:RDF xmlns:rdf=\"http://www.w3.org/1999/02/22-rdf-syntax-ns#\" xmlns:dc=\"http://purl.org/dc/elements/1.1/\" xmlns:dcterms=\"http://purl.org/dc/terms/\" xmlns:vCard=\"http://www.w3.org/2001/vcard-rdf/3.0#\" xmlns:bqbiol=\"http://biomodels.net/biology-qualifiers/\" xmlns:bqmodel=\"http://biomodels.net/model-qualifiers/\">\n",
      "    <rdf:Description rdf:about=\"#metaid_0000062\">\n",
      "      <bqbiol:is>\n",
      "        <rdf:Bag>\n",
      "          <rdf:li rdf:resource=\"http://identifiers.org/rhea/RHEA:28827\"/>\n",
      "        </rdf:Bag>\n",
      "      </bqbiol:is>\n",
      "    </rdf:Description>\n",
      "  </rdf:RDF>\n",
      "</annotation>\n"
     ]
    }
   ],
   "source": [
    "# finally, check if the file has been successfully updated\n",
    "reader = libsbml.SBMLReader()\n",
    "document = reader.readSBML(os.path.join(os.getcwd(), 'updated_model.xml'))\n",
    "model = document.getModel()\n",
    "print(model.getReaction('ODC').getAnnotationString())"
   ]
  },
  {
   "cell_type": "code",
   "execution_count": 13,
   "id": "7f4c9a87-b5e2-4c14-8e5c-1def2c611196",
   "metadata": {},
   "outputs": [
    {
     "data": {
      "text/html": [
       "<div>\n",
       "<style scoped>\n",
       "    .dataframe tbody tr th:only-of-type {\n",
       "        vertical-align: middle;\n",
       "    }\n",
       "\n",
       "    .dataframe tbody tr th {\n",
       "        vertical-align: top;\n",
       "    }\n",
       "\n",
       "    .dataframe thead th {\n",
       "        text-align: right;\n",
       "    }\n",
       "</style>\n",
       "<table border=\"1\" class=\"dataframe\">\n",
       "  <thead>\n",
       "    <tr style=\"text-align: right;\">\n",
       "      <th></th>\n",
       "      <th>annotation</th>\n",
       "      <th>match score</th>\n",
       "      <th>label</th>\n",
       "    </tr>\n",
       "    <tr>\n",
       "      <th>SAM (cred. 0.794)</th>\n",
       "      <th></th>\n",
       "      <th></th>\n",
       "      <th></th>\n",
       "    </tr>\n",
       "  </thead>\n",
       "  <tbody>\n",
       "    <tr>\n",
       "      <th>1</th>\n",
       "      <td>CHEBI:67040</td>\n",
       "      <td>1.0</td>\n",
       "      <td>S-adenosyl-L-methioninate</td>\n",
       "    </tr>\n",
       "    <tr>\n",
       "      <th>2</th>\n",
       "      <td>CHEBI:15414</td>\n",
       "      <td>1.0</td>\n",
       "      <td>S-adenosyl-L-methionine</td>\n",
       "    </tr>\n",
       "  </tbody>\n",
       "</table>\n",
       "</div>"
      ],
      "text/plain": [
       "                    annotation  match score                      label\n",
       "SAM (cred. 0.794)                                                     \n",
       "1                  CHEBI:67040          1.0  S-adenosyl-L-methioninate\n",
       "2                  CHEBI:15414          1.0    S-adenosyl-L-methionine"
      ]
     },
     "execution_count": 13,
     "metadata": {},
     "output_type": "execute_result"
    }
   ],
   "source": [
    "recom.getSpeciesRecommendation(pred_id='SAM', get_df=True)"
   ]
  },
  {
   "cell_type": "code",
   "execution_count": null,
   "id": "d0559779-6710-4199-b2a9-37bba12ab59b",
   "metadata": {},
   "outputs": [],
   "source": []
  },
  {
   "cell_type": "code",
   "execution_count": 83,
   "id": "9893bbd5-f2fd-4d56-a7b6-d2db084c03ad",
   "metadata": {},
   "outputs": [],
   "source": [
    "# finally, check if the file has been successfully updated\n",
    "reader = libsbml.SBMLReader()\n",
    "document = reader.readSBML(os.path.join(os.getcwd(), 'updated_model.xml'))\n",
    "model = document.getModel()\n",
    "print(model.getReaction('SAMdc').getAnnotationString())"
   ]
  },
  {
   "cell_type": "code",
   "execution_count": null,
   "id": "61983d41-06f2-4916-ad57-3ffaa2a83e1e",
   "metadata": {},
   "outputs": [],
   "source": [
    "if cands2save:\n",
    "  print(\"some given\")"
   ]
  },
  {
   "cell_type": "code",
   "execution_count": null,
   "id": "7bde15d9-4b09-4525-86b8-23b6015b8bca",
   "metadata": {},
   "outputs": [
    {
     "data": {
      "text/html": [
       "<div>\n",
       "<style scoped>\n",
       "    .dataframe tbody tr th:only-of-type {\n",
       "        vertical-align: middle;\n",
       "    }\n",
       "\n",
       "    .dataframe tbody tr th {\n",
       "        vertical-align: top;\n",
       "    }\n",
       "\n",
       "    .dataframe thead th {\n",
       "        text-align: right;\n",
       "    }\n",
       "</style>\n",
       "<table border=\"1\" class=\"dataframe\">\n",
       "  <thead>\n",
       "    <tr style=\"text-align: right;\">\n",
       "      <th></th>\n",
       "      <th>annotation</th>\n",
       "      <th>match score</th>\n",
       "      <th>label</th>\n",
       "    </tr>\n",
       "    <tr>\n",
       "      <th>SAMdc (cred. 0.587)</th>\n",
       "      <th></th>\n",
       "      <th></th>\n",
       "      <th></th>\n",
       "    </tr>\n",
       "  </thead>\n",
       "  <tbody>\n",
       "    <tr>\n",
       "      <th>1</th>\n",
       "      <td>RHEA:15981</td>\n",
       "      <td>0.5</td>\n",
       "      <td>adenosylmethionine decarboxylase activity</td>\n",
       "    </tr>\n",
       "  </tbody>\n",
       "</table>\n",
       "</div>"
      ],
      "text/plain": [
       "                     annotation  match score  \\\n",
       "SAMdc (cred. 0.587)                            \n",
       "1                    RHEA:15981          0.5   \n",
       "\n",
       "                                                         label  \n",
       "SAMdc (cred. 0.587)                                             \n",
       "1                    adenosylmethionine decarboxylase activity  "
      ]
     },
     "execution_count": 76,
     "metadata": {},
     "output_type": "execute_result"
    }
   ],
   "source": [
    "df = res[1]\n",
    "df"
   ]
  },
  {
   "cell_type": "code",
   "execution_count": null,
   "id": "6a67ed7c-f2e5-4538-9374-38c28aa03612",
   "metadata": {},
   "outputs": [
    {
     "data": {
      "text/html": [
       "<div>\n",
       "<style scoped>\n",
       "    .dataframe tbody tr th:only-of-type {\n",
       "        vertical-align: middle;\n",
       "    }\n",
       "\n",
       "    .dataframe tbody tr th {\n",
       "        vertical-align: top;\n",
       "    }\n",
       "\n",
       "    .dataframe thead th {\n",
       "        text-align: right;\n",
       "    }\n",
       "</style>\n",
       "<table border=\"1\" class=\"dataframe\">\n",
       "  <thead>\n",
       "    <tr style=\"text-align: right;\">\n",
       "      <th></th>\n",
       "      <th>annotation</th>\n",
       "      <th>match score</th>\n",
       "      <th>label</th>\n",
       "    </tr>\n",
       "    <tr>\n",
       "      <th>SAMdc (cred. 0.587)</th>\n",
       "      <th></th>\n",
       "      <th></th>\n",
       "      <th></th>\n",
       "    </tr>\n",
       "  </thead>\n",
       "  <tbody>\n",
       "    <tr>\n",
       "      <th>1</th>\n",
       "      <td>RHEA:15981</td>\n",
       "      <td>0.5</td>\n",
       "      <td>adenosylmethionine decarboxylase activity</td>\n",
       "    </tr>\n",
       "  </tbody>\n",
       "</table>\n",
       "</div>"
      ],
      "text/plain": [
       "                     annotation  match score  \\\n",
       "SAMdc (cred. 0.587)                            \n",
       "1                    RHEA:15981          0.5   \n",
       "\n",
       "                                                         label  \n",
       "SAMdc (cred. 0.587)                                             \n",
       "1                    adenosylmethionine decarboxylase activity  "
      ]
     },
     "execution_count": 55,
     "metadata": {},
     "output_type": "execute_result"
    }
   ],
   "source": [
    "autoSelectAnnotation(df, 0.2)"
   ]
  },
  {
   "cell_type": "code",
   "execution_count": null,
   "id": "ce51ae99-0320-45ce-99eb-ba25e6ca99c5",
   "metadata": {},
   "outputs": [],
   "source": [
    "autoSelectAnnotation"
   ]
  },
  {
   "cell_type": "code",
   "execution_count": null,
   "id": "07bb8f5f-88ee-4a59-b075-39e9fb74f65f",
   "metadata": {},
   "outputs": [
    {
     "data": {
      "text/plain": [
       "(0, 3)"
      ]
     },
     "execution_count": 34,
     "metadata": {},
     "output_type": "execute_result"
    }
   ],
   "source": [
    "empty_df = recom.filterDataFrameByThreshold(res[1], min_threshold)\n",
    "empty_df.shape"
   ]
  },
  {
   "cell_type": "code",
   "execution_count": 8,
   "id": "88d55adf-9ce9-448f-9596-000acfeee2ad",
   "metadata": {},
   "outputs": [],
   "source": [
    "# def autoSelectAnnotation(df, min_score=0.0):\n",
    "#   \"\"\"\n",
    "#   Choose annotations based on \n",
    "#   the set threshold; \n",
    "#   (1) if None meets the threshold, return an empty frame\n",
    "#   (2) if multiple meet the threshold,\n",
    "#       (a) find the highest match score among them\n",
    "#       (b) return all above match score == highest_match_score\n",
    "      \n",
    "#   Parameters\n",
    "#   ----------\n",
    "#   df: pandas.DataFrame\n",
    "  \n",
    "#   min_score: float (0.0-1.0)\n",
    "  \n",
    "#   Returns\n",
    "#   -------\n",
    "#   pandas.DataFrame\n",
    "#     if nothing matched,\n",
    "#     an empty dataframe is returned\n",
    "#   \"\"\" \n",
    "#   scores = df['match score']\n",
    "#   # max_score: highest match score that exists\n",
    "#   # min_score: threshold\n",
    "#   max_score = np.max(scores)\n",
    "#   if max_score < min_score:\n",
    "#     # this will create an empty dataframe\n",
    "#     filt_idx = scores[scores>=min_score].index\n",
    "#   else:\n",
    "#     filt_idx = scores[scores==max_score].index\n",
    "#   filt_df = df.loc[filt_idx, :]  \n",
    "#   return filt_df"
   ]
  },
  {
   "cell_type": "code",
   "execution_count": 11,
   "id": "55ed50c1-7e20-47cc-bea8-1739621d0a8a",
   "metadata": {},
   "outputs": [
    {
     "name": "stdout",
     "output_type": "stream",
     "text": [
      "<annotation>\n",
      "  <rdf:RDF xmlns:rdf=\"http://www.w3.org/1999/02/22-rdf-syntax-ns#\" xmlns:dc=\"http://purl.org/dc/elements/1.1/\" xmlns:dcterms=\"http://purl.org/dc/terms/\" xmlns:vCard=\"http://www.w3.org/2001/vcard-rdf/3.0#\" xmlns:bqbiol=\"http://biomodels.net/biology-qualifiers/\" xmlns:bqmodel=\"http://biomodels.net/model-qualifiers/\">\n",
      "    <rdf:Description rdf:about=\"#metaid_0000062\">\n",
      "      <bqbiol:is>\n",
      "        <rdf:Bag>\n",
      "          <rdf:li rdf:resource=\"http://identifiers.org/rhea/RHEA:28827\"/>\n",
      "        </rdf:Bag>\n",
      "      </bqbiol:is>\n",
      "    </rdf:Description>\n",
      "  </rdf:RDF>\n",
      "</annotation>\n"
     ]
    }
   ],
   "source": []
  },
  {
   "cell_type": "code",
   "execution_count": null,
   "id": "95b3e5ca-5206-4ad5-b378-77951a925fa0",
   "metadata": {},
   "outputs": [],
   "source": [
    "# TODO:\n"
   ]
  },
  {
   "cell_type": "code",
   "execution_count": 97,
   "id": "96c6939a-0439-4e54-9b78-368f371f0f8a",
   "metadata": {},
   "outputs": [],
   "source": [
    "import argparse"
   ]
  },
  {
   "cell_type": "code",
   "execution_count": 114,
   "id": "36adbecd-4f40-43d2-83d6-722ac6b17837",
   "metadata": {},
   "outputs": [],
   "source": [
    "parser = argparse.ArgumentParser(description='SBML file (.XML) and one or more species IDs in the model.')"
   ]
  },
  {
   "cell_type": "code",
   "execution_count": 115,
   "id": "a121b55c-0667-4efd-9e4c-394c3e22bbab",
   "metadata": {},
   "outputs": [
    {
     "data": {
      "text/plain": [
       "_StoreAction(option_strings=['--outfile_dir'], dest='outfile_dir', nargs=None, const=None, default=None, type=<class 'str'>, choices=None, required=False, help='Path of directory to save files', metavar=None)"
      ]
     },
     "execution_count": 115,
     "metadata": {},
     "output_type": "execute_result"
    }
   ],
   "source": [
    "parser.add_argument('--model', type=str, help='SBML file in the XML format')\n",
    "parser.add_argument('--species', type=str, help='ID of species in the model', nargs=\"*\")\n",
    "parser.add_argument('--min_score', type=float, help='Minimum threshold of recommendation')\n",
    "parser.add_argument('--outfile_dir', type=str, help='Path of directory to save files')"
   ]
  },
  {
   "cell_type": "code",
   "execution_count": 116,
   "id": "7ae0d8e7-62d5-47f1-a7b8-9340b595490f",
   "metadata": {},
   "outputs": [],
   "source": [
    "args = parser.parse_args(['--model', 'updated_model.xml',\n",
    "                          '--min_score', '0.6',\n",
    "                          '--outfile_dir', 'recommended'])"
   ]
  },
  {
   "cell_type": "code",
   "execution_count": 117,
   "id": "54f7ac22-db66-455c-a52e-08b613a73b58",
   "metadata": {},
   "outputs": [],
   "source": [
    "args.species"
   ]
  },
  {
   "cell_type": "code",
   "execution_count": 146,
   "id": "cc19cfd0-3689-401c-8571-f440049c67a9",
   "metadata": {},
   "outputs": [],
   "source": [
    "# def printSummary(saved_elements, element_type):\n",
    "#   \"\"\"\n",
    "#   Print out a summary of \n",
    "#   saved element IDs and numbers. \n",
    "  \n",
    "#   Parameters\n",
    "#   ----------\n",
    "#   saved_elements: list-str\n",
    "#       List of elements saved. \n",
    "#   \"\"\"\n",
    "#   plural_str = {'species': ' were',\n",
    "#                 'reaction': 's were'}\n",
    "#   num_saved = len(saved_elements)\n",
    "#   if num_saved == 0:\n",
    "#     return None\n",
    "#   str2add = \"\"\n",
    "#   if num_saved==1:\n",
    "#      print(\"Recommendation of %s %s was saved.\\n\" % \\\n",
    "#            (element_type, saved_elements[0]))\n",
    "#   elif num_saved>1:\n",
    "#     print(\"Recommendations of %d %s%s saved:\\n[%s]\\n\" %\\\n",
    "#           (num_saved,\n",
    "#            element_type,\n",
    "#            plural_str[element_type],\n",
    "#            ', '.join(saved_elements))) "
   ]
  },
  {
   "cell_type": "code",
   "execution_count": 147,
   "id": "44fd1809-0bd1-4aa9-bfcf-517989c0214f",
   "metadata": {},
   "outputs": [
    {
     "name": "stdout",
     "output_type": "stream",
     "text": [
      "Recommendations of 2 species were saved:\n",
      "[SAM, A]\n",
      "\n"
     ]
    }
   ],
   "source": [
    "printSummary(['SAM', 'A'], 'species')"
   ]
  },
  {
   "cell_type": "code",
   "execution_count": 148,
   "id": "4b204379-8159-435f-9c3a-922e0ad20110",
   "metadata": {},
   "outputs": [
    {
     "name": "stdout",
     "output_type": "stream",
     "text": [
      "Recommendation of species SAM was saved.\n",
      "\n"
     ]
    }
   ],
   "source": [
    "printSummary(['SAM'], 'species')"
   ]
  },
  {
   "cell_type": "code",
   "execution_count": 149,
   "id": "0de6705e-b747-4662-b5f8-514bf6fe1961",
   "metadata": {},
   "outputs": [
    {
     "name": "stdout",
     "output_type": "stream",
     "text": [
      "Recommendations of 2 reactions were saved:\n",
      "[ODC, SAMdc]\n",
      "\n"
     ]
    }
   ],
   "source": [
    "printSummary(['ODC', 'SAMdc'], 'reaction')"
   ]
  },
  {
   "cell_type": "code",
   "execution_count": 150,
   "id": "9666619d-c4af-4dea-a812-007f75e19a15",
   "metadata": {},
   "outputs": [
    {
     "name": "stdout",
     "output_type": "stream",
     "text": [
      "Recommendation of reaction ODC was saved.\n",
      "\n"
     ]
    }
   ],
   "source": [
    "printSummary(['ODC'], 'reaction')"
   ]
  },
  {
   "cell_type": "code",
   "execution_count": null,
   "id": "a8278c40-f0dd-4773-b8c4-2f2aa0d5f2e1",
   "metadata": {},
   "outputs": [],
   "source": []
  },
  {
   "cell_type": "code",
   "execution_count": 152,
   "id": "336cb1ac-56b2-485e-b0c2-a8b93456658e",
   "metadata": {},
   "outputs": [
    {
     "data": {
      "text/plain": [
       "'e_coli_core'"
      ]
     },
     "execution_count": 152,
     "metadata": {},
     "output_type": "execute_result"
    }
   ],
   "source": [
    "E_COLI_PATH.split('/')[-1].split('.')[0]"
   ]
  },
  {
   "cell_type": "code",
   "execution_count": null,
   "id": "a551987e-6a7a-40c2-a0ed-cb7c91845af5",
   "metadata": {},
   "outputs": [],
   "source": []
  }
 ],
 "metadata": {
  "kernelspec": {
   "display_name": "Python 3 (ipykernel)",
   "language": "python",
   "name": "python3"
  },
  "language_info": {
   "codemirror_mode": {
    "name": "ipython",
    "version": 3
   },
   "file_extension": ".py",
   "mimetype": "text/x-python",
   "name": "python",
   "nbconvert_exporter": "python",
   "pygments_lexer": "ipython3",
   "version": "3.9.15"
  }
 },
 "nbformat": 4,
 "nbformat_minor": 5
}
