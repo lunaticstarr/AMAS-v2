{
 "cells": [
  {
   "cell_type": "code",
   "execution_count": 1,
   "id": "a5b47af4-48b6-4575-be91-bcc834624969",
   "metadata": {},
   "outputs": [],
   "source": [
    "# Develop features for demo, etc. \n",
    "# But, first step is to create DF from Recommendation\n",
    "import collections\n",
    "import compress_pickle\n",
    "import itertools\n",
    "import libsbml\n",
    "import numpy as np\n",
    "import os\n",
    "import pickle\n",
    "import pandas as pd\n",
    "import sys\n",
    "import time\n",
    "import matplotlib.pyplot as plt\n",
    "%matplotlib inline  \n",
    "\n",
    "BIOMD_12 = 'BIOMD0000000012.xml'\n",
    "BASE_DIR = '/Users/woosubs/Desktop/AutomateAnnotation/'\n",
    "DATA_DIR = os.path.join(BASE_DIR, \"DATA\")\n",
    "ALGO_DIR = os.path.join(DATA_DIR, \"algo\")\n",
    "CHEBI_DIR = os.path.join(DATA_DIR, \"chebi\")\n",
    "RHEA_DIR = os.path.join(DATA_DIR, \"rhea\")\n",
    "BIOMODEL_DIR = os.path.join(DATA_DIR, \"biomodels/curated_biomodels_31mar2021\")\n",
    "BIGG_DIR = '/Users/woosubs/Desktop/AutomateAnnotation/DATA/bigg'\n",
    "ecoli_fpath = os.path.join(BIGG_DIR, \"e_coli_core.xml\")\n",
    "\n",
    "PROJ_DIR = os.path.join(os.getcwd(), os.pardir)\n",
    "AMAS_DIR = os.path.join(PROJ_DIR, \"AMAS\")\n",
    "sys.path.append(PROJ_DIR)\n",
    "\n",
    "SUPPL_DIR = os.path.join(PROJ_DIR, os.pardir, \"AMAS_suppl\")\n",
    "ACCURACY_DIR = os.path.join(SUPPL_DIR, \"data_for_credibility\")\n",
    "RESULT_DIR = '/Users/woosubs/Desktop/AutomateAnnotation/AMAS_suppl/result_files'\n",
    "\n",
    "from AMAS import annotation_maker as am\n",
    "from AMAS import species_annotation as sa\n",
    "from AMAS import reaction_annotation as ra\n",
    "from AMAS import recommender\n",
    "from AMAS import constants as cn\n",
    "from AMAS import iterator as it\n",
    "from AMAS import tools"
   ]
  },
  {
   "cell_type": "code",
   "execution_count": 2,
   "id": "ddd348bd-7832-4223-84fe-9402ceba44ed",
   "metadata": {},
   "outputs": [],
   "source": [
    "E_COLI_PATH = '/Users/woosubs/Desktop/AutomateAnnotation/AMAS/AMAS/../tests/e_coli_core.xml'\n",
    "BIOMD_190_PATH = os.path.join(cn.TEST_DIR, 'BIOMD0000000190.xml')"
   ]
  },
  {
   "cell_type": "code",
   "execution_count": 3,
   "id": "a45037f0-5736-4916-8c5d-f746d60a6818",
   "metadata": {},
   "outputs": [],
   "source": [
    "recom = recommender.Recommender(libsbml_fpath=BIOMD_190_PATH)"
   ]
  },
  {
   "cell_type": "code",
   "execution_count": 4,
   "id": "f8e25344-93a1-4aa7-9bc1-369c4f877db0",
   "metadata": {},
   "outputs": [
    {
     "data": {
      "text/plain": [
       "['SAM', 'A', 'P', 'S', 'D', 'aS', 'aD', 'Met', 'ORN', 'AcCoA', 'CoA']"
      ]
     },
     "execution_count": 4,
     "metadata": {},
     "output_type": "execute_result"
    }
   ],
   "source": [
    "recom.getSpeciesIDs()"
   ]
  },
  {
   "cell_type": "code",
   "execution_count": 5,
   "id": "4ce9639b-15f8-4028-94c3-966033500530",
   "metadata": {},
   "outputs": [
    {
     "name": "stdout",
     "output_type": "stream",
     "text": [
      "                      SAM (credibility score: 0.975)                      \n",
      "+----+--------------+---------------+------------------------------------+\n",
      "|    | annotation   |   match score | label                              |\n",
      "+====+==============+===============+====================================+\n",
      "|  1 | CHEBI:59789  |         1.000 | S-adenosyl-L-methionine zwitterion |\n",
      "+----+--------------+---------------+------------------------------------+\n",
      "|  2 | CHEBI:15414  |         1.000 | S-adenosyl-L-methionine            |\n",
      "+----+--------------+---------------+------------------------------------+\n",
      "\n"
     ]
    }
   ],
   "source": [
    "recom.recommendSpecies(ids='SAM', min_score=0.8)"
   ]
  },
  {
   "cell_type": "code",
   "execution_count": 56,
   "id": "25bb57a6-f98a-452e-a9a6-9399d7408e1c",
   "metadata": {},
   "outputs": [
    {
     "data": {
      "text/html": [
       "<div>\n",
       "<style scoped>\n",
       "    .dataframe tbody tr th:only-of-type {\n",
       "        vertical-align: middle;\n",
       "    }\n",
       "\n",
       "    .dataframe tbody tr th {\n",
       "        vertical-align: top;\n",
       "    }\n",
       "\n",
       "    .dataframe thead th {\n",
       "        text-align: right;\n",
       "    }\n",
       "</style>\n",
       "<table border=\"1\" class=\"dataframe\">\n",
       "  <thead>\n",
       "    <tr style=\"text-align: right;\">\n",
       "      <th></th>\n",
       "      <th>annotation</th>\n",
       "      <th>match score</th>\n",
       "      <th>label</th>\n",
       "    </tr>\n",
       "    <tr>\n",
       "      <th>glucosc (cred. 0.943)</th>\n",
       "      <th></th>\n",
       "      <th></th>\n",
       "      <th></th>\n",
       "    </tr>\n",
       "  </thead>\n",
       "  <tbody>\n",
       "    <tr>\n",
       "      <th>1</th>\n",
       "      <td>CHEBI:42758</td>\n",
       "      <td>0.882</td>\n",
       "      <td>aldehydo-D-glucose</td>\n",
       "    </tr>\n",
       "    <tr>\n",
       "      <th>2</th>\n",
       "      <td>CHEBI:4167</td>\n",
       "      <td>0.882</td>\n",
       "      <td>D-glucopyranose</td>\n",
       "    </tr>\n",
       "    <tr>\n",
       "      <th>3</th>\n",
       "      <td>CHEBI:17234</td>\n",
       "      <td>0.882</td>\n",
       "      <td>glucose</td>\n",
       "    </tr>\n",
       "  </tbody>\n",
       "</table>\n",
       "</div>"
      ],
      "text/plain": [
       "                        annotation  match score               label\n",
       "glucosc (cred. 0.943)                                              \n",
       "1                      CHEBI:42758        0.882  aldehydo-D-glucose\n",
       "2                       CHEBI:4167        0.882     D-glucopyranose\n",
       "3                      CHEBI:17234        0.882             glucose"
      ]
     },
     "execution_count": 56,
     "metadata": {},
     "output_type": "execute_result"
    }
   ],
   "source": [
    "glucosc_df = recom.getSpeciesRecommendation(pred_str='glucosc', get_df=True)\n",
    "glucosc_df"
   ]
  },
  {
   "cell_type": "code",
   "execution_count": 60,
   "id": "ad2bcf6e-3011-4abe-8603-f2dfdb0fb87f",
   "metadata": {},
   "outputs": [],
   "source": [
    "glucosc_df['match score'] = np.round(1/(1.118), 3)"
   ]
  },
  {
   "cell_type": "code",
   "execution_count": 61,
   "id": "95dc369b-23bd-48b9-8816-08b05ce72c67",
   "metadata": {},
   "outputs": [
    {
     "data": {
      "text/html": [
       "<div>\n",
       "<style scoped>\n",
       "    .dataframe tbody tr th:only-of-type {\n",
       "        vertical-align: middle;\n",
       "    }\n",
       "\n",
       "    .dataframe tbody tr th {\n",
       "        vertical-align: top;\n",
       "    }\n",
       "\n",
       "    .dataframe thead th {\n",
       "        text-align: right;\n",
       "    }\n",
       "</style>\n",
       "<table border=\"1\" class=\"dataframe\">\n",
       "  <thead>\n",
       "    <tr style=\"text-align: right;\">\n",
       "      <th></th>\n",
       "      <th>annotation</th>\n",
       "      <th>match score</th>\n",
       "      <th>label</th>\n",
       "    </tr>\n",
       "    <tr>\n",
       "      <th>glucosc (cred. 0.943)</th>\n",
       "      <th></th>\n",
       "      <th></th>\n",
       "      <th></th>\n",
       "    </tr>\n",
       "  </thead>\n",
       "  <tbody>\n",
       "    <tr>\n",
       "      <th>1</th>\n",
       "      <td>CHEBI:42758</td>\n",
       "      <td>0.894</td>\n",
       "      <td>aldehydo-D-glucose</td>\n",
       "    </tr>\n",
       "    <tr>\n",
       "      <th>2</th>\n",
       "      <td>CHEBI:4167</td>\n",
       "      <td>0.894</td>\n",
       "      <td>D-glucopyranose</td>\n",
       "    </tr>\n",
       "    <tr>\n",
       "      <th>3</th>\n",
       "      <td>CHEBI:17234</td>\n",
       "      <td>0.894</td>\n",
       "      <td>glucose</td>\n",
       "    </tr>\n",
       "  </tbody>\n",
       "</table>\n",
       "</div>"
      ],
      "text/plain": [
       "                        annotation  match score               label\n",
       "glucosc (cred. 0.943)                                              \n",
       "1                      CHEBI:42758        0.894  aldehydo-D-glucose\n",
       "2                       CHEBI:4167        0.894     D-glucopyranose\n",
       "3                      CHEBI:17234        0.894             glucose"
      ]
     },
     "execution_count": 61,
     "metadata": {},
     "output_type": "execute_result"
    }
   ],
   "source": [
    "glucosc_df"
   ]
  },
  {
   "cell_type": "code",
   "execution_count": 64,
   "id": "9737a6b2-1d88-4f17-b912-85158d254f29",
   "metadata": {},
   "outputs": [
    {
     "name": "stdout",
     "output_type": "stream",
     "text": [
      "            glucosc (credibility score: 0.943)            \n",
      "+----+--------------+---------------+--------------------+\n",
      "|    | annotation   |   match score | label              |\n",
      "+====+==============+===============+====================+\n",
      "|  1 | CHEBI:42758  |         0.894 | aldehydo-D-glucose |\n",
      "+----+--------------+---------------+--------------------+\n",
      "|  2 | CHEBI:4167   |         0.894 | D-glucopyranose    |\n",
      "+----+--------------+---------------+--------------------+\n",
      "|  3 | CHEBI:17234  |         0.894 | glucose            |\n",
      "+----+--------------+---------------+--------------------+\n"
     ]
    }
   ],
   "source": [
    "print(recom.getMarkdownFromRecommendation(glucosc_df))"
   ]
  },
  {
   "cell_type": "code",
   "execution_count": null,
   "id": "2b6eedaf-d47e-4d0c-b463-65d90214f028",
   "metadata": {},
   "outputs": [],
   "source": []
  },
  {
   "cell_type": "code",
   "execution_count": 44,
   "id": "183b8a5b-55a4-4823-b6f2-ee768e035a89",
   "metadata": {},
   "outputs": [
    {
     "data": {
      "text/html": [
       "<div>\n",
       "<style scoped>\n",
       "    .dataframe tbody tr th:only-of-type {\n",
       "        vertical-align: middle;\n",
       "    }\n",
       "\n",
       "    .dataframe tbody tr th {\n",
       "        vertical-align: top;\n",
       "    }\n",
       "\n",
       "    .dataframe thead th {\n",
       "        text-align: right;\n",
       "    }\n",
       "</style>\n",
       "<table border=\"1\" class=\"dataframe\">\n",
       "  <thead>\n",
       "    <tr style=\"text-align: right;\">\n",
       "      <th></th>\n",
       "      <th>annotation</th>\n",
       "      <th>match score</th>\n",
       "      <th>label</th>\n",
       "    </tr>\n",
       "    <tr>\n",
       "      <th>a (cred. 0.409)</th>\n",
       "      <th></th>\n",
       "      <th></th>\n",
       "      <th></th>\n",
       "    </tr>\n",
       "  </thead>\n",
       "  <tbody>\n",
       "    <tr>\n",
       "      <th>1</th>\n",
       "      <td>CHEBI:16708</td>\n",
       "      <td>1.0</td>\n",
       "      <td>adenine</td>\n",
       "    </tr>\n",
       "    <tr>\n",
       "      <th>2</th>\n",
       "      <td>CHEBI:16449</td>\n",
       "      <td>1.0</td>\n",
       "      <td>alanine</td>\n",
       "    </tr>\n",
       "    <tr>\n",
       "      <th>3</th>\n",
       "      <td>CHEBI:13193</td>\n",
       "      <td>1.0</td>\n",
       "      <td>hydrogen acceptor</td>\n",
       "    </tr>\n",
       "  </tbody>\n",
       "</table>\n",
       "</div>"
      ],
      "text/plain": [
       "                  annotation  match score              label\n",
       "a (cred. 0.409)                                             \n",
       "1                CHEBI:16708          1.0            adenine\n",
       "2                CHEBI:16449          1.0            alanine\n",
       "3                CHEBI:13193          1.0  hydrogen acceptor"
      ]
     },
     "execution_count": 44,
     "metadata": {},
     "output_type": "execute_result"
    }
   ],
   "source": [
    "df_name = a_df.index.name\n",
    "a_df = a_df.loc[[4, 5, 10], :]\n",
    "a_df.index=[1,2,3]\n",
    "a_df.index.name = df_name\n",
    "a_df"
   ]
  },
  {
   "cell_type": "code",
   "execution_count": 45,
   "id": "dff85ee5-e8df-45e7-a7b9-1605e214df2a",
   "metadata": {},
   "outputs": [],
   "source": [
    "a_df.loc[1, 'match score'] = 1/0.5"
   ]
  },
  {
   "cell_type": "code",
   "execution_count": 46,
   "id": "ac1bcdfd-ef7f-409f-8e54-00f8adde77eb",
   "metadata": {},
   "outputs": [
    {
     "name": "stdout",
     "output_type": "stream",
     "text": [
      "               a (credibility score: 0.409)              \n",
      "+----+--------------+---------------+-------------------+\n",
      "|    | annotation   |   match score | label             |\n",
      "+====+==============+===============+===================+\n",
      "|  1 | CHEBI:16708  |         2.000 | adenine           |\n",
      "+----+--------------+---------------+-------------------+\n",
      "|  2 | CHEBI:16449  |         1.000 | alanine           |\n",
      "+----+--------------+---------------+-------------------+\n",
      "|  3 | CHEBI:13193  |         1.000 | hydrogen acceptor |\n",
      "+----+--------------+---------------+-------------------+\n"
     ]
    }
   ],
   "source": [
    "print(recom.getMarkdownFromRecommendation(a_df))"
   ]
  },
  {
   "cell_type": "code",
   "execution_count": 6,
   "id": "40072c70-d5f7-420f-8953-cecaf0d51e4e",
   "metadata": {},
   "outputs": [
    {
     "name": "stdout",
     "output_type": "stream",
     "text": [
      "Selection updated.\n"
     ]
    }
   ],
   "source": [
    "recom.selectAnnotation(choice=('SAM', [2]))"
   ]
  },
  {
   "cell_type": "code",
   "execution_count": 7,
   "id": "7dc2f8f4-d770-4695-8fee-15246b2454a7",
   "metadata": {},
   "outputs": [],
   "source": [
    "recom.getSpeciesIDs(pattern=\"S*S\")"
   ]
  },
  {
   "cell_type": "code",
   "execution_count": 8,
   "id": "899a5223-34d0-4844-8352-095b88082f7b",
   "metadata": {},
   "outputs": [
    {
     "name": "stdout",
     "output_type": "stream",
     "text": [
      "['SSAT_for_S', 'SpdS', 'SpmS']\n"
     ]
    }
   ],
   "source": [
    "print(recom.getReactionIDs(pattern=\"S*S\"))"
   ]
  },
  {
   "cell_type": "code",
   "execution_count": 10,
   "id": "5a0f56c5-fa40-45fa-9a01-f1f8a61bd153",
   "metadata": {},
   "outputs": [
    {
     "name": "stdout",
     "output_type": "stream",
     "text": [
      "                                        ODC (credibility score: 0.817)                                       \n",
      "+----+--------------+---------------+-----------------------------------------------------------------------+\n",
      "|    | annotation   |   match score | label                                                                 |\n",
      "+====+==============+===============+=======================================================================+\n",
      "|  1 | RHEA:28827   |         1.000 | L-ornithine(out) + putrescine(in) = L-ornithine(in) + putrescine(out) |\n",
      "+----+--------------+---------------+-----------------------------------------------------------------------+\n",
      "|  2 | RHEA:22964   |         0.500 | ornithine decarboxylase activity                                      |\n",
      "+----+--------------+---------------+-----------------------------------------------------------------------+\n",
      "|  3 | RHEA:59048   |         0.500 | D-ornithine + H(+) = CO2 + putrescine                                 |\n",
      "+----+--------------+---------------+-----------------------------------------------------------------------+\n",
      "\n",
      "                         SAMdc (credibility score: 0.587)                        \n",
      "+----+--------------+---------------+-------------------------------------------+\n",
      "|    | annotation   |   match score | label                                     |\n",
      "+====+==============+===============+===========================================+\n",
      "|  1 | RHEA:15981   |         0.500 | adenosylmethionine decarboxylase activity |\n",
      "+----+--------------+---------------+-------------------------------------------+\n",
      "\n"
     ]
    }
   ],
   "source": [
    "recom.recommendReaction(ids=['ODC', 'SAMdc'], min_score=0.4)"
   ]
  },
  {
   "cell_type": "code",
   "execution_count": 11,
   "id": "c2a95b07-71f0-4fbf-842c-b438ceab6aad",
   "metadata": {},
   "outputs": [
    {
     "name": "stdout",
     "output_type": "stream",
     "text": [
      "Selection updated.\n"
     ]
    }
   ],
   "source": [
    "recom.selectAnnotation(choice=('ODC', [1,2]))"
   ]
  },
  {
   "cell_type": "code",
   "execution_count": 12,
   "id": "12bd13bc-62ee-464f-9c90-e4ec1ecdae05",
   "metadata": {},
   "outputs": [
    {
     "name": "stdout",
     "output_type": "stream",
     "text": [
      "                      SAM (credibility score: 0.975)                      \n",
      "+----+--------------+---------------+------------------------------------+\n",
      "|    | annotation   |   match score | label                              |\n",
      "+====+==============+===============+====================================+\n",
      "|  2 | CHEBI:59789  |         1.000 | S-adenosyl-L-methionine zwitterion |\n",
      "+----+--------------+---------------+------------------------------------+\n",
      "\n",
      "                                        ODC (credibility score: 0.817)                                       \n",
      "+----+--------------+---------------+-----------------------------------------------------------------------+\n",
      "|    | annotation   |   match score | label                                                                 |\n",
      "+====+==============+===============+=======================================================================+\n",
      "|  1 | RHEA:28827   |         1.000 | L-ornithine(out) + putrescine(in) = L-ornithine(in) + putrescine(out) |\n",
      "+----+--------------+---------------+-----------------------------------------------------------------------+\n",
      "|  2 | RHEA:22964   |         0.500 | ornithine decarboxylase activity                                      |\n",
      "+----+--------------+---------------+-----------------------------------------------------------------------+\n",
      "\n"
     ]
    }
   ],
   "source": [
    "recom.displaySelection()"
   ]
  },
  {
   "cell_type": "code",
   "execution_count": 9,
   "id": "0dff55ad-2619-42f9-8aff-3b5502e704c5",
   "metadata": {},
   "outputs": [
    {
     "name": "stdout",
     "output_type": "stream",
     "text": [
      "Annotation of SAM updated.\n"
     ]
    }
   ],
   "source": [
    "recom.saveToFile(os.path.join(os.getcwd(), 'updated_model.xml'))"
   ]
  },
  {
   "cell_type": "code",
   "execution_count": 29,
   "id": "27b3d469-471f-47fb-af10-424bf892f416",
   "metadata": {},
   "outputs": [
    {
     "data": {
      "text/html": [
       "<div>\n",
       "<style scoped>\n",
       "    .dataframe tbody tr th:only-of-type {\n",
       "        vertical-align: middle;\n",
       "    }\n",
       "\n",
       "    .dataframe tbody tr th {\n",
       "        vertical-align: top;\n",
       "    }\n",
       "\n",
       "    .dataframe thead th {\n",
       "        text-align: right;\n",
       "    }\n",
       "</style>\n",
       "<table border=\"1\" class=\"dataframe\">\n",
       "  <thead>\n",
       "    <tr style=\"text-align: right;\">\n",
       "      <th></th>\n",
       "      <th>annotation</th>\n",
       "      <th>match score</th>\n",
       "      <th>label</th>\n",
       "    </tr>\n",
       "    <tr>\n",
       "      <th>a (cred. 0.409)</th>\n",
       "      <th></th>\n",
       "      <th></th>\n",
       "      <th></th>\n",
       "    </tr>\n",
       "  </thead>\n",
       "  <tbody>\n",
       "    <tr>\n",
       "      <th>1</th>\n",
       "      <td>CHEBI:13193</td>\n",
       "      <td>1.0</td>\n",
       "      <td>hydrogen acceptor</td>\n",
       "    </tr>\n",
       "    <tr>\n",
       "      <th>2</th>\n",
       "      <td>CHEBI:28515</td>\n",
       "      <td>1.0</td>\n",
       "      <td>acetoacetamide</td>\n",
       "    </tr>\n",
       "    <tr>\n",
       "      <th>3</th>\n",
       "      <td>CHEBI:62885</td>\n",
       "      <td>1.0</td>\n",
       "      <td>adenosine residue</td>\n",
       "    </tr>\n",
       "    <tr>\n",
       "      <th>4</th>\n",
       "      <td>CHEBI:15843</td>\n",
       "      <td>1.0</td>\n",
       "      <td>arachidonic acid</td>\n",
       "    </tr>\n",
       "    <tr>\n",
       "      <th>5</th>\n",
       "      <td>CHEBI:46217</td>\n",
       "      <td>1.0</td>\n",
       "      <td>L-alanine residue</td>\n",
       "    </tr>\n",
       "    <tr>\n",
       "      <th>6</th>\n",
       "      <td>CHEBI:50306</td>\n",
       "      <td>1.0</td>\n",
       "      <td>adenosine 5'-monophosphate residue</td>\n",
       "    </tr>\n",
       "    <tr>\n",
       "      <th>7</th>\n",
       "      <td>CHEBI:16449</td>\n",
       "      <td>1.0</td>\n",
       "      <td>alanine</td>\n",
       "    </tr>\n",
       "    <tr>\n",
       "      <th>8</th>\n",
       "      <td>CHEBI:73313</td>\n",
       "      <td>1.0</td>\n",
       "      <td>Ala-Ala-Ala</td>\n",
       "    </tr>\n",
       "    <tr>\n",
       "      <th>9</th>\n",
       "      <td>CHEBI:72816</td>\n",
       "      <td>1.0</td>\n",
       "      <td>L-alanyl-L-alanine</td>\n",
       "    </tr>\n",
       "    <tr>\n",
       "      <th>10</th>\n",
       "      <td>CHEBI:16708</td>\n",
       "      <td>1.0</td>\n",
       "      <td>adenine</td>\n",
       "    </tr>\n",
       "    <tr>\n",
       "      <th>11</th>\n",
       "      <td>CHEBI:16977</td>\n",
       "      <td>1.0</td>\n",
       "      <td>L-alanine</td>\n",
       "    </tr>\n",
       "  </tbody>\n",
       "</table>\n",
       "</div>"
      ],
      "text/plain": [
       "                  annotation  match score                               label\n",
       "a (cred. 0.409)                                                              \n",
       "1                CHEBI:13193          1.0                   hydrogen acceptor\n",
       "2                CHEBI:28515          1.0                      acetoacetamide\n",
       "3                CHEBI:62885          1.0                   adenosine residue\n",
       "4                CHEBI:15843          1.0                    arachidonic acid\n",
       "5                CHEBI:46217          1.0                   L-alanine residue\n",
       "6                CHEBI:50306          1.0  adenosine 5'-monophosphate residue\n",
       "7                CHEBI:16449          1.0                             alanine\n",
       "8                CHEBI:73313          1.0                         Ala-Ala-Ala\n",
       "9                CHEBI:72816          1.0                  L-alanyl-L-alanine\n",
       "10               CHEBI:16708          1.0                             adenine\n",
       "11               CHEBI:16977          1.0                           L-alanine"
      ]
     },
     "execution_count": 29,
     "metadata": {},
     "output_type": "execute_result"
    }
   ],
   "source": [
    "recom.getSpeciesRecommendation(pred_str='a',get_df=True)"
   ]
  },
  {
   "cell_type": "code",
   "execution_count": 17,
   "id": "2b66b66a-327e-4773-b93e-a518c366dd9b",
   "metadata": {},
   "outputs": [
    {
     "name": "stdout",
     "output_type": "stream",
     "text": [
      "['SAM']\n",
      "['ODC']\n"
     ]
    }
   ],
   "source": [
    "for val in recommender.ELEMENT_TYPES:\n",
    "  print(list(recom.selection[val].keys()))"
   ]
  },
  {
   "cell_type": "code",
   "execution_count": 36,
   "id": "4c92715c-eb88-43a4-a3d2-c1de03534e70",
   "metadata": {},
   "outputs": [],
   "source": [
    "# finally, check if the file has been successfully updated\n",
    "reader = libsbml.SBMLReader()\n",
    "document = reader.readSBML(os.path.join(os.getcwd(), 'updated_model.xml'))\n",
    "model = document.getModel()"
   ]
  },
  {
   "cell_type": "code",
   "execution_count": 39,
   "id": "a133b43e-192d-405e-8d3f-00d9e8f89e5f",
   "metadata": {},
   "outputs": [
    {
     "name": "stdout",
     "output_type": "stream",
     "text": [
      "<annotation>\n",
      "  <rdf:RDF xmlns:rdf=\"http://www.w3.org/1999/02/22-rdf-syntax-ns#\" xmlns:dcterms=\"http://purl.org/dc/terms/\" xmlns:vcard4=\"http://www.w3.org/2006/vcard/ns#\" xmlns:bqbiol=\"http://biomodels.net/biology-qualifiers/\" xmlns:bqmodel=\"http://biomodels.net/model-qualifiers/\">\n",
      "    <rdf:Description rdf:about=\"#metaid_0000036\">\n",
      "      <bqbiol:is>\n",
      "        <rdf:Bag>\n",
      "          <rdf:li rdf:resource=\"http://identifiers.org/chebi/CHEBI:15414\"/>\n",
      "        </rdf:Bag>\n",
      "      </bqbiol:is>\n",
      "    </rdf:Description>\n",
      "    <rdf:Description rdf:about=\"#metaid_0000036\">\n",
      "      <bqbiol:is>\n",
      "        <rdf:Bag>\n",
      "          <rdf:li rdf:resource=\"http://identifiers.org/chebi/CHEBI:15414\"/>\n",
      "          <bqbiol:hasProperty>\n",
      "            <rdf:Bag>\n",
      "              <rdf:li rdf:resource=\"http://reproduciblebiomodels.org/amas/v1/by_name/1.00\"/>\n",
      "            </rdf:Bag>\n",
      "          </bqbiol:hasProperty>\n",
      "        </rdf:Bag>\n",
      "      </bqbiol:is>\n",
      "    </rdf:Description>\n",
      "  </rdf:RDF>\n",
      "</annotation>\n"
     ]
    }
   ],
   "source": [
    "print(model.getSpecies('SAM').getAnnotationString())"
   ]
  },
  {
   "cell_type": "code",
   "execution_count": null,
   "id": "19bce4ef-b85a-4f6e-ae58-85cb07d57cfd",
   "metadata": {},
   "outputs": [],
   "source": []
  },
  {
   "cell_type": "code",
   "execution_count": 26,
   "id": "4c335122-650b-4e18-bee0-bd99da4d47bb",
   "metadata": {},
   "outputs": [
    {
     "name": "stdout",
     "output_type": "stream",
     "text": [
      "elemen SAM, annotation updated.\n"
     ]
    }
   ],
   "source": [
    "# Last step is to save them as annotation;\n",
    "choice = ['SAM']\n",
    "model = recom.sbml_document.getModel()\n",
    "ELEMENT_FUNC = {'species': model.getSpecies,\n",
    "                'reaction': model.getReaction}\n",
    "for one_type in recommender.ELEMENT_TYPES:\n",
    "  type_selection = recom.selection[one_type]\n",
    "  maker = am.AnnotationMaker(one_type)\n",
    "  if choice: \n",
    "    sel2save = {val:type_selection[val] for val in choice if val in type_selection.keys()}\n",
    "  else:\n",
    "    sel2save = type_selection\n",
    "  for one_k in sel2save.keys():\n",
    "    one_element = ELEMENT_FUNC[one_type](one_k)\n",
    "    meta_id = one_element.meta_id\n",
    "    df = sel2save[one_k]\n",
    "    upd_tuples = list(zip(df['annotation'], df['match score']))\n",
    "    annotation_str = maker.getAnnotationString(upd_tuples, meta_id)\n",
    "    one_element.setAnnotation(annotation_str)\n",
    "    print(\"elemen %s, annotation updated.\" % one_k)"
   ]
  },
  {
   "cell_type": "code",
   "execution_count": 27,
   "id": "03e19d9e-19e3-4f7f-95ce-998e895a04d9",
   "metadata": {},
   "outputs": [
    {
     "data": {
      "text/plain": [
       "{}"
      ]
     },
     "execution_count": 27,
     "metadata": {},
     "output_type": "execute_result"
    }
   ],
   "source": [
    "sel2save"
   ]
  },
  {
   "cell_type": "code",
   "execution_count": 17,
   "id": "d9578ca5-08c8-4eb9-8cf0-bef96d3ad532",
   "metadata": {},
   "outputs": [],
   "source": [
    "\n",
    "\n",
    "for one_k in sel2save.keys():\n",
    "  one_element = ELEMENT_FUNC[one_type](one_k)\n",
    "  meta_id = one_element.meta_id\n",
    "  df = sel2save[one_k]\n",
    "  upd_tuples = list(zip(df['annotation'], df['match score']))\n",
    "  annotation_str = maker.getAnnotationString(upd_tuples, meta_id)\n",
    "  one_element.setAnnotation(annotation_str)"
   ]
  },
  {
   "cell_type": "code",
   "execution_count": 18,
   "id": "cb11d571-4675-4a13-a3b5-e04d54b9a6bd",
   "metadata": {},
   "outputs": [
    {
     "name": "stdout",
     "output_type": "stream",
     "text": [
      "<annotation>\n",
      "  <rdf:RDF xmlns:rdf=\"http://www.w3.org/1999/02/22-rdf-syntax-ns#\" xmlns:dcterms=\"http://purl.org/dc/terms/\" xmlns:vcard4=\"http://www.w3.org/2006/vcard/ns#\" xmlns:bqbiol=\"http://biomodels.net/biology-qualifiers/\" xmlns:bqmodel=\"http://biomodels.net/model-qualifiers/\">\n",
      "    <rdf:Description rdf:about=\"#metaid_0000036\">\n",
      "      <bqbiol:is>\n",
      "        <rdf:Bag>\n",
      "          <rdf:li rdf:resource=\"http://identifiers.org/chebi/CHEBI:59789\"/>\n",
      "        </rdf:Bag>\n",
      "      </bqbiol:is>\n",
      "    </rdf:Description>\n",
      "    <rdf:Description rdf:about=\"#metaid_0000036\">\n",
      "      <bqbiol:is>\n",
      "        <rdf:Bag>\n",
      "          <rdf:li rdf:resource=\"http://identifiers.org/chebi/CHEBI:59789\"/>\n",
      "          <bqbiol:hasProperty>\n",
      "            <rdf:Bag>\n",
      "              <rdf:li rdf:resource=\"http://reproduciblebiomodels.org/amas/v1/by_name/1.00\"/>\n",
      "            </rdf:Bag>\n",
      "          </bqbiol:hasProperty>\n",
      "        </rdf:Bag>\n",
      "      </bqbiol:is>\n",
      "    </rdf:Description>\n",
      "  </rdf:RDF>\n",
      "</annotation>\n"
     ]
    }
   ],
   "source": [
    "print(one_element.getAnnotationString())"
   ]
  },
  {
   "cell_type": "code",
   "execution_count": 19,
   "id": "9a430f76-e516-47a3-b1f4-6366e2d878b4",
   "metadata": {},
   "outputs": [],
   "source": [
    "ONE_CHEBI = 'CHEBI:15414'\n",
    "ONE_CHEBI_SCORE = 1.00\n",
    "TWO_CHEBI = 'CHEBI:59789'\n",
    "TWO_CHEBI_SCORE = 1.00\n",
    "CANDIDATES = [(ONE_CHEBI, ONE_CHEBI_SCORE),\n",
    "              (TWO_CHEBI, TWO_CHEBI_SCORE)]"
   ]
  },
  {
   "cell_type": "code",
   "execution_count": 21,
   "id": "35e267f1-5196-4606-9f0b-fc91cf2de8ae",
   "metadata": {},
   "outputs": [
    {
     "name": "stdout",
     "output_type": "stream",
     "text": [
      "<annotation>\n",
      "  <rdf:RDF xmlns:rdf=\"http://www.w3.org/1999/02/22-rdf-syntax-ns#\" xmlns:dcterms=\"http://purl.org/dc/terms/\" xmlns:vcard4=\"http://www.w3.org/2006/vcard/ns#\" xmlns:bqbiol=\"http://biomodels.net/biology-qualifiers/\" xmlns:bqmodel=\"http://biomodels.net/model-qualifiers/\">\n",
      "    <rdf:Description rdf:about=\"#metaid_0000036\">\n",
      "      <bqbiol:is>\n",
      "        <rdf:Bag>\n",
      "          <rdf:li rdf:resource=\"http://identifiers.org/chebi/CHEBI:15414\"/>\n",
      "          <bqbiol:hasProperty>\n",
      "            <rdf:Bag>\n",
      "              <rdf:li rdf:resource=\"http://reproduciblebiomodels.org/amas/v1/by_name/1.00\"/>\n",
      "            </rdf:Bag>\n",
      "          </bqbiol:hasProperty>\n",
      "          <rdf:li rdf:resource=\"http://identifiers.org/chebi/CHEBI:59789\"/>\n",
      "          <bqbiol:hasProperty>\n",
      "            <rdf:Bag>\n",
      "              <rdf:li rdf:resource=\"http://reproduciblebiomodels.org/amas/v1/by_name/1.00\"/>\n",
      "            </rdf:Bag>\n",
      "          </bqbiol:hasProperty>\n",
      "        </rdf:Bag>\n",
      "      </bqbiol:is>\n",
      "    </rdf:Description>\n",
      "  </rdf:RDF>\n",
      "</annotation>\n"
     ]
    }
   ],
   "source": [
    "print(maker.getAnnotationString(CANDIDATES, meta_id='metaid_00001'))"
   ]
  },
  {
   "cell_type": "code",
   "execution_count": null,
   "id": "af54ea0c-c6e3-4bce-93e1-aebd62339f34",
   "metadata": {},
   "outputs": [],
   "source": []
  },
  {
   "cell_type": "code",
   "execution_count": 131,
   "id": "3d49630c-d8ae-4143-8232-96a56b3d13f3",
   "metadata": {},
   "outputs": [],
   "source": [
    "ELEMENT_TYPES = ['speies', 'reaction']\n",
    "current_type = None\n",
    "just_displayed = None\n",
    "selection = {val:dict() for val in ELEMENT_TYPES}\n",
    "\n",
    "# def filterDataFrameByThreshold(df, min_score):\n",
    "#   \"\"\"\n",
    "#   Filter dataframe by min_score (threshold),\n",
    "#   and returns the result;\n",
    "  \n",
    "#   Note that if no item meets the threshold,\n",
    "#   it'll still return an empty dataframe. \n",
    "\n",
    "#   Paramters\n",
    "#   ---------\n",
    "#   df: pd.DataFrame\n",
    "  \n",
    "#   min_score: float (0.0-1.0)\n",
    "  \n",
    "#   Returns\n",
    "#   -------\n",
    "#   pd.DataFrame  \n",
    "#   \"\"\"\n",
    "#   scores = df['match score']\n",
    "#   filt_idx = scores[scores>=min_score].index\n",
    "#   filt_df = df.loc[filt_idx, :]\n",
    "#   return filt_df\n",
    " \n",
    "# def recommendSpecies(ids, min_score=0.0):\n",
    "#   \"\"\"\n",
    "#   Recommend one or more ids of species\n",
    "#   and returns a single dataframe or\n",
    "#   a list of dataframes.\n",
    "  \n",
    "#   Parameters\n",
    "#   ----------\n",
    "#   ids: str/list-str\n",
    "  \n",
    "#   min_score: threshold for cutoff\n",
    "#       If None given, returns all values; \n",
    "\n",
    "#   Returns\n",
    "#   -------\n",
    "#   None\n",
    "#   \"\"\"\n",
    "#   updateCurrentElementType('species')\n",
    "  \n",
    "#   if isinstance(ids, str):\n",
    "#     species_list = [ids]\n",
    "#   else:\n",
    "#     species_list = ids\n",
    "#   res = recom.getSpeciesListRecommendation(pred_ids=species_list,\n",
    "#                                            get_df=True,\n",
    "#                                            threshold=min_score)\n",
    "#   res_dict = {val:res[idx] for idx, val in enumerate(species_list)}\n",
    "#   for k in res_dict.keys():\n",
    "#     filt_df = filterDataFrameByThreshold(res_dict[k], min_score)\n",
    "#     print(recom.getMarkdownFromRecommendation(filt_df)+\"\\n\")\n",
    "#     # print(\"\\n\")\n",
    "#   updateJustDisplayed(res_dict)\n",
    "#   return res_dict\n",
    "\n",
    "# def recommendReaction(ids, min_score=0.0):\n",
    "#   \"\"\"\n",
    "#   Recommend one or more ids of species\n",
    "#   and returns a single dataframe or\n",
    "#   a list of dataframes.\n",
    "  \n",
    "#   Parameters\n",
    "#   ----------\n",
    "#   ids: str/list-str\n",
    "  \n",
    "#   min_score: threshold for cutoff\n",
    "#       If None given, returns all values; \n",
    "\n",
    "#   Returns\n",
    "#   -------\n",
    "#   None\n",
    "#   \"\"\"\n",
    "#   updateCurrentElementType('reaction')\n",
    "#   if isinstance(ids, str):\n",
    "#     reaction_list = [ids]\n",
    "#   else:\n",
    "#     reaction_list = ids\n",
    "#   res = recom.getReactionListRecommendation(pred_ids=reaction_list,\n",
    "#                                             get_df=True)\n",
    "#   res_dict = {val:res[idx] for idx, val in enumerate(reaction_list)}\n",
    "#   for k in res_dict.keys():\n",
    "#     filt_df = filterDataFrameByThreshold(res_dict[k], min_score)\n",
    "#     print(recom.getMarkdownFromRecommendation(filt_df)+\"\\n\")\n",
    "#     # print(\"\\n\")\n",
    "#   updateJustDisplayed(res)\n",
    "#   return res_dict\n",
    "\n",
    "# def selectAnnotation(choice=None):\n",
    "#   \"\"\"\n",
    "#   Based on the previous recommendation,\n",
    "#   determine the annotations to store.\n",
    "#   If 'all' given in choice[1],\n",
    "#   select all.\n",
    "  \n",
    "#   Parameters\n",
    "#   ----------\n",
    "#   choice: tuple/list-tuple (str, int)\n",
    "#       [(element ID, choice number)]\n",
    "  \n",
    "#   df: pandas.DataFrame\n",
    "#   \"\"\"\n",
    "#   # assumes self.just_displayced is {id: pd.dataframe}\n",
    "#   sel_id = choice[0]\n",
    "#   sel_idx = choice[1]\n",
    "#   df = just_displayed[choice[0]]\n",
    "#   if sel_idx == 'all':\n",
    "#     result = df\n",
    "#   else:\n",
    "#     if isinstance(sel_idx, int):\n",
    "#       chosen = [sel_idx]\n",
    "#     else:\n",
    "#       chosen = sel_idx\n",
    "#     result = df.loc[chosen, :]\n",
    "#   # Now, update the selected annotation\n",
    "#   updateSelection(sel_id, result)\n",
    "#   print(\"Selection updated.\")\n",
    "#   return {sel_id: result}\n",
    "\n",
    "# def updateCurrentElementType(element_type):\n",
    "#   \"\"\"\n",
    "#   Updating self.current_type\n",
    "#   indicator; updated when\n",
    "#   recommendSpecies or recommendReaction \n",
    "#   is called; \n",
    "  \n",
    "#   Parameters\n",
    "#   ----------\n",
    "#   element_type: str\n",
    "#       Either 'species' or 'reaction'\n",
    "#   \"\"\"\n",
    "#   current_type = element_type\n",
    "\n",
    "# def updateJustDisplayed(df_dict):\n",
    "#   \"\"\"\n",
    "#   Used it every time\n",
    "#   result is shown to user.\n",
    "#   called by \n",
    "#   /recommendSpecies/recommendReaction/\n",
    "#   /selectAnnotation/\n",
    "#   For now, always in the format as\n",
    "#   pandas.DataFrame. \n",
    "\n",
    "#   Parameters\n",
    "#   ----------\n",
    "#   df_dict: dict()\n",
    "#       Dictionary of pandas.DataFrame\n",
    "  \n",
    "#   Returns\n",
    "#   -------\n",
    "#   None\n",
    "#   \"\"\"\n",
    "#   just_displayed = df_dict\n",
    "\n",
    "# def updateSelection(sel_id, sel_df):\n",
    "#   \"\"\"\n",
    "#   Direct result of selectAnnotation;\n",
    "#   filtered or non-filtered\n",
    "#   dictionary of dataframes.\n",
    "  \n",
    "#   By calling SaveFile,\n",
    "#   All selected annotations will be\n",
    "#   saved as an .xml file. \n",
    "  \n",
    "#   Parameters\n",
    "#   ----------\n",
    "#   sel_id: str\n",
    "  \n",
    "#   sel_df: pandas.DataFrame\n",
    "#   \"\"\"\n",
    "#   selection[current_type].update({sel_id: sel_df})\n",
    "\n",
    "    \n",
    "# def displaySelection():\n",
    "#   \"\"\"\n",
    "#   To assist user, \n",
    "#   display all selected\n",
    "#   annotations from\n",
    "#   self.selection.\n",
    "#   \"\"\"\n",
    "#   for one_type in ELEMENT_TYPES:\n",
    "#     type_selection = selection[one_type]\n",
    "#     for k in type_selection.keys():\n",
    "#       print(recom.getMarkdownFromRecommendation(type_selection[k])+\"\\n\")\n",
    "    \n",
    "    \n",
    "# def SaveFile(fpath=\"updated_model.xml\", choice=None):\n",
    "#   \"\"\"\n",
    "#   Update and save model;\n",
    "#   How to distinguish species vs. reactions? \n",
    "#   by using self.current_element_type\n",
    "  \n",
    "#   Call annotation maker;\n",
    "  \n",
    "#   Parameters\n",
    "#   ----------\n",
    "#   filepath: str\n",
    "  \n",
    "#   choice: list-str/None\n",
    "#       If list of ID given, \n",
    "#       only annotations of the provided IDs \n",
    "#       will be saved.\n",
    "#       If None, all will be saved;\n",
    "#   \"\"\"\n",
    "#   model = recom.sbml_document.getModel()\n",
    "#   ELEMENT_FUNC = {'species': model.getSpecies,\n",
    "#                  'reaction': model.getReaction}\n",
    "#   for one_type in recommender.ELEMENT_TYPES:\n",
    "#     type_selection = recom.selection[one_type]\n",
    "#     maker = am.AnnotationMaker(one_type)\n",
    "#     if choice: \n",
    "#       sel2save = {val:type_selection[val] for val in choice if val in type_selection.keys()}\n",
    "#     else:\n",
    "#       sel2save = type_selection\n",
    "#     for one_k in sel2save.keys():\n",
    "#       one_element = ELEMENT_FUNC[one_type](one_k)\n",
    "#       meta_id = one_element.meta_id\n",
    "#       df = sel2save[one_k]\n",
    "#       upd_tuples = list(zip(df['annotation'], df['match score']))\n",
    "#       annotation_str = maker.getAnnotationString(upd_tuples, meta_id)\n",
    "#       one_element.setAnnotation(annotation_str)\n",
    "#       print(\"elemen %s, annotation updated.\" % one_k)  \n",
    "#   # finally, write the sbml document \n",
    "#   libsbml.writeSBMLToFile(recom.sbml_document, fpath)\n"
   ]
  },
  {
   "cell_type": "code",
   "execution_count": 35,
   "id": "9f1b986b-7142-4e0a-8b84-206c59aedcda",
   "metadata": {},
   "outputs": [
    {
     "ename": "NameError",
     "evalue": "name 'reader' is not defined",
     "output_type": "error",
     "traceback": [
      "\u001b[0;31m---------------------------------------------------------------------------\u001b[0m",
      "\u001b[0;31mNameError\u001b[0m                                 Traceback (most recent call last)",
      "Cell \u001b[0;32mIn[35], line 1\u001b[0m\n\u001b[0;32m----> 1\u001b[0m doc \u001b[38;5;241m=\u001b[39m \u001b[43mreader\u001b[49m\u001b[38;5;241m.\u001b[39mreadSBML(\u001b[38;5;124m\"\u001b[39m\u001b[38;5;124mupdated_model.xml\u001b[39m\u001b[38;5;124m\"\u001b[39m)\n\u001b[1;32m      2\u001b[0m m \u001b[38;5;241m=\u001b[39m doc\u001b[38;5;241m.\u001b[39mgetModel()\n\u001b[1;32m      3\u001b[0m \u001b[38;5;28mprint\u001b[39m(m\u001b[38;5;241m.\u001b[39mgetSpecies(one_s\u001b[38;5;241m.\u001b[39mgetId())\u001b[38;5;241m.\u001b[39mgetAnnotationString())\n",
      "\u001b[0;31mNameError\u001b[0m: name 'reader' is not defined"
     ]
    }
   ],
   "source": [
    "doc = reader.readSBML(\"updated_model.xml\")\n",
    "m = doc.getModel()\n",
    "print(m.getSpecies(one_s.getId()).getAnnotationString())"
   ]
  },
  {
   "cell_type": "code",
   "execution_count": 32,
   "id": "aa8166bd-9f7c-4995-9b16-ae62b696a41d",
   "metadata": {},
   "outputs": [
    {
     "name": "stdout",
     "output_type": "stream",
     "text": [
      "                  annotation  match score                               label\n",
      "a (cred. 0.409)                                                              \n",
      "1                CHEBI:13193          1.0                   hydrogen acceptor\n",
      "2                CHEBI:28515          1.0                      acetoacetamide\n",
      "3                CHEBI:62885          1.0                   adenosine residue\n",
      "4                CHEBI:15843          1.0                    arachidonic acid\n",
      "5                CHEBI:46217          1.0                   L-alanine residue\n",
      "6                CHEBI:50306          1.0  adenosine 5'-monophosphate residue\n",
      "7                CHEBI:16449          1.0                             alanine\n",
      "8                CHEBI:73313          1.0                         Ala-Ala-Ala\n",
      "9                CHEBI:72816          1.0                  L-alanyl-L-alanine\n",
      "10               CHEBI:16708          1.0                             adenine\n",
      "11               CHEBI:16977          1.0                           L-alanine\n"
     ]
    }
   ],
   "source": [
    "print(recom.getSpeciesRecommendation(pred_str='a', get_df=True))"
   ]
  },
  {
   "cell_type": "code",
   "execution_count": 34,
   "id": "e6cd83df-f392-4fd3-b965-48bcd15aa160",
   "metadata": {},
   "outputs": [
    {
     "name": "stdout",
     "output_type": "stream",
     "text": [
      "                        annotation  match score              label\n",
      "alanine (cred. 0.943)                                             \n",
      "1                      CHEBI:16449          1.0            alanine\n",
      "2                      CHEBI:46217          1.0  L-alanine residue\n",
      "3                      CHEBI:16977          1.0          L-alanine\n"
     ]
    }
   ],
   "source": [
    "print(recom.getSpeciesRecommendation(pred_str='alanine', get_df=True))"
   ]
  },
  {
   "cell_type": "code",
   "execution_count": null,
   "id": "6bbb4d4f-b9c9-4166-9a8c-fb678302b88f",
   "metadata": {},
   "outputs": [],
   "source": []
  },
  {
   "cell_type": "code",
   "execution_count": null,
   "id": "c52a18d5-84a2-4ef7-93f7-5f670fcc86d9",
   "metadata": {},
   "outputs": [],
   "source": []
  },
  {
   "cell_type": "code",
   "execution_count": 117,
   "id": "99dfc086-ed54-4fae-ad83-91343528a148",
   "metadata": {},
   "outputs": [
    {
     "data": {
      "text/html": [
       "<div>\n",
       "<style scoped>\n",
       "    .dataframe tbody tr th:only-of-type {\n",
       "        vertical-align: middle;\n",
       "    }\n",
       "\n",
       "    .dataframe tbody tr th {\n",
       "        vertical-align: top;\n",
       "    }\n",
       "\n",
       "    .dataframe thead th {\n",
       "        text-align: right;\n",
       "    }\n",
       "</style>\n",
       "<table border=\"1\" class=\"dataframe\">\n",
       "  <thead>\n",
       "    <tr style=\"text-align: right;\">\n",
       "      <th></th>\n",
       "      <th>annotation</th>\n",
       "      <th>match_score</th>\n",
       "    </tr>\n",
       "    <tr>\n",
       "      <th>ID: SAM</th>\n",
       "      <th></th>\n",
       "      <th></th>\n",
       "    </tr>\n",
       "  </thead>\n",
       "  <tbody>\n",
       "    <tr>\n",
       "      <th>1</th>\n",
       "      <td>CHEBI:59789</td>\n",
       "      <td>1.0</td>\n",
       "    </tr>\n",
       "  </tbody>\n",
       "</table>\n",
       "</div>"
      ],
      "text/plain": [
       "          annotation  match_score\n",
       "ID: SAM                          \n",
       "1        CHEBI:59789          1.0"
      ]
     },
     "execution_count": 117,
     "metadata": {},
     "output_type": "execute_result"
    }
   ],
   "source": [
    "df.loc[[1], ['annotation', 'match_score']]"
   ]
  },
  {
   "cell_type": "code",
   "execution_count": 62,
   "id": "8d41baf7-73d7-4550-b035-938ba74957fb",
   "metadata": {},
   "outputs": [
    {
     "data": {
      "text/html": [
       "<div>\n",
       "<style scoped>\n",
       "    .dataframe tbody tr th:only-of-type {\n",
       "        vertical-align: middle;\n",
       "    }\n",
       "\n",
       "    .dataframe tbody tr th {\n",
       "        vertical-align: top;\n",
       "    }\n",
       "\n",
       "    .dataframe thead th {\n",
       "        text-align: right;\n",
       "    }\n",
       "</style>\n",
       "<table border=\"1\" class=\"dataframe\">\n",
       "  <thead>\n",
       "    <tr style=\"text-align: right;\">\n",
       "      <th></th>\n",
       "      <th>annotation</th>\n",
       "      <th>match_score</th>\n",
       "      <th>url</th>\n",
       "      <th>label</th>\n",
       "    </tr>\n",
       "    <tr>\n",
       "      <th>ID: SAM</th>\n",
       "      <th></th>\n",
       "      <th></th>\n",
       "      <th></th>\n",
       "      <th></th>\n",
       "    </tr>\n",
       "  </thead>\n",
       "  <tbody>\n",
       "    <tr>\n",
       "      <th>1</th>\n",
       "      <td>CHEBI:59789</td>\n",
       "      <td>1.0</td>\n",
       "      <td>https://www.ebi.ac.uk/chebi/searchId.do?chebiI...</td>\n",
       "      <td>S-adenosyl-L-methionine zwitterion</td>\n",
       "    </tr>\n",
       "    <tr>\n",
       "      <th>2</th>\n",
       "      <td>CHEBI:15414</td>\n",
       "      <td>1.0</td>\n",
       "      <td>https://www.ebi.ac.uk/chebi/searchId.do?chebiI...</td>\n",
       "      <td>S-adenosyl-L-methionine</td>\n",
       "    </tr>\n",
       "  </tbody>\n",
       "</table>\n",
       "</div>"
      ],
      "text/plain": [
       "          annotation  match_score  \\\n",
       "ID: SAM                             \n",
       "1        CHEBI:59789          1.0   \n",
       "2        CHEBI:15414          1.0   \n",
       "\n",
       "                                                       url  \\\n",
       "ID: SAM                                                      \n",
       "1        https://www.ebi.ac.uk/chebi/searchId.do?chebiI...   \n",
       "2        https://www.ebi.ac.uk/chebi/searchId.do?chebiI...   \n",
       "\n",
       "                                      label  \n",
       "ID: SAM                                      \n",
       "1        S-adenosyl-L-methionine zwitterion  \n",
       "2                   S-adenosyl-L-methionine  "
      ]
     },
     "execution_count": 62,
     "metadata": {},
     "output_type": "execute_result"
    }
   ],
   "source": [
    "one_dict = {'SAM': df}\n",
    "one_dict['SAM']"
   ]
  },
  {
   "cell_type": "code",
   "execution_count": 146,
   "id": "9c8de3e5-7455-4706-80fd-ab1990308e16",
   "metadata": {},
   "outputs": [
    {
     "data": {
      "text/plain": [
       "{'speies': None, 'reaction': None}"
      ]
     },
     "execution_count": 146,
     "metadata": {},
     "output_type": "execute_result"
    }
   ],
   "source": [
    "dict.fromkeys(['speies', 'reaction'])"
   ]
  },
  {
   "cell_type": "code",
   "execution_count": 150,
   "id": "002e4553-a768-43c7-8bfc-71aa722da679",
   "metadata": {},
   "outputs": [
    {
     "data": {
      "text/html": [
       "<div>\n",
       "<style scoped>\n",
       "    .dataframe tbody tr th:only-of-type {\n",
       "        vertical-align: middle;\n",
       "    }\n",
       "\n",
       "    .dataframe tbody tr th {\n",
       "        vertical-align: top;\n",
       "    }\n",
       "\n",
       "    .dataframe thead th {\n",
       "        text-align: right;\n",
       "    }\n",
       "</style>\n",
       "<table border=\"1\" class=\"dataframe\">\n",
       "  <thead>\n",
       "    <tr style=\"text-align: right;\">\n",
       "      <th></th>\n",
       "      <th>annotation</th>\n",
       "      <th>match_score</th>\n",
       "      <th>label</th>\n",
       "      <th>url</th>\n",
       "    </tr>\n",
       "    <tr>\n",
       "      <th>R_PFK (credibility: 0.987)</th>\n",
       "      <th></th>\n",
       "      <th></th>\n",
       "      <th></th>\n",
       "      <th></th>\n",
       "    </tr>\n",
       "  </thead>\n",
       "  <tbody>\n",
       "    <tr>\n",
       "      <th>1</th>\n",
       "      <td>RHEA:12420</td>\n",
       "      <td>0.6</td>\n",
       "      <td>tagatose-6-phosphate kinase activity</td>\n",
       "      <td>https://www.rhea-db.org/rhea/12420</td>\n",
       "    </tr>\n",
       "    <tr>\n",
       "      <th>2</th>\n",
       "      <td>RHEA:13377</td>\n",
       "      <td>0.6</td>\n",
       "      <td>phosphoglucokinase activity</td>\n",
       "      <td>https://www.rhea-db.org/rhea/13377</td>\n",
       "    </tr>\n",
       "  </tbody>\n",
       "</table>\n",
       "</div>"
      ],
      "text/plain": [
       "                            annotation  match_score  \\\n",
       "R_PFK (credibility: 0.987)                            \n",
       "1                           RHEA:12420          0.6   \n",
       "2                           RHEA:13377          0.6   \n",
       "\n",
       "                                                           label  \\\n",
       "R_PFK (credibility: 0.987)                                         \n",
       "1                           tagatose-6-phosphate kinase activity   \n",
       "2                                    phosphoglucokinase activity   \n",
       "\n",
       "                                                           url  \n",
       "R_PFK (credibility: 0.987)                                      \n",
       "1                           https://www.rhea-db.org/rhea/12420  \n",
       "2                           https://www.rhea-db.org/rhea/13377  "
      ]
     },
     "execution_count": 150,
     "metadata": {},
     "output_type": "execute_result"
    }
   ],
   "source": [
    "df.index.name = 'R_PFK (credibility: 0.987)'\n",
    "df"
   ]
  },
  {
   "cell_type": "code",
   "execution_count": null,
   "id": "96c6939a-0439-4e54-9b78-368f371f0f8a",
   "metadata": {},
   "outputs": [],
   "source": []
  }
 ],
 "metadata": {
  "kernelspec": {
   "display_name": "Python 3 (ipykernel)",
   "language": "python",
   "name": "python3"
  },
  "language_info": {
   "codemirror_mode": {
    "name": "ipython",
    "version": 3
   },
   "file_extension": ".py",
   "mimetype": "text/x-python",
   "name": "python",
   "nbconvert_exporter": "python",
   "pygments_lexer": "ipython3",
   "version": "3.9.15"
  }
 },
 "nbformat": 4,
 "nbformat_minor": 5
}
