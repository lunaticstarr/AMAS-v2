{
 "cells": [
  {
   "cell_type": "code",
   "execution_count": 1,
   "id": "35e882dc-3e9a-4498-9a3b-306c74a1bf0c",
   "metadata": {},
   "outputs": [],
   "source": [
    "# update command line tool -> \n",
    "# (1) csv save (with more columns)\n",
    "# (2) csv to model file update? (new script)\n",
    "# (3) augment annotation?\n",
    "import collections\n",
    "import compress_pickle\n",
    "import itertools\n",
    "import libsbml\n",
    "import numpy as np\n",
    "import os\n",
    "import pickle\n",
    "import pandas as pd\n",
    "import sys\n",
    "import time\n",
    "import matplotlib.pyplot as plt\n",
    "%matplotlib inline  \n",
    "\n",
    "BIOMD_12 = 'BIOMD0000000012.xml'\n",
    "BASE_DIR = '/Users/woosubshin/Desktop/AutomateAnnotation/'\n",
    "DATA_DIR = os.path.join(BASE_DIR, \"DATA\")\n",
    "ALGO_DIR = os.path.join(DATA_DIR, \"algo\")\n",
    "CHEBI_DIR = os.path.join(DATA_DIR, \"chebi\")\n",
    "RHEA_DIR = os.path.join(DATA_DIR, \"rhea\")\n",
    "BIOMODEL_DIR = os.path.join(DATA_DIR, \"biomodels/curated_biomodels_31mar2021\")\n",
    "BIGG_DIR = '/Users/woosubshin/Desktop/AutomateAnnotation/DATA/bigg'\n",
    "ecoli_fpath = os.path.join(BIGG_DIR, \"e_coli_core.xml\")\n",
    "\n",
    "PROJ_DIR = os.path.join(os.getcwd(), os.pardir)\n",
    "AMAS_DIR = os.path.join(PROJ_DIR, \"AMAS\")\n",
    "sys.path.append(PROJ_DIR)\n",
    "\n",
    "SUPPL_DIR = os.path.join(PROJ_DIR, os.pardir, \"AMAS_suppl\")\n",
    "ACCURACY_DIR = os.path.join(SUPPL_DIR, \"data_for_credibility\")\n",
    "RESULT_DIR = '/Users/woosubshin/Desktop/AutomateAnnotation/AMAS_suppl/result_files'\n",
    "\n",
    "from AMAS import annotation_maker as am\n",
    "from AMAS import species_annotation as sa\n",
    "from AMAS import reaction_annotation as ra\n",
    "from AMAS import recommender\n",
    "from AMAS import constants as cn\n",
    "from AMAS import iterator as it\n",
    "from AMAS import tools"
   ]
  },
  {
   "cell_type": "code",
   "execution_count": 2,
   "id": "563b8d85-39c5-4388-8174-ff3bc1e50b3e",
   "metadata": {},
   "outputs": [],
   "source": [
    "E_COLI_PATH = '/Users/woosubshin/Desktop/AutomateAnnotation/AMAS/AMAS/../tests/e_coli_core.xml'\n",
    "BIOMD_190_PATH = os.path.join(cn.TEST_DIR, 'BIOMD0000000190.xml')"
   ]
  },
  {
   "cell_type": "code",
   "execution_count": 22,
   "id": "7e13bfaa-ade8-4511-a238-c043f8ef67a7",
   "metadata": {},
   "outputs": [],
   "source": [
    "recom = recommender.Recommender(libsbml_fpath=BIOMD_190_PATH)"
   ]
  },
  {
   "cell_type": "code",
   "execution_count": 23,
   "id": "dad4908b-65ec-4674-ad5a-ede92663d4a5",
   "metadata": {},
   "outputs": [
    {
     "name": "stdout",
     "output_type": "stream",
     "text": [
      "['ODC', 'SAMdc', 'SSAT_for_S', 'SSAT_for_D', 'PAO_for_aD', 'PAO_for_aS', 'SpdS', 'SpmS', 'MAT', 'VCoA', 'VacCoA', 'P_efflux', 'aD_efflux']\n"
     ]
    }
   ],
   "source": [
    "print(recom.getReactionIDs())"
   ]
  },
  {
   "cell_type": "code",
   "execution_count": 71,
   "id": "e467c012-4f1e-4774-b71e-cf895962798f",
   "metadata": {},
   "outputs": [
    {
     "ename": "AttributeError",
     "evalue": "'Series' object has no attribute 'lower'",
     "output_type": "error",
     "traceback": [
      "\u001b[0;31m---------------------------------------------------------------------------\u001b[0m",
      "\u001b[0;31mAttributeError\u001b[0m                            Traceback (most recent call last)",
      "Cell \u001b[0;32mIn[71], line 2\u001b[0m\n\u001b[1;32m      1\u001b[0m rec_upd \u001b[38;5;241m=\u001b[39m pd\u001b[38;5;241m.\u001b[39mread_csv(\u001b[38;5;124m'\u001b[39m\u001b[38;5;124mspecies_rec.csv\u001b[39m\u001b[38;5;124m'\u001b[39m)\n\u001b[0;32m----> 2\u001b[0m chosen \u001b[38;5;241m=\u001b[39m rec_upd[(\u001b[43mrec_upd\u001b[49m\u001b[43m[\u001b[49m\u001b[38;5;124;43m'\u001b[39;49m\u001b[38;5;124;43mUPDATE ANNOTATION\u001b[39;49m\u001b[38;5;124;43m'\u001b[39;49m\u001b[43m]\u001b[49m\u001b[38;5;241;43m.\u001b[39;49m\u001b[43mlower\u001b[49m()\u001b[38;5;241m==\u001b[39m\u001b[38;5;124m'\u001b[39m\u001b[38;5;124madd\u001b[39m\u001b[38;5;124m'\u001b[39m) \u001b[38;5;241m|\u001b[39m\\\n\u001b[1;32m      3\u001b[0m                  (rec_upd[\u001b[38;5;124m'\u001b[39m\u001b[38;5;124mUPDATE ANNOTATION\u001b[39m\u001b[38;5;124m'\u001b[39m]\u001b[38;5;241m==\u001b[39m\u001b[38;5;124m'\u001b[39m\u001b[38;5;124mdelete\u001b[39m\u001b[38;5;124m'\u001b[39m)]\n\u001b[1;32m      4\u001b[0m chosen\n",
      "File \u001b[0;32m~/miniconda3/envs/amas_dev/lib/python3.11/site-packages/pandas/core/generic.py:5902\u001b[0m, in \u001b[0;36mNDFrame.__getattr__\u001b[0;34m(self, name)\u001b[0m\n\u001b[1;32m   5895\u001b[0m \u001b[38;5;28;01mif\u001b[39;00m (\n\u001b[1;32m   5896\u001b[0m     name \u001b[38;5;129;01mnot\u001b[39;00m \u001b[38;5;129;01min\u001b[39;00m \u001b[38;5;28mself\u001b[39m\u001b[38;5;241m.\u001b[39m_internal_names_set\n\u001b[1;32m   5897\u001b[0m     \u001b[38;5;129;01mand\u001b[39;00m name \u001b[38;5;129;01mnot\u001b[39;00m \u001b[38;5;129;01min\u001b[39;00m \u001b[38;5;28mself\u001b[39m\u001b[38;5;241m.\u001b[39m_metadata\n\u001b[1;32m   5898\u001b[0m     \u001b[38;5;129;01mand\u001b[39;00m name \u001b[38;5;129;01mnot\u001b[39;00m \u001b[38;5;129;01min\u001b[39;00m \u001b[38;5;28mself\u001b[39m\u001b[38;5;241m.\u001b[39m_accessors\n\u001b[1;32m   5899\u001b[0m     \u001b[38;5;129;01mand\u001b[39;00m \u001b[38;5;28mself\u001b[39m\u001b[38;5;241m.\u001b[39m_info_axis\u001b[38;5;241m.\u001b[39m_can_hold_identifiers_and_holds_name(name)\n\u001b[1;32m   5900\u001b[0m ):\n\u001b[1;32m   5901\u001b[0m     \u001b[38;5;28;01mreturn\u001b[39;00m \u001b[38;5;28mself\u001b[39m[name]\n\u001b[0;32m-> 5902\u001b[0m \u001b[38;5;28;01mreturn\u001b[39;00m \u001b[38;5;28;43mobject\u001b[39;49m\u001b[38;5;241;43m.\u001b[39;49m\u001b[38;5;21;43m__getattribute__\u001b[39;49m\u001b[43m(\u001b[49m\u001b[38;5;28;43mself\u001b[39;49m\u001b[43m,\u001b[49m\u001b[43m \u001b[49m\u001b[43mname\u001b[49m\u001b[43m)\u001b[49m\n",
      "\u001b[0;31mAttributeError\u001b[0m: 'Series' object has no attribute 'lower'"
     ]
    }
   ],
   "source": [
    "rec_upd = pd.read_csv('species_rec.csv')\n",
    "chosen = rec_upd[(rec_upd['UPDATE ANNOTATION']=='add') |\\\n",
    "                 (rec_upd['UPDATE ANNOTATION']=='delete')]\n",
    "chosen"
   ]
  },
  {
   "cell_type": "code",
   "execution_count": 15,
   "id": "16f08b06-dd37-400d-8df3-e5cdb5c2273e",
   "metadata": {},
   "outputs": [
    {
     "data": {
      "text/html": [
       "<div>\n",
       "<style scoped>\n",
       "    .dataframe tbody tr th:only-of-type {\n",
       "        vertical-align: middle;\n",
       "    }\n",
       "\n",
       "    .dataframe tbody tr th {\n",
       "        vertical-align: top;\n",
       "    }\n",
       "\n",
       "    .dataframe thead th {\n",
       "        text-align: right;\n",
       "    }\n",
       "</style>\n",
       "<table border=\"1\" class=\"dataframe\">\n",
       "  <thead>\n",
       "    <tr style=\"text-align: right;\">\n",
       "      <th></th>\n",
       "      <th>file</th>\n",
       "      <th>type</th>\n",
       "      <th>id</th>\n",
       "      <th>display name</th>\n",
       "      <th>meta id</th>\n",
       "      <th>annotation</th>\n",
       "      <th>annotation label</th>\n",
       "      <th>match score</th>\n",
       "      <th>existing</th>\n",
       "      <th>UPDATE ANNOTATION</th>\n",
       "    </tr>\n",
       "  </thead>\n",
       "  <tbody>\n",
       "    <tr>\n",
       "      <th>0</th>\n",
       "      <td>BIOMD0000000190.xml</td>\n",
       "      <td>species</td>\n",
       "      <td>SAM</td>\n",
       "      <td>S-adenosyl-L-methionine</td>\n",
       "      <td>metaid_0000036</td>\n",
       "      <td>CHEBI:15414</td>\n",
       "      <td>S-adenosyl-L-methionine</td>\n",
       "      <td>1.0</td>\n",
       "      <td>1</td>\n",
       "      <td>delete</td>\n",
       "    </tr>\n",
       "    <tr>\n",
       "      <th>1</th>\n",
       "      <td>BIOMD0000000190.xml</td>\n",
       "      <td>species</td>\n",
       "      <td>SAM</td>\n",
       "      <td>S-adenosyl-L-methionine</td>\n",
       "      <td>metaid_0000036</td>\n",
       "      <td>CHEBI:59789</td>\n",
       "      <td>S-adenosyl-L-methionine zwitterion</td>\n",
       "      <td>1.0</td>\n",
       "      <td>0</td>\n",
       "      <td>add</td>\n",
       "    </tr>\n",
       "    <tr>\n",
       "      <th>2</th>\n",
       "      <td>BIOMD0000000190.xml</td>\n",
       "      <td>species</td>\n",
       "      <td>A</td>\n",
       "      <td>S-adenosylmethioninamine</td>\n",
       "      <td>metaid_0000037</td>\n",
       "      <td>CHEBI:15625</td>\n",
       "      <td>S-adenosylmethioninamine</td>\n",
       "      <td>1.0</td>\n",
       "      <td>1</td>\n",
       "      <td>delete</td>\n",
       "    </tr>\n",
       "    <tr>\n",
       "      <th>5</th>\n",
       "      <td>BIOMD0000000190.xml</td>\n",
       "      <td>species</td>\n",
       "      <td>S</td>\n",
       "      <td>Spermine</td>\n",
       "      <td>metaid_0000039</td>\n",
       "      <td>CHEBI:15746</td>\n",
       "      <td>spermine</td>\n",
       "      <td>1.0</td>\n",
       "      <td>1</td>\n",
       "      <td>delete</td>\n",
       "    </tr>\n",
       "    <tr>\n",
       "      <th>6</th>\n",
       "      <td>BIOMD0000000190.xml</td>\n",
       "      <td>species</td>\n",
       "      <td>S</td>\n",
       "      <td>Spermine</td>\n",
       "      <td>metaid_0000039</td>\n",
       "      <td>CHEBI:45725</td>\n",
       "      <td>spermine(4+)</td>\n",
       "      <td>1.0</td>\n",
       "      <td>0</td>\n",
       "      <td>add</td>\n",
       "    </tr>\n",
       "    <tr>\n",
       "      <th>23</th>\n",
       "      <td>BIOMD0000000190.xml</td>\n",
       "      <td>species</td>\n",
       "      <td>CoA</td>\n",
       "      <td>CoA</td>\n",
       "      <td>metaid_0000046</td>\n",
       "      <td>CHEBI:57287</td>\n",
       "      <td>coenzyme A(4-)</td>\n",
       "      <td>1.0</td>\n",
       "      <td>0</td>\n",
       "      <td>add</td>\n",
       "    </tr>\n",
       "  </tbody>\n",
       "</table>\n",
       "</div>"
      ],
      "text/plain": [
       "                   file     type   id              display name  \\\n",
       "0   BIOMD0000000190.xml  species  SAM   S-adenosyl-L-methionine   \n",
       "1   BIOMD0000000190.xml  species  SAM   S-adenosyl-L-methionine   \n",
       "2   BIOMD0000000190.xml  species    A  S-adenosylmethioninamine   \n",
       "5   BIOMD0000000190.xml  species    S                  Spermine   \n",
       "6   BIOMD0000000190.xml  species    S                  Spermine   \n",
       "23  BIOMD0000000190.xml  species  CoA                       CoA   \n",
       "\n",
       "           meta id   annotation                    annotation label  \\\n",
       "0   metaid_0000036  CHEBI:15414             S-adenosyl-L-methionine   \n",
       "1   metaid_0000036  CHEBI:59789  S-adenosyl-L-methionine zwitterion   \n",
       "2   metaid_0000037  CHEBI:15625            S-adenosylmethioninamine   \n",
       "5   metaid_0000039  CHEBI:15746                            spermine   \n",
       "6   metaid_0000039  CHEBI:45725                        spermine(4+)   \n",
       "23  metaid_0000046  CHEBI:57287                      coenzyme A(4-)   \n",
       "\n",
       "    match score  existing UPDATE ANNOTATION  \n",
       "0           1.0         1            delete  \n",
       "1           1.0         0               add  \n",
       "2           1.0         1            delete  \n",
       "5           1.0         1            delete  \n",
       "6           1.0         0               add  \n",
       "23          1.0         0               add  "
      ]
     },
     "execution_count": 15,
     "metadata": {},
     "output_type": "execute_result"
    }
   ],
   "source": []
  },
  {
   "cell_type": "code",
   "execution_count": 16,
   "id": "32d10835-25a2-49df-957e-687568ffc16e",
   "metadata": {},
   "outputs": [],
   "source": [
    "# case 1. add elements, there is no existing annotations\n",
    "# case 2. add elements, there is existing annotations\n",
    "# case 3. delete elements, there is no existing annotations\n",
    "# case 4. delete elements, there is existing annotations "
   ]
  },
  {
   "cell_type": "code",
   "execution_count": 17,
   "id": "ae20d031-9ef3-4f29-83f2-396a4e671281",
   "metadata": {},
   "outputs": [],
   "source": [
    "one_type = 'species'\n",
    "maker = am.AnnotationMaker(one_type)\n",
    "df_type = chosen[chosen['type']==one_type]\n",
    "uids = list(np.unique(df_type['id']))\n",
    "meta_ids = {val:list(df_type[df_type['id']==val]['meta id'])[0] for val in uids}"
   ]
  },
  {
   "cell_type": "code",
   "execution_count": 53,
   "id": "cc6001bf-0172-498e-873d-6fd0ef1f8134",
   "metadata": {},
   "outputs": [],
   "source": [
    "ELEMENT_FUNC = {'species': model.getSpecies,\n",
    "                'reaction': model.getReaction}"
   ]
  },
  {
   "cell_type": "code",
   "execution_count": 56,
   "id": "1086e0e0-3a47-412c-b999-918cc672db77",
   "metadata": {},
   "outputs": [
    {
     "data": {
      "text/plain": [
       "'<annotation>\\n  <rdf:RDF xmlns:rdf=\"http://www.w3.org/1999/02/22-rdf-syntax-ns#\" xmlns:dc=\"http://purl.org/dc/elements/1.1/\" xmlns:dcterms=\"http://purl.org/dc/terms/\" xmlns:vCard=\"http://www.w3.org/2001/vcard-rdf/3.0#\" xmlns:bqbiol=\"http://biomodels.net/biology-qualifiers/\" xmlns:bqmodel=\"http://biomodels.net/model-qualifiers/\">\\n    <rdf:Description rdf:about=\"#metaid_0000036\">\\n      <bqbiol:is>\\n        <rdf:Bag>\\n          <rdf:li rdf:resource=\"http://identifiers.org/kegg.compound/C00019\"/>\\n          <rdf:li rdf:resource=\"http://identifiers.org/chebi/CHEBI:59789\"/>\\n        </rdf:Bag>\\n      </bqbiol:is>\\n    </rdf:Description>\\n  </rdf:RDF>\\n</annotation>'"
      ]
     },
     "execution_count": 56,
     "metadata": {},
     "output_type": "execute_result"
    }
   ],
   "source": [
    "ELEMENT_FUNC[one_type](one_id).getAnnotationString()"
   ]
  },
  {
   "cell_type": "code",
   "execution_count": 46,
   "id": "bbb815f3-bbf7-493f-b3c1-d8562bf16491",
   "metadata": {},
   "outputs": [],
   "source": [
    "model = recom.sbml_document.getModel()\n",
    "maker = am.AnnotationMaker(one_type)\n",
    "\n",
    "for one_id in uids:\n",
    "  orig_str = ELEMENT_FUNC[one_type](one_id).getAnnotationString()\n",
    "  df_id = df_type[df_type['id']==one_id]\n",
    "  adds = list(df_id[df_id[cn.DF_UPDATE_ANNOTATION_COL]=='add'].loc[:, 'annotation'])\n",
    "  dels = list(df_id[df_id[cn.DF_UPDATE_ANNOTATION_COL]=='delete'].loc[:, 'annotation'])\n",
    "  deled = maker.deleteAnnotation(dels, orig_str)\n",
    "  added = maker.addAnnotation(adds, deled, meta_ids[one_id])\n",
    "  ELEMENT_FUNC[one_type](one_id).setAnnotation(added)"
   ]
  },
  {
   "cell_type": "code",
   "execution_count": 47,
   "id": "ffcf7118-553a-4e13-9676-01055955f686",
   "metadata": {},
   "outputs": [
    {
     "name": "stdout",
     "output_type": "stream",
     "text": [
      "['A' 'CoA' 'S' 'SAM']\n"
     ]
    }
   ],
   "source": [
    "print(np.unique(df_type.id))"
   ]
  },
  {
   "cell_type": "code",
   "execution_count": 52,
   "id": "b1541ac8-60fb-4d57-bf72-dee904ea2be0",
   "metadata": {},
   "outputs": [
    {
     "name": "stdout",
     "output_type": "stream",
     "text": [
      "<annotation>\n",
      "  <rdf:RDF xmlns:rdf=\"http://www.w3.org/1999/02/22-rdf-syntax-ns#\" xmlns:dc=\"http://purl.org/dc/elements/1.1/\" xmlns:dcterms=\"http://purl.org/dc/terms/\" xmlns:vCard=\"http://www.w3.org/2001/vcard-rdf/3.0#\" xmlns:bqbiol=\"http://biomodels.net/biology-qualifiers/\" xmlns:bqmodel=\"http://biomodels.net/model-qualifiers/\">\n",
      "    <rdf:Description rdf:about=\"#metaid_0000046\">\n",
      "      <bqbiol:is>\n",
      "        <rdf:Bag>\n",
      "          <rdf:li rdf:resource=\"http://identifiers.org/obo.chebi/CHEBI:15346\"/>\n",
      "          <rdf:li rdf:resource=\"http://identifiers.org/kegg.compound/C00010\"/>\n",
      "          <rdf:li rdf:resource=\"http://identifiers.org/chebi/CHEBI:57287\"/>\n",
      "        </rdf:Bag>\n",
      "      </bqbiol:is>\n",
      "    </rdf:Description>\n",
      "  </rdf:RDF>\n",
      "</annotation>\n"
     ]
    }
   ],
   "source": [
    "print(model.getSpecies('CoA').getAnnotationString())"
   ]
  },
  {
   "cell_type": "code",
   "execution_count": 59,
   "id": "212adf25-adef-43cb-bd58-247948995f70",
   "metadata": {},
   "outputs": [
    {
     "name": "stdout",
     "output_type": "stream",
     "text": [
      "<annotation>\n",
      "  <rdf:RDF xmlns:rdf=\"http://www.w3.org/1999/02/22-rdf-syntax-ns#\" xmlns:dc=\"http://purl.org/dc/elements/1.1/\" xmlns:dcterms=\"http://purl.org/dc/terms/\" xmlns:vCard=\"http://www.w3.org/2001/vcard-rdf/3.0#\" xmlns:bqbiol=\"http://biomodels.net/biology-qualifiers/\" xmlns:bqmodel=\"http://biomodels.net/model-qualifiers/\">\n",
      "    <rdf:Description rdf:about=\"#metaid_0000046\">\n",
      "      <bqbiol:is>\n",
      "        <rdf:Bag>\n",
      "          <rdf:li rdf:resource=\"http://identifiers.org/obo.chebi/CHEBI:15346\"/>\n",
      "          <rdf:li rdf:resource=\"http://identifiers.org/kegg.compound/C00010\"/>\n",
      "          <rdf:li rdf:resource=\"http://identifiers.org/chebi/CHEBI:57287\"/>\n",
      "        </rdf:Bag>\n",
      "      </bqbiol:is>\n",
      "    </rdf:Description>\n",
      "  </rdf:RDF>\n",
      "</annotation>\n"
     ]
    }
   ],
   "source": [
    "print(recom.sbml_document.getModel().model.getSpecies('CoA').getAnnotationString())"
   ]
  },
  {
   "cell_type": "code",
   "execution_count": 67,
   "id": "7e57441a-0f73-4b46-a186-4568ff610c17",
   "metadata": {},
   "outputs": [
    {
     "name": "stdout",
     "output_type": "stream",
     "text": [
      "<annotation>\n",
      "  <rdf:RDF xmlns:rdf=\"http://www.w3.org/1999/02/22-rdf-syntax-ns#\" xmlns:bqmodel=\"http://biomodels.net/model-qualifiers/\" xmlns:bqbiol=\"http://biomodels.net/biology-qualifiers/\">\n",
      "    <rdf:Description rdf:about=\"#metaid_0000036\">\n",
      "      <bqbiol:is>\n",
      "        <rdf:Bag>\n",
      "          <rdf:li rdf:resource=\"http://identifiers.org/obo.chebi/CHEBI:15414\"/>\n",
      "          <rdf:li rdf:resource=\"http://identifiers.org/kegg.compound/C00019\"/>\n",
      "        </rdf:Bag>\n",
      "      </bqbiol:is>\n",
      "    </rdf:Description>\n",
      "  </rdf:RDF>\n",
      "</annotation>\n"
     ]
    }
   ],
   "source": [
    "reader = libsbml.SBMLReader()\n",
    "document = reader.readSBML(BIOMD_190_PATH)\n",
    "model = document.getModel()\n",
    "print(model.getSpecies('SAM').getAnnotationString())"
   ]
  },
  {
   "cell_type": "code",
   "execution_count": 66,
   "id": "0fba55c3-983c-4d85-b579-953520cf0df3",
   "metadata": {},
   "outputs": [
    {
     "name": "stdout",
     "output_type": "stream",
     "text": [
      "<annotation>\n",
      "  <rdf:RDF xmlns:rdf=\"http://www.w3.org/1999/02/22-rdf-syntax-ns#\" xmlns:dc=\"http://purl.org/dc/elements/1.1/\" xmlns:dcterms=\"http://purl.org/dc/terms/\" xmlns:vCard=\"http://www.w3.org/2001/vcard-rdf/3.0#\" xmlns:bqbiol=\"http://biomodels.net/biology-qualifiers/\" xmlns:bqmodel=\"http://biomodels.net/model-qualifiers/\">\n",
      "    <rdf:Description rdf:about=\"#metaid_0000036\">\n",
      "      <bqbiol:is>\n",
      "        <rdf:Bag>\n",
      "          <rdf:li rdf:resource=\"http://identifiers.org/kegg.compound/C00019\"/>\n",
      "          <rdf:li rdf:resource=\"http://identifiers.org/chebi/CHEBI:59789\"/>\n",
      "        </rdf:Bag>\n",
      "      </bqbiol:is>\n",
      "    </rdf:Description>\n",
      "  </rdf:RDF>\n",
      "</annotation>\n"
     ]
    }
   ],
   "source": [
    "print(recom.sbml_document.getModel().model.getSpecies('SAM').getAnnotationString())"
   ]
  },
  {
   "cell_type": "code",
   "execution_count": 63,
   "id": "09a10ceb-1e65-49e7-9750-3c1d3b3d2e93",
   "metadata": {},
   "outputs": [
    {
     "data": {
      "text/plain": [
       "'cytosol'"
      ]
     },
     "execution_count": 63,
     "metadata": {},
     "output_type": "execute_result"
    }
   ],
   "source": [
    "spec.compartment"
   ]
  },
  {
   "cell_type": "code",
   "execution_count": 64,
   "id": "720c8260-3431-43c7-9fba-deddc7f649e4",
   "metadata": {},
   "outputs": [],
   "source": [
    "reac = recom.sbml_document.getModel().model.getSpecies(0)"
   ]
  },
  {
   "cell_type": "code",
   "execution_count": 65,
   "id": "930d101b-beae-438d-9ec4-fc421746b2f2",
   "metadata": {},
   "outputs": [
    {
     "data": {
      "text/plain": [
       "'cytosol'"
      ]
     },
     "execution_count": 65,
     "metadata": {},
     "output_type": "execute_result"
    }
   ],
   "source": [
    "reac.compartment"
   ]
  },
  {
   "cell_type": "code",
   "execution_count": 68,
   "id": "63f00c71-ef55-4cf6-b179-ef241d968ef6",
   "metadata": {},
   "outputs": [],
   "source": [
    "SUPPL_FIGURE_ANNOTATION_UPDATE_DIR = '/Users/woosubshin/Desktop/AutomateAnnotation/writeup/AMAS/Suppl_figures/updating_annotation'"
   ]
  },
  {
   "cell_type": "code",
   "execution_count": 70,
   "id": "4c7f91f0-8086-4a33-9b84-f883d0960a58",
   "metadata": {},
   "outputs": [],
   "source": [
    "sam_df = rec_upd[rec_upd['id']=='SAM']\n",
    "sam_df.to_csv(os.path.join(SUPPL_FIGURE_ANNOTATION_UPDATE_DIR, 'sam_df.csv'))"
   ]
  },
  {
   "cell_type": "code",
   "execution_count": null,
   "id": "b2c375f6-11f3-42f5-9736-c862854fb0a2",
   "metadata": {},
   "outputs": [],
   "source": []
  }
 ],
 "metadata": {
  "kernelspec": {
   "display_name": "Python 3 (ipykernel)",
   "language": "python",
   "name": "python3"
  },
  "language_info": {
   "codemirror_mode": {
    "name": "ipython",
    "version": 3
   },
   "file_extension": ".py",
   "mimetype": "text/x-python",
   "name": "python",
   "nbconvert_exporter": "python",
   "pygments_lexer": "ipython3",
   "version": "3.11.2"
  }
 },
 "nbformat": 4,
 "nbformat_minor": 5
}
