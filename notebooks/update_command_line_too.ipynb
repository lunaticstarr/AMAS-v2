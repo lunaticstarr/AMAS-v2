{
 "cells": [
  {
   "cell_type": "code",
   "execution_count": 1,
   "id": "35e882dc-3e9a-4498-9a3b-306c74a1bf0c",
   "metadata": {},
   "outputs": [],
   "source": [
    "# update command line tool -> \n",
    "# (1) csv save (with more columns)\n",
    "# (2) csv to model file update? (new script)\n",
    "# (3) augment annotation?\n",
    "import collections\n",
    "import compress_pickle\n",
    "import itertools\n",
    "import libsbml\n",
    "import numpy as np\n",
    "import os\n",
    "import pickle\n",
    "import pandas as pd\n",
    "import sys\n",
    "import time\n",
    "import matplotlib.pyplot as plt\n",
    "%matplotlib inline  \n",
    "\n",
    "BIOMD_12 = 'BIOMD0000000012.xml'\n",
    "BASE_DIR = '/Users/woosubs/Desktop/AutomateAnnotation/'\n",
    "DATA_DIR = os.path.join(BASE_DIR, \"DATA\")\n",
    "ALGO_DIR = os.path.join(DATA_DIR, \"algo\")\n",
    "CHEBI_DIR = os.path.join(DATA_DIR, \"chebi\")\n",
    "RHEA_DIR = os.path.join(DATA_DIR, \"rhea\")\n",
    "BIOMODEL_DIR = os.path.join(DATA_DIR, \"biomodels/curated_biomodels_31mar2021\")\n",
    "BIGG_DIR = '/Users/woosubs/Desktop/AutomateAnnotation/DATA/bigg'\n",
    "ecoli_fpath = os.path.join(BIGG_DIR, \"e_coli_core.xml\")\n",
    "\n",
    "PROJ_DIR = os.path.join(os.getcwd(), os.pardir)\n",
    "AMAS_DIR = os.path.join(PROJ_DIR, \"AMAS\")\n",
    "sys.path.append(PROJ_DIR)\n",
    "\n",
    "SUPPL_DIR = os.path.join(PROJ_DIR, os.pardir, \"AMAS_suppl\")\n",
    "ACCURACY_DIR = os.path.join(SUPPL_DIR, \"data_for_credibility\")\n",
    "RESULT_DIR = '/Users/woosubs/Desktop/AutomateAnnotation/AMAS_suppl/result_files'\n",
    "\n",
    "from AMAS import annotation_maker as am\n",
    "from AMAS import species_annotation as sa\n",
    "from AMAS import reaction_annotation as ra\n",
    "from AMAS import recommender\n",
    "from AMAS import constants as cn\n",
    "from AMAS import iterator as it\n",
    "from AMAS import tools"
   ]
  },
  {
   "cell_type": "code",
   "execution_count": 2,
   "id": "563b8d85-39c5-4388-8174-ff3bc1e50b3e",
   "metadata": {},
   "outputs": [],
   "source": [
    "E_COLI_PATH = '/Users/woosubs/Desktop/AutomateAnnotation/AMAS/AMAS/../tests/e_coli_core.xml'\n",
    "BIOMD_190_PATH = os.path.join(cn.TEST_DIR, 'BIOMD0000000190.xml')"
   ]
  },
  {
   "cell_type": "code",
   "execution_count": 3,
   "id": "7e13bfaa-ade8-4511-a238-c043f8ef67a7",
   "metadata": {},
   "outputs": [],
   "source": [
    "recom = recommender.Recommender(libsbml_fpath=BIOMD_190_PATH)"
   ]
  },
  {
   "cell_type": "code",
   "execution_count": 4,
   "id": "dad4908b-65ec-4674-ad5a-ede92663d4a5",
   "metadata": {},
   "outputs": [
    {
     "name": "stdout",
     "output_type": "stream",
     "text": [
      "['ODC', 'SAMdc', 'SSAT_for_S', 'SSAT_for_D', 'PAO_for_aD', 'PAO_for_aS', 'SpdS', 'SpmS', 'MAT', 'VCoA', 'VacCoA', 'P_efflux', 'aD_efflux']\n"
     ]
    }
   ],
   "source": [
    "print(recom.getReactionIDs())"
   ]
  },
  {
   "cell_type": "code",
   "execution_count": 17,
   "id": "e467c012-4f1e-4774-b71e-cf895962798f",
   "metadata": {},
   "outputs": [
    {
     "data": {
      "text/html": [
       "<div>\n",
       "<style scoped>\n",
       "    .dataframe tbody tr th:only-of-type {\n",
       "        vertical-align: middle;\n",
       "    }\n",
       "\n",
       "    .dataframe tbody tr th {\n",
       "        vertical-align: top;\n",
       "    }\n",
       "\n",
       "    .dataframe thead th {\n",
       "        text-align: right;\n",
       "    }\n",
       "</style>\n",
       "<table border=\"1\" class=\"dataframe\">\n",
       "  <thead>\n",
       "    <tr style=\"text-align: right;\">\n",
       "      <th></th>\n",
       "      <th>file</th>\n",
       "      <th>type</th>\n",
       "      <th>id</th>\n",
       "      <th>display name</th>\n",
       "      <th>meta id</th>\n",
       "      <th>annotation</th>\n",
       "      <th>annotation label</th>\n",
       "      <th>match score</th>\n",
       "      <th>existing</th>\n",
       "      <th>UPDATE ANNOTATION</th>\n",
       "    </tr>\n",
       "  </thead>\n",
       "  <tbody>\n",
       "    <tr>\n",
       "      <th>0</th>\n",
       "      <td>BIOMD0000000190.xml</td>\n",
       "      <td>species</td>\n",
       "      <td>SAM</td>\n",
       "      <td>S-adenosyl-L-methionine</td>\n",
       "      <td>metaid_0000036</td>\n",
       "      <td>CHEBI:15414</td>\n",
       "      <td>S-adenosyl-L-methionine</td>\n",
       "      <td>1.0</td>\n",
       "      <td>1</td>\n",
       "      <td>keep</td>\n",
       "    </tr>\n",
       "    <tr>\n",
       "      <th>1</th>\n",
       "      <td>BIOMD0000000190.xml</td>\n",
       "      <td>species</td>\n",
       "      <td>SAM</td>\n",
       "      <td>S-adenosyl-L-methionine</td>\n",
       "      <td>metaid_0000036</td>\n",
       "      <td>CHEBI:59789</td>\n",
       "      <td>S-adenosyl-L-methionine zwitterion</td>\n",
       "      <td>1.0</td>\n",
       "      <td>0</td>\n",
       "      <td>add</td>\n",
       "    </tr>\n",
       "    <tr>\n",
       "      <th>2</th>\n",
       "      <td>BIOMD0000000190.xml</td>\n",
       "      <td>species</td>\n",
       "      <td>A</td>\n",
       "      <td>S-adenosylmethioninamine</td>\n",
       "      <td>metaid_0000037</td>\n",
       "      <td>CHEBI:15625</td>\n",
       "      <td>S-adenosylmethioninamine</td>\n",
       "      <td>1.0</td>\n",
       "      <td>1</td>\n",
       "      <td>delete</td>\n",
       "    </tr>\n",
       "    <tr>\n",
       "      <th>3</th>\n",
       "      <td>BIOMD0000000190.xml</td>\n",
       "      <td>species</td>\n",
       "      <td>P</td>\n",
       "      <td>Putrescine</td>\n",
       "      <td>metaid_0000038</td>\n",
       "      <td>CHEBI:17148</td>\n",
       "      <td>putrescine</td>\n",
       "      <td>1.0</td>\n",
       "      <td>1</td>\n",
       "      <td>keep</td>\n",
       "    </tr>\n",
       "    <tr>\n",
       "      <th>4</th>\n",
       "      <td>BIOMD0000000190.xml</td>\n",
       "      <td>species</td>\n",
       "      <td>P</td>\n",
       "      <td>Putrescine</td>\n",
       "      <td>metaid_0000038</td>\n",
       "      <td>CHEBI:326268</td>\n",
       "      <td>1,4-butanediammonium</td>\n",
       "      <td>1.0</td>\n",
       "      <td>0</td>\n",
       "      <td>ignore</td>\n",
       "    </tr>\n",
       "  </tbody>\n",
       "</table>\n",
       "</div>"
      ],
      "text/plain": [
       "                  file     type   id              display name  \\\n",
       "0  BIOMD0000000190.xml  species  SAM   S-adenosyl-L-methionine   \n",
       "1  BIOMD0000000190.xml  species  SAM   S-adenosyl-L-methionine   \n",
       "2  BIOMD0000000190.xml  species    A  S-adenosylmethioninamine   \n",
       "3  BIOMD0000000190.xml  species    P                Putrescine   \n",
       "4  BIOMD0000000190.xml  species    P                Putrescine   \n",
       "\n",
       "          meta id    annotation                    annotation label  \\\n",
       "0  metaid_0000036   CHEBI:15414             S-adenosyl-L-methionine   \n",
       "1  metaid_0000036   CHEBI:59789  S-adenosyl-L-methionine zwitterion   \n",
       "2  metaid_0000037   CHEBI:15625            S-adenosylmethioninamine   \n",
       "3  metaid_0000038   CHEBI:17148                          putrescine   \n",
       "4  metaid_0000038  CHEBI:326268                1,4-butanediammonium   \n",
       "\n",
       "   match score  existing UPDATE ANNOTATION  \n",
       "0          1.0         1              keep  \n",
       "1          1.0         0               add  \n",
       "2          1.0         1            delete  \n",
       "3          1.0         1              keep  \n",
       "4          1.0         0            ignore  "
      ]
     },
     "execution_count": 17,
     "metadata": {},
     "output_type": "execute_result"
    }
   ],
   "source": [
    "rec_upd = pd.read_csv('species_rec.csv')\n",
    "rec_upd.head()"
   ]
  },
  {
   "cell_type": "code",
   "execution_count": 18,
   "id": "16f08b06-dd37-400d-8df3-e5cdb5c2273e",
   "metadata": {},
   "outputs": [
    {
     "data": {
      "text/html": [
       "<div>\n",
       "<style scoped>\n",
       "    .dataframe tbody tr th:only-of-type {\n",
       "        vertical-align: middle;\n",
       "    }\n",
       "\n",
       "    .dataframe tbody tr th {\n",
       "        vertical-align: top;\n",
       "    }\n",
       "\n",
       "    .dataframe thead th {\n",
       "        text-align: right;\n",
       "    }\n",
       "</style>\n",
       "<table border=\"1\" class=\"dataframe\">\n",
       "  <thead>\n",
       "    <tr style=\"text-align: right;\">\n",
       "      <th></th>\n",
       "      <th>file</th>\n",
       "      <th>type</th>\n",
       "      <th>id</th>\n",
       "      <th>display name</th>\n",
       "      <th>meta id</th>\n",
       "      <th>annotation</th>\n",
       "      <th>annotation label</th>\n",
       "      <th>match score</th>\n",
       "      <th>existing</th>\n",
       "      <th>UPDATE ANNOTATION</th>\n",
       "    </tr>\n",
       "  </thead>\n",
       "  <tbody>\n",
       "    <tr>\n",
       "      <th>1</th>\n",
       "      <td>BIOMD0000000190.xml</td>\n",
       "      <td>species</td>\n",
       "      <td>SAM</td>\n",
       "      <td>S-adenosyl-L-methionine</td>\n",
       "      <td>metaid_0000036</td>\n",
       "      <td>CHEBI:59789</td>\n",
       "      <td>S-adenosyl-L-methionine zwitterion</td>\n",
       "      <td>1.0</td>\n",
       "      <td>0</td>\n",
       "      <td>add</td>\n",
       "    </tr>\n",
       "    <tr>\n",
       "      <th>2</th>\n",
       "      <td>BIOMD0000000190.xml</td>\n",
       "      <td>species</td>\n",
       "      <td>A</td>\n",
       "      <td>S-adenosylmethioninamine</td>\n",
       "      <td>metaid_0000037</td>\n",
       "      <td>CHEBI:15625</td>\n",
       "      <td>S-adenosylmethioninamine</td>\n",
       "      <td>1.0</td>\n",
       "      <td>1</td>\n",
       "      <td>delete</td>\n",
       "    </tr>\n",
       "    <tr>\n",
       "      <th>5</th>\n",
       "      <td>BIOMD0000000190.xml</td>\n",
       "      <td>species</td>\n",
       "      <td>S</td>\n",
       "      <td>Spermine</td>\n",
       "      <td>metaid_0000039</td>\n",
       "      <td>CHEBI:15746</td>\n",
       "      <td>spermine</td>\n",
       "      <td>1.0</td>\n",
       "      <td>1</td>\n",
       "      <td>delete</td>\n",
       "    </tr>\n",
       "    <tr>\n",
       "      <th>23</th>\n",
       "      <td>BIOMD0000000190.xml</td>\n",
       "      <td>species</td>\n",
       "      <td>CoA</td>\n",
       "      <td>CoA</td>\n",
       "      <td>metaid_0000046</td>\n",
       "      <td>CHEBI:57287</td>\n",
       "      <td>coenzyme A(4-)</td>\n",
       "      <td>1.0</td>\n",
       "      <td>0</td>\n",
       "      <td>add</td>\n",
       "    </tr>\n",
       "  </tbody>\n",
       "</table>\n",
       "</div>"
      ],
      "text/plain": [
       "                   file     type   id              display name  \\\n",
       "1   BIOMD0000000190.xml  species  SAM   S-adenosyl-L-methionine   \n",
       "2   BIOMD0000000190.xml  species    A  S-adenosylmethioninamine   \n",
       "5   BIOMD0000000190.xml  species    S                  Spermine   \n",
       "23  BIOMD0000000190.xml  species  CoA                       CoA   \n",
       "\n",
       "           meta id   annotation                    annotation label  \\\n",
       "1   metaid_0000036  CHEBI:59789  S-adenosyl-L-methionine zwitterion   \n",
       "2   metaid_0000037  CHEBI:15625            S-adenosylmethioninamine   \n",
       "5   metaid_0000039  CHEBI:15746                            spermine   \n",
       "23  metaid_0000046  CHEBI:57287                      coenzyme A(4-)   \n",
       "\n",
       "    match score  existing UPDATE ANNOTATION  \n",
       "1           1.0         0               add  \n",
       "2           1.0         1            delete  \n",
       "5           1.0         1            delete  \n",
       "23          1.0         0               add  "
      ]
     },
     "execution_count": 18,
     "metadata": {},
     "output_type": "execute_result"
    }
   ],
   "source": [
    "chosen = rec_upd[(rec_upd['UPDATE ANNOTATION']=='add') |\\\n",
    "                 (rec_upd['UPDATE ANNOTATION']=='delete')]\n",
    "chosen"
   ]
  },
  {
   "cell_type": "code",
   "execution_count": null,
   "id": "32d10835-25a2-49df-957e-687568ffc16e",
   "metadata": {},
   "outputs": [],
   "source": [
    "# case 1. add elements, there is no existing annotations\n",
    "# case 2. add elements, there is existing annotations\n",
    "# case 3. delete elements, there is no existing annotations\n",
    "# case 4. delete elements, there is existing annotations "
   ]
  },
  {
   "cell_type": "code",
   "execution_count": 8,
   "id": "ae20d031-9ef3-4f29-83f2-396a4e671281",
   "metadata": {},
   "outputs": [
    {
     "ename": "NameError",
     "evalue": "name 'chosen' is not defined",
     "output_type": "error",
     "traceback": [
      "\u001b[0;31m---------------------------------------------------------------------------\u001b[0m",
      "\u001b[0;31mNameError\u001b[0m                                 Traceback (most recent call last)",
      "Cell \u001b[0;32mIn[8], line 3\u001b[0m\n\u001b[1;32m      1\u001b[0m one_type \u001b[38;5;241m=\u001b[39m \u001b[38;5;124m'\u001b[39m\u001b[38;5;124mspecies\u001b[39m\u001b[38;5;124m'\u001b[39m\n\u001b[1;32m      2\u001b[0m maker \u001b[38;5;241m=\u001b[39m am\u001b[38;5;241m.\u001b[39mAnnotationMaker(one_type)\n\u001b[0;32m----> 3\u001b[0m df_type \u001b[38;5;241m=\u001b[39m \u001b[43mchosen\u001b[49m[chosen[\u001b[38;5;124m'\u001b[39m\u001b[38;5;124mtype\u001b[39m\u001b[38;5;124m'\u001b[39m]\u001b[38;5;241m==\u001b[39mone_type]\n\u001b[1;32m      4\u001b[0m uids \u001b[38;5;241m=\u001b[39m \u001b[38;5;28mlist\u001b[39m(np\u001b[38;5;241m.\u001b[39munique(df_type[\u001b[38;5;124m'\u001b[39m\u001b[38;5;124mid\u001b[39m\u001b[38;5;124m'\u001b[39m]))\n\u001b[1;32m      5\u001b[0m meta_ids \u001b[38;5;241m=\u001b[39m {val:\u001b[38;5;28mlist\u001b[39m(df_type[df_type[\u001b[38;5;124m'\u001b[39m\u001b[38;5;124mid\u001b[39m\u001b[38;5;124m'\u001b[39m]\u001b[38;5;241m==\u001b[39mval][\u001b[38;5;124m'\u001b[39m\u001b[38;5;124mmeta id\u001b[39m\u001b[38;5;124m'\u001b[39m])[\u001b[38;5;241m0\u001b[39m] \u001b[38;5;28;01mfor\u001b[39;00m val \u001b[38;5;129;01min\u001b[39;00m uids}\n",
      "\u001b[0;31mNameError\u001b[0m: name 'chosen' is not defined"
     ]
    }
   ],
   "source": [
    "one_type = 'species'\n",
    "maker = am.AnnotationMaker(one_type)\n",
    "df_type = chosen[chosen['type']==one_type]\n",
    "uids = list(np.unique(df_type['id']))\n",
    "meta_ids = {val:list(df_type[df_type['id']==val]['meta id'])[0] for val in uids}"
   ]
  },
  {
   "cell_type": "code",
   "execution_count": 6,
   "id": "464db925-3ede-492b-bb0f-cfcd9602d337",
   "metadata": {},
   "outputs": [
    {
     "name": "stdout",
     "output_type": "stream",
     "text": [
      "                                        ODC (credibility score: 0.817)                                       \n",
      "+----+--------------+---------------+-----------------------------------------------------------------------+\n",
      "|    | annotation   |   match score | label                                                                 |\n",
      "+====+==============+===============+=======================================================================+\n",
      "|  1 | RHEA:28827   |         1.000 | L-ornithine(out) + putrescine(in) = L-ornithine(in) + putrescine(out) |\n",
      "+----+--------------+---------------+-----------------------------------------------------------------------+\n",
      "|  2 | RHEA:22964   |         0.500 | ornithine decarboxylase activity                                      |\n",
      "+----+--------------+---------------+-----------------------------------------------------------------------+\n",
      "|  3 | RHEA:59048   |         0.500 | D-ornithine + H(+) = CO2 + putrescine                                 |\n",
      "+----+--------------+---------------+-----------------------------------------------------------------------+\n",
      "\n",
      "                             SSAT_for_S (credibility score: 0.985)                              \n",
      "+----+--------------+---------------+----------------------------------------------------------+\n",
      "|    | annotation   |   match score | label                                                    |\n",
      "+====+==============+===============+==========================================================+\n",
      "|  1 | RHEA:33099   |         0.800 | acetyl-CoA + spermine = CoA + H(+) + N(1)-acetylspermine |\n",
      "+----+--------------+---------------+----------------------------------------------------------+\n",
      "\n"
     ]
    }
   ],
   "source": [
    "recom.recommendReaction(ids=['ODC', 'SSAT_for_S'], min_score=0.0)"
   ]
  },
  {
   "cell_type": "code",
   "execution_count": 7,
   "id": "0343395f-c7c9-417f-9051-1de75b3c525b",
   "metadata": {},
   "outputs": [
    {
     "name": "stdout",
     "output_type": "stream",
     "text": [
      "Selection updated.\n"
     ]
    }
   ],
   "source": [
    "recom.selectAnnotation(('ODC', [1,2]))"
   ]
  },
  {
   "cell_type": "code",
   "execution_count": 8,
   "id": "ccd3da26-fa8e-41f2-ab77-251971302031",
   "metadata": {},
   "outputs": [
    {
     "name": "stdout",
     "output_type": "stream",
     "text": [
      "Selection updated.\n"
     ]
    }
   ],
   "source": [
    "recom.selectAnnotation(('SSAT_for_S', [1]))"
   ]
  },
  {
   "cell_type": "code",
   "execution_count": 9,
   "id": "2df05192-83f8-47a8-a7f2-01952a675155",
   "metadata": {},
   "outputs": [
    {
     "data": {
      "text/plain": [
       "{'species': {},\n",
       " 'reaction': {'ODC':                    annotation  match score  \\\n",
       "  ODC (cred. 0.817)                            \n",
       "  1                  RHEA:28827          1.0   \n",
       "  2                  RHEA:22964          0.5   \n",
       "  \n",
       "                                                                 label  \n",
       "  ODC (cred. 0.817)                                                     \n",
       "  1                  L-ornithine(out) + putrescine(in) = L-ornithin...  \n",
       "  2                                   ornithine decarboxylase activity  ,\n",
       "  'SSAT_for_S':                           annotation  match score  \\\n",
       "  SSAT_for_S (cred. 0.985)                            \n",
       "  1                         RHEA:33099          0.8   \n",
       "  \n",
       "                                                                        label  \n",
       "  SSAT_for_S (cred. 0.985)                                                     \n",
       "  1                         acetyl-CoA + spermine = CoA + H(+) + N(1)-acet...  }}"
      ]
     },
     "execution_count": 9,
     "metadata": {},
     "output_type": "execute_result"
    }
   ],
   "source": [
    "recom.selection"
   ]
  },
  {
   "cell_type": "code",
   "execution_count": 10,
   "id": "ba9cbd5f-b6fd-417b-9b4c-fb00e2031235",
   "metadata": {},
   "outputs": [
    {
     "name": "stdout",
     "output_type": "stream",
     "text": [
      "                      SAM (credibility score: 0.975)                      \n",
      "+----+--------------+---------------+------------------------------------+\n",
      "|    | annotation   |   match score | label                              |\n",
      "+====+==============+===============+====================================+\n",
      "|  1 | CHEBI:15414  |         1.000 | S-adenosyl-L-methionine            |\n",
      "+----+--------------+---------------+------------------------------------+\n",
      "|  2 | CHEBI:59789  |         1.000 | S-adenosyl-L-methionine zwitterion |\n",
      "+----+--------------+---------------+------------------------------------+\n",
      "\n"
     ]
    }
   ],
   "source": [
    "recom.recommendSpecies(ids=['SAM'], min_score=0.5)"
   ]
  },
  {
   "cell_type": "code",
   "execution_count": 11,
   "id": "965ec634-2882-43a7-bd37-e2608de784e9",
   "metadata": {},
   "outputs": [
    {
     "name": "stdout",
     "output_type": "stream",
     "text": [
      "Selection updated.\n"
     ]
    }
   ],
   "source": [
    "recom.selectAnnotation(('SAM', 2))"
   ]
  },
  {
   "cell_type": "code",
   "execution_count": 12,
   "id": "23030d23-7340-4e91-9c9f-f28999a7dbbe",
   "metadata": {},
   "outputs": [
    {
     "data": {
      "text/plain": [
       "{'species': {'SAM':                     annotation  match score  \\\n",
       "  SAM (cred. 0.975)                             \n",
       "  2                  CHEBI:59789          1.0   \n",
       "  \n",
       "                                                  label  \n",
       "  SAM (cred. 0.975)                                      \n",
       "  2                  S-adenosyl-L-methionine zwitterion  },\n",
       " 'reaction': {'ODC':                    annotation  match score  \\\n",
       "  ODC (cred. 0.817)                            \n",
       "  1                  RHEA:28827          1.0   \n",
       "  2                  RHEA:22964          0.5   \n",
       "  \n",
       "                                                                 label  \n",
       "  ODC (cred. 0.817)                                                     \n",
       "  1                  L-ornithine(out) + putrescine(in) = L-ornithin...  \n",
       "  2                                   ornithine decarboxylase activity  ,\n",
       "  'SSAT_for_S':                           annotation  match score  \\\n",
       "  SSAT_for_S (cred. 0.985)                            \n",
       "  1                         RHEA:33099          0.8   \n",
       "  \n",
       "                                                                        label  \n",
       "  SSAT_for_S (cred. 0.985)                                                     \n",
       "  1                         acetyl-CoA + spermine = CoA + H(+) + N(1)-acet...  }}"
      ]
     },
     "execution_count": 12,
     "metadata": {},
     "output_type": "execute_result"
    }
   ],
   "source": [
    "recom.selection"
   ]
  },
  {
   "cell_type": "code",
   "execution_count": 17,
   "id": "380e08b2-7813-4195-b1cd-3f2a520a83b0",
   "metadata": {},
   "outputs": [
    {
     "data": {
      "text/html": [
       "<div>\n",
       "<style scoped>\n",
       "    .dataframe tbody tr th:only-of-type {\n",
       "        vertical-align: middle;\n",
       "    }\n",
       "\n",
       "    .dataframe tbody tr th {\n",
       "        vertical-align: top;\n",
       "    }\n",
       "\n",
       "    .dataframe thead th {\n",
       "        text-align: right;\n",
       "    }\n",
       "</style>\n",
       "<table border=\"1\" class=\"dataframe\">\n",
       "  <thead>\n",
       "    <tr style=\"text-align: right;\">\n",
       "      <th></th>\n",
       "      <th>file</th>\n",
       "      <th>type</th>\n",
       "      <th>id</th>\n",
       "      <th>display name</th>\n",
       "      <th>meta id</th>\n",
       "      <th>annotation</th>\n",
       "      <th>annotation label</th>\n",
       "      <th>match score</th>\n",
       "      <th>existing</th>\n",
       "      <th>USE ANNOTATION</th>\n",
       "    </tr>\n",
       "  </thead>\n",
       "  <tbody>\n",
       "    <tr>\n",
       "      <th>0</th>\n",
       "      <td>BIOMD0000000190.xml</td>\n",
       "      <td>species</td>\n",
       "      <td>SAM</td>\n",
       "      <td>S-adenosyl-L-methionine</td>\n",
       "      <td>metaid_0000036</td>\n",
       "      <td>CHEBI:59789</td>\n",
       "      <td>S-adenosyl-L-methionine zwitterion</td>\n",
       "      <td>1.0</td>\n",
       "      <td>0</td>\n",
       "      <td>0</td>\n",
       "    </tr>\n",
       "    <tr>\n",
       "      <th>1</th>\n",
       "      <td>BIOMD0000000190.xml</td>\n",
       "      <td>species</td>\n",
       "      <td>SAM</td>\n",
       "      <td>S-adenosyl-L-methionine</td>\n",
       "      <td>metaid_0000036</td>\n",
       "      <td>CHEBI:15414</td>\n",
       "      <td>S-adenosyl-L-methionine</td>\n",
       "      <td>1.0</td>\n",
       "      <td>1</td>\n",
       "      <td>0</td>\n",
       "    </tr>\n",
       "    <tr>\n",
       "      <th>0</th>\n",
       "      <td>BIOMD0000000190.xml</td>\n",
       "      <td>reaction</td>\n",
       "      <td>ODC</td>\n",
       "      <td>Ornithine decarboxylase</td>\n",
       "      <td>metaid_0000062</td>\n",
       "      <td>RHEA:28827</td>\n",
       "      <td>L-ornithine(out) + putrescine(in) = L-ornithine(in) + putrescine(out)</td>\n",
       "      <td>1.0</td>\n",
       "      <td>0</td>\n",
       "      <td>0</td>\n",
       "    </tr>\n",
       "    <tr>\n",
       "      <th>1</th>\n",
       "      <td>BIOMD0000000190.xml</td>\n",
       "      <td>reaction</td>\n",
       "      <td>ODC</td>\n",
       "      <td>Ornithine decarboxylase</td>\n",
       "      <td>metaid_0000062</td>\n",
       "      <td>RHEA:22964</td>\n",
       "      <td>ornithine decarboxylase activity</td>\n",
       "      <td>0.5</td>\n",
       "      <td>1</td>\n",
       "      <td>0</td>\n",
       "    </tr>\n",
       "    <tr>\n",
       "      <th>0</th>\n",
       "      <td>BIOMD0000000190.xml</td>\n",
       "      <td>reaction</td>\n",
       "      <td>SSAT_for_S</td>\n",
       "      <td>Spermidine/Spermine N1-acetyltransferase for S</td>\n",
       "      <td>metaid_0000064</td>\n",
       "      <td>RHEA:33099</td>\n",
       "      <td>acetyl-CoA + spermine = CoA + H(+) + N(1)-acetylspermine</td>\n",
       "      <td>0.8</td>\n",
       "      <td>1</td>\n",
       "      <td>0</td>\n",
       "    </tr>\n",
       "    <tr>\n",
       "      <th>1</th>\n",
       "      <td>BIOMD0000000190.xml</td>\n",
       "      <td>reaction</td>\n",
       "      <td>SSAT_for_S</td>\n",
       "      <td>Spermidine/Spermine N1-acetyltransferase for S</td>\n",
       "      <td>metaid_0000064</td>\n",
       "      <td>RHEA:28150</td>\n",
       "      <td>acetyl-CoA + spermidine = CoA + H(+) + N(1)-acetylspermidine</td>\n",
       "      <td>0.4</td>\n",
       "      <td>1</td>\n",
       "      <td>0</td>\n",
       "    </tr>\n",
       "    <tr>\n",
       "      <th>2</th>\n",
       "      <td>BIOMD0000000190.xml</td>\n",
       "      <td>reaction</td>\n",
       "      <td>SSAT_for_S</td>\n",
       "      <td>Spermidine/Spermine N1-acetyltransferase for S</td>\n",
       "      <td>metaid_0000064</td>\n",
       "      <td>RHEA:11116</td>\n",
       "      <td>diamine N-acetyltransferase activity</td>\n",
       "      <td>0.4</td>\n",
       "      <td>1</td>\n",
       "      <td>0</td>\n",
       "    </tr>\n",
       "    <tr>\n",
       "      <th>3</th>\n",
       "      <td>BIOMD0000000190.xml</td>\n",
       "      <td>reaction</td>\n",
       "      <td>SSAT_for_S</td>\n",
       "      <td>Spermidine/Spermine N1-acetyltransferase for S</td>\n",
       "      <td>metaid_0000064</td>\n",
       "      <td>RHEA:28270</td>\n",
       "      <td>acetyl-CoA + spermidine = CoA + H(+) + N(8)-acetylspermidine</td>\n",
       "      <td>0.4</td>\n",
       "      <td>1</td>\n",
       "      <td>0</td>\n",
       "    </tr>\n",
       "  </tbody>\n",
       "</table>\n",
       "</div>"
      ],
      "text/plain": [
       "                  file      type          id  \\\n",
       "0  BIOMD0000000190.xml   species         SAM   \n",
       "1  BIOMD0000000190.xml   species         SAM   \n",
       "0  BIOMD0000000190.xml  reaction         ODC   \n",
       "1  BIOMD0000000190.xml  reaction         ODC   \n",
       "0  BIOMD0000000190.xml  reaction  SSAT_for_S   \n",
       "1  BIOMD0000000190.xml  reaction  SSAT_for_S   \n",
       "2  BIOMD0000000190.xml  reaction  SSAT_for_S   \n",
       "3  BIOMD0000000190.xml  reaction  SSAT_for_S   \n",
       "\n",
       "                                     display name         meta id  \\\n",
       "0                         S-adenosyl-L-methionine  metaid_0000036   \n",
       "1                         S-adenosyl-L-methionine  metaid_0000036   \n",
       "0                         Ornithine decarboxylase  metaid_0000062   \n",
       "1                         Ornithine decarboxylase  metaid_0000062   \n",
       "0  Spermidine/Spermine N1-acetyltransferase for S  metaid_0000064   \n",
       "1  Spermidine/Spermine N1-acetyltransferase for S  metaid_0000064   \n",
       "2  Spermidine/Spermine N1-acetyltransferase for S  metaid_0000064   \n",
       "3  Spermidine/Spermine N1-acetyltransferase for S  metaid_0000064   \n",
       "\n",
       "    annotation  \\\n",
       "0  CHEBI:59789   \n",
       "1  CHEBI:15414   \n",
       "0   RHEA:28827   \n",
       "1   RHEA:22964   \n",
       "0   RHEA:33099   \n",
       "1   RHEA:28150   \n",
       "2   RHEA:11116   \n",
       "3   RHEA:28270   \n",
       "\n",
       "                                                        annotation label  \\\n",
       "0                                     S-adenosyl-L-methionine zwitterion   \n",
       "1                                                S-adenosyl-L-methionine   \n",
       "0  L-ornithine(out) + putrescine(in) = L-ornithine(in) + putrescine(out)   \n",
       "1                                       ornithine decarboxylase activity   \n",
       "0               acetyl-CoA + spermine = CoA + H(+) + N(1)-acetylspermine   \n",
       "1           acetyl-CoA + spermidine = CoA + H(+) + N(1)-acetylspermidine   \n",
       "2                                   diamine N-acetyltransferase activity   \n",
       "3           acetyl-CoA + spermidine = CoA + H(+) + N(8)-acetylspermidine   \n",
       "\n",
       "   match score  existing  USE ANNOTATION  \n",
       "0          1.0         0               0  \n",
       "1          1.0         1               0  \n",
       "0          1.0         0               0  \n",
       "1          0.5         1               0  \n",
       "0          0.8         1               0  \n",
       "1          0.4         1               0  \n",
       "2          0.4         1               0  \n",
       "3          0.4         1               0  "
      ]
     },
     "execution_count": 17,
     "metadata": {},
     "output_type": "execute_result"
    }
   ],
   "source": [
    "# new version;\n",
    "model = recom.sbml_document.getModel()\n",
    "TYPE_EXISTING_ATTR = {'species': recom.species.exist_annotation,\n",
    "                      'reaction': recom.reactions.exist_annotation}\n",
    "ELEMENT_FUNC = {'species': model.getSpecies,\n",
    "                'reaction': model.getReaction}\n",
    "one_type = 'reaction'\n",
    "\n",
    "pd.set_option('display.max_colwidth', 255)\n",
    "# edf: element_df\n",
    "edfs = []\n",
    "for one_type in recom.selection.keys():\n",
    "  type_selection = recom.selection[one_type]\n",
    "  for k in list(type_selection.keys()):   \n",
    "    one_edf = type_selection[k]\n",
    "    annotations = list(one_edf['annotation'])\n",
    "    match_scores = list(one_edf['match score'])\n",
    "    labels = list(one_edf['label'])\n",
    "    existings = [1 if val in TYPE_EXISTING_ATTR[one_type][k] else 0 \\\n",
    "                 for idx, val in enumerate(one_edf['annotation'])]\n",
    "    annotation2add = [val for val in TYPE_EXISTING_ATTR[one_type][k] \\\n",
    "                      if val not in list(one_edf['annotation'])]\n",
    "    for new_anot in annotation2add:\n",
    "      annotations.append(new_anot)\n",
    "      if one_type=='reaction':\n",
    "        match_scores.append(recom.getMatchScoreOfRHEA(k, new_anot))\n",
    "        labels.append(cn.REF_RHEA2LABEL[new_anot])\n",
    "      elif one_type=='species':\n",
    "        match_scores.append(recom.getMatchScoreOfCHEBI(k, new_anot))\n",
    "        labels.append(cn.REF_CHEBI2LABEL[new_anot])\n",
    "      existings.append(1)\n",
    "    new_edf = pd.DataFrame({'type': [one_type]*len(annotations),\n",
    "                            'id': [k]*len(annotations),\n",
    "                            'display name': [ELEMENT_FUNC[one_type](k).name]*len(annotations),\n",
    "                            'meta id': [ELEMENT_FUNC[one_type](k).meta_id]*len(annotations),\n",
    "                            'annotation': annotations,\n",
    "                            'annotation label': labels,\n",
    "                            'match score': match_scores,\n",
    "                            'existing': existings})\n",
    "    edfs.append(new_edf)\n",
    "res = pd.concat(edfs)\n",
    "res.insert(0, 'file', recom.fname)\n",
    "res[\"USE ANNOTATION\"] = 0\n",
    "res"
   ]
  },
  {
   "cell_type": "code",
   "execution_count": 18,
   "id": "45c94132-7183-4dad-b9a1-f7e705eeb997",
   "metadata": {},
   "outputs": [
    {
     "data": {
      "text/plain": [
       "{'ODC': ['RHEA:22964'],\n",
       " 'SAMdc': ['RHEA:15981'],\n",
       " 'SSAT_for_S': ['RHEA:28150', 'RHEA:11116', 'RHEA:28270', 'RHEA:33099'],\n",
       " 'SSAT_for_D': ['RHEA:28150', 'RHEA:11116', 'RHEA:28270', 'RHEA:33099'],\n",
       " 'PAO_for_aD': ['RHEA:16133', 'RHEA:25800'],\n",
       " 'PAO_for_aS': ['RHEA:16133', 'RHEA:25800'],\n",
       " 'SpdS': ['RHEA:12721'],\n",
       " 'SpmS': ['RHEA:19973'],\n",
       " 'MAT': ['RHEA:21080']}"
      ]
     },
     "execution_count": 18,
     "metadata": {},
     "output_type": "execute_result"
    }
   ],
   "source": [
    "recom.reactions.exist_annotation"
   ]
  },
  {
   "cell_type": "code",
   "execution_count": 19,
   "id": "ebf7ea99-9686-4905-9b1f-795ef5e0bc3b",
   "metadata": {},
   "outputs": [
    {
     "data": {
      "text/plain": [
       "['ODC',\n",
       " 'SAMdc',\n",
       " 'SSAT_for_S',\n",
       " 'SSAT_for_D',\n",
       " 'PAO_for_aD',\n",
       " 'PAO_for_aS',\n",
       " 'SpdS',\n",
       " 'SpmS',\n",
       " 'MAT',\n",
       " 'VCoA',\n",
       " 'VacCoA',\n",
       " 'P_efflux',\n",
       " 'aD_efflux']"
      ]
     },
     "execution_count": 19,
     "metadata": {},
     "output_type": "execute_result"
    }
   ],
   "source": [
    "recom.getReactionIDs()"
   ]
  },
  {
   "cell_type": "code",
   "execution_count": 20,
   "id": "7c76f1a8-bc86-43e7-8ca4-63f9039edc23",
   "metadata": {},
   "outputs": [],
   "source": [
    "for idx, val in enumerate([]):\n",
    "  print(\"haa\")"
   ]
  },
  {
   "cell_type": "code",
   "execution_count": 14,
   "id": "f6e33d8a-1b64-44ed-a87b-31aa602a0985",
   "metadata": {},
   "outputs": [
    {
     "data": {
      "text/plain": [
       "['RHEA:11116', 'RHEA:28150', 'RHEA:28270']"
      ]
     },
     "execution_count": 14,
     "metadata": {},
     "output_type": "execute_result"
    }
   ],
   "source": [
    "annotation2add"
   ]
  },
  {
   "cell_type": "code",
   "execution_count": 23,
   "id": "4d83defd-4ae4-41b4-a35e-8a4880083cc8",
   "metadata": {},
   "outputs": [
    {
     "data": {
      "text/html": [
       "<div>\n",
       "<style scoped>\n",
       "    .dataframe tbody tr th:only-of-type {\n",
       "        vertical-align: middle;\n",
       "    }\n",
       "\n",
       "    .dataframe tbody tr th {\n",
       "        vertical-align: top;\n",
       "    }\n",
       "\n",
       "    .dataframe thead th {\n",
       "        text-align: right;\n",
       "    }\n",
       "</style>\n",
       "<table border=\"1\" class=\"dataframe\">\n",
       "  <thead>\n",
       "    <tr style=\"text-align: right;\">\n",
       "      <th></th>\n",
       "      <th>annotation</th>\n",
       "      <th>match score</th>\n",
       "      <th>label</th>\n",
       "      <th>existing</th>\n",
       "    </tr>\n",
       "    <tr>\n",
       "      <th>SSAT_for_S (cred. 0.985)</th>\n",
       "      <th></th>\n",
       "      <th></th>\n",
       "      <th></th>\n",
       "      <th></th>\n",
       "    </tr>\n",
       "  </thead>\n",
       "  <tbody>\n",
       "    <tr>\n",
       "      <th>1</th>\n",
       "      <td>RHEA:33099</td>\n",
       "      <td>0.8</td>\n",
       "      <td>acetyl-CoA + spermine = CoA + H(+) + N(1)-acet...</td>\n",
       "      <td>1</td>\n",
       "    </tr>\n",
       "    <tr>\n",
       "      <th>1</th>\n",
       "      <td>RHEA:33099</td>\n",
       "      <td>0.8</td>\n",
       "      <td>acetyl-CoA + spermine = CoA + H(+) + N(1)-acet...</td>\n",
       "      <td>1</td>\n",
       "    </tr>\n",
       "    <tr>\n",
       "      <th>1</th>\n",
       "      <td>RHEA:33099</td>\n",
       "      <td>0.8</td>\n",
       "      <td>acetyl-CoA + spermine = CoA + H(+) + N(1)-acet...</td>\n",
       "      <td>1</td>\n",
       "    </tr>\n",
       "  </tbody>\n",
       "</table>\n",
       "</div>"
      ],
      "text/plain": [
       "                          annotation  match score  \\\n",
       "SSAT_for_S (cred. 0.985)                            \n",
       "1                         RHEA:33099          0.8   \n",
       "1                         RHEA:33099          0.8   \n",
       "1                         RHEA:33099          0.8   \n",
       "\n",
       "                                                                      label  \\\n",
       "SSAT_for_S (cred. 0.985)                                                      \n",
       "1                         acetyl-CoA + spermine = CoA + H(+) + N(1)-acet...   \n",
       "1                         acetyl-CoA + spermine = CoA + H(+) + N(1)-acet...   \n",
       "1                         acetyl-CoA + spermine = CoA + H(+) + N(1)-acet...   \n",
       "\n",
       "                          existing  \n",
       "SSAT_for_S (cred. 0.985)            \n",
       "1                                1  \n",
       "1                                1  \n",
       "1                                1  "
      ]
     },
     "execution_count": 23,
     "metadata": {},
     "output_type": "execute_result"
    }
   ],
   "source": [
    "pd.concat([element_df, element_df, element_df])"
   ]
  },
  {
   "cell_type": "code",
   "execution_count": null,
   "id": "a8df934a-cd1b-4a91-a8ca-d4a7f7349b0b",
   "metadata": {},
   "outputs": [],
   "source": []
  },
  {
   "cell_type": "code",
   "execution_count": 15,
   "id": "a9a23df4-9813-4a39-8f79-ff58e0b5f437",
   "metadata": {},
   "outputs": [],
   "source": [
    "# recom.saveToCSV()"
   ]
  },
  {
   "cell_type": "code",
   "execution_count": 14,
   "id": "43bfdd3d-be35-4452-b3a7-e30ad7fea864",
   "metadata": {},
   "outputs": [],
   "source": [
    "# RES_DIR = os.path.join(AMAS_DIR, 'res')"
   ]
  },
  {
   "cell_type": "code",
   "execution_count": 18,
   "id": "7db753ea-69af-428c-ae1e-d1a3c7ab8c3a",
   "metadata": {},
   "outputs": [
    {
     "data": {
      "text/plain": [
       "['accoa',\n",
       " 's-acetyl-coa',\n",
       " 'acetyl-coa',\n",
       " 'acetyl coenzyme a',\n",
       " \"3'-phosphoadenosine 5'-(3-{(3r)-4-[(3-{[2-(acetylsulfanyl)ethyl]amino}-3-oxopropyl)amino]-3-hydroxy-2,2-dimethyl-4-oxobutyl} dihydrogen diphosphate)\",\n",
       " 's-acetyl-coenzyme a']"
      ]
     },
     "execution_count": 18,
     "metadata": {},
     "output_type": "execute_result"
    }
   ],
   "source": [
    "# CheBI/RHEA match score\n",
    "\n",
    "one_chebi = 'CHEBI:15351'\n",
    "one_synonyms = sa.CHEBI_LOW_SYNONYMS[one_chebi]\n",
    "one_synonyms"
   ]
  },
  {
   "cell_type": "code",
   "execution_count": 23,
   "id": "404a2047-4043-4f8d-91c5-aed4643c536d",
   "metadata": {},
   "outputs": [],
   "source": []
  },
  {
   "cell_type": "code",
   "execution_count": 24,
   "id": "dd1a257b-31fc-4aab-9d8c-3d5a1bb7ccb6",
   "metadata": {},
   "outputs": [
    {
     "data": {
      "text/html": [
       "<div>\n",
       "<style scoped>\n",
       "    .dataframe tbody tr th:only-of-type {\n",
       "        vertical-align: middle;\n",
       "    }\n",
       "\n",
       "    .dataframe tbody tr th {\n",
       "        vertical-align: top;\n",
       "    }\n",
       "\n",
       "    .dataframe thead th {\n",
       "        text-align: right;\n",
       "    }\n",
       "</style>\n",
       "<table border=\"1\" class=\"dataframe\">\n",
       "  <thead>\n",
       "    <tr style=\"text-align: right;\">\n",
       "      <th></th>\n",
       "      <th>a</th>\n",
       "      <th>b</th>\n",
       "      <th>c</th>\n",
       "      <th>d</th>\n",
       "      <th>e</th>\n",
       "      <th>f</th>\n",
       "      <th>g</th>\n",
       "      <th>h</th>\n",
       "      <th>i</th>\n",
       "      <th>j</th>\n",
       "      <th>...</th>\n",
       "      <th>0</th>\n",
       "      <th>1</th>\n",
       "      <th>2</th>\n",
       "      <th>3</th>\n",
       "      <th>4</th>\n",
       "      <th>5</th>\n",
       "      <th>6</th>\n",
       "      <th>7</th>\n",
       "      <th>8</th>\n",
       "      <th>9</th>\n",
       "    </tr>\n",
       "  </thead>\n",
       "  <tbody>\n",
       "    <tr>\n",
       "      <th>78498</th>\n",
       "      <td>0.666667</td>\n",
       "      <td>0.000000</td>\n",
       "      <td>0.666667</td>\n",
       "      <td>0.000000</td>\n",
       "      <td>0.000000</td>\n",
       "      <td>0.000000</td>\n",
       "      <td>0.000000</td>\n",
       "      <td>0.000000</td>\n",
       "      <td>0.000000</td>\n",
       "      <td>0.0</td>\n",
       "      <td>...</td>\n",
       "      <td>0.0</td>\n",
       "      <td>0.0</td>\n",
       "      <td>0.000000</td>\n",
       "      <td>0.000000</td>\n",
       "      <td>0.000000</td>\n",
       "      <td>0.000000</td>\n",
       "      <td>0.0</td>\n",
       "      <td>0.0</td>\n",
       "      <td>0.0</td>\n",
       "      <td>0.0</td>\n",
       "    </tr>\n",
       "    <tr>\n",
       "      <th>78499</th>\n",
       "      <td>0.534522</td>\n",
       "      <td>0.000000</td>\n",
       "      <td>0.534522</td>\n",
       "      <td>0.000000</td>\n",
       "      <td>0.267261</td>\n",
       "      <td>0.000000</td>\n",
       "      <td>0.000000</td>\n",
       "      <td>0.000000</td>\n",
       "      <td>0.000000</td>\n",
       "      <td>0.0</td>\n",
       "      <td>...</td>\n",
       "      <td>0.0</td>\n",
       "      <td>0.0</td>\n",
       "      <td>0.000000</td>\n",
       "      <td>0.000000</td>\n",
       "      <td>0.000000</td>\n",
       "      <td>0.000000</td>\n",
       "      <td>0.0</td>\n",
       "      <td>0.0</td>\n",
       "      <td>0.0</td>\n",
       "      <td>0.0</td>\n",
       "    </tr>\n",
       "    <tr>\n",
       "      <th>78500</th>\n",
       "      <td>0.554700</td>\n",
       "      <td>0.000000</td>\n",
       "      <td>0.554700</td>\n",
       "      <td>0.000000</td>\n",
       "      <td>0.277350</td>\n",
       "      <td>0.000000</td>\n",
       "      <td>0.000000</td>\n",
       "      <td>0.000000</td>\n",
       "      <td>0.000000</td>\n",
       "      <td>0.0</td>\n",
       "      <td>...</td>\n",
       "      <td>0.0</td>\n",
       "      <td>0.0</td>\n",
       "      <td>0.000000</td>\n",
       "      <td>0.000000</td>\n",
       "      <td>0.000000</td>\n",
       "      <td>0.000000</td>\n",
       "      <td>0.0</td>\n",
       "      <td>0.0</td>\n",
       "      <td>0.0</td>\n",
       "      <td>0.0</td>\n",
       "    </tr>\n",
       "    <tr>\n",
       "      <th>78501</th>\n",
       "      <td>0.384900</td>\n",
       "      <td>0.000000</td>\n",
       "      <td>0.384900</td>\n",
       "      <td>0.000000</td>\n",
       "      <td>0.577350</td>\n",
       "      <td>0.000000</td>\n",
       "      <td>0.000000</td>\n",
       "      <td>0.000000</td>\n",
       "      <td>0.000000</td>\n",
       "      <td>0.0</td>\n",
       "      <td>...</td>\n",
       "      <td>0.0</td>\n",
       "      <td>0.0</td>\n",
       "      <td>0.000000</td>\n",
       "      <td>0.000000</td>\n",
       "      <td>0.000000</td>\n",
       "      <td>0.000000</td>\n",
       "      <td>0.0</td>\n",
       "      <td>0.0</td>\n",
       "      <td>0.0</td>\n",
       "      <td>0.0</td>\n",
       "    </tr>\n",
       "    <tr>\n",
       "      <th>78502</th>\n",
       "      <td>0.222834</td>\n",
       "      <td>0.037139</td>\n",
       "      <td>0.037139</td>\n",
       "      <td>0.222834</td>\n",
       "      <td>0.259973</td>\n",
       "      <td>0.037139</td>\n",
       "      <td>0.037139</td>\n",
       "      <td>0.297113</td>\n",
       "      <td>0.222834</td>\n",
       "      <td>0.0</td>\n",
       "      <td>...</td>\n",
       "      <td>0.0</td>\n",
       "      <td>0.0</td>\n",
       "      <td>0.111417</td>\n",
       "      <td>0.222834</td>\n",
       "      <td>0.074278</td>\n",
       "      <td>0.037139</td>\n",
       "      <td>0.0</td>\n",
       "      <td>0.0</td>\n",
       "      <td>0.0</td>\n",
       "      <td>0.0</td>\n",
       "    </tr>\n",
       "    <tr>\n",
       "      <th>78503</th>\n",
       "      <td>0.377964</td>\n",
       "      <td>0.000000</td>\n",
       "      <td>0.377964</td>\n",
       "      <td>0.000000</td>\n",
       "      <td>0.566947</td>\n",
       "      <td>0.000000</td>\n",
       "      <td>0.000000</td>\n",
       "      <td>0.000000</td>\n",
       "      <td>0.000000</td>\n",
       "      <td>0.0</td>\n",
       "      <td>...</td>\n",
       "      <td>0.0</td>\n",
       "      <td>0.0</td>\n",
       "      <td>0.000000</td>\n",
       "      <td>0.000000</td>\n",
       "      <td>0.000000</td>\n",
       "      <td>0.000000</td>\n",
       "      <td>0.0</td>\n",
       "      <td>0.0</td>\n",
       "      <td>0.0</td>\n",
       "      <td>0.0</td>\n",
       "    </tr>\n",
       "  </tbody>\n",
       "</table>\n",
       "<p>6 rows × 36 columns</p>\n",
       "</div>"
      ],
      "text/plain": [
       "              a         b         c         d         e         f         g  \\\n",
       "78498  0.666667  0.000000  0.666667  0.000000  0.000000  0.000000  0.000000   \n",
       "78499  0.534522  0.000000  0.534522  0.000000  0.267261  0.000000  0.000000   \n",
       "78500  0.554700  0.000000  0.554700  0.000000  0.277350  0.000000  0.000000   \n",
       "78501  0.384900  0.000000  0.384900  0.000000  0.577350  0.000000  0.000000   \n",
       "78502  0.222834  0.037139  0.037139  0.222834  0.259973  0.037139  0.037139   \n",
       "78503  0.377964  0.000000  0.377964  0.000000  0.566947  0.000000  0.000000   \n",
       "\n",
       "              h         i    j  ...    0    1         2         3         4  \\\n",
       "78498  0.000000  0.000000  0.0  ...  0.0  0.0  0.000000  0.000000  0.000000   \n",
       "78499  0.000000  0.000000  0.0  ...  0.0  0.0  0.000000  0.000000  0.000000   \n",
       "78500  0.000000  0.000000  0.0  ...  0.0  0.0  0.000000  0.000000  0.000000   \n",
       "78501  0.000000  0.000000  0.0  ...  0.0  0.0  0.000000  0.000000  0.000000   \n",
       "78502  0.297113  0.222834  0.0  ...  0.0  0.0  0.111417  0.222834  0.074278   \n",
       "78503  0.000000  0.000000  0.0  ...  0.0  0.0  0.000000  0.000000  0.000000   \n",
       "\n",
       "              5    6    7    8    9  \n",
       "78498  0.000000  0.0  0.0  0.0  0.0  \n",
       "78499  0.000000  0.0  0.0  0.0  0.0  \n",
       "78500  0.000000  0.0  0.0  0.0  0.0  \n",
       "78501  0.000000  0.0  0.0  0.0  0.0  \n",
       "78502  0.037139  0.0  0.0  0.0  0.0  \n",
       "78503  0.000000  0.0  0.0  0.0  0.0  \n",
       "\n",
       "[6 rows x 36 columns]"
      ]
     },
     "execution_count": 24,
     "metadata": {},
     "output_type": "execute_result"
    }
   ],
   "source": [
    "charcount_sub_df"
   ]
  },
  {
   "cell_type": "code",
   "execution_count": 25,
   "id": "5ffe8637-08a9-41e6-a2ac-18f509d5b198",
   "metadata": {},
   "outputs": [
    {
     "data": {
      "text/plain": [
       "'SSAT_for_S'"
      ]
     },
     "execution_count": 25,
     "metadata": {},
     "output_type": "execute_result"
    }
   ],
   "source": [
    "k"
   ]
  },
  {
   "cell_type": "code",
   "execution_count": null,
   "id": "c1bc4878-570b-4216-ad33-5dd9c050c329",
   "metadata": {},
   "outputs": [],
   "source": []
  },
  {
   "cell_type": "code",
   "execution_count": 34,
   "id": "6b0431d4-9064-4468-946e-2a1862d5772e",
   "metadata": {},
   "outputs": [
    {
     "data": {
      "text/plain": [
       "0.799"
      ]
     },
     "execution_count": 34,
     "metadata": {},
     "output_type": "execute_result"
    }
   ],
   "source": [
    "chebi_sub_df = sa.CHEBI_DF[sa.CHEBI_DF['chebi']==one_chebi]\n",
    "charcount_sub_df = sa.CHARCOUNT_DF.loc[chebi_sub_df.index, :]\n",
    "\n",
    "one_query, name_used = recom.species.prepareCounterQuery(specs=['SAM'],\n",
    "                                                         ref_cols=charcount_sub_df.columns,\n",
    "                                                         use_id=True)\n",
    "multi_mat = charcount_sub_df.dot(one_query)\n",
    "max_val = np.round(float(multi_mat.max()), cn.ROUND_DIGITS)\n",
    "max_val"
   ]
  },
  {
   "cell_type": "code",
   "execution_count": 53,
   "id": "b9f9ceee-18c4-44c0-ad82-ca5281fef3c3",
   "metadata": {},
   "outputs": [],
   "source": [
    "one_rid = 'SSAT_for_S'\n",
    "one_rhea = 'RHEA:33099'\n",
    "\n",
    "specs2predict = recom.reactions.reaction_components[one_rid] \n",
    "spec_results = recom.getSpeciesListRecommendation(pred_ids=specs2predict,\n",
    "                                                  update=False,\n",
    "                                                  method='cdist')\n",
    "pred_formulas = dict()\n",
    "for one_recom in spec_results:\n",
    "  chebis = [val[0] for val in one_recom.candidates]\n",
    "  forms = list(set([cn.REF_CHEBI2FORMULA[k] \\\n",
    "         for k in chebis if k in cn.REF_CHEBI2FORMULA.keys()]))\n",
    "  pred_formulas[one_recom.id] = forms\n",
    "\n",
    "\n",
    "query_df = pd.DataFrame(0, \n",
    "                        index=ra.REF_MAT.columns,\n",
    "                        columns=[one_rid])\n",
    "for one_spec_key in pred_formulas.keys():\n",
    "    one_spec = pred_formulas[one_spec_key]\n",
    "    # For each one_rid, set the values 1.0\n",
    "    query_df.loc[[val for val in one_spec if val in query_df.index], one_rid] = 1\n",
    "\n",
    "sub_ref_mat = ra.REF_MAT.loc[one_rhea, :]\n",
    "num_matches = int(sub_ref_mat.dot(query_df))\n",
    "num_cand_elements = len(sub_ref_mat.to_numpy().nonzero()[0])\n",
    "\n",
    "res_match_score = np.round(num_matches/num_cand_elements, cn.ROUND_DIGITS)\n",
    "\n",
    "\n",
    "# pred_formulas = {val:recom.species.exist_annotation_formula[val] \\\n",
    "#                    for val in specs2predict \\\n",
    "#                    if val in self.species.exist_annotation_formula.keys()}\n",
    "\n",
    "# r2pred_spec_formulas[one_rid] = {one_spec:inp_spec_dict[one_spec] \\\n",
    "#                                  for one_spec in recom.reactions.reaction_components[one_rid]}"
   ]
  },
  {
   "cell_type": "code",
   "execution_count": 54,
   "id": "4e44f204-cfbd-46fe-bb13-391d6e811ca9",
   "metadata": {},
   "outputs": [
    {
     "data": {
      "text/plain": [
       "0.8"
      ]
     },
     "execution_count": 54,
     "metadata": {},
     "output_type": "execute_result"
    }
   ],
   "source": [
    "res_match_score"
   ]
  },
  {
   "cell_type": "code",
   "execution_count": 50,
   "id": "d1585e08-05dc-449f-b294-434361dbd804",
   "metadata": {},
   "outputs": [],
   "source": []
  },
  {
   "cell_type": "code",
   "execution_count": 51,
   "id": "672ffdab-9e5f-4192-a222-1f566cffb33a",
   "metadata": {},
   "outputs": [
    {
     "data": {
      "text/plain": [
       "5"
      ]
     },
     "execution_count": 51,
     "metadata": {},
     "output_type": "execute_result"
    }
   ],
   "source": [
    "num_maxpos_matches"
   ]
  },
  {
   "cell_type": "code",
   "execution_count": null,
   "id": "0fba55c3-983c-4d85-b579-953520cf0df3",
   "metadata": {},
   "outputs": [],
   "source": []
  },
  {
   "cell_type": "code",
   "execution_count": null,
   "id": "994e2ba2-a069-43e0-b62a-215b1d72f3d4",
   "metadata": {},
   "outputs": [],
   "source": [
    "if inp_ids:\n",
    "  one_query, name_used = recom.species.prepareCounterQuery(specs=inp_ids,\n",
    "                                                           ref_cols=ref_df.columns,\n",
    "                                                           use_id=True)\n",
    "elif inp_strs:\n",
    "  one_query, name_used = recom.species.prepareCounterQuery(specs=inp_strs,\n",
    "                                                           ref_cols=ref_df.columns,\n",
    "                                                           use_id=False)  \n",
    "else:\n",
    "  return None\n",
    "multi_mat = ref_df.dot(one_query)\n",
    "max_val = multi_mat.max()\n",
    "result = dict()\n",
    "for one_spec in one_query.c"
   ]
  }
 ],
 "metadata": {
  "kernelspec": {
   "display_name": "Python 3 (ipykernel)",
   "language": "python",
   "name": "python3"
  },
  "language_info": {
   "codemirror_mode": {
    "name": "ipython",
    "version": 3
   },
   "file_extension": ".py",
   "mimetype": "text/x-python",
   "name": "python",
   "nbconvert_exporter": "python",
   "pygments_lexer": "ipython3",
   "version": "3.11.2"
  }
 },
 "nbformat": 4,
 "nbformat_minor": 5
}
