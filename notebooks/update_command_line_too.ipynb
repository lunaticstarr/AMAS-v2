{
 "cells": [
  {
   "cell_type": "code",
   "execution_count": 1,
   "id": "35e882dc-3e9a-4498-9a3b-306c74a1bf0c",
   "metadata": {},
   "outputs": [],
   "source": [
    "# update command line tool -> \n",
    "# (1) csv save (with more columns)\n",
    "# (2) csv to model file update? (new script)\n",
    "# (3) augment annotation?\n",
    "import collections\n",
    "import compress_pickle\n",
    "import itertools\n",
    "import libsbml\n",
    "import numpy as np\n",
    "import os\n",
    "import pickle\n",
    "import pandas as pd\n",
    "import sys\n",
    "import time\n",
    "import matplotlib.pyplot as plt\n",
    "%matplotlib inline  \n",
    "\n",
    "BIOMD_12 = 'BIOMD0000000012.xml'\n",
    "BASE_DIR = '/Users/woosubs/Desktop/AutomateAnnotation/'\n",
    "DATA_DIR = os.path.join(BASE_DIR, \"DATA\")\n",
    "ALGO_DIR = os.path.join(DATA_DIR, \"algo\")\n",
    "CHEBI_DIR = os.path.join(DATA_DIR, \"chebi\")\n",
    "RHEA_DIR = os.path.join(DATA_DIR, \"rhea\")\n",
    "BIOMODEL_DIR = os.path.join(DATA_DIR, \"biomodels/curated_biomodels_31mar2021\")\n",
    "BIGG_DIR = '/Users/woosubs/Desktop/AutomateAnnotation/DATA/bigg'\n",
    "ecoli_fpath = os.path.join(BIGG_DIR, \"e_coli_core.xml\")\n",
    "\n",
    "PROJ_DIR = os.path.join(os.getcwd(), os.pardir)\n",
    "AMAS_DIR = os.path.join(PROJ_DIR, \"AMAS\")\n",
    "sys.path.append(PROJ_DIR)\n",
    "\n",
    "SUPPL_DIR = os.path.join(PROJ_DIR, os.pardir, \"AMAS_suppl\")\n",
    "ACCURACY_DIR = os.path.join(SUPPL_DIR, \"data_for_credibility\")\n",
    "RESULT_DIR = '/Users/woosubs/Desktop/AutomateAnnotation/AMAS_suppl/result_files'\n",
    "\n",
    "from AMAS import annotation_maker as am\n",
    "from AMAS import species_annotation as sa\n",
    "from AMAS import reaction_annotation as ra\n",
    "from AMAS import recommender\n",
    "from AMAS import constants as cn\n",
    "from AMAS import iterator as it\n",
    "from AMAS import tools"
   ]
  },
  {
   "cell_type": "code",
   "execution_count": 2,
   "id": "563b8d85-39c5-4388-8174-ff3bc1e50b3e",
   "metadata": {},
   "outputs": [],
   "source": [
    "E_COLI_PATH = '/Users/woosubs/Desktop/AutomateAnnotation/AMAS/AMAS/../tests/e_coli_core.xml'\n",
    "BIOMD_190_PATH = os.path.join(cn.TEST_DIR, 'BIOMD0000000190.xml')"
   ]
  },
  {
   "cell_type": "code",
   "execution_count": 3,
   "id": "7e13bfaa-ade8-4511-a238-c043f8ef67a7",
   "metadata": {},
   "outputs": [],
   "source": [
    "recom = recommender.Recommender(libsbml_fpath=BIOMD_190_PATH)"
   ]
  },
  {
   "cell_type": "code",
   "execution_count": 4,
   "id": "dad4908b-65ec-4674-ad5a-ede92663d4a5",
   "metadata": {},
   "outputs": [
    {
     "name": "stdout",
     "output_type": "stream",
     "text": [
      "['ODC', 'SAMdc', 'SSAT_for_S', 'SSAT_for_D', 'PAO_for_aD', 'PAO_for_aS', 'SpdS', 'SpmS', 'MAT', 'VCoA', 'VacCoA', 'P_efflux', 'aD_efflux']\n"
     ]
    }
   ],
   "source": [
    "print(recom.getReactionIDs())"
   ]
  },
  {
   "cell_type": "code",
   "execution_count": 5,
   "id": "e467c012-4f1e-4774-b71e-cf895962798f",
   "metadata": {},
   "outputs": [
    {
     "data": {
      "text/plain": [
       "{'ODC': ['RHEA:22964'],\n",
       " 'SAMdc': ['RHEA:15981'],\n",
       " 'SSAT_for_S': ['RHEA:33099', 'RHEA:28150', 'RHEA:28270', 'RHEA:11116'],\n",
       " 'SSAT_for_D': ['RHEA:33099', 'RHEA:28150', 'RHEA:28270', 'RHEA:11116'],\n",
       " 'PAO_for_aD': ['RHEA:25800', 'RHEA:16133'],\n",
       " 'PAO_for_aS': ['RHEA:25800', 'RHEA:16133'],\n",
       " 'SpdS': ['RHEA:12721'],\n",
       " 'SpmS': ['RHEA:19973'],\n",
       " 'MAT': ['RHEA:21080']}"
      ]
     },
     "execution_count": 5,
     "metadata": {},
     "output_type": "execute_result"
    }
   ],
   "source": [
    "recom.reactions.exist_annotation"
   ]
  },
  {
   "cell_type": "code",
   "execution_count": 6,
   "id": "464db925-3ede-492b-bb0f-cfcd9602d337",
   "metadata": {},
   "outputs": [
    {
     "name": "stdout",
     "output_type": "stream",
     "text": [
      "                                        ODC (credibility score: 0.817)                                       \n",
      "+----+--------------+---------------+-----------------------------------------------------------------------+\n",
      "|    | annotation   |   match score | label                                                                 |\n",
      "+====+==============+===============+=======================================================================+\n",
      "|  1 | RHEA:28827   |         1.000 | L-ornithine(out) + putrescine(in) = L-ornithine(in) + putrescine(out) |\n",
      "+----+--------------+---------------+-----------------------------------------------------------------------+\n",
      "|  2 | RHEA:22964   |         0.500 | ornithine decarboxylase activity                                      |\n",
      "+----+--------------+---------------+-----------------------------------------------------------------------+\n",
      "|  3 | RHEA:59048   |         0.500 | D-ornithine + H(+) = CO2 + putrescine                                 |\n",
      "+----+--------------+---------------+-----------------------------------------------------------------------+\n",
      "\n",
      "                             SSAT_for_S (credibility score: 0.985)                              \n",
      "+----+--------------+---------------+----------------------------------------------------------+\n",
      "|    | annotation   |   match score | label                                                    |\n",
      "+====+==============+===============+==========================================================+\n",
      "|  1 | RHEA:33099   |         0.800 | acetyl-CoA + spermine = CoA + H(+) + N(1)-acetylspermine |\n",
      "+----+--------------+---------------+----------------------------------------------------------+\n",
      "\n"
     ]
    }
   ],
   "source": [
    "recom.recommendReaction(ids=['ODC', 'SSAT_for_S'], min_score=0.0)"
   ]
  },
  {
   "cell_type": "code",
   "execution_count": 7,
   "id": "0343395f-c7c9-417f-9051-1de75b3c525b",
   "metadata": {},
   "outputs": [
    {
     "name": "stdout",
     "output_type": "stream",
     "text": [
      "Selection updated.\n"
     ]
    }
   ],
   "source": [
    "recom.selectAnnotation(('ODC', [1,2]))"
   ]
  },
  {
   "cell_type": "code",
   "execution_count": 8,
   "id": "ccd3da26-fa8e-41f2-ab77-251971302031",
   "metadata": {},
   "outputs": [
    {
     "name": "stdout",
     "output_type": "stream",
     "text": [
      "Selection updated.\n"
     ]
    }
   ],
   "source": [
    "recom.selectAnnotation(('SSAT_for_S', [1]))"
   ]
  },
  {
   "cell_type": "code",
   "execution_count": 9,
   "id": "2df05192-83f8-47a8-a7f2-01952a675155",
   "metadata": {},
   "outputs": [
    {
     "data": {
      "text/plain": [
       "{'species': {},\n",
       " 'reaction': {'ODC':                    annotation  match score  \\\n",
       "  ODC (cred. 0.817)                            \n",
       "  1                  RHEA:28827          1.0   \n",
       "  2                  RHEA:22964          0.5   \n",
       "  \n",
       "                                                                 label  \n",
       "  ODC (cred. 0.817)                                                     \n",
       "  1                  L-ornithine(out) + putrescine(in) = L-ornithin...  \n",
       "  2                                   ornithine decarboxylase activity  ,\n",
       "  'SSAT_for_S':                           annotation  match score  \\\n",
       "  SSAT_for_S (cred. 0.985)                            \n",
       "  1                         RHEA:33099          0.8   \n",
       "  \n",
       "                                                                        label  \n",
       "  SSAT_for_S (cred. 0.985)                                                     \n",
       "  1                         acetyl-CoA + spermine = CoA + H(+) + N(1)-acet...  }}"
      ]
     },
     "execution_count": 9,
     "metadata": {},
     "output_type": "execute_result"
    }
   ],
   "source": [
    "recom.selection"
   ]
  },
  {
   "cell_type": "code",
   "execution_count": 11,
   "id": "3c8b2635-b468-4b9c-bb0e-42760db04523",
   "metadata": {},
   "outputs": [],
   "source": [
    "one_type = 'reaction'\n",
    "type_selection = recom.selection[one_type]\n",
    "\n",
    "# if species\n",
    "TYPE_EXISTING_ATTR = {'species': recom.species.exist_annotation,\n",
    "                      'reaction': recom.reactions.exist_annotation}\n",
    "\n",
    "\n",
    "model = recom.sbml_document.getModel()\n",
    "\n",
    "\n",
    "# re-define 'element_df',\n",
    "# for k in type_selection.keys():\n",
    "\n",
    "k = list(type_selection.keys())[1]    \n",
    "    \n",
    "element_df = type_selection[k]\n",
    "fnames = [recom.fname]*element_df.shape[0]\n",
    "ids = [k]*type_selection[k].shape[0] \n",
    "metaids = [model.getReaction(k).meta_id]*type_selection[k].shape[0]\n",
    "display_names = [model.getReaction(k).name]*type_selection[k].shape[0]\n",
    "existing = [1 if val in TYPE_EXISTING_ATTR[one_type][ids[idx]] else 0 \\\n",
    "            for idx, val in enumerate(element_df['annotation'])]\n",
    "\n",
    "element_df.insert(0, \"file\", fnames)\n",
    "element_df.insert(1, \"id\", ids)\n",
    "element_df.insert(2, \"meta id\", metaids)\n",
    "element_df.insert(3, \"display name\", display_names)\n",
    "element_df[\"existing\"] = existing\n",
    "\n",
    "# add additional rows if there is annotation not caught by df\n",
    "annotation2add = [val for val in TYPE_EXISTING_ATTR[one_type][k] \\\n",
    "                  if val not in list(element_df['annotation'])]\n",
    "# add new rows\n",
    "\n",
    "# types = [one_type]*len(ids)\n",
    "# element_df.insert(1, \"type\", types)\n",
    "# element_df[\"USE ANNOTATION\"] = 0"
   ]
  },
  {
   "cell_type": "code",
   "execution_count": 12,
   "id": "7c76f1a8-bc86-43e7-8ca4-63f9039edc23",
   "metadata": {},
   "outputs": [
    {
     "data": {
      "text/plain": [
       "['RHEA:28150', 'RHEA:28270', 'RHEA:11116']"
      ]
     },
     "execution_count": 12,
     "metadata": {},
     "output_type": "execute_result"
    }
   ],
   "source": [
    "annotation2add"
   ]
  },
  {
   "cell_type": "code",
   "execution_count": 42,
   "id": "f6e33d8a-1b64-44ed-a87b-31aa602a0985",
   "metadata": {},
   "outputs": [
    {
     "data": {
      "text/plain": [
       "['RHEA:33099', 'RHEA:28270', 'RHEA:28150', 'RHEA:11116']"
      ]
     },
     "execution_count": 42,
     "metadata": {},
     "output_type": "execute_result"
    }
   ],
   "source": [
    "TYPE_EXISTING_ATTR[one_type][k]"
   ]
  },
  {
   "cell_type": "code",
   "execution_count": 16,
   "id": "21e6478b-e3e8-4d8c-9252-f30ba1158dad",
   "metadata": {},
   "outputs": [
    {
     "data": {
      "text/plain": [
       "True"
      ]
     },
     "execution_count": 16,
     "metadata": {},
     "output_type": "execute_result"
    }
   ],
   "source": [
    "'RHEA:33099' in list(element_df['annotation'])"
   ]
  },
  {
   "cell_type": "code",
   "execution_count": 13,
   "id": "14ce6842-daf7-4632-962b-ac89ee955c9b",
   "metadata": {},
   "outputs": [
    {
     "data": {
      "text/html": [
       "<div>\n",
       "<style scoped>\n",
       "    .dataframe tbody tr th:only-of-type {\n",
       "        vertical-align: middle;\n",
       "    }\n",
       "\n",
       "    .dataframe tbody tr th {\n",
       "        vertical-align: top;\n",
       "    }\n",
       "\n",
       "    .dataframe thead th {\n",
       "        text-align: right;\n",
       "    }\n",
       "</style>\n",
       "<table border=\"1\" class=\"dataframe\">\n",
       "  <thead>\n",
       "    <tr style=\"text-align: right;\">\n",
       "      <th></th>\n",
       "      <th>file</th>\n",
       "      <th>annotation</th>\n",
       "      <th>id</th>\n",
       "      <th>meta id</th>\n",
       "      <th>display name</th>\n",
       "      <th>match score</th>\n",
       "      <th>label</th>\n",
       "      <th>existing</th>\n",
       "    </tr>\n",
       "    <tr>\n",
       "      <th>SSAT_for_S (cred. 0.985)</th>\n",
       "      <th></th>\n",
       "      <th></th>\n",
       "      <th></th>\n",
       "      <th></th>\n",
       "      <th></th>\n",
       "      <th></th>\n",
       "      <th></th>\n",
       "      <th></th>\n",
       "    </tr>\n",
       "  </thead>\n",
       "  <tbody>\n",
       "    <tr>\n",
       "      <th>1</th>\n",
       "      <td>BIOMD0000000190.xml</td>\n",
       "      <td>RHEA:33099</td>\n",
       "      <td>SSAT_for_S</td>\n",
       "      <td>metaid_0000064</td>\n",
       "      <td>Spermidine/Spermine N1-acetyltransferase for S</td>\n",
       "      <td>0.8</td>\n",
       "      <td>acetyl-CoA + spermine = CoA + H(+) + N(1)-acet...</td>\n",
       "      <td>1</td>\n",
       "    </tr>\n",
       "  </tbody>\n",
       "</table>\n",
       "</div>"
      ],
      "text/plain": [
       "                                         file  annotation          id  \\\n",
       "SSAT_for_S (cred. 0.985)                                                \n",
       "1                         BIOMD0000000190.xml  RHEA:33099  SSAT_for_S   \n",
       "\n",
       "                                 meta id  \\\n",
       "SSAT_for_S (cred. 0.985)                   \n",
       "1                         metaid_0000064   \n",
       "\n",
       "                                                            display name  \\\n",
       "SSAT_for_S (cred. 0.985)                                                   \n",
       "1                         Spermidine/Spermine N1-acetyltransferase for S   \n",
       "\n",
       "                          match score  \\\n",
       "SSAT_for_S (cred. 0.985)                \n",
       "1                                 0.8   \n",
       "\n",
       "                                                                      label  \\\n",
       "SSAT_for_S (cred. 0.985)                                                      \n",
       "1                         acetyl-CoA + spermine = CoA + H(+) + N(1)-acet...   \n",
       "\n",
       "                          existing  \n",
       "SSAT_for_S (cred. 0.985)            \n",
       "1                                1  "
      ]
     },
     "execution_count": 13,
     "metadata": {},
     "output_type": "execute_result"
    }
   ],
   "source": [
    "element_df"
   ]
  },
  {
   "cell_type": "code",
   "execution_count": 15,
   "id": "a9a23df4-9813-4a39-8f79-ff58e0b5f437",
   "metadata": {},
   "outputs": [],
   "source": [
    "# recom.saveToCSV()"
   ]
  },
  {
   "cell_type": "code",
   "execution_count": 14,
   "id": "43bfdd3d-be35-4452-b3a7-e30ad7fea864",
   "metadata": {},
   "outputs": [],
   "source": [
    "# RES_DIR = os.path.join(AMAS_DIR, 'res')"
   ]
  },
  {
   "cell_type": "code",
   "execution_count": 18,
   "id": "7db753ea-69af-428c-ae1e-d1a3c7ab8c3a",
   "metadata": {},
   "outputs": [
    {
     "data": {
      "text/plain": [
       "['accoa',\n",
       " 's-acetyl-coa',\n",
       " 'acetyl-coa',\n",
       " 'acetyl coenzyme a',\n",
       " \"3'-phosphoadenosine 5'-(3-{(3r)-4-[(3-{[2-(acetylsulfanyl)ethyl]amino}-3-oxopropyl)amino]-3-hydroxy-2,2-dimethyl-4-oxobutyl} dihydrogen diphosphate)\",\n",
       " 's-acetyl-coenzyme a']"
      ]
     },
     "execution_count": 18,
     "metadata": {},
     "output_type": "execute_result"
    }
   ],
   "source": [
    "# CheBI/RHEA match score\n",
    "\n",
    "one_chebi = 'CHEBI:15351'\n",
    "one_synonyms = sa.CHEBI_LOW_SYNONYMS[one_chebi]\n",
    "one_synonyms"
   ]
  },
  {
   "cell_type": "code",
   "execution_count": 23,
   "id": "404a2047-4043-4f8d-91c5-aed4643c536d",
   "metadata": {},
   "outputs": [],
   "source": []
  },
  {
   "cell_type": "code",
   "execution_count": 24,
   "id": "dd1a257b-31fc-4aab-9d8c-3d5a1bb7ccb6",
   "metadata": {},
   "outputs": [
    {
     "data": {
      "text/html": [
       "<div>\n",
       "<style scoped>\n",
       "    .dataframe tbody tr th:only-of-type {\n",
       "        vertical-align: middle;\n",
       "    }\n",
       "\n",
       "    .dataframe tbody tr th {\n",
       "        vertical-align: top;\n",
       "    }\n",
       "\n",
       "    .dataframe thead th {\n",
       "        text-align: right;\n",
       "    }\n",
       "</style>\n",
       "<table border=\"1\" class=\"dataframe\">\n",
       "  <thead>\n",
       "    <tr style=\"text-align: right;\">\n",
       "      <th></th>\n",
       "      <th>a</th>\n",
       "      <th>b</th>\n",
       "      <th>c</th>\n",
       "      <th>d</th>\n",
       "      <th>e</th>\n",
       "      <th>f</th>\n",
       "      <th>g</th>\n",
       "      <th>h</th>\n",
       "      <th>i</th>\n",
       "      <th>j</th>\n",
       "      <th>...</th>\n",
       "      <th>0</th>\n",
       "      <th>1</th>\n",
       "      <th>2</th>\n",
       "      <th>3</th>\n",
       "      <th>4</th>\n",
       "      <th>5</th>\n",
       "      <th>6</th>\n",
       "      <th>7</th>\n",
       "      <th>8</th>\n",
       "      <th>9</th>\n",
       "    </tr>\n",
       "  </thead>\n",
       "  <tbody>\n",
       "    <tr>\n",
       "      <th>78498</th>\n",
       "      <td>0.666667</td>\n",
       "      <td>0.000000</td>\n",
       "      <td>0.666667</td>\n",
       "      <td>0.000000</td>\n",
       "      <td>0.000000</td>\n",
       "      <td>0.000000</td>\n",
       "      <td>0.000000</td>\n",
       "      <td>0.000000</td>\n",
       "      <td>0.000000</td>\n",
       "      <td>0.0</td>\n",
       "      <td>...</td>\n",
       "      <td>0.0</td>\n",
       "      <td>0.0</td>\n",
       "      <td>0.000000</td>\n",
       "      <td>0.000000</td>\n",
       "      <td>0.000000</td>\n",
       "      <td>0.000000</td>\n",
       "      <td>0.0</td>\n",
       "      <td>0.0</td>\n",
       "      <td>0.0</td>\n",
       "      <td>0.0</td>\n",
       "    </tr>\n",
       "    <tr>\n",
       "      <th>78499</th>\n",
       "      <td>0.534522</td>\n",
       "      <td>0.000000</td>\n",
       "      <td>0.534522</td>\n",
       "      <td>0.000000</td>\n",
       "      <td>0.267261</td>\n",
       "      <td>0.000000</td>\n",
       "      <td>0.000000</td>\n",
       "      <td>0.000000</td>\n",
       "      <td>0.000000</td>\n",
       "      <td>0.0</td>\n",
       "      <td>...</td>\n",
       "      <td>0.0</td>\n",
       "      <td>0.0</td>\n",
       "      <td>0.000000</td>\n",
       "      <td>0.000000</td>\n",
       "      <td>0.000000</td>\n",
       "      <td>0.000000</td>\n",
       "      <td>0.0</td>\n",
       "      <td>0.0</td>\n",
       "      <td>0.0</td>\n",
       "      <td>0.0</td>\n",
       "    </tr>\n",
       "    <tr>\n",
       "      <th>78500</th>\n",
       "      <td>0.554700</td>\n",
       "      <td>0.000000</td>\n",
       "      <td>0.554700</td>\n",
       "      <td>0.000000</td>\n",
       "      <td>0.277350</td>\n",
       "      <td>0.000000</td>\n",
       "      <td>0.000000</td>\n",
       "      <td>0.000000</td>\n",
       "      <td>0.000000</td>\n",
       "      <td>0.0</td>\n",
       "      <td>...</td>\n",
       "      <td>0.0</td>\n",
       "      <td>0.0</td>\n",
       "      <td>0.000000</td>\n",
       "      <td>0.000000</td>\n",
       "      <td>0.000000</td>\n",
       "      <td>0.000000</td>\n",
       "      <td>0.0</td>\n",
       "      <td>0.0</td>\n",
       "      <td>0.0</td>\n",
       "      <td>0.0</td>\n",
       "    </tr>\n",
       "    <tr>\n",
       "      <th>78501</th>\n",
       "      <td>0.384900</td>\n",
       "      <td>0.000000</td>\n",
       "      <td>0.384900</td>\n",
       "      <td>0.000000</td>\n",
       "      <td>0.577350</td>\n",
       "      <td>0.000000</td>\n",
       "      <td>0.000000</td>\n",
       "      <td>0.000000</td>\n",
       "      <td>0.000000</td>\n",
       "      <td>0.0</td>\n",
       "      <td>...</td>\n",
       "      <td>0.0</td>\n",
       "      <td>0.0</td>\n",
       "      <td>0.000000</td>\n",
       "      <td>0.000000</td>\n",
       "      <td>0.000000</td>\n",
       "      <td>0.000000</td>\n",
       "      <td>0.0</td>\n",
       "      <td>0.0</td>\n",
       "      <td>0.0</td>\n",
       "      <td>0.0</td>\n",
       "    </tr>\n",
       "    <tr>\n",
       "      <th>78502</th>\n",
       "      <td>0.222834</td>\n",
       "      <td>0.037139</td>\n",
       "      <td>0.037139</td>\n",
       "      <td>0.222834</td>\n",
       "      <td>0.259973</td>\n",
       "      <td>0.037139</td>\n",
       "      <td>0.037139</td>\n",
       "      <td>0.297113</td>\n",
       "      <td>0.222834</td>\n",
       "      <td>0.0</td>\n",
       "      <td>...</td>\n",
       "      <td>0.0</td>\n",
       "      <td>0.0</td>\n",
       "      <td>0.111417</td>\n",
       "      <td>0.222834</td>\n",
       "      <td>0.074278</td>\n",
       "      <td>0.037139</td>\n",
       "      <td>0.0</td>\n",
       "      <td>0.0</td>\n",
       "      <td>0.0</td>\n",
       "      <td>0.0</td>\n",
       "    </tr>\n",
       "    <tr>\n",
       "      <th>78503</th>\n",
       "      <td>0.377964</td>\n",
       "      <td>0.000000</td>\n",
       "      <td>0.377964</td>\n",
       "      <td>0.000000</td>\n",
       "      <td>0.566947</td>\n",
       "      <td>0.000000</td>\n",
       "      <td>0.000000</td>\n",
       "      <td>0.000000</td>\n",
       "      <td>0.000000</td>\n",
       "      <td>0.0</td>\n",
       "      <td>...</td>\n",
       "      <td>0.0</td>\n",
       "      <td>0.0</td>\n",
       "      <td>0.000000</td>\n",
       "      <td>0.000000</td>\n",
       "      <td>0.000000</td>\n",
       "      <td>0.000000</td>\n",
       "      <td>0.0</td>\n",
       "      <td>0.0</td>\n",
       "      <td>0.0</td>\n",
       "      <td>0.0</td>\n",
       "    </tr>\n",
       "  </tbody>\n",
       "</table>\n",
       "<p>6 rows × 36 columns</p>\n",
       "</div>"
      ],
      "text/plain": [
       "              a         b         c         d         e         f         g  \\\n",
       "78498  0.666667  0.000000  0.666667  0.000000  0.000000  0.000000  0.000000   \n",
       "78499  0.534522  0.000000  0.534522  0.000000  0.267261  0.000000  0.000000   \n",
       "78500  0.554700  0.000000  0.554700  0.000000  0.277350  0.000000  0.000000   \n",
       "78501  0.384900  0.000000  0.384900  0.000000  0.577350  0.000000  0.000000   \n",
       "78502  0.222834  0.037139  0.037139  0.222834  0.259973  0.037139  0.037139   \n",
       "78503  0.377964  0.000000  0.377964  0.000000  0.566947  0.000000  0.000000   \n",
       "\n",
       "              h         i    j  ...    0    1         2         3         4  \\\n",
       "78498  0.000000  0.000000  0.0  ...  0.0  0.0  0.000000  0.000000  0.000000   \n",
       "78499  0.000000  0.000000  0.0  ...  0.0  0.0  0.000000  0.000000  0.000000   \n",
       "78500  0.000000  0.000000  0.0  ...  0.0  0.0  0.000000  0.000000  0.000000   \n",
       "78501  0.000000  0.000000  0.0  ...  0.0  0.0  0.000000  0.000000  0.000000   \n",
       "78502  0.297113  0.222834  0.0  ...  0.0  0.0  0.111417  0.222834  0.074278   \n",
       "78503  0.000000  0.000000  0.0  ...  0.0  0.0  0.000000  0.000000  0.000000   \n",
       "\n",
       "              5    6    7    8    9  \n",
       "78498  0.000000  0.0  0.0  0.0  0.0  \n",
       "78499  0.000000  0.0  0.0  0.0  0.0  \n",
       "78500  0.000000  0.0  0.0  0.0  0.0  \n",
       "78501  0.000000  0.0  0.0  0.0  0.0  \n",
       "78502  0.037139  0.0  0.0  0.0  0.0  \n",
       "78503  0.000000  0.0  0.0  0.0  0.0  \n",
       "\n",
       "[6 rows x 36 columns]"
      ]
     },
     "execution_count": 24,
     "metadata": {},
     "output_type": "execute_result"
    }
   ],
   "source": [
    "charcount_sub_df"
   ]
  },
  {
   "cell_type": "code",
   "execution_count": 25,
   "id": "5ffe8637-08a9-41e6-a2ac-18f509d5b198",
   "metadata": {},
   "outputs": [
    {
     "data": {
      "text/plain": [
       "'SSAT_for_S'"
      ]
     },
     "execution_count": 25,
     "metadata": {},
     "output_type": "execute_result"
    }
   ],
   "source": [
    "k"
   ]
  },
  {
   "cell_type": "code",
   "execution_count": null,
   "id": "c1bc4878-570b-4216-ad33-5dd9c050c329",
   "metadata": {},
   "outputs": [],
   "source": []
  },
  {
   "cell_type": "code",
   "execution_count": 34,
   "id": "6b0431d4-9064-4468-946e-2a1862d5772e",
   "metadata": {},
   "outputs": [
    {
     "data": {
      "text/plain": [
       "0.799"
      ]
     },
     "execution_count": 34,
     "metadata": {},
     "output_type": "execute_result"
    }
   ],
   "source": [
    "chebi_sub_df = sa.CHEBI_DF[sa.CHEBI_DF['chebi']==one_chebi]\n",
    "charcount_sub_df = sa.CHARCOUNT_DF.loc[chebi_sub_df.index, :]\n",
    "\n",
    "one_query, name_used = recom.species.prepareCounterQuery(specs=['SAM'],\n",
    "                                                         ref_cols=charcount_sub_df.columns,\n",
    "                                                         use_id=True)\n",
    "multi_mat = charcount_sub_df.dot(one_query)\n",
    "max_val = np.round(float(multi_mat.max()), cn.ROUND_DIGITS)\n",
    "max_val"
   ]
  },
  {
   "cell_type": "code",
   "execution_count": 53,
   "id": "b9f9ceee-18c4-44c0-ad82-ca5281fef3c3",
   "metadata": {},
   "outputs": [],
   "source": [
    "one_rid = 'SSAT_for_S'\n",
    "one_rhea = 'RHEA:33099'\n",
    "\n",
    "specs2predict = recom.reactions.reaction_components[one_rid] \n",
    "spec_results = recom.getSpeciesListRecommendation(pred_ids=specs2predict,\n",
    "                                                  update=False,\n",
    "                                                  method='cdist')\n",
    "pred_formulas = dict()\n",
    "for one_recom in spec_results:\n",
    "  chebis = [val[0] for val in one_recom.candidates]\n",
    "  forms = list(set([cn.REF_CHEBI2FORMULA[k] \\\n",
    "         for k in chebis if k in cn.REF_CHEBI2FORMULA.keys()]))\n",
    "  pred_formulas[one_recom.id] = forms\n",
    "\n",
    "\n",
    "query_df = pd.DataFrame(0, \n",
    "                        index=ra.REF_MAT.columns,\n",
    "                        columns=[one_rid])\n",
    "for one_spec_key in pred_formulas.keys():\n",
    "    one_spec = pred_formulas[one_spec_key]\n",
    "    # For each one_rid, set the values 1.0\n",
    "    query_df.loc[[val for val in one_spec if val in query_df.index], one_rid] = 1\n",
    "\n",
    "sub_ref_mat = ra.REF_MAT.loc[one_rhea, :]\n",
    "num_matches = int(sub_ref_mat.dot(query_df))\n",
    "num_cand_elements = len(sub_ref_mat.to_numpy().nonzero()[0])\n",
    "\n",
    "res_match_score = np.round(num_matches/num_cand_elements, cn.ROUND_DIGITS)\n",
    "\n",
    "\n",
    "# pred_formulas = {val:recom.species.exist_annotation_formula[val] \\\n",
    "#                    for val in specs2predict \\\n",
    "#                    if val in self.species.exist_annotation_formula.keys()}\n",
    "\n",
    "# r2pred_spec_formulas[one_rid] = {one_spec:inp_spec_dict[one_spec] \\\n",
    "#                                  for one_spec in recom.reactions.reaction_components[one_rid]}"
   ]
  },
  {
   "cell_type": "code",
   "execution_count": 54,
   "id": "4e44f204-cfbd-46fe-bb13-391d6e811ca9",
   "metadata": {},
   "outputs": [
    {
     "data": {
      "text/plain": [
       "0.8"
      ]
     },
     "execution_count": 54,
     "metadata": {},
     "output_type": "execute_result"
    }
   ],
   "source": [
    "res_match_score"
   ]
  },
  {
   "cell_type": "code",
   "execution_count": 50,
   "id": "d1585e08-05dc-449f-b294-434361dbd804",
   "metadata": {},
   "outputs": [],
   "source": []
  },
  {
   "cell_type": "code",
   "execution_count": 51,
   "id": "672ffdab-9e5f-4192-a222-1f566cffb33a",
   "metadata": {},
   "outputs": [
    {
     "data": {
      "text/plain": [
       "5"
      ]
     },
     "execution_count": 51,
     "metadata": {},
     "output_type": "execute_result"
    }
   ],
   "source": [
    "num_maxpos_matches"
   ]
  },
  {
   "cell_type": "code",
   "execution_count": null,
   "id": "0fba55c3-983c-4d85-b579-953520cf0df3",
   "metadata": {},
   "outputs": [],
   "source": []
  },
  {
   "cell_type": "code",
   "execution_count": null,
   "id": "994e2ba2-a069-43e0-b62a-215b1d72f3d4",
   "metadata": {},
   "outputs": [],
   "source": [
    "if inp_ids:\n",
    "  one_query, name_used = recom.species.prepareCounterQuery(specs=inp_ids,\n",
    "                                                           ref_cols=ref_df.columns,\n",
    "                                                           use_id=True)\n",
    "elif inp_strs:\n",
    "  one_query, name_used = recom.species.prepareCounterQuery(specs=inp_strs,\n",
    "                                                           ref_cols=ref_df.columns,\n",
    "                                                           use_id=False)  \n",
    "else:\n",
    "  return None\n",
    "multi_mat = ref_df.dot(one_query)\n",
    "max_val = multi_mat.max()\n",
    "result = dict()\n",
    "for one_spec in one_query.c"
   ]
  }
 ],
 "metadata": {
  "kernelspec": {
   "display_name": "Python 3 (ipykernel)",
   "language": "python",
   "name": "python3"
  },
  "language_info": {
   "codemirror_mode": {
    "name": "ipython",
    "version": 3
   },
   "file_extension": ".py",
   "mimetype": "text/x-python",
   "name": "python",
   "nbconvert_exporter": "python",
   "pygments_lexer": "ipython3",
   "version": "3.9.15"
  }
 },
 "nbformat": 4,
 "nbformat_minor": 5
}
