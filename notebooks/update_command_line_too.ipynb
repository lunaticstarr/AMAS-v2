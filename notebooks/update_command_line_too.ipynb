{
 "cells": [
  {
   "cell_type": "code",
   "execution_count": 1,
   "id": "35e882dc-3e9a-4498-9a3b-306c74a1bf0c",
   "metadata": {},
   "outputs": [],
   "source": [
    "# update command line tool -> \n",
    "# (1) csv save (with more columns)\n",
    "# (2) csv to model file update? (new script)\n",
    "# (3) augment annotation?\n",
    "import collections\n",
    "import compress_pickle\n",
    "import itertools\n",
    "import libsbml\n",
    "import numpy as np\n",
    "import os\n",
    "import pickle\n",
    "import pandas as pd\n",
    "import sys\n",
    "import time\n",
    "import matplotlib.pyplot as plt\n",
    "%matplotlib inline  \n",
    "\n",
    "BIOMD_12 = 'BIOMD0000000012.xml'\n",
    "BASE_DIR = '/Users/woosubs/Desktop/AutomateAnnotation/'\n",
    "DATA_DIR = os.path.join(BASE_DIR, \"DATA\")\n",
    "ALGO_DIR = os.path.join(DATA_DIR, \"algo\")\n",
    "CHEBI_DIR = os.path.join(DATA_DIR, \"chebi\")\n",
    "RHEA_DIR = os.path.join(DATA_DIR, \"rhea\")\n",
    "BIOMODEL_DIR = os.path.join(DATA_DIR, \"biomodels/curated_biomodels_31mar2021\")\n",
    "BIGG_DIR = '/Users/woosubs/Desktop/AutomateAnnotation/DATA/bigg'\n",
    "ecoli_fpath = os.path.join(BIGG_DIR, \"e_coli_core.xml\")\n",
    "\n",
    "PROJ_DIR = os.path.join(os.getcwd(), os.pardir)\n",
    "AMAS_DIR = os.path.join(PROJ_DIR, \"AMAS\")\n",
    "sys.path.append(PROJ_DIR)\n",
    "\n",
    "SUPPL_DIR = os.path.join(PROJ_DIR, os.pardir, \"AMAS_suppl\")\n",
    "ACCURACY_DIR = os.path.join(SUPPL_DIR, \"data_for_credibility\")\n",
    "RESULT_DIR = '/Users/woosubs/Desktop/AutomateAnnotation/AMAS_suppl/result_files'\n",
    "\n",
    "from AMAS import annotation_maker as am\n",
    "from AMAS import species_annotation as sa\n",
    "from AMAS import reaction_annotation as ra\n",
    "from AMAS import recommender\n",
    "from AMAS import constants as cn\n",
    "from AMAS import iterator as it\n",
    "from AMAS import tools"
   ]
  },
  {
   "cell_type": "code",
   "execution_count": 2,
   "id": "563b8d85-39c5-4388-8174-ff3bc1e50b3e",
   "metadata": {},
   "outputs": [],
   "source": [
    "E_COLI_PATH = '/Users/woosubs/Desktop/AutomateAnnotation/AMAS/AMAS/../tests/e_coli_core.xml'\n",
    "BIOMD_190_PATH = os.path.join(cn.TEST_DIR, 'BIOMD0000000190.xml')"
   ]
  },
  {
   "cell_type": "code",
   "execution_count": 3,
   "id": "7e13bfaa-ade8-4511-a238-c043f8ef67a7",
   "metadata": {},
   "outputs": [],
   "source": [
    "recom = recommender.Recommender(libsbml_fpath=BIOMD_190_PATH)"
   ]
  },
  {
   "cell_type": "code",
   "execution_count": 4,
   "id": "dad4908b-65ec-4674-ad5a-ede92663d4a5",
   "metadata": {},
   "outputs": [
    {
     "data": {
      "text/plain": [
       "['SAM', 'A', 'P', 'S', 'D', 'aS', 'aD', 'Met', 'ORN', 'AcCoA', 'CoA']"
      ]
     },
     "execution_count": 4,
     "metadata": {},
     "output_type": "execute_result"
    }
   ],
   "source": [
    "recom.getSpeciesIDs()"
   ]
  },
  {
   "cell_type": "code",
   "execution_count": 5,
   "id": "e467c012-4f1e-4774-b71e-cf895962798f",
   "metadata": {},
   "outputs": [
    {
     "data": {
      "text/plain": [
       "{'SAM': ['C15N6O5S'],\n",
       " 'A': ['C14N6O3S'],\n",
       " 'P': ['C4N2'],\n",
       " 'S': ['C10N4'],\n",
       " 'D': ['C7N3'],\n",
       " 'aS': ['C12N4O'],\n",
       " 'aD': ['C9N3O'],\n",
       " 'Met': ['C5NO2S'],\n",
       " 'ORN': ['C5N2O2'],\n",
       " 'AcCoA': ['C23N7O17P3S'],\n",
       " 'CoA': ['C21N7O16P3S']}"
      ]
     },
     "execution_count": 5,
     "metadata": {},
     "output_type": "execute_result"
    }
   ],
   "source": [
    "recom.species.exist_annotation_formula"
   ]
  },
  {
   "cell_type": "code",
   "execution_count": 6,
   "id": "464db925-3ede-492b-bb0f-cfcd9602d337",
   "metadata": {},
   "outputs": [
    {
     "name": "stdout",
     "output_type": "stream",
     "text": [
      "                      SAM (credibility score: 0.975)                      \n",
      "+----+--------------+---------------+------------------------------------+\n",
      "|    | annotation   |   match score | label                              |\n",
      "+====+==============+===============+====================================+\n",
      "|  1 | CHEBI:59789  |         1.000 | S-adenosyl-L-methionine zwitterion |\n",
      "+----+--------------+---------------+------------------------------------+\n",
      "|  2 | CHEBI:15414  |         1.000 | S-adenosyl-L-methionine            |\n",
      "+----+--------------+---------------+------------------------------------+\n",
      "\n",
      "                  aS (credibility score: 0.972)                  \n",
      "+----+--------------+---------------+---------------------------+\n",
      "|    | annotation   |   match score | label                     |\n",
      "+====+==============+===============+===========================+\n",
      "|  1 | CHEBI:58101  |         1.000 | N(1)-acetylsperminium(3+) |\n",
      "+----+--------------+---------------+---------------------------+\n",
      "|  2 | CHEBI:17312  |         1.000 | N(1)-acetylspermine       |\n",
      "+----+--------------+---------------+---------------------------+\n",
      "\n"
     ]
    }
   ],
   "source": [
    "recom.recommendSpecies(ids=['SAM', 'aS'], min_score=0.8)"
   ]
  },
  {
   "cell_type": "code",
   "execution_count": 7,
   "id": "0343395f-c7c9-417f-9051-1de75b3c525b",
   "metadata": {},
   "outputs": [
    {
     "name": "stdout",
     "output_type": "stream",
     "text": [
      "Selection updated.\n"
     ]
    }
   ],
   "source": [
    "recom.selectAnnotation(('SAM', [1,2]))"
   ]
  },
  {
   "cell_type": "code",
   "execution_count": 8,
   "id": "ccd3da26-fa8e-41f2-ab77-251971302031",
   "metadata": {},
   "outputs": [
    {
     "name": "stdout",
     "output_type": "stream",
     "text": [
      "Selection updated.\n"
     ]
    }
   ],
   "source": [
    "recom.selectAnnotation(('aS', [1,2]))"
   ]
  },
  {
   "cell_type": "code",
   "execution_count": 9,
   "id": "2df05192-83f8-47a8-a7f2-01952a675155",
   "metadata": {},
   "outputs": [
    {
     "data": {
      "text/plain": [
       "{'species': {'SAM':                     annotation  match score  \\\n",
       "  SAM (cred. 0.975)                             \n",
       "  1                  CHEBI:59789          1.0   \n",
       "  2                  CHEBI:15414          1.0   \n",
       "  \n",
       "                                                  label  \n",
       "  SAM (cred. 0.975)                                      \n",
       "  1                  S-adenosyl-L-methionine zwitterion  \n",
       "  2                             S-adenosyl-L-methionine  ,\n",
       "  'aS':                    annotation  match score                      label\n",
       "  aS (cred. 0.972)                                                     \n",
       "  1                 CHEBI:58101          1.0  N(1)-acetylsperminium(3+)\n",
       "  2                 CHEBI:17312          1.0        N(1)-acetylspermine},\n",
       " 'reaction': {}}"
      ]
     },
     "execution_count": 9,
     "metadata": {},
     "output_type": "execute_result"
    }
   ],
   "source": [
    "recom.selection"
   ]
  },
  {
   "cell_type": "code",
   "execution_count": 10,
   "id": "7ac3fb56-6023-471a-b70d-c8d9e7a017ab",
   "metadata": {},
   "outputs": [
    {
     "name": "stdout",
     "output_type": "stream",
     "text": [
      "                                        ODC (credibility score: 0.817)                                       \n",
      "+----+--------------+---------------+-----------------------------------------------------------------------+\n",
      "|    | annotation   |   match score | label                                                                 |\n",
      "+====+==============+===============+=======================================================================+\n",
      "|  1 | RHEA:28827   |         1.000 | L-ornithine(out) + putrescine(in) = L-ornithine(in) + putrescine(out) |\n",
      "+----+--------------+---------------+-----------------------------------------------------------------------+\n",
      "\n",
      "     SAMdc (credibility score: 0.587)     \n",
      "+--------------+---------------+---------+\n",
      "| annotation   | match score   | label   |\n",
      "+==============+===============+=========+\n",
      "+--------------+---------------+---------+\n",
      "\n"
     ]
    }
   ],
   "source": [
    "recom.recommendReaction(ids=['ODC', 'SAMdc'], min_score=0.8)"
   ]
  },
  {
   "cell_type": "code",
   "execution_count": 11,
   "id": "3e0da49b-4ed5-4505-843c-d41559dbe27d",
   "metadata": {},
   "outputs": [
    {
     "name": "stdout",
     "output_type": "stream",
     "text": [
      "Selection updated.\n"
     ]
    }
   ],
   "source": [
    "recom.selectAnnotation(('ODC', 1))"
   ]
  },
  {
   "cell_type": "code",
   "execution_count": null,
   "id": "0a8912d8-c8eb-4f2a-89c8-d8d7edb783ab",
   "metadata": {},
   "outputs": [],
   "source": []
  },
  {
   "cell_type": "code",
   "execution_count": 12,
   "id": "3c8b2635-b468-4b9c-bb0e-42760db04523",
   "metadata": {},
   "outputs": [],
   "source": [
    "one_type = 'species'\n",
    "type_selection = recom.selection[one_type]\n",
    "\n",
    "# if species\n",
    "TYPE_EXISTING_ATTR = {'species': recom.species.exist_annotation,\n",
    "                      'reaction': recom.reactions.exist_annotation}\n",
    "\n",
    "\n",
    "model = recom.sbml_document.getModel()\n",
    "element_df = pd.concat([type_selection[k] for k in type_selection.keys()])\n",
    "\n",
    "fnames = [recom.fname]*element_df.shape[0]\n",
    "ids = list(itertools.chain(*[[k]*type_selection[k].shape[0] \\\n",
    "                           for k in type_selection.keys()]))\n",
    "metaids = list(itertools.chain(*[[model.getSpecies(k).meta_id]*type_selection[k].shape[0] \\\n",
    "                                 for k in type_selection.keys()]))\n",
    "\n",
    "\n",
    "display_names = list(itertools.chain(*[[model.getSpecies(k).name]*type_selection[k].shape[0] \\\n",
    "                                      for k in type_selection.keys()]))\n",
    "existing = [1 if val in TYPE_EXISTING_ATTR[one_type][ids[idx]] else 0 \\\n",
    "            for idx, val in enumerate(element_df['annotation'])]\n",
    "types = [one_type]*len(ids)\n",
    "element_df.insert(0, \"file\", fnames)\n",
    "element_df.insert(1, \"type\", types)\n",
    "element_df.insert(2, \"id\", ids)\n",
    "element_df.insert(3, \"meta id\", metaids)\n",
    "element_df.insert(4, \"display name\", display_names)\n",
    "element_df[\"existing\"] = existing\n",
    "element_df[\"USE ANNOTATION\"] = 0"
   ]
  },
  {
   "cell_type": "code",
   "execution_count": 13,
   "id": "75d910c3-4548-42b1-b43d-ae4aa1e65877",
   "metadata": {},
   "outputs": [],
   "source": [
    "# # index is not going to be saved; \n",
    "# element_df"
   ]
  },
  {
   "cell_type": "code",
   "execution_count": 14,
   "id": "14ce6842-daf7-4632-962b-ac89ee955c9b",
   "metadata": {},
   "outputs": [
    {
     "data": {
      "text/plain": [
       "{'species': {'SAM':                     annotation  match score  \\\n",
       "  SAM (cred. 0.975)                             \n",
       "  1                  CHEBI:59789          1.0   \n",
       "  2                  CHEBI:15414          1.0   \n",
       "  \n",
       "                                                  label  \n",
       "  SAM (cred. 0.975)                                      \n",
       "  1                  S-adenosyl-L-methionine zwitterion  \n",
       "  2                             S-adenosyl-L-methionine  ,\n",
       "  'aS':                    annotation  match score                      label\n",
       "  aS (cred. 0.972)                                                     \n",
       "  1                 CHEBI:58101          1.0  N(1)-acetylsperminium(3+)\n",
       "  2                 CHEBI:17312          1.0        N(1)-acetylspermine},\n",
       " 'reaction': {'ODC':                    annotation  match score  \\\n",
       "  ODC (cred. 0.817)                            \n",
       "  1                  RHEA:28827          1.0   \n",
       "  \n",
       "                                                                 label  \n",
       "  ODC (cred. 0.817)                                                     \n",
       "  1                  L-ornithine(out) + putrescine(in) = L-ornithin...  }}"
      ]
     },
     "execution_count": 14,
     "metadata": {},
     "output_type": "execute_result"
    }
   ],
   "source": [
    "recom.selection"
   ]
  },
  {
   "cell_type": "code",
   "execution_count": 15,
   "id": "a9a23df4-9813-4a39-8f79-ff58e0b5f437",
   "metadata": {},
   "outputs": [],
   "source": [
    "recom.saveToCSV()"
   ]
  },
  {
   "cell_type": "code",
   "execution_count": null,
   "id": "683b4a37-614a-41d7-9e5a-3afa3fd54148",
   "metadata": {},
   "outputs": [],
   "source": []
  },
  {
   "cell_type": "code",
   "execution_count": null,
   "id": "98528b40-7d99-4992-9673-2684d1224c17",
   "metadata": {},
   "outputs": [],
   "source": [
    "# Now, use an updated csv file to update model annotation"
   ]
  },
  {
   "cell_type": "code",
   "execution_count": 16,
   "id": "e0b19cd0-2fa4-4eda-bd27-5e7001f9f203",
   "metadata": {},
   "outputs": [
    {
     "data": {
      "text/plain": [
       "'/Users/woosubs/Desktop/AutomateAnnotation/AMAS/notebooks'"
      ]
     },
     "execution_count": 16,
     "metadata": {},
     "output_type": "execute_result"
    }
   ],
   "source": [
    "os.getcwd()"
   ]
  },
  {
   "cell_type": "code",
   "execution_count": 17,
   "id": "43bfdd3d-be35-4452-b3a7-e30ad7fea864",
   "metadata": {},
   "outputs": [],
   "source": [
    "RES_DIR = os.path.join(AMAS_DIR, 'res')"
   ]
  },
  {
   "cell_type": "code",
   "execution_count": 19,
   "id": "0eec874c-c0ad-4c0b-a7d7-55cddc4b42a8",
   "metadata": {},
   "outputs": [],
   "source": [
    "user_blessing = pd.read_csv(os.path.join(RES_DIR, 'species_recommendation.csv'))"
   ]
  },
  {
   "cell_type": "code",
   "execution_count": 22,
   "id": "338a17e4-94d3-468f-99be-4358fcb1d95a",
   "metadata": {},
   "outputs": [
    {
     "data": {
      "text/html": [
       "<div>\n",
       "<style scoped>\n",
       "    .dataframe tbody tr th:only-of-type {\n",
       "        vertical-align: middle;\n",
       "    }\n",
       "\n",
       "    .dataframe tbody tr th {\n",
       "        vertical-align: top;\n",
       "    }\n",
       "\n",
       "    .dataframe thead th {\n",
       "        text-align: right;\n",
       "    }\n",
       "</style>\n",
       "<table border=\"1\" class=\"dataframe\">\n",
       "  <thead>\n",
       "    <tr style=\"text-align: right;\">\n",
       "      <th></th>\n",
       "      <th>file</th>\n",
       "      <th>type</th>\n",
       "      <th>id</th>\n",
       "      <th>meta id</th>\n",
       "      <th>display name</th>\n",
       "      <th>annotation</th>\n",
       "      <th>match score</th>\n",
       "      <th>label</th>\n",
       "      <th>existing</th>\n",
       "      <th>USE ANNOTATION</th>\n",
       "    </tr>\n",
       "  </thead>\n",
       "  <tbody>\n",
       "    <tr>\n",
       "      <th>0</th>\n",
       "      <td>BIOMD0000000190.xml</td>\n",
       "      <td>species</td>\n",
       "      <td>SAM</td>\n",
       "      <td>metaid_0000036</td>\n",
       "      <td>S-adenosyl-L-methionine</td>\n",
       "      <td>CHEBI:59789</td>\n",
       "      <td>1.0</td>\n",
       "      <td>S-adenosyl-L-methionine zwitterion</td>\n",
       "      <td>0</td>\n",
       "      <td>1</td>\n",
       "    </tr>\n",
       "    <tr>\n",
       "      <th>5</th>\n",
       "      <td>BIOMD0000000190.xml</td>\n",
       "      <td>species</td>\n",
       "      <td>S</td>\n",
       "      <td>metaid_0000039</td>\n",
       "      <td>Spermine</td>\n",
       "      <td>CHEBI:45725</td>\n",
       "      <td>1.0</td>\n",
       "      <td>spermine(4+)</td>\n",
       "      <td>0</td>\n",
       "      <td>1</td>\n",
       "    </tr>\n",
       "    <tr>\n",
       "      <th>8</th>\n",
       "      <td>BIOMD0000000190.xml</td>\n",
       "      <td>species</td>\n",
       "      <td>D</td>\n",
       "      <td>metaid_0000040</td>\n",
       "      <td>Spermidine</td>\n",
       "      <td>CHEBI:16610</td>\n",
       "      <td>1.0</td>\n",
       "      <td>spermidine</td>\n",
       "      <td>1</td>\n",
       "      <td>1</td>\n",
       "    </tr>\n",
       "    <tr>\n",
       "      <th>13</th>\n",
       "      <td>BIOMD0000000190.xml</td>\n",
       "      <td>species</td>\n",
       "      <td>Met</td>\n",
       "      <td>metaid_0000043</td>\n",
       "      <td>Methionine</td>\n",
       "      <td>CHEBI:64558</td>\n",
       "      <td>1.0</td>\n",
       "      <td>methionine zwitterion</td>\n",
       "      <td>0</td>\n",
       "      <td>1</td>\n",
       "    </tr>\n",
       "    <tr>\n",
       "      <th>16</th>\n",
       "      <td>BIOMD0000000190.xml</td>\n",
       "      <td>species</td>\n",
       "      <td>ORN</td>\n",
       "      <td>metaid_0000044</td>\n",
       "      <td>L-Ornithine</td>\n",
       "      <td>CHEBI:46911</td>\n",
       "      <td>1.0</td>\n",
       "      <td>L-ornithinium(1+)</td>\n",
       "      <td>0</td>\n",
       "      <td>1</td>\n",
       "    </tr>\n",
       "    <tr>\n",
       "      <th>18</th>\n",
       "      <td>BIOMD0000000190.xml</td>\n",
       "      <td>species</td>\n",
       "      <td>AcCoA</td>\n",
       "      <td>metaid_0000045</td>\n",
       "      <td>Acetyl-CoA</td>\n",
       "      <td>CHEBI:15351</td>\n",
       "      <td>1.0</td>\n",
       "      <td>acetyl-CoA</td>\n",
       "      <td>1</td>\n",
       "      <td>1</td>\n",
       "    </tr>\n",
       "    <tr>\n",
       "      <th>22</th>\n",
       "      <td>BIOMD0000000190.xml</td>\n",
       "      <td>species</td>\n",
       "      <td>CoA</td>\n",
       "      <td>metaid_0000046</td>\n",
       "      <td>CoA</td>\n",
       "      <td>CHEBI:15346</td>\n",
       "      <td>1.0</td>\n",
       "      <td>coenzyme A</td>\n",
       "      <td>1</td>\n",
       "      <td>1</td>\n",
       "    </tr>\n",
       "  </tbody>\n",
       "</table>\n",
       "</div>"
      ],
      "text/plain": [
       "                   file     type     id         meta id  \\\n",
       "0   BIOMD0000000190.xml  species    SAM  metaid_0000036   \n",
       "5   BIOMD0000000190.xml  species      S  metaid_0000039   \n",
       "8   BIOMD0000000190.xml  species      D  metaid_0000040   \n",
       "13  BIOMD0000000190.xml  species    Met  metaid_0000043   \n",
       "16  BIOMD0000000190.xml  species    ORN  metaid_0000044   \n",
       "18  BIOMD0000000190.xml  species  AcCoA  metaid_0000045   \n",
       "22  BIOMD0000000190.xml  species    CoA  metaid_0000046   \n",
       "\n",
       "               display name   annotation  match score  \\\n",
       "0   S-adenosyl-L-methionine  CHEBI:59789          1.0   \n",
       "5                  Spermine  CHEBI:45725          1.0   \n",
       "8                Spermidine  CHEBI:16610          1.0   \n",
       "13               Methionine  CHEBI:64558          1.0   \n",
       "16              L-Ornithine  CHEBI:46911          1.0   \n",
       "18               Acetyl-CoA  CHEBI:15351          1.0   \n",
       "22                      CoA  CHEBI:15346          1.0   \n",
       "\n",
       "                                 label  existing  USE ANNOTATION  \n",
       "0   S-adenosyl-L-methionine zwitterion         0               1  \n",
       "5                         spermine(4+)         0               1  \n",
       "8                           spermidine         1               1  \n",
       "13               methionine zwitterion         0               1  \n",
       "16                   L-ornithinium(1+)         0               1  \n",
       "18                          acetyl-CoA         1               1  \n",
       "22                          coenzyme A         1               1  "
      ]
     },
     "execution_count": 22,
     "metadata": {},
     "output_type": "execute_result"
    }
   ],
   "source": [
    "chosen = user_blessing[user_blessing['USE ANNOTATION']==1]\n",
    "chosen"
   ]
  },
  {
   "cell_type": "code",
   "execution_count": 53,
   "id": "39664229-c419-485d-bdac-d8aab7566fb5",
   "metadata": {},
   "outputs": [
    {
     "data": {
      "text/plain": [
       "1"
      ]
     },
     "execution_count": 53,
     "metadata": {},
     "output_type": "execute_result"
    }
   ],
   "source": [
    "reader = libsbml.SBMLReader()\n",
    "document = reader.readSBML(BIOMD_190_PATH)\n",
    "model = document.getModel()\n",
    "\n",
    "element_types = list(np.unique(chosen['type']))\n",
    "for one_type in element_types:\n",
    "  maker = am.AnnotationMaker(one_type)\n",
    "  df_type = chosen[chosen['type']==one_type]\n",
    "  uids = list(np.unique(df_type['id']))\n",
    "  meta_ids = {val:list(df_type[df_type['id']=='D']['meta id'])[0] for val in uids}\n",
    "  for one_id in uids:\n",
    "    one_annotation = maker.getAnnotationString(list(df_type[df_type['id']==one_id]['annotation']),\n",
    "                                               meta_ids[one_id])\n",
    "    model.getSpecies(one_id).setAnnotation(one_annotation)\n",
    "\n",
    "fpath=\"model_amas_annotations.xml\"\n",
    "libsbml.writeSBMLToFile(document, fpath)"
   ]
  },
  {
   "cell_type": "code",
   "execution_count": 32,
   "id": "acfd6f4d-8e3b-415b-bbb5-ddd82a537bbc",
   "metadata": {},
   "outputs": [
    {
     "data": {
      "text/html": [
       "<div>\n",
       "<style scoped>\n",
       "    .dataframe tbody tr th:only-of-type {\n",
       "        vertical-align: middle;\n",
       "    }\n",
       "\n",
       "    .dataframe tbody tr th {\n",
       "        vertical-align: top;\n",
       "    }\n",
       "\n",
       "    .dataframe thead th {\n",
       "        text-align: right;\n",
       "    }\n",
       "</style>\n",
       "<table border=\"1\" class=\"dataframe\">\n",
       "  <thead>\n",
       "    <tr style=\"text-align: right;\">\n",
       "      <th></th>\n",
       "      <th>file</th>\n",
       "      <th>type</th>\n",
       "      <th>id</th>\n",
       "      <th>meta id</th>\n",
       "      <th>display name</th>\n",
       "      <th>annotation</th>\n",
       "      <th>match score</th>\n",
       "      <th>label</th>\n",
       "      <th>existing</th>\n",
       "      <th>USE ANNOTATION</th>\n",
       "    </tr>\n",
       "  </thead>\n",
       "  <tbody>\n",
       "    <tr>\n",
       "      <th>0</th>\n",
       "      <td>BIOMD0000000190.xml</td>\n",
       "      <td>species</td>\n",
       "      <td>SAM</td>\n",
       "      <td>metaid_0000036</td>\n",
       "      <td>S-adenosyl-L-methionine</td>\n",
       "      <td>CHEBI:59789</td>\n",
       "      <td>1.0</td>\n",
       "      <td>S-adenosyl-L-methionine zwitterion</td>\n",
       "      <td>0</td>\n",
       "      <td>1</td>\n",
       "    </tr>\n",
       "    <tr>\n",
       "      <th>5</th>\n",
       "      <td>BIOMD0000000190.xml</td>\n",
       "      <td>species</td>\n",
       "      <td>S</td>\n",
       "      <td>metaid_0000039</td>\n",
       "      <td>Spermine</td>\n",
       "      <td>CHEBI:45725</td>\n",
       "      <td>1.0</td>\n",
       "      <td>spermine(4+)</td>\n",
       "      <td>0</td>\n",
       "      <td>1</td>\n",
       "    </tr>\n",
       "    <tr>\n",
       "      <th>8</th>\n",
       "      <td>BIOMD0000000190.xml</td>\n",
       "      <td>species</td>\n",
       "      <td>D</td>\n",
       "      <td>metaid_0000040</td>\n",
       "      <td>Spermidine</td>\n",
       "      <td>CHEBI:16610</td>\n",
       "      <td>1.0</td>\n",
       "      <td>spermidine</td>\n",
       "      <td>1</td>\n",
       "      <td>1</td>\n",
       "    </tr>\n",
       "    <tr>\n",
       "      <th>13</th>\n",
       "      <td>BIOMD0000000190.xml</td>\n",
       "      <td>species</td>\n",
       "      <td>Met</td>\n",
       "      <td>metaid_0000043</td>\n",
       "      <td>Methionine</td>\n",
       "      <td>CHEBI:64558</td>\n",
       "      <td>1.0</td>\n",
       "      <td>methionine zwitterion</td>\n",
       "      <td>0</td>\n",
       "      <td>1</td>\n",
       "    </tr>\n",
       "    <tr>\n",
       "      <th>16</th>\n",
       "      <td>BIOMD0000000190.xml</td>\n",
       "      <td>species</td>\n",
       "      <td>ORN</td>\n",
       "      <td>metaid_0000044</td>\n",
       "      <td>L-Ornithine</td>\n",
       "      <td>CHEBI:46911</td>\n",
       "      <td>1.0</td>\n",
       "      <td>L-ornithinium(1+)</td>\n",
       "      <td>0</td>\n",
       "      <td>1</td>\n",
       "    </tr>\n",
       "    <tr>\n",
       "      <th>18</th>\n",
       "      <td>BIOMD0000000190.xml</td>\n",
       "      <td>species</td>\n",
       "      <td>AcCoA</td>\n",
       "      <td>metaid_0000045</td>\n",
       "      <td>Acetyl-CoA</td>\n",
       "      <td>CHEBI:15351</td>\n",
       "      <td>1.0</td>\n",
       "      <td>acetyl-CoA</td>\n",
       "      <td>1</td>\n",
       "      <td>1</td>\n",
       "    </tr>\n",
       "    <tr>\n",
       "      <th>22</th>\n",
       "      <td>BIOMD0000000190.xml</td>\n",
       "      <td>species</td>\n",
       "      <td>CoA</td>\n",
       "      <td>metaid_0000046</td>\n",
       "      <td>CoA</td>\n",
       "      <td>CHEBI:15346</td>\n",
       "      <td>1.0</td>\n",
       "      <td>coenzyme A</td>\n",
       "      <td>1</td>\n",
       "      <td>1</td>\n",
       "    </tr>\n",
       "  </tbody>\n",
       "</table>\n",
       "</div>"
      ],
      "text/plain": [
       "                   file     type     id         meta id  \\\n",
       "0   BIOMD0000000190.xml  species    SAM  metaid_0000036   \n",
       "5   BIOMD0000000190.xml  species      S  metaid_0000039   \n",
       "8   BIOMD0000000190.xml  species      D  metaid_0000040   \n",
       "13  BIOMD0000000190.xml  species    Met  metaid_0000043   \n",
       "16  BIOMD0000000190.xml  species    ORN  metaid_0000044   \n",
       "18  BIOMD0000000190.xml  species  AcCoA  metaid_0000045   \n",
       "22  BIOMD0000000190.xml  species    CoA  metaid_0000046   \n",
       "\n",
       "               display name   annotation  match score  \\\n",
       "0   S-adenosyl-L-methionine  CHEBI:59789          1.0   \n",
       "5                  Spermine  CHEBI:45725          1.0   \n",
       "8                Spermidine  CHEBI:16610          1.0   \n",
       "13               Methionine  CHEBI:64558          1.0   \n",
       "16              L-Ornithine  CHEBI:46911          1.0   \n",
       "18               Acetyl-CoA  CHEBI:15351          1.0   \n",
       "22                      CoA  CHEBI:15346          1.0   \n",
       "\n",
       "                                 label  existing  USE ANNOTATION  \n",
       "0   S-adenosyl-L-methionine zwitterion         0               1  \n",
       "5                         spermine(4+)         0               1  \n",
       "8                           spermidine         1               1  \n",
       "13               methionine zwitterion         0               1  \n",
       "16                   L-ornithinium(1+)         0               1  \n",
       "18                          acetyl-CoA         1               1  \n",
       "22                          coenzyme A         1               1  "
      ]
     },
     "execution_count": 32,
     "metadata": {},
     "output_type": "execute_result"
    }
   ],
   "source": [
    "df_type"
   ]
  },
  {
   "cell_type": "code",
   "execution_count": 35,
   "id": "22159aa4-8685-4d89-ba81-1b25546c201a",
   "metadata": {},
   "outputs": [
    {
     "data": {
      "text/plain": [
       "['AcCoA', 'CoA', 'D', 'Met', 'ORN', 'S', 'SAM']"
      ]
     },
     "execution_count": 35,
     "metadata": {},
     "output_type": "execute_result"
    }
   ],
   "source": [
    "uids"
   ]
  },
  {
   "cell_type": "code",
   "execution_count": 52,
   "id": "f2ef73d2-8961-4584-a2ca-693c089234f2",
   "metadata": {},
   "outputs": [
    {
     "name": "stdout",
     "output_type": "stream",
     "text": [
      "AcCoA\n",
      "<annotation>\n",
      "  <rdf:RDF xmlns:rdf=\"http://www.w3.org/1999/02/22-rdf-syntax-ns#\" xmlns:dc=\"http://purl.org/dc/elements/1.1/\" xmlns:dcterms=\"http://purl.org/dc/terms/\" xmlns:vCard=\"http://www.w3.org/2001/vcard-rdf/3.0#\" xmlns:bqbiol=\"http://biomodels.net/biology-qualifiers/\" xmlns:bqmodel=\"http://biomodels.net/model-qualifiers/\">\n",
      "    <rdf:Description rdf:about=\"#metaid_0000045\">\n",
      "      <bqbiol:is>\n",
      "        <rdf:Bag>\n",
      "          <rdf:li rdf:resource=\"http://identifiers.org/chebi/CHEBI:15351\"/>\n",
      "        </rdf:Bag>\n",
      "      </bqbiol:is>\n",
      "    </rdf:Description>\n",
      "  </rdf:RDF>\n",
      "</annotation>\n",
      "\n",
      "\n",
      "\n",
      "CoA\n",
      "<annotation>\n",
      "  <rdf:RDF xmlns:rdf=\"http://www.w3.org/1999/02/22-rdf-syntax-ns#\" xmlns:dc=\"http://purl.org/dc/elements/1.1/\" xmlns:dcterms=\"http://purl.org/dc/terms/\" xmlns:vCard=\"http://www.w3.org/2001/vcard-rdf/3.0#\" xmlns:bqbiol=\"http://biomodels.net/biology-qualifiers/\" xmlns:bqmodel=\"http://biomodels.net/model-qualifiers/\">\n",
      "    <rdf:Description rdf:about=\"#metaid_0000046\">\n",
      "      <bqbiol:is>\n",
      "        <rdf:Bag>\n",
      "          <rdf:li rdf:resource=\"http://identifiers.org/chebi/CHEBI:15346\"/>\n",
      "        </rdf:Bag>\n",
      "      </bqbiol:is>\n",
      "    </rdf:Description>\n",
      "  </rdf:RDF>\n",
      "</annotation>\n",
      "\n",
      "\n",
      "\n",
      "D\n",
      "<annotation>\n",
      "  <rdf:RDF xmlns:rdf=\"http://www.w3.org/1999/02/22-rdf-syntax-ns#\" xmlns:dc=\"http://purl.org/dc/elements/1.1/\" xmlns:dcterms=\"http://purl.org/dc/terms/\" xmlns:vCard=\"http://www.w3.org/2001/vcard-rdf/3.0#\" xmlns:bqbiol=\"http://biomodels.net/biology-qualifiers/\" xmlns:bqmodel=\"http://biomodels.net/model-qualifiers/\">\n",
      "    <rdf:Description rdf:about=\"#metaid_0000040\">\n",
      "      <bqbiol:is>\n",
      "        <rdf:Bag>\n",
      "          <rdf:li rdf:resource=\"http://identifiers.org/chebi/CHEBI:16610\"/>\n",
      "        </rdf:Bag>\n",
      "      </bqbiol:is>\n",
      "    </rdf:Description>\n",
      "  </rdf:RDF>\n",
      "</annotation>\n",
      "\n",
      "\n",
      "\n",
      "Met\n",
      "<annotation>\n",
      "  <rdf:RDF xmlns:rdf=\"http://www.w3.org/1999/02/22-rdf-syntax-ns#\" xmlns:dc=\"http://purl.org/dc/elements/1.1/\" xmlns:dcterms=\"http://purl.org/dc/terms/\" xmlns:vCard=\"http://www.w3.org/2001/vcard-rdf/3.0#\" xmlns:bqbiol=\"http://biomodels.net/biology-qualifiers/\" xmlns:bqmodel=\"http://biomodels.net/model-qualifiers/\">\n",
      "    <rdf:Description rdf:about=\"#metaid_0000043\">\n",
      "      <bqbiol:is>\n",
      "        <rdf:Bag>\n",
      "          <rdf:li rdf:resource=\"http://identifiers.org/chebi/CHEBI:64558\"/>\n",
      "        </rdf:Bag>\n",
      "      </bqbiol:is>\n",
      "    </rdf:Description>\n",
      "  </rdf:RDF>\n",
      "</annotation>\n",
      "\n",
      "\n",
      "\n",
      "ORN\n",
      "<annotation>\n",
      "  <rdf:RDF xmlns:rdf=\"http://www.w3.org/1999/02/22-rdf-syntax-ns#\" xmlns:dc=\"http://purl.org/dc/elements/1.1/\" xmlns:dcterms=\"http://purl.org/dc/terms/\" xmlns:vCard=\"http://www.w3.org/2001/vcard-rdf/3.0#\" xmlns:bqbiol=\"http://biomodels.net/biology-qualifiers/\" xmlns:bqmodel=\"http://biomodels.net/model-qualifiers/\">\n",
      "    <rdf:Description rdf:about=\"#metaid_0000044\">\n",
      "      <bqbiol:is>\n",
      "        <rdf:Bag>\n",
      "          <rdf:li rdf:resource=\"http://identifiers.org/chebi/CHEBI:46911\"/>\n",
      "        </rdf:Bag>\n",
      "      </bqbiol:is>\n",
      "    </rdf:Description>\n",
      "  </rdf:RDF>\n",
      "</annotation>\n",
      "\n",
      "\n",
      "\n",
      "S\n",
      "<annotation>\n",
      "  <rdf:RDF xmlns:rdf=\"http://www.w3.org/1999/02/22-rdf-syntax-ns#\" xmlns:dc=\"http://purl.org/dc/elements/1.1/\" xmlns:dcterms=\"http://purl.org/dc/terms/\" xmlns:vCard=\"http://www.w3.org/2001/vcard-rdf/3.0#\" xmlns:bqbiol=\"http://biomodels.net/biology-qualifiers/\" xmlns:bqmodel=\"http://biomodels.net/model-qualifiers/\">\n",
      "    <rdf:Description rdf:about=\"#metaid_0000039\">\n",
      "      <bqbiol:is>\n",
      "        <rdf:Bag>\n",
      "          <rdf:li rdf:resource=\"http://identifiers.org/chebi/CHEBI:45725\"/>\n",
      "        </rdf:Bag>\n",
      "      </bqbiol:is>\n",
      "    </rdf:Description>\n",
      "  </rdf:RDF>\n",
      "</annotation>\n",
      "\n",
      "\n",
      "\n",
      "SAM\n",
      "<annotation>\n",
      "  <rdf:RDF xmlns:rdf=\"http://www.w3.org/1999/02/22-rdf-syntax-ns#\" xmlns:dc=\"http://purl.org/dc/elements/1.1/\" xmlns:dcterms=\"http://purl.org/dc/terms/\" xmlns:vCard=\"http://www.w3.org/2001/vcard-rdf/3.0#\" xmlns:bqbiol=\"http://biomodels.net/biology-qualifiers/\" xmlns:bqmodel=\"http://biomodels.net/model-qualifiers/\">\n",
      "    <rdf:Description rdf:about=\"#metaid_0000036\">\n",
      "      <bqbiol:is>\n",
      "        <rdf:Bag>\n",
      "          <rdf:li rdf:resource=\"http://identifiers.org/chebi/CHEBI:59789\"/>\n",
      "        </rdf:Bag>\n",
      "      </bqbiol:is>\n",
      "    </rdf:Description>\n",
      "  </rdf:RDF>\n",
      "</annotation>\n",
      "\n",
      "\n",
      "\n"
     ]
    }
   ],
   "source": [
    "for one_id in uids:\n",
    "  print(one_id)\n",
    "  print(model.getSpecies(one_id).getAnnotationString())\n",
    "  print('\\n\\n')"
   ]
  },
  {
   "cell_type": "code",
   "execution_count": 46,
   "id": "ededa074-dbb2-47d0-825f-4b4136f64e1d",
   "metadata": {},
   "outputs": [
    {
     "data": {
      "text/plain": [
       "{'AcCoA': 'metaid_0000040',\n",
       " 'CoA': 'metaid_0000040',\n",
       " 'D': 'metaid_0000040',\n",
       " 'Met': 'metaid_0000040',\n",
       " 'ORN': 'metaid_0000040',\n",
       " 'S': 'metaid_0000040',\n",
       " 'SAM': 'metaid_0000040'}"
      ]
     },
     "execution_count": 46,
     "metadata": {},
     "output_type": "execute_result"
    }
   ],
   "source": [
    "meta_ids"
   ]
  },
  {
   "cell_type": "code",
   "execution_count": 48,
   "id": "ecb9dbdd-c2d0-491f-8d15-1aea6580b55b",
   "metadata": {},
   "outputs": [
    {
     "name": "stdout",
     "output_type": "stream",
     "text": [
      "<annotation>\n",
      "  <rdf:RDF xmlns:rdf=\"http://www.w3.org/1999/02/22-rdf-syntax-ns#\" xmlns:dcterms=\"http://purl.org/dc/terms/\" xmlns:vcard4=\"http://www.w3.org/2006/vcard/ns#\" xmlns:bqbiol=\"http://biomodels.net/biology-qualifiers/\" xmlns:bqmodel=\"http://biomodels.net/model-qualifiers/\">\n",
      "    <rdf:Description rdf:about=\"#metaid_0000040\">\n",
      "      <bqbiol:is>\n",
      "        <rdf:Bag>\n",
      "          <rdf:li rdf:resource=\"http://identifiers.org/chebi/CHEBI:59789\"/>\n",
      "        </rdf:Bag>\n",
      "      </bqbiol:is>\n",
      "    </rdf:Description>\n",
      "  </rdf:RDF>\n",
      "</annotation>\n"
     ]
    }
   ],
   "source": [
    "print(one_annotation)"
   ]
  },
  {
   "cell_type": "code",
   "execution_count": null,
   "id": "994e2ba2-a069-43e0-b62a-215b1d72f3d4",
   "metadata": {},
   "outputs": [],
   "source": []
  }
 ],
 "metadata": {
  "kernelspec": {
   "display_name": "Python 3 (ipykernel)",
   "language": "python",
   "name": "python3"
  },
  "language_info": {
   "codemirror_mode": {
    "name": "ipython",
    "version": 3
   },
   "file_extension": ".py",
   "mimetype": "text/x-python",
   "name": "python",
   "nbconvert_exporter": "python",
   "pygments_lexer": "ipython3",
   "version": "3.9.15"
  }
 },
 "nbformat": 4,
 "nbformat_minor": 5
}
