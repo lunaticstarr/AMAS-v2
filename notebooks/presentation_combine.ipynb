{
 "cells": [
  {
   "cell_type": "code",
   "execution_count": 1,
   "id": "f1f022e2",
   "metadata": {},
   "outputs": [
    {
     "name": "stdout",
     "output_type": "stream",
     "text": [
      "1000\n"
     ]
    }
   ],
   "source": [
    "# pictures to demo combine\n",
    "\n",
    "import collections\n",
    "import editdistance\n",
    "import libsbml\n",
    "import numpy as np\n",
    "import os\n",
    "import pickle\n",
    "import pandas as pd\n",
    "import sys\n",
    "import matplotlib.pyplot as plt\n",
    "%matplotlib inline  \n",
    "\n",
    "BIOMD_12 = 'BIOMD0000000012.xml'\n",
    "BASE_DIR = '/Users/woosubs/Desktop/AutomateAnnotation/'\n",
    "DATA_DIR = os.path.join(BASE_DIR, \"DATA\")\n",
    "ALGO_DIR = os.path.join(DATA_DIR, \"algo\")\n",
    "CHEBI_DIR = os.path.join(DATA_DIR, \"chebi\")\n",
    "RHEA_DIR = os.path.join(DATA_DIR, \"rhea\")\n",
    "BIOMODEL_DIR = os.path.join(DATA_DIR, \"biomodels/curated_biomodels_31mar2021\")\n",
    "BIGG_DIR = '/Users/woosubs/Desktop/AutomateAnnotation/DATA/bigg'\n",
    "ecoli_fpath = os.path.join(BIGG_DIR, \"e_coli_core.xml\")\n",
    "\n",
    "all_biomd_fpaths = [val for val in os.listdir(BIOMODEL_DIR) if val[-4:]=='.xml']\n",
    "print(len(all_biomd_fpaths))\n",
    "\n",
    "PROJ_DIR = os.path.join(os.getcwd(), os.pardir)\n",
    "AMAS_DIR = os.path.join(PROJ_DIR, \"AMAS\")\n",
    "sys.path.append(PROJ_DIR)\n",
    "\n",
    "from AMAS import species_annotation as sa\n",
    "from AMAS import reaction_annotation as ra\n",
    "from AMAS import constants as cn\n",
    "from AMAS import tools"
   ]
  },
  {
   "cell_type": "code",
   "execution_count": 17,
   "id": "3fe69fcc",
   "metadata": {},
   "outputs": [
    {
     "name": "stdout",
     "output_type": "stream",
     "text": [
      "We are at 0\n",
      "We are at 100\n",
      "We are at 200\n",
      "We are at 300\n",
      "We are at 400\n",
      "We are at 500\n",
      "We are at 600\n",
      "We are at 700\n",
      "We are at 800\n",
      "We are at 900\n",
      "Count: 752\n"
     ]
    }
   ],
   "source": [
    "# First, get statistics of models.. \n",
    "count = 0\n",
    "for idx, one_fpath in enumerate(all_biomd_fpaths):\n",
    "  if idx % 100 == 0:\n",
    "    print(\"We are at\", idx)\n",
    "  reader = libsbml.SBMLReader()\n",
    "  document = reader.readSBML(os.path.join(BIOMODEL_DIR, one_fpath))\n",
    "  model = document.getModel()\n",
    "  spec_annotations = [val.getAnnotationString() for val \\\n",
    "                      in model.getListOfSpecies()]\n",
    "  filt_spec = [val for val in spec_annotations if len(val)>0]\n",
    "  reac_annotations = [val.getAnnotationString() for val \\\n",
    "                      in model.getListOfReactions()]\n",
    "  filt_reac = [val for val in reac_annotations if len(val)>0]\n",
    "  if len(filt_spec)>0 and len(filt_reac)>0:\n",
    "    count += 1\n",
    "print(\"Count: %d\" % count)"
   ]
  },
  {
   "cell_type": "code",
   "execution_count": 24,
   "id": "08e1b40e",
   "metadata": {},
   "outputs": [
    {
     "name": "stdout",
     "output_type": "stream",
     "text": [
      "volume\n",
      "substance\n"
     ]
    }
   ],
   "source": [
    "# For second slide, get units. \n",
    "uns = model.getListOfUnitDefinitions()\n",
    "for one_unit in uns:\n",
    "  print(one_unit.name)"
   ]
  },
  {
   "cell_type": "code",
   "execution_count": 2,
   "id": "09dc97f9",
   "metadata": {},
   "outputs": [],
   "source": [
    "# For third, (demonstrating species by edit distance)\n",
    "one_biomd = 'BIOMD0000000190.xml'\n",
    "one_biomd_fpath = os.path.join(BIOMODEL_DIR, one_biomd)\n",
    "reader = libsbml.SBMLReader()\n",
    "document = reader.readSBML(one_biomd_fpath)\n",
    "model = document.getModel()"
   ]
  },
  {
   "cell_type": "code",
   "execution_count": 3,
   "id": "cfaf4b17",
   "metadata": {},
   "outputs": [],
   "source": [
    "from AMAS import recommender\n",
    "recom = recommender.Recommender(one_biomd_fpath)"
   ]
  },
  {
   "cell_type": "code",
   "execution_count": 4,
   "id": "aaf16c29",
   "metadata": {},
   "outputs": [
    {
     "data": {
      "text/plain": [
       "{'SAM': 'S-adenosyl-L-methionine',\n",
       " 'A': 'S-adenosylmethioninamine',\n",
       " 'P': 'Putrescine',\n",
       " 'S': 'Spermine',\n",
       " 'D': 'Spermidine',\n",
       " 'aS': 'N1-Acetylspermine',\n",
       " 'aD': 'N1-Acetylspermidine',\n",
       " 'Met': 'Methionine',\n",
       " 'ORN': 'L-Ornithine',\n",
       " 'AcCoA': 'Acetyl-CoA',\n",
       " 'CoA': 'CoA'}"
      ]
     },
     "execution_count": 4,
     "metadata": {},
     "output_type": "execute_result"
    }
   ],
   "source": [
    "recom.species.names"
   ]
  },
  {
   "cell_type": "code",
   "execution_count": 5,
   "id": "69facac4",
   "metadata": {},
   "outputs": [
    {
     "data": {
      "text/plain": [
       "Recommendation(id='SAM', credibility=1.0, candidates=[('CHEBI:15414', 1.0), ('CHEBI:59789', 1.0)], urls=['https://www.ebi.ac.uk/chebi/searchId.do?chebiId=CHEBI%3A15414', 'https://www.ebi.ac.uk/chebi/searchId.do?chebiId=CHEBI%3A59789'])"
      ]
     },
     "execution_count": 5,
     "metadata": {},
     "output_type": "execute_result"
    }
   ],
   "source": [
    "recom.getSpeciesAnnotation(pred_id='SAM')"
   ]
  },
  {
   "cell_type": "code",
   "execution_count": 6,
   "id": "f3b6c3e9",
   "metadata": {},
   "outputs": [
    {
     "data": {
      "text/plain": [
       "Recommendation(id='A', credibility=0.93, candidates=[('CHEBI:15625', 1.0)], urls=['https://www.ebi.ac.uk/chebi/searchId.do?chebiId=CHEBI%3A15625'])"
      ]
     },
     "execution_count": 6,
     "metadata": {},
     "output_type": "execute_result"
    }
   ],
   "source": [
    "recom.getSpeciesAnnotation(pred_id='A')"
   ]
  },
  {
   "cell_type": "code",
   "execution_count": 7,
   "id": "54548b1c",
   "metadata": {},
   "outputs": [
    {
     "data": {
      "text/plain": [
       "{'ODC': ['ORN', 'P'],\n",
       " 'SAMdc': ['SAM', 'A'],\n",
       " 'SSAT_for_S': ['S', 'aS', 'AcCoA', 'CoA'],\n",
       " 'SSAT_for_D': ['D', 'CoA', 'aD', 'AcCoA'],\n",
       " 'PAO_for_aD': ['aD', 'P'],\n",
       " 'PAO_for_aS': ['D', 'aS'],\n",
       " 'SpdS': ['D', 'A', 'P'],\n",
       " 'SpmS': ['S', 'D', 'A'],\n",
       " 'MAT': ['SAM', 'Met'],\n",
       " 'VCoA': ['CoA', 'AcCoA'],\n",
       " 'VacCoA': ['CoA', 'AcCoA'],\n",
       " 'P_efflux': ['P'],\n",
       " 'aD_efflux': ['aD']}"
      ]
     },
     "execution_count": 7,
     "metadata": {},
     "output_type": "execute_result"
    }
   ],
   "source": [
    "recom.reactions.reaction_components"
   ]
  },
  {
   "cell_type": "code",
   "execution_count": 8,
   "id": "aed921f2",
   "metadata": {},
   "outputs": [
    {
     "data": {
      "text/plain": [
       "{}"
      ]
     },
     "execution_count": 8,
     "metadata": {},
     "output_type": "execute_result"
    }
   ],
   "source": [
    "recom.species.exist_annotation"
   ]
  },
  {
   "cell_type": "code",
   "execution_count": 9,
   "id": "a91f94c9",
   "metadata": {},
   "outputs": [
    {
     "data": {
      "text/plain": [
       "{'ODC': ['RHEA:22967'],\n",
       " 'SAMdc': ['RHEA:15984'],\n",
       " 'SSAT_for_S': ['RHEA:11119'],\n",
       " 'SSAT_for_D': ['RHEA:11119'],\n",
       " 'PAO_for_aD': ['RHEA:25803'],\n",
       " 'PAO_for_aS': ['RHEA:25803'],\n",
       " 'SpdS': ['RHEA:12724'],\n",
       " 'SpmS': ['RHEA:19976'],\n",
       " 'MAT': ['RHEA:21083']}"
      ]
     },
     "execution_count": 9,
     "metadata": {},
     "output_type": "execute_result"
    }
   ],
   "source": [
    "recom.reactions.exist_annotation"
   ]
  },
  {
   "cell_type": "code",
   "execution_count": 10,
   "id": "620a3f69",
   "metadata": {},
   "outputs": [
    {
     "name": "stdout",
     "output_type": "stream",
     "text": [
      "['SAM']\n",
      "['A']\n"
     ]
    }
   ],
   "source": [
    "one_r = model.getReaction('SAMdc')\n",
    "print([val.species for val in one_r.getListOfReactants()])\n",
    "print([val.species for val in one_r.getListOfProducts()])"
   ]
  },
  {
   "cell_type": "code",
   "execution_count": 11,
   "id": "0eb66869",
   "metadata": {},
   "outputs": [
    {
     "data": {
      "text/plain": [
       "Recommendation(id='SAMdc', credibility=0.38, candidates=[('RHEA:15984', 0.5)], urls=['https://www.rhea-db.org/rhea/15984'])"
      ]
     },
     "execution_count": 11,
     "metadata": {},
     "output_type": "execute_result"
    }
   ],
   "source": [
    "recom.getReactionAnnotation('SAMdc')"
   ]
  },
  {
   "cell_type": "code",
   "execution_count": 89,
   "id": "6b5e6236",
   "metadata": {},
   "outputs": [
    {
     "name": "stdout",
     "output_type": "stream",
     "text": [
      "We are at 0\n",
      "We are at 100\n",
      "We are at 200\n",
      "We are at 300\n",
      "We are at 400\n",
      "We are at 500\n",
      "We are at 600\n",
      "We are at 700\n",
      "We are at 800\n",
      "We are at 900\n",
      "is 117\n",
      "isVersionOf 611\n",
      "isPart 93\n",
      "hasPart 110\n",
      "hasProperty 564\n",
      "isDescribedBy 136\n",
      "is or isVersionOf 684\n"
     ]
    }
   ],
   "source": [
    "# briefly check how many have SBO410 for 'default compartment'\n",
    "# count = 0\n",
    "# sbo410_count = 0\n",
    "model_null = 0\n",
    "\n",
    "\n",
    "bqbiol_is = 0\n",
    "bqbiol_isver = 0\n",
    "bqbiol_ispart = 0\n",
    "bqbiol_haspart = 0\n",
    "bqbiol_hasprop = 0\n",
    "bqbiol_isdisc = 0\n",
    "\n",
    "bqbiol_is_isver = 0\n",
    "\n",
    "for idx, one_fpath in enumerate(all_biomd_fpaths):\n",
    "  if idx % 100 == 0:\n",
    "    print(\"We are at\", idx)\n",
    "  reader = libsbml.SBMLReader()\n",
    "  document = reader.readSBML(os.path.join(BIOMODEL_DIR, one_fpath))\n",
    "  model = document.getModel()\n",
    "#   comp = model.getCompartment(0)\n",
    "#   if comp.getId()=='default_compartment':\n",
    "#     count += 1\n",
    "#   if comp.sbo_term == 410:\n",
    "#     sbo410_count += 1\n",
    "  if len(model.getAnnotationString())==0:\n",
    "    model_null += 1\n",
    "  if 'bqbiol:is>' in model.getAnnotationString():\n",
    "    bqbiol_is += 1\n",
    "  if 'bqbiol:isVersionOf>' in model.getAnnotationString():\n",
    "    bqbiol_isver += 1\n",
    "  if 'bqbiol:isPartOf>' in model.getAnnotationString():\n",
    "    bqbiol_ispart += 1\n",
    "  if 'bqbiol:hasPart>' in model.getAnnotationString():\n",
    "    bqbiol_haspart += 1\n",
    "  if 'bqbiol:hasProperty>' in model.getAnnotationString():\n",
    "    bqbiol_hasprop += 1\n",
    "  if 'bqbiol:isDescribedBy>' in model.getAnnotationString():\n",
    "    bqbiol_isdisc += 1\n",
    "  if 'bqbiol:is>' in model.getAnnotationString() or 'bqbiol:isVersionOf>' in model.getAnnotationString():\n",
    "    bqbiol_is_isver += 1    \n",
    "    \n",
    "print(\"is\", bqbiol_is)\n",
    "print(\"isVersionOf\", bqbiol_isver)\n",
    "print(\"isPart\", bqbiol_ispart)\n",
    "print(\"hasPart\", bqbiol_haspart)\n",
    "print(\"hasProperty\", bqbiol_hasprop)\n",
    "print(\"isDescribedBy\", bqbiol_isdisc)\n",
    "\n",
    "\n",
    "print(\"is or isVersionOf\", bqbiol_is_isver)"
   ]
  },
  {
   "cell_type": "code",
   "execution_count": 12,
   "id": "87c8dda4",
   "metadata": {},
   "outputs": [],
   "source": [
    "def doesAnnotationExist(inp_ele):\n",
    "  \"\"\"\n",
    "  Check both annotationstring\n",
    "  (bqbio:is or isVersionOf)\n",
    "  and sbo_term.\n",
    "  If either exists, return True\n",
    "  if not, False. \n",
    "  \n",
    "  Parameters\n",
    "  ---------\n",
    "  inp_ele: libsbml element\n",
    "  \n",
    "  Returns\n",
    "  -------\n",
    "  bool\n",
    "  \"\"\"\n",
    "  annotation_str = inp_ele.getAnnotationString()\n",
    "  sbo = inp_ele.sbo_term\n",
    "  filt_annot = tools.getOntologyFromString(annotation_str)\n",
    "  if sbo!= -1:\n",
    "    filt_sbo = sbo\n",
    "  else:\n",
    "    filt_sbo = None\n",
    "  res_combination = (filt_annot, filt_sbo)\n",
    "#   return res_combination\n",
    "  if any(res_combination):\n",
    "    return True\n",
    "  else:\n",
    "    return False\n",
    "#   return (filt_annot, filt_sbo)\n",
    "\n",
    "def getAnnotationsProp(inp_ele_list):\n",
    "  \"\"\"\n",
    "  Run doesAnnotationsExit for \n",
    "  a list of elements,\n",
    "  and return a proportion of\n",
    "  annotated elements if there is any;\n",
    "  Otherwise, return None.\n",
    "  \n",
    "  Parameters\n",
    "  ----------\n",
    "  inp_ele_list: list-libsml elements\n",
    "  \n",
    "  Returns\n",
    "  -------\n",
    "  float/None\n",
    "  \"\"\"\n",
    "  res_list = [doesAnnotationExist(val) for val in inp_ele_list]\n",
    "  if np.sum(res_list)>0:\n",
    "    return np.sum(res_list)/len(res_list)\n",
    "  else:\n",
    "    return None"
   ]
  },
  {
   "cell_type": "code",
   "execution_count": null,
   "id": "d0f79bb4",
   "metadata": {},
   "outputs": [],
   "source": []
  },
  {
   "cell_type": "code",
   "execution_count": 13,
   "id": "e69af40b",
   "metadata": {},
   "outputs": [
    {
     "name": "stdout",
     "output_type": "stream",
     "text": [
      "[True, True, True, True, True, True, True, True, True, True, True, True, False]\n"
     ]
    }
   ],
   "source": [
    "res = [doesAnnotationExist(val) for val in model.getListOfReactions()]\n",
    "print(res)"
   ]
  },
  {
   "cell_type": "code",
   "execution_count": 14,
   "id": "ab93efd1",
   "metadata": {},
   "outputs": [
    {
     "name": "stdout",
     "output_type": "stream",
     "text": [
      "We are at 0\n",
      "We are at 100\n",
      "We are at 200\n",
      "We are at 300\n",
      "We are at 400\n",
      "We are at 500\n",
      "We are at 600\n",
      "We are at 700\n",
      "We are at 800\n",
      "We are at 900\n"
     ]
    }
   ],
   "source": [
    "ele_keys = ['species', 'reaction', 'rule', 'compartment',\n",
    "            'unitdef', 'initassign', 'event']\n",
    "res_dict = dict.fromkeys(ele_keys, [])\n",
    "for idx, one_fpath in enumerate(all_biomd_fpaths):\n",
    "  if idx % 100 == 0:\n",
    "    print(\"We are at\", idx)\n",
    "  reader = libsbml.SBMLReader()\n",
    "  document = reader.readSBML(os.path.join(BIOMODEL_DIR, one_fpath))\n",
    "  model = document.getModel()\n",
    "  elements_list = [model.getListOfSpecies(), model.getListOfReactions(),\n",
    "                  model.getListOfRules(), model.getListOfCompartments(),\n",
    "                  model.getListOfUnitDefinitions(), model.getListOfInitialAssignments(),\n",
    "                  model.getListOfEvents()]\n",
    "  for key_idx, ele in enumerate(elements_list):\n",
    "    res = getAnnotationsProp(ele)\n",
    "    if res:\n",
    "      res_dict[ele_keys[key_idx]] = res_dict[ele_keys[key_idx]] + [res]\n",
    "\n",
    "#   spec_res = getAnnotationsProp()\n",
    "#   if spec_res:\n",
    "#     prop_spec_annotated.append(spec_res)\n",
    "#   reac_res = getAnnotationsProp()\n",
    "#   if reac_res:\n",
    "#     prop_reac_annotated.append(reac_res)\n",
    "#   rule_res = getAnnotationsProp()\n",
    "#   if rule_res:\n",
    "#     prop_reac_annotated.append(reac_res)\n",
    "#   reac_res = getAnnotationsProp()\n",
    "#   if reac_res:\n",
    "#     prop_reac_annotated.append(reac_res)\n",
    "#   reac_res = getAnnotationsProp(model.getListOfReactions())\n",
    "#   if reac_res:\n",
    "#     prop_reac_annotated.append(reac_res)\n",
    "#   break\n",
    "\n",
    "\n",
    "#   spec_res = [doesAnnotationExist(val) for val in model.getListOfSpecies()]\n",
    "#   reac_res = [doesAnnotationExist(val) for val in model.getListOfReactions()]\n",
    "#   if np.sum(spec_res)>0:\n",
    "#     prop_spec_annotated.append(np.sum(spec_res)/len(spec_res))\n",
    "#   if np.sum(reac_res)>0:\n",
    "#     prop_reac_annotated.append(np.sum(reac_res)/len(reac_res))"
   ]
  },
  {
   "cell_type": "code",
   "execution_count": 15,
   "id": "3fed4fa5",
   "metadata": {},
   "outputs": [
    {
     "data": {
      "text/plain": [
       "dict_keys(['species', 'reaction', 'rule', 'compartment', 'unitdef', 'initassign', 'event'])"
      ]
     },
     "execution_count": 15,
     "metadata": {},
     "output_type": "execute_result"
    }
   ],
   "source": [
    "res_dict.keys()"
   ]
  },
  {
   "cell_type": "code",
   "execution_count": 16,
   "id": "46f0a199",
   "metadata": {},
   "outputs": [
    {
     "data": {
      "text/plain": [
       "[0.16666666666666666,\n",
       " 0.16666666666666666,\n",
       " 0.38461538461538464,\n",
       " 0.35714285714285715,\n",
       " 1.0,\n",
       " 0.5,\n",
       " 1.0,\n",
       " 0.2,\n",
       " 1.0,\n",
       " 1.0,\n",
       " 1.0,\n",
       " 1.0,\n",
       " 0.2]"
      ]
     },
     "execution_count": 16,
     "metadata": {},
     "output_type": "execute_result"
    }
   ],
   "source": [
    "res_dict['rule']"
   ]
  },
  {
   "cell_type": "code",
   "execution_count": 17,
   "id": "ec8ac76f",
   "metadata": {},
   "outputs": [
    {
     "data": {
      "text/plain": [
       "[]"
      ]
     },
     "execution_count": 17,
     "metadata": {},
     "output_type": "execute_result"
    }
   ],
   "source": [
    "res_dict['unitdef']"
   ]
  },
  {
   "cell_type": "code",
   "execution_count": 18,
   "id": "250c9d12",
   "metadata": {},
   "outputs": [
    {
     "data": {
      "text/plain": [
       "[1.0]"
      ]
     },
     "execution_count": 18,
     "metadata": {},
     "output_type": "execute_result"
    }
   ],
   "source": [
    "res_dict['initassign']"
   ]
  },
  {
   "cell_type": "code",
   "execution_count": 19,
   "id": "b798314f",
   "metadata": {},
   "outputs": [
    {
     "data": {
      "text/plain": [
       "[0.3333333333333333,\n",
       " 1.0,\n",
       " 1.0,\n",
       " 1.0,\n",
       " 1.0,\n",
       " 1.0,\n",
       " 1.0,\n",
       " 1.0,\n",
       " 1.0,\n",
       " 1.0,\n",
       " 0.1111111111111111,\n",
       " 0.5,\n",
       " 1.0,\n",
       " 1.0,\n",
       " 1.0,\n",
       " 0.5,\n",
       " 1.0,\n",
       " 1.0,\n",
       " 1.0,\n",
       " 1.0,\n",
       " 1.0,\n",
       " 1.0,\n",
       " 0.5,\n",
       " 0.5]"
      ]
     },
     "execution_count": 19,
     "metadata": {},
     "output_type": "execute_result"
    }
   ],
   "source": [
    "res_dict['event']"
   ]
  },
  {
   "cell_type": "code",
   "execution_count": 20,
   "id": "58853751",
   "metadata": {},
   "outputs": [],
   "source": [
    "one_r = model.getReaction(0)"
   ]
  },
  {
   "cell_type": "code",
   "execution_count": 44,
   "id": "21001185",
   "metadata": {},
   "outputs": [
    {
     "data": {
      "text/plain": [
       "[[], [], [], [], [], [], [], [], [], [], [], [], [], [], [], [], []]"
      ]
     },
     "execution_count": 44,
     "metadata": {},
     "output_type": "execute_result"
    }
   ],
   "source": [
    "spec_ont"
   ]
  },
  {
   "cell_type": "code",
   "execution_count": null,
   "id": "19ba828f",
   "metadata": {},
   "outputs": [],
   "source": [
    "def getExistingAnnotation(inp_ele)"
   ]
  },
  {
   "cell_type": "code",
   "execution_count": 45,
   "id": "bf5f272c",
   "metadata": {},
   "outputs": [],
   "source": [
    "# prop_spec_annotated = []\n",
    "# prop_reac_annotated = []\n",
    "# prop_specreac1_annotated = []\n",
    "# prop_specreac2_annotated = []\n",
    "# for idx, one_fpath in enumerate(all_biomd_fpaths):\n",
    "#   if idx % 100 == 0:\n",
    "#     print(\"We are at\", idx)\n",
    "#   reader = libsbml.SBMLReader()\n",
    "#   document = reader.readSBML(os.path.join(BIOMODEL_DIR, one_fpath))\n",
    "#   model = document.getModel()\n",
    "#   # Get SBO pair as well .. write a method to determine whether given element is annotated (by both string/sbo_term)\n",
    "#   spec_annot = [val.getAnnotationString() for val \\\n",
    "#                 in model.getListOfSpecies()]\n",
    "#   spec_ont = [tools.getOntologyFromString(val) for val in spec_annot]\n",
    "#   if any(spec_ont):\n",
    "#     filt_spec = [val for val in spec_ont if len(val)>0]\n",
    "#     prop_spec_annotated.append(len(filt_spec)/len(spec_ont))\n",
    "#   #\n",
    "#   reac_annot = [val.getAnnotationString() for val \\\n",
    "#                 in model.getListOfReactions()]\n",
    "#   reac_ont = [tools.getOntologyFromString(val) for val in reac_annot]\n",
    "#   if any(reac_ont):\n",
    "#     filt_reac = [val for val in reac_ont if len(val)>0]\n",
    "#     prop_reac_annotated.append(len(filt_reac)/len(reac_ont))\n",
    "    \n",
    "#   # check the intersection of it. \n",
    "#   if any(spec_ont) and any(reac_ont):\n",
    "#     filt_spec = [val for val in spec_ont if len(val)>0]\n",
    "#     filt_reac = [val for val in reac_ont if len(val)>0]\n",
    "#     prop_specreac1_annotated.append( (len(filt_spec)+len(filt_reac)) / (len(spec_ont) + len(reac_ont)) )\n",
    "#     prop_specreac2_annotated.append( (len(filt_spec)/len(spec_ont) + len(filt_reac)/len(reac_ont))/2 )"
   ]
  },
  {
   "cell_type": "code",
   "execution_count": 56,
   "id": "ceb36871",
   "metadata": {},
   "outputs": [
    {
     "name": "stdout",
     "output_type": "stream",
     "text": [
      "We are at 0\n",
      "We are at 100\n",
      "We are at 200\n",
      "We are at 300\n",
      "We are at 400\n",
      "We are at 500\n",
      "We are at 600\n",
      "We are at 700\n",
      "We are at 800\n",
      "We are at 900\n"
     ]
    }
   ],
   "source": [
    "prop_spec_annotated = []\n",
    "prop_reac_annotated = []\n",
    "prop_specreac1_annotated = []\n",
    "\n",
    "for idx, one_fpath in enumerate(all_biomd_fpaths):\n",
    "  if idx % 100 == 0:\n",
    "    print(\"We are at\", idx)\n",
    "  reader = libsbml.SBMLReader()\n",
    "  document = reader.readSBML(os.path.join(BIOMODEL_DIR, one_fpath))\n",
    "  model = document.getModel()\n",
    "  spec_stat = [doesAnnotationExist(val) for val in model.getListOfSpecies()]    \n",
    "  reac_stat = [doesAnnotationExist(val) for val in model.getListOfReactions()]\n",
    "  if any(spec_stat):\n",
    "    prop_spec_annotated.append(np.mean(spec_stat))\n",
    "  if any(reac_stat):\n",
    "    prop_reac_annotated.append(np.mean(reac_stat))\n",
    "  if any(spec_stat) and any(reac_stat):\n",
    "    prop_specreac1_annotated.append((np.mean(spec_stat) + np.mean(reac_stat))/2)"
   ]
  },
  {
   "cell_type": "code",
   "execution_count": 57,
   "id": "28c3d972",
   "metadata": {},
   "outputs": [
    {
     "name": "stdout",
     "output_type": "stream",
     "text": [
      "452\n",
      "total 898\n"
     ]
    },
    {
     "data": {
      "text/plain": [
       "(array([  8.,   6.,   8.,   5.,   8.,  11.,   3.,   9.,  19.,  16.,  17.,\n",
       "         17.,  31.,  12.,  22.,  28.,  34.,  19.,  29.,  40.,  31.,  23.,\n",
       "         19.,  28., 455.]),\n",
       " array([0.01834862, 0.05761468, 0.09688073, 0.13614679, 0.17541284,\n",
       "        0.2146789 , 0.25394495, 0.29321101, 0.33247706, 0.37174312,\n",
       "        0.41100917, 0.45027523, 0.48954128, 0.52880734, 0.56807339,\n",
       "        0.60733945, 0.6466055 , 0.68587156, 0.72513761, 0.76440367,\n",
       "        0.80366972, 0.84293578, 0.88220183, 0.92146789, 0.96073394,\n",
       "        1.        ]),\n",
       " <BarContainer object of 25 artists>)"
      ]
     },
     "execution_count": 57,
     "metadata": {},
     "output_type": "execute_result"
    },
    {
     "data": {
      "image/png": "[encoded data removed]",
      "text/plain": [
       "<Figure size 720x576 with 1 Axes>"
      ]
     },
     "metadata": {
      "needs_background": "light"
     },
     "output_type": "display_data"
    }
   ],
   "source": [
    "print(len([val for val in prop_spec_annotated if val<1.0]))\n",
    "print(\"total\", len(prop_spec_annotated))\n",
    "plt.figure(figsize=(10, 8))\n",
    "plt.hist(prop_spec_annotated, bins=25)"
   ]
  },
  {
   "cell_type": "code",
   "execution_count": 58,
   "id": "7395751f",
   "metadata": {},
   "outputs": [
    {
     "name": "stdout",
     "output_type": "stream",
     "text": [
      "204\n",
      "total 616\n"
     ]
    },
    {
     "data": {
      "text/plain": [
       "(array([  4.,   2.,   3.,   4.,   2.,   3.,   2.,   1.,   3.,   3.,   3.,\n",
       "          3.,   7.,   5.,   8.,   7.,   6.,  10.,  12.,  10.,   9.,  15.,\n",
       "         24.,  28., 442.]),\n",
       " array([0.02083333, 0.06      , 0.09916667, 0.13833333, 0.1775    ,\n",
       "        0.21666667, 0.25583333, 0.295     , 0.33416667, 0.37333333,\n",
       "        0.4125    , 0.45166667, 0.49083333, 0.53      , 0.56916667,\n",
       "        0.60833333, 0.6475    , 0.68666667, 0.72583333, 0.765     ,\n",
       "        0.80416667, 0.84333333, 0.8825    , 0.92166667, 0.96083333,\n",
       "        1.        ]),\n",
       " <BarContainer object of 25 artists>)"
      ]
     },
     "execution_count": 58,
     "metadata": {},
     "output_type": "execute_result"
    },
    {
     "data": {
      "image/png": "[encoded data removed]",
      "text/plain": [
       "<Figure size 720x576 with 1 Axes>"
      ]
     },
     "metadata": {
      "needs_background": "light"
     },
     "output_type": "display_data"
    }
   ],
   "source": [
    "print(len([val for val in prop_reac_annotated if val<1.0]))\n",
    "print(\"total\", len(prop_reac_annotated))\n",
    "plt.figure(figsize=(10, 8))\n",
    "plt.hist(prop_reac_annotated, bins=25)"
   ]
  },
  {
   "cell_type": "code",
   "execution_count": 60,
   "id": "8aeb1a09",
   "metadata": {},
   "outputs": [
    {
     "name": "stdout",
     "output_type": "stream",
     "text": [
      "partially annotated: 357\n",
      "fully annotated: 247\n",
      "total 604\n"
     ]
    },
    {
     "data": {
      "text/plain": [
       "(array([  1.,   1.,   0.,   2.,   0.,   3.,   0.,   4.,   3.,   4.,   6.,\n",
       "          5.,   8.,  13.,  11.,  17.,  25.,  20.,  29.,  33.,  28.,  44.,\n",
       "         43.,  39., 265.]),\n",
       " array([0.089  , 0.12544, 0.16188, 0.19832, 0.23476, 0.2712 , 0.30764,\n",
       "        0.34408, 0.38052, 0.41696, 0.4534 , 0.48984, 0.52628, 0.56272,\n",
       "        0.59916, 0.6356 , 0.67204, 0.70848, 0.74492, 0.78136, 0.8178 ,\n",
       "        0.85424, 0.89068, 0.92712, 0.96356, 1.     ]),\n",
       " <BarContainer object of 25 artists>)"
      ]
     },
     "execution_count": 60,
     "metadata": {},
     "output_type": "execute_result"
    },
    {
     "data": {
      "image/png": "[encoded data removed]",
      "text/plain": [
       "<Figure size 720x576 with 1 Axes>"
      ]
     },
     "metadata": {
      "needs_background": "light"
     },
     "output_type": "display_data"
    }
   ],
   "source": [
    "print(\"partially annotated:\", len([val for val in prop_specreac1_annotated if val<1.0]))\n",
    "print(\"fully annotated:\", len([val for val in prop_specreac1_annotated if val>=1.0]))\n",
    "print(\"total\", len(prop_specreac1_annotated))\n",
    "plt.figure(figsize=(10, 8))\n",
    "plt.hist(prop_specreac1_annotated, bins=25)"
   ]
  },
  {
   "cell_type": "code",
   "execution_count": null,
   "id": "6c642637",
   "metadata": {},
   "outputs": [],
   "source": []
  },
  {
   "cell_type": "code",
   "execution_count": null,
   "id": "9ecf2a22",
   "metadata": {},
   "outputs": [],
   "source": []
  },
  {
   "cell_type": "code",
   "execution_count": 26,
   "id": "d3924a49",
   "metadata": {},
   "outputs": [],
   "source": [
    "# Plot for biomodels evaluation\n",
    "dat_dir = '/Users/woosubs/Desktop/AutomateAnnotation/AMAS_suppl/csv_for_accuracy'\n",
    "spec_df = pd.read_csv(os.path.join(dat_dir, 'individual_species_accuracy.csv'),\n",
    "                         index_col=0)\n",
    "reac_df = pd.read_csv(os.path.join(dat_dir, 'individual_reaction_accuracy.csv'),\n",
    "                         index_col=0)"
   ]
  },
  {
   "cell_type": "code",
   "execution_count": 27,
   "id": "d86aef16",
   "metadata": {},
   "outputs": [
    {
     "data": {
      "text/plain": [
       "0.7427580579355365"
      ]
     },
     "execution_count": 27,
     "metadata": {},
     "output_type": "execute_result"
    }
   ],
   "source": [
    "np.mean(spec_df['accuracy'])"
   ]
  },
  {
   "cell_type": "code",
   "execution_count": 28,
   "id": "652cd644",
   "metadata": {},
   "outputs": [
    {
     "data": {
      "text/plain": [
       "1.0"
      ]
     },
     "execution_count": 28,
     "metadata": {},
     "output_type": "execute_result"
    }
   ],
   "source": [
    "np.median(reac_df['accuracy'])"
   ]
  },
  {
   "cell_type": "code",
   "execution_count": 62,
   "id": "e54578aa",
   "metadata": {},
   "outputs": [
    {
     "name": "stdout",
     "output_type": "stream",
     "text": [
      "(4902, 7)\n"
     ]
    },
    {
     "data": {
      "text/html": [
       "<div>\n",
       "<style scoped>\n",
       "    .dataframe tbody tr th:only-of-type {\n",
       "        vertical-align: middle;\n",
       "    }\n",
       "\n",
       "    .dataframe tbody tr th {\n",
       "        vertical-align: top;\n",
       "    }\n",
       "\n",
       "    .dataframe thead th {\n",
       "        text-align: right;\n",
       "    }\n",
       "</style>\n",
       "<table border=\"1\" class=\"dataframe\">\n",
       "  <thead>\n",
       "    <tr style=\"text-align: right;\">\n",
       "      <th></th>\n",
       "      <th>model</th>\n",
       "      <th>species_id</th>\n",
       "      <th>name_used</th>\n",
       "      <th>name_length</th>\n",
       "      <th>num_candidates</th>\n",
       "      <th>match_score</th>\n",
       "      <th>accuracy</th>\n",
       "    </tr>\n",
       "  </thead>\n",
       "  <tbody>\n",
       "    <tr>\n",
       "      <th>0</th>\n",
       "      <td>BIOMD0000000634.xml</td>\n",
       "      <td>ATP</td>\n",
       "      <td>ATP</td>\n",
       "      <td>3</td>\n",
       "      <td>2</td>\n",
       "      <td>1.000000</td>\n",
       "      <td>1</td>\n",
       "    </tr>\n",
       "    <tr>\n",
       "      <th>1</th>\n",
       "      <td>BIOMD0000000634.xml</td>\n",
       "      <td>ADP</td>\n",
       "      <td>ADP</td>\n",
       "      <td>3</td>\n",
       "      <td>3</td>\n",
       "      <td>1.000000</td>\n",
       "      <td>1</td>\n",
       "    </tr>\n",
       "    <tr>\n",
       "      <th>2</th>\n",
       "      <td>BIOMD0000000634.xml</td>\n",
       "      <td>AMP</td>\n",
       "      <td>AMP</td>\n",
       "      <td>3</td>\n",
       "      <td>3</td>\n",
       "      <td>1.000000</td>\n",
       "      <td>1</td>\n",
       "    </tr>\n",
       "    <tr>\n",
       "      <th>3</th>\n",
       "      <td>BIOMD0000000152.xml</td>\n",
       "      <td>Ca</td>\n",
       "      <td>Ca</td>\n",
       "      <td>2</td>\n",
       "      <td>1</td>\n",
       "      <td>1.000000</td>\n",
       "      <td>1</td>\n",
       "    </tr>\n",
       "    <tr>\n",
       "      <th>4</th>\n",
       "      <td>BIOMD0000000152.xml</td>\n",
       "      <td>PP2BinactiveCa2</td>\n",
       "      <td>PP2BinactiveCa2</td>\n",
       "      <td>15</td>\n",
       "      <td>7</td>\n",
       "      <td>0.466667</td>\n",
       "      <td>0</td>\n",
       "    </tr>\n",
       "  </tbody>\n",
       "</table>\n",
       "</div>"
      ],
      "text/plain": [
       "                 model       species_id        name_used  name_length  \\\n",
       "0  BIOMD0000000634.xml              ATP              ATP            3   \n",
       "1  BIOMD0000000634.xml              ADP              ADP            3   \n",
       "2  BIOMD0000000634.xml              AMP              AMP            3   \n",
       "3  BIOMD0000000152.xml               Ca               Ca            2   \n",
       "4  BIOMD0000000152.xml  PP2BinactiveCa2  PP2BinactiveCa2           15   \n",
       "\n",
       "   num_candidates  match_score  accuracy  \n",
       "0               2     1.000000         1  \n",
       "1               3     1.000000         1  \n",
       "2               3     1.000000         1  \n",
       "3               1     1.000000         1  \n",
       "4               7     0.466667         0  "
      ]
     },
     "execution_count": 62,
     "metadata": {},
     "output_type": "execute_result"
    }
   ],
   "source": [
    "print(spec_df.shape)\n",
    "spec_df.head()"
   ]
  },
  {
   "cell_type": "code",
   "execution_count": 30,
   "id": "92ec44e9",
   "metadata": {},
   "outputs": [
    {
     "name": "stdout",
     "output_type": "stream",
     "text": [
      "Species models total: 306\n"
     ]
    }
   ],
   "source": [
    "# get model-level values for histogram.\n",
    "spec_models = np.unique(spec_df['model'])\n",
    "spec_res = []\n",
    "print(\"Species models total:\", len(spec_models))\n",
    "for one_model in spec_models:\n",
    "  one_set = spec_df[spec_df['model']==one_model]\n",
    "  one_set_accuracy = np.mean(one_set['accuracy'])\n",
    "  spec_res.append(one_set_accuracy)"
   ]
  },
  {
   "cell_type": "code",
   "execution_count": 31,
   "id": "6ace1cd6",
   "metadata": {},
   "outputs": [
    {
     "data": {
      "text/plain": [
       "(array([58.,  0.,  2.,  1.,  3.,  5.,  6.,  4.,  8.,  3., 11.,  6., 16.,\n",
       "         6.,  5., 12., 14.,  6., 10.,  7., 13.,  6.,  3., 13., 88.]),\n",
       " array([0.  , 0.04, 0.08, 0.12, 0.16, 0.2 , 0.24, 0.28, 0.32, 0.36, 0.4 ,\n",
       "        0.44, 0.48, 0.52, 0.56, 0.6 , 0.64, 0.68, 0.72, 0.76, 0.8 , 0.84,\n",
       "        0.88, 0.92, 0.96, 1.  ]),\n",
       " <BarContainer object of 25 artists>)"
      ]
     },
     "execution_count": 31,
     "metadata": {},
     "output_type": "execute_result"
    },
    {
     "data": {
      "image/png": "[encoded data removed]",
      "text/plain": [
       "<Figure size 720x576 with 1 Axes>"
      ]
     },
     "metadata": {
      "needs_background": "light"
     },
     "output_type": "display_data"
    }
   ],
   "source": [
    "plt.figure(figsize=(10, 8))\n",
    "plt.ylim(ymin=0.0, ymax = 90)\n",
    "plt.hist(spec_res, bins=25)"
   ]
  },
  {
   "cell_type": "code",
   "execution_count": 63,
   "id": "3dbac88c",
   "metadata": {},
   "outputs": [
    {
     "name": "stdout",
     "output_type": "stream",
     "text": [
      "(2188, 10)\n"
     ]
    }
   ],
   "source": [
    "print(reac_df.shape)"
   ]
  },
  {
   "cell_type": "code",
   "execution_count": 32,
   "id": "431517ec",
   "metadata": {},
   "outputs": [
    {
     "name": "stdout",
     "output_type": "stream",
     "text": [
      "Reaction models total: 131\n"
     ]
    },
    {
     "data": {
      "text/plain": [
       "(array([61.,  0.,  1.,  1.,  3.,  1.,  3.,  3.,  2.,  3.,  4.,  1.,  6.,\n",
       "         4.,  0.,  1.,  6.,  2.,  7.,  2.,  2.,  2.,  1.,  1., 14.]),\n",
       " array([0.  , 0.04, 0.08, 0.12, 0.16, 0.2 , 0.24, 0.28, 0.32, 0.36, 0.4 ,\n",
       "        0.44, 0.48, 0.52, 0.56, 0.6 , 0.64, 0.68, 0.72, 0.76, 0.8 , 0.84,\n",
       "        0.88, 0.92, 0.96, 1.  ]),\n",
       " <BarContainer object of 25 artists>)"
      ]
     },
     "execution_count": 32,
     "metadata": {},
     "output_type": "execute_result"
    },
    {
     "data": {
      "image/png": "[encoded data removed]",
      "text/plain": [
       "<Figure size 720x576 with 1 Axes>"
      ]
     },
     "metadata": {
      "needs_background": "light"
     },
     "output_type": "display_data"
    }
   ],
   "source": [
    "reac_models = np.unique(reac_df['model'])\n",
    "reac_res = []\n",
    "print(\"Reaction models total:\", len(reac_models))\n",
    "for one_model in reac_models:\n",
    "  one_set = reac_df[reac_df['model']==one_model]\n",
    "  one_set_accuracy = np.mean(one_set['accuracy'])\n",
    "  reac_res.append(one_set_accuracy)\n",
    "\n",
    "plt.figure(figsize=(10, 8))\n",
    "plt.ylim(ymin=0.0, ymax = 90)\n",
    "plt.hist(reac_res, bins=25)"
   ]
  },
  {
   "cell_type": "code",
   "execution_count": 33,
   "id": "575ece7e",
   "metadata": {},
   "outputs": [],
   "source": [
    "# finally, find situation when reaction was incorrectly annotated;\n",
    "reader = libsbml.SBMLReader()\n",
    "document = reader.readSBML(os.path.join(BIOMODEL_DIR, 'BIOMD0000000248.xml'))\n",
    "model = document.getModel()\n",
    "one_r_name = 'CreatineKinase'\n",
    "one_r = model.getReaction(one_r_name)"
   ]
  },
  {
   "cell_type": "code",
   "execution_count": 34,
   "id": "c233a1fc",
   "metadata": {},
   "outputs": [
    {
     "name": "stdout",
     "output_type": "stream",
     "text": [
      "['ADP', 'PCr']\n",
      "[1.0, 1.0]\n",
      "['ATP', 'Cr']\n",
      "[1.0, 1.0]\n"
     ]
    }
   ],
   "source": [
    "print([val.species for val in one_r.getListOfReactants()])\n",
    "print([val.stoichiometry for val in one_r.getListOfReactants()])\n",
    "print([val.species for val in one_r.getListOfProducts()])\n",
    "print([val.stoichiometry for val in one_r.getListOfProducts()])"
   ]
  },
  {
   "cell_type": "code",
   "execution_count": 35,
   "id": "68d018b3",
   "metadata": {},
   "outputs": [
    {
     "data": {
      "text/plain": [
       "2"
      ]
     },
     "execution_count": 35,
     "metadata": {},
     "output_type": "execute_result"
    }
   ],
   "source": [
    "editdistance.eval('AKKP', 'ATP')"
   ]
  },
  {
   "cell_type": "code",
   "execution_count": 36,
   "id": "c1772ce1",
   "metadata": {},
   "outputs": [
    {
     "name": "stdout",
     "output_type": "stream",
     "text": [
      "Species models total: 306\n"
     ]
    },
    {
     "data": {
      "text/plain": [
       "(array([ 2.,  4.,  1.,  9.,  6.,  8.,  8., 18., 23., 15., 19., 13., 32.,\n",
       "        27., 19., 17., 11., 11., 17.,  4.,  3.,  1.,  0.,  1., 37.]),\n",
       " array([0.02631579, 0.06526316, 0.10421053, 0.14315789, 0.18210526,\n",
       "        0.22105263, 0.26      , 0.29894737, 0.33789474, 0.37684211,\n",
       "        0.41578947, 0.45473684, 0.49368421, 0.53263158, 0.57157895,\n",
       "        0.61052632, 0.64947368, 0.68842105, 0.72736842, 0.76631579,\n",
       "        0.80526316, 0.84421053, 0.88315789, 0.92210526, 0.96105263,\n",
       "        1.        ]),\n",
       " <BarContainer object of 25 artists>)"
      ]
     },
     "execution_count": 36,
     "metadata": {},
     "output_type": "execute_result"
    },
    {
     "data": {
      "image/png": "[encoded data removed]",
      "text/plain": [
       "<Figure size 720x576 with 1 Axes>"
      ]
     },
     "metadata": {
      "needs_background": "light"
     },
     "output_type": "display_data"
    }
   ],
   "source": [
    "# Based on feedback, we'll plot precision\n",
    "\n",
    "spec_models = np.unique(spec_df['model'])\n",
    "spec_prec = []\n",
    "for one_model in spec_models:\n",
    "  one_set = spec_df[spec_df['model']==one_model]\n",
    "  one_set_precision = np.mean([1/val for val in one_set['num_candidates']])\n",
    "  spec_prec.append(one_set_precision)\n",
    "\n",
    "print(\"Species models total:\", len(spec_prec))\n",
    "plt.figure(figsize=(10, 8))\n",
    "# plt.xlim(xmin=0.0, xmax = 1.0)\n",
    "plt.hist(spec_prec, bins=25)"
   ]
  },
  {
   "cell_type": "code",
   "execution_count": 37,
   "id": "10a2d48b",
   "metadata": {},
   "outputs": [
    {
     "name": "stdout",
     "output_type": "stream",
     "text": [
      "Reaction models total: 131\n"
     ]
    },
    {
     "data": {
      "text/plain": [
       "(array([18.,  9.,  6., 14.,  8.,  4., 11.,  5., 13.,  8.,  4.,  5.,  2.,\n",
       "         2.,  4.,  1.,  3.,  3.,  3.,  3.,  2.,  0.,  1.,  1.,  1.]),\n",
       " array([7.32547066e-05, 3.00703245e-02, 6.00673943e-02, 9.00644641e-02,\n",
       "        1.20061534e-01, 1.50058604e-01, 1.80055674e-01, 2.10052743e-01,\n",
       "        2.40049813e-01, 2.70046883e-01, 3.00043953e-01, 3.30041023e-01,\n",
       "        3.60038092e-01, 3.90035162e-01, 4.20032232e-01, 4.50029302e-01,\n",
       "        4.80026372e-01, 5.10023442e-01, 5.40020511e-01, 5.70017581e-01,\n",
       "        6.00014651e-01, 6.30011721e-01, 6.60008791e-01, 6.90005860e-01,\n",
       "        7.20002930e-01, 7.50000000e-01]),\n",
       " <BarContainer object of 25 artists>)"
      ]
     },
     "execution_count": 37,
     "metadata": {},
     "output_type": "execute_result"
    },
    {
     "data": {
      "image/png": "[encoded data removed]",
      "text/plain": [
       "<Figure size 720x576 with 1 Axes>"
      ]
     },
     "metadata": {
      "needs_background": "light"
     },
     "output_type": "display_data"
    }
   ],
   "source": [
    "# Based on feedback, we'll plot precision\n",
    "\n",
    "reac_models = np.unique(reac_df['model'])\n",
    "reac_prec = []\n",
    "\n",
    "for one_model in reac_models:\n",
    "  one_set = reac_df[reac_df['model']==one_model]\n",
    "  one_set_precision = np.mean([1/val for val in one_set['num_candidates']])\n",
    "  reac_prec.append(one_set_precision)\n",
    "\n",
    "print(\"Reaction models total:\", len(reac_prec))\n",
    "plt.figure(figsize=(10, 8))\n",
    "# plt.xlim(xmin=0.0, xmax = 1.0)\n",
    "plt.hist(reac_prec, bins=25)"
   ]
  },
  {
   "cell_type": "code",
   "execution_count": 61,
   "id": "bc7c6430",
   "metadata": {},
   "outputs": [
    {
     "data": {
      "text/plain": [
       "'O2'"
      ]
     },
     "execution_count": 61,
     "metadata": {},
     "output_type": "execute_result"
    }
   ],
   "source": [
    "sa.ref_shortened_chebi_to_formula['CHEBI:29192']"
   ]
  },
  {
   "cell_type": "code",
   "execution_count": null,
   "id": "09361d77",
   "metadata": {},
   "outputs": [],
   "source": []
  }
 ],
 "metadata": {
  "kernelspec": {
   "display_name": "pyo",
   "language": "python",
   "name": "pyo"
  },
  "language_info": {
   "codemirror_mode": {
    "name": "ipython",
    "version": 3
   },
   "file_extension": ".py",
   "mimetype": "text/x-python",
   "name": "python",
   "nbconvert_exporter": "python",
   "pygments_lexer": "ipython3",
   "version": "3.8.8"
  }
 },
 "nbformat": 4,
 "nbformat_minor": 5
}
