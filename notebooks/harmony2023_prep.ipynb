{
 "cells": [
  {
   "cell_type": "code",
   "execution_count": 10,
   "id": "6fe4352d-9e16-4cad-962a-4664cc8438e7",
   "metadata": {},
   "outputs": [],
   "source": [
    "# figures for harmony 2023\n",
    "import collections\n",
    "\n",
    "import compress_pickle\n",
    "import copy\n",
    "import editdistance\n",
    "import itertools\n",
    "import libsbml\n",
    "import numpy as np\n",
    "import os\n",
    "import pickle\n",
    "import pandas as pd\n",
    "import sys\n",
    "import time\n",
    "import matplotlib.pyplot as plt\n",
    "%matplotlib inline  \n",
    "\n",
    "BIOMD_12 = 'BIOMD0000000012.xml'\n",
    "BASE_DIR = '/Users/woosubshin/Desktop/AutomateAnnotation/'\n",
    "DATA_DIR = os.path.join(BASE_DIR, \"DATA\")\n",
    "ALGO_DIR = os.path.join(DATA_DIR, \"algo\")\n",
    "CHEBI_DIR = os.path.join(DATA_DIR, \"chebi\")\n",
    "FIGURE_DIR = '/Users/woosubshin/Desktop/AutomateAnnotation/AMAS_suppl/figure_files'\n",
    "RHEA_DIR = os.path.join(DATA_DIR, \"rhea\")\n",
    "BIOMODEL_DIR = os.path.join(DATA_DIR, \"biomodels/curated_biomodels_31mar2021\")\n",
    "BIGG_DIR = '/Users/woosubshin/Desktop/AutomateAnnotation/DATA/bigg'\n",
    "ecoli_fpath = os.path.join(BIGG_DIR, \"e_coli_core.xml\")\n",
    "\n",
    "PROJ_DIR = os.path.join(os.getcwd(), os.pardir)\n",
    "AMAS_DIR = os.path.join(PROJ_DIR, \"AMAS\")\n",
    "sys.path.append(PROJ_DIR)\n",
    "\n",
    "SUPPL_DIR = os.path.join(PROJ_DIR, os.pardir, \"AMAS_suppl\")\n",
    "ACCURACY_DIR = os.path.join(SUPPL_DIR, \"data_for_credibility\")\n",
    "\n",
    "from AMAS import species_annotation as sa\n",
    "from AMAS import reaction_annotation as ra\n",
    "from AMAS import recommender\n",
    "from AMAS import constants as cn\n",
    "from AMAS import iterator as it\n",
    "from AMAS import tools"
   ]
  },
  {
   "cell_type": "code",
   "execution_count": 25,
   "id": "de011027-0909-4186-b7f7-8f8a748283eb",
   "metadata": {},
   "outputs": [],
   "source": [
    "def printReaction(one_r, name=False, ret=False):\n",
    "  \"\"\"\n",
    "  Print out a reaction using \n",
    "  a libsbml.Reaction instance. \n",
    "  \n",
    "  Parameters\n",
    "  ----------\n",
    "  one_r: libsbml.Reaction\n",
    "  \n",
    "  name: bool\n",
    "      If True, prints out using display names\n",
    "  \n",
    "  ret: bool\n",
    "      If True, returns a string\n",
    "  \"\"\"\n",
    "  if name: \n",
    "    reactants = [model.getSpecies(val.species).name \\\n",
    "                 for val in one_r.getListOfReactants()]\n",
    "    products = [model.getSpecies(val.species).name \\\n",
    "                for val in one_r.getListOfProducts()]\n",
    "  else:\n",
    "    reactants = [val.species \\\n",
    "                 for val in one_r.getListOfReactants()]\n",
    "    products = [val.species \\\n",
    "                for val in one_r.getListOfProducts()]\n",
    "  reacts_str = ' + '.join(reactants)\n",
    "  prods_str = ' + '.join(products)\n",
    "  result = \"%s: %s\" % (one_r.getId(), reacts_str + ' => ' + prods_str)\n",
    "  if ret:\n",
    "    return result\n",
    "  else:\n",
    "    print(result)"
   ]
  },
  {
   "cell_type": "code",
   "execution_count": 11,
   "id": "db5c73b7-f8c6-448e-a388-7e929ef14133",
   "metadata": {},
   "outputs": [],
   "source": [
    "BIOMD_190_PATH = os.path.join(cn.TEST_DIR, 'BIOMD0000000190.xml')\n",
    "recom = recommender.Recommender(libsbml_fpath=BIOMD_190_PATH)\n",
    "model = recom.sbml_document.getModel()"
   ]
  },
  {
   "cell_type": "code",
   "execution_count": 12,
   "id": "2b8e59e9-dc09-4277-ada1-c934fefc714e",
   "metadata": {},
   "outputs": [
    {
     "data": {
      "text/plain": [
       "{'ODC': ['RHEA:22964'],\n",
       " 'SAMdc': ['RHEA:15981'],\n",
       " 'SSAT_for_S': ['RHEA:11116', 'RHEA:33099', 'RHEA:28270', 'RHEA:28150'],\n",
       " 'SSAT_for_D': ['RHEA:11116', 'RHEA:33099', 'RHEA:28270', 'RHEA:28150'],\n",
       " 'PAO_for_aD': ['RHEA:25800', 'RHEA:16133'],\n",
       " 'PAO_for_aS': ['RHEA:25800', 'RHEA:16133'],\n",
       " 'SpdS': ['RHEA:12721'],\n",
       " 'SpmS': ['RHEA:19973'],\n",
       " 'MAT': ['RHEA:21080']}"
      ]
     },
     "execution_count": 12,
     "metadata": {},
     "output_type": "execute_result"
    }
   ],
   "source": [
    "recom.reactions.exist_annotation"
   ]
  },
  {
   "cell_type": "code",
   "execution_count": 28,
   "id": "5cbf7500-f9cb-4894-98de-93c1a6c1df31",
   "metadata": {},
   "outputs": [
    {
     "name": "stdout",
     "output_type": "stream",
     "text": [
      "['RHEA:22964']\n",
      "R_ORNDC: M_h_c + M_orn_c => M_co2_c + M_ptrc_c\n"
     ]
    }
   ],
   "source": [
    "recom2 = recommender.Recommender(libsbml_fpath=os.path.join(BIGG_DIR, 'iSB619.xml'))\n",
    "print(recom2.reactions.exist_annotation['R_ORNDC'])\n",
    "\n",
    "model2 = recom2.sbml_document.getModel()\n",
    "one_r = model2.getReaction('R_ORNDC')\n",
    "printReaction(one_r)"
   ]
  },
  {
   "cell_type": "code",
   "execution_count": 17,
   "id": "a4e89675-0bcf-4893-b098-bca3cf43e498",
   "metadata": {},
   "outputs": [
    {
     "name": "stdout",
     "output_type": "stream",
     "text": [
      "We're at: 0\n",
      "We're at: 10\n",
      "We're at: 20\n",
      "We're at: 30\n",
      "We're at: 40\n",
      "We're at: 50\n",
      "We're at: 60\n",
      "We're at: 70\n",
      "We're at: 80\n",
      "We're at: 90\n",
      "We're at: 100\n"
     ]
    }
   ],
   "source": [
    "recom190 = recommender.Recommender(libsbml_fpath=BIOMD_190_PATH)\n",
    "reahs190 = recom190.reactions.exist_annotation\n",
    "\n",
    "comms = []\n",
    "\n",
    "biggs = [val for val in os.listdir(BIGG_DIR) if val[-4:]=='.xml']\n",
    "for idx, one_bigg in enumerate(biggs):\n",
    "  if idx % 10 == 0:\n",
    "    print(\"We're at: %d\" % idx)\n",
    "  one_recom = recommender.Recommender(libsbml_fpath=os.path.join(BIGG_DIR, one_bigg))\n",
    "  one_rheas = one_recom.reactions.exist_annotation\n",
    "  for one_k in one_rheas.keys():\n",
    "    if any(set(one_rheas[one_k]).intersection(reahs190['ODC'])):\n",
    "      comms.append((one_bigg, one_k, len(one_rheas)))\n",
    "      break"
   ]
  },
  {
   "cell_type": "code",
   "execution_count": 31,
   "id": "9203a433-6706-4b53-a5bd-4e2ff1453792",
   "metadata": {},
   "outputs": [
    {
     "name": "stdout",
     "output_type": "stream",
     "text": [
      "<annotation>\n",
      "  <rdf:RDF xmlns:rdf=\"http://www.w3.org/1999/02/22-rdf-syntax-ns#\" xmlns:bqmodel=\"http://biomodels.net/model-qualifiers/\" xmlns:bqbiol=\"http://biomodels.net/biology-qualifiers/\">\n",
      "    <rdf:Description rdf:about=\"#metaid_0000062\">\n",
      "      <bqbiol:isVersionOf>\n",
      "        <rdf:Bag>\n",
      "          <rdf:li rdf:resource=\"http://identifiers.org/ec-code/4.1.1.17\"/>\n",
      "          <rdf:li rdf:resource=\"http://identifiers.org/kegg.reaction/R00670\"/>\n",
      "          <rdf:li rdf:resource=\"http://identifiers.org/reactome/REACT_1211.3\"/>\n",
      "        </rdf:Bag>\n",
      "      </bqbiol:isVersionOf>\n",
      "    </rdf:Description>\n",
      "  </rdf:RDF>\n",
      "</annotation>\n"
     ]
    }
   ],
   "source": [
    "print(model.getReaction('ODC').getAnnotationString())"
   ]
  },
  {
   "cell_type": "code",
   "execution_count": 20,
   "id": "0ff1cdff-1927-43c3-a1e8-0ae25c97f991",
   "metadata": {},
   "outputs": [],
   "source": []
  },
  {
   "cell_type": "code",
   "execution_count": 22,
   "id": "5f541174-184f-4541-a623-d2d8302402a3",
   "metadata": {},
   "outputs": [
    {
     "name": "stdout",
     "output_type": "stream",
     "text": [
      "ODC: ORN => P\n",
      "SAMdc: SAM => A\n",
      "SSAT_for_S: S + AcCoA => aS + CoA\n",
      "SSAT_for_D: D + AcCoA => aD + CoA\n",
      "PAO_for_aD: aD => P\n",
      "PAO_for_aS: aS => D\n",
      "SpdS: A + P => D\n",
      "SpmS: A + D => S\n",
      "MAT: Met => SAM\n",
      "VCoA: AcCoA => CoA\n",
      "VacCoA: CoA => AcCoA\n",
      "P_efflux: P => \n",
      "aD_efflux: aD => \n"
     ]
    }
   ],
   "source": [
    "for one_r in model.getListOfReactions():\n",
    "  printReaction(one_r, name=False)"
   ]
  },
  {
   "cell_type": "code",
   "execution_count": 7,
   "id": "95793c41-f1d1-405b-a5ae-8e5fa920654a",
   "metadata": {},
   "outputs": [
    {
     "name": "stdout",
     "output_type": "stream",
     "text": [
      "ODC: ORN => P\n",
      "SAMdc: SAM => A\n",
      "SSAT_for_S: S + AcCoA => aS + CoA\n",
      "SSAT_for_D: D + AcCoA => aD + CoA\n",
      "PAO_for_aD: aD => P\n",
      "PAO_for_aS: aS => D\n",
      "SpdS: A + P => D\n",
      "SpmS: A + D => S\n",
      "MAT: Met => SAM\n",
      "VCoA: AcCoA => CoA\n",
      "VacCoA: CoA => AcCoA\n",
      "P_efflux: P => \n",
      "aD_efflux: aD => \n"
     ]
    }
   ],
   "source": [
    "for one_r in model.getListOfReactions():\n",
    "  reactants = [val.species \\\n",
    "               for val in one_r.getListOfReactants()]\n",
    "  products = [val.species \\\n",
    "              for val in one_r.getListOfProducts()]\n",
    "  reacts_str = ' + '.join(reactants)\n",
    "  prods_str = ' + '.join(products)\n",
    "  print(\"%s: %s\" % (one_r.getId(), reacts_str + ' => ' + prods_str))"
   ]
  },
  {
   "cell_type": "code",
   "execution_count": 6,
   "id": "792568c6-2d50-4431-81c9-8568ef2fefd9",
   "metadata": {},
   "outputs": [
    {
     "name": "stdout",
     "output_type": "stream",
     "text": [
      "ODC: L-Ornithine => Putrescine\n",
      "SAMdc: S-adenosyl-L-methionine => S-adenosylmethioninamine\n",
      "SSAT_for_S: Spermine + Acetyl-CoA => N1-Acetylspermine + CoA\n",
      "SSAT_for_D: Spermidine + Acetyl-CoA => N1-Acetylspermidine + CoA\n",
      "PAO_for_aD: N1-Acetylspermidine => Putrescine\n",
      "PAO_for_aS: N1-Acetylspermine => Spermidine\n",
      "SpdS: S-adenosylmethioninamine + Putrescine => Spermidine\n",
      "SpmS: S-adenosylmethioninamine + Spermidine => Spermine\n",
      "MAT: Methionine => S-adenosyl-L-methionine\n",
      "VCoA: Acetyl-CoA => CoA\n",
      "VacCoA: CoA => Acetyl-CoA\n",
      "P_efflux: Putrescine => \n",
      "aD_efflux: N1-Acetylspermidine => \n"
     ]
    }
   ],
   "source": [
    "for one_r in model.getListOfReactions():\n",
    "  reactants = [model.getSpecies(val.species).name \\\n",
    "               for val in one_r.getListOfReactants()]\n",
    "  products = [model.getSpecies(val.species).name \\\n",
    "              for val in one_r.getListOfProducts()]\n",
    "  reacts_str = ' + '.join(reactants)\n",
    "  prods_str = ' + '.join(products)\n",
    "  print(\"%s: %s\" % (one_r.getId(), reacts_str + ' => ' + prods_str))"
   ]
  },
  {
   "cell_type": "code",
   "execution_count": 34,
   "id": "b7422e5a-b094-43d1-9d42-df887db8a1fc",
   "metadata": {},
   "outputs": [
    {
     "name": "stdout",
     "output_type": "stream",
     "text": [
      "                                        ODC (credibility score: 0.815)                                       \n",
      "+----+--------------+---------------+-----------------------------------------------------------------------+\n",
      "|    | annotation   |   match score | label                                                                 |\n",
      "+====+==============+===============+=======================================================================+\n",
      "|  1 | RHEA:28827   |         1.000 | L-ornithine(out) + putrescine(in) = L-ornithine(in) + putrescine(out) |\n",
      "+----+--------------+---------------+-----------------------------------------------------------------------+\n",
      "|  2 | RHEA:22964   |         0.500 | ornithine decarboxylase activity                                      |\n",
      "+----+--------------+---------------+-----------------------------------------------------------------------+\n",
      "|  3 | RHEA:59048   |         0.500 | D-ornithine + H(+) = CO2 + putrescine                                 |\n",
      "+----+--------------+---------------+-----------------------------------------------------------------------+\n",
      "\n"
     ]
    }
   ],
   "source": [
    "recom.recommendReaction(['ODC'])"
   ]
  },
  {
   "cell_type": "code",
   "execution_count": 39,
   "id": "6988a720-8d91-44a5-a684-ebf5b7051ea2",
   "metadata": {},
   "outputs": [
    {
     "data": {
      "text/html": [
       "<div>\n",
       "<style scoped>\n",
       "    .dataframe tbody tr th:only-of-type {\n",
       "        vertical-align: middle;\n",
       "    }\n",
       "\n",
       "    .dataframe tbody tr th {\n",
       "        vertical-align: top;\n",
       "    }\n",
       "\n",
       "    .dataframe thead th {\n",
       "        text-align: right;\n",
       "    }\n",
       "</style>\n",
       "<table border=\"1\" class=\"dataframe\">\n",
       "  <thead>\n",
       "    <tr style=\"text-align: right;\">\n",
       "      <th></th>\n",
       "      <th>annotation</th>\n",
       "      <th>label</th>\n",
       "    </tr>\n",
       "    <tr>\n",
       "      <th>ODC (cred. 0.815)</th>\n",
       "      <th></th>\n",
       "      <th></th>\n",
       "    </tr>\n",
       "  </thead>\n",
       "  <tbody>\n",
       "    <tr>\n",
       "      <th>1</th>\n",
       "      <td>RHEA:28827</td>\n",
       "      <td>L-ornithine(out) + putrescine(in) = L-ornithine(in) + putrescine(out)</td>\n",
       "    </tr>\n",
       "    <tr>\n",
       "      <th>2</th>\n",
       "      <td>RHEA:22964</td>\n",
       "      <td>ornithine decarboxylase activity</td>\n",
       "    </tr>\n",
       "    <tr>\n",
       "      <th>3</th>\n",
       "      <td>RHEA:59048</td>\n",
       "      <td>D-ornithine + H(+) = CO2 + putrescine</td>\n",
       "    </tr>\n",
       "  </tbody>\n",
       "</table>\n",
       "</div>"
      ],
      "text/plain": [
       "                   annotation  \\\n",
       "ODC (cred. 0.815)               \n",
       "1                  RHEA:28827   \n",
       "2                  RHEA:22964   \n",
       "3                  RHEA:59048   \n",
       "\n",
       "                                                                                   label  \n",
       "ODC (cred. 0.815)                                                                         \n",
       "1                  L-ornithine(out) + putrescine(in) = L-ornithine(in) + putrescine(out)  \n",
       "2                                                       ornithine decarboxylase activity  \n",
       "3                                                  D-ornithine + H(+) = CO2 + putrescine  "
      ]
     },
     "execution_count": 39,
     "metadata": {},
     "output_type": "execute_result"
    }
   ],
   "source": [
    "df = recom.just_displayed['ODC']\n",
    "pd.set_option('display.max_colwidth', None)\n",
    "df.loc[:, ['annotation', 'label']]"
   ]
  },
  {
   "cell_type": "code",
   "execution_count": 40,
   "id": "188bfd12-ddf3-4084-81d6-f6a849bdfea0",
   "metadata": {},
   "outputs": [
    {
     "name": "stdout",
     "output_type": "stream",
     "text": [
      "                      R_ORNDC (credibility score: 0.937)                     \n",
      "+----+--------------+---------------+---------------------------------------+\n",
      "|    | annotation   |   match score | label                                 |\n",
      "+====+==============+===============+=======================================+\n",
      "|  1 | RHEA:22964   |         1.000 | ornithine decarboxylase activity      |\n",
      "+----+--------------+---------------+---------------------------------------+\n",
      "|  2 | RHEA:59048   |         1.000 | D-ornithine + H(+) = CO2 + putrescine |\n",
      "+----+--------------+---------------+---------------------------------------+\n",
      "\n"
     ]
    }
   ],
   "source": [
    "recom2.recommendReaction(['R_ORNDC'])"
   ]
  },
  {
   "cell_type": "code",
   "execution_count": 45,
   "id": "9633445a-fdd0-48d8-b392-2b4276daad7a",
   "metadata": {},
   "outputs": [
    {
     "data": {
      "text/html": [
       "<div>\n",
       "<style scoped>\n",
       "    .dataframe tbody tr th:only-of-type {\n",
       "        vertical-align: middle;\n",
       "    }\n",
       "\n",
       "    .dataframe tbody tr th {\n",
       "        vertical-align: top;\n",
       "    }\n",
       "\n",
       "    .dataframe thead th {\n",
       "        text-align: right;\n",
       "    }\n",
       "</style>\n",
       "<table border=\"1\" class=\"dataframe\">\n",
       "  <thead>\n",
       "    <tr style=\"text-align: right;\">\n",
       "      <th></th>\n",
       "      <th>annotation</th>\n",
       "      <th>match score</th>\n",
       "      <th>label</th>\n",
       "    </tr>\n",
       "  </thead>\n",
       "  <tbody>\n",
       "    <tr>\n",
       "      <th>1</th>\n",
       "      <td>RHEA:22964</td>\n",
       "      <td>1.0</td>\n",
       "      <td>ornithine decarboxylase activity</td>\n",
       "    </tr>\n",
       "    <tr>\n",
       "      <th>2</th>\n",
       "      <td>RHEA:59048</td>\n",
       "      <td>1.0</td>\n",
       "      <td>D-ornithine + H(+) = CO2 + putrescine</td>\n",
       "    </tr>\n",
       "  </tbody>\n",
       "</table>\n",
       "</div>"
      ],
      "text/plain": [
       "   annotation  match score                                  label\n",
       "1  RHEA:22964          1.0       ornithine decarboxylase activity\n",
       "2  RHEA:59048          1.0  D-ornithine + H(+) = CO2 + putrescine"
      ]
     },
     "execution_count": 45,
     "metadata": {},
     "output_type": "execute_result"
    }
   ],
   "source": [
    "df = recom2.just_displayed['R_ORNDC']\n",
    "pd.set_option('display.max_colwidth', None)\n",
    "df.index.name = None\n",
    "df"
   ]
  },
  {
   "cell_type": "code",
   "execution_count": 48,
   "id": "1448e187-9826-48ba-b7bb-3fb2ce644da7",
   "metadata": {},
   "outputs": [],
   "source": [
    "df.to_csv('/Users/woosubshin/Desktop/AutomateAnnotation/Conference/harmony2023/bigg_r_orndc_recom.csv')"
   ]
  },
  {
   "cell_type": "code",
   "execution_count": 60,
   "id": "bb6c3548-50ad-4180-bf99-5f33e1ef59ce",
   "metadata": {},
   "outputs": [
    {
     "name": "stdout",
     "output_type": "stream",
     "text": [
      "We're at 0\n",
      "We're at 200\n",
      "We're at 400\n",
      "We're at 600\n",
      "We're at 800\n",
      "Species: 15252 / 23255\n",
      "Reactions: 14875 / 30094\n"
     ]
    }
   ],
   "source": [
    "# annotation statistics\n",
    "biomd_all_specs = 0\n",
    "biomd_anot_specs = 0\n",
    "biomd_all_reacs = 0\n",
    "biomd_anot_reacs = 0\n",
    "\n",
    "biomds = [val for val in os.listdir(BIOMODEL_DIR) if val[-4:]=='.xml']\n",
    "for idx, one_biomd in enumerate(biomds):\n",
    "  if idx % 200 == 0:\n",
    "    print(\"We're at\", idx)\n",
    "  reader = libsbml.SBMLReader()\n",
    "  document = reader.readSBML(os.path.join(BIOMODEL_DIR, one_biomd))\n",
    "  model = document.getModel()\n",
    "  biomd_all_specs += model.getNumSpecies()\n",
    "  for one_spec in model.getListOfSpecies():\n",
    "    annotation = one_spec.getAnnotationString()\n",
    "    if 'bqbiol:is' in annotation or 'bqbiol:isVersionOf' in annotation:\n",
    "      biomd_anot_specs += 1\n",
    "\n",
    "    \n",
    "  biomd_all_reacs += model.getNumReactions()\n",
    "  for one_reac in model.getListOfReactions():\n",
    "    annotation = one_reac.getAnnotationString()\n",
    "    if 'bqbiol:is' in annotation or 'bqbiol:isVersionOf' in annotation:\n",
    "      biomd_anot_reacs += 1"
   ]
  },
  {
   "cell_type": "code",
   "execution_count": 61,
   "id": "2fdaf81b-838c-4e92-9882-325cceb80bcf",
   "metadata": {},
   "outputs": [
    {
     "name": "stdout",
     "output_type": "stream",
     "text": [
      "Species: 15252 / 23255 = 0.66\n",
      "Reactions: 14875 / 30094 = 0.49\n"
     ]
    }
   ],
   "source": [
    "print('Species: %d / %d = %.02f' % (biomd_anot_specs,\n",
    "                                    biomd_all_specs,\n",
    "                                    biomd_anot_specs/biomd_all_specs))\n",
    "print('Reactions: %d / %d = %.02f' % (biomd_anot_reacs,\n",
    "                                      biomd_all_reacs,\n",
    "                                      biomd_anot_reacs/biomd_all_reacs))"
   ]
  },
  {
   "cell_type": "code",
   "execution_count": 59,
   "id": "710948c6-7933-4283-bca7-65b9f6ab0ea9",
   "metadata": {},
   "outputs": [
    {
     "data": {
      "text/plain": [
       "15252"
      ]
     },
     "execution_count": 59,
     "metadata": {},
     "output_type": "execute_result"
    }
   ],
   "source": [
    "biomd_anot_specs"
   ]
  },
  {
   "cell_type": "code",
   "execution_count": null,
   "id": "26a93642-5023-49ca-a705-7badb1312f8d",
   "metadata": {},
   "outputs": [],
   "source": []
  },
  {
   "cell_type": "code",
   "execution_count": null,
   "id": "7ed2da8f-7518-4831-aa9b-121dc9af8bea",
   "metadata": {},
   "outputs": [],
   "source": [
    "# Slide2: bar plots of annotations"
   ]
  }
 ],
 "metadata": {
  "kernelspec": {
   "display_name": "Python 3 (ipykernel)",
   "language": "python",
   "name": "python3"
  },
  "language_info": {
   "codemirror_mode": {
    "name": "ipython",
    "version": 3
   },
   "file_extension": ".py",
   "mimetype": "text/x-python",
   "name": "python",
   "nbconvert_exporter": "python",
   "pygments_lexer": "ipython3",
   "version": "3.11.2"
  }
 },
 "nbformat": 4,
 "nbformat_minor": 5
}
