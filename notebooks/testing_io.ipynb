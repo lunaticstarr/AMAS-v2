{
 "cells": [
  {
   "cell_type": "code",
   "execution_count": 3,
   "id": "7708ffa6-bfa4-4803-a983-0539476c29c8",
   "metadata": {},
   "outputs": [],
   "source": [
    "import pandas as pd"
   ]
  },
  {
   "cell_type": "code",
   "execution_count": 1,
   "id": "c67961cb-3a64-4bbe-b13e-ae6fba68ec85",
   "metadata": {},
   "outputs": [
    {
     "ename": "SyntaxError",
     "evalue": "unmatched ')' (3321550269.py, line 4)",
     "output_type": "error",
     "traceback": [
      "\u001b[0;36m  Cell \u001b[0;32mIn[1], line 4\u001b[0;36m\u001b[0m\n\u001b[0;31m    print(\"I have %s.\") % str(number))\u001b[0m\n\u001b[0m                                     ^\u001b[0m\n\u001b[0;31mSyntaxError\u001b[0m\u001b[0;31m:\u001b[0m unmatched ')'\n"
     ]
    }
   ],
   "source": [
    "# testing additional..\n",
    "\n",
    "\n",
    "def my_method (number):\n",
    "  print(\"I have %s.\") % str(number))\n",
    "          \n",
    "##\n",
    "from unittest.mock import patch\n",
    "\n",
    "def test_my_method():\n",
    "    with patch(\"builtins.print\") as mock_print:\n",
    "        my_method(5)  # Call the method that prints to stdout\n",
    "    mock_print.assert_called_once_with(\"I have 5.\")                  "
   ]
  },
  {
   "cell_type": "code",
   "execution_count": null,
   "id": "ef0d85bf-5c9b-427b-b3e3-79d7e1e764e0",
   "metadata": {},
   "outputs": [],
   "source": [
    "def my_method2(fpath, df):\n",
    "  \"\"\"\n",
    "  Parameters\n",
    "  ----------\n",
    "  fpath: string\n",
    "  df: pd.DataFrame\n",
    "  \"\"\"\n",
    "  df.to_csv(fpath)\n",
    "\n",
    "########\n",
    "from unittest.mock import mock_open, patch\n",
    "import pandas as pd\n",
    "\n",
    "def test_my_method2():\n",
    "    df = pd.DataFrame({\"col1\": [1, 2, 3], \"col2\": [\"a\", \"b\", \"c\"]})\n",
    "    with patch(\"pandas.DataFrame.to_csv\") as mock_to_csv:\n",
    "        with patch(\"builtins.open\", mock_open()) as mock_file:\n",
    "            my_method2(\"test.csv\", df)  # Call the method that saves to a file\n",
    "    mock_to_csv.assert_called_once_with(\"test.csv\")\n",
    "    mock_file.assert_called_once_with(\"test.csv\", \"w\")\n",
    "    handle = mock_file()\n",
    "    handle.write.assert_called_once_with(\"col1,col2\\n1,a\\n2,b\\n3,c\\n\")"
   ]
  },
  {
   "cell_type": "code",
   "execution_count": 4,
   "id": "be87805c-3b54-470c-b399-7dc57d8e48aa",
   "metadata": {},
   "outputs": [],
   "source": [
    "df = pd.DataFrame({\"col1\": [1, 2, 3], \"col2\": [\"a\", \"b\", \"c\"]})"
   ]
  },
  {
   "cell_type": "code",
   "execution_count": 5,
   "id": "cb8359d8-733e-4d53-97f5-e3896d59d63b",
   "metadata": {},
   "outputs": [
    {
     "data": {
      "text/html": [
       "<div>\n",
       "<style scoped>\n",
       "    .dataframe tbody tr th:only-of-type {\n",
       "        vertical-align: middle;\n",
       "    }\n",
       "\n",
       "    .dataframe tbody tr th {\n",
       "        vertical-align: top;\n",
       "    }\n",
       "\n",
       "    .dataframe thead th {\n",
       "        text-align: right;\n",
       "    }\n",
       "</style>\n",
       "<table border=\"1\" class=\"dataframe\">\n",
       "  <thead>\n",
       "    <tr style=\"text-align: right;\">\n",
       "      <th></th>\n",
       "      <th>col1</th>\n",
       "      <th>col2</th>\n",
       "    </tr>\n",
       "  </thead>\n",
       "  <tbody>\n",
       "    <tr>\n",
       "      <th>0</th>\n",
       "      <td>1</td>\n",
       "      <td>a</td>\n",
       "    </tr>\n",
       "    <tr>\n",
       "      <th>1</th>\n",
       "      <td>2</td>\n",
       "      <td>b</td>\n",
       "    </tr>\n",
       "    <tr>\n",
       "      <th>2</th>\n",
       "      <td>3</td>\n",
       "      <td>c</td>\n",
       "    </tr>\n",
       "  </tbody>\n",
       "</table>\n",
       "</div>"
      ],
      "text/plain": [
       "   col1 col2\n",
       "0     1    a\n",
       "1     2    b\n",
       "2     3    c"
      ]
     },
     "execution_count": 5,
     "metadata": {},
     "output_type": "execute_result"
    }
   ],
   "source": [
    "df"
   ]
  },
  {
   "cell_type": "code",
   "execution_count": 6,
   "id": "bc68c5a3-c998-4f99-af17-8fd7aabccb4d",
   "metadata": {},
   "outputs": [
    {
     "data": {
      "text/plain": [
       "'   col1 col2\\n0     1    a\\n1     2    b\\n2     3    c'"
      ]
     },
     "execution_count": 6,
     "metadata": {},
     "output_type": "execute_result"
    }
   ],
   "source": [
    "df.to_string()"
   ]
  },
  {
   "cell_type": "code",
   "execution_count": null,
   "id": "72f8b67a-c16c-468a-8521-3ab27d39473f",
   "metadata": {},
   "outputs": [],
   "source": []
  }
 ],
 "metadata": {
  "kernelspec": {
   "display_name": "Python 3 (ipykernel)",
   "language": "python",
   "name": "python3"
  },
  "language_info": {
   "codemirror_mode": {
    "name": "ipython",
    "version": 3
   },
   "file_extension": ".py",
   "mimetype": "text/x-python",
   "name": "python",
   "nbconvert_exporter": "python",
   "pygments_lexer": "ipython3",
   "version": "3.9.15"
  }
 },
 "nbformat": 4,
 "nbformat_minor": 5
}
