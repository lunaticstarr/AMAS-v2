{
 "cells": [
  {
   "cell_type": "code",
   "execution_count": 1,
   "id": "a1e723d3-a000-4009-8e04-e5cfab85d110",
   "metadata": {},
   "outputs": [],
   "source": [
    "# testing remaining recommender methods\n",
    "import collections\n",
    "\n",
    "import compress_pickle\n",
    "import copy\n",
    "import editdistance\n",
    "import itertools\n",
    "import libsbml\n",
    "import numpy as np\n",
    "import os\n",
    "import pickle\n",
    "import pandas as pd\n",
    "import sys\n",
    "import time\n",
    "import matplotlib.pyplot as plt\n",
    "%matplotlib inline  \n",
    "\n",
    "BIOMD_12 = 'BIOMD0000000012.xml'\n",
    "BASE_DIR = '/Users/woosubs/Desktop/AutomateAnnotation/'\n",
    "DATA_DIR = os.path.join(BASE_DIR, \"DATA\")\n",
    "ALGO_DIR = os.path.join(DATA_DIR, \"algo\")\n",
    "CHEBI_DIR = os.path.join(DATA_DIR, \"chebi\")\n",
    "FIGURE_DIR = '/Users/woosubs/Desktop/AutomateAnnotation/AMAS_suppl/figure_files'\n",
    "RHEA_DIR = os.path.join(DATA_DIR, \"rhea\")\n",
    "BIOMODEL_DIR = os.path.join(DATA_DIR, \"biomodels/curated_biomodels_31mar2021\")\n",
    "BIGG_DIR = '/Users/woosubs/Desktop/AutomateAnnotation/DATA/bigg'\n",
    "ecoli_fpath = os.path.join(BIGG_DIR, \"e_coli_core.xml\")\n",
    "\n",
    "PROJ_DIR = os.path.join(os.getcwd(), os.pardir)\n",
    "AMAS_DIR = os.path.join(PROJ_DIR, \"AMAS\")\n",
    "sys.path.append(PROJ_DIR)\n",
    "\n",
    "SUPPL_DIR = os.path.join(PROJ_DIR, os.pardir, \"AMAS_suppl\")\n",
    "ACCURACY_DIR = os.path.join(SUPPL_DIR, \"data_for_credibility\")\n",
    "\n",
    "from AMAS import species_annotation as sa\n",
    "from AMAS import reaction_annotation as ra\n",
    "from AMAS import recommender\n",
    "from AMAS import constants as cn\n",
    "from AMAS import iterator as it\n",
    "from AMAS import tools\n",
    "# import warnings"
   ]
  },
  {
   "cell_type": "code",
   "execution_count": 2,
   "id": "ed1eedfc-633d-4039-95f0-7aceda456fce",
   "metadata": {},
   "outputs": [],
   "source": [
    "BIOMD_190_PATH = os.path.join(cn.TEST_DIR, 'BIOMD0000000190.xml')\n",
    "min_score = 0.0\n",
    "method = 'top'"
   ]
  },
  {
   "cell_type": "code",
   "execution_count": 4,
   "id": "2b6397c1-327f-4d86-8fca-fa9380d50b6e",
   "metadata": {},
   "outputs": [
    {
     "name": "stdout",
     "output_type": "stream",
     "text": [
      "...\n",
      "Analyzing 11 species...\n",
      "\n"
     ]
    }
   ],
   "source": [
    "specs = None\n",
    "min_score = 0.0\n",
    "method = 'top'\n",
    "outfile = 'species_rec.csv'\n",
    "\n",
    "recom = recommender.Recommender(libsbml_fpath=BIOMD_190_PATH)\n",
    "recom.current_type = 'species'\n",
    "# if nothing is given, predict all IDs\n",
    "if specs is None:\n",
    "  specs = recom.getSpeciesIDs()\n",
    "print(\"...\\nAnalyzing %d species...\\n\" % len(specs))\n",
    "res = recom.getSpeciesListRecommendation(pred_ids=specs, get_df=True)\n",
    "for idx, one_df in enumerate(res):\n",
    "  filt_df = recom.autoSelectAnnotation(df=one_df,\n",
    "                                       min_score=min_score,\n",
    "                                       method=method)\n",
    "  recom.updateSelection(specs[idx], filt_df)\n",
    "# # save file to csv\n",
    "# recom.saveToCSV(outfile)\n",
    "# print(\"Recommendations saved as:\\n%s\\n\" % os.path.abspath(outfile))"
   ]
  },
  {
   "cell_type": "code",
   "execution_count": 7,
   "id": "68217084-3a85-440f-868d-b8ac581b7e87",
   "metadata": {},
   "outputs": [
    {
     "name": "stdout",
     "output_type": "stream",
     "text": [
      "...\n",
      "Analyzing 11 species...\n",
      "\n"
     ]
    }
   ],
   "source": [
    "recom = recommender.Recommender(libsbml_fpath=BIOMD_190_PATH)\n",
    "recom.current_type = 'species'\n",
    "\n",
    "specs = recom.getSpeciesIDs()\n",
    "print(\"...\\nAnalyzing %d species...\\n\" % len(specs))\n",
    "res_spec = recom.getSpeciesListRecommendation(pred_ids=specs, get_df=True)\n",
    "for idx, one_df in enumerate(res_spec):\n",
    "  filt_df = recom.autoSelectAnnotation(df=one_df,\n",
    "                                       min_score=min_score,\n",
    "                                       method=method)\n",
    "  recom.updateSelection(specs[idx], filt_df)"
   ]
  },
  {
   "cell_type": "code",
   "execution_count": 23,
   "id": "295e711a-a78a-4092-b53f-09f933b1b599",
   "metadata": {},
   "outputs": [
    {
     "name": "stdout",
     "output_type": "stream",
     "text": [
      "Choose either \"top\" or \"above\". \"top\" recommends the best annotations that are above the min_score, and \"above\" recommends all annotations that are above the min_score. Default is \"top\".\n"
     ]
    }
   ],
   "source": [
    "print('Choose either \"top\" or \"above\". \"top\" recommends ' +\\\n",
    "                                       'the best annotations that are above the min_score, ' +\\\n",
    "                                       'and \"above\" recommends all annotations that are above ' +\\\n",
    "                                       'the min_score. Default is \"top\".')"
   ]
  },
  {
   "cell_type": "code",
   "execution_count": 16,
   "id": "c93e400d-de7f-4221-8818-467a700d5468",
   "metadata": {},
   "outputs": [
    {
     "data": {
      "text/plain": [
       "'/Users/woosubs/Desktop/AutomateAnnotation/AMAS/notebooks'"
      ]
     },
     "execution_count": 16,
     "metadata": {},
     "output_type": "execute_result"
    }
   ],
   "source": [
    "one_path = os.getcwd()\n",
    "one_path"
   ]
  },
  {
   "cell_type": "code",
   "execution_count": 21,
   "id": "336783b4-9e64-4892-a4fa-8361bb4b1c6a",
   "metadata": {},
   "outputs": [
    {
     "data": {
      "text/plain": [
       "True"
      ]
     },
     "execution_count": 21,
     "metadata": {},
     "output_type": "execute_result"
    }
   ],
   "source": [
    "os.path.isfile('updated_model.xml')"
   ]
  },
  {
   "cell_type": "code",
   "execution_count": null,
   "id": "55aa4412-2750-404e-ae2c-b04b606b119e",
   "metadata": {},
   "outputs": [],
   "source": []
  },
  {
   "cell_type": "code",
   "execution_count": 2,
   "id": "92c5b356-5e8a-45a4-9ae4-675daa9f10fe",
   "metadata": {},
   "outputs": [],
   "source": [
    "\n",
    "BIOMD_634_PATH = os.path.join(cn.TEST_DIR, 'BIOMD0000000634.xml')\n",
    "E_COLI_PATH = os.path.join(cn.TEST_DIR, 'e_coli_core.xml')\n",
    "ONE_SPEC_CAND = ('CHEBI:15414', 1.0)\n",
    "ONE_SPEC_URL = 'https://www.ebi.ac.uk/chebi/searchId.do?chebiId=CHEBI%3A15414'\n",
    "TWO_SPEC_CAND = ('CHEBI:15729', 1.0)\n",
    "TWO_SPEC_URL = 'https://www.ebi.ac.uk/chebi/searchId.do?chebiId=CHEBI%3A15729'\n",
    "\n",
    "ONE_REAC_CAND = ('RHEA:28827', 1.0)\n",
    "ONE_REAC_URL = 'https://www.rhea-db.org/rhea/28827'\n",
    "\n",
    "SPECIES_SAM = 'SAM'\n",
    "SPECIES_SAM_NAME = 'S-adenosyl-L-methionine'\n",
    "SPECIES_ORN = 'ORN'\n",
    "SPECIES_ATP = 'ATP'\n",
    "REACTION_ODC = 'ODC'\n",
    "REACTION_SAMDC = 'SAMdc'\n",
    "REACTION_SPMS = 'SpmS'\n",
    "R_PFK = 'R_PFK'\n",
    "R_PFL = 'R_PFL'\n",
    "ECOLI_REACTIONS = [R_PFK, R_PFL]\n",
    "ECOLI_ATP = 'M_atp_c'\n",
    "ECOLI_RHEA = 'RHEA:12420'\n",
    "\n",
    "ONE_CHEBI = 'CHEBI:15414'\n",
    "ATP_CHEBI = 'CHEBI:30616'\n",
    "FORMULA_ATP = 'C10N5O13P3'\n",
    "\n",
    "RESULT_RECOM = cn.Recommendation('R_PFK', 0.817,\n",
    "                                 [('RHEA:12420', 0.6), ('RHEA:13377', 0.6)],\n",
    "                                 ['https://www.rhea-db.org/rhea/12420', 'https://www.rhea-db.org/rhea/13377'],\n",
    "                                 ['tagatose-6-phosphate kinase activity', 'phosphoglucokinase activity'])"
   ]
  },
  {
   "cell_type": "code",
   "execution_count": 3,
   "id": "fd9273c1-4c22-4ecc-8658-4c7c04b64944",
   "metadata": {},
   "outputs": [],
   "source": [
    "recom = recommender.Recommender(libsbml_fpath=BIOMD_190_PATH)"
   ]
  },
  {
   "cell_type": "code",
   "execution_count": 11,
   "id": "c6eb1f81-810d-4342-b187-b09f292ab12a",
   "metadata": {},
   "outputs": [],
   "source": [
    "recom.saveToCSV()"
   ]
  },
  {
   "cell_type": "code",
   "execution_count": 12,
   "id": "20165c0f-2805-424a-9120-51ed71fe1d3f",
   "metadata": {},
   "outputs": [],
   "source": [
    "df = pd.read_csv('recommendation.csv')"
   ]
  },
  {
   "cell_type": "code",
   "execution_count": 13,
   "id": "70d6ed36-307d-4512-b768-b70bd1432171",
   "metadata": {},
   "outputs": [
    {
     "data": {
      "text/html": [
       "<div>\n",
       "<style scoped>\n",
       "    .dataframe tbody tr th:only-of-type {\n",
       "        vertical-align: middle;\n",
       "    }\n",
       "\n",
       "    .dataframe tbody tr th {\n",
       "        vertical-align: top;\n",
       "    }\n",
       "\n",
       "    .dataframe thead th {\n",
       "        text-align: right;\n",
       "    }\n",
       "</style>\n",
       "<table border=\"1\" class=\"dataframe\">\n",
       "  <thead>\n",
       "    <tr style=\"text-align: right;\">\n",
       "      <th></th>\n",
       "      <th>file</th>\n",
       "      <th>type</th>\n",
       "      <th>id</th>\n",
       "      <th>display name</th>\n",
       "      <th>meta id</th>\n",
       "      <th>annotation</th>\n",
       "      <th>annotation label</th>\n",
       "      <th>match score</th>\n",
       "      <th>existing</th>\n",
       "      <th>USE ANNOTATION</th>\n",
       "    </tr>\n",
       "  </thead>\n",
       "  <tbody>\n",
       "    <tr>\n",
       "      <th>0</th>\n",
       "      <td>BIOMD0000000190.xml</td>\n",
       "      <td>species</td>\n",
       "      <td>SAM</td>\n",
       "      <td>S-adenosyl-L-methionine</td>\n",
       "      <td>metaid_0000036</td>\n",
       "      <td>CHEBI:15414</td>\n",
       "      <td>S-adenosyl-L-methionine</td>\n",
       "      <td>1.0</td>\n",
       "      <td>1</td>\n",
       "      <td>0</td>\n",
       "    </tr>\n",
       "  </tbody>\n",
       "</table>\n",
       "</div>"
      ],
      "text/plain": [
       "                  file     type   id             display name         meta id  \\\n",
       "0  BIOMD0000000190.xml  species  SAM  S-adenosyl-L-methionine  metaid_0000036   \n",
       "\n",
       "    annotation         annotation label  match score  existing  USE ANNOTATION  \n",
       "0  CHEBI:15414  S-adenosyl-L-methionine          1.0         1               0  "
      ]
     },
     "execution_count": 13,
     "metadata": {},
     "output_type": "execute_result"
    }
   ],
   "source": [
    "df"
   ]
  },
  {
   "cell_type": "code",
   "execution_count": 17,
   "id": "48b16637-951d-401f-9589-f34fd79880f6",
   "metadata": {},
   "outputs": [
    {
     "name": "stdout",
     "output_type": "stream",
     "text": [
      "Annotation recommended for 1 species:\n",
      "[SAM]\n",
      "\n"
     ]
    }
   ],
   "source": [
    "recom.saveToSBML('biomd190_upd.xml')"
   ]
  },
  {
   "cell_type": "code",
   "execution_count": 18,
   "id": "4a5ff066-016b-4079-b645-0efc6e40e44f",
   "metadata": {},
   "outputs": [],
   "source": [
    "recom2 = recommender.Recommender(libsbml_fpath='biomd190_upd.xml')"
   ]
  },
  {
   "cell_type": "code",
   "execution_count": 20,
   "id": "d00c967e-6a42-4c7c-8288-95fb0c3f7165",
   "metadata": {},
   "outputs": [
    {
     "data": {
      "text/plain": [
       "['CHEBI:15414']"
      ]
     },
     "execution_count": 20,
     "metadata": {},
     "output_type": "execute_result"
    }
   ],
   "source": [
    "recom2.species.exist_annotation['SAM']"
   ]
  },
  {
   "cell_type": "code",
   "execution_count": 22,
   "id": "fb1c5e96-c26e-4146-b1ef-a735f38064c9",
   "metadata": {},
   "outputs": [
    {
     "name": "stdout",
     "output_type": "stream",
     "text": [
      "Annotation recommended for 2 species:\n",
      "[SAM, A]\n",
      "\n"
     ]
    }
   ],
   "source": [
    "recom.printSummary(saved=['SAM', 'A'], element_type='species')"
   ]
  },
  {
   "cell_type": "code",
   "execution_count": 23,
   "id": "c24fe315-abf7-454d-a2fc-d99e2ad916c4",
   "metadata": {},
   "outputs": [
    {
     "data": {
      "text/plain": [
       "'Annotation recommended for 2 species:\\n + [SAM, A]'"
      ]
     },
     "execution_count": 23,
     "metadata": {},
     "output_type": "execute_result"
    }
   ],
   "source": [
    "'Annotation recommended for 2 species:\\n[SAM, A]'"
   ]
  },
  {
   "cell_type": "code",
   "execution_count": 24,
   "id": "76a58785-4a93-45e2-bb14-44cea9607247",
   "metadata": {},
   "outputs": [
    {
     "data": {
      "text/plain": [
       "['ODC',\n",
       " 'SAMdc',\n",
       " 'SSAT_for_S',\n",
       " 'SSAT_for_D',\n",
       " 'PAO_for_aD',\n",
       " 'PAO_for_aS',\n",
       " 'SpdS',\n",
       " 'SpmS',\n",
       " 'MAT',\n",
       " 'VCoA',\n",
       " 'VacCoA',\n",
       " 'P_efflux',\n",
       " 'aD_efflux']"
      ]
     },
     "execution_count": 24,
     "metadata": {},
     "output_type": "execute_result"
    }
   ],
   "source": [
    "recom.getReactionIDs()"
   ]
  },
  {
   "cell_type": "code",
   "execution_count": 26,
   "id": "62607888-10fd-4bd4-ab48-b8024e108c6f",
   "metadata": {},
   "outputs": [
    {
     "name": "stdout",
     "output_type": "stream",
     "text": [
      "Annotation recommended for 3 reaction(s):\n",
      "[ODC, SAMdc, SSAT_for_S]\n",
      "\n"
     ]
    }
   ],
   "source": [
    "recom.printSummary(saved=['ODC', 'SAMdc', 'SSAT_for_S'], element_type='reaction')"
   ]
  },
  {
   "cell_type": "code",
   "execution_count": null,
   "id": "3f64af7f-d2c3-42c6-b737-c43319dbddb4",
   "metadata": {},
   "outputs": [],
   "source": []
  }
 ],
 "metadata": {
  "kernelspec": {
   "display_name": "Python 3 (ipykernel)",
   "language": "python",
   "name": "python3"
  },
  "language_info": {
   "codemirror_mode": {
    "name": "ipython",
    "version": 3
   },
   "file_extension": ".py",
   "mimetype": "text/x-python",
   "name": "python",
   "nbconvert_exporter": "python",
   "pygments_lexer": "ipython3",
   "version": "3.11.2"
  }
 },
 "nbformat": 4,
 "nbformat_minor": 5
}
