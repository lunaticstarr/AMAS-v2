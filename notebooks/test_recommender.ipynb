{
 "cells": [
  {
   "cell_type": "code",
   "execution_count": 7,
   "id": "54a42ff3",
   "metadata": {},
   "outputs": [],
   "source": [
    "# Test recommender as parts are developed\n",
    "import collections\n",
    "import libsbml\n",
    "import numpy as np\n",
    "import os\n",
    "import pickle\n",
    "import pandas as pd\n",
    "import sys\n",
    "import matplotlib.pyplot as plt\n",
    "%matplotlib inline  \n",
    "\n",
    "BIOMD_12 = 'BIOMD0000000012.xml'\n",
    "BASE_DIR = '/Users/woosubs/Desktop/AutomateAnnotation/'\n",
    "DATA_DIR = os.path.join(BASE_DIR, \"DATA\")\n",
    "ALGO_DIR = os.path.join(DATA_DIR, \"algo\")\n",
    "CHEBI_DIR = os.path.join(DATA_DIR, \"chebi\")\n",
    "RHEA_DIR = os.path.join(DATA_DIR, \"rhea\")\n",
    "BIOMODEL_DIR = os.path.join(DATA_DIR, \"biomodels/curated_biomodels_31mar2021\")\n",
    "BIGG_DIR = '/Users/woosubs/Desktop/AutomateAnnotation/DATA/bigg'\n",
    "ecoli_fpath = os.path.join(BIGG_DIR, \"e_coli_core.xml\")\n",
    "\n",
    "PROJ_DIR = os.path.join(os.getcwd(), os.pardir)\n",
    "AMAS_DIR = os.path.join(PROJ_DIR, \"AMAS\")\n",
    "sys.path.append(PROJ_DIR)\n",
    "\n",
    "from AMAS import species_annotation as sa\n",
    "from AMAS import reaction_annotation as ra\n",
    "from AMAS import recommender\n",
    "from AMAS import constants as cn\n",
    "from AMAS import iterator as it\n",
    "from AMAS import tools"
   ]
  },
  {
   "cell_type": "code",
   "execution_count": 5,
   "id": "019eccc4",
   "metadata": {},
   "outputs": [],
   "source": [
    "import AMAS"
   ]
  },
  {
   "cell_type": "code",
   "execution_count": 8,
   "id": "cdf49a9c",
   "metadata": {},
   "outputs": [],
   "source": [
    "# This time, load a BiGG model\n",
    "one_biomd = 'BIOMD0000000190.xml'\n",
    "one_biomd_fpath = os.path.join(BIOMODEL_DIR, one_biomd)\n",
    "reader = libsbml.SBMLReader()\n",
    "document = reader.readSBML(one_biomd_fpath)\n",
    "model = document.getModel()"
   ]
  },
  {
   "cell_type": "code",
   "execution_count": 12,
   "id": "b005bbb2",
   "metadata": {},
   "outputs": [],
   "source": [
    "\n",
    "recom = AMAS.Recommender(libsbml_fpath=one_biomd_fpath)"
   ]
  },
  {
   "cell_type": "code",
   "execution_count": 13,
   "id": "aaedac4c",
   "metadata": {},
   "outputs": [],
   "source": [
    "# spec_list = ['M_ac_c', 'M_adp_c', 'M_atp_c', 'M_actp_c']\n",
    "# spec_list = ['ATP', 'ADP', 'AMP']\n",
    "res = recom.getSpeciesAnnotation(pred_id='SAM')"
   ]
  },
  {
   "cell_type": "code",
   "execution_count": 14,
   "id": "f62dccd1",
   "metadata": {},
   "outputs": [
    {
     "data": {
      "text/plain": [
       "Recommendation(id='SAM', credibility=1.0, candidates=[('CHEBI:15414', 1.0), ('CHEBI:59789', 1.0)], urls=['https://www.ebi.ac.uk/chebi/searchId.do?chebiId=CHEBI%3A15414', 'https://www.ebi.ac.uk/chebi/searchId.do?chebiId=CHEBI%3A59789'])"
      ]
     },
     "execution_count": 14,
     "metadata": {},
     "output_type": "execute_result"
    }
   ],
   "source": [
    "res"
   ]
  },
  {
   "cell_type": "code",
   "execution_count": 7,
   "id": "bbb5309f",
   "metadata": {},
   "outputs": [
    {
     "name": "stdout",
     "output_type": "stream",
     "text": [
      "Recommendation(id='ORN', credibility=1.0, candidates=[('CHEBI:15729', 1.0), ('CHEBI:46911', 1.0)], urls=['https://www.ebi.ac.uk/chebi/searchId.do?chebiId=CHEBI%3A15729', 'https://www.ebi.ac.uk/chebi/searchId.do?chebiId=CHEBI%3A46911'])\n"
     ]
    }
   ],
   "source": [
    "specs = recom.getSpeciesListAnnotation(pred_list=['SAM', 'ORN'], id=True)\n",
    "one_res = specs[1]\n",
    "print(one_res)"
   ]
  },
  {
   "cell_type": "code",
   "execution_count": 8,
   "id": "65204218",
   "metadata": {},
   "outputs": [
    {
     "data": {
      "text/plain": [
       "Recommendation(id='SAM', credibility=1.0, candidates=[('CHEBI:15414', 1.0), ('CHEBI:59789', 1.0)], urls=['https://www.ebi.ac.uk/chebi/searchId.do?chebiId=CHEBI%3A15414', 'https://www.ebi.ac.uk/chebi/searchId.do?chebiId=CHEBI%3A59789'])"
      ]
     },
     "execution_count": 8,
     "metadata": {},
     "output_type": "execute_result"
    }
   ],
   "source": [
    "specs[0]"
   ]
  },
  {
   "cell_type": "code",
   "execution_count": 9,
   "id": "30866643",
   "metadata": {},
   "outputs": [
    {
     "data": {
      "text/plain": [
       "{'ODC': ['ORN', 'P'],\n",
       " 'SAMdc': ['SAM', 'A'],\n",
       " 'SSAT_for_S': ['AcCoA', 'aS', 'S', 'CoA'],\n",
       " 'SSAT_for_D': ['AcCoA', 'aD', 'D', 'CoA'],\n",
       " 'PAO_for_aD': ['aD', 'P'],\n",
       " 'PAO_for_aS': ['D', 'aS'],\n",
       " 'SpdS': ['D', 'P', 'A'],\n",
       " 'SpmS': ['D', 'S', 'A'],\n",
       " 'MAT': ['SAM', 'Met'],\n",
       " 'VCoA': ['AcCoA', 'CoA'],\n",
       " 'VacCoA': ['AcCoA', 'CoA'],\n",
       " 'P_efflux': ['P'],\n",
       " 'aD_efflux': ['aD']}"
      ]
     },
     "execution_count": 9,
     "metadata": {},
     "output_type": "execute_result"
    }
   ],
   "source": [
    "recom.reactions.reaction_components"
   ]
  },
  {
   "cell_type": "code",
   "execution_count": 4,
   "id": "3caf8c53",
   "metadata": {},
   "outputs": [],
   "source": [
    "two_biomd = 'BIOMD0000000190.xml'\n",
    "two_biomd_fpath = os.path.join(BIOMODEL_DIR, two_biomd)\n",
    "recom2 = recommender.Recommender(libsbml_fpath=two_biomd_fpath)\n",
    "# reac_list = ['SAMdc', 'SSAT_for_S']\n",
    "one_reac = 'SAMdc'\n",
    "res2 = recom2.getReactionAnnotation(one_reac)"
   ]
  },
  {
   "cell_type": "code",
   "execution_count": 5,
   "id": "91ecbffb",
   "metadata": {},
   "outputs": [
    {
     "data": {
      "text/plain": [
       "Recommendation(id='SAMdc', credibility=0.38, candidates=[('RHEA:15984', 0.5)], urls=['https://www.rhea-db.org/rhea/15984'])"
      ]
     },
     "execution_count": 5,
     "metadata": {},
     "output_type": "execute_result"
    }
   ],
   "source": [
    "res2"
   ]
  },
  {
   "cell_type": "code",
   "execution_count": 6,
   "id": "413d3064",
   "metadata": {},
   "outputs": [],
   "source": [
    "reac_list = ['ODC', 'SAMdc']\n",
    "res3 = recom.getReactionListAnnotation(reac_list)"
   ]
  },
  {
   "cell_type": "code",
   "execution_count": 7,
   "id": "48abc72a",
   "metadata": {},
   "outputs": [
    {
     "data": {
      "text/plain": [
       "[Recommendation(id='ODC', credibility=1.0, candidates=[('RHEA:28830', 1.0), ('RHEA:22967', 0.5), ('RHEA:59051', 0.5)], urls=['https://www.rhea-db.org/rhea/28830', 'https://www.rhea-db.org/rhea/22967', 'https://www.rhea-db.org/rhea/59051']),\n",
       " Recommendation(id='SAMdc', credibility=0.38, candidates=[('RHEA:15984', 0.5)], urls=['https://www.rhea-db.org/rhea/15984'])]"
      ]
     },
     "execution_count": 7,
     "metadata": {},
     "output_type": "execute_result"
    }
   ],
   "source": [
    "res3"
   ]
  },
  {
   "cell_type": "code",
   "execution_count": 6,
   "id": "f599c7d9",
   "metadata": {},
   "outputs": [
    {
     "name": "stdout",
     "output_type": "stream",
     "text": [
      "{'ODC': 1.0}\n"
     ]
    }
   ],
   "source": [
    "pred_id =  'ODC'\n",
    "specs2predict = recom.reactions.reaction_components[pred_id]\n",
    "spec_results = recom.getSpeciesListAnnotation(specs2predict, id=True)\n",
    "pred_formulas = dict()\n",
    "for one_recom in spec_results:\n",
    "  cands = [val[0] for val in one_recom.candidates]\n",
    "  forms = list(set([sa.ref_shortened_chebi_to_formula[k] \\\n",
    "           for k in cands if k in sa.ref_shortened_chebi_to_formula.keys()]))\n",
    "  pred_formulas[one_recom.id] = forms\n",
    "\n",
    "pred_reaction = recom.reactions.predictAnnotation(inp_spec_dict=pred_formulas,\n",
    "                                                 inp_reac_list=[pred_id])\n",
    "pred_score = recom.reactions.evaluatePredictedReactionAnnotation([pred_id])\n",
    "print(pred_score)"
   ]
  },
  {
   "cell_type": "code",
   "execution_count": 7,
   "id": "7685f354",
   "metadata": {},
   "outputs": [
    {
     "data": {
      "text/plain": [
       "{'SAMdc': [('RHEA:15984', 0.5)]}"
      ]
     },
     "execution_count": 7,
     "metadata": {},
     "output_type": "execute_result"
    }
   ],
   "source": [
    "pred_reaction"
   ]
  },
  {
   "cell_type": "code",
   "execution_count": 8,
   "id": "b3a7b2fc",
   "metadata": {},
   "outputs": [
    {
     "data": {
      "text/plain": [
       "{'SAMdc': [('RHEA:15984', 0.5)]}"
      ]
     },
     "execution_count": 8,
     "metadata": {},
     "output_type": "execute_result"
    }
   ],
   "source": [
    "recom.reactions.predictAnnotation(inp_spec_dict=pred_formulas,\n",
    "                                  inp_reac_list=[pred_id])"
   ]
  },
  {
   "cell_type": "code",
   "execution_count": 18,
   "id": "15b4dba6",
   "metadata": {},
   "outputs": [
    {
     "name": "stdout",
     "output_type": "stream",
     "text": [
      "{'A': ['C14N6O3S'], 'SAM': ['C15N6O5S']}\n"
     ]
    }
   ],
   "source": [
    "\n",
    "print(spec_formulas)"
   ]
  },
  {
   "cell_type": "code",
   "execution_count": null,
   "id": "579ee4d0",
   "metadata": {},
   "outputs": [],
   "source": []
  }
 ],
 "metadata": {
  "kernelspec": {
   "display_name": "pyo",
   "language": "python",
   "name": "pyo"
  },
  "language_info": {
   "codemirror_mode": {
    "name": "ipython",
    "version": 3
   },
   "file_extension": ".py",
   "mimetype": "text/x-python",
   "name": "python",
   "nbconvert_exporter": "python",
   "pygments_lexer": "ipython3",
   "version": "3.8.8"
  }
 },
 "nbformat": 4,
 "nbformat_minor": 5
}
