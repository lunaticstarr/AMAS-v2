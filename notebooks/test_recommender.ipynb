{
 "cells": [
  {
   "cell_type": "code",
   "execution_count": 1,
   "id": "a1e723d3-a000-4009-8e04-e5cfab85d110",
   "metadata": {},
   "outputs": [],
   "source": [
    "# testing remaining recommender methods\n",
    "import collections\n",
    "\n",
    "import compress_pickle\n",
    "import copy\n",
    "import editdistance\n",
    "import itertools\n",
    "import libsbml\n",
    "import numpy as np\n",
    "import os\n",
    "import pickle\n",
    "import pandas as pd\n",
    "import sys\n",
    "import time\n",
    "import matplotlib.pyplot as plt\n",
    "%matplotlib inline  \n",
    "\n",
    "BIOMD_12 = 'BIOMD0000000012.xml'\n",
    "BASE_DIR = '/Users/woosubs/Desktop/AutomateAnnotation/'\n",
    "DATA_DIR = os.path.join(BASE_DIR, \"DATA\")\n",
    "ALGO_DIR = os.path.join(DATA_DIR, \"algo\")\n",
    "CHEBI_DIR = os.path.join(DATA_DIR, \"chebi\")\n",
    "FIGURE_DIR = '/Users/woosubs/Desktop/AutomateAnnotation/AMAS_suppl/figure_files'\n",
    "RHEA_DIR = os.path.join(DATA_DIR, \"rhea\")\n",
    "BIOMODEL_DIR = os.path.join(DATA_DIR, \"biomodels/curated_biomodels_31mar2021\")\n",
    "BIGG_DIR = '/Users/woosubs/Desktop/AutomateAnnotation/DATA/bigg'\n",
    "ecoli_fpath = os.path.join(BIGG_DIR, \"e_coli_core.xml\")\n",
    "\n",
    "PROJ_DIR = os.path.join(os.getcwd(), os.pardir)\n",
    "AMAS_DIR = os.path.join(PROJ_DIR, \"AMAS\")\n",
    "sys.path.append(PROJ_DIR)\n",
    "\n",
    "SUPPL_DIR = os.path.join(PROJ_DIR, os.pardir, \"AMAS_suppl\")\n",
    "ACCURACY_DIR = os.path.join(SUPPL_DIR, \"data_for_credibility\")\n",
    "\n",
    "from AMAS import species_annotation as sa\n",
    "from AMAS import reaction_annotation as ra\n",
    "from AMAS import recommender\n",
    "from AMAS import constants as cn\n",
    "from AMAS import iterator as it\n",
    "from AMAS import tools"
   ]
  },
  {
   "cell_type": "code",
   "execution_count": 3,
   "id": "92c5b356-5e8a-45a4-9ae4-675daa9f10fe",
   "metadata": {},
   "outputs": [],
   "source": [
    "BIOMD_190_PATH = os.path.join(cn.TEST_DIR, 'BIOMD0000000190.xml')\n",
    "BIOMD_634_PATH = os.path.join(cn.TEST_DIR, 'BIOMD0000000634.xml')\n",
    "E_COLI_PATH = os.path.join(cn.TEST_DIR, 'e_coli_core.xml')\n",
    "ONE_SPEC_CAND = ('CHEBI:15414', 1.0)\n",
    "ONE_SPEC_URL = 'https://www.ebi.ac.uk/chebi/searchId.do?chebiId=CHEBI%3A15414'\n",
    "TWO_SPEC_CAND = ('CHEBI:15729', 1.0)\n",
    "TWO_SPEC_URL = 'https://www.ebi.ac.uk/chebi/searchId.do?chebiId=CHEBI%3A15729'\n",
    "\n",
    "ONE_REAC_CAND = ('RHEA:28827', 1.0)\n",
    "ONE_REAC_URL = 'https://www.rhea-db.org/rhea/28827'\n",
    "\n",
    "SPECIES_SAM = 'SAM'\n",
    "SPECIES_SAM_NAME = 'S-adenosyl-L-methionine'\n",
    "SPECIES_ORN = 'ORN'\n",
    "SPECIES_ATP = 'ATP'\n",
    "REACTION_ODC = 'ODC'\n",
    "REACTION_SAMDC = 'SAMdc'\n",
    "REACTION_SPMS = 'SpmS'\n",
    "R_PFK = 'R_PFK'\n",
    "R_PFL = 'R_PFL'\n",
    "ECOLI_REACTIONS = [R_PFK, R_PFL]\n",
    "ECOLI_ATP = 'M_atp_c'\n",
    "ECOLI_RHEA = 'RHEA:12420'\n",
    "\n",
    "ONE_CHEBI = 'CHEBI:15414'\n",
    "ATP_CHEBI = 'CHEBI:30616'\n",
    "FORMULA_ATP = 'C10N5O13P3'\n",
    "\n",
    "RESULT_RECOM = cn.Recommendation('R_PFK', 0.817,\n",
    "                                 [('RHEA:12420', 0.6), ('RHEA:13377', 0.6)],\n",
    "                                 ['https://www.rhea-db.org/rhea/12420', 'https://www.rhea-db.org/rhea/13377'],\n",
    "                                 ['tagatose-6-phosphate kinase activity', 'phosphoglucokinase activity'])"
   ]
  },
  {
   "cell_type": "code",
   "execution_count": 4,
   "id": "fd9273c1-4c22-4ecc-8658-4c7c04b64944",
   "metadata": {},
   "outputs": [],
   "source": [
    "recom = recommender.Recommender(libsbml_fpath=BIOMD_190_PATH)"
   ]
  },
  {
   "cell_type": "code",
   "execution_count": 10,
   "id": "fbf7d170-3814-4265-9590-8fc444fbdd58",
   "metadata": {},
   "outputs": [
    {
     "data": {
      "text/html": [
       "<div>\n",
       "<style scoped>\n",
       "    .dataframe tbody tr th:only-of-type {\n",
       "        vertical-align: middle;\n",
       "    }\n",
       "\n",
       "    .dataframe tbody tr th {\n",
       "        vertical-align: top;\n",
       "    }\n",
       "\n",
       "    .dataframe thead th {\n",
       "        text-align: right;\n",
       "    }\n",
       "</style>\n",
       "<table border=\"1\" class=\"dataframe\">\n",
       "  <thead>\n",
       "    <tr style=\"text-align: right;\">\n",
       "      <th></th>\n",
       "      <th>annotation</th>\n",
       "      <th>match score</th>\n",
       "      <th>label</th>\n",
       "    </tr>\n",
       "    <tr>\n",
       "      <th>R_PFK (cred. 0.817)</th>\n",
       "      <th></th>\n",
       "      <th></th>\n",
       "      <th></th>\n",
       "    </tr>\n",
       "  </thead>\n",
       "  <tbody>\n",
       "    <tr>\n",
       "      <th>1</th>\n",
       "      <td>RHEA:12420</td>\n",
       "      <td>0.6</td>\n",
       "      <td>tagatose-6-phosphate kinase activity</td>\n",
       "    </tr>\n",
       "    <tr>\n",
       "      <th>2</th>\n",
       "      <td>RHEA:13377</td>\n",
       "      <td>0.6</td>\n",
       "      <td>phosphoglucokinase activity</td>\n",
       "    </tr>\n",
       "  </tbody>\n",
       "</table>\n",
       "</div>"
      ],
      "text/plain": [
       "                     annotation  match score  \\\n",
       "R_PFK (cred. 0.817)                            \n",
       "1                    RHEA:12420          0.6   \n",
       "2                    RHEA:13377          0.6   \n",
       "\n",
       "                                                    label  \n",
       "R_PFK (cred. 0.817)                                        \n",
       "1                    tagatose-6-phosphate kinase activity  \n",
       "2                             phosphoglucokinase activity  "
      ]
     },
     "execution_count": 10,
     "metadata": {},
     "output_type": "execute_result"
    }
   ],
   "source": [
    "result_df = recom.getDataFrameFromRecommendation(RESULT_RECOM)\n",
    "result_df"
   ]
  },
  {
   "cell_type": "code",
   "execution_count": 13,
   "id": "e6952fc6-2de5-49e1-9c48-7d5d0d770980",
   "metadata": {},
   "outputs": [
    {
     "data": {
      "text/html": [
       "<div>\n",
       "<style scoped>\n",
       "    .dataframe tbody tr th:only-of-type {\n",
       "        vertical-align: middle;\n",
       "    }\n",
       "\n",
       "    .dataframe tbody tr th {\n",
       "        vertical-align: top;\n",
       "    }\n",
       "\n",
       "    .dataframe thead th {\n",
       "        text-align: right;\n",
       "    }\n",
       "</style>\n",
       "<table border=\"1\" class=\"dataframe\">\n",
       "  <thead>\n",
       "    <tr style=\"text-align: right;\">\n",
       "      <th></th>\n",
       "      <th>annotation</th>\n",
       "      <th>match score</th>\n",
       "      <th>label</th>\n",
       "    </tr>\n",
       "    <tr>\n",
       "      <th>R_PFK (cred. 0.817)</th>\n",
       "      <th></th>\n",
       "      <th></th>\n",
       "      <th></th>\n",
       "    </tr>\n",
       "  </thead>\n",
       "  <tbody>\n",
       "    <tr>\n",
       "      <th>1</th>\n",
       "      <td>RHEA:12420</td>\n",
       "      <td>0.6</td>\n",
       "      <td>tagatose-6-phosphate kinase activity</td>\n",
       "    </tr>\n",
       "    <tr>\n",
       "      <th>2</th>\n",
       "      <td>RHEA:13377</td>\n",
       "      <td>0.6</td>\n",
       "      <td>phosphoglucokinase activity</td>\n",
       "    </tr>\n",
       "  </tbody>\n",
       "</table>\n",
       "</div>"
      ],
      "text/plain": [
       "                     annotation  match score  \\\n",
       "R_PFK (cred. 0.817)                            \n",
       "1                    RHEA:12420          0.6   \n",
       "2                    RHEA:13377          0.6   \n",
       "\n",
       "                                                    label  \n",
       "R_PFK (cred. 0.817)                                        \n",
       "1                    tagatose-6-phosphate kinase activity  \n",
       "2                             phosphoglucokinase activity  "
      ]
     },
     "execution_count": 13,
     "metadata": {},
     "output_type": "execute_result"
    }
   ],
   "source": [
    "res1 = recom.filterDataFrameByThreshold(result_df, min_score=0.6)\n",
    "res1"
   ]
  },
  {
   "cell_type": "code",
   "execution_count": 14,
   "id": "b7c43689-70d5-4cbe-b3b1-896ca6866360",
   "metadata": {},
   "outputs": [
    {
     "data": {
      "text/html": [
       "<div>\n",
       "<style scoped>\n",
       "    .dataframe tbody tr th:only-of-type {\n",
       "        vertical-align: middle;\n",
       "    }\n",
       "\n",
       "    .dataframe tbody tr th {\n",
       "        vertical-align: top;\n",
       "    }\n",
       "\n",
       "    .dataframe thead th {\n",
       "        text-align: right;\n",
       "    }\n",
       "</style>\n",
       "<table border=\"1\" class=\"dataframe\">\n",
       "  <thead>\n",
       "    <tr style=\"text-align: right;\">\n",
       "      <th></th>\n",
       "      <th>annotation</th>\n",
       "      <th>match score</th>\n",
       "      <th>label</th>\n",
       "    </tr>\n",
       "    <tr>\n",
       "      <th>R_PFK (cred. 0.817)</th>\n",
       "      <th></th>\n",
       "      <th></th>\n",
       "      <th></th>\n",
       "    </tr>\n",
       "  </thead>\n",
       "  <tbody>\n",
       "  </tbody>\n",
       "</table>\n",
       "</div>"
      ],
      "text/plain": [
       "Empty DataFrame\n",
       "Columns: [annotation, match score, label]\n",
       "Index: []"
      ]
     },
     "execution_count": 14,
     "metadata": {},
     "output_type": "execute_result"
    }
   ],
   "source": [
    "res2 = recom.filterDataFrameByThreshold(result_df, min_score=0.7)\n",
    "res2"
   ]
  },
  {
   "cell_type": "code",
   "execution_count": 24,
   "id": "81ff543c-61de-444e-8d41-822920eb50ca",
   "metadata": {},
   "outputs": [
    {
     "data": {
      "text/plain": [
       "['ODC',\n",
       " 'SAMdc',\n",
       " 'SSAT_for_S',\n",
       " 'SSAT_for_D',\n",
       " 'PAO_for_aD',\n",
       " 'PAO_for_aS',\n",
       " 'SpdS',\n",
       " 'SpmS',\n",
       " 'MAT',\n",
       " 'VCoA',\n",
       " 'VacCoA',\n",
       " 'P_efflux',\n",
       " 'aD_efflux']"
      ]
     },
     "execution_count": 24,
     "metadata": {},
     "output_type": "execute_result"
    }
   ],
   "source": [
    "recom.getReactionIDs()"
   ]
  },
  {
   "cell_type": "code",
   "execution_count": 26,
   "id": "2ead5380-02e3-4e06-bf66-0377c0239004",
   "metadata": {},
   "outputs": [
    {
     "name": "stdout",
     "output_type": "stream",
     "text": [
      "                                        ODC (credibility score: 0.815)                                       \n",
      "+----+--------------+---------------+-----------------------------------------------------------------------+\n",
      "|    | annotation   |   match score | label                                                                 |\n",
      "+====+==============+===============+=======================================================================+\n",
      "|  1 | RHEA:28827   |         1.000 | L-ornithine(out) + putrescine(in) = L-ornithine(in) + putrescine(out) |\n",
      "+----+--------------+---------------+-----------------------------------------------------------------------+\n",
      "\n"
     ]
    }
   ],
   "source": [
    "recom.recommendReaction(ids=['ODC'], min_score=0.6)"
   ]
  },
  {
   "cell_type": "code",
   "execution_count": 29,
   "id": "59ee6a27-d3a1-437a-a442-aa9fc602d148",
   "metadata": {},
   "outputs": [],
   "source": [
    "res = recom.getReactionListRecommendation(pred_ids=['ODC'],\n",
    "                                         get_df=True)\n",
    "res_dict = {val:res[idx] for idx, val in enumerate(['ODC'])}\n",
    "for k in res_dict.keys():\n",
    "  filt_df = recom.filterDataFrameByThreshold(res_dict[k], 0.6)\n",
    "  s = recom.getMarkdownFromRecommendation(filt_df)+\"\\n\""
   ]
  },
  {
   "cell_type": "code",
   "execution_count": 30,
   "id": "77328d5b-c039-42eb-bf36-7c01cca0354a",
   "metadata": {},
   "outputs": [
    {
     "data": {
      "text/plain": [
       "'                                        ODC (credibility score: 0.815)                                       \\n+----+--------------+---------------+-----------------------------------------------------------------------+\\n|    | annotation   |   match score | label                                                                 |\\n+====+==============+===============+=======================================================================+\\n|  1 | RHEA:28827   |         1.000 | L-ornithine(out) + putrescine(in) = L-ornithine(in) + putrescine(out) |\\n+----+--------------+---------------+-----------------------------------------------------------------------+\\n'"
      ]
     },
     "execution_count": 30,
     "metadata": {},
     "output_type": "execute_result"
    }
   ],
   "source": [
    "s"
   ]
  },
  {
   "cell_type": "code",
   "execution_count": null,
   "id": "d5526066-b1d4-43ab-8dd9-1eb940e13845",
   "metadata": {},
   "outputs": [],
   "source": []
  }
 ],
 "metadata": {
  "kernelspec": {
   "display_name": "Python 3 (ipykernel)",
   "language": "python",
   "name": "python3"
  },
  "language_info": {
   "codemirror_mode": {
    "name": "ipython",
    "version": 3
   },
   "file_extension": ".py",
   "mimetype": "text/x-python",
   "name": "python",
   "nbconvert_exporter": "python",
   "pygments_lexer": "ipython3",
   "version": "3.9.15"
  }
 },
 "nbformat": 4,
 "nbformat_minor": 5
}
