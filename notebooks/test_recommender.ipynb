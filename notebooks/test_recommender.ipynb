{
 "cells": [
  {
   "cell_type": "code",
   "execution_count": 1,
   "id": "f42396eb",
   "metadata": {},
   "outputs": [],
   "source": [
    "# Test recommender as parts are developed\n",
    "import collections\n",
    "import libsbml\n",
    "import numpy as np\n",
    "import os\n",
    "import pickle\n",
    "import pandas as pd\n",
    "import sys\n",
    "import matplotlib.pyplot as plt\n",
    "%matplotlib inline  \n",
    "\n",
    "BIOMD_12 = 'BIOMD0000000012.xml'\n",
    "BASE_DIR = '/Users/woosubs/Desktop/AutomateAnnotation/'\n",
    "DATA_DIR = os.path.join(BASE_DIR, \"DATA\")\n",
    "ALGO_DIR = os.path.join(DATA_DIR, \"algo\")\n",
    "CHEBI_DIR = os.path.join(DATA_DIR, \"chebi\")\n",
    "RHEA_DIR = os.path.join(DATA_DIR, \"rhea\")\n",
    "BIOMODEL_DIR = os.path.join(DATA_DIR, \"biomodels/curated_biomodels_31mar2021\")\n",
    "BIGG_DIR = '/Users/woosubs/Desktop/AutomateAnnotation/DATA/bigg'\n",
    "ecoli_fpath = os.path.join(BIGG_DIR, \"e_coli_core.xml\")\n",
    "\n",
    "PROJ_DIR = os.path.join(os.getcwd(), os.pardir)\n",
    "AMAS_DIR = os.path.join(PROJ_DIR, \"AMAS\")\n",
    "sys.path.append(PROJ_DIR)\n",
    "\n",
    "from AMAS import species_annotation as sa\n",
    "from AMAS import reaction_annotation as ra\n",
    "from AMAS import constants as cn\n",
    "from AMAS import iterator as it\n",
    "from AMAS import tools"
   ]
  },
  {
   "cell_type": "code",
   "execution_count": 2,
   "id": "37d44b32",
   "metadata": {},
   "outputs": [],
   "source": [
    "# This time, load a BiGG model\n",
    "one_biomd = 'BIOMD0000000634.xml'\n",
    "one_biomd_fpath = os.path.join(BIOMODEL_DIR, one_biomd)\n",
    "reader = libsbml.SBMLReader()\n",
    "document = reader.readSBML(one_biomd_fpath)\n",
    "model = document.getModel()"
   ]
  },
  {
   "cell_type": "code",
   "execution_count": 3,
   "id": "a1fdb6a7",
   "metadata": {},
   "outputs": [],
   "source": [
    "from AMAS import recommender\n",
    "recom = recommender.Recommender(libsbml_fpath=one_biomd_fpath)"
   ]
  },
  {
   "cell_type": "code",
   "execution_count": 4,
   "id": "f3b97412",
   "metadata": {},
   "outputs": [],
   "source": [
    "# spec_list = ['M_ac_c', 'M_adp_c', 'M_atp_c', 'M_actp_c']\n",
    "spec_list = ['ATP', 'ADP', 'AMP']\n",
    "res = recom.getSpeciesAnnotation(spec_list)"
   ]
  },
  {
   "cell_type": "code",
   "execution_count": 5,
   "id": "88a9d860",
   "metadata": {},
   "outputs": [
    {
     "data": {
      "text/plain": [
       "[Recommendation(id='ATP', credibility_score=0.94, candidates=[('CHEBI:15422', 1.0), ('CHEBI:30616', 1.0)], urls=['https://www.ebi.ac.uk/chebi/searchId.do?chebiId=CHEBI%3A15422', 'https://www.ebi.ac.uk/chebi/searchId.do?chebiId=CHEBI%3A30616']),\n",
       " Recommendation(id='ADP', credibility_score=0.98, candidates=[('CHEBI:16761', 1.0), ('CHEBI:456216', 1.0), ('CHEBI:73342', 1.0)], urls=['https://www.ebi.ac.uk/chebi/searchId.do?chebiId=CHEBI%3A16761', 'https://www.ebi.ac.uk/chebi/searchId.do?chebiId=CHEBI%3A456216', 'https://www.ebi.ac.uk/chebi/searchId.do?chebiId=CHEBI%3A73342']),\n",
       " Recommendation(id='AMP', credibility_score=0.98, candidates=[('CHEBI:16027', 1.0), ('CHEBI:28971', 1.0), ('CHEBI:456215', 1.0)], urls=['https://www.ebi.ac.uk/chebi/searchId.do?chebiId=CHEBI%3A16027', 'https://www.ebi.ac.uk/chebi/searchId.do?chebiId=CHEBI%3A28971', 'https://www.ebi.ac.uk/chebi/searchId.do?chebiId=CHEBI%3A456215'])]"
      ]
     },
     "execution_count": 5,
     "metadata": {},
     "output_type": "execute_result"
    }
   ],
   "source": [
    "res"
   ]
  },
  {
   "cell_type": "code",
   "execution_count": 6,
   "id": "193120b6",
   "metadata": {},
   "outputs": [],
   "source": [
    "two_biomd = 'BIOMD0000000190.xml'\n",
    "two_biomd_fpath = os.path.join(BIOMODEL_DIR, two_biomd)\n",
    "recom2 = recommender.Recommender(libsbml_fpath=two_biomd_fpath)\n",
    "reac_list = ['SAMdc', 'SSAT_for_S']\n",
    "res2 = recom2.getReactionAnnotation(reac_list)"
   ]
  },
  {
   "cell_type": "code",
   "execution_count": 7,
   "id": "dcb7e12c",
   "metadata": {},
   "outputs": [
    {
     "data": {
      "text/plain": [
       "[Recommendation(id='SAMdc', credibility_score=0.38, candidates=[('RHEA:15984', 0.5)], urls=['https://www.rhea-db.org/rhea/15984']),\n",
       " Recommendation(id='SSAT_for_S', credibility_score=0.9, candidates=[('RHEA:33102', 0.8)], urls=['https://www.rhea-db.org/rhea/33102'])]"
      ]
     },
     "execution_count": 7,
     "metadata": {},
     "output_type": "execute_result"
    }
   ],
   "source": [
    "res2"
   ]
  },
  {
   "cell_type": "code",
   "execution_count": 8,
   "id": "167c8b76",
   "metadata": {},
   "outputs": [
    {
     "data": {
      "text/plain": [
       "{'SAMdc': [('RHEA:15984', 0.5)], 'SSAT_for_S': [('RHEA:33102', 0.8)]}"
      ]
     },
     "execution_count": 8,
     "metadata": {},
     "output_type": "execute_result"
    }
   ],
   "source": [
    "recom2.reactions.match_score"
   ]
  },
  {
   "cell_type": "code",
   "execution_count": null,
   "id": "c727a5d3",
   "metadata": {},
   "outputs": [],
   "source": []
  }
 ],
 "metadata": {
  "kernelspec": {
   "display_name": "pyo",
   "language": "python",
   "name": "pyo"
  },
  "language_info": {
   "codemirror_mode": {
    "name": "ipython",
    "version": 3
   },
   "file_extension": ".py",
   "mimetype": "text/x-python",
   "name": "python",
   "nbconvert_exporter": "python",
   "pygments_lexer": "ipython3",
   "version": "3.8.8"
  }
 },
 "nbformat": 4,
 "nbformat_minor": 5
}
