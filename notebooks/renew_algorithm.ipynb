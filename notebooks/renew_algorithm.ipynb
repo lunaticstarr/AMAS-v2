{
 "cells": [
  {
   "cell_type": "code",
   "execution_count": 1,
   "id": "03006573-3c62-4d16-898e-f3e9e51bdf73",
   "metadata": {},
   "outputs": [],
   "source": [
    "# Update iterator algorithm; and making recommendations; \n",
    "import collections\n",
    "import copy\n",
    "import itertools\n",
    "import libsbml\n",
    "import numpy as np\n",
    "import os\n",
    "import pickle\n",
    "import pandas as pd\n",
    "import sys\n",
    "import matplotlib.pyplot as plt\n",
    "%matplotlib inline  \n",
    "\n",
    "BIOMD_12 = 'BIOMD0000000012.xml'\n",
    "BASE_DIR = '/Users/woosubshin/Desktop/AutomateAnnotation/'\n",
    "DATA_DIR = os.path.join(BASE_DIR, \"DATA\")\n",
    "ALGO_DIR = os.path.join(DATA_DIR, \"algo\")\n",
    "CHEBI_DIR = os.path.join(DATA_DIR, \"chebi\")\n",
    "RHEA_DIR = os.path.join(DATA_DIR, \"rhea\")\n",
    "BIOMODEL_DIR = os.path.join(DATA_DIR, \"biomodels/curated_biomodels_31mar2021\")\n",
    "BIGG_DIR = '/Users/woosubshin/Desktop/AutomateAnnotation/DATA/bigg'\n",
    "ecoli_fpath = os.path.join(BIGG_DIR, \"e_coli_core.xml\")\n",
    "\n",
    "PROJ_DIR = os.path.join(os.getcwd(), os.pardir)\n",
    "AMAS_DIR = os.path.join(PROJ_DIR, \"AMAS\")\n",
    "sys.path.append(PROJ_DIR)\n",
    "\n",
    "SUPPL_DIR = os.path.join(PROJ_DIR, os.pardir, \"AMAS_suppl\")\n",
    "ACCURACY_DIR = os.path.join(SUPPL_DIR, \"data_for_credibility\")\n",
    "\n",
    "from AMAS import species_annotation as sa\n",
    "from AMAS import reaction_annotation as ra\n",
    "from AMAS import recommender\n",
    "from AMAS import constants as cn\n",
    "from AMAS import iterator as it\n",
    "from AMAS import tools\n",
    "\n",
    "# Should save & load predicted species & reaction annotations"
   ]
  },
  {
   "cell_type": "code",
   "execution_count": 2,
   "id": "aaf6604a-fbc8-4a86-9d27-d9c76fc5936c",
   "metadata": {},
   "outputs": [],
   "source": [
    "# get recom \n",
    "one_fpath = os.path.join(BIOMODEL_DIR, 'BIOMD0000000190.xml')\n",
    "reader = libsbml.SBMLReader()\n",
    "document = reader.readSBML(one_fpath)\n",
    "model = document.getModel()\n",
    "recom = recommender.Recommender(libsbml_fpath=one_fpath)"
   ]
  },
  {
   "cell_type": "code",
   "execution_count": 3,
   "id": "e7a52a25-1ab9-4708-ba3a-8526c1575e35",
   "metadata": {},
   "outputs": [],
   "source": [
    "mssc = 'top'\n",
    "cutoff = 0.0\n",
    "model_mean = True"
   ]
  },
  {
   "cell_type": "code",
   "execution_count": 9,
   "id": "d0ff22f4-c308-48b2-99c2-c0d30bd8afb1",
   "metadata": {},
   "outputs": [],
   "source": [
    "res = recom.getSpeciesRecommendation(pred_str='hydrogen',\n",
    "                                     mssc='above',\n",
    "                                     cutoff=0.0)"
   ]
  },
  {
   "cell_type": "code",
   "execution_count": 10,
   "id": "0af0f0c4-0f6d-4baa-b27d-d79558c63fa1",
   "metadata": {},
   "outputs": [],
   "source": [
    "M_FDP_C = 'M_fdp_c'\n",
    "M_ATP_C = 'M_atp_c'\n",
    "recom2 = recommender.Recommender(libsbml_fpath=ecoli_fpath)"
   ]
  },
  {
   "cell_type": "code",
   "execution_count": 17,
   "id": "b624acc5-8f7f-4024-bac9-8b6a0de5138f",
   "metadata": {},
   "outputs": [],
   "source": [
    "fdp_pred_spec = recom2.species.getEScores(inp_strs=[M_FDP_C])[M_FDP_C][:17]\n",
    "fdp_score = recom2.species.evaluatePredictedSpeciesAnnotation(pred=fdp_pred_spec,\n",
    "                                                            name_used=recom2.species.getNameToUse(M_FDP_C))"
   ]
  },
  {
   "cell_type": "code",
   "execution_count": 22,
   "id": "d4dd1666-df99-45d4-8ed4-5e2ef6cdf1d5",
   "metadata": {},
   "outputs": [],
   "source": [
    "atp_pred_spec = recom2.species.getEScores(inp_strs=[M_ATP_C])[M_ATP_C][:2]\n",
    "atp_score = recom2.species.evaluatePredictedSpeciesAnnotation(pred=atp_pred_spec,\n",
    "                                                            name_used=recom2.species.getNameToUse(M_ATP_C))"
   ]
  },
  {
   "cell_type": "code",
   "execution_count": 23,
   "id": "f709960a-1b9b-42d6-a20f-5d0f0be29c3d",
   "metadata": {},
   "outputs": [
    {
     "data": {
      "text/plain": [
       "0.97236743276001"
      ]
     },
     "execution_count": 23,
     "metadata": {},
     "output_type": "execute_result"
    }
   ],
   "source": [
    "atp_score"
   ]
  },
  {
   "cell_type": "code",
   "execution_count": 3,
   "id": "bfadb74e-090e-4a9b-bb84-1b811a8e9b3c",
   "metadata": {},
   "outputs": [],
   "source": [
    "# two options: \n",
    "# 1. MSSC best with cutoff=0.0 (default option)\n",
    "# 2. MSSC above (cutoff=0.0?)\n",
    "\n",
    "# basically species should return a list of ranked candidates with scores; "
   ]
  },
  {
   "cell_type": "code",
   "execution_count": 4,
   "id": "ba8b08fd-8abc-43de-835c-eaf4e6872f5f",
   "metadata": {},
   "outputs": [
    {
     "data": {
      "text/plain": [
       "{'name_used': 'hydrogen',\n",
       " 'chebi': ['CHEBI:18276', 'CHEBI:49637'],\n",
       " 'match_score': [('CHEBI:18276', 1.0), ('CHEBI:49637', 1.0)],\n",
       " 'formula': ['H']}"
      ]
     },
     "execution_count": 4,
     "metadata": {},
     "output_type": "execute_result"
    }
   ],
   "source": [
    "spec_res = recom.species.predictAnnotationByEditDistance('hydrogen')\n",
    "spec_res"
   ]
  },
  {
   "cell_type": "code",
   "execution_count": 5,
   "id": "d134ad2f-f133-4e49-9958-823b798bc8d0",
   "metadata": {},
   "outputs": [],
   "source": [
    "import editdistance\n",
    "import operator\n",
    "from AMAS.species_annotation import CHEBI_LOW_SYNONYMS, CHARCOUNT_DF, CHEBI_DF"
   ]
  },
  {
   "cell_type": "code",
   "execution_count": 6,
   "id": "6f9b529b-d6a1-4600-8b30-17bc2ca197a8",
   "metadata": {},
   "outputs": [],
   "source": [
    "pred = recom.species.getCScores(['hydrogen'])"
   ]
  },
  {
   "cell_type": "code",
   "execution_count": 7,
   "id": "0eb63b42-9063-4993-b2b1-aea996eb655c",
   "metadata": {},
   "outputs": [
    {
     "data": {
      "text/plain": [
       "0.9021236234028662"
      ]
     },
     "execution_count": 7,
     "metadata": {},
     "output_type": "execute_result"
    }
   ],
   "source": [
    "recom.species.evaluatePredictedSpeciesAnnotation(\n",
    "                                         pred=pred['hydrogen'],\n",
    "                                         name_used='hydrogen',\n",
    "                                         fitted_model=sa.SPECIES_RF)"
   ]
  },
  {
   "cell_type": "code",
   "execution_count": 45,
   "id": "6636cdd9-b630-4cb6-b380-61322b924709",
   "metadata": {},
   "outputs": [],
   "source": [
    "pred_strs=None\n",
    "pred_ids=None\n",
    "update=True\n",
    "method='cdist'\n",
    "get_df=False\n",
    "\n"
   ]
  },
  {
   "cell_type": "code",
   "execution_count": 22,
   "id": "c436a695-eb73-4941-88de-9585345c6934",
   "metadata": {},
   "outputs": [
    {
     "data": {
      "text/plain": [
       "{'SAM': 'S-adenosyl-L-methionine',\n",
       " 'A': 'S-adenosylmethioninamine',\n",
       " 'P': 'Putrescine',\n",
       " 'S': 'Spermine',\n",
       " 'D': 'Spermidine',\n",
       " 'aS': 'N1-Acetylspermine',\n",
       " 'aD': 'N1-Acetylspermidine',\n",
       " 'Met': 'Methionine',\n",
       " 'ORN': 'L-Ornithine',\n",
       " 'AcCoA': 'Acetyl-CoA',\n",
       " 'CoA': 'CoA'}"
      ]
     },
     "execution_count": 22,
     "metadata": {},
     "output_type": "execute_result"
    }
   ],
   "source": [
    "recom.species.names"
   ]
  },
  {
   "cell_type": "code",
   "execution_count": 87,
   "id": "b4718bb6-f19d-488f-b3b7-7793e5b1e46d",
   "metadata": {},
   "outputs": [],
   "source": [
    "def applyMSSC(pred,\n",
    "              mssc,\n",
    "              cutoff):\n",
    "  \"\"\"\n",
    "  Apply MSSC to a predicted results. \n",
    "  \n",
    "  Parameters\n",
    "  ----------\n",
    "  pred: list-tuple\n",
    "      [(CHEBI:XXXXX, 1.0), etc.]\n",
    "  mssc: string\n",
    "  cutoff: float\n",
    "  \n",
    "  Returns\n",
    "  -------\n",
    "  filt: list-tuple\n",
    "      [(CHEBI:XXXXX, 1.0), etc.]\n",
    "  \"\"\"\n",
    "  filt_pred = [val for val in pred if val[1]>=cutoff]\n",
    "  if not filt_pred:\n",
    "    return []\n",
    "  if mssc == 'top':\n",
    "    max_val = np.max([val[1] for val in filt_pred])\n",
    "    res_pred = [val for val in filt_pred if val[1]==max_val]\n",
    "  elif mssc == 'above':\n",
    "    res_pred = filt_pred\n",
    "  return res_pred"
   ]
  },
  {
   "cell_type": "code",
   "execution_count": null,
   "id": "bc4f19d3-605a-4f2a-8541-429e2b516ce8",
   "metadata": {},
   "outputs": [],
   "source": []
  },
  {
   "cell_type": "code",
   "execution_count": 95,
   "id": "fdbe4000-3e58-4459-a3e5-010a51273e65",
   "metadata": {},
   "outputs": [],
   "source": [
    "pred_strs = ['S-adenosyl-L-methionine', 'S-adenosylmethioninamine']\n",
    "# pred_strs = None\n",
    "# pred_ids = ['SAM', 'A'] \n",
    "pred_ids = None\n",
    "mssc = 'top'\n",
    "cutoff = 0.0\n",
    "\n",
    "scoring_methods = {'edist': recom.species.getEScores,\n",
    "                   'cdist': recom.species.getCScores}\n",
    "if pred_strs: \n",
    "  ids_dict = {k:k for k in pred_strs}\n",
    "  inp_strs = pred_strs\n",
    "elif pred_ids:\n",
    "  ids_dict = {k:recom.species.getNameToUse(inp_id=k) \\\n",
    "              for k in pred_ids}\n",
    "  inp_strs = [ids_dict[k] for k in ids_dict.keys()]\n",
    "pred_res = scoring_methods[method](inp_strs)\n",
    "# convert {name_used:[]} to {id:[]} and apply mssc\n",
    "conv_res = {k:applyMSSC(pred_res[ids_dict[k]], mssc, cutoff) \\\n",
    "            for k in ids_dict.keys()}\n",
    "\n",
    "result = []\n",
    "for spec in conv_res.keys():\n",
    "  pred_score = recom.species.evaluatePredictedSpeciesAnnotation(pred=conv_res[spec],\n",
    "                                                                name_used=ids_dict[spec])\n",
    "  urls = [cn.CHEBI_DEFAULT_URL + val[0][6:] for val in conv_res[spec]]\n",
    "  labels = [cn.REF_CHEBI2LABEL[val[0]] for val in conv_res[spec]]\n",
    "  one_recom = cn.Recommendation(spec,\n",
    "                                np.round(pred_score, cn.ROUND_DIGITS),\n",
    "                                [(val[0], np.round(val[1], cn.ROUND_DIGITS)) \\\n",
    "                                 for val in conv_res[spec]],\n",
    "                                urls,\n",
    "                                labels)\n",
    "  result.append(one_recom)"
   ]
  },
  {
   "cell_type": "code",
   "execution_count": 96,
   "id": "12e5c4c2-9475-4d3e-aef0-b8b999b6b52f",
   "metadata": {},
   "outputs": [
    {
     "data": {
      "text/plain": [
       "[Recommendation(id='S-adenosyl-L-methionine', credibility=0.974, candidates=[('CHEBI:15414', 1.0), ('CHEBI:59789', 1.0)], urls=['https://www.ebi.ac.uk/chebi/searchId.do?chebiId=CHEBI%3A15414', 'https://www.ebi.ac.uk/chebi/searchId.do?chebiId=CHEBI%3A59789'], labels=['S-adenosyl-L-methionine', 'S-adenosyl-L-methionine zwitterion']),\n",
       " Recommendation(id='S-adenosylmethioninamine', credibility=0.958, candidates=[('CHEBI:15625', 1.0)], urls=['https://www.ebi.ac.uk/chebi/searchId.do?chebiId=CHEBI%3A15625'], labels=['S-adenosylmethioninamine'])]"
      ]
     },
     "execution_count": 96,
     "metadata": {},
     "output_type": "execute_result"
    }
   ],
   "source": [
    "result"
   ]
  },
  {
   "cell_type": "code",
   "execution_count": 89,
   "id": "804d2d76-9ae3-481c-9bed-7fc5a57bf638",
   "metadata": {},
   "outputs": [],
   "source": [
    "dummy_res = [('CHEBI:15414', 0.9),('CHEBI:59789', 0.5)]"
   ]
  },
  {
   "cell_type": "code",
   "execution_count": 93,
   "id": "72443183-50ed-493e-a513-a130e48c8f16",
   "metadata": {},
   "outputs": [
    {
     "data": {
      "text/plain": [
       "[('CHEBI:15414', 0.9)]"
      ]
     },
     "execution_count": 93,
     "metadata": {},
     "output_type": "execute_result"
    }
   ],
   "source": [
    "applyMSSC(dummy_res, mssc='top', cutoff=0.8)"
   ]
  },
  {
   "cell_type": "code",
   "execution_count": 38,
   "id": "d781ce8c-7762-4439-bc5a-bd91b4849a63",
   "metadata": {},
   "outputs": [
    {
     "data": {
      "text/plain": [
       "dict_keys(['SAM', 'A'])"
      ]
     },
     "execution_count": 38,
     "metadata": {},
     "output_type": "execute_result"
    }
   ],
   "source": [
    "conv_res.keys()"
   ]
  },
  {
   "cell_type": "code",
   "execution_count": 17,
   "id": "a4f58c7d-a136-4fe3-be3d-5374ac8ab7fa",
   "metadata": {},
   "outputs": [
    {
     "data": {
      "text/plain": [
       "'S-adenosyl-L-methionine'"
      ]
     },
     "execution_count": 17,
     "metadata": {},
     "output_type": "execute_result"
    }
   ],
   "source": [
    "recom.species.getNameToUse(inp_id='SAM')"
   ]
  },
  {
   "cell_type": "code",
   "execution_count": 15,
   "id": "d391468e-5435-4f82-bc02-3b5a0e81860b",
   "metadata": {},
   "outputs": [
    {
     "data": {
      "text/plain": [
       "{None: None}"
      ]
     },
     "execution_count": 15,
     "metadata": {},
     "output_type": "execute_result"
    }
   ],
   "source": [
    "ids_dict"
   ]
  },
  {
   "cell_type": "code",
   "execution_count": null,
   "id": "c4c65284-cefb-4a62-bceb-937f0843c1bc",
   "metadata": {},
   "outputs": [],
   "source": [
    "    if method == 'edist':\n",
    "      if pred_str:\n",
    "        name_to_use = pred_str\n",
    "        given_id = pred_str\n",
    "      elif pred_id:\n",
    "        name_to_use = self.species.getNameToUse(inp_id=pred_id)\n",
    "        given_id = pred_id\n",
    "      pred_res = self.species.predictAnnotationByEditDistance(name_to_use)  \n",
    "    elif method == 'cdist':\n",
    "      if pred_str: \n",
    "        given_id = pred_str\n",
    "      elif pred_id:\n",
    "        given_id = pred_id\n",
    "      pred_res = self.species.predictAnnotationByCosineSimilarity(inp_strs=[given_id])[given_id]\n",
    "    #\n",
    "    pred_score = self.species.evaluatePredictedSpeciesAnnotation(pred_result=pred_res)\n",
    "    urls = [cn.CHEBI_DEFAULT_URL + val[6:] for val in pred_res[cn.CHEBI]]\n",
    "    labels = [cn.REF_CHEBI2LABEL[val] for val in pred_res[cn.CHEBI]]\n",
    "    result = cn.Recommendation(given_id,\n",
    "                               np.round(pred_score, cn.ROUND_DIGITS),\n",
    "                               pred_res[cn.MATCH_SCORE],\n",
    "                               urls,\n",
    "                               labels)"
   ]
  }
 ],
 "metadata": {
  "kernelspec": {
   "display_name": "Python 3 (ipykernel)",
   "language": "python",
   "name": "python3"
  },
  "language_info": {
   "codemirror_mode": {
    "name": "ipython",
    "version": 3
   },
   "file_extension": ".py",
   "mimetype": "text/x-python",
   "name": "python",
   "nbconvert_exporter": "python",
   "pygments_lexer": "ipython3",
   "version": "3.11.2"
  }
 },
 "nbformat": 4,
 "nbformat_minor": 5
}
