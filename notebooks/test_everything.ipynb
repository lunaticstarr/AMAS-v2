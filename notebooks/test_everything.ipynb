{
 "cells": [
  {
   "cell_type": "code",
   "execution_count": 1,
   "id": "89730e17-1d69-415f-98c9-2753cd36f481",
   "metadata": {},
   "outputs": [],
   "source": [
    "# Test all modules as in unittest modules; \n",
    "import collections\n",
    "import itertools\n",
    "import libsbml\n",
    "import numpy as np\n",
    "import os\n",
    "import pickle\n",
    "import pandas as pd\n",
    "import sys\n",
    "import matplotlib.pyplot as plt\n",
    "%matplotlib inline  \n",
    "\n",
    "BIOMD_12 = 'BIOMD0000000012.xml'\n",
    "BASE_DIR = '/Users/woosubs/Desktop/AutomateAnnotation/'\n",
    "DATA_DIR = os.path.join(BASE_DIR, \"DATA\")\n",
    "ALGO_DIR = os.path.join(DATA_DIR, \"algo\")\n",
    "CHEBI_DIR = os.path.join(DATA_DIR, \"chebi\")\n",
    "RHEA_DIR = os.path.join(DATA_DIR, \"rhea\")\n",
    "BIOMODEL_DIR = os.path.join(DATA_DIR, \"biomodels/curated_biomodels_31mar2021\")\n",
    "BIGG_DIR = '/Users/woosubs/Desktop/AutomateAnnotation/DATA/bigg'\n",
    "ecoli_fpath = os.path.join(BIGG_DIR, \"e_coli_core.xml\")\n",
    "\n",
    "PROJ_DIR = os.path.join(os.getcwd(), os.pardir)\n",
    "AMAS_DIR = os.path.join(PROJ_DIR, \"AMAS\")\n",
    "sys.path.append(PROJ_DIR)\n",
    "\n",
    "from AMAS import species_annotation as sa\n",
    "from AMAS import reaction_annotation as ra\n",
    "from AMAS import recommender\n",
    "from AMAS import constants as cn\n",
    "from AMAS import iterator as it\n",
    "from AMAS import tools"
   ]
  },
  {
   "cell_type": "code",
   "execution_count": 2,
   "id": "f104751e-9ed3-44e4-bb58-61edd16ca998",
   "metadata": {},
   "outputs": [],
   "source": [
    "# This time, load a model\n",
    "one_biomd = 'BIOMD0000000190.xml'\n",
    "one_biomd_fpath = os.path.join(BIOMODEL_DIR, one_biomd)\n",
    "reader = libsbml.SBMLReader()\n",
    "document = reader.readSBML(one_biomd_fpath)\n",
    "model = document.getModel()"
   ]
  },
  {
   "cell_type": "code",
   "execution_count": 15,
   "id": "619716d1-ddc1-4e1f-a8a7-09a53d2c407a",
   "metadata": {},
   "outputs": [],
   "source": [
    "# test_recommender\n",
    "E_COLI_PATH = os.path.join(cn.TEST_DIR, 'e_coli_core.xml')\n",
    "BIOMD_248_PATH = os.path.join(cn.TEST_DIR, 'BIOMD0000000248.xml')\n",
    "# ID of a reaction\n",
    "R_PFK = 'R_PFK'\n",
    "ATP = 'M_atp_c'\n",
    "COMPONENTS = {'M_fdp_c', 'M_adp_c', 'M_atp_c', 'M_f6p_c', 'M_h_c'}\n",
    "ONE_CANDIDATE = 'RHEA:12423'\n",
    "ONE_CHEBI = 'CHEBI:30616'\n",
    "\n",
    "# Dummy data for calculating accuracy, recalll & precision\n",
    "DUMMY_REF = {'a': ['ABC', 'BCD'],\n",
    "              'b': ['DEF']}\n",
    "DUMMY_PRED = {'a': ['ABC'],\n",
    "             'b': ['AAA']}"
   ]
  },
  {
   "cell_type": "code",
   "execution_count": 25,
   "id": "6bd2d51f-6f42-41bf-b1b3-1cb111654afe",
   "metadata": {},
   "outputs": [],
   "source": [
    "R_PFK = 'R_PFK'\n",
    "R_PFL = 'R_PFL'\n",
    "REACTIONS = [R_PFK, R_PFL]\n",
    "\n",
    "recom = recommender.Recommender(libsbml_fpath = E_COLI_PATH)"
   ]
  },
  {
   "cell_type": "code",
   "execution_count": 28,
   "id": "4f3a635f-a572-4783-8b6d-e5dac1e98873",
   "metadata": {},
   "outputs": [
    {
     "name": "stdout",
     "output_type": "stream",
     "text": [
      "Recommendation(id='R_PFK', credibility=0.817, candidates=[('RHEA:12420', 0.6), ('RHEA:13377', 0.6), ('RHEA:13613', 0.6), ('RHEA:14213', 0.6), ('RHEA:15653', 0.6), ('RHEA:16109', 0.6), ('RHEA:16769', 0.6), ('RHEA:20105', 0.6), ('RHEA:20641', 0.6), ('RHEA:33803', 0.6), ('RHEA:69536', 0.6), ('RHEA:70907', 0.6), ('RHEA:70911', 0.6)], urls=['https://www.rhea-db.org/rhea/12420', 'https://www.rhea-db.org/rhea/13377', 'https://www.rhea-db.org/rhea/13613', 'https://www.rhea-db.org/rhea/14213', 'https://www.rhea-db.org/rhea/15653', 'https://www.rhea-db.org/rhea/16109', 'https://www.rhea-db.org/rhea/16769', 'https://www.rhea-db.org/rhea/20105', 'https://www.rhea-db.org/rhea/20641', 'https://www.rhea-db.org/rhea/33803', 'https://www.rhea-db.org/rhea/69536', 'https://www.rhea-db.org/rhea/70907', 'https://www.rhea-db.org/rhea/70911'])\n",
      "\n",
      "Recommendation(id='R_PFL', credibility=0.92, candidates=[('RHEA:11844', 1.0), ('RHEA:17425', 0.8), ('RHEA:22988', 0.8), ('RHEA:22992', 0.8), ('RHEA:28042', 0.8), ('RHEA:12765', 0.667), ('RHEA:21912', 0.667), ('RHEA:44140', 0.667)], urls=['https://www.rhea-db.org/rhea/11844', 'https://www.rhea-db.org/rhea/17425', 'https://www.rhea-db.org/rhea/22988', 'https://www.rhea-db.org/rhea/22992', 'https://www.rhea-db.org/rhea/28042', 'https://www.rhea-db.org/rhea/12765', 'https://www.rhea-db.org/rhea/21912', 'https://www.rhea-db.org/rhea/44140'])\n",
      "\n"
     ]
    }
   ],
   "source": [
    "res = recom.getReactionListAnnotation(pred_ids=REACTIONS)\n",
    "for one_res in res:\n",
    "  print(one_res)\n",
    "  print()"
   ]
  },
  {
   "cell_type": "code",
   "execution_count": null,
   "id": "25447f60-1c67-4ba0-8fe6-38f71896898a",
   "metadata": {},
   "outputs": [],
   "source": []
  }
 ],
 "metadata": {
  "kernelspec": {
   "display_name": "Python 3 (ipykernel)",
   "language": "python",
   "name": "python3"
  },
  "language_info": {
   "codemirror_mode": {
    "name": "ipython",
    "version": 3
   },
   "file_extension": ".py",
   "mimetype": "text/x-python",
   "name": "python",
   "nbconvert_exporter": "python",
   "pygments_lexer": "ipython3",
   "version": "3.9.15"
  }
 },
 "nbformat": 4,
 "nbformat_minor": 5
}
