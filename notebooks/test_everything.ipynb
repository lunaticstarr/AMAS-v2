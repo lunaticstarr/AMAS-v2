{
 "cells": [
  {
   "cell_type": "code",
   "execution_count": 1,
   "id": "89730e17-1d69-415f-98c9-2753cd36f481",
   "metadata": {},
   "outputs": [],
   "source": [
    "# Test all modules as in unittest modules; \n",
    "import collections\n",
    "import itertools\n",
    "import libsbml\n",
    "import numpy as np\n",
    "import os\n",
    "import pickle\n",
    "import pandas as pd\n",
    "import sys\n",
    "import matplotlib.pyplot as plt\n",
    "%matplotlib inline  \n",
    "\n",
    "BIOMD_12 = 'BIOMD0000000012.xml'\n",
    "BASE_DIR = '/Users/woosubs/Desktop/AutomateAnnotation/'\n",
    "DATA_DIR = os.path.join(BASE_DIR, \"DATA\")\n",
    "ALGO_DIR = os.path.join(DATA_DIR, \"algo\")\n",
    "CHEBI_DIR = os.path.join(DATA_DIR, \"chebi\")\n",
    "RHEA_DIR = os.path.join(DATA_DIR, \"rhea\")\n",
    "BIOMODEL_DIR = os.path.join(DATA_DIR, \"biomodels/curated_biomodels_31mar2021\")\n",
    "BIGG_DIR = '/Users/woosubs/Desktop/AutomateAnnotation/DATA/bigg'\n",
    "ecoli_fpath = os.path.join(BIGG_DIR, \"e_coli_core.xml\")\n",
    "\n",
    "PROJ_DIR = os.path.join(os.getcwd(), os.pardir)\n",
    "AMAS_DIR = os.path.join(PROJ_DIR, \"AMAS\")\n",
    "sys.path.append(PROJ_DIR)\n",
    "\n",
    "from AMAS import species_annotation as sa\n",
    "from AMAS import reaction_annotation as ra\n",
    "from AMAS import recommender\n",
    "from AMAS import constants as cn\n",
    "from AMAS import iterator as it\n",
    "from AMAS import tools"
   ]
  },
  {
   "cell_type": "code",
   "execution_count": 2,
   "id": "f104751e-9ed3-44e4-bb58-61edd16ca998",
   "metadata": {},
   "outputs": [],
   "source": [
    "# This time, load a model\n",
    "one_biomd = 'BIOMD0000000190.xml'\n",
    "one_biomd_fpath = os.path.join(BIOMODEL_DIR, one_biomd)\n",
    "reader = libsbml.SBMLReader()\n",
    "document = reader.readSBML(one_biomd_fpath)\n",
    "model = document.getModel()"
   ]
  },
  {
   "cell_type": "code",
   "execution_count": null,
   "id": "7346b989-736c-4b00-9693-0b6339557902",
   "metadata": {},
   "outputs": [],
   "source": []
  },
  {
   "cell_type": "code",
   "execution_count": null,
   "id": "8751b187-ab51-4761-9459-5d79be580811",
   "metadata": {},
   "outputs": [],
   "source": []
  },
  {
   "cell_type": "code",
   "execution_count": 3,
   "id": "619716d1-ddc1-4e1f-a8a7-09a53d2c407a",
   "metadata": {},
   "outputs": [],
   "source": [
    "# test_recommender\n",
    "E_COLI_PATH = os.path.join(cn.TEST_DIR, 'e_coli_core.xml')\n",
    "BIOMD_248_PATH = os.path.join(cn.TEST_DIR, 'BIOMD0000000248.xml')\n",
    "# ID of a reaction\n",
    "R_PFK = 'R_PFK'\n",
    "ATP = 'M_atp_c'\n",
    "COMPONENTS = {'M_fdp_c', 'M_adp_c', 'M_atp_c', 'M_f6p_c', 'M_h_c'}\n",
    "ONE_CANDIDATE = 'RHEA:12423'\n",
    "ONE_CHEBI = 'CHEBI:30616'\n",
    "\n",
    "# Dummy data for calculating accuracy, recalll & precision\n",
    "DUMMY_REF = {'a': ['ABC', 'BCD'],\n",
    "              'b': ['DEF']}\n",
    "DUMMY_PRED = {'a': ['ABC'],\n",
    "             'b': ['AAA']}"
   ]
  },
  {
   "cell_type": "code",
   "execution_count": 4,
   "id": "6bd2d51f-6f42-41bf-b1b3-1cb111654afe",
   "metadata": {},
   "outputs": [],
   "source": [
    "R_PFK = 'R_PFK'\n",
    "R_PFL = 'R_PFL'\n",
    "REACTIONS = [R_PFK, R_PFL]\n",
    "\n",
    "recom = recommender.Recommender(libsbml_fpath = E_COLI_PATH)"
   ]
  },
  {
   "cell_type": "code",
   "execution_count": 5,
   "id": "4f3a635f-a572-4783-8b6d-e5dac1e98873",
   "metadata": {},
   "outputs": [
    {
     "ename": "KeyError",
     "evalue": "'chebi'",
     "output_type": "error",
     "traceback": [
      "\u001b[0;31m---------------------------------------------------------------------------\u001b[0m",
      "\u001b[0;31mKeyError\u001b[0m                                  Traceback (most recent call last)",
      "Cell \u001b[0;32mIn[5], line 1\u001b[0m\n\u001b[0;32m----> 1\u001b[0m res \u001b[38;5;241m=\u001b[39m \u001b[43mrecom\u001b[49m\u001b[38;5;241;43m.\u001b[39;49m\u001b[43mgetReactionListAnnotation\u001b[49m\u001b[43m(\u001b[49m\u001b[43mpred_ids\u001b[49m\u001b[38;5;241;43m=\u001b[39;49m\u001b[43mREACTIONS\u001b[49m\u001b[43m)\u001b[49m\n\u001b[1;32m      2\u001b[0m \u001b[38;5;28;01mfor\u001b[39;00m one_res \u001b[38;5;129;01min\u001b[39;00m res:\n\u001b[1;32m      3\u001b[0m   \u001b[38;5;28mprint\u001b[39m(one_res)\n",
      "File \u001b[0;32m~/Desktop/AutomateAnnotation/AMAS/notebooks/../AMAS/recommender.py:318\u001b[0m, in \u001b[0;36mRecommender.getReactionListAnnotation\u001b[0;34m(self, pred_ids, use_exist_species_annotation, update, spec_method, get_markdown)\u001b[0m\n\u001b[1;32m    315\u001b[0m remaining_species \u001b[38;5;241m=\u001b[39m [val \u001b[38;5;28;01mfor\u001b[39;00m val \u001b[38;5;129;01min\u001b[39;00m specs_to_annotate \u001b[38;5;28;01mif\u001b[39;00m val \u001b[38;5;129;01mnot\u001b[39;00m \u001b[38;5;129;01min\u001b[39;00m pred_formulas\u001b[38;5;241m.\u001b[39mkeys()]\n\u001b[1;32m    317\u001b[0m \u001b[38;5;28;01mif\u001b[39;00m \u001b[38;5;28mlen\u001b[39m(remaining_species) \u001b[38;5;241m>\u001b[39m \u001b[38;5;241m0\u001b[39m:\n\u001b[0;32m--> 318\u001b[0m   spec_results \u001b[38;5;241m=\u001b[39m \u001b[38;5;28;43mself\u001b[39;49m\u001b[38;5;241;43m.\u001b[39;49m\u001b[43mgetSpeciesListAnnotation\u001b[49m\u001b[43m(\u001b[49m\u001b[43mpred_ids\u001b[49m\u001b[38;5;241;43m=\u001b[39;49m\u001b[43mremaining_species\u001b[49m\u001b[43m,\u001b[49m\n\u001b[1;32m    319\u001b[0m \u001b[43m                                               \u001b[49m\u001b[43mupdate\u001b[49m\u001b[38;5;241;43m=\u001b[39;49m\u001b[38;5;28;43;01mTrue\u001b[39;49;00m\u001b[43m,\u001b[49m\n\u001b[1;32m    320\u001b[0m \u001b[43m                                               \u001b[49m\u001b[43mmethod\u001b[49m\u001b[38;5;241;43m=\u001b[39;49m\u001b[43mspec_method\u001b[49m\u001b[43m)\u001b[49m\n\u001b[1;32m    321\u001b[0m   \u001b[38;5;28;01mfor\u001b[39;00m one_recom \u001b[38;5;129;01min\u001b[39;00m spec_results:\n\u001b[1;32m    322\u001b[0m     chebis \u001b[38;5;241m=\u001b[39m [val[\u001b[38;5;241m0\u001b[39m] \u001b[38;5;28;01mfor\u001b[39;00m val \u001b[38;5;129;01min\u001b[39;00m one_recom\u001b[38;5;241m.\u001b[39mcandidates]\n",
      "File \u001b[0;32m~/Desktop/AutomateAnnotation/AMAS/notebooks/../AMAS/recommender.py:200\u001b[0m, in \u001b[0;36mRecommender.getSpeciesListAnnotation\u001b[0;34m(self, pred_strs, pred_ids, update, method, get_markdown)\u001b[0m\n\u001b[1;32m    198\u001b[0m pred_score \u001b[38;5;241m=\u001b[39m \u001b[38;5;28mself\u001b[39m\u001b[38;5;241m.\u001b[39mspecies\u001b[38;5;241m.\u001b[39mevaluatePredictedSpeciesAnnotation(pred_result\u001b[38;5;241m=\u001b[39mpred_res[one_k])\n\u001b[1;32m    199\u001b[0m urls \u001b[38;5;241m=\u001b[39m [cn\u001b[38;5;241m.\u001b[39mCHEBI_DEFAULT_URL \u001b[38;5;241m+\u001b[39m val[\u001b[38;5;241m6\u001b[39m:] \u001b[38;5;28;01mfor\u001b[39;00m val \u001b[38;5;129;01min\u001b[39;00m pred_res[one_k][cn\u001b[38;5;241m.\u001b[39mCHEBI]]\n\u001b[0;32m--> 200\u001b[0m labels \u001b[38;5;241m=\u001b[39m [cn\u001b[38;5;241m.\u001b[39mCHEBI2LABEL[val] \u001b[38;5;28;01mfor\u001b[39;00m val \u001b[38;5;129;01min\u001b[39;00m \u001b[43mpred_res\u001b[49m\u001b[43m[\u001b[49m\u001b[43mcn\u001b[49m\u001b[38;5;241;43m.\u001b[39;49m\u001b[43mCHEBI\u001b[49m\u001b[43m]\u001b[49m]\n\u001b[1;32m    201\u001b[0m res_recom \u001b[38;5;241m=\u001b[39m cn\u001b[38;5;241m.\u001b[39mRecommendation(one_k,\n\u001b[1;32m    202\u001b[0m                               np\u001b[38;5;241m.\u001b[39mround(pred_score, cn\u001b[38;5;241m.\u001b[39mROUND_DIGITS),\n\u001b[1;32m    203\u001b[0m                               pred_res[one_k][cn\u001b[38;5;241m.\u001b[39mMATCH_SCORE],\n\u001b[1;32m    204\u001b[0m                               urls,\n\u001b[1;32m    205\u001b[0m                               labels)\n\u001b[1;32m    206\u001b[0m result\u001b[38;5;241m.\u001b[39mappend(res_recom)\n",
      "\u001b[0;31mKeyError\u001b[0m: 'chebi'"
     ]
    }
   ],
   "source": [
    "res = recom.getReactionListAnnotation(pred_ids=REACTIONS)\n",
    "for one_res in res:\n",
    "  print(one_res)\n",
    "  print()"
   ]
  },
  {
   "cell_type": "code",
   "execution_count": 7,
   "id": "25447f60-1c67-4ba0-8fe6-38f71896898a",
   "metadata": {},
   "outputs": [],
   "source": [
    "pred_id = 'M_glc__D_e'\n",
    "pred_res = recom.species.predictAnnotationByCosineSimilarity(inp_ids=[pred_id])[pred_id]\n",
    "#\n",
    "pred_score = recom.species.evaluatePredictedSpeciesAnnotation(pred_result=pred_res)\n",
    "urls = [cn.CHEBI_DEFAULT_URL + val[6:] for val in pred_res[cn.CHEBI]]\n",
    "labels = [cn.REF_CHEBI2LABEL[val] for val in pred_res[cn.CHEBI]]"
   ]
  },
  {
   "cell_type": "code",
   "execution_count": 9,
   "id": "53379790-6863-4ade-b2d9-98f2e3d316bf",
   "metadata": {},
   "outputs": [
    {
     "data": {
      "text/plain": [
       "['https://www.ebi.ac.uk/chebi/searchId.do?chebiId=CHEBI%3A42758',\n",
       " 'https://www.ebi.ac.uk/chebi/searchId.do?chebiId=CHEBI%3A4167',\n",
       " 'https://www.ebi.ac.uk/chebi/searchId.do?chebiId=CHEBI%3A17634']"
      ]
     },
     "execution_count": 9,
     "metadata": {},
     "output_type": "execute_result"
    }
   ],
   "source": [
    "urls"
   ]
  },
  {
   "cell_type": "code",
   "execution_count": null,
   "id": "0d8ae731-a580-4f10-8cdc-bbc8078f8c03",
   "metadata": {},
   "outputs": [],
   "source": []
  }
 ],
 "metadata": {
  "kernelspec": {
   "display_name": "Python 3 (ipykernel)",
   "language": "python",
   "name": "python3"
  },
  "language_info": {
   "codemirror_mode": {
    "name": "ipython",
    "version": 3
   },
   "file_extension": ".py",
   "mimetype": "text/x-python",
   "name": "python",
   "nbconvert_exporter": "python",
   "pygments_lexer": "ipython3",
   "version": "3.9.15"
  }
 },
 "nbformat": 4,
 "nbformat_minor": 5
}
