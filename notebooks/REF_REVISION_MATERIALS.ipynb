{
 "cells": [
  {
   "cell_type": "code",
   "execution_count": 19,
   "id": "f3f5a749-3e50-4b84-95fe-52e249a3f8aa",
   "metadata": {},
   "outputs": [
    {
     "name": "stdout",
     "output_type": "stream",
     "text": [
      "Number of BiGG models to be analyzed: 108\n",
      "Number of BioModels to be analyzed for SPECIES: 306\n",
      "Number of BioModels to be analyzed for REACTIONS: 131\n"
     ]
    }
   ],
   "source": [
    "# materials used to reply to the reviewers' questions. \n",
    "import collections\n",
    "\n",
    "import compress_pickle\n",
    "import copy\n",
    "import editdistance\n",
    "import itertools\n",
    "import libsbml\n",
    "import numpy as np\n",
    "import operator\n",
    "import os\n",
    "import pickle\n",
    "import pandas as pd\n",
    "import sys\n",
    "import time\n",
    "import matplotlib.pyplot as plt\n",
    "%matplotlib inline  \n",
    "\n",
    "BIOMD_12 = 'BIOMD0000000012.xml'\n",
    "BASE_DIR = '/Users/woosubshin/Desktop/AutomateAnnotation/'\n",
    "DATA_DIR = os.path.join(BASE_DIR, \"DATA\")\n",
    "ALGO_DIR = os.path.join(DATA_DIR, \"algo\")\n",
    "CHEBI_DIR = os.path.join(DATA_DIR, \"chebi\")\n",
    "FIGURE_DIR = '/Users/woosubshin/Desktop/AutomateAnnotation/AMAS_suppl/figure_files'\n",
    "RHEA_DIR = os.path.join(DATA_DIR, \"rhea\")\n",
    "BIOMODEL_DIR = os.path.join(DATA_DIR, \"biomodels/curated_biomodels_31mar2021\")\n",
    "BIGG_DIR = '/Users/woosubshin/Desktop/AutomateAnnotation/DATA/bigg'\n",
    "ecoli_fpath = os.path.join(BIGG_DIR, \"e_coli_core.xml\")\n",
    "\n",
    "PROJ_DIR = os.path.join(os.getcwd(), os.pardir)\n",
    "AMAS_DIR = os.path.join(PROJ_DIR, \"AMAS\")\n",
    "sys.path.append(PROJ_DIR)\n",
    "\n",
    "SUPPL_DIR = os.path.join(PROJ_DIR, os.pardir, \"AMAS_suppl\")\n",
    "ACCURACY_DIR = os.path.join(SUPPL_DIR, \"data_for_credibility\")\n",
    "\n",
    "# address changed - as of May 12, 2023. \n",
    "MANU_FIGURE_DIR = '/Users/woosubshin/Desktop/AutomateAnnotation/writeup/AMAS/Manu_figures_new'\n",
    "SUPPL_FIGURE_DIR = '/Users/woosubshin/Desktop/AutomateAnnotation/writeup/AMAS/Supple_figures_new'\n",
    "# TEMPFIG_DIR = os.path.join(FIGURE_DIR, 'temp')\n",
    "\n",
    "from AMAS import species_annotation as sa\n",
    "from AMAS import reaction_annotation as ra\n",
    "from AMAS import recommender\n",
    "from AMAS import constants as cn\n",
    "from AMAS import iterator as it\n",
    "from AMAS import tools\n",
    "\n",
    "biggs = [val for val in os.listdir(BIGG_DIR) if val[-4:]=='.xml']\n",
    "print(\"Number of BiGG models to be analyzed: %d\" % len(biggs))\n",
    "\n",
    "spec_ml_df = pd.read_csv(os.path.join(ACCURACY_DIR, 'biomd_individual_species_accuracy.csv'))\n",
    "biomds_spec = np.unique(spec_ml_df['model'])\n",
    "print(\"Number of BioModels to be analyzed for SPECIES: %d\" % len(biomds_spec))\n",
    "\n",
    "reac_ml_df = pd.read_csv(os.path.join(ACCURACY_DIR, 'biomd_individual_reactions_accuracy.csv'))\n",
    "biomds_reac = np.unique(reac_ml_df['model'])\n",
    "print(\"Number of BioModels to be analyzed for REACTIONS: %d\" % len(biomds_reac))"
   ]
  },
  {
   "cell_type": "code",
   "execution_count": 2,
   "id": "2d73598f-0873-45e1-9908-1069065855c7",
   "metadata": {},
   "outputs": [],
   "source": [
    "# Reviewer 1-1\n",
    "# Why binary algorithm? (H2O H2O)\n",
    "recom = recommender.Recommender(ecoli_fpath)\n",
    "model = recom.sbml_document.getModel()"
   ]
  },
  {
   "cell_type": "code",
   "execution_count": 5,
   "id": "21d0b7ce-4c31-414d-937e-6f3362c27f30",
   "metadata": {},
   "outputs": [],
   "source": [
    "# Reviewer: checking the species algorithm\n",
    "# sa.CHARCOUNT_COMB_DF\n",
    "ref_df = sa.CHARCOUNT_DF\n",
    "inp_strs=['atpp']\n",
    "unq_strs = list(set(inp_strs))\n",
    "one_query, name_used = recom.species.prepareCounterQuery(specs=unq_strs,\n",
    "                                                         ref_cols=sa.CHARCOUNT_DF.columns,\n",
    "                                                         use_id=False) \n",
    "multi_mat = ref_df.dot(one_query)"
   ]
  },
  {
   "cell_type": "code",
   "execution_count": 7,
   "id": "5d090a05-89e0-4f37-a022-a392e055efe7",
   "metadata": {},
   "outputs": [
    {
     "data": {
      "text/html": [
       "<div>\n",
       "<style scoped>\n",
       "    .dataframe tbody tr th:only-of-type {\n",
       "        vertical-align: middle;\n",
       "    }\n",
       "\n",
       "    .dataframe tbody tr th {\n",
       "        vertical-align: top;\n",
       "    }\n",
       "\n",
       "    .dataframe thead th {\n",
       "        text-align: right;\n",
       "    }\n",
       "</style>\n",
       "<table border=\"1\" class=\"dataframe\">\n",
       "  <thead>\n",
       "    <tr style=\"text-align: right;\">\n",
       "      <th></th>\n",
       "      <th>atpp</th>\n",
       "    </tr>\n",
       "  </thead>\n",
       "  <tbody>\n",
       "    <tr>\n",
       "      <th>0</th>\n",
       "      <td>0.284268</td>\n",
       "    </tr>\n",
       "    <tr>\n",
       "      <th>1</th>\n",
       "      <td>0.244949</td>\n",
       "    </tr>\n",
       "    <tr>\n",
       "      <th>2</th>\n",
       "      <td>0.288675</td>\n",
       "    </tr>\n",
       "    <tr>\n",
       "      <th>3</th>\n",
       "      <td>0.163299</td>\n",
       "    </tr>\n",
       "    <tr>\n",
       "      <th>4</th>\n",
       "      <td>0.149071</td>\n",
       "    </tr>\n",
       "    <tr>\n",
       "      <th>...</th>\n",
       "      <td>...</td>\n",
       "    </tr>\n",
       "    <tr>\n",
       "      <th>431019</th>\n",
       "      <td>0.291310</td>\n",
       "    </tr>\n",
       "    <tr>\n",
       "      <th>431020</th>\n",
       "      <td>0.264964</td>\n",
       "    </tr>\n",
       "    <tr>\n",
       "      <th>431021</th>\n",
       "      <td>0.214801</td>\n",
       "    </tr>\n",
       "    <tr>\n",
       "      <th>431022</th>\n",
       "      <td>0.275839</td>\n",
       "    </tr>\n",
       "    <tr>\n",
       "      <th>431023</th>\n",
       "      <td>0.229024</td>\n",
       "    </tr>\n",
       "  </tbody>\n",
       "</table>\n",
       "<p>431024 rows × 1 columns</p>\n",
       "</div>"
      ],
      "text/plain": [
       "            atpp\n",
       "0       0.284268\n",
       "1       0.244949\n",
       "2       0.288675\n",
       "3       0.163299\n",
       "4       0.149071\n",
       "...          ...\n",
       "431019  0.291310\n",
       "431020  0.264964\n",
       "431021  0.214801\n",
       "431022  0.275839\n",
       "431023  0.229024\n",
       "\n",
       "[431024 rows x 1 columns]"
      ]
     },
     "execution_count": 7,
     "metadata": {},
     "output_type": "execute_result"
    }
   ],
   "source": [
    "multi_mat"
   ]
  },
  {
   "cell_type": "code",
   "execution_count": 28,
   "id": "26a92713-0e55-4520-9eca-f1346ea6fd99",
   "metadata": {},
   "outputs": [
    {
     "data": {
      "text/plain": [
       "0.4472135954999579"
      ]
     },
     "execution_count": 28,
     "metadata": {},
     "output_type": "execute_result"
    }
   ],
   "source": [
    "1/np.sqrt(5)"
   ]
  },
  {
   "cell_type": "code",
   "execution_count": null,
   "id": "71623833-f15b-42f8-9fe8-fdfd867bdcda",
   "metadata": {},
   "outputs": [],
   "source": []
  },
  {
   "cell_type": "code",
   "execution_count": 14,
   "id": "d10d5650-9c5f-4d2f-aac0-ba67cf0445df",
   "metadata": {},
   "outputs": [],
   "source": [
    "df = sa.CHARCOUNT_COMB_DF\n",
    "#[str(val) for val in df['synonym'] if len(str(val))<=4 and len(str(val))!=len(set(str(val)))]"
   ]
  },
  {
   "cell_type": "code",
   "execution_count": 5,
   "id": "afa64512-16c1-4780-b6de-bb3870341f5f",
   "metadata": {},
   "outputs": [
    {
     "data": {
      "text/plain": [
       "'/Users/woosubshin/Desktop/AutomateAnnotation/DATA/bigg/e_coli_core.xml'"
      ]
     },
     "execution_count": 5,
     "metadata": {},
     "output_type": "execute_result"
    }
   ],
   "source": [
    "ecoli_fpath"
   ]
  },
  {
   "cell_type": "code",
   "execution_count": 15,
   "id": "99f92a7c-d703-4792-a690-2a258e01d792",
   "metadata": {},
   "outputs": [],
   "source": [
    "# for one_s in model.getListOfSpecies():\n",
    "  # print(one_s.getId(), one_s.name) \n",
    "    \n",
    "# for one_r in model.getListOfReactions():\n",
    "#   one_str = one_r.getAnnotationString()\n",
    "#   one_anot = tools.extractRheaFromAnnotationString(one_str)\n",
    "#   print(one_anot)\n",
    "#   print(\"\\n\")"
   ]
  },
  {
   "cell_type": "code",
   "execution_count": 24,
   "id": "1cf6992e-7bd4-4016-aef0-c26ac630bbfd",
   "metadata": {},
   "outputs": [],
   "source": [
    "for one_bigg in biggs:\n",
    "  one_fpath = os.path.join(BIGG_DIR, one_bigg)\n",
    "  recom = recommender.Recommender(one_fpath)\n",
    "  model = recom.sbml_document.getModel()\n",
    "  num_spec_anot = len(recom.species.exist_annotation)\n",
    "  num_reac_anot = len(recom.reactions.exist_annotation)\n",
    "  break"
   ]
  },
  {
   "cell_type": "code",
   "execution_count": 25,
   "id": "ca6fc046-eca6-43da-81c1-9142b766d7f1",
   "metadata": {},
   "outputs": [
    {
     "name": "stdout",
     "output_type": "stream",
     "text": [
      "2216\n"
     ]
    },
    {
     "data": {
      "text/plain": [
       "4456"
      ]
     },
     "execution_count": 25,
     "metadata": {},
     "output_type": "execute_result"
    }
   ],
   "source": [
    "print(num_spec_anot)\n",
    "model.getNumSpecies()"
   ]
  },
  {
   "cell_type": "code",
   "execution_count": 26,
   "id": "73fac9a6-ee89-4032-93ea-ef281c3c2954",
   "metadata": {},
   "outputs": [
    {
     "name": "stdout",
     "output_type": "stream",
     "text": [
      "1645\n"
     ]
    },
    {
     "data": {
      "text/plain": [
       "6663"
      ]
     },
     "execution_count": 26,
     "metadata": {},
     "output_type": "execute_result"
    }
   ],
   "source": [
    "print(num_reac_anot)\n",
    "model.getNumReactions()"
   ]
  },
  {
   "cell_type": "code",
   "execution_count": 16,
   "id": "de369b0f-9487-4ff4-9992-d0886f9a270d",
   "metadata": {},
   "outputs": [],
   "source": [
    "# one_biomd = 'BIOMD0000000408.xml'\n",
    "# one_fpath = os.path.join(BIOMODEL_DIR, one_biomd)\n",
    "# recom = recommender.Recommender(one_fpath)\n",
    "# model = recom.sbml_document.getModel()\n",
    "# for one_r in model.getListOfReactions():\n",
    "#   print(one_r.getId())\n",
    "#   print([str(val.stoichiometry)+\"+\"+val.species for val in one_r.getListOfReactants()])\n",
    "#   print([str(val.stoichiometry)+\"+\"+val.species for val in one_r.getListOfProducts()])\n",
    "#   print(\"------------\\n\")"
   ]
  },
  {
   "cell_type": "code",
   "execution_count": 21,
   "id": "6b169530-eae6-4143-b20d-a5be9deee914",
   "metadata": {},
   "outputs": [],
   "source": [
    "# biggs\n",
    "recom = recommender.Recommender(ecoli_fpath)\n",
    "model = recom.sbml_document.getModel()"
   ]
  },
  {
   "cell_type": "code",
   "execution_count": null,
   "id": "17293071-460c-48c6-b8f9-41bde107d532",
   "metadata": {},
   "outputs": [],
   "source": [
    "model.get"
   ]
  },
  {
   "cell_type": "code",
   "execution_count": 20,
   "id": "ee7b477b-9a57-42cb-8448-2e15d0a9b4af",
   "metadata": {},
   "outputs": [],
   "source": [
    "# biomds_spec"
   ]
  },
  {
   "cell_type": "code",
   "execution_count": 11,
   "id": "c0f48f82-f97c-49cc-86c5-a49fd8b29524",
   "metadata": {},
   "outputs": [],
   "source": [
    "biomodels = [val for val in os.listdir(BIOMODEL_DIR) if val[-4:]=='.xml']\n",
    "for one_biomd in biomodels:\n",
    "  recom = recommender.Recommender(one_biomd)\n",
    "  model = recom.sbml_document.getModel()\n",
    "  "
   ]
  },
  {
   "cell_type": "code",
   "execution_count": 28,
   "id": "37cbeea9-09db-4b2b-960b-ca0e0e5424dd",
   "metadata": {},
   "outputs": [
    {
     "data": {
      "text/plain": [
       "{'atp': [('CHEBI:15422', 1.0000000000000002),\n",
       "  ('CHEBI:15702', 1.0000000000000002),\n",
       "  ('CHEBI:30616', 1.0000000000000002),\n",
       "  ('CHEBI:37537', 1.0000000000000002),\n",
       "  ('CHEBI:53394', 1.0000000000000002),\n",
       "  ('CHEBI:74926', 1.0000000000000002)]}"
      ]
     },
     "execution_count": 28,
     "metadata": {},
     "output_type": "execute_result"
    }
   ],
   "source": [
    "recom.species.getCScores(inp_strs=['atp'],\n",
    "                         mssc='top',\n",
    "                         cutoff=0.0)"
   ]
  },
  {
   "cell_type": "code",
   "execution_count": 34,
   "id": "a35f4147-73de-4ae3-9d9e-7020cf931441",
   "metadata": {},
   "outputs": [],
   "source": [
    "one_s = model.getListOfSpecies()[0]"
   ]
  },
  {
   "cell_type": "code",
   "execution_count": 37,
   "id": "63cb6727-369a-4705-acd9-1a090be8dce5",
   "metadata": {},
   "outputs": [
    {
     "ename": "AttributeError",
     "evalue": "'Species' object has no attribute 'removeAnnotation'",
     "output_type": "error",
     "traceback": [
      "\u001b[0;31m---------------------------------------------------------------------------\u001b[0m",
      "\u001b[0;31mAttributeError\u001b[0m                            Traceback (most recent call last)",
      "Cell \u001b[0;32mIn[37], line 1\u001b[0m\n\u001b[0;32m----> 1\u001b[0m \u001b[43mone_s\u001b[49m\u001b[38;5;241;43m.\u001b[39;49m\u001b[43mremoveAnnotation\u001b[49m()\n",
      "File \u001b[0;32m~/miniconda3/envs/amas_dev/lib/python3.11/site-packages/libsbml/__init__.py:25037\u001b[0m, in \u001b[0;36mSpecies.<lambda>\u001b[0;34m(self, name)\u001b[0m\n\u001b[1;32m  25035\u001b[0m \u001b[38;5;28;01mfor\u001b[39;00m _s \u001b[38;5;129;01min\u001b[39;00m [SBase]:\n\u001b[1;32m  25036\u001b[0m     __swig_getmethods__\u001b[38;5;241m.\u001b[39mupdate(\u001b[38;5;28mgetattr\u001b[39m(_s, \u001b[38;5;124m'\u001b[39m\u001b[38;5;124m__swig_getmethods__\u001b[39m\u001b[38;5;124m'\u001b[39m, {}))\n\u001b[0;32m> 25037\u001b[0m \u001b[38;5;21m__getattr__\u001b[39m \u001b[38;5;241m=\u001b[39m \u001b[38;5;28;01mlambda\u001b[39;00m \u001b[38;5;28mself\u001b[39m, name: \u001b[43m_swig_getattr\u001b[49m\u001b[43m(\u001b[49m\u001b[38;5;28;43mself\u001b[39;49m\u001b[43m,\u001b[49m\u001b[43m \u001b[49m\u001b[43mSpecies\u001b[49m\u001b[43m,\u001b[49m\u001b[43m \u001b[49m\u001b[43mname\u001b[49m\u001b[43m)\u001b[49m\n\u001b[1;32m  25038\u001b[0m \u001b[38;5;21m__repr__\u001b[39m \u001b[38;5;241m=\u001b[39m _swig_repr\n\u001b[1;32m  25039\u001b[0m __swig_destroy__ \u001b[38;5;241m=\u001b[39m _libsbml\u001b[38;5;241m.\u001b[39mdelete_Species\n",
      "File \u001b[0;32m~/miniconda3/envs/amas_dev/lib/python3.11/site-packages/libsbml/__init__.py:95\u001b[0m, in \u001b[0;36m_swig_getattr\u001b[0;34m(self, class_type, name)\u001b[0m\n\u001b[1;32m     93\u001b[0m \u001b[38;5;28;01mif\u001b[39;00m method:\n\u001b[1;32m     94\u001b[0m     \u001b[38;5;28;01mreturn\u001b[39;00m method(\u001b[38;5;28mself\u001b[39m)\n\u001b[0;32m---> 95\u001b[0m \u001b[38;5;28;01mraise\u001b[39;00m \u001b[38;5;167;01mAttributeError\u001b[39;00m(\u001b[38;5;124m\"\u001b[39m\u001b[38;5;124m'\u001b[39m\u001b[38;5;132;01m%s\u001b[39;00m\u001b[38;5;124m'\u001b[39m\u001b[38;5;124m object has no attribute \u001b[39m\u001b[38;5;124m'\u001b[39m\u001b[38;5;132;01m%s\u001b[39;00m\u001b[38;5;124m'\u001b[39m\u001b[38;5;124m\"\u001b[39m \u001b[38;5;241m%\u001b[39m (class_type\u001b[38;5;241m.\u001b[39m\u001b[38;5;18m__name__\u001b[39m, name))\n",
      "\u001b[0;31mAttributeError\u001b[0m: 'Species' object has no attribute 'removeAnnotation'"
     ]
    }
   ],
   "source": [
    "one_s.removeAnnotation()"
   ]
  },
  {
   "cell_type": "code",
   "execution_count": null,
   "id": "00603d95-6bd8-446c-b0d1-dcd9179117c5",
   "metadata": {},
   "outputs": [],
   "source": []
  }
 ],
 "metadata": {
  "kernelspec": {
   "display_name": "Python 3 (ipykernel)",
   "language": "python",
   "name": "python3"
  },
  "language_info": {
   "codemirror_mode": {
    "name": "ipython",
    "version": 3
   },
   "file_extension": ".py",
   "mimetype": "text/x-python",
   "name": "python",
   "nbconvert_exporter": "python",
   "pygments_lexer": "ipython3",
   "version": "3.11.2"
  }
 },
 "nbformat": 4,
 "nbformat_minor": 5
}
