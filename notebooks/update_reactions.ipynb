{
 "cells": [
  {
   "cell_type": "code",
   "execution_count": 1,
   "id": "e30dbf2b",
   "metadata": {},
   "outputs": [],
   "source": [
    "# Update reaction annotations\n",
    "import collections\n",
    "import itertools\n",
    "import libsbml\n",
    "import numpy as np\n",
    "import os\n",
    "import pickle\n",
    "import pandas as pd\n",
    "import sys\n",
    "import matplotlib.pyplot as plt\n",
    "%matplotlib inline  \n",
    "\n",
    "BIOMD_12 = 'BIOMD0000000012.xml'\n",
    "BASE_DIR = '/Users/woosubs/Desktop/AutomateAnnotation/'\n",
    "DATA_DIR = os.path.join(BASE_DIR, \"DATA\")\n",
    "ALGO_DIR = os.path.join(DATA_DIR, \"algo\")\n",
    "CHEBI_DIR = os.path.join(DATA_DIR, \"chebi\")\n",
    "RHEA_DIR = os.path.join(DATA_DIR, \"rhea\")\n",
    "BIOMODEL_DIR = os.path.join(DATA_DIR, \"biomodels/curated_biomodels_31mar2021\")\n",
    "BIGG_DIR = '/Users/woosubs/Desktop/AutomateAnnotation/DATA/bigg'\n",
    "ecoli_fpath = os.path.join(BIGG_DIR, \"e_coli_core.xml\")\n",
    "\n",
    "PROJ_DIR = os.path.join(os.getcwd(), os.pardir)\n",
    "AMAS_DIR = os.path.join(PROJ_DIR, \"AMAS\")\n",
    "sys.path.append(PROJ_DIR)\n",
    "\n",
    "from AMAS import species_annotation as sa\n",
    "from AMAS import reaction_annotation as ra\n",
    "from AMAS import constants as cn\n",
    "from AMAS import iterator as it\n",
    "from AMAS import tools"
   ]
  },
  {
   "cell_type": "code",
   "execution_count": 2,
   "id": "b8544685",
   "metadata": {},
   "outputs": [],
   "source": [
    "one_biomd = 'BIOMD0000000190.xml'\n",
    "one_biomd_fpath = os.path.join(BIOMODEL_DIR, one_biomd)\n",
    "reader = libsbml.SBMLReader()\n",
    "document = reader.readSBML(one_biomd_fpath)\n",
    "model = document.getModel()"
   ]
  },
  {
   "cell_type": "code",
   "execution_count": 3,
   "id": "aecd1ea5",
   "metadata": {},
   "outputs": [
    {
     "data": {
      "text/plain": [
       "<ListOfSpecies[11]>"
      ]
     },
     "execution_count": 3,
     "metadata": {},
     "output_type": "execute_result"
    }
   ],
   "source": [
    "model.getListOfSpecies()"
   ]
  },
  {
   "cell_type": "code",
   "execution_count": 4,
   "id": "01b87387",
   "metadata": {},
   "outputs": [],
   "source": [
    "from AMAS import recommender\n",
    "recom = recommender.Recommender(libsbml_fpath=one_biomd_fpath)"
   ]
  },
  {
   "cell_type": "code",
   "execution_count": 5,
   "id": "fa5a6eec",
   "metadata": {},
   "outputs": [],
   "source": [
    "# Next step..? add getRecall and getPrecision\n",
    "recom = recommender.Recommender(libsbml_fpath=ecoli_fpath)"
   ]
  },
  {
   "cell_type": "code",
   "execution_count": 6,
   "id": "70e447a0",
   "metadata": {},
   "outputs": [],
   "source": [
    "# recom.reactions.reaction_components"
   ]
  },
  {
   "cell_type": "code",
   "execution_count": 11,
   "id": "9dbaf717",
   "metadata": {},
   "outputs": [
    {
     "ename": "TypeError",
     "evalue": "unhashable type: 'list'",
     "output_type": "error",
     "traceback": [
      "\u001b[0;31m---------------------------------------------------------------------------\u001b[0m",
      "\u001b[0;31mTypeError\u001b[0m                                 Traceback (most recent call last)",
      "\u001b[0;32m<ipython-input-11-3b74d23edba2>\u001b[0m in \u001b[0;36m<module>\u001b[0;34m\u001b[0m\n\u001b[0;32m----> 1\u001b[0;31m \u001b[0mrecom\u001b[0m\u001b[0;34m.\u001b[0m\u001b[0mgetReactionAnnotation\u001b[0m\u001b[0;34m(\u001b[0m\u001b[0;34m[\u001b[0m\u001b[0;34m'R_PFK'\u001b[0m\u001b[0;34m]\u001b[0m\u001b[0;34m)\u001b[0m\u001b[0;34m\u001b[0m\u001b[0;34m\u001b[0m\u001b[0m\n\u001b[0m",
      "\u001b[0;32m~/Desktop/AutomateAnnotation/AMAS/notebooks/../AMAS/recommender.py\u001b[0m in \u001b[0;36mgetReactionAnnotation\u001b[0;34m(self, pred_id, use_exist_speices_annotation, update)\u001b[0m\n\u001b[1;32m    141\u001b[0m     \"\"\"\n\u001b[1;32m    142\u001b[0m     \u001b[0;31m# For now, just predict all species and continue?\u001b[0m\u001b[0;34m\u001b[0m\u001b[0;34m\u001b[0m\u001b[0;34m\u001b[0m\u001b[0m\n\u001b[0;32m--> 143\u001b[0;31m     \u001b[0mspecs2predict\u001b[0m \u001b[0;34m=\u001b[0m \u001b[0mself\u001b[0m\u001b[0;34m.\u001b[0m\u001b[0mreactions\u001b[0m\u001b[0;34m.\u001b[0m\u001b[0mreaction_components\u001b[0m\u001b[0;34m[\u001b[0m\u001b[0mpred_id\u001b[0m\u001b[0;34m]\u001b[0m\u001b[0;34m\u001b[0m\u001b[0;34m\u001b[0m\u001b[0m\n\u001b[0m\u001b[1;32m    144\u001b[0m     \u001b[0mspec_results\u001b[0m \u001b[0;34m=\u001b[0m \u001b[0mself\u001b[0m\u001b[0;34m.\u001b[0m\u001b[0mgetSpeciesListAnnotation\u001b[0m\u001b[0;34m(\u001b[0m\u001b[0mpred_ids\u001b[0m\u001b[0;34m=\u001b[0m\u001b[0mspecs2predict\u001b[0m\u001b[0;34m)\u001b[0m\u001b[0;34m\u001b[0m\u001b[0;34m\u001b[0m\u001b[0m\n\u001b[1;32m    145\u001b[0m     \u001b[0;31m# based on the function above; need to recreate it.\u001b[0m\u001b[0;34m\u001b[0m\u001b[0;34m\u001b[0m\u001b[0;34m\u001b[0m\u001b[0m\n",
      "\u001b[0;31mTypeError\u001b[0m: unhashable type: 'list'"
     ]
    }
   ],
   "source": [
    "recom.getReactionAnnotation('R_PFK')"
   ]
  },
  {
   "cell_type": "code",
   "execution_count": 9,
   "id": "226b3166",
   "metadata": {},
   "outputs": [
    {
     "data": {
      "text/plain": [
       "{'R_PFK': ['M_fdp_c', 'M_f6p_c', 'M_h_c', 'M_atp_c', 'M_adp_c'],\n",
       " 'R_PFL': ['M_pyr_c', 'M_coa_c', 'M_for_c', 'M_accoa_c'],\n",
       " 'R_PGI': ['M_f6p_c', 'M_g6p_c'],\n",
       " 'R_PGK': ['M_13dpg_c', 'M_3pg_c', 'M_adp_c', 'M_atp_c'],\n",
       " 'R_PGL': ['M_6pgc_c', 'M_h_c', 'M_h2o_c', 'M_6pgl_c'],\n",
       " 'R_ACALD': ['M_accoa_c',\n",
       "  'M_acald_c',\n",
       "  'M_nad_c',\n",
       "  'M_h_c',\n",
       "  'M_nadh_c',\n",
       "  'M_coa_c'],\n",
       " 'R_AKGt2r': ['M_akg_e', 'M_h_c', 'M_akg_c', 'M_h_e'],\n",
       " 'R_PGM': ['M_2pg_c', 'M_3pg_c'],\n",
       " 'R_PIt2r': ['M_pi_e', 'M_h_c', 'M_pi_c', 'M_h_e'],\n",
       " 'R_ALCD2x': ['M_etoh_c', 'M_acald_c', 'M_nad_c', 'M_h_c', 'M_nadh_c'],\n",
       " 'R_ACALDt': ['M_acald_c', 'M_acald_e'],\n",
       " 'R_ACKr': ['M_ac_c', 'M_actp_c', 'M_adp_c', 'M_atp_c'],\n",
       " 'R_PPC': ['M_pi_c', 'M_h_c', 'M_h2o_c', 'M_pep_c', 'M_co2_c', 'M_oaa_c'],\n",
       " 'R_ACONTa': ['M_cit_c', 'M_h2o_c', 'M_acon_C_c'],\n",
       " 'R_ACONTb': ['M_icit_c', 'M_h2o_c', 'M_acon_C_c'],\n",
       " 'R_ATPM': ['M_pi_c', 'M_h_c', 'M_h2o_c', 'M_atp_c', 'M_adp_c'],\n",
       " 'R_PPCK': ['M_atp_c', 'M_pep_c', 'M_co2_c', 'M_adp_c', 'M_oaa_c'],\n",
       " 'R_ACt2r': ['M_ac_c', 'M_h_c', 'M_h_e', 'M_ac_e'],\n",
       " 'R_PPS': ['M_amp_c',\n",
       "  'M_pi_c',\n",
       "  'M_h_c',\n",
       "  'M_h2o_c',\n",
       "  'M_atp_c',\n",
       "  'M_pep_c',\n",
       "  'M_pyr_c'],\n",
       " 'R_ADK1': ['M_amp_c', 'M_adp_c', 'M_atp_c'],\n",
       " 'R_AKGDH': ['M_nad_c',\n",
       "  'M_nadh_c',\n",
       "  'M_co2_c',\n",
       "  'M_succoa_c',\n",
       "  'M_coa_c',\n",
       "  'M_akg_c'],\n",
       " 'R_ATPS4r': ['M_pi_c', 'M_h_c', 'M_h2o_c', 'M_atp_c', 'M_h_e', 'M_adp_c'],\n",
       " 'R_PTAr': ['M_actp_c', 'M_coa_c', 'M_pi_c', 'M_accoa_c'],\n",
       " 'R_PYK': ['M_h_c', 'M_atp_c', 'M_pep_c', 'M_pyr_c', 'M_adp_c'],\n",
       " 'R_BIOMASS_Ecoli_core_w_GAM': ['M_pi_c',\n",
       "  'M_nad_c',\n",
       "  'M_h_c',\n",
       "  'M_nadh_c',\n",
       "  'M_pep_c',\n",
       "  'M_adp_c',\n",
       "  'M_oaa_c',\n",
       "  'M_gln__L_c',\n",
       "  'M_f6p_c',\n",
       "  'M_accoa_c',\n",
       "  'M_g3p_c',\n",
       "  'M_atp_c',\n",
       "  'M_akg_c',\n",
       "  'M_g6p_c',\n",
       "  'M_3pg_c',\n",
       "  'M_nadp_c',\n",
       "  'M_pyr_c',\n",
       "  'M_coa_c',\n",
       "  'M_glu__L_c',\n",
       "  'M_r5p_c',\n",
       "  'M_e4p_c',\n",
       "  'M_h2o_c',\n",
       "  'M_nadph_c'],\n",
       " 'R_PYRt2': ['M_pyr_c', 'M_pyr_e', 'M_h_c', 'M_h_e'],\n",
       " 'R_CO2t': ['M_co2_e', 'M_co2_c'],\n",
       " 'R_RPE': ['M_xu5p__D_c', 'M_ru5p__D_c'],\n",
       " 'R_CS': ['M_cit_c', 'M_accoa_c', 'M_h_c', 'M_h2o_c', 'M_oaa_c', 'M_coa_c'],\n",
       " 'R_RPI': ['M_ru5p__D_c', 'M_r5p_c'],\n",
       " 'R_SUCCt2_2': ['M_succ_e', 'M_h_c', 'M_h_e', 'M_succ_c'],\n",
       " 'R_CYTBD': ['M_q8_c', 'M_o2_c', 'M_h_c', 'M_h2o_c', 'M_h_e', 'M_q8h2_c'],\n",
       " 'R_D_LACt2': ['M_lac__D_e', 'M_h_c', 'M_h_e', 'M_lac__D_c'],\n",
       " 'R_ENO': ['M_2pg_c', 'M_pep_c', 'M_h2o_c'],\n",
       " 'R_SUCCt3': ['M_succ_e', 'M_h_c', 'M_h_e', 'M_succ_c'],\n",
       " 'R_ETOHt2r': ['M_etoh_c', 'M_h_c', 'M_h_e', 'M_etoh_e'],\n",
       " 'R_SUCDi': ['M_q8_c', 'M_fum_c', 'M_q8h2_c', 'M_succ_c'],\n",
       " 'R_SUCOAS': ['M_pi_c',\n",
       "  'M_succ_c',\n",
       "  'M_atp_c',\n",
       "  'M_adp_c',\n",
       "  'M_succoa_c',\n",
       "  'M_coa_c'],\n",
       " 'R_TALA': ['M_g3p_c', 'M_f6p_c', 'M_e4p_c', 'M_s7p_c'],\n",
       " 'R_THD2': ['M_nadp_c', 'M_nad_c', 'M_h_c', 'M_nadh_c', 'M_nadph_c', 'M_h_e'],\n",
       " 'R_TKT1': ['M_g3p_c', 'M_xu5p__D_c', 'M_r5p_c', 'M_s7p_c'],\n",
       " 'R_TKT2': ['M_g3p_c', 'M_xu5p__D_c', 'M_e4p_c', 'M_f6p_c'],\n",
       " 'R_TPI': ['M_g3p_c', 'M_dhap_c'],\n",
       " 'R_EX_ac_e': ['M_ac_e'],\n",
       " 'R_EX_acald_e': ['M_acald_e'],\n",
       " 'R_EX_akg_e': ['M_akg_e'],\n",
       " 'R_EX_co2_e': ['M_co2_e'],\n",
       " 'R_EX_etoh_e': ['M_etoh_e'],\n",
       " 'R_EX_for_e': ['M_for_e'],\n",
       " 'R_EX_fru_e': ['M_fru_e'],\n",
       " 'R_EX_fum_e': ['M_fum_e'],\n",
       " 'R_EX_glc__D_e': ['M_glc__D_e'],\n",
       " 'R_EX_gln__L_e': ['M_gln__L_e'],\n",
       " 'R_EX_glu__L_e': ['M_glu__L_e'],\n",
       " 'R_EX_h_e': ['M_h_e'],\n",
       " 'R_EX_h2o_e': ['M_h2o_e'],\n",
       " 'R_EX_lac__D_e': ['M_lac__D_e'],\n",
       " 'R_EX_mal__L_e': ['M_mal__L_e'],\n",
       " 'R_EX_nh4_e': ['M_nh4_e'],\n",
       " 'R_EX_o2_e': ['M_o2_e'],\n",
       " 'R_EX_pi_e': ['M_pi_e'],\n",
       " 'R_EX_pyr_e': ['M_pyr_e'],\n",
       " 'R_EX_succ_e': ['M_succ_e'],\n",
       " 'R_FBA': ['M_fdp_c', 'M_g3p_c', 'M_dhap_c'],\n",
       " 'R_FBP': ['M_fdp_c', 'M_pi_c', 'M_h2o_c', 'M_f6p_c'],\n",
       " 'R_FORt2': ['M_for_e', 'M_h_c', 'M_for_c', 'M_h_e'],\n",
       " 'R_FORt': ['M_for_e', 'M_for_c'],\n",
       " 'R_FRD7': ['M_q8_c', 'M_fum_c', 'M_q8h2_c', 'M_succ_c'],\n",
       " 'R_FRUpts2': ['M_pep_c', 'M_pyr_c', 'M_fru_e', 'M_f6p_c'],\n",
       " 'R_FUM': ['M_mal__L_c', 'M_fum_c', 'M_h2o_c'],\n",
       " 'R_FUMt2_2': ['M_h_c', 'M_fum_c', 'M_h_e', 'M_fum_e'],\n",
       " 'R_G6PDH2r': ['M_6pgl_c', 'M_nadp_c', 'M_h_c', 'M_nadph_c', 'M_g6p_c'],\n",
       " 'R_GAPD': ['M_pi_c', 'M_nad_c', 'M_h_c', 'M_g3p_c', 'M_nadh_c', 'M_13dpg_c'],\n",
       " 'R_GLCpts': ['M_pep_c', 'M_pyr_c', 'M_glc__D_e', 'M_g6p_c'],\n",
       " 'R_GLNS': ['M_gln__L_c',\n",
       "  'M_pi_c',\n",
       "  'M_nh4_c',\n",
       "  'M_h_c',\n",
       "  'M_atp_c',\n",
       "  'M_adp_c',\n",
       "  'M_glu__L_c'],\n",
       " 'R_GLNabc': ['M_gln__L_c',\n",
       "  'M_pi_c',\n",
       "  'M_h_c',\n",
       "  'M_h2o_c',\n",
       "  'M_atp_c',\n",
       "  'M_adp_c',\n",
       "  'M_gln__L_e'],\n",
       " 'R_GLUDy': ['M_nadp_c',\n",
       "  'M_nh4_c',\n",
       "  'M_h_c',\n",
       "  'M_h2o_c',\n",
       "  'M_nadph_c',\n",
       "  'M_akg_c',\n",
       "  'M_glu__L_c'],\n",
       " 'R_GLUN': ['M_nh4_c', 'M_gln__L_c', 'M_glu__L_c', 'M_h2o_c'],\n",
       " 'R_GLUSy': ['M_gln__L_c',\n",
       "  'M_nadp_c',\n",
       "  'M_h_c',\n",
       "  'M_nadph_c',\n",
       "  'M_akg_c',\n",
       "  'M_glu__L_c'],\n",
       " 'R_GLUt2r': ['M_glu__L_e', 'M_h_c', 'M_glu__L_c', 'M_h_e'],\n",
       " 'R_GND': ['M_nadp_c', 'M_nadph_c', 'M_co2_c', 'M_6pgc_c', 'M_ru5p__D_c'],\n",
       " 'R_H2Ot': ['M_h2o_e', 'M_h2o_c'],\n",
       " 'R_ICDHyr': ['M_nadp_c', 'M_nadph_c', 'M_co2_c', 'M_akg_c', 'M_icit_c'],\n",
       " 'R_ICL': ['M_glx_c', 'M_icit_c', 'M_succ_c'],\n",
       " 'R_LDH_D': ['M_nad_c', 'M_h_c', 'M_nadh_c', 'M_pyr_c', 'M_lac__D_c'],\n",
       " 'R_MALS': ['M_accoa_c',\n",
       "  'M_h_c',\n",
       "  'M_glx_c',\n",
       "  'M_h2o_c',\n",
       "  'M_mal__L_c',\n",
       "  'M_coa_c'],\n",
       " 'R_MALt2_2': ['M_mal__L_c', 'M_mal__L_e', 'M_h_c', 'M_h_e'],\n",
       " 'R_MDH': ['M_oaa_c', 'M_nad_c', 'M_h_c', 'M_nadh_c', 'M_mal__L_c'],\n",
       " 'R_ME1': ['M_nad_c', 'M_nadh_c', 'M_pyr_c', 'M_co2_c', 'M_mal__L_c'],\n",
       " 'R_ME2': ['M_nadp_c', 'M_nadph_c', 'M_pyr_c', 'M_co2_c', 'M_mal__L_c'],\n",
       " 'R_NADH16': ['M_q8_c', 'M_nad_c', 'M_h_c', 'M_nadh_c', 'M_h_e', 'M_q8h2_c'],\n",
       " 'R_NADTRHD': ['M_nadph_c', 'M_nad_c', 'M_nadh_c', 'M_nadp_c'],\n",
       " 'R_NH4t': ['M_nh4_c', 'M_nh4_e'],\n",
       " 'R_O2t': ['M_o2_c', 'M_o2_e'],\n",
       " 'R_PDH': ['M_accoa_c',\n",
       "  'M_nad_c',\n",
       "  'M_nadh_c',\n",
       "  'M_pyr_c',\n",
       "  'M_co2_c',\n",
       "  'M_coa_c']}"
      ]
     },
     "execution_count": 9,
     "metadata": {},
     "output_type": "execute_result"
    }
   ],
   "source": [
    "recom.reactions.reaction_components"
   ]
  },
  {
   "cell_type": "code",
   "execution_count": null,
   "id": "27c0155b",
   "metadata": {},
   "outputs": [],
   "source": []
  },
  {
   "cell_type": "code",
   "execution_count": null,
   "id": "79aae037",
   "metadata": {},
   "outputs": [],
   "source": []
  },
  {
   "cell_type": "code",
   "execution_count": null,
   "id": "aaeb19aa",
   "metadata": {},
   "outputs": [],
   "source": []
  },
  {
   "cell_type": "markdown",
   "id": "38feeb13",
   "metadata": {},
   "source": [
    "# Updating test_reaction_annotation"
   ]
  },
  {
   "cell_type": "code",
   "execution_count": 16,
   "id": "634d6552",
   "metadata": {},
   "outputs": [],
   "source": [
    "R_PFK = 'R_PFK'\n",
    "ATP = 'M_atp_c'\n",
    "COMPONENTS = {'M_fdp_c', 'M_adp_c', 'M_atp_c', 'M_f6p_c', 'M_h_c'}\n",
    "ONE_CANDIDATE = 'RHEA:12423'\n",
    "ONE_CHEBI = 'CHEBI:30616'\n",
    "BIOMD_248_PATH = os.path.join(os.getcwd(), 'BIOMD0000000248.xml')\n",
    "E_COLI_PATH = os.path.join(BIGG_DIR, \"e_coli_core.xml\")\n",
    "\n",
    "from AMAS import recommender\n",
    "recom = recommender.Recommender(libsbml_fpath=ecoli_fpath)"
   ]
  },
  {
   "cell_type": "code",
   "execution_count": 19,
   "id": "f5affa8c",
   "metadata": {},
   "outputs": [],
   "source": [
    "spec_cl = sa.SpeciesAnnotation(libsbml_fpath = E_COLI_PATH)\n",
    "reac_cl = ra.ReactionAnnotation(libsbml_fpath = E_COLI_PATH)\n",
    "pred_species = spec_cl.predictAnnotationByName(inp_spec_list=COMPONENTS)\n",
    "pred_reaction = reac_cl.predictAnnotation(inp_spec_dict=spec_cl.formula,\n",
    "                                          inp_reac_list=[R_PFK])"
   ]
  },
  {
   "cell_type": "code",
   "execution_count": 23,
   "id": "79612b39",
   "metadata": {},
   "outputs": [
    {
     "name": "stdout",
     "output_type": "stream",
     "text": [
      "['RHEA:12423', 'RHEA:13380', 'RHEA:14216', 'RHEA:15656', 'RHEA:16112', 'RHEA:20108']\n"
     ]
    },
    {
     "data": {
      "text/plain": [
       "True"
      ]
     },
     "execution_count": 23,
     "metadata": {},
     "output_type": "execute_result"
    }
   ],
   "source": [
    "print([val[0] for val in reac_cl.match_score[R_PFK]])\n",
    "ONE_CANDIDATE in [val[0] for val in reac_cl.match_score[R_PFK]]"
   ]
  },
  {
   "cell_type": "code",
   "execution_count": 31,
   "id": "8a5c7c3b",
   "metadata": {},
   "outputs": [
    {
     "data": {
      "text/plain": [
       "['RHEA:1']"
      ]
     },
     "execution_count": 31,
     "metadata": {},
     "output_type": "execute_result"
    }
   ],
   "source": [
    "one_match_score = {'R1': [('RHEA:1', 1.0), ('RHEA:2', 0.5)]}\n",
    "reac_cl.getBestOneCandidates(one_match_score)['R1']"
   ]
  },
  {
   "cell_type": "code",
   "execution_count": 32,
   "id": "c2333e78",
   "metadata": {},
   "outputs": [
    {
     "data": {
      "text/plain": [
       "{'R_PFK': Index(['RHEA:12423', 'RHEA:13380', 'RHEA:14216', 'RHEA:15656', 'RHEA:16112',\n",
       "        'RHEA:20108'],\n",
       "       dtype='object')}"
      ]
     },
     "execution_count": 32,
     "metadata": {},
     "output_type": "execute_result"
    }
   ],
   "source": [
    "reac_cl.candidates"
   ]
  },
  {
   "cell_type": "code",
   "execution_count": 33,
   "id": "9f612a4e",
   "metadata": {},
   "outputs": [
    {
     "data": {
      "text/plain": [
       "1.0"
      ]
     },
     "execution_count": 33,
     "metadata": {},
     "output_type": "execute_result"
    }
   ],
   "source": [
    "pred = {R_PFK: ['RHEA:16112']}\n",
    "reac_cl.getAccuracy(pred_annotation=pred)"
   ]
  },
  {
   "cell_type": "code",
   "execution_count": null,
   "id": "ffd14fe8",
   "metadata": {},
   "outputs": [],
   "source": []
  }
 ],
 "metadata": {
  "kernelspec": {
   "display_name": "pyo",
   "language": "python",
   "name": "pyo"
  },
  "language_info": {
   "codemirror_mode": {
    "name": "ipython",
    "version": 3
   },
   "file_extension": ".py",
   "mimetype": "text/x-python",
   "name": "python",
   "nbconvert_exporter": "python",
   "pygments_lexer": "ipython3",
   "version": "3.8.8"
  }
 },
 "nbformat": 4,
 "nbformat_minor": 5
}
