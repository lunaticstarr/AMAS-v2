{
 "cells": [
  {
   "cell_type": "code",
   "execution_count": 1,
   "id": "95abd553",
   "metadata": {},
   "outputs": [],
   "source": [
    "# Update reaction annotations\n",
    "import collections\n",
    "import itertools\n",
    "import libsbml\n",
    "import numpy as np\n",
    "import os\n",
    "import pickle\n",
    "import pandas as pd\n",
    "import sys\n",
    "import matplotlib.pyplot as plt\n",
    "%matplotlib inline  \n",
    "\n",
    "BIOMD_12 = 'BIOMD0000000012.xml'\n",
    "BASE_DIR = '/Users/woosubs/Desktop/AutomateAnnotation/'\n",
    "DATA_DIR = os.path.join(BASE_DIR, \"DATA\")\n",
    "ALGO_DIR = os.path.join(DATA_DIR, \"algo\")\n",
    "CHEBI_DIR = os.path.join(DATA_DIR, \"chebi\")\n",
    "RHEA_DIR = os.path.join(DATA_DIR, \"rhea\")\n",
    "BIOMODEL_DIR = os.path.join(DATA_DIR, \"biomodels/curated_biomodels_31mar2021\")\n",
    "BIGG_DIR = '/Users/woosubs/Desktop/AutomateAnnotation/DATA/bigg'\n",
    "ecoli_fpath = os.path.join(BIGG_DIR, \"e_coli_core.xml\")\n",
    "\n",
    "PROJ_DIR = os.path.join(os.getcwd(), os.pardir)\n",
    "AMAS_DIR = os.path.join(PROJ_DIR, \"AMAS\")\n",
    "sys.path.append(PROJ_DIR)\n",
    "\n",
    "from AMAS import species_annotation as sa\n",
    "from AMAS import reaction_annotation as ra\n",
    "from AMAS import constants as cn\n",
    "from AMAS import iterator as it\n",
    "from AMAS import tools"
   ]
  },
  {
   "cell_type": "code",
   "execution_count": 2,
   "id": "75596e94",
   "metadata": {},
   "outputs": [],
   "source": [
    "one_biomd = 'BIOMD0000000190.xml'\n",
    "one_biomd_fpath = os.path.join(BIOMODEL_DIR, one_biomd)\n",
    "reader = libsbml.SBMLReader()\n",
    "document = reader.readSBML(one_biomd_fpath)\n",
    "model = document.getModel()"
   ]
  },
  {
   "cell_type": "code",
   "execution_count": 4,
   "id": "9c6bb5ff",
   "metadata": {},
   "outputs": [],
   "source": [
    "BIOMD_248_PATH = os.path.join(cn.TEST_DIR, 'BIOMD0000000248.xml')\n",
    "# ID of a reaction\n",
    "R_PFK = 'R_PFK'\n",
    "ATP = 'M_atp_c'\n",
    "COMPONENTS = {'M_fdp_c', 'M_adp_c', 'M_atp_c', 'M_f6p_c', 'M_h_c'}\n",
    "ONE_CANDIDATE = 'RHEA:12423'\n",
    "ONE_CHEBI = 'CHEBI:30616'\n",
    "\n",
    "# Dummy data for calculating accuracy, recalll & precision\n",
    "DUMMY_REF = {'a': ['ABC', 'BCD'],\n",
    "              'b': ['DEF']}\n",
    "DUMMY_PRED = {'a': ['ABC'],\n",
    "             'b': ['AAA']}"
   ]
  },
  {
   "cell_type": "code",
   "execution_count": 28,
   "id": "6d5f21f1",
   "metadata": {},
   "outputs": [],
   "source": [
    "spec_cl = sa.SpeciesAnnotation(libsbml_fpath = ecoli_fpath)\n",
    "reac_cl = ra.ReactionAnnotation(libsbml_fpath = ecoli_fpath)\n",
    "pred_species = {val: spec_cl.predictAnnotationByEditDistance(inp_str=spec_cl.names[val]) \\\n",
    "                for val in COMPONENTS}\n",
    "spec_formula_dict = {val: pred_species[val][cn.FORMULA] for val in COMPONENTS}                                                             \n",
    "\n"
   ]
  },
  {
   "cell_type": "code",
   "execution_count": 29,
   "id": "97091731",
   "metadata": {},
   "outputs": [],
   "source": [
    "pred_reaction = reac_cl.predictAnnotation(inp_spec_dict=spec_formula_dict,\n",
    "                                          inp_reac_list=[R_PFK],\n",
    "                                          update=True)"
   ]
  },
  {
   "cell_type": "code",
   "execution_count": 30,
   "id": "e57ea97d",
   "metadata": {},
   "outputs": [
    {
     "name": "stdout",
     "output_type": "stream",
     "text": [
      "{'R_PFK': 0.9119592634489692}\n"
     ]
    }
   ],
   "source": [
    "one_eval = reac_cl.evaluatePredictedReactionAnnotation(inp_dict=pred_reaction)\n",
    "print(one_eval)"
   ]
  },
  {
   "cell_type": "code",
   "execution_count": 20,
   "id": "90ec9338",
   "metadata": {},
   "outputs": [],
   "source": [
    "match_scores_dict = pred_reaction[cn.MATCH_SCORE]"
   ]
  },
  {
   "cell_type": "code",
   "execution_count": 27,
   "id": "88fd4f1f",
   "metadata": {},
   "outputs": [
    {
     "data": {
      "text/plain": [
       "{'M_h_c': {'name_used': 'M_h_c',\n",
       "  'chebi': ['CHEBI:75949'],\n",
       "  'match_score': [('CHEBI:75949', 0.6)],\n",
       "  'formula': ['C8NO2']},\n",
       " 'M_adp_c': {'name_used': 'M_adp_c',\n",
       "  'chebi': ['CHEBI:147284', 'CHEBI:87194'],\n",
       "  'match_score': [('CHEBI:147284', 0.4), ('CHEBI:87194', 0.4)],\n",
       "  'formula': ['C20N2OS.ClH', 'C10MgN5O10P2']},\n",
       " 'M_fdp_c': {'name_used': 'M_fdp_c',\n",
       "  'chebi': ['CHEBI:132167',\n",
       "   'CHEBI:9437',\n",
       "   'CHEBI:137272',\n",
       "   'CHEBI:147284',\n",
       "   'CHEBI:183049',\n",
       "   'CHEBI:53005',\n",
       "   'CHEBI:75949',\n",
       "   'CHEBI:87194',\n",
       "   'CHEBI:59414',\n",
       "   'CHEBI:73629',\n",
       "   'CHEBI:38848',\n",
       "   'CHEBI:40265',\n",
       "   'CHEBI:53074',\n",
       "   'CHEBI:75062',\n",
       "   'CHEBI:37917',\n",
       "   'CHEBI:34756',\n",
       "   'CHEBI:34467'],\n",
       "  'match_score': [('CHEBI:132167', 0.33),\n",
       "   ('CHEBI:9437', 0.33),\n",
       "   ('CHEBI:137272', 0.29),\n",
       "   ('CHEBI:147284', 0.2),\n",
       "   ('CHEBI:183049', 0.2),\n",
       "   ('CHEBI:53005', 0.2),\n",
       "   ('CHEBI:75949', 0.2),\n",
       "   ('CHEBI:87194', 0.2),\n",
       "   ('CHEBI:59414', 0.18),\n",
       "   ('CHEBI:73629', 0.18),\n",
       "   ('CHEBI:38848', 0.12),\n",
       "   ('CHEBI:40265', 0.12),\n",
       "   ('CHEBI:53074', 0.12),\n",
       "   ('CHEBI:75062', 0.11),\n",
       "   ('CHEBI:37917', 0.1),\n",
       "   ('CHEBI:34756', 0.09),\n",
       "   ('CHEBI:34467', 0.07)],\n",
       "  'formula': ['C62NO26P2',\n",
       "   'C18N6O13P2',\n",
       "   'C20N2OS.ClH',\n",
       "   'C109N16O22S',\n",
       "   'C8NO2',\n",
       "   'C19N4O11',\n",
       "   'C15O',\n",
       "   'C38NO8P',\n",
       "   'C44N4O4',\n",
       "   'C8ClN7O',\n",
       "   'C21O8P',\n",
       "   'C40NO8P',\n",
       "   'C16N3O6S',\n",
       "   'C13NO2',\n",
       "   'C21N4O5S',\n",
       "   'C10F18',\n",
       "   'C10MgN5O10P2']},\n",
       " 'M_atp_c': {'name_used': 'M_atp_c',\n",
       "  'chebi': ['CHEBI:147284'],\n",
       "  'match_score': [('CHEBI:147284', 0.4)],\n",
       "  'formula': ['C20N2OS.ClH']},\n",
       " 'M_f6p_c': {'name_used': 'M_f6p_c',\n",
       "  'chebi': ['CHEBI:9437',\n",
       "   'CHEBI:137272',\n",
       "   'CHEBI:43896',\n",
       "   'CHEBI:147284',\n",
       "   'CHEBI:37928',\n",
       "   'CHEBI:53005',\n",
       "   'CHEBI:30708',\n",
       "   'CHEBI:37917',\n",
       "   'CHEBI:75062'],\n",
       "  'match_score': [('CHEBI:9437', 0.33),\n",
       "   ('CHEBI:137272', 0.29),\n",
       "   ('CHEBI:43896', 0.2),\n",
       "   ('CHEBI:147284', 0.2),\n",
       "   ('CHEBI:37928', 0.2),\n",
       "   ('CHEBI:53005', 0.2),\n",
       "   ('CHEBI:30708', 0.17),\n",
       "   ('CHEBI:37917', 0.12),\n",
       "   ('CHEBI:75062', 0.11)],\n",
       "  'formula': ['C62NO26P2',\n",
       "   'C20N2OS.ClH',\n",
       "   'F6Mo',\n",
       "   'C38NO8P',\n",
       "   'C44N4O4',\n",
       "   'C21O8P',\n",
       "   'C6O9P',\n",
       "   'C21NO5S',\n",
       "   'C21N4O5S']}}"
      ]
     },
     "execution_count": 27,
     "metadata": {},
     "output_type": "execute_result"
    }
   ],
   "source": [
    "pred_species"
   ]
  },
  {
   "cell_type": "code",
   "execution_count": 21,
   "id": "ef55063a",
   "metadata": {},
   "outputs": [
    {
     "data": {
      "text/plain": [
       "{'R_PFK': [('RHEA:10719', 1.0),\n",
       "  ('RHEA:11143', 1.0),\n",
       "  ('RHEA:11819', 1.0),\n",
       "  ('RHEA:12359', 1.0),\n",
       "  ('RHEA:13036', 1.0),\n",
       "  ('RHEA:13404', 1.0),\n",
       "  ('RHEA:16252', 1.0),\n",
       "  ('RHEA:20116', 1.0),\n",
       "  ('RHEA:23539', 1.0),\n",
       "  ('RHEA:25903', 1.0),\n",
       "  ('RHEA:28429', 1.0),\n",
       "  ('RHEA:28433', 1.0),\n",
       "  ('RHEA:46491', 1.0),\n",
       "  ('RHEA:50727', 1.0),\n",
       "  ('RHEA:51715', 1.0),\n",
       "  ('RHEA:13992', 0.5),\n",
       "  ('RHEA:43811', 0.5),\n",
       "  ('RHEA:64411', 0.5),\n",
       "  ('RHEA:65711', 0.5),\n",
       "  ('RHEA:65715', 0.5),\n",
       "  ('RHEA:66035', 0.5),\n",
       "  ('RHEA:11215', 0.3333333333333333),\n",
       "  ('RHEA:12331', 0.3333333333333333),\n",
       "  ('RHEA:13180', 0.3333333333333333),\n",
       "  ('RHEA:14700', 0.3333333333333333),\n",
       "  ('RHEA:14928', 0.3333333333333333),\n",
       "  ('RHEA:15140', 0.3333333333333333),\n",
       "  ('RHEA:15844', 0.3333333333333333),\n",
       "  ('RHEA:15980', 0.3333333333333333),\n",
       "  ('RHEA:16044', 0.3333333333333333),\n",
       "  ('RHEA:16400', 0.3333333333333333),\n",
       "  ('RHEA:17092', 0.3333333333333333),\n",
       "  ('RHEA:17280', 0.3333333333333333),\n",
       "  ('RHEA:18176', 0.3333333333333333),\n",
       "  ('RHEA:19664', 0.3333333333333333),\n",
       "  ('RHEA:19840', 0.3333333333333333),\n",
       "  ('RHEA:20040', 0.3333333333333333),\n",
       "  ('RHEA:20867', 0.3333333333333333),\n",
       "  ('RHEA:23027', 0.3333333333333333),\n",
       "  ('RHEA:24467', 0.3333333333333333),\n",
       "  ('RHEA:25204', 0.3333333333333333),\n",
       "  ('RHEA:28005', 0.3333333333333333),\n",
       "  ('RHEA:28109', 0.3333333333333333),\n",
       "  ('RHEA:28806', 0.3333333333333333),\n",
       "  ('RHEA:30162', 0.3333333333333333),\n",
       "  ('RHEA:30462', 0.3333333333333333),\n",
       "  ('RHEA:30854', 0.3333333333333333),\n",
       "  ('RHEA:31798', 0.3333333333333333),\n",
       "  ('RHEA:32330', 0.3333333333333333),\n",
       "  ('RHEA:32886', 0.3333333333333333),\n",
       "  ('RHEA:33074', 0.3333333333333333),\n",
       "  ('RHEA:33518', 0.3333333333333333),\n",
       "  ('RHEA:34722', 0.3333333333333333),\n",
       "  ('RHEA:34746', 0.3333333333333333),\n",
       "  ('RHEA:37170', 0.3333333333333333),\n",
       "  ('RHEA:37550', 0.3333333333333333),\n",
       "  ('RHEA:38218', 0.3333333333333333),\n",
       "  ('RHEA:38306', 0.3333333333333333),\n",
       "  ('RHEA:38866', 0.3333333333333333),\n",
       "  ('RHEA:40882', 0.3333333333333333),\n",
       "  ('RHEA:40910', 0.3333333333333333),\n",
       "  ('RHEA:41735', 0.3333333333333333),\n",
       "  ('RHEA:45775', 0.3333333333333333),\n",
       "  ('RHEA:47687', 0.3333333333333333),\n",
       "  ('RHEA:49411', 0.3333333333333333),\n",
       "  ('RHEA:50731', 0.3333333333333333),\n",
       "  ('RHEA:54491', 0.3333333333333333),\n",
       "  ('RHEA:55215', 0.3333333333333333),\n",
       "  ('RHEA:60715', 0.3333333333333333),\n",
       "  ('RHEA:62075', 0.3333333333333333),\n",
       "  ('RHEA:62079', 0.3333333333333333),\n",
       "  ('RHEA:66599', 0.3333333333333333),\n",
       "  ('RHEA:66603', 0.3333333333333333),\n",
       "  ('RHEA:10775', 0.25),\n",
       "  ('RHEA:11067', 0.25),\n",
       "  ('RHEA:11179', 0.25),\n",
       "  ('RHEA:11567', 0.25),\n",
       "  ('RHEA:12175', 0.25),\n",
       "  ('RHEA:12195', 0.25),\n",
       "  ('RHEA:12275', 0.25),\n",
       "  ('RHEA:12299', 0.25),\n",
       "  ('RHEA:12559', 0.25),\n",
       "  ('RHEA:13148', 0.25),\n",
       "  ('RHEA:13240', 0.25),\n",
       "  ('RHEA:13336', 0.25),\n",
       "  ('RHEA:14488', 0.25),\n",
       "  ('RHEA:15556', 0.25),\n",
       "  ('RHEA:15948', 0.25),\n",
       "  ('RHEA:16176', 0.25),\n",
       "  ('RHEA:16260', 0.25),\n",
       "  ('RHEA:16620', 0.25),\n",
       "  ('RHEA:16692', 0.25),\n",
       "  ('RHEA:17056', 0.25),\n",
       "  ('RHEA:17292', 0.25),\n",
       "  ('RHEA:18444', 0.25),\n",
       "  ('RHEA:19496', 0.25),\n",
       "  ('RHEA:19540', 0.25),\n",
       "  ('RHEA:19936', 0.25),\n",
       "  ('RHEA:20288', 0.25),\n",
       "  ('RHEA:20412', 0.25),\n",
       "  ('RHEA:20424', 0.25),\n",
       "  ('RHEA:21119', 0.25),\n",
       "  ('RHEA:21291', 0.25),\n",
       "  ('RHEA:21759', 0.25),\n",
       "  ('RHEA:22039', 0.25),\n",
       "  ('RHEA:22323', 0.25),\n",
       "  ('RHEA:22439', 0.25),\n",
       "  ('RHEA:22879', 0.25),\n",
       "  ('RHEA:23011', 0.25),\n",
       "  ('RHEA:23515', 0.25),\n",
       "  ('RHEA:24051', 0.25),\n",
       "  ('RHEA:24059', 0.25),\n",
       "  ('RHEA:24571', 0.25),\n",
       "  ('RHEA:24583', 0.25),\n",
       "  ('RHEA:26118', 0.25),\n",
       "  ('RHEA:26352', 0.25),\n",
       "  ('RHEA:26477', 0.25),\n",
       "  ('RHEA:27297', 0.25),\n",
       "  ('RHEA:27529', 0.25),\n",
       "  ('RHEA:27533', 0.25),\n",
       "  ('RHEA:27537', 0.25),\n",
       "  ('RHEA:27629', 0.25),\n",
       "  ('RHEA:27673', 0.25),\n",
       "  ('RHEA:27869', 0.25),\n",
       "  ('RHEA:27957', 0.25),\n",
       "  ('RHEA:28293', 0.25),\n",
       "  ('RHEA:28385', 0.25),\n",
       "  ('RHEA:28513', 0.25),\n",
       "  ('RHEA:28557', 0.25),\n",
       "  ('RHEA:28561', 0.25),\n",
       "  ('RHEA:29318', 0.25),\n",
       "  ('RHEA:29482', 0.25),\n",
       "  ('RHEA:29498', 0.25),\n",
       "  ('RHEA:29506', 0.25),\n",
       "  ('RHEA:29650', 0.25),\n",
       "  ('RHEA:29686', 0.25),\n",
       "  ('RHEA:29690', 0.25),\n",
       "  ('RHEA:29694', 0.25),\n",
       "  ('RHEA:30374', 0.25),\n",
       "  ('RHEA:30738', 0.25),\n",
       "  ('RHEA:30742', 0.25),\n",
       "  ('RHEA:30950', 0.25),\n",
       "  ('RHEA:30954', 0.25),\n",
       "  ('RHEA:31826', 0.25),\n",
       "  ('RHEA:32014', 0.25),\n",
       "  ('RHEA:32026', 0.25),\n",
       "  ('RHEA:32262', 0.25),\n",
       "  ('RHEA:32526', 0.25),\n",
       "  ('RHEA:32534', 0.25),\n",
       "  ('RHEA:33130', 0.25),\n",
       "  ('RHEA:33366', 0.25),\n",
       "  ('RHEA:33370', 0.25),\n",
       "  ('RHEA:33794', 0.25),\n",
       "  ('RHEA:34210', 0.25),\n",
       "  ('RHEA:34506', 0.25),\n",
       "  ('RHEA:35606', 0.25),\n",
       "  ('RHEA:35986', 0.25),\n",
       "  ('RHEA:36066', 0.25),\n",
       "  ('RHEA:36106', 0.25),\n",
       "  ('RHEA:37210', 0.25),\n",
       "  ('RHEA:37486', 0.25),\n",
       "  ('RHEA:37554', 0.25),\n",
       "  ('RHEA:37658', 0.25),\n",
       "  ('RHEA:37662', 0.25),\n",
       "  ('RHEA:37870', 0.25),\n",
       "  ('RHEA:41367', 0.25),\n",
       "  ('RHEA:42407', 0.25),\n",
       "  ('RHEA:42439', 0.25),\n",
       "  ('RHEA:42487', 0.25),\n",
       "  ('RHEA:43063', 0.25),\n",
       "  ('RHEA:43235', 0.25),\n",
       "  ('RHEA:43327', 0.25),\n",
       "  ('RHEA:43391', 0.25),\n",
       "  ('RHEA:43907', 0.25),\n",
       "  ('RHEA:44155', 0.25),\n",
       "  ('RHEA:44159', 0.25),\n",
       "  ('RHEA:44163', 0.25),\n",
       "  ('RHEA:44907', 0.25),\n",
       "  ('RHEA:47683', 0.25),\n",
       "  ('RHEA:48135', 0.25),\n",
       "  ('RHEA:49235', 0.25),\n",
       "  ('RHEA:49251', 0.25),\n",
       "  ('RHEA:49255', 0.25),\n",
       "  ('RHEA:49263', 0.25),\n",
       "  ('RHEA:49299', 0.25),\n",
       "  ('RHEA:49407', 0.25),\n",
       "  ('RHEA:52203', 0.25),\n",
       "  ('RHEA:53619', 0.25),\n",
       "  ('RHEA:53647', 0.25),\n",
       "  ('RHEA:53651', 0.25),\n",
       "  ('RHEA:54047', 0.25),\n",
       "  ('RHEA:54051', 0.25),\n",
       "  ('RHEA:54055', 0.25),\n",
       "  ('RHEA:54059', 0.25),\n",
       "  ('RHEA:54063', 0.25),\n",
       "  ('RHEA:54067', 0.25),\n",
       "  ('RHEA:54375', 0.25),\n",
       "  ('RHEA:54383', 0.25),\n",
       "  ('RHEA:55271', 0.25),\n",
       "  ('RHEA:56419', 0.25),\n",
       "  ('RHEA:56987', 0.25),\n",
       "  ('RHEA:57843', 0.25),\n",
       "  ('RHEA:60427', 0.25),\n",
       "  ('RHEA:61523', 0.25),\n",
       "  ('RHEA:63767', 0.25),\n",
       "  ('RHEA:63831', 0.25),\n",
       "  ('RHEA:64231', 0.25),\n",
       "  ('RHEA:65131', 0.25),\n",
       "  ('RHEA:65139', 0.25),\n",
       "  ('RHEA:66559', 0.25),\n",
       "  ('RHEA:66639', 0.25),\n",
       "  ('RHEA:66643', 0.25),\n",
       "  ('RHEA:66647', 0.25),\n",
       "  ('RHEA:10711', 0.2),\n",
       "  ('RHEA:10975', 0.2),\n",
       "  ('RHEA:11031', 0.2),\n",
       "  ('RHEA:11463', 0.2),\n",
       "  ('RHEA:12123', 0.2),\n",
       "  ('RHEA:12183', 0.2),\n",
       "  ('RHEA:12199', 0.2),\n",
       "  ('RHEA:12423', 0.2),\n",
       "  ('RHEA:12856', 0.2),\n",
       "  ('RHEA:12908', 0.2),\n",
       "  ('RHEA:13080', 0.2),\n",
       "  ('RHEA:13380', 0.2),\n",
       "  ('RHEA:13500', 0.2),\n",
       "  ('RHEA:13556', 0.2),\n",
       "  ('RHEA:13616', 0.2),\n",
       "  ('RHEA:14036', 0.2),\n",
       "  ('RHEA:14212', 0.2),\n",
       "  ('RHEA:14216', 0.2),\n",
       "  ('RHEA:14608', 0.2),\n",
       "  ('RHEA:14800', 0.2),\n",
       "  ('RHEA:14808', 0.2),\n",
       "  ('RHEA:15228', 0.2),\n",
       "  ('RHEA:15232', 0.2),\n",
       "  ('RHEA:15516', 0.2),\n",
       "  ('RHEA:15656', 0.2),\n",
       "  ('RHEA:15964', 0.2),\n",
       "  ('RHEA:16112', 0.2),\n",
       "  ('RHEA:16128', 0.2),\n",
       "  ('RHEA:16528', 0.2),\n",
       "  ('RHEA:16772', 0.2),\n",
       "  ('RHEA:17168', 0.2),\n",
       "  ('RHEA:17828', 0.2),\n",
       "  ('RHEA:18048', 0.2),\n",
       "  ('RHEA:18148', 0.2),\n",
       "  ('RHEA:18216', 0.2),\n",
       "  ('RHEA:18404', 0.2),\n",
       "  ('RHEA:18892', 0.2),\n",
       "  ('RHEA:19120', 0.2),\n",
       "  ('RHEA:19448', 0.2),\n",
       "  ('RHEA:19892', 0.2),\n",
       "  ('RHEA:20108', 0.2),\n",
       "  ('RHEA:21807', 0.2),\n",
       "  ('RHEA:22175', 0.2),\n",
       "  ('RHEA:22743', 0.2),\n",
       "  ('RHEA:22799', 0.2),\n",
       "  ('RHEA:23047', 0.2),\n",
       "  ('RHEA:24219', 0.2),\n",
       "  ('RHEA:25983', 0.2),\n",
       "  ('RHEA:25991', 0.2),\n",
       "  ('RHEA:26042', 0.2),\n",
       "  ('RHEA:26191', 0.2),\n",
       "  ('RHEA:27701', 0.2),\n",
       "  ('RHEA:27949', 0.2),\n",
       "  ('RHEA:27981', 0.2),\n",
       "  ('RHEA:28630', 0.2),\n",
       "  ('RHEA:29554', 0.2),\n",
       "  ('RHEA:29558', 0.2),\n",
       "  ('RHEA:30166', 0.2),\n",
       "  ('RHEA:30234', 0.2),\n",
       "  ('RHEA:30390', 0.2),\n",
       "  ('RHEA:30650', 0.2),\n",
       "  ('RHEA:30670', 0.2),\n",
       "  ('RHEA:31330', 0.2),\n",
       "  ('RHEA:31710', 0.2),\n",
       "  ('RHEA:33010', 0.2),\n",
       "  ('RHEA:36498', 0.2),\n",
       "  ('RHEA:36826', 0.2),\n",
       "  ('RHEA:40490', 0.2),\n",
       "  ('RHEA:40694', 0.2),\n",
       "  ('RHEA:40778', 0.2),\n",
       "  ('RHEA:40978', 0.2),\n",
       "  ('RHEA:41226', 0.2),\n",
       "  ('RHEA:41363', 0.2),\n",
       "  ('RHEA:41387', 0.2),\n",
       "  ('RHEA:43487', 0.2),\n",
       "  ('RHEA:44875', 0.2),\n",
       "  ('RHEA:45175', 0.2),\n",
       "  ('RHEA:45179', 0.2),\n",
       "  ('RHEA:45307', 0.2),\n",
       "  ('RHEA:45619', 0.2),\n",
       "  ('RHEA:47711', 0.2),\n",
       "  ('RHEA:49203', 0.2),\n",
       "  ('RHEA:50695', 0.2),\n",
       "  ('RHEA:51379', 0.2),\n",
       "  ('RHEA:51383', 0.2),\n",
       "  ('RHEA:51391', 0.2),\n",
       "  ('RHEA:51683', 0.2),\n",
       "  ('RHEA:52683', 0.2),\n",
       "  ('RHEA:53883', 0.2),\n",
       "  ('RHEA:53887', 0.2),\n",
       "  ('RHEA:53891', 0.2),\n",
       "  ('RHEA:54135', 0.2),\n",
       "  ('RHEA:54339', 0.2),\n",
       "  ('RHEA:54391', 0.2),\n",
       "  ('RHEA:54395', 0.2),\n",
       "  ('RHEA:54479', 0.2),\n",
       "  ('RHEA:54483', 0.2),\n",
       "  ('RHEA:55691', 0.2),\n",
       "  ('RHEA:55695', 0.2),\n",
       "  ('RHEA:56247', 0.2),\n",
       "  ('RHEA:57135', 0.2),\n",
       "  ('RHEA:57555', 0.2),\n",
       "  ('RHEA:57671', 0.2),\n",
       "  ('RHEA:60507', 0.2),\n",
       "  ('RHEA:60683', 0.2),\n",
       "  ('RHEA:60687', 0.2),\n",
       "  ('RHEA:60691', 0.2),\n",
       "  ('RHEA:60739', 0.2),\n",
       "  ('RHEA:61219', 0.2),\n",
       "  ('RHEA:61223', 0.2),\n",
       "  ('RHEA:61315', 0.2),\n",
       "  ('RHEA:61659', 0.2),\n",
       "  ('RHEA:62179', 0.2),\n",
       "  ('RHEA:63595', 0.2),\n",
       "  ('RHEA:63835', 0.2),\n",
       "  ('RHEA:66143', 0.2),\n",
       "  ('RHEA:23743', 0.16666666666666666),\n",
       "  ('RHEA:23963', 0.16666666666666666),\n",
       "  ('RHEA:25979', 0.16666666666666666),\n",
       "  ('RHEA:25987', 0.16666666666666666),\n",
       "  ('RHEA:28626', 0.16666666666666666),\n",
       "  ('RHEA:31702', 0.16666666666666666),\n",
       "  ('RHEA:31706', 0.16666666666666666),\n",
       "  ('RHEA:31922', 0.16666666666666666),\n",
       "  ('RHEA:31930', 0.16666666666666666),\n",
       "  ('RHEA:32442', 0.16666666666666666),\n",
       "  ('RHEA:32458', 0.16666666666666666),\n",
       "  ('RHEA:32494', 0.16666666666666666),\n",
       "  ('RHEA:33006', 0.16666666666666666),\n",
       "  ('RHEA:33014', 0.16666666666666666),\n",
       "  ('RHEA:43987', 0.16666666666666666),\n",
       "  ('RHEA:50735', 0.16666666666666666),\n",
       "  ('RHEA:52199', 0.16666666666666666),\n",
       "  ('RHEA:55507', 0.16666666666666666),\n",
       "  ('RHEA:57551', 0.16666666666666666),\n",
       "  ('RHEA:57559', 0.16666666666666666),\n",
       "  ('RHEA:57663', 0.16666666666666666),\n",
       "  ('RHEA:57667', 0.16666666666666666),\n",
       "  ('RHEA:57675', 0.16666666666666666),\n",
       "  ('RHEA:57679', 0.16666666666666666),\n",
       "  ('RHEA:61311', 0.16666666666666666),\n",
       "  ('RHEA:61319', 0.16666666666666666),\n",
       "  ('RHEA:66343', 0.16666666666666666),\n",
       "  ('RHEA:32314', 0.14285714285714285),\n",
       "  ('RHEA:55427', 0.14285714285714285)]}"
      ]
     },
     "execution_count": 21,
     "metadata": {},
     "output_type": "execute_result"
    }
   ],
   "source": [
    "match_scores_dict"
   ]
  },
  {
   "cell_type": "code",
   "execution_count": null,
   "id": "97bcab86",
   "metadata": {},
   "outputs": [],
   "source": []
  },
  {
   "cell_type": "code",
   "execution_count": null,
   "id": "3d05c7b5",
   "metadata": {},
   "outputs": [],
   "source": []
  },
  {
   "cell_type": "code",
   "execution_count": 22,
   "id": "fb0c436d",
   "metadata": {},
   "outputs": [],
   "source": [
    "from AMAS import recommender\n",
    "recom = recommender.Recommender(libsbml_fpath=ecoli_fpath)"
   ]
  },
  {
   "cell_type": "code",
   "execution_count": 25,
   "id": "c6022b0e",
   "metadata": {},
   "outputs": [
    {
     "data": {
      "text/plain": [
       "['RHEA:16112']"
      ]
     },
     "execution_count": 25,
     "metadata": {},
     "output_type": "execute_result"
    }
   ],
   "source": [
    "recom.reactions.exist_annotation[R_PFK]"
   ]
  },
  {
   "cell_type": "code",
   "execution_count": 26,
   "id": "95374413",
   "metadata": {},
   "outputs": [
    {
     "data": {
      "text/plain": [
       "Recommendation(id='R_PFK', credibility=0.91, candidates=[('RHEA:12423', 0.8), ('RHEA:13380', 0.8), ('RHEA:14216', 0.8), ('RHEA:15656', 0.8), ('RHEA:16112', 0.8), ('RHEA:20108', 0.8)], urls=['https://www.rhea-db.org/rhea/12423', 'https://www.rhea-db.org/rhea/13380', 'https://www.rhea-db.org/rhea/14216', 'https://www.rhea-db.org/rhea/15656', 'https://www.rhea-db.org/rhea/16112', 'https://www.rhea-db.org/rhea/20108'])"
      ]
     },
     "execution_count": 26,
     "metadata": {},
     "output_type": "execute_result"
    }
   ],
   "source": [
    "recom.getReactionAnnotation(pred_id=R_PFK)"
   ]
  },
  {
   "cell_type": "code",
   "execution_count": null,
   "id": "c93fdc8d",
   "metadata": {},
   "outputs": [],
   "source": []
  },
  {
   "cell_type": "code",
   "execution_count": 6,
   "id": "f6e61501",
   "metadata": {},
   "outputs": [],
   "source": [
    "# recom.reactions.reaction_components"
   ]
  },
  {
   "cell_type": "code",
   "execution_count": 7,
   "id": "df40c1a1",
   "metadata": {},
   "outputs": [],
   "source": [
    "R_PFK = 'R_PFK'\n",
    "ATP = 'M_atp_c'\n",
    "COMPONENTS = {'M_fdp_c', 'M_adp_c', 'M_atp_c', 'M_f6p_c', 'M_h_c'}\n",
    "ONE_CANDIDATE = 'RHEA:12423'\n",
    "ONE_CHEBI = 'CHEBI:30616'\n",
    "\n",
    "spec_cl = sa.SpeciesAnnotation(libsbml_fpath = ecoli_fpath)\n",
    "reac_cl = ra.ReactionAnnotation(libsbml_fpath = ecoli_fpath)\n",
    "pred_species = spec_cl.predictAnnotationByName(inp_spec_list=COMPONENTS)\n",
    "pred_reaction = reac_cl.predictAnnotation(inp_spec_dict=spec_cl.formula,\n",
    "                                          inp_reac_list=[R_PFK])"
   ]
  },
  {
   "cell_type": "code",
   "execution_count": 8,
   "id": "ba21ac87",
   "metadata": {},
   "outputs": [
    {
     "data": {
      "text/plain": [
       "{'R_PFK': 0.9119592634489692}"
      ]
     },
     "execution_count": 8,
     "metadata": {},
     "output_type": "execute_result"
    }
   ],
   "source": [
    "reac_cl.evaluatePredictedReactionAnnotation(inp_dict=pred_reaction)"
   ]
  },
  {
   "cell_type": "code",
   "execution_count": 9,
   "id": "6660b77d",
   "metadata": {},
   "outputs": [
    {
     "data": {
      "text/plain": [
       "1.0"
      ]
     },
     "execution_count": 9,
     "metadata": {},
     "output_type": "execute_result"
    }
   ],
   "source": [
    "one_pred_dict = pred_reaction['candidates']\n",
    "reac_cl.getRecall(pred_annotation=one_pred_dict)"
   ]
  },
  {
   "cell_type": "code",
   "execution_count": 10,
   "id": "4eb33c91",
   "metadata": {},
   "outputs": [
    {
     "data": {
      "text/plain": [
       "0.16666666666666666"
      ]
     },
     "execution_count": 10,
     "metadata": {},
     "output_type": "execute_result"
    }
   ],
   "source": [
    "reac_cl.getPrecision(pred_annotation=one_pred_dict)"
   ]
  },
  {
   "cell_type": "code",
   "execution_count": 12,
   "id": "7f4d1659",
   "metadata": {},
   "outputs": [
    {
     "data": {
      "text/plain": [
       "{'R_PFK': Index(['RHEA:12423', 'RHEA:13380', 'RHEA:14216', 'RHEA:15656', 'RHEA:16112',\n",
       "        'RHEA:20108'],\n",
       "       dtype='object')}"
      ]
     },
     "execution_count": 12,
     "metadata": {},
     "output_type": "execute_result"
    }
   ],
   "source": [
    "pred_reaction['candidates']"
   ]
  },
  {
   "cell_type": "code",
   "execution_count": 9,
   "id": "e5abbc9a",
   "metadata": {},
   "outputs": [],
   "source": [
    "inp_dict = pred_reaction\n",
    "\n",
    "candidates_dict = inp_dict['candidates']\n",
    "\n",
    "cands_num_dict = {one_k: len(candidates_dict[one_k]) for one_k in candidates_dict.keys()}\n",
    "inp_list = list(inp_dict['candidates'].keys())\n",
    "num_candidates = [cands_num_dict[val] for val in inp_list]\n",
    "# num_candidates = [len(candidates_info[val]) for val in inp_list]\n",
    "multi_mat = ra.ref_mat.dot(inp_dict[cn.QUERY_DF])\n",
    "maxes = multi_mat.max()\n",
    "\n",
    "\n",
    "\n",
    "max_match = [maxes[val] for val in inp_list]\n",
    "\n",
    "match_scores = inp_dict[cn.MATCH_SCORE]\n",
    "\n",
    "\n",
    "mean_match_score = [np.mean([val[1] for val in match_scores[k]]) for k in inp_list]\n",
    "# med_match_score = [np.median([val[1] for val in match_scores[k]]) for k in inp_list]\n",
    "# min_match_score = [np.min([val[1] for val in match_scores[k]]) for k in inp_list]\n",
    "# max_match_score = [np.max([val[1] for val in match_scores[k]]) for k in inp_list]\n",
    "# var_match_score = [np.var([val[1] for val in match_scores[k]]) for k in inp_list]\n",
    "# data2prediction = list(zip(num_candidates,\n",
    "#                            max_match,\n",
    "#                            mean_match_score,\n",
    "#                            med_match_score,\n",
    "#                            min_match_score,\n",
    "#                            max_match_score,\n",
    "#                            var_match_score))\n",
    "# pred_probs = fitted_model.predict(data2prediction)\n",
    "# # Collect probability to be correct\n",
    "# res = {val[0]:val[1] for val in list(zip(inp_list, pred_probs))}"
   ]
  },
  {
   "cell_type": "code",
   "execution_count": 28,
   "id": "3dc7bd39",
   "metadata": {},
   "outputs": [
    {
     "data": {
      "text/plain": [
       "[0.7999999999999999]"
      ]
     },
     "execution_count": 28,
     "metadata": {},
     "output_type": "execute_result"
    }
   ],
   "source": [
    "mean_match_score"
   ]
  },
  {
   "cell_type": "code",
   "execution_count": null,
   "id": "f41c7e98",
   "metadata": {},
   "outputs": [],
   "source": []
  },
  {
   "cell_type": "code",
   "execution_count": 8,
   "id": "c9dab733",
   "metadata": {},
   "outputs": [
    {
     "ename": "KeyError",
     "evalue": "'candidates'",
     "output_type": "error",
     "traceback": [
      "\u001b[0;31m---------------------------------------------------------------------------\u001b[0m",
      "\u001b[0;31mKeyError\u001b[0m                                  Traceback (most recent call last)",
      "\u001b[0;32m~/anaconda3/envs/pyo/lib/python3.8/site-packages/pandas/core/indexes/base.py\u001b[0m in \u001b[0;36mget_loc\u001b[0;34m(self, key, method, tolerance)\u001b[0m\n\u001b[1;32m   3079\u001b[0m             \u001b[0;32mtry\u001b[0m\u001b[0;34m:\u001b[0m\u001b[0;34m\u001b[0m\u001b[0;34m\u001b[0m\u001b[0m\n\u001b[0;32m-> 3080\u001b[0;31m                 \u001b[0;32mreturn\u001b[0m \u001b[0mself\u001b[0m\u001b[0;34m.\u001b[0m\u001b[0m_engine\u001b[0m\u001b[0;34m.\u001b[0m\u001b[0mget_loc\u001b[0m\u001b[0;34m(\u001b[0m\u001b[0mcasted_key\u001b[0m\u001b[0;34m)\u001b[0m\u001b[0;34m\u001b[0m\u001b[0;34m\u001b[0m\u001b[0m\n\u001b[0m\u001b[1;32m   3081\u001b[0m             \u001b[0;32mexcept\u001b[0m \u001b[0mKeyError\u001b[0m \u001b[0;32mas\u001b[0m \u001b[0merr\u001b[0m\u001b[0;34m:\u001b[0m\u001b[0;34m\u001b[0m\u001b[0;34m\u001b[0m\u001b[0m\n",
      "\u001b[0;32mpandas/_libs/index.pyx\u001b[0m in \u001b[0;36mpandas._libs.index.IndexEngine.get_loc\u001b[0;34m()\u001b[0m\n",
      "\u001b[0;32mpandas/_libs/index.pyx\u001b[0m in \u001b[0;36mpandas._libs.index.IndexEngine.get_loc\u001b[0;34m()\u001b[0m\n",
      "\u001b[0;32mpandas/_libs/hashtable_class_helper.pxi\u001b[0m in \u001b[0;36mpandas._libs.hashtable.PyObjectHashTable.get_item\u001b[0;34m()\u001b[0m\n",
      "\u001b[0;32mpandas/_libs/hashtable_class_helper.pxi\u001b[0m in \u001b[0;36mpandas._libs.hashtable.PyObjectHashTable.get_item\u001b[0;34m()\u001b[0m\n",
      "\u001b[0;31mKeyError\u001b[0m: 'candidates'",
      "\nThe above exception was the direct cause of the following exception:\n",
      "\u001b[0;31mKeyError\u001b[0m                                  Traceback (most recent call last)",
      "\u001b[0;32m<ipython-input-8-09a833117810>\u001b[0m in \u001b[0;36m<module>\u001b[0;34m\u001b[0m\n\u001b[0;32m----> 1\u001b[0;31m \u001b[0mreac_cl\u001b[0m\u001b[0;34m.\u001b[0m\u001b[0mevaluatePredictedReactionAnnotation\u001b[0m\u001b[0;34m(\u001b[0m\u001b[0minp_dict\u001b[0m\u001b[0;34m=\u001b[0m\u001b[0mpred_reaction\u001b[0m\u001b[0;34m)\u001b[0m\u001b[0;34m\u001b[0m\u001b[0;34m\u001b[0m\u001b[0m\n\u001b[0m",
      "\u001b[0;32m~/Desktop/AutomateAnnotation/AMAS/notebooks/../AMAS/reaction_annotation.py\u001b[0m in \u001b[0;36mevaluatePredictedReactionAnnotation\u001b[0;34m(self, inp_dict, fitted_model)\u001b[0m\n\u001b[1;32m    393\u001b[0m     \u001b[0mmulti_mat\u001b[0m \u001b[0;34m=\u001b[0m \u001b[0mref_mat\u001b[0m\u001b[0;34m.\u001b[0m\u001b[0mdot\u001b[0m\u001b[0;34m(\u001b[0m\u001b[0minp_dict\u001b[0m\u001b[0;34m[\u001b[0m\u001b[0mcn\u001b[0m\u001b[0;34m.\u001b[0m\u001b[0mQUERY_DF\u001b[0m\u001b[0;34m]\u001b[0m\u001b[0;34m)\u001b[0m\u001b[0;34m\u001b[0m\u001b[0;34m\u001b[0m\u001b[0m\n\u001b[1;32m    394\u001b[0m     \u001b[0mmaxes\u001b[0m \u001b[0;34m=\u001b[0m \u001b[0mmulti_mat\u001b[0m\u001b[0;34m.\u001b[0m\u001b[0mmax\u001b[0m\u001b[0;34m(\u001b[0m\u001b[0;34m)\u001b[0m\u001b[0;34m\u001b[0m\u001b[0;34m\u001b[0m\u001b[0m\n\u001b[0;32m--> 395\u001b[0;31m     \u001b[0mmax_match\u001b[0m \u001b[0;34m=\u001b[0m \u001b[0;34m[\u001b[0m\u001b[0mmaxes\u001b[0m\u001b[0;34m[\u001b[0m\u001b[0mval\u001b[0m\u001b[0;34m]\u001b[0m \u001b[0;32mfor\u001b[0m \u001b[0mval\u001b[0m \u001b[0;32min\u001b[0m \u001b[0minp_list\u001b[0m\u001b[0;34m]\u001b[0m\u001b[0;34m\u001b[0m\u001b[0;34m\u001b[0m\u001b[0m\n\u001b[0m\u001b[1;32m    396\u001b[0m     \u001b[0mmatch_scores\u001b[0m \u001b[0;34m=\u001b[0m \u001b[0mself\u001b[0m\u001b[0;34m.\u001b[0m\u001b[0mmatch_score\u001b[0m\u001b[0;34m\u001b[0m\u001b[0;34m\u001b[0m\u001b[0m\n\u001b[1;32m    397\u001b[0m     \u001b[0mmean_match_score\u001b[0m \u001b[0;34m=\u001b[0m \u001b[0;34m[\u001b[0m\u001b[0mnp\u001b[0m\u001b[0;34m.\u001b[0m\u001b[0mmean\u001b[0m\u001b[0;34m(\u001b[0m\u001b[0;34m[\u001b[0m\u001b[0mval\u001b[0m\u001b[0;34m[\u001b[0m\u001b[0;36m1\u001b[0m\u001b[0;34m]\u001b[0m \u001b[0;32mfor\u001b[0m \u001b[0mval\u001b[0m \u001b[0;32min\u001b[0m \u001b[0mmatch_scores\u001b[0m\u001b[0;34m[\u001b[0m\u001b[0mk\u001b[0m\u001b[0;34m]\u001b[0m\u001b[0;34m]\u001b[0m\u001b[0;34m)\u001b[0m \u001b[0;32mfor\u001b[0m \u001b[0mk\u001b[0m \u001b[0;32min\u001b[0m \u001b[0minp_list\u001b[0m\u001b[0;34m]\u001b[0m\u001b[0;34m\u001b[0m\u001b[0;34m\u001b[0m\u001b[0m\n",
      "\u001b[0;32m~/Desktop/AutomateAnnotation/AMAS/notebooks/../AMAS/reaction_annotation.py\u001b[0m in \u001b[0;36m<listcomp>\u001b[0;34m(.0)\u001b[0m\n\u001b[1;32m    393\u001b[0m     \u001b[0mmulti_mat\u001b[0m \u001b[0;34m=\u001b[0m \u001b[0mref_mat\u001b[0m\u001b[0;34m.\u001b[0m\u001b[0mdot\u001b[0m\u001b[0;34m(\u001b[0m\u001b[0minp_dict\u001b[0m\u001b[0;34m[\u001b[0m\u001b[0mcn\u001b[0m\u001b[0;34m.\u001b[0m\u001b[0mQUERY_DF\u001b[0m\u001b[0;34m]\u001b[0m\u001b[0;34m)\u001b[0m\u001b[0;34m\u001b[0m\u001b[0;34m\u001b[0m\u001b[0m\n\u001b[1;32m    394\u001b[0m     \u001b[0mmaxes\u001b[0m \u001b[0;34m=\u001b[0m \u001b[0mmulti_mat\u001b[0m\u001b[0;34m.\u001b[0m\u001b[0mmax\u001b[0m\u001b[0;34m(\u001b[0m\u001b[0;34m)\u001b[0m\u001b[0;34m\u001b[0m\u001b[0;34m\u001b[0m\u001b[0m\n\u001b[0;32m--> 395\u001b[0;31m     \u001b[0mmax_match\u001b[0m \u001b[0;34m=\u001b[0m \u001b[0;34m[\u001b[0m\u001b[0mmaxes\u001b[0m\u001b[0;34m[\u001b[0m\u001b[0mval\u001b[0m\u001b[0;34m]\u001b[0m \u001b[0;32mfor\u001b[0m \u001b[0mval\u001b[0m \u001b[0;32min\u001b[0m \u001b[0minp_list\u001b[0m\u001b[0;34m]\u001b[0m\u001b[0;34m\u001b[0m\u001b[0;34m\u001b[0m\u001b[0m\n\u001b[0m\u001b[1;32m    396\u001b[0m     \u001b[0mmatch_scores\u001b[0m \u001b[0;34m=\u001b[0m \u001b[0mself\u001b[0m\u001b[0;34m.\u001b[0m\u001b[0mmatch_score\u001b[0m\u001b[0;34m\u001b[0m\u001b[0;34m\u001b[0m\u001b[0m\n\u001b[1;32m    397\u001b[0m     \u001b[0mmean_match_score\u001b[0m \u001b[0;34m=\u001b[0m \u001b[0;34m[\u001b[0m\u001b[0mnp\u001b[0m\u001b[0;34m.\u001b[0m\u001b[0mmean\u001b[0m\u001b[0;34m(\u001b[0m\u001b[0;34m[\u001b[0m\u001b[0mval\u001b[0m\u001b[0;34m[\u001b[0m\u001b[0;36m1\u001b[0m\u001b[0;34m]\u001b[0m \u001b[0;32mfor\u001b[0m \u001b[0mval\u001b[0m \u001b[0;32min\u001b[0m \u001b[0mmatch_scores\u001b[0m\u001b[0;34m[\u001b[0m\u001b[0mk\u001b[0m\u001b[0;34m]\u001b[0m\u001b[0;34m]\u001b[0m\u001b[0;34m)\u001b[0m \u001b[0;32mfor\u001b[0m \u001b[0mk\u001b[0m \u001b[0;32min\u001b[0m \u001b[0minp_list\u001b[0m\u001b[0;34m]\u001b[0m\u001b[0;34m\u001b[0m\u001b[0;34m\u001b[0m\u001b[0m\n",
      "\u001b[0;32m~/anaconda3/envs/pyo/lib/python3.8/site-packages/pandas/core/series.py\u001b[0m in \u001b[0;36m__getitem__\u001b[0;34m(self, key)\u001b[0m\n\u001b[1;32m    851\u001b[0m \u001b[0;34m\u001b[0m\u001b[0m\n\u001b[1;32m    852\u001b[0m         \u001b[0;32melif\u001b[0m \u001b[0mkey_is_scalar\u001b[0m\u001b[0;34m:\u001b[0m\u001b[0;34m\u001b[0m\u001b[0;34m\u001b[0m\u001b[0m\n\u001b[0;32m--> 853\u001b[0;31m             \u001b[0;32mreturn\u001b[0m \u001b[0mself\u001b[0m\u001b[0;34m.\u001b[0m\u001b[0m_get_value\u001b[0m\u001b[0;34m(\u001b[0m\u001b[0mkey\u001b[0m\u001b[0;34m)\u001b[0m\u001b[0;34m\u001b[0m\u001b[0;34m\u001b[0m\u001b[0m\n\u001b[0m\u001b[1;32m    854\u001b[0m \u001b[0;34m\u001b[0m\u001b[0m\n\u001b[1;32m    855\u001b[0m         \u001b[0;32mif\u001b[0m \u001b[0mis_hashable\u001b[0m\u001b[0;34m(\u001b[0m\u001b[0mkey\u001b[0m\u001b[0;34m)\u001b[0m\u001b[0;34m:\u001b[0m\u001b[0;34m\u001b[0m\u001b[0;34m\u001b[0m\u001b[0m\n",
      "\u001b[0;32m~/anaconda3/envs/pyo/lib/python3.8/site-packages/pandas/core/series.py\u001b[0m in \u001b[0;36m_get_value\u001b[0;34m(self, label, takeable)\u001b[0m\n\u001b[1;32m    959\u001b[0m \u001b[0;34m\u001b[0m\u001b[0m\n\u001b[1;32m    960\u001b[0m         \u001b[0;31m# Similar to Index.get_value, but we do not fall back to positional\u001b[0m\u001b[0;34m\u001b[0m\u001b[0;34m\u001b[0m\u001b[0;34m\u001b[0m\u001b[0m\n\u001b[0;32m--> 961\u001b[0;31m         \u001b[0mloc\u001b[0m \u001b[0;34m=\u001b[0m \u001b[0mself\u001b[0m\u001b[0;34m.\u001b[0m\u001b[0mindex\u001b[0m\u001b[0;34m.\u001b[0m\u001b[0mget_loc\u001b[0m\u001b[0;34m(\u001b[0m\u001b[0mlabel\u001b[0m\u001b[0;34m)\u001b[0m\u001b[0;34m\u001b[0m\u001b[0;34m\u001b[0m\u001b[0m\n\u001b[0m\u001b[1;32m    962\u001b[0m         \u001b[0;32mreturn\u001b[0m \u001b[0mself\u001b[0m\u001b[0;34m.\u001b[0m\u001b[0mindex\u001b[0m\u001b[0;34m.\u001b[0m\u001b[0m_get_values_for_loc\u001b[0m\u001b[0;34m(\u001b[0m\u001b[0mself\u001b[0m\u001b[0;34m,\u001b[0m \u001b[0mloc\u001b[0m\u001b[0;34m,\u001b[0m \u001b[0mlabel\u001b[0m\u001b[0;34m)\u001b[0m\u001b[0;34m\u001b[0m\u001b[0;34m\u001b[0m\u001b[0m\n\u001b[1;32m    963\u001b[0m \u001b[0;34m\u001b[0m\u001b[0m\n",
      "\u001b[0;32m~/anaconda3/envs/pyo/lib/python3.8/site-packages/pandas/core/indexes/base.py\u001b[0m in \u001b[0;36mget_loc\u001b[0;34m(self, key, method, tolerance)\u001b[0m\n\u001b[1;32m   3080\u001b[0m                 \u001b[0;32mreturn\u001b[0m \u001b[0mself\u001b[0m\u001b[0;34m.\u001b[0m\u001b[0m_engine\u001b[0m\u001b[0;34m.\u001b[0m\u001b[0mget_loc\u001b[0m\u001b[0;34m(\u001b[0m\u001b[0mcasted_key\u001b[0m\u001b[0;34m)\u001b[0m\u001b[0;34m\u001b[0m\u001b[0;34m\u001b[0m\u001b[0m\n\u001b[1;32m   3081\u001b[0m             \u001b[0;32mexcept\u001b[0m \u001b[0mKeyError\u001b[0m \u001b[0;32mas\u001b[0m \u001b[0merr\u001b[0m\u001b[0;34m:\u001b[0m\u001b[0;34m\u001b[0m\u001b[0;34m\u001b[0m\u001b[0m\n\u001b[0;32m-> 3082\u001b[0;31m                 \u001b[0;32mraise\u001b[0m \u001b[0mKeyError\u001b[0m\u001b[0;34m(\u001b[0m\u001b[0mkey\u001b[0m\u001b[0;34m)\u001b[0m \u001b[0;32mfrom\u001b[0m \u001b[0merr\u001b[0m\u001b[0;34m\u001b[0m\u001b[0;34m\u001b[0m\u001b[0m\n\u001b[0m\u001b[1;32m   3083\u001b[0m \u001b[0;34m\u001b[0m\u001b[0m\n\u001b[1;32m   3084\u001b[0m         \u001b[0;32mif\u001b[0m \u001b[0mtolerance\u001b[0m \u001b[0;32mis\u001b[0m \u001b[0;32mnot\u001b[0m \u001b[0;32mNone\u001b[0m\u001b[0;34m:\u001b[0m\u001b[0;34m\u001b[0m\u001b[0;34m\u001b[0m\u001b[0m\n",
      "\u001b[0;31mKeyError\u001b[0m: 'candidates'"
     ]
    }
   ],
   "source": []
  },
  {
   "cell_type": "code",
   "execution_count": null,
   "id": "5545e2b0",
   "metadata": {},
   "outputs": [],
   "source": []
  },
  {
   "cell_type": "markdown",
   "id": "91749d17",
   "metadata": {},
   "source": [
    "# Updating test_reaction_annotation"
   ]
  },
  {
   "cell_type": "code",
   "execution_count": 10,
   "id": "03cb9b78",
   "metadata": {},
   "outputs": [],
   "source": [
    "R_PFK = 'R_PFK'\n",
    "ATP = 'M_atp_c'\n",
    "COMPONENTS = {'M_fdp_c', 'M_adp_c', 'M_atp_c', 'M_f6p_c', 'M_h_c'}\n",
    "ONE_CANDIDATE = 'RHEA:12423'\n",
    "ONE_CHEBI = 'CHEBI:30616'\n",
    "BIOMD_248_PATH = os.path.join(os.getcwd(), 'BIOMD0000000248.xml')\n",
    "E_COLI_PATH = os.path.join(BIGG_DIR, \"e_coli_core.xml\")\n",
    "\n",
    "from AMAS import recommender\n",
    "recom = recommender.Recommender(libsbml_fpath=ecoli_fpath)"
   ]
  },
  {
   "cell_type": "code",
   "execution_count": 12,
   "id": "d4db4822",
   "metadata": {},
   "outputs": [
    {
     "name": "stdout",
     "output_type": "stream",
     "text": [
      "{'R_PFK': 6}\n"
     ]
    }
   ],
   "source": [
    "inp_dict = pred_reaction['candidates']\n",
    "cands_num_dict = {one_k: len(inp_dict[one_k]) for one_k in inp_dict.keys()}\n",
    "print(cands_num_dict)"
   ]
  },
  {
   "cell_type": "code",
   "execution_count": 13,
   "id": "2f510b09",
   "metadata": {},
   "outputs": [
    {
     "ename": "IndexError",
     "evalue": "tuple index out of range",
     "output_type": "error",
     "traceback": [
      "\u001b[0;31m---------------------------------------------------------------------------\u001b[0m",
      "\u001b[0;31mIndexError\u001b[0m                                Traceback (most recent call last)",
      "\u001b[0;32m<ipython-input-13-7328222cb305>\u001b[0m in \u001b[0;36m<module>\u001b[0;34m\u001b[0m\n\u001b[0;32m----> 1\u001b[0;31m \u001b[0mreac_cl\u001b[0m\u001b[0;34m.\u001b[0m\u001b[0mevaluatePredictedReactionAnnotation\u001b[0m\u001b[0;34m(\u001b[0m\u001b[0minp_dict\u001b[0m\u001b[0;34m=\u001b[0m\u001b[0mpred_reaction\u001b[0m\u001b[0;34m[\u001b[0m\u001b[0;34m'candidates'\u001b[0m\u001b[0;34m]\u001b[0m\u001b[0;34m)\u001b[0m\u001b[0;34m\u001b[0m\u001b[0;34m\u001b[0m\u001b[0m\n\u001b[0m",
      "\u001b[0;32m~/Desktop/AutomateAnnotation/AMAS/notebooks/../AMAS/reaction_annotation.py\u001b[0m in \u001b[0;36mevaluatePredictedReactionAnnotation\u001b[0;34m(self, inp_dict, fitted_model)\u001b[0m\n\u001b[1;32m    391\u001b[0m     \u001b[0mnum_candidates\u001b[0m \u001b[0;34m=\u001b[0m \u001b[0;34m[\u001b[0m\u001b[0mcands_num_dict\u001b[0m\u001b[0;34m[\u001b[0m\u001b[0mval\u001b[0m\u001b[0;34m]\u001b[0m \u001b[0;32mfor\u001b[0m \u001b[0mval\u001b[0m \u001b[0;32min\u001b[0m \u001b[0minp_list\u001b[0m\u001b[0;34m]\u001b[0m\u001b[0;34m\u001b[0m\u001b[0;34m\u001b[0m\u001b[0m\n\u001b[1;32m    392\u001b[0m     \u001b[0;31m# num_candidates = [len(candidates_info[val]) for val in inp_list]\u001b[0m\u001b[0;34m\u001b[0m\u001b[0;34m\u001b[0m\u001b[0;34m\u001b[0m\u001b[0m\n\u001b[0;32m--> 393\u001b[0;31m     \u001b[0mmulti_mat\u001b[0m \u001b[0;34m=\u001b[0m \u001b[0mref_mat\u001b[0m\u001b[0;34m.\u001b[0m\u001b[0mdot\u001b[0m\u001b[0;34m(\u001b[0m\u001b[0mself\u001b[0m\u001b[0;34m.\u001b[0m\u001b[0mquery_df\u001b[0m\u001b[0;34m)\u001b[0m\u001b[0;34m\u001b[0m\u001b[0;34m\u001b[0m\u001b[0m\n\u001b[0m\u001b[1;32m    394\u001b[0m     \u001b[0mmaxes\u001b[0m \u001b[0;34m=\u001b[0m \u001b[0mmulti_mat\u001b[0m\u001b[0;34m.\u001b[0m\u001b[0mmax\u001b[0m\u001b[0;34m(\u001b[0m\u001b[0;34m)\u001b[0m\u001b[0;34m\u001b[0m\u001b[0;34m\u001b[0m\u001b[0m\n\u001b[1;32m    395\u001b[0m     \u001b[0mmax_match\u001b[0m \u001b[0;34m=\u001b[0m \u001b[0;34m[\u001b[0m\u001b[0mmaxes\u001b[0m\u001b[0;34m[\u001b[0m\u001b[0mval\u001b[0m\u001b[0;34m]\u001b[0m \u001b[0;32mfor\u001b[0m \u001b[0mval\u001b[0m \u001b[0;32min\u001b[0m \u001b[0minp_list\u001b[0m\u001b[0;34m]\u001b[0m\u001b[0;34m\u001b[0m\u001b[0;34m\u001b[0m\u001b[0m\n",
      "\u001b[0;32m~/anaconda3/envs/pyo/lib/python3.8/site-packages/pandas/core/frame.py\u001b[0m in \u001b[0;36mdot\u001b[0;34m(self, other)\u001b[0m\n\u001b[1;32m   1252\u001b[0m             \u001b[0mlvals\u001b[0m \u001b[0;34m=\u001b[0m \u001b[0mself\u001b[0m\u001b[0;34m.\u001b[0m\u001b[0mvalues\u001b[0m\u001b[0;34m\u001b[0m\u001b[0;34m\u001b[0m\u001b[0m\n\u001b[1;32m   1253\u001b[0m             \u001b[0mrvals\u001b[0m \u001b[0;34m=\u001b[0m \u001b[0mnp\u001b[0m\u001b[0;34m.\u001b[0m\u001b[0masarray\u001b[0m\u001b[0;34m(\u001b[0m\u001b[0mother\u001b[0m\u001b[0;34m)\u001b[0m\u001b[0;34m\u001b[0m\u001b[0;34m\u001b[0m\u001b[0m\n\u001b[0;32m-> 1254\u001b[0;31m             \u001b[0;32mif\u001b[0m \u001b[0mlvals\u001b[0m\u001b[0;34m.\u001b[0m\u001b[0mshape\u001b[0m\u001b[0;34m[\u001b[0m\u001b[0;36m1\u001b[0m\u001b[0;34m]\u001b[0m \u001b[0;34m!=\u001b[0m \u001b[0mrvals\u001b[0m\u001b[0;34m.\u001b[0m\u001b[0mshape\u001b[0m\u001b[0;34m[\u001b[0m\u001b[0;36m0\u001b[0m\u001b[0;34m]\u001b[0m\u001b[0;34m:\u001b[0m\u001b[0;34m\u001b[0m\u001b[0;34m\u001b[0m\u001b[0m\n\u001b[0m\u001b[1;32m   1255\u001b[0m                 raise ValueError(\n\u001b[1;32m   1256\u001b[0m                     \u001b[0;34mf\"Dot product shape mismatch, {lvals.shape} vs {rvals.shape}\"\u001b[0m\u001b[0;34m\u001b[0m\u001b[0;34m\u001b[0m\u001b[0m\n",
      "\u001b[0;31mIndexError\u001b[0m: tuple index out of range"
     ]
    }
   ],
   "source": []
  },
  {
   "cell_type": "code",
   "execution_count": null,
   "id": "bc039359",
   "metadata": {},
   "outputs": [],
   "source": []
  },
  {
   "cell_type": "code",
   "execution_count": null,
   "id": "c953a575",
   "metadata": {},
   "outputs": [],
   "source": []
  },
  {
   "cell_type": "code",
   "execution_count": 28,
   "id": "114a6037",
   "metadata": {},
   "outputs": [
    {
     "name": "stdout",
     "output_type": "stream",
     "text": [
      "['RHEA:12423', 'RHEA:13380', 'RHEA:14216', 'RHEA:15656', 'RHEA:16112', 'RHEA:20108']\n"
     ]
    },
    {
     "data": {
      "text/plain": [
       "True"
      ]
     },
     "execution_count": 28,
     "metadata": {},
     "output_type": "execute_result"
    }
   ],
   "source": [
    "print([val[0] for val in pred_reaction[cn.MATCH_SCORE][R_PFK]])\n",
    "ONE_CANDIDATE in [val[0] for val in pred_reaction[cn.MATCH_SCORE][R_PFK]]"
   ]
  },
  {
   "cell_type": "code",
   "execution_count": 31,
   "id": "8ce7308d",
   "metadata": {},
   "outputs": [
    {
     "data": {
      "text/plain": [
       "['RHEA:1']"
      ]
     },
     "execution_count": 31,
     "metadata": {},
     "output_type": "execute_result"
    }
   ],
   "source": [
    "one_match_score = {'R1': [('RHEA:1', 1.0), ('RHEA:2', 0.5)]}\n",
    "reac_cl.getBestOneCandidates(one_match_score)['R1']"
   ]
  },
  {
   "cell_type": "code",
   "execution_count": 32,
   "id": "da9be9b9",
   "metadata": {},
   "outputs": [
    {
     "data": {
      "text/plain": [
       "{'R_PFK': Index(['RHEA:12423', 'RHEA:13380', 'RHEA:14216', 'RHEA:15656', 'RHEA:16112',\n",
       "        'RHEA:20108'],\n",
       "       dtype='object')}"
      ]
     },
     "execution_count": 32,
     "metadata": {},
     "output_type": "execute_result"
    }
   ],
   "source": [
    "reac_cl.candidates"
   ]
  },
  {
   "cell_type": "code",
   "execution_count": 33,
   "id": "d1b955e3",
   "metadata": {},
   "outputs": [
    {
     "data": {
      "text/plain": [
       "1.0"
      ]
     },
     "execution_count": 33,
     "metadata": {},
     "output_type": "execute_result"
    }
   ],
   "source": [
    "pred = {R_PFK: ['RHEA:16112']}\n",
    "reac_cl.getAccuracy(pred_annotation=pred)"
   ]
  },
  {
   "cell_type": "code",
   "execution_count": null,
   "id": "5da884a0",
   "metadata": {},
   "outputs": [],
   "source": []
  }
 ],
 "metadata": {
  "kernelspec": {
   "display_name": "pyo",
   "language": "python",
   "name": "pyo"
  },
  "language_info": {
   "codemirror_mode": {
    "name": "ipython",
    "version": 3
   },
   "file_extension": ".py",
   "mimetype": "text/x-python",
   "name": "python",
   "nbconvert_exporter": "python",
   "pygments_lexer": "ipython3",
   "version": "3.8.8"
  }
 },
 "nbformat": 4,
 "nbformat_minor": 5
}
