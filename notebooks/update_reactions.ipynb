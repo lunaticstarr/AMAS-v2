{
 "cells": [
  {
   "cell_type": "code",
   "execution_count": 1,
   "id": "0a38dce7",
   "metadata": {},
   "outputs": [],
   "source": [
    "# Update reaction annotations\n",
    "import collections\n",
    "import itertools\n",
    "import libsbml\n",
    "import numpy as np\n",
    "import os\n",
    "import pickle\n",
    "import pandas as pd\n",
    "import sys\n",
    "import matplotlib.pyplot as plt\n",
    "%matplotlib inline  \n",
    "\n",
    "BIOMD_12 = 'BIOMD0000000012.xml'\n",
    "BASE_DIR = '/Users/woosubs/Desktop/AutomateAnnotation/'\n",
    "DATA_DIR = os.path.join(BASE_DIR, \"DATA\")\n",
    "ALGO_DIR = os.path.join(DATA_DIR, \"algo\")\n",
    "CHEBI_DIR = os.path.join(DATA_DIR, \"chebi\")\n",
    "RHEA_DIR = os.path.join(DATA_DIR, \"rhea\")\n",
    "BIOMODEL_DIR = os.path.join(DATA_DIR, \"biomodels/curated_biomodels_31mar2021\")\n",
    "BIGG_DIR = '/Users/woosubs/Desktop/AutomateAnnotation/DATA/bigg'\n",
    "ecoli_fpath = os.path.join(BIGG_DIR, \"e_coli_core.xml\")\n",
    "\n",
    "PROJ_DIR = os.path.join(os.getcwd(), os.pardir)\n",
    "AMAS_DIR = os.path.join(PROJ_DIR, \"AMAS\")\n",
    "sys.path.append(PROJ_DIR)\n",
    "\n",
    "from AMAS import species_annotation as sa\n",
    "from AMAS import reaction_annotation as ra\n",
    "from AMAS import constants as cn\n",
    "from AMAS import iterator as it\n",
    "from AMAS import tools"
   ]
  },
  {
   "cell_type": "code",
   "execution_count": 2,
   "id": "d39fad37",
   "metadata": {},
   "outputs": [],
   "source": [
    "one_biomd = 'BIOMD0000000190.xml'\n",
    "one_biomd_fpath = os.path.join(BIOMODEL_DIR, one_biomd)\n",
    "reader = libsbml.SBMLReader()\n",
    "document = reader.readSBML(one_biomd_fpath)\n",
    "model = document.getModel()"
   ]
  },
  {
   "cell_type": "code",
   "execution_count": 3,
   "id": "781cc73a",
   "metadata": {},
   "outputs": [
    {
     "data": {
      "text/plain": [
       "<ListOfSpecies[11]>"
      ]
     },
     "execution_count": 3,
     "metadata": {},
     "output_type": "execute_result"
    }
   ],
   "source": [
    "model.getListOfSpecies()"
   ]
  },
  {
   "cell_type": "code",
   "execution_count": 4,
   "id": "0a990204",
   "metadata": {},
   "outputs": [],
   "source": [
    "from AMAS import recommender\n",
    "recom = recommender.Recommender(libsbml_fpath=one_biomd_fpath)"
   ]
  },
  {
   "cell_type": "code",
   "execution_count": 5,
   "id": "4a48dbdf",
   "metadata": {},
   "outputs": [],
   "source": [
    "# Next step..? add getRecall and getPrecision\n",
    "recom = recommender.Recommender(libsbml_fpath=ecoli_fpath)"
   ]
  },
  {
   "cell_type": "code",
   "execution_count": 6,
   "id": "28fe649d",
   "metadata": {},
   "outputs": [],
   "source": [
    "# recom.reactions.reaction_components"
   ]
  },
  {
   "cell_type": "code",
   "execution_count": 14,
   "id": "069d4bae",
   "metadata": {},
   "outputs": [],
   "source": [
    "R_PFK = 'R_PFK'\n",
    "ATP = 'M_atp_c'\n",
    "COMPONENTS = {'M_fdp_c', 'M_adp_c', 'M_atp_c', 'M_f6p_c', 'M_h_c'}\n",
    "ONE_CANDIDATE = 'RHEA:12423'\n",
    "ONE_CHEBI = 'CHEBI:30616'\n",
    "\n",
    "spec_cl = sa.SpeciesAnnotation(libsbml_fpath = ecoli_fpath)\n",
    "reac_cl = ra.ReactionAnnotation(libsbml_fpath = ecoli_fpath)\n",
    "pred_species = spec_cl.predictAnnotationByName(inp_spec_list=COMPONENTS)\n",
    "pred_reaction = reac_cl.predictAnnotation(inp_spec_dict=spec_cl.formula,\n",
    "                                          inp_reac_list=[R_PFK])"
   ]
  },
  {
   "cell_type": "code",
   "execution_count": 23,
   "id": "0db960d0",
   "metadata": {},
   "outputs": [
    {
     "data": {
      "text/plain": [
       "['RHEA:12423',\n",
       " 'RHEA:13380',\n",
       " 'RHEA:14216',\n",
       " 'RHEA:15656',\n",
       " 'RHEA:16112',\n",
       " 'RHEA:20108']"
      ]
     },
     "execution_count": 23,
     "metadata": {},
     "output_type": "execute_result"
    }
   ],
   "source": [
    "[val[0] for val in pred_reaction[cn.MATCH_SCORE][R_PFK]]"
   ]
  },
  {
   "cell_type": "code",
   "execution_count": 20,
   "id": "e83bebe0",
   "metadata": {},
   "outputs": [],
   "source": [
    "reac_cl.candidates"
   ]
  },
  {
   "cell_type": "code",
   "execution_count": 18,
   "id": "71c4e048",
   "metadata": {},
   "outputs": [
    {
     "ename": "TypeError",
     "evalue": "'NoneType' object is not subscriptable",
     "output_type": "error",
     "traceback": [
      "\u001b[0;31m---------------------------------------------------------------------------\u001b[0m",
      "\u001b[0;31mTypeError\u001b[0m                                 Traceback (most recent call last)",
      "\u001b[0;32m<ipython-input-18-4de76e859cc1>\u001b[0m in \u001b[0;36m<module>\u001b[0;34m\u001b[0m\n\u001b[0;32m----> 1\u001b[0;31m \u001b[0;34m[\u001b[0m\u001b[0mval\u001b[0m\u001b[0;34m[\u001b[0m\u001b[0;36m0\u001b[0m\u001b[0;34m]\u001b[0m \u001b[0;32mfor\u001b[0m \u001b[0mval\u001b[0m \u001b[0;32min\u001b[0m \u001b[0mreac_cl\u001b[0m\u001b[0;34m.\u001b[0m\u001b[0mmatch_score\u001b[0m\u001b[0;34m[\u001b[0m\u001b[0mR_PFK\u001b[0m\u001b[0;34m]\u001b[0m\u001b[0;34m]\u001b[0m\u001b[0;34m\u001b[0m\u001b[0;34m\u001b[0m\u001b[0m\n\u001b[0m",
      "\u001b[0;31mTypeError\u001b[0m: 'NoneType' object is not subscriptable"
     ]
    }
   ],
   "source": [
    "[val[0] for val in reac_cl.match_score[R_PFK]]"
   ]
  },
  {
   "cell_type": "code",
   "execution_count": null,
   "id": "2c696019",
   "metadata": {},
   "outputs": [],
   "source": [
    "   self.assertTrue(ONE_CANDIDATE in [val[0] for val in self.reac_cl.match_score[R_PFK]])\n",
    "    self.assertTrue(0.8 in [val[1] for val in self.reac_cl.match_score[R_PFK]])"
   ]
  },
  {
   "cell_type": "code",
   "execution_count": null,
   "id": "131f5736",
   "metadata": {},
   "outputs": [],
   "source": []
  },
  {
   "cell_type": "markdown",
   "id": "38787b90",
   "metadata": {},
   "source": [
    "# Updating test_reaction_annotation"
   ]
  },
  {
   "cell_type": "code",
   "execution_count": 25,
   "id": "5e65fd35",
   "metadata": {},
   "outputs": [],
   "source": [
    "R_PFK = 'R_PFK'\n",
    "ATP = 'M_atp_c'\n",
    "COMPONENTS = {'M_fdp_c', 'M_adp_c', 'M_atp_c', 'M_f6p_c', 'M_h_c'}\n",
    "ONE_CANDIDATE = 'RHEA:12423'\n",
    "ONE_CHEBI = 'CHEBI:30616'\n",
    "BIOMD_248_PATH = os.path.join(os.getcwd(), 'BIOMD0000000248.xml')\n",
    "E_COLI_PATH = os.path.join(BIGG_DIR, \"e_coli_core.xml\")\n",
    "\n",
    "from AMAS import recommender\n",
    "recom = recommender.Recommender(libsbml_fpath=ecoli_fpath)"
   ]
  },
  {
   "cell_type": "code",
   "execution_count": 26,
   "id": "b21ca385",
   "metadata": {},
   "outputs": [],
   "source": [
    "spec_cl = sa.SpeciesAnnotation(libsbml_fpath = E_COLI_PATH)\n",
    "reac_cl = ra.ReactionAnnotation(libsbml_fpath = E_COLI_PATH)\n",
    "pred_species = spec_cl.predictAnnotationByName(inp_spec_list=COMPONENTS)\n",
    "pred_reaction = reac_cl.predictAnnotation(inp_spec_dict=spec_cl.formula,\n",
    "                                          inp_reac_list=[R_PFK])"
   ]
  },
  {
   "cell_type": "code",
   "execution_count": 29,
   "id": "bd54522f",
   "metadata": {},
   "outputs": [
    {
     "data": {
      "text/plain": [
       "{'R_PFK': [('RHEA:12423', 0.8),\n",
       "  ('RHEA:13380', 0.8),\n",
       "  ('RHEA:14216', 0.8),\n",
       "  ('RHEA:15656', 0.8),\n",
       "  ('RHEA:16112', 0.8),\n",
       "  ('RHEA:20108', 0.8)]}"
      ]
     },
     "execution_count": 29,
     "metadata": {},
     "output_type": "execute_result"
    }
   ],
   "source": [
    "pred_reaction[cn.MATCH_SCORE]"
   ]
  },
  {
   "cell_type": "code",
   "execution_count": 28,
   "id": "8b4f36c6",
   "metadata": {},
   "outputs": [
    {
     "name": "stdout",
     "output_type": "stream",
     "text": [
      "['RHEA:12423', 'RHEA:13380', 'RHEA:14216', 'RHEA:15656', 'RHEA:16112', 'RHEA:20108']\n"
     ]
    },
    {
     "data": {
      "text/plain": [
       "True"
      ]
     },
     "execution_count": 28,
     "metadata": {},
     "output_type": "execute_result"
    }
   ],
   "source": [
    "print([val[0] for val in pred_reaction[cn.MATCH_SCORE][R_PFK]])\n",
    "ONE_CANDIDATE in [val[0] for val in pred_reaction[cn.MATCH_SCORE][R_PFK]]"
   ]
  },
  {
   "cell_type": "code",
   "execution_count": 31,
   "id": "acfbc91f",
   "metadata": {},
   "outputs": [
    {
     "data": {
      "text/plain": [
       "['RHEA:1']"
      ]
     },
     "execution_count": 31,
     "metadata": {},
     "output_type": "execute_result"
    }
   ],
   "source": [
    "one_match_score = {'R1': [('RHEA:1', 1.0), ('RHEA:2', 0.5)]}\n",
    "reac_cl.getBestOneCandidates(one_match_score)['R1']"
   ]
  },
  {
   "cell_type": "code",
   "execution_count": 32,
   "id": "38730b24",
   "metadata": {},
   "outputs": [
    {
     "data": {
      "text/plain": [
       "{'R_PFK': Index(['RHEA:12423', 'RHEA:13380', 'RHEA:14216', 'RHEA:15656', 'RHEA:16112',\n",
       "        'RHEA:20108'],\n",
       "       dtype='object')}"
      ]
     },
     "execution_count": 32,
     "metadata": {},
     "output_type": "execute_result"
    }
   ],
   "source": [
    "reac_cl.candidates"
   ]
  },
  {
   "cell_type": "code",
   "execution_count": 33,
   "id": "97ceeeaa",
   "metadata": {},
   "outputs": [
    {
     "data": {
      "text/plain": [
       "1.0"
      ]
     },
     "execution_count": 33,
     "metadata": {},
     "output_type": "execute_result"
    }
   ],
   "source": [
    "pred = {R_PFK: ['RHEA:16112']}\n",
    "reac_cl.getAccuracy(pred_annotation=pred)"
   ]
  },
  {
   "cell_type": "code",
   "execution_count": null,
   "id": "b7c04f2a",
   "metadata": {},
   "outputs": [],
   "source": []
  }
 ],
 "metadata": {
  "kernelspec": {
   "display_name": "pyo",
   "language": "python",
   "name": "pyo"
  },
  "language_info": {
   "codemirror_mode": {
    "name": "ipython",
    "version": 3
   },
   "file_extension": ".py",
   "mimetype": "text/x-python",
   "name": "python",
   "nbconvert_exporter": "python",
   "pygments_lexer": "ipython3",
   "version": "3.8.8"
  }
 },
 "nbformat": 4,
 "nbformat_minor": 5
}
