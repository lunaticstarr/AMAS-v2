{
 "cells": [
  {
   "cell_type": "code",
   "execution_count": 1,
   "id": "f420adda",
   "metadata": {},
   "outputs": [],
   "source": [
    "# Update reaction annotations\n",
    "import collections\n",
    "import itertools\n",
    "import libsbml\n",
    "import numpy as np\n",
    "import os\n",
    "import pickle\n",
    "import pandas as pd\n",
    "import sys\n",
    "import matplotlib.pyplot as plt\n",
    "%matplotlib inline  \n",
    "\n",
    "BIOMD_12 = 'BIOMD0000000012.xml'\n",
    "BASE_DIR = '/Users/woosubs/Desktop/AutomateAnnotation/'\n",
    "DATA_DIR = os.path.join(BASE_DIR, \"DATA\")\n",
    "ALGO_DIR = os.path.join(DATA_DIR, \"algo\")\n",
    "CHEBI_DIR = os.path.join(DATA_DIR, \"chebi\")\n",
    "RHEA_DIR = os.path.join(DATA_DIR, \"rhea\")\n",
    "BIOMODEL_DIR = os.path.join(DATA_DIR, \"biomodels/curated_biomodels_31mar2021\")\n",
    "BIGG_DIR = '/Users/woosubs/Desktop/AutomateAnnotation/DATA/bigg'\n",
    "ecoli_fpath = os.path.join(BIGG_DIR, \"e_coli_core.xml\")\n",
    "\n",
    "PROJ_DIR = os.path.join(os.getcwd(), os.pardir)\n",
    "AMAS_DIR = os.path.join(PROJ_DIR, \"AMAS\")\n",
    "sys.path.append(PROJ_DIR)\n",
    "\n",
    "from AMAS import species_annotation as sa\n",
    "from AMAS import reaction_annotation as ra\n",
    "from AMAS import constants as cn\n",
    "from AMAS import iterator as it\n",
    "from AMAS import tools"
   ]
  },
  {
   "cell_type": "code",
   "execution_count": 2,
   "id": "f4c080c9",
   "metadata": {},
   "outputs": [],
   "source": [
    "one_biomd = 'BIOMD0000000190.xml'\n",
    "one_biomd_fpath = os.path.join(BIOMODEL_DIR, one_biomd)\n",
    "reader = libsbml.SBMLReader()\n",
    "document = reader.readSBML(one_biomd_fpath)\n",
    "model = document.getModel()"
   ]
  },
  {
   "cell_type": "code",
   "execution_count": 3,
   "id": "c0fd5355",
   "metadata": {},
   "outputs": [
    {
     "data": {
      "text/plain": [
       "<ListOfSpecies[11]>"
      ]
     },
     "execution_count": 3,
     "metadata": {},
     "output_type": "execute_result"
    }
   ],
   "source": [
    "model.getListOfSpecies()"
   ]
  },
  {
   "cell_type": "code",
   "execution_count": 4,
   "id": "49c7bd67",
   "metadata": {},
   "outputs": [],
   "source": [
    "from AMAS import recommender\n",
    "recom = recommender.Recommender(libsbml_fpath=one_biomd_fpath)"
   ]
  },
  {
   "cell_type": "code",
   "execution_count": 5,
   "id": "f74044cf",
   "metadata": {},
   "outputs": [],
   "source": [
    "# Next step..? add getRecall and getPrecision\n",
    "recom = recommender.Recommender(libsbml_fpath=ecoli_fpath)"
   ]
  },
  {
   "cell_type": "code",
   "execution_count": 6,
   "id": "7e77a089",
   "metadata": {},
   "outputs": [],
   "source": [
    "# recom.reactions.reaction_components"
   ]
  },
  {
   "cell_type": "code",
   "execution_count": 7,
   "id": "8b30612e",
   "metadata": {},
   "outputs": [],
   "source": [
    "R_PFK = 'R_PFK'\n",
    "ATP = 'M_atp_c'\n",
    "COMPONENTS = {'M_fdp_c', 'M_adp_c', 'M_atp_c', 'M_f6p_c', 'M_h_c'}\n",
    "ONE_CANDIDATE = 'RHEA:12423'\n",
    "ONE_CHEBI = 'CHEBI:30616'\n",
    "\n",
    "spec_cl = sa.SpeciesAnnotation(libsbml_fpath = ecoli_fpath)\n",
    "reac_cl = ra.ReactionAnnotation(libsbml_fpath = ecoli_fpath)\n",
    "pred_species = spec_cl.predictAnnotationByName(inp_spec_list=COMPONENTS)\n",
    "pred_reaction = reac_cl.predictAnnotation(inp_spec_dict=spec_cl.formula,\n",
    "                                          inp_reac_list=[R_PFK])"
   ]
  },
  {
   "cell_type": "code",
   "execution_count": 8,
   "id": "f9a29521",
   "metadata": {},
   "outputs": [
    {
     "data": {
      "text/plain": [
       "{'R_PFK': 0.9119592634489692}"
      ]
     },
     "execution_count": 8,
     "metadata": {},
     "output_type": "execute_result"
    }
   ],
   "source": [
    "reac_cl.evaluatePredictedReactionAnnotation(inp_dict=pred_reaction)"
   ]
  },
  {
   "cell_type": "code",
   "execution_count": 21,
   "id": "9ef47a6d",
   "metadata": {},
   "outputs": [
    {
     "data": {
      "text/plain": [
       "dict_keys(['R_PFK'])"
      ]
     },
     "execution_count": 21,
     "metadata": {},
     "output_type": "execute_result"
    }
   ],
   "source": [
    "inp_dict['candidates'].keys()"
   ]
  },
  {
   "cell_type": "code",
   "execution_count": 11,
   "id": "582a768c",
   "metadata": {},
   "outputs": [
    {
     "data": {
      "text/plain": [
       "{'R_PFK': 6}"
      ]
     },
     "execution_count": 11,
     "metadata": {},
     "output_type": "execute_result"
    }
   ],
   "source": [
    "cands_num_dict"
   ]
  },
  {
   "cell_type": "code",
   "execution_count": 9,
   "id": "45c19097",
   "metadata": {},
   "outputs": [],
   "source": [
    "inp_dict = pred_reaction\n",
    "\n",
    "candidates_dict = inp_dict['candidates']\n",
    "\n",
    "cands_num_dict = {one_k: len(candidates_dict[one_k]) for one_k in candidates_dict.keys()}\n",
    "inp_list = list(inp_dict['candidates'].keys())\n",
    "num_candidates = [cands_num_dict[val] for val in inp_list]\n",
    "# num_candidates = [len(candidates_info[val]) for val in inp_list]\n",
    "multi_mat = ra.ref_mat.dot(inp_dict[cn.QUERY_DF])\n",
    "maxes = multi_mat.max()\n",
    "\n",
    "\n",
    "\n",
    "max_match = [maxes[val] for val in inp_list]\n",
    "\n",
    "match_scores = inp_dict[cn.MATCH_SCORE]\n",
    "\n",
    "\n",
    "mean_match_score = [np.mean([val[1] for val in match_scores[k]]) for k in inp_list]\n",
    "# med_match_score = [np.median([val[1] for val in match_scores[k]]) for k in inp_list]\n",
    "# min_match_score = [np.min([val[1] for val in match_scores[k]]) for k in inp_list]\n",
    "# max_match_score = [np.max([val[1] for val in match_scores[k]]) for k in inp_list]\n",
    "# var_match_score = [np.var([val[1] for val in match_scores[k]]) for k in inp_list]\n",
    "# data2prediction = list(zip(num_candidates,\n",
    "#                            max_match,\n",
    "#                            mean_match_score,\n",
    "#                            med_match_score,\n",
    "#                            min_match_score,\n",
    "#                            max_match_score,\n",
    "#                            var_match_score))\n",
    "# pred_probs = fitted_model.predict(data2prediction)\n",
    "# # Collect probability to be correct\n",
    "# res = {val[0]:val[1] for val in list(zip(inp_list, pred_probs))}"
   ]
  },
  {
   "cell_type": "code",
   "execution_count": 28,
   "id": "a8e145f3",
   "metadata": {},
   "outputs": [
    {
     "data": {
      "text/plain": [
       "[0.7999999999999999]"
      ]
     },
     "execution_count": 28,
     "metadata": {},
     "output_type": "execute_result"
    }
   ],
   "source": [
    "mean_match_score"
   ]
  },
  {
   "cell_type": "code",
   "execution_count": null,
   "id": "a9e4ba3b",
   "metadata": {},
   "outputs": [],
   "source": []
  },
  {
   "cell_type": "code",
   "execution_count": 8,
   "id": "239a3e61",
   "metadata": {},
   "outputs": [
    {
     "ename": "KeyError",
     "evalue": "'candidates'",
     "output_type": "error",
     "traceback": [
      "\u001b[0;31m---------------------------------------------------------------------------\u001b[0m",
      "\u001b[0;31mKeyError\u001b[0m                                  Traceback (most recent call last)",
      "\u001b[0;32m~/anaconda3/envs/pyo/lib/python3.8/site-packages/pandas/core/indexes/base.py\u001b[0m in \u001b[0;36mget_loc\u001b[0;34m(self, key, method, tolerance)\u001b[0m\n\u001b[1;32m   3079\u001b[0m             \u001b[0;32mtry\u001b[0m\u001b[0;34m:\u001b[0m\u001b[0;34m\u001b[0m\u001b[0;34m\u001b[0m\u001b[0m\n\u001b[0;32m-> 3080\u001b[0;31m                 \u001b[0;32mreturn\u001b[0m \u001b[0mself\u001b[0m\u001b[0;34m.\u001b[0m\u001b[0m_engine\u001b[0m\u001b[0;34m.\u001b[0m\u001b[0mget_loc\u001b[0m\u001b[0;34m(\u001b[0m\u001b[0mcasted_key\u001b[0m\u001b[0;34m)\u001b[0m\u001b[0;34m\u001b[0m\u001b[0;34m\u001b[0m\u001b[0m\n\u001b[0m\u001b[1;32m   3081\u001b[0m             \u001b[0;32mexcept\u001b[0m \u001b[0mKeyError\u001b[0m \u001b[0;32mas\u001b[0m \u001b[0merr\u001b[0m\u001b[0;34m:\u001b[0m\u001b[0;34m\u001b[0m\u001b[0;34m\u001b[0m\u001b[0m\n",
      "\u001b[0;32mpandas/_libs/index.pyx\u001b[0m in \u001b[0;36mpandas._libs.index.IndexEngine.get_loc\u001b[0;34m()\u001b[0m\n",
      "\u001b[0;32mpandas/_libs/index.pyx\u001b[0m in \u001b[0;36mpandas._libs.index.IndexEngine.get_loc\u001b[0;34m()\u001b[0m\n",
      "\u001b[0;32mpandas/_libs/hashtable_class_helper.pxi\u001b[0m in \u001b[0;36mpandas._libs.hashtable.PyObjectHashTable.get_item\u001b[0;34m()\u001b[0m\n",
      "\u001b[0;32mpandas/_libs/hashtable_class_helper.pxi\u001b[0m in \u001b[0;36mpandas._libs.hashtable.PyObjectHashTable.get_item\u001b[0;34m()\u001b[0m\n",
      "\u001b[0;31mKeyError\u001b[0m: 'candidates'",
      "\nThe above exception was the direct cause of the following exception:\n",
      "\u001b[0;31mKeyError\u001b[0m                                  Traceback (most recent call last)",
      "\u001b[0;32m<ipython-input-8-09a833117810>\u001b[0m in \u001b[0;36m<module>\u001b[0;34m\u001b[0m\n\u001b[0;32m----> 1\u001b[0;31m \u001b[0mreac_cl\u001b[0m\u001b[0;34m.\u001b[0m\u001b[0mevaluatePredictedReactionAnnotation\u001b[0m\u001b[0;34m(\u001b[0m\u001b[0minp_dict\u001b[0m\u001b[0;34m=\u001b[0m\u001b[0mpred_reaction\u001b[0m\u001b[0;34m)\u001b[0m\u001b[0;34m\u001b[0m\u001b[0;34m\u001b[0m\u001b[0m\n\u001b[0m",
      "\u001b[0;32m~/Desktop/AutomateAnnotation/AMAS/notebooks/../AMAS/reaction_annotation.py\u001b[0m in \u001b[0;36mevaluatePredictedReactionAnnotation\u001b[0;34m(self, inp_dict, fitted_model)\u001b[0m\n\u001b[1;32m    393\u001b[0m     \u001b[0mmulti_mat\u001b[0m \u001b[0;34m=\u001b[0m \u001b[0mref_mat\u001b[0m\u001b[0;34m.\u001b[0m\u001b[0mdot\u001b[0m\u001b[0;34m(\u001b[0m\u001b[0minp_dict\u001b[0m\u001b[0;34m[\u001b[0m\u001b[0mcn\u001b[0m\u001b[0;34m.\u001b[0m\u001b[0mQUERY_DF\u001b[0m\u001b[0;34m]\u001b[0m\u001b[0;34m)\u001b[0m\u001b[0;34m\u001b[0m\u001b[0;34m\u001b[0m\u001b[0m\n\u001b[1;32m    394\u001b[0m     \u001b[0mmaxes\u001b[0m \u001b[0;34m=\u001b[0m \u001b[0mmulti_mat\u001b[0m\u001b[0;34m.\u001b[0m\u001b[0mmax\u001b[0m\u001b[0;34m(\u001b[0m\u001b[0;34m)\u001b[0m\u001b[0;34m\u001b[0m\u001b[0;34m\u001b[0m\u001b[0m\n\u001b[0;32m--> 395\u001b[0;31m     \u001b[0mmax_match\u001b[0m \u001b[0;34m=\u001b[0m \u001b[0;34m[\u001b[0m\u001b[0mmaxes\u001b[0m\u001b[0;34m[\u001b[0m\u001b[0mval\u001b[0m\u001b[0;34m]\u001b[0m \u001b[0;32mfor\u001b[0m \u001b[0mval\u001b[0m \u001b[0;32min\u001b[0m \u001b[0minp_list\u001b[0m\u001b[0;34m]\u001b[0m\u001b[0;34m\u001b[0m\u001b[0;34m\u001b[0m\u001b[0m\n\u001b[0m\u001b[1;32m    396\u001b[0m     \u001b[0mmatch_scores\u001b[0m \u001b[0;34m=\u001b[0m \u001b[0mself\u001b[0m\u001b[0;34m.\u001b[0m\u001b[0mmatch_score\u001b[0m\u001b[0;34m\u001b[0m\u001b[0;34m\u001b[0m\u001b[0m\n\u001b[1;32m    397\u001b[0m     \u001b[0mmean_match_score\u001b[0m \u001b[0;34m=\u001b[0m \u001b[0;34m[\u001b[0m\u001b[0mnp\u001b[0m\u001b[0;34m.\u001b[0m\u001b[0mmean\u001b[0m\u001b[0;34m(\u001b[0m\u001b[0;34m[\u001b[0m\u001b[0mval\u001b[0m\u001b[0;34m[\u001b[0m\u001b[0;36m1\u001b[0m\u001b[0;34m]\u001b[0m \u001b[0;32mfor\u001b[0m \u001b[0mval\u001b[0m \u001b[0;32min\u001b[0m \u001b[0mmatch_scores\u001b[0m\u001b[0;34m[\u001b[0m\u001b[0mk\u001b[0m\u001b[0;34m]\u001b[0m\u001b[0;34m]\u001b[0m\u001b[0;34m)\u001b[0m \u001b[0;32mfor\u001b[0m \u001b[0mk\u001b[0m \u001b[0;32min\u001b[0m \u001b[0minp_list\u001b[0m\u001b[0;34m]\u001b[0m\u001b[0;34m\u001b[0m\u001b[0;34m\u001b[0m\u001b[0m\n",
      "\u001b[0;32m~/Desktop/AutomateAnnotation/AMAS/notebooks/../AMAS/reaction_annotation.py\u001b[0m in \u001b[0;36m<listcomp>\u001b[0;34m(.0)\u001b[0m\n\u001b[1;32m    393\u001b[0m     \u001b[0mmulti_mat\u001b[0m \u001b[0;34m=\u001b[0m \u001b[0mref_mat\u001b[0m\u001b[0;34m.\u001b[0m\u001b[0mdot\u001b[0m\u001b[0;34m(\u001b[0m\u001b[0minp_dict\u001b[0m\u001b[0;34m[\u001b[0m\u001b[0mcn\u001b[0m\u001b[0;34m.\u001b[0m\u001b[0mQUERY_DF\u001b[0m\u001b[0;34m]\u001b[0m\u001b[0;34m)\u001b[0m\u001b[0;34m\u001b[0m\u001b[0;34m\u001b[0m\u001b[0m\n\u001b[1;32m    394\u001b[0m     \u001b[0mmaxes\u001b[0m \u001b[0;34m=\u001b[0m \u001b[0mmulti_mat\u001b[0m\u001b[0;34m.\u001b[0m\u001b[0mmax\u001b[0m\u001b[0;34m(\u001b[0m\u001b[0;34m)\u001b[0m\u001b[0;34m\u001b[0m\u001b[0;34m\u001b[0m\u001b[0m\n\u001b[0;32m--> 395\u001b[0;31m     \u001b[0mmax_match\u001b[0m \u001b[0;34m=\u001b[0m \u001b[0;34m[\u001b[0m\u001b[0mmaxes\u001b[0m\u001b[0;34m[\u001b[0m\u001b[0mval\u001b[0m\u001b[0;34m]\u001b[0m \u001b[0;32mfor\u001b[0m \u001b[0mval\u001b[0m \u001b[0;32min\u001b[0m \u001b[0minp_list\u001b[0m\u001b[0;34m]\u001b[0m\u001b[0;34m\u001b[0m\u001b[0;34m\u001b[0m\u001b[0m\n\u001b[0m\u001b[1;32m    396\u001b[0m     \u001b[0mmatch_scores\u001b[0m \u001b[0;34m=\u001b[0m \u001b[0mself\u001b[0m\u001b[0;34m.\u001b[0m\u001b[0mmatch_score\u001b[0m\u001b[0;34m\u001b[0m\u001b[0;34m\u001b[0m\u001b[0m\n\u001b[1;32m    397\u001b[0m     \u001b[0mmean_match_score\u001b[0m \u001b[0;34m=\u001b[0m \u001b[0;34m[\u001b[0m\u001b[0mnp\u001b[0m\u001b[0;34m.\u001b[0m\u001b[0mmean\u001b[0m\u001b[0;34m(\u001b[0m\u001b[0;34m[\u001b[0m\u001b[0mval\u001b[0m\u001b[0;34m[\u001b[0m\u001b[0;36m1\u001b[0m\u001b[0;34m]\u001b[0m \u001b[0;32mfor\u001b[0m \u001b[0mval\u001b[0m \u001b[0;32min\u001b[0m \u001b[0mmatch_scores\u001b[0m\u001b[0;34m[\u001b[0m\u001b[0mk\u001b[0m\u001b[0;34m]\u001b[0m\u001b[0;34m]\u001b[0m\u001b[0;34m)\u001b[0m \u001b[0;32mfor\u001b[0m \u001b[0mk\u001b[0m \u001b[0;32min\u001b[0m \u001b[0minp_list\u001b[0m\u001b[0;34m]\u001b[0m\u001b[0;34m\u001b[0m\u001b[0;34m\u001b[0m\u001b[0m\n",
      "\u001b[0;32m~/anaconda3/envs/pyo/lib/python3.8/site-packages/pandas/core/series.py\u001b[0m in \u001b[0;36m__getitem__\u001b[0;34m(self, key)\u001b[0m\n\u001b[1;32m    851\u001b[0m \u001b[0;34m\u001b[0m\u001b[0m\n\u001b[1;32m    852\u001b[0m         \u001b[0;32melif\u001b[0m \u001b[0mkey_is_scalar\u001b[0m\u001b[0;34m:\u001b[0m\u001b[0;34m\u001b[0m\u001b[0;34m\u001b[0m\u001b[0m\n\u001b[0;32m--> 853\u001b[0;31m             \u001b[0;32mreturn\u001b[0m \u001b[0mself\u001b[0m\u001b[0;34m.\u001b[0m\u001b[0m_get_value\u001b[0m\u001b[0;34m(\u001b[0m\u001b[0mkey\u001b[0m\u001b[0;34m)\u001b[0m\u001b[0;34m\u001b[0m\u001b[0;34m\u001b[0m\u001b[0m\n\u001b[0m\u001b[1;32m    854\u001b[0m \u001b[0;34m\u001b[0m\u001b[0m\n\u001b[1;32m    855\u001b[0m         \u001b[0;32mif\u001b[0m \u001b[0mis_hashable\u001b[0m\u001b[0;34m(\u001b[0m\u001b[0mkey\u001b[0m\u001b[0;34m)\u001b[0m\u001b[0;34m:\u001b[0m\u001b[0;34m\u001b[0m\u001b[0;34m\u001b[0m\u001b[0m\n",
      "\u001b[0;32m~/anaconda3/envs/pyo/lib/python3.8/site-packages/pandas/core/series.py\u001b[0m in \u001b[0;36m_get_value\u001b[0;34m(self, label, takeable)\u001b[0m\n\u001b[1;32m    959\u001b[0m \u001b[0;34m\u001b[0m\u001b[0m\n\u001b[1;32m    960\u001b[0m         \u001b[0;31m# Similar to Index.get_value, but we do not fall back to positional\u001b[0m\u001b[0;34m\u001b[0m\u001b[0;34m\u001b[0m\u001b[0;34m\u001b[0m\u001b[0m\n\u001b[0;32m--> 961\u001b[0;31m         \u001b[0mloc\u001b[0m \u001b[0;34m=\u001b[0m \u001b[0mself\u001b[0m\u001b[0;34m.\u001b[0m\u001b[0mindex\u001b[0m\u001b[0;34m.\u001b[0m\u001b[0mget_loc\u001b[0m\u001b[0;34m(\u001b[0m\u001b[0mlabel\u001b[0m\u001b[0;34m)\u001b[0m\u001b[0;34m\u001b[0m\u001b[0;34m\u001b[0m\u001b[0m\n\u001b[0m\u001b[1;32m    962\u001b[0m         \u001b[0;32mreturn\u001b[0m \u001b[0mself\u001b[0m\u001b[0;34m.\u001b[0m\u001b[0mindex\u001b[0m\u001b[0;34m.\u001b[0m\u001b[0m_get_values_for_loc\u001b[0m\u001b[0;34m(\u001b[0m\u001b[0mself\u001b[0m\u001b[0;34m,\u001b[0m \u001b[0mloc\u001b[0m\u001b[0;34m,\u001b[0m \u001b[0mlabel\u001b[0m\u001b[0;34m)\u001b[0m\u001b[0;34m\u001b[0m\u001b[0;34m\u001b[0m\u001b[0m\n\u001b[1;32m    963\u001b[0m \u001b[0;34m\u001b[0m\u001b[0m\n",
      "\u001b[0;32m~/anaconda3/envs/pyo/lib/python3.8/site-packages/pandas/core/indexes/base.py\u001b[0m in \u001b[0;36mget_loc\u001b[0;34m(self, key, method, tolerance)\u001b[0m\n\u001b[1;32m   3080\u001b[0m                 \u001b[0;32mreturn\u001b[0m \u001b[0mself\u001b[0m\u001b[0;34m.\u001b[0m\u001b[0m_engine\u001b[0m\u001b[0;34m.\u001b[0m\u001b[0mget_loc\u001b[0m\u001b[0;34m(\u001b[0m\u001b[0mcasted_key\u001b[0m\u001b[0;34m)\u001b[0m\u001b[0;34m\u001b[0m\u001b[0;34m\u001b[0m\u001b[0m\n\u001b[1;32m   3081\u001b[0m             \u001b[0;32mexcept\u001b[0m \u001b[0mKeyError\u001b[0m \u001b[0;32mas\u001b[0m \u001b[0merr\u001b[0m\u001b[0;34m:\u001b[0m\u001b[0;34m\u001b[0m\u001b[0;34m\u001b[0m\u001b[0m\n\u001b[0;32m-> 3082\u001b[0;31m                 \u001b[0;32mraise\u001b[0m \u001b[0mKeyError\u001b[0m\u001b[0;34m(\u001b[0m\u001b[0mkey\u001b[0m\u001b[0;34m)\u001b[0m \u001b[0;32mfrom\u001b[0m \u001b[0merr\u001b[0m\u001b[0;34m\u001b[0m\u001b[0;34m\u001b[0m\u001b[0m\n\u001b[0m\u001b[1;32m   3083\u001b[0m \u001b[0;34m\u001b[0m\u001b[0m\n\u001b[1;32m   3084\u001b[0m         \u001b[0;32mif\u001b[0m \u001b[0mtolerance\u001b[0m \u001b[0;32mis\u001b[0m \u001b[0;32mnot\u001b[0m \u001b[0;32mNone\u001b[0m\u001b[0;34m:\u001b[0m\u001b[0;34m\u001b[0m\u001b[0;34m\u001b[0m\u001b[0m\n",
      "\u001b[0;31mKeyError\u001b[0m: 'candidates'"
     ]
    }
   ],
   "source": []
  },
  {
   "cell_type": "code",
   "execution_count": null,
   "id": "6ede591a",
   "metadata": {},
   "outputs": [],
   "source": []
  },
  {
   "cell_type": "markdown",
   "id": "14040d43",
   "metadata": {},
   "source": [
    "# Updating test_reaction_annotation"
   ]
  },
  {
   "cell_type": "code",
   "execution_count": 10,
   "id": "152420d0",
   "metadata": {},
   "outputs": [],
   "source": [
    "R_PFK = 'R_PFK'\n",
    "ATP = 'M_atp_c'\n",
    "COMPONENTS = {'M_fdp_c', 'M_adp_c', 'M_atp_c', 'M_f6p_c', 'M_h_c'}\n",
    "ONE_CANDIDATE = 'RHEA:12423'\n",
    "ONE_CHEBI = 'CHEBI:30616'\n",
    "BIOMD_248_PATH = os.path.join(os.getcwd(), 'BIOMD0000000248.xml')\n",
    "E_COLI_PATH = os.path.join(BIGG_DIR, \"e_coli_core.xml\")\n",
    "\n",
    "from AMAS import recommender\n",
    "recom = recommender.Recommender(libsbml_fpath=ecoli_fpath)"
   ]
  },
  {
   "cell_type": "code",
   "execution_count": 12,
   "id": "fdd5af2e",
   "metadata": {},
   "outputs": [
    {
     "name": "stdout",
     "output_type": "stream",
     "text": [
      "{'R_PFK': 6}\n"
     ]
    }
   ],
   "source": [
    "inp_dict = pred_reaction['candidates']\n",
    "cands_num_dict = {one_k: len(inp_dict[one_k]) for one_k in inp_dict.keys()}\n",
    "print(cands_num_dict)"
   ]
  },
  {
   "cell_type": "code",
   "execution_count": 13,
   "id": "4bb00b14",
   "metadata": {},
   "outputs": [
    {
     "ename": "IndexError",
     "evalue": "tuple index out of range",
     "output_type": "error",
     "traceback": [
      "\u001b[0;31m---------------------------------------------------------------------------\u001b[0m",
      "\u001b[0;31mIndexError\u001b[0m                                Traceback (most recent call last)",
      "\u001b[0;32m<ipython-input-13-7328222cb305>\u001b[0m in \u001b[0;36m<module>\u001b[0;34m\u001b[0m\n\u001b[0;32m----> 1\u001b[0;31m \u001b[0mreac_cl\u001b[0m\u001b[0;34m.\u001b[0m\u001b[0mevaluatePredictedReactionAnnotation\u001b[0m\u001b[0;34m(\u001b[0m\u001b[0minp_dict\u001b[0m\u001b[0;34m=\u001b[0m\u001b[0mpred_reaction\u001b[0m\u001b[0;34m[\u001b[0m\u001b[0;34m'candidates'\u001b[0m\u001b[0;34m]\u001b[0m\u001b[0;34m)\u001b[0m\u001b[0;34m\u001b[0m\u001b[0;34m\u001b[0m\u001b[0m\n\u001b[0m",
      "\u001b[0;32m~/Desktop/AutomateAnnotation/AMAS/notebooks/../AMAS/reaction_annotation.py\u001b[0m in \u001b[0;36mevaluatePredictedReactionAnnotation\u001b[0;34m(self, inp_dict, fitted_model)\u001b[0m\n\u001b[1;32m    391\u001b[0m     \u001b[0mnum_candidates\u001b[0m \u001b[0;34m=\u001b[0m \u001b[0;34m[\u001b[0m\u001b[0mcands_num_dict\u001b[0m\u001b[0;34m[\u001b[0m\u001b[0mval\u001b[0m\u001b[0;34m]\u001b[0m \u001b[0;32mfor\u001b[0m \u001b[0mval\u001b[0m \u001b[0;32min\u001b[0m \u001b[0minp_list\u001b[0m\u001b[0;34m]\u001b[0m\u001b[0;34m\u001b[0m\u001b[0;34m\u001b[0m\u001b[0m\n\u001b[1;32m    392\u001b[0m     \u001b[0;31m# num_candidates = [len(candidates_info[val]) for val in inp_list]\u001b[0m\u001b[0;34m\u001b[0m\u001b[0;34m\u001b[0m\u001b[0;34m\u001b[0m\u001b[0m\n\u001b[0;32m--> 393\u001b[0;31m     \u001b[0mmulti_mat\u001b[0m \u001b[0;34m=\u001b[0m \u001b[0mref_mat\u001b[0m\u001b[0;34m.\u001b[0m\u001b[0mdot\u001b[0m\u001b[0;34m(\u001b[0m\u001b[0mself\u001b[0m\u001b[0;34m.\u001b[0m\u001b[0mquery_df\u001b[0m\u001b[0;34m)\u001b[0m\u001b[0;34m\u001b[0m\u001b[0;34m\u001b[0m\u001b[0m\n\u001b[0m\u001b[1;32m    394\u001b[0m     \u001b[0mmaxes\u001b[0m \u001b[0;34m=\u001b[0m \u001b[0mmulti_mat\u001b[0m\u001b[0;34m.\u001b[0m\u001b[0mmax\u001b[0m\u001b[0;34m(\u001b[0m\u001b[0;34m)\u001b[0m\u001b[0;34m\u001b[0m\u001b[0;34m\u001b[0m\u001b[0m\n\u001b[1;32m    395\u001b[0m     \u001b[0mmax_match\u001b[0m \u001b[0;34m=\u001b[0m \u001b[0;34m[\u001b[0m\u001b[0mmaxes\u001b[0m\u001b[0;34m[\u001b[0m\u001b[0mval\u001b[0m\u001b[0;34m]\u001b[0m \u001b[0;32mfor\u001b[0m \u001b[0mval\u001b[0m \u001b[0;32min\u001b[0m \u001b[0minp_list\u001b[0m\u001b[0;34m]\u001b[0m\u001b[0;34m\u001b[0m\u001b[0;34m\u001b[0m\u001b[0m\n",
      "\u001b[0;32m~/anaconda3/envs/pyo/lib/python3.8/site-packages/pandas/core/frame.py\u001b[0m in \u001b[0;36mdot\u001b[0;34m(self, other)\u001b[0m\n\u001b[1;32m   1252\u001b[0m             \u001b[0mlvals\u001b[0m \u001b[0;34m=\u001b[0m \u001b[0mself\u001b[0m\u001b[0;34m.\u001b[0m\u001b[0mvalues\u001b[0m\u001b[0;34m\u001b[0m\u001b[0;34m\u001b[0m\u001b[0m\n\u001b[1;32m   1253\u001b[0m             \u001b[0mrvals\u001b[0m \u001b[0;34m=\u001b[0m \u001b[0mnp\u001b[0m\u001b[0;34m.\u001b[0m\u001b[0masarray\u001b[0m\u001b[0;34m(\u001b[0m\u001b[0mother\u001b[0m\u001b[0;34m)\u001b[0m\u001b[0;34m\u001b[0m\u001b[0;34m\u001b[0m\u001b[0m\n\u001b[0;32m-> 1254\u001b[0;31m             \u001b[0;32mif\u001b[0m \u001b[0mlvals\u001b[0m\u001b[0;34m.\u001b[0m\u001b[0mshape\u001b[0m\u001b[0;34m[\u001b[0m\u001b[0;36m1\u001b[0m\u001b[0;34m]\u001b[0m \u001b[0;34m!=\u001b[0m \u001b[0mrvals\u001b[0m\u001b[0;34m.\u001b[0m\u001b[0mshape\u001b[0m\u001b[0;34m[\u001b[0m\u001b[0;36m0\u001b[0m\u001b[0;34m]\u001b[0m\u001b[0;34m:\u001b[0m\u001b[0;34m\u001b[0m\u001b[0;34m\u001b[0m\u001b[0m\n\u001b[0m\u001b[1;32m   1255\u001b[0m                 raise ValueError(\n\u001b[1;32m   1256\u001b[0m                     \u001b[0;34mf\"Dot product shape mismatch, {lvals.shape} vs {rvals.shape}\"\u001b[0m\u001b[0;34m\u001b[0m\u001b[0;34m\u001b[0m\u001b[0m\n",
      "\u001b[0;31mIndexError\u001b[0m: tuple index out of range"
     ]
    }
   ],
   "source": []
  },
  {
   "cell_type": "code",
   "execution_count": null,
   "id": "51100b16",
   "metadata": {},
   "outputs": [],
   "source": []
  },
  {
   "cell_type": "code",
   "execution_count": null,
   "id": "8377ae2c",
   "metadata": {},
   "outputs": [],
   "source": []
  },
  {
   "cell_type": "code",
   "execution_count": 28,
   "id": "6ac95316",
   "metadata": {},
   "outputs": [
    {
     "name": "stdout",
     "output_type": "stream",
     "text": [
      "['RHEA:12423', 'RHEA:13380', 'RHEA:14216', 'RHEA:15656', 'RHEA:16112', 'RHEA:20108']\n"
     ]
    },
    {
     "data": {
      "text/plain": [
       "True"
      ]
     },
     "execution_count": 28,
     "metadata": {},
     "output_type": "execute_result"
    }
   ],
   "source": [
    "print([val[0] for val in pred_reaction[cn.MATCH_SCORE][R_PFK]])\n",
    "ONE_CANDIDATE in [val[0] for val in pred_reaction[cn.MATCH_SCORE][R_PFK]]"
   ]
  },
  {
   "cell_type": "code",
   "execution_count": 31,
   "id": "d26844c2",
   "metadata": {},
   "outputs": [
    {
     "data": {
      "text/plain": [
       "['RHEA:1']"
      ]
     },
     "execution_count": 31,
     "metadata": {},
     "output_type": "execute_result"
    }
   ],
   "source": [
    "one_match_score = {'R1': [('RHEA:1', 1.0), ('RHEA:2', 0.5)]}\n",
    "reac_cl.getBestOneCandidates(one_match_score)['R1']"
   ]
  },
  {
   "cell_type": "code",
   "execution_count": 32,
   "id": "7efc1dad",
   "metadata": {},
   "outputs": [
    {
     "data": {
      "text/plain": [
       "{'R_PFK': Index(['RHEA:12423', 'RHEA:13380', 'RHEA:14216', 'RHEA:15656', 'RHEA:16112',\n",
       "        'RHEA:20108'],\n",
       "       dtype='object')}"
      ]
     },
     "execution_count": 32,
     "metadata": {},
     "output_type": "execute_result"
    }
   ],
   "source": [
    "reac_cl.candidates"
   ]
  },
  {
   "cell_type": "code",
   "execution_count": 33,
   "id": "17204ba9",
   "metadata": {},
   "outputs": [
    {
     "data": {
      "text/plain": [
       "1.0"
      ]
     },
     "execution_count": 33,
     "metadata": {},
     "output_type": "execute_result"
    }
   ],
   "source": [
    "pred = {R_PFK: ['RHEA:16112']}\n",
    "reac_cl.getAccuracy(pred_annotation=pred)"
   ]
  },
  {
   "cell_type": "code",
   "execution_count": null,
   "id": "b9d0c365",
   "metadata": {},
   "outputs": [],
   "source": []
  }
 ],
 "metadata": {
  "kernelspec": {
   "display_name": "pyo",
   "language": "python",
   "name": "pyo"
  },
  "language_info": {
   "codemirror_mode": {
    "name": "ipython",
    "version": 3
   },
   "file_extension": ".py",
   "mimetype": "text/x-python",
   "name": "python",
   "nbconvert_exporter": "python",
   "pygments_lexer": "ipython3",
   "version": "3.8.8"
  }
 },
 "nbformat": 4,
 "nbformat_minor": 5
}
