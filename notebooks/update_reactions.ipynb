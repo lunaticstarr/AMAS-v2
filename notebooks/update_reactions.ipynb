{
 "cells": [
  {
   "cell_type": "code",
   "execution_count": 1,
   "id": "95abd553",
   "metadata": {},
   "outputs": [],
   "source": [
    "# Update reaction annotations\n",
    "import collections\n",
    "import itertools\n",
    "import libsbml\n",
    "import numpy as np\n",
    "import os\n",
    "import pickle\n",
    "import pandas as pd\n",
    "import sys\n",
    "import matplotlib.pyplot as plt\n",
    "%matplotlib inline  \n",
    "\n",
    "BIOMD_12 = 'BIOMD0000000012.xml'\n",
    "BASE_DIR = '/Users/woosubs/Desktop/AutomateAnnotation/'\n",
    "DATA_DIR = os.path.join(BASE_DIR, \"DATA\")\n",
    "ALGO_DIR = os.path.join(DATA_DIR, \"algo\")\n",
    "CHEBI_DIR = os.path.join(DATA_DIR, \"chebi\")\n",
    "RHEA_DIR = os.path.join(DATA_DIR, \"rhea\")\n",
    "BIOMODEL_DIR = os.path.join(DATA_DIR, \"biomodels/curated_biomodels_31mar2021\")\n",
    "BIGG_DIR = '/Users/woosubs/Desktop/AutomateAnnotation/DATA/bigg'\n",
    "ecoli_fpath = os.path.join(BIGG_DIR, \"e_coli_core.xml\")\n",
    "\n",
    "PROJ_DIR = os.path.join(os.getcwd(), os.pardir)\n",
    "AMAS_DIR = os.path.join(PROJ_DIR, \"AMAS\")\n",
    "sys.path.append(PROJ_DIR)\n",
    "\n",
    "from AMAS import species_annotation as sa\n",
    "from AMAS import reaction_annotation as ra\n",
    "from AMAS import constants as cn\n",
    "from AMAS import iterator as it\n",
    "from AMAS import tools"
   ]
  },
  {
   "cell_type": "code",
   "execution_count": 2,
   "id": "75596e94",
   "metadata": {},
   "outputs": [],
   "source": [
    "one_biomd = 'BIOMD0000000190.xml'\n",
    "one_biomd_fpath = os.path.join(BIOMODEL_DIR, one_biomd)\n",
    "reader = libsbml.SBMLReader()\n",
    "document = reader.readSBML(one_biomd_fpath)\n",
    "model = document.getModel()"
   ]
  },
  {
   "cell_type": "code",
   "execution_count": 3,
   "id": "9c6bb5ff",
   "metadata": {},
   "outputs": [],
   "source": [
    "BIOMD_248_PATH = os.path.join(cn.TEST_DIR, 'BIOMD0000000248.xml')\n",
    "# ID of a reaction\n",
    "R_PFK = 'R_PFK'\n",
    "ATP = 'M_atp_c'\n",
    "COMPONENTS = {'M_fdp_c', 'M_adp_c', 'M_atp_c', 'M_f6p_c', 'M_h_c'}\n",
    "ONE_CANDIDATE = 'RHEA:12423'\n",
    "ONE_CHEBI = 'CHEBI:30616'\n",
    "\n",
    "# Dummy data for calculating accuracy, recalll & precision\n",
    "DUMMY_REF = {'a': ['ABC', 'BCD'],\n",
    "              'b': ['DEF']}\n",
    "DUMMY_PRED = {'a': ['ABC'],\n",
    "             'b': ['AAA']}"
   ]
  },
  {
   "cell_type": "code",
   "execution_count": 4,
   "id": "6d5f21f1",
   "metadata": {},
   "outputs": [],
   "source": [
    "spec_cl = sa.SpeciesAnnotation(libsbml_fpath = ecoli_fpath)\n",
    "reac_cl = ra.ReactionAnnotation(libsbml_fpath = ecoli_fpath)\n",
    "pred_species = {val: spec_cl.predictAnnotationByEditDistance(inp_str=spec_cl.names[val]) \\\n",
    "                for val in COMPONENTS}\n",
    "spec_formula_dict = {val: pred_species[val][cn.FORMULA] for val in COMPONENTS}                                                             \n",
    "\n"
   ]
  },
  {
   "cell_type": "code",
   "execution_count": 5,
   "id": "97091731",
   "metadata": {},
   "outputs": [],
   "source": [
    "pred_reaction = reac_cl.predictAnnotation(inp_spec_dict=spec_formula_dict,\n",
    "                                          inp_reac_list=[R_PFK],\n",
    "                                          update=True)"
   ]
  },
  {
   "cell_type": "code",
   "execution_count": 6,
   "id": "e57ea97d",
   "metadata": {},
   "outputs": [
    {
     "name": "stdout",
     "output_type": "stream",
     "text": [
      "{'R_PFK': 0.9119592634489692}\n"
     ]
    }
   ],
   "source": [
    "one_eval = reac_cl.evaluatePredictedReactionAnnotation(inp_dict=pred_reaction)\n",
    "print(one_eval)"
   ]
  },
  {
   "cell_type": "code",
   "execution_count": 7,
   "id": "90ec9338",
   "metadata": {},
   "outputs": [],
   "source": [
    "match_scores_dict = pred_reaction[cn.MATCH_SCORE]"
   ]
  },
  {
   "cell_type": "code",
   "execution_count": 8,
   "id": "88fd4f1f",
   "metadata": {},
   "outputs": [
    {
     "data": {
      "text/plain": [
       "{'R_PFK': [('RHEA:12423', 0.8),\n",
       "  ('RHEA:13380', 0.8),\n",
       "  ('RHEA:14216', 0.8),\n",
       "  ('RHEA:15656', 0.8),\n",
       "  ('RHEA:16112', 0.8),\n",
       "  ('RHEA:20108', 0.8)]}"
      ]
     },
     "execution_count": 8,
     "metadata": {},
     "output_type": "execute_result"
    }
   ],
   "source": [
    "match_scores_dict"
   ]
  },
  {
   "cell_type": "code",
   "execution_count": 9,
   "id": "fb0c436d",
   "metadata": {},
   "outputs": [],
   "source": [
    "from AMAS import recommender\n",
    "recom = recommender.Recommender(libsbml_fpath=one_biomd_fpath)"
   ]
  },
  {
   "cell_type": "code",
   "execution_count": 10,
   "id": "a37dbc8e-9985-4264-a124-8641e76231c1",
   "metadata": {},
   "outputs": [
    {
     "data": {
      "text/plain": [
       "{'ODC': ['RHEA:22967'],\n",
       " 'SAMdc': ['RHEA:15984'],\n",
       " 'SSAT_for_S': ['RHEA:33102', 'RHEA:28273', 'RHEA:28153', 'RHEA:11119'],\n",
       " 'SSAT_for_D': ['RHEA:33102', 'RHEA:28273', 'RHEA:28153', 'RHEA:11119'],\n",
       " 'PAO_for_aD': ['RHEA:25803'],\n",
       " 'PAO_for_aS': ['RHEA:25803'],\n",
       " 'SpdS': ['RHEA:12724'],\n",
       " 'SpmS': ['RHEA:19976'],\n",
       " 'MAT': ['RHEA:21083']}"
      ]
     },
     "execution_count": 10,
     "metadata": {},
     "output_type": "execute_result"
    }
   ],
   "source": [
    "recom.reactions.exist_annotation"
   ]
  },
  {
   "cell_type": "code",
   "execution_count": 11,
   "id": "c6022b0e",
   "metadata": {},
   "outputs": [
    {
     "data": {
      "text/plain": [
       "{'recall': 0.75, 'precision': 0.63}"
      ]
     },
     "execution_count": 11,
     "metadata": {},
     "output_type": "execute_result"
    }
   ],
   "source": [
    "recom.getReactionStatistics()"
   ]
  },
  {
   "cell_type": "code",
   "execution_count": 12,
   "id": "2584f679-ea6e-4ae0-84b6-7ba1ff8d17ed",
   "metadata": {},
   "outputs": [],
   "source": [
    "recom.getSpeciesStatistics()"
   ]
  },
  {
   "cell_type": "code",
   "execution_count": null,
   "id": "65533053-4cf7-4d0a-8e70-d4493c4164c6",
   "metadata": {},
   "outputs": [],
   "source": []
  },
  {
   "cell_type": "code",
   "execution_count": 26,
   "id": "95374413",
   "metadata": {},
   "outputs": [
    {
     "data": {
      "text/plain": [
       "Recommendation(id='R_PFK', credibility=0.91, candidates=[('RHEA:12423', 0.8), ('RHEA:13380', 0.8), ('RHEA:14216', 0.8), ('RHEA:15656', 0.8), ('RHEA:16112', 0.8), ('RHEA:20108', 0.8)], urls=['https://www.rhea-db.org/rhea/12423', 'https://www.rhea-db.org/rhea/13380', 'https://www.rhea-db.org/rhea/14216', 'https://www.rhea-db.org/rhea/15656', 'https://www.rhea-db.org/rhea/16112', 'https://www.rhea-db.org/rhea/20108'])"
      ]
     },
     "execution_count": 26,
     "metadata": {},
     "output_type": "execute_result"
    }
   ],
   "source": [
    "recom.getReactionAnnotation(pred_id=R_PFK)"
   ]
  },
  {
   "cell_type": "code",
   "execution_count": null,
   "id": "c93fdc8d",
   "metadata": {},
   "outputs": [],
   "source": []
  },
  {
   "cell_type": "code",
   "execution_count": 6,
   "id": "f6e61501",
   "metadata": {},
   "outputs": [],
   "source": [
    "# recom.reactions.reaction_components"
   ]
  },
  {
   "cell_type": "code",
   "execution_count": 7,
   "id": "df40c1a1",
   "metadata": {},
   "outputs": [],
   "source": [
    "R_PFK = 'R_PFK'\n",
    "ATP = 'M_atp_c'\n",
    "COMPONENTS = {'M_fdp_c', 'M_adp_c', 'M_atp_c', 'M_f6p_c', 'M_h_c'}\n",
    "ONE_CANDIDATE = 'RHEA:12423'\n",
    "ONE_CHEBI = 'CHEBI:30616'\n",
    "\n",
    "spec_cl = sa.SpeciesAnnotation(libsbml_fpath = ecoli_fpath)\n",
    "reac_cl = ra.ReactionAnnotation(libsbml_fpath = ecoli_fpath)\n",
    "pred_species = spec_cl.predictAnnotationByName(inp_spec_list=COMPONENTS)\n",
    "pred_reaction = reac_cl.predictAnnotation(inp_spec_dict=spec_cl.formula,\n",
    "                                          inp_reac_list=[R_PFK])"
   ]
  },
  {
   "cell_type": "code",
   "execution_count": 8,
   "id": "ba21ac87",
   "metadata": {},
   "outputs": [
    {
     "data": {
      "text/plain": [
       "{'R_PFK': 0.9119592634489692}"
      ]
     },
     "execution_count": 8,
     "metadata": {},
     "output_type": "execute_result"
    }
   ],
   "source": [
    "reac_cl.evaluatePredictedReactionAnnotation(inp_dict=pred_reaction)"
   ]
  },
  {
   "cell_type": "code",
   "execution_count": 9,
   "id": "6660b77d",
   "metadata": {},
   "outputs": [
    {
     "data": {
      "text/plain": [
       "1.0"
      ]
     },
     "execution_count": 9,
     "metadata": {},
     "output_type": "execute_result"
    }
   ],
   "source": [
    "one_pred_dict = pred_reaction['candidates']\n",
    "reac_cl.getRecall(pred_annotation=one_pred_dict)"
   ]
  },
  {
   "cell_type": "code",
   "execution_count": 10,
   "id": "4eb33c91",
   "metadata": {},
   "outputs": [
    {
     "data": {
      "text/plain": [
       "0.16666666666666666"
      ]
     },
     "execution_count": 10,
     "metadata": {},
     "output_type": "execute_result"
    }
   ],
   "source": [
    "reac_cl.getPrecision(pred_annotation=one_pred_dict)"
   ]
  },
  {
   "cell_type": "code",
   "execution_count": 12,
   "id": "7f4d1659",
   "metadata": {},
   "outputs": [
    {
     "data": {
      "text/plain": [
       "{'R_PFK': Index(['RHEA:12423', 'RHEA:13380', 'RHEA:14216', 'RHEA:15656', 'RHEA:16112',\n",
       "        'RHEA:20108'],\n",
       "       dtype='object')}"
      ]
     },
     "execution_count": 12,
     "metadata": {},
     "output_type": "execute_result"
    }
   ],
   "source": [
    "pred_reaction['candidates']"
   ]
  },
  {
   "cell_type": "code",
   "execution_count": 9,
   "id": "e5abbc9a",
   "metadata": {},
   "outputs": [],
   "source": [
    "inp_dict = pred_reaction\n",
    "\n",
    "candidates_dict = inp_dict['candidates']\n",
    "\n",
    "cands_num_dict = {one_k: len(candidates_dict[one_k]) for one_k in candidates_dict.keys()}\n",
    "inp_list = list(inp_dict['candidates'].keys())\n",
    "num_candidates = [cands_num_dict[val] for val in inp_list]\n",
    "# num_candidates = [len(candidates_info[val]) for val in inp_list]\n",
    "multi_mat = ra.ref_mat.dot(inp_dict[cn.QUERY_DF])\n",
    "maxes = multi_mat.max()\n",
    "\n",
    "\n",
    "\n",
    "max_match = [maxes[val] for val in inp_list]\n",
    "\n",
    "match_scores = inp_dict[cn.MATCH_SCORE]\n",
    "\n",
    "\n",
    "mean_match_score = [np.mean([val[1] for val in match_scores[k]]) for k in inp_list]\n",
    "# med_match_score = [np.median([val[1] for val in match_scores[k]]) for k in inp_list]\n",
    "# min_match_score = [np.min([val[1] for val in match_scores[k]]) for k in inp_list]\n",
    "# max_match_score = [np.max([val[1] for val in match_scores[k]]) for k in inp_list]\n",
    "# var_match_score = [np.var([val[1] for val in match_scores[k]]) for k in inp_list]\n",
    "# data2prediction = list(zip(num_candidates,\n",
    "#                            max_match,\n",
    "#                            mean_match_score,\n",
    "#                            med_match_score,\n",
    "#                            min_match_score,\n",
    "#                            max_match_score,\n",
    "#                            var_match_score))\n",
    "# pred_probs = fitted_model.predict(data2prediction)\n",
    "# # Collect probability to be correct\n",
    "# res = {val[0]:val[1] for val in list(zip(inp_list, pred_probs))}"
   ]
  },
  {
   "cell_type": "code",
   "execution_count": 28,
   "id": "3dc7bd39",
   "metadata": {},
   "outputs": [
    {
     "data": {
      "text/plain": [
       "[0.7999999999999999]"
      ]
     },
     "execution_count": 28,
     "metadata": {},
     "output_type": "execute_result"
    }
   ],
   "source": [
    "mean_match_score"
   ]
  },
  {
   "cell_type": "code",
   "execution_count": null,
   "id": "f41c7e98",
   "metadata": {},
   "outputs": [],
   "source": []
  },
  {
   "cell_type": "markdown",
   "id": "91749d17",
   "metadata": {},
   "source": [
    "# Updating test_reaction_annotation"
   ]
  },
  {
   "cell_type": "code",
   "execution_count": 10,
   "id": "03cb9b78",
   "metadata": {},
   "outputs": [],
   "source": [
    "R_PFK = 'R_PFK'\n",
    "ATP = 'M_atp_c'\n",
    "COMPONENTS = {'M_fdp_c', 'M_adp_c', 'M_atp_c', 'M_f6p_c', 'M_h_c'}\n",
    "ONE_CANDIDATE = 'RHEA:12423'\n",
    "ONE_CHEBI = 'CHEBI:30616'\n",
    "BIOMD_248_PATH = os.path.join(os.getcwd(), 'BIOMD0000000248.xml')\n",
    "E_COLI_PATH = os.path.join(BIGG_DIR, \"e_coli_core.xml\")\n",
    "\n",
    "from AMAS import recommender\n",
    "recom = recommender.Recommender(libsbml_fpath=ecoli_fpath)"
   ]
  },
  {
   "cell_type": "code",
   "execution_count": 12,
   "id": "d4db4822",
   "metadata": {},
   "outputs": [
    {
     "name": "stdout",
     "output_type": "stream",
     "text": [
      "{'R_PFK': 6}\n"
     ]
    }
   ],
   "source": [
    "inp_dict = pred_reaction['candidates']\n",
    "cands_num_dict = {one_k: len(inp_dict[one_k]) for one_k in inp_dict.keys()}\n",
    "print(cands_num_dict)"
   ]
  },
  {
   "cell_type": "code",
   "execution_count": 13,
   "id": "2f510b09",
   "metadata": {},
   "outputs": [
    {
     "ename": "IndexError",
     "evalue": "tuple index out of range",
     "output_type": "error",
     "traceback": [
      "\u001b[0;31m---------------------------------------------------------------------------\u001b[0m",
      "\u001b[0;31mIndexError\u001b[0m                                Traceback (most recent call last)",
      "\u001b[0;32m<ipython-input-13-7328222cb305>\u001b[0m in \u001b[0;36m<module>\u001b[0;34m\u001b[0m\n\u001b[0;32m----> 1\u001b[0;31m \u001b[0mreac_cl\u001b[0m\u001b[0;34m.\u001b[0m\u001b[0mevaluatePredictedReactionAnnotation\u001b[0m\u001b[0;34m(\u001b[0m\u001b[0minp_dict\u001b[0m\u001b[0;34m=\u001b[0m\u001b[0mpred_reaction\u001b[0m\u001b[0;34m[\u001b[0m\u001b[0;34m'candidates'\u001b[0m\u001b[0;34m]\u001b[0m\u001b[0;34m)\u001b[0m\u001b[0;34m\u001b[0m\u001b[0;34m\u001b[0m\u001b[0m\n\u001b[0m",
      "\u001b[0;32m~/Desktop/AutomateAnnotation/AMAS/notebooks/../AMAS/reaction_annotation.py\u001b[0m in \u001b[0;36mevaluatePredictedReactionAnnotation\u001b[0;34m(self, inp_dict, fitted_model)\u001b[0m\n\u001b[1;32m    391\u001b[0m     \u001b[0mnum_candidates\u001b[0m \u001b[0;34m=\u001b[0m \u001b[0;34m[\u001b[0m\u001b[0mcands_num_dict\u001b[0m\u001b[0;34m[\u001b[0m\u001b[0mval\u001b[0m\u001b[0;34m]\u001b[0m \u001b[0;32mfor\u001b[0m \u001b[0mval\u001b[0m \u001b[0;32min\u001b[0m \u001b[0minp_list\u001b[0m\u001b[0;34m]\u001b[0m\u001b[0;34m\u001b[0m\u001b[0;34m\u001b[0m\u001b[0m\n\u001b[1;32m    392\u001b[0m     \u001b[0;31m# num_candidates = [len(candidates_info[val]) for val in inp_list]\u001b[0m\u001b[0;34m\u001b[0m\u001b[0;34m\u001b[0m\u001b[0;34m\u001b[0m\u001b[0m\n\u001b[0;32m--> 393\u001b[0;31m     \u001b[0mmulti_mat\u001b[0m \u001b[0;34m=\u001b[0m \u001b[0mref_mat\u001b[0m\u001b[0;34m.\u001b[0m\u001b[0mdot\u001b[0m\u001b[0;34m(\u001b[0m\u001b[0mself\u001b[0m\u001b[0;34m.\u001b[0m\u001b[0mquery_df\u001b[0m\u001b[0;34m)\u001b[0m\u001b[0;34m\u001b[0m\u001b[0;34m\u001b[0m\u001b[0m\n\u001b[0m\u001b[1;32m    394\u001b[0m     \u001b[0mmaxes\u001b[0m \u001b[0;34m=\u001b[0m \u001b[0mmulti_mat\u001b[0m\u001b[0;34m.\u001b[0m\u001b[0mmax\u001b[0m\u001b[0;34m(\u001b[0m\u001b[0;34m)\u001b[0m\u001b[0;34m\u001b[0m\u001b[0;34m\u001b[0m\u001b[0m\n\u001b[1;32m    395\u001b[0m     \u001b[0mmax_match\u001b[0m \u001b[0;34m=\u001b[0m \u001b[0;34m[\u001b[0m\u001b[0mmaxes\u001b[0m\u001b[0;34m[\u001b[0m\u001b[0mval\u001b[0m\u001b[0;34m]\u001b[0m \u001b[0;32mfor\u001b[0m \u001b[0mval\u001b[0m \u001b[0;32min\u001b[0m \u001b[0minp_list\u001b[0m\u001b[0;34m]\u001b[0m\u001b[0;34m\u001b[0m\u001b[0;34m\u001b[0m\u001b[0m\n",
      "\u001b[0;32m~/anaconda3/envs/pyo/lib/python3.8/site-packages/pandas/core/frame.py\u001b[0m in \u001b[0;36mdot\u001b[0;34m(self, other)\u001b[0m\n\u001b[1;32m   1252\u001b[0m             \u001b[0mlvals\u001b[0m \u001b[0;34m=\u001b[0m \u001b[0mself\u001b[0m\u001b[0;34m.\u001b[0m\u001b[0mvalues\u001b[0m\u001b[0;34m\u001b[0m\u001b[0;34m\u001b[0m\u001b[0m\n\u001b[1;32m   1253\u001b[0m             \u001b[0mrvals\u001b[0m \u001b[0;34m=\u001b[0m \u001b[0mnp\u001b[0m\u001b[0;34m.\u001b[0m\u001b[0masarray\u001b[0m\u001b[0;34m(\u001b[0m\u001b[0mother\u001b[0m\u001b[0;34m)\u001b[0m\u001b[0;34m\u001b[0m\u001b[0;34m\u001b[0m\u001b[0m\n\u001b[0;32m-> 1254\u001b[0;31m             \u001b[0;32mif\u001b[0m \u001b[0mlvals\u001b[0m\u001b[0;34m.\u001b[0m\u001b[0mshape\u001b[0m\u001b[0;34m[\u001b[0m\u001b[0;36m1\u001b[0m\u001b[0;34m]\u001b[0m \u001b[0;34m!=\u001b[0m \u001b[0mrvals\u001b[0m\u001b[0;34m.\u001b[0m\u001b[0mshape\u001b[0m\u001b[0;34m[\u001b[0m\u001b[0;36m0\u001b[0m\u001b[0;34m]\u001b[0m\u001b[0;34m:\u001b[0m\u001b[0;34m\u001b[0m\u001b[0;34m\u001b[0m\u001b[0m\n\u001b[0m\u001b[1;32m   1255\u001b[0m                 raise ValueError(\n\u001b[1;32m   1256\u001b[0m                     \u001b[0;34mf\"Dot product shape mismatch, {lvals.shape} vs {rvals.shape}\"\u001b[0m\u001b[0;34m\u001b[0m\u001b[0;34m\u001b[0m\u001b[0m\n",
      "\u001b[0;31mIndexError\u001b[0m: tuple index out of range"
     ]
    }
   ],
   "source": []
  },
  {
   "cell_type": "code",
   "execution_count": null,
   "id": "bc039359",
   "metadata": {},
   "outputs": [],
   "source": []
  },
  {
   "cell_type": "code",
   "execution_count": null,
   "id": "c953a575",
   "metadata": {},
   "outputs": [],
   "source": []
  },
  {
   "cell_type": "code",
   "execution_count": 28,
   "id": "114a6037",
   "metadata": {},
   "outputs": [
    {
     "name": "stdout",
     "output_type": "stream",
     "text": [
      "['RHEA:12423', 'RHEA:13380', 'RHEA:14216', 'RHEA:15656', 'RHEA:16112', 'RHEA:20108']\n"
     ]
    },
    {
     "data": {
      "text/plain": [
       "True"
      ]
     },
     "execution_count": 28,
     "metadata": {},
     "output_type": "execute_result"
    }
   ],
   "source": [
    "print([val[0] for val in pred_reaction[cn.MATCH_SCORE][R_PFK]])\n",
    "ONE_CANDIDATE in [val[0] for val in pred_reaction[cn.MATCH_SCORE][R_PFK]]"
   ]
  },
  {
   "cell_type": "code",
   "execution_count": 31,
   "id": "8ce7308d",
   "metadata": {},
   "outputs": [
    {
     "data": {
      "text/plain": [
       "['RHEA:1']"
      ]
     },
     "execution_count": 31,
     "metadata": {},
     "output_type": "execute_result"
    }
   ],
   "source": [
    "one_match_score = {'R1': [('RHEA:1', 1.0), ('RHEA:2', 0.5)]}\n",
    "reac_cl.getBestOneCandidates(one_match_score)['R1']"
   ]
  },
  {
   "cell_type": "code",
   "execution_count": 32,
   "id": "da9be9b9",
   "metadata": {},
   "outputs": [
    {
     "data": {
      "text/plain": [
       "{'R_PFK': Index(['RHEA:12423', 'RHEA:13380', 'RHEA:14216', 'RHEA:15656', 'RHEA:16112',\n",
       "        'RHEA:20108'],\n",
       "       dtype='object')}"
      ]
     },
     "execution_count": 32,
     "metadata": {},
     "output_type": "execute_result"
    }
   ],
   "source": [
    "reac_cl.candidates"
   ]
  },
  {
   "cell_type": "code",
   "execution_count": 33,
   "id": "d1b955e3",
   "metadata": {},
   "outputs": [
    {
     "data": {
      "text/plain": [
       "1.0"
      ]
     },
     "execution_count": 33,
     "metadata": {},
     "output_type": "execute_result"
    }
   ],
   "source": [
    "pred = {R_PFK: ['RHEA:16112']}\n",
    "reac_cl.getAccuracy(pred_annotation=pred)"
   ]
  },
  {
   "cell_type": "code",
   "execution_count": null,
   "id": "5da884a0",
   "metadata": {},
   "outputs": [],
   "source": []
  }
 ],
 "metadata": {
  "kernelspec": {
   "display_name": "pyo",
   "language": "python",
   "name": "pyo"
  },
  "language_info": {
   "codemirror_mode": {
    "name": "ipython",
    "version": 3
   },
   "file_extension": ".py",
   "mimetype": "text/x-python",
   "name": "python",
   "nbconvert_exporter": "python",
   "pygments_lexer": "ipython3",
   "version": "3.8.8"
  }
 },
 "nbformat": 4,
 "nbformat_minor": 5
}
