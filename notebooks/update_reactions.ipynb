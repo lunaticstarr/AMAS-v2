{
 "cells": [
  {
   "cell_type": "code",
   "execution_count": 1,
   "id": "e0d3e2f4",
   "metadata": {},
   "outputs": [],
   "source": [
    "# Update reaction annotations\n",
    "import collections\n",
    "import itertools\n",
    "import libsbml\n",
    "import numpy as np\n",
    "import os\n",
    "import pickle\n",
    "import pandas as pd\n",
    "import sys\n",
    "import matplotlib.pyplot as plt\n",
    "%matplotlib inline  \n",
    "\n",
    "BIOMD_12 = 'BIOMD0000000012.xml'\n",
    "BASE_DIR = '/Users/woosubs/Desktop/AutomateAnnotation/'\n",
    "DATA_DIR = os.path.join(BASE_DIR, \"DATA\")\n",
    "ALGO_DIR = os.path.join(DATA_DIR, \"algo\")\n",
    "CHEBI_DIR = os.path.join(DATA_DIR, \"chebi\")\n",
    "RHEA_DIR = os.path.join(DATA_DIR, \"rhea\")\n",
    "BIOMODEL_DIR = os.path.join(DATA_DIR, \"biomodels/curated_biomodels_31mar2021\")\n",
    "BIGG_DIR = '/Users/woosubs/Desktop/AutomateAnnotation/DATA/bigg'\n",
    "ecoli_fpath = os.path.join(BIGG_DIR, \"e_coli_core.xml\")\n",
    "\n",
    "PROJ_DIR = os.path.join(os.getcwd(), os.pardir)\n",
    "AMAS_DIR = os.path.join(PROJ_DIR, \"AMAS\")\n",
    "sys.path.append(PROJ_DIR)\n",
    "\n",
    "from AMAS import species_annotation as sa\n",
    "from AMAS import reaction_annotation as ra\n",
    "from AMAS import constants as cn\n",
    "from AMAS import iterator as it\n",
    "from AMAS import tools"
   ]
  },
  {
   "cell_type": "code",
   "execution_count": 2,
   "id": "eabb3c9e",
   "metadata": {},
   "outputs": [],
   "source": [
    "one_biomd = 'BIOMD0000000190.xml'\n",
    "one_biomd_fpath = os.path.join(BIOMODEL_DIR, one_biomd)\n",
    "reader = libsbml.SBMLReader()\n",
    "document = reader.readSBML(one_biomd_fpath)\n",
    "model = document.getModel()"
   ]
  },
  {
   "cell_type": "code",
   "execution_count": 3,
   "id": "84849e84",
   "metadata": {},
   "outputs": [
    {
     "data": {
      "text/plain": [
       "<ListOfSpecies[11]>"
      ]
     },
     "execution_count": 3,
     "metadata": {},
     "output_type": "execute_result"
    }
   ],
   "source": [
    "model.getListOfSpecies()"
   ]
  },
  {
   "cell_type": "code",
   "execution_count": 4,
   "id": "625e4d2e",
   "metadata": {},
   "outputs": [],
   "source": [
    "from AMAS import recommender\n",
    "recom = recommender.Recommender(libsbml_fpath=one_biomd_fpath)"
   ]
  },
  {
   "cell_type": "code",
   "execution_count": 5,
   "id": "fbf74869",
   "metadata": {},
   "outputs": [
    {
     "data": {
      "text/plain": [
       "{}"
      ]
     },
     "execution_count": 5,
     "metadata": {},
     "output_type": "execute_result"
    }
   ],
   "source": [
    "recom.species.formula"
   ]
  },
  {
   "cell_type": "code",
   "execution_count": 6,
   "id": "195a408a",
   "metadata": {},
   "outputs": [
    {
     "data": {
      "text/plain": [
       "{'ODC': ['P', 'ORN'],\n",
       " 'SAMdc': ['A', 'SAM'],\n",
       " 'SSAT_for_S': ['S', 'aS', 'CoA', 'AcCoA'],\n",
       " 'SSAT_for_D': ['aD', 'CoA', 'AcCoA', 'D'],\n",
       " 'PAO_for_aD': ['aD', 'P'],\n",
       " 'PAO_for_aS': ['aS', 'D'],\n",
       " 'SpdS': ['D', 'A', 'P'],\n",
       " 'SpmS': ['S', 'A', 'D'],\n",
       " 'MAT': ['Met', 'SAM'],\n",
       " 'VCoA': ['CoA', 'AcCoA'],\n",
       " 'VacCoA': ['CoA', 'AcCoA'],\n",
       " 'P_efflux': ['P'],\n",
       " 'aD_efflux': ['aD']}"
      ]
     },
     "execution_count": 6,
     "metadata": {},
     "output_type": "execute_result"
    }
   ],
   "source": [
    "recom.reactions.reaction_components"
   ]
  },
  {
   "cell_type": "code",
   "execution_count": 7,
   "id": "55950e7b",
   "metadata": {},
   "outputs": [
    {
     "name": "stdout",
     "output_type": "stream",
     "text": [
      "['S', 'CoA', 'aS', 'A', 'SAM', 'AcCoA']\n",
      "{'S': ['C10N4'], 'CoA': ['C21N7O16P3S'], 'aS': ['C12N4O'], 'A': ['C14N6O3S'], 'SAM': ['C15N6O5S'], 'AcCoA': ['C23N7O17P3S']}\n"
     ]
    }
   ],
   "source": [
    "reactions_to_annotate = ['SAMdc', 'SSAT_for_S']\n",
    "# First, collect all species IDs to annotate\n",
    "specs_to_annotate = list(set(itertools.chain(*[recom.reactions.reaction_components[val] \\\n",
    "                                               for val in reactions_to_annotate])))\n",
    "print(specs_to_annotate)\n",
    "# Why don't I just predict all species and continue? \n",
    "spec_results = recom.getSpeciesAnnotation(specs_to_annotate)\n",
    "spec_results\n",
    "# automatically created\n",
    "pred_formulas = recom.species.formula\n",
    "print(pred_formulas)"
   ]
  },
  {
   "cell_type": "code",
   "execution_count": 8,
   "id": "b3415e62",
   "metadata": {},
   "outputs": [],
   "source": [
    "pred_reaction = recom.reactions.predictAnnotation(inp_spec_dict=pred_formulas,\n",
    "                                                  inp_reac_list=reactions_to_annotate)"
   ]
  },
  {
   "cell_type": "code",
   "execution_count": 9,
   "id": "64ac09d6",
   "metadata": {},
   "outputs": [
    {
     "data": {
      "text/plain": [
       "{'SAMdc': [('RHEA:15984', 0.5)], 'SSAT_for_S': [('RHEA:33102', 0.8)]}"
      ]
     },
     "execution_count": 9,
     "metadata": {},
     "output_type": "execute_result"
    }
   ],
   "source": [
    "recom.reactions.match_score"
   ]
  },
  {
   "cell_type": "code",
   "execution_count": 10,
   "id": "d45319b3",
   "metadata": {},
   "outputs": [],
   "source": [
    "# match_scores = recom.reactions.match_score\n",
    "# inp_list = reactions_to_annotate\n",
    "# mean_match_score = [np.mean([val[1] for val in match_scores[k]]) for k in inp_list]\n",
    "# mean_match_score"
   ]
  },
  {
   "cell_type": "code",
   "execution_count": 11,
   "id": "92bf185d",
   "metadata": {},
   "outputs": [
    {
     "data": {
      "text/plain": [
       "{'SAMdc': 0.38447097442545614, 'SSAT_for_S': 0.9001079610299029}"
      ]
     },
     "execution_count": 11,
     "metadata": {},
     "output_type": "execute_result"
    }
   ],
   "source": [
    "recom.reactions.evaluatePredictedReactionAnnotation(reactions_to_annotate)"
   ]
  },
  {
   "cell_type": "code",
   "execution_count": 12,
   "id": "ad81345e",
   "metadata": {},
   "outputs": [
    {
     "data": {
      "text/plain": [
       "{'SAMdc': [('RHEA:15984', 0.5)], 'SSAT_for_S': [('RHEA:33102', 0.8)]}"
      ]
     },
     "execution_count": 12,
     "metadata": {},
     "output_type": "execute_result"
    }
   ],
   "source": [
    "pred_reaction"
   ]
  },
  {
   "cell_type": "markdown",
   "id": "46b0121a",
   "metadata": {},
   "source": [
    "# Updating test_reaction_annotation"
   ]
  },
  {
   "cell_type": "code",
   "execution_count": 16,
   "id": "39127cdf",
   "metadata": {},
   "outputs": [],
   "source": [
    "R_PFK = 'R_PFK'\n",
    "ATP = 'M_atp_c'\n",
    "COMPONENTS = {'M_fdp_c', 'M_adp_c', 'M_atp_c', 'M_f6p_c', 'M_h_c'}\n",
    "ONE_CANDIDATE = 'RHEA:12423'\n",
    "ONE_CHEBI = 'CHEBI:30616'\n",
    "BIOMD_248_PATH = os.path.join(os.getcwd(), 'BIOMD0000000248.xml')\n",
    "E_COLI_PATH = os.path.join(BIGG_DIR, \"e_coli_core.xml\")\n",
    "\n",
    "from AMAS import recommender\n",
    "recom = recommender.Recommender(libsbml_fpath=ecoli_fpath)"
   ]
  },
  {
   "cell_type": "code",
   "execution_count": 19,
   "id": "f6a6dfb0",
   "metadata": {},
   "outputs": [],
   "source": [
    "spec_cl = sa.SpeciesAnnotation(libsbml_fpath = E_COLI_PATH)\n",
    "reac_cl = ra.ReactionAnnotation(libsbml_fpath = E_COLI_PATH)\n",
    "pred_species = spec_cl.predictAnnotationByName(inp_spec_list=COMPONENTS)\n",
    "pred_reaction = reac_cl.predictAnnotation(inp_spec_dict=spec_cl.formula,\n",
    "                                          inp_reac_list=[R_PFK])"
   ]
  },
  {
   "cell_type": "code",
   "execution_count": 23,
   "id": "8e712249",
   "metadata": {},
   "outputs": [
    {
     "name": "stdout",
     "output_type": "stream",
     "text": [
      "['RHEA:12423', 'RHEA:13380', 'RHEA:14216', 'RHEA:15656', 'RHEA:16112', 'RHEA:20108']\n"
     ]
    },
    {
     "data": {
      "text/plain": [
       "True"
      ]
     },
     "execution_count": 23,
     "metadata": {},
     "output_type": "execute_result"
    }
   ],
   "source": [
    "print([val[0] for val in reac_cl.match_score[R_PFK]])\n",
    "ONE_CANDIDATE in [val[0] for val in reac_cl.match_score[R_PFK]]"
   ]
  },
  {
   "cell_type": "code",
   "execution_count": 31,
   "id": "e19a9447",
   "metadata": {},
   "outputs": [
    {
     "data": {
      "text/plain": [
       "['RHEA:1']"
      ]
     },
     "execution_count": 31,
     "metadata": {},
     "output_type": "execute_result"
    }
   ],
   "source": [
    "one_match_score = {'R1': [('RHEA:1', 1.0), ('RHEA:2', 0.5)]}\n",
    "reac_cl.getBestOneCandidates(one_match_score)['R1']"
   ]
  },
  {
   "cell_type": "code",
   "execution_count": 32,
   "id": "8132a775",
   "metadata": {},
   "outputs": [
    {
     "data": {
      "text/plain": [
       "{'R_PFK': Index(['RHEA:12423', 'RHEA:13380', 'RHEA:14216', 'RHEA:15656', 'RHEA:16112',\n",
       "        'RHEA:20108'],\n",
       "       dtype='object')}"
      ]
     },
     "execution_count": 32,
     "metadata": {},
     "output_type": "execute_result"
    }
   ],
   "source": [
    "reac_cl.candidates"
   ]
  },
  {
   "cell_type": "code",
   "execution_count": 33,
   "id": "f049be09",
   "metadata": {},
   "outputs": [
    {
     "data": {
      "text/plain": [
       "1.0"
      ]
     },
     "execution_count": 33,
     "metadata": {},
     "output_type": "execute_result"
    }
   ],
   "source": [
    "pred = {R_PFK: ['RHEA:16112']}\n",
    "reac_cl.getAccuracy(pred_annotation=pred)"
   ]
  },
  {
   "cell_type": "code",
   "execution_count": null,
   "id": "4a86fcdf",
   "metadata": {},
   "outputs": [],
   "source": []
  }
 ],
 "metadata": {
  "kernelspec": {
   "display_name": "pyo",
   "language": "python",
   "name": "pyo"
  },
  "language_info": {
   "codemirror_mode": {
    "name": "ipython",
    "version": 3
   },
   "file_extension": ".py",
   "mimetype": "text/x-python",
   "name": "python",
   "nbconvert_exporter": "python",
   "pygments_lexer": "ipython3",
   "version": "3.8.8"
  }
 },
 "nbformat": 4,
 "nbformat_minor": 5
}
