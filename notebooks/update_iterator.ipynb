{
 "cells": [
  {
   "cell_type": "code",
   "execution_count": 1,
   "id": "906fca02",
   "metadata": {},
   "outputs": [],
   "source": [
    "# Update iterator algorithm\n",
    "import collections\n",
    "import itertools\n",
    "import libsbml\n",
    "import numpy as np\n",
    "import os\n",
    "import pickle\n",
    "import pandas as pd\n",
    "import sys\n",
    "import matplotlib.pyplot as plt\n",
    "%matplotlib inline  \n",
    "\n",
    "BIOMD_12 = 'BIOMD0000000012.xml'\n",
    "BASE_DIR = '/Users/woosubs/Desktop/AutomateAnnotation/'\n",
    "DATA_DIR = os.path.join(BASE_DIR, \"DATA\")\n",
    "ALGO_DIR = os.path.join(DATA_DIR, \"algo\")\n",
    "CHEBI_DIR = os.path.join(DATA_DIR, \"chebi\")\n",
    "RHEA_DIR = os.path.join(DATA_DIR, \"rhea\")\n",
    "BIOMODEL_DIR = os.path.join(DATA_DIR, \"biomodels/curated_biomodels_31mar2021\")\n",
    "BIGG_DIR = '/Users/woosubs/Desktop/AutomateAnnotation/DATA/bigg'\n",
    "ecoli_fpath = os.path.join(BIGG_DIR, \"e_coli_core.xml\")\n",
    "\n",
    "PROJ_DIR = os.path.join(os.getcwd(), os.pardir)\n",
    "AMAS_DIR = os.path.join(PROJ_DIR, \"AMAS\")\n",
    "sys.path.append(PROJ_DIR)\n",
    "\n",
    "from AMAS import species_annotation as sa\n",
    "from AMAS import reaction_annotation as ra\n",
    "from AMAS import recommender\n",
    "from AMAS import constants as cn\n",
    "from AMAS import iterator as it\n",
    "from AMAS import tools"
   ]
  },
  {
   "cell_type": "code",
   "execution_count": 2,
   "id": "ffeb779c",
   "metadata": {},
   "outputs": [],
   "source": [
    "reader = libsbml.SBMLReader()\n",
    "document = reader.readSBML(ecoli_fpath)\n",
    "model = document.getModel()\n",
    "recom = recommender.Recommender(libsbml_fpath=ecoli_fpath)"
   ]
  },
  {
   "cell_type": "code",
   "execution_count": 3,
   "id": "5b17c261",
   "metadata": {},
   "outputs": [
    {
     "name": "stdout",
     "output_type": "stream",
     "text": [
      "['M_h_c', 'M_atp_c', 'M_f6p_c', 'M_adp_c', 'M_fdp_c']\n"
     ]
    }
   ],
   "source": [
    "# make sure both adp and atp are included\n",
    "one_reaction = 'R_PFK'\n",
    "print(recom.reactions.reaction_components[one_reaction])"
   ]
  },
  {
   "cell_type": "code",
   "execution_count": 34,
   "id": "5d0c9e08",
   "metadata": {},
   "outputs": [
    {
     "name": "stdout",
     "output_type": "stream",
     "text": [
      "Recommendation(id='R_PFK', credibility=0.91, candidates=[('RHEA:12423', 0.8), ('RHEA:13380', 0.8), ('RHEA:14216', 0.8), ('RHEA:15656', 0.8), ('RHEA:16112', 0.8), ('RHEA:20108', 0.8)], urls=['https://www.rhea-db.org/rhea/12423', 'https://www.rhea-db.org/rhea/13380', 'https://www.rhea-db.org/rhea/14216', 'https://www.rhea-db.org/rhea/15656', 'https://www.rhea-db.org/rhea/16112', 'https://www.rhea-db.org/rhea/20108'])\n"
     ]
    }
   ],
   "source": [
    "reac_recom = recom.getReactionAnnotation(pred_id = one_reaction)\n",
    "print(reac_recom)"
   ]
  },
  {
   "cell_type": "code",
   "execution_count": 35,
   "id": "c3c51b61",
   "metadata": {},
   "outputs": [
    {
     "name": "stdout",
     "output_type": "stream",
     "text": [
      "[('RHEA:12423', 0.8), ('RHEA:13380', 0.8), ('RHEA:14216', 0.8), ('RHEA:15656', 0.8), ('RHEA:16112', 0.8), ('RHEA:20108', 0.8)]\n"
     ]
    }
   ],
   "source": [
    "one_rhea_tup = recom.reactions.candidates[one_reaction]\n",
    "one_rhea = one_rhea_tup[0][0]\n",
    "print(one_rhea_tup)"
   ]
  },
  {
   "cell_type": "code",
   "execution_count": null,
   "id": "736e70bd",
   "metadata": {},
   "outputs": [],
   "source": []
  },
  {
   "cell_type": "code",
   "execution_count": 6,
   "id": "47fb0fd7",
   "metadata": {},
   "outputs": [],
   "source": [
    "def getDictOfRheaComponentFormula(inp_rhea):\n",
    "  \"\"\"\n",
    "  Get a dictionary {chebi_id: formula}\n",
    "  from a given rhea term.\n",
    "  Rhea term -> CheBI IDs -> Formulas\n",
    "  \n",
    "  Parameters\n",
    "  ----------\n",
    "  str: inp_rhea\n",
    "  \n",
    "  Returns\n",
    "  -------\n",
    "  : dict\n",
    "  \"\"\"\n",
    "  chebis = cn.REF_RHEA2CHEBI[one_rhea]\n",
    "  return {val:cn.REF_CHEBI2FORMULA[val] for val in chebis \\\n",
    "          if val in cn.REF_CHEBI2FORMULA.keys()}"
   ]
  },
  {
   "cell_type": "code",
   "execution_count": 17,
   "id": "c26f67e2",
   "metadata": {},
   "outputs": [
    {
     "name": "stdout",
     "output_type": "stream",
     "text": [
      "{'CHEBI:456216': ['M_adp_c'], 'CHEBI:15378': ['M_h_c'], 'CHEBI:58694': ['M_fdp_c'], 'CHEBI:30616': [], 'CHEBI:58695': ['M_f6p_c']}\n",
      "{'M_atp_c': ['CHEBI:30616']}\n"
     ]
    }
   ],
   "source": [
    "# match_dict = {one_k:[spec_id for spec_id in pred_spec_formulas.keys() \\\n",
    "#                      if one_rhea2formula[one_k] in pred_spec_formulas[spec_id]\n",
    "#                     ] \\\n",
    "#               for one_k in one_rhea2formula.keys()}\n",
    "# print(match_dict)\n",
    "# unmatched_species = [val for val in pred_spec_formulas.keys() \\\n",
    "#                     if val not in list(itertools.chain(*match_dict.values()))]\n",
    "# unmatched_chebi = [val for val in match_dict.keys() if not match_dict[val]]\n",
    "# if len(unmatched_species) == 1 and len(unmatched_chebi) == 1:\n",
    "#   print({unmatched_species[0]: unmatched_chebi})"
   ]
  },
  {
   "cell_type": "code",
   "execution_count": 7,
   "id": "04d0bec5",
   "metadata": {
    "tags": []
   },
   "outputs": [],
   "source": [
    "def getDictMatchByItem(chebi2ref_formula, spec2pred_formula):\n",
    "  \"\"\"\n",
    "  Get match between two keys,\n",
    "  where there are exactly \n",
    "  one matching items.\n",
    "  If all items are matched by 1-1\n",
    "  (i.e., one species - one chebi),\n",
    "  return the fully matched dictionary.\n",
    "  (i.e., improve precision)\n",
    "  If neither, return None.\n",
    "  (i.e., nothing to update)\n",
    "  \n",
    "  Parameters\n",
    "  ----------\n",
    "  chebi2ref_formula: dict\n",
    "      {chebi_term: a_species_formula(string)}\n",
    "  spec2pred_formula: dict\n",
    "      {species_id: [predicted_formulas]}\n",
    "  \n",
    "  Returns\n",
    "  -------\n",
    "  dict/None\n",
    "      {species_id: [chebi_term]}\n",
    "  \"\"\"\n",
    "  match_dict = {one_k:[spec_id for spec_id in spec2pred_formula.keys() \\\n",
    "                       if chebi2ref_formula[one_k] in spec2pred_formula[spec_id]\n",
    "                      ] \\\n",
    "                for one_k in chebi2ref_formula.keys()}\n",
    "  unmatched_species = [val for val in spec2pred_formula.keys() \\\n",
    "                      if val not in list(itertools.chain(*match_dict.values()))]\n",
    "  unmatched_chebi = [val for val in match_dict.keys() if not match_dict[val]]\n",
    "  if len(unmatched_species) == 1 and len(unmatched_chebi) == 1:\n",
    "    return {unmatched_species[0]: unmatched_chebi} \n",
    "  elif all([len(val[1])==1 for val in list(match_dict.items())]):\n",
    "    return match_dict\n",
    "  else:\n",
    "    return None"
   ]
  },
  {
   "cell_type": "code",
   "execution_count": 37,
   "id": "ade43ddd",
   "metadata": {},
   "outputs": [
    {
     "name": "stdout",
     "output_type": "stream",
     "text": [
      "{'M_atp_c': ['CHEBI:30616']}\n",
      "{'M_atp_c': ['C10N5O13P3']}\n"
     ]
    }
   ],
   "source": [
    "# The actual process: 1. Getting information to update\n",
    "pred_spec_formulas = recom.species.formula\n",
    "one_rhea2formula = getDictOfRheaComponentFormula(one_rhea)\n",
    "\n",
    "match_res = getDictMatchByItem(chebi2ref_formula=one_rhea2formula,\n",
    "                               spec2pred_formula=pred_spec_formulas)\n",
    "print(match_res)\n",
    "match_res_formula = {k:[cn.REF_CHEBI2FORMULA[chebi] for chebi in match_res[k]] for k in match_res.keys()}\n",
    "print(match_res_formula)"
   ]
  },
  {
   "cell_type": "code",
   "execution_count": null,
   "id": "a2f8eca1",
   "metadata": {},
   "outputs": [],
   "source": [
    "# Process 2: test whether this update makes sense;\n",
    "# i.e., check if this increases the confidence or match score (of reaction)\n",
    "\n",
    "\n",
    "# Process 3; based on the result of process 2, actuallly update annotation.\n",
    "# In this step, match score should be updated, I guess (or not..)\n"
   ]
  },
  {
   "cell_type": "code",
   "execution_count": 58,
   "id": "dd1aefda",
   "metadata": {},
   "outputs": [
    {
     "ename": "TypeError",
     "evalue": "updateSpeciesWithRecommendation() missing 1 required positional argument: 'inp_recom'",
     "output_type": "error",
     "traceback": [
      "\u001b[0;31m---------------------------------------------------------------------------\u001b[0m",
      "\u001b[0;31mTypeError\u001b[0m                                 Traceback (most recent call last)",
      "\u001b[0;32m<ipython-input-58-b17effbda23c>\u001b[0m in \u001b[0;36m<module>\u001b[0;34m\u001b[0m\n\u001b[0;32m----> 1\u001b[0;31m \u001b[0mrecom\u001b[0m\u001b[0;34m.\u001b[0m\u001b[0mspecies\u001b[0m\u001b[0;34m.\u001b[0m\u001b[0mupdateSpeciesWithRecommendation\u001b[0m\u001b[0;34m(\u001b[0m\u001b[0;34m)\u001b[0m\u001b[0;34m\u001b[0m\u001b[0;34m\u001b[0m\u001b[0m\n\u001b[0m",
      "\u001b[0;31mTypeError\u001b[0m: updateSpeciesWithRecommendation() missing 1 required positional argument: 'inp_recom'"
     ]
    }
   ],
   "source": [
    "recom.species.updateSpeciesWithRecommendation()"
   ]
  },
  {
   "cell_type": "code",
   "execution_count": 52,
   "id": "db2477d1",
   "metadata": {},
   "outputs": [],
   "source": [
    "# TODO: before updating the species, test whether it increases reaction scores\n",
    "# it may proceed if match score does not decrease (i.e., best match score is same or increasing)\n",
    "import copy\n",
    "def checkWhetherUpdateImprovesMatchScore(cur_spec_formulas, inp_spec2formula_dict):\n",
    "  \"\"\"\n",
    "  Check whether it improves reaction measures; \n",
    "  \n",
    "  \"\"\"\n",
    "#   cur_spec_formulas = copy.deepcopy(recom.species.formula)\n",
    "#   inp_spec2formula_dict = match_res_formula\n",
    "  cur_spec_formulas.update(inp_spec2formula_dict)\n",
    "\n",
    "  new_pred_res = recom.reactions.predictAnnotation(inp_spec_dict = cur_spec_formulas,\n",
    "                                                   inp_reac_list = [one_reaction])\n",
    "  old_pred_res = recom.reactions.predictAnnotation(inp_spec_dict = recom.species.formula,\n",
    "                                                   inp_reac_list = [one_reaction])\n",
    "  # since candidates are already sorted, \n",
    "  # just check the match score (index '1') of the very first element (index '0')\n",
    "  # this 'one_reaction' should be \n",
    "  new_pred_val = np.sum([new_pred_res[cn.MATCH_SCORE][k][0][1] \\\n",
    "                         for k in new_pred_res[cn.MATCH_SCORE].keys()])\n",
    "  old_pred_val = np.sum([old_pred_res[cn.MATCH_SCORE][k][0][1] \\\n",
    "                         for k in old_pred_res[cn.MATCH_SCORE].keys()])\n",
    "  if new_pred_val >= old_pred_val:\n",
    "    return True\n",
    "  else:\n",
    "    return False"
   ]
  },
  {
   "cell_type": "code",
   "execution_count": 59,
   "id": "9dc812e3",
   "metadata": {},
   "outputs": [
    {
     "data": {
      "text/plain": [
       "1.0"
      ]
     },
     "execution_count": 59,
     "metadata": {},
     "output_type": "execute_result"
    }
   ],
   "source": [
    "np.sum([new_pred_res[cn.MATCH_SCORE][k][0][1] for k in new_pred_res[cn.MATCH_SCORE].keys()])"
   ]
  },
  {
   "cell_type": "code",
   "execution_count": null,
   "id": "399cddbb",
   "metadata": {},
   "outputs": [],
   "source": []
  },
  {
   "cell_type": "code",
   "execution_count": 53,
   "id": "ca3291d1",
   "metadata": {},
   "outputs": [
    {
     "ename": "KeyError",
     "evalue": "0",
     "output_type": "error",
     "traceback": [
      "\u001b[0;31m---------------------------------------------------------------------------\u001b[0m",
      "\u001b[0;31mKeyError\u001b[0m                                  Traceback (most recent call last)",
      "\u001b[0;32m<ipython-input-53-f906401fcc3b>\u001b[0m in \u001b[0;36m<module>\u001b[0;34m\u001b[0m\n\u001b[0;32m----> 1\u001b[0;31m checkWhetherUpdateImprovesMatchScore(cur_spec_formulas = copy.deepcopy(recom.species.formula),\n\u001b[0m\u001b[1;32m      2\u001b[0m                                      inp_spec2formula_dict = match_res_formula)\n",
      "\u001b[0;32m<ipython-input-52-72ce6ad0e6be>\u001b[0m in \u001b[0;36mcheckWhetherUpdateImprovesMatchScore\u001b[0;34m(cur_spec_formulas, inp_spec2formula_dict)\u001b[0m\n\u001b[1;32m     17\u001b[0m   \u001b[0;31m# since candidates are already sorted,\u001b[0m\u001b[0;34m\u001b[0m\u001b[0;34m\u001b[0m\u001b[0;34m\u001b[0m\u001b[0m\n\u001b[1;32m     18\u001b[0m   \u001b[0;31m# just check the match score (index '1') of the very first element (index '0')\u001b[0m\u001b[0;34m\u001b[0m\u001b[0;34m\u001b[0m\u001b[0;34m\u001b[0m\u001b[0m\n\u001b[0;32m---> 19\u001b[0;31m   \u001b[0mnew_pred_val\u001b[0m \u001b[0;34m=\u001b[0m \u001b[0mnew_pred_res\u001b[0m\u001b[0;34m[\u001b[0m\u001b[0mcn\u001b[0m\u001b[0;34m.\u001b[0m\u001b[0mMATCH_SCORE\u001b[0m\u001b[0;34m]\u001b[0m\u001b[0;34m[\u001b[0m\u001b[0;36m0\u001b[0m\u001b[0;34m]\u001b[0m\u001b[0;34m[\u001b[0m\u001b[0;36m1\u001b[0m\u001b[0;34m]\u001b[0m\u001b[0;34m\u001b[0m\u001b[0;34m\u001b[0m\u001b[0m\n\u001b[0m\u001b[1;32m     20\u001b[0m   \u001b[0mold_pred_val\u001b[0m \u001b[0;34m=\u001b[0m \u001b[0mold_pred_res\u001b[0m\u001b[0;34m[\u001b[0m\u001b[0mcn\u001b[0m\u001b[0;34m.\u001b[0m\u001b[0mMATCH_SCORE\u001b[0m\u001b[0;34m]\u001b[0m\u001b[0;34m[\u001b[0m\u001b[0;36m0\u001b[0m\u001b[0;34m]\u001b[0m\u001b[0;34m[\u001b[0m\u001b[0;36m1\u001b[0m\u001b[0;34m]\u001b[0m\u001b[0;34m\u001b[0m\u001b[0;34m\u001b[0m\u001b[0m\n\u001b[1;32m     21\u001b[0m \u001b[0;34m\u001b[0m\u001b[0m\n",
      "\u001b[0;31mKeyError\u001b[0m: 0"
     ]
    }
   ],
   "source": [
    "checkWhetherUpdateImprovesMatchScore(cur_spec_formulas = copy.deepcopy(recom.species.formula),\n",
    "                                     inp_spec2formula_dict = match_res_formula)"
   ]
  },
  {
   "cell_type": "code",
   "execution_count": 58,
   "id": "73db9db8",
   "metadata": {},
   "outputs": [],
   "source": [
    "\n",
    "\n",
    "cur_spec_formulas = copy.deepcopy(recom.species.formula)\n",
    "inp_spec2formula_dict = match_res_formula\n",
    "cur_spec_formulas.update(inp_spec2formula_dict)\n",
    "\n",
    "new_pred_res = recom.reactions.predictAnnotation(inp_spec_dict = cur_spec_formulas,\n",
    "                                                 inp_reac_list = [one_reaction])\n",
    "old_pred_res = recom.reactions.predictAnnotation(inp_spec_dict = recom.species.formula,\n",
    "                                                 inp_reac_list = [one_reaction])\n",
    "new_pred_val = new_pred_res[cn.MATCH_SCORE][one_reaction][0][1]\n",
    "old_pred_val = old_pred_res[cn.MATCH_SCORE][one_reaction][0][1]\n",
    "\n",
    "# if new_pred_val >= old_pred_val:\n",
    "#   return True\n",
    "# else:\n",
    "#   return False"
   ]
  },
  {
   "cell_type": "code",
   "execution_count": 56,
   "id": "96e53d56",
   "metadata": {},
   "outputs": [
    {
     "data": {
      "text/plain": [
       "{'candidates': {'R_PFK': Index(['RHEA:12423', 'RHEA:13380', 'RHEA:14216', 'RHEA:15656', 'RHEA:16112'], dtype='object')},\n",
       " 'match_score': {'R_PFK': [('RHEA:12423', 1.0),\n",
       "   ('RHEA:13380', 1.0),\n",
       "   ('RHEA:14216', 1.0),\n",
       "   ('RHEA:15656', 1.0),\n",
       "   ('RHEA:16112', 1.0)]},\n",
       " 'query_df':              R_PFK\n",
       " C10N2O11P        0\n",
       " C45CoN4O14       0\n",
       " C17N4O10P        0\n",
       " C45O             0\n",
       " C20O2            0\n",
       " ...            ...\n",
       " C10N2O3          0\n",
       " C17N5O17P3R      0\n",
       " C32N5O8P         0\n",
       " C40N9O13         0\n",
       " C22N2O2          0\n",
       " \n",
       " [3790 rows x 1 columns]}"
      ]
     },
     "execution_count": 56,
     "metadata": {},
     "output_type": "execute_result"
    }
   ],
   "source": [
    "new_pred_res['MAT']"
   ]
  },
  {
   "cell_type": "code",
   "execution_count": 47,
   "id": "ae01689b",
   "metadata": {},
   "outputs": [
    {
     "data": {
      "text/plain": [
       "1.0"
      ]
     },
     "execution_count": 47,
     "metadata": {},
     "output_type": "execute_result"
    }
   ],
   "source": [
    "new_reac_res[cn.MATCH_SCORE][one_reaction][0][1]"
   ]
  },
  {
   "cell_type": "code",
   "execution_count": 48,
   "id": "e6b889ed",
   "metadata": {},
   "outputs": [
    {
     "data": {
      "text/plain": [
       "0.8"
      ]
     },
     "execution_count": 48,
     "metadata": {},
     "output_type": "execute_result"
    }
   ],
   "source": [
    "old_reac_res[cn.MATCH_SCORE][one_reaction][0][1]"
   ]
  },
  {
   "cell_type": "code",
   "execution_count": null,
   "id": "83493a9a",
   "metadata": {},
   "outputs": [],
   "source": [
    "# as the value increased, (maximum possible match score), \n",
    "# "
   ]
  },
  {
   "cell_type": "code",
   "execution_count": 39,
   "id": "817b9bee",
   "metadata": {},
   "outputs": [
    {
     "data": {
      "text/plain": [
       "['C10N5O13P3']"
      ]
     },
     "execution_count": 39,
     "metadata": {},
     "output_type": "execute_result"
    }
   ],
   "source": [
    "cur_spec_formulas['M_atp_c']"
   ]
  },
  {
   "cell_type": "code",
   "execution_count": 40,
   "id": "e87fe490",
   "metadata": {},
   "outputs": [
    {
     "data": {
      "text/plain": [
       "['C20O4', 'C18ClN2O6S2']"
      ]
     },
     "execution_count": 40,
     "metadata": {},
     "output_type": "execute_result"
    }
   ],
   "source": [
    "recom.species.formula['M_atp_c']"
   ]
  },
  {
   "cell_type": "code",
   "execution_count": null,
   "id": "2c63c980",
   "metadata": {},
   "outputs": [],
   "source": [
    "# Below is for species class\n",
    "def updateSpeciesWithDict(inp_dict, inp_match_score=None):\n",
    "  \"\"\"\n",
    "  Update species with candidates\n",
    "  using a dictionary.\n",
    "  Match score should be\n",
    "  wisely chosen as \n",
    "  nothing is matched; \n",
    "  \n",
    "  Parameters\n",
    "  ----------\n",
    "  inp_dict: dict\n",
    "      {species_id: [chebi terms]}\n",
    "  \n",
    "  Returns\n",
    "  -------\n",
    "  None\n",
    "  \"\"\"\n",
    "  # TODO: \n",
    "  pass"
   ]
  },
  {
   "cell_type": "code",
   "execution_count": 45,
   "id": "a0b2e13c",
   "metadata": {},
   "outputs": [
    {
     "data": {
      "text/plain": [
       "['C10N5O13P3']"
      ]
     },
     "execution_count": 45,
     "metadata": {},
     "output_type": "execute_result"
    }
   ],
   "source": [
    "inp_dict = match_res\n",
    "list(itertools.chain(*[[cn.REF_CHEBI2FORMULA[val] for val in inp_dict[k]] for k in inp_dict.keys()]))"
   ]
  },
  {
   "cell_type": "code",
   "execution_count": 59,
   "id": "0015940b",
   "metadata": {},
   "outputs": [
    {
     "data": {
      "text/plain": [
       "{'M_atp_c': ['CHEBI:30616']}"
      ]
     },
     "execution_count": 59,
     "metadata": {},
     "output_type": "execute_result"
    }
   ],
   "source": [
    "match_res"
   ]
  },
  {
   "cell_type": "code",
   "execution_count": null,
   "id": "492a139f",
   "metadata": {},
   "outputs": [],
   "source": []
  },
  {
   "cell_type": "code",
   "execution_count": 40,
   "id": "b1908e46",
   "metadata": {},
   "outputs": [
    {
     "data": {
      "text/plain": [
       "'C10N5O13P3'"
      ]
     },
     "execution_count": 40,
     "metadata": {},
     "output_type": "execute_result"
    }
   ],
   "source": [
    "cn.REF_CHEBI2FORMULA[inp_dict['M_atp_c'][0]]"
   ]
  },
  {
   "cell_type": "code",
   "execution_count": 41,
   "id": "e2dd0f1c",
   "metadata": {},
   "outputs": [
    {
     "data": {
      "text/plain": [
       "{'M_atp_c': ['CHEBI:30616']}"
      ]
     },
     "execution_count": 41,
     "metadata": {},
     "output_type": "execute_result"
    }
   ],
   "source": [
    "inp_dict"
   ]
  },
  {
   "cell_type": "code",
   "execution_count": 50,
   "id": "3a7a436b",
   "metadata": {},
   "outputs": [
    {
     "data": {
      "text/plain": [
       "{'I': 1,\n",
       " 'have': 1,\n",
       " 'two': 1,\n",
       " 'pets;': 1,\n",
       " 'one': 2,\n",
       " 'cute': 1,\n",
       " 'cat,': 1,\n",
       " 'and': 1,\n",
       " 'ugly': 1,\n",
       " 'dog.': 1}"
      ]
     },
     "execution_count": 50,
     "metadata": {},
     "output_type": "execute_result"
    }
   ],
   "source": [
    "one_str = 'I have two pets; one cute cat, and one ugly dog.'\n",
    "dict(collections.Counter(one_str.split(' ')))"
   ]
  },
  {
   "cell_type": "code",
   "execution_count": null,
   "id": "33b7d679",
   "metadata": {},
   "outputs": [],
   "source": []
  },
  {
   "cell_type": "code",
   "execution_count": null,
   "id": "e36c8557",
   "metadata": {},
   "outputs": [],
   "source": []
  },
  {
   "cell_type": "code",
   "execution_count": 36,
   "id": "d4307c62",
   "metadata": {},
   "outputs": [
    {
     "data": {
      "text/plain": [
       "{'M_fdp_c': ['C6O12P2'],\n",
       " 'M_atp_c': ['C18ClN2O6S2', 'C20O4'],\n",
       " 'M_h_c': ['H'],\n",
       " 'M_f6p_c': ['C6O9P'],\n",
       " 'M_adp_c': ['C9N4O5',\n",
       "  'C20N2O5S',\n",
       "  'C19O9P',\n",
       "  'C17Cl2F3N7O2S',\n",
       "  'C19O2',\n",
       "  'C28N6OS',\n",
       "  'C115N8O85',\n",
       "  'C27O5',\n",
       "  'C16F3IN2O4',\n",
       "  'C18ClN2O6S2',\n",
       "  'C18N4O11',\n",
       "  'C35N4O4',\n",
       "  'C26N7O2S',\n",
       "  'C16NO6',\n",
       "  'C10N5O10P2',\n",
       "  'C14N2O',\n",
       "  'C29N6O4S',\n",
       "  'C101N7O75',\n",
       "  'C20O4',\n",
       "  'C21ClN3O2',\n",
       "  'C26FIN5O4',\n",
       "  'C19N2O2S',\n",
       "  'C8NO6',\n",
       "  'C18O2',\n",
       "  'C12']}"
      ]
     },
     "execution_count": 36,
     "metadata": {},
     "output_type": "execute_result"
    }
   ],
   "source": [
    "recom.species.formula"
   ]
  },
  {
   "cell_type": "code",
   "execution_count": null,
   "id": "935062bc",
   "metadata": {},
   "outputs": [],
   "source": []
  },
  {
   "cell_type": "code",
   "execution_count": 6,
   "id": "b5616b62",
   "metadata": {},
   "outputs": [],
   "source": [
    "# iterator algorithm compares both "
   ]
  }
 ],
 "metadata": {
  "kernelspec": {
   "display_name": "Python 3",
   "language": "python",
   "name": "python3"
  },
  "language_info": {
   "codemirror_mode": {
    "name": "ipython",
    "version": 3
   },
   "file_extension": ".py",
   "mimetype": "text/x-python",
   "name": "python",
   "nbconvert_exporter": "python",
   "pygments_lexer": "ipython3",
   "version": "3.8.8"
  }
 },
 "nbformat": 4,
 "nbformat_minor": 5
}
