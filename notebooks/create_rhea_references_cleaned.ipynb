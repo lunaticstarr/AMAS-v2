{
 "cells": [
  {
   "cell_type": "markdown",
   "id": "a4b1926d",
   "metadata": {},
   "source": [
    "# Create Rhea reference files\n",
    "\n",
    "1. REF_RHEA2MASTER: dictionary of rhea to master\n",
    "2. REF_RHEA2LABEL: dictionary of rhea to label, i.e., the equations of the reactions\n",
    "3. REF_RHEA2CHEBI: dictionary of rhea to chebi, i.e., the chebi terms that are the participants of the reaction\n",
    "4. REF_MAT: reference matrix of rhea to chebi, i.e., the reference matrix of the reactions\n",
    "5. REF_RHEA2ECKEGG, REF_EC2RHEA, REF_KEGG2RHEA: dictionaries of rhea to ec and kegg, and the reverse mappings"
   ]
  },
  {
   "cell_type": "code",
   "execution_count": 5,
   "id": "689668b2-6312-4fce-bcc7-5ff3e96e5c76",
   "metadata": {},
   "outputs": [],
   "source": [
    "import compress_pickle\n",
    "import itertools\n",
    "import numpy as np\n",
    "import os\n",
    "import pandas as pd\n",
    "import pickle\n",
    "import requests\n",
    "import io\n",
    "\n",
    "DATA_DIR = '/Users/luna/Desktop/CRBM/AMAS_proj/Data'"
   ]
  },
  {
   "cell_type": "markdown",
   "id": "2ad1b4a3",
   "metadata": {},
   "source": [
    "## Data\n",
    "### Direction data\n",
    "Data are downloaded from the Rhea website: https://www.rhea-db.org/help/download.   \n",
    "TSV file of the mapping of reaction directions (rhea-directions.tsv) is obtained using the link: https://ftp.expasy.org/databases/rhea/tsv/rhea-directions.tsv.\n",
    "\n",
    "### Reaction information\n",
    "Reaction information (identifier, chebi names, chebi ids) can be obtained from Rhea REST API (https://www.rhea-db.org/help/rest-api)."
   ]
  },
  {
   "cell_type": "code",
   "execution_count": 74,
   "id": "f1c89882",
   "metadata": {},
   "outputs": [
    {
     "name": "stdout",
     "output_type": "stream",
     "text": [
      "(17131, 6)\n"
     ]
    },
    {
     "data": {
      "text/html": [
       "<div>\n",
       "<style scoped>\n",
       "    .dataframe tbody tr th:only-of-type {\n",
       "        vertical-align: middle;\n",
       "    }\n",
       "\n",
       "    .dataframe tbody tr th {\n",
       "        vertical-align: top;\n",
       "    }\n",
       "\n",
       "    .dataframe thead th {\n",
       "        text-align: right;\n",
       "    }\n",
       "</style>\n",
       "<table border=\"1\" class=\"dataframe\">\n",
       "  <thead>\n",
       "    <tr style=\"text-align: right;\">\n",
       "      <th></th>\n",
       "      <th>Reaction identifier</th>\n",
       "      <th>Equation</th>\n",
       "      <th>ChEBI name</th>\n",
       "      <th>ChEBI identifier</th>\n",
       "      <th>EC number</th>\n",
       "      <th>Cross-reference (KEGG)</th>\n",
       "    </tr>\n",
       "  </thead>\n",
       "  <tbody>\n",
       "    <tr>\n",
       "      <th>0</th>\n",
       "      <td>RHEA:22832</td>\n",
       "      <td>N-formimidoyl-L-glutamate + H2O = N-formyl-L-g...</td>\n",
       "      <td>N-formimidoyl-L-glutamate;H2O;N-formyl-L-gluta...</td>\n",
       "      <td>CHEBI:58928;CHEBI:15377;CHEBI:17684;CHEBI:28938</td>\n",
       "      <td>EC:3.5.3.13</td>\n",
       "      <td>KEGG:R02286</td>\n",
       "    </tr>\n",
       "    <tr>\n",
       "      <th>1</th>\n",
       "      <td>RHEA:22836</td>\n",
       "      <td>a fatty acyl-[ACP] + malonyl-[ACP] + H(+) = a ...</td>\n",
       "      <td>O-(S-fatty acylpantetheine-4'-phosphoryl)-L-se...</td>\n",
       "      <td>CHEBI:138651;CHEBI:78449;CHEBI:15378;CHEBI:787...</td>\n",
       "      <td>EC:2.3.1.41</td>\n",
       "      <td>KEGG:R02768</td>\n",
       "    </tr>\n",
       "    <tr>\n",
       "      <th>2</th>\n",
       "      <td>RHEA:22840</td>\n",
       "      <td>D-glutamine + H2O = D-glutamate + NH4(+)</td>\n",
       "      <td>D-glutamine;H2O;D-glutamate;NH4(+)</td>\n",
       "      <td>CHEBI:58000;CHEBI:15377;CHEBI:29986;CHEBI:28938</td>\n",
       "      <td>EC:3.5.1.35</td>\n",
       "      <td>KEGG:R01579</td>\n",
       "    </tr>\n",
       "    <tr>\n",
       "      <th>3</th>\n",
       "      <td>RHEA:22844</td>\n",
       "      <td>(6aS,11aS)-4-dimethylallyl-3,6a,9-trihydroxypt...</td>\n",
       "      <td>(6aS,11aS)-4-dimethylallyl-3,6a,9-trihydroxypt...</td>\n",
       "      <td>CHEBI:50036;CHEBI:57618;CHEBI:15379;CHEBI:1647...</td>\n",
       "      <td>EC:1.14.14.135</td>\n",
       "      <td>KEGG:R07197</td>\n",
       "    </tr>\n",
       "    <tr>\n",
       "      <th>4</th>\n",
       "      <td>RHEA:22848</td>\n",
       "      <td>(3S)-hydroxyoctanedioyl-CoA + NAD(+) = 3-oxooc...</td>\n",
       "      <td>(3S)-hydroxyoctanedioyl-CoA;NAD(+);3-oxooctane...</td>\n",
       "      <td>CHEBI:76333;CHEBI:57540;CHEBI:76335;CHEBI:5794...</td>\n",
       "      <td></td>\n",
       "      <td></td>\n",
       "    </tr>\n",
       "  </tbody>\n",
       "</table>\n",
       "</div>"
      ],
      "text/plain": [
       "  Reaction identifier                                           Equation  \\\n",
       "0          RHEA:22832  N-formimidoyl-L-glutamate + H2O = N-formyl-L-g...   \n",
       "1          RHEA:22836  a fatty acyl-[ACP] + malonyl-[ACP] + H(+) = a ...   \n",
       "2          RHEA:22840           D-glutamine + H2O = D-glutamate + NH4(+)   \n",
       "3          RHEA:22844  (6aS,11aS)-4-dimethylallyl-3,6a,9-trihydroxypt...   \n",
       "4          RHEA:22848  (3S)-hydroxyoctanedioyl-CoA + NAD(+) = 3-oxooc...   \n",
       "\n",
       "                                          ChEBI name  \\\n",
       "0  N-formimidoyl-L-glutamate;H2O;N-formyl-L-gluta...   \n",
       "1  O-(S-fatty acylpantetheine-4'-phosphoryl)-L-se...   \n",
       "2                 D-glutamine;H2O;D-glutamate;NH4(+)   \n",
       "3  (6aS,11aS)-4-dimethylallyl-3,6a,9-trihydroxypt...   \n",
       "4  (3S)-hydroxyoctanedioyl-CoA;NAD(+);3-oxooctane...   \n",
       "\n",
       "                                    ChEBI identifier       EC number  \\\n",
       "0    CHEBI:58928;CHEBI:15377;CHEBI:17684;CHEBI:28938     EC:3.5.3.13   \n",
       "1  CHEBI:138651;CHEBI:78449;CHEBI:15378;CHEBI:787...     EC:2.3.1.41   \n",
       "2    CHEBI:58000;CHEBI:15377;CHEBI:29986;CHEBI:28938     EC:3.5.1.35   \n",
       "3  CHEBI:50036;CHEBI:57618;CHEBI:15379;CHEBI:1647...  EC:1.14.14.135   \n",
       "4  CHEBI:76333;CHEBI:57540;CHEBI:76335;CHEBI:5794...                   \n",
       "\n",
       "  Cross-reference (KEGG)  \n",
       "0            KEGG:R02286  \n",
       "1            KEGG:R02768  \n",
       "2            KEGG:R01579  \n",
       "3            KEGG:R07197  \n",
       "4                         "
      ]
     },
     "execution_count": 74,
     "metadata": {},
     "output_type": "execute_result"
    }
   ],
   "source": [
    "url= \"https://www.rhea-db.org/rhea?\"\n",
    "parameter = {\n",
    "  \"query\":'',\n",
    "  \"columns\":\"rhea-id,equation,chebi,chebi-id,ec,reaction-xref(KEGG)\",\n",
    "  \"format\":'tsv'\n",
    "}\n",
    "response = requests.get(url,params=parameter)\n",
    "df = pd.read_csv(io.StringIO(response.text), delimiter='\\t', keep_default_na=False)\n",
    "print(df.shape)\n",
    "df.head()"
   ]
  },
  {
   "cell_type": "markdown",
   "id": "561649f2-f4da-4467-8251-dfc067940f0d",
   "metadata": {},
   "source": [
    "## REF_RHEA2MASTER\n",
    "\n",
    "Because there are seperate ids for the same reaction in different directions, we need to map the reaction to the master direction."
   ]
  },
  {
   "cell_type": "code",
   "execution_count": 26,
   "id": "faa6a7d9-bb9f-46c0-b875-d21a316ecfe3",
   "metadata": {},
   "outputs": [
    {
     "name": "stdout",
     "output_type": "stream",
     "text": [
      "(17131, 4)\n"
     ]
    }
   ],
   "source": [
    "df_directions = pd.read_csv(os.path.join(DATA_DIR, \"rhea-directions_jan2025.tsv\"), delimiter='\\t', keep_default_na=False)\n",
    "print(df_directions.shape)"
   ]
  },
  {
   "cell_type": "code",
   "execution_count": null,
   "id": "04641c6a-3633-46d4-83e0-8134c44ae4b5",
   "metadata": {},
   "outputs": [],
   "source": [
    "all2rhea_bi = dict()\n",
    "all2rhea_master = dict()\n",
    "\n",
    "for idx in df_directions.index:\n",
    "  one_row = df_directions.loc[idx, :]\n",
    "  # updating all2bi\n",
    "  for direction_type in one_row.index:\n",
    "    all2rhea_bi['RHEA:'+str(one_row[direction_type])] = 'RHEA:'+str(one_row['RHEA_ID_BI'])\n",
    "    all2rhea_master['RHEA:'+str(one_row[direction_type])] = 'RHEA:'+str(one_row['RHEA_ID_MASTER'])\n",
    "\n",
    "compress_pickle.dump(all2rhea_master, os.path.join(DATA_DIR, 'rhea_all2master_jan2025.lzma'),\n",
    "                     compression=\"lzma\", set_default_extension=False)"
   ]
  },
  {
   "cell_type": "markdown",
   "id": "9b09eadb",
   "metadata": {},
   "source": [
    "## REF_RHEA2LABEL\n",
    "\n",
    "Previous version used the names of the reactions as labels. However, the names are not always unique, and some of them may be confusing or hard to understand. Therefore, I used the equations directly as labels."
   ]
  },
  {
   "cell_type": "code",
   "execution_count": 43,
   "id": "48a2c906",
   "metadata": {},
   "outputs": [],
   "source": [
    "rhea2label = dict()\n",
    "\n",
    "for idx in df.index:\n",
    "  one_row = df.loc[idx, :]\n",
    "  one_mrhea = all2rhea_master[one_row['Reaction identifier']]\n",
    "  equations = one_row['Equation'].split(';')\n",
    "  rhea2label[one_mrhea] = equations\n",
    "\n",
    "compress_pickle.dump(rhea2label, os.path.join(DATA_DIR, 'rhea2label_jan2025.lzma'),\n",
    "                     compression=\"lzma\", set_default_extension=False)"
   ]
  },
  {
   "cell_type": "markdown",
   "id": "33c31ccf-831c-405a-82b0-88116efd9b9e",
   "metadata": {},
   "source": [
    "## REF_RHEA2CHEBI + REF_RHEA2FORMULA\n",
    "\n",
    "1. REF_RHEA2CHEBI was called 'mrhea2chebi_prime.lzma' in AMAS, because it used to map secondary chebi ids to prime chebi ids. However, after testing, I found that the rhea reference file already uses the prime chebi ids (and there are only two exceptions), therefore, I just used the Rhea data directly here.\n",
    "  \n",
    "2. REF_RHEA2FORMULA is a dictionary of rhea to chebi formulas. This is not used in AMAS, but is used to create the reference matrix REF_MAT.\n"
   ]
  },
  {
   "cell_type": "code",
   "execution_count": null,
   "id": "2c572bdc",
   "metadata": {},
   "outputs": [],
   "source": [
    "# Open the chebi formula file \n",
    "# created by `notebooks/create_chebi_reference_cleaned.ipynb`\n",
    "with open(os.path.join(DATA_DIR, 'chebi_shortened_formula_2jan2025.lzma'), 'rb') as f:\n",
    "  chebi2sformula = compress_pickle.load(f)"
   ]
  },
  {
   "cell_type": "code",
   "execution_count": 53,
   "id": "55108502",
   "metadata": {},
   "outputs": [],
   "source": [
    "mrhea2chebi = dict()\n",
    "mrhea2sformula = dict()\n",
    "for idx in df.index:\n",
    "  one_row = df.loc[idx, :]\n",
    "  one_mrhea = all2rhea_master[one_row['Reaction identifier']]\n",
    "  chebi_ids = one_row['ChEBI identifier'].split(';')\n",
    "  sforms = list(set([chebi2sformula[val] for val in chebi_ids if val in chebi2sformula.keys()]))\n",
    "  if len(sforms)>0:\n",
    "    mrhea2chebi[one_mrhea] = chebi_ids\n",
    "    mrhea2sformula[one_mrhea] = sforms"
   ]
  },
  {
   "cell_type": "code",
   "execution_count": 56,
   "id": "9773828b",
   "metadata": {},
   "outputs": [],
   "source": [
    "compress_pickle.dump(mrhea2chebi, os.path.join(DATA_DIR, 'mrhea2chebi_jan2025.lzma'),\n",
    "                     compression=\"lzma\", set_default_extension=False)\n",
    "compress_pickle.dump(mrhea2sformula, os.path.join(DATA_DIR, 'mrhea2sformula_jan2025.lzma'),\n",
    "                     compression=\"lzma\", set_default_extension=False)"
   ]
  },
  {
   "cell_type": "markdown",
   "id": "c3638671-68f2-45eb-bd66-015ef5e7a4dc",
   "metadata": {},
   "source": [
    "## REF-MAT (or REF-DAT) \n",
    "\n",
    "### REF_MAT\n",
    "This is the reference matrix of the reactions, where the rows are the reactions and the columns are the chebi formulas, and the values are 1 if the formula exists in the reaction, and 0 otherwise.\n",
    "\n",
    "### REF_DAT\n",
    "This is the reduced size version of REF_MAT, the file is called 'data2ref_mat.lzma' in AMAS. \n",
    "\n",
    "It is a tuple of three elements:\n",
    "1. list of chebi formulas\n",
    "2. list of rhea terms\n",
    "3. list of indices of non-zero values in the reference matrix (to represent the existance of a formula in a reaction)\n"
   ]
  },
  {
   "cell_type": "code",
   "execution_count": 59,
   "id": "7b0bd231-8a18-4193-85c7-681d770bbda8",
   "metadata": {},
   "outputs": [
    {
     "name": "stdout",
     "output_type": "stream",
     "text": [
      "(17131, 4286)\n"
     ]
    }
   ],
   "source": [
    "# collect all formulas (columns)\n",
    "formulas = []\n",
    "for one_k in mrhea2sformula.keys():\n",
    "  one_list_formula = mrhea2sformula[one_k]\n",
    "  formulas.append(one_list_formula)\n",
    "all_formulas = list(set(itertools.chain(*formulas)))\n",
    "\n",
    "# set index as the list of Rhea terms\n",
    "ref_mat = pd.DataFrame(0, index=list(mrhea2sformula.keys()), columns=all_formulas)\n",
    "\n",
    "for one_k in mrhea2sformula.keys():\n",
    "  one_list_formula = mrhea2sformula[one_k]\n",
    "  ref_mat.loc[one_k, one_list_formula] = 1\n",
    "\n",
    "print(ref_mat.shape)"
   ]
  },
  {
   "cell_type": "code",
   "execution_count": 70,
   "id": "b0e5a92c-3fe5-4554-a8cc-3f13bc67ea97",
   "metadata": {},
   "outputs": [
    {
     "name": "stdout",
     "output_type": "stream",
     "text": [
      "4286\n",
      "17131\n",
      "4286\n"
     ]
    }
   ],
   "source": [
    "# ref_dat is a decomposed version of ref_mat, to reduce size\n",
    "# do it by columns (smaller number than rhea reactions)\n",
    "nonzero_vals = []\n",
    "for cidx in range(len(ref_mat.columns)):\n",
    "  one_col = ref_mat.iloc[:, cidx]\n",
    "  nonzero_vals.append((cidx, list(one_col.to_numpy().nonzero()[0])))\n",
    "ref_dat = (all_formulas, list(mrhea2sformula.keys()), nonzero_vals)\n",
    "\n",
    "print(len(ref_dat[0]))\n",
    "print(len(ref_dat[1]))\n",
    "print(len(ref_dat[2]))"
   ]
  },
  {
   "cell_type": "code",
   "execution_count": 72,
   "id": "e5e10e6f-d846-4bff-bc00-20a8bb9a8d35",
   "metadata": {},
   "outputs": [],
   "source": [
    "compress_pickle.dump(ref_dat, os.path.join(DATA_DIR, 'data2ref_mat_jan2025.lzma'),\n",
    "                     compression=\"lzma\", set_default_extension=False)"
   ]
  },
  {
   "cell_type": "markdown",
   "id": "c7723573",
   "metadata": {},
   "source": [
    "## REF_RHEA2ECKEGG, REF_EC2RHEA, REF_KEGG2RHEA\n",
    "These are the mappings of the reactions (master direction) to the EC and KEGG terms."
   ]
  },
  {
   "cell_type": "code",
   "execution_count": 103,
   "id": "35b09072",
   "metadata": {},
   "outputs": [
    {
     "name": "stdout",
     "output_type": "stream",
     "text": [
      "8521\n",
      "6042\n",
      "6820\n"
     ]
    }
   ],
   "source": [
    "mrhea2eckegg = {} \n",
    "ec2mrhea = {}\n",
    "kegg2mrhea = {}\n",
    "for _, row in df.iterrows():\n",
    "    mrhea = all2rhea_master[row[\"Reaction identifier\"]]\n",
    "    ec_number = row[\"EC number\"]\n",
    "    # Extract EC number after 'EC:'\n",
    "    ec_extracted = ec_number.split(\"EC:\")[-1].strip() if pd.notna(ec_number) and \"EC:\" in ec_number else None\n",
    "    \n",
    "    kegg_ref = row[\"Cross-reference (KEGG)\"]\n",
    "    # Extract KEGG ID after 'KEGG:'\n",
    "    kegg_extracted = kegg_ref.split(\"KEGG:\")[-1].strip() if pd.notna(kegg_ref) and \"KEGG:\" in kegg_ref else None\n",
    "    \n",
    "    # Store only non-None values in the tuple\n",
    "    values = list(filter(None, (ec_number, ec_extracted, kegg_ref, kegg_extracted)))\n",
    "    if values: \n",
    "        mrhea2eckegg[mrhea] = values\n",
    "    \n",
    "    if ec_number not in ec2mrhea:\n",
    "        ec2mrhea[ec_number] = [] \n",
    "    ec2mrhea[ec_number].append(mrhea)\n",
    "\n",
    "    if kegg_ref not in kegg2mrhea:\n",
    "        kegg2mrhea[kegg_ref] = []\n",
    "    kegg2mrhea[kegg_ref].append(mrhea)\n",
    "\n",
    "print(len(mrhea2eckegg))\n",
    "print(len(ec2mrhea))\n",
    "print(len(kegg2mrhea))"
   ]
  },
  {
   "cell_type": "code",
   "execution_count": 106,
   "id": "611db473",
   "metadata": {},
   "outputs": [],
   "source": [
    "compress_pickle.dump(mrhea2eckegg, os.path.join(DATA_DIR, 'mrhea2eckegg_jan2025.lzma'),\n",
    "                     compression=\"lzma\", set_default_extension=False)\n",
    "compress_pickle.dump(ec2mrhea, os.path.join(DATA_DIR, 'ec2mrhea_jan2025.lzma'),\n",
    "                     compression=\"lzma\", set_default_extension=False)\n",
    "compress_pickle.dump(kegg2mrhea, os.path.join(DATA_DIR, 'kegg2mrhea_jan2025.lzma'),\n",
    "                     compression=\"lzma\", set_default_extension=False)"
   ]
  }
 ],
 "metadata": {
  "kernelspec": {
   "display_name": "Python 3 (ipykernel)",
   "language": "python",
   "name": "python3"
  },
  "language_info": {
   "codemirror_mode": {
    "name": "ipython",
    "version": 3
   },
   "file_extension": ".py",
   "mimetype": "text/x-python",
   "name": "python",
   "nbconvert_exporter": "python",
   "pygments_lexer": "ipython3",
   "version": "3.11.2"
  }
 },
 "nbformat": 4,
 "nbformat_minor": 5
}
