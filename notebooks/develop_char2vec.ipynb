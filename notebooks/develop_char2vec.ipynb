{
 "cells": [
  {
   "cell_type": "code",
   "execution_count": 1,
   "id": "1bff557e",
   "metadata": {},
   "outputs": [],
   "source": [
    "# Try to use char2vec to predict species annotation\n",
    "# Main goal is to speed up the process\n",
    "import collections\n",
    "import compress_pickle\n",
    "import itertools\n",
    "import libsbml\n",
    "import numpy as np\n",
    "import os\n",
    "import pickle\n",
    "import pandas as pd\n",
    "import sys\n",
    "import matplotlib.pyplot as plt\n",
    "%matplotlib inline  \n",
    "\n",
    "BIOMD_12 = 'BIOMD0000000012.xml'\n",
    "BASE_DIR = '/Users/woosubs/Desktop/AutomateAnnotation/'\n",
    "DATA_DIR = os.path.join(BASE_DIR, \"DATA\")\n",
    "ALGO_DIR = os.path.join(DATA_DIR, \"algo\")\n",
    "CHEBI_DIR = os.path.join(DATA_DIR, \"chebi\")\n",
    "RHEA_DIR = os.path.join(DATA_DIR, \"rhea\")\n",
    "BIOMODEL_DIR = os.path.join(DATA_DIR, \"biomodels/curated_biomodels_31mar2021\")\n",
    "BIGG_DIR = '/Users/woosubs/Desktop/AutomateAnnotation/DATA/bigg'\n",
    "ecoli_fpath = os.path.join(BIGG_DIR, \"e_coli_core.xml\")\n",
    "\n",
    "PROJ_DIR = os.path.join(os.getcwd(), os.pardir)\n",
    "AMAS_DIR = os.path.join(PROJ_DIR, \"AMAS\")\n",
    "sys.path.append(PROJ_DIR)\n",
    "\n",
    "from AMAS import species_annotation as sa\n",
    "from AMAS import reaction_annotation as ra\n",
    "from AMAS import recommender\n",
    "from AMAS import constants as cn\n",
    "from AMAS import iterator as it\n",
    "from AMAS import tools"
   ]
  },
  {
   "cell_type": "code",
   "execution_count": 2,
   "id": "e78175ca",
   "metadata": {},
   "outputs": [],
   "source": [
    "with open(os.path.join(cn.REF_DIR, 'chebi_low_synonyms_comp.lzma'), 'rb') as f:\n",
    "  chebi_low_synonyms = compress_pickle.load(f)"
   ]
  },
  {
   "cell_type": "code",
   "execution_count": 3,
   "id": "7d919f2a",
   "metadata": {},
   "outputs": [],
   "source": [
    "import re"
   ]
  },
  {
   "cell_type": "code",
   "execution_count": null,
   "id": "efce7da1",
   "metadata": {},
   "outputs": [],
   "source": []
  },
  {
   "cell_type": "code",
   "execution_count": 4,
   "id": "7ddab5ab",
   "metadata": {},
   "outputs": [],
   "source": [
    "all_chars = set(itertools.chain(*[itertools.chain(*chebi_low_synonyms[val]) for val in chebi_low_synonyms]))"
   ]
  },
  {
   "cell_type": "code",
   "execution_count": 16,
   "id": "89516666",
   "metadata": {},
   "outputs": [],
   "source": [
    "def getCountOfIndividualChracters(inp_str):\n",
    "  \"\"\"\n",
    "  Get a list of characters\n",
    "  between a-z and 0-9. \n",
    "  \n",
    "  Parameters\n",
    "  ----------\n",
    "  inp_str: str\n",
    "  \n",
    "  Returns\n",
    "  -------\n",
    "  : list\n",
    "  \"\"\"\n",
    "  return collections.Counter(itertools.chain(*re.findall('[a-z0-9]+', inp_str)))"
   ]
  },
  {
   "cell_type": "code",
   "execution_count": 17,
   "id": "e479e3ee",
   "metadata": {},
   "outputs": [],
   "source": [
    "def getTupleFromDict(inp_dict):\n",
    "  \"\"\"\n",
    "  Get a list of tuples,\n",
    "  where each tuple has an item and a key\n",
    "  from a dictionary. \n",
    "  e.g.) {'key': 'x', 'y'}\n",
    "  will be transofrmed as \n",
    "  [('x', 'key'), ('y', 'key')]\n",
    "   \n",
    "  Parameters\n",
    "  ----------\n",
    "  inp_dict: dict\n",
    "  \n",
    "  Returns\n",
    "  -------\n",
    "  : list-tuple\n",
    "  \"\"\"\n",
    "  res_list = []\n",
    "  for one_k in inp_dict.keys():\n",
    "    one_itm = inp_dict[one_k]\n",
    "    res_list.append([(val, one_k) for val in one_itm])\n",
    "  return list(itertools.chain(*res_list))"
   ]
  },
  {
   "cell_type": "code",
   "execution_count": 18,
   "id": "ddf48c44",
   "metadata": {},
   "outputs": [],
   "source": [
    "chebi_str_tups = getTupleFromDict(chebi_low_synonyms)\n",
    "chebi_count_tups = [(getCountOfIndividualChracters(val[0]), val[1]) for val in chebi_str_tups]"
   ]
  },
  {
   "cell_type": "code",
   "execution_count": 19,
   "id": "8c5a36ee",
   "metadata": {},
   "outputs": [
    {
     "data": {
      "text/plain": [
       "[(Counter({'n': 3, 'o': 1, 'r': 2, 'e': 3, 'p': 2, 'i': 2, 'h': 1}),\n",
       "  'CHEBI:18357'),\n",
       " (Counter({'n': 3, 'o': 1, 'r': 2, 'e': 2, 'p': 1, 'i': 2, 'f': 1, 'a': 1}),\n",
       "  'CHEBI:18357'),\n",
       " (Counter({'a': 1, 'r': 2, 't': 1, 'e': 2, 'n': 1, 'o': 1, 'l': 1}),\n",
       "  'CHEBI:18357')]"
      ]
     },
     "execution_count": 19,
     "metadata": {},
     "output_type": "execute_result"
    }
   ],
   "source": [
    "chebi_count_tups[:3]"
   ]
  },
  {
   "cell_type": "code",
   "execution_count": 20,
   "id": "73395ff4",
   "metadata": {},
   "outputs": [
    {
     "name": "stdout",
     "output_type": "stream",
     "text": [
      "['a', 'b', 'c', 'd', 'e', 'f', 'g', 'h', 'i', 'j', 'k', 'l', 'm', 'n', 'o', 'p', 'q', 'r', 's', 't', 'u', 'v', 'w', 'x', 'y', 'z', '0', '1', '2', '3', '4', '5', '6', '7', '8', '9']\n"
     ]
    }
   ],
   "source": [
    "col_vals = [chr(val) for val in range(ord('a'), ord('z')+1)] + [str(val) for val in range(0, 10)]\n",
    "print(col_vals)"
   ]
  },
  {
   "cell_type": "code",
   "execution_count": 21,
   "id": "f1c564e2",
   "metadata": {},
   "outputs": [],
   "source": [
    "nref_mat = pd.DataFrame(0, columns=col_vals,\n",
    "                       index=range(0, len(chebi_count_tups)))"
   ]
  },
  {
   "cell_type": "code",
   "execution_count": 22,
   "id": "7a382595",
   "metadata": {},
   "outputs": [],
   "source": [
    "for idx, itm in enumerate(chebi_count_tups):\n",
    "  for one_k in itm[0]:\n",
    "    nref_mat.loc[idx, one_k] = itm[0][one_k]"
   ]
  },
  {
   "cell_type": "code",
   "execution_count": 106,
   "id": "2025c7ad",
   "metadata": {},
   "outputs": [
    {
     "name": "stdout",
     "output_type": "stream",
     "text": [
      "(466448, 36)\n"
     ]
    },
    {
     "data": {
      "text/html": [
       "<div>\n",
       "<style scoped>\n",
       "    .dataframe tbody tr th:only-of-type {\n",
       "        vertical-align: middle;\n",
       "    }\n",
       "\n",
       "    .dataframe tbody tr th {\n",
       "        vertical-align: top;\n",
       "    }\n",
       "\n",
       "    .dataframe thead th {\n",
       "        text-align: right;\n",
       "    }\n",
       "</style>\n",
       "<table border=\"1\" class=\"dataframe\">\n",
       "  <thead>\n",
       "    <tr style=\"text-align: right;\">\n",
       "      <th></th>\n",
       "      <th>a</th>\n",
       "      <th>b</th>\n",
       "      <th>c</th>\n",
       "      <th>d</th>\n",
       "      <th>e</th>\n",
       "      <th>f</th>\n",
       "      <th>g</th>\n",
       "      <th>h</th>\n",
       "      <th>i</th>\n",
       "      <th>j</th>\n",
       "      <th>...</th>\n",
       "      <th>0</th>\n",
       "      <th>1</th>\n",
       "      <th>2</th>\n",
       "      <th>3</th>\n",
       "      <th>4</th>\n",
       "      <th>5</th>\n",
       "      <th>6</th>\n",
       "      <th>7</th>\n",
       "      <th>8</th>\n",
       "      <th>9</th>\n",
       "    </tr>\n",
       "  </thead>\n",
       "  <tbody>\n",
       "    <tr>\n",
       "      <th>0</th>\n",
       "      <td>0</td>\n",
       "      <td>0</td>\n",
       "      <td>0</td>\n",
       "      <td>0</td>\n",
       "      <td>3</td>\n",
       "      <td>0</td>\n",
       "      <td>0</td>\n",
       "      <td>1</td>\n",
       "      <td>2</td>\n",
       "      <td>0</td>\n",
       "      <td>...</td>\n",
       "      <td>0</td>\n",
       "      <td>0</td>\n",
       "      <td>0</td>\n",
       "      <td>0</td>\n",
       "      <td>0</td>\n",
       "      <td>0</td>\n",
       "      <td>0</td>\n",
       "      <td>0</td>\n",
       "      <td>0</td>\n",
       "      <td>0</td>\n",
       "    </tr>\n",
       "    <tr>\n",
       "      <th>1</th>\n",
       "      <td>1</td>\n",
       "      <td>0</td>\n",
       "      <td>0</td>\n",
       "      <td>0</td>\n",
       "      <td>2</td>\n",
       "      <td>1</td>\n",
       "      <td>0</td>\n",
       "      <td>0</td>\n",
       "      <td>2</td>\n",
       "      <td>0</td>\n",
       "      <td>...</td>\n",
       "      <td>0</td>\n",
       "      <td>0</td>\n",
       "      <td>0</td>\n",
       "      <td>0</td>\n",
       "      <td>0</td>\n",
       "      <td>0</td>\n",
       "      <td>0</td>\n",
       "      <td>0</td>\n",
       "      <td>0</td>\n",
       "      <td>0</td>\n",
       "    </tr>\n",
       "    <tr>\n",
       "      <th>2</th>\n",
       "      <td>1</td>\n",
       "      <td>0</td>\n",
       "      <td>0</td>\n",
       "      <td>0</td>\n",
       "      <td>2</td>\n",
       "      <td>0</td>\n",
       "      <td>0</td>\n",
       "      <td>0</td>\n",
       "      <td>0</td>\n",
       "      <td>0</td>\n",
       "      <td>...</td>\n",
       "      <td>0</td>\n",
       "      <td>0</td>\n",
       "      <td>0</td>\n",
       "      <td>0</td>\n",
       "      <td>0</td>\n",
       "      <td>0</td>\n",
       "      <td>0</td>\n",
       "      <td>0</td>\n",
       "      <td>0</td>\n",
       "      <td>0</td>\n",
       "    </tr>\n",
       "    <tr>\n",
       "      <th>3</th>\n",
       "      <td>0</td>\n",
       "      <td>0</td>\n",
       "      <td>0</td>\n",
       "      <td>0</td>\n",
       "      <td>2</td>\n",
       "      <td>0</td>\n",
       "      <td>0</td>\n",
       "      <td>1</td>\n",
       "      <td>2</td>\n",
       "      <td>0</td>\n",
       "      <td>...</td>\n",
       "      <td>0</td>\n",
       "      <td>0</td>\n",
       "      <td>0</td>\n",
       "      <td>0</td>\n",
       "      <td>0</td>\n",
       "      <td>0</td>\n",
       "      <td>0</td>\n",
       "      <td>0</td>\n",
       "      <td>0</td>\n",
       "      <td>0</td>\n",
       "    </tr>\n",
       "    <tr>\n",
       "      <th>4</th>\n",
       "      <td>1</td>\n",
       "      <td>1</td>\n",
       "      <td>0</td>\n",
       "      <td>2</td>\n",
       "      <td>4</td>\n",
       "      <td>0</td>\n",
       "      <td>0</td>\n",
       "      <td>2</td>\n",
       "      <td>2</td>\n",
       "      <td>0</td>\n",
       "      <td>...</td>\n",
       "      <td>0</td>\n",
       "      <td>2</td>\n",
       "      <td>2</td>\n",
       "      <td>0</td>\n",
       "      <td>1</td>\n",
       "      <td>0</td>\n",
       "      <td>0</td>\n",
       "      <td>0</td>\n",
       "      <td>0</td>\n",
       "      <td>0</td>\n",
       "    </tr>\n",
       "    <tr>\n",
       "      <th>...</th>\n",
       "      <td>...</td>\n",
       "      <td>...</td>\n",
       "      <td>...</td>\n",
       "      <td>...</td>\n",
       "      <td>...</td>\n",
       "      <td>...</td>\n",
       "      <td>...</td>\n",
       "      <td>...</td>\n",
       "      <td>...</td>\n",
       "      <td>...</td>\n",
       "      <td>...</td>\n",
       "      <td>...</td>\n",
       "      <td>...</td>\n",
       "      <td>...</td>\n",
       "      <td>...</td>\n",
       "      <td>...</td>\n",
       "      <td>...</td>\n",
       "      <td>...</td>\n",
       "      <td>...</td>\n",
       "      <td>...</td>\n",
       "      <td>...</td>\n",
       "    </tr>\n",
       "    <tr>\n",
       "      <th>466443</th>\n",
       "      <td>10</td>\n",
       "      <td>1</td>\n",
       "      <td>3</td>\n",
       "      <td>2</td>\n",
       "      <td>9</td>\n",
       "      <td>0</td>\n",
       "      <td>0</td>\n",
       "      <td>7</td>\n",
       "      <td>3</td>\n",
       "      <td>0</td>\n",
       "      <td>...</td>\n",
       "      <td>0</td>\n",
       "      <td>5</td>\n",
       "      <td>10</td>\n",
       "      <td>2</td>\n",
       "      <td>3</td>\n",
       "      <td>2</td>\n",
       "      <td>1</td>\n",
       "      <td>0</td>\n",
       "      <td>1</td>\n",
       "      <td>0</td>\n",
       "    </tr>\n",
       "    <tr>\n",
       "      <th>466444</th>\n",
       "      <td>10</td>\n",
       "      <td>4</td>\n",
       "      <td>1</td>\n",
       "      <td>5</td>\n",
       "      <td>9</td>\n",
       "      <td>2</td>\n",
       "      <td>0</td>\n",
       "      <td>7</td>\n",
       "      <td>4</td>\n",
       "      <td>0</td>\n",
       "      <td>...</td>\n",
       "      <td>0</td>\n",
       "      <td>4</td>\n",
       "      <td>3</td>\n",
       "      <td>5</td>\n",
       "      <td>4</td>\n",
       "      <td>2</td>\n",
       "      <td>1</td>\n",
       "      <td>0</td>\n",
       "      <td>0</td>\n",
       "      <td>2</td>\n",
       "    </tr>\n",
       "    <tr>\n",
       "      <th>466445</th>\n",
       "      <td>9</td>\n",
       "      <td>2</td>\n",
       "      <td>4</td>\n",
       "      <td>2</td>\n",
       "      <td>8</td>\n",
       "      <td>1</td>\n",
       "      <td>0</td>\n",
       "      <td>6</td>\n",
       "      <td>3</td>\n",
       "      <td>0</td>\n",
       "      <td>...</td>\n",
       "      <td>0</td>\n",
       "      <td>4</td>\n",
       "      <td>9</td>\n",
       "      <td>3</td>\n",
       "      <td>3</td>\n",
       "      <td>2</td>\n",
       "      <td>1</td>\n",
       "      <td>0</td>\n",
       "      <td>1</td>\n",
       "      <td>0</td>\n",
       "    </tr>\n",
       "    <tr>\n",
       "      <th>466446</th>\n",
       "      <td>8</td>\n",
       "      <td>1</td>\n",
       "      <td>4</td>\n",
       "      <td>6</td>\n",
       "      <td>9</td>\n",
       "      <td>1</td>\n",
       "      <td>0</td>\n",
       "      <td>7</td>\n",
       "      <td>8</td>\n",
       "      <td>0</td>\n",
       "      <td>...</td>\n",
       "      <td>3</td>\n",
       "      <td>12</td>\n",
       "      <td>7</td>\n",
       "      <td>3</td>\n",
       "      <td>2</td>\n",
       "      <td>1</td>\n",
       "      <td>1</td>\n",
       "      <td>1</td>\n",
       "      <td>1</td>\n",
       "      <td>2</td>\n",
       "    </tr>\n",
       "    <tr>\n",
       "      <th>466447</th>\n",
       "      <td>8</td>\n",
       "      <td>3</td>\n",
       "      <td>4</td>\n",
       "      <td>3</td>\n",
       "      <td>8</td>\n",
       "      <td>0</td>\n",
       "      <td>0</td>\n",
       "      <td>4</td>\n",
       "      <td>6</td>\n",
       "      <td>0</td>\n",
       "      <td>...</td>\n",
       "      <td>2</td>\n",
       "      <td>9</td>\n",
       "      <td>3</td>\n",
       "      <td>4</td>\n",
       "      <td>2</td>\n",
       "      <td>3</td>\n",
       "      <td>2</td>\n",
       "      <td>0</td>\n",
       "      <td>1</td>\n",
       "      <td>2</td>\n",
       "    </tr>\n",
       "  </tbody>\n",
       "</table>\n",
       "<p>466448 rows × 36 columns</p>\n",
       "</div>"
      ],
      "text/plain": [
       "         a  b  c  d  e  f  g  h  i  j  ...  0   1   2  3  4  5  6  7  8  9\n",
       "0        0  0  0  0  3  0  0  1  2  0  ...  0   0   0  0  0  0  0  0  0  0\n",
       "1        1  0  0  0  2  1  0  0  2  0  ...  0   0   0  0  0  0  0  0  0  0\n",
       "2        1  0  0  0  2  0  0  0  0  0  ...  0   0   0  0  0  0  0  0  0  0\n",
       "3        0  0  0  0  2  0  0  1  2  0  ...  0   0   0  0  0  0  0  0  0  0\n",
       "4        1  1  0  2  4  0  0  2  2  0  ...  0   2   2  0  1  0  0  0  0  0\n",
       "...     .. .. .. .. .. .. .. .. .. ..  ... ..  ..  .. .. .. .. .. .. .. ..\n",
       "466443  10  1  3  2  9  0  0  7  3  0  ...  0   5  10  2  3  2  1  0  1  0\n",
       "466444  10  4  1  5  9  2  0  7  4  0  ...  0   4   3  5  4  2  1  0  0  2\n",
       "466445   9  2  4  2  8  1  0  6  3  0  ...  0   4   9  3  3  2  1  0  1  0\n",
       "466446   8  1  4  6  9  1  0  7  8  0  ...  3  12   7  3  2  1  1  1  1  2\n",
       "466447   8  3  4  3  8  0  0  4  6  0  ...  2   9   3  4  2  3  2  0  1  2\n",
       "\n",
       "[466448 rows x 36 columns]"
      ]
     },
     "execution_count": 106,
     "metadata": {},
     "output_type": "execute_result"
    }
   ],
   "source": [
    "print(nref_mat.shape)\n",
    "nref_mat"
   ]
  },
  {
   "cell_type": "code",
   "execution_count": 110,
   "id": "fc1b9e8a",
   "metadata": {},
   "outputs": [
    {
     "data": {
      "text/plain": [
       "['2-[(2s,4as,12as)-5-methyl-6-oxo-8-[(1-oxo-2-phenylethyl)amino]-2,3,4,4a,12,12a-hexahydropyrano[2,3-c][1,5]benzoxazocin-2-yl]-n-(2-methoxyethyl)acetamide']"
      ]
     },
     "execution_count": 110,
     "metadata": {},
     "output_type": "execute_result"
    }
   ],
   "source": [
    "chebi_low_synonyms['CHEBI:99995']"
   ]
  },
  {
   "cell_type": "code",
   "execution_count": 109,
   "id": "ab0dc6b9",
   "metadata": {},
   "outputs": [
    {
     "data": {
      "text/plain": [
       "(Counter({'2': 10,\n",
       "          's': 3,\n",
       "          '4': 3,\n",
       "          'a': 10,\n",
       "          '1': 5,\n",
       "          '5': 2,\n",
       "          'm': 4,\n",
       "          'e': 9,\n",
       "          't': 5,\n",
       "          'h': 7,\n",
       "          'y': 8,\n",
       "          'l': 5,\n",
       "          '6': 1,\n",
       "          'o': 10,\n",
       "          'x': 5,\n",
       "          '8': 1,\n",
       "          'p': 2,\n",
       "          'n': 6,\n",
       "          'i': 3,\n",
       "          '3': 2,\n",
       "          'd': 2,\n",
       "          'r': 2,\n",
       "          'c': 3,\n",
       "          'b': 1,\n",
       "          'z': 2}),\n",
       " 'CHEBI:99995')"
      ]
     },
     "execution_count": 109,
     "metadata": {},
     "output_type": "execute_result"
    }
   ],
   "source": [
    "chebi_count_tups[466443]"
   ]
  },
  {
   "cell_type": "code",
   "execution_count": 46,
   "id": "46975980",
   "metadata": {},
   "outputs": [],
   "source": [
    "query_mat = pd.DataFrame(0, index=col_vals, columns=['one_spec'])\n",
    "one_char = 'glucose'\n",
    "one_count = getCountOfIndividualChracters(one_char)\n",
    "for one_char in one_count:\n",
    "  query_mat.loc[one_char, 'one_spec'] = one_count[one_char]"
   ]
  },
  {
   "cell_type": "code",
   "execution_count": 34,
   "id": "47aa4cd0",
   "metadata": {},
   "outputs": [],
   "source": [
    "div_col = nref_mat.apply(lambda row : np.sqrt(np.sum([val**2 for val in row])), axis = 1)\n",
    "norm_df = nref_mat.divide(div_col, axis=0)"
   ]
  },
  {
   "cell_type": "code",
   "execution_count": 49,
   "id": "0072bf4a",
   "metadata": {},
   "outputs": [
    {
     "name": "stdout",
     "output_type": "stream",
     "text": [
      "2.6457513110645907\n"
     ]
    }
   ],
   "source": [
    "div_val = np.sqrt(np.sum([val**2 for val in query_mat['one_spec']]))\n",
    "print(div_val)\n",
    "norm_query = query_mat.divide(div_val)"
   ]
  },
  {
   "cell_type": "code",
   "execution_count": 112,
   "id": "b9f0495b",
   "metadata": {},
   "outputs": [],
   "source": [
    "multi_mat = norm_df.dot(norm_query)"
   ]
  },
  {
   "cell_type": "code",
   "execution_count": 113,
   "id": "251855ba",
   "metadata": {},
   "outputs": [
    {
     "name": "stdout",
     "output_type": "stream",
     "text": [
      "0.9999999999999998\n"
     ]
    }
   ],
   "source": [
    "max_val = multi_mat['one_spec'].max()\n",
    "print(max_val)"
   ]
  },
  {
   "cell_type": "code",
   "execution_count": 114,
   "id": "9cc9a6ae",
   "metadata": {},
   "outputs": [
    {
     "data": {
      "text/plain": [
       "RangeIndex(start=0, stop=466448, step=1)"
      ]
     },
     "execution_count": 114,
     "metadata": {},
     "output_type": "execute_result"
    }
   ],
   "source": [
    "multi_mat[multi_mat==1.0].index"
   ]
  },
  {
   "cell_type": "code",
   "execution_count": 115,
   "id": "1c704acc",
   "metadata": {},
   "outputs": [],
   "source": [
    "cand_index = multi_mat[abs(multi_mat['one_spec']-max_val)<0.00001].index"
   ]
  },
  {
   "cell_type": "code",
   "execution_count": 116,
   "id": "9f0ba5a9",
   "metadata": {},
   "outputs": [],
   "source": [
    "cands = [chebi_count_tups[val] for val in cand_index]"
   ]
  },
  {
   "cell_type": "code",
   "execution_count": 117,
   "id": "b7157b49",
   "metadata": {},
   "outputs": [
    {
     "data": {
      "text/plain": [
       "[(Counter({'g': 1, 'l': 1, 'u': 1, 'c': 1, 'o': 1, 's': 1, 'e': 1}),\n",
       "  'CHEBI:4167'),\n",
       " (Counter({'g': 1, 'l': 1, 'u': 1, 'c': 1, 'o': 1, 's': 1, 'e': 1}),\n",
       "  'CHEBI:42758'),\n",
       " (Counter({'g': 1, 'l': 1, 'u': 1, 'c': 1, 'o': 1, 's': 1, 'e': 1}),\n",
       "  'CHEBI:17234')]"
      ]
     },
     "execution_count": 117,
     "metadata": {},
     "output_type": "execute_result"
    }
   ],
   "source": [
    "cands"
   ]
  },
  {
   "cell_type": "code",
   "execution_count": null,
   "id": "f6b6681b",
   "metadata": {},
   "outputs": [],
   "source": []
  }
 ],
 "metadata": {
  "kernelspec": {
   "display_name": "Python 3",
   "language": "python",
   "name": "python3"
  },
  "language_info": {
   "codemirror_mode": {
    "name": "ipython",
    "version": 3
   },
   "file_extension": ".py",
   "mimetype": "text/x-python",
   "name": "python",
   "nbconvert_exporter": "python",
   "pygments_lexer": "ipython3",
   "version": "3.8.8"
  }
 },
 "nbformat": 4,
 "nbformat_minor": 5
}
