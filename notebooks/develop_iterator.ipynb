{
 "cells": [
  {
   "cell_type": "code",
   "execution_count": 1,
   "id": "ce44159e",
   "metadata": {},
   "outputs": [],
   "source": [
    "# Update iterator algorithm\n",
    "import collections\n",
    "import copy\n",
    "import itertools\n",
    "import libsbml\n",
    "import numpy as np\n",
    "import os\n",
    "import pickle\n",
    "import pandas as pd\n",
    "import sys\n",
    "import matplotlib.pyplot as plt\n",
    "%matplotlib inline  \n",
    "\n",
    "BIOMD_12 = 'BIOMD0000000012.xml'\n",
    "BASE_DIR = '/Users/woosubs/Desktop/AutomateAnnotation/'\n",
    "DATA_DIR = os.path.join(BASE_DIR, \"DATA\")\n",
    "ALGO_DIR = os.path.join(DATA_DIR, \"algo\")\n",
    "CHEBI_DIR = os.path.join(DATA_DIR, \"chebi\")\n",
    "RHEA_DIR = os.path.join(DATA_DIR, \"rhea\")\n",
    "BIOMODEL_DIR = os.path.join(DATA_DIR, \"biomodels/curated_biomodels_31mar2021\")\n",
    "BIGG_DIR = '/Users/woosubs/Desktop/AutomateAnnotation/DATA/bigg'\n",
    "ecoli_fpath = os.path.join(BIGG_DIR, \"e_coli_core.xml\")\n",
    "\n",
    "PROJ_DIR = os.path.join(os.getcwd(), os.pardir)\n",
    "AMAS_DIR = os.path.join(PROJ_DIR, \"AMAS\")\n",
    "sys.path.append(PROJ_DIR)\n",
    "\n",
    "from AMAS import species_annotation as sa\n",
    "from AMAS import reaction_annotation as ra\n",
    "from AMAS import recommender\n",
    "from AMAS import constants as cn\n",
    "from AMAS import iterator as it\n",
    "from AMAS import tools\n",
    "\n",
    "# Should save & load predicted species & reaction annotations"
   ]
  },
  {
   "cell_type": "code",
   "execution_count": 2,
   "id": "68686c74",
   "metadata": {},
   "outputs": [],
   "source": [
    "reader = libsbml.SBMLReader()\n",
    "document = reader.readSBML(ecoli_fpath)\n",
    "model = document.getModel()\n",
    "recom = recommender.Recommender(libsbml_fpath=ecoli_fpath)"
   ]
  },
  {
   "cell_type": "code",
   "execution_count": 3,
   "id": "d2165746",
   "metadata": {},
   "outputs": [],
   "source": [
    "# recom.reactions.exist_annotation\n",
    "two_reactions = ['R_PFK', 'R_PFL']"
   ]
  },
  {
   "cell_type": "code",
   "execution_count": 4,
   "id": "cd71650d",
   "metadata": {},
   "outputs": [],
   "source": [
    "# # make sure both adp and atp are included\n",
    "# one_reaction = 'R_PFK'\n",
    "# print(recom.reactions.reaction_components[one_reaction])"
   ]
  },
  {
   "cell_type": "code",
   "execution_count": 5,
   "id": "e52b899a",
   "metadata": {},
   "outputs": [
    {
     "name": "stdout",
     "output_type": "stream",
     "text": [
      "[Recommendation(id='R_PFK', credibility=0.91, candidates=[('RHEA:12423', 0.8), ('RHEA:13380', 0.8), ('RHEA:14216', 0.8), ('RHEA:15656', 0.8), ('RHEA:16112', 0.8), ('RHEA:20108', 0.8)], urls=['https://www.rhea-db.org/rhea/12423', 'https://www.rhea-db.org/rhea/13380', 'https://www.rhea-db.org/rhea/14216', 'https://www.rhea-db.org/rhea/15656', 'https://www.rhea-db.org/rhea/16112', 'https://www.rhea-db.org/rhea/20108']), Recommendation(id='R_PFL', credibility=0.12, candidates=[('RHEA:11847', 1.0), ('RHEA:17428', 0.8), ('RHEA:22991', 0.8), ('RHEA:22995', 0.8), ('RHEA:28045', 0.8), ('RHEA:12768', 0.6666666666666666), ('RHEA:21915', 0.6666666666666666), ('RHEA:44143', 0.6666666666666666)], urls=['https://www.rhea-db.org/rhea/11847', 'https://www.rhea-db.org/rhea/17428', 'https://www.rhea-db.org/rhea/22991', 'https://www.rhea-db.org/rhea/22995', 'https://www.rhea-db.org/rhea/28045', 'https://www.rhea-db.org/rhea/12768', 'https://www.rhea-db.org/rhea/21915', 'https://www.rhea-db.org/rhea/44143'])]\n"
     ]
    }
   ],
   "source": [
    "reac_recom = recom.getReactionListAnnotation(pred_ids = two_reactions)\n",
    "print(reac_recom)"
   ]
  },
  {
   "cell_type": "code",
   "execution_count": 6,
   "id": "04870fbd",
   "metadata": {},
   "outputs": [],
   "source": [
    "# one_rhea_tup = recom.reactions.candidates[one_reaction]\n",
    "# one_rhea = one_rhea_tup[0][0]\n",
    "# print(one_rhea_tup)"
   ]
  },
  {
   "cell_type": "code",
   "execution_count": 7,
   "id": "6d52af64",
   "metadata": {},
   "outputs": [],
   "source": [
    "# def getDictOfRheaComponentFormula(inp_rhea):\n",
    "#   \"\"\"\n",
    "#   Get a dictionary {chebi_id: formula}\n",
    "#   from a given rhea term.\n",
    "#   Rhea term -> CheBI IDs -> Formulas\n",
    "  \n",
    "#   Parameters\n",
    "#   ----------\n",
    "#   str: inp_rhea\n",
    "  \n",
    "#   Returns\n",
    "#   -------\n",
    "#   : dict\n",
    "#   \"\"\"\n",
    "#   chebis = cn.REF_RHEA2CHEBI[inp_rhea]\n",
    "#   return {val:cn.REF_CHEBI2FORMULA[val] for val in chebis \\\n",
    "#           if val in cn.REF_CHEBI2FORMULA.keys()}"
   ]
  },
  {
   "cell_type": "code",
   "execution_count": 8,
   "id": "acd7a468",
   "metadata": {
    "tags": []
   },
   "outputs": [],
   "source": [
    "# def getDictMatchByItem(chebi2ref_formula, spec2pred_formula):\n",
    "#   \"\"\"\n",
    "#   Get match between two keys,\n",
    "#   where there are exactly \n",
    "#   one matching items.\n",
    "#   If all items are matched by 1-1\n",
    "#   (i.e., one species - one chebi),\n",
    "#   return the fully matched dictionary.\n",
    "#   (i.e., improve precision)\n",
    "#   If neither, return None.\n",
    "#   (i.e., nothing to update)\n",
    "  \n",
    "#   Parameters\n",
    "#   ----------\n",
    "#   chebi2ref_formula: dict\n",
    "#       {chebi_term: a_species_formula(string)}\n",
    "#   spec2pred_formula: dict\n",
    "#       {species_id: [predicted_formulas]}\n",
    "  \n",
    "#   Returns\n",
    "#   -------\n",
    "#   dict/None\n",
    "#       {species_id: [chebi_term]}\n",
    "#   \"\"\"\n",
    "#   match_dict = {one_k:[spec_id for spec_id in spec2pred_formula.keys() \\\n",
    "#                        if chebi2ref_formula[one_k] in spec2pred_formula[spec_id]\n",
    "#                       ] \\\n",
    "#                 for one_k in chebi2ref_formula.keys()}\n",
    "#   unmatched_species = [val for val in spec2pred_formula.keys() \\\n",
    "#                       if val not in list(itertools.chain(*match_dict.values()))]\n",
    "#   unmatched_chebi = [val for val in match_dict.keys() if not match_dict[val]]\n",
    "#   if len(unmatched_species) == 1 and len(unmatched_chebi) == 1:\n",
    "#     return {unmatched_species[0]: unmatched_chebi} \n",
    "#   elif all([len(val[1])==1 for val in list(match_dict.items())]):\n",
    "#     return match_dict\n",
    "#   else:\n",
    "#     return None"
   ]
  },
  {
   "cell_type": "code",
   "execution_count": 6,
   "id": "410c821e",
   "metadata": {},
   "outputs": [],
   "source": [
    "anot_iter = it.Iterator(cur_spec_formula=recom.species.formula,\n",
    "                        reaction_cl=recom.reactions,\n",
    "                        reactions_to_update = two_reactions)"
   ]
  },
  {
   "cell_type": "code",
   "execution_count": 8,
   "id": "59604f97",
   "metadata": {},
   "outputs": [
    {
     "data": {
      "text/plain": [
       "{'M_atp_c': ['CHEBI:30616']}"
      ]
     },
     "execution_count": 8,
     "metadata": {},
     "output_type": "execute_result"
    }
   ],
   "source": [
    "anot_iter.runOneMatchCycle()"
   ]
  },
  {
   "cell_type": "code",
   "execution_count": null,
   "id": "6d126baf",
   "metadata": {},
   "outputs": [],
   "source": [
    "# # Iterator.match() will take care of this entire process, and return approprite valaues; \n",
    "# combine_spec2update = dict()\n",
    "# for one_reaction in two_reactions:\n",
    "#   print(\"Working with %s\" % one_reaction)\n",
    "#   one_rhea_tup = recom.reactions.candidates[one_reaction]\n",
    "#   one_rhea = one_rhea_tup[0][0]\n",
    "#   pred_spec_formulas = recom.species.formula\n",
    "#   one_rhea2formula = anot_iter.getDictOfRheaComponentFormula(inp_rhea=one_rhea)\n",
    "#   print(\"Arguments\")\n",
    "#   print(pred_spec_formulas)\n",
    "#   print(one_rhea2formula)\n",
    "\n",
    "#   match_res, match_res_formula = anot_iter.getDictsToUpdate(reaction_id=one_reaction)\n",
    "# # match_res = anot_iter.getDictMatchByItem(chebi2ref_formula=one_rhea2formula,\n",
    "# #                                          spec2pred_formula=pred_spec_formulas)\n",
    "#   print(\"Returns\")\n",
    "#   print(match_res)\n",
    "# # match_res_formula = {k:[cn.REF_CHEBI2FORMULA[chebi] for chebi in match_res[k]] for k in match_res.keys()}\n",
    "#   print(match_res_formula)\n",
    "#   print(\"\\n\\n\")\n",
    "#   upd_val = anot_iter.getUpdatedMatchScore(cur_spec_formulas = copy.deepcopy(anot_iter.orig_spec_formula),\n",
    "#                                            inp_spec2formula_dict = match_res_formula)\n",
    "#   print(\"Testing updated score\", upd_val)\n",
    "#   print(\"\\n\\n\")\n",
    "#   if upd_val['is_increased']:\n",
    "#     # update combine_spec2update;  but by combining the elements.\n",
    "#     for k in match_res.keys():\n",
    "#       if k in combine_spec2update.keys():\n",
    "#         combine_spec2update[k] = combine_spec2update[k] + match_res[k]\n",
    "#       else:\n",
    "#         combine_spec2update[k] = match_res[k] \n",
    "#   # => if true, include to updated formula status, and then continue; \n",
    "\n",
    "# print(\"Final updated species dict\", combine_spec2update)\n",
    "\n",
    "\n",
    "# # TODO (last step): for each match, caldulate match score difference and determine whether to improve it or not\n",
    "# # if decided to use, include it in the updated spec/reac dictionaries. finally incorporate it with recom. "
   ]
  },
  {
   "cell_type": "code",
   "execution_count": 11,
   "id": "0291f32a",
   "metadata": {},
   "outputs": [
    {
     "data": {
      "text/plain": [
       "['R_PFK', 'R_PFL']"
      ]
     },
     "execution_count": 11,
     "metadata": {},
     "output_type": "execute_result"
    }
   ],
   "source": [
    "anot_iter.r2upd"
   ]
  },
  {
   "cell_type": "code",
   "execution_count": null,
   "id": "c87ae9a5",
   "metadata": {},
   "outputs": [],
   "source": []
  },
  {
   "cell_type": "code",
   "execution_count": null,
   "id": "27ddf61d",
   "metadata": {},
   "outputs": [],
   "source": []
  },
  {
   "cell_type": "code",
   "execution_count": 50,
   "id": "82eea861",
   "metadata": {},
   "outputs": [
    {
     "data": {
      "text/plain": [
       "{'I': 1,\n",
       " 'have': 1,\n",
       " 'two': 1,\n",
       " 'pets;': 1,\n",
       " 'one': 2,\n",
       " 'cute': 1,\n",
       " 'cat,': 1,\n",
       " 'and': 1,\n",
       " 'ugly': 1,\n",
       " 'dog.': 1}"
      ]
     },
     "execution_count": 50,
     "metadata": {},
     "output_type": "execute_result"
    }
   ],
   "source": [
    "one_str = 'I have two pets; one cute cat, and one ugly dog.'\n",
    "dict(collections.Counter(one_str.split(' ')))"
   ]
  },
  {
   "cell_type": "code",
   "execution_count": null,
   "id": "8137f99d",
   "metadata": {},
   "outputs": [],
   "source": []
  },
  {
   "cell_type": "code",
   "execution_count": null,
   "id": "dffe84e8",
   "metadata": {},
   "outputs": [],
   "source": []
  },
  {
   "cell_type": "code",
   "execution_count": 36,
   "id": "ca94359f",
   "metadata": {},
   "outputs": [
    {
     "data": {
      "text/plain": [
       "{'M_fdp_c': ['C6O12P2'],\n",
       " 'M_atp_c': ['C18ClN2O6S2', 'C20O4'],\n",
       " 'M_h_c': ['H'],\n",
       " 'M_f6p_c': ['C6O9P'],\n",
       " 'M_adp_c': ['C9N4O5',\n",
       "  'C20N2O5S',\n",
       "  'C19O9P',\n",
       "  'C17Cl2F3N7O2S',\n",
       "  'C19O2',\n",
       "  'C28N6OS',\n",
       "  'C115N8O85',\n",
       "  'C27O5',\n",
       "  'C16F3IN2O4',\n",
       "  'C18ClN2O6S2',\n",
       "  'C18N4O11',\n",
       "  'C35N4O4',\n",
       "  'C26N7O2S',\n",
       "  'C16NO6',\n",
       "  'C10N5O10P2',\n",
       "  'C14N2O',\n",
       "  'C29N6O4S',\n",
       "  'C101N7O75',\n",
       "  'C20O4',\n",
       "  'C21ClN3O2',\n",
       "  'C26FIN5O4',\n",
       "  'C19N2O2S',\n",
       "  'C8NO6',\n",
       "  'C18O2',\n",
       "  'C12']}"
      ]
     },
     "execution_count": 36,
     "metadata": {},
     "output_type": "execute_result"
    }
   ],
   "source": [
    "recom.species.formula"
   ]
  },
  {
   "cell_type": "code",
   "execution_count": 38,
   "id": "d0873c91",
   "metadata": {},
   "outputs": [
    {
     "name": "stdout",
     "output_type": "stream",
     "text": [
      "Original DataFrame:\n",
      "            age  size  salary\n",
      "customer1   11    50      10\n",
      "customer2   24   100     200\n",
      "customer3   37   105     800\n"
     ]
    }
   ],
   "source": [
    "import numpy as np\n",
    "import pandas as pd\n",
    "\n",
    "data = {\n",
    "        'age':[11, 24, 37],\n",
    "        'size':[50, 100, 105],\n",
    "        'salary':[10, 200, 800] }\n",
    "\n",
    "# Convert the dictionary into DataFrame\n",
    "df = pd.DataFrame(data, index=['customer1', 'customer2', 'customer3'])\n",
    "print(\"Original DataFrame:\\n\", df)"
   ]
  },
  {
   "cell_type": "code",
   "execution_count": 39,
   "id": "b15f129e",
   "metadata": {},
   "outputs": [],
   "source": [
    "from sklearn.ensemble import RandomForestRegressor\n",
    "regr = RandomForestRegressor(max_depth=2,  random_state=0)"
   ]
  },
  {
   "cell_type": "code",
   "execution_count": 43,
   "id": "4e5457b0",
   "metadata": {},
   "outputs": [
    {
     "data": {
      "text/plain": [
       "RandomForestRegressor(max_depth=2, random_state=0)"
      ]
     },
     "execution_count": 43,
     "metadata": {},
     "output_type": "execute_result"
    }
   ],
   "source": [
    "regr.fit(X=df[['age', 'size']], y=df.loc[:, 'salary'])"
   ]
  },
  {
   "cell_type": "code",
   "execution_count": 44,
   "id": "4129c2e8",
   "metadata": {},
   "outputs": [
    {
     "data": {
      "text/html": [
       "<div>\n",
       "<style scoped>\n",
       "    .dataframe tbody tr th:only-of-type {\n",
       "        vertical-align: middle;\n",
       "    }\n",
       "\n",
       "    .dataframe tbody tr th {\n",
       "        vertical-align: top;\n",
       "    }\n",
       "\n",
       "    .dataframe thead th {\n",
       "        text-align: right;\n",
       "    }\n",
       "</style>\n",
       "<table border=\"1\" class=\"dataframe\">\n",
       "  <thead>\n",
       "    <tr style=\"text-align: right;\">\n",
       "      <th></th>\n",
       "      <th>age</th>\n",
       "      <th>size</th>\n",
       "    </tr>\n",
       "  </thead>\n",
       "  <tbody>\n",
       "    <tr>\n",
       "      <th>0</th>\n",
       "      <td>10</td>\n",
       "      <td>50</td>\n",
       "    </tr>\n",
       "    <tr>\n",
       "      <th>1</th>\n",
       "      <td>40</td>\n",
       "      <td>100</td>\n",
       "    </tr>\n",
       "    <tr>\n",
       "      <th>2</th>\n",
       "      <td>50</td>\n",
       "      <td>105</td>\n",
       "    </tr>\n",
       "  </tbody>\n",
       "</table>\n",
       "</div>"
      ],
      "text/plain": [
       "   age  size\n",
       "0   10    50\n",
       "1   40   100\n",
       "2   50   105"
      ]
     },
     "execution_count": 44,
     "metadata": {},
     "output_type": "execute_result"
    }
   ],
   "source": [
    "new_data = {\n",
    "        'age':[10, 40, 50],\n",
    "        'size':[50, 100, 105]}\n",
    "new_df = pd.DataFrame(new_data)\n",
    "new_df"
   ]
  },
  {
   "cell_type": "code",
   "execution_count": 46,
   "id": "a46aaf92",
   "metadata": {},
   "outputs": [
    {
     "data": {
      "text/plain": [
       "array([102.4, 243.5, 592.5])"
      ]
     },
     "execution_count": 46,
     "metadata": {},
     "output_type": "execute_result"
    }
   ],
   "source": [
    "regr.predict(df[['age', 'size']])"
   ]
  },
  {
   "cell_type": "code",
   "execution_count": 24,
   "id": "98b59855",
   "metadata": {},
   "outputs": [
    {
     "data": {
      "text/plain": [
       "array([[7],\n",
       "       [8],\n",
       "       [9]])"
      ]
     },
     "execution_count": 24,
     "metadata": {},
     "output_type": "execute_result"
    }
   ],
   "source": [
    "np.array(df[['C']])"
   ]
  },
  {
   "cell_type": "code",
   "execution_count": 31,
   "id": "d4c7bd09",
   "metadata": {},
   "outputs": [
    {
     "data": {
      "text/plain": [
       "0     10\n",
       "1    200\n",
       "2    800\n",
       "Name: salary, dtype: int64"
      ]
     },
     "execution_count": 31,
     "metadata": {},
     "output_type": "execute_result"
    }
   ],
   "source": [
    "df.loc[:, 'salary']"
   ]
  },
  {
   "cell_type": "code",
   "execution_count": null,
   "id": "3b3a7c4b",
   "metadata": {},
   "outputs": [],
   "source": []
  }
 ],
 "metadata": {
  "kernelspec": {
   "display_name": "Python 3",
   "language": "python",
   "name": "python3"
  },
  "language_info": {
   "codemirror_mode": {
    "name": "ipython",
    "version": 3
   },
   "file_extension": ".py",
   "mimetype": "text/x-python",
   "name": "python",
   "nbconvert_exporter": "python",
   "pygments_lexer": "ipython3",
   "version": "3.8.8"
  }
 },
 "nbformat": 4,
 "nbformat_minor": 5
}
