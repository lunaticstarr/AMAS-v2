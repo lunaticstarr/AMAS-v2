{
 "cells": [
  {
   "cell_type": "code",
   "execution_count": 1,
   "id": "54f1db4e",
   "metadata": {},
   "outputs": [],
   "source": [
    "# Update iterator algorithm\n",
    "import collections\n",
    "import copy\n",
    "import itertools\n",
    "import libsbml\n",
    "import numpy as np\n",
    "import os\n",
    "import pickle\n",
    "import pandas as pd\n",
    "import sys\n",
    "import matplotlib.pyplot as plt\n",
    "%matplotlib inline  \n",
    "\n",
    "BIOMD_12 = 'BIOMD0000000012.xml'\n",
    "BASE_DIR = '/Users/woosubs/Desktop/AutomateAnnotation/'\n",
    "DATA_DIR = os.path.join(BASE_DIR, \"DATA\")\n",
    "ALGO_DIR = os.path.join(DATA_DIR, \"algo\")\n",
    "CHEBI_DIR = os.path.join(DATA_DIR, \"chebi\")\n",
    "RHEA_DIR = os.path.join(DATA_DIR, \"rhea\")\n",
    "BIOMODEL_DIR = os.path.join(DATA_DIR, \"biomodels/curated_biomodels_31mar2021\")\n",
    "BIGG_DIR = '/Users/woosubs/Desktop/AutomateAnnotation/DATA/bigg'\n",
    "ecoli_fpath = os.path.join(BIGG_DIR, \"e_coli_core.xml\")\n",
    "\n",
    "PROJ_DIR = os.path.join(os.getcwd(), os.pardir)\n",
    "AMAS_DIR = os.path.join(PROJ_DIR, \"AMAS\")\n",
    "sys.path.append(PROJ_DIR)\n",
    "\n",
    "from AMAS import species_annotation as sa\n",
    "from AMAS import reaction_annotation as ra\n",
    "from AMAS import recommender\n",
    "from AMAS import constants as cn\n",
    "from AMAS import iterator as it\n",
    "from AMAS import tools\n",
    "\n",
    "# Should save & load predicted species & reaction annotations"
   ]
  },
  {
   "cell_type": "code",
   "execution_count": 2,
   "id": "88c6a067",
   "metadata": {},
   "outputs": [],
   "source": [
    "reader = libsbml.SBMLReader()\n",
    "document = reader.readSBML(ecoli_fpath)\n",
    "model = document.getModel()\n",
    "recom = recommender.Recommender(libsbml_fpath=ecoli_fpath)"
   ]
  },
  {
   "cell_type": "code",
   "execution_count": 3,
   "id": "153adbcb",
   "metadata": {},
   "outputs": [],
   "source": [
    "# recom.reactions.exist_annotation\n",
    "two_reactions = ['R_PFK', 'R_PFL']"
   ]
  },
  {
   "cell_type": "code",
   "execution_count": 4,
   "id": "7c4a706f",
   "metadata": {},
   "outputs": [],
   "source": [
    "# # make sure both adp and atp are included\n",
    "# one_reaction = 'R_PFK'\n",
    "# print(recom.reactions.reaction_components[one_reaction])"
   ]
  },
  {
   "cell_type": "code",
   "execution_count": 5,
   "id": "212341a7",
   "metadata": {},
   "outputs": [
    {
     "name": "stdout",
     "output_type": "stream",
     "text": [
      "[Recommendation(id='R_PFK', credibility=0.91, candidates=[('RHEA:12423', 0.8), ('RHEA:13380', 0.8), ('RHEA:14216', 0.8), ('RHEA:15656', 0.8), ('RHEA:16112', 0.8), ('RHEA:20108', 0.8)], urls=['https://www.rhea-db.org/rhea/12423', 'https://www.rhea-db.org/rhea/13380', 'https://www.rhea-db.org/rhea/14216', 'https://www.rhea-db.org/rhea/15656', 'https://www.rhea-db.org/rhea/16112', 'https://www.rhea-db.org/rhea/20108']), Recommendation(id='R_PFL', credibility=0.12, candidates=[('RHEA:11847', 1.0), ('RHEA:17428', 0.8), ('RHEA:22991', 0.8), ('RHEA:22995', 0.8), ('RHEA:28045', 0.8), ('RHEA:12768', 0.6666666666666666), ('RHEA:21915', 0.6666666666666666), ('RHEA:44143', 0.6666666666666666)], urls=['https://www.rhea-db.org/rhea/11847', 'https://www.rhea-db.org/rhea/17428', 'https://www.rhea-db.org/rhea/22991', 'https://www.rhea-db.org/rhea/22995', 'https://www.rhea-db.org/rhea/28045', 'https://www.rhea-db.org/rhea/12768', 'https://www.rhea-db.org/rhea/21915', 'https://www.rhea-db.org/rhea/44143'])]\n"
     ]
    }
   ],
   "source": [
    "reac_recom = recom.getReactionListAnnotation(pred_ids = two_reactions)\n",
    "print(reac_recom)"
   ]
  },
  {
   "cell_type": "code",
   "execution_count": 6,
   "id": "f9c6c7fa",
   "metadata": {},
   "outputs": [],
   "source": [
    "# one_rhea_tup = recom.reactions.candidates[one_reaction]\n",
    "# one_rhea = one_rhea_tup[0][0]\n",
    "# print(one_rhea_tup)"
   ]
  },
  {
   "cell_type": "code",
   "execution_count": 7,
   "id": "a9df084c",
   "metadata": {},
   "outputs": [],
   "source": [
    "# def getDictOfRheaComponentFormula(inp_rhea):\n",
    "#   \"\"\"\n",
    "#   Get a dictionary {chebi_id: formula}\n",
    "#   from a given rhea term.\n",
    "#   Rhea term -> CheBI IDs -> Formulas\n",
    "  \n",
    "#   Parameters\n",
    "#   ----------\n",
    "#   str: inp_rhea\n",
    "  \n",
    "#   Returns\n",
    "#   -------\n",
    "#   : dict\n",
    "#   \"\"\"\n",
    "#   chebis = cn.REF_RHEA2CHEBI[inp_rhea]\n",
    "#   return {val:cn.REF_CHEBI2FORMULA[val] for val in chebis \\\n",
    "#           if val in cn.REF_CHEBI2FORMULA.keys()}"
   ]
  },
  {
   "cell_type": "code",
   "execution_count": 8,
   "id": "58c570b3",
   "metadata": {
    "tags": []
   },
   "outputs": [],
   "source": [
    "# def getDictMatchByItem(chebi2ref_formula, spec2pred_formula):\n",
    "#   \"\"\"\n",
    "#   Get match between two keys,\n",
    "#   where there are exactly \n",
    "#   one matching items.\n",
    "#   If all items are matched by 1-1\n",
    "#   (i.e., one species - one chebi),\n",
    "#   return the fully matched dictionary.\n",
    "#   (i.e., improve precision)\n",
    "#   If neither, return None.\n",
    "#   (i.e., nothing to update)\n",
    "  \n",
    "#   Parameters\n",
    "#   ----------\n",
    "#   chebi2ref_formula: dict\n",
    "#       {chebi_term: a_species_formula(string)}\n",
    "#   spec2pred_formula: dict\n",
    "#       {species_id: [predicted_formulas]}\n",
    "  \n",
    "#   Returns\n",
    "#   -------\n",
    "#   dict/None\n",
    "#       {species_id: [chebi_term]}\n",
    "#   \"\"\"\n",
    "#   match_dict = {one_k:[spec_id for spec_id in spec2pred_formula.keys() \\\n",
    "#                        if chebi2ref_formula[one_k] in spec2pred_formula[spec_id]\n",
    "#                       ] \\\n",
    "#                 for one_k in chebi2ref_formula.keys()}\n",
    "#   unmatched_species = [val for val in spec2pred_formula.keys() \\\n",
    "#                       if val not in list(itertools.chain(*match_dict.values()))]\n",
    "#   unmatched_chebi = [val for val in match_dict.keys() if not match_dict[val]]\n",
    "#   if len(unmatched_species) == 1 and len(unmatched_chebi) == 1:\n",
    "#     return {unmatched_species[0]: unmatched_chebi} \n",
    "#   elif all([len(val[1])==1 for val in list(match_dict.items())]):\n",
    "#     return match_dict\n",
    "#   else:\n",
    "#     return None"
   ]
  },
  {
   "cell_type": "code",
   "execution_count": 12,
   "id": "ff3689b2",
   "metadata": {},
   "outputs": [],
   "source": [
    "anot_iter = it.Iterator(cur_spec_formula=recom.species.formula,\n",
    "                        cur_reac_candidates=recom.reactions.candidates,\n",
    "                        reaction_cl=recom.reactions)"
   ]
  },
  {
   "cell_type": "code",
   "execution_count": 16,
   "id": "aad2d599",
   "metadata": {},
   "outputs": [
    {
     "data": {
      "text/plain": [
       "{'M_for_c': ['CHEBI:15740'],\n",
       " 'M_accoa_c': ['CHEBI:57288'],\n",
       " 'M_pyr_c': ['CHEBI:15361'],\n",
       " 'M_coa_c': ['CHEBI:57287']}"
      ]
     },
     "execution_count": 16,
     "metadata": {},
     "output_type": "execute_result"
    }
   ],
   "source": [
    "match_res"
   ]
  },
  {
   "cell_type": "code",
   "execution_count": null,
   "id": "c9e36840",
   "metadata": {},
   "outputs": [],
   "source": []
  },
  {
   "cell_type": "code",
   "execution_count": 26,
   "id": "ee396808",
   "metadata": {},
   "outputs": [
    {
     "name": "stdout",
     "output_type": "stream",
     "text": [
      "Working with R_PFK\n",
      "Arguments\n",
      "{'M_adp_c': ['C20O4', 'C28N6OS', 'C101N7O75', 'C17Cl2F3N7O2S', 'C18N4O11', 'C18O2', 'C20N2O5S', 'C26N7O2S', 'C26FIN5O4', 'C16NO6', 'C14N2O', 'C29N6O4S', 'C10N5O10P2', 'C12', 'C19N2O2S', 'C27O5', 'C19O2', 'C9N4O5', 'C19O9P', 'C21ClN3O2', 'C115N8O85', 'C16F3IN2O4', 'C18ClN2O6S2', 'C8NO6', 'C35N4O4'], 'M_h_c': ['H'], 'M_fdp_c': ['C6O12P2'], 'M_for_c': ['CO2'], 'M_accoa_c': ['C23N7O17P3S'], 'M_coa_c': ['C21N7O16P3S'], 'M_f6p_c': ['C6O9P'], 'M_atp_c': ['C20O4', 'C18ClN2O6S2'], 'M_pyr_c': ['C3O3']}\n",
      "{'CHEBI:456216': 'C10N5O10P2', 'CHEBI:15378': 'H', 'CHEBI:58694': 'C6O12P2', 'CHEBI:30616': 'C10N5O13P3', 'CHEBI:58695': 'C6O9P'}\n",
      "Returns\n",
      "{'M_atp_c': ['CHEBI:30616']}\n",
      "{'M_atp_c': ['C10N5O13P3']}\n",
      "\n",
      "\n",
      "\n",
      "Testing updated score {'new_score': 1.0, 'old_score': 0.9, 'is_increased': True}\n",
      "\n",
      "\n",
      "\n",
      "Working with R_PFL\n",
      "Arguments\n",
      "{'M_adp_c': ['C20O4', 'C28N6OS', 'C101N7O75', 'C17Cl2F3N7O2S', 'C18N4O11', 'C18O2', 'C20N2O5S', 'C26N7O2S', 'C26FIN5O4', 'C16NO6', 'C14N2O', 'C29N6O4S', 'C10N5O10P2', 'C12', 'C19N2O2S', 'C27O5', 'C19O2', 'C9N4O5', 'C19O9P', 'C21ClN3O2', 'C115N8O85', 'C16F3IN2O4', 'C18ClN2O6S2', 'C8NO6', 'C35N4O4'], 'M_h_c': ['H'], 'M_fdp_c': ['C6O12P2'], 'M_for_c': ['CO2'], 'M_accoa_c': ['C23N7O17P3S'], 'M_coa_c': ['C21N7O16P3S'], 'M_f6p_c': ['C6O9P'], 'M_atp_c': ['C20O4', 'C18ClN2O6S2'], 'M_pyr_c': ['C3O3']}\n",
      "{'CHEBI:15740': 'CO2', 'CHEBI:57288': 'C23N7O17P3S', 'CHEBI:15361': 'C3O3', 'CHEBI:57287': 'C21N7O16P3S'}\n",
      "Returns\n",
      "{'M_for_c': ['CHEBI:15740'], 'M_accoa_c': ['CHEBI:57288'], 'M_pyr_c': ['CHEBI:15361'], 'M_coa_c': ['CHEBI:57287']}\n",
      "{'M_for_c': ['CO2'], 'M_accoa_c': ['C23N7O17P3S'], 'M_pyr_c': ['C3O3'], 'M_coa_c': ['C21N7O16P3S']}\n",
      "\n",
      "\n",
      "\n",
      "Testing updated score {'new_score': 0.9, 'old_score': 0.9, 'is_increased': False}\n",
      "\n",
      "\n",
      "\n",
      "Final updated species dict {'M_atp_c': ['CHEBI:30616']}\n"
     ]
    }
   ],
   "source": [
    "# Iterator.match() will take care of this entire process, and return approprite valaues; \n",
    "combine_spec2update = dict()\n",
    "for one_reaction in two_reactions:\n",
    "  print(\"Working with %s\" % one_reaction)\n",
    "  one_rhea_tup = recom.reactions.candidates[one_reaction]\n",
    "  one_rhea = one_rhea_tup[0][0]\n",
    "  pred_spec_formulas = recom.species.formula\n",
    "  one_rhea2formula = anot_iter.getDictOfRheaComponentFormula(inp_rhea=one_rhea)\n",
    "  print(\"Arguments\")\n",
    "  print(pred_spec_formulas)\n",
    "  print(one_rhea2formula)\n",
    "\n",
    "  match_res, match_res_formula = anot_iter.getDictsToUpdate(reaction_id=one_reaction)\n",
    "# match_res = anot_iter.getDictMatchByItem(chebi2ref_formula=one_rhea2formula,\n",
    "#                                          spec2pred_formula=pred_spec_formulas)\n",
    "  print(\"Returns\")\n",
    "  print(match_res)\n",
    "# match_res_formula = {k:[cn.REF_CHEBI2FORMULA[chebi] for chebi in match_res[k]] for k in match_res.keys()}\n",
    "  print(match_res_formula)\n",
    "  print(\"\\n\\n\")\n",
    "  upd_val = anot_iter.getUpdatedMatchScore(cur_spec_formulas = copy.deepcopy(anot_iter.orig_spec_formula),\n",
    "                                           inp_spec2formula_dict = match_res_formula)\n",
    "  print(\"Testing updated score\", upd_val)\n",
    "  print(\"\\n\\n\")\n",
    "  if upd_val['is_increased']:\n",
    "    # update combine_spec2update;  but by combining the elements.\n",
    "    for k in match_res.keys():\n",
    "      if k in combine_spec2update.keys():\n",
    "        combine_spec2update[k] = combine_spec2update[k] + match_res[k]\n",
    "      else:\n",
    "        combine_spec2update[k] = match_res[k] \n",
    "  # => if true, include to updated formula status, and then continue; \n",
    "\n",
    "print(\"Final updated species dict\", combine_spec2update)\n",
    "\n",
    "\n",
    "# TODO (last step): for each match, caldulate match score difference and determine whether to improve it or not\n",
    "# if decided to use, include it in the updated spec/reac dictionaries. finally incorporate it with recom. "
   ]
  },
  {
   "cell_type": "code",
   "execution_count": 15,
   "id": "0258c35d",
   "metadata": {},
   "outputs": [
    {
     "data": {
      "text/plain": [
       "{'R_PFK': [('RHEA:12423', 0.8),\n",
       "  ('RHEA:13380', 0.8),\n",
       "  ('RHEA:14216', 0.8),\n",
       "  ('RHEA:15656', 0.8),\n",
       "  ('RHEA:16112', 0.8),\n",
       "  ('RHEA:20108', 0.8)],\n",
       " 'R_PFL': [('RHEA:11847', 1.0),\n",
       "  ('RHEA:17428', 0.8),\n",
       "  ('RHEA:22991', 0.8),\n",
       "  ('RHEA:22995', 0.8),\n",
       "  ('RHEA:28045', 0.8),\n",
       "  ('RHEA:12768', 0.6666666666666666),\n",
       "  ('RHEA:21915', 0.6666666666666666),\n",
       "  ('RHEA:44143', 0.6666666666666666)]}"
      ]
     },
     "execution_count": 15,
     "metadata": {},
     "output_type": "execute_result"
    }
   ],
   "source": [
    "anot_iter.orig_reac_candidates"
   ]
  },
  {
   "cell_type": "code",
   "execution_count": null,
   "id": "141c7f00",
   "metadata": {},
   "outputs": [],
   "source": [
    "anot_iter = it.Iterator(cur_spec_formula=recom.species.formula,\n",
    "                        cur_reac_candidates=recom.reactions.candidates,\n",
    "                        reaction_cl=recom.reactions)"
   ]
  },
  {
   "cell_type": "code",
   "execution_count": 10,
   "id": "bf909002",
   "metadata": {},
   "outputs": [],
   "source": [
    "# # Before updating the species, test whether it increases reaction scores\n",
    "# # it may proceed if match score increases\n",
    "# import copy\n",
    "# def checkWhetherUpdateImprovesMatchScore(cur_spec_formulas, inp_spec2formula_dict):\n",
    "#   \"\"\"\n",
    "#   Check whether it improves reaction measures; \n",
    "#   if new value (sum of maximum match score per reaction)\n",
    "#   increased, return True; otherwise return False.\n",
    "  \n",
    "#   Parameters\n",
    "#   ----------\n",
    "#   cur_spec_formulas: dict\n",
    "#       {'species_id': [formula-str]}\n",
    "#       Dictionary to be updated\n",
    "      \n",
    "#   inp_spec_2formula_dict: dict\n",
    "#       {'species_id': [formula-str]}\n",
    "#       Dictionary to update\n",
    "      \n",
    "#   Returns\n",
    "#   -------\n",
    "#   : bool\n",
    "#   \"\"\"\n",
    "#   cur_spec_formulas.update(inp_spec2formula_dict)\n",
    "\n",
    "#   new_pred_res = recom.reactions.predictAnnotation(inp_spec_dict = cur_spec_formulas,\n",
    "#                                                    inp_reac_list = [one_reaction])\n",
    "#   old_pred_res = recom.reactions.predictAnnotation(inp_spec_dict = recom.species.formula,\n",
    "#                                                    inp_reac_list = [one_reaction])\n",
    "#   # since candidates are already sorted, \n",
    "#   # just check the match score (index '1') of the very first candidate tuple (index '0')\n",
    "#   new_pred_val = np.mean([new_pred_res[cn.MATCH_SCORE][k][0][1] \\\n",
    "#                          for k in new_pred_res[cn.MATCH_SCORE].keys()])\n",
    "#   old_pred_val = np.mean([old_pred_res[cn.MATCH_SCORE][k][0][1] \\\n",
    "#                          for k in old_pred_res[cn.MATCH_SCORE].keys()])\n",
    "#   if new_pred_val > old_pred_val:\n",
    "#     return new_pred_val\n",
    "#   else:\n",
    "#     return False"
   ]
  },
  {
   "cell_type": "code",
   "execution_count": 11,
   "id": "b969a4c2",
   "metadata": {},
   "outputs": [
    {
     "name": "stdout",
     "output_type": "stream",
     "text": [
      "{'new_score': 1.0, 'old_score': 0.8, 'is_increased': True}\n"
     ]
    }
   ],
   "source": [
    "# Process 2: test whether this update makes sense;\n",
    "# i.e., check if this increases the confidence or match score (of reaction)\n",
    "upd_val = anot_iter.getUpdatedMatchScore(cur_spec_formulas = copy.deepcopy(anot_iter.orig_spec_formula),\n",
    "                                         inp_spec2formula_dict = match_res_formula)\n",
    "print(upd_val)"
   ]
  },
  {
   "cell_type": "code",
   "execution_count": null,
   "id": "0ce288f6",
   "metadata": {},
   "outputs": [],
   "source": [
    "# TODO: repeat until threshold; update both species and reaction annotation"
   ]
  },
  {
   "cell_type": "code",
   "execution_count": null,
   "id": "bf43d0f8",
   "metadata": {},
   "outputs": [],
   "source": []
  },
  {
   "cell_type": "code",
   "execution_count": null,
   "id": "88bd7e3c",
   "metadata": {},
   "outputs": [],
   "source": []
  },
  {
   "cell_type": "code",
   "execution_count": null,
   "id": "c9c693be",
   "metadata": {},
   "outputs": [],
   "source": [
    "# Process 3; based on the result of process 2, actuallly update annotation.\n",
    "# In this step, match score should be updated, I guess (or not..)\n",
    "# Done!... for species"
   ]
  },
  {
   "cell_type": "code",
   "execution_count": null,
   "id": "58e42e34",
   "metadata": {},
   "outputs": [],
   "source": [
    "# Process 3.5; make sure it iterator doesn't depend on recom\n",
    "\n",
    "# Process 4; report final result (create recom.getRecommendation??)\n",
    "\n",
    "# Process 5; create this option to the recommender. "
   ]
  },
  {
   "cell_type": "code",
   "execution_count": 79,
   "id": "192aaaf6",
   "metadata": {},
   "outputs": [],
   "source": [
    "# # Below is for species class (maybe a species_annotation method)\n",
    "# def updateSpeciesWithDict(self, inp_dict):\n",
    "#   \"\"\"\n",
    "#   Update species with candidates\n",
    "#   using a dictionary.\n",
    "#   Match score should be\n",
    "#   wisely chosen as \n",
    "#   nothing is matched.\n",
    "#   As match scores are given\n",
    "#   when exact matches are found, \n",
    "#   match scores should be 1.0. \n",
    "  \n",
    "#   Parameters\n",
    "#   ----------\n",
    "#   inp_dict: dict\n",
    "#       {species_id: [chebi terms]}\n",
    "  \n",
    "#   Returns\n",
    "#   -------\n",
    "#   None\n",
    "#   \"\"\"\n",
    "#   # TODO:\n",
    "#   info2upd_candidates = {k:[(val, 1.0) for val in inp_dict[k]] for k in inp_dict.keys()}\n",
    "#   info2upd_formula = {k:[cn.REF_CHEBI2FORMULA[chebi] for chebi in inp_dict[k]] for k in inp_dict.keys()}\n",
    "#   self.candidates.update(info2upd_candidates)\n",
    "#   self.formula.update(info2upd_formula)"
   ]
  },
  {
   "cell_type": "code",
   "execution_count": null,
   "id": "c9a62933",
   "metadata": {},
   "outputs": [],
   "source": []
  },
  {
   "cell_type": "code",
   "execution_count": null,
   "id": "f06a1d6f",
   "metadata": {},
   "outputs": [],
   "source": []
  },
  {
   "cell_type": "code",
   "execution_count": 50,
   "id": "844dcfc0",
   "metadata": {},
   "outputs": [
    {
     "data": {
      "text/plain": [
       "{'I': 1,\n",
       " 'have': 1,\n",
       " 'two': 1,\n",
       " 'pets;': 1,\n",
       " 'one': 2,\n",
       " 'cute': 1,\n",
       " 'cat,': 1,\n",
       " 'and': 1,\n",
       " 'ugly': 1,\n",
       " 'dog.': 1}"
      ]
     },
     "execution_count": 50,
     "metadata": {},
     "output_type": "execute_result"
    }
   ],
   "source": [
    "one_str = 'I have two pets; one cute cat, and one ugly dog.'\n",
    "dict(collections.Counter(one_str.split(' ')))"
   ]
  },
  {
   "cell_type": "code",
   "execution_count": null,
   "id": "ccf33bda",
   "metadata": {},
   "outputs": [],
   "source": []
  },
  {
   "cell_type": "code",
   "execution_count": null,
   "id": "843013cc",
   "metadata": {},
   "outputs": [],
   "source": []
  },
  {
   "cell_type": "code",
   "execution_count": 36,
   "id": "55a39876",
   "metadata": {},
   "outputs": [
    {
     "data": {
      "text/plain": [
       "{'M_fdp_c': ['C6O12P2'],\n",
       " 'M_atp_c': ['C18ClN2O6S2', 'C20O4'],\n",
       " 'M_h_c': ['H'],\n",
       " 'M_f6p_c': ['C6O9P'],\n",
       " 'M_adp_c': ['C9N4O5',\n",
       "  'C20N2O5S',\n",
       "  'C19O9P',\n",
       "  'C17Cl2F3N7O2S',\n",
       "  'C19O2',\n",
       "  'C28N6OS',\n",
       "  'C115N8O85',\n",
       "  'C27O5',\n",
       "  'C16F3IN2O4',\n",
       "  'C18ClN2O6S2',\n",
       "  'C18N4O11',\n",
       "  'C35N4O4',\n",
       "  'C26N7O2S',\n",
       "  'C16NO6',\n",
       "  'C10N5O10P2',\n",
       "  'C14N2O',\n",
       "  'C29N6O4S',\n",
       "  'C101N7O75',\n",
       "  'C20O4',\n",
       "  'C21ClN3O2',\n",
       "  'C26FIN5O4',\n",
       "  'C19N2O2S',\n",
       "  'C8NO6',\n",
       "  'C18O2',\n",
       "  'C12']}"
      ]
     },
     "execution_count": 36,
     "metadata": {},
     "output_type": "execute_result"
    }
   ],
   "source": [
    "recom.species.formula"
   ]
  },
  {
   "cell_type": "code",
   "execution_count": null,
   "id": "f707e39c",
   "metadata": {},
   "outputs": [],
   "source": []
  },
  {
   "cell_type": "code",
   "execution_count": 6,
   "id": "c9b747e4",
   "metadata": {},
   "outputs": [],
   "source": [
    "# iterator algorithm compares both "
   ]
  }
 ],
 "metadata": {
  "kernelspec": {
   "display_name": "Python 3",
   "language": "python",
   "name": "python3"
  },
  "language_info": {
   "codemirror_mode": {
    "name": "ipython",
    "version": 3
   },
   "file_extension": ".py",
   "mimetype": "text/x-python",
   "name": "python",
   "nbconvert_exporter": "python",
   "pygments_lexer": "ipython3",
   "version": "3.8.8"
  }
 },
 "nbformat": 4,
 "nbformat_minor": 5
}
