{
 "cells": [
  {
   "cell_type": "code",
   "execution_count": 1,
   "id": "ce44159e",
   "metadata": {},
   "outputs": [],
   "source": [
    "# Update iterator algorithm; and making recommendations; \n",
    "import collections\n",
    "import copy\n",
    "import itertools\n",
    "import libsbml\n",
    "import numpy as np\n",
    "import os\n",
    "import pickle\n",
    "import pandas as pd\n",
    "import sys\n",
    "import matplotlib.pyplot as plt\n",
    "%matplotlib inline  \n",
    "\n",
    "BIOMD_12 = 'BIOMD0000000012.xml'\n",
    "BASE_DIR = '/Users/woosubshin/Desktop/AutomateAnnotation/'\n",
    "DATA_DIR = os.path.join(BASE_DIR, \"DATA\")\n",
    "ALGO_DIR = os.path.join(DATA_DIR, \"algo\")\n",
    "CHEBI_DIR = os.path.join(DATA_DIR, \"chebi\")\n",
    "RHEA_DIR = os.path.join(DATA_DIR, \"rhea\")\n",
    "BIOMODEL_DIR = os.path.join(DATA_DIR, \"biomodels/curated_biomodels_31mar2021\")\n",
    "BIGG_DIR = '/Users/woosubshin/Desktop/AutomateAnnotation/DATA/bigg'\n",
    "ecoli_fpath = os.path.join(BIGG_DIR, \"e_coli_core.xml\")\n",
    "\n",
    "PROJ_DIR = os.path.join(os.getcwd(), os.pardir)\n",
    "AMAS_DIR = os.path.join(PROJ_DIR, \"AMAS\")\n",
    "sys.path.append(PROJ_DIR)\n",
    "\n",
    "SUPPL_DIR = os.path.join(PROJ_DIR, os.pardir, \"AMAS_suppl\")\n",
    "ACCURACY_DIR = os.path.join(SUPPL_DIR, \"data_for_credibility\")\n",
    "\n",
    "from AMAS import species_annotation as sa\n",
    "from AMAS import reaction_annotation as ra\n",
    "from AMAS import recommender\n",
    "from AMAS import constants as cn\n",
    "from AMAS import iterator as it\n",
    "from AMAS import tools\n",
    "\n",
    "# Should save & load predicted species & reaction annotations"
   ]
  },
  {
   "cell_type": "code",
   "execution_count": 12,
   "id": "09ac6975-d4dc-4a49-9354-e037c67d050c",
   "metadata": {},
   "outputs": [
    {
     "name": "stdout",
     "output_type": "stream",
     "text": [
      "Pi\n",
      "Pii\n"
     ]
    }
   ],
   "source": [
    "one_fpath = os.path.join(BIOMODEL_DIR, 'BIOMD0000000041.xml')\n",
    "reader = libsbml.SBMLReader()\n",
    "document = reader.readSBML(one_fpath)\n",
    "model = document.getModel()\n",
    "\n",
    "one_spec = model.getSpecies('Pi')\n",
    "print(one_spec.getId())\n",
    "print(one_spec.name)"
   ]
  },
  {
   "cell_type": "code",
   "execution_count": 14,
   "id": "c3d1dd84-27ca-42ec-97f2-e5e290a27093",
   "metadata": {},
   "outputs": [
    {
     "name": "stdout",
     "output_type": "stream",
     "text": [
      "ADPi\n",
      "ATPi\n",
      "Cri\n",
      "PCri\n",
      "PCr\n",
      "ADP\n",
      "ATP\n",
      "Cr\n",
      "Pi\n",
      "P\n"
     ]
    }
   ],
   "source": [
    "for s in model.getListOfSpecies():\n",
    "  print(s.getId())"
   ]
  },
  {
   "cell_type": "code",
   "execution_count": 2,
   "id": "8f5a06a7-5d6b-41b1-9ff3-a4713bff1f39",
   "metadata": {},
   "outputs": [],
   "source": [
    "# Idea is to get recommendations from the iterator object, \n",
    "# and update the recommendations, in the same manner as the others;"
   ]
  },
  {
   "cell_type": "code",
   "execution_count": 2,
   "id": "be327478-9683-4b73-8af0-44af56fcb9b4",
   "metadata": {},
   "outputs": [
    {
     "data": {
      "text/plain": [
       "306"
      ]
     },
     "execution_count": 2,
     "metadata": {},
     "output_type": "execute_result"
    }
   ],
   "source": [
    "# detect models where optimize works\n",
    "biomd_spec_df = pd.read_csv(os.path.join(ACCURACY_DIR, 'biomd_species_plot_data.csv'))\n",
    "biomds = list(np.unique(biomd_spec_df['model']))\n",
    "len(biomds)"
   ]
  },
  {
   "cell_type": "code",
   "execution_count": 5,
   "id": "b257f44b-a3a7-4264-b01c-d587e6cd8fb0",
   "metadata": {},
   "outputs": [
    {
     "data": {
      "text/plain": [
       "[]"
      ]
     },
     "execution_count": 5,
     "metadata": {},
     "output_type": "execute_result"
    }
   ],
   "source": [
    "reacts"
   ]
  },
  {
   "cell_type": "code",
   "execution_count": null,
   "id": "85320926-9c7b-4026-9287-54d3d5c49b67",
   "metadata": {},
   "outputs": [],
   "source": [
    "pred_ids\n",
    "use_exist_species_annotation=False\n",
    "update=True\n",
    "spec_res=None\n",
    "spec_method='cdist'\n",
    "get_df=False"
   ]
  },
  {
   "cell_type": "code",
   "execution_count": 7,
   "id": "37792ddb-f040-4bd5-872b-b74d263fa33e",
   "metadata": {},
   "outputs": [
    {
     "data": {
      "text/plain": [
       "['X_gut', 'C_p', 'C_per', 'C_e', 'C_t']"
      ]
     },
     "execution_count": 7,
     "metadata": {},
     "output_type": "execute_result"
    }
   ],
   "source": [
    "specs"
   ]
  },
  {
   "cell_type": "code",
   "execution_count": 8,
   "id": "5869baf4-3b4d-418b-b11c-e98b218004d3",
   "metadata": {},
   "outputs": [
    {
     "name": "stdout",
     "output_type": "stream",
     "text": [
      "We're at 0\n",
      "Model: BIOMD0000000002.xml\n",
      "NumSpecies: 13, NumReactions:17\n",
      "Model: BIOMD0000000013.xml\n",
      "NumSpecies: 27, NumReactions:21\n",
      "Model: BIOMD0000000015.xml\n",
      "NumSpecies: 18, NumReactions:37\n",
      "Model: BIOMD0000000017.xml\n",
      "NumSpecies: 19, NumReactions:14\n",
      "Model: BIOMD0000000018.xml\n",
      "NumSpecies: 33, NumReactions:47\n",
      "Model: BIOMD0000000023.xml\n",
      "NumSpecies: 13, NumReactions:11\n",
      "Model: BIOMD0000000037.xml\n",
      "NumSpecies: 12, NumReactions:12\n",
      "Model: BIOMD0000000038.xml\n",
      "NumSpecies: 17, NumReactions:10\n",
      "Model: BIOMD0000000039.xml\n",
      "NumSpecies: 5, NumReactions:7\n",
      "Model: BIOMD0000000040.xml\n",
      "NumSpecies: 5, NumReactions:5\n",
      "Model: BIOMD0000000041.xml\n",
      "NumSpecies: 10, NumReactions:9\n",
      "Model: BIOMD0000000042.xml\n",
      "NumSpecies: 15, NumReactions:25\n",
      "Model: BIOMD0000000043.xml\n",
      "NumSpecies: 5, NumReactions:7\n",
      "Model: BIOMD0000000044.xml\n",
      "NumSpecies: 4, NumReactions:8\n",
      "Model: BIOMD0000000045.xml\n",
      "NumSpecies: 4, NumReactions:8\n",
      "Model: BIOMD0000000046.xml\n",
      "NumSpecies: 16, NumReactions:15\n",
      "Model: BIOMD0000000047.xml\n",
      "NumSpecies: 2, NumReactions:3\n",
      "Model: BIOMD0000000050.xml\n",
      "NumSpecies: 14, NumReactions:16\n",
      "Model: BIOMD0000000051.xml\n",
      "NumSpecies: 18, NumReactions:48\n",
      "Model: BIOMD0000000052.xml\n",
      "NumSpecies: 11, NumReactions:11\n",
      "We're at 20\n",
      "Model: BIOMD0000000053.xml\n",
      "NumSpecies: 6, NumReactions:12\n",
      "Model: BIOMD0000000054.xml\n",
      "NumSpecies: 3, NumReactions:5\n",
      "Model: BIOMD0000000058.xml\n",
      "NumSpecies: 4, NumReactions:11\n",
      "Model: BIOMD0000000059.xml\n",
      "NumSpecies: 6, NumReactions:18\n",
      "Model: BIOMD0000000061.xml\n",
      "NumSpecies: 25, NumReactions:24\n",
      "Model: BIOMD0000000062.xml\n",
      "NumSpecies: 4, NumReactions:5\n",
      "Model: BIOMD0000000063.xml\n",
      "NumSpecies: 9, NumReactions:8\n",
      "Model: BIOMD0000000064.xml\n",
      "NumSpecies: 26, NumReactions:17\n",
      "Model: BIOMD0000000065.xml\n",
      "NumSpecies: 9, NumReactions:16\n",
      "Model: BIOMD0000000066.xml\n",
      "NumSpecies: 11, NumReactions:7\n",
      "Model: BIOMD0000000067.xml\n",
      "NumSpecies: 8, NumReactions:13\n",
      "Model: BIOMD0000000068.xml\n",
      "NumSpecies: 9, NumReactions:3\n",
      "Model: BIOMD0000000070.xml\n",
      "NumSpecies: 45, NumReactions:38\n",
      "Model: BIOMD0000000071.xml\n",
      "NumSpecies: 27, NumReactions:14\n",
      "Model: BIOMD0000000075.xml\n",
      "NumSpecies: 13, NumReactions:8\n",
      "Model: BIOMD0000000076.xml\n",
      "NumSpecies: 3, NumReactions:2\n",
      "Model: BIOMD0000000077.xml\n",
      "NumSpecies: 8, NumReactions:5\n",
      "Model: BIOMD0000000080.xml\n",
      "NumSpecies: 10, NumReactions:6\n",
      "Model: BIOMD0000000081.xml\n",
      "NumSpecies: 23, NumReactions:15\n",
      "Model: BIOMD0000000082.xml\n",
      "NumSpecies: 10, NumReactions:6\n",
      "We're at 40\n",
      "Model: BIOMD0000000085.xml\n",
      "NumSpecies: 17, NumReactions:17\n",
      "Model: BIOMD0000000086.xml\n",
      "NumSpecies: 17, NumReactions:24\n",
      "Model: BIOMD0000000087.xml\n",
      "NumSpecies: 55, NumReactions:43\n",
      "Model: BIOMD0000000088.xml\n",
      "NumSpecies: 105, NumReactions:110\n",
      "Model: BIOMD0000000090.xml\n",
      "NumSpecies: 26, NumReactions:21\n",
      "Model: BIOMD0000000091.xml\n",
      "NumSpecies: 16, NumReactions:23\n",
      "Model: BIOMD0000000098.xml\n",
      "NumSpecies: 2, NumReactions:6\n",
      "Model: BIOMD0000000099.xml\n",
      "NumSpecies: 7, NumReactions:14\n",
      "Model: BIOMD0000000100.xml\n",
      "NumSpecies: 5, NumReactions:10\n",
      "Model: BIOMD0000000105.xml\n",
      "NumSpecies: 39, NumReactions:94\n",
      "Model: BIOMD0000000106.xml\n",
      "NumSpecies: 25, NumReactions:32\n",
      "Model: BIOMD0000000108.xml\n",
      "NumSpecies: 9, NumReactions:17\n",
      "Model: BIOMD0000000112.xml\n",
      "NumSpecies: 10, NumReactions:8\n",
      "Model: BIOMD0000000113.xml\n",
      "NumSpecies: 4, NumReactions:7\n",
      "Model: BIOMD0000000114.xml\n",
      "NumSpecies: 2, NumReactions:4\n",
      "Model: BIOMD0000000115.xml\n",
      "NumSpecies: 2, NumReactions:5\n",
      "Model: BIOMD0000000117.xml\n",
      "NumSpecies: 2, NumReactions:6\n",
      "Model: BIOMD0000000119.xml\n",
      "NumSpecies: 1, NumReactions:1\n",
      "Model: BIOMD0000000122.xml\n",
      "NumSpecies: 14, NumReactions:17\n",
      "Model: BIOMD0000000123.xml\n",
      "NumSpecies: 14, NumReactions:17\n",
      "We're at 60\n",
      "Model: BIOMD0000000124.xml\n",
      "NumSpecies: 2, NumReactions:2\n",
      "Model: BIOMD0000000128.xml\n",
      "NumSpecies: 3, NumReactions:3\n",
      "Model: BIOMD0000000137.xml\n",
      "NumSpecies: 21, NumReactions:20\n",
      "Model: BIOMD0000000138.xml\n",
      "NumSpecies: 1, NumReactions:1\n",
      "Model: BIOMD0000000143.xml\n",
      "NumSpecies: 20, NumReactions:20\n",
      "Model: BIOMD0000000145.xml\n",
      "NumSpecies: 7, NumReactions:11\n",
      "Model: BIOMD0000000146.xml\n",
      "NumSpecies: 36, NumReactions:34\n",
      "Model: BIOMD0000000152.xml\n",
      "NumSpecies: 64, NumReactions:120\n",
      "Model: BIOMD0000000153.xml\n",
      "NumSpecies: 75, NumReactions:152\n",
      "Model: BIOMD0000000161.xml\n",
      "NumSpecies: 46, NumReactions:43\n",
      "Model: BIOMD0000000162.xml\n",
      "NumSpecies: 32, NumReactions:45\n",
      "Model: BIOMD0000000165.xml\n",
      "NumSpecies: 37, NumReactions:30\n",
      "Model: BIOMD0000000166.xml\n",
      "NumSpecies: 3, NumReactions:9\n",
      "Model: BIOMD0000000172.xml\n",
      "NumSpecies: 25, NumReactions:19\n",
      "Model: BIOMD0000000175.xml\n",
      "NumSpecies: 120, NumReactions:102\n",
      "Model: BIOMD0000000176.xml\n",
      "NumSpecies: 25, NumReactions:19\n",
      "Model: BIOMD0000000177.xml\n",
      "NumSpecies: 28, NumReactions:21\n",
      "Model: BIOMD0000000182.xml\n",
      "NumSpecies: 37, NumReactions:32\n",
      "Model: BIOMD0000000183.xml\n",
      "NumSpecies: 67, NumReactions:352\n",
      "Model: BIOMD0000000184.xml\n",
      "NumSpecies: 3, NumReactions:7\n",
      "We're at 80\n",
      "Model: BIOMD0000000190.xml\n",
      "NumSpecies: 11, NumReactions:13\n",
      "Model: BIOMD0000000191.xml\n",
      "NumSpecies: 3, NumReactions:5\n",
      "Model: BIOMD0000000192.xml\n",
      "NumSpecies: 13, NumReactions:9\n",
      "Model: BIOMD0000000197.xml\n",
      "NumSpecies: 7, NumReactions:10\n",
      "Model: BIOMD0000000198.xml\n",
      "NumSpecies: 12, NumReactions:7\n",
      "Model: BIOMD0000000199.xml\n",
      "NumSpecies: 15, NumReactions:10\n",
      "Model: BIOMD0000000202.xml\n",
      "NumSpecies: 9, NumReactions:15\n",
      "Model: BIOMD0000000205.xml\n",
      "NumSpecies: 194, NumReactions:205\n",
      "Model: BIOMD0000000206.xml\n",
      "NumSpecies: 9, NumReactions:11\n",
      "Model: BIOMD0000000211.xml\n",
      "NumSpecies: 27, NumReactions:21\n",
      "Model: BIOMD0000000212.xml\n",
      "NumSpecies: 31, NumReactions:18\n",
      "Model: BIOMD0000000213.xml\n",
      "NumSpecies: 14, NumReactions:12\n",
      "Model: BIOMD0000000217.xml\n",
      "NumSpecies: 22, NumReactions:16\n",
      "Model: BIOMD0000000218.xml\n",
      "NumSpecies: 13, NumReactions:14\n",
      "Model: BIOMD0000000219.xml\n",
      "NumSpecies: 13, NumReactions:15\n",
      "Model: BIOMD0000000221.xml\n",
      "NumSpecies: 12, NumReactions:11\n",
      "Model: BIOMD0000000222.xml\n",
      "NumSpecies: 12, NumReactions:11\n",
      "Model: BIOMD0000000224.xml\n",
      "NumSpecies: 4, NumReactions:6\n",
      "Model: BIOMD0000000225.xml\n",
      "NumSpecies: 5, NumReactions:3\n",
      "Model: BIOMD0000000229.xml\n",
      "NumSpecies: 7, NumReactions:14\n",
      "We're at 100\n",
      "Model: BIOMD0000000231.xml\n",
      "NumSpecies: 6, NumReactions:4\n",
      "Model: BIOMD0000000232.xml\n",
      "NumSpecies: 14, NumReactions:12\n",
      "Model: BIOMD0000000236.xml\n",
      "NumSpecies: 7, NumReactions:4\n",
      "Model: BIOMD0000000239.xml\n",
      "NumSpecies: 59, NumReactions:45\n",
      "Model: BIOMD0000000241.xml\n",
      "NumSpecies: 5, NumReactions:0\n",
      "Model: BIOMD0000000244.xml\n",
      "NumSpecies: 47, NumReactions:109\n",
      "Model: BIOMD0000000245.xml\n",
      "NumSpecies: 11, NumReactions:20\n",
      "Model: BIOMD0000000246.xml\n",
      "NumSpecies: 29, NumReactions:41\n",
      "Model: BIOMD0000000247.xml\n",
      "NumSpecies: 31, NumReactions:25\n",
      "Model: BIOMD0000000248.xml\n",
      "NumSpecies: 9, NumReactions:5\n",
      "Model: BIOMD0000000253.xml\n",
      "NumSpecies: 6, NumReactions:4\n",
      "Model: BIOMD0000000254.xml\n",
      "NumSpecies: 4, NumReactions:0\n",
      "Model: BIOMD0000000255.xml\n",
      "NumSpecies: 504, NumReactions:827\n",
      "Model: BIOMD0000000259.xml\n",
      "NumSpecies: 17, NumReactions:29\n",
      "Model: BIOMD0000000260.xml\n",
      "NumSpecies: 17, NumReactions:29\n",
      "Model: BIOMD0000000261.xml\n",
      "NumSpecies: 17, NumReactions:29\n",
      "Model: BIOMD0000000266.xml\n",
      "NumSpecies: 8, NumReactions:0\n",
      "Model: BIOMD0000000268.xml\n",
      "NumSpecies: 44, NumReactions:61\n",
      "Model: BIOMD0000000269.xml\n",
      "NumSpecies: 18, NumReactions:22\n",
      "Model: BIOMD0000000275.xml\n",
      "NumSpecies: 5, NumReactions:9\n",
      "We're at 120\n",
      "Model: BIOMD0000000276.xml\n",
      "NumSpecies: 3, NumReactions:0\n",
      "Model: BIOMD0000000277.xml\n",
      "NumSpecies: 3, NumReactions:0\n",
      "Model: BIOMD0000000281.xml\n",
      "NumSpecies: 32, NumReactions:22\n",
      "Model: BIOMD0000000282.xml\n",
      "NumSpecies: 6, NumReactions:3\n",
      "Model: BIOMD0000000283.xml\n",
      "NumSpecies: 4, NumReactions:2\n",
      "Model: BIOMD0000000286.xml\n",
      "NumSpecies: 59, NumReactions:93\n",
      "Model: BIOMD0000000291.xml\n",
      "NumSpecies: 10, NumReactions:0\n",
      "Model: BIOMD0000000292.xml\n",
      "NumSpecies: 6, NumReactions:4\n",
      "Model: BIOMD0000000293.xml\n",
      "NumSpecies: 136, NumReactions:316\n",
      "Model: BIOMD0000000296.xml\n",
      "NumSpecies: 7, NumReactions:8\n",
      "Model: BIOMD0000000300.xml\n",
      "NumSpecies: 16, NumReactions:10\n",
      "Model: BIOMD0000000301.xml\n",
      "NumSpecies: 8, NumReactions:15\n",
      "Model: BIOMD0000000303.xml\n",
      "NumSpecies: 42, NumReactions:45\n",
      "Model: BIOMD0000000304.xml\n",
      "NumSpecies: 5, NumReactions:0\n",
      "Model: BIOMD0000000305.xml\n",
      "NumSpecies: 9, NumReactions:4\n",
      "Model: BIOMD0000000320.xml\n",
      "NumSpecies: 9, NumReactions:14\n",
      "Model: BIOMD0000000321.xml\n",
      "NumSpecies: 3, NumReactions:6\n",
      "Model: BIOMD0000000325.xml\n",
      "NumSpecies: 6, NumReactions:10\n",
      "Model: BIOMD0000000326.xml\n",
      "NumSpecies: 71, NumReactions:91\n",
      "Model: BIOMD0000000327.xml\n",
      "NumSpecies: 8, NumReactions:11\n",
      "We're at 140\n",
      "Model: BIOMD0000000328.xml\n",
      "NumSpecies: 18, NumReactions:29\n",
      "Model: BIOMD0000000329.xml\n",
      "NumSpecies: 3, NumReactions:8\n",
      "Model: BIOMD0000000330.xml\n",
      "NumSpecies: 5, NumReactions:0\n",
      "Model: BIOMD0000000341.xml\n",
      "NumSpecies: 3, NumReactions:0\n",
      "Model: BIOMD0000000348.xml\n",
      "NumSpecies: 7, NumReactions:0\n",
      "Model: BIOMD0000000349.xml\n",
      "NumSpecies: 7, NumReactions:0\n",
      "Model: BIOMD0000000353.xml\n",
      "NumSpecies: 28, NumReactions:9\n",
      "Model: BIOMD0000000354.xml\n",
      "NumSpecies: 6, NumReactions:11\n",
      "Model: BIOMD0000000355.xml\n",
      "NumSpecies: 9, NumReactions:17\n",
      "Model: BIOMD0000000372.xml\n",
      "NumSpecies: 6, NumReactions:0\n",
      "Model: BIOMD0000000373.xml\n",
      "NumSpecies: 7, NumReactions:0\n",
      "Model: BIOMD0000000374.xml\n",
      "NumSpecies: 5, NumReactions:0\n",
      "Model: BIOMD0000000375.xml\n",
      "NumSpecies: 5, NumReactions:0\n",
      "Model: BIOMD0000000376.xml\n",
      "NumSpecies: 11, NumReactions:0\n",
      "Model: BIOMD0000000378.xml\n",
      "NumSpecies: 6, NumReactions:0\n",
      "Model: BIOMD0000000379.xml\n",
      "NumSpecies: 12, NumReactions:0\n",
      "Model: BIOMD0000000380.xml\n",
      "NumSpecies: 16, NumReactions:8\n",
      "Model: BIOMD0000000382.xml\n",
      "NumSpecies: 6, NumReactions:0\n",
      "Model: BIOMD0000000383.xml\n",
      "NumSpecies: 6, NumReactions:4\n",
      "Model: BIOMD0000000384.xml\n",
      "NumSpecies: 6, NumReactions:4\n",
      "We're at 160\n",
      "Model: BIOMD0000000385.xml\n",
      "NumSpecies: 6, NumReactions:4\n",
      "Model: BIOMD0000000386.xml\n",
      "NumSpecies: 6, NumReactions:4\n",
      "Model: BIOMD0000000387.xml\n",
      "NumSpecies: 7, NumReactions:4\n",
      "Model: BIOMD0000000388.xml\n",
      "NumSpecies: 8, NumReactions:7\n",
      "Model: BIOMD0000000389.xml\n",
      "NumSpecies: 22, NumReactions:18\n",
      "Model: BIOMD0000000390.xml\n",
      "NumSpecies: 11, NumReactions:6\n",
      "Model: BIOMD0000000391.xml\n",
      "NumSpecies: 22, NumReactions:21\n",
      "Model: BIOMD0000000392.xml\n",
      "NumSpecies: 53, NumReactions:27\n",
      "Model: BIOMD0000000393.xml\n",
      "NumSpecies: 58, NumReactions:36\n",
      "Model: BIOMD0000000394.xml\n",
      "NumSpecies: 23, NumReactions:10\n",
      "Model: BIOMD0000000395.xml\n",
      "NumSpecies: 23, NumReactions:12\n",
      "Model: BIOMD0000000396.xml\n",
      "NumSpecies: 36, NumReactions:16\n",
      "Model: BIOMD0000000397.xml\n",
      "NumSpecies: 50, NumReactions:29\n",
      "Model: BIOMD0000000398.xml\n",
      "NumSpecies: 27, NumReactions:12\n",
      "Model: BIOMD0000000400.xml\n",
      "NumSpecies: 13, NumReactions:0\n",
      "Model: BIOMD0000000404.xml\n",
      "NumSpecies: 29, NumReactions:35\n",
      "Model: BIOMD0000000408.xml\n",
      "NumSpecies: 10, NumReactions:9\n",
      "Model: BIOMD0000000409.xml\n",
      "NumSpecies: 24, NumReactions:31\n",
      "Model: BIOMD0000000415.xml\n",
      "NumSpecies: 10, NumReactions:5\n",
      "Model: BIOMD0000000422.xml\n",
      "NumSpecies: 37, NumReactions:43\n",
      "We're at 180\n",
      "Model: BIOMD0000000424.xml\n",
      "NumSpecies: 55, NumReactions:58\n",
      "Model: BIOMD0000000426.xml\n",
      "NumSpecies: 34, NumReactions:29\n",
      "Model: BIOMD0000000428.xml\n",
      "NumSpecies: 31, NumReactions:23\n",
      "Model: BIOMD0000000429.xml\n",
      "NumSpecies: 15, NumReactions:16\n",
      "Model: BIOMD0000000434.xml\n",
      "NumSpecies: 34, NumReactions:35\n",
      "Model: BIOMD0000000436.xml\n",
      "NumSpecies: 13, NumReactions:22\n",
      "Model: BIOMD0000000438.xml\n",
      "NumSpecies: 10, NumReactions:7\n",
      "Model: BIOMD0000000439.xml\n",
      "NumSpecies: 20, NumReactions:21\n",
      "Model: BIOMD0000000450.xml\n",
      "NumSpecies: 53, NumReactions:74\n",
      "Model: BIOMD0000000457.xml\n",
      "NumSpecies: 166, NumReactions:141\n",
      "Model: BIOMD0000000458.xml\n",
      "NumSpecies: 7, NumReactions:3\n",
      "Model: BIOMD0000000459.xml\n",
      "NumSpecies: 4, NumReactions:3\n",
      "Model: BIOMD0000000460.xml\n",
      "NumSpecies: 4, NumReactions:3\n",
      "Model: BIOMD0000000461.xml\n",
      "NumSpecies: 4, NumReactions:3\n",
      "Model: BIOMD0000000464.xml\n",
      "NumSpecies: 14, NumReactions:10\n",
      "Model: BIOMD0000000465.xml\n",
      "NumSpecies: 16, NumReactions:12\n",
      "Model: BIOMD0000000467.xml\n",
      "NumSpecies: 20, NumReactions:24\n",
      "Model: BIOMD0000000468.xml\n",
      "NumSpecies: 79, NumReactions:74\n",
      "Model: BIOMD0000000469.xml\n",
      "NumSpecies: 786, NumReactions:399\n",
      "Model: BIOMD0000000470.xml\n",
      "NumSpecies: 786, NumReactions:399\n",
      "We're at 200\n",
      "Model: BIOMD0000000471.xml\n",
      "NumSpecies: 657, NumReactions:282\n",
      "Model: BIOMD0000000472.xml\n",
      "NumSpecies: 657, NumReactions:282\n",
      "Model: BIOMD0000000473.xml\n",
      "NumSpecies: 713, NumReactions:298\n",
      "Model: BIOMD0000000474.xml\n",
      "NumSpecies: 133, NumReactions:367\n",
      "Model: BIOMD0000000477.xml\n",
      "NumSpecies: 43, NumReactions:49\n",
      "Model: BIOMD0000000478.xml\n",
      "NumSpecies: 33, NumReactions:39\n",
      "Model: BIOMD0000000479.xml\n",
      "NumSpecies: 28, NumReactions:44\n",
      "Model: BIOMD0000000481.xml\n",
      "NumSpecies: 42, NumReactions:28\n",
      "Model: BIOMD0000000482.xml\n",
      "NumSpecies: 23, NumReactions:29\n",
      "Model: BIOMD0000000488.xml\n",
      "NumSpecies: 69, NumReactions:112\n",
      "Model: BIOMD0000000490.xml\n",
      "NumSpecies: 33, NumReactions:66\n",
      "Model: BIOMD0000000491.xml\n",
      "NumSpecies: 57, NumReactions:86\n",
      "Model: BIOMD0000000494.xml\n",
      "NumSpecies: 80, NumReactions:71\n",
      "Model: BIOMD0000000495.xml\n",
      "NumSpecies: 11, NumReactions:17\n",
      "Model: BIOMD0000000496.xml\n",
      "NumSpecies: 295, NumReactions:285\n",
      "Model: BIOMD0000000497.xml\n",
      "NumSpecies: 295, NumReactions:285\n",
      "Model: BIOMD0000000498.xml\n",
      "NumSpecies: 21, NumReactions:44\n",
      "Model: BIOMD0000000502.xml\n",
      "NumSpecies: 21, NumReactions:11\n",
      "Model: BIOMD0000000503.xml\n",
      "NumSpecies: 76, NumReactions:34\n",
      "Model: BIOMD0000000505.xml\n",
      "NumSpecies: 54, NumReactions:59\n",
      "We're at 220\n",
      "Model: BIOMD0000000506.xml\n",
      "NumSpecies: 54, NumReactions:59\n",
      "Model: BIOMD0000000507.xml\n",
      "NumSpecies: 3, NumReactions:4\n",
      "Model: BIOMD0000000508.xml\n",
      "NumSpecies: 16, NumReactions:0\n",
      "Model: BIOMD0000000509.xml\n",
      "NumSpecies: 16, NumReactions:0\n",
      "Model: BIOMD0000000510.xml\n",
      "NumSpecies: 47, NumReactions:36\n",
      "Model: BIOMD0000000511.xml\n",
      "NumSpecies: 46, NumReactions:36\n",
      "Model: BIOMD0000000512.xml\n",
      "NumSpecies: 39, NumReactions:75\n",
      "Model: BIOMD0000000513.xml\n",
      "NumSpecies: 31, NumReactions:21\n",
      "Model: BIOMD0000000514.xml\n",
      "NumSpecies: 46, NumReactions:35\n",
      "Model: BIOMD0000000515.xml\n",
      "NumSpecies: 51, NumReactions:40\n",
      "Model: BIOMD0000000516.xml\n",
      "NumSpecies: 50, NumReactions:40\n",
      "Model: BIOMD0000000540.xml\n",
      "NumSpecies: 22, NumReactions:11\n",
      "Model: BIOMD0000000541.xml\n",
      "NumSpecies: 37, NumReactions:30\n",
      "Model: BIOMD0000000542.xml\n",
      "NumSpecies: 45, NumReactions:84\n",
      "Model: BIOMD0000000547.xml\n",
      "NumSpecies: 12, NumReactions:14\n",
      "Model: BIOMD0000000552.xml\n",
      "NumSpecies: 3, NumReactions:4\n",
      "Model: BIOMD0000000553.xml\n",
      "NumSpecies: 3, NumReactions:4\n",
      "Model: BIOMD0000000554.xml\n",
      "NumSpecies: 51, NumReactions:0\n",
      "Model: BIOMD0000000559.xml\n",
      "NumSpecies: 90, NumReactions:136\n",
      "Model: BIOMD0000000565.xml\n",
      "NumSpecies: 26, NumReactions:64\n",
      "We're at 240\n",
      "Model: BIOMD0000000569.xml\n",
      "NumSpecies: 21, NumReactions:62\n",
      "Model: BIOMD0000000570.xml\n",
      "NumSpecies: 20, NumReactions:18\n",
      "Model: BIOMD0000000571.xml\n",
      "NumSpecies: 76, NumReactions:92\n",
      "Model: BIOMD0000000572.xml\n",
      "NumSpecies: 26, NumReactions:21\n",
      "Model: BIOMD0000000574.xml\n",
      "NumSpecies: 195, NumReactions:576\n",
      "Model: BIOMD0000000575.xml\n",
      "NumSpecies: 76, NumReactions:58\n",
      "Model: BIOMD0000000576.xml\n",
      "NumSpecies: 42, NumReactions:52\n",
      "Model: BIOMD0000000579.xml\n",
      "NumSpecies: 240, NumReactions:175\n",
      "Model: BIOMD0000000582.xml\n",
      "NumSpecies: 40, NumReactions:41\n",
      "Model: BIOMD0000000589.xml\n",
      "NumSpecies: 13, NumReactions:0\n",
      "Model: BIOMD0000000590.xml\n",
      "NumSpecies: 9, NumReactions:20\n",
      "Model: BIOMD0000000601.xml\n",
      "NumSpecies: 5, NumReactions:3\n",
      "Model: BIOMD0000000602.xml\n",
      "NumSpecies: 56, NumReactions:42\n",
      "Model: BIOMD0000000603.xml\n",
      "NumSpecies: 29, NumReactions:58\n",
      "Model: BIOMD0000000604.xml\n",
      "NumSpecies: 29, NumReactions:54\n",
      "Model: BIOMD0000000605.xml\n",
      "NumSpecies: 29, NumReactions:58\n",
      "Model: BIOMD0000000606.xml\n",
      "NumSpecies: 29, NumReactions:54\n",
      "Model: BIOMD0000000607.xml\n",
      "NumSpecies: 29, NumReactions:58\n",
      "Model: BIOMD0000000609.xml\n",
      "NumSpecies: 5, NumReactions:10\n",
      "Model: BIOMD0000000610.xml\n",
      "NumSpecies: 29, NumReactions:58\n",
      "We're at 260\n",
      "Model: BIOMD0000000613.xml\n",
      "NumSpecies: 31, NumReactions:58\n",
      "Model: BIOMD0000000620.xml\n",
      "NumSpecies: 35, NumReactions:20\n",
      "Model: BIOMD0000000621.xml\n",
      "NumSpecies: 35, NumReactions:20\n",
      "Model: BIOMD0000000624.xml\n",
      "NumSpecies: 7, NumReactions:5\n",
      "Model: BIOMD0000000627.xml\n",
      "NumSpecies: 65, NumReactions:64\n",
      "Model: BIOMD0000000628.xml\n",
      "NumSpecies: 135, NumReactions:587\n",
      "Model: BIOMD0000000629.xml\n",
      "NumSpecies: 5, NumReactions:2\n",
      "Model: BIOMD0000000634.xml\n",
      "NumSpecies: 69, NumReactions:112\n",
      "Model: BIOMD0000000635.xml\n",
      "NumSpecies: 80, NumReactions:113\n",
      "Model: BIOMD0000000636.xml\n",
      "NumSpecies: 78, NumReactions:113\n",
      "Model: BIOMD0000000642.xml\n",
      "NumSpecies: 4, NumReactions:0\n",
      "Model: BIOMD0000000658.xml\n",
      "NumSpecies: 16, NumReactions:17\n",
      "Model: BIOMD0000000659.xml\n",
      "NumSpecies: 7, NumReactions:0\n",
      "Model: BIOMD0000000666.xml\n",
      "NumSpecies: 48, NumReactions:48\n",
      "Model: BIOMD0000000674.xml\n",
      "NumSpecies: 53, NumReactions:73\n",
      "Model: BIOMD0000000676.xml\n",
      "NumSpecies: 15, NumReactions:17\n",
      "Model: BIOMD0000000689.xml\n",
      "NumSpecies: 17, NumReactions:10\n",
      "Model: BIOMD0000000690.xml\n",
      "NumSpecies: 17, NumReactions:10\n",
      "Model: BIOMD0000000691.xml\n",
      "NumSpecies: 19, NumReactions:18\n",
      "Model: BIOMD0000000698.xml\n",
      "NumSpecies: 7, NumReactions:9\n",
      "We're at 280\n",
      "Model: BIOMD0000000734.xml\n",
      "NumSpecies: 23, NumReactions:47\n",
      "Model: BIOMD0000000735.xml\n",
      "NumSpecies: 23, NumReactions:47\n",
      "Model: BIOMD0000000736.xml\n",
      "NumSpecies: 12, NumReactions:22\n",
      "Model: BIOMD0000000737.xml\n",
      "NumSpecies: 12, NumReactions:22\n",
      "Model: BIOMD0000000738.xml\n",
      "NumSpecies: 12, NumReactions:22\n",
      "Model: BIOMD0000000750.xml\n",
      "NumSpecies: 8, NumReactions:25\n",
      "Model: BIOMD0000000779.xml\n",
      "NumSpecies: 6, NumReactions:25\n",
      "Model: BIOMD0000000801.xml\n",
      "NumSpecies: 4, NumReactions:13\n",
      "Model: BIOMD0000000805.xml\n",
      "NumSpecies: 4, NumReactions:10\n",
      "Model: BIOMD0000000822.xml\n",
      "NumSpecies: 8, NumReactions:13\n",
      "Model: BIOMD0000000827.xml\n",
      "NumSpecies: 10, NumReactions:9\n",
      "Model: BIOMD0000000828.xml\n",
      "NumSpecies: 6, NumReactions:12\n",
      "Model: BIOMD0000000829.xml\n",
      "NumSpecies: 13, NumReactions:28\n",
      "Model: BIOMD0000000842.xml\n",
      "NumSpecies: 21, NumReactions:26\n",
      "Model: BIOMD0000000847.xml\n",
      "NumSpecies: 4, NumReactions:6\n",
      "Model: BIOMD0000000857.xml\n",
      "NumSpecies: 10, NumReactions:20\n",
      "Model: BIOMD0000000858.xml\n",
      "NumSpecies: 10, NumReactions:20\n",
      "Model: BIOMD0000000859.xml\n",
      "NumSpecies: 13, NumReactions:25\n",
      "Model: BIOMD0000000879.xml\n",
      "NumSpecies: 3, NumReactions:11\n",
      "Model: BIOMD0000000883.xml\n",
      "NumSpecies: 75, NumReactions:85\n",
      "We're at 300\n",
      "Model: BIOMD0000000890.xml\n",
      "NumSpecies: 3, NumReactions:6\n",
      "Model: BIOMD0000000947.xml\n",
      "NumSpecies: 9, NumReactions:0\n",
      "Model: BIOMD0000000948.xml\n",
      "NumSpecies: 6, NumReactions:6\n",
      "Model: BIOMD0000000961.xml\n",
      "NumSpecies: 49, NumReactions:40\n",
      "Model: BIOMD0000000966.xml\n",
      "NumSpecies: 7, NumReactions:6\n",
      "Model: BIOMD0000000986.xml\n",
      "NumSpecies: 8, NumReactions:8\n"
     ]
    }
   ],
   "source": [
    "for idx, one_biomd in enumerate(biomds):\n",
    "  if idx % 20 == 0:\n",
    "    print(\"We're at\", idx)\n",
    "  one_fpath = os.path.join(BIOMODEL_DIR, one_biomd)\n",
    "  reader = libsbml.SBMLReader()\n",
    "  document = reader.readSBML(one_fpath)\n",
    "  model = document.getModel()\n",
    "  print(\"Model: %s\" % one_biomd)\n",
    "  print(\"NumSpecies: %d, NumReactions:%d\" % (model.getNumSpecies(),\n",
    "                                             model.getNumReactions()))\n",
    "    \n",
    "    \n",
    "  # recom = recommender.Recommender(libsbml_fpath=one_fpath)\n",
    "  # specs = recom.getSpeciesIDs()\n",
    "  # reacts = recom.getReactionIDs()\n",
    "  # res_spec = recom.getSpeciesListRecommendation(pred_ids=specs)\n",
    "  # res_reac = recom.getReactionListRecommendation(pred_ids=reacts,\n",
    "  #                                                spec_res=res_spec)\n",
    "  # anot_iter = it.Iterator(cur_spec_formula=recom.species.formula,\n",
    "  #                         reaction_cl=recom.reactions,\n",
    "  #                         reactions_to_update=reacts)\n",
    "  # iter_res = anot_iter.match()\n",
    "  # if iter_res:\n",
    "  #   print(\"found it with %s\" % one_biomd)\n",
    "  #   print(iter_res)"
   ]
  },
  {
   "cell_type": "code",
   "execution_count": 24,
   "id": "4f8332ac-6482-4221-83fe-4d93ed9c80e3",
   "metadata": {},
   "outputs": [
    {
     "data": {
      "text/plain": [
       "{'HX': ['CHEBI:37563'], 'GTP': ['CHEBI:37563'], 'IMP': ['CHEBI:58053']}"
      ]
     },
     "execution_count": 24,
     "metadata": {},
     "output_type": "execute_result"
    }
   ],
   "source": [
    "iter_res"
   ]
  },
  {
   "cell_type": "code",
   "execution_count": 11,
   "id": "926abea3-b277-44a8-87be-94a839689329",
   "metadata": {},
   "outputs": [
    {
     "data": {
      "text/html": [
       "<div>\n",
       "<style scoped>\n",
       "    .dataframe tbody tr th:only-of-type {\n",
       "        vertical-align: middle;\n",
       "    }\n",
       "\n",
       "    .dataframe tbody tr th {\n",
       "        vertical-align: top;\n",
       "    }\n",
       "\n",
       "    .dataframe thead th {\n",
       "        text-align: right;\n",
       "    }\n",
       "</style>\n",
       "<table border=\"1\" class=\"dataframe\">\n",
       "  <thead>\n",
       "    <tr style=\"text-align: right;\">\n",
       "      <th></th>\n",
       "      <th>model</th>\n",
       "      <th>name_length</th>\n",
       "      <th>num_candidates</th>\n",
       "      <th>num_formulas</th>\n",
       "      <th>match_score</th>\n",
       "      <th>accuracy</th>\n",
       "      <th>recall</th>\n",
       "      <th>precision</th>\n",
       "    </tr>\n",
       "  </thead>\n",
       "  <tbody>\n",
       "    <tr>\n",
       "      <th>0</th>\n",
       "      <td>BIOMD0000000002.xml</td>\n",
       "      <td>3</td>\n",
       "      <td>2</td>\n",
       "      <td>2</td>\n",
       "      <td>1.000</td>\n",
       "      <td>1</td>\n",
       "      <td>1.0</td>\n",
       "      <td>0.500</td>\n",
       "    </tr>\n",
       "    <tr>\n",
       "      <th>1</th>\n",
       "      <td>BIOMD0000000013.xml</td>\n",
       "      <td>5</td>\n",
       "      <td>4</td>\n",
       "      <td>3</td>\n",
       "      <td>0.866</td>\n",
       "      <td>1</td>\n",
       "      <td>1.0</td>\n",
       "      <td>0.333</td>\n",
       "    </tr>\n",
       "    <tr>\n",
       "      <th>2</th>\n",
       "      <td>BIOMD0000000013.xml</td>\n",
       "      <td>6</td>\n",
       "      <td>6</td>\n",
       "      <td>6</td>\n",
       "      <td>0.894</td>\n",
       "      <td>0</td>\n",
       "      <td>0.0</td>\n",
       "      <td>0.000</td>\n",
       "    </tr>\n",
       "    <tr>\n",
       "      <th>3</th>\n",
       "      <td>BIOMD0000000013.xml</td>\n",
       "      <td>10</td>\n",
       "      <td>2</td>\n",
       "      <td>1</td>\n",
       "      <td>0.849</td>\n",
       "      <td>1</td>\n",
       "      <td>1.0</td>\n",
       "      <td>1.000</td>\n",
       "    </tr>\n",
       "    <tr>\n",
       "      <th>4</th>\n",
       "      <td>BIOMD0000000013.xml</td>\n",
       "      <td>6</td>\n",
       "      <td>1</td>\n",
       "      <td>1</td>\n",
       "      <td>0.868</td>\n",
       "      <td>0</td>\n",
       "      <td>0.0</td>\n",
       "      <td>0.000</td>\n",
       "    </tr>\n",
       "  </tbody>\n",
       "</table>\n",
       "</div>"
      ],
      "text/plain": [
       "                 model  name_length  num_candidates  num_formulas  \\\n",
       "0  BIOMD0000000002.xml            3               2             2   \n",
       "1  BIOMD0000000013.xml            5               4             3   \n",
       "2  BIOMD0000000013.xml            6               6             6   \n",
       "3  BIOMD0000000013.xml           10               2             1   \n",
       "4  BIOMD0000000013.xml            6               1             1   \n",
       "\n",
       "   match_score  accuracy  recall  precision  \n",
       "0        1.000         1     1.0      0.500  \n",
       "1        0.866         1     1.0      0.333  \n",
       "2        0.894         0     0.0      0.000  \n",
       "3        0.849         1     1.0      1.000  \n",
       "4        0.868         0     0.0      0.000  "
      ]
     },
     "execution_count": 11,
     "metadata": {},
     "output_type": "execute_result"
    }
   ],
   "source": [
    "biomd_spec_df.head()"
   ]
  },
  {
   "cell_type": "code",
   "execution_count": null,
   "id": "3fd6bf2b-e493-41ff-9ef9-a0ba99b72df7",
   "metadata": {},
   "outputs": [],
   "source": []
  },
  {
   "cell_type": "code",
   "execution_count": 57,
   "id": "68686c74",
   "metadata": {},
   "outputs": [],
   "source": [
    "reader = libsbml.SBMLReader()\n",
    "document = reader.readSBML(ecoli_fpath)\n",
    "model = document.getModel()\n",
    "recom = recommender.Recommender(libsbml_fpath=ecoli_fpath)"
   ]
  },
  {
   "cell_type": "code",
   "execution_count": 32,
   "id": "5b5c816f-eb19-4148-9cc5-da856e65d8e4",
   "metadata": {},
   "outputs": [],
   "source": [
    "reacts = recom.getReactionIDs()"
   ]
  },
  {
   "cell_type": "code",
   "execution_count": 62,
   "id": "5ea2f34c-6e20-4744-bca7-415fe7e2cd5b",
   "metadata": {},
   "outputs": [],
   "source": [
    "reacts = ['R_PFK','R_PFL','R_PGI','R_PGK', 'R_ACKr']\n",
    "# reacts = ['R_ACKr']\n",
    "specs = list(set(itertools.chain(*[recom.reactions.reaction_components[val] \\\n",
    "                                   for val in reacts])))"
   ]
  },
  {
   "cell_type": "code",
   "execution_count": 69,
   "id": "6772e146-a78d-4bf8-9233-06b604397352",
   "metadata": {},
   "outputs": [
    {
     "data": {
      "text/plain": [
       "Recommendation(id='M_pyr_c', credibility=0.948, candidates=[('CHEBI:15361', 1.0)], urls=['https://www.ebi.ac.uk/chebi/searchId.do?chebiId=CHEBI%3A15361'], labels=['pyruvate'])"
      ]
     },
     "execution_count": 69,
     "metadata": {},
     "output_type": "execute_result"
    }
   ],
   "source": [
    "res_spec = recom.getSpeciesListRecommendation(pred_ids=specs)\n",
    "res_spec[0]"
   ]
  },
  {
   "cell_type": "code",
   "execution_count": 70,
   "id": "2278bedb-3133-42a3-a001-9ea37c23367b",
   "metadata": {},
   "outputs": [
    {
     "data": {
      "text/html": [
       "<div>\n",
       "<style scoped>\n",
       "    .dataframe tbody tr th:only-of-type {\n",
       "        vertical-align: middle;\n",
       "    }\n",
       "\n",
       "    .dataframe tbody tr th {\n",
       "        vertical-align: top;\n",
       "    }\n",
       "\n",
       "    .dataframe thead th {\n",
       "        text-align: right;\n",
       "    }\n",
       "</style>\n",
       "<table border=\"1\" class=\"dataframe\">\n",
       "  <thead>\n",
       "    <tr style=\"text-align: right;\">\n",
       "      <th></th>\n",
       "      <th>annotation</th>\n",
       "      <th>match score</th>\n",
       "      <th>label</th>\n",
       "    </tr>\n",
       "    <tr>\n",
       "      <th>M_pyr_c (cred. 0.948)</th>\n",
       "      <th></th>\n",
       "      <th></th>\n",
       "      <th></th>\n",
       "    </tr>\n",
       "  </thead>\n",
       "  <tbody>\n",
       "    <tr>\n",
       "      <th>1</th>\n",
       "      <td>CHEBI:15361</td>\n",
       "      <td>1.0</td>\n",
       "      <td>pyruvate</td>\n",
       "    </tr>\n",
       "  </tbody>\n",
       "</table>\n",
       "</div>"
      ],
      "text/plain": [
       "                        annotation  match score     label\n",
       "M_pyr_c (cred. 0.948)                                    \n",
       "1                      CHEBI:15361          1.0  pyruvate"
      ]
     },
     "execution_count": 70,
     "metadata": {},
     "output_type": "execute_result"
    }
   ],
   "source": [
    "recom.getDataFrameFromRecommendation(res_spec[0])"
   ]
  },
  {
   "cell_type": "code",
   "execution_count": 63,
   "id": "45a7b0c2-b3d9-4172-93e3-559ebc74506f",
   "metadata": {},
   "outputs": [],
   "source": [
    "res_spec = recom.getSpeciesListRecommendation(pred_ids=specs, method='edist')\n",
    "\n",
    "res_reac = recom.getReactionListRecommendation(pred_ids=reacts,\n",
    "                                               spec_res=res_spec)\n",
    "anot_iter = it.Iterator(cur_spec_formula=recom.species.formula,\n",
    "                        reaction_cl=recom.reactions,\n",
    "                        reactions_to_update=reacts)"
   ]
  },
  {
   "cell_type": "code",
   "execution_count": 64,
   "id": "47972547-3d8f-4cb6-ab11-09b15db82ffd",
   "metadata": {},
   "outputs": [
    {
     "data": {
      "text/plain": [
       "{'M_atp_c': ['CHEBI:30616']}"
      ]
     },
     "execution_count": 64,
     "metadata": {},
     "output_type": "execute_result"
    }
   ],
   "source": [
    "anot_iter.match()"
   ]
  },
  {
   "cell_type": "code",
   "execution_count": 56,
   "id": "1fd7d1bd-92df-455e-a869-ce398ddbb92f",
   "metadata": {},
   "outputs": [
    {
     "data": {
      "text/plain": [
       "[Recommendation(id='M_actp_c', credibility=0.972, candidates=[('CHEBI:22191', 1.0), ('CHEBI:15350', 1.0)], urls=['https://www.ebi.ac.uk/chebi/searchId.do?chebiId=CHEBI%3A22191', 'https://www.ebi.ac.uk/chebi/searchId.do?chebiId=CHEBI%3A15350'], labels=['acetyl phosphate(2-)', 'acetyl dihydrogen phosphate']),\n",
       " Recommendation(id='M_adp_c', credibility=0.972, candidates=[('CHEBI:186230', 0.873), ('CHEBI:186206', 0.873)], urls=['https://www.ebi.ac.uk/chebi/searchId.do?chebiId=CHEBI%3A186230', 'https://www.ebi.ac.uk/chebi/searchId.do?chebiId=CHEBI%3A186206'], labels=['PA(12:0/15:0)', 'PA(21:0/15:0)']),\n",
       " Recommendation(id='M_ac_c', credibility=0.945, candidates=[('CHEBI:47622', 1.0), ('CHEBI:30089', 1.0)], urls=['https://www.ebi.ac.uk/chebi/searchId.do?chebiId=CHEBI%3A47622', 'https://www.ebi.ac.uk/chebi/searchId.do?chebiId=CHEBI%3A30089'], labels=['acetate ester', 'acetate']),\n",
       " Recommendation(id='M_atp_c', credibility=0.958, candidates=[('CHEBI:153955', 0.84)], urls=['https://www.ebi.ac.uk/chebi/searchId.do?chebiId=CHEBI%3A153955'], labels=['[(2R,3S,4S,5S,6R)-6-[(2S,3S,4S,5S,6R)-2-[[(2R,3S,4S,5S,6R)-6-[(2R,3S,4R,5R,6S)-5-Amino-4,6-dihydroxy-2-(hydroxymethyl)oxan-3-yl]oxy-5-[2-aminoethoxy(hydroxy)phosphoryl]oxy-3,4-dihydroxyoxan-2-yl]methoxy]-6-[[2-aminoethoxy(hydroxy)phosphoryl]oxymethyl]-4,5-dihydroxyoxan-3-yl]oxy-3,4,5-trihydroxyoxan-2-yl]methyl 2-aminoethyl hydrogen phosphate'])]"
      ]
     },
     "execution_count": 56,
     "metadata": {},
     "output_type": "execute_result"
    }
   ],
   "source": [
    "res_spec"
   ]
  },
  {
   "cell_type": "code",
   "execution_count": 4,
   "id": "cd71650d",
   "metadata": {},
   "outputs": [
    {
     "name": "stdout",
     "output_type": "stream",
     "text": [
      "['M_actp_c', 'M_adp_c', 'M_ac_c', 'M_atp_c']\n"
     ]
    }
   ],
   "source": [
    "# # make sure both adp and atp are included\n",
    "one_reaction = 'R_ACKr'\n",
    "comps_ackrs = recom.reactions.reaction_components[one_reaction]\n",
    "print(comps_ackrs)"
   ]
  },
  {
   "cell_type": "code",
   "execution_count": 13,
   "id": "e24abf10-6305-4623-a11c-7e05bbf29b15",
   "metadata": {},
   "outputs": [
    {
     "data": {
      "text/plain": [
       "'a'"
      ]
     },
     "execution_count": 13,
     "metadata": {},
     "output_type": "execute_result"
    }
   ],
   "source": [
    "'A'.lower()"
   ]
  },
  {
   "cell_type": "code",
   "execution_count": 5,
   "id": "891aa851-94be-493c-b0b1-b492df41008b",
   "metadata": {},
   "outputs": [
    {
     "name": "stdout",
     "output_type": "stream",
     "text": [
      "M_actp_c\n",
      "[('CHEBI:22191', 1.0), ('CHEBI:15350', 1.0)]\n",
      "\n",
      "M_adp_c\n",
      "[('CHEBI:77390', 0.312), ('CHEBI:32411', 0.28), ('CHEBI:36331', 0.259), ('CHEBI:31899', 0.158), ('CHEBI:182955', 0.154), ('CHEBI:68840', 0.15), ('CHEBI:42870', 0.147), ('CHEBI:90695', 0.138), ('CHEBI:456216', 0.125), ('CHEBI:28498', 0.111), ('CHEBI:167004', 0.105), ('CHEBI:147398', 0.1), ('CHEBI:72990', 0.088), ('CHEBI:93296', 0.085), ('CHEBI:151629', 0.083), ('CHEBI:152534', 0.083), ('CHEBI:153980', 0.083), ('CHEBI:78443', 0.08), ('CHEBI:167672', 0.067), ('CHEBI:89713', 0.062), ('CHEBI:90217', 0.061), ('CHEBI:88249', 0.06), ('CHEBI:135736', 0.059), ('CHEBI:63450', 0.056), ('CHEBI:63452', 0.05), ('CHEBI:75998', 0.048), ('CHEBI:90304', 0.046)]\n",
      "\n",
      "M_ac_c\n",
      "[('CHEBI:47622', 1.0), ('CHEBI:30089', 1.0)]\n",
      "\n",
      "M_atp_c\n",
      "[('CHEBI:182955', 0.231), ('CHEBI:135736', 0.059)]\n",
      "\n"
     ]
    }
   ],
   "source": [
    "spec_res = recom.getSpeciesListRecommendation(pred_ids=comps_ackrs, method='edist',\n",
    "                                              update=True)\n",
    "for val in spec_res:\n",
    "  print(val.id)\n",
    "  print(val.candidates)\n",
    "  print()"
   ]
  },
  {
   "cell_type": "code",
   "execution_count": 6,
   "id": "03f276cb-d861-4833-952e-be8a8cb668f5",
   "metadata": {},
   "outputs": [],
   "source": [
    "# recommend reaction using \n",
    "mult_reactions = [one_reaction]\n",
    "reac_res = recom.getReactionListRecommendation(pred_ids=mult_reactions,\n",
    "                                               spec_res=spec_res)"
   ]
  },
  {
   "cell_type": "code",
   "execution_count": 7,
   "id": "6cade693-09f4-4934-a5b9-2d4f3ea8e19e",
   "metadata": {},
   "outputs": [
    {
     "data": {
      "text/plain": [
       "{'M_atp_c': ['CHEBI:30616']}"
      ]
     },
     "execution_count": 7,
     "metadata": {},
     "output_type": "execute_result"
    }
   ],
   "source": [
    "anot_iter = it.Iterator(cur_spec_formula=recom.species.formula,\n",
    "                        reaction_cl=recom.reactions,\n",
    "                        reactions_to_update=mult_reactions)\n",
    "res_iter = anot_iter.match()\n",
    "res_iter"
   ]
  },
  {
   "cell_type": "code",
   "execution_count": 8,
   "id": "2c4292ab-4e57-43c8-9a35-39f269236f48",
   "metadata": {},
   "outputs": [],
   "source": [
    "# determine match score.. \n",
    "# idea 1. use match score of the other species used with it;\n",
    "# idea 2. use match score of reaction that uses it; "
   ]
  },
  {
   "cell_type": "code",
   "execution_count": 9,
   "id": "7c9776d2-7ac3-4907-a4ff-2c1fe10e0b17",
   "metadata": {},
   "outputs": [
    {
     "name": "stdout",
     "output_type": "stream",
     "text": [
      "0.75\n",
      "0.9576112602442015\n"
     ]
    }
   ],
   "source": [
    "recoms_tobe_added = []\n",
    "\n",
    "one_spec = 'M_atp_c'\n",
    "pred_reacs = [val.id for val in reac_res]\n",
    "reacs_using_one_spec = [val for val in pred_reacs \\\n",
    "                        if one_spec in recom.reactions.reaction_components[val]]\n",
    "filt_reac_res = [val for val in reac_res if val.id in reacs_using_one_spec]\n",
    "# match score of reactions using that species\n",
    "adj_match_score = np.mean(list(itertools.chain(*[[cand[1] for cand in val.candidates] \\\n",
    "                  for val in filt_reac_res])))\n",
    "print(adj_match_score)\n",
    "# credibility?\n",
    "cands = res_iter[one_spec]\n",
    "adj_formulas = list(set([cn.REF_CHEBI2FORMULA[k] \\\n",
    "                         for k in cands if k in cn.REF_CHEBI2FORMULA.keys()]))\n",
    "adj_cred = sa.SPECIES_RF.predict_proba([[len(recom.species.getNameToUse(one_spec)),\n",
    "                                             len(cands),\n",
    "                                             adj_match_score,\n",
    "                                             len(adj_formulas)]])[0][1]\n",
    "print(adj_cred)\n",
    "urls = [cn.CHEBI_DEFAULT_URL + val[6:] for val in cands]\n",
    "labels = [cn.REF_CHEBI2LABEL[val] for val in cands]\n",
    "adj_recom = cn.Recommendation(one_spec,\n",
    "                              np.round(adj_cred, cn.ROUND_DIGITS),\n",
    "                              [(val, adj_match_score) for val in cands],\n",
    "                              urls,\n",
    "                              labels)\n",
    "recoms_tobe_added.append(adj_recom)"
   ]
  },
  {
   "cell_type": "code",
   "execution_count": 10,
   "id": "8f0a667d-a669-49f2-b5d3-efe0e599e881",
   "metadata": {},
   "outputs": [],
   "source": [
    "recom.updateCurrentElementType('species')\n",
    "fin_spec_recom = recoms_tobe_added + [val for val in spec_res \\\n",
    "                                      if val.id not in res_iter.keys()]\n",
    "spec_df_dict = {val.id: recom.getDataFrameFromRecommendation(rec=val) \\\n",
    "                for val in fin_spec_recom}\n",
    "spec_df_dict['M_atp_c']\n",
    "recom.selection['species'].update(spec_df_dict)"
   ]
  },
  {
   "cell_type": "code",
   "execution_count": 11,
   "id": "a1c92a6b-e2ab-431c-aa1a-f751540209de",
   "metadata": {},
   "outputs": [],
   "source": [
    "# update reactions\n",
    "fin_reac_recom = recom.getReactionListRecommendation(pred_ids=mult_reactions,\n",
    "                                                     spec_res=fin_spec_recom,\n",
    "                                                     get_df=True)\n",
    "recom.selection['reaction'].update({val:fin_reac_recom[idx] \\\n",
    "                                    for idx, val in enumerate(mult_reactions)})"
   ]
  },
  {
   "cell_type": "code",
   "execution_count": 12,
   "id": "27154f24-df2c-4554-ba85-093b4e523c27",
   "metadata": {},
   "outputs": [
    {
     "name": "stdout",
     "output_type": "stream",
     "text": [
      "Annotation recommended for 4 species:\n",
      "[M_ac_c, M_actp_c, M_adp_c, M_atp_c]\n",
      "\n",
      "Annotation recommended for 1 reaction(s):\n",
      "[R_ACKr]\n",
      "\n"
     ]
    }
   ],
   "source": [
    "recom.saveToCSV('iter_res.csv')"
   ]
  },
  {
   "cell_type": "code",
   "execution_count": 61,
   "id": "a27436fc-0f64-4eb5-b117-9ee8a8111f74",
   "metadata": {},
   "outputs": [
    {
     "ename": "KeyError",
     "evalue": "'CHEBI:10789'",
     "output_type": "error",
     "traceback": [
      "\u001b[0;31m---------------------------------------------------------------------------\u001b[0m",
      "\u001b[0;31mKeyError\u001b[0m                                  Traceback (most recent call last)",
      "Cell \u001b[0;32mIn[61], line 1\u001b[0m\n\u001b[0;32m----> 1\u001b[0m \u001b[43mcn\u001b[49m\u001b[38;5;241;43m.\u001b[39;49m\u001b[43mREF_CHEBI2LABEL\u001b[49m\u001b[43m[\u001b[49m\u001b[38;5;124;43m'\u001b[39;49m\u001b[38;5;124;43mCHEBI:10789\u001b[39;49m\u001b[38;5;124;43m'\u001b[39;49m\u001b[43m]\u001b[49m\n",
      "\u001b[0;31mKeyError\u001b[0m: 'CHEBI:10789'"
     ]
    }
   ],
   "source": [
    "cn.REF_CHEBI2LABEL['CHEBI:10789']"
   ]
  },
  {
   "cell_type": "code",
   "execution_count": 15,
   "id": "bdf24ae6-c8e7-43a3-80c0-4b1bf9153b2c",
   "metadata": {},
   "outputs": [
    {
     "data": {
      "text/plain": [
       "Recommendation(id='M_atp_c', credibility=0.972, candidates=[('CHEBI:182955', 0.231), ('CHEBI:135736', 0.059)], urls=['https://www.ebi.ac.uk/chebi/searchId.do?chebiId=CHEBI%3A182955', 'https://www.ebi.ac.uk/chebi/searchId.do?chebiId=CHEBI%3A135736'], labels=['ZINC100151344', 'sitaxentan'])"
      ]
     },
     "execution_count": 15,
     "metadata": {},
     "output_type": "execute_result"
    }
   ],
   "source": [
    "# spec_res is the original recommendation; \n",
    "[val for val in spec_res if val.id=='M_atp_c'][0]"
   ]
  },
  {
   "cell_type": "code",
   "execution_count": null,
   "id": "07f2f598-cf67-4429-a21f-970e493358f5",
   "metadata": {},
   "outputs": [],
   "source": [
    "# TODO: change the values of recommendation; \n",
    "# and update selection; "
   ]
  },
  {
   "cell_type": "code",
   "execution_count": 16,
   "id": "1144ca7d-d1a0-4679-94a2-e4ca75c7b735",
   "metadata": {},
   "outputs": [],
   "source": [
    "comp_iter = anot_iter.match()"
   ]
  },
  {
   "cell_type": "code",
   "execution_count": 18,
   "id": "e45f81ff-eb0a-43ec-b775-0ad98aa4a1c7",
   "metadata": {},
   "outputs": [
    {
     "data": {
      "text/plain": [
       "{'M_atp_c': ['CHEBI:30616']}"
      ]
     },
     "execution_count": 18,
     "metadata": {},
     "output_type": "execute_result"
    }
   ],
   "source": [
    "comp_iter"
   ]
  },
  {
   "cell_type": "code",
   "execution_count": null,
   "id": "c000f999-b7aa-450c-8c67-5bc013497b9a",
   "metadata": {},
   "outputs": [],
   "source": [
    "# now, update results using comp_iter\n",
    "# 1. replace the entry of spec_res using comp_iter\n",
    "# 2. re-predict reaction annotations\n",
    "# 3. make recommendation "
   ]
  },
  {
   "cell_type": "code",
   "execution_count": 5,
   "id": "a9c39b7e-fa5c-4bdc-ba39-d9b4a682d740",
   "metadata": {},
   "outputs": [],
   "source": [
    "E_COLI_PATH = os.path.join(cn.TEST_DIR, 'e_coli_core.xml')\n",
    "INIT_SPEC_FORMULA = {'M_accoa_c': ['C23N7O17P3S'],\n",
    "                     'M_for_c': ['CO2'], \n",
    "                     'M_adp_c': ['C115N8O85', 'C21ClN3O2', 'C19N2O2S',\n",
    "                                 'C17Cl2F3N7O2S', 'C16NO6', 'C19O2',\n",
    "                                 'C26N7O2S', 'C19O9P', 'C28N6OS',\n",
    "                                 'C16F3IN2O4', 'C35N4O4', 'C18N4O11',\n",
    "                                 'C26FIN5O4', 'C20O4', 'C12',\n",
    "                                 'C10N5O10P2', 'C8NO6', 'C29N6O4S',\n",
    "                                 'C18ClN2O6S2', 'C27O5', 'C18O2',\n",
    "                                 'C9N4O5', 'C20N2O5S', 'C101N7O75',\n",
    "                                 'C14N2O'],\n",
    "                     'M_pyr_c': ['C3O3'],\n",
    "                     'M_coa_c': ['C21N7O16P3S'],\n",
    "                     'M_fdp_c': ['C6O12P2'],\n",
    "                     'M_f6p_c': ['C6O9P'],\n",
    "                     'M_atp_c': ['C20O4', 'C18ClN2O6S2'],\n",
    "                     'M_h_c': ['H']}\n",
    "\n",
    "REACTION_CANDIDATES = {'R_PFK': [('RHEA:12423', 0.8), ('RHEA:13380', 0.8),\n",
    "                                 ('RHEA:14216', 0.8), ('RHEA:15656', 0.8),\n",
    "                                 ('RHEA:16112', 0.8), ('RHEA:20108', 0.8)],\n",
    "                       'R_PFL': [('RHEA:11847', 1.0), ('RHEA:17428', 0.8),\n",
    "                                 ('RHEA:22991', 0.8), ('RHEA:22995', 0.8),\n",
    "                                 ('RHEA:28045', 0.8), ('RHEA:12768', 0.667),\n",
    "                                 ('RHEA:21915', 0.667), ('RHEA:44143', 0.667)]}\n",
    "R_PFK = 'R_PFK'\n",
    "R_PFL = 'R_PFL'\n",
    "REACTIONS = [R_PFK, R_PFL]"
   ]
  },
  {
   "cell_type": "code",
   "execution_count": 6,
   "id": "6d00b8ae-6f64-437f-96e9-7ff40ce89d37",
   "metadata": {},
   "outputs": [],
   "source": [
    "reac_cl = ra.ReactionAnnotation(libsbml_fpath = E_COLI_PATH)\n",
    "reac_cl.candidates = REACTION_CANDIDATES\n",
    "anot_iter = it.Iterator(cur_spec_formula=INIT_SPEC_FORMULA,\n",
    "                             reaction_cl=reac_cl,\n",
    "                             reactions_to_update=REACTIONS)"
   ]
  },
  {
   "cell_type": "code",
   "execution_count": 7,
   "id": "b9e471df-d112-4f0b-8093-7c43b8d9dad8",
   "metadata": {},
   "outputs": [
    {
     "data": {
      "text/plain": [
       "{'M_atp_c': ['CHEBI:30616']}"
      ]
     },
     "execution_count": 7,
     "metadata": {},
     "output_type": "execute_result"
    }
   ],
   "source": [
    "anot_iter.runOneMatchCycle()"
   ]
  },
  {
   "cell_type": "code",
   "execution_count": null,
   "id": "168f40b6-22b3-4f47-88cd-0d4808b80983",
   "metadata": {},
   "outputs": [],
   "source": []
  },
  {
   "cell_type": "code",
   "execution_count": null,
   "id": "86ef9fbd-62da-44b8-911d-df66faa48b36",
   "metadata": {},
   "outputs": [],
   "source": []
  },
  {
   "cell_type": "code",
   "execution_count": 6,
   "id": "0fb8779b-9a76-45bb-b231-a8977e1ceb66",
   "metadata": {},
   "outputs": [],
   "source": [
    "recom.updateAnnotationsByIteration()"
   ]
  },
  {
   "cell_type": "code",
   "execution_count": 7,
   "id": "e418deaa-5206-4530-9523-9d461bf7e539",
   "metadata": {},
   "outputs": [
    {
     "name": "stdout",
     "output_type": "stream",
     "text": [
      "[('CHEBI:30616', 0.231)]\n",
      "['C10N5O13P3']\n",
      "[('RHEA:12423', 1.0), ('RHEA:13380', 1.0), ('RHEA:14216', 1.0), ('RHEA:15656', 1.0), ('RHEA:16112', 1.0)]\n"
     ]
    }
   ],
   "source": [
    "print(recom.species.candidates['M_atp_c'])\n",
    "print(recom.species.formula['M_atp_c'])\n",
    "print(recom.reactions.candidates['R_PFK'])"
   ]
  },
  {
   "cell_type": "code",
   "execution_count": null,
   "id": "677eb12b-52c1-4126-a7f5-c6691d367794",
   "metadata": {},
   "outputs": [],
   "source": []
  },
  {
   "cell_type": "code",
   "execution_count": null,
   "id": "2a662e14-9ff5-4e31-9f7e-ea6e683d3d8b",
   "metadata": {},
   "outputs": [],
   "source": []
  },
  {
   "cell_type": "code",
   "execution_count": null,
   "id": "77f42c0b-f9f3-4f06-9c43-db9efba9bb64",
   "metadata": {},
   "outputs": [],
   "source": []
  },
  {
   "cell_type": "code",
   "execution_count": 8,
   "id": "ac2809de-1af3-4e12-88d5-4c2e862e4bcd",
   "metadata": {},
   "outputs": [],
   "source": [
    "one_rhea_tup = anot_iter.reactions.candidates[one_reaction]\n",
    "one_rhea = one_rhea_tup[0][0]\n",
    "pred_spec_formulas = anot_iter.orig_spec_formula\n",
    "one_rhea2formula = anot_iter.getDictOfRheaComponentFormula(inp_rhea=one_rhea)"
   ]
  },
  {
   "cell_type": "code",
   "execution_count": 18,
   "id": "a74cfd75-6bf9-4c94-be32-bd32008ee208",
   "metadata": {},
   "outputs": [
    {
     "name": "stdout",
     "output_type": "stream",
     "text": [
      "{'M_atp_c': ['C10N5O13P3']}\n"
     ]
    }
   ],
   "source": [
    "upd_spec2chebi, upd_spec2formula = anot_iter.getDictsToUpdate(reaction_id='R_PFK')\n",
    "print(upd_spec2formula)"
   ]
  },
  {
   "cell_type": "code",
   "execution_count": 19,
   "id": "2fce9457-3fa4-4923-b960-8090f23a9825",
   "metadata": {},
   "outputs": [
    {
     "data": {
      "text/plain": [
       "{'new_score': 1.0, 'old_score': 0.9, 'is_increased': True}"
      ]
     },
     "execution_count": 19,
     "metadata": {},
     "output_type": "execute_result"
    }
   ],
   "source": [
    "upd_val = anot_iter.getUpdatedMatchScore(cur_spec_formulas = copy.deepcopy(anot_iter.orig_spec_formula),\n",
    "                                         inp_spec2formula_dict = upd_spec2formula)\n",
    "upd_val"
   ]
  },
  {
   "cell_type": "code",
   "execution_count": 21,
   "id": "438e165f-0cdf-4b6a-b3fb-0b85451b08df",
   "metadata": {},
   "outputs": [],
   "source": [
    "one_rhea = 'RHEA:12423'\n",
    "reaction_id = 'R_PFK'\n",
    "# match_res will look like {species_id: [CHEBI term]}\n",
    "# filter to have only keys and items of one reaction\n",
    "filt_spec_formula = {k:anot_iter.orig_spec_formula[k] \\\n",
    "                       for k in anot_iter.reactions.reaction_components[reaction_id]}"
   ]
  },
  {
   "cell_type": "code",
   "execution_count": 22,
   "id": "dab0e7e7-1796-4df3-979a-146480945fd0",
   "metadata": {},
   "outputs": [],
   "source": [
    "upd_spec_chebi = anot_iter.getDictMatchByItem(chebi2ref_formula=anot_iter.getDictOfRheaComponentFormula(one_rhea),\n",
    "                                              spec2pred_formula=filt_spec_formula)"
   ]
  },
  {
   "cell_type": "code",
   "execution_count": 26,
   "id": "1ca70924-c103-44e4-a426-f988ec65be93",
   "metadata": {},
   "outputs": [
    {
     "data": {
      "text/plain": [
       "{'M_atp_c': ['CHEBI:30616']}"
      ]
     },
     "execution_count": 26,
     "metadata": {},
     "output_type": "execute_result"
    }
   ],
   "source": [
    "upd_spec_chebi"
   ]
  },
  {
   "cell_type": "code",
   "execution_count": 5,
   "id": "d1c9ff2f-a117-4062-a033-25138622ad80",
   "metadata": {},
   "outputs": [
    {
     "data": {
      "text/plain": [
       "{'M_atp_c': ['CHEBI:30616']}"
      ]
     },
     "execution_count": 5,
     "metadata": {},
     "output_type": "execute_result"
    }
   ],
   "source": [
    "anot_iter.runOneMatchCycle()"
   ]
  },
  {
   "cell_type": "code",
   "execution_count": 6,
   "id": "88a4d34f-c25f-4684-a6f9-2fad23823d89",
   "metadata": {},
   "outputs": [
    {
     "data": {
      "text/plain": [
       "{'M_h_c': ['H'],\n",
       " 'M_coa_c': ['C21N7O16P3S'],\n",
       " 'M_for_c': ['CO2'],\n",
       " 'M_accoa_c': ['C23N7O17P3S'],\n",
       " 'M_adp_c': ['C10N5O10P2',\n",
       "  'C35N4O4',\n",
       "  'C19O9P',\n",
       "  'C12',\n",
       "  'C18O2',\n",
       "  'C19O2',\n",
       "  'C18N4O11',\n",
       "  'C19N2O2S',\n",
       "  'C9N4O5',\n",
       "  'C20O4',\n",
       "  'C26N7O2S',\n",
       "  'C16F3IN2O4',\n",
       "  'C8NO6',\n",
       "  'C28N6OS',\n",
       "  'C27O5',\n",
       "  'C26FIN5O4',\n",
       "  'C17Cl2F3N7O2S',\n",
       "  'C16NO6',\n",
       "  'C14N2O',\n",
       "  'C101N7O75',\n",
       "  'C29N6O4S',\n",
       "  'C115N8O85',\n",
       "  'C20N2O5S',\n",
       "  'C21ClN3O2',\n",
       "  'C18ClN2O6S2'],\n",
       " 'M_pyr_c': ['C3O3'],\n",
       " 'M_atp_c': ['C18ClN2O6S2', 'C20O4'],\n",
       " 'M_f6p_c': ['C6O9P'],\n",
       " 'M_fdp_c': ['C6O12P2']}"
      ]
     },
     "execution_count": 6,
     "metadata": {},
     "output_type": "execute_result"
    }
   ],
   "source": [
    "anot_iter.orig_spec_formula"
   ]
  },
  {
   "cell_type": "code",
   "execution_count": 22,
   "id": "d55772ea-83f8-4a73-9918-f44aad8d24c0",
   "metadata": {},
   "outputs": [
    {
     "data": {
      "text/plain": [
       "{'M_fdp_c': ['C6O12P2'],\n",
       " 'M_h_c': ['[3He]', 'C6N3O', 'H', 'C12N6O3', 'C6N3O2'],\n",
       " 'M_coa_c': ['C21N7O16P3S'],\n",
       " 'M_for_c': ['CO2', 'C25NO3.Cl'],\n",
       " 'M_pyr_c': ['C3O3'],\n",
       " 'M_f6p_c': ['C6O9P'],\n",
       " 'M_atp_c': ['C30N4O29P3'],\n",
       " 'M_adp_c': ['C30O8P', 'C39O8P'],\n",
       " 'M_accoa_c': ['C23N7O17P3S']}"
      ]
     },
     "execution_count": 22,
     "metadata": {},
     "output_type": "execute_result"
    }
   ],
   "source": [
    "recom.species.formula"
   ]
  },
  {
   "cell_type": "code",
   "execution_count": 30,
   "id": "51437dd5-c11d-484d-a968-a40cf003a1cf",
   "metadata": {},
   "outputs": [],
   "source": [
    "# recom.reactions.exist_annotation\n"
   ]
  },
  {
   "cell_type": "code",
   "execution_count": 21,
   "id": "935d249e-7ea4-410e-b1d7-08ac4d126865",
   "metadata": {},
   "outputs": [
    {
     "data": {
      "text/plain": [
       "<AMAS.reaction_annotation.ReactionAnnotation at 0x7f82a7f88ee0>"
      ]
     },
     "execution_count": 21,
     "metadata": {},
     "output_type": "execute_result"
    }
   ],
   "source": [
    "recom.reactions"
   ]
  },
  {
   "cell_type": "code",
   "execution_count": 14,
   "id": "d87d48aa-917d-43e5-9f25-a3a4ef8c4676",
   "metadata": {},
   "outputs": [],
   "source": [
    "one_rhea_tup = anot_iter.reactions.candidates[one_reaction]\n",
    "one_rhea = one_rhea_tup[0][0]\n",
    "pred_spec_formulas = anot_iter.orig_spec_formula\n",
    "one_rhea2formula = anot_iter.getDictOfRheaComponentFormula(inp_rhea=one_rhea)\n",
    "upd_spec2chebi, upd_spec2formula = anot_iter.getDictsToUpdate(reaction_id=one_reaction)"
   ]
  },
  {
   "cell_type": "code",
   "execution_count": 17,
   "id": "16a5858e-4b5a-4aea-a36c-134957b55d32",
   "metadata": {},
   "outputs": [],
   "source": [
    "upd_val = anot_iter.getUpdatedMatchScore(cur_spec_formulas = copy.deepcopy(anot_iter.orig_spec_formula),\n",
    "                                            inp_spec2formula_dict = upd_spec2formula)"
   ]
  },
  {
   "cell_type": "code",
   "execution_count": 18,
   "id": "bd5560d0-f133-4148-90a3-a8fa6dc7fe8e",
   "metadata": {},
   "outputs": [
    {
     "data": {
      "text/plain": [
       "{'new_score': 0.8, 'old_score': 0.8, 'is_increased': False}"
      ]
     },
     "execution_count": 18,
     "metadata": {},
     "output_type": "execute_result"
    }
   ],
   "source": [
    "upd_val"
   ]
  },
  {
   "cell_type": "code",
   "execution_count": 22,
   "id": "778d97ff-b913-48c2-9047-d0925867567e",
   "metadata": {},
   "outputs": [],
   "source": [
    "one_rhea_tup = anot_iter.reactions.candidates[one_reaction]\n",
    "one_rhea = one_rhea_tup[0][0]\n",
    "pred_spec_formulas = anot_iter.orig_spec_formula\n",
    "one_rhea2formula = anot_iter.getDictOfRheaComponentFormula(inp_rhea=one_rhea)\n",
    "upd_spec2chebi, upd_spec2formula = anot_iter.getDictsToUpdate(reaction_id=one_reaction)"
   ]
  },
  {
   "cell_type": "code",
   "execution_count": 25,
   "id": "e5587b3e-44f9-4d1c-8bd3-3362fb37201f",
   "metadata": {},
   "outputs": [
    {
     "data": {
      "text/plain": [
       "{'M_for_c': ['CO2'],\n",
       " 'M_accoa_c': ['C23N7O17P3S'],\n",
       " 'M_pyr_c': ['C3O3'],\n",
       " 'M_coa_c': ['C21N7O16P3S']}"
      ]
     },
     "execution_count": 25,
     "metadata": {},
     "output_type": "execute_result"
    }
   ],
   "source": [
    "upd_spec2formula"
   ]
  },
  {
   "cell_type": "code",
   "execution_count": 15,
   "id": "020755dd-5747-487a-9e62-d833f7902c3f",
   "metadata": {},
   "outputs": [
    {
     "ename": "TypeError",
     "evalue": "'NoneType' object is not iterable",
     "output_type": "error",
     "traceback": [
      "\u001b[0;31m---------------------------------------------------------------------------\u001b[0m",
      "\u001b[0;31mTypeError\u001b[0m                                 Traceback (most recent call last)",
      "Cell \u001b[0;32mIn[15], line 9\u001b[0m\n\u001b[1;32m      6\u001b[0m upd_spec2chebi, upd_spec2formula \u001b[38;5;241m=\u001b[39m anot_iter\u001b[38;5;241m.\u001b[39mgetDictsToUpdate(reaction_id\u001b[38;5;241m=\u001b[39mone_reaction)\n\u001b[1;32m      7\u001b[0m \u001b[38;5;66;03m# Meaning, when examining match scores we only consider \u001b[39;00m\n\u001b[1;32m      8\u001b[0m \u001b[38;5;66;03m# individual updates; not cumulated updtaes (so we don't use combine_spec2chhebi below) \u001b[39;00m\n\u001b[0;32m----> 9\u001b[0m upd_val \u001b[38;5;241m=\u001b[39m \u001b[43manot_iter\u001b[49m\u001b[38;5;241;43m.\u001b[39;49m\u001b[43mgetUpdatedMatchScore\u001b[49m\u001b[43m(\u001b[49m\u001b[43mcur_spec_formulas\u001b[49m\u001b[43m \u001b[49m\u001b[38;5;241;43m=\u001b[39;49m\u001b[43m \u001b[49m\u001b[43mcopy\u001b[49m\u001b[38;5;241;43m.\u001b[39;49m\u001b[43mdeepcopy\u001b[49m\u001b[43m(\u001b[49m\u001b[43manot_iter\u001b[49m\u001b[38;5;241;43m.\u001b[39;49m\u001b[43morig_spec_formula\u001b[49m\u001b[43m)\u001b[49m\u001b[43m,\u001b[49m\n\u001b[1;32m     10\u001b[0m \u001b[43m                                    \u001b[49m\u001b[43minp_spec2formula_dict\u001b[49m\u001b[43m \u001b[49m\u001b[38;5;241;43m=\u001b[39;49m\u001b[43m \u001b[49m\u001b[43mupd_spec2formula\u001b[49m\u001b[43m)\u001b[49m\n",
      "File \u001b[0;32m~/Desktop/AutomateAnnotation/AMAS/notebooks/../AMAS/iterator.py:192\u001b[0m, in \u001b[0;36mIterator.getUpdatedMatchScore\u001b[0;34m(self, cur_spec_formulas, inp_spec2formula_dict)\u001b[0m\n\u001b[1;32m    172\u001b[0m \u001b[38;5;28;01mdef\u001b[39;00m \u001b[38;5;21mgetUpdatedMatchScore\u001b[39m(\u001b[38;5;28mself\u001b[39m, cur_spec_formulas, inp_spec2formula_dict):\n\u001b[1;32m    173\u001b[0m   \u001b[38;5;124;03m\"\"\"\u001b[39;00m\n\u001b[1;32m    174\u001b[0m \u001b[38;5;124;03m  Check whether it improves reaction measures; \u001b[39;00m\n\u001b[1;32m    175\u001b[0m \u001b[38;5;124;03m  if new value (sum of maximum match score per reaction)\u001b[39;00m\n\u001b[0;32m   (...)\u001b[0m\n\u001b[1;32m    190\u001b[0m \u001b[38;5;124;03m  : dict\u001b[39;00m\n\u001b[1;32m    191\u001b[0m \u001b[38;5;124;03m  \"\"\"\u001b[39;00m\n\u001b[0;32m--> 192\u001b[0m   \u001b[43mcur_spec_formulas\u001b[49m\u001b[38;5;241;43m.\u001b[39;49m\u001b[43mupdate\u001b[49m\u001b[43m(\u001b[49m\u001b[43minp_spec2formula_dict\u001b[49m\u001b[43m)\u001b[49m\n\u001b[1;32m    193\u001b[0m   new_pred_res \u001b[38;5;241m=\u001b[39m \u001b[38;5;28mself\u001b[39m\u001b[38;5;241m.\u001b[39mreactions\u001b[38;5;241m.\u001b[39mpredictAnnotation(inp_spec_dict \u001b[38;5;241m=\u001b[39m cur_spec_formulas,\n\u001b[1;32m    194\u001b[0m                                                   inp_reac_list \u001b[38;5;241m=\u001b[39m \u001b[38;5;28mlist\u001b[39m(\u001b[38;5;28mself\u001b[39m\u001b[38;5;241m.\u001b[39mr2upd))\n\u001b[1;32m    195\u001b[0m   old_pred_res \u001b[38;5;241m=\u001b[39m \u001b[38;5;28mself\u001b[39m\u001b[38;5;241m.\u001b[39mreactions\u001b[38;5;241m.\u001b[39mpredictAnnotation(inp_spec_dict \u001b[38;5;241m=\u001b[39m \u001b[38;5;28mself\u001b[39m\u001b[38;5;241m.\u001b[39morig_spec_formula,\n\u001b[1;32m    196\u001b[0m                                                   inp_reac_list \u001b[38;5;241m=\u001b[39m \u001b[38;5;28mlist\u001b[39m(\u001b[38;5;28mself\u001b[39m\u001b[38;5;241m.\u001b[39mr2upd))\n",
      "\u001b[0;31mTypeError\u001b[0m: 'NoneType' object is not iterable"
     ]
    }
   ],
   "source": [
    "for one_reaction in ['R_PFK', 'R_PFL']:\n",
    "  one_rhea_tup = anot_iter.reactions.candidates[one_reaction]\n",
    "  one_rhea = one_rhea_tup[0][0]\n",
    "  pred_spec_formulas = anot_iter.orig_spec_formula\n",
    "  one_rhea2formula = anot_iter.getDictOfRheaComponentFormula(inp_rhea=one_rhea)\n",
    "  upd_spec2chebi, upd_spec2formula = anot_iter.getDictsToUpdate(reaction_id=one_reaction)\n",
    "  # Meaning, when examining match scores we only consider \n",
    "  # individual updates; not cumulated updtaes (so we don't use combine_spec2chhebi below) \n",
    "  upd_val = anot_iter.getUpdatedMatchScore(cur_spec_formulas = copy.deepcopy(anot_iter.orig_spec_formula),\n",
    "                                      inp_spec2formula_dict = upd_spec2formula)"
   ]
  },
  {
   "cell_type": "code",
   "execution_count": 16,
   "id": "27290a16-efa5-42b4-83a9-0c98930c82b2",
   "metadata": {},
   "outputs": [
    {
     "data": {
      "text/plain": [
       "'R_PFK'"
      ]
     },
     "execution_count": 16,
     "metadata": {},
     "output_type": "execute_result"
    }
   ],
   "source": [
    "one_reaction"
   ]
  },
  {
   "cell_type": "code",
   "execution_count": 7,
   "id": "99931752-fa12-4bb0-8478-b29de082774e",
   "metadata": {},
   "outputs": [
    {
     "data": {
      "text/plain": [
       "['R_PFK', 'R_PFL']"
      ]
     },
     "execution_count": 7,
     "metadata": {},
     "output_type": "execute_result"
    }
   ],
   "source": [
    "anot_iter.r2upd"
   ]
  },
  {
   "cell_type": "code",
   "execution_count": 6,
   "id": "5287cddc-59c7-49ca-9175-dd8127a7eadf",
   "metadata": {},
   "outputs": [],
   "source": [
    "anot_iter.reactions.candidates"
   ]
  },
  {
   "cell_type": "code",
   "execution_count": 6,
   "id": "04870fbd",
   "metadata": {},
   "outputs": [],
   "source": [
    "# one_rhea_tup = recom.reactions.candidates[one_reaction]\n",
    "# one_rhea = one_rhea_tup[0][0]\n",
    "# print(one_rhea_tup)"
   ]
  },
  {
   "cell_type": "code",
   "execution_count": 7,
   "id": "6d52af64",
   "metadata": {},
   "outputs": [],
   "source": [
    "# def getDictOfRheaComponentFormula(inp_rhea):\n",
    "#   \"\"\"\n",
    "#   Get a dictionary {chebi_id: formula}\n",
    "#   from a given rhea term.\n",
    "#   Rhea term -> CheBI IDs -> Formulas\n",
    "  \n",
    "#   Parameters\n",
    "#   ----------\n",
    "#   str: inp_rhea\n",
    "  \n",
    "#   Returns\n",
    "#   -------\n",
    "#   : dict\n",
    "#   \"\"\"\n",
    "#   chebis = cn.REF_RHEA2CHEBI[inp_rhea]\n",
    "#   return {val:cn.REF_CHEBI2FORMULA[val] for val in chebis \\\n",
    "#           if val in cn.REF_CHEBI2FORMULA.keys()}"
   ]
  },
  {
   "cell_type": "code",
   "execution_count": 8,
   "id": "acd7a468",
   "metadata": {
    "tags": []
   },
   "outputs": [],
   "source": [
    "# def getDictMatchByItem(chebi2ref_formula, spec2pred_formula):\n",
    "#   \"\"\"\n",
    "#   Get match between two keys,\n",
    "#   where there are exactly \n",
    "#   one matching items.\n",
    "#   If all items are matched by 1-1\n",
    "#   (i.e., one species - one chebi),\n",
    "#   return the fully matched dictionary.\n",
    "#   (i.e., improve precision)\n",
    "#   If neither, return None.\n",
    "#   (i.e., nothing to update)\n",
    "  \n",
    "#   Parameters\n",
    "#   ----------\n",
    "#   chebi2ref_formula: dict\n",
    "#       {chebi_term: a_species_formula(string)}\n",
    "#   spec2pred_formula: dict\n",
    "#       {species_id: [predicted_formulas]}\n",
    "  \n",
    "#   Returns\n",
    "#   -------\n",
    "#   dict/None\n",
    "#       {species_id: [chebi_term]}\n",
    "#   \"\"\"\n",
    "#   match_dict = {one_k:[spec_id for spec_id in spec2pred_formula.keys() \\\n",
    "#                        if chebi2ref_formula[one_k] in spec2pred_formula[spec_id]\n",
    "#                       ] \\\n",
    "#                 for one_k in chebi2ref_formula.keys()}\n",
    "#   unmatched_species = [val for val in spec2pred_formula.keys() \\\n",
    "#                       if val not in list(itertools.chain(*match_dict.values()))]\n",
    "#   unmatched_chebi = [val for val in match_dict.keys() if not match_dict[val]]\n",
    "#   if len(unmatched_species) == 1 and len(unmatched_chebi) == 1:\n",
    "#     return {unmatched_species[0]: unmatched_chebi} \n",
    "#   elif all([len(val[1])==1 for val in list(match_dict.items())]):\n",
    "#     return match_dict\n",
    "#   else:\n",
    "#     return None"
   ]
  },
  {
   "cell_type": "code",
   "execution_count": 6,
   "id": "410c821e",
   "metadata": {},
   "outputs": [],
   "source": [
    "anot_iter = it.Iterator(cur_spec_formula=recom.species.formula,\n",
    "                        reaction_cl=recom.reactions,\n",
    "                        reactions_to_update = two_reactions)"
   ]
  },
  {
   "cell_type": "code",
   "execution_count": 8,
   "id": "59604f97",
   "metadata": {},
   "outputs": [
    {
     "data": {
      "text/plain": [
       "{'M_atp_c': ['CHEBI:30616']}"
      ]
     },
     "execution_count": 8,
     "metadata": {},
     "output_type": "execute_result"
    }
   ],
   "source": [
    "anot_iter.runOneMatchCycle()"
   ]
  },
  {
   "cell_type": "code",
   "execution_count": null,
   "id": "6d126baf",
   "metadata": {},
   "outputs": [],
   "source": [
    "# # Iterator.match() will take care of this entire process, and return approprite valaues; \n",
    "# combine_spec2update = dict()\n",
    "# for one_reaction in two_reactions:\n",
    "#   print(\"Working with %s\" % one_reaction)\n",
    "#   one_rhea_tup = recom.reactions.candidates[one_reaction]\n",
    "#   one_rhea = one_rhea_tup[0][0]\n",
    "#   pred_spec_formulas = recom.species.formula\n",
    "#   one_rhea2formula = anot_iter.getDictOfRheaComponentFormula(inp_rhea=one_rhea)\n",
    "#   print(\"Arguments\")\n",
    "#   print(pred_spec_formulas)\n",
    "#   print(one_rhea2formula)\n",
    "\n",
    "#   match_res, match_res_formula = anot_iter.getDictsToUpdate(reaction_id=one_reaction)\n",
    "# # match_res = anot_iter.getDictMatchByItem(chebi2ref_formula=one_rhea2formula,\n",
    "# #                                          spec2pred_formula=pred_spec_formulas)\n",
    "#   print(\"Returns\")\n",
    "#   print(match_res)\n",
    "# # match_res_formula = {k:[cn.REF_CHEBI2FORMULA[chebi] for chebi in match_res[k]] for k in match_res.keys()}\n",
    "#   print(match_res_formula)\n",
    "#   print(\"\\n\\n\")\n",
    "#   upd_val = anot_iter.getUpdatedMatchScore(cur_spec_formulas = copy.deepcopy(anot_iter.orig_spec_formula),\n",
    "#                                            inp_spec2formula_dict = match_res_formula)\n",
    "#   print(\"Testing updated score\", upd_val)\n",
    "#   print(\"\\n\\n\")\n",
    "#   if upd_val['is_increased']:\n",
    "#     # update combine_spec2update;  but by combining the elements.\n",
    "#     for k in match_res.keys():\n",
    "#       if k in combine_spec2update.keys():\n",
    "#         combine_spec2update[k] = combine_spec2update[k] + match_res[k]\n",
    "#       else:\n",
    "#         combine_spec2update[k] = match_res[k] \n",
    "#   # => if true, include to updated formula status, and then continue; \n",
    "\n",
    "# print(\"Final updated species dict\", combine_spec2update)\n",
    "\n",
    "\n",
    "# # TODO (last step): for each match, caldulate match score difference and determine whether to improve it or not\n",
    "# # if decided to use, include it in the updated spec/reac dictionaries. finally incorporate it with recom. "
   ]
  },
  {
   "cell_type": "code",
   "execution_count": 11,
   "id": "0291f32a",
   "metadata": {},
   "outputs": [
    {
     "data": {
      "text/plain": [
       "['R_PFK', 'R_PFL']"
      ]
     },
     "execution_count": 11,
     "metadata": {},
     "output_type": "execute_result"
    }
   ],
   "source": [
    "anot_iter.r2upd"
   ]
  },
  {
   "cell_type": "code",
   "execution_count": null,
   "id": "c87ae9a5",
   "metadata": {},
   "outputs": [],
   "source": []
  },
  {
   "cell_type": "code",
   "execution_count": null,
   "id": "27ddf61d",
   "metadata": {},
   "outputs": [],
   "source": []
  },
  {
   "cell_type": "code",
   "execution_count": 50,
   "id": "82eea861",
   "metadata": {},
   "outputs": [
    {
     "data": {
      "text/plain": [
       "{'I': 1,\n",
       " 'have': 1,\n",
       " 'two': 1,\n",
       " 'pets;': 1,\n",
       " 'one': 2,\n",
       " 'cute': 1,\n",
       " 'cat,': 1,\n",
       " 'and': 1,\n",
       " 'ugly': 1,\n",
       " 'dog.': 1}"
      ]
     },
     "execution_count": 50,
     "metadata": {},
     "output_type": "execute_result"
    }
   ],
   "source": [
    "one_str = 'I have two pets; one cute cat, and one ugly dog.'\n",
    "dict(collections.Counter(one_str.split(' ')))"
   ]
  },
  {
   "cell_type": "code",
   "execution_count": null,
   "id": "8137f99d",
   "metadata": {},
   "outputs": [],
   "source": []
  },
  {
   "cell_type": "code",
   "execution_count": null,
   "id": "dffe84e8",
   "metadata": {},
   "outputs": [],
   "source": []
  },
  {
   "cell_type": "code",
   "execution_count": 36,
   "id": "ca94359f",
   "metadata": {},
   "outputs": [
    {
     "data": {
      "text/plain": [
       "{'M_fdp_c': ['C6O12P2'],\n",
       " 'M_atp_c': ['C18ClN2O6S2', 'C20O4'],\n",
       " 'M_h_c': ['H'],\n",
       " 'M_f6p_c': ['C6O9P'],\n",
       " 'M_adp_c': ['C9N4O5',\n",
       "  'C20N2O5S',\n",
       "  'C19O9P',\n",
       "  'C17Cl2F3N7O2S',\n",
       "  'C19O2',\n",
       "  'C28N6OS',\n",
       "  'C115N8O85',\n",
       "  'C27O5',\n",
       "  'C16F3IN2O4',\n",
       "  'C18ClN2O6S2',\n",
       "  'C18N4O11',\n",
       "  'C35N4O4',\n",
       "  'C26N7O2S',\n",
       "  'C16NO6',\n",
       "  'C10N5O10P2',\n",
       "  'C14N2O',\n",
       "  'C29N6O4S',\n",
       "  'C101N7O75',\n",
       "  'C20O4',\n",
       "  'C21ClN3O2',\n",
       "  'C26FIN5O4',\n",
       "  'C19N2O2S',\n",
       "  'C8NO6',\n",
       "  'C18O2',\n",
       "  'C12']}"
      ]
     },
     "execution_count": 36,
     "metadata": {},
     "output_type": "execute_result"
    }
   ],
   "source": [
    "recom.species.formula"
   ]
  },
  {
   "cell_type": "code",
   "execution_count": 38,
   "id": "d0873c91",
   "metadata": {},
   "outputs": [
    {
     "name": "stdout",
     "output_type": "stream",
     "text": [
      "Original DataFrame:\n",
      "            age  size  salary\n",
      "customer1   11    50      10\n",
      "customer2   24   100     200\n",
      "customer3   37   105     800\n"
     ]
    }
   ],
   "source": [
    "import numpy as np\n",
    "import pandas as pd\n",
    "\n",
    "data = {\n",
    "        'age':[11, 24, 37],\n",
    "        'size':[50, 100, 105],\n",
    "        'salary':[10, 200, 800] }\n",
    "\n",
    "# Convert the dictionary into DataFrame\n",
    "df = pd.DataFrame(data, index=['customer1', 'customer2', 'customer3'])\n",
    "print(\"Original DataFrame:\\n\", df)"
   ]
  },
  {
   "cell_type": "code",
   "execution_count": 39,
   "id": "b15f129e",
   "metadata": {},
   "outputs": [],
   "source": [
    "from sklearn.ensemble import RandomForestRegressor\n",
    "regr = RandomForestRegressor(max_depth=2,  random_state=0)"
   ]
  },
  {
   "cell_type": "code",
   "execution_count": 43,
   "id": "4e5457b0",
   "metadata": {},
   "outputs": [
    {
     "data": {
      "text/plain": [
       "RandomForestRegressor(max_depth=2, random_state=0)"
      ]
     },
     "execution_count": 43,
     "metadata": {},
     "output_type": "execute_result"
    }
   ],
   "source": [
    "regr.fit(X=df[['age', 'size']], y=df.loc[:, 'salary'])"
   ]
  },
  {
   "cell_type": "code",
   "execution_count": 44,
   "id": "4129c2e8",
   "metadata": {},
   "outputs": [
    {
     "data": {
      "text/html": [
       "<div>\n",
       "<style scoped>\n",
       "    .dataframe tbody tr th:only-of-type {\n",
       "        vertical-align: middle;\n",
       "    }\n",
       "\n",
       "    .dataframe tbody tr th {\n",
       "        vertical-align: top;\n",
       "    }\n",
       "\n",
       "    .dataframe thead th {\n",
       "        text-align: right;\n",
       "    }\n",
       "</style>\n",
       "<table border=\"1\" class=\"dataframe\">\n",
       "  <thead>\n",
       "    <tr style=\"text-align: right;\">\n",
       "      <th></th>\n",
       "      <th>age</th>\n",
       "      <th>size</th>\n",
       "    </tr>\n",
       "  </thead>\n",
       "  <tbody>\n",
       "    <tr>\n",
       "      <th>0</th>\n",
       "      <td>10</td>\n",
       "      <td>50</td>\n",
       "    </tr>\n",
       "    <tr>\n",
       "      <th>1</th>\n",
       "      <td>40</td>\n",
       "      <td>100</td>\n",
       "    </tr>\n",
       "    <tr>\n",
       "      <th>2</th>\n",
       "      <td>50</td>\n",
       "      <td>105</td>\n",
       "    </tr>\n",
       "  </tbody>\n",
       "</table>\n",
       "</div>"
      ],
      "text/plain": [
       "   age  size\n",
       "0   10    50\n",
       "1   40   100\n",
       "2   50   105"
      ]
     },
     "execution_count": 44,
     "metadata": {},
     "output_type": "execute_result"
    }
   ],
   "source": [
    "new_data = {\n",
    "        'age':[10, 40, 50],\n",
    "        'size':[50, 100, 105]}\n",
    "new_df = pd.DataFrame(new_data)\n",
    "new_df"
   ]
  },
  {
   "cell_type": "code",
   "execution_count": 46,
   "id": "a46aaf92",
   "metadata": {},
   "outputs": [
    {
     "data": {
      "text/plain": [
       "array([102.4, 243.5, 592.5])"
      ]
     },
     "execution_count": 46,
     "metadata": {},
     "output_type": "execute_result"
    }
   ],
   "source": [
    "regr.predict(df[['age', 'size']])"
   ]
  },
  {
   "cell_type": "code",
   "execution_count": 24,
   "id": "98b59855",
   "metadata": {},
   "outputs": [
    {
     "data": {
      "text/plain": [
       "array([[7],\n",
       "       [8],\n",
       "       [9]])"
      ]
     },
     "execution_count": 24,
     "metadata": {},
     "output_type": "execute_result"
    }
   ],
   "source": [
    "np.array(df[['C']])"
   ]
  },
  {
   "cell_type": "code",
   "execution_count": 31,
   "id": "d4c7bd09",
   "metadata": {},
   "outputs": [
    {
     "data": {
      "text/plain": [
       "0     10\n",
       "1    200\n",
       "2    800\n",
       "Name: salary, dtype: int64"
      ]
     },
     "execution_count": 31,
     "metadata": {},
     "output_type": "execute_result"
    }
   ],
   "source": [
    "df.loc[:, 'salary']"
   ]
  },
  {
   "cell_type": "code",
   "execution_count": null,
   "id": "3b3a7c4b",
   "metadata": {},
   "outputs": [],
   "source": []
  }
 ],
 "metadata": {
  "kernelspec": {
   "display_name": "Python 3 (ipykernel)",
   "language": "python",
   "name": "python3"
  },
  "language_info": {
   "codemirror_mode": {
    "name": "ipython",
    "version": 3
   },
   "file_extension": ".py",
   "mimetype": "text/x-python",
   "name": "python",
   "nbconvert_exporter": "python",
   "pygments_lexer": "ipython3",
   "version": "3.11.2"
  }
 },
 "nbformat": 4,
 "nbformat_minor": 5
}
