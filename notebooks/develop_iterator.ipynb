{
 "cells": [
  {
   "cell_type": "code",
   "execution_count": 1,
   "id": "ce44159e",
   "metadata": {},
   "outputs": [],
   "source": [
    "# Update iterator algorithm; and making recommendations; \n",
    "import collections\n",
    "import copy\n",
    "import itertools\n",
    "import libsbml\n",
    "import numpy as np\n",
    "import os\n",
    "import pickle\n",
    "import pandas as pd\n",
    "import sys\n",
    "import matplotlib.pyplot as plt\n",
    "%matplotlib inline  \n",
    "\n",
    "BIOMD_12 = 'BIOMD0000000012.xml'\n",
    "BASE_DIR = '/Users/woosubshin/Desktop/AutomateAnnotation/'\n",
    "DATA_DIR = os.path.join(BASE_DIR, \"DATA\")\n",
    "ALGO_DIR = os.path.join(DATA_DIR, \"algo\")\n",
    "CHEBI_DIR = os.path.join(DATA_DIR, \"chebi\")\n",
    "RHEA_DIR = os.path.join(DATA_DIR, \"rhea\")\n",
    "BIOMODEL_DIR = os.path.join(DATA_DIR, \"biomodels/curated_biomodels_31mar2021\")\n",
    "BIGG_DIR = '/Users/woosubshin/Desktop/AutomateAnnotation/DATA/bigg'\n",
    "ecoli_fpath = os.path.join(BIGG_DIR, \"e_coli_core.xml\")\n",
    "\n",
    "PROJ_DIR = os.path.join(os.getcwd(), os.pardir)\n",
    "AMAS_DIR = os.path.join(PROJ_DIR, \"AMAS\")\n",
    "sys.path.append(PROJ_DIR)\n",
    "\n",
    "from AMAS import species_annotation as sa\n",
    "from AMAS import reaction_annotation as ra\n",
    "from AMAS import recommender\n",
    "from AMAS import constants as cn\n",
    "from AMAS import iterator as it\n",
    "from AMAS import tools\n",
    "\n",
    "# Should save & load predicted species & reaction annotations"
   ]
  },
  {
   "cell_type": "code",
   "execution_count": 2,
   "id": "68686c74",
   "metadata": {},
   "outputs": [],
   "source": [
    "reader = libsbml.SBMLReader()\n",
    "document = reader.readSBML(ecoli_fpath)\n",
    "model = document.getModel()\n",
    "recom = recommender.Recommender(libsbml_fpath=ecoli_fpath)"
   ]
  },
  {
   "cell_type": "code",
   "execution_count": 3,
   "id": "cd71650d",
   "metadata": {},
   "outputs": [
    {
     "name": "stdout",
     "output_type": "stream",
     "text": [
      "['M_atp_c', 'M_adp_c', 'M_actp_c', 'M_ac_c']\n"
     ]
    }
   ],
   "source": [
    "# # make sure both adp and atp are included\n",
    "one_reaction = 'R_ACKr'\n",
    "comps_ackrs = recom.reactions.reaction_components[one_reaction]\n",
    "print(comps_ackrs)"
   ]
  },
  {
   "cell_type": "code",
   "execution_count": 4,
   "id": "891aa851-94be-493c-b0b1-b492df41008b",
   "metadata": {},
   "outputs": [
    {
     "name": "stdout",
     "output_type": "stream",
     "text": [
      "M_atp_c\n",
      "[('CHEBI:182955', 0.231), ('CHEBI:135736', 0.059)]\n",
      "\n",
      "M_adp_c\n",
      "[('CHEBI:77390', 0.312), ('CHEBI:32411', 0.28), ('CHEBI:36331', 0.259), ('CHEBI:31899', 0.158), ('CHEBI:182955', 0.154), ('CHEBI:68840', 0.15), ('CHEBI:42870', 0.147), ('CHEBI:90695', 0.138), ('CHEBI:456216', 0.125), ('CHEBI:28498', 0.111), ('CHEBI:167004', 0.105), ('CHEBI:147398', 0.1), ('CHEBI:72990', 0.088), ('CHEBI:93296', 0.085), ('CHEBI:151629', 0.083), ('CHEBI:152534', 0.083), ('CHEBI:153980', 0.083), ('CHEBI:78443', 0.08), ('CHEBI:167672', 0.067), ('CHEBI:89713', 0.062), ('CHEBI:90217', 0.061), ('CHEBI:88249', 0.06), ('CHEBI:135736', 0.059), ('CHEBI:63450', 0.056), ('CHEBI:63452', 0.05), ('CHEBI:75998', 0.048), ('CHEBI:90304', 0.046)]\n",
      "\n",
      "M_actp_c\n",
      "[('CHEBI:22191', 1.0), ('CHEBI:15350', 1.0)]\n",
      "\n",
      "M_ac_c\n",
      "[('CHEBI:47622', 1.0), ('CHEBI:30089', 1.0)]\n",
      "\n"
     ]
    }
   ],
   "source": [
    "spec_res = recom.getSpeciesListRecommendation(pred_ids=comps_ackrs, method='edist')\n",
    "for val in spec_res:\n",
    "  print(val.id)\n",
    "  print(val.candidates)\n",
    "  print()"
   ]
  },
  {
   "cell_type": "code",
   "execution_count": null,
   "id": "20a34d62-1965-4d82-9ab9-5c529ac6ea62",
   "metadata": {},
   "outputs": [],
   "source": []
  },
  {
   "cell_type": "code",
   "execution_count": 4,
   "id": "e97597f1-03ba-40f6-800a-9b60334ced04",
   "metadata": {},
   "outputs": [],
   "source": [
    "mult_reactions = ['R_PFK', 'R_PFL']\n",
    "recom = recommender.Recommender(libsbml_fpath=ecoli_fpath)\n",
    "reac_recom = recom.getReactionListAnnotation(pred_ids = mult_reactions, spec_method='edist')\n",
    "anot_iter = it.Iterator(cur_spec_formula=recom.species.formula,\n",
    "                        reaction_cl=recom.reactions,\n",
    "                        reactions_to_update = mult_reactions)"
   ]
  },
  {
   "cell_type": "code",
   "execution_count": 5,
   "id": "a9c39b7e-fa5c-4bdc-ba39-d9b4a682d740",
   "metadata": {},
   "outputs": [],
   "source": [
    "E_COLI_PATH = os.path.join(cn.TEST_DIR, 'e_coli_core.xml')\n",
    "INIT_SPEC_FORMULA = {'M_accoa_c': ['C23N7O17P3S'],\n",
    "                     'M_for_c': ['CO2'], \n",
    "                     'M_adp_c': ['C115N8O85', 'C21ClN3O2', 'C19N2O2S',\n",
    "                                 'C17Cl2F3N7O2S', 'C16NO6', 'C19O2',\n",
    "                                 'C26N7O2S', 'C19O9P', 'C28N6OS',\n",
    "                                 'C16F3IN2O4', 'C35N4O4', 'C18N4O11',\n",
    "                                 'C26FIN5O4', 'C20O4', 'C12',\n",
    "                                 'C10N5O10P2', 'C8NO6', 'C29N6O4S',\n",
    "                                 'C18ClN2O6S2', 'C27O5', 'C18O2',\n",
    "                                 'C9N4O5', 'C20N2O5S', 'C101N7O75',\n",
    "                                 'C14N2O'],\n",
    "                     'M_pyr_c': ['C3O3'],\n",
    "                     'M_coa_c': ['C21N7O16P3S'],\n",
    "                     'M_fdp_c': ['C6O12P2'],\n",
    "                     'M_f6p_c': ['C6O9P'],\n",
    "                     'M_atp_c': ['C20O4', 'C18ClN2O6S2'],\n",
    "                     'M_h_c': ['H']}\n",
    "\n",
    "REACTION_CANDIDATES = {'R_PFK': [('RHEA:12423', 0.8), ('RHEA:13380', 0.8),\n",
    "                                 ('RHEA:14216', 0.8), ('RHEA:15656', 0.8),\n",
    "                                 ('RHEA:16112', 0.8), ('RHEA:20108', 0.8)],\n",
    "                       'R_PFL': [('RHEA:11847', 1.0), ('RHEA:17428', 0.8),\n",
    "                                 ('RHEA:22991', 0.8), ('RHEA:22995', 0.8),\n",
    "                                 ('RHEA:28045', 0.8), ('RHEA:12768', 0.667),\n",
    "                                 ('RHEA:21915', 0.667), ('RHEA:44143', 0.667)]}\n",
    "R_PFK = 'R_PFK'\n",
    "R_PFL = 'R_PFL'\n",
    "REACTIONS = [R_PFK, R_PFL]"
   ]
  },
  {
   "cell_type": "code",
   "execution_count": 6,
   "id": "6d00b8ae-6f64-437f-96e9-7ff40ce89d37",
   "metadata": {},
   "outputs": [],
   "source": [
    "reac_cl = ra.ReactionAnnotation(libsbml_fpath = E_COLI_PATH)\n",
    "reac_cl.candidates = REACTION_CANDIDATES\n",
    "anot_iter = it.Iterator(cur_spec_formula=INIT_SPEC_FORMULA,\n",
    "                             reaction_cl=reac_cl,\n",
    "                             reactions_to_update=REACTIONS)"
   ]
  },
  {
   "cell_type": "code",
   "execution_count": 7,
   "id": "b9e471df-d112-4f0b-8093-7c43b8d9dad8",
   "metadata": {},
   "outputs": [
    {
     "data": {
      "text/plain": [
       "{'M_atp_c': ['CHEBI:30616']}"
      ]
     },
     "execution_count": 7,
     "metadata": {},
     "output_type": "execute_result"
    }
   ],
   "source": [
    "anot_iter.runOneMatchCycle()"
   ]
  },
  {
   "cell_type": "code",
   "execution_count": null,
   "id": "168f40b6-22b3-4f47-88cd-0d4808b80983",
   "metadata": {},
   "outputs": [],
   "source": []
  },
  {
   "cell_type": "code",
   "execution_count": null,
   "id": "86ef9fbd-62da-44b8-911d-df66faa48b36",
   "metadata": {},
   "outputs": [],
   "source": []
  },
  {
   "cell_type": "code",
   "execution_count": 6,
   "id": "0fb8779b-9a76-45bb-b231-a8977e1ceb66",
   "metadata": {},
   "outputs": [],
   "source": [
    "recom.updateAnnotationsByIteration()"
   ]
  },
  {
   "cell_type": "code",
   "execution_count": 7,
   "id": "e418deaa-5206-4530-9523-9d461bf7e539",
   "metadata": {},
   "outputs": [
    {
     "name": "stdout",
     "output_type": "stream",
     "text": [
      "[('CHEBI:30616', 0.231)]\n",
      "['C10N5O13P3']\n",
      "[('RHEA:12423', 1.0), ('RHEA:13380', 1.0), ('RHEA:14216', 1.0), ('RHEA:15656', 1.0), ('RHEA:16112', 1.0)]\n"
     ]
    }
   ],
   "source": [
    "print(recom.species.candidates['M_atp_c'])\n",
    "print(recom.species.formula['M_atp_c'])\n",
    "print(recom.reactions.candidates['R_PFK'])"
   ]
  },
  {
   "cell_type": "code",
   "execution_count": null,
   "id": "677eb12b-52c1-4126-a7f5-c6691d367794",
   "metadata": {},
   "outputs": [],
   "source": []
  },
  {
   "cell_type": "code",
   "execution_count": null,
   "id": "2a662e14-9ff5-4e31-9f7e-ea6e683d3d8b",
   "metadata": {},
   "outputs": [],
   "source": []
  },
  {
   "cell_type": "code",
   "execution_count": null,
   "id": "77f42c0b-f9f3-4f06-9c43-db9efba9bb64",
   "metadata": {},
   "outputs": [],
   "source": []
  },
  {
   "cell_type": "code",
   "execution_count": 8,
   "id": "ac2809de-1af3-4e12-88d5-4c2e862e4bcd",
   "metadata": {},
   "outputs": [],
   "source": [
    "one_rhea_tup = anot_iter.reactions.candidates[one_reaction]\n",
    "one_rhea = one_rhea_tup[0][0]\n",
    "pred_spec_formulas = anot_iter.orig_spec_formula\n",
    "one_rhea2formula = anot_iter.getDictOfRheaComponentFormula(inp_rhea=one_rhea)"
   ]
  },
  {
   "cell_type": "code",
   "execution_count": 18,
   "id": "a74cfd75-6bf9-4c94-be32-bd32008ee208",
   "metadata": {},
   "outputs": [
    {
     "name": "stdout",
     "output_type": "stream",
     "text": [
      "{'M_atp_c': ['C10N5O13P3']}\n"
     ]
    }
   ],
   "source": [
    "upd_spec2chebi, upd_spec2formula = anot_iter.getDictsToUpdate(reaction_id='R_PFK')\n",
    "print(upd_spec2formula)"
   ]
  },
  {
   "cell_type": "code",
   "execution_count": 19,
   "id": "2fce9457-3fa4-4923-b960-8090f23a9825",
   "metadata": {},
   "outputs": [
    {
     "data": {
      "text/plain": [
       "{'new_score': 1.0, 'old_score': 0.9, 'is_increased': True}"
      ]
     },
     "execution_count": 19,
     "metadata": {},
     "output_type": "execute_result"
    }
   ],
   "source": [
    "upd_val = anot_iter.getUpdatedMatchScore(cur_spec_formulas = copy.deepcopy(anot_iter.orig_spec_formula),\n",
    "                                         inp_spec2formula_dict = upd_spec2formula)\n",
    "upd_val"
   ]
  },
  {
   "cell_type": "code",
   "execution_count": 21,
   "id": "438e165f-0cdf-4b6a-b3fb-0b85451b08df",
   "metadata": {},
   "outputs": [],
   "source": [
    "one_rhea = 'RHEA:12423'\n",
    "reaction_id = 'R_PFK'\n",
    "# match_res will look like {species_id: [CHEBI term]}\n",
    "# filter to have only keys and items of one reaction\n",
    "filt_spec_formula = {k:anot_iter.orig_spec_formula[k] \\\n",
    "                       for k in anot_iter.reactions.reaction_components[reaction_id]}"
   ]
  },
  {
   "cell_type": "code",
   "execution_count": 22,
   "id": "dab0e7e7-1796-4df3-979a-146480945fd0",
   "metadata": {},
   "outputs": [],
   "source": [
    "upd_spec_chebi = anot_iter.getDictMatchByItem(chebi2ref_formula=anot_iter.getDictOfRheaComponentFormula(one_rhea),\n",
    "                                              spec2pred_formula=filt_spec_formula)"
   ]
  },
  {
   "cell_type": "code",
   "execution_count": 26,
   "id": "1ca70924-c103-44e4-a426-f988ec65be93",
   "metadata": {},
   "outputs": [
    {
     "data": {
      "text/plain": [
       "{'M_atp_c': ['CHEBI:30616']}"
      ]
     },
     "execution_count": 26,
     "metadata": {},
     "output_type": "execute_result"
    }
   ],
   "source": [
    "upd_spec_chebi"
   ]
  },
  {
   "cell_type": "code",
   "execution_count": 5,
   "id": "d1c9ff2f-a117-4062-a033-25138622ad80",
   "metadata": {},
   "outputs": [
    {
     "data": {
      "text/plain": [
       "{'M_atp_c': ['CHEBI:30616']}"
      ]
     },
     "execution_count": 5,
     "metadata": {},
     "output_type": "execute_result"
    }
   ],
   "source": [
    "anot_iter.runOneMatchCycle()"
   ]
  },
  {
   "cell_type": "code",
   "execution_count": 6,
   "id": "88a4d34f-c25f-4684-a6f9-2fad23823d89",
   "metadata": {},
   "outputs": [
    {
     "data": {
      "text/plain": [
       "{'M_h_c': ['H'],\n",
       " 'M_coa_c': ['C21N7O16P3S'],\n",
       " 'M_for_c': ['CO2'],\n",
       " 'M_accoa_c': ['C23N7O17P3S'],\n",
       " 'M_adp_c': ['C10N5O10P2',\n",
       "  'C35N4O4',\n",
       "  'C19O9P',\n",
       "  'C12',\n",
       "  'C18O2',\n",
       "  'C19O2',\n",
       "  'C18N4O11',\n",
       "  'C19N2O2S',\n",
       "  'C9N4O5',\n",
       "  'C20O4',\n",
       "  'C26N7O2S',\n",
       "  'C16F3IN2O4',\n",
       "  'C8NO6',\n",
       "  'C28N6OS',\n",
       "  'C27O5',\n",
       "  'C26FIN5O4',\n",
       "  'C17Cl2F3N7O2S',\n",
       "  'C16NO6',\n",
       "  'C14N2O',\n",
       "  'C101N7O75',\n",
       "  'C29N6O4S',\n",
       "  'C115N8O85',\n",
       "  'C20N2O5S',\n",
       "  'C21ClN3O2',\n",
       "  'C18ClN2O6S2'],\n",
       " 'M_pyr_c': ['C3O3'],\n",
       " 'M_atp_c': ['C18ClN2O6S2', 'C20O4'],\n",
       " 'M_f6p_c': ['C6O9P'],\n",
       " 'M_fdp_c': ['C6O12P2']}"
      ]
     },
     "execution_count": 6,
     "metadata": {},
     "output_type": "execute_result"
    }
   ],
   "source": [
    "anot_iter.orig_spec_formula"
   ]
  },
  {
   "cell_type": "code",
   "execution_count": 22,
   "id": "d55772ea-83f8-4a73-9918-f44aad8d24c0",
   "metadata": {},
   "outputs": [
    {
     "data": {
      "text/plain": [
       "{'M_fdp_c': ['C6O12P2'],\n",
       " 'M_h_c': ['[3He]', 'C6N3O', 'H', 'C12N6O3', 'C6N3O2'],\n",
       " 'M_coa_c': ['C21N7O16P3S'],\n",
       " 'M_for_c': ['CO2', 'C25NO3.Cl'],\n",
       " 'M_pyr_c': ['C3O3'],\n",
       " 'M_f6p_c': ['C6O9P'],\n",
       " 'M_atp_c': ['C30N4O29P3'],\n",
       " 'M_adp_c': ['C30O8P', 'C39O8P'],\n",
       " 'M_accoa_c': ['C23N7O17P3S']}"
      ]
     },
     "execution_count": 22,
     "metadata": {},
     "output_type": "execute_result"
    }
   ],
   "source": [
    "recom.species.formula"
   ]
  },
  {
   "cell_type": "code",
   "execution_count": 30,
   "id": "51437dd5-c11d-484d-a968-a40cf003a1cf",
   "metadata": {},
   "outputs": [],
   "source": [
    "# recom.reactions.exist_annotation\n"
   ]
  },
  {
   "cell_type": "code",
   "execution_count": 21,
   "id": "935d249e-7ea4-410e-b1d7-08ac4d126865",
   "metadata": {},
   "outputs": [
    {
     "data": {
      "text/plain": [
       "<AMAS.reaction_annotation.ReactionAnnotation at 0x7f82a7f88ee0>"
      ]
     },
     "execution_count": 21,
     "metadata": {},
     "output_type": "execute_result"
    }
   ],
   "source": [
    "recom.reactions"
   ]
  },
  {
   "cell_type": "code",
   "execution_count": 14,
   "id": "d87d48aa-917d-43e5-9f25-a3a4ef8c4676",
   "metadata": {},
   "outputs": [],
   "source": [
    "one_rhea_tup = anot_iter.reactions.candidates[one_reaction]\n",
    "one_rhea = one_rhea_tup[0][0]\n",
    "pred_spec_formulas = anot_iter.orig_spec_formula\n",
    "one_rhea2formula = anot_iter.getDictOfRheaComponentFormula(inp_rhea=one_rhea)\n",
    "upd_spec2chebi, upd_spec2formula = anot_iter.getDictsToUpdate(reaction_id=one_reaction)"
   ]
  },
  {
   "cell_type": "code",
   "execution_count": 17,
   "id": "16a5858e-4b5a-4aea-a36c-134957b55d32",
   "metadata": {},
   "outputs": [],
   "source": [
    "upd_val = anot_iter.getUpdatedMatchScore(cur_spec_formulas = copy.deepcopy(anot_iter.orig_spec_formula),\n",
    "                                            inp_spec2formula_dict = upd_spec2formula)"
   ]
  },
  {
   "cell_type": "code",
   "execution_count": 18,
   "id": "bd5560d0-f133-4148-90a3-a8fa6dc7fe8e",
   "metadata": {},
   "outputs": [
    {
     "data": {
      "text/plain": [
       "{'new_score': 0.8, 'old_score': 0.8, 'is_increased': False}"
      ]
     },
     "execution_count": 18,
     "metadata": {},
     "output_type": "execute_result"
    }
   ],
   "source": [
    "upd_val"
   ]
  },
  {
   "cell_type": "code",
   "execution_count": 22,
   "id": "778d97ff-b913-48c2-9047-d0925867567e",
   "metadata": {},
   "outputs": [],
   "source": [
    "one_rhea_tup = anot_iter.reactions.candidates[one_reaction]\n",
    "one_rhea = one_rhea_tup[0][0]\n",
    "pred_spec_formulas = anot_iter.orig_spec_formula\n",
    "one_rhea2formula = anot_iter.getDictOfRheaComponentFormula(inp_rhea=one_rhea)\n",
    "upd_spec2chebi, upd_spec2formula = anot_iter.getDictsToUpdate(reaction_id=one_reaction)"
   ]
  },
  {
   "cell_type": "code",
   "execution_count": 25,
   "id": "e5587b3e-44f9-4d1c-8bd3-3362fb37201f",
   "metadata": {},
   "outputs": [
    {
     "data": {
      "text/plain": [
       "{'M_for_c': ['CO2'],\n",
       " 'M_accoa_c': ['C23N7O17P3S'],\n",
       " 'M_pyr_c': ['C3O3'],\n",
       " 'M_coa_c': ['C21N7O16P3S']}"
      ]
     },
     "execution_count": 25,
     "metadata": {},
     "output_type": "execute_result"
    }
   ],
   "source": [
    "upd_spec2formula"
   ]
  },
  {
   "cell_type": "code",
   "execution_count": 15,
   "id": "020755dd-5747-487a-9e62-d833f7902c3f",
   "metadata": {},
   "outputs": [
    {
     "ename": "TypeError",
     "evalue": "'NoneType' object is not iterable",
     "output_type": "error",
     "traceback": [
      "\u001b[0;31m---------------------------------------------------------------------------\u001b[0m",
      "\u001b[0;31mTypeError\u001b[0m                                 Traceback (most recent call last)",
      "Cell \u001b[0;32mIn[15], line 9\u001b[0m\n\u001b[1;32m      6\u001b[0m upd_spec2chebi, upd_spec2formula \u001b[38;5;241m=\u001b[39m anot_iter\u001b[38;5;241m.\u001b[39mgetDictsToUpdate(reaction_id\u001b[38;5;241m=\u001b[39mone_reaction)\n\u001b[1;32m      7\u001b[0m \u001b[38;5;66;03m# Meaning, when examining match scores we only consider \u001b[39;00m\n\u001b[1;32m      8\u001b[0m \u001b[38;5;66;03m# individual updates; not cumulated updtaes (so we don't use combine_spec2chhebi below) \u001b[39;00m\n\u001b[0;32m----> 9\u001b[0m upd_val \u001b[38;5;241m=\u001b[39m \u001b[43manot_iter\u001b[49m\u001b[38;5;241;43m.\u001b[39;49m\u001b[43mgetUpdatedMatchScore\u001b[49m\u001b[43m(\u001b[49m\u001b[43mcur_spec_formulas\u001b[49m\u001b[43m \u001b[49m\u001b[38;5;241;43m=\u001b[39;49m\u001b[43m \u001b[49m\u001b[43mcopy\u001b[49m\u001b[38;5;241;43m.\u001b[39;49m\u001b[43mdeepcopy\u001b[49m\u001b[43m(\u001b[49m\u001b[43manot_iter\u001b[49m\u001b[38;5;241;43m.\u001b[39;49m\u001b[43morig_spec_formula\u001b[49m\u001b[43m)\u001b[49m\u001b[43m,\u001b[49m\n\u001b[1;32m     10\u001b[0m \u001b[43m                                    \u001b[49m\u001b[43minp_spec2formula_dict\u001b[49m\u001b[43m \u001b[49m\u001b[38;5;241;43m=\u001b[39;49m\u001b[43m \u001b[49m\u001b[43mupd_spec2formula\u001b[49m\u001b[43m)\u001b[49m\n",
      "File \u001b[0;32m~/Desktop/AutomateAnnotation/AMAS/notebooks/../AMAS/iterator.py:192\u001b[0m, in \u001b[0;36mIterator.getUpdatedMatchScore\u001b[0;34m(self, cur_spec_formulas, inp_spec2formula_dict)\u001b[0m\n\u001b[1;32m    172\u001b[0m \u001b[38;5;28;01mdef\u001b[39;00m \u001b[38;5;21mgetUpdatedMatchScore\u001b[39m(\u001b[38;5;28mself\u001b[39m, cur_spec_formulas, inp_spec2formula_dict):\n\u001b[1;32m    173\u001b[0m   \u001b[38;5;124;03m\"\"\"\u001b[39;00m\n\u001b[1;32m    174\u001b[0m \u001b[38;5;124;03m  Check whether it improves reaction measures; \u001b[39;00m\n\u001b[1;32m    175\u001b[0m \u001b[38;5;124;03m  if new value (sum of maximum match score per reaction)\u001b[39;00m\n\u001b[0;32m   (...)\u001b[0m\n\u001b[1;32m    190\u001b[0m \u001b[38;5;124;03m  : dict\u001b[39;00m\n\u001b[1;32m    191\u001b[0m \u001b[38;5;124;03m  \"\"\"\u001b[39;00m\n\u001b[0;32m--> 192\u001b[0m   \u001b[43mcur_spec_formulas\u001b[49m\u001b[38;5;241;43m.\u001b[39;49m\u001b[43mupdate\u001b[49m\u001b[43m(\u001b[49m\u001b[43minp_spec2formula_dict\u001b[49m\u001b[43m)\u001b[49m\n\u001b[1;32m    193\u001b[0m   new_pred_res \u001b[38;5;241m=\u001b[39m \u001b[38;5;28mself\u001b[39m\u001b[38;5;241m.\u001b[39mreactions\u001b[38;5;241m.\u001b[39mpredictAnnotation(inp_spec_dict \u001b[38;5;241m=\u001b[39m cur_spec_formulas,\n\u001b[1;32m    194\u001b[0m                                                   inp_reac_list \u001b[38;5;241m=\u001b[39m \u001b[38;5;28mlist\u001b[39m(\u001b[38;5;28mself\u001b[39m\u001b[38;5;241m.\u001b[39mr2upd))\n\u001b[1;32m    195\u001b[0m   old_pred_res \u001b[38;5;241m=\u001b[39m \u001b[38;5;28mself\u001b[39m\u001b[38;5;241m.\u001b[39mreactions\u001b[38;5;241m.\u001b[39mpredictAnnotation(inp_spec_dict \u001b[38;5;241m=\u001b[39m \u001b[38;5;28mself\u001b[39m\u001b[38;5;241m.\u001b[39morig_spec_formula,\n\u001b[1;32m    196\u001b[0m                                                   inp_reac_list \u001b[38;5;241m=\u001b[39m \u001b[38;5;28mlist\u001b[39m(\u001b[38;5;28mself\u001b[39m\u001b[38;5;241m.\u001b[39mr2upd))\n",
      "\u001b[0;31mTypeError\u001b[0m: 'NoneType' object is not iterable"
     ]
    }
   ],
   "source": [
    "for one_reaction in ['R_PFK', 'R_PFL']:\n",
    "  one_rhea_tup = anot_iter.reactions.candidates[one_reaction]\n",
    "  one_rhea = one_rhea_tup[0][0]\n",
    "  pred_spec_formulas = anot_iter.orig_spec_formula\n",
    "  one_rhea2formula = anot_iter.getDictOfRheaComponentFormula(inp_rhea=one_rhea)\n",
    "  upd_spec2chebi, upd_spec2formula = anot_iter.getDictsToUpdate(reaction_id=one_reaction)\n",
    "  # Meaning, when examining match scores we only consider \n",
    "  # individual updates; not cumulated updtaes (so we don't use combine_spec2chhebi below) \n",
    "  upd_val = anot_iter.getUpdatedMatchScore(cur_spec_formulas = copy.deepcopy(anot_iter.orig_spec_formula),\n",
    "                                      inp_spec2formula_dict = upd_spec2formula)"
   ]
  },
  {
   "cell_type": "code",
   "execution_count": 16,
   "id": "27290a16-efa5-42b4-83a9-0c98930c82b2",
   "metadata": {},
   "outputs": [
    {
     "data": {
      "text/plain": [
       "'R_PFK'"
      ]
     },
     "execution_count": 16,
     "metadata": {},
     "output_type": "execute_result"
    }
   ],
   "source": [
    "one_reaction"
   ]
  },
  {
   "cell_type": "code",
   "execution_count": 7,
   "id": "99931752-fa12-4bb0-8478-b29de082774e",
   "metadata": {},
   "outputs": [
    {
     "data": {
      "text/plain": [
       "['R_PFK', 'R_PFL']"
      ]
     },
     "execution_count": 7,
     "metadata": {},
     "output_type": "execute_result"
    }
   ],
   "source": [
    "anot_iter.r2upd"
   ]
  },
  {
   "cell_type": "code",
   "execution_count": 6,
   "id": "5287cddc-59c7-49ca-9175-dd8127a7eadf",
   "metadata": {},
   "outputs": [],
   "source": [
    "anot_iter.reactions.candidates"
   ]
  },
  {
   "cell_type": "code",
   "execution_count": 6,
   "id": "04870fbd",
   "metadata": {},
   "outputs": [],
   "source": [
    "# one_rhea_tup = recom.reactions.candidates[one_reaction]\n",
    "# one_rhea = one_rhea_tup[0][0]\n",
    "# print(one_rhea_tup)"
   ]
  },
  {
   "cell_type": "code",
   "execution_count": 7,
   "id": "6d52af64",
   "metadata": {},
   "outputs": [],
   "source": [
    "# def getDictOfRheaComponentFormula(inp_rhea):\n",
    "#   \"\"\"\n",
    "#   Get a dictionary {chebi_id: formula}\n",
    "#   from a given rhea term.\n",
    "#   Rhea term -> CheBI IDs -> Formulas\n",
    "  \n",
    "#   Parameters\n",
    "#   ----------\n",
    "#   str: inp_rhea\n",
    "  \n",
    "#   Returns\n",
    "#   -------\n",
    "#   : dict\n",
    "#   \"\"\"\n",
    "#   chebis = cn.REF_RHEA2CHEBI[inp_rhea]\n",
    "#   return {val:cn.REF_CHEBI2FORMULA[val] for val in chebis \\\n",
    "#           if val in cn.REF_CHEBI2FORMULA.keys()}"
   ]
  },
  {
   "cell_type": "code",
   "execution_count": 8,
   "id": "acd7a468",
   "metadata": {
    "tags": []
   },
   "outputs": [],
   "source": [
    "# def getDictMatchByItem(chebi2ref_formula, spec2pred_formula):\n",
    "#   \"\"\"\n",
    "#   Get match between two keys,\n",
    "#   where there are exactly \n",
    "#   one matching items.\n",
    "#   If all items are matched by 1-1\n",
    "#   (i.e., one species - one chebi),\n",
    "#   return the fully matched dictionary.\n",
    "#   (i.e., improve precision)\n",
    "#   If neither, return None.\n",
    "#   (i.e., nothing to update)\n",
    "  \n",
    "#   Parameters\n",
    "#   ----------\n",
    "#   chebi2ref_formula: dict\n",
    "#       {chebi_term: a_species_formula(string)}\n",
    "#   spec2pred_formula: dict\n",
    "#       {species_id: [predicted_formulas]}\n",
    "  \n",
    "#   Returns\n",
    "#   -------\n",
    "#   dict/None\n",
    "#       {species_id: [chebi_term]}\n",
    "#   \"\"\"\n",
    "#   match_dict = {one_k:[spec_id for spec_id in spec2pred_formula.keys() \\\n",
    "#                        if chebi2ref_formula[one_k] in spec2pred_formula[spec_id]\n",
    "#                       ] \\\n",
    "#                 for one_k in chebi2ref_formula.keys()}\n",
    "#   unmatched_species = [val for val in spec2pred_formula.keys() \\\n",
    "#                       if val not in list(itertools.chain(*match_dict.values()))]\n",
    "#   unmatched_chebi = [val for val in match_dict.keys() if not match_dict[val]]\n",
    "#   if len(unmatched_species) == 1 and len(unmatched_chebi) == 1:\n",
    "#     return {unmatched_species[0]: unmatched_chebi} \n",
    "#   elif all([len(val[1])==1 for val in list(match_dict.items())]):\n",
    "#     return match_dict\n",
    "#   else:\n",
    "#     return None"
   ]
  },
  {
   "cell_type": "code",
   "execution_count": 6,
   "id": "410c821e",
   "metadata": {},
   "outputs": [],
   "source": [
    "anot_iter = it.Iterator(cur_spec_formula=recom.species.formula,\n",
    "                        reaction_cl=recom.reactions,\n",
    "                        reactions_to_update = two_reactions)"
   ]
  },
  {
   "cell_type": "code",
   "execution_count": 8,
   "id": "59604f97",
   "metadata": {},
   "outputs": [
    {
     "data": {
      "text/plain": [
       "{'M_atp_c': ['CHEBI:30616']}"
      ]
     },
     "execution_count": 8,
     "metadata": {},
     "output_type": "execute_result"
    }
   ],
   "source": [
    "anot_iter.runOneMatchCycle()"
   ]
  },
  {
   "cell_type": "code",
   "execution_count": null,
   "id": "6d126baf",
   "metadata": {},
   "outputs": [],
   "source": [
    "# # Iterator.match() will take care of this entire process, and return approprite valaues; \n",
    "# combine_spec2update = dict()\n",
    "# for one_reaction in two_reactions:\n",
    "#   print(\"Working with %s\" % one_reaction)\n",
    "#   one_rhea_tup = recom.reactions.candidates[one_reaction]\n",
    "#   one_rhea = one_rhea_tup[0][0]\n",
    "#   pred_spec_formulas = recom.species.formula\n",
    "#   one_rhea2formula = anot_iter.getDictOfRheaComponentFormula(inp_rhea=one_rhea)\n",
    "#   print(\"Arguments\")\n",
    "#   print(pred_spec_formulas)\n",
    "#   print(one_rhea2formula)\n",
    "\n",
    "#   match_res, match_res_formula = anot_iter.getDictsToUpdate(reaction_id=one_reaction)\n",
    "# # match_res = anot_iter.getDictMatchByItem(chebi2ref_formula=one_rhea2formula,\n",
    "# #                                          spec2pred_formula=pred_spec_formulas)\n",
    "#   print(\"Returns\")\n",
    "#   print(match_res)\n",
    "# # match_res_formula = {k:[cn.REF_CHEBI2FORMULA[chebi] for chebi in match_res[k]] for k in match_res.keys()}\n",
    "#   print(match_res_formula)\n",
    "#   print(\"\\n\\n\")\n",
    "#   upd_val = anot_iter.getUpdatedMatchScore(cur_spec_formulas = copy.deepcopy(anot_iter.orig_spec_formula),\n",
    "#                                            inp_spec2formula_dict = match_res_formula)\n",
    "#   print(\"Testing updated score\", upd_val)\n",
    "#   print(\"\\n\\n\")\n",
    "#   if upd_val['is_increased']:\n",
    "#     # update combine_spec2update;  but by combining the elements.\n",
    "#     for k in match_res.keys():\n",
    "#       if k in combine_spec2update.keys():\n",
    "#         combine_spec2update[k] = combine_spec2update[k] + match_res[k]\n",
    "#       else:\n",
    "#         combine_spec2update[k] = match_res[k] \n",
    "#   # => if true, include to updated formula status, and then continue; \n",
    "\n",
    "# print(\"Final updated species dict\", combine_spec2update)\n",
    "\n",
    "\n",
    "# # TODO (last step): for each match, caldulate match score difference and determine whether to improve it or not\n",
    "# # if decided to use, include it in the updated spec/reac dictionaries. finally incorporate it with recom. "
   ]
  },
  {
   "cell_type": "code",
   "execution_count": 11,
   "id": "0291f32a",
   "metadata": {},
   "outputs": [
    {
     "data": {
      "text/plain": [
       "['R_PFK', 'R_PFL']"
      ]
     },
     "execution_count": 11,
     "metadata": {},
     "output_type": "execute_result"
    }
   ],
   "source": [
    "anot_iter.r2upd"
   ]
  },
  {
   "cell_type": "code",
   "execution_count": null,
   "id": "c87ae9a5",
   "metadata": {},
   "outputs": [],
   "source": []
  },
  {
   "cell_type": "code",
   "execution_count": null,
   "id": "27ddf61d",
   "metadata": {},
   "outputs": [],
   "source": []
  },
  {
   "cell_type": "code",
   "execution_count": 50,
   "id": "82eea861",
   "metadata": {},
   "outputs": [
    {
     "data": {
      "text/plain": [
       "{'I': 1,\n",
       " 'have': 1,\n",
       " 'two': 1,\n",
       " 'pets;': 1,\n",
       " 'one': 2,\n",
       " 'cute': 1,\n",
       " 'cat,': 1,\n",
       " 'and': 1,\n",
       " 'ugly': 1,\n",
       " 'dog.': 1}"
      ]
     },
     "execution_count": 50,
     "metadata": {},
     "output_type": "execute_result"
    }
   ],
   "source": [
    "one_str = 'I have two pets; one cute cat, and one ugly dog.'\n",
    "dict(collections.Counter(one_str.split(' ')))"
   ]
  },
  {
   "cell_type": "code",
   "execution_count": null,
   "id": "8137f99d",
   "metadata": {},
   "outputs": [],
   "source": []
  },
  {
   "cell_type": "code",
   "execution_count": null,
   "id": "dffe84e8",
   "metadata": {},
   "outputs": [],
   "source": []
  },
  {
   "cell_type": "code",
   "execution_count": 36,
   "id": "ca94359f",
   "metadata": {},
   "outputs": [
    {
     "data": {
      "text/plain": [
       "{'M_fdp_c': ['C6O12P2'],\n",
       " 'M_atp_c': ['C18ClN2O6S2', 'C20O4'],\n",
       " 'M_h_c': ['H'],\n",
       " 'M_f6p_c': ['C6O9P'],\n",
       " 'M_adp_c': ['C9N4O5',\n",
       "  'C20N2O5S',\n",
       "  'C19O9P',\n",
       "  'C17Cl2F3N7O2S',\n",
       "  'C19O2',\n",
       "  'C28N6OS',\n",
       "  'C115N8O85',\n",
       "  'C27O5',\n",
       "  'C16F3IN2O4',\n",
       "  'C18ClN2O6S2',\n",
       "  'C18N4O11',\n",
       "  'C35N4O4',\n",
       "  'C26N7O2S',\n",
       "  'C16NO6',\n",
       "  'C10N5O10P2',\n",
       "  'C14N2O',\n",
       "  'C29N6O4S',\n",
       "  'C101N7O75',\n",
       "  'C20O4',\n",
       "  'C21ClN3O2',\n",
       "  'C26FIN5O4',\n",
       "  'C19N2O2S',\n",
       "  'C8NO6',\n",
       "  'C18O2',\n",
       "  'C12']}"
      ]
     },
     "execution_count": 36,
     "metadata": {},
     "output_type": "execute_result"
    }
   ],
   "source": [
    "recom.species.formula"
   ]
  },
  {
   "cell_type": "code",
   "execution_count": 38,
   "id": "d0873c91",
   "metadata": {},
   "outputs": [
    {
     "name": "stdout",
     "output_type": "stream",
     "text": [
      "Original DataFrame:\n",
      "            age  size  salary\n",
      "customer1   11    50      10\n",
      "customer2   24   100     200\n",
      "customer3   37   105     800\n"
     ]
    }
   ],
   "source": [
    "import numpy as np\n",
    "import pandas as pd\n",
    "\n",
    "data = {\n",
    "        'age':[11, 24, 37],\n",
    "        'size':[50, 100, 105],\n",
    "        'salary':[10, 200, 800] }\n",
    "\n",
    "# Convert the dictionary into DataFrame\n",
    "df = pd.DataFrame(data, index=['customer1', 'customer2', 'customer3'])\n",
    "print(\"Original DataFrame:\\n\", df)"
   ]
  },
  {
   "cell_type": "code",
   "execution_count": 39,
   "id": "b15f129e",
   "metadata": {},
   "outputs": [],
   "source": [
    "from sklearn.ensemble import RandomForestRegressor\n",
    "regr = RandomForestRegressor(max_depth=2,  random_state=0)"
   ]
  },
  {
   "cell_type": "code",
   "execution_count": 43,
   "id": "4e5457b0",
   "metadata": {},
   "outputs": [
    {
     "data": {
      "text/plain": [
       "RandomForestRegressor(max_depth=2, random_state=0)"
      ]
     },
     "execution_count": 43,
     "metadata": {},
     "output_type": "execute_result"
    }
   ],
   "source": [
    "regr.fit(X=df[['age', 'size']], y=df.loc[:, 'salary'])"
   ]
  },
  {
   "cell_type": "code",
   "execution_count": 44,
   "id": "4129c2e8",
   "metadata": {},
   "outputs": [
    {
     "data": {
      "text/html": [
       "<div>\n",
       "<style scoped>\n",
       "    .dataframe tbody tr th:only-of-type {\n",
       "        vertical-align: middle;\n",
       "    }\n",
       "\n",
       "    .dataframe tbody tr th {\n",
       "        vertical-align: top;\n",
       "    }\n",
       "\n",
       "    .dataframe thead th {\n",
       "        text-align: right;\n",
       "    }\n",
       "</style>\n",
       "<table border=\"1\" class=\"dataframe\">\n",
       "  <thead>\n",
       "    <tr style=\"text-align: right;\">\n",
       "      <th></th>\n",
       "      <th>age</th>\n",
       "      <th>size</th>\n",
       "    </tr>\n",
       "  </thead>\n",
       "  <tbody>\n",
       "    <tr>\n",
       "      <th>0</th>\n",
       "      <td>10</td>\n",
       "      <td>50</td>\n",
       "    </tr>\n",
       "    <tr>\n",
       "      <th>1</th>\n",
       "      <td>40</td>\n",
       "      <td>100</td>\n",
       "    </tr>\n",
       "    <tr>\n",
       "      <th>2</th>\n",
       "      <td>50</td>\n",
       "      <td>105</td>\n",
       "    </tr>\n",
       "  </tbody>\n",
       "</table>\n",
       "</div>"
      ],
      "text/plain": [
       "   age  size\n",
       "0   10    50\n",
       "1   40   100\n",
       "2   50   105"
      ]
     },
     "execution_count": 44,
     "metadata": {},
     "output_type": "execute_result"
    }
   ],
   "source": [
    "new_data = {\n",
    "        'age':[10, 40, 50],\n",
    "        'size':[50, 100, 105]}\n",
    "new_df = pd.DataFrame(new_data)\n",
    "new_df"
   ]
  },
  {
   "cell_type": "code",
   "execution_count": 46,
   "id": "a46aaf92",
   "metadata": {},
   "outputs": [
    {
     "data": {
      "text/plain": [
       "array([102.4, 243.5, 592.5])"
      ]
     },
     "execution_count": 46,
     "metadata": {},
     "output_type": "execute_result"
    }
   ],
   "source": [
    "regr.predict(df[['age', 'size']])"
   ]
  },
  {
   "cell_type": "code",
   "execution_count": 24,
   "id": "98b59855",
   "metadata": {},
   "outputs": [
    {
     "data": {
      "text/plain": [
       "array([[7],\n",
       "       [8],\n",
       "       [9]])"
      ]
     },
     "execution_count": 24,
     "metadata": {},
     "output_type": "execute_result"
    }
   ],
   "source": [
    "np.array(df[['C']])"
   ]
  },
  {
   "cell_type": "code",
   "execution_count": 31,
   "id": "d4c7bd09",
   "metadata": {},
   "outputs": [
    {
     "data": {
      "text/plain": [
       "0     10\n",
       "1    200\n",
       "2    800\n",
       "Name: salary, dtype: int64"
      ]
     },
     "execution_count": 31,
     "metadata": {},
     "output_type": "execute_result"
    }
   ],
   "source": [
    "df.loc[:, 'salary']"
   ]
  },
  {
   "cell_type": "code",
   "execution_count": null,
   "id": "3b3a7c4b",
   "metadata": {},
   "outputs": [],
   "source": []
  }
 ],
 "metadata": {
  "kernelspec": {
   "display_name": "Python 3 (ipykernel)",
   "language": "python",
   "name": "python3"
  },
  "language_info": {
   "codemirror_mode": {
    "name": "ipython",
    "version": 3
   },
   "file_extension": ".py",
   "mimetype": "text/x-python",
   "name": "python",
   "nbconvert_exporter": "python",
   "pygments_lexer": "ipython3",
   "version": "3.11.2"
  }
 },
 "nbformat": 4,
 "nbformat_minor": 5
}
