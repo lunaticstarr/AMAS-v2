{
 "cells": [
  {
   "cell_type": "code",
   "execution_count": 21,
   "id": "8cecb41a-2afa-4d4e-b6ca-3ef573c74943",
   "metadata": {},
   "outputs": [],
   "source": [
    "# Collect data for figures and tables\n",
    "import collections\n",
    "\n",
    "import compress_pickle\n",
    "import itertools\n",
    "import libsbml\n",
    "import numpy as np\n",
    "import os\n",
    "import pickle\n",
    "import pandas as pd\n",
    "import sys\n",
    "import time\n",
    "import matplotlib.pyplot as plt\n",
    "%matplotlib inline  \n",
    "\n",
    "BIOMD_12 = 'BIOMD0000000012.xml'\n",
    "BASE_DIR = '/Users/woosubs/Desktop/AutomateAnnotation/'\n",
    "DATA_DIR = os.path.join(BASE_DIR, \"DATA\")\n",
    "ALGO_DIR = os.path.join(DATA_DIR, \"algo\")\n",
    "CHEBI_DIR = os.path.join(DATA_DIR, \"chebi\")\n",
    "RHEA_DIR = os.path.join(DATA_DIR, \"rhea\")\n",
    "BIOMODEL_DIR = os.path.join(DATA_DIR, \"biomodels/curated_biomodels_31mar2021\")\n",
    "BIGG_DIR = '/Users/woosubs/Desktop/AutomateAnnotation/DATA/bigg'\n",
    "ecoli_fpath = os.path.join(BIGG_DIR, \"e_coli_core.xml\")\n",
    "\n",
    "PROJ_DIR = os.path.join(os.getcwd(), os.pardir)\n",
    "AMAS_DIR = os.path.join(PROJ_DIR, \"AMAS\")\n",
    "sys.path.append(PROJ_DIR)\n",
    "\n",
    "SUPPL_DIR = os.path.join(PROJ_DIR, os.pardir, \"AMAS_suppl\")\n",
    "ACCURACY_DIR = os.path.join(SUPPL_DIR, \"data_for_credibility\")\n",
    "RESULT_DIR = '/Users/woosubs/Desktop/AutomateAnnotation/AMAS_suppl/result_files'\n",
    "\n",
    "from AMAS import species_annotation as sa\n",
    "from AMAS import reaction_annotation as ra\n",
    "from AMAS import recommender\n",
    "from AMAS import constants as cn\n",
    "from AMAS import iterator as it\n",
    "from AMAS import tools"
   ]
  },
  {
   "cell_type": "code",
   "execution_count": 7,
   "id": "c10381de-9c78-4862-855c-301d0b8896c1",
   "metadata": {},
   "outputs": [],
   "source": [
    "E_COLI_PATH = os.path.join(cn.TEST_DIR, 'e_coli_core.xml')\n",
    "recom = recommender.Recommender(libsbml_fpath=E_COLI_PATH)\n",
    "reader = libsbml.SBMLReader()\n",
    "document = reader.readSBML(E_COLI_PATH)\n",
    "model = document.getModel()"
   ]
  },
  {
   "cell_type": "code",
   "execution_count": 16,
   "id": "88374ed1-888c-4335-8e20-c66ca55d43b1",
   "metadata": {},
   "outputs": [],
   "source": []
  },
  {
   "cell_type": "code",
   "execution_count": 19,
   "id": "5691bf16-b208-485d-aaa4-88faf734c55a",
   "metadata": {},
   "outputs": [
    {
     "name": "stdout",
     "output_type": "stream",
     "text": [
      "14.541666666666666\n",
      "3.953846153846154\n"
     ]
    }
   ],
   "source": [
    "name_lengths = []\n",
    "comp_numbers = []\n",
    "exist_anot_species = list(recom.species.exist_annotation_formula)\n",
    "exist_anot_reaction = list(recom.reactions.exist_annotation)\n",
    "for one_sid in exist_anot_species:\n",
    "  used_name = recom.species.getNameToUse(inp_id=one_sid)\n",
    "  name_lengths.append(len(used_name))\n",
    "for one_rid in exist_anot_reaction:\n",
    "  comp_numbers.append(len(recom.reactions.reaction_components[one_rid]))\n",
    "print(np.mean(name_lengths))\n",
    "print(np.mean(comp_numbers))"
   ]
  },
  {
   "cell_type": "code",
   "execution_count": 29,
   "id": "fc9d4820-6656-482a-9a78-75341bf8dfdb",
   "metadata": {},
   "outputs": [],
   "source": [
    "biomd_spec_res = compress_pickle.load(os.path.join(RESULT_DIR, 'biomd_spec_res.lzma'))\n",
    "biomd_reac_res = compress_pickle.load(os.path.join(RESULT_DIR, 'biomd_reac_res.lzma'))\n",
    "bigg_spec_res = compress_pickle.load(os.path.join(RESULT_DIR, 'bigg_spec_res.lzma'))\n",
    "bigg_reac_res = compress_pickle.load(os.path.join(RESULT_DIR, 'bigg_reac_res.lzma'))"
   ]
  },
  {
   "cell_type": "code",
   "execution_count": 30,
   "id": "13db39d6-4f62-4a6c-9155-8c06b2137b45",
   "metadata": {},
   "outputs": [],
   "source": [
    "spec_biomds = list(biomd_spec_res['biomd_anotspec_numbers'].keys())\n",
    "reac_biomds = list(biomd_reac_res['biomd_anotreac_numbers'].keys())\n",
    "spec_biggs = list(bigg_spec_res['bigg_anotspec_numbers'].keys())\n",
    "reac_biggs = list(bigg_reac_res['bigg_anotreac_numbers'].keys())"
   ]
  },
  {
   "cell_type": "code",
   "execution_count": null,
   "id": "a0ca3736-3117-4bef-ac6f-083873a28026",
   "metadata": {},
   "outputs": [],
   "source": [
    "for idx, one_biomd in enumerate(spec_biomds):\n",
    "  if idx % 50 == 0:\n",
    "    print(\"We are at %d.\" % idx)\n",
    "  one_fpath = os.path.join(BIOMODEL_DIR, one_biomd)\n",
    "  recom = recommender.Recommender(libsbml_fpath=one_fpath)"
   ]
  },
  {
   "cell_type": "code",
   "execution_count": null,
   "id": "2ad29d17-c4c0-48dd-8190-7a7d488a3835",
   "metadata": {},
   "outputs": [],
   "source": []
  },
  {
   "cell_type": "code",
   "execution_count": null,
   "id": "84d516ac-cff4-4b9e-a30d-1ac3af742f80",
   "metadata": {},
   "outputs": [],
   "source": []
  },
  {
   "cell_type": "code",
   "execution_count": null,
   "id": "576f3ba7-d649-4b11-a8bb-86574d0029a0",
   "metadata": {},
   "outputs": [],
   "source": []
  },
  {
   "cell_type": "code",
   "execution_count": 14,
   "id": "1c4a19f0-3437-4bd7-b89c-4ecf66374619",
   "metadata": {},
   "outputs": [
    {
     "name": "stdout",
     "output_type": "stream",
     "text": [
      "<sbml:annotation xmlns:sbml=\"http://www.sbml.org/sbml/level3/version1/core\">\n",
      "  <rdf:RDF xmlns:rdf=\"http://www.w3.org/1999/02/22-rdf-syntax-ns#\">\n",
      "    <rdf:Description rdf:about=\"#R_GLNabc\">\n",
      "      <bqbiol:is xmlns:bqbiol=\"http://biomodels.net/biology-qualifiers/\">\n",
      "        <rdf:Bag>\n",
      "          <rdf:li rdf:resource=\"http://identifiers.org/bigg.reaction/GLNabc\"/>\n",
      "          <rdf:li rdf:resource=\"http://identifiers.org/biocyc/META:ABC-12-RXN\"/>\n",
      "          <rdf:li rdf:resource=\"http://identifiers.org/ec-code/3.6.3.21\"/>\n",
      "          <rdf:li rdf:resource=\"http://identifiers.org/metanetx.reaction/MNXR100258\"/>\n",
      "          <rdf:li rdf:resource=\"http://identifiers.org/rhea/29895#1\"/>\n",
      "          <rdf:li rdf:resource=\"http://identifiers.org/rhea/29897#1\"/>\n",
      "          <rdf:li rdf:resource=\"http://identifiers.org/rhea/29898#1\"/>\n",
      "          <rdf:li rdf:resource=\"http://identifiers.org/rhea/29896#1\"/>\n",
      "          <rdf:li rdf:resource=\"http://identifiers.org/seed.reaction/rxn11233\"/>\n",
      "          <rdf:li rdf:resource=\"http://identifiers.org/seed.reaction/rxn05196\"/>\n",
      "          <rdf:li rdf:resource=\"http://identifiers.org/seed.reaction/rxn05155\"/>\n",
      "          <rdf:li rdf:resource=\"http://identifiers.org/seed.reaction/rxn11101\"/>\n",
      "          <rdf:li rdf:resource=\"http://identifiers.org/seed.reaction/rxn08624\"/>\n",
      "        </rdf:Bag>\n",
      "      </bqbiol:is>\n",
      "    </rdf:Description>\n",
      "  </rdf:RDF>\n",
      "</sbml:annotation>\n"
     ]
    },
    {
     "data": {
      "text/plain": [
       "[('RHEA:19425', 0.833), ('RHEA:31599', 0.714)]"
      ]
     },
     "execution_count": 14,
     "metadata": {},
     "output_type": "execute_result"
    }
   ],
   "source": [
    "err_rid = 'R_GLNabc'\n",
    "err_r = model.getReaction(err_rid)\n",
    "print(err_r.getAnnotationString())\n",
    "pred_err_r = recom.getReactionAnnotation(pred_id=err_rid)\n",
    "pred_err_r.candidates"
   ]
  },
  {
   "cell_type": "code",
   "execution_count": 15,
   "id": "8ced4189-9893-43eb-b2f5-6e3a0f5bacfd",
   "metadata": {},
   "outputs": [
    {
     "ename": "KeyError",
     "evalue": "'R_GLNabc'",
     "output_type": "error",
     "traceback": [
      "\u001b[0;31m---------------------------------------------------------------------------\u001b[0m",
      "\u001b[0;31mKeyError\u001b[0m                                  Traceback (most recent call last)",
      "Cell \u001b[0;32mIn[15], line 1\u001b[0m\n\u001b[0;32m----> 1\u001b[0m \u001b[43mrecom\u001b[49m\u001b[38;5;241;43m.\u001b[39;49m\u001b[43mreactions\u001b[49m\u001b[38;5;241;43m.\u001b[39;49m\u001b[43mexist_annotation\u001b[49m\u001b[43m[\u001b[49m\u001b[43merr_rid\u001b[49m\u001b[43m]\u001b[49m\n",
      "\u001b[0;31mKeyError\u001b[0m: 'R_GLNabc'"
     ]
    }
   ],
   "source": [
    "recom.reactions.exist_annotation[err_rid]"
   ]
  },
  {
   "cell_type": "code",
   "execution_count": null,
   "id": "92bc25e6-eac4-4a7b-88a9-60c74f22d681",
   "metadata": {},
   "outputs": [],
   "source": []
  },
  {
   "cell_type": "code",
   "execution_count": null,
   "id": "b705bfe4-b921-48af-8800-3e5ec1e3d0d7",
   "metadata": {},
   "outputs": [],
   "source": []
  }
 ],
 "metadata": {
  "kernelspec": {
   "display_name": "Python 3 (ipykernel)",
   "language": "python",
   "name": "python3"
  },
  "language_info": {
   "codemirror_mode": {
    "name": "ipython",
    "version": 3
   },
   "file_extension": ".py",
   "mimetype": "text/x-python",
   "name": "python",
   "nbconvert_exporter": "python",
   "pygments_lexer": "ipython3",
   "version": "3.9.15"
  }
 },
 "nbformat": 4,
 "nbformat_minor": 5
}
