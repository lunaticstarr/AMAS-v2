{
 "cells": [
  {
   "cell_type": "code",
   "execution_count": 1,
   "metadata": {},
   "outputs": [],
   "source": [
    "import requests"
   ]
  },
  {
   "cell_type": "code",
   "execution_count": 1,
   "metadata": {},
   "outputs": [
    {
     "name": "stdout",
     "output_type": "stream",
     "text": [
      "[{\"query\":\"MTOR\",\"_id\":\"2475\",\"_score\":17.545715,\"entrezgene\":\"2475\",\"symbol\":\"MTOR\"},{\"query\":\"GADD45A\",\"_id\":\"1647\",\"_score\":18.302315,\"entrezgene\":\"1647\",\"symbol\":\"GADD45A\"}]"
     ]
    }
   ],
   "source": [
    "!curl -X POST \"https://mygene.info/v3/query?q=MTOR%2CGADD45A&scopes=symbol&species=human&fields=entrezgene%2Csymbol&dotfield=false&size=10&from=0&fetch_all=false&facet_size=10&entrezonly=false&ensemblonly=false\" -H  \"accept: */*\" -H  \"Content-Type: application/json\" -d \"{\\\"q\\\":[\\\"1017\\\",\\\"1018\\\"],\\\"scopes\\\":[\\\"entrezgene\\\"]}\""
   ]
  },
  {
   "cell_type": "code",
   "execution_count": 45,
   "metadata": {},
   "outputs": [
    {
     "data": {
      "text/plain": [
       "{'refseq': {'3845': ['NP_001356715.1',\n",
       "   'NP_001356716.1',\n",
       "   'NP_004976.2',\n",
       "   'NP_203524.1',\n",
       "   'XP_047284782.1',\n",
       "   'XP_054227990.1']}}"
      ]
     },
     "execution_count": 45,
     "metadata": {},
     "output_type": "execute_result"
    }
   ],
   "source": [
    "gene_id = ['3845']\n",
    "fields = \"refseq.protein\"\n",
    "\n",
    "url = \"https://mygene.info/v3/query\"\n",
    "headers = {\n",
    "    \"Accept\": \"application/json\",\n",
    "    \"Content-Type\": \"application/json\"\n",
    "}\n",
    "data = {\n",
    "    \"q\": gene_id,\n",
    "    \"fields\": fields\n",
    "}\n",
    "response = requests.post(url, json=data, headers=headers)\n",
    "results = response.json()\n",
    "\n",
    "field_list = fields.split(\",\") if \",\" in fields else [fields]\n",
    "field_list = [field.split(\".\")[0] if \".\" in field else field for field in field_list]\n",
    "\n",
    "gene_dict = {field: {} for field in field_list}\n",
    "\n",
    "for entry in results:\n",
    "    query_key = str(entry.get(\"query\"))\n",
    "    for field in field_list:\n",
    "        if field.startswith(\"refseq\"):\n",
    "            refseq_info = entry.get(\"refseq\", {})\n",
    "            if field == \"refseq\":\n",
    "                refseq_rna = refseq_info.get(\"rna\", []) if isinstance(refseq_info.get(\"rna\", []), list) else [refseq_info.get(\"rna\", [])]\n",
    "                refseq_protein = refseq_info.get(\"protein\", []) if isinstance(refseq_info.get(\"protein\", []), list) else [refseq_info.get(\"protein\", [])]\n",
    "                gene_dict[\"refseq\"][query_key] = refseq_rna + refseq_protein\n",
    "            else:\n",
    "                refseq_field = field.split(\".\")[1]\n",
    "                gene_dict[\"refseq\"][query_key] = refseq_info.get(refseq_field, []) if isinstance(refseq_info.get(refseq_field, []), list) else [refseq_info.get(refseq_field, [])]\n",
    "\n",
    "        else:\n",
    "            gene_dict[field][query_key] = entry.get(field, None)\n",
    "\n",
    "gene_dict"
   ]
  },
  {
   "cell_type": "code",
   "execution_count": 36,
   "metadata": {},
   "outputs": [
    {
     "data": {
      "text/plain": [
       "{'uniprot': {'3845': ['P01116']},\n",
       " 'ensembl': {'3845': ['ENSG00000133703',\n",
       "   'ENSP00000256078',\n",
       "   'ENSP00000308495',\n",
       "   'ENSP00000451856',\n",
       "   'ENSP00000452512',\n",
       "   'ENSP00000508568',\n",
       "   'ENSP00000508921',\n",
       "   'ENSP00000509223',\n",
       "   'ENSP00000509238',\n",
       "   'ENSP00000509798',\n",
       "   'ENSP00000510254',\n",
       "   'ENSP00000510431',\n",
       "   'ENSP00000510479',\n",
       "   'ENSP00000510511']}}"
      ]
     },
     "execution_count": 36,
     "metadata": {},
     "output_type": "execute_result"
    }
   ],
   "source": [
    "def getCrossReference(gene_ids, fields = \"uniprot\"):\n",
    "    \"\"\"\n",
    "    Query the mygene.info API to retrieve EntrezGene IDs and UniProt data \n",
    "    for given gene ids (ncbigene, or entrezgene), then process the results into a dictionary.\n",
    "\n",
    "    Parameters:\n",
    "    - gene_ids (list): List of gene ids (ncbigene, or entrezgene) to query.\n",
    "    - fields (str): Fields to query (default: \"uniprot\"). Single field or comma-separated.\n",
    "\n",
    "    Returns:\n",
    "    - dict: A dictionary structured as {field: {gene_id: value}}\n",
    "            If 'uniprot' is included, 'Swiss-Prot' is prioritized compared to 'TrEMBL'.\n",
    "    \"\"\"\n",
    "    url = \"https://mygene.info/v3/query\"\n",
    "    headers = {\n",
    "        \"Accept\": \"application/json\",\n",
    "        \"Content-Type\": \"application/json\"\n",
    "    }\n",
    "    data = {\n",
    "        \"q\": gene_ids,\n",
    "        \"fields\": fields\n",
    "    }\n",
    "    response = requests.post(url, json=data, headers=headers)\n",
    "    if response.status_code != 200:\n",
    "        print(f\"Error: {response.status_code}, {response.text}\")\n",
    "        return {}\n",
    "    results = response.json()\n",
    "\n",
    "    field_list = fields.split(\",\") if \",\" in fields else [fields]\n",
    "    field_list = [field.split(\".\")[0] if \".\" in field else field for field in field_list]\n",
    "    gene_dict = {field: {} for field in field_list}\n",
    "\n",
    "    for entry in results:\n",
    "        query_key = str(entry.get(\"query\"))\n",
    "        for field in field_list:\n",
    "            if field == \"uniprot\":\n",
    "                uniprot_info = entry.get(\"uniprot\", {})\n",
    "                swiss_prot = uniprot_info.get(\"Swiss-Prot\")\n",
    "                trembl = uniprot_info.get(\"TrEMBL\", [])\n",
    "                if swiss_prot:\n",
    "                    gene_dict[\"uniprot\"][query_key] = [swiss_prot] if isinstance(swiss_prot, str) else swiss_prot\n",
    "                elif trembl:\n",
    "                    gene_dict[\"uniprot\"][query_key] = [trembl] if isinstance(trembl, str) else trembl\n",
    "                else:\n",
    "                    gene_dict[\"uniprot\"][query_key] = None\n",
    "            elif field.startswith(\"ensembl\"):\n",
    "                ensembl_info = entry.get(\"ensembl\", {})\n",
    "                if field == \"ensembl\":\n",
    "                    ensembl_gene = ensembl_info.get(\"gene\", []) if isinstance(ensembl_info.get(\"gene\", []), list) else [ensembl_info.get(\"gene\", [])]\n",
    "                    ensembl_protein = ensembl_info.get(\"protein\", []) if isinstance(ensembl_info.get(\"protein\", []), list) else [ensembl_info.get(\"protein\", [])]\n",
    "                    gene_dict[\"ensembl\"][query_key] = ensembl_gene + ensembl_protein\n",
    "                else:\n",
    "                    ensembl_field = field.split(\".\")[1]\n",
    "                    gene_dict[\"ensembl\"][query_key] = ensembl_info.get(ensembl_field, []) if isinstance(ensembl_info.get(ensembl_field, []), list) else [ensembl_info.get(ensembl_field, [])]\n",
    "            elif field.startswith(\"refseq\"):\n",
    "                refseq_info = entry.get(\"refseq\", {})\n",
    "                if field == \"refseq\":\n",
    "                    refseq_rna = refseq_info.get(\"rna\", []) if isinstance(refseq_info.get(\"rna\", []), list) else [refseq_info.get(\"rna\", [])]\n",
    "                    refseq_protein = refseq_info.get(\"protein\", []) if isinstance(refseq_info.get(\"protein\", []), list) else [refseq_info.get(\"protein\", [])]\n",
    "                    gene_dict[\"refseq\"][query_key] = refseq_rna + refseq_protein\n",
    "                else:\n",
    "                    refseq_field = field.split(\".\")[1]\n",
    "                    gene_dict[\"refseq\"][query_key] = refseq_info.get(refseq_field, []) if isinstance(refseq_info.get(refseq_field, []), list) else [refseq_info.get(refseq_field, [])]\n",
    "            else:\n",
    "                gene_dict[field][query_key] = entry.get(field, None)   \n",
    "    return gene_dict\n",
    "\n",
    "gene_ids = ['3845']\n",
    "getCrossReference(gene_ids, fields = \"uniprot,ensembl\")\n"
   ]
  },
  {
   "cell_type": "code",
   "execution_count": null,
   "metadata": {},
   "outputs": [],
   "source": []
  },
  {
   "cell_type": "code",
   "execution_count": 39,
   "metadata": {},
   "outputs": [
    {
     "data": {
      "text/plain": [
       "['P01116']"
      ]
     },
     "execution_count": 39,
     "metadata": {},
     "output_type": "execute_result"
    }
   ],
   "source": [
    "result = getCrossReference(gene_ids, fields = \"uniprot\")\n",
    "result[\"uniprot\"]['3845']"
   ]
  },
  {
   "cell_type": "code",
   "execution_count": 41,
   "metadata": {},
   "outputs": [
    {
     "data": {
      "text/plain": [
       "'ncbigene'"
      ]
     },
     "execution_count": 41,
     "metadata": {},
     "output_type": "execute_result"
    }
   ],
   "source": [
    "KNOWLEDGE_RESOURCE = {'species': 'chebi',\n",
    "                      'reaction': 'rhea',\n",
    "                      'genes': ['ncbigene', 'uniprot'],\n",
    "                      'qual_species':'ncbigene'}\n",
    "KNOWLEDGE_RESOURCE['qual_species']"
   ]
  },
  {
   "cell_type": "code",
   "execution_count": 2,
   "metadata": {},
   "outputs": [],
   "source": [
    "\n",
    "\n",
    "def getAnnotationString(\n",
    "                        candidates,\n",
    "                        meta_id,\n",
    "                        cross_reference = None):\n",
    "    \"\"\"\n",
    "    Get a string of annotations,\n",
    "    using a list of strings.\n",
    "    (of candidates)\n",
    "    Can replace a whole annotation. \n",
    "\n",
    "    Parameters\n",
    "    ----------\n",
    "    candidates: list-str\n",
    "        e.g., ['CHEBI:12345', 'CHEBI:98765']\n",
    "\n",
    "    meta_id: str\n",
    "        Meta ID of the element to be included in the annotation. \n",
    "\n",
    "    cross_reference: str\n",
    "        Cross reference to be used for adding additional annotations.\n",
    "        Single field or comma-separated. E.g., 'uniprot' or 'uniprot,HGNC'\n",
    "\n",
    "    Returns\n",
    "    -------\n",
    "    str\n",
    "    \"\"\"\n",
    "    # get the cross reference first if provided\n",
    "    if cross_reference:\n",
    "        all_cross_dict = getCrossReference(candidates, fields = cross_reference)\n",
    "        field_list = cross_reference.split(\",\") if \",\" in cross_reference else [cross_reference]\n",
    "\n",
    "    # First, construct an empty container\n",
    "    container_items = ['annotation', \n",
    "                        cn.RDF_TAG,\n",
    "                        'rdf:Description rdf:about=\"#' + str(meta_id) + '\"',\n",
    "                        self.prefix,\n",
    "                        'rdf:Bag']\n",
    "    empty_container = self.createAnnotationContainer(container_items)\n",
    "    # Next, create annotation lines\n",
    "    items_from = []\n",
    "    for one_cand in candidates:\n",
    "        items_from.append(createAnnotationItem('ncbigene',\n",
    "                                                    one_cand))\n",
    "        if cross_reference:\n",
    "            for field in field_list:\n",
    "                one_cand_cross = all_cross_dict[field][one_cand]\n",
    "                if isinstance(one_cand_cross, list):\n",
    "                    for i in one_cand_cross:\n",
    "                        items_from.append(createAnnotationItem(field, i))    \n",
    "                else:\n",
    "                    items_from.append(createAnnotationItem(field, one_cand_cross))     \n",
    "\n",
    "    result = self.insertList(insert_to=empty_container,\n",
    "                                insert_from=items_from)\n",
    "    return ('\\n').join(result)\n",
    "\n",
    "def createAnnotationItem(knowledge_resource,\n",
    "                        identifier):\n",
    "    \"\"\"\n",
    "    Create a one-line annotation,\n",
    "    e.g., <rdf:li rdf:resource=\"http://identifiers.org/chebi/CHEBI:15414\"/>\n",
    "\n",
    "    Parameters\n",
    "    ----------\n",
    "    knowledge_resource: str\n",
    "\n",
    "    identifier: str\n",
    "\n",
    "    Returns\n",
    "    -------\n",
    "    str\n",
    "    \"\"\"\n",
    "    annotation_items = ['identifiers.org',\n",
    "                        knowledge_resource,\n",
    "                        identifier]\n",
    "    res = '<rdf:li rdf:resource=\"http://' + \\\n",
    "            '/'.join(annotation_items)  +\\\n",
    "            '\"/>'\n",
    "    return res"
   ]
  },
  {
   "cell_type": "code",
   "execution_count": 54,
   "metadata": {},
   "outputs": [
    {
     "data": {
      "text/plain": [
       "{'uniprot': {'3845': ['P01116'], '5879': ['P63000']}}"
      ]
     },
     "execution_count": 54,
     "metadata": {},
     "output_type": "execute_result"
    }
   ],
   "source": [
    "candidates = ['3845', '5879']\n",
    "meta_id = '12345'\n",
    "cross_reference = 'uniprot'\n",
    "all_cross_dict = getCrossReference(candidates, fields = cross_reference)\n",
    "all_cross_dict"
   ]
  },
  {
   "cell_type": "code",
   "execution_count": 56,
   "metadata": {},
   "outputs": [
    {
     "data": {
      "text/plain": [
       "['uniprot']"
      ]
     },
     "execution_count": 56,
     "metadata": {},
     "output_type": "execute_result"
    }
   ],
   "source": [
    "field_list = cross_reference.split(\",\") if \",\" in cross_reference else [cross_reference]\n",
    "field_list"
   ]
  },
  {
   "cell_type": "code",
   "execution_count": 57,
   "metadata": {},
   "outputs": [
    {
     "data": {
      "text/plain": [
       "['<rdf:li rdf:resource=\"http://identifiers.org/ncbigene/3845\"/>',\n",
       " '<rdf:li rdf:resource=\"http://identifiers.org/uniprot/P01116\"/>',\n",
       " '<rdf:li rdf:resource=\"http://identifiers.org/ncbigene/5879\"/>',\n",
       " '<rdf:li rdf:resource=\"http://identifiers.org/uniprot/P63000\"/>']"
      ]
     },
     "execution_count": 57,
     "metadata": {},
     "output_type": "execute_result"
    }
   ],
   "source": [
    "items_from = []\n",
    "for one_cand in candidates:\n",
    "    items_from.append(createAnnotationItem('ncbigene',\n",
    "                                                one_cand))\n",
    "    if cross_reference:\n",
    "        for field in field_list:\n",
    "            one_cand_cross = all_cross_dict[field][one_cand]\n",
    "            if isinstance(one_cand_cross, list):\n",
    "                for i in one_cand_cross:\n",
    "                    items_from.append(createAnnotationItem(field, i))    \n",
    "            else:\n",
    "                items_from.append(createAnnotationItem(field, one_cand_cross))    \n",
    "\n",
    "items_from\n"
   ]
  },
  {
   "cell_type": "code",
   "execution_count": 62,
   "metadata": {},
   "outputs": [
    {
     "data": {
      "text/plain": [
       "[('ncbigene', '3845'),\n",
       " ('uniprot', 'P01116'),\n",
       " ('ncbigene', '5879'),\n",
       " ('uniprot', 'P63000')]"
      ]
     },
     "execution_count": 62,
     "metadata": {},
     "output_type": "execute_result"
    }
   ],
   "source": [
    "import re\n",
    "def extract_ontology_from_items(items_list):\n",
    "    \"\"\"\n",
    "    Extract ontology from items and return a flat list of tuples.\n",
    "    Each tuple contains (ontology type, ontology id).\n",
    "\n",
    "    Parameters\n",
    "    ----------\n",
    "    items_list : list\n",
    "        A list of string items containing ontology annotations.\n",
    "\n",
    "    Returns\n",
    "    -------\n",
    "    list of tuples\n",
    "        A flat list of (ontology type, ontology id).\n",
    "    \"\"\"\n",
    "    result_identifiers = []\n",
    "    for item in items_list:\n",
    "        # Extract identifiers from \"urn:miriam\" URIs\n",
    "        miriam_identifiers = re.findall(r'urn:miriam:([^\"]+)\"', item)\n",
    "        for r in miriam_identifiers:\n",
    "            ontology_type, ontology_id = r.split(\":\", 1)\n",
    "            result_identifiers.append((ontology_type, ontology_id))\n",
    "\n",
    "        # Extract identifiers from \"identifiers.org\" URIs\n",
    "        identifiers_list = re.findall(r'identifiers\\.org/([^/]+)/([^/\"]+)', item)\n",
    "        for ontology_type, ontology_id in identifiers_list:\n",
    "            # Clean ontology_id to remove any unwanted characters\n",
    "            ontology_id = ontology_id.replace('\"', '')\n",
    "            result_identifiers.append((ontology_type, ontology_id))\n",
    "\n",
    "    return result_identifiers\n",
    "ontology_list = extract_ontology_from_items(items_from)\n",
    "ontology_list"
   ]
  },
  {
   "cell_type": "code",
   "execution_count": 63,
   "metadata": {},
   "outputs": [
    {
     "data": {
      "text/plain": [
       "['3845', '5879']"
      ]
     },
     "execution_count": 63,
     "metadata": {},
     "output_type": "execute_result"
    }
   ],
   "source": [
    "ontology_type_list = [val for val in ontology_list if val[0].lower()=='ncbigene']\n",
    "[val[1] for val in ontology_type_list]"
   ]
  },
  {
   "cell_type": "code",
   "execution_count": 1,
   "metadata": {},
   "outputs": [
    {
     "name": "stdout",
     "output_type": "stream",
     "text": [
      "<annotation>\n",
      "  <rdf:RDF xmlns:rdf=\"http://www.w3.org/1999/02/22-rdf-syntax-ns#\" xmlns:dcterms=\"http://purl.org/dc/terms/\" xmlns:vCard=\"http://www.w3.org/2001/vcard-rdf/3.0#\" xmlns:vCard4=\"http://www.w3.org/2006/vcard/ns#\" xmlns:bqbiol=\"http://biomodels.net/biology-qualifiers/\" xmlns:bqmodel=\"http://biomodels.net/model-qualifiers/\">\n",
      "    <rdf:Description rdf:about=\"#metaid_0000011\">\n",
      "      <bqbiol:is>\n",
      "        <rdf:Bag>\n",
      "          <rdf:li rdf:resource=\"http://identifiers.org/ncbigene/10096\"/>\n",
      "          <rdf:li rdf:resource=\"http://identifiers.org/ncbigene/10097\"/>\n",
      "        </rdf:Bag>\n",
      "      </bqbiol:is>\n",
      "    </rdf:Description>\n",
      "  </rdf:RDF>\n",
      "</annotation>\n"
     ]
    }
   ],
   "source": [
    "import libsbml\n",
    "import sys\n",
    "sys.path.insert(0, '/Users/luna/Desktop/CRBM/AMAS_proj/AMAS-v2')\n",
    "from AMAS import tools\n",
    "\n",
    "sbml = \"/Users/luna/Desktop/Pancreatic cancer/Models/Werle2021.sbml\"\n",
    "reader = libsbml.SBMLReader()\n",
    "document = reader.readSBML(sbml)\n",
    "model = document.getModel()\n",
    "qual_spec = model.getPlugin(\"qual\").getQualitativeSpecies('ARP2_3')\n",
    "inp_str = qual_spec.getAnnotationString()\n",
    "print(inp_str)"
   ]
  },
  {
   "cell_type": "code",
   "execution_count": 3,
   "metadata": {},
   "outputs": [
    {
     "name": "stdout",
     "output_type": "stream",
     "text": [
      "{'uniprot': {'10096': ['P61158'], '10097': ['P61160']}, 'HGNC': {'10096': ['170'], '10097': ['169']}}\n",
      "uniprot 10096\n",
      "['P61158']\n",
      "uniprot 10097\n",
      "['P61160']\n",
      "HGNC 10096\n",
      "['170']\n",
      "HGNC 10097\n",
      "['169']\n",
      "['<rdf:li rdf:resource=\"http://identifiers.org/ncbigene/10096\"/>', '<rdf:li rdf:resource=\"http://identifiers.org/ncbigene/10097\"/>', '<rdf:li rdf:resource=\"http://identifiers.org/uniprot/P61158\"/>', '<rdf:li rdf:resource=\"http://identifiers.org/uniprot/P61160\"/>', '<rdf:li rdf:resource=\"http://identifiers.org/HGNC/170\"/>', '<rdf:li rdf:resource=\"http://identifiers.org/HGNC/169\"/>']\n",
      "<annotation>\n",
      "  <rdf:RDF xmlns:rdf=\"http://www.w3.org/1999/02/22-rdf-syntax-ns#\" xmlns:dcterms=\"http://purl.org/dc/terms/\" xmlns:vcard4=\"http://www.w3.org/2006/vcard/ns#\" xmlns:bqbiol=\"http://biomodels.net/biology-qualifiers/\" xmlns:bqmodel=\"http://biomodels.net/model-qualifiers/\" xmlns:vCard=\"http://www.w3.org/2001/vcard-rdf/3.0#\" xmlns:vCard4=\"http://www.w3.org/2006/vcard/ns#\">\n",
      "    <rdf:Description rdf:about=\"#metaid_0000011\">\n",
      "          <bqbiol:is>\n",
      "        <rdf:Bag>\n",
      "          <rdf:li rdf:resource=\"http://identifiers.org/ncbigene/10096\"/>\n",
      "          <rdf:li rdf:resource=\"http://identifiers.org/uniprot/P61160\"/>\n",
      "          <rdf:li rdf:resource=\"http://identifiers.org/HGNC/169\"/>\n",
      "          <rdf:li rdf:resource=\"http://identifiers.org/ncbigene/10097\"/>\n",
      "          <rdf:li rdf:resource=\"http://identifiers.org/HGNC/170\"/>\n",
      "          <rdf:li rdf:resource=\"http://identifiers.org/uniprot/P61158\"/>\n",
      "        </rdf:Bag>\n",
      "      </bqbiol:is>\n",
      "    </rdf:Description>\n",
      "  </rdf:RDF>\n",
      "</annotation>\n"
     ]
    }
   ],
   "source": [
    "\n",
    "def addCrossReference(inp_str, fields):\n",
    "    \"\"\"\n",
    "    Add cross reference of NCBI Gene ID to existing annotations.\n",
    "\n",
    "    Parameters\n",
    "    ----------\n",
    "    inp_str: str\n",
    "        Existing annotation string\n",
    "\n",
    "    fields: str\n",
    "        Fields to add to annotations. Single field or comma-separated. E.g., 'uniprot' or 'uniprot,HGNC'.\n",
    "\n",
    "    Returns\n",
    "    -------\n",
    "    :str\n",
    "        The updated annotation string with cross reference items given in fields.\n",
    "    \"\"\"\n",
    "    # find all existing items, only <bqbiol:is> items\n",
    "    annotation_dict = tools.divideExistingAnnotation(inp_str, qualifier = 'bqbiol:is')\n",
    "    if annotation_dict is None:\n",
    "      print(\"No existing NCBI Gene ID found, skipping cross reference.\")\n",
    "      return inp_str\n",
    "    items = annotation_dict['items']\n",
    "    # find all existing ncbi gene ids\n",
    "    ontology_list = tools.extract_ontology_from_items(items)\n",
    "    ontology_type_list = [val for val in ontology_list if val[0].lower()=='ncbigene']\n",
    "    ncbi_ids = [val[1] for val in ontology_type_list]\n",
    "    # get the cross reference items of the ncbi ids\n",
    "    cross_dict = tools.getCrossReference(ncbi_ids, fields)\n",
    "    print(cross_dict)\n",
    "    # add the cross reference items to the annotation\n",
    "    field_list = fields.split(\",\") if \",\" in fields else [fields]\n",
    "    for field in field_list:\n",
    "      for ncbi_id in ncbi_ids:\n",
    "        print(field, ncbi_id)\n",
    "        print(cross_dict[field][ncbi_id])\n",
    "        for one_item in cross_dict[field][ncbi_id]:\n",
    "            items.append(createAnnotationItem(field, one_item))\n",
    "    # formatting items\n",
    "    print(items)\n",
    "    items = list(set(items)) # remove duplicates\n",
    "    container = annotation_dict['container']\n",
    "    res = tools.insertItemsBackToContainer(container, items, qualifier = 'bqbiol:is')\n",
    "    return res\n",
    "\n",
    "after_str = addCrossReference(inp_str, fields = 'uniprot,HGNC')\n",
    "print(after_str)\n"
   ]
  }
 ],
 "metadata": {
  "kernelspec": {
   "display_name": "Python 3",
   "language": "python",
   "name": "python3"
  },
  "language_info": {
   "codemirror_mode": {
    "name": "ipython",
    "version": 3
   },
   "file_extension": ".py",
   "mimetype": "text/x-python",
   "name": "python",
   "nbconvert_exporter": "python",
   "pygments_lexer": "ipython3",
   "version": "3.11.2"
  }
 },
 "nbformat": 4,
 "nbformat_minor": 2
}
