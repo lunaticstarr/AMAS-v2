{
 "cells": [
  {
   "cell_type": "code",
   "execution_count": 1,
   "id": "92cd78bf",
   "metadata": {},
   "outputs": [],
   "source": [
    "# testing species annotation\n",
    "# start with getRecall() and getPrecision()\n",
    "import editdistance\n",
    "import libsbml\n",
    "import numpy as np\n",
    "import operator\n",
    "import os\n",
    "import compress_pickle\n",
    "import pickle\n",
    "import pandas as pd\n",
    "import sys\n",
    "import matplotlib.pyplot as plt\n",
    "%matplotlib inline  \n",
    "\n",
    "BIOMD_12 = 'BIOMD0000000012.xml'\n",
    "BASE_DIR = '/Users/woosubs/Desktop/AutomateAnnotation/'\n",
    "DATA_DIR = os.path.join(BASE_DIR, \"DATA\")\n",
    "ALGO_DIR = os.path.join(DATA_DIR, \"algo\")\n",
    "CHEBI_DIR = os.path.join(DATA_DIR, \"chebi\")\n",
    "RHEA_DIR = os.path.join(DATA_DIR, \"rhea\")\n",
    "BIOMODEL_DIR = os.path.join(DATA_DIR, \"biomodels/curated_biomodels_31mar2021\")\n",
    "BIGG_DIR = '/Users/woosubs/Desktop/AutomateAnnotation/DATA/bigg'\n",
    "ecoli_fpath = os.path.join(BIGG_DIR, \"e_coli_core.xml\")\n",
    "\n",
    "PROJ_DIR = os.path.join(os.getcwd(), os.pardir)\n",
    "AMAS_DIR = os.path.join(PROJ_DIR, \"AMAS\")\n",
    "sys.path.append(PROJ_DIR)\n",
    "\n",
    "from AMAS import species_annotation as sa\n",
    "from AMAS import reaction_annotation as ra\n",
    "from AMAS import constants as cn\n",
    "from AMAS import tools"
   ]
  },
  {
   "cell_type": "code",
   "execution_count": 2,
   "id": "0b2e4c7c",
   "metadata": {},
   "outputs": [],
   "source": [
    "spec = sa.SpeciesAnnotation(ecoli_fpath)"
   ]
  },
  {
   "cell_type": "code",
   "execution_count": 3,
   "id": "029f86c2",
   "metadata": {},
   "outputs": [
    {
     "data": {
      "text/plain": [
       "['C6O6']"
      ]
     },
     "execution_count": 3,
     "metadata": {},
     "output_type": "execute_result"
    }
   ],
   "source": [
    "spec.exist_annotation_formula['M_glc__D_e']"
   ]
  },
  {
   "cell_type": "code",
   "execution_count": 4,
   "id": "152c8d2d",
   "metadata": {},
   "outputs": [],
   "source": [
    "from AMAS import recommender\n",
    "recom = recommender.Recommender(libsbml_fpath=ecoli_fpath)"
   ]
  },
  {
   "cell_type": "code",
   "execution_count": 15,
   "id": "d3649782",
   "metadata": {},
   "outputs": [
    {
     "data": {
      "text/plain": [
       "dict_keys(['M_glc__D_e', 'M_gln__L_c', 'M_gln__L_e', 'M_glu__L_c', 'M_glu__L_e', 'M_glx_c', 'M_h2o_c', 'M_h2o_e', 'M_h_c', 'M_h_e', 'M_icit_c', 'M_lac__D_c', 'M_lac__D_e', 'M_mal__L_c', 'M_mal__L_e', 'M_nad_c', 'M_nadh_c', 'M_nadp_c', 'M_nadph_c', 'M_nh4_c', 'M_13dpg_c', 'M_nh4_e', 'M_o2_c', 'M_2pg_c', 'M_o2_e', 'M_3pg_c', 'M_oaa_c', 'M_pep_c', 'M_6pgc_c', 'M_pi_c', 'M_6pgl_c', 'M_pi_e', 'M_ac_c', 'M_pyr_c', 'M_pyr_e', 'M_q8_c', 'M_q8h2_c', 'M_r5p_c', 'M_ru5p__D_c', 'M_ac_e', 'M_acald_c', 'M_s7p_c', 'M_acald_e', 'M_accoa_c', 'M_succ_c', 'M_succ_e', 'M_succoa_c', 'M_acon_C_c', 'M_xu5p__D_c', 'M_actp_c', 'M_adp_c', 'M_akg_c', 'M_akg_e', 'M_amp_c', 'M_atp_c', 'M_cit_c', 'M_co2_c', 'M_co2_e', 'M_coa_c', 'M_dhap_c', 'M_e4p_c', 'M_etoh_c', 'M_etoh_e', 'M_f6p_c', 'M_fdp_c', 'M_for_c', 'M_for_e', 'M_fru_e', 'M_fum_c', 'M_fum_e', 'M_g3p_c', 'M_g6p_c'])"
      ]
     },
     "execution_count": 15,
     "metadata": {},
     "output_type": "execute_result"
    }
   ],
   "source": [
    "recom.species.names.keys()"
   ]
  },
  {
   "cell_type": "code",
   "execution_count": 39,
   "id": "f72dacdf",
   "metadata": {},
   "outputs": [],
   "source": [
    "res = recom.getSpeciesAnnotation(pred_id='M_amp_c')"
   ]
  },
  {
   "cell_type": "code",
   "execution_count": 40,
   "id": "a9ed2f9a",
   "metadata": {},
   "outputs": [
    {
     "data": {
      "text/plain": [
       "Recommendation(id='M_amp_c', credibility=0.57, candidates=[('CHEBI:456215', 0.18), ('CHEBI:167672', 0.18), ('CHEBI:82677', 0.18), ('CHEBI:84883', 0.17), ('CHEBI:90695', 0.15), ('CHEBI:79700', 0.12), ('CHEBI:93296', 0.07), ('CHEBI:5280', 0.06), ('CHEBI:136847', 0.06), ('CHEBI:73481', 0.05), ('CHEBI:52172', 0.05)], urls=['https://www.ebi.ac.uk/chebi/searchId.do?chebiId=CHEBI%3A456215', 'https://www.ebi.ac.uk/chebi/searchId.do?chebiId=CHEBI%3A167672', 'https://www.ebi.ac.uk/chebi/searchId.do?chebiId=CHEBI%3A82677', 'https://www.ebi.ac.uk/chebi/searchId.do?chebiId=CHEBI%3A84883', 'https://www.ebi.ac.uk/chebi/searchId.do?chebiId=CHEBI%3A90695', 'https://www.ebi.ac.uk/chebi/searchId.do?chebiId=CHEBI%3A79700', 'https://www.ebi.ac.uk/chebi/searchId.do?chebiId=CHEBI%3A93296', 'https://www.ebi.ac.uk/chebi/searchId.do?chebiId=CHEBI%3A5280', 'https://www.ebi.ac.uk/chebi/searchId.do?chebiId=CHEBI%3A136847', 'https://www.ebi.ac.uk/chebi/searchId.do?chebiId=CHEBI%3A73481', 'https://www.ebi.ac.uk/chebi/searchId.do?chebiId=CHEBI%3A52172'])"
      ]
     },
     "execution_count": 40,
     "metadata": {},
     "output_type": "execute_result"
    }
   ],
   "source": [
    "res"
   ]
  },
  {
   "cell_type": "code",
   "execution_count": 41,
   "id": "3d07be73",
   "metadata": {},
   "outputs": [
    {
     "data": {
      "text/plain": [
       "{'M_amp_c': ['C31N2O7',\n",
       "  'C10N5O7P',\n",
       "  'C28F3N7O',\n",
       "  'C82N5O20',\n",
       "  'C22O2',\n",
       "  'C20N2O5S',\n",
       "  'C53NO14P',\n",
       "  'C17Cl2F3N7O2S',\n",
       "  'C14N2O',\n",
       "  'C19FN3O4']}"
      ]
     },
     "execution_count": 41,
     "metadata": {},
     "output_type": "execute_result"
    }
   ],
   "source": [
    "formula_dict = {res.id: list(set(cn.ref_chebi2formula[val[0]] for val in res.candidates))}\n",
    "formula_dict"
   ]
  },
  {
   "cell_type": "code",
   "execution_count": 52,
   "id": "f6266b82",
   "metadata": {},
   "outputs": [
    {
     "name": "stdout",
     "output_type": "stream",
     "text": [
      "['C31N2O7', 'C10N5O7P', 'C28F3N7O', 'C82N5O20', 'C22O2', 'C20N2O5S', 'C53NO14P', 'C17Cl2F3N7O2S', 'C14N2O', 'C19FN3O4']\n"
     ]
    }
   ],
   "source": [
    "one_pred_spec = recom.species.predictAnnotationByName(inp_spec_list=['M_amp_c'])\n",
    "print(one_pred_spec['M_amp_c']['formula'])"
   ]
  },
  {
   "cell_type": "code",
   "execution_count": 42,
   "id": "eff7f846",
   "metadata": {},
   "outputs": [
    {
     "data": {
      "text/plain": [
       "1.0"
      ]
     },
     "execution_count": 42,
     "metadata": {},
     "output_type": "execute_result"
    }
   ],
   "source": [
    "recom.species.getRecall(pred_annotation=formula_dict)"
   ]
  },
  {
   "cell_type": "code",
   "execution_count": 43,
   "id": "b338e5d8",
   "metadata": {},
   "outputs": [
    {
     "data": {
      "text/plain": [
       "0.1"
      ]
     },
     "execution_count": 43,
     "metadata": {},
     "output_type": "execute_result"
    }
   ],
   "source": [
    "recom.species.getPrecision(pred_annotation=formula_dict)"
   ]
  },
  {
   "cell_type": "code",
   "execution_count": 28,
   "id": "8673aee3",
   "metadata": {},
   "outputs": [
    {
     "data": {
      "text/plain": [
       "['C10N5O7P']"
      ]
     },
     "execution_count": 28,
     "metadata": {},
     "output_type": "execute_result"
    }
   ],
   "source": [
    "recom.species.exist_annotation_formula['M_amp_c']"
   ]
  },
  {
   "cell_type": "code",
   "execution_count": 50,
   "id": "f39d76a9",
   "metadata": {},
   "outputs": [
    {
     "name": "stdout",
     "output_type": "stream",
     "text": [
      "0.25\n",
      "0.5\n"
     ]
    }
   ],
   "source": [
    "DUMMY_REF = {'a': ['ABC', 'BCD'],\n",
    "              'b': ['DEF']}\n",
    "DUMMY_PRED = {'a': ['ABC'],\n",
    "             'b': ['AAA']}\n",
    "recall1 = recom.species.getRecall(ref_annotation=DUMMY_REF,\n",
    "                                  pred_annotation=DUMMY_PRED,\n",
    "                                  mean=True)\n",
    "print(recall1)\n",
    "\n",
    "precision1 = recom.species.getPrecision(ref_annotation=DUMMY_REF,\n",
    "                                  pred_annotation=DUMMY_PRED,\n",
    "                                  mean=True)\n",
    "print(precision1)"
   ]
  },
  {
   "cell_type": "code",
   "execution_count": null,
   "id": "45f2bfe2",
   "metadata": {},
   "outputs": [],
   "source": []
  }
 ],
 "metadata": {
  "kernelspec": {
   "display_name": "Python 3",
   "language": "python",
   "name": "python3"
  },
  "language_info": {
   "codemirror_mode": {
    "name": "ipython",
    "version": 3
   },
   "file_extension": ".py",
   "mimetype": "text/x-python",
   "name": "python",
   "nbconvert_exporter": "python",
   "pygments_lexer": "ipython3",
   "version": "3.8.8"
  }
 },
 "nbformat": 4,
 "nbformat_minor": 5
}
