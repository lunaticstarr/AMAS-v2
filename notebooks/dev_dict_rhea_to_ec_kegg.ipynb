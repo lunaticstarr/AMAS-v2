{
 "cells": [
  {
   "cell_type": "code",
   "execution_count": 1,
   "id": "582681e6-2af2-479d-81b6-146e3cd5d7a5",
   "metadata": {},
   "outputs": [],
   "source": [
    "# Using the constants' dictionaries (EC2RHEA, KEGG2RHEA)\n",
    "# to get dictionary of RHEA -> EC/KEGG\n",
    "# to modify existing annotations\n",
    "\n",
    "import collections\n",
    "import compress_pickle\n",
    "import itertools\n",
    "import libsbml\n",
    "import numpy as np\n",
    "import os\n",
    "import pickle\n",
    "import pandas as pd\n",
    "import sys\n",
    "import time\n",
    "import matplotlib.pyplot as plt\n",
    "%matplotlib inline  \n",
    "\n",
    "BIOMD_12 = 'BIOMD0000000012.xml'\n",
    "BASE_DIR = '/Users/woosubshin/Desktop/AutomateAnnotation/'\n",
    "DATA_DIR = os.path.join(BASE_DIR, \"DATA\")\n",
    "ALGO_DIR = os.path.join(DATA_DIR, \"algo\")\n",
    "CHEBI_DIR = os.path.join(DATA_DIR, \"chebi\")\n",
    "RHEA_DIR = os.path.join(DATA_DIR, \"rhea\")\n",
    "BIOMODEL_DIR = os.path.join(DATA_DIR, \"biomodels/curated_biomodels_31mar2021\")\n",
    "BIGG_DIR = '/Users/woosubshin/Desktop/AutomateAnnotation/DATA/bigg'\n",
    "ecoli_fpath = os.path.join(BIGG_DIR, \"e_coli_core.xml\")\n",
    "\n",
    "PROJ_DIR = os.path.join(os.getcwd(), os.pardir)\n",
    "AMAS_DIR = os.path.join(PROJ_DIR, \"AMAS\")\n",
    "sys.path.append(PROJ_DIR)\n",
    "\n",
    "SUPPL_DIR = os.path.join(PROJ_DIR, os.pardir, \"AMAS_suppl\")\n",
    "ACCURACY_DIR = os.path.join(SUPPL_DIR, \"data_for_credibility\")\n",
    "RESULT_DIR = '/Users/woosubshin/Desktop/AutomateAnnotation/AMAS_suppl/result_files'\n",
    "\n",
    "from AMAS import annotation_maker as am\n",
    "from AMAS import species_annotation as sa\n",
    "from AMAS import reaction_annotation as ra\n",
    "from AMAS import recommender\n",
    "from AMAS import constants as cn\n",
    "from AMAS import iterator as it\n",
    "from AMAS import tools"
   ]
  },
  {
   "cell_type": "code",
   "execution_count": 3,
   "id": "a5630b28-0a72-4ab6-aba5-d21529d15ec4",
   "metadata": {},
   "outputs": [],
   "source": [
    "ec2rhea = cn.REF_EC2RHEA\n",
    "kegg2rhea = cn.REF_KEGG2RHEA"
   ]
  },
  {
   "cell_type": "code",
   "execution_count": 11,
   "id": "eb3a40d8-87aa-476b-8110-d3473fcb36b8",
   "metadata": {},
   "outputs": [],
   "source": [
    "rheas_lists = []\n",
    "for one_k in ec2rhea:\n",
    "  rheas_lists.append(ec2rhea[one_k])\n",
    "for one_k in kegg2rhea:\n",
    "  rheas_lists.append(kegg2rhea[one_k])\n",
    "rheas = list(set(itertools.chain(*rheas_lists)))"
   ]
  },
  {
   "cell_type": "code",
   "execution_count": 14,
   "id": "8292cccb-dfd4-4de2-8898-ded98a41e51f",
   "metadata": {},
   "outputs": [
    {
     "data": {
      "text/plain": [
       "8218"
      ]
     },
     "execution_count": 14,
     "metadata": {},
     "output_type": "execute_result"
    }
   ],
   "source": [
    "len(rheas)"
   ]
  },
  {
   "cell_type": "code",
   "execution_count": 21,
   "id": "fc4c9561-cbcf-47e3-9ef5-00af7978f23c",
   "metadata": {},
   "outputs": [],
   "source": [
    "rhea2eckegg_raw = {val:[] for val in rheas}\n",
    "for one_rhea in rheas:\n",
    "  for one_ec in ec2rhea:\n",
    "    if one_rhea in ec2rhea[one_ec]:\n",
    "      # ec has both full name and the one only with numbers...\n",
    "      rhea2eckegg_raw[one_rhea].append(one_ec)\n",
    "      rhea2eckegg_raw[one_rhea].append(one_ec.split(\":\")[1])\n",
    "  for one_kegg in kegg2rhea:\n",
    "    if one_rhea in kegg2rhea[one_kegg]:\n",
    "      # kegg has both full name and that starts with R.....\n",
    "      rhea2eckegg_raw[one_rhea].append(one_kegg)\n",
    "      rhea2eckegg_raw[one_rhea].append(one_kegg.split(\":\")[1])\n",
    "rhea2eckegg = {val:list(set(rhea2eckegg_raw[val])) for val in rhea2eckegg_raw.keys()}"
   ]
  },
  {
   "cell_type": "code",
   "execution_count": 24,
   "id": "db6c84f5-86c6-4a53-850e-290d2bb87c76",
   "metadata": {},
   "outputs": [],
   "source": [
    "import compress_pickle\n",
    "\n",
    "LZMA_DIR = '/Users/woosubshin/Desktop/AutomateAnnotation/AMAS/AMAS/files'\n",
    "\n",
    "compress_pickle.dump(rhea2eckegg, os.path.join(LZMA_DIR, 'mrhea2eckegg.lzma'),\n",
    "                     compression=\"lzma\", set_default_extension=False)"
   ]
  },
  {
   "cell_type": "code",
   "execution_count": 25,
   "id": "b98f506e-2da4-4103-920e-9170028707cc",
   "metadata": {},
   "outputs": [],
   "source": [
    "res = compress_pickle.load(os.path.join(LZMA_DIR, 'mrhea2eckegg.lzma'))"
   ]
  },
  {
   "cell_type": "code",
   "execution_count": 2,
   "id": "c0c4ddf6-678d-4baf-9b9f-e12f45e0074e",
   "metadata": {},
   "outputs": [],
   "source": [
    "# develop method to get a full set associated with a rhea term\n",
    "def getAssociatedTermsToRhea(inp_rhea):\n",
    "  \"\"\"\n",
    "  Get a list of associated terms \n",
    "  of a rhea term. \n",
    "  The resulting list will contain \n",
    "  the original rhea term, \n",
    "  associated EC & KEGG numbers. \n",
    "  \n",
    "  Parameters\n",
    "  ----------\n",
    "  inp_rhea: str\n",
    "  \n",
    "  Returns\n",
    "  -------\n",
    "  : list-str\n",
    "  \"\"\"\n",
    "  if inp_rhea in cn.REF_RHEA2ECKEGG.keys():\n",
    "    return cn.REF_RHEA2ECKEGG[inp_rhea] + [inp_rhea]\n",
    "  else:\n",
    "    return [inp_rhea]"
   ]
  },
  {
   "cell_type": "code",
   "execution_count": 4,
   "id": "eb4bde7c-e03f-4324-9d4f-15d929165873",
   "metadata": {},
   "outputs": [
    {
     "data": {
      "text/plain": [
       "['AA']"
      ]
     },
     "execution_count": 4,
     "metadata": {},
     "output_type": "execute_result"
    }
   ],
   "source": [
    "getAssociatedTermsToRhea('AA')"
   ]
  },
  {
   "cell_type": "code",
   "execution_count": null,
   "id": "81fbe0d5-ada3-4cc8-8c03-88d238c40784",
   "metadata": {},
   "outputs": [],
   "source": []
  }
 ],
 "metadata": {
  "kernelspec": {
   "display_name": "Python 3 (ipykernel)",
   "language": "python",
   "name": "python3"
  },
  "language_info": {
   "codemirror_mode": {
    "name": "ipython",
    "version": 3
   },
   "file_extension": ".py",
   "mimetype": "text/x-python",
   "name": "python",
   "nbconvert_exporter": "python",
   "pygments_lexer": "ipython3",
   "version": "3.11.2"
  }
 },
 "nbformat": 4,
 "nbformat_minor": 5
}
