{
 "cells": [
  {
   "cell_type": "code",
   "execution_count": 1,
   "id": "cd9f5739",
   "metadata": {},
   "outputs": [],
   "source": [
    "# Contruct initial components.. Cheking whether copied files work..\n",
    "\n",
    "import libsbml\n",
    "import numpy as np\n",
    "import os\n",
    "import pickle\n",
    "import pandas as pd\n",
    "import sys\n",
    "import matplotlib.pyplot as plt\n",
    "%matplotlib inline  \n",
    "\n",
    "BIOMD_12 = 'BIOMD0000000012.xml'\n",
    "BASE_DIR = '/Users/woosubs/Desktop/AutomateAnnotation/'\n",
    "DATA_DIR = os.path.join(BASE_DIR, \"DATA\")\n",
    "ALGO_DIR = os.path.join(DATA_DIR, \"algo\")\n",
    "CHEBI_DIR = os.path.join(DATA_DIR, \"chebi\")\n",
    "RHEA_DIR = os.path.join(DATA_DIR, \"rhea\")\n",
    "BIOMODEL_DIR = os.path.join(DATA_DIR, \"biomodels/curated_biomodels_31mar2021\")\n",
    "BIGG_DIR = '/Users/woosubs/Desktop/AutomateAnnotation/DATA/bigg'\n",
    "ecoli_fpath = os.path.join(BIGG_DIR, \"e_coli_core.xml\")\n",
    "\n",
    "PROJ_DIR = os.path.join(os.getcwd(), os.pardir)\n",
    "AMAS_DIR = os.path.join(PROJ_DIR, \"AMAS\")\n",
    "sys.path.append(PROJ_DIR)\n",
    "\n",
    "from AMAS import species_annotation as sa\n",
    "from AMAS import reaction_annotation as ra\n",
    "from AMAS import constants as cn\n",
    "from AMAS import iterator as it\n",
    "from AMAS import tools"
   ]
  },
  {
   "cell_type": "code",
   "execution_count": 2,
   "id": "d6d9f6fa",
   "metadata": {},
   "outputs": [],
   "source": [
    "prev_notebook_dir = '/Users/woosubs/Desktop/AutomateAnnotation/AnnotationRecommender/annotation_recommender/notebook'\n",
    "with open(os.path.join(prev_notebook_dir, 'chebi_models.pickle'), 'rb') as handle:\n",
    "  chebi_models = pickle.load(handle)"
   ]
  },
  {
   "cell_type": "code",
   "execution_count": 3,
   "id": "87344776",
   "metadata": {},
   "outputs": [],
   "source": [
    "one_biomd = 'BIOMD0000000634.xml'\n",
    "one_biomd_fpath = os.path.join(BIOMODEL_DIR, one_biomd)\n",
    "species_an = sa.SpeciesAnnotation(libsbml_fpath=one_biomd_fpath)\n",
    "model_itm = chebi_models[one_biomd]\n",
    "pred_species = species_an.predictAnnotationByName(inp_spec_list=list(model_itm.keys()))"
   ]
  },
  {
   "cell_type": "code",
   "execution_count": 4,
   "id": "32408a4a",
   "metadata": {},
   "outputs": [
    {
     "data": {
      "text/plain": [
       "{'ATP': ['CHEBI:15422', 'CHEBI:30616'],\n",
       " 'ADP': ['CHEBI:16761', 'CHEBI:456216', 'CHEBI:73342'],\n",
       " 'AMP': ['CHEBI:16027', 'CHEBI:28971', 'CHEBI:456215']}"
      ]
     },
     "execution_count": 4,
     "metadata": {},
     "output_type": "execute_result"
    }
   ],
   "source": [
    "species_an.candidates"
   ]
  },
  {
   "cell_type": "code",
   "execution_count": 5,
   "id": "73b03cfe",
   "metadata": {},
   "outputs": [],
   "source": [
    "one_biomd = 'BIOMD0000000191.xml'\n",
    "one_biomd_fpath = os.path.join(BIOMODEL_DIR, one_biomd)\n",
    "species_an = sa.SpeciesAnnotation(libsbml_fpath=one_biomd_fpath)\n",
    "reaction_an = ra.ReactionAnnotation(libsbml_fpath=one_biomd_fpath)\n",
    "pred_species = species_an.predictAnnotationByName()\n",
    "pred_reaction = reaction_an.predictAnnotation(inp_spec_dict=species_an.formula)"
   ]
  },
  {
   "cell_type": "code",
   "execution_count": 6,
   "id": "fb68514c",
   "metadata": {},
   "outputs": [
    {
     "data": {
      "text/plain": [
       "{'Arginase': Index(['RHEA:12904', 'RHEA:13204', 'RHEA:13268', 'RHEA:20572', 'RHEA:34994',\n",
       "        'RHEA:59243', 'RHEA:62447'],\n",
       "       dtype='object'),\n",
       " 'Arginine_transport': Index(['RHEA:10551', 'RHEA:10559', 'RHEA:10883', 'RHEA:11907', 'RHEA:12904',\n",
       "        'RHEA:13204', 'RHEA:13268', 'RHEA:13836', 'RHEA:15188', 'RHEA:15348',\n",
       "        'RHEA:16288', 'RHEA:17644', 'RHEA:18072', 'RHEA:19600', 'RHEA:19640',\n",
       "        'RHEA:19900', 'RHEA:20304', 'RHEA:20572', 'RHEA:20787', 'RHEA:22943',\n",
       "        'RHEA:23095', 'RHEA:23611', 'RHEA:23891', 'RHEA:24023', 'RHEA:24607',\n",
       "        'RHEA:24663', 'RHEA:29654', 'RHEA:29882', 'RHEA:30310', 'RHEA:30314',\n",
       "        'RHEA:30318', 'RHEA:30322', 'RHEA:30450', 'RHEA:31534', 'RHEA:31538',\n",
       "        'RHEA:32146', 'RHEA:33942', 'RHEA:33946', 'RHEA:34994', 'RHEA:36278',\n",
       "        'RHEA:36282', 'RHEA:36286', 'RHEA:36290', 'RHEA:36294', 'RHEA:36606',\n",
       "        'RHEA:36610', 'RHEA:38162', 'RHEA:41559', 'RHEA:43575', 'RHEA:43583',\n",
       "        'RHEA:43587', 'RHEA:44339', 'RHEA:47635', 'RHEA:47639', 'RHEA:51407',\n",
       "        'RHEA:52327', 'RHEA:52331', 'RHEA:53027', 'RHEA:56747', 'RHEA:57163',\n",
       "        'RHEA:57167', 'RHEA:59243', 'RHEA:59595', 'RHEA:59619', 'RHEA:59631',\n",
       "        'RHEA:61647', 'RHEA:62447', 'RHEA:62495', 'RHEA:62499', 'RHEA:63575',\n",
       "        'RHEA:67151'],\n",
       "       dtype='object'),\n",
       " 'Ornithine_efflux': Index(['RHEA:10319', 'RHEA:11587', 'RHEA:11943', 'RHEA:12904', 'RHEA:13204',\n",
       "        'RHEA:13268', 'RHEA:13472', 'RHEA:13880', 'RHEA:14896', 'RHEA:15352',\n",
       "        'RHEA:15944', 'RHEA:16020', 'RHEA:16040', 'RHEA:16444', 'RHEA:16488',\n",
       "        'RHEA:16932', 'RHEA:18664', 'RHEA:19428', 'RHEA:19516', 'RHEA:20572',\n",
       "        'RHEA:20636', 'RHEA:22967', 'RHEA:23655', 'RHEA:24195', 'RHEA:24199',\n",
       "        'RHEA:24371', 'RHEA:25163', 'RHEA:26545', 'RHEA:26553', 'RHEA:27581',\n",
       "        'RHEA:28794', 'RHEA:28830', 'RHEA:29886', 'RHEA:30762', 'RHEA:31062',\n",
       "        'RHEA:31602', 'RHEA:34994', 'RHEA:35066', 'RHEA:36794', 'RHEA:37338',\n",
       "        'RHEA:40934', 'RHEA:41511', 'RHEA:41515', 'RHEA:42899', 'RHEA:43231',\n",
       "        'RHEA:43771', 'RHEA:45023', 'RHEA:50683', 'RHEA:50907', 'RHEA:52679',\n",
       "        'RHEA:52715', 'RHEA:54819', 'RHEA:57455', 'RHEA:58287', 'RHEA:59051',\n",
       "        'RHEA:59139', 'RHEA:59243', 'RHEA:59591', 'RHEA:59615', 'RHEA:59627',\n",
       "        'RHEA:61279', 'RHEA:62367', 'RHEA:62447', 'RHEA:65023', 'RHEA:66555',\n",
       "        'RHEA:66559', 'RHEA:66563', 'RHEA:66567'],\n",
       "       dtype='object'),\n",
       " 'NOS': Index(['RHEA:10551', 'RHEA:10559', 'RHEA:10883', 'RHEA:11907', 'RHEA:12904',\n",
       "        'RHEA:13204', 'RHEA:13268', 'RHEA:13836', 'RHEA:15188', 'RHEA:15348',\n",
       "        'RHEA:16288', 'RHEA:17644', 'RHEA:18072', 'RHEA:19600', 'RHEA:19640',\n",
       "        'RHEA:19900', 'RHEA:20304', 'RHEA:20572', 'RHEA:20787', 'RHEA:22943',\n",
       "        'RHEA:23095', 'RHEA:23611', 'RHEA:23891', 'RHEA:24023', 'RHEA:24607',\n",
       "        'RHEA:24663', 'RHEA:29654', 'RHEA:29882', 'RHEA:30310', 'RHEA:30314',\n",
       "        'RHEA:30318', 'RHEA:30322', 'RHEA:30450', 'RHEA:31534', 'RHEA:31538',\n",
       "        'RHEA:32146', 'RHEA:33942', 'RHEA:33946', 'RHEA:34994', 'RHEA:36278',\n",
       "        'RHEA:36282', 'RHEA:36286', 'RHEA:36290', 'RHEA:36294', 'RHEA:36606',\n",
       "        'RHEA:36610', 'RHEA:38162', 'RHEA:41559', 'RHEA:43575', 'RHEA:43583',\n",
       "        'RHEA:43587', 'RHEA:44339', 'RHEA:47635', 'RHEA:47639', 'RHEA:51407',\n",
       "        'RHEA:52327', 'RHEA:52331', 'RHEA:53027', 'RHEA:56747', 'RHEA:57163',\n",
       "        'RHEA:57167', 'RHEA:59243', 'RHEA:59595', 'RHEA:59619', 'RHEA:59631',\n",
       "        'RHEA:61647', 'RHEA:62447', 'RHEA:62495', 'RHEA:62499', 'RHEA:63575',\n",
       "        'RHEA:67151'],\n",
       "       dtype='object'),\n",
       " 'ODC': Index(['RHEA:10319', 'RHEA:11587', 'RHEA:11943', 'RHEA:12904', 'RHEA:13204',\n",
       "        'RHEA:13268', 'RHEA:13472', 'RHEA:13880', 'RHEA:14896', 'RHEA:15352',\n",
       "        'RHEA:15944', 'RHEA:16020', 'RHEA:16040', 'RHEA:16444', 'RHEA:16488',\n",
       "        'RHEA:16932', 'RHEA:18664', 'RHEA:19428', 'RHEA:19516', 'RHEA:20572',\n",
       "        'RHEA:20636', 'RHEA:22967', 'RHEA:23655', 'RHEA:24195', 'RHEA:24199',\n",
       "        'RHEA:24371', 'RHEA:25163', 'RHEA:26545', 'RHEA:26553', 'RHEA:27581',\n",
       "        'RHEA:28794', 'RHEA:28830', 'RHEA:29886', 'RHEA:30762', 'RHEA:31062',\n",
       "        'RHEA:31602', 'RHEA:34994', 'RHEA:35066', 'RHEA:36794', 'RHEA:37338',\n",
       "        'RHEA:40934', 'RHEA:41511', 'RHEA:41515', 'RHEA:42899', 'RHEA:43231',\n",
       "        'RHEA:43771', 'RHEA:45023', 'RHEA:50683', 'RHEA:50907', 'RHEA:52679',\n",
       "        'RHEA:52715', 'RHEA:54819', 'RHEA:57455', 'RHEA:58287', 'RHEA:59051',\n",
       "        'RHEA:59139', 'RHEA:59243', 'RHEA:59591', 'RHEA:59615', 'RHEA:59627',\n",
       "        'RHEA:61279', 'RHEA:62367', 'RHEA:62447', 'RHEA:65023', 'RHEA:66555',\n",
       "        'RHEA:66559', 'RHEA:66563', 'RHEA:66567'],\n",
       "       dtype='object')}"
      ]
     },
     "execution_count": 6,
     "metadata": {},
     "output_type": "execute_result"
    }
   ],
   "source": [
    "reaction_an.candidates"
   ]
  },
  {
   "cell_type": "code",
   "execution_count": 3,
   "id": "807b0776",
   "metadata": {},
   "outputs": [],
   "source": [
    "one_biomd = 'BIOMD0000000634.xml'\n",
    "reader = libsbml.SBMLReader()\n",
    "document = reader.readSBML(os.path.join(BIOMODEL_DIR, one_biomd))\n",
    "model = document.getModel()"
   ]
  },
  {
   "cell_type": "code",
   "execution_count": 4,
   "id": "d738ef93",
   "metadata": {},
   "outputs": [],
   "source": [
    "from AMAS import recommender"
   ]
  },
  {
   "cell_type": "code",
   "execution_count": 5,
   "id": "81ce99c6",
   "metadata": {},
   "outputs": [
    {
     "ename": "NameError",
     "evalue": "free variable 'exist_annotation_filt' referenced before assignment in enclosing scope",
     "output_type": "error",
     "traceback": [
      "\u001b[0;31m---------------------------------------------------------------------------\u001b[0m",
      "\u001b[0;31mNameError\u001b[0m                                 Traceback (most recent call last)",
      "\u001b[0;32m<ipython-input-5-14c7fbe5b028>\u001b[0m in \u001b[0;36m<module>\u001b[0;34m\u001b[0m\n\u001b[0;32m----> 1\u001b[0;31m \u001b[0mrecom\u001b[0m \u001b[0;34m=\u001b[0m \u001b[0mrecommender\u001b[0m\u001b[0;34m.\u001b[0m\u001b[0mRecommender\u001b[0m\u001b[0;34m(\u001b[0m\u001b[0mlibsbml_fpath\u001b[0m\u001b[0;34m=\u001b[0m\u001b[0mos\u001b[0m\u001b[0;34m.\u001b[0m\u001b[0mpath\u001b[0m\u001b[0;34m.\u001b[0m\u001b[0mjoin\u001b[0m\u001b[0;34m(\u001b[0m\u001b[0mBIOMODEL_DIR\u001b[0m\u001b[0;34m,\u001b[0m \u001b[0mone_biomd\u001b[0m\u001b[0;34m)\u001b[0m\u001b[0;34m)\u001b[0m\u001b[0;34m\u001b[0m\u001b[0;34m\u001b[0m\u001b[0m\n\u001b[0m",
      "\u001b[0;32m~/Desktop/AutomateAnnotation/AMAS/notebooks/../AMAS/recommender.py\u001b[0m in \u001b[0;36m__init__\u001b[0;34m(self, libsbml_fpath, exist_qualifier)\u001b[0m\n\u001b[1;32m     34\u001b[0m       \u001b[0mspecies_names\u001b[0m \u001b[0;34m=\u001b[0m \u001b[0;34m{\u001b[0m\u001b[0mval\u001b[0m\u001b[0;34m.\u001b[0m\u001b[0mgetId\u001b[0m\u001b[0;34m(\u001b[0m\u001b[0;34m)\u001b[0m\u001b[0;34m:\u001b[0m\u001b[0mval\u001b[0m\u001b[0;34m.\u001b[0m\u001b[0mname\u001b[0m \u001b[0;32mfor\u001b[0m \u001b[0mval\u001b[0m \u001b[0;32min\u001b[0m \u001b[0mself\u001b[0m\u001b[0;34m.\u001b[0m\u001b[0mmodel\u001b[0m\u001b[0;34m.\u001b[0m\u001b[0mgetListOfSpecies\u001b[0m\u001b[0;34m(\u001b[0m\u001b[0;34m)\u001b[0m\u001b[0;34m}\u001b[0m\u001b[0;34m\u001b[0m\u001b[0;34m\u001b[0m\u001b[0m\n\u001b[1;32m     35\u001b[0m       \u001b[0mspecies_tuple\u001b[0m \u001b[0;34m=\u001b[0m \u001b[0;34m(\u001b[0m\u001b[0mspecies_names\u001b[0m\u001b[0;34m,\u001b[0m \u001b[0mexist_spec_annotation_filt\u001b[0m\u001b[0;34m)\u001b[0m\u001b[0;34m\u001b[0m\u001b[0;34m\u001b[0m\u001b[0m\n\u001b[0;32m---> 36\u001b[0;31m       \u001b[0mself\u001b[0m\u001b[0;34m.\u001b[0m\u001b[0mspecies\u001b[0m \u001b[0;34m=\u001b[0m \u001b[0msa\u001b[0m\u001b[0;34m.\u001b[0m\u001b[0mSpeciesAnnotation\u001b[0m\u001b[0;34m(\u001b[0m\u001b[0minp_tuple\u001b[0m\u001b[0;34m=\u001b[0m\u001b[0mspecies_tuple\u001b[0m\u001b[0;34m)\u001b[0m\u001b[0;34m\u001b[0m\u001b[0;34m\u001b[0m\u001b[0m\n\u001b[0m\u001b[1;32m     37\u001b[0m       \u001b[0;31m# Create reaction_annotation instance\u001b[0m\u001b[0;34m\u001b[0m\u001b[0;34m\u001b[0m\u001b[0;34m\u001b[0m\u001b[0m\n\u001b[1;32m     38\u001b[0m       \u001b[0;31m# Annotation of Rhea\u001b[0m\u001b[0;34m\u001b[0m\u001b[0;34m\u001b[0m\u001b[0;34m\u001b[0m\u001b[0m\n",
      "\u001b[0;32m~/Desktop/AutomateAnnotation/AMAS/notebooks/../AMAS/species_annotation.py\u001b[0m in \u001b[0;36m__init__\u001b[0;34m(self, libsbml_fpath, inp_tuple)\u001b[0m\n\u001b[1;32m     44\u001b[0m       \u001b[0mself\u001b[0m\u001b[0;34m.\u001b[0m\u001b[0mmodel\u001b[0m \u001b[0;34m=\u001b[0m \u001b[0;32mNone\u001b[0m\u001b[0;34m\u001b[0m\u001b[0;34m\u001b[0m\u001b[0m\n\u001b[1;32m     45\u001b[0m       \u001b[0mself\u001b[0m\u001b[0;34m.\u001b[0m\u001b[0mnames\u001b[0m \u001b[0;34m=\u001b[0m \u001b[0minp_tuple\u001b[0m\u001b[0;34m[\u001b[0m\u001b[0;36m0\u001b[0m\u001b[0;34m]\u001b[0m\u001b[0;34m\u001b[0m\u001b[0;34m\u001b[0m\u001b[0m\n\u001b[0;32m---> 46\u001b[0;31m       self.exist_annotation = {k:tools.transformCHEBIToFormula(exist_annotation_filt[k], ref_shortened_chebi_to_formula) \\\n\u001b[0m\u001b[1;32m     47\u001b[0m                                for k in inp_tuple[1].keys()}\n\u001b[1;32m     48\u001b[0m     \u001b[0;32melse\u001b[0m\u001b[0;34m:\u001b[0m\u001b[0;34m\u001b[0m\u001b[0;34m\u001b[0m\u001b[0m\n",
      "\u001b[0;32m~/Desktop/AutomateAnnotation/AMAS/notebooks/../AMAS/species_annotation.py\u001b[0m in \u001b[0;36m<dictcomp>\u001b[0;34m(.0)\u001b[0m\n\u001b[1;32m     44\u001b[0m       \u001b[0mself\u001b[0m\u001b[0;34m.\u001b[0m\u001b[0mmodel\u001b[0m \u001b[0;34m=\u001b[0m \u001b[0;32mNone\u001b[0m\u001b[0;34m\u001b[0m\u001b[0;34m\u001b[0m\u001b[0m\n\u001b[1;32m     45\u001b[0m       \u001b[0mself\u001b[0m\u001b[0;34m.\u001b[0m\u001b[0mnames\u001b[0m \u001b[0;34m=\u001b[0m \u001b[0minp_tuple\u001b[0m\u001b[0;34m[\u001b[0m\u001b[0;36m0\u001b[0m\u001b[0;34m]\u001b[0m\u001b[0;34m\u001b[0m\u001b[0;34m\u001b[0m\u001b[0m\n\u001b[0;32m---> 46\u001b[0;31m       self.exist_annotation = {k:tools.transformCHEBIToFormula(exist_annotation_filt[k], ref_shortened_chebi_to_formula) \\\n\u001b[0m\u001b[1;32m     47\u001b[0m                                for k in inp_tuple[1].keys()}\n\u001b[1;32m     48\u001b[0m     \u001b[0;32melse\u001b[0m\u001b[0;34m:\u001b[0m\u001b[0;34m\u001b[0m\u001b[0;34m\u001b[0m\u001b[0m\n",
      "\u001b[0;31mNameError\u001b[0m: free variable 'exist_annotation_filt' referenced before assignment in enclosing scope"
     ]
    }
   ],
   "source": [
    "recom = recommender.Recommender(libsbml_fpath=os.path.join(BIOMODEL_DIR, one_biomd))"
   ]
  },
  {
   "cell_type": "code",
   "execution_count": null,
   "id": "ff6530c0",
   "metadata": {},
   "outputs": [],
   "source": []
  }
 ],
 "metadata": {
  "kernelspec": {
   "display_name": "pyo",
   "language": "python",
   "name": "pyo"
  },
  "language_info": {
   "codemirror_mode": {
    "name": "ipython",
    "version": 3
   },
   "file_extension": ".py",
   "mimetype": "text/x-python",
   "name": "python",
   "nbconvert_exporter": "python",
   "pygments_lexer": "ipython3",
   "version": "3.8.8"
  }
 },
 "nbformat": 4,
 "nbformat_minor": 5
}
