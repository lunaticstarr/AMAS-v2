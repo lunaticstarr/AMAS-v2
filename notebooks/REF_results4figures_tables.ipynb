{
 "cells": [
  {
   "cell_type": "code",
   "execution_count": 106,
   "id": "b00b25d2-1038-4d53-9e4c-a1e9758f0a22",
   "metadata": {},
   "outputs": [],
   "source": [
    "# Collect data for figures and tables\n",
    "import collections\n",
    "\n",
    "import compress_pickle\n",
    "import itertools\n",
    "import libsbml\n",
    "import numpy as np\n",
    "import os\n",
    "import pickle\n",
    "import pandas as pd\n",
    "import sys\n",
    "import time\n",
    "import matplotlib.pyplot as plt\n",
    "%matplotlib inline  \n",
    "\n",
    "BIOMD_12 = 'BIOMD0000000012.xml'\n",
    "BASE_DIR = '/Users/woosubs/Desktop/AutomateAnnotation/'\n",
    "DATA_DIR = os.path.join(BASE_DIR, \"DATA\")\n",
    "ALGO_DIR = os.path.join(DATA_DIR, \"algo\")\n",
    "CHEBI_DIR = os.path.join(DATA_DIR, \"chebi\")\n",
    "RHEA_DIR = os.path.join(DATA_DIR, \"rhea\")\n",
    "BIOMODEL_DIR = os.path.join(DATA_DIR, \"biomodels/curated_biomodels_31mar2021\")\n",
    "BIGG_DIR = '/Users/woosubs/Desktop/AutomateAnnotation/DATA/bigg'\n",
    "ecoli_fpath = os.path.join(BIGG_DIR, \"e_coli_core.xml\")\n",
    "\n",
    "PROJ_DIR = os.path.join(os.getcwd(), os.pardir)\n",
    "AMAS_DIR = os.path.join(PROJ_DIR, \"AMAS\")\n",
    "sys.path.append(PROJ_DIR)\n",
    "\n",
    "SUPPL_DIR = os.path.join(PROJ_DIR, os.pardir, \"AMAS_suppl\")\n",
    "ACCURACY_DIR = os.path.join(SUPPL_DIR, \"data_for_credibility\")\n",
    "\n",
    "from AMAS import species_annotation as sa\n",
    "from AMAS import reaction_annotation as ra\n",
    "from AMAS import recommender\n",
    "from AMAS import constants as cn\n",
    "from AMAS import iterator as it\n",
    "from AMAS import tools"
   ]
  },
  {
   "cell_type": "code",
   "execution_count": 2,
   "id": "1a1f4c76-344d-4560-82e2-c8d2856db865",
   "metadata": {},
   "outputs": [],
   "source": [
    "E_COLI_PATH = os.path.join(cn.TEST_DIR, 'e_coli_core.xml')\n",
    "recom = recommender.Recommender(libsbml_fpath=E_COLI_PATH)"
   ]
  },
  {
   "cell_type": "code",
   "execution_count": 3,
   "id": "47df9ac2-2485-4227-bc68-34f9ae0200e0",
   "metadata": {},
   "outputs": [],
   "source": [
    "########## Result Table 1. ######################\n",
    "#################################################\n",
    "\n",
    "\n",
    "# TODO: first, get number of biomodels with annotations, \n",
    "# each for species and reactions; and for biomodels and BiGG\n",
    "\n",
    "#################################################\n",
    "# using csv data obtained from REF_ML, get\n",
    "# 1. list (number) of (bio)models; numbers of total species/reactions\n",
    "# 2. numbers of annotated species/reactions\n",
    "#################################################\n",
    "\n",
    "#################################################\n",
    "# using csv data obtained from REF_ML, get\n",
    "# 1. Prediction time (of the same biomodels)\n",
    "# 2. Recall\n",
    "# 3. Precision\n",
    "#################################################\n",
    "\n",
    "\n",
    "#################################################\n",
    "# Can repeat this for BiGG models :) \n",
    "# But for BiGG, need to collect information again. \n",
    "#################################################"
   ]
  },
  {
   "cell_type": "code",
   "execution_count": 4,
   "id": "7d417cef-2329-4a78-b16c-d4dbe55974d6",
   "metadata": {},
   "outputs": [
    {
     "data": {
      "text/html": [
       "<div>\n",
       "<style scoped>\n",
       "    .dataframe tbody tr th:only-of-type {\n",
       "        vertical-align: middle;\n",
       "    }\n",
       "\n",
       "    .dataframe tbody tr th {\n",
       "        vertical-align: top;\n",
       "    }\n",
       "\n",
       "    .dataframe thead th {\n",
       "        text-align: right;\n",
       "    }\n",
       "</style>\n",
       "<table border=\"1\" class=\"dataframe\">\n",
       "  <thead>\n",
       "    <tr style=\"text-align: right;\">\n",
       "      <th></th>\n",
       "      <th>model</th>\n",
       "      <th>name_length</th>\n",
       "      <th>num_candidates</th>\n",
       "      <th>num_formulas</th>\n",
       "      <th>match_score</th>\n",
       "      <th>accuracy</th>\n",
       "    </tr>\n",
       "  </thead>\n",
       "  <tbody>\n",
       "    <tr>\n",
       "      <th>0</th>\n",
       "      <td>BIOMD0000000634.xml</td>\n",
       "      <td>3</td>\n",
       "      <td>6</td>\n",
       "      <td>5</td>\n",
       "      <td>1.000</td>\n",
       "      <td>1</td>\n",
       "    </tr>\n",
       "    <tr>\n",
       "      <th>1</th>\n",
       "      <td>BIOMD0000000634.xml</td>\n",
       "      <td>3</td>\n",
       "      <td>13</td>\n",
       "      <td>11</td>\n",
       "      <td>1.000</td>\n",
       "      <td>1</td>\n",
       "    </tr>\n",
       "    <tr>\n",
       "      <th>2</th>\n",
       "      <td>BIOMD0000000634.xml</td>\n",
       "      <td>3</td>\n",
       "      <td>14</td>\n",
       "      <td>12</td>\n",
       "      <td>1.000</td>\n",
       "      <td>1</td>\n",
       "    </tr>\n",
       "    <tr>\n",
       "      <th>3</th>\n",
       "      <td>BIOMD0000000152.xml</td>\n",
       "      <td>2</td>\n",
       "      <td>7</td>\n",
       "      <td>5</td>\n",
       "      <td>1.000</td>\n",
       "      <td>1</td>\n",
       "    </tr>\n",
       "    <tr>\n",
       "      <th>4</th>\n",
       "      <td>BIOMD0000000152.xml</td>\n",
       "      <td>15</td>\n",
       "      <td>1</td>\n",
       "      <td>1</td>\n",
       "      <td>0.873</td>\n",
       "      <td>0</td>\n",
       "    </tr>\n",
       "  </tbody>\n",
       "</table>\n",
       "</div>"
      ],
      "text/plain": [
       "                 model  name_length  num_candidates  num_formulas  \\\n",
       "0  BIOMD0000000634.xml            3               6             5   \n",
       "1  BIOMD0000000634.xml            3              13            11   \n",
       "2  BIOMD0000000634.xml            3              14            12   \n",
       "3  BIOMD0000000152.xml            2               7             5   \n",
       "4  BIOMD0000000152.xml           15               1             1   \n",
       "\n",
       "   match_score  accuracy  \n",
       "0        1.000         1  \n",
       "1        1.000         1  \n",
       "2        1.000         1  \n",
       "3        1.000         1  \n",
       "4        0.873         0  "
      ]
     },
     "execution_count": 4,
     "metadata": {},
     "output_type": "execute_result"
    }
   ],
   "source": [
    "spec_ml_df = pd.read_csv(os.path.join(ACCURACY_DIR, 'individual_species_accuracy.csv'))\n",
    "spec_ml_df.head()"
   ]
  },
  {
   "cell_type": "code",
   "execution_count": 59,
   "id": "d3f6d9d9-771b-4c13-86b7-e6f8a069ea8d",
   "metadata": {},
   "outputs": [
    {
     "name": "stdout",
     "output_type": "stream",
     "text": [
      "Number of Spec Models: 262\n",
      "(running--- We are at 0.)\n",
      "(running--- We are at 100.)\n",
      "(running--- We are at 200.)\n",
      "Total number of models with at least one annotation: 262\n",
      "Ave. number of species: 43.94\n",
      "Ave. number of annotated species: 17.24\n"
     ]
    }
   ],
   "source": [
    "spec_biomodels = np.unique(spec_ml_df['model'])\n",
    "print(\"Number of Spec Models: %d\" % len(spec_biomodels))\n",
    "num_specs = dict()\n",
    "num_spec_anoted = dict(collections.Counter(spec_ml_df['model']))\n",
    "for idx, one_biomd in enumerate(spec_biomodels):\n",
    "  if idx % 100 == 0:\n",
    "    print(\"(running--- We are at %d.)\" % idx)\n",
    "  one_fpath = os.path.join(BIOMODEL_DIR, one_biomd)\n",
    "  reader = libsbml.SBMLReader()\n",
    "  document = reader.readSBML(one_fpath)\n",
    "  model = document.getModel()\n",
    "  num_specs[one_biomd] = model.getNumSpecies()\n",
    "###\n",
    "\n",
    "num_models = len(spec_biomodels)\n",
    "print(\"Total number of models with at least one annotation: %d\" % num_models)\n",
    "#\n",
    "ave_num_specs = np.mean([num_specs[k] for k in num_specs.keys()])\n",
    "print(\"Ave. number of species: %.02f\" % ave_num_specs)\n",
    "#\n",
    "ave_num_annoted_specs = np.mean([num_spec_anoted[k] for k in num_spec_anoted.keys()])\n",
    "print(\"Ave. number of annotated species: %.02f\" % ave_num_annoted_specs)"
   ]
  },
  {
   "cell_type": "code",
   "execution_count": null,
   "id": "37d75b4e-85f3-4cc5-bee6-fa55808f5df7",
   "metadata": {},
   "outputs": [],
   "source": []
  },
  {
   "cell_type": "code",
   "execution_count": 6,
   "id": "ab222ae4-f865-4bdd-bf32-6d3f25c3b403",
   "metadata": {},
   "outputs": [],
   "source": [
    "reac_ml_df = pd.read_csv(os.path.join(ACCURACY_DIR, 'individual_reactions_accuracy.csv'))"
   ]
  },
  {
   "cell_type": "code",
   "execution_count": 60,
   "id": "3203a9c5-39bf-42a1-ba9d-3245bb64e363",
   "metadata": {},
   "outputs": [
    {
     "name": "stdout",
     "output_type": "stream",
     "text": [
      "Total number of models with at least one annotation: 131\n",
      "(running--- We are at 0.)\n",
      "(running--- We are at 100.)\n",
      "Ave. number of reactions: 42.64\n",
      "Ave. number of annotated reactions: 16.70\n"
     ]
    }
   ],
   "source": [
    "reac_biomodels = np.unique(reac_ml_df['model'])\n",
    "print(\"Total number of models with at least one annotation: %d\" % len(reac_biomodels))\n",
    "#\n",
    "num_reacs = dict()\n",
    "num_reac_anoted = dict(collections.Counter(reac_ml_df['model']))\n",
    "for idx, one_biomd in enumerate(reac_biomodels):\n",
    "  if idx % 100 == 0:\n",
    "    print(\"(running--- We are at %d.)\" % idx)\n",
    "  one_fpath = os.path.join(BIOMODEL_DIR, one_biomd)\n",
    "  reader = libsbml.SBMLReader()\n",
    "  document = reader.readSBML(one_fpath)\n",
    "  model = document.getModel()\n",
    "  num_reacs[one_biomd] = model.getNumReactions()\n",
    "#\n",
    "ave_num_reacs = np.mean([num_reacs[k] for k in num_reacs.keys()])\n",
    "print(\"Ave. number of reactions: %.02f\" % ave_num_reacs)\n",
    "#\n",
    "ave_num_annoted_reacs = np.mean([num_reac_anoted[k] for k in num_reac_anoted.keys()])\n",
    "print(\"Ave. number of annotated reactions: %.02f\" % ave_num_annoted_reacs)"
   ]
  },
  {
   "cell_type": "code",
   "execution_count": 62,
   "id": "4e4d794a-0b1d-41f4-b045-21130b56dd8d",
   "metadata": {},
   "outputs": [
    {
     "data": {
      "text/plain": [
       "61"
      ]
     },
     "execution_count": 62,
     "metadata": {},
     "output_type": "execute_result"
    }
   ],
   "source": [
    "# To make sure that the two sets (look very similar)\n",
    "# are actually different :) \n",
    "len(set(reac_biomodels).intersection(spec_biomodels))"
   ]
  },
  {
   "cell_type": "code",
   "execution_count": null,
   "id": "d5c15a3f-3022-43ac-84e5-1a5c2b320d58",
   "metadata": {},
   "outputs": [],
   "source": []
  },
  {
   "cell_type": "code",
   "execution_count": null,
   "id": "b13c9463-4455-46dd-95c7-31a4c9424086",
   "metadata": {},
   "outputs": [],
   "source": [
    "# Next, we do the same thing with BiGG models;\n",
    "# only thing is that this time, it also needs to collect the number of\n",
    "# annotated reactions and sepcies as well; "
   ]
  },
  {
   "cell_type": "code",
   "execution_count": 51,
   "id": "9c9076f7-e113-4576-b85a-885859f788ba",
   "metadata": {},
   "outputs": [],
   "source": [
    "biggs = [val for val in os.listdir(BIGG_DIR) if val[-4:]=='.xml']"
   ]
  },
  {
   "cell_type": "code",
   "execution_count": 53,
   "id": "fdcba391-b875-468c-9543-2f2a6bb413b5",
   "metadata": {},
   "outputs": [
    {
     "data": {
      "text/plain": [
       "108"
      ]
     },
     "execution_count": 53,
     "metadata": {},
     "output_type": "execute_result"
    }
   ],
   "source": [
    "len(biggs)"
   ]
  },
  {
   "cell_type": "code",
   "execution_count": 54,
   "id": "92aecb40-372f-4a3e-b810-bb6dcfce4dca",
   "metadata": {},
   "outputs": [
    {
     "name": "stdout",
     "output_type": "stream",
     "text": [
      "We are at 0.\n",
      "We are at 10.\n",
      "We are at 20.\n",
      "We are at 30.\n",
      "We are at 40.\n",
      "We are at 50.\n",
      "We are at 60.\n",
      "We are at 70.\n",
      "We are at 80.\n",
      "We are at 90.\n",
      "We are at 100.\n",
      "Total number of BiGG models with at least one Species annotation: 108\n",
      "Ave. number of species: 1674.09\n",
      "Ave. number of annotated species: 1233.64\n",
      "Total number of BiGG models with at least one Reactions annotation: 108\n",
      "Ave. number of reactions: 2328.00\n",
      "Ave. number of annotated reactions: 1119.92\n"
     ]
    }
   ],
   "source": [
    "# models with annotations\n",
    "spec_biggs = []\n",
    "reac_biggs = []\n",
    "# numbers of total elements\n",
    "num_specs = dict()\n",
    "num_reacs = dict()\n",
    "# numbers of annotated elements\n",
    "num_annotated_specs = dict()\n",
    "num_annotated_reacs = dict()\n",
    "\n",
    "for idx, one_bigg in enumerate(biggs):\n",
    "  if idx % 10 == 0:\n",
    "    print(\"We are at %d.\" % idx)\n",
    "  one_fpath = os.path.join(BIGG_DIR, one_bigg)\n",
    "\n",
    "  recom = recommender.Recommender(libsbml_fpath=one_fpath)\n",
    "  reader = libsbml.SBMLReader()\n",
    "  document = reader.readSBML(one_fpath)\n",
    "  model = document.getModel()\n",
    "  num_spec_annotations = len(recom.species.exist_annotation_formula.keys())\n",
    "  num_reac_annotations = len(recom.reactions.exist_annotation.keys())\n",
    "  # assess if model has annotation\n",
    "  if num_spec_annotations > 0:\n",
    "    spec_biggs.append(one_bigg)\n",
    "    num_specs[one_bigg] = model.getNumSpecies()\n",
    "    num_annotated_specs[one_bigg] = num_spec_annotations\n",
    "  if num_reac_annotations > 0:\n",
    "    reac_biggs.append(one_bigg)\n",
    "    num_reacs[one_bigg] = model.getNumReactions()\n",
    "    num_annotated_reacs[one_bigg] = num_reac_annotations\n",
    "    \n",
    "print(\"Total number of BiGG models with at least one Species annotation: %d\" % len(spec_biggs))\n",
    "#\n",
    "ave_num_specs = np.mean([num_specs[k] for k in num_specs.keys()])\n",
    "print(\"Ave. number of species: %.02f\" % ave_num_specs)\n",
    "#\n",
    "ave_num_annoted_specs = np.mean([num_annotated_specs[k] for k in num_annotated_specs.keys()])\n",
    "print(\"Ave. number of annotated species: %.02f\" % ave_num_annoted_specs)    \n",
    "\n",
    "print(\"Total number of BiGG models with at least one Reactions annotation: %d\" % len(reac_biggs))\n",
    "#\n",
    "ave_num_reacs = np.mean([num_reacs[k] for k in num_reacs.keys()])\n",
    "print(\"Ave. number of reactions: %.02f\" % ave_num_reacs)\n",
    "#\n",
    "ave_num_annoted_reacs = np.mean([num_annotated_reacs[k] for k in num_annotated_reacs.keys()])\n",
    "print(\"Ave. number of annotated reactions: %.02f\" % ave_num_annoted_reacs)  "
   ]
  },
  {
   "cell_type": "code",
   "execution_count": null,
   "id": "3919e826-5957-4fad-b6c0-32c799c52e6f",
   "metadata": {},
   "outputs": [],
   "source": []
  },
  {
   "cell_type": "code",
   "execution_count": null,
   "id": "88c5c485-bf44-4586-9d56-d04a8c343a18",
   "metadata": {},
   "outputs": [],
   "source": []
  },
  {
   "cell_type": "markdown",
   "id": "22dcf222-689f-4d17-9174-cdfa0855b4d6",
   "metadata": {},
   "source": [
    "## BioModels Statistics (recall & precision) ##"
   ]
  },
  {
   "cell_type": "code",
   "execution_count": 85,
   "id": "70d4cbc5-9bc4-43e7-af8f-0ae5b8728105",
   "metadata": {},
   "outputs": [
    {
     "name": "stdout",
     "output_type": "stream",
     "text": [
      "We are at 0.\n",
      "We are at 50.\n",
      "We are at 100.\n",
      "We are at 150.\n",
      "We are at 200.\n",
      "We are at 250.\n",
      "\n",
      "\n",
      "<BioModels Species>\n",
      "Number of models assessed: 262\n",
      "Average processing time (per model): 0.39\n",
      "Average processing time (per element): 0.02\n",
      "Average recall (per model): 0.47\n",
      "Average precision (per model): 0.31\n"
     ]
    }
   ],
   "source": [
    "# BioModels; for species!? \n",
    "biomd_anotspec_numbers = dict()\n",
    "biomd_spec_time = dict()\n",
    "biomd_spec_recalls = dict()\n",
    "biomd_spec_precs = dict()\n",
    "\n",
    "for idx, one_biomd in enumerate(spec_biomodels):\n",
    "  if idx % 50 == 0:\n",
    "    print(\"We are at %d.\" % idx)\n",
    "  one_fpath = os.path.join(BIOMODEL_DIR, one_biomd)\n",
    "  recom = recommender.Recommender(libsbml_fpath=one_fpath)\n",
    "  specs2eval = list(recom.species.exist_annotation_formula.keys())\n",
    "  # make recommendations (compute time)\n",
    "  time1 = time.time()\n",
    "  recoms = recom.getSpeciesListAnnotation(pred_ids=specs2eval)\n",
    "  time2 = time.time()\n",
    "  recom_stats = recom.getSpeciesStatistics(model_mean=True)\n",
    "  ave_recall = recom_stats[cn.RECALL]\n",
    "  ave_precision = recom_stats[cn.PRECISION]\n",
    "  # collect information\n",
    "    \n",
    "  biomd_anotspec_numbers[one_biomd] = len(specs2eval)\n",
    "  biomd_spec_time[one_biomd] = time2 - time1\n",
    "  biomd_spec_recalls[one_biomd] = ave_recall\n",
    "  biomd_spec_precs[one_biomd] = ave_precision\n",
    "    \n",
    "print(\"\\n\\n<BioModels Species>\")\n",
    "print(\"Number of models assessed: %d\" % (idx+1))\n",
    "model_proc_time = [biomd_spec_time[k] for k in biomd_spec_time.keys()]\n",
    "spec_proc_time = [biomd_spec_time[k]/biomd_anotspec_numbers[k] \\\n",
    "                  for k in biomd_spec_time.keys()]\n",
    "ave_biomd_spec_recalls = [biomd_spec_recalls[k] for k in biomd_spec_recalls.keys()]\n",
    "ave_biomd_spec_precs = [biomd_spec_precs[k] for k in biomd_spec_precs.keys()]\n",
    "print(\"Average processing time (per model): %.02f\" % np.mean(model_proc_time))\n",
    "print(\"Average processing time (per element, per model): %.02f\" % np.mean(spec_proc_time))\n",
    "print(\"Average recall (per model): %.02f\" % np.mean(ave_biomd_spec_recalls))\n",
    "print(\"Average precision (per model): %.02f\" % np.mean(ave_biomd_spec_precs))"
   ]
  },
  {
   "cell_type": "code",
   "execution_count": 212,
   "id": "a111dfd8-519b-45a3-97a4-d7bf12cab2d9",
   "metadata": {},
   "outputs": [],
   "source": [
    "# RESULT_DIR = '/Users/woosubs/Desktop/AutomateAnnotation/AMAS_suppl/result_files'\n",
    "# biomd_spec_res = {'biomd_anotspec_numbers': biomd_anotspec_numbers,\n",
    "#                   'biomd_spec_time': biomd_spec_time,\n",
    "#                   'biomd_spec_recalls': biomd_spec_recalls,\n",
    "#                   'biomd_spec_precs': biomd_spec_precs}\n",
    "# compress_pickle.dump(biomd_spec_res,\n",
    "#                      os.path.join(RESULT_DIR, 'biomd_spec_res.lzma'), \n",
    "#                      compression=\"lzma\", set_default_extension=False)"
   ]
  },
  {
   "cell_type": "code",
   "execution_count": 136,
   "id": "19430ff5-d4ea-499e-8db2-923251b51126",
   "metadata": {},
   "outputs": [
    {
     "data": {
      "text/html": [
       "<div>\n",
       "<style scoped>\n",
       "    .dataframe tbody tr th:only-of-type {\n",
       "        vertical-align: middle;\n",
       "    }\n",
       "\n",
       "    .dataframe tbody tr th {\n",
       "        vertical-align: top;\n",
       "    }\n",
       "\n",
       "    .dataframe thead th {\n",
       "        text-align: right;\n",
       "    }\n",
       "</style>\n",
       "<table border=\"1\" class=\"dataframe\">\n",
       "  <thead>\n",
       "    <tr style=\"text-align: right;\">\n",
       "      <th></th>\n",
       "      <th>recall</th>\n",
       "      <th>precision</th>\n",
       "    </tr>\n",
       "  </thead>\n",
       "  <tbody>\n",
       "    <tr>\n",
       "      <th>BIOMD0000000002.xml</th>\n",
       "      <td>1.000</td>\n",
       "      <td>0.500</td>\n",
       "    </tr>\n",
       "    <tr>\n",
       "      <th>BIOMD0000000013.xml</th>\n",
       "      <td>0.091</td>\n",
       "      <td>0.061</td>\n",
       "    </tr>\n",
       "    <tr>\n",
       "      <th>BIOMD0000000015.xml</th>\n",
       "      <td>1.000</td>\n",
       "      <td>1.000</td>\n",
       "    </tr>\n",
       "    <tr>\n",
       "      <th>BIOMD0000000017.xml</th>\n",
       "      <td>0.588</td>\n",
       "      <td>0.399</td>\n",
       "    </tr>\n",
       "    <tr>\n",
       "      <th>BIOMD0000000018.xml</th>\n",
       "      <td>0.833</td>\n",
       "      <td>0.669</td>\n",
       "    </tr>\n",
       "  </tbody>\n",
       "</table>\n",
       "</div>"
      ],
      "text/plain": [
       "                     recall  precision\n",
       "BIOMD0000000002.xml   1.000      0.500\n",
       "BIOMD0000000013.xml   0.091      0.061\n",
       "BIOMD0000000015.xml   1.000      1.000\n",
       "BIOMD0000000017.xml   0.588      0.399\n",
       "BIOMD0000000018.xml   0.833      0.669"
      ]
     },
     "execution_count": 136,
     "metadata": {},
     "output_type": "execute_result"
    }
   ],
   "source": [
    "df_ave_biomd_spec_results = pd.DataFrame.from_records([biomd_spec_recalls, biomd_spec_precs],\n",
    "                                                      index=['recall', 'precision']).T\n",
    "df_ave_biomd_spec_results.head()"
   ]
  },
  {
   "cell_type": "code",
   "execution_count": 92,
   "id": "bd9c9534-2163-46cd-bd57-553e799aa04b",
   "metadata": {},
   "outputs": [],
   "source": [
    "# plt.hist(ave_biomd_spec_recalls)\n",
    "# plt.hist(ave_biomd_spec_precs)"
   ]
  },
  {
   "cell_type": "code",
   "execution_count": 97,
   "id": "5f4fc08c-51b7-43b3-80cb-89abe30a76a2",
   "metadata": {},
   "outputs": [
    {
     "name": "stdout",
     "output_type": "stream",
     "text": [
      "We are at 0.\n",
      "We are at 30.\n",
      "We are at 60.\n",
      "We are at 90.\n",
      "We are at 120.\n",
      "\n",
      "\n",
      "<BioModels Reactions>\n",
      "Number of models assessed: 131\n",
      "Average processing time (per model): 3.55\n",
      "Average processing time (per element, per model): 0.26\n",
      "Average recall (per model): 0.33\n",
      "Average precision (per model): 0.09\n"
     ]
    }
   ],
   "source": [
    "# BioModels; for reactions!? \n",
    "biomd_anotreac_numbers = dict()\n",
    "biomd_reac_time = dict()\n",
    "biomd_reac_recalls = dict()\n",
    "biomd_reac_precs = dict()\n",
    "\n",
    "for idx, one_biomd in enumerate(reac_biomodels):\n",
    "  if idx % 30 == 0:\n",
    "    print(\"We are at %d.\" % idx)\n",
    "  one_fpath = os.path.join(BIOMODEL_DIR, one_biomd)\n",
    "  recom = recommender.Recommender(libsbml_fpath=one_fpath)\n",
    "  reacs2eval = list(recom.reactions.exist_annotation.keys())\n",
    "  # make recommendations (compute time)\n",
    "  time1 = time.time()\n",
    "  recoms = recom.getReactionListAnnotation(pred_ids=reacs2eval)\n",
    "  time2 = time.time()\n",
    "  recom_stats = recom.getReactionStatistics(model_mean=True)\n",
    "  ave_recall = recom_stats[cn.RECALL]\n",
    "  ave_precision = recom_stats[cn.PRECISION]\n",
    "  # collect information\n",
    "    \n",
    "  biomd_anotreac_numbers[one_biomd] = len(reacs2eval)\n",
    "  biomd_reac_time[one_biomd] = time2 - time1\n",
    "  biomd_reac_recalls[one_biomd] = ave_recall\n",
    "  biomd_reac_precs[one_biomd] = ave_precision\n",
    "    \n",
    "print(\"\\n\\n<BioModels Reactions>\")\n",
    "print(\"Number of models assessed: %d\" % (idx+1))\n",
    "model_reac_proc_time = [biomd_reac_time[k] for k in biomd_reac_time.keys()]\n",
    "reac_proc_time = [biomd_reac_time[k]/biomd_anotreac_numbers[k] \\\n",
    "                  for k in biomd_reac_time.keys()]\n",
    "ave_biomd_reac_recalls = [biomd_reac_recalls[k] for k in biomd_reac_recalls.keys()]\n",
    "ave_biomd_reac_precs = [biomd_reac_precs[k] for k in biomd_reac_precs.keys()]\n",
    "print(\"Average processing time (per model): %.02f\" % np.mean(model_reac_proc_time))\n",
    "print(\"Average processing time (per element, per model): %.02f\" % np.mean(reac_proc_time))\n",
    "print(\"Average recall (per model): %.02f\" % np.mean(ave_biomd_reac_recalls))\n",
    "print(\"Average precision (per model): %.02f\" % np.mean(ave_biomd_reac_precs))"
   ]
  },
  {
   "cell_type": "code",
   "execution_count": 213,
   "id": "9031b9c7-c29e-4175-9669-b26b349fff7c",
   "metadata": {},
   "outputs": [],
   "source": [
    "# RESULT_DIR = '/Users/woosubs/Desktop/AutomateAnnotation/AMAS_suppl/result_files'\n",
    "# biomd_reac_res = {'biomd_anotreac_numbers': biomd_anotreac_numbers,\n",
    "#                   'biomd_reac_time': biomd_reac_time,\n",
    "#                   'biomd_reac_recalls': biomd_reac_recalls,\n",
    "#                   'biomd_reac_precs': biomd_reac_precs}\n",
    "# compress_pickle.dump(biomd_reac_res,\n",
    "#                      os.path.join(RESULT_DIR, 'biomd_reac_res.lzma'), \n",
    "#                      compression=\"lzma\", set_default_extension=False)"
   ]
  },
  {
   "cell_type": "code",
   "execution_count": 122,
   "id": "1dd793ce-bd7b-4926-a6d2-428ad136425d",
   "metadata": {},
   "outputs": [
    {
     "data": {
      "text/html": [
       "<div>\n",
       "<style scoped>\n",
       "    .dataframe tbody tr th:only-of-type {\n",
       "        vertical-align: middle;\n",
       "    }\n",
       "\n",
       "    .dataframe tbody tr th {\n",
       "        vertical-align: top;\n",
       "    }\n",
       "\n",
       "    .dataframe thead th {\n",
       "        text-align: right;\n",
       "    }\n",
       "</style>\n",
       "<table border=\"1\" class=\"dataframe\">\n",
       "  <thead>\n",
       "    <tr style=\"text-align: right;\">\n",
       "      <th></th>\n",
       "      <th>recall</th>\n",
       "      <th>precision</th>\n",
       "    </tr>\n",
       "  </thead>\n",
       "  <tbody>\n",
       "    <tr>\n",
       "      <th>BIOMD0000000003.xml</th>\n",
       "      <td>0.0</td>\n",
       "      <td>0.0</td>\n",
       "    </tr>\n",
       "    <tr>\n",
       "      <th>BIOMD0000000004.xml</th>\n",
       "      <td>0.0</td>\n",
       "      <td>0.0</td>\n",
       "    </tr>\n",
       "    <tr>\n",
       "      <th>BIOMD0000000005.xml</th>\n",
       "      <td>0.0</td>\n",
       "      <td>0.0</td>\n",
       "    </tr>\n",
       "    <tr>\n",
       "      <th>BIOMD0000000007.xml</th>\n",
       "      <td>1.0</td>\n",
       "      <td>0.0</td>\n",
       "    </tr>\n",
       "    <tr>\n",
       "      <th>BIOMD0000000009.xml</th>\n",
       "      <td>0.0</td>\n",
       "      <td>0.0</td>\n",
       "    </tr>\n",
       "  </tbody>\n",
       "</table>\n",
       "</div>"
      ],
      "text/plain": [
       "                     recall  precision\n",
       "BIOMD0000000003.xml     0.0        0.0\n",
       "BIOMD0000000004.xml     0.0        0.0\n",
       "BIOMD0000000005.xml     0.0        0.0\n",
       "BIOMD0000000007.xml     1.0        0.0\n",
       "BIOMD0000000009.xml     0.0        0.0"
      ]
     },
     "execution_count": 122,
     "metadata": {},
     "output_type": "execute_result"
    }
   ],
   "source": [
    "df_ave_biomd_reac_results = pd.DataFrame.from_records([biomd_reac_recalls, biomd_reac_precs],\n",
    "                                                     index=['recall', 'precision']).T\n",
    "df_ave_biomd_reac_results.head()"
   ]
  },
  {
   "cell_type": "markdown",
   "id": "0cf7ef52-3fe1-4d5f-9cb7-e6c82e96ea77",
   "metadata": {},
   "source": [
    "## BiGG Statistics (recall & precision)"
   ]
  },
  {
   "cell_type": "code",
   "execution_count": 103,
   "id": "afb10b8c-d205-4316-b621-684f7421af8d",
   "metadata": {},
   "outputs": [
    {
     "name": "stdout",
     "output_type": "stream",
     "text": [
      "We are at 0.\n",
      "We are at 10.\n",
      "We are at 20.\n",
      "We are at 30.\n",
      "We are at 40.\n",
      "We are at 50.\n",
      "We are at 60.\n",
      "We are at 70.\n",
      "We are at 80.\n",
      "We are at 90.\n",
      "We are at 100.\n",
      "\n",
      "\n",
      "<BiGG Species>\n",
      "Number of models assessed: 108\n",
      "Average processing time (per model): 34.88\n",
      "Average processing time (per element, per model): 0.03\n",
      "Average recall (per model): 0.85\n",
      "Average precision (per model): 0.80\n"
     ]
    }
   ],
   "source": [
    "# BiGG; for species!? \n",
    "bigg_anotspec_numbers = dict()\n",
    "bigg_spec_time = dict()\n",
    "bigg_spec_recalls = dict()\n",
    "bigg_spec_precs = dict()\n",
    "\n",
    "for idx, one_bigg in enumerate(biggs):\n",
    "  if idx % 10 == 0:\n",
    "    print(\"We are at %d.\" % idx)\n",
    "  one_fpath = os.path.join(BIGG_DIR, one_bigg)\n",
    "  recom = recommender.Recommender(libsbml_fpath=one_fpath)\n",
    "  specs2eval = list(recom.species.exist_annotation_formula.keys())\n",
    "  # make recommendations (compute time)\n",
    "  time1 = time.time()\n",
    "  recoms = recom.getSpeciesListAnnotation(pred_ids=specs2eval)\n",
    "  time2 = time.time()\n",
    "  recom_stats = recom.getSpeciesStatistics(model_mean=True)\n",
    "  ave_recall = recom_stats[cn.RECALL]\n",
    "  ave_precision = recom_stats[cn.PRECISION]\n",
    "  # collect information\n",
    "    \n",
    "  bigg_anotspec_numbers[one_bigg] = len(specs2eval)\n",
    "  bigg_spec_time[one_bigg] = time2 - time1\n",
    "  bigg_spec_recalls[one_bigg] = ave_recall\n",
    "  bigg_spec_precs[one_bigg] = ave_precision\n",
    "    \n",
    "print(\"\\n\\n<BiGG Species>\")\n",
    "print(\"Number of models assessed: %d\" % (idx+1))\n",
    "model_proc_time = [bigg_spec_time[k] for k in bigg_spec_time.keys()]\n",
    "spec_proc_time = [bigg_spec_time[k]/bigg_anotspec_numbers[k] \\\n",
    "                  for k in bigg_spec_time.keys()]\n",
    "ave_bigg_spec_recalls = [bigg_spec_recalls[k] for k in bigg_spec_recalls.keys()]\n",
    "ave_bigg_spec_precs = [bigg_spec_precs[k] for k in bigg_spec_precs.keys()]\n",
    "print(\"Average processing time (per model): %.02f\" % np.mean(model_proc_time))\n",
    "print(\"Average processing time (per element, per model): %.02f\" % np.mean(spec_proc_time))\n",
    "print(\"Average recall (per model): %.02f\" % np.mean(ave_bigg_spec_recalls))\n",
    "print(\"Average precision (per model): %.02f\" % np.mean(ave_bigg_spec_precs))"
   ]
  },
  {
   "cell_type": "code",
   "execution_count": 121,
   "id": "abee741b-f804-4d36-a03f-44ae9a7ad732",
   "metadata": {},
   "outputs": [],
   "source": [
    "# plt.hist(ave_bigg_spec_recalls)"
   ]
  },
  {
   "cell_type": "code",
   "execution_count": 134,
   "id": "ee50c61b-404e-4bd3-b8e8-5df8cb4aa1e4",
   "metadata": {},
   "outputs": [
    {
     "data": {
      "text/html": [
       "<div>\n",
       "<style scoped>\n",
       "    .dataframe tbody tr th:only-of-type {\n",
       "        vertical-align: middle;\n",
       "    }\n",
       "\n",
       "    .dataframe tbody tr th {\n",
       "        vertical-align: top;\n",
       "    }\n",
       "\n",
       "    .dataframe thead th {\n",
       "        text-align: right;\n",
       "    }\n",
       "</style>\n",
       "<table border=\"1\" class=\"dataframe\">\n",
       "  <thead>\n",
       "    <tr style=\"text-align: right;\">\n",
       "      <th></th>\n",
       "      <th>recall</th>\n",
       "      <th>precision</th>\n",
       "    </tr>\n",
       "  </thead>\n",
       "  <tbody>\n",
       "    <tr>\n",
       "      <th>iCHOv1.xml</th>\n",
       "      <td>0.808</td>\n",
       "      <td>0.780</td>\n",
       "    </tr>\n",
       "    <tr>\n",
       "      <th>iYL1228.xml</th>\n",
       "      <td>0.868</td>\n",
       "      <td>0.825</td>\n",
       "    </tr>\n",
       "    <tr>\n",
       "      <th>iIS312.xml</th>\n",
       "      <td>0.732</td>\n",
       "      <td>0.660</td>\n",
       "    </tr>\n",
       "    <tr>\n",
       "      <th>iSDY_1059.xml</th>\n",
       "      <td>0.864</td>\n",
       "      <td>0.819</td>\n",
       "    </tr>\n",
       "    <tr>\n",
       "      <th>iEC1356_Bl21DE3.xml</th>\n",
       "      <td>0.867</td>\n",
       "      <td>0.825</td>\n",
       "    </tr>\n",
       "  </tbody>\n",
       "</table>\n",
       "</div>"
      ],
      "text/plain": [
       "                     recall  precision\n",
       "iCHOv1.xml            0.808      0.780\n",
       "iYL1228.xml           0.868      0.825\n",
       "iIS312.xml            0.732      0.660\n",
       "iSDY_1059.xml         0.864      0.819\n",
       "iEC1356_Bl21DE3.xml   0.867      0.825"
      ]
     },
     "execution_count": 134,
     "metadata": {},
     "output_type": "execute_result"
    }
   ],
   "source": [
    "df_ave_bigg_spec_results = pd.DataFrame.from_records([bigg_spec_recalls, bigg_spec_precs],\n",
    "                                                     index=['recall', 'precision']).T\n",
    "df_ave_bigg_spec_results.head()"
   ]
  },
  {
   "cell_type": "code",
   "execution_count": null,
   "id": "c6e29ec9-5a54-4c5e-8d7b-8f20bdaffccd",
   "metadata": {},
   "outputs": [],
   "source": []
  },
  {
   "cell_type": "code",
   "execution_count": 108,
   "id": "40088460-2176-4e3f-992c-a07bb437e5e7",
   "metadata": {},
   "outputs": [],
   "source": [
    "# RESULT_DIR = '/Users/woosubs/Desktop/AutomateAnnotation/AMAS_suppl/result_files'\n",
    "# bigg_spec_res = {'bigg_anotspec_numbers': bigg_anotspec_numbers,\n",
    "#                  'bigg_spec_time': bigg_spec_time,\n",
    "#                  'bigg_spec_recalls': bigg_spec_recalls,\n",
    "#                  'bigg_spec_precs': bigg_spec_precs}\n",
    "# compress_pickle.dump(bigg_spec_res,\n",
    "#                      os.path.join(RESULT_DIR, 'bigg_spec_res.lzma'), \n",
    "#                      compression=\"lzma\", set_default_extension=False)"
   ]
  },
  {
   "cell_type": "code",
   "execution_count": null,
   "id": "1a6098a4-6f6f-439d-8700-6782766cc4e4",
   "metadata": {},
   "outputs": [],
   "source": []
  },
  {
   "cell_type": "code",
   "execution_count": 104,
   "id": "6de50145-2ba8-4178-b8d4-939398d831a5",
   "metadata": {},
   "outputs": [
    {
     "name": "stdout",
     "output_type": "stream",
     "text": [
      "We are at 0.\n",
      "We are at 10.\n",
      "We are at 20.\n",
      "We are at 30.\n",
      "We are at 40.\n",
      "We are at 50.\n",
      "We are at 60.\n",
      "We are at 70.\n",
      "We are at 80.\n",
      "We are at 90.\n",
      "We are at 100.\n",
      "\n",
      "\n",
      "<BiGG Reactions>\n",
      "Number of models assessed: 108\n",
      "Average processing time (per model): 495.32\n",
      "Average processing time (per element, per model): 0.42\n",
      "Average recall (per model): 0.56\n",
      "Average precision (per model): 0.30\n"
     ]
    }
   ],
   "source": [
    "# BiGG; for reactions!? \n",
    "bigg_anotreac_numbers = dict()\n",
    "bigg_reac_time = dict()\n",
    "bigg_reac_recalls = dict()\n",
    "bigg_reac_precs = dict()\n",
    "\n",
    "for idx, one_bigg in enumerate(biggs):\n",
    "  if idx % 10 == 0:\n",
    "    print(\"We are at %d.\" % idx)\n",
    "  one_fpath = os.path.join(BIGG_DIR, one_bigg)\n",
    "  recom = recommender.Recommender(libsbml_fpath=one_fpath)\n",
    "  reacs2eval = list(recom.reactions.exist_annotation.keys())\n",
    "  # make recommendations (compute time)\n",
    "  time1 = time.time()\n",
    "  recoms = recom.getReactionListAnnotation(pred_ids=reacs2eval)\n",
    "  time2 = time.time()\n",
    "  recom_stats = recom.getReactionStatistics(model_mean=True)\n",
    "  ave_recall = recom_stats[cn.RECALL]\n",
    "  ave_precision = recom_stats[cn.PRECISION]\n",
    "  # collect information\n",
    "    \n",
    "  bigg_anotreac_numbers[one_bigg] = len(reacs2eval)\n",
    "  bigg_reac_time[one_bigg] = time2 - time1\n",
    "  bigg_reac_recalls[one_bigg] = ave_recall\n",
    "  bigg_reac_precs[one_bigg] = ave_precision\n",
    "    \n",
    "print(\"\\n\\n<BiGG Reactions>\")\n",
    "print(\"Number of models assessed: %d\" % (idx+1))\n",
    "model_reac_proc_time = [bigg_reac_time[k] for k in bigg_reac_time.keys()]\n",
    "reac_proc_time = [bigg_reac_time[k]/bigg_anotreac_numbers[k] \\\n",
    "                  for k in bigg_reac_time.keys()]\n",
    "ave_bigg_reac_recalls = [bigg_reac_recalls[k] for k in bigg_reac_recalls.keys()]\n",
    "ave_bigg_reac_precs = [bigg_reac_precs[k] for k in bigg_reac_precs.keys()]\n",
    "print(\"Average processing time (per model): %.02f\" % np.mean(model_reac_proc_time))\n",
    "print(\"Average processing time (per element, per model): %.02f\" % np.mean(reac_proc_time))\n",
    "print(\"Average recall (per model): %.02f\" % np.mean(ave_bigg_reac_recalls))\n",
    "print(\"Average precision (per model): %.02f\" % np.mean(ave_bigg_reac_precs))"
   ]
  },
  {
   "cell_type": "code",
   "execution_count": 107,
   "id": "66ee2470-32a6-42a7-a0dd-6cf9521e6fcc",
   "metadata": {},
   "outputs": [],
   "source": [
    "# RESULT_DIR = '/Users/woosubs/Desktop/AutomateAnnotation/AMAS_suppl/result_files'\n",
    "# bigg_reac_res = {'bigg_anotreac_numbers': bigg_anotreac_numbers,\n",
    "#                  'bigg_reac_time': bigg_reac_time,\n",
    "#                  'bigg_reac_recalls': bigg_reac_recalls,\n",
    "#                  'bigg_reac_precs': bigg_reac_precs}\n",
    "# compress_pickle.dump(bigg_reac_res,\n",
    "#                      os.path.join(RESULT_DIR, 'bigg_reac_res.lzma'), \n",
    "#                      compression=\"lzma\", set_default_extension=False)"
   ]
  },
  {
   "cell_type": "code",
   "execution_count": 133,
   "id": "7e73c4ce-302a-4527-8415-8f4590b97a08",
   "metadata": {},
   "outputs": [
    {
     "data": {
      "text/html": [
       "<div>\n",
       "<style scoped>\n",
       "    .dataframe tbody tr th:only-of-type {\n",
       "        vertical-align: middle;\n",
       "    }\n",
       "\n",
       "    .dataframe tbody tr th {\n",
       "        vertical-align: top;\n",
       "    }\n",
       "\n",
       "    .dataframe thead th {\n",
       "        text-align: right;\n",
       "    }\n",
       "</style>\n",
       "<table border=\"1\" class=\"dataframe\">\n",
       "  <thead>\n",
       "    <tr style=\"text-align: right;\">\n",
       "      <th></th>\n",
       "      <th>recall</th>\n",
       "      <th>precision</th>\n",
       "    </tr>\n",
       "  </thead>\n",
       "  <tbody>\n",
       "    <tr>\n",
       "      <th>iCHOv1.xml</th>\n",
       "      <td>0.497</td>\n",
       "      <td>0.250</td>\n",
       "    </tr>\n",
       "    <tr>\n",
       "      <th>iYL1228.xml</th>\n",
       "      <td>0.547</td>\n",
       "      <td>0.303</td>\n",
       "    </tr>\n",
       "    <tr>\n",
       "      <th>iIS312.xml</th>\n",
       "      <td>0.499</td>\n",
       "      <td>0.252</td>\n",
       "    </tr>\n",
       "    <tr>\n",
       "      <th>iSDY_1059.xml</th>\n",
       "      <td>0.560</td>\n",
       "      <td>0.293</td>\n",
       "    </tr>\n",
       "    <tr>\n",
       "      <th>iEC1356_Bl21DE3.xml</th>\n",
       "      <td>0.561</td>\n",
       "      <td>0.293</td>\n",
       "    </tr>\n",
       "  </tbody>\n",
       "</table>\n",
       "</div>"
      ],
      "text/plain": [
       "                     recall  precision\n",
       "iCHOv1.xml            0.497      0.250\n",
       "iYL1228.xml           0.547      0.303\n",
       "iIS312.xml            0.499      0.252\n",
       "iSDY_1059.xml         0.560      0.293\n",
       "iEC1356_Bl21DE3.xml   0.561      0.293"
      ]
     },
     "execution_count": 133,
     "metadata": {},
     "output_type": "execute_result"
    }
   ],
   "source": [
    "df_ave_bigg_reac_results = pd.DataFrame.from_records([bigg_reac_recalls, bigg_reac_precs],\n",
    "                                   index=['recall', 'precision']).T\n",
    "df_ave_bigg_reac_results.head()"
   ]
  },
  {
   "cell_type": "markdown",
   "id": "caa3416a-f9cd-4286-8673-78140edc09e6",
   "metadata": {},
   "source": [
    "## Save results as csv files to use Excel to create histograms"
   ]
  },
  {
   "cell_type": "code",
   "execution_count": 140,
   "id": "f8e34bdd-2b30-47d2-a0f8-619a60d3037e",
   "metadata": {},
   "outputs": [],
   "source": [
    "FIGURE_DIR = '/Users/woosubs/Desktop/AutomateAnnotation/AMAS_suppl/figure_files'\n",
    "\n",
    "df1 = df_ave_biomd_spec_results\n",
    "df2 = df_ave_biomd_reac_results\n",
    "df3 = df_ave_bigg_spec_results\n",
    "df4 = df_ave_bigg_reac_results\n",
    "\n",
    "# Create a Pandas Excel writer using XlsxWriter as the engine.\n",
    "writer = pd.ExcelWriter(os.path.join(FIGURE_DIR, 'recall_precision.xlsx'), engine='xlsxwriter')\n",
    "\n",
    "# Write each dataframe to a different worksheet.\n",
    "df1.to_excel(writer, sheet_name='biomd_spec')\n",
    "df2.to_excel(writer, sheet_name='biomd_reac')\n",
    "df3.to_excel(writer, sheet_name='bigg_spec')\n",
    "df4.to_excel(writer, sheet_name='bigg_reac')\n",
    "\n",
    "# Close the Pandas Excel writer and output the Excel file.\n",
    "writer.close()"
   ]
  },
  {
   "cell_type": "code",
   "execution_count": 160,
   "id": "66d6687b-9702-4d65-858b-754df7e75ef8",
   "metadata": {},
   "outputs": [
    {
     "data": {
      "text/plain": [
       "(array([[76.,  4.,  5.,  5.,  6., 18.,  6.,  5.,  3.,  1., 19.,  9.,  2.,\n",
       "         16.,  3.,  9.,  9.,  2.,  2., 62.],\n",
       "        [87.,  9., 22., 14., 10., 13., 10.,  9.,  2.,  5., 25.,  9.,  5.,\n",
       "          5.,  1.,  3.,  2.,  7.,  0., 24.]]),\n",
       " array([0.  , 0.05, 0.1 , 0.15, 0.2 , 0.25, 0.3 , 0.35, 0.4 , 0.45, 0.5 ,\n",
       "        0.55, 0.6 , 0.65, 0.7 , 0.75, 0.8 , 0.85, 0.9 , 0.95, 1.  ]),\n",
       " <a list of 2 BarContainer objects>)"
      ]
     },
     "execution_count": 160,
     "metadata": {},
     "output_type": "execute_result"
    },
    {
     "data": {
      "image/png": "[encoded data removed]",
      "text/plain": [
       "<Figure size 640x480 with 1 Axes>"
      ]
     },
     "metadata": {},
     "output_type": "display_data"
    }
   ],
   "source": [
    "fig,ax = plt.subplots()\n",
    "ax.hist(x=df1,bins=20, color=['navy', 'gold'])"
   ]
  },
  {
   "cell_type": "code",
   "execution_count": 208,
   "id": "962b552c-f90e-47f3-ac5b-f7a9844f848a",
   "metadata": {},
   "outputs": [
    {
     "data": {
      "image/png": "[encoded data removed]",
      "text/plain": [
       "<Figure size 640x480 with 1 Axes>"
      ]
     },
     "metadata": {},
     "output_type": "display_data"
    }
   ],
   "source": [
    "plt.xlim([-0.05,1.05])\n",
    "plt.xticks(np.arange(0.0, 1.2, step=0.2))\n",
    "plt.hist(df1['recall'], \n",
    "         alpha=0.6, # the transaparency parameter\n",
    "         label='Recall', bins=20,\n",
    "         color='navy')\n",
    "  \n",
    "plt.hist(df1['precision'],\n",
    "         alpha=0.6,\n",
    "         label='Precision', bins=20,\n",
    "         color='gold')\n",
    "  \n",
    "plt.legend(loc='upper right')\n",
    "# plt.title('BioModels Species')\n",
    "# plt.show()\n",
    "plt.savefig(os.path.join(FIGURE_DIR, 'biomd_spec_hist.png'), dpi=300,\n",
    "            bbox_inches='tight', pad_inches=0.0)"
   ]
  },
  {
   "cell_type": "code",
   "execution_count": 209,
   "id": "aa65bb23-8de2-43c5-b854-0247a5a84772",
   "metadata": {},
   "outputs": [
    {
     "data": {
      "image/png": "[encoded data removed]",
      "text/plain": [
       "<Figure size 640x480 with 1 Axes>"
      ]
     },
     "metadata": {},
     "output_type": "display_data"
    }
   ],
   "source": [
    "plt.xlim([-0.05,1.05])\n",
    "plt.xticks(np.arange(0.0, 1.2, step=0.2))\n",
    "plt.hist(df2['recall'], \n",
    "         alpha=0.6, # the transaparency parameter\n",
    "         label='Recall', bins=12,\n",
    "         color='navy')\n",
    "  \n",
    "plt.hist(df2['precision'],\n",
    "         alpha=0.6,\n",
    "         label='Precision', bins=12,\n",
    "         color='gold')\n",
    "  \n",
    "plt.legend(loc='upper right')\n",
    "# plt.title('BioModels Species')\n",
    "# plt.show()\n",
    "plt.savefig(os.path.join(FIGURE_DIR, 'biomd_reac_hist.png'), dpi=300,\n",
    "            bbox_inches='tight', pad_inches=0.0)"
   ]
  },
  {
   "cell_type": "code",
   "execution_count": 210,
   "id": "c1d70b43-976d-45ef-a09e-0c5c7fbf2523",
   "metadata": {},
   "outputs": [
    {
     "data": {
      "image/png": "[encoded data removed]",
      "text/plain": [
       "<Figure size 640x480 with 1 Axes>"
      ]
     },
     "metadata": {},
     "output_type": "display_data"
    }
   ],
   "source": [
    "plt.xlim([-0.05,1.05])\n",
    "plt.xticks(np.arange(0.0, 1.2, step=0.2))\n",
    "plt.hist(df3['recall'], \n",
    "         alpha=0.6, # the transaparency parameter\n",
    "         label='Recall', bins=5,\n",
    "         color='navy')\n",
    "  \n",
    "plt.hist(df3['precision'],\n",
    "         alpha=0.6,\n",
    "         label='Precision', bins=5,\n",
    "         color='gold')\n",
    "  \n",
    "plt.legend(loc='upper left')\n",
    "# plt.show()\n",
    "plt.savefig(os.path.join(FIGURE_DIR, 'bigg_spec_hist.png'), dpi=300,\n",
    "            bbox_inches='tight', pad_inches=0.0)"
   ]
  },
  {
   "cell_type": "code",
   "execution_count": 211,
   "id": "878721d1-d7e1-4449-acae-07eb416af0df",
   "metadata": {
    "tags": []
   },
   "outputs": [
    {
     "data": {
      "image/png": "[encoded data removed]",
      "text/plain": [
       "<Figure size 640x480 with 1 Axes>"
      ]
     },
     "metadata": {},
     "output_type": "display_data"
    }
   ],
   "source": [
    "plt.xlim([-0.05,1.05])\n",
    "plt.xticks(np.arange(0.0, 1.2, step=0.2))\n",
    "plt.hist(df4['recall'], \n",
    "         alpha=0.6, # the transaparency parameter\n",
    "         label='Recall', bins=5,\n",
    "         color='navy')\n",
    "  \n",
    "plt.hist(df4['precision'],\n",
    "         alpha=0.6,\n",
    "         label='Precision', bins=5,\n",
    "         color='gold')\n",
    "  \n",
    "plt.legend(loc='upper left')\n",
    "# plt.show()\n",
    "plt.savefig(os.path.join(FIGURE_DIR, 'bigg_reac_hist.png'), dpi=300,\n",
    "            bbox_inches='tight', pad_inches=0.0)"
   ]
  },
  {
   "cell_type": "code",
   "execution_count": null,
   "id": "18836a85-0208-4b75-a81a-225e3f539213",
   "metadata": {},
   "outputs": [],
   "source": []
  }
 ],
 "metadata": {
  "kernelspec": {
   "display_name": "Python 3 (ipykernel)",
   "language": "python",
   "name": "python3"
  },
  "language_info": {
   "codemirror_mode": {
    "name": "ipython",
    "version": 3
   },
   "file_extension": ".py",
   "mimetype": "text/x-python",
   "name": "python",
   "nbconvert_exporter": "python",
   "pygments_lexer": "ipython3",
   "version": "3.9.15"
  }
 },
 "nbformat": 4,
 "nbformat_minor": 5
}
