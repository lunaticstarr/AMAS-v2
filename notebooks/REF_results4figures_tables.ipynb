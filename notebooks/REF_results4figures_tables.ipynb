{
 "cells": [
  {
   "cell_type": "code",
   "execution_count": 1,
   "id": "b00b25d2-1038-4d53-9e4c-a1e9758f0a22",
   "metadata": {},
   "outputs": [],
   "source": [
    "# Collect data for figures and tables\n",
    "import collections\n",
    "\n",
    "import compress_pickle\n",
    "import itertools\n",
    "import libsbml\n",
    "import numpy as np\n",
    "import os\n",
    "import pickle\n",
    "import pandas as pd\n",
    "import sys\n",
    "import time\n",
    "import matplotlib.pyplot as plt\n",
    "%matplotlib inline  \n",
    "\n",
    "BIOMD_12 = 'BIOMD0000000012.xml'\n",
    "BASE_DIR = '/Users/woosubs/Desktop/AutomateAnnotation/'\n",
    "DATA_DIR = os.path.join(BASE_DIR, \"DATA\")\n",
    "ALGO_DIR = os.path.join(DATA_DIR, \"algo\")\n",
    "CHEBI_DIR = os.path.join(DATA_DIR, \"chebi\")\n",
    "RHEA_DIR = os.path.join(DATA_DIR, \"rhea\")\n",
    "BIOMODEL_DIR = os.path.join(DATA_DIR, \"biomodels/curated_biomodels_31mar2021\")\n",
    "BIGG_DIR = '/Users/woosubs/Desktop/AutomateAnnotation/DATA/bigg'\n",
    "ecoli_fpath = os.path.join(BIGG_DIR, \"e_coli_core.xml\")\n",
    "\n",
    "PROJ_DIR = os.path.join(os.getcwd(), os.pardir)\n",
    "AMAS_DIR = os.path.join(PROJ_DIR, \"AMAS\")\n",
    "sys.path.append(PROJ_DIR)\n",
    "\n",
    "SUPPL_DIR = os.path.join(PROJ_DIR, os.pardir, \"AMAS_suppl\")\n",
    "ACCURACY_DIR = os.path.join(SUPPL_DIR, \"data_for_credibility\")\n",
    "\n",
    "from AMAS import species_annotation as sa\n",
    "from AMAS import reaction_annotation as ra\n",
    "from AMAS import recommender\n",
    "from AMAS import constants as cn\n",
    "from AMAS import iterator as it\n",
    "from AMAS import tools"
   ]
  },
  {
   "cell_type": "code",
   "execution_count": 2,
   "id": "1a1f4c76-344d-4560-82e2-c8d2856db865",
   "metadata": {},
   "outputs": [],
   "source": [
    "E_COLI_PATH = os.path.join(cn.TEST_DIR, 'e_coli_core.xml')\n",
    "recom = recommender.Recommender(libsbml_fpath=E_COLI_PATH)"
   ]
  },
  {
   "cell_type": "code",
   "execution_count": 3,
   "id": "47df9ac2-2485-4227-bc68-34f9ae0200e0",
   "metadata": {},
   "outputs": [],
   "source": [
    "########## Result Table 1. ######################\n",
    "#################################################\n",
    "\n",
    "\n",
    "# TODO: first, get number of biomodels with annotations, \n",
    "# each for species and reactions; and for biomodels and BiGG\n",
    "\n",
    "#################################################\n",
    "# using csv data obtained from REF_ML, get\n",
    "# 1. list (number) of (bio)models; numbers of total species/reactions\n",
    "# 2. numbers of annotated species/reactions\n",
    "#################################################\n",
    "\n",
    "#################################################\n",
    "# using csv data obtained from REF_ML, get\n",
    "# 1. Prediction time (of the same biomodels)\n",
    "# 2. Recall\n",
    "# 3. Precision\n",
    "#################################################\n",
    "\n",
    "\n",
    "#################################################\n",
    "# Can repeat this for BiGG models :) \n",
    "# But for BiGG, need to collect information again. \n",
    "#################################################"
   ]
  },
  {
   "cell_type": "code",
   "execution_count": 4,
   "id": "7d417cef-2329-4a78-b16c-d4dbe55974d6",
   "metadata": {},
   "outputs": [
    {
     "data": {
      "text/html": [
       "<div>\n",
       "<style scoped>\n",
       "    .dataframe tbody tr th:only-of-type {\n",
       "        vertical-align: middle;\n",
       "    }\n",
       "\n",
       "    .dataframe tbody tr th {\n",
       "        vertical-align: top;\n",
       "    }\n",
       "\n",
       "    .dataframe thead th {\n",
       "        text-align: right;\n",
       "    }\n",
       "</style>\n",
       "<table border=\"1\" class=\"dataframe\">\n",
       "  <thead>\n",
       "    <tr style=\"text-align: right;\">\n",
       "      <th></th>\n",
       "      <th>model</th>\n",
       "      <th>name_length</th>\n",
       "      <th>num_candidates</th>\n",
       "      <th>num_formulas</th>\n",
       "      <th>match_score</th>\n",
       "      <th>accuracy</th>\n",
       "    </tr>\n",
       "  </thead>\n",
       "  <tbody>\n",
       "    <tr>\n",
       "      <th>0</th>\n",
       "      <td>BIOMD0000000634.xml</td>\n",
       "      <td>3</td>\n",
       "      <td>6</td>\n",
       "      <td>5</td>\n",
       "      <td>1.000</td>\n",
       "      <td>1</td>\n",
       "    </tr>\n",
       "    <tr>\n",
       "      <th>1</th>\n",
       "      <td>BIOMD0000000634.xml</td>\n",
       "      <td>3</td>\n",
       "      <td>13</td>\n",
       "      <td>11</td>\n",
       "      <td>1.000</td>\n",
       "      <td>1</td>\n",
       "    </tr>\n",
       "    <tr>\n",
       "      <th>2</th>\n",
       "      <td>BIOMD0000000634.xml</td>\n",
       "      <td>3</td>\n",
       "      <td>14</td>\n",
       "      <td>12</td>\n",
       "      <td>1.000</td>\n",
       "      <td>1</td>\n",
       "    </tr>\n",
       "    <tr>\n",
       "      <th>3</th>\n",
       "      <td>BIOMD0000000152.xml</td>\n",
       "      <td>2</td>\n",
       "      <td>7</td>\n",
       "      <td>5</td>\n",
       "      <td>1.000</td>\n",
       "      <td>1</td>\n",
       "    </tr>\n",
       "    <tr>\n",
       "      <th>4</th>\n",
       "      <td>BIOMD0000000152.xml</td>\n",
       "      <td>15</td>\n",
       "      <td>1</td>\n",
       "      <td>1</td>\n",
       "      <td>0.873</td>\n",
       "      <td>0</td>\n",
       "    </tr>\n",
       "  </tbody>\n",
       "</table>\n",
       "</div>"
      ],
      "text/plain": [
       "                 model  name_length  num_candidates  num_formulas  \\\n",
       "0  BIOMD0000000634.xml            3               6             5   \n",
       "1  BIOMD0000000634.xml            3              13            11   \n",
       "2  BIOMD0000000634.xml            3              14            12   \n",
       "3  BIOMD0000000152.xml            2               7             5   \n",
       "4  BIOMD0000000152.xml           15               1             1   \n",
       "\n",
       "   match_score  accuracy  \n",
       "0        1.000         1  \n",
       "1        1.000         1  \n",
       "2        1.000         1  \n",
       "3        1.000         1  \n",
       "4        0.873         0  "
      ]
     },
     "execution_count": 4,
     "metadata": {},
     "output_type": "execute_result"
    }
   ],
   "source": [
    "spec_ml_df = pd.read_csv(os.path.join(ACCURACY_DIR, 'biomd_individual_species_accuracy.csv'))\n",
    "spec_ml_df.head()"
   ]
  },
  {
   "cell_type": "code",
   "execution_count": 5,
   "id": "d3f6d9d9-771b-4c13-86b7-e6f8a069ea8d",
   "metadata": {},
   "outputs": [
    {
     "name": "stdout",
     "output_type": "stream",
     "text": [
      "Number of Spec Models: 306\n",
      "(running--- We are at 0.)\n",
      "(running--- We are at 100.)\n",
      "(running--- We are at 200.)\n",
      "(running--- We are at 300.)\n",
      "Total number of models with at least one annotation: 306\n",
      "Ave. number of species: 39.89\n",
      "Ave. number of annotated species: 16.02\n"
     ]
    }
   ],
   "source": [
    "spec_biomodels = np.unique(spec_ml_df['model'])\n",
    "print(\"Number of Spec Models: %d\" % len(spec_biomodels))\n",
    "num_specs = dict()\n",
    "num_spec_anoted = dict(collections.Counter(spec_ml_df['model']))\n",
    "for idx, one_biomd in enumerate(spec_biomodels):\n",
    "  if idx % 100 == 0:\n",
    "    print(\"(running--- We are at %d.)\" % idx)\n",
    "  one_fpath = os.path.join(BIOMODEL_DIR, one_biomd)\n",
    "  reader = libsbml.SBMLReader()\n",
    "  document = reader.readSBML(one_fpath)\n",
    "  model = document.getModel()\n",
    "  num_specs[one_biomd] = model.getNumSpecies()\n",
    "###\n",
    "\n",
    "num_models = len(spec_biomodels)\n",
    "print(\"Total number of models with at least one annotation: %d\" % num_models)\n",
    "#\n",
    "ave_num_specs = np.mean([num_specs[k] for k in num_specs.keys()])\n",
    "print(\"Ave. number of species: %.02f\" % ave_num_specs)\n",
    "#\n",
    "ave_num_annoted_specs = np.mean([num_spec_anoted[k] for k in num_spec_anoted.keys()])\n",
    "print(\"Ave. number of annotated species: %.02f\" % ave_num_annoted_specs)"
   ]
  },
  {
   "cell_type": "code",
   "execution_count": null,
   "id": "37d75b4e-85f3-4cc5-bee6-fa55808f5df7",
   "metadata": {},
   "outputs": [],
   "source": []
  },
  {
   "cell_type": "code",
   "execution_count": 6,
   "id": "ab222ae4-f865-4bdd-bf32-6d3f25c3b403",
   "metadata": {},
   "outputs": [],
   "source": [
    "reac_ml_df = pd.read_csv(os.path.join(ACCURACY_DIR, 'biomd_individual_reactions_accuracy.csv'))"
   ]
  },
  {
   "cell_type": "code",
   "execution_count": 7,
   "id": "3203a9c5-39bf-42a1-ba9d-3245bb64e363",
   "metadata": {},
   "outputs": [
    {
     "name": "stdout",
     "output_type": "stream",
     "text": [
      "Total number of models with at least one annotation: 131\n",
      "(running--- We are at 0.)\n",
      "(running--- We are at 100.)\n",
      "Ave. number of reactions: 42.64\n",
      "Ave. number of annotated reactions: 16.70\n"
     ]
    }
   ],
   "source": [
    "reac_biomodels = np.unique(reac_ml_df['model'])\n",
    "print(\"Total number of models with at least one annotation: %d\" % len(reac_biomodels))\n",
    "#\n",
    "num_reacs = dict()\n",
    "num_reac_anoted = dict(collections.Counter(reac_ml_df['model']))\n",
    "for idx, one_biomd in enumerate(reac_biomodels):\n",
    "  if idx % 100 == 0:\n",
    "    print(\"(running--- We are at %d.)\" % idx)\n",
    "  one_fpath = os.path.join(BIOMODEL_DIR, one_biomd)\n",
    "  reader = libsbml.SBMLReader()\n",
    "  document = reader.readSBML(one_fpath)\n",
    "  model = document.getModel()\n",
    "  num_reacs[one_biomd] = model.getNumReactions()\n",
    "#\n",
    "ave_num_reacs = np.mean([num_reacs[k] for k in num_reacs.keys()])\n",
    "print(\"Ave. number of reactions: %.02f\" % ave_num_reacs)\n",
    "#\n",
    "ave_num_annoted_reacs = np.mean([num_reac_anoted[k] for k in num_reac_anoted.keys()])\n",
    "print(\"Ave. number of annotated reactions: %.02f\" % ave_num_annoted_reacs)"
   ]
  },
  {
   "cell_type": "code",
   "execution_count": 8,
   "id": "4e4d794a-0b1d-41f4-b045-21130b56dd8d",
   "metadata": {},
   "outputs": [
    {
     "data": {
      "text/plain": [
       "83"
      ]
     },
     "execution_count": 8,
     "metadata": {},
     "output_type": "execute_result"
    }
   ],
   "source": [
    "# To make sure that the two sets (look very similar)\n",
    "# are actually different :) \n",
    "len(set(reac_biomodels).intersection(spec_biomodels))"
   ]
  },
  {
   "cell_type": "code",
   "execution_count": null,
   "id": "d5c15a3f-3022-43ac-84e5-1a5c2b320d58",
   "metadata": {},
   "outputs": [],
   "source": []
  },
  {
   "cell_type": "code",
   "execution_count": 9,
   "id": "b13c9463-4455-46dd-95c7-31a4c9424086",
   "metadata": {},
   "outputs": [],
   "source": [
    "# Next, we do the same thing with BiGG models;\n",
    "# only thing is that this time, it also needs to collect the number of\n",
    "# annotated reactions and sepcies as well; "
   ]
  },
  {
   "cell_type": "code",
   "execution_count": 10,
   "id": "9c9076f7-e113-4576-b85a-885859f788ba",
   "metadata": {},
   "outputs": [],
   "source": [
    "biggs = [val for val in os.listdir(BIGG_DIR) if val[-4:]=='.xml']"
   ]
  },
  {
   "cell_type": "code",
   "execution_count": 11,
   "id": "fdcba391-b875-468c-9543-2f2a6bb413b5",
   "metadata": {},
   "outputs": [
    {
     "data": {
      "text/plain": [
       "108"
      ]
     },
     "execution_count": 11,
     "metadata": {},
     "output_type": "execute_result"
    }
   ],
   "source": [
    "len(biggs)"
   ]
  },
  {
   "cell_type": "code",
   "execution_count": 12,
   "id": "92aecb40-372f-4a3e-b810-bb6dcfce4dca",
   "metadata": {},
   "outputs": [
    {
     "name": "stdout",
     "output_type": "stream",
     "text": [
      "We are at 0.\n",
      "We are at 10.\n",
      "We are at 20.\n",
      "We are at 30.\n",
      "We are at 40.\n",
      "We are at 50.\n",
      "We are at 60.\n",
      "We are at 70.\n",
      "We are at 80.\n",
      "We are at 90.\n",
      "We are at 100.\n",
      "Total number of BiGG models with at least one Species annotation: 108\n",
      "Ave. number of species: 1674.09\n",
      "Ave. number of annotated species: 1233.64\n",
      "Total number of BiGG models with at least one Reactions annotation: 108\n",
      "Ave. number of reactions: 2328.00\n",
      "Ave. number of annotated reactions: 1119.92\n"
     ]
    }
   ],
   "source": [
    "# models with annotations\n",
    "spec_biggs = []\n",
    "reac_biggs = []\n",
    "# numbers of total elements\n",
    "num_specs = dict()\n",
    "num_reacs = dict()\n",
    "# numbers of annotated elements\n",
    "num_annotated_specs = dict()\n",
    "num_annotated_reacs = dict()\n",
    "\n",
    "for idx, one_bigg in enumerate(biggs):\n",
    "  if idx % 10 == 0:\n",
    "    print(\"We are at %d.\" % idx)\n",
    "  one_fpath = os.path.join(BIGG_DIR, one_bigg)\n",
    "\n",
    "  recom = recommender.Recommender(libsbml_fpath=one_fpath)\n",
    "  reader = libsbml.SBMLReader()\n",
    "  document = reader.readSBML(one_fpath)\n",
    "  model = document.getModel()\n",
    "  num_spec_annotations = len(recom.species.exist_annotation_formula.keys())\n",
    "  num_reac_annotations = len(recom.reactions.exist_annotation.keys())\n",
    "  # assess if model has annotation\n",
    "  if num_spec_annotations > 0:\n",
    "    spec_biggs.append(one_bigg)\n",
    "    num_specs[one_bigg] = model.getNumSpecies()\n",
    "    num_annotated_specs[one_bigg] = num_spec_annotations\n",
    "  if num_reac_annotations > 0:\n",
    "    reac_biggs.append(one_bigg)\n",
    "    num_reacs[one_bigg] = model.getNumReactions()\n",
    "    num_annotated_reacs[one_bigg] = num_reac_annotations\n",
    "    \n",
    "print(\"Total number of BiGG models with at least one Species annotation: %d\" % len(spec_biggs))\n",
    "#\n",
    "ave_num_specs = np.mean([num_specs[k] for k in num_specs.keys()])\n",
    "print(\"Ave. number of species: %.02f\" % ave_num_specs)\n",
    "#\n",
    "ave_num_annoted_specs = np.mean([num_annotated_specs[k] for k in num_annotated_specs.keys()])\n",
    "print(\"Ave. number of annotated species: %.02f\" % ave_num_annoted_specs)    \n",
    "\n",
    "print(\"Total number of BiGG models with at least one Reactions annotation: %d\" % len(reac_biggs))\n",
    "#\n",
    "ave_num_reacs = np.mean([num_reacs[k] for k in num_reacs.keys()])\n",
    "print(\"Ave. number of reactions: %.02f\" % ave_num_reacs)\n",
    "#\n",
    "ave_num_annoted_reacs = np.mean([num_annotated_reacs[k] for k in num_annotated_reacs.keys()])\n",
    "print(\"Ave. number of annotated reactions: %.02f\" % ave_num_annoted_reacs)  "
   ]
  },
  {
   "cell_type": "code",
   "execution_count": null,
   "id": "3919e826-5957-4fad-b6c0-32c799c52e6f",
   "metadata": {},
   "outputs": [],
   "source": []
  },
  {
   "cell_type": "code",
   "execution_count": null,
   "id": "88c5c485-bf44-4586-9d56-d04a8c343a18",
   "metadata": {},
   "outputs": [],
   "source": []
  },
  {
   "cell_type": "markdown",
   "id": "22dcf222-689f-4d17-9174-cdfa0855b4d6",
   "metadata": {},
   "source": [
    "## BioModels Statistics (recall & precision) ##"
   ]
  },
  {
   "cell_type": "code",
   "execution_count": 21,
   "id": "70d4cbc5-9bc4-43e7-af8f-0ae5b8728105",
   "metadata": {},
   "outputs": [
    {
     "name": "stdout",
     "output_type": "stream",
     "text": [
      "We are at 0.\n",
      "We are at 50.\n",
      "We are at 100.\n",
      "We are at 150.\n",
      "We are at 200.\n",
      "We are at 250.\n",
      "We are at 300.\n",
      "\n",
      "\n",
      "<BioModels Species>\n",
      "Number of models assessed: 306\n",
      "Average processing time (per model): 0.38\n",
      "Average processing time (per element, per model): 0.02\n",
      "Average recall (per model): 0.48\n",
      "Average precision (per model): 0.31\n",
      "Average match score (per model): 0.97\n"
     ]
    }
   ],
   "source": [
    "# BioModels; for species!? \n",
    "biomd_anotspec_numbers = dict()\n",
    "biomd_spec_time = dict()\n",
    "biomd_spec_recalls = dict()\n",
    "biomd_spec_precs = dict()\n",
    "biomd_spec_match_scores = dict()\n",
    "\n",
    "for idx, one_biomd in enumerate(spec_biomodels):\n",
    "  if idx % 50 == 0:\n",
    "    print(\"We are at %d.\" % idx)\n",
    "  one_fpath = os.path.join(BIOMODEL_DIR, one_biomd)\n",
    "  recom = recommender.Recommender(libsbml_fpath=one_fpath)\n",
    "  specs2eval = list(recom.species.exist_annotation_formula.keys())\n",
    "  # make recommendations (compute time)\n",
    "  time1 = time.time()\n",
    "  recoms = recom.getSpeciesListRecommendation(pred_ids=specs2eval)\n",
    "  time2 = time.time()\n",
    "  recom_stats = recom.getSpeciesStatistics(model_mean=True)\n",
    "  ave_recall = recom_stats[cn.RECALL]\n",
    "  ave_precision = recom_stats[cn.PRECISION]\n",
    "  # collect information\n",
    "    \n",
    "  biomd_anotspec_numbers[one_biomd] = len(specs2eval)\n",
    "  biomd_spec_time[one_biomd] = time2 - time1\n",
    "  biomd_spec_recalls[one_biomd] = ave_recall\n",
    "  biomd_spec_precs[one_biomd] = ave_precision\n",
    "  # mean of average match scores\n",
    "  biomd_spec_match_scores[one_biomd] = np.mean([np.mean([val[1] for val in rec.candidates]) for rec in recoms])\n",
    "    \n",
    "print(\"\\n\\n<BioModels Species>\")\n",
    "print(\"Number of models assessed: %d\" % (idx+1))\n",
    "model_proc_time = [biomd_spec_time[k] for k in biomd_spec_time.keys()]\n",
    "spec_proc_time = [biomd_spec_time[k]/biomd_anotspec_numbers[k] \\\n",
    "                  for k in biomd_spec_time.keys()]\n",
    "ave_biomd_spec_recalls = [biomd_spec_recalls[k] for k in biomd_spec_recalls.keys()]\n",
    "ave_biomd_spec_precs = [biomd_spec_precs[k] for k in biomd_spec_precs.keys()]\n",
    "ave_biomd_spec_match_scores = [biomd_spec_match_scores[k] for k in biomd_spec_match_scores.keys()]\n",
    "print(\"Average processing time (per model): %.02f\" % np.mean(model_proc_time))\n",
    "print(\"Average processing time (per element, per model): %.02f\" % np.mean(spec_proc_time))\n",
    "print(\"Average recall (per model): %.02f\" % np.mean(ave_biomd_spec_recalls))\n",
    "print(\"Average precision (per model): %.02f\" % np.mean(ave_biomd_spec_precs))\n",
    "print(\"Average match score (per model): %.02f\" % np.mean(ave_biomd_spec_match_scores))"
   ]
  },
  {
   "cell_type": "code",
   "execution_count": 24,
   "id": "a111dfd8-519b-45a3-97a4-d7bf12cab2d9",
   "metadata": {},
   "outputs": [],
   "source": [
    "# RESULT_DIR = '/Users/woosubs/Desktop/AutomateAnnotation/AMAS_suppl/result_files'\n",
    "# biomd_spec_res = {'biomd_anotspec_numbers': biomd_anotspec_numbers,\n",
    "#                   'biomd_spec_time': biomd_spec_time,\n",
    "#                   'biomd_spec_recalls': biomd_spec_recalls,\n",
    "#                   'biomd_spec_precs': biomd_spec_precs,\n",
    "#                   'biomd_spec_match_scores': biomd_spec_match_scores}\n",
    "# compress_pickle.dump(biomd_spec_res,\n",
    "#                      os.path.join(RESULT_DIR, 'biomd_spec_res.lzma'), \n",
    "#                      compression=\"lzma\", set_default_extension=False)"
   ]
  },
  {
   "cell_type": "code",
   "execution_count": 22,
   "id": "19430ff5-d4ea-499e-8db2-923251b51126",
   "metadata": {},
   "outputs": [
    {
     "data": {
      "text/html": [
       "<div>\n",
       "<style scoped>\n",
       "    .dataframe tbody tr th:only-of-type {\n",
       "        vertical-align: middle;\n",
       "    }\n",
       "\n",
       "    .dataframe tbody tr th {\n",
       "        vertical-align: top;\n",
       "    }\n",
       "\n",
       "    .dataframe thead th {\n",
       "        text-align: right;\n",
       "    }\n",
       "</style>\n",
       "<table border=\"1\" class=\"dataframe\">\n",
       "  <thead>\n",
       "    <tr style=\"text-align: right;\">\n",
       "      <th></th>\n",
       "      <th>recall</th>\n",
       "      <th>precision</th>\n",
       "      <th>match score</th>\n",
       "    </tr>\n",
       "  </thead>\n",
       "  <tbody>\n",
       "    <tr>\n",
       "      <th>BIOMD0000000002.xml</th>\n",
       "      <td>1.000</td>\n",
       "      <td>0.500</td>\n",
       "      <td>1.000000</td>\n",
       "    </tr>\n",
       "    <tr>\n",
       "      <th>BIOMD0000000013.xml</th>\n",
       "      <td>0.091</td>\n",
       "      <td>0.061</td>\n",
       "      <td>0.872409</td>\n",
       "    </tr>\n",
       "    <tr>\n",
       "      <th>BIOMD0000000015.xml</th>\n",
       "      <td>1.000</td>\n",
       "      <td>1.000</td>\n",
       "      <td>1.000000</td>\n",
       "    </tr>\n",
       "    <tr>\n",
       "      <th>BIOMD0000000017.xml</th>\n",
       "      <td>0.588</td>\n",
       "      <td>0.399</td>\n",
       "      <td>0.988471</td>\n",
       "    </tr>\n",
       "    <tr>\n",
       "      <th>BIOMD0000000018.xml</th>\n",
       "      <td>0.833</td>\n",
       "      <td>0.669</td>\n",
       "      <td>0.991778</td>\n",
       "    </tr>\n",
       "  </tbody>\n",
       "</table>\n",
       "</div>"
      ],
      "text/plain": [
       "                     recall  precision  match score\n",
       "BIOMD0000000002.xml   1.000      0.500     1.000000\n",
       "BIOMD0000000013.xml   0.091      0.061     0.872409\n",
       "BIOMD0000000015.xml   1.000      1.000     1.000000\n",
       "BIOMD0000000017.xml   0.588      0.399     0.988471\n",
       "BIOMD0000000018.xml   0.833      0.669     0.991778"
      ]
     },
     "execution_count": 22,
     "metadata": {},
     "output_type": "execute_result"
    }
   ],
   "source": [
    "df_ave_biomd_spec_results = pd.DataFrame.from_records([biomd_spec_recalls, biomd_spec_precs, biomd_spec_match_scores],\n",
    "                                                      index=['recall', 'precision', 'match score']).T\n",
    "df_ave_biomd_spec_results.head()"
   ]
  },
  {
   "cell_type": "code",
   "execution_count": 23,
   "id": "bd9c9534-2163-46cd-bd57-553e799aa04b",
   "metadata": {},
   "outputs": [],
   "source": [
    "# plt.hist(ave_biomd_spec_recalls)\n",
    "# plt.hist(ave_biomd_spec_precs)"
   ]
  },
  {
   "cell_type": "code",
   "execution_count": 26,
   "id": "5f4fc08c-51b7-43b3-80cb-89abe30a76a2",
   "metadata": {},
   "outputs": [
    {
     "name": "stdout",
     "output_type": "stream",
     "text": [
      "We are at 0.\n",
      "We are at 30.\n",
      "We are at 60.\n",
      "We are at 90.\n",
      "We are at 120.\n",
      "\n",
      "\n",
      "<BioModels Reactions>\n",
      "Number of models assessed: 131\n",
      "Average processing time (per model): 3.99\n",
      "Average processing time (per element, per model): 0.27\n",
      "Average recall (per model): 0.33\n",
      "Average precision (per model): 0.09\n",
      "Average match score (per model): 0.36\n"
     ]
    }
   ],
   "source": [
    "# BioModels; for reactions!? \n",
    "biomd_anotreac_numbers = dict()\n",
    "biomd_reac_time = dict()\n",
    "biomd_reac_recalls = dict()\n",
    "biomd_reac_precs = dict()\n",
    "biomd_reac_match_scores = dict()\n",
    "\n",
    "for idx, one_biomd in enumerate(reac_biomodels):\n",
    "  if idx % 30 == 0:\n",
    "    print(\"We are at %d.\" % idx)\n",
    "  one_fpath = os.path.join(BIOMODEL_DIR, one_biomd)\n",
    "  recom = recommender.Recommender(libsbml_fpath=one_fpath)\n",
    "  reacs2eval = list(recom.reactions.exist_annotation.keys())\n",
    "  # make recommendations (compute time)\n",
    "  time1 = time.time()\n",
    "  recoms = recom.getReactionListRecommendation(pred_ids=reacs2eval)\n",
    "  time2 = time.time()\n",
    "  recom_stats = recom.getReactionStatistics(model_mean=True)\n",
    "  ave_recall = recom_stats[cn.RECALL]\n",
    "  ave_precision = recom_stats[cn.PRECISION]\n",
    "  # collect information\n",
    "    \n",
    "  biomd_anotreac_numbers[one_biomd] = len(reacs2eval)\n",
    "  biomd_reac_time[one_biomd] = time2 - time1\n",
    "  biomd_reac_recalls[one_biomd] = ave_recall\n",
    "  biomd_reac_precs[one_biomd] = ave_precision\n",
    "  biomd_reac_match_scores[one_biomd] = np.mean([np.mean([val[1] for val in rec.candidates]) for rec in recoms])\n",
    "    \n",
    "print(\"\\n\\n<BioModels Reactions>\")\n",
    "print(\"Number of models assessed: %d\" % (idx+1))\n",
    "model_reac_proc_time = [biomd_reac_time[k] for k in biomd_reac_time.keys()]\n",
    "reac_proc_time = [biomd_reac_time[k]/biomd_anotreac_numbers[k] \\\n",
    "                  for k in biomd_reac_time.keys()]\n",
    "ave_biomd_reac_recalls = [biomd_reac_recalls[k] for k in biomd_reac_recalls.keys()]\n",
    "ave_biomd_reac_precs = [biomd_reac_precs[k] for k in biomd_reac_precs.keys()]\n",
    "ave_biomd_reac_match_scores = [biomd_reac_match_scores[k] for k in biomd_reac_match_scores.keys()]\n",
    "print(\"Average processing time (per model): %.02f\" % np.mean(model_reac_proc_time))\n",
    "print(\"Average processing time (per element, per model): %.02f\" % np.mean(reac_proc_time))\n",
    "print(\"Average recall (per model): %.02f\" % np.mean(ave_biomd_reac_recalls))\n",
    "print(\"Average precision (per model): %.02f\" % np.mean(ave_biomd_reac_precs))\n",
    "print(\"Average match score (per model): %.02f\" % np.mean(ave_biomd_reac_match_scores))"
   ]
  },
  {
   "cell_type": "code",
   "execution_count": 29,
   "id": "9031b9c7-c29e-4175-9669-b26b349fff7c",
   "metadata": {},
   "outputs": [],
   "source": [
    "# RESULT_DIR = '/Users/woosubs/Desktop/AutomateAnnotation/AMAS_suppl/result_files'\n",
    "# biomd_reac_res = {'biomd_anotreac_numbers': biomd_anotreac_numbers,\n",
    "#                   'biomd_reac_time': biomd_reac_time,\n",
    "#                   'biomd_reac_recalls': biomd_reac_recalls,\n",
    "#                   'biomd_reac_precs': biomd_reac_precs,\n",
    "#                   'biomd_reac_match_scores': biomd_reac_match_scores}\n",
    "# compress_pickle.dump(biomd_reac_res,\n",
    "#                      os.path.join(RESULT_DIR, 'biomd_reac_res.lzma'), \n",
    "#                      compression=\"lzma\", set_default_extension=False)"
   ]
  },
  {
   "cell_type": "code",
   "execution_count": 27,
   "id": "1dd793ce-bd7b-4926-a6d2-428ad136425d",
   "metadata": {},
   "outputs": [
    {
     "data": {
      "text/html": [
       "<div>\n",
       "<style scoped>\n",
       "    .dataframe tbody tr th:only-of-type {\n",
       "        vertical-align: middle;\n",
       "    }\n",
       "\n",
       "    .dataframe tbody tr th {\n",
       "        vertical-align: top;\n",
       "    }\n",
       "\n",
       "    .dataframe thead th {\n",
       "        text-align: right;\n",
       "    }\n",
       "</style>\n",
       "<table border=\"1\" class=\"dataframe\">\n",
       "  <thead>\n",
       "    <tr style=\"text-align: right;\">\n",
       "      <th></th>\n",
       "      <th>recall</th>\n",
       "      <th>precision</th>\n",
       "      <th>match score</th>\n",
       "    </tr>\n",
       "  </thead>\n",
       "  <tbody>\n",
       "    <tr>\n",
       "      <th>BIOMD0000000003.xml</th>\n",
       "      <td>0.0</td>\n",
       "      <td>0.0</td>\n",
       "      <td>0.242528</td>\n",
       "    </tr>\n",
       "    <tr>\n",
       "      <th>BIOMD0000000004.xml</th>\n",
       "      <td>0.0</td>\n",
       "      <td>0.0</td>\n",
       "      <td>0.233302</td>\n",
       "    </tr>\n",
       "    <tr>\n",
       "      <th>BIOMD0000000005.xml</th>\n",
       "      <td>0.0</td>\n",
       "      <td>0.0</td>\n",
       "      <td>0.246282</td>\n",
       "    </tr>\n",
       "    <tr>\n",
       "      <th>BIOMD0000000007.xml</th>\n",
       "      <td>1.0</td>\n",
       "      <td>0.0</td>\n",
       "      <td>0.000000</td>\n",
       "    </tr>\n",
       "    <tr>\n",
       "      <th>BIOMD0000000009.xml</th>\n",
       "      <td>0.0</td>\n",
       "      <td>0.0</td>\n",
       "      <td>0.246198</td>\n",
       "    </tr>\n",
       "  </tbody>\n",
       "</table>\n",
       "</div>"
      ],
      "text/plain": [
       "                     recall  precision  match score\n",
       "BIOMD0000000003.xml     0.0        0.0     0.242528\n",
       "BIOMD0000000004.xml     0.0        0.0     0.233302\n",
       "BIOMD0000000005.xml     0.0        0.0     0.246282\n",
       "BIOMD0000000007.xml     1.0        0.0     0.000000\n",
       "BIOMD0000000009.xml     0.0        0.0     0.246198"
      ]
     },
     "execution_count": 27,
     "metadata": {},
     "output_type": "execute_result"
    }
   ],
   "source": [
    "df_ave_biomd_reac_results = pd.DataFrame.from_records([biomd_reac_recalls, biomd_reac_precs, biomd_reac_match_scores],\n",
    "                                                     index=['recall', 'precision', 'match score']).T\n",
    "df_ave_biomd_reac_results.head()"
   ]
  },
  {
   "cell_type": "markdown",
   "id": "0cf7ef52-3fe1-4d5f-9cb7-e6c82e96ea77",
   "metadata": {},
   "source": [
    "## BiGG Statistics (recall & precision)"
   ]
  },
  {
   "cell_type": "code",
   "execution_count": 33,
   "id": "afb10b8c-d205-4316-b621-684f7421af8d",
   "metadata": {},
   "outputs": [
    {
     "name": "stdout",
     "output_type": "stream",
     "text": [
      "We are at 0.\n",
      "We are at 10.\n",
      "We are at 20.\n",
      "We are at 30.\n",
      "We are at 40.\n",
      "We are at 50.\n",
      "We are at 60.\n",
      "We are at 70.\n",
      "We are at 80.\n",
      "We are at 90.\n",
      "We are at 100.\n",
      "\n",
      "\n",
      "<BiGG Species>\n",
      "Number of models assessed: 108\n",
      "Average processing time (per model): 44.87\n",
      "Average processing time (per element, per model): 0.04\n",
      "Average recall (per model): 0.85\n",
      "Average precision (per model): 0.80\n",
      "Average match score (per model): 0.98\n"
     ]
    }
   ],
   "source": [
    "# BiGG; for species!? \n",
    "bigg_anotspec_numbers = dict()\n",
    "bigg_spec_time = dict()\n",
    "bigg_spec_recalls = dict()\n",
    "bigg_spec_precs = dict()\n",
    "bigg_spec_match_scores = dict()\n",
    "\n",
    "for idx, one_bigg in enumerate(biggs):\n",
    "  if idx % 10 == 0:\n",
    "    print(\"We are at %d.\" % idx)\n",
    "  one_fpath = os.path.join(BIGG_DIR, one_bigg)\n",
    "  recom = recommender.Recommender(libsbml_fpath=one_fpath)\n",
    "  specs2eval = list(recom.species.exist_annotation_formula.keys())\n",
    "  # make recommendations (compute time)\n",
    "  time1 = time.time()\n",
    "  recoms = recom.getSpeciesListRecommendation(pred_ids=specs2eval)\n",
    "  time2 = time.time()\n",
    "  recom_stats = recom.getSpeciesStatistics(model_mean=True)\n",
    "  ave_recall = recom_stats[cn.RECALL]\n",
    "  ave_precision = recom_stats[cn.PRECISION]\n",
    "  # collect information\n",
    "    \n",
    "  bigg_anotspec_numbers[one_bigg] = len(specs2eval)\n",
    "  bigg_spec_time[one_bigg] = time2 - time1\n",
    "  bigg_spec_recalls[one_bigg] = ave_recall\n",
    "  bigg_spec_precs[one_bigg] = ave_precision\n",
    "  bigg_spec_match_scores[one_bigg] = np.mean([np.mean([val[1] for val in rec.candidates]) for rec in recoms])\n",
    "    \n",
    "print(\"\\n\\n<BiGG Species>\")\n",
    "print(\"Number of models assessed: %d\" % (idx+1))\n",
    "model_proc_time = [bigg_spec_time[k] for k in bigg_spec_time.keys()]\n",
    "spec_proc_time = [bigg_spec_time[k]/bigg_anotspec_numbers[k] \\\n",
    "                  for k in bigg_spec_time.keys()]\n",
    "ave_bigg_spec_recalls = [bigg_spec_recalls[k] for k in bigg_spec_recalls.keys()]\n",
    "ave_bigg_spec_precs = [bigg_spec_precs[k] for k in bigg_spec_precs.keys()]\n",
    "ave_bigg_spec_match_scores = [bigg_spec_match_scores[k] for k in bigg_spec_match_scores.keys()]\n",
    "print(\"Average processing time (per model): %.02f\" % np.mean(model_proc_time))\n",
    "print(\"Average processing time (per element, per model): %.02f\" % np.mean(spec_proc_time))\n",
    "print(\"Average recall (per model): %.02f\" % np.mean(ave_bigg_spec_recalls))\n",
    "print(\"Average precision (per model): %.02f\" % np.mean(ave_bigg_spec_precs))\n",
    "print(\"Average match score (per model): %.02f\" % np.mean(ave_bigg_spec_match_scores))"
   ]
  },
  {
   "cell_type": "code",
   "execution_count": 34,
   "id": "abee741b-f804-4d36-a03f-44ae9a7ad732",
   "metadata": {},
   "outputs": [],
   "source": [
    "# plt.hist(ave_bigg_spec_recalls)"
   ]
  },
  {
   "cell_type": "code",
   "execution_count": 35,
   "id": "ee50c61b-404e-4bd3-b8e8-5df8cb4aa1e4",
   "metadata": {},
   "outputs": [
    {
     "data": {
      "text/html": [
       "<div>\n",
       "<style scoped>\n",
       "    .dataframe tbody tr th:only-of-type {\n",
       "        vertical-align: middle;\n",
       "    }\n",
       "\n",
       "    .dataframe tbody tr th {\n",
       "        vertical-align: top;\n",
       "    }\n",
       "\n",
       "    .dataframe thead th {\n",
       "        text-align: right;\n",
       "    }\n",
       "</style>\n",
       "<table border=\"1\" class=\"dataframe\">\n",
       "  <thead>\n",
       "    <tr style=\"text-align: right;\">\n",
       "      <th></th>\n",
       "      <th>recall</th>\n",
       "      <th>precision</th>\n",
       "      <th>match score</th>\n",
       "    </tr>\n",
       "  </thead>\n",
       "  <tbody>\n",
       "    <tr>\n",
       "      <th>iCHOv1.xml</th>\n",
       "      <td>0.808</td>\n",
       "      <td>0.780</td>\n",
       "      <td>0.978598</td>\n",
       "    </tr>\n",
       "    <tr>\n",
       "      <th>iYL1228.xml</th>\n",
       "      <td>0.868</td>\n",
       "      <td>0.825</td>\n",
       "      <td>0.984927</td>\n",
       "    </tr>\n",
       "    <tr>\n",
       "      <th>iIS312.xml</th>\n",
       "      <td>0.732</td>\n",
       "      <td>0.660</td>\n",
       "      <td>0.967336</td>\n",
       "    </tr>\n",
       "    <tr>\n",
       "      <th>iSDY_1059.xml</th>\n",
       "      <td>0.864</td>\n",
       "      <td>0.819</td>\n",
       "      <td>0.984022</td>\n",
       "    </tr>\n",
       "    <tr>\n",
       "      <th>iEC1356_Bl21DE3.xml</th>\n",
       "      <td>0.867</td>\n",
       "      <td>0.825</td>\n",
       "      <td>0.984620</td>\n",
       "    </tr>\n",
       "  </tbody>\n",
       "</table>\n",
       "</div>"
      ],
      "text/plain": [
       "                     recall  precision  match score\n",
       "iCHOv1.xml            0.808      0.780     0.978598\n",
       "iYL1228.xml           0.868      0.825     0.984927\n",
       "iIS312.xml            0.732      0.660     0.967336\n",
       "iSDY_1059.xml         0.864      0.819     0.984022\n",
       "iEC1356_Bl21DE3.xml   0.867      0.825     0.984620"
      ]
     },
     "execution_count": 35,
     "metadata": {},
     "output_type": "execute_result"
    }
   ],
   "source": [
    "df_ave_bigg_spec_results = pd.DataFrame.from_records([bigg_spec_recalls, bigg_spec_precs, bigg_spec_match_scores],\n",
    "                                                     index=['recall', 'precision', 'match score']).T\n",
    "df_ave_bigg_spec_results.head()"
   ]
  },
  {
   "cell_type": "code",
   "execution_count": 42,
   "id": "c6e29ec9-5a54-4c5e-8d7b-8f20bdaffccd",
   "metadata": {},
   "outputs": [
    {
     "data": {
      "text/plain": [
       "(108, 3)"
      ]
     },
     "execution_count": 42,
     "metadata": {},
     "output_type": "execute_result"
    }
   ],
   "source": [
    "df_ave_bigg_spec_results.shape"
   ]
  },
  {
   "cell_type": "code",
   "execution_count": 38,
   "id": "40088460-2176-4e3f-992c-a07bb437e5e7",
   "metadata": {},
   "outputs": [],
   "source": [
    "RESULT_DIR = '/Users/woosubs/Desktop/AutomateAnnotation/AMAS_suppl/result_files'\n",
    "bigg_spec_res = {'bigg_anotspec_numbers': bigg_anotspec_numbers,\n",
    "                 'bigg_spec_time': bigg_spec_time,\n",
    "                 'bigg_spec_recalls': bigg_spec_recalls,\n",
    "                 'bigg_spec_precs': bigg_spec_precs,\n",
    "                 'bigg_spec_match_scores': bigg_spec_match_scores}\n",
    "compress_pickle.dump(bigg_spec_res,\n",
    "                     os.path.join(RESULT_DIR, 'bigg_spec_res.lzma'), \n",
    "                     compression=\"lzma\", set_default_extension=False)"
   ]
  },
  {
   "cell_type": "code",
   "execution_count": null,
   "id": "1a6098a4-6f6f-439d-8700-6782766cc4e4",
   "metadata": {},
   "outputs": [],
   "source": []
  },
  {
   "cell_type": "code",
   "execution_count": 36,
   "id": "6de50145-2ba8-4178-b8d4-939398d831a5",
   "metadata": {},
   "outputs": [
    {
     "name": "stdout",
     "output_type": "stream",
     "text": [
      "We are at 0.\n",
      "We are at 10.\n",
      "We are at 20.\n",
      "We are at 30.\n",
      "We are at 40.\n",
      "We are at 50.\n",
      "We are at 60.\n",
      "We are at 70.\n",
      "We are at 80.\n",
      "We are at 90.\n",
      "We are at 100.\n",
      "\n",
      "\n",
      "<BiGG Reactions>\n",
      "Number of models assessed: 108\n",
      "Average processing time (per model): 492.88\n",
      "Average processing time (per element, per model): 0.42\n",
      "Average recall (per model): 0.56\n",
      "Average precision (per model): 0.30\n",
      "Average match score (per model): 0.66\n"
     ]
    }
   ],
   "source": [
    "# BiGG; for reactions!? \n",
    "bigg_anotreac_numbers = dict()\n",
    "bigg_reac_time = dict()\n",
    "bigg_reac_recalls = dict()\n",
    "bigg_reac_precs = dict()\n",
    "bigg_reac_match_scores = dict()\n",
    "\n",
    "for idx, one_bigg in enumerate(biggs):\n",
    "  if idx % 10 == 0:\n",
    "    print(\"We are at %d.\" % idx)\n",
    "  one_fpath = os.path.join(BIGG_DIR, one_bigg)\n",
    "  recom = recommender.Recommender(libsbml_fpath=one_fpath)\n",
    "  reacs2eval = list(recom.reactions.exist_annotation.keys())\n",
    "  # make recommendations (compute time)\n",
    "  time1 = time.time()\n",
    "  recoms = recom.getReactionListRecommendation(pred_ids=reacs2eval)\n",
    "  time2 = time.time()\n",
    "  recom_stats = recom.getReactionStatistics(model_mean=True)\n",
    "  ave_recall = recom_stats[cn.RECALL]\n",
    "  ave_precision = recom_stats[cn.PRECISION]\n",
    "  # collect information\n",
    "    \n",
    "  bigg_anotreac_numbers[one_bigg] = len(reacs2eval)\n",
    "  bigg_reac_time[one_bigg] = time2 - time1\n",
    "  bigg_reac_recalls[one_bigg] = ave_recall\n",
    "  bigg_reac_precs[one_bigg] = ave_precision\n",
    "  bigg_reac_match_scores[one_bigg] = np.mean([np.mean([val[1] for val in rec.candidates]) for rec in recoms])\n",
    "    \n",
    "print(\"\\n\\n<BiGG Reactions>\")\n",
    "print(\"Number of models assessed: %d\" % (idx+1))\n",
    "model_reac_proc_time = [bigg_reac_time[k] for k in bigg_reac_time.keys()]\n",
    "reac_proc_time = [bigg_reac_time[k]/bigg_anotreac_numbers[k] \\\n",
    "                  for k in bigg_reac_time.keys()]\n",
    "ave_bigg_reac_recalls = [bigg_reac_recalls[k] for k in bigg_reac_recalls.keys()]\n",
    "ave_bigg_reac_precs = [bigg_reac_precs[k] for k in bigg_reac_precs.keys()]\n",
    "ave_bigg_reac_match_scores = [bigg_reac_match_scores[k] for k in bigg_reac_match_scores.keys()]\n",
    "print(\"Average processing time (per model): %.02f\" % np.mean(model_reac_proc_time))\n",
    "print(\"Average processing time (per element, per model): %.02f\" % np.mean(reac_proc_time))\n",
    "print(\"Average recall (per model): %.02f\" % np.mean(ave_bigg_reac_recalls))\n",
    "print(\"Average precision (per model): %.02f\" % np.mean(ave_bigg_reac_precs))\n",
    "print(\"Average match score (per model): %.02f\" % np.mean(ave_bigg_reac_match_scores))"
   ]
  },
  {
   "cell_type": "code",
   "execution_count": 40,
   "id": "66ee2470-32a6-42a7-a0dd-6cf9521e6fcc",
   "metadata": {},
   "outputs": [],
   "source": [
    "RESULT_DIR = '/Users/woosubs/Desktop/AutomateAnnotation/AMAS_suppl/result_files'\n",
    "bigg_reac_res = {'bigg_anotreac_numbers': bigg_anotreac_numbers,\n",
    "                 'bigg_reac_time': bigg_reac_time,\n",
    "                 'bigg_reac_recalls': bigg_reac_recalls,\n",
    "                 'bigg_reac_precs': bigg_reac_precs,\n",
    "                 'bigg_reac_match_scores': bigg_reac_match_scores}\n",
    "compress_pickle.dump(bigg_reac_res,\n",
    "                     os.path.join(RESULT_DIR, 'bigg_reac_res.lzma'), \n",
    "                     compression=\"lzma\", set_default_extension=False)"
   ]
  },
  {
   "cell_type": "code",
   "execution_count": 39,
   "id": "7e73c4ce-302a-4527-8415-8f4590b97a08",
   "metadata": {},
   "outputs": [
    {
     "data": {
      "text/html": [
       "<div>\n",
       "<style scoped>\n",
       "    .dataframe tbody tr th:only-of-type {\n",
       "        vertical-align: middle;\n",
       "    }\n",
       "\n",
       "    .dataframe tbody tr th {\n",
       "        vertical-align: top;\n",
       "    }\n",
       "\n",
       "    .dataframe thead th {\n",
       "        text-align: right;\n",
       "    }\n",
       "</style>\n",
       "<table border=\"1\" class=\"dataframe\">\n",
       "  <thead>\n",
       "    <tr style=\"text-align: right;\">\n",
       "      <th></th>\n",
       "      <th>recall</th>\n",
       "      <th>precision</th>\n",
       "      <th>match score</th>\n",
       "    </tr>\n",
       "  </thead>\n",
       "  <tbody>\n",
       "    <tr>\n",
       "      <th>iCHOv1.xml</th>\n",
       "      <td>0.497</td>\n",
       "      <td>0.250</td>\n",
       "      <td>0.679790</td>\n",
       "    </tr>\n",
       "    <tr>\n",
       "      <th>iYL1228.xml</th>\n",
       "      <td>0.547</td>\n",
       "      <td>0.303</td>\n",
       "      <td>0.671037</td>\n",
       "    </tr>\n",
       "    <tr>\n",
       "      <th>iIS312.xml</th>\n",
       "      <td>0.499</td>\n",
       "      <td>0.252</td>\n",
       "      <td>0.577218</td>\n",
       "    </tr>\n",
       "    <tr>\n",
       "      <th>iSDY_1059.xml</th>\n",
       "      <td>0.560</td>\n",
       "      <td>0.293</td>\n",
       "      <td>0.646097</td>\n",
       "    </tr>\n",
       "    <tr>\n",
       "      <th>iEC1356_Bl21DE3.xml</th>\n",
       "      <td>0.561</td>\n",
       "      <td>0.293</td>\n",
       "      <td>0.662251</td>\n",
       "    </tr>\n",
       "  </tbody>\n",
       "</table>\n",
       "</div>"
      ],
      "text/plain": [
       "                     recall  precision  match score\n",
       "iCHOv1.xml            0.497      0.250     0.679790\n",
       "iYL1228.xml           0.547      0.303     0.671037\n",
       "iIS312.xml            0.499      0.252     0.577218\n",
       "iSDY_1059.xml         0.560      0.293     0.646097\n",
       "iEC1356_Bl21DE3.xml   0.561      0.293     0.662251"
      ]
     },
     "execution_count": 39,
     "metadata": {},
     "output_type": "execute_result"
    }
   ],
   "source": [
    "df_ave_bigg_reac_results = pd.DataFrame.from_records([bigg_reac_recalls, bigg_reac_precs, bigg_reac_match_scores],\n",
    "                                   index=['recall', 'precision', 'match score']).T\n",
    "df_ave_bigg_reac_results.head()"
   ]
  },
  {
   "cell_type": "code",
   "execution_count": 41,
   "id": "67320691-4777-4c56-9ef0-0caa11e10cb3",
   "metadata": {},
   "outputs": [
    {
     "data": {
      "text/plain": [
       "(108, 3)"
      ]
     },
     "execution_count": 41,
     "metadata": {},
     "output_type": "execute_result"
    }
   ],
   "source": [
    "df_ave_bigg_reac_results.shape"
   ]
  },
  {
   "cell_type": "markdown",
   "id": "caa3416a-f9cd-4286-8673-78140edc09e6",
   "metadata": {},
   "source": [
    "## Save results as csv files to use Excel to create histograms"
   ]
  },
  {
   "cell_type": "code",
   "execution_count": 103,
   "id": "f8e34bdd-2b30-47d2-a0f8-619a60d3037e",
   "metadata": {},
   "outputs": [],
   "source": [
    "FIGURE_DIR = '/Users/woosubs/Desktop/AutomateAnnotation/AMAS_suppl/figure_files'\n",
    "\n",
    "df1 = df_ave_biomd_spec_results.loc[:, ['recall', 'precision']]\n",
    "df2 = df_ave_biomd_reac_results.loc[:, ['recall', 'precision']]\n",
    "df3 = df_ave_bigg_spec_results.loc[:, ['recall', 'precision']]\n",
    "df4 = df_ave_bigg_reac_results.loc[:, ['recall', 'precision']]\n",
    "\n",
    "# Create a Pandas Excel writer using XlsxWriter as the engine.\n",
    "writer = pd.ExcelWriter(os.path.join(FIGURE_DIR, 'recall_precision.xlsx'), engine='xlsxwriter')\n",
    "\n",
    "# Write each dataframe to a different worksheet.\n",
    "df1.to_excel(writer, sheet_name='biomd_spec')\n",
    "df2.to_excel(writer, sheet_name='biomd_reac')\n",
    "df3.to_excel(writer, sheet_name='bigg_spec')\n",
    "df4.to_excel(writer, sheet_name='bigg_reac')\n",
    "\n",
    "# Close the Pandas Excel writer and output the Excel file.\n",
    "writer.close()"
   ]
  },
  {
   "cell_type": "code",
   "execution_count": 160,
   "id": "66d6687b-9702-4d65-858b-754df7e75ef8",
   "metadata": {},
   "outputs": [
    {
     "data": {
      "text/plain": [
       "(array([[76.,  4.,  5.,  5.,  6., 18.,  6.,  5.,  3.,  1., 19.,  9.,  2.,\n",
       "         16.,  3.,  9.,  9.,  2.,  2., 62.],\n",
       "        [87.,  9., 22., 14., 10., 13., 10.,  9.,  2.,  5., 25.,  9.,  5.,\n",
       "          5.,  1.,  3.,  2.,  7.,  0., 24.]]),\n",
       " array([0.  , 0.05, 0.1 , 0.15, 0.2 , 0.25, 0.3 , 0.35, 0.4 , 0.45, 0.5 ,\n",
       "        0.55, 0.6 , 0.65, 0.7 , 0.75, 0.8 , 0.85, 0.9 , 0.95, 1.  ]),\n",
       " <a list of 2 BarContainer objects>)"
      ]
     },
     "execution_count": 160,
     "metadata": {},
     "output_type": "execute_result"
    },
    {
     "data": {
      "image/png": "[encoded data removed]",
      "text/plain": [
       "<Figure size 640x480 with 1 Axes>"
      ]
     },
     "metadata": {},
     "output_type": "display_data"
    }
   ],
   "source": [
    "fig,ax = plt.subplots()\n",
    "ax.hist(x=df1,bins=20, color=['navy', 'gold'])"
   ]
  },
  {
   "cell_type": "code",
   "execution_count": null,
   "id": "bb83f6a5-9c3f-4ebd-9453-2e9ab48748ab",
   "metadata": {},
   "outputs": [],
   "source": []
  },
  {
   "cell_type": "code",
   "execution_count": 46,
   "id": "962b552c-f90e-47f3-ac5b-f7a9844f848a",
   "metadata": {},
   "outputs": [
    {
     "data": {
      "image/png": "[encoded data removed]",
      "text/plain": [
       "<Figure size 640x480 with 1 Axes>"
      ]
     },
     "metadata": {},
     "output_type": "display_data"
    }
   ],
   "source": [
    "# BioModels species\n",
    "plt.xlim([-0.05,1.05])\n",
    "plt.xticks(np.arange(0.0, 1.2, step=0.2))\n",
    "plt.hist(df1['recall'], \n",
    "         alpha=0.6, # the transaparency parameter\n",
    "         label='Recall', bins=20,\n",
    "         color='navy')\n",
    "  \n",
    "plt.hist(df1['precision'],\n",
    "         alpha=0.6,\n",
    "         label='Precision', bins=20,\n",
    "         color='gold')\n",
    "  \n",
    "plt.legend(loc='upper right')\n",
    "# plt.title('BioModels Species')\n",
    "# plt.show()\n",
    "plt.savefig(os.path.join(FIGURE_DIR, 'biomd_spec_hist.png'), dpi=300,\n",
    "            bbox_inches='tight', pad_inches=0.0)"
   ]
  },
  {
   "cell_type": "code",
   "execution_count": 209,
   "id": "aa65bb23-8de2-43c5-b854-0247a5a84772",
   "metadata": {},
   "outputs": [
    {
     "data": {
      "image/png": "[encoded data removed]",
      "text/plain": [
       "<Figure size 640x480 with 1 Axes>"
      ]
     },
     "metadata": {},
     "output_type": "display_data"
    }
   ],
   "source": [
    "plt.xlim([-0.05,1.05])\n",
    "plt.xticks(np.arange(0.0, 1.2, step=0.2))\n",
    "plt.hist(df2['recall'], \n",
    "         alpha=0.6, # the transaparency parameter\n",
    "         label='Recall', bins=12,\n",
    "         color='navy')\n",
    "  \n",
    "plt.hist(df2['precision'],\n",
    "         alpha=0.6,\n",
    "         label='Precision', bins=12,\n",
    "         color='gold')\n",
    "  \n",
    "plt.legend(loc='upper right')\n",
    "# plt.title('BioModels Species')\n",
    "# plt.show()\n",
    "plt.savefig(os.path.join(FIGURE_DIR, 'biomd_reac_hist.png'), dpi=300,\n",
    "            bbox_inches='tight', pad_inches=0.0)"
   ]
  },
  {
   "cell_type": "code",
   "execution_count": 210,
   "id": "c1d70b43-976d-45ef-a09e-0c5c7fbf2523",
   "metadata": {},
   "outputs": [
    {
     "data": {
      "image/png": "[encoded data removed]",
      "text/plain": [
       "<Figure size 640x480 with 1 Axes>"
      ]
     },
     "metadata": {},
     "output_type": "display_data"
    }
   ],
   "source": [
    "plt.xlim([-0.05,1.05])\n",
    "plt.xticks(np.arange(0.0, 1.2, step=0.2))\n",
    "plt.hist(df3['recall'], \n",
    "         alpha=0.6, # the transaparency parameter\n",
    "         label='Recall', bins=5,\n",
    "         color='navy')\n",
    "  \n",
    "plt.hist(df3['precision'],\n",
    "         alpha=0.6,\n",
    "         label='Precision', bins=5,\n",
    "         color='gold')\n",
    "  \n",
    "plt.legend(loc='upper left')\n",
    "# plt.show()\n",
    "plt.savefig(os.path.join(FIGURE_DIR, 'bigg_spec_hist.png'), dpi=300,\n",
    "            bbox_inches='tight', pad_inches=0.0)"
   ]
  },
  {
   "cell_type": "code",
   "execution_count": 211,
   "id": "878721d1-d7e1-4449-acae-07eb416af0df",
   "metadata": {
    "tags": []
   },
   "outputs": [
    {
     "data": {
      "image/png": "[encoded data removed]",
      "text/plain": [
       "<Figure size 640x480 with 1 Axes>"
      ]
     },
     "metadata": {},
     "output_type": "display_data"
    }
   ],
   "source": [
    "plt.xlim([-0.05,1.05])\n",
    "plt.xticks(np.arange(0.0, 1.2, step=0.2))\n",
    "plt.hist(df4['recall'], \n",
    "         alpha=0.6, # the transaparency parameter\n",
    "         label='Recall', bins=5,\n",
    "         color='navy')\n",
    "  \n",
    "plt.hist(df4['precision'],\n",
    "         alpha=0.6,\n",
    "         label='Precision', bins=5,\n",
    "         color='gold')\n",
    "  \n",
    "plt.legend(loc='upper left')\n",
    "# plt.show()\n",
    "plt.savefig(os.path.join(FIGURE_DIR, 'bigg_reac_hist.png'), dpi=300,\n",
    "            bbox_inches='tight', pad_inches=0.0)"
   ]
  },
  {
   "cell_type": "code",
   "execution_count": null,
   "id": "fb448e0f-d86a-45fa-a1fc-30225e1f75df",
   "metadata": {},
   "outputs": [],
   "source": []
  },
  {
   "cell_type": "markdown",
   "id": "ad4fc068-cefe-459a-b270-98f7d794354e",
   "metadata": {},
   "source": [
    "## Scatter Plots (match score vs. recall/precision)"
   ]
  },
  {
   "cell_type": "code",
   "execution_count": 49,
   "id": "18836a85-0208-4b75-a81a-225e3f539213",
   "metadata": {},
   "outputs": [],
   "source": [
    "biomd_specdf_recall_score = df_ave_biomd_spec_results.loc[:, ['recall', 'match score']]\n",
    "biomd_specdf_precision_score = df_ave_biomd_spec_results.loc[:, ['precision', 'match score']]"
   ]
  },
  {
   "cell_type": "code",
   "execution_count": 93,
   "id": "fcb71aac-0c56-4406-8638-134df1b71bce",
   "metadata": {
    "tags": []
   },
   "outputs": [
    {
     "data": {
      "image/png": "[encoded data removed]",
      "text/plain": [
       "<Figure size 640x480 with 1 Axes>"
      ]
     },
     "metadata": {},
     "output_type": "display_data"
    }
   ],
   "source": [
    "plt.xlim([0.80,1.01])\n",
    "plt.xticks(np.arange(0.80, 1.01, step=0.025))\n",
    "plt.scatter(y=df_ave_biomd_spec_results['recall'],\n",
    "            x=df_ave_biomd_spec_results['match score'],\n",
    "            alpha=0.6, # the transaparency parameter\n",
    "            label='Recall', color='navy')\n",
    "plt.scatter(y=df_ave_biomd_spec_results['precision'],\n",
    "            x=df_ave_biomd_spec_results['match score'],\n",
    "            alpha=0.6, # the transaparency parameter\n",
    "            label='Precision', color='gold')\n",
    "plt.xlabel(\"Match Score\")\n",
    "plt.ylabel(\"Recall/Precision\")\n",
    "plt.legend(loc='upper left')\n",
    "plt.title(\"Biomodels Species (Scatter plot)\")\n",
    "\n",
    "TEMPFIG_DIR = os.path.join(FIGURE_DIR, 'temp')\n",
    "plt.savefig(os.path.join(TEMPFIG_DIR, 'biomd_species_scatter.png'), dpi=300,\n",
    "            bbox_inches='tight', pad_inches=0.0)"
   ]
  },
  {
   "cell_type": "code",
   "execution_count": 96,
   "id": "6007021d-e3eb-4a14-9e22-71e757cc6408",
   "metadata": {
    "tags": []
   },
   "outputs": [
    {
     "data": {
      "text/plain": [
       "<matplotlib.collections.PathCollection at 0x7fd35f106040>"
      ]
     },
     "execution_count": 96,
     "metadata": {},
     "output_type": "execute_result"
    },
    {
     "data": {
      "image/png": "[encoded data removed]",
      "text/plain": [
       "<Figure size 640x480 with 1 Axes>"
      ]
     },
     "metadata": {},
     "output_type": "display_data"
    }
   ],
   "source": [
    "plt.scatter(df_ave_biomd_spec_results['precision'], df_ave_biomd_spec_results['recall'])"
   ]
  },
  {
   "cell_type": "code",
   "execution_count": 95,
   "id": "4e2aa4b9-0cd0-427b-b008-d45c5d28679d",
   "metadata": {},
   "outputs": [
    {
     "data": {
      "image/png": "[encoded data removed]",
      "text/plain": [
       "<Figure size 640x480 with 1 Axes>"
      ]
     },
     "metadata": {},
     "output_type": "display_data"
    }
   ],
   "source": [
    "# plt.xlim([-0.05,1.05])\n",
    "# plt.xticks(np.arange(0.0, 1.2, step=0.2))\n",
    "plt.scatter(y=df_ave_biomd_reac_results['recall'],\n",
    "            x=df_ave_biomd_reac_results['match score'],\n",
    "            alpha=0.6, # the transaparency parameter\n",
    "            label='Recall', color='navy')\n",
    "plt.scatter(y=df_ave_biomd_reac_results['precision'],\n",
    "            x=df_ave_biomd_reac_results['match score'],\n",
    "            alpha=0.6, # the transaparency parameter\n",
    "            label='Precision', color='gold')\n",
    "plt.xlabel(\"Match Score\")\n",
    "plt.ylabel(\"Recall/Precision\")\n",
    "plt.legend(loc='lower right')\n",
    "plt.title(\"Biomodels Reactions (Scatter plot)\")\n",
    "\n",
    "TEMPFIG_DIR = os.path.join(FIGURE_DIR, 'temp')\n",
    "plt.savefig(os.path.join(TEMPFIG_DIR, 'biomd_reactions_scatter.png'), dpi=300,\n",
    "            bbox_inches='tight', pad_inches=0.0)"
   ]
  },
  {
   "cell_type": "code",
   "execution_count": 98,
   "id": "08094f16-fa53-42e1-9ef2-e00ed647492e",
   "metadata": {},
   "outputs": [
    {
     "data": {
      "image/png": "[encoded data removed]",
      "text/plain": [
       "<Figure size 640x480 with 1 Axes>"
      ]
     },
     "metadata": {},
     "output_type": "display_data"
    }
   ],
   "source": [
    "# plt.xlim([0.80,1.01])\n",
    "# plt.xticks(np.arange(0.80, 1.01, step=0.025))\n",
    "plt.scatter(y=df_ave_bigg_spec_results['recall'],\n",
    "            x=df_ave_bigg_spec_results['match score'],\n",
    "            alpha=0.6, # the transaparency parameter\n",
    "            label='Recall', color='navy')\n",
    "plt.scatter(y=df_ave_bigg_spec_results['precision'],\n",
    "            x=df_ave_bigg_spec_results['match score'],\n",
    "            alpha=0.6, # the transaparency parameter\n",
    "            label='Precision', color='gold')\n",
    "plt.xlabel(\"Match Score\")\n",
    "plt.ylabel(\"Recall/Precision\")\n",
    "plt.legend(loc='upper left')\n",
    "plt.title(\"BiGG Species (Scatter plot)\")\n",
    "\n",
    "TEMPFIG_DIR = os.path.join(FIGURE_DIR, 'temp')\n",
    "plt.savefig(os.path.join(TEMPFIG_DIR, 'bigg_species_scatter.png'), dpi=300,\n",
    "            bbox_inches='tight', pad_inches=0.0)"
   ]
  },
  {
   "cell_type": "code",
   "execution_count": 99,
   "id": "128e1f17-e00d-4c12-a348-b9834196dd1e",
   "metadata": {},
   "outputs": [
    {
     "data": {
      "image/png": "[encoded data removed]",
      "text/plain": [
       "<Figure size 640x480 with 1 Axes>"
      ]
     },
     "metadata": {},
     "output_type": "display_data"
    }
   ],
   "source": [
    "plt.scatter(y=df_ave_bigg_reac_results['recall'],\n",
    "            x=df_ave_bigg_reac_results['match score'],\n",
    "            alpha=0.6, # the transaparency parameter\n",
    "            label='Recall', color='navy')\n",
    "plt.scatter(y=df_ave_bigg_reac_results['precision'],\n",
    "            x=df_ave_bigg_reac_results['match score'],\n",
    "            alpha=0.6, # the transaparency parameter\n",
    "            label='Precision', color='gold')\n",
    "plt.xlabel(\"Match Score\")\n",
    "plt.ylabel(\"Recall/Precision\")\n",
    "plt.legend(loc='lower right')\n",
    "plt.title(\"BiGG Reactions (Scatter plot)\")\n",
    "\n",
    "TEMPFIG_DIR = os.path.join(FIGURE_DIR, 'temp')\n",
    "plt.savefig(os.path.join(TEMPFIG_DIR, 'bigg_reactions_scatter.png'), dpi=300,\n",
    "            bbox_inches='tight', pad_inches=0.0)"
   ]
  },
  {
   "cell_type": "code",
   "execution_count": 105,
   "id": "e92c8b62-07ca-40a6-b5c3-a56813536993",
   "metadata": {},
   "outputs": [],
   "source": [
    "# for a bit more study\n",
    "import copy\n",
    "df5 = copy.deepcopy(df_ave_biomd_spec_results)\n",
    "df6 = copy.deepcopy(df_ave_biomd_reac_results)\n",
    "df7 = copy.deepcopy(df_ave_bigg_spec_results)\n",
    "df8 = copy.deepcopy(df_ave_bigg_reac_results)"
   ]
  },
  {
   "cell_type": "code",
   "execution_count": 119,
   "id": "000af9f4-2c86-4a3b-a174-93e692eeb053",
   "metadata": {},
   "outputs": [
    {
     "name": "stdout",
     "output_type": "stream",
     "text": [
      "Model with low recall: BIOMD0000000037.xml\n",
      "0.0\n",
      "Gluc\n",
      "['CHEBI:17234']\n"
     ]
    }
   ],
   "source": [
    "# studying recall of species; \n",
    "for one_biomd in df5.index:\n",
    "  recom = recommender.Recommender(os.path.join(BIOMODEL_DIR, one_biomd))\n",
    "  recall_val = df5.loc[one_biomd, 'recall']\n",
    "  if recall_val == 0.0:\n",
    "    print(\"Model with low recall: %s\" % one_biomd)\n",
    "    print(recall_val)\n",
    "    for one_k in recom.species.exist_annotation.keys():\n",
    "      print(recom.species.getNameToUse(one_k))\n",
    "      print(recom.species.exist_annotation[one_k])\n",
    "    break"
   ]
  },
  {
   "cell_type": "code",
   "execution_count": 108,
   "id": "049af552-44a9-4593-b2f7-dd363bc67c96",
   "metadata": {},
   "outputs": [
    {
     "data": {
      "text/html": [
       "<div>\n",
       "<style scoped>\n",
       "    .dataframe tbody tr th:only-of-type {\n",
       "        vertical-align: middle;\n",
       "    }\n",
       "\n",
       "    .dataframe tbody tr th {\n",
       "        vertical-align: top;\n",
       "    }\n",
       "\n",
       "    .dataframe thead th {\n",
       "        text-align: right;\n",
       "    }\n",
       "</style>\n",
       "<table border=\"1\" class=\"dataframe\">\n",
       "  <thead>\n",
       "    <tr style=\"text-align: right;\">\n",
       "      <th></th>\n",
       "      <th>recall</th>\n",
       "      <th>precision</th>\n",
       "      <th>match score</th>\n",
       "    </tr>\n",
       "  </thead>\n",
       "  <tbody>\n",
       "    <tr>\n",
       "      <th>BIOMD0000000002.xml</th>\n",
       "      <td>1.000</td>\n",
       "      <td>0.500</td>\n",
       "      <td>1.000000</td>\n",
       "    </tr>\n",
       "    <tr>\n",
       "      <th>BIOMD0000000013.xml</th>\n",
       "      <td>0.091</td>\n",
       "      <td>0.061</td>\n",
       "      <td>0.872409</td>\n",
       "    </tr>\n",
       "    <tr>\n",
       "      <th>BIOMD0000000015.xml</th>\n",
       "      <td>1.000</td>\n",
       "      <td>1.000</td>\n",
       "      <td>1.000000</td>\n",
       "    </tr>\n",
       "    <tr>\n",
       "      <th>BIOMD0000000017.xml</th>\n",
       "      <td>0.588</td>\n",
       "      <td>0.399</td>\n",
       "      <td>0.988471</td>\n",
       "    </tr>\n",
       "    <tr>\n",
       "      <th>BIOMD0000000018.xml</th>\n",
       "      <td>0.833</td>\n",
       "      <td>0.669</td>\n",
       "      <td>0.991778</td>\n",
       "    </tr>\n",
       "    <tr>\n",
       "      <th>...</th>\n",
       "      <td>...</td>\n",
       "      <td>...</td>\n",
       "      <td>...</td>\n",
       "    </tr>\n",
       "    <tr>\n",
       "      <th>BIOMD0000000947.xml</th>\n",
       "      <td>0.000</td>\n",
       "      <td>0.000</td>\n",
       "      <td>0.952667</td>\n",
       "    </tr>\n",
       "    <tr>\n",
       "      <th>BIOMD0000000948.xml</th>\n",
       "      <td>0.000</td>\n",
       "      <td>0.000</td>\n",
       "      <td>0.977500</td>\n",
       "    </tr>\n",
       "    <tr>\n",
       "      <th>BIOMD0000000961.xml</th>\n",
       "      <td>0.275</td>\n",
       "      <td>0.132</td>\n",
       "      <td>0.928750</td>\n",
       "    </tr>\n",
       "    <tr>\n",
       "      <th>BIOMD0000000966.xml</th>\n",
       "      <td>1.000</td>\n",
       "      <td>0.500</td>\n",
       "      <td>1.000000</td>\n",
       "    </tr>\n",
       "    <tr>\n",
       "      <th>BIOMD0000000986.xml</th>\n",
       "      <td>0.000</td>\n",
       "      <td>0.000</td>\n",
       "      <td>0.947750</td>\n",
       "    </tr>\n",
       "  </tbody>\n",
       "</table>\n",
       "<p>306 rows × 3 columns</p>\n",
       "</div>"
      ],
      "text/plain": [
       "                     recall  precision  match score\n",
       "BIOMD0000000002.xml   1.000      0.500     1.000000\n",
       "BIOMD0000000013.xml   0.091      0.061     0.872409\n",
       "BIOMD0000000015.xml   1.000      1.000     1.000000\n",
       "BIOMD0000000017.xml   0.588      0.399     0.988471\n",
       "BIOMD0000000018.xml   0.833      0.669     0.991778\n",
       "...                     ...        ...          ...\n",
       "BIOMD0000000947.xml   0.000      0.000     0.952667\n",
       "BIOMD0000000948.xml   0.000      0.000     0.977500\n",
       "BIOMD0000000961.xml   0.275      0.132     0.928750\n",
       "BIOMD0000000966.xml   1.000      0.500     1.000000\n",
       "BIOMD0000000986.xml   0.000      0.000     0.947750\n",
       "\n",
       "[306 rows x 3 columns]"
      ]
     },
     "execution_count": 108,
     "metadata": {},
     "output_type": "execute_result"
    }
   ],
   "source": [
    "df5"
   ]
  },
  {
   "cell_type": "code",
   "execution_count": 196,
   "id": "7b230cba-6f09-4d0c-b822-d85874f53580",
   "metadata": {},
   "outputs": [],
   "source": [
    "def printReaction(r):\n",
    "  \"\"\"\n",
    "  Print reaction \n",
    "  \"\"\"\n",
    "  reactants = [val.species for val in r.getListOfReactants()]\n",
    "  products = [val.species for val in r.getListOfProducts()]\n",
    "  return ' + '.join(reactants) + ' => ' + ' + '.join(products)"
   ]
  },
  {
   "cell_type": "code",
   "execution_count": 198,
   "id": "3b1fae39-966b-4299-a960-efd9c6b89227",
   "metadata": {},
   "outputs": [
    {
     "name": "stdout",
     "output_type": "stream",
     "text": [
      "2-acyl-glycerophospho-ethanolamine acyltransferase (n-C16:0)\n",
      "M_2agpe160_c + M_atp_c + M_hdca_c => M_amp_c + M_pe160_c + M_ppi_c\n"
     ]
    }
   ],
   "source": [
    "model = recom.sbml_document.getModel()\n",
    "one_r = model.getReaction(one_val)\n",
    "print(one_r.name)\n",
    "print(printReaction(one_r))"
   ]
  },
  {
   "cell_type": "code",
   "execution_count": 202,
   "id": "665a649a-55b2-4bc9-bb0b-644716356970",
   "metadata": {},
   "outputs": [
    {
     "name": "stdout",
     "output_type": "stream",
     "text": [
      "2-acyl-glycerophospho-ethanolamine acyltransferase (n-C16:0)\n",
      "Existing annotation: ['RHEA:10304']\n",
      "M_2agpe160_c + M_atp_c + M_hdca_c => M_amp_c + M_pe160_c + M_ppi_c\n",
      "\n",
      "2-acyl-glycerophospho-ethanolamine acyltransferase (n-C18:0)\n",
      "Existing annotation: ['RHEA:10304']\n",
      "M_2agpe180_c + M_atp_c + M_ocdca_c => M_amp_c + M_pe180_c + M_ppi_c\n",
      "\n",
      "Arbutin 6-phosphate glucohydrolase\n",
      "Existing annotation: ['RHEA:10772']\n",
      "M_arbt6p_c + M_h2o_c => M_g6p_c + M_hqn_c\n",
      "\n",
      "N-acetyl-D-glucosamine 1-phosphatase (periplasm)\n",
      "Existing annotation: ['RHEA:19933']\n",
      "M_acgam1p_p + M_h2o_p => M_acgam_p + M_pi_p\n",
      "\n",
      "N-acetyl-D-galactosamine 1-phosphatase (periplasm)\n",
      "Existing annotation: ['RHEA:19933']\n",
      "M_acgal1p_p + M_h2o_p => M_acgal_p + M_pi_p\n",
      "\n",
      "L-aspartate oxidase\n",
      "Existing annotation: ['RHEA:25876']\n",
      "M_asp__L_c + M_o2_c => M_h2o2_c + M_h_c + M_iasp_c\n",
      "\n",
      "L-ascorbate 6-phosphate lactonase\n",
      "Existing annotation: ['RHEA:28803']\n",
      "M_ascb6p_c + M_h2o_c => M_3dhgulnp_c + M_h_c\n",
      "\n",
      "Carbamate kinase\n",
      "Existing annotation: ['RHEA:10152']\n",
      "M_atp_c + M_co2_c + M_nh4_c => M_adp_c + M_cbp_c + M_h_c\n",
      "\n",
      "Cyanate transport via proton symport (periplasm)\n",
      "Existing annotation: ['RHEA:29231']\n",
      "M_cynt_p + M_h_p => M_cynt_c + M_h_c\n",
      "\n",
      "CDP-diacylglycerol synthetase (n-C18:0)\n",
      "Existing annotation: ['RHEA:16229']\n",
      "M_ctp_c + M_h_c + M_pa180_c => M_cdpdodecg_c + M_ppi_c\n",
      "\n",
      "3-hydroxyacyl-CoA dehydratase (3-hydroxyoctadecanoyl-CoA)\n",
      "Existing annotation: ['RHEA:16105', 'RHEA:34863', 'RHEA:45812', 'RHEA:20724']\n",
      "M_3hodcoa_c => M_h2o_c + M_od2coa_c\n",
      "\n",
      "D-glucose O-acetyltransferase\n",
      "Existing annotation: ['RHEA:10456']\n",
      "M_accoa_c + M_glc__D_c => M_acglc__D_c + M_coa_c\n",
      "\n",
      "A-galactosidase (melibiose)\n",
      "Existing annotation: ['RHEA:21112']\n",
      "M_h2o_c + M_melib_c => M_gal_c + M_glc__D_c\n",
      "\n",
      "L-fucose isomerase\n",
      "Existing annotation: ['RHEA:13849']\n",
      "M_fuc__L_c => M_fcl__L_c\n",
      "\n",
      "3-hydroxyacyl-CoA dehydrogenase (3-oxooctadecanoyl-CoA), peroxisomal\n",
      "Existing annotation: ['RHEA:22432']\n",
      "M_3ohodcoa_c + M_h_c + M_nadh_c => M_3hodcoa_c + M_nad_c\n",
      "\n",
      "L-Lactate dehydrogenase (ubiquinone)\n",
      "Existing annotation: ['RHEA:19909']\n",
      "M_lac__L_c + M_q8_c => M_pyr_c + M_q8h2_c\n",
      "\n",
      "2-O-alpha-mannosyl-6-phosphate-D-glycerate hydrolase\n",
      "Existing annotation: ['RHEA:58456']\n",
      "M_h2o_c + M_man6pglyc_c => M_glyc__R_c + M_man6p_c\n",
      "\n",
      "Lysophospholipase L2 (2-acylglycerophosphoethanolamine, n-C16:0)\n",
      "Existing annotation: ['RHEA:15177']\n",
      "M_2agpe160_c + M_h2o_c => M_g3pe_c + M_h_c + M_hdca_c\n",
      "\n",
      "Lysophospholipase L2 (2-acylglycerophosphoethanolamine, n-C18:0)\n",
      "Existing annotation: ['RHEA:15177']\n",
      "M_2agpe180_c + M_h2o_c => M_g3pe_c + M_h_c + M_ocdca_c\n",
      "\n",
      "Malate oxidase\n",
      "Existing annotation: ['RHEA:30095', 'RHEA:46012']\n",
      "M_mal__L_c + M_o2_c => M_h2o2_c + M_oaa_c\n",
      "\n",
      "Maltodextrin phosphorylase (maltoheptaose)\n",
      "Existing annotation: ['RHEA:41732']\n",
      "M_malthp_c + M_pi_c => M_g1p_c + M_malthx_c\n",
      "\n",
      "Lysophospholipase L1 (2-acylglycerophosphotidate, n-C18:0) (periplasm)\n",
      "Existing annotation: ['RHEA:15177']\n",
      "M_1odecg3p_p + M_h2o_p => M_glyc3p_p + M_h_p + M_ocdca_p\n",
      "\n",
      "Phosphoenolpyruvate carboxylase\n",
      "Existing annotation: ['RHEA:28370']\n",
      "M_co2_c + M_h2o_c + M_pep_c => M_h_c + M_oaa_c + M_pi_c\n",
      "\n",
      "Protoporphyrinogen oxidase (aerobic)\n",
      "Existing annotation: ['RHEA:25576']\n",
      "M_o2_c + M_pppg9_c => M_h2o_c + M_ppp9_c\n",
      "\n",
      "Phospholipase A1 (phosphatidylethanolamine, n-C16:0) (periplasm)\n",
      "Existing annotation: ['RHEA:18689']\n",
      "M_h2o_p + M_pe160_p => M_2agpe160_p + M_h_p + M_hdca_p\n",
      "\n",
      "NAD(P) transhydrogenase (periplasm)\n",
      "Existing annotation: ['RHEA:11692']\n",
      "M_h_p + M_nadh_c + M_nadp_c => M_h_c + M_nad_c + M_nadph_c\n",
      "\n",
      "Phospholipase A1 (phosphatidylethanolamine, n-C18:0) (periplasm)\n",
      "Existing annotation: ['RHEA:18689']\n",
      "M_h2o_p + M_pe180_p => M_2agpe180_p + M_h_p + M_ocdca_p\n",
      "\n",
      "Phospholipase A2 (phosphatidate, n-C18:0) (periplasm)\n",
      "Existing annotation: ['RHEA:15801', 'RHEA:36231']\n",
      "M_h2o_p + M_pa180_p => M_1odecg3p_p + M_h_p + M_ocdca_p\n",
      "\n",
      "Peroxyureidoacrylate hydrolase\n",
      "Existing annotation: ['RHEA:42624', 'RHEA:42620']\n",
      "M_h2o_c + M_uracp_c => M_cbm_c + M_h_c + M_poaac_c\n",
      "\n",
      "4 hydroxyphenylacetate 3 monooxygenase nadh\n",
      "Existing annotation: ['RHEA:30595']\n",
      "M_4hphac_c + M_h_c + M_nadh_c + M_o2_c => M_34dhpha_c + M_h2o_c + M_nad_c\n",
      "\n",
      "Phenylacetyl CoA thioesterase\n",
      "Existing annotation: ['RHEA:16781']\n",
      "M_h2o_c + M_hphaccoa_c => M_4hphac_c + M_coa_c\n",
      "\n",
      "3-hydroxyacyl-CoA dehydrogenase (3-oxooctadecanoyl-CoA)\n",
      "Existing annotation: ['RHEA:22432']\n",
      "M_3hodcoa_c + M_nad_c => M_3ohodcoa_c + M_h_c + M_nadh_c\n",
      "\n",
      "Naphthoate synthase\n",
      "Existing annotation: ['RHEA:26562']\n",
      "M_sbzcoa_c => M_coa_c + M_dhna_c\n",
      "\n",
      "HPA monooxygenase\n",
      "Existing annotation: ['RHEA:30595']\n",
      "M_3hoxpac_c + M_h_c + M_nadh_c + M_o2_c => M_34dhpha_c + M_h2o_c + M_nad_c\n",
      "\n",
      "Sucrose hydrolyzing enzyme\n",
      "Existing annotation: ['RHEA:15745', 'RHEA:24572', 'RHEA:13653']\n",
      "M_h2o_c + M_sucr_c => M_fru_c + M_glc__D_c\n",
      "\n"
     ]
    }
   ],
   "source": [
    "count = 0\n",
    "for one_val in res['candidates'].keys():\n",
    "  one_cands = res['candidates'][one_val]\n",
    "  exist_anots = recom.reactions.exist_annotation[one_val]\n",
    "  if all([val not in one_cands for val in exist_anots]):\n",
    "    model = recom.sbml_document.getModel()\n",
    "    one_r = model.getReaction(one_val)\n",
    "    print(one_r.name)\n",
    "    print(\"Existing annotation:\", exist_anots)\n",
    "    print(printReaction(one_r))\n",
    "    print()\n"
   ]
  },
  {
   "cell_type": "code",
   "execution_count": 200,
   "id": "a5fde9ab-0590-4e4d-8895-2300cfc2f142",
   "metadata": {},
   "outputs": [
    {
     "data": {
      "text/plain": [
       "35"
      ]
     },
     "execution_count": 200,
     "metadata": {},
     "output_type": "execute_result"
    }
   ],
   "source": [
    "count"
   ]
  },
  {
   "cell_type": "code",
   "execution_count": 188,
   "id": "d937e57e-3d0c-4bdd-b6e1-0df3773b06c8",
   "metadata": {},
   "outputs": [
    {
     "data": {
      "text/plain": [
       "['RHEA:10304']"
      ]
     },
     "execution_count": 188,
     "metadata": {},
     "output_type": "execute_result"
    }
   ],
   "source": [
    "exist_anots"
   ]
  },
  {
   "cell_type": "code",
   "execution_count": 191,
   "id": "bb162026-bf5a-4b5d-9457-398edf15f5ed",
   "metadata": {},
   "outputs": [
    {
     "data": {
      "text/plain": [
       "['M_amp_c', 'M_pe160_c', 'M_atp_c', 'M_ppi_c', 'M_hdca_c', 'M_2agpe160_c']"
      ]
     },
     "execution_count": 191,
     "metadata": {},
     "output_type": "execute_result"
    }
   ],
   "source": [
    "recom.reactions.reaction_components[one_val]"
   ]
  },
  {
   "cell_type": "code",
   "execution_count": 189,
   "id": "84d0f706-a90e-4638-bed7-c18873c5216e",
   "metadata": {},
   "outputs": [
    {
     "data": {
      "text/plain": [
       "'R_2AGPEAT160'"
      ]
     },
     "execution_count": 189,
     "metadata": {},
     "output_type": "execute_result"
    }
   ],
   "source": [
    "one_val"
   ]
  },
  {
   "cell_type": "code",
   "execution_count": 150,
   "id": "ee4c62aa-9f8a-4b5a-ba24-b2a7d9182fc1",
   "metadata": {},
   "outputs": [
    {
     "name": "stdout",
     "output_type": "stream",
     "text": [
      "We are at 0.\n",
      "We are at 3.\n",
      "We are at 6.\n",
      "We are at 9.\n",
      "We are at 12.\n",
      "We are at 15.\n",
      "We are at 18.\n",
      "We are at 21.\n",
      "We are at 24.\n",
      "We are at 27.\n",
      "We are at 30.\n",
      "We are at 33.\n",
      "We are at 36.\n",
      "We are at 39.\n",
      "We are at 42.\n",
      "We are at 45.\n",
      "We are at 48.\n",
      "We are at 51.\n",
      "We are at 54.\n",
      "We are at 57.\n",
      "We are at 60.\n",
      "We are at 63.\n",
      "We are at 66.\n",
      "We are at 69.\n",
      "We are at 72.\n",
      "We are at 75.\n",
      "We are at 78.\n",
      "We are at 81.\n",
      "We are at 84.\n",
      "We are at 87.\n",
      "We are at 90.\n",
      "We are at 93.\n",
      "We are at 96.\n",
      "We are at 99.\n",
      "We are at 102.\n",
      "We are at 105.\n"
     ]
    }
   ],
   "source": [
    "# run this, this time only using reactions whose components aare fully annotated\n",
    "\n",
    "bigg_reac_recalls = []\n",
    "bigg_reac_precisions = []\n",
    "bigg_reac_scores = []\n",
    "\n",
    "for idx, one_bigg in enumerate(biggs):\n",
    "  if idx % 3 == 0:\n",
    "    print(\"We are at %d.\" % idx)\n",
    "  one_fpath = os.path.join(BIGG_DIR, one_bigg)\n",
    "  recom = recommender.Recommender(libsbml_fpath=one_fpath)\n",
    "  reacs2eval_raw = list(recom.reactions.exist_annotation.keys())\n",
    "  reacs2eval = []\n",
    "  for one_r in reacs2eval_raw: \n",
    "    comps = recom.reactions.reaction_components[one_r]\n",
    "    if all([val in recom.species.exist_annotation_formula.keys() \\\n",
    "            for val in comps]):\n",
    "      reacs2eval.append(one_r)\n",
    "  res = recom.reactions.predictAnnotation(inp_spec_dict=recom.species.exist_annotation_formula,\n",
    "                                          inp_reac_list=reacs2eval,\n",
    "                                          inp_ref_mat=ra.REF_MAT,\n",
    "                                          update=False)\n",
    "  scores = res['match_score']\n",
    "  mean_score = np.mean([np.mean([val[1] for val in scores[k]]) for k in scores.keys()])\n",
    "  recall = tools.getRecall(ref=recom.reactions.exist_annotation, pred=res['candidates'])\n",
    "  precision = tools.getPrecision(ref=recom.reactions.exist_annotation, pred=res['candidates'])\n",
    "  bigg_reac_scores.append(mean_score)\n",
    "  bigg_reac_recalls.append(recall)\n",
    "  bigg_reac_precisions.append(precision)"
   ]
  },
  {
   "cell_type": "code",
   "execution_count": 148,
   "id": "a20e779c-cbfc-45f4-851c-485959a583ea",
   "metadata": {},
   "outputs": [
    {
     "data": {
      "text/plain": [
       "[0.802]"
      ]
     },
     "execution_count": 148,
     "metadata": {},
     "output_type": "execute_result"
    }
   ],
   "source": [
    "bigg_reac_recalls"
   ]
  },
  {
   "cell_type": "code",
   "execution_count": 205,
   "id": "a73f2531-9231-41ce-a549-bbfa8f9acd3f",
   "metadata": {},
   "outputs": [
    {
     "data": {
      "text/plain": [
       "Text(0.5, 1.0, 'Bigg reaction accuracy: existing vs. predicted species annotations')"
      ]
     },
     "execution_count": 205,
     "metadata": {},
     "output_type": "execute_result"
    },
    {
     "data": {
      "image/png": "[encoded data removed]",
      "text/plain": [
       "<Figure size 640x480 with 1 Axes>"
      ]
     },
     "metadata": {},
     "output_type": "display_data"
    }
   ],
   "source": [
    "plt.xlim([-0.05,1.05])\n",
    "plt.ylim([-0.05,1.05])\n",
    "plt.scatter(x=bigg_reac_scores, y=bigg_reac_recalls,\n",
    "            color = 'navy', label='Recall (new)')\n",
    "plt.scatter(x=df8['match score'], y=df8['recall'], label='Recall (old)')\n",
    "plt.scatter(x=bigg_reac_scores, y=bigg_reac_precisions, label='Precision (new)') \n",
    "plt.scatter(x=df8['match score'], y=df8['precision'], \n",
    "            color='gold', label='Precision (old)')\n",
    "plt.legend()\n",
    "plt.title(\"Bigg reaction accuracy: existing vs. predicted species annotations\")"
   ]
  },
  {
   "cell_type": "markdown",
   "id": "6b8c47d4-a060-4378-94cf-d57be776ca61",
   "metadata": {},
   "source": [
    "## If above is in the right direction, I can filter the candidates to improve precision (while not sacrificing not too much recall)"
   ]
  },
  {
   "cell_type": "code",
   "execution_count": null,
   "id": "142566ca-0f50-495e-8097-3e6025f9745c",
   "metadata": {},
   "outputs": [],
   "source": []
  },
  {
   "cell_type": "code",
   "execution_count": 206,
   "id": "8d778330-201f-4632-ae41-5c886e1781ac",
   "metadata": {},
   "outputs": [],
   "source": [
    "# plt.xlim([-0.05,1.05])\n",
    "# plt.ylim([-0.05,1.05])\n",
    "# plt.scatter(x=df8['match score'], y=df8['recall'], label='Recall')\n",
    "# plt.scatter(x=df8['match score'], y=df8['precision'], label='Precision')\n",
    "# plt.legend()\n",
    "# plt.title(\"Bigg reaction accuracy: if predicted species annotations\")"
   ]
  },
  {
   "cell_type": "code",
   "execution_count": 139,
   "id": "2dac5ce0-7a5f-4853-9c3e-cfc0ab7eea2b",
   "metadata": {},
   "outputs": [
    {
     "data": {
      "text/plain": [
       "['RHEA:11816']"
      ]
     },
     "execution_count": 139,
     "metadata": {},
     "output_type": "execute_result"
    }
   ],
   "source": [
    "recom.reactions.exist_annotation['R_PGI']"
   ]
  },
  {
   "cell_type": "code",
   "execution_count": 140,
   "id": "e2e33fd3-2043-4dc3-b222-18a532bb3ead",
   "metadata": {},
   "outputs": [
    {
     "data": {
      "text/plain": [
       "0.802"
      ]
     },
     "execution_count": 140,
     "metadata": {},
     "output_type": "execute_result"
    }
   ],
   "source": [
    "tools.getRecall(ref=recom.reactions.exist_annotation, pred=res['candidates'])"
   ]
  },
  {
   "cell_type": "code",
   "execution_count": 142,
   "id": "13e0c9da-76a4-43b6-ac07-33bcf12a2478",
   "metadata": {},
   "outputs": [
    {
     "data": {
      "text/plain": [
       "0.411"
      ]
     },
     "execution_count": 142,
     "metadata": {},
     "output_type": "execute_result"
    }
   ],
   "source": [
    "tools.getPrecision(ref=recom.reactions.exist_annotation, pred=res['candidates'])"
   ]
  },
  {
   "cell_type": "code",
   "execution_count": null,
   "id": "ff5eb9a9-d16e-4b93-a020-a7b8fbf7f0e4",
   "metadata": {},
   "outputs": [],
   "source": []
  },
  {
   "cell_type": "code",
   "execution_count": null,
   "id": "c6082fac-dc1f-4ccf-8660-7b86d663e55a",
   "metadata": {},
   "outputs": [],
   "source": [
    "# make recommendations (compute time)\n",
    "time1 = time.time()\n",
    "recoms = recom.getReactionListRecommendation(pred_ids=reacs2eval)\n",
    "time2 = time.time()\n",
    "recom_stats = recom.getReactionStatistics(model_mean=True)\n",
    "ave_recall = recom_stats[cn.RECALL]\n",
    "ave_precision = recom_stats[cn.PRECISION]"
   ]
  },
  {
   "cell_type": "code",
   "execution_count": null,
   "id": "67086496-65da-4b2d-bff1-5ce9d5d035ac",
   "metadata": {},
   "outputs": [],
   "source": [
    "recom.reactions.predictAnnotation"
   ]
  }
 ],
 "metadata": {
  "kernelspec": {
   "display_name": "Python 3 (ipykernel)",
   "language": "python",
   "name": "python3"
  },
  "language_info": {
   "codemirror_mode": {
    "name": "ipython",
    "version": 3
   },
   "file_extension": ".py",
   "mimetype": "text/x-python",
   "name": "python",
   "nbconvert_exporter": "python",
   "pygments_lexer": "ipython3",
   "version": "3.11.2"
  }
 },
 "nbformat": 4,
 "nbformat_minor": 5
}
