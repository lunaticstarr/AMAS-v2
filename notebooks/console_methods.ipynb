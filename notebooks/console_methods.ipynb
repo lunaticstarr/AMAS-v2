{
 "cells": [
  {
   "cell_type": "code",
   "execution_count": 1,
   "id": "5e992c43-8f82-449e-82c7-272fa80aa7e8",
   "metadata": {},
   "outputs": [
    {
     "name": "stdout",
     "output_type": "stream",
     "text": [
      "Number of BioModels to be analyzed for SPECIES: 306\n",
      "Number of BioModels to be analyzed for REACTIONS: 131\n"
     ]
    }
   ],
   "source": [
    "# Update iterator algorithm; and making recommendations; \n",
    "import collections\n",
    "import compress_pickle\n",
    "import copy\n",
    "import itertools\n",
    "import libsbml\n",
    "import numpy as np\n",
    "import operator\n",
    "import os\n",
    "import pickle\n",
    "import pandas as pd\n",
    "import sys\n",
    "import matplotlib.pyplot as plt\n",
    "%matplotlib inline  \n",
    "\n",
    "BIOMD_12 = 'BIOMD0000000012.xml'\n",
    "BASE_DIR = '/Users/woosubshin/Desktop/AutomateAnnotation/'\n",
    "DATA_DIR = os.path.join(BASE_DIR, \"DATA\")\n",
    "ALGO_DIR = os.path.join(DATA_DIR, \"algo\")\n",
    "CHEBI_DIR = os.path.join(DATA_DIR, \"chebi\")\n",
    "RHEA_DIR = os.path.join(DATA_DIR, \"rhea\")\n",
    "BIOMODEL_DIR = os.path.join(DATA_DIR, \"biomodels/curated_biomodels_31mar2021\")\n",
    "BIGG_DIR = '/Users/woosubshin/Desktop/AutomateAnnotation/DATA/bigg'\n",
    "ecoli_fpath = os.path.join(BIGG_DIR, \"e_coli_core.xml\")\n",
    "\n",
    "PROJ_DIR = os.path.join(os.getcwd(), os.pardir)\n",
    "AMAS_DIR = os.path.join(PROJ_DIR, \"AMAS\")\n",
    "sys.path.append(PROJ_DIR)\n",
    "\n",
    "SUPPL_DIR = os.path.join(PROJ_DIR, os.pardir, \"AMAS_suppl\")\n",
    "ACCURACY_DIR = os.path.join(SUPPL_DIR, \"data_for_credibility\")\n",
    "\n",
    "from AMAS import annotation_maker as am\n",
    "from AMAS import species_annotation as sa\n",
    "from AMAS import reaction_annotation as ra\n",
    "from AMAS import recommender\n",
    "from AMAS import constants as cn\n",
    "from AMAS import iterator as it\n",
    "from AMAS import tools\n",
    "\n",
    "spec_ml_df = pd.read_csv(os.path.join(ACCURACY_DIR, 'biomd_individual_species_accuracy.csv'))\n",
    "biomds_spec = np.unique(spec_ml_df['model'])\n",
    "print(\"Number of BioModels to be analyzed for SPECIES: %d\" % len(biomds_spec))\n",
    "\n",
    "reac_ml_df = pd.read_csv(os.path.join(ACCURACY_DIR, 'biomd_individual_reactions_accuracy.csv'))\n",
    "biomds_reac = np.unique(reac_ml_df['model'])\n",
    "print(\"Number of BioModels to be analyzed for REACTIONS: %d\" % len(biomds_reac))"
   ]
  },
  {
   "cell_type": "code",
   "execution_count": 2,
   "id": "6834d676-fab6-466a-9f8a-1ddf0e930305",
   "metadata": {},
   "outputs": [],
   "source": [
    "one_fpath = os.path.join(BIOMODEL_DIR, 'BIOMD0000000190.xml')\n",
    "recom = recommender.Recommender(libsbml_fpath=one_fpath)"
   ]
  },
  {
   "cell_type": "code",
   "execution_count": 3,
   "id": "d86b128e-185f-4903-8edc-8136c5b4fa66",
   "metadata": {},
   "outputs": [
    {
     "data": {
      "text/plain": [
       "['SAM', 'A', 'P', 'S', 'D', 'aS', 'aD', 'Met', 'ORN', 'AcCoA', 'CoA']"
      ]
     },
     "execution_count": 3,
     "metadata": {},
     "output_type": "execute_result"
    }
   ],
   "source": [
    "recom.getSpeciesIDs()"
   ]
  },
  {
   "cell_type": "code",
   "execution_count": 4,
   "id": "59704e02-fd9e-4f0a-bba2-4fa29906c158",
   "metadata": {},
   "outputs": [
    {
     "name": "stdout",
     "output_type": "stream",
     "text": [
      "No species after the element filter.\n"
     ]
    }
   ],
   "source": [
    "recom.recommendSpecies(min_len=4000)"
   ]
  },
  {
   "cell_type": "code",
   "execution_count": 5,
   "id": "f4b761d3-c36c-4b45-b615-9573d0492a61",
   "metadata": {},
   "outputs": [
    {
     "name": "stdout",
     "output_type": "stream",
     "text": [
      "No reaction after the element filter.\n"
     ]
    }
   ],
   "source": [
    "recom.recommendReactions(min_len=40)"
   ]
  },
  {
   "cell_type": "code",
   "execution_count": 6,
   "id": "57448465-f1c8-4ecb-85b5-6b168536e7a6",
   "metadata": {},
   "outputs": [
    {
     "data": {
      "text/html": [
       "<div>\n",
       "<style scoped>\n",
       "    .dataframe tbody tr th:only-of-type {\n",
       "        vertical-align: middle;\n",
       "    }\n",
       "\n",
       "    .dataframe tbody tr th {\n",
       "        vertical-align: top;\n",
       "    }\n",
       "\n",
       "    .dataframe thead th {\n",
       "        text-align: right;\n",
       "    }\n",
       "</style>\n",
       "<table border=\"1\" class=\"dataframe\">\n",
       "  <thead>\n",
       "    <tr style=\"text-align: right;\">\n",
       "      <th></th>\n",
       "      <th>file</th>\n",
       "      <th>type</th>\n",
       "      <th>id</th>\n",
       "      <th>display name</th>\n",
       "      <th>meta id</th>\n",
       "      <th>annotation</th>\n",
       "      <th>annotation label</th>\n",
       "      <th>match score</th>\n",
       "      <th>existing</th>\n",
       "      <th>UPDATE ANNOTATION</th>\n",
       "    </tr>\n",
       "  </thead>\n",
       "  <tbody>\n",
       "    <tr>\n",
       "      <th>0</th>\n",
       "      <td>BIOMD0000000190.xml</td>\n",
       "      <td>reaction</td>\n",
       "      <td>ODC</td>\n",
       "      <td>Ornithine decarboxylase</td>\n",
       "      <td>metaid_0000062</td>\n",
       "      <td>RHEA:22964</td>\n",
       "      <td>ornithine decarboxylase activity</td>\n",
       "      <td>1.0</td>\n",
       "      <td>1</td>\n",
       "      <td>keep</td>\n",
       "    </tr>\n",
       "    <tr>\n",
       "      <th>1</th>\n",
       "      <td>BIOMD0000000190.xml</td>\n",
       "      <td>reaction</td>\n",
       "      <td>ODC</td>\n",
       "      <td>Ornithine decarboxylase</td>\n",
       "      <td>metaid_0000062</td>\n",
       "      <td>RHEA:28827</td>\n",
       "      <td>L-ornithine(out) + putrescine(in) = L-ornithine(in) + putrescine(out)</td>\n",
       "      <td>1.0</td>\n",
       "      <td>0</td>\n",
       "      <td>ignore</td>\n",
       "    </tr>\n",
       "    <tr>\n",
       "      <th>2</th>\n",
       "      <td>BIOMD0000000190.xml</td>\n",
       "      <td>reaction</td>\n",
       "      <td>ODC</td>\n",
       "      <td>Ornithine decarboxylase</td>\n",
       "      <td>metaid_0000062</td>\n",
       "      <td>RHEA:59048</td>\n",
       "      <td>D-ornithine + H(+) = CO2 + putrescine</td>\n",
       "      <td>1.0</td>\n",
       "      <td>0</td>\n",
       "      <td>ignore</td>\n",
       "    </tr>\n",
       "    <tr>\n",
       "      <th>3</th>\n",
       "      <td>BIOMD0000000190.xml</td>\n",
       "      <td>reaction</td>\n",
       "      <td>SAMdc</td>\n",
       "      <td>S-adenosylmethionine decarboxylase</td>\n",
       "      <td>metaid_0000063</td>\n",
       "      <td>RHEA:15981</td>\n",
       "      <td>adenosylmethionine decarboxylase activity</td>\n",
       "      <td>0.5</td>\n",
       "      <td>1</td>\n",
       "      <td>keep</td>\n",
       "    </tr>\n",
       "  </tbody>\n",
       "</table>\n",
       "</div>"
      ],
      "text/plain": [
       "                  file      type     id                        display name  \\\n",
       "0  BIOMD0000000190.xml  reaction    ODC             Ornithine decarboxylase   \n",
       "1  BIOMD0000000190.xml  reaction    ODC             Ornithine decarboxylase   \n",
       "2  BIOMD0000000190.xml  reaction    ODC             Ornithine decarboxylase   \n",
       "3  BIOMD0000000190.xml  reaction  SAMdc  S-adenosylmethionine decarboxylase   \n",
       "\n",
       "          meta id  annotation  \\\n",
       "0  metaid_0000062  RHEA:22964   \n",
       "1  metaid_0000062  RHEA:28827   \n",
       "2  metaid_0000062  RHEA:59048   \n",
       "3  metaid_0000063  RHEA:15981   \n",
       "\n",
       "                                                        annotation label  \\\n",
       "0                                       ornithine decarboxylase activity   \n",
       "1  L-ornithine(out) + putrescine(in) = L-ornithine(in) + putrescine(out)   \n",
       "2                                  D-ornithine + H(+) = CO2 + putrescine   \n",
       "3                              adenosylmethionine decarboxylase activity   \n",
       "\n",
       "   match score  existing UPDATE ANNOTATION  \n",
       "0          1.0         1              keep  \n",
       "1          1.0         0            ignore  \n",
       "2          1.0         0            ignore  \n",
       "3          0.5         1              keep  "
      ]
     },
     "execution_count": 6,
     "metadata": {},
     "output_type": "execute_result"
    }
   ],
   "source": [
    "rec = recom.recommendReactions(ids=['ODC', 'SAMdc'])\n",
    "rec"
   ]
  },
  {
   "cell_type": "code",
   "execution_count": 7,
   "id": "6ff9668f-fadc-4acb-8813-09ab8065e52f",
   "metadata": {},
   "outputs": [],
   "source": [
    "spec_res = recom.getSpeciesListRecommendation(pred_ids=['SAM', 'ORN'],\n",
    "                                              get_df=True)"
   ]
  },
  {
   "cell_type": "code",
   "execution_count": 8,
   "id": "7c07cdad-38ec-4538-8a78-30aa783c3765",
   "metadata": {},
   "outputs": [
    {
     "data": {
      "text/plain": [
       "[      annotation  match score                               label\n",
       " SAM                                                              \n",
       " 1    CHEBI:15414          1.0             S-adenosyl-L-methionine\n",
       " 2    CHEBI:59789          1.0  S-adenosyl-L-methionine zwitterion,\n",
       "       annotation  match score              label\n",
       " ORN                                             \n",
       " 1    CHEBI:15729          1.0        L-ornithine\n",
       " 2    CHEBI:46911          1.0  L-ornithinium(1+)]"
      ]
     },
     "execution_count": 8,
     "metadata": {},
     "output_type": "execute_result"
    }
   ],
   "source": [
    "spec_res"
   ]
  },
  {
   "cell_type": "code",
   "execution_count": 9,
   "id": "e78877e5-c45a-41b8-adac-d0806ffe5c7e",
   "metadata": {},
   "outputs": [
    {
     "data": {
      "text/html": [
       "<div>\n",
       "<style scoped>\n",
       "    .dataframe tbody tr th:only-of-type {\n",
       "        vertical-align: middle;\n",
       "    }\n",
       "\n",
       "    .dataframe tbody tr th {\n",
       "        vertical-align: top;\n",
       "    }\n",
       "\n",
       "    .dataframe thead th {\n",
       "        text-align: right;\n",
       "    }\n",
       "</style>\n",
       "<table border=\"1\" class=\"dataframe\">\n",
       "  <thead>\n",
       "    <tr style=\"text-align: right;\">\n",
       "      <th></th>\n",
       "      <th>file</th>\n",
       "      <th>type</th>\n",
       "      <th>id</th>\n",
       "      <th>display name</th>\n",
       "      <th>meta id</th>\n",
       "      <th>annotation</th>\n",
       "      <th>annotation label</th>\n",
       "      <th>match score</th>\n",
       "      <th>existing</th>\n",
       "      <th>UPDATE ANNOTATION</th>\n",
       "    </tr>\n",
       "  </thead>\n",
       "  <tbody>\n",
       "    <tr>\n",
       "      <th>0</th>\n",
       "      <td>BIOMD0000000190.xml</td>\n",
       "      <td>species</td>\n",
       "      <td>SAM</td>\n",
       "      <td>S-adenosyl-L-methionine</td>\n",
       "      <td>metaid_0000036</td>\n",
       "      <td>CHEBI:15414</td>\n",
       "      <td>S-adenosyl-L-methionine</td>\n",
       "      <td>1.0</td>\n",
       "      <td>1</td>\n",
       "      <td>keep</td>\n",
       "    </tr>\n",
       "    <tr>\n",
       "      <th>1</th>\n",
       "      <td>BIOMD0000000190.xml</td>\n",
       "      <td>species</td>\n",
       "      <td>SAM</td>\n",
       "      <td>S-adenosyl-L-methionine</td>\n",
       "      <td>metaid_0000036</td>\n",
       "      <td>CHEBI:59789</td>\n",
       "      <td>S-adenosyl-L-methionine zwitterion</td>\n",
       "      <td>1.0</td>\n",
       "      <td>0</td>\n",
       "      <td>ignore</td>\n",
       "    </tr>\n",
       "    <tr>\n",
       "      <th>2</th>\n",
       "      <td>BIOMD0000000190.xml</td>\n",
       "      <td>species</td>\n",
       "      <td>ORN</td>\n",
       "      <td>L-Ornithine</td>\n",
       "      <td>metaid_0000044</td>\n",
       "      <td>CHEBI:15729</td>\n",
       "      <td>L-ornithine</td>\n",
       "      <td>1.0</td>\n",
       "      <td>1</td>\n",
       "      <td>keep</td>\n",
       "    </tr>\n",
       "    <tr>\n",
       "      <th>3</th>\n",
       "      <td>BIOMD0000000190.xml</td>\n",
       "      <td>species</td>\n",
       "      <td>ORN</td>\n",
       "      <td>L-Ornithine</td>\n",
       "      <td>metaid_0000044</td>\n",
       "      <td>CHEBI:46911</td>\n",
       "      <td>L-ornithinium(1+)</td>\n",
       "      <td>1.0</td>\n",
       "      <td>0</td>\n",
       "      <td>ignore</td>\n",
       "    </tr>\n",
       "  </tbody>\n",
       "</table>\n",
       "</div>"
      ],
      "text/plain": [
       "                  file     type   id             display name         meta id  \\\n",
       "0  BIOMD0000000190.xml  species  SAM  S-adenosyl-L-methionine  metaid_0000036   \n",
       "1  BIOMD0000000190.xml  species  SAM  S-adenosyl-L-methionine  metaid_0000036   \n",
       "2  BIOMD0000000190.xml  species  ORN              L-Ornithine  metaid_0000044   \n",
       "3  BIOMD0000000190.xml  species  ORN              L-Ornithine  metaid_0000044   \n",
       "\n",
       "    annotation                    annotation label  match score  existing  \\\n",
       "0  CHEBI:15414             S-adenosyl-L-methionine          1.0         1   \n",
       "1  CHEBI:59789  S-adenosyl-L-methionine zwitterion          1.0         0   \n",
       "2  CHEBI:15729                         L-ornithine          1.0         1   \n",
       "3  CHEBI:46911                   L-ornithinium(1+)          1.0         0   \n",
       "\n",
       "  UPDATE ANNOTATION  \n",
       "0              keep  \n",
       "1            ignore  \n",
       "2              keep  \n",
       "3            ignore  "
      ]
     },
     "execution_count": 9,
     "metadata": {},
     "output_type": "execute_result"
    }
   ],
   "source": [
    "spec_rec = recom.recommendSpecies(['SAM', 'ORN'])\n",
    "spec_rec"
   ]
  },
  {
   "cell_type": "code",
   "execution_count": 10,
   "id": "de60ea8f-11a9-4bd6-925b-8ecc8339117e",
   "metadata": {},
   "outputs": [
    {
     "name": "stdout",
     "output_type": "stream",
     "text": [
      "...\n",
      "Analyzing 11 species...\n",
      "\n",
      "...\n",
      "Analyzing 13 reaction(s)...\n",
      "\n"
     ]
    }
   ],
   "source": [
    "specs = recom.getSpeciesIDs()\n",
    "print(\"...\\nAnalyzing %d species...\\n\" % len(specs))\n",
    "res_spec = recom.getSpeciesListRecommendation(pred_ids=specs)\n",
    "cur_form = dict()\n",
    "for one_rec in res_spec:\n",
    "  cands = [val[0] for val in one_rec.candidates]\n",
    "  one_form = list(set([cn.REF_CHEBI2FORMULA[k] \\\n",
    "                    for k in cands if k in cn.REF_CHEBI2FORMULA.keys()]))\n",
    "  cur_form[one_rec.id] = one_form\n",
    "\n",
    "reacts = recom.getReactionIDs()\n",
    "print(\"...\\nAnalyzing %d reaction(s)...\\n\" % len(reacts))\n",
    "res_reac = recom.getReactionListRecommendation(pred_ids=reacts,\n",
    "                                             spec_res=res_spec)"
   ]
  },
  {
   "cell_type": "code",
   "execution_count": 11,
   "id": "76db5388-18a5-4634-9356-287775fbbce2",
   "metadata": {},
   "outputs": [
    {
     "data": {
      "text/plain": [
       "{'SAM': ['C15N6O5S'],\n",
       " 'A': ['C14N6O3S'],\n",
       " 'P': ['C4N2'],\n",
       " 'S': ['C10N4'],\n",
       " 'D': ['C7N3'],\n",
       " 'aS': ['C12N4O'],\n",
       " 'aD': ['C9N3O'],\n",
       " 'Met': ['C5NO2S'],\n",
       " 'ORN': ['C5N2O2'],\n",
       " 'AcCoA': ['C23N7O17P3S'],\n",
       " 'CoA': ['C21N7O16P3S', 'C2O2']}"
      ]
     },
     "execution_count": 11,
     "metadata": {},
     "output_type": "execute_result"
    }
   ],
   "source": [
    "cur_form"
   ]
  },
  {
   "cell_type": "code",
   "execution_count": 12,
   "id": "83465991-1534-478b-9d07-172d6df71f89",
   "metadata": {},
   "outputs": [
    {
     "data": {
      "text/plain": [
       "list"
      ]
     },
     "execution_count": 12,
     "metadata": {},
     "output_type": "execute_result"
    }
   ],
   "source": [
    "type(reacts)"
   ]
  },
  {
   "cell_type": "code",
   "execution_count": 13,
   "id": "bb31b697-7dae-4028-a12c-e7c660db3304",
   "metadata": {},
   "outputs": [],
   "source": [
    "# def optimizePrediction(cur_spec_formula,\n",
    "#                        reaction_cl,\n",
    "#                        reactions_to_update):\n",
    "#   \"\"\"\n",
    "#   Optimize prediction using iteration.\n",
    "  \n",
    "#   Parameters\n",
    "#   ----------\n",
    "#   cur_spec_formula: dict\n",
    "#       (predicted) formula of species\n",
    "\n",
    "#   reaction_cl: AMAS.reaction_annotation.ReactionAnnotation\n",
    "  \n",
    "#   reactions_to_update: list\n",
    "#       IDs of reactions\n",
    "      \n",
    "#   Returns\n",
    "#   -------\n",
    "#   fin_spec_recom: Recommendation (namedtuple)\n",
    "  \n",
    "#   fin_reac_recom: Recommendation (namedtuple)\n",
    "#   \"\"\"\n",
    "#   anot_iter = it.Iterator(cur_spec_formula=cur_spec_formula,\n",
    "#                           reaction_cl=reaction_cl,\n",
    "#                           reactions_to_update=reactions_to_update)\n",
    "#   res_iter = anot_iter.match()\n",
    "#   recoms_tobe_added = []\n",
    "#   for one_spec in res_iter.keys():\n",
    "#     pred_reacs = [val.id for val in res_reac]\n",
    "#     reacs_using_one_spec = [val for val in pred_reacs \\\n",
    "#                             if one_spec in reaction_cl.reaction_components[val]]\n",
    "#     filt_res_reac = [val for val in res_reac if val.id in reacs_using_one_spec]\n",
    "#     # match score of reactions using that species\n",
    "#     adj_match_score = np.mean(list(itertools.chain(*[[cand[1] for cand in val.candidates] \\\n",
    "#                               for val in filt_res_reac])))\n",
    "#     cands = res_iter[one_spec]\n",
    "#     adj_formulas = list(set([cn.REF_CHEBI2FORMULA[k] \\\n",
    "#                              for k in cands if k in cn.REF_CHEBI2FORMULA.keys()]))\n",
    "#     urls = [cn.CHEBI_DEFAULT_URL + val[6:] for val in cands]\n",
    "#     labels = [cn.REF_CHEBI2LABEL[val] for val in cands]\n",
    "#     adj_recom = cn.Recommendation(one_spec,\n",
    "#                                   [(val, adj_match_score) for val in cands],\n",
    "#                                   urls,\n",
    "#                                   labels)\n",
    "#     recoms_tobe_added.append(adj_recom)\n",
    "#   fin_spec_recom = recoms_tobe_added + \\\n",
    "#                    [val for val in res_spec if val.id not in res_iter.keys()]\n",
    "#   fin_reac_recom = recom.getReactionListRecommendation(pred_ids=reacts,\n",
    "#                                                        spec_res=fin_spec_recom)\n",
    "#   return fin_spec_recom, fin_reac_recom"
   ]
  },
  {
   "cell_type": "code",
   "execution_count": 5,
   "id": "bfe6365f-4541-490d-85db-c573ced910f5",
   "metadata": {},
   "outputs": [
    {
     "name": "stdout",
     "output_type": "stream",
     "text": [
      "we are at 0\n",
      "Found!\n"
     ]
    }
   ],
   "source": [
    "for idx, one_biomd in enumerate(['BIOMD0000000017.xml']):\n",
    "  if idx % 20 == 0:\n",
    "    print(\"we are at\", idx)\n",
    "  \n",
    "  one_fpath = os.path.join(BIOMODEL_DIR, one_biomd)\n",
    "  recom = recommender.Recommender(libsbml_fpath=one_fpath)\n",
    "\n",
    "  specs = recom.getSpeciesIDs()\n",
    "  res_spec = recom.getSpeciesListRecommendation(pred_ids=specs)\n",
    "  # cur_form = dict()\n",
    "  # for one_rec in res_spec:\n",
    "  #   cur_cands = [val[0] for val in one_rec.candidates]\n",
    "  #   one_form = list(set([cn.REF_CHEBI2FORMULA[k] \\\n",
    "  #                     for k in cur_cands if k in cn.REF_CHEBI2FORMULA.keys()]))\n",
    "  #   cur_form[one_rec.id] = one_form\n",
    "\n",
    "  reacts = recom.getReactionIDs() \n",
    "  res_reac = recom.getReactionListRecommendation(pred_ids=reacts,\n",
    "                                                 spec_res=res_spec)\n",
    "  opt_spec_recom, opt_reac_recom = recom.optimizePrediction(pred_spec=res_spec,\n",
    "                                                            pred_reac=res_reac,\n",
    "                                                            reactions_to_update=reacts)\n",
    "  oner = opt_spec_recom!=res_spec\n",
    "  twor = opt_reac_recom!=res_reac\n",
    "  if any([oner, twor]):\n",
    "    print(\"Found!\")\n",
    "    break"
   ]
  },
  {
   "cell_type": "code",
   "execution_count": 9,
   "id": "e5ad6465-c65a-4259-b854-bd9a73c34c9c",
   "metadata": {},
   "outputs": [
    {
     "data": {
      "text/plain": [
       "[Recommendation(id='AcetoinIn', candidates=[('CHEBI:2430', 1.0)], urls=['https://www.ebi.ac.uk/chebi/searchId.do?chebiId=CHEBI%3A2430'], labels=['aconitine'])]"
      ]
     },
     "execution_count": 9,
     "metadata": {},
     "output_type": "execute_result"
    }
   ],
   "source": [
    "[val for val in res_spec if val.id == 'AcetoinIn']"
   ]
  },
  {
   "cell_type": "code",
   "execution_count": 10,
   "id": "2d3e854b-5031-43cd-8c2d-6cafb07483ea",
   "metadata": {},
   "outputs": [
    {
     "data": {
      "text/plain": [
       "[Recommendation(id='AcetoinIn', candidates=[('CHEBI:15378', 0.98792749244713)], urls=['https://www.ebi.ac.uk/chebi/searchId.do?chebiId=CHEBI%3A15378'], labels=['hydron'])]"
      ]
     },
     "execution_count": 10,
     "metadata": {},
     "output_type": "execute_result"
    }
   ],
   "source": [
    "[val for val in opt_spec_recom if val.id == 'AcetoinIn']"
   ]
  },
  {
   "cell_type": "code",
   "execution_count": 3,
   "id": "13125b94-bbd3-4f65-a483-4f3cf33215bb",
   "metadata": {},
   "outputs": [
    {
     "name": "stdout",
     "output_type": "stream",
     "text": [
      "we are at 0\n",
      "Found!\n"
     ]
    }
   ],
   "source": [
    "for idx, one_biomd in enumerate(biomds_spec[3:5]):\n",
    "  if idx % 20 == 0:\n",
    "    print(\"we are at\", idx)\n",
    "  \n",
    "  one_fpath = os.path.join(BIOMODEL_DIR, one_biomd)\n",
    "  recom = recommender.Recommender(libsbml_fpath=one_fpath)\n",
    "\n",
    "  specs = recom.getSpeciesIDs()\n",
    "  res_spec = recom.getSpeciesListRecommendation(pred_ids=specs)\n",
    "  cur_form = dict()\n",
    "  for one_rec in res_spec:\n",
    "    cur_cands = [val[0] for val in one_rec.candidates]\n",
    "    one_form = list(set([cn.REF_CHEBI2FORMULA[k] \\\n",
    "                      for k in cur_cands if k in cn.REF_CHEBI2FORMULA.keys()]))\n",
    "    cur_form[one_rec.id] = one_form\n",
    "\n",
    "  reacts = recom.getReactionIDs() \n",
    "  res_reac = recom.getReactionListRecommendation(pred_ids=reacts,\n",
    "                                                 spec_res=res_spec)\n",
    "  ## \n",
    "  anot_iter = it.Iterator(cur_spec_formula=cur_form,\n",
    "                          reaction_cl=recom.reactions,\n",
    "                          reactions_to_update=reacts)\n",
    "  res_iter = anot_iter.match()\n",
    "  recoms_tobe_added = []\n",
    "  for one_spec in res_iter.keys():\n",
    "    pred_reacs = [val.id for val in res_reac]\n",
    "    reacs_using_one_spec = [val for val in pred_reacs \\\n",
    "                            if one_spec in recom.reactions.reaction_components[val]]\n",
    "    filt_res_reac = [val for val in res_reac if val.id in reacs_using_one_spec]\n",
    "    # match score of reactions using that species\n",
    "    adj_match_score = np.mean(list(itertools.chain(*[[cand[1] for cand in val.candidates] \\\n",
    "                              for val in filt_res_reac])))\n",
    "    cands = res_iter[one_spec]\n",
    "    adj_formulas = list(set([cn.REF_CHEBI2FORMULA[k] \\\n",
    "                             for k in cands if k in cn.REF_CHEBI2FORMULA.keys()]))\n",
    "    urls = [cn.CHEBI_DEFAULT_URL + val[6:] for val in cands]\n",
    "    labels = [cn.REF_CHEBI2LABEL[val] for val in cands]\n",
    "    adj_recom = cn.Recommendation(one_spec,\n",
    "                                  [(val, adj_match_score) for val in cands],\n",
    "                                  urls,\n",
    "                                  labels)\n",
    "    recoms_tobe_added.append(adj_recom)\n",
    "  fin_spec_recom = recoms_tobe_added + \\\n",
    "                   [val for val in res_spec if val.id not in res_iter.keys()]\n",
    "  fin_reac_recom = recom.getReactionListRecommendation(pred_ids=reacts,\n",
    "                                                       spec_res=fin_spec_recom)\n",
    "  oner = fin_spec_recom!=res_spec\n",
    "  twor = fin_reac_recom!=res_reac\n",
    "  if any([oner, twor]):\n",
    "    print(\"Found!\")\n",
    "    break"
   ]
  },
  {
   "cell_type": "code",
   "execution_count": 57,
   "id": "6f9bf21c-531b-4f77-9693-fa74af5e6420",
   "metadata": {},
   "outputs": [
    {
     "data": {
      "text/plain": [
       "3"
      ]
     },
     "execution_count": 57,
     "metadata": {},
     "output_type": "execute_result"
    }
   ],
   "source": [
    "idx"
   ]
  },
  {
   "cell_type": "code",
   "execution_count": 22,
   "id": "0f08c149-4e3f-4e19-b0c1-e17c5ea439a2",
   "metadata": {},
   "outputs": [
    {
     "data": {
      "text/plain": [
       "{}"
      ]
     },
     "execution_count": 22,
     "metadata": {},
     "output_type": "execute_result"
    }
   ],
   "source": [
    "res_iter"
   ]
  },
  {
   "cell_type": "code",
   "execution_count": null,
   "id": "90b21e6f-f84d-43b7-a36b-076f1fecee4a",
   "metadata": {},
   "outputs": [],
   "source": []
  },
  {
   "cell_type": "code",
   "execution_count": null,
   "id": "245eaa52-7c7c-4629-80dd-5ca8a9a3033e",
   "metadata": {},
   "outputs": [],
   "source": [
    "# combined"
   ]
  },
  {
   "cell_type": "code",
   "execution_count": null,
   "id": "b398101a-6c4a-410f-b5ec-dd2c8ac63569",
   "metadata": {},
   "outputs": [],
   "source": [
    "def recommendAnnotation(mssc='top',\n",
    "                        cutoff=0.0,\n",
    "                        outtype='table'):\n",
    "  \"\"\"\n",
    "  Recommend annotation of \n",
    "  \"\"\""
   ]
  },
  {
   "cell_type": "code",
   "execution_count": 13,
   "id": "71254a5c-2f85-4841-8bfc-1bb799d6acd0",
   "metadata": {},
   "outputs": [
    {
     "data": {
      "text/plain": [
       "'S-adenosyl-L-methionine'"
      ]
     },
     "execution_count": 13,
     "metadata": {},
     "output_type": "execute_result"
    }
   ],
   "source": [
    "recom.species.getNameToUse('SAM')"
   ]
  },
  {
   "cell_type": "code",
   "execution_count": 19,
   "id": "ef665d4a-c524-4cf5-b134-ebf381d2ae1b",
   "metadata": {},
   "outputs": [],
   "source": [
    "# getRecomSBML\n",
    "model = recom.sbml_document.getModel()\n",
    "ELEMENT_FUNC = {'species': model.getSpecies,\n",
    "                'reaction': model.getReaction}\n",
    "#######################\n",
    "one_type = 'species'\n",
    "one_recomt = spec_recomt\n",
    "#######################\n",
    "maker = am.AnnotationMaker(one_type)"
   ]
  },
  {
   "cell_type": "code",
   "execution_count": null,
   "id": "16306de1-17a5-4400-ac06-805ef3d3b4a9",
   "metadata": {},
   "outputs": [],
   "source": [
    "model = self.sbml_document.getModel()\n",
    "ELEMENT_FUNC = {'species': model.getSpecies,\n",
    "                'reaction': model.getReaction}\n",
    "# dictionary with empty lists; \n",
    "saved_elements = {k:[] for k in ELEMENT_TYPES}\n",
    "for one_type in ELEMENT_TYPES:\n",
    "  type_selection = self.selection[one_type]\n",
    "  maker = am.AnnotationMaker(one_type)\n",
    "  sel2save = type_selection\n",
    "\n",
    "\n",
    "  for one_k in sel2save.keys():\n",
    "    one_element = ELEMENT_FUNC[one_type](one_k)\n",
    "    meta_id = one_element.meta_id\n",
    "    df = sel2save[one_k]\n",
    "    cands2save = list(df['annotation'])\n",
    "    if cands2save:\n",
    "      if option == 'augment':\n",
    "        orig_annotation = one_element.getAnnotationString()\n",
    "        annotation_str = maker.addAnnotation(cands2save,\n",
    "                                             orig_annotation,\n",
    "                                             meta_id)\n",
    "      elif option == 'replace':\n",
    "        annotation_str = maker.getAnnotationString(cands2save, meta_id)\n",
    "      one_element.setAnnotation(annotation_str)\n",
    "      saved_elements[one_type].append(one_k)\n",
    "    else:\n",
    "      continue"
   ]
  }
 ],
 "metadata": {
  "kernelspec": {
   "display_name": "Python 3 (ipykernel)",
   "language": "python",
   "name": "python3"
  },
  "language_info": {
   "codemirror_mode": {
    "name": "ipython",
    "version": 3
   },
   "file_extension": ".py",
   "mimetype": "text/x-python",
   "name": "python",
   "nbconvert_exporter": "python",
   "pygments_lexer": "ipython3",
   "version": "3.11.2"
  }
 },
 "nbformat": 4,
 "nbformat_minor": 5
}
