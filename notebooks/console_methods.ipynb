{
 "cells": [
  {
   "cell_type": "code",
   "execution_count": 203,
   "id": "865e99db-0575-4809-a036-6cc102616240",
   "metadata": {},
   "outputs": [],
   "source": [
    "# tpoints = [8, 16, 31, 61, 121]\n",
    "# corrects1 = [0.1620, 0.1440, 0.1310, 0.1240, 0.1040]\n",
    "# corrects2 = [0.1910, 0.1660, 0.1420, 0.1310, 0.1150]\n",
    "# plt.scatter([np.log2(val) for val in tpoints], corrects1, label='2000/1000')\n",
    "# plt.scatter([np.log2(val) for val in tpoints], corrects2, label='4000/2000')\n",
    "# plt.xlabel('Log2 of time points')\n",
    "# plt.ylabel('Percentage of correct')\n",
    "# plt.legend()"
   ]
  },
  {
   "cell_type": "code",
   "execution_count": 1,
   "id": "5e992c43-8f82-449e-82c7-272fa80aa7e8",
   "metadata": {},
   "outputs": [
    {
     "name": "stdout",
     "output_type": "stream",
     "text": [
      "Number of BioModels to be analyzed for SPECIES: 306\n",
      "Number of BioModels to be analyzed for REACTIONS: 131\n"
     ]
    }
   ],
   "source": [
    "# Update iterator algorithm; and making recommendations; \n",
    "import collections\n",
    "import compress_pickle\n",
    "import copy\n",
    "import itertools\n",
    "import libsbml\n",
    "import numpy as np\n",
    "import operator\n",
    "import os\n",
    "import pickle\n",
    "import pandas as pd\n",
    "import sys\n",
    "import matplotlib.pyplot as plt\n",
    "%matplotlib inline  \n",
    "\n",
    "BIOMD_12 = 'BIOMD0000000012.xml'\n",
    "BASE_DIR = '/Users/woosubshin/Desktop/AutomateAnnotation/'\n",
    "DATA_DIR = os.path.join(BASE_DIR, \"DATA\")\n",
    "ALGO_DIR = os.path.join(DATA_DIR, \"algo\")\n",
    "CHEBI_DIR = os.path.join(DATA_DIR, \"chebi\")\n",
    "RHEA_DIR = os.path.join(DATA_DIR, \"rhea\")\n",
    "BIOMODEL_DIR = os.path.join(DATA_DIR, \"biomodels/curated_biomodels_31mar2021\")\n",
    "BIGG_DIR = '/Users/woosubshin/Desktop/AutomateAnnotation/DATA/bigg'\n",
    "ecoli_fpath = os.path.join(BIGG_DIR, \"e_coli_core.xml\")\n",
    "\n",
    "PROJ_DIR = os.path.join(os.getcwd(), os.pardir)\n",
    "AMAS_DIR = os.path.join(PROJ_DIR, \"AMAS\")\n",
    "sys.path.append(PROJ_DIR)\n",
    "\n",
    "SUPPL_DIR = os.path.join(PROJ_DIR, os.pardir, \"AMAS_suppl\")\n",
    "ACCURACY_DIR = os.path.join(SUPPL_DIR, \"data_for_credibility\")\n",
    "\n",
    "from AMAS import annotation_maker as am\n",
    "from AMAS import species_annotation as sa\n",
    "from AMAS import reaction_annotation as ra\n",
    "from AMAS import recommender\n",
    "from AMAS import constants as cn\n",
    "from AMAS import iterator as it\n",
    "from AMAS import tools\n",
    "\n",
    "spec_ml_df = pd.read_csv(os.path.join(ACCURACY_DIR, 'biomd_individual_species_accuracy.csv'))\n",
    "biomds_spec = np.unique(spec_ml_df['model'])\n",
    "print(\"Number of BioModels to be analyzed for SPECIES: %d\" % len(biomds_spec))\n",
    "\n",
    "reac_ml_df = pd.read_csv(os.path.join(ACCURACY_DIR, 'biomd_individual_reactions_accuracy.csv'))\n",
    "biomds_reac = np.unique(reac_ml_df['model'])\n",
    "print(\"Number of BioModels to be analyzed for REACTIONS: %d\" % len(biomds_reac))"
   ]
  },
  {
   "cell_type": "code",
   "execution_count": 2,
   "id": "6834d676-fab6-466a-9f8a-1ddf0e930305",
   "metadata": {},
   "outputs": [],
   "source": [
    "one_fpath = os.path.join(BIOMODEL_DIR, 'BIOMD0000000190.xml')\n",
    "recom = recommender.Recommender(libsbml_fpath=one_fpath)"
   ]
  },
  {
   "cell_type": "code",
   "execution_count": 6,
   "id": "70fffde1-ea5c-4513-b145-7792a6f2d892",
   "metadata": {},
   "outputs": [],
   "source": [
    "BIOMD_17_PATH = os.path.join(cn.TEST_DIR, 'BIOMD0000000017.xml')\n",
    "recom17 = recommender.Recommender(libsbml_fpath=BIOMD_17_PATH)\n",
    "\n",
    "one_res = recom17.recommendAnnotation(optimize=False)\n",
    "one_sub_df = one_res[one_res['id']=='AcetoinIn']\n",
    "two_res = recom17.recommendAnnotation(optimize=True)\n",
    "two_sub_df = two_res[two_res['id']=='AcetoinIn']"
   ]
  },
  {
   "cell_type": "code",
   "execution_count": 7,
   "id": "2d580249-289e-4efb-bf17-409ddcab261d",
   "metadata": {},
   "outputs": [
    {
     "data": {
      "text/html": [
       "<div>\n",
       "<style scoped>\n",
       "    .dataframe tbody tr th:only-of-type {\n",
       "        vertical-align: middle;\n",
       "    }\n",
       "\n",
       "    .dataframe tbody tr th {\n",
       "        vertical-align: top;\n",
       "    }\n",
       "\n",
       "    .dataframe thead th {\n",
       "        text-align: right;\n",
       "    }\n",
       "</style>\n",
       "<table border=\"1\" class=\"dataframe\">\n",
       "  <thead>\n",
       "    <tr style=\"text-align: right;\">\n",
       "      <th></th>\n",
       "      <th>file</th>\n",
       "      <th>type</th>\n",
       "      <th>id</th>\n",
       "      <th>display name</th>\n",
       "      <th>meta id</th>\n",
       "      <th>annotation</th>\n",
       "      <th>annotation label</th>\n",
       "      <th>match score</th>\n",
       "      <th>existing</th>\n",
       "      <th>UPDATE ANNOTATION</th>\n",
       "    </tr>\n",
       "  </thead>\n",
       "  <tbody>\n",
       "    <tr>\n",
       "      <th>54</th>\n",
       "      <td>BIOMD0000000017.xml</td>\n",
       "      <td>species</td>\n",
       "      <td>AcetoinIn</td>\n",
       "      <td></td>\n",
       "      <td>_682168</td>\n",
       "      <td>CHEBI:2430</td>\n",
       "      <td>aconitine</td>\n",
       "      <td>1.000</td>\n",
       "      <td>0</td>\n",
       "      <td>ignore</td>\n",
       "    </tr>\n",
       "    <tr>\n",
       "      <th>55</th>\n",
       "      <td>BIOMD0000000017.xml</td>\n",
       "      <td>species</td>\n",
       "      <td>AcetoinIn</td>\n",
       "      <td></td>\n",
       "      <td>_682168</td>\n",
       "      <td>CHEBI:15688</td>\n",
       "      <td>acetoin</td>\n",
       "      <td>0.943</td>\n",
       "      <td>1</td>\n",
       "      <td>keep</td>\n",
       "    </tr>\n",
       "  </tbody>\n",
       "</table>\n",
       "</div>"
      ],
      "text/plain": [
       "                   file     type         id display name  meta id  \\\n",
       "54  BIOMD0000000017.xml  species  AcetoinIn               _682168   \n",
       "55  BIOMD0000000017.xml  species  AcetoinIn               _682168   \n",
       "\n",
       "     annotation annotation label  match score  existing UPDATE ANNOTATION  \n",
       "54   CHEBI:2430        aconitine        1.000         0            ignore  \n",
       "55  CHEBI:15688          acetoin        0.943         1              keep  "
      ]
     },
     "execution_count": 7,
     "metadata": {},
     "output_type": "execute_result"
    }
   ],
   "source": [
    "one_sub_df"
   ]
  },
  {
   "cell_type": "code",
   "execution_count": 8,
   "id": "3b50eb74-ad25-437a-9747-daa2504ac0ee",
   "metadata": {},
   "outputs": [
    {
     "data": {
      "text/html": [
       "<div>\n",
       "<style scoped>\n",
       "    .dataframe tbody tr th:only-of-type {\n",
       "        vertical-align: middle;\n",
       "    }\n",
       "\n",
       "    .dataframe tbody tr th {\n",
       "        vertical-align: top;\n",
       "    }\n",
       "\n",
       "    .dataframe thead th {\n",
       "        text-align: right;\n",
       "    }\n",
       "</style>\n",
       "<table border=\"1\" class=\"dataframe\">\n",
       "  <thead>\n",
       "    <tr style=\"text-align: right;\">\n",
       "      <th></th>\n",
       "      <th>file</th>\n",
       "      <th>type</th>\n",
       "      <th>id</th>\n",
       "      <th>display name</th>\n",
       "      <th>meta id</th>\n",
       "      <th>annotation</th>\n",
       "      <th>annotation label</th>\n",
       "      <th>match score</th>\n",
       "      <th>existing</th>\n",
       "      <th>UPDATE ANNOTATION</th>\n",
       "    </tr>\n",
       "  </thead>\n",
       "  <tbody>\n",
       "    <tr>\n",
       "      <th>0</th>\n",
       "      <td>BIOMD0000000017.xml</td>\n",
       "      <td>species</td>\n",
       "      <td>AcetoinIn</td>\n",
       "      <td></td>\n",
       "      <td>_682168</td>\n",
       "      <td>CHEBI:15378</td>\n",
       "      <td>hydron</td>\n",
       "      <td>0.91675</td>\n",
       "      <td>0</td>\n",
       "      <td>ignore</td>\n",
       "    </tr>\n",
       "    <tr>\n",
       "      <th>1</th>\n",
       "      <td>BIOMD0000000017.xml</td>\n",
       "      <td>species</td>\n",
       "      <td>AcetoinIn</td>\n",
       "      <td></td>\n",
       "      <td>_682168</td>\n",
       "      <td>CHEBI:15688</td>\n",
       "      <td>acetoin</td>\n",
       "      <td>0.94300</td>\n",
       "      <td>1</td>\n",
       "      <td>keep</td>\n",
       "    </tr>\n",
       "  </tbody>\n",
       "</table>\n",
       "</div>"
      ],
      "text/plain": [
       "                  file     type         id display name  meta id   annotation  \\\n",
       "0  BIOMD0000000017.xml  species  AcetoinIn               _682168  CHEBI:15378   \n",
       "1  BIOMD0000000017.xml  species  AcetoinIn               _682168  CHEBI:15688   \n",
       "\n",
       "  annotation label  match score  existing UPDATE ANNOTATION  \n",
       "0           hydron      0.91675         0            ignore  \n",
       "1          acetoin      0.94300         1              keep  "
      ]
     },
     "execution_count": 8,
     "metadata": {},
     "output_type": "execute_result"
    }
   ],
   "source": [
    "two_sub_df"
   ]
  },
  {
   "cell_type": "code",
   "execution_count": 3,
   "id": "8ad271a5-a357-4576-bea6-1fe8d254479d",
   "metadata": {},
   "outputs": [],
   "source": [
    "BIOMD_17_PATH = os.path.join(cn.TEST_DIR, 'BIOMD0000000017.xml')\n",
    "recom = recommender.Recommender(libsbml_fpath=BIOMD_17_PATH)\n",
    "\n",
    "mssc = 'top'\n",
    "cutoff = 0.0\n",
    "optimize = 'y'\n",
    "# outtype = 'table'\n",
    "# pred_spec = recom.recommendSpecies(ids=None, \n",
    "#                                    min_len=0,\n",
    "#                                    mssc=mssc,\n",
    "#                                    cutoff=cutoff,\n",
    "#                                    outtype='table')\n",
    "# pred_reac = recom.recommendReactions(ids=None, \n",
    "#                                      min_len=0,\n",
    "#                                      mssc=mssc,\n",
    "#                                      cutoff=cutoff,\n",
    "#                                      outtype='table')\n",
    "# # TODO: add optimize option\n",
    "# if optimize: \n",
    "#   opt_res = recom.optimizePrediction(pred_spec,\n",
    "#                                      pred_reac, \n",
    "#                                      list(np.unique(pred_reac['id'])))\n",
    "\n",
    "pred_spec = recom.getSpeciesListRecommendation(pred_ids=recom.getSpeciesIDs(),\n",
    "                                               mssc=mssc,\n",
    "                                               cutoff=cutoff,\n",
    "                                               get_df=True)\n",
    "\n",
    "pred_reac = recom.getReactionListRecommendation(pred_ids=recom.getReactionIDs(),\n",
    "                                               mssc=mssc,\n",
    "                                               cutoff=cutoff,\n",
    "                                               get_df=True)\n",
    "# select data frame with at least one predicted row\n",
    "filt_reac = [val for val in pred_reac if val.shape[0]>0]\n",
    "filt_reac_ids = [val.index.name for val in filt_reac]\n",
    "\n",
    "spec_formulas = dict()\n",
    "for one_rec in pred_spec:\n",
    "  formulas = list(set([cn.REF_CHEBI2FORMULA[k] \\\n",
    "                       for k in one_rec['annotation'] \\\n",
    "                       if k in cn.REF_CHEBI2FORMULA.keys()]))\n",
    "  spec_formulas[one_rec.index.name] = formulas\n",
    "\n",
    "# if filt_reac_ids:\n",
    "#   fin_spec, fin_reac = recom.optimizePrediction(pred_spec,\n",
    "#                                                 pred_reac,\n",
    "#                                                 filt_reac_ids)\n",
    "# res_spec_df = recom.getRecomTable(element_type='species',\n",
    "#                                   recommended=fin_spec)\n",
    "# res_reac = fin_reac + [val for val in pred_reac if val not in filt_reac]\n",
    "# res_reac_df = recom.getRecomTable(element_type='reaction',\n",
    "#                                   recommended=res_reac)\n",
    "# pd.concat([res_spec_df, res_reac_df], ignore_index=True)"
   ]
  },
  {
   "cell_type": "code",
   "execution_count": 4,
   "id": "ce4de72c-8fa2-4bea-bfe7-47af8ad5d7a7",
   "metadata": {},
   "outputs": [],
   "source": [
    "# def recommendAnnotation(mssc='top',\n",
    "#                         cutoff=0.0,\n",
    "#                         optimize=False,\n",
    "#                         outtype='table'):\n",
    "#   \"\"\"\n",
    "#   Combine recommendSpecies and recommendReactions\n",
    "#   methods; can optimize.\n",
    "  \n",
    "#   Parameters\n",
    "#   ----------\n",
    "#   mssc: str\n",
    "#   cutoff: float\n",
    "#   optiimize: bool\n",
    "#   outtype: str\n",
    "#       If 'table', returns recommendation table\n",
    "#       if 'sbml', returns an updated SBML model. \n",
    "      \n",
    "#   Returns\n",
    "#   -------\n",
    "#   pandas.DataFrame / str\n",
    "#   \"\"\"\n",
    "#   pred_spec = recom.getSpeciesListRecommendation(pred_ids=recom.getSpeciesIDs(),\n",
    "#                                                  mssc=mssc,\n",
    "#                                                  cutoff=cutoff,\n",
    "#                                                  get_df=True)\n",
    "#   pred_reac = recom.getReactionListRecommendation(pred_ids=recom.getReactionIDs(),\n",
    "#                                                   mssc=mssc,\n",
    "#                                                   cutoff=cutoff,\n",
    "#                                                   get_df=True)\n",
    "#   if optimize:\n",
    "#     res_tab = recom.optimizePrediction(pred_spec=pred_spec,\n",
    "#                                        pred_reac=pred_reac)\n",
    "#   else:\n",
    "#     s_df = recom.getRecomTable(element_type='species',\n",
    "#                                recommended=pred_spec)\n",
    "#     r_df = recom.getRecomTable(element_type='reaction',\n",
    "#                                recommended=pred_reac)\n",
    "#     res_tab = pd.concat([s_df, r_df], ignore_index=True)\n",
    "#   return res_tab"
   ]
  },
  {
   "cell_type": "code",
   "execution_count": 5,
   "id": "7bd2f4f1-34d3-45ce-9968-f09f13e0ce7f",
   "metadata": {},
   "outputs": [],
   "source": [
    "res = recommendAnnotation()"
   ]
  },
  {
   "cell_type": "code",
   "execution_count": 6,
   "id": "5a0be3eb-992d-411c-a135-c5d5839d257c",
   "metadata": {},
   "outputs": [
    {
     "data": {
      "text/html": [
       "<div>\n",
       "<style scoped>\n",
       "    .dataframe tbody tr th:only-of-type {\n",
       "        vertical-align: middle;\n",
       "    }\n",
       "\n",
       "    .dataframe tbody tr th {\n",
       "        vertical-align: top;\n",
       "    }\n",
       "\n",
       "    .dataframe thead th {\n",
       "        text-align: right;\n",
       "    }\n",
       "</style>\n",
       "<table border=\"1\" class=\"dataframe\">\n",
       "  <thead>\n",
       "    <tr style=\"text-align: right;\">\n",
       "      <th></th>\n",
       "      <th>file</th>\n",
       "      <th>type</th>\n",
       "      <th>id</th>\n",
       "      <th>display name</th>\n",
       "      <th>meta id</th>\n",
       "      <th>annotation</th>\n",
       "      <th>annotation label</th>\n",
       "      <th>match score</th>\n",
       "      <th>existing</th>\n",
       "      <th>UPDATE ANNOTATION</th>\n",
       "    </tr>\n",
       "  </thead>\n",
       "  <tbody>\n",
       "    <tr>\n",
       "      <th>54</th>\n",
       "      <td>BIOMD0000000017.xml</td>\n",
       "      <td>species</td>\n",
       "      <td>AcetoinIn</td>\n",
       "      <td></td>\n",
       "      <td>_682168</td>\n",
       "      <td>CHEBI:2430</td>\n",
       "      <td>aconitine</td>\n",
       "      <td>1.000</td>\n",
       "      <td>0</td>\n",
       "      <td>ignore</td>\n",
       "    </tr>\n",
       "    <tr>\n",
       "      <th>55</th>\n",
       "      <td>BIOMD0000000017.xml</td>\n",
       "      <td>species</td>\n",
       "      <td>AcetoinIn</td>\n",
       "      <td></td>\n",
       "      <td>_682168</td>\n",
       "      <td>CHEBI:15688</td>\n",
       "      <td>acetoin</td>\n",
       "      <td>0.943</td>\n",
       "      <td>1</td>\n",
       "      <td>keep</td>\n",
       "    </tr>\n",
       "  </tbody>\n",
       "</table>\n",
       "</div>"
      ],
      "text/plain": [
       "                   file     type         id display name  meta id  \\\n",
       "54  BIOMD0000000017.xml  species  AcetoinIn               _682168   \n",
       "55  BIOMD0000000017.xml  species  AcetoinIn               _682168   \n",
       "\n",
       "     annotation annotation label  match score  existing UPDATE ANNOTATION  \n",
       "54   CHEBI:2430        aconitine        1.000         0            ignore  \n",
       "55  CHEBI:15688          acetoin        0.943         1              keep  "
      ]
     },
     "execution_count": 6,
     "metadata": {},
     "output_type": "execute_result"
    }
   ],
   "source": [
    "res[res['id']=='AcetoinIn']"
   ]
  },
  {
   "cell_type": "code",
   "execution_count": 9,
   "id": "3d223219-4097-4fe6-9eeb-9fa3562ca4e7",
   "metadata": {},
   "outputs": [],
   "source": [
    "RESULT_RECOM = cn.Recommendation('R_PFK',\n",
    "                                 [('RHEA:12420', 0.6), ('RHEA:13377', 0.6)],\n",
    "                                 ['https://www.rhea-db.org/rhea/12420', 'https://www.rhea-db.org/rhea/13377'],\n",
    "                                 ['tagatose-6-phosphate kinase activity', 'phosphoglucokinase activity'])"
   ]
  },
  {
   "cell_type": "code",
   "execution_count": 11,
   "id": "cff1757b-5d64-48b3-aa8c-9377f3e0c8c0",
   "metadata": {},
   "outputs": [
    {
     "name": "stdout",
     "output_type": "stream",
     "text": [
      "                                   R_PFK                                    \n",
      "+----+--------------+---------------+--------------------------------------+\n",
      "|    | annotation   |   match score | label                                |\n",
      "+====+==============+===============+======================================+\n",
      "|  0 | RHEA:12420   |         0.600 | tagatose-6-phosphate kinase activity |\n",
      "+----+--------------+---------------+--------------------------------------+\n",
      "|  1 | RHEA:13377   |         0.600 | phosphoglucokinase activity          |\n",
      "+----+--------------+---------------+--------------------------------------+\n"
     ]
    }
   ],
   "source": [
    "print(recom.getMarkdownFromRecommendation(rec=RESULT_RECOM,\n",
    "                                                   show_url=False))"
   ]
  },
  {
   "cell_type": "code",
   "execution_count": 17,
   "id": "1a0a6475-3207-47a2-8157-40a740d7bb61",
   "metadata": {},
   "outputs": [],
   "source": [
    "recom17 = recommender.Recommender(libsbml_fpath=BIOMD_17_PATH)   \n",
    "specs = recom17.getSpeciesIDs()\n",
    "res_spec = recom17.getSpeciesListRecommendation(pred_ids=specs,\n",
    "                                                get_df=True)\n",
    "reacts = recom17.getReactionIDs() \n",
    "res_reac = recom17.getReactionListRecommendation(pred_ids=reacts,\n",
    "                                                 get_df=True)\n",
    "opt_recom = recom17.optimizePrediction(pred_spec=res_spec,\n",
    "                                       pred_reac=res_reac)"
   ]
  },
  {
   "cell_type": "code",
   "execution_count": 18,
   "id": "fb3a68a2-79cf-4283-a387-4dcd71b1c7fd",
   "metadata": {},
   "outputs": [],
   "source": [
    "opt_recom = recom17.optimizePrediction(pred_spec=res_spec,\n",
    "                                       pred_reac=res_reac)\n",
    "sub_recom = opt_recom[opt_recom['id']=='AcetoinIn']\n",
    "# self.assertTrue('AcetoinIn' in np.unique(opt_recom['id']))\n",
    "# self.assertTrue('CHEBI:2430' in sub_recom['annotation'])\n",
    "# self.assertTrue('CHEBI:15378' in sub_recom['annotation'])"
   ]
  },
  {
   "cell_type": "code",
   "execution_count": 26,
   "id": "e405d2e2-c74f-44cb-a7a8-7015528578d3",
   "metadata": {},
   "outputs": [
    {
     "name": "stdout",
     "output_type": "stream",
     "text": [
      "    [307 chars]n|  0 | RHEA:12420   |         0.600 | tagatos[261 chars]---+\n"
     ]
    }
   ],
   "source": [
    "print('    [307 chars]n|  0 | RHEA:12420   |         0.600 | tagatos[261 chars]---+')"
   ]
  },
  {
   "cell_type": "code",
   "execution_count": 28,
   "id": "173eee0a-1359-46de-9adc-aa4efdd2ea03",
   "metadata": {},
   "outputs": [
    {
     "data": {
      "text/html": [
       "<div>\n",
       "<style scoped>\n",
       "    .dataframe tbody tr th:only-of-type {\n",
       "        vertical-align: middle;\n",
       "    }\n",
       "\n",
       "    .dataframe tbody tr th {\n",
       "        vertical-align: top;\n",
       "    }\n",
       "\n",
       "    .dataframe thead th {\n",
       "        text-align: right;\n",
       "    }\n",
       "</style>\n",
       "<table border=\"1\" class=\"dataframe\">\n",
       "  <thead>\n",
       "    <tr style=\"text-align: right;\">\n",
       "      <th></th>\n",
       "      <th>file</th>\n",
       "      <th>type</th>\n",
       "      <th>id</th>\n",
       "      <th>display name</th>\n",
       "      <th>meta id</th>\n",
       "      <th>annotation</th>\n",
       "      <th>annotation label</th>\n",
       "      <th>match score</th>\n",
       "      <th>existing</th>\n",
       "      <th>UPDATE ANNOTATION</th>\n",
       "    </tr>\n",
       "  </thead>\n",
       "  <tbody>\n",
       "    <tr>\n",
       "      <th>0</th>\n",
       "      <td>BIOMD0000000017.xml</td>\n",
       "      <td>species</td>\n",
       "      <td>AcetoinIn</td>\n",
       "      <td></td>\n",
       "      <td>_682168</td>\n",
       "      <td>CHEBI:15378</td>\n",
       "      <td>hydron</td>\n",
       "      <td>0.91675</td>\n",
       "      <td>0</td>\n",
       "      <td>ignore</td>\n",
       "    </tr>\n",
       "    <tr>\n",
       "      <th>1</th>\n",
       "      <td>BIOMD0000000017.xml</td>\n",
       "      <td>species</td>\n",
       "      <td>AcetoinIn</td>\n",
       "      <td></td>\n",
       "      <td>_682168</td>\n",
       "      <td>CHEBI:15688</td>\n",
       "      <td>acetoin</td>\n",
       "      <td>0.94300</td>\n",
       "      <td>1</td>\n",
       "      <td>keep</td>\n",
       "    </tr>\n",
       "  </tbody>\n",
       "</table>\n",
       "</div>"
      ],
      "text/plain": [
       "                  file     type         id display name  meta id   annotation  \\\n",
       "0  BIOMD0000000017.xml  species  AcetoinIn               _682168  CHEBI:15378   \n",
       "1  BIOMD0000000017.xml  species  AcetoinIn               _682168  CHEBI:15688   \n",
       "\n",
       "  annotation label  match score  existing UPDATE ANNOTATION  \n",
       "0           hydron      0.91675         0            ignore  \n",
       "1          acetoin      0.94300         1              keep  "
      ]
     },
     "execution_count": 28,
     "metadata": {},
     "output_type": "execute_result"
    }
   ],
   "source": [
    "opt_recom[opt_recom['id']=='AcetoinIn']"
   ]
  },
  {
   "cell_type": "code",
   "execution_count": 29,
   "id": "12a805fc-aebc-421a-b0e3-dd3bb594f7c2",
   "metadata": {},
   "outputs": [
    {
     "data": {
      "text/plain": [
       "False"
      ]
     },
     "execution_count": 29,
     "metadata": {},
     "output_type": "execute_result"
    }
   ],
   "source": [
    "'CHEBI:15378' in sub_recom['annotation']"
   ]
  },
  {
   "cell_type": "code",
   "execution_count": null,
   "id": "f2f1a2e2-76ce-47fe-b52f-7aacb5049866",
   "metadata": {},
   "outputs": [],
   "source": []
  }
 ],
 "metadata": {
  "kernelspec": {
   "display_name": "Python 3 (ipykernel)",
   "language": "python",
   "name": "python3"
  },
  "language_info": {
   "codemirror_mode": {
    "name": "ipython",
    "version": 3
   },
   "file_extension": ".py",
   "mimetype": "text/x-python",
   "name": "python",
   "nbconvert_exporter": "python",
   "pygments_lexer": "ipython3",
   "version": "3.11.2"
  }
 },
 "nbformat": 4,
 "nbformat_minor": 5
}
