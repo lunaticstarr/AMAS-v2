{
 "cells": [
  {
   "cell_type": "code",
   "execution_count": 1,
   "id": "38c95317",
   "metadata": {},
   "outputs": [],
   "source": [
    "# Preparing for Sauro Lab presentation Sep 8, 2022\n",
    "\n",
    "import collections\n",
    "import libsbml\n",
    "import numpy as np\n",
    "import os\n",
    "import pickle\n",
    "import pandas as pd\n",
    "import sys\n",
    "import matplotlib.pyplot as plt\n",
    "%matplotlib inline  \n",
    "\n",
    "BIOMD_12 = 'BIOMD0000000012.xml'\n",
    "BASE_DIR = '/Users/woosubs/Desktop/AutomateAnnotation/'\n",
    "DATA_DIR = os.path.join(BASE_DIR, \"DATA\")\n",
    "ALGO_DIR = os.path.join(DATA_DIR, \"algo\")\n",
    "CHEBI_DIR = os.path.join(DATA_DIR, \"chebi\")\n",
    "RHEA_DIR = os.path.join(DATA_DIR, \"rhea\")\n",
    "BIOMODEL_DIR = os.path.join(DATA_DIR, \"biomodels/curated_biomodels_31mar2021\")\n",
    "BIGG_DIR = '/Users/woosubs/Desktop/AutomateAnnotation/DATA/bigg'\n",
    "ecoli_fpath = os.path.join(BIGG_DIR, \"e_coli_core.xml\")\n",
    "\n",
    "PROJ_DIR = os.path.join(os.getcwd(), os.pardir)\n",
    "AMAS_DIR = os.path.join(PROJ_DIR, \"AMAS\")\n",
    "sys.path.append(PROJ_DIR)\n",
    "\n",
    "from AMAS import species_annotation as sa\n",
    "from AMAS import reaction_annotation as ra\n",
    "from AMAS import constants as cn\n",
    "from AMAS import iterator as it\n",
    "from AMAS import tools"
   ]
  },
  {
   "cell_type": "code",
   "execution_count": 2,
   "id": "6645d4ac",
   "metadata": {},
   "outputs": [],
   "source": [
    "# one_biomd = 'BIOMD0000000634.xml'\n",
    "# This time, load a BiGG model\n",
    "reader = libsbml.SBMLReader()\n",
    "document = reader.readSBML(ecoli_fpath)\n",
    "model = document.getModel()"
   ]
  },
  {
   "cell_type": "code",
   "execution_count": 3,
   "id": "64e92859",
   "metadata": {},
   "outputs": [],
   "source": [
    "from AMAS import recommender\n",
    "recom = recommender.Recommender(libsbml_fpath=ecoli_fpath)"
   ]
  },
  {
   "cell_type": "code",
   "execution_count": 4,
   "id": "3b21e6fc",
   "metadata": {},
   "outputs": [
    {
     "data": {
      "text/plain": [
       "['CHEBI:13704',\n",
       " 'CHEBI:22165',\n",
       " 'CHEBI:22169',\n",
       " 'CHEBI:40480',\n",
       " 'CHEBI:15366',\n",
       " 'CHEBI:2387',\n",
       " 'CHEBI:30089',\n",
       " 'CHEBI:40486']"
      ]
     },
     "execution_count": 4,
     "metadata": {},
     "output_type": "execute_result"
    }
   ],
   "source": [
    "recom.species.exist_annotation['M_ac_c']"
   ]
  },
  {
   "cell_type": "code",
   "execution_count": 5,
   "id": "04843049",
   "metadata": {},
   "outputs": [
    {
     "data": {
      "text/plain": [
       "['C2O2']"
      ]
     },
     "execution_count": 5,
     "metadata": {},
     "output_type": "execute_result"
    }
   ],
   "source": [
    "recom.species.exist_annotation_formula['M_ac_c']"
   ]
  },
  {
   "cell_type": "code",
   "execution_count": 10,
   "id": "8eb77369",
   "metadata": {},
   "outputs": [],
   "source": [
    "from AMAS import recommender\n",
    "recom = recommender.Recommender(libsbml_fpath=ecoli_fpath)\n",
    "\n",
    "spec_list = ['M_ac_c', 'M_adp_c', 'M_atp_c', 'M_actp_c']\n",
    "res = recom.getAnnotation(spec_list)"
   ]
  },
  {
   "cell_type": "code",
   "execution_count": 13,
   "id": "860fe863",
   "metadata": {},
   "outputs": [
    {
     "data": {
      "text/plain": [
       "Recommendation(id='M_ac_c', score=1.0, candidates=['CHEBI:47622', 'CHEBI:30089'])"
      ]
     },
     "execution_count": 13,
     "metadata": {},
     "output_type": "execute_result"
    }
   ],
   "source": [
    "res[0]"
   ]
  },
  {
   "cell_type": "code",
   "execution_count": 7,
   "id": "2fa5b2a9",
   "metadata": {},
   "outputs": [
    {
     "name": "stdout",
     "output_type": "stream",
     "text": [
      "ID: M_ac_c\n",
      "Prediction Score: 1.00\n",
      "Predicted CHEBI terms: ['CHEBI:47622', 'CHEBI:30089']\n",
      "\n",
      "ID: M_adp_c\n",
      "Prediction Score: 0.22\n",
      "Predicted CHEBI terms: ['CHEBI:135736', 'CHEBI:456216', 'CHEBI:147398', 'CHEBI:151629', 'CHEBI:152534', 'CHEBI:153980', 'CHEBI:167004', 'CHEBI:167672', 'CHEBI:182955', 'CHEBI:28498', 'CHEBI:31899', 'CHEBI:32411', 'CHEBI:36331', 'CHEBI:42870', 'CHEBI:63450', 'CHEBI:63452', 'CHEBI:68840', 'CHEBI:72990', 'CHEBI:75998', 'CHEBI:77390', 'CHEBI:78443', 'CHEBI:88249', 'CHEBI:89713', 'CHEBI:90217', 'CHEBI:90304', 'CHEBI:90695', 'CHEBI:93296']\n",
      "\n",
      "ID: M_atp_c\n",
      "Prediction Score: 0.03\n",
      "Predicted CHEBI terms: ['CHEBI:135736', 'CHEBI:182955']\n",
      "\n",
      "ID: M_actp_c\n",
      "Prediction Score: 1.00\n",
      "Predicted CHEBI terms: ['CHEBI:22191', 'CHEBI:15350']\n",
      "\n"
     ]
    }
   ],
   "source": [
    "for one_res in res:\n",
    "  print(\"ID: %s\" % one_res.id)\n",
    "  print(\"Prediction Score: %.2f\" % one_res.score)\n",
    "  print(\"Predicted CHEBI terms:\", one_res.candidates)\n",
    "  print()"
   ]
  },
  {
   "cell_type": "code",
   "execution_count": 8,
   "id": "924733d6",
   "metadata": {},
   "outputs": [
    {
     "data": {
      "text/plain": [
       "Recommendation(id='M_actp_c', score=1.0, candidates=['CHEBI:22191', 'CHEBI:15350'])"
      ]
     },
     "execution_count": 8,
     "metadata": {},
     "output_type": "execute_result"
    }
   ],
   "source": [
    "one_res"
   ]
  },
  {
   "cell_type": "code",
   "execution_count": null,
   "id": "666380af",
   "metadata": {},
   "outputs": [],
   "source": [
    "recom.reactions.predictAnnotation(inp_spec_dict=recom.species.formula,\n",
    "                                  inp_reac_list=['R_ACKr'])"
   ]
  },
  {
   "cell_type": "code",
   "execution_count": null,
   "id": "cfea0e58",
   "metadata": {},
   "outputs": [],
   "source": [
    "recom.reactions.evaluatePredictedReactionAnnotation(['R_ACKr'])"
   ]
  },
  {
   "cell_type": "code",
   "execution_count": null,
   "id": "65c0d674",
   "metadata": {},
   "outputs": [],
   "source": [
    "recom.reactions.exist_annotation['R_ACKr']"
   ]
  },
  {
   "cell_type": "code",
   "execution_count": null,
   "id": "3aeb59e6",
   "metadata": {},
   "outputs": [],
   "source": [
    "# res"
   ]
  },
  {
   "cell_type": "code",
   "execution_count": null,
   "id": "a44738f5",
   "metadata": {},
   "outputs": [],
   "source": [
    "# Recommendation = collections.namedtuple('Recommendation', ['id', 'score', 'uri'])"
   ]
  },
  {
   "cell_type": "code",
   "execution_count": null,
   "id": "6cdd41a0",
   "metadata": {},
   "outputs": [],
   "source": [
    "# res = Recommendation(1, 2, 3)\n",
    "# print(res.id)\n",
    "# print(res.score)\n",
    "# print(res.uri)"
   ]
  },
  {
   "cell_type": "code",
   "execution_count": null,
   "id": "c2670f11",
   "metadata": {},
   "outputs": [],
   "source": []
  }
 ],
 "metadata": {
  "kernelspec": {
   "display_name": "pyo",
   "language": "python",
   "name": "pyo"
  },
  "language_info": {
   "codemirror_mode": {
    "name": "ipython",
    "version": 3
   },
   "file_extension": ".py",
   "mimetype": "text/x-python",
   "name": "python",
   "nbconvert_exporter": "python",
   "pygments_lexer": "ipython3",
   "version": "3.8.8"
  }
 },
 "nbformat": 4,
 "nbformat_minor": 5
}
