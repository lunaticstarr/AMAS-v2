{
 "cells": [
  {
   "cell_type": "code",
   "execution_count": 1,
   "id": "93d6ebd0-d468-41e5-a904-6c232a6aaf31",
   "metadata": {},
   "outputs": [
    {
     "name": "stderr",
     "output_type": "stream",
     "text": [
      "/Users/woosubs/anaconda3/envs/pyo2/lib/python3.9/site-packages/sklearn/base.py:329: UserWarning: Trying to unpickle estimator DecisionTreeRegressor from version 0.24.2 when using version 1.1.3. This might lead to breaking code or invalid results. Use at your own risk. For more info please refer to:\n",
      "https://scikit-learn.org/stable/model_persistence.html#security-maintainability-limitations\n",
      "  warnings.warn(\n",
      "/Users/woosubs/anaconda3/envs/pyo2/lib/python3.9/site-packages/sklearn/base.py:329: UserWarning: Trying to unpickle estimator RandomForestRegressor from version 0.24.2 when using version 1.1.3. This might lead to breaking code or invalid results. Use at your own risk. For more info please refer to:\n",
      "https://scikit-learn.org/stable/model_persistence.html#security-maintainability-limitations\n",
      "  warnings.warn(\n"
     ]
    }
   ],
   "source": [
    "# Update species, this time for applying cosine similarity\n",
    "import collections\n",
    "import editdistance\n",
    "import itertools\n",
    "import libsbml\n",
    "import numpy as np\n",
    "import operator\n",
    "import os\n",
    "import compress_pickle\n",
    "import pickle\n",
    "import pandas as pd\n",
    "import re\n",
    "import sys\n",
    "import matplotlib.pyplot as plt\n",
    "%matplotlib inline  \n",
    "\n",
    "BIOMD_12 = 'BIOMD0000000012.xml'\n",
    "BASE_DIR = '/Users/woosubs/Desktop/AutomateAnnotation/'\n",
    "DATA_DIR = os.path.join(BASE_DIR, \"DATA\")\n",
    "ALGO_DIR = os.path.join(DATA_DIR, \"algo\")\n",
    "CHEBI_DIR = os.path.join(DATA_DIR, \"chebi\")\n",
    "RHEA_DIR = os.path.join(DATA_DIR, \"rhea\")\n",
    "BIOMODEL_DIR = os.path.join(DATA_DIR, \"biomodels/curated_biomodels_31mar2021\")\n",
    "BIGG_DIR = '/Users/woosubs/Desktop/AutomateAnnotation/DATA/bigg'\n",
    "ecoli_fpath = os.path.join(BIGG_DIR, \"e_coli_core.xml\")\n",
    "\n",
    "PROJ_DIR = os.path.join(os.getcwd(), os.pardir)\n",
    "AMAS_DIR = os.path.join(PROJ_DIR, \"AMAS\")\n",
    "sys.path.append(PROJ_DIR)\n",
    "\n",
    "from AMAS import species_annotation as sa\n",
    "from AMAS import reaction_annotation as ra\n",
    "from AMAS import recommender\n",
    "from AMAS import constants as cn\n",
    "from AMAS import tools"
   ]
  },
  {
   "cell_type": "code",
   "execution_count": 2,
   "id": "6cec1a4a-ee22-4ab8-a92f-e009754ba6c2",
   "metadata": {},
   "outputs": [],
   "source": [
    "prev_notebook_dir = '/Users/woosubs/Desktop/AutomateAnnotation/AnnotationRecommender/annotation_recommender/notebook'\n",
    "with open(os.path.join(prev_notebook_dir, 'chebi_models.pickle'), 'rb') as handle:\n",
    "  chebi_models = pickle.load(handle)\n",
    "\n",
    "with open(os.path.join(cn.REF_DIR, 'chebi_shortened_formula_comp.lzma'), 'rb') as f:\n",
    "  ref_shortened_chebi_to_formula = compress_pickle.load(f)\n",
    "with open(os.path.join(cn.REF_DIR, 'chebi_low_synonyms_comp.lzma'), 'rb') as f:\n",
    "  chebi_low_synonyms = compress_pickle.load(f)"
   ]
  },
  {
   "cell_type": "code",
   "execution_count": 3,
   "id": "eb81763e-6f45-4601-bbd0-885266fff6ed",
   "metadata": {},
   "outputs": [],
   "source": [
    "combs_charcount = compress_pickle.load(os.path.join(cn.REF_DIR, 'charcount_df_scaled.lzma'),\n",
    "                                       compression=\"lzma\")"
   ]
  },
  {
   "cell_type": "code",
   "execution_count": 4,
   "id": "daf06555-4a96-422a-b8e4-abc934d22ab4",
   "metadata": {},
   "outputs": [],
   "source": [
    "charcount_df = combs_charcount.iloc[:, :-2]\n",
    "chebi_charcount_df = combs_charcount.iloc[:, -2:]"
   ]
  },
  {
   "cell_type": "code",
   "execution_count": 5,
   "id": "d52dd03a-986e-4735-823d-889c7a4d4c21",
   "metadata": {},
   "outputs": [],
   "source": [
    "def getCountOfIndividualCharacters(inp_str):\n",
    "  \"\"\"\n",
    "  Get a list of characters\n",
    "  between a-z and 0-9. \n",
    "  \n",
    "  Parameters\n",
    "  ----------\n",
    "  inp_str: str\n",
    "  \n",
    "  Returns\n",
    "  -------\n",
    "  : list\n",
    "  \"\"\"\n",
    "  return collections.Counter(itertools.chain(*re.findall('[a-z0-9]+', inp_str.lower())))\n",
    "#\n",
    "# def getTupleFromDict(inp_dict):\n",
    "#   \"\"\"\n",
    "#   Get a list of tuples,\n",
    "#   where each tuple has an item and a key\n",
    "#   from a dictionary. \n",
    "#   e.g.) {'key': 'x', 'y'}\n",
    "#   will be transofrmed as \n",
    "#   [('x', 'key'), ('y', 'key')]\n",
    "   \n",
    "#   Parameters\n",
    "#   ----------\n",
    "#   inp_dict: dict\n",
    "  \n",
    "#   Returns\n",
    "#   -------\n",
    "#   : list-tuple\n",
    "#   \"\"\"\n",
    "#   res_list = []\n",
    "#   for one_k in inp_dict.keys():\n",
    "#     one_itm = inp_dict[one_k]\n",
    "#     res_list.append([(val, one_k) for val in one_itm])\n",
    "#   return list(itertools.chain(*res_list))\n",
    "\n",
    "def prepareCounterQuery(specs,\n",
    "                        ref_cols,\n",
    "                        use_id=True):\n",
    "  \"\"\"\n",
    "  Prepare a query vector, which will be used\n",
    "  as a vector for predictor variables.\n",
    "  Input will be a list of\n",
    "  IDs using which names_used will be determined. \n",
    "  In addition, querys will also be scaled\n",
    "  by the length of each vector. \n",
    "  \n",
    "  There is 'use_id' option, so\n",
    "  if False, directly use the string\n",
    "  instead of searching for used_name. \n",
    "  \n",
    "  Parameters\n",
    "  ----------\n",
    "  list-str: specs\n",
    "      IDs of species\n",
    "  ref_cols: list-str\n",
    "      Column names to use\n",
    "  use_id: bool\n",
    "      If False, directly use the string\n",
    "      If True, use getNameToUse\n",
    "      \n",
    "  Returns\n",
    "  -------\n",
    "  : pandas.DataFrame\n",
    "  : dict\n",
    "  \"\"\"\n",
    "  name_used = dict()\n",
    "  query_mat = pd.DataFrame(0, index=ref_cols, columns=specs)\n",
    "  for one_spec in specs:\n",
    "    if use_id:\n",
    "      name2use = spec_cl.getNameToUse(one_spec)\n",
    "      # characters are lowered in getCountOfIndividualCharacters()\n",
    "      char_counts = getCountOfIndividualCharacters(name2use)\n",
    "      name_used[one_spec] = name2use\n",
    "    else:\n",
    "      name2use = one_spec\n",
    "      # characters are lowered in getCountOfIndividualCharacters()\n",
    "      char_counts = getCountOfIndividualCharacters(name2use)\n",
    "      name_used[one_spec] = name2use\n",
    "    for one_char in char_counts:\n",
    "      query_mat.loc[one_char, one_spec] = char_counts[one_char] \n",
    "  # Now, scale it using the vector distance\n",
    "  div_row = query_mat.apply(lambda col : np.sqrt(np.sum([val**2 for val in col])), axis = 0)\n",
    "  norm_query = query_mat.divide(div_row, axis=1)\n",
    "  return norm_query, name_used\n",
    "\n",
    "def predictAnnotationByCosineSimilarity(inp_strs=None, inp_ids=None, ref_df=charcount_df):\n",
    "  \"\"\"\n",
    "  Predict annotation by taking cosine distance \n",
    "  of character count vectors.\n",
    "  \n",
    "  Parameters\n",
    "  ----------\n",
    "  inp_strs: list-str\n",
    "      Strings that will directly used\n",
    "      for prediction\n",
    "  inp_ids: list-str\n",
    "      IDs with which name2use will be\n",
    "      determined\n",
    "  ref_df: DataFrame\n",
    "      Reference database\n",
    "\n",
    "  Returnsa\n",
    "  -------\n",
    "  : dict/None\n",
    "        {'name_used': str,\n",
    "         'chebi': [list-ChEBI],\n",
    "         'match_score': [(ChEBI, float)],\n",
    "         'formula': [list-formula]} \n",
    "    if no name/ID is given, return None\n",
    "  \"\"\"\n",
    "  if inp_ids:\n",
    "    one_query, name_used = prepareCounterQuery(specs=inp_ids,\n",
    "                                               ref_cols=ref_df.columns,\n",
    "                                               use_id=True)\n",
    "  elif inp_strs:\n",
    "    one_query, name_used = prepareCounterQuery(specs=inp_strs,\n",
    "                                               ref_cols=ref_df.columns,\n",
    "                                               use_id=False)  \n",
    "  else:\n",
    "    return None\n",
    "  multi_mat = ref_df.dot(one_query)\n",
    "  max_val = multi_mat.max()\n",
    "  result = dict()\n",
    "  for one_spec in one_query.columns:\n",
    "    one_res = dict()\n",
    "    one_res[cn.NAME_USED] = name_used[one_spec]\n",
    "    cand_index = multi_mat[abs(multi_mat[one_spec]-max_val[one_spec])<0.00001].index\n",
    "    # cand_tuples = [chebi_str_tups[val] for val in cand_index]\n",
    "    # one_res[cn.CHEBI] = list(set([val[1] for val in cand_tuples]))\n",
    "    one_res[cn.CHEBI] = list(set(chebi_charcount_df.loc[cand_index, 'chebi']))\n",
    "    one_res[cn.MATCH_SCORE] = [(val, np.round(max_val[one_spec], 2)) \\\n",
    "                               for val in one_res[cn.CHEBI]]\n",
    "    one_res[cn.FORMULA] = list(set([cn.REF_CHEBI2FORMULA[val] for val in one_res[cn.CHEBI] \\\n",
    "                           if val in cn.REF_CHEBI2FORMULA.keys()])) \n",
    "    result[one_spec] = one_res\n",
    "  return result"
   ]
  },
  {
   "cell_type": "code",
   "execution_count": 6,
   "id": "e9d9759d-7a8d-4961-a2e8-d26e7e88e36f",
   "metadata": {},
   "outputs": [
    {
     "data": {
      "text/plain": [
       "{'CHEBI:18357', 'CHEBI:28309', 'CHEBI:36683'}"
      ]
     },
     "execution_count": 6,
     "metadata": {},
     "output_type": "execute_result"
    }
   ],
   "source": [
    "cand_index = [0, 100, 2000]\n",
    "set(chebi_charcount_df.loc[cand_index, 'chebi'])"
   ]
  },
  {
   "cell_type": "code",
   "execution_count": 7,
   "id": "1ba37ada-279d-4bfe-ad7a-236184dc7225",
   "metadata": {},
   "outputs": [
    {
     "name": "stdout",
     "output_type": "stream",
     "text": [
      "{'M_glc__D_e': 'D-Glucose'}\n"
     ]
    },
    {
     "data": {
      "text/plain": [
       "0.35355339059327373"
      ]
     },
     "execution_count": 7,
     "metadata": {},
     "output_type": "execute_result"
    }
   ],
   "source": [
    "spec_cl = sa.SpeciesAnnotation(libsbml_fpath = ecoli_fpath)\n",
    "one_query, one_name = prepareCounterQuery(['M_glc__D_e'],charcount_df.columns) \n",
    "print(one_name)\n",
    "one_query.loc['g', 'M_glc__D_e']"
   ]
  },
  {
   "cell_type": "code",
   "execution_count": 8,
   "id": "fed51a55-880b-4bc8-868a-1e1d1d496b48",
   "metadata": {},
   "outputs": [
    {
     "data": {
      "text/plain": [
       "{'atp': {'name_used': 'atp',\n",
       "  'chebi': ['CHEBI:53394',\n",
       "   'CHEBI:15422',\n",
       "   'CHEBI:74926',\n",
       "   'CHEBI:37537',\n",
       "   'CHEBI:61432',\n",
       "   'CHEBI:30616',\n",
       "   'CHEBI:15702'],\n",
       "  'match_score': [('CHEBI:53394', 1.0),\n",
       "   ('CHEBI:15422', 1.0),\n",
       "   ('CHEBI:74926', 1.0),\n",
       "   ('CHEBI:37537', 1.0),\n",
       "   ('CHEBI:61432', 1.0),\n",
       "   ('CHEBI:30616', 1.0),\n",
       "   ('CHEBI:15702', 1.0)],\n",
       "  'formula': ['C10N5O13P3', 'O40PW12', 'C8O4', 'C7O4', 'C36O8']}}"
      ]
     },
     "execution_count": 8,
     "metadata": {},
     "output_type": "execute_result"
    }
   ],
   "source": [
    "predictAnnotationByCosineSimilarity(inp_strs=['atp'])"
   ]
  },
  {
   "cell_type": "code",
   "execution_count": 10,
   "id": "5bc9544e-b004-4ac2-86a1-1b5c16b753fe",
   "metadata": {},
   "outputs": [],
   "source": [
    "recom = recommender.Recommender(libsbml_fpath=ecoli_fpath)"
   ]
  },
  {
   "cell_type": "code",
   "execution_count": 11,
   "id": "75d3a181-cfa9-429c-af44-8886bbad9bcf",
   "metadata": {},
   "outputs": [
    {
     "data": {
      "text/plain": [
       "Recommendation(id='amp', credibility=0.97, candidates=[('CHEBI:50070', 1.0), ('CHEBI:60755', 1.0), ('CHEBI:456215', 1.0), ('CHEBI:53780', 1.0), ('CHEBI:6716', 1.0), ('CHEBI:44387', 1.0), ('CHEBI:45021', 1.0), ('CHEBI:37537', 1.0), ('CHEBI:78509', 1.0), ('CHEBI:28971', 1.0), ('CHEBI:176804', 1.0), ('CHEBI:16027', 1.0), ('CHEBI:60882', 1.0), ('CHEBI:64305', 1.0), ('CHEBI:138016', 1.0), ('CHEBI:51135', 1.0)], urls=['https://www.ebi.ac.uk/chebi/searchId.do?chebiId=CHEBI%3A50070', 'https://www.ebi.ac.uk/chebi/searchId.do?chebiId=CHEBI%3A60755', 'https://www.ebi.ac.uk/chebi/searchId.do?chebiId=CHEBI%3A456215', 'https://www.ebi.ac.uk/chebi/searchId.do?chebiId=CHEBI%3A53780', 'https://www.ebi.ac.uk/chebi/searchId.do?chebiId=CHEBI%3A6716', 'https://www.ebi.ac.uk/chebi/searchId.do?chebiId=CHEBI%3A44387', 'https://www.ebi.ac.uk/chebi/searchId.do?chebiId=CHEBI%3A45021', 'https://www.ebi.ac.uk/chebi/searchId.do?chebiId=CHEBI%3A37537', 'https://www.ebi.ac.uk/chebi/searchId.do?chebiId=CHEBI%3A78509', 'https://www.ebi.ac.uk/chebi/searchId.do?chebiId=CHEBI%3A28971', 'https://www.ebi.ac.uk/chebi/searchId.do?chebiId=CHEBI%3A176804', 'https://www.ebi.ac.uk/chebi/searchId.do?chebiId=CHEBI%3A16027', 'https://www.ebi.ac.uk/chebi/searchId.do?chebiId=CHEBI%3A60882', 'https://www.ebi.ac.uk/chebi/searchId.do?chebiId=CHEBI%3A64305', 'https://www.ebi.ac.uk/chebi/searchId.do?chebiId=CHEBI%3A138016', 'https://www.ebi.ac.uk/chebi/searchId.do?chebiId=CHEBI%3A51135'])"
      ]
     },
     "execution_count": 11,
     "metadata": {},
     "output_type": "execute_result"
    }
   ],
   "source": [
    "recom.getSpeciesAnnotation(pred_str='amp')"
   ]
  },
  {
   "cell_type": "code",
   "execution_count": 13,
   "id": "8b545548-4cc8-422b-a01b-e272d5fe3ce1",
   "metadata": {},
   "outputs": [
    {
     "data": {
      "text/plain": [
       "[Recommendation(id='atp', credibility=0.97, candidates=[('CHEBI:74926', 1.0), ('CHEBI:15702', 1.0), ('CHEBI:61432', 1.0), ('CHEBI:53394', 1.0), ('CHEBI:15422', 1.0), ('CHEBI:37537', 1.0), ('CHEBI:30616', 1.0)], urls=['https://www.ebi.ac.uk/chebi/searchId.do?chebiId=CHEBI%3A74926', 'https://www.ebi.ac.uk/chebi/searchId.do?chebiId=CHEBI%3A15702', 'https://www.ebi.ac.uk/chebi/searchId.do?chebiId=CHEBI%3A61432', 'https://www.ebi.ac.uk/chebi/searchId.do?chebiId=CHEBI%3A53394', 'https://www.ebi.ac.uk/chebi/searchId.do?chebiId=CHEBI%3A15422', 'https://www.ebi.ac.uk/chebi/searchId.do?chebiId=CHEBI%3A37537', 'https://www.ebi.ac.uk/chebi/searchId.do?chebiId=CHEBI%3A30616']),\n",
       " Recommendation(id='amp', credibility=0.97, candidates=[('CHEBI:50070', 1.0), ('CHEBI:60755', 1.0), ('CHEBI:456215', 1.0), ('CHEBI:53780', 1.0), ('CHEBI:6716', 1.0), ('CHEBI:44387', 1.0), ('CHEBI:45021', 1.0), ('CHEBI:37537', 1.0), ('CHEBI:78509', 1.0), ('CHEBI:28971', 1.0), ('CHEBI:176804', 1.0), ('CHEBI:16027', 1.0), ('CHEBI:60882', 1.0), ('CHEBI:64305', 1.0), ('CHEBI:138016', 1.0), ('CHEBI:51135', 1.0)], urls=['https://www.ebi.ac.uk/chebi/searchId.do?chebiId=CHEBI%3A50070', 'https://www.ebi.ac.uk/chebi/searchId.do?chebiId=CHEBI%3A60755', 'https://www.ebi.ac.uk/chebi/searchId.do?chebiId=CHEBI%3A456215', 'https://www.ebi.ac.uk/chebi/searchId.do?chebiId=CHEBI%3A53780', 'https://www.ebi.ac.uk/chebi/searchId.do?chebiId=CHEBI%3A6716', 'https://www.ebi.ac.uk/chebi/searchId.do?chebiId=CHEBI%3A44387', 'https://www.ebi.ac.uk/chebi/searchId.do?chebiId=CHEBI%3A45021', 'https://www.ebi.ac.uk/chebi/searchId.do?chebiId=CHEBI%3A37537', 'https://www.ebi.ac.uk/chebi/searchId.do?chebiId=CHEBI%3A78509', 'https://www.ebi.ac.uk/chebi/searchId.do?chebiId=CHEBI%3A28971', 'https://www.ebi.ac.uk/chebi/searchId.do?chebiId=CHEBI%3A176804', 'https://www.ebi.ac.uk/chebi/searchId.do?chebiId=CHEBI%3A16027', 'https://www.ebi.ac.uk/chebi/searchId.do?chebiId=CHEBI%3A60882', 'https://www.ebi.ac.uk/chebi/searchId.do?chebiId=CHEBI%3A64305', 'https://www.ebi.ac.uk/chebi/searchId.do?chebiId=CHEBI%3A138016', 'https://www.ebi.ac.uk/chebi/searchId.do?chebiId=CHEBI%3A51135'])]"
      ]
     },
     "execution_count": 13,
     "metadata": {},
     "output_type": "execute_result"
    }
   ],
   "source": [
    "recom.getSpeciesListAnnotation(pred_strs=['atp', 'amp'])"
   ]
  },
  {
   "cell_type": "code",
   "execution_count": 3,
   "id": "e7e43097-e43b-40bb-b5dd-2b675a7a99cb",
   "metadata": {},
   "outputs": [],
   "source": [
    "BIOMD_190_PATH = os.path.join(cn.TEST_DIR, 'BIOMD0000000190.xml')\n",
    "BIOMD_634_PATH = os.path.join(cn.TEST_DIR, 'BIOMD0000000634.xml')\n",
    "ONE_SPEC_CAND = ('CHEBI:15414', 1.0)\n",
    "ONE_SPEC_URL = 'https://www.ebi.ac.uk/chebi/searchId.do?chebiId=CHEBI%3A15414'\n",
    "TWO_SPEC_CAND = ('CHEBI:15729', 1.0)\n",
    "TWO_SPEC_URL = 'https://www.ebi.ac.uk/chebi/searchId.do?chebiId=CHEBI%3A15729'\n",
    "\n",
    "ONE_REAC_CAND = ('RHEA:28830', 1.0)\n",
    "ONE_REAC_URL = 'https://www.rhea-db.org/rhea/28830'\n",
    "\n",
    "SPECIES_SAM = 'SAM'\n",
    "SPECIES_SAM_NAME = 'S-adenosyl-L-methionine'\n",
    "SPECIES_ORN = 'ORN'\n",
    "REACTION_ODC = 'ODC'\n",
    "REACTION_SAMDC = 'SAMdc'\n",
    "\n",
    "ONE_CHEBI = 'CHEBI:15414'"
   ]
  },
  {
   "cell_type": "code",
   "execution_count": 8,
   "id": "fa27e057-0452-49ec-a9f1-2be6062521cf",
   "metadata": {},
   "outputs": [],
   "source": [
    "recom = recommender.Recommender(libsbml_fpath=BIOMD_634_PATH)\n",
    "# two_specs =  recom.getSpeciesListAnnotation(pred_ids=[SPECIES_SAM, SPECIES_ORN],\n",
    "#                                             update=True, method='cdist')\n",
    "# self.assertTrue((ONE_CHEBI, 1.0) in self.recom.species.candidates[SPECIES_SAM])\n",
    "# one_formula = cn.REF_CHEBI2FORMULA[ONE_CHEBI]\n",
    "# self.assertTrue(one_formula in self.recom.species.formula[SPECIES_SAM])    "
   ]
  },
  {
   "cell_type": "code",
   "execution_count": 10,
   "id": "0d3f317c-1328-4b2e-93e7-017a61bd6d60",
   "metadata": {},
   "outputs": [
    {
     "data": {
      "text/plain": [
       "{}"
      ]
     },
     "execution_count": 10,
     "metadata": {},
     "output_type": "execute_result"
    }
   ],
   "source": [
    "recom.reactions.exist_annotation"
   ]
  },
  {
   "cell_type": "code",
   "execution_count": 24,
   "id": "682f046e-43b1-4bfe-be15-ad22236e036b",
   "metadata": {},
   "outputs": [],
   "source": [
    "refs = {val:recom.species.exist_annotation_formula[val] \\\n",
    "        for val in recom.species.exist_annotation_formula.keys() \\\n",
    "        if recom.species.exist_annotation_formula[val]}\n",
    "specs2eval = list(refs.keys())"
   ]
  },
  {
   "cell_type": "code",
   "execution_count": 25,
   "id": "f71ffb77-4ffc-405a-a319-8bd05c5f7d40",
   "metadata": {},
   "outputs": [
    {
     "data": {
      "text/plain": [
       "['ATP', 'ADP', 'AMP']"
      ]
     },
     "execution_count": 25,
     "metadata": {},
     "output_type": "execute_result"
    }
   ],
   "source": [
    "specs2eval"
   ]
  },
  {
   "cell_type": "code",
   "execution_count": 29,
   "id": "bafeb797-32c3-48f0-91a3-808977a79a61",
   "metadata": {},
   "outputs": [],
   "source": [
    "preds_comb = recom.species.predictAnnotationByCosineSimilarity(inp_ids=specs2eval)\n",
    "preds = {val:preds_comb[val][cn.FORMULA] for val in preds_comb.keys()}"
   ]
  },
  {
   "cell_type": "code",
   "execution_count": 38,
   "id": "7d346303-5990-43f2-8355-788461c77839",
   "metadata": {},
   "outputs": [],
   "source": [
    "recall = tools.getRecall(ref=refs, pred=preds, mean=True)\n",
    "precision = tools.getPrecision(ref=refs, pred=preds, mean=True)"
   ]
  },
  {
   "cell_type": "code",
   "execution_count": 39,
   "id": "bebb108d-e812-4d82-ac07-fc1b48be875e",
   "metadata": {},
   "outputs": [
    {
     "data": {
      "text/plain": [
       "1.0"
      ]
     },
     "execution_count": 39,
     "metadata": {},
     "output_type": "execute_result"
    }
   ],
   "source": [
    "recall"
   ]
  },
  {
   "cell_type": "code",
   "execution_count": 40,
   "id": "b15f9eef-9249-45df-bb67-b8766e1e0f16",
   "metadata": {},
   "outputs": [
    {
     "data": {
      "text/plain": [
       "0.12474747474747473"
      ]
     },
     "execution_count": 40,
     "metadata": {},
     "output_type": "execute_result"
    }
   ],
   "source": [
    "precision"
   ]
  },
  {
   "cell_type": "code",
   "execution_count": 34,
   "id": "0aa4c8b2-ad19-4b01-987d-23396d47f607",
   "metadata": {},
   "outputs": [
    {
     "data": {
      "text/plain": [
       "{'ATP': ['C7O4', 'C8O4', 'O40PW12', 'C36O8', 'C10N5O13P3'],\n",
       " 'ADP': ['C10N5O10P2',\n",
       "  'C12N3O6',\n",
       "  'C9N2O2',\n",
       "  'C22O2',\n",
       "  'C12N',\n",
       "  'C20N10O11P2',\n",
       "  'C26',\n",
       "  'C3N2O2',\n",
       "  'C8O2',\n",
       "  'C5N3',\n",
       "  'C9Cl2NO'],\n",
       " 'AMP': ['C16O',\n",
       "  'C24O4',\n",
       "  '(C4O2)n',\n",
       "  'C10N2O2',\n",
       "  'C6O4',\n",
       "  'C16N3O4S',\n",
       "  '(C3NO)n',\n",
       "  'C36O8',\n",
       "  'C10ClN7O',\n",
       "  'C7NO4',\n",
       "  'C10N5O7P',\n",
       "  'C79N20O16']}"
      ]
     },
     "execution_count": 34,
     "metadata": {},
     "output_type": "execute_result"
    }
   ],
   "source": [
    "preds"
   ]
  },
  {
   "cell_type": "code",
   "execution_count": 20,
   "id": "9ad333d6-60d0-4d44-beb3-29d10f614b55",
   "metadata": {},
   "outputs": [],
   "source": [
    "one_formula = cn.REF_CHEBI2FORMULA[ONE_CHEBI]"
   ]
  },
  {
   "cell_type": "code",
   "execution_count": 21,
   "id": "bbedf06d-4bf8-4135-91cf-ded5a1e0f826",
   "metadata": {},
   "outputs": [
    {
     "data": {
      "text/plain": [
       "'C15N6O5S'"
      ]
     },
     "execution_count": 21,
     "metadata": {},
     "output_type": "execute_result"
    }
   ],
   "source": [
    "one_formula"
   ]
  },
  {
   "cell_type": "code",
   "execution_count": 13,
   "id": "339e10cc-33cc-4a9b-a663-f20b4236678c",
   "metadata": {},
   "outputs": [
    {
     "data": {
      "text/plain": [
       "{'name_used': 'amp',\n",
       " 'chebi': ['CHEBI:16027', 'CHEBI:28971', 'CHEBI:456215'],\n",
       " 'match_score': [('CHEBI:16027', 1.0),\n",
       "  ('CHEBI:28971', 1.0),\n",
       "  ('CHEBI:456215', 1.0)],\n",
       " 'formula': ['C16N3O4S', 'C10N5O7P']}"
      ]
     },
     "execution_count": 13,
     "metadata": {},
     "output_type": "execute_result"
    }
   ],
   "source": [
    "recom.species.predictAnnotationByEditDistance('amp')"
   ]
  },
  {
   "cell_type": "code",
   "execution_count": null,
   "id": "3f4f8ae6-4240-4bce-9cac-a1ccc65f48d4",
   "metadata": {},
   "outputs": [],
   "source": []
  }
 ],
 "metadata": {
  "kernelspec": {
   "display_name": "Python 3 (ipykernel)",
   "language": "python",
   "name": "python3"
  },
  "language_info": {
   "codemirror_mode": {
    "name": "ipython",
    "version": 3
   },
   "file_extension": ".py",
   "mimetype": "text/x-python",
   "name": "python",
   "nbconvert_exporter": "python",
   "pygments_lexer": "ipython3",
   "version": "3.9.15"
  }
 },
 "nbformat": 4,
 "nbformat_minor": 5
}
