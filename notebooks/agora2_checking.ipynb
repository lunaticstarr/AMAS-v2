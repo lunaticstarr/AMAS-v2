{
 "cells": [
  {
   "cell_type": "code",
   "execution_count": 1,
   "id": "5bc37938-3be6-46ee-bf7e-3ab4303c44ad",
   "metadata": {},
   "outputs": [
    {
     "name": "stdout",
     "output_type": "stream",
     "text": [
      "Number of BiGG models to be analyzed: 108\n",
      "Number of BioModels to be analyzed for SPECIES: 306\n",
      "Number of BioModels to be analyzed for REACTIONS: 131\n"
     ]
    }
   ],
   "source": [
    "# checking downloaded agora 2 files\n",
    "\n",
    "# new accuracy & precision plots; \n",
    "# collect all data so that no other loading of data would be needed. \n",
    "import collections\n",
    "\n",
    "import compress_pickle\n",
    "import copy\n",
    "import editdistance\n",
    "import itertools\n",
    "import libsbml\n",
    "import numpy as np\n",
    "import operator\n",
    "import os\n",
    "import pickle\n",
    "import pandas as pd\n",
    "import sys\n",
    "import time\n",
    "import matplotlib.pyplot as plt\n",
    "%matplotlib inline  \n",
    "\n",
    "BIOMD_12 = 'BIOMD0000000012.xml'\n",
    "BASE_DIR = '/Users/woosubshin/Desktop/AutomateAnnotation/'\n",
    "DATA_DIR = os.path.join(BASE_DIR, \"DATA\")\n",
    "ALGO_DIR = os.path.join(DATA_DIR, \"algo\")\n",
    "CHEBI_DIR = os.path.join(DATA_DIR, \"chebi\")\n",
    "FIGURE_DIR = '/Users/woosubshin/Desktop/AutomateAnnotation/AMAS_suppl/figure_files'\n",
    "RHEA_DIR = os.path.join(DATA_DIR, \"rhea\")\n",
    "BIOMODEL_DIR = os.path.join(DATA_DIR, \"biomodels/curated_biomodels_31mar2021\")\n",
    "BIGG_DIR = '/Users/woosubshin/Desktop/AutomateAnnotation/DATA/bigg'\n",
    "ecoli_fpath = os.path.join(BIGG_DIR, \"e_coli_core.xml\")\n",
    "\n",
    "PROJ_DIR = os.path.join(os.getcwd(), os.pardir)\n",
    "AMAS_DIR = os.path.join(PROJ_DIR, \"AMAS\")\n",
    "sys.path.append(PROJ_DIR)\n",
    "\n",
    "SUPPL_DIR = os.path.join(PROJ_DIR, os.pardir, \"AMAS_suppl\")\n",
    "ACCURACY_DIR = os.path.join(SUPPL_DIR, \"data_for_credibility\")\n",
    "\n",
    "# address changed - as of May 12, 2023. \n",
    "MANU_FIGURE_DIR = '/Users/woosubshin/Desktop/AutomateAnnotation/writeup/AMAS/Manu_figures_new'\n",
    "SUPPL_FIGURE_DIR = '/Users/woosubshin/Desktop/AutomateAnnotation/writeup/AMAS/Supple_figures_new'\n",
    "\n",
    "PRES_DIR = '/Users/woosubshin/Desktop/AutomateAnnotation/presentation/sauro_lab/sauro_lab_2023/jun82023'\n",
    "\n",
    "from AMAS import species_annotation as sa\n",
    "from AMAS import reaction_annotation as ra\n",
    "from AMAS import recommender\n",
    "from AMAS import constants as cn\n",
    "from AMAS import iterator as it\n",
    "from AMAS import tools\n",
    "\n",
    "biggs = [val for val in os.listdir(BIGG_DIR) if val[-4:]=='.xml']\n",
    "print(\"Number of BiGG models to be analyzed: %d\" % len(biggs))\n",
    "\n",
    "spec_ml_df = pd.read_csv(os.path.join(ACCURACY_DIR, 'biomd_individual_species_accuracy.csv'))\n",
    "biomds_spec = np.unique(spec_ml_df['model'])\n",
    "print(\"Number of BioModels to be analyzed for SPECIES: %d\" % len(biomds_spec))\n",
    "\n",
    "reac_ml_df = pd.read_csv(os.path.join(ACCURACY_DIR, 'biomd_individual_reactions_accuracy.csv'))\n",
    "biomds_reac = np.unique(reac_ml_df['model'])\n",
    "print(\"Number of BioModels to be analyzed for REACTIONS: %d\" % len(biomds_reac))\n",
    "\n",
    "\n",
    "SAVE_FPATH = '/Volumes/MGTEC/Agora2'"
   ]
  },
  {
   "cell_type": "code",
   "execution_count": 2,
   "id": "bf688670-e623-4fa1-808f-e5daab61692a",
   "metadata": {},
   "outputs": [
    {
     "name": "stdout",
     "output_type": "stream",
     "text": [
      "7302\n"
     ]
    }
   ],
   "source": [
    "agoras = [val for val in os.listdir(SAVE_FPATH) if val[-3:]=='xml']\n",
    "print(len(agoras))"
   ]
  },
  {
   "cell_type": "code",
   "execution_count": 3,
   "id": "21abd3d9-7240-4cd9-8b2c-a1ff0dd16bff",
   "metadata": {},
   "outputs": [
    {
     "name": "stdout",
     "output_type": "stream",
     "text": [
      "\n",
      "Abiotrophia_defectiva_ATCC_49176.xml\n",
      "Acaricomes_phytoseiuli_DSM_14247.xml\n",
      "Acaryochloris_marina_MBIC11017.xml\n",
      "Acetanaerobacterium_elongatum_CGMCC_1_5012.xml\n",
      "Acetatifactor_muris_GP69.xml\n",
      "Acetivibrio_cellulolyticus_CD2.xml\n",
      "Acetivibrio_ethanolgignens_ACET_33324.xml\n",
      "Acetobacterium_wieringae_DSM_1911.xml\n",
      "Acetonema_longum_DSM_6540.xml\n",
      "Achromobacter_insuavis_AXX_A.xml\n",
      "...\n",
      "\n"
     ]
    }
   ],
   "source": [
    "print()\n",
    "for one_a in agoras[:10]:\n",
    "  print(one_a)\n",
    "print(\"...\\n\")"
   ]
  },
  {
   "cell_type": "code",
   "execution_count": 232,
   "id": "cbe96349-12a2-4231-8e5a-cd098e61dee8",
   "metadata": {},
   "outputs": [],
   "source": [
    "genus_dict = dict()\n",
    "species_dict = dict()\n",
    "for one_a in agoras:\n",
    "  one_a_list = one_a.split('_')\n",
    "  one_genus = one_a_list[0]\n",
    "  one_species = '_'.join(one_a_list[:2])\n",
    "  if one_genus not in genus_dict.keys():\n",
    "    genus_dict[one_genus] = [one_a]\n",
    "  elif one_genus in genus_dict.keys():\n",
    "    genus_dict[one_genus].append(one_a)\n",
    "\n",
    "  if one_species not in species_dict.keys():\n",
    "    species_dict[one_species] = [one_a]\n",
    "  elif one_species in species_dict.keys():\n",
    "    species_dict[one_species].append(one_a)"
   ]
  },
  {
   "cell_type": "code",
   "execution_count": 233,
   "id": "89b5e8ae-3b82-4a15-abe9-afd5bc042d77",
   "metadata": {},
   "outputs": [
    {
     "data": {
      "text/plain": [
       "448"
      ]
     },
     "execution_count": 233,
     "metadata": {},
     "output_type": "execute_result"
    }
   ],
   "source": [
    "len(genus_dict)"
   ]
  },
  {
   "cell_type": "code",
   "execution_count": 253,
   "id": "1c545f54-7e9e-4b31-8c42-0457d168447f",
   "metadata": {},
   "outputs": [
    {
     "name": "stdout",
     "output_type": "stream",
     "text": [
      "987\n"
     ]
    },
    {
     "data": {
      "text/plain": [
       "['Escherichia_coli_XH140A.xml', 'Escherichia_coli_Xuzhou21.xml']"
      ]
     },
     "execution_count": 253,
     "metadata": {},
     "output_type": "execute_result"
    }
   ],
   "source": [
    "print(len(species_dict['Escherichia_coli']))\n",
    "species_dict['Escherichia_coli'][-2:]"
   ]
  },
  {
   "cell_type": "code",
   "execution_count": 258,
   "id": "39101b30-f033-448f-aa8d-38ee4ce8aaff",
   "metadata": {},
   "outputs": [
    {
     "data": {
      "text/plain": [
       "'Escherichia_coli_KTE80.xml'"
      ]
     },
     "execution_count": 258,
     "metadata": {},
     "output_type": "execute_result"
    }
   ],
   "source": [
    "random.choice(species_dict['Escherichia_coli'])"
   ]
  },
  {
   "cell_type": "code",
   "execution_count": null,
   "id": "6ea517ec-ee6a-4b62-814e-7f9bd2062c26",
   "metadata": {},
   "outputs": [],
   "source": [
    "random.sample(\n",
    "models_not_working"
   ]
  },
  {
   "cell_type": "code",
   "execution_count": 263,
   "id": "42cc7c66-4c96-4bd2-9ff5-0132c0e9a917",
   "metadata": {},
   "outputs": [
    {
     "data": {
      "text/plain": [
       "False"
      ]
     },
     "execution_count": 263,
     "metadata": {},
     "output_type": "execute_result"
    }
   ],
   "source": [
    "[1, 2] in [1, 2, 3]"
   ]
  },
  {
   "cell_type": "code",
   "execution_count": 268,
   "id": "7f687490-c357-465e-9bb6-63e8d8e69ec0",
   "metadata": {},
   "outputs": [],
   "source": [
    "# finding two models in the same species that are loadable\n",
    "# for k in species_dict.keys():\n",
    "#   if len(species_dict[k])>100:\n",
    "#     models = random.sample(species_dict[k], 2)\n",
    "#     if all([val not in models_not_working \\\n",
    "#             for val in models]):\n",
    "#       print(\"found!\")\n",
    "#       print(models)\n",
    "\n",
    "ecoli1 = 'Helicobacter_pylori_Hp_P_2.xml'\n",
    "ecoli2 = 'Helicobacter_pylori_8A3.xml'\n",
    "\n",
    "\n",
    "recom1 = recommender.Recommender(libsbml_fpath=os.path.join(SAVE_FPATH, ecoli1))\n",
    "recom2 = recommender.Recommender(libsbml_fpath=os.path.join(SAVE_FPATH, ecoli2))\n",
    "# model1 = recom1.sbml_document.getModel()\n",
    "# model2 = recom2.sbml_document.getModel()\n",
    "ecol_specs1 = set(recom1.getSpeciesIDs())\n",
    "ecol_specs2 = set(recom2.getSpeciesIDs())\n",
    "ecol_reacs1 = set(recom1.getReactionIDs())\n",
    "ecol_reacs2 = set(recom2.getReactionIDs())"
   ]
  },
  {
   "cell_type": "code",
   "execution_count": 284,
   "id": "6b7c676c-ab0e-42d1-95e5-5723fc41ad21",
   "metadata": {},
   "outputs": [
    {
     "data": {
      "text/plain": [
       "232"
      ]
     },
     "execution_count": 284,
     "metadata": {},
     "output_type": "execute_result"
    }
   ],
   "source": [
    "len(species_dict['Helicobacter_pylori'])"
   ]
  },
  {
   "cell_type": "code",
   "execution_count": 273,
   "id": "b2f55d1a-8a79-4300-aff9-863b1a3803e3",
   "metadata": {},
   "outputs": [
    {
     "name": "stdout",
     "output_type": "stream",
     "text": [
      "1326\n",
      "1315\n",
      "1265\n",
      "...\n",
      "1283\n",
      "1261\n",
      "1183\n"
     ]
    }
   ],
   "source": [
    "print(len(ecol_specs1))\n",
    "print(len(ecol_specs2))\n",
    "print(len(ecol_specs1.intersection(ecol_specs2)))\n",
    "print(\"...\")\n",
    "print(len(ecol_reacs1))\n",
    "print(len(ecol_reacs2))\n",
    "print(len(ecol_reacs1.intersection(ecol_reacs2)))"
   ]
  },
  {
   "cell_type": "code",
   "execution_count": 297,
   "id": "84a5c5c5-db59-463a-a8c6-9bbc016bbd88",
   "metadata": {},
   "outputs": [],
   "source": [
    "DOWN_DIR = '/Users/woosubshin/Downloads'\n",
    "recom = recommender.Recommender(libsbml_fpath=os.path.join(DOWN_DIR, 'BMID000000141699_url.xml'))"
   ]
  },
  {
   "cell_type": "code",
   "execution_count": 298,
   "id": "70a608ab-58c8-479b-8e0d-af671c81e80f",
   "metadata": {},
   "outputs": [
    {
     "data": {
      "text/plain": [
       "2118"
      ]
     },
     "execution_count": 298,
     "metadata": {},
     "output_type": "execute_result"
    }
   ],
   "source": [
    "len(recom.species.exist_annotation)"
   ]
  },
  {
   "cell_type": "code",
   "execution_count": 303,
   "id": "5872b9ca-a2d0-416f-968c-7540ecf292f1",
   "metadata": {},
   "outputs": [
    {
     "name": "stdout",
     "output_type": "stream",
     "text": [
      "<annotation>\n",
      "  <rdf:RDF xmlns:rdf=\"http://www.w3.org/1999/02/22-rdf-syntax-ns#\" xmlns:bqmodel=\"http://biomodels.net/model-qualifiers/\" xmlns:bqbiol=\"http://biomodels.net/biology-qualifiers/\">\n",
      "    <rdf:Description rdf:about=\"#_22c2ee67_cb1b_4d29_ba7f_96668f50d656\">\n",
      "      <bqbiol:is>\n",
      "        <rdf:Bag>\n",
      "          <rdf:li rdf:resource=\"http://identifiers.org/chebi/CHEBI:28013\"/>\n",
      "          <rdf:li rdf:resource=\"http://identifiers.org/chebi/CHEBI:32966\"/>\n",
      "          <rdf:li rdf:resource=\"http://identifiers.org/chebi/CHEBI:32968\"/>\n",
      "          <rdf:li rdf:resource=\"http://identifiers.org/chebi/CHEBI:37736\"/>\n",
      "          <rdf:li rdf:resource=\"http://identifiers.org/chebi/CHEBI:40595\"/>\n",
      "          <rdf:li rdf:resource=\"http://identifiers.org/chebi/CHEBI:49299\"/>\n",
      "        </rdf:Bag>\n",
      "      </bqbiol:is>\n",
      "    </rdf:Description>\n",
      "  </rdf:RDF>\n",
      "</annotation>\n"
     ]
    }
   ],
   "source": [
    "model = recom.sbml_document.getModel()\n",
    "one_s = model.getSpecies('bigg_fdp_i')\n",
    "print(one_s.getAnnotationString())"
   ]
  },
  {
   "cell_type": "code",
   "execution_count": 343,
   "id": "a010f9aa-dd81-42a6-8660-0fc59abcb770",
   "metadata": {},
   "outputs": [
    {
     "name": "stdout",
     "output_type": "stream",
     "text": [
      "None\n"
     ]
    }
   ],
   "source": [
    "one_m = 'Escherichia_coli_1_2264.xml'\n",
    "one_fpath = os.path.join(DOWN_DIR, one_m)\n",
    "\n",
    "reader = libsbml.SBMLReader()\n",
    "sbml_document = reader.readSBML(one_fpath)\n",
    "model = sbml_document.getModel()\n",
    "print(model)"
   ]
  },
  {
   "cell_type": "code",
   "execution_count": 339,
   "id": "54f48a2c-1729-4583-b11b-5496bf572b4a",
   "metadata": {},
   "outputs": [
    {
     "name": "stdout",
     "output_type": "stream",
     "text": [
      "1\n"
     ]
    }
   ],
   "source": [
    "print(sbml_document.getNumErrors())"
   ]
  },
  {
   "cell_type": "code",
   "execution_count": 340,
   "id": "b25ee79f-9b6e-4cac-92a9-bda48cb21e1c",
   "metadata": {},
   "outputs": [
    {
     "name": "stderr",
     "output_type": "stream",
     "text": [
      "line 84180: (01006 [Error]) XML content is not well-formed.\n",
      "\n"
     ]
    }
   ],
   "source": [
    "sbml_document.printErrors()"
   ]
  },
  {
   "cell_type": "code",
   "execution_count": null,
   "id": "c7289436-0842-457e-96a2-3688daa246a0",
   "metadata": {},
   "outputs": [],
   "source": []
  },
  {
   "cell_type": "code",
   "execution_count": null,
   "id": "b790782c-2d77-44c8-8813-43885636048b",
   "metadata": {},
   "outputs": [],
   "source": []
  },
  {
   "cell_type": "code",
   "execution_count": 7,
   "id": "18ae9e56-7a56-43d2-b3e1-693a9866c07f",
   "metadata": {},
   "outputs": [
    {
     "name": "stdout",
     "output_type": "stream",
     "text": [
      "We're at 0\n",
      "We're at 1000\n",
      "We're at 2000\n",
      "We're at 3000\n",
      "We're at 4000\n",
      "We're at 5000\n",
      "We're at 6000\n",
      "We're at 7000\n"
     ]
    }
   ],
   "source": [
    "total_chebis = []\n",
    "total_rheas = []\n",
    "total_specs = []\n",
    "total_reacs = []\n",
    "\n",
    "models_not_working = []\n",
    "\n",
    "models = []\n",
    "num_species = []\n",
    "name_lengths = []\n",
    "num_annotated_species = []\n",
    "num_unique_chebis = []\n",
    "num_reactions = []\n",
    "num_components = []\n",
    "num_annotated_reactions = []\n",
    "num_unique_rheas = []\n",
    "\n",
    "\n",
    "for idx, one_a in enumerate(agoras):\n",
    "  if idx % 1000 == 0:\n",
    "    print(\"We're at\", idx)\n",
    "  one_fpath = os.path.join(SAVE_FPATH, one_a)\n",
    "  try: \n",
    "    recom = recommender.Recommender(libsbml_fpath=one_fpath)\n",
    "  except:\n",
    "    models_not_working.append(one_a)\n",
    "    continue\n",
    "  models.append(one_a)\n",
    "  num_species.append(len(recom.species.names))\n",
    "  name_lengths.append(np.mean([len(recom.species.names[k]) \\\n",
    "                               for k in recom.species.names.keys()]))\n",
    "  num_annotated_species.append(len(recom.species.exist_annotation))\n",
    "  unique_chebis = list(set(itertools.chain(*[recom.species.exist_annotation[k] \\\n",
    "                  for k in recom.species.exist_annotation.keys()])))\n",
    "  num_reactions.append(len(recom.reactions.reaction_components))\n",
    "  num_components.append(np.mean([len(recom.reactions.reaction_components[k]) \\\n",
    "                           for k in recom.reactions.reaction_components.keys()]))\n",
    "  num_annotated_reactions.append(len(recom.reactions.exist_annotation))\n",
    "  unique_rheas = list(set(itertools.chain(*[recom.reactions.exist_annotation[k] \\\n",
    "                 for k in recom.reactions.exist_annotation.keys()])))\n",
    "  num_unique_chebis.append(len(unique_chebis))\n",
    "  num_unique_rheas.append(len(unique_rheas))\n",
    "  total_specs.append(list(recom.species.names.keys()))\n",
    "  total_reacs.append(list(recom.reactions.reaction_components.keys()))\n",
    "  total_chebis.append(unique_chebis)\n",
    "  total_rheas.append(unique_rheas)\n",
    "\n",
    "agora_summary = pd.DataFrame({'model': models,\n",
    "                              'num_species': num_species,\n",
    "                              'name_lengths': name_lengths,\n",
    "                              'num_annotated_species': num_annotated_species,\n",
    "                              'num_unique_chebis': num_unique_chebis,\n",
    "                              'num_reactions': num_reactions, \n",
    "                              'num_components': num_components,\n",
    "                              'num_annotated_reactions': num_annotated_reactions,\n",
    "                              'num_unique_rheas': num_unique_rheas})\n",
    "specs = list(set(itertools.chain(*total_specs)))\n",
    "reacs = list(set(itertools.chain(*total_reacs)))\n",
    "chebis = list(set(itertools.chain(*total_chebis)))\n",
    "rheas = list(set(itertools.chain(*total_rheas)))"
   ]
  },
  {
   "cell_type": "code",
   "execution_count": 285,
   "id": "4e83f5b4-240d-425c-b6e2-401d5f8d835f",
   "metadata": {},
   "outputs": [
    {
     "data": {
      "text/plain": [
       "(array([  34.,  298., 1726., 1334., 1096.,  565.,   95.,   66.,  249.,\n",
       "          93.]),\n",
       " array([ 496. ,  683.9,  871.8, 1059.7, 1247.6, 1435.5, 1623.4, 1811.3,\n",
       "        1999.2, 2187.1, 2375. ]),\n",
       " <BarContainer object of 10 artists>)"
      ]
     },
     "execution_count": 285,
     "metadata": {},
     "output_type": "execute_result"
    },
    {
     "data": {
      "image/png": "[encoded data removed]",
      "text/plain": [
       "<Figure size 640x480 with 1 Axes>"
      ]
     },
     "metadata": {},
     "output_type": "display_data"
    }
   ],
   "source": [
    "plt.hist(agora_summary['num_species'])"
   ]
  },
  {
   "cell_type": "code",
   "execution_count": 286,
   "id": "347b6ea6-13a1-47cd-bdbe-1d896bb5e6f4",
   "metadata": {},
   "outputs": [
    {
     "data": {
      "text/plain": [
       "(array([  41.,  339., 1625., 1210., 1226.,  434.,  282.,   74.,  237.,\n",
       "          88.]),\n",
       " array([ 507. ,  719.6,  932.2, 1144.8, 1357.4, 1570. , 1782.6, 1995.2,\n",
       "        2207.8, 2420.4, 2633. ]),\n",
       " <BarContainer object of 10 artists>)"
      ]
     },
     "execution_count": 286,
     "metadata": {},
     "output_type": "execute_result"
    },
    {
     "data": {
      "image/png": "[encoded data removed]",
      "text/plain": [
       "<Figure size 640x480 with 1 Axes>"
      ]
     },
     "metadata": {},
     "output_type": "display_data"
    }
   ],
   "source": [
    "plt.hist(agora_summary['num_reactions'])"
   ]
  },
  {
   "cell_type": "code",
   "execution_count": 50,
   "id": "94ebbddd-538e-4609-9fca-f61c1a065ee7",
   "metadata": {},
   "outputs": [],
   "source": [
    "agora_total = {'specs': specs, 'reacs': reacs,\n",
    "               'chebis':chebis, 'rheas': rheas}\n",
    "\n",
    "with open(os.path.join(PRES_DIR, 'agora_total.pkl'), 'wb') as f:\n",
    "    pickle.dump(agora_total, f)"
   ]
  },
  {
   "cell_type": "code",
   "execution_count": 52,
   "id": "35d899ea-be49-491f-aa64-406d7f5df56d",
   "metadata": {},
   "outputs": [],
   "source": [
    "with open(os.path.join(PRES_DIR, 'agora_total.pkl'), 'rb') as f:\n",
    "    tots = pickle.load(f)"
   ]
  },
  {
   "cell_type": "code",
   "execution_count": 8,
   "id": "dc640b6b-8f30-427b-8eb0-c6a9f9a75373",
   "metadata": {},
   "outputs": [],
   "source": [
    "agora_summary.to_csv(os.path.join(PRES_DIR, 'agora_summary.csv'), index=False)"
   ]
  },
  {
   "cell_type": "code",
   "execution_count": 11,
   "id": "6da7f714-2555-468f-aab9-dcca8a1728ef",
   "metadata": {},
   "outputs": [
    {
     "data": {
      "text/plain": [
       "(5556, 9)"
      ]
     },
     "execution_count": 11,
     "metadata": {},
     "output_type": "execute_result"
    }
   ],
   "source": [
    "agora_summary.shape"
   ]
  },
  {
   "cell_type": "code",
   "execution_count": 15,
   "id": "b388bc8a-7e66-4909-a6d5-59931401124d",
   "metadata": {},
   "outputs": [
    {
     "name": "stdout",
     "output_type": "stream",
     "text": [
      "We're at 0\n",
      "We're at 1000\n"
     ]
    }
   ],
   "source": [
    "models_issues = []\n",
    "for idx, one_a in enumerate(models_not_working):\n",
    "  if idx % 100 == 0:\n",
    "    print(\"We're at\", idx)\n",
    "  one_fpath = os.path.join(SAVE_FPATH, one_a)\n",
    "  try: \n",
    "    reader = libsbml.SBMLReader()\n",
    "    sbml_document = reader.readSBML(one_fpath)\n",
    "    model = sbml_document.getModel()\n",
    "    _ = model.getNumSpecies()\n",
    "    _ = model.getNumReactions()\n",
    "  except:\n",
    "    models_issues.append(one_a)\n",
    "    continue"
   ]
  },
  {
   "cell_type": "code",
   "execution_count": 20,
   "id": "cbde08a1-ca19-4f27-be32-baeb507dfb4d",
   "metadata": {},
   "outputs": [
    {
     "name": "stdout",
     "output_type": "stream",
     "text": [
      "1746\n"
     ]
    },
    {
     "data": {
      "text/plain": [
       "23.91125718981101"
      ]
     },
     "execution_count": 20,
     "metadata": {},
     "output_type": "execute_result"
    }
   ],
   "source": [
    "print(len(models_not_working))\n",
    "len(models_not_working) / 7302 * 100"
   ]
  },
  {
   "cell_type": "code",
   "execution_count": 22,
   "id": "0bfa6b04-57b5-4b0b-8418-60008b8a3835",
   "metadata": {},
   "outputs": [
    {
     "data": {
      "text/plain": [
       "'Acinetobacter_pittii_ANC_4050.xml'"
      ]
     },
     "execution_count": 22,
     "metadata": {},
     "output_type": "execute_result"
    }
   ],
   "source": [
    "models_not_working[0]"
   ]
  },
  {
   "cell_type": "code",
   "execution_count": 21,
   "id": "a8704e04-e84e-47de-9d3f-1235f98da4e9",
   "metadata": {},
   "outputs": [
    {
     "data": {
      "text/plain": [
       "(5556, 9)"
      ]
     },
     "execution_count": 21,
     "metadata": {},
     "output_type": "execute_result"
    }
   ],
   "source": [
    "agora_summary.shape"
   ]
  },
  {
   "cell_type": "code",
   "execution_count": 21,
   "id": "8d498073-ed66-456d-858a-53825b10d6bb",
   "metadata": {},
   "outputs": [],
   "source": [
    "reader = libsbml.SBMLReader()\n",
    "sbml_document = reader.readSBML(one_fpath)\n",
    "model = sbml_document.getModel()"
   ]
  },
  {
   "cell_type": "code",
   "execution_count": 24,
   "id": "4c9cedd4-fd46-4bf3-9adc-4a1071feb466",
   "metadata": {},
   "outputs": [],
   "source": [
    "one_m = recom.sbml_document.getModel()"
   ]
  },
  {
   "cell_type": "code",
   "execution_count": 26,
   "id": "095e8593-24c0-4390-a776-3cf7375df251",
   "metadata": {},
   "outputs": [
    {
     "data": {
      "text/plain": [
       "'10-Deoxymethymycin'"
      ]
     },
     "execution_count": 26,
     "metadata": {},
     "output_type": "execute_result"
    }
   ],
   "source": [
    "one_m.getListOfSpecies()[0].name"
   ]
  },
  {
   "cell_type": "code",
   "execution_count": 25,
   "id": "7512b9c7-a2be-4114-8f08-b00dc611cf15",
   "metadata": {},
   "outputs": [],
   "source": [
    "model = recom.sbml_document.getModel()"
   ]
  },
  {
   "cell_type": "code",
   "execution_count": 29,
   "id": "7516d0f2-f8b5-4a14-9644-240fdf1dcadd",
   "metadata": {},
   "outputs": [
    {
     "data": {
      "text/plain": [
       "<Species M_10fthf5glu__91__c__93__ \"10-formyltetrahydrofolate-[Glu](5)\">"
      ]
     },
     "execution_count": 29,
     "metadata": {},
     "output_type": "execute_result"
    }
   ],
   "source": [
    "model.getListOfSpecies()[0]"
   ]
  },
  {
   "cell_type": "code",
   "execution_count": 31,
   "id": "a1d0e2dd-6dd8-4ad8-a023-6706d08eccf1",
   "metadata": {},
   "outputs": [
    {
     "data": {
      "text/html": [
       "<div>\n",
       "<style scoped>\n",
       "    .dataframe tbody tr th:only-of-type {\n",
       "        vertical-align: middle;\n",
       "    }\n",
       "\n",
       "    .dataframe tbody tr th {\n",
       "        vertical-align: top;\n",
       "    }\n",
       "\n",
       "    .dataframe thead th {\n",
       "        text-align: right;\n",
       "    }\n",
       "</style>\n",
       "<table border=\"1\" class=\"dataframe\">\n",
       "  <thead>\n",
       "    <tr style=\"text-align: right;\">\n",
       "      <th></th>\n",
       "      <th>model</th>\n",
       "      <th>num_species</th>\n",
       "      <th>name_lengths</th>\n",
       "      <th>num_annotated_species</th>\n",
       "      <th>num_unique_chebis</th>\n",
       "      <th>num_reactions</th>\n",
       "      <th>num_components</th>\n",
       "      <th>num_annotated_reactions</th>\n",
       "      <th>num_unique_rheas</th>\n",
       "    </tr>\n",
       "  </thead>\n",
       "  <tbody>\n",
       "    <tr>\n",
       "      <th>0</th>\n",
       "      <td>Abiotrophia_defectiva_ATCC_49176.xml</td>\n",
       "      <td>965</td>\n",
       "      <td>26.443523</td>\n",
       "      <td>648</td>\n",
       "      <td>206</td>\n",
       "      <td>1048</td>\n",
       "      <td>4.350191</td>\n",
       "      <td>644</td>\n",
       "      <td>447</td>\n",
       "    </tr>\n",
       "    <tr>\n",
       "      <th>1</th>\n",
       "      <td>Acaricomes_phytoseiuli_DSM_14247.xml</td>\n",
       "      <td>952</td>\n",
       "      <td>25.844538</td>\n",
       "      <td>693</td>\n",
       "      <td>578</td>\n",
       "      <td>1064</td>\n",
       "      <td>4.343985</td>\n",
       "      <td>687</td>\n",
       "      <td>479</td>\n",
       "    </tr>\n",
       "    <tr>\n",
       "      <th>2</th>\n",
       "      <td>Acaryochloris_marina_MBIC11017.xml</td>\n",
       "      <td>1144</td>\n",
       "      <td>26.161713</td>\n",
       "      <td>816</td>\n",
       "      <td>627</td>\n",
       "      <td>1242</td>\n",
       "      <td>4.305958</td>\n",
       "      <td>753</td>\n",
       "      <td>526</td>\n",
       "    </tr>\n",
       "    <tr>\n",
       "      <th>3</th>\n",
       "      <td>Acetanaerobacterium_elongatum_CGMCC_1_5012.xml</td>\n",
       "      <td>878</td>\n",
       "      <td>26.288155</td>\n",
       "      <td>580</td>\n",
       "      <td>471</td>\n",
       "      <td>932</td>\n",
       "      <td>4.424893</td>\n",
       "      <td>576</td>\n",
       "      <td>404</td>\n",
       "    </tr>\n",
       "    <tr>\n",
       "      <th>4</th>\n",
       "      <td>Acetatifactor_muris_GP69.xml</td>\n",
       "      <td>961</td>\n",
       "      <td>27.337149</td>\n",
       "      <td>644</td>\n",
       "      <td>543</td>\n",
       "      <td>1014</td>\n",
       "      <td>4.357988</td>\n",
       "      <td>674</td>\n",
       "      <td>476</td>\n",
       "    </tr>\n",
       "  </tbody>\n",
       "</table>\n",
       "</div>"
      ],
      "text/plain": [
       "                                            model  num_species  name_lengths  \\\n",
       "0            Abiotrophia_defectiva_ATCC_49176.xml          965     26.443523   \n",
       "1            Acaricomes_phytoseiuli_DSM_14247.xml          952     25.844538   \n",
       "2              Acaryochloris_marina_MBIC11017.xml         1144     26.161713   \n",
       "3  Acetanaerobacterium_elongatum_CGMCC_1_5012.xml          878     26.288155   \n",
       "4                    Acetatifactor_muris_GP69.xml          961     27.337149   \n",
       "\n",
       "   num_annotated_species  num_unique_chebis  num_reactions  num_components  \\\n",
       "0                    648                206           1048        4.350191   \n",
       "1                    693                578           1064        4.343985   \n",
       "2                    816                627           1242        4.305958   \n",
       "3                    580                471            932        4.424893   \n",
       "4                    644                543           1014        4.357988   \n",
       "\n",
       "   num_annotated_reactions  num_unique_rheas  \n",
       "0                      644               447  \n",
       "1                      687               479  \n",
       "2                      753               526  \n",
       "3                      576               404  \n",
       "4                      674               476  "
      ]
     },
     "execution_count": 31,
     "metadata": {},
     "output_type": "execute_result"
    }
   ],
   "source": [
    "agora_summary.head()"
   ]
  },
  {
   "cell_type": "code",
   "execution_count": 121,
   "id": "3d86a81c-eb86-43ba-83e9-271433a95822",
   "metadata": {},
   "outputs": [
    {
     "name": "stdout",
     "output_type": "stream",
     "text": [
      "496\n",
      "2375\n",
      "1160.0\n"
     ]
    }
   ],
   "source": [
    "print(np.min(agora_summary['num_species']))\n",
    "print(np.max(agora_summary['num_species']))\n",
    "print(np.median(agora_summary['num_species']))"
   ]
  },
  {
   "cell_type": "code",
   "execution_count": 36,
   "id": "94ea14f3-19e1-477f-bd0b-abaaa5549ca4",
   "metadata": {},
   "outputs": [
    {
     "data": {
      "text/plain": [
       "1228.7"
      ]
     },
     "execution_count": 36,
     "metadata": {},
     "output_type": "execute_result"
    }
   ],
   "source": [
    "np.round(np.mean(agora_summary['num_species']), 1)\n",
    "np.round(np.mean(agora_summary['num_annotated_species']), 1)\n",
    "\n",
    "np.round(np.mean(agora_summary['num_reactions']), 1)\n",
    "np.round(np.mean(agora_summary['num_annotated_reactions']), 1)\n",
    "\n",
    "np.round(np.mean(agora_summary['num_annotated_species']/agora_summary['num_species'])*100,1)\n",
    "np.round(np.mean(agora_summary['num_annotated_reactions']/agora_summary['num_reactions'])*100,1)"
   ]
  },
  {
   "cell_type": "code",
   "execution_count": 48,
   "id": "3d456fb6-642d-4665-a08e-8cd959abcb24",
   "metadata": {},
   "outputs": [],
   "source": [
    "# Now, get distributions"
   ]
  },
  {
   "cell_type": "code",
   "execution_count": 49,
   "id": "0e7df113-a3e8-4f5e-bd98-681d2ee5a1dd",
   "metadata": {},
   "outputs": [
    {
     "data": {
      "text/plain": [
       "(array([  34.,  298., 1726., 1334., 1096.,  565.,   95.,   66.,  249.,\n",
       "          93.]),\n",
       " array([ 496. ,  683.9,  871.8, 1059.7, 1247.6, 1435.5, 1623.4, 1811.3,\n",
       "        1999.2, 2187.1, 2375. ]),\n",
       " <BarContainer object of 10 artists>)"
      ]
     },
     "execution_count": 49,
     "metadata": {},
     "output_type": "execute_result"
    },
    {
     "data": {
      "image/png": "[encoded data removed]",
      "text/plain": [
       "<Figure size 640x480 with 1 Axes>"
      ]
     },
     "metadata": {},
     "output_type": "display_data"
    }
   ],
   "source": [
    "plt.hist(agora_summary['num_species'])"
   ]
  },
  {
   "cell_type": "code",
   "execution_count": 2,
   "id": "d6243755-2e5f-4505-82c9-e0a47c506818",
   "metadata": {},
   "outputs": [
    {
     "name": "stdout",
     "output_type": "stream",
     "text": [
      "We're at 0\n"
     ]
    },
    {
     "name": "stderr",
     "output_type": "stream",
     "text": [
      "/Users/woosubshin/miniconda3/envs/amas_dev/lib/python3.11/site-packages/numpy/core/fromnumeric.py:3504: RuntimeWarning: Mean of empty slice.\n",
      "  return _methods._mean(a, axis=axis, dtype=dtype,\n",
      "/Users/woosubshin/miniconda3/envs/amas_dev/lib/python3.11/site-packages/numpy/core/_methods.py:129: RuntimeWarning: invalid value encountered in scalar divide\n",
      "  ret = ret.dtype.type(ret / rcount)\n"
     ]
    },
    {
     "name": "stdout",
     "output_type": "stream",
     "text": [
      "We're at 100\n",
      "We're at 200\n",
      "We're at 300\n",
      "We're at 400\n",
      "We're at 500\n",
      "We're at 600\n",
      "We're at 700\n",
      "We're at 800\n",
      "We're at 900\n"
     ]
    }
   ],
   "source": [
    "# summary of biomodels\n",
    "biomds = [val for val in os.listdir(BIOMODEL_DIR) if val[-3:]=='xml']\n",
    "\n",
    "total_chebis = []\n",
    "total_rheas = []\n",
    "total_specs = []\n",
    "total_reacs = []\n",
    "\n",
    "models = []\n",
    "num_species = []\n",
    "name_lengths = []\n",
    "num_annotated_species = []\n",
    "num_unique_chebis = []\n",
    "num_reactions = []\n",
    "num_components = []\n",
    "num_annotated_reactions = []\n",
    "num_unique_rheas = []\n",
    "\n",
    "\n",
    "for idx, one_biomd in enumerate(biomds):\n",
    "  if idx % 100 == 0:\n",
    "    print(\"We're at\", idx)\n",
    "  one_fpath = os.path.join(BIOMODEL_DIR, one_biomd)\n",
    "  recom = recommender.Recommender(libsbml_fpath=one_fpath)\n",
    "  models.append(one_biomd)\n",
    "  num_species.append(len(recom.species.names))\n",
    "  name_lengths.append(np.mean([len(recom.species.names[k]) \\\n",
    "                               for k in recom.species.names.keys()]))\n",
    "  num_annotated_species.append(len(recom.species.exist_annotation))\n",
    "  unique_chebis = list(set(itertools.chain(*[recom.species.exist_annotation[k] \\\n",
    "                  for k in recom.species.exist_annotation.keys()])))\n",
    "  num_reactions.append(len(recom.reactions.reaction_components))\n",
    "  num_components.append(np.mean([len(recom.reactions.reaction_components[k]) \\\n",
    "                           for k in recom.reactions.reaction_components.keys()]))\n",
    "  num_annotated_reactions.append(len(recom.reactions.exist_annotation))\n",
    "  unique_rheas = list(set(itertools.chain(*[recom.reactions.exist_annotation[k] \\\n",
    "                 for k in recom.reactions.exist_annotation.keys()])))\n",
    "  num_unique_chebis.append(len(unique_chebis))\n",
    "  num_unique_rheas.append(len(unique_rheas))\n",
    "  total_specs.append(list(recom.species.names.keys()))\n",
    "  total_reacs.append(list(recom.reactions.reaction_components.keys()))\n",
    "  total_chebis.append(unique_chebis)\n",
    "  total_rheas.append(unique_rheas)\n",
    "\n",
    "biomd_summary = pd.DataFrame({'model': models,\n",
    "                              'num_species': num_species,\n",
    "                              'name_lengths': name_lengths,\n",
    "                              'num_annotated_species': num_annotated_species,\n",
    "                              'num_unique_chebis': num_unique_chebis,\n",
    "                              'num_reactions': num_reactions, \n",
    "                              'num_components': num_components,\n",
    "                              'num_annotated_reactions': num_annotated_reactions,\n",
    "                              'num_unique_rheas': num_unique_rheas})\n",
    "specs = list(set(itertools.chain(*total_specs)))\n",
    "reacs = list(set(itertools.chain(*total_reacs)))\n",
    "chebis = list(set(itertools.chain(*total_chebis)))\n",
    "rheas = list(set(itertools.chain(*total_rheas)))\n",
    "biomd_total = {'specs': specs, 'reacs': reacs,\n",
    "               'chebis':chebis, 'rheas': rheas}"
   ]
  },
  {
   "cell_type": "code",
   "execution_count": 4,
   "id": "b74f6c62-4e60-4503-8025-e8526d99ed24",
   "metadata": {},
   "outputs": [
    {
     "data": {
      "text/plain": [
       "<Model MODEL1602280001 \"Thiaville2016 - Wild type folate pathway model with proposed PanB reaction\">"
      ]
     },
     "execution_count": 4,
     "metadata": {},
     "output_type": "execute_result"
    }
   ],
   "source": [
    "model = recom.sbml_document.getModel()\n",
    "model"
   ]
  },
  {
   "cell_type": "code",
   "execution_count": 12,
   "id": "d166e3d2-ffd2-47cf-827f-cabd03634b11",
   "metadata": {},
   "outputs": [
    {
     "data": {
      "text/plain": [
       "'compartment * k1 * ATP * H2_HMPt'"
      ]
     },
     "execution_count": 12,
     "metadata": {},
     "output_type": "execute_result"
    }
   ],
   "source": [
    "one_r = model.getReaction(0)\n",
    "one_k = one_r.getKineticLaw()\n",
    "one_k.formula"
   ]
  },
  {
   "cell_type": "code",
   "execution_count": 14,
   "id": "b4d4272f-d437-43e0-beee-5cb0af2cff71",
   "metadata": {},
   "outputs": [
    {
     "data": {
      "text/plain": [
       "<module 'AMAS.tools' from '/Users/woosubshin/Desktop/AutomateAnnotation/AMAS/notebooks/../AMAS/tools.py'>"
      ]
     },
     "execution_count": 14,
     "metadata": {},
     "output_type": "execute_result"
    }
   ],
   "source": []
  },
  {
   "cell_type": "code",
   "execution_count": 11,
   "id": "ac22e0f9-b297-4816-bd58-658ac84c1330",
   "metadata": {},
   "outputs": [
    {
     "data": {
      "text/plain": [
       "'compartment * k1 * ATP * H2_HMPt'"
      ]
     },
     "execution_count": 11,
     "metadata": {},
     "output_type": "execute_result"
    }
   ],
   "source": []
  },
  {
   "cell_type": "code",
   "execution_count": 63,
   "id": "cbc6566a-9406-44e7-9d64-f661688c3374",
   "metadata": {},
   "outputs": [
    {
     "data": {
      "text/html": [
       "<div>\n",
       "<style scoped>\n",
       "    .dataframe tbody tr th:only-of-type {\n",
       "        vertical-align: middle;\n",
       "    }\n",
       "\n",
       "    .dataframe tbody tr th {\n",
       "        vertical-align: top;\n",
       "    }\n",
       "\n",
       "    .dataframe thead th {\n",
       "        text-align: right;\n",
       "    }\n",
       "</style>\n",
       "<table border=\"1\" class=\"dataframe\">\n",
       "  <thead>\n",
       "    <tr style=\"text-align: right;\">\n",
       "      <th></th>\n",
       "      <th>model</th>\n",
       "      <th>num_species</th>\n",
       "      <th>name_lengths</th>\n",
       "      <th>num_annotated_species</th>\n",
       "      <th>num_unique_chebis</th>\n",
       "      <th>num_reactions</th>\n",
       "      <th>num_components</th>\n",
       "      <th>num_annotated_reactions</th>\n",
       "      <th>num_unique_rheas</th>\n",
       "    </tr>\n",
       "  </thead>\n",
       "  <tbody>\n",
       "    <tr>\n",
       "      <th>0</th>\n",
       "      <td>BIOMD0000000634.xml</td>\n",
       "      <td>69</td>\n",
       "      <td>0.000000</td>\n",
       "      <td>5</td>\n",
       "      <td>5</td>\n",
       "      <td>112</td>\n",
       "      <td>2.857143</td>\n",
       "      <td>0</td>\n",
       "      <td>0</td>\n",
       "    </tr>\n",
       "    <tr>\n",
       "      <th>1</th>\n",
       "      <td>BIOMD0000000152.xml</td>\n",
       "      <td>64</td>\n",
       "      <td>7.906250</td>\n",
       "      <td>5</td>\n",
       "      <td>3</td>\n",
       "      <td>120</td>\n",
       "      <td>2.958333</td>\n",
       "      <td>34</td>\n",
       "      <td>4</td>\n",
       "    </tr>\n",
       "    <tr>\n",
       "      <th>2</th>\n",
       "      <td>BIOMD0000000146.xml</td>\n",
       "      <td>36</td>\n",
       "      <td>0.000000</td>\n",
       "      <td>2</td>\n",
       "      <td>2</td>\n",
       "      <td>34</td>\n",
       "      <td>2.235294</td>\n",
       "      <td>0</td>\n",
       "      <td>0</td>\n",
       "    </tr>\n",
       "    <tr>\n",
       "      <th>3</th>\n",
       "      <td>BIOMD0000000620.xml</td>\n",
       "      <td>35</td>\n",
       "      <td>0.000000</td>\n",
       "      <td>1</td>\n",
       "      <td>1</td>\n",
       "      <td>20</td>\n",
       "      <td>1.000000</td>\n",
       "      <td>0</td>\n",
       "      <td>0</td>\n",
       "    </tr>\n",
       "    <tr>\n",
       "      <th>4</th>\n",
       "      <td>BIOMD0000000608.xml</td>\n",
       "      <td>52</td>\n",
       "      <td>3.826923</td>\n",
       "      <td>0</td>\n",
       "      <td>0</td>\n",
       "      <td>140</td>\n",
       "      <td>2.200000</td>\n",
       "      <td>0</td>\n",
       "      <td>0</td>\n",
       "    </tr>\n",
       "  </tbody>\n",
       "</table>\n",
       "</div>"
      ],
      "text/plain": [
       "                 model  num_species  name_lengths  num_annotated_species  \\\n",
       "0  BIOMD0000000634.xml           69      0.000000                      5   \n",
       "1  BIOMD0000000152.xml           64      7.906250                      5   \n",
       "2  BIOMD0000000146.xml           36      0.000000                      2   \n",
       "3  BIOMD0000000620.xml           35      0.000000                      1   \n",
       "4  BIOMD0000000608.xml           52      3.826923                      0   \n",
       "\n",
       "   num_unique_chebis  num_reactions  num_components  num_annotated_reactions  \\\n",
       "0                  5            112        2.857143                        0   \n",
       "1                  3            120        2.958333                       34   \n",
       "2                  2             34        2.235294                        0   \n",
       "3                  1             20        1.000000                        0   \n",
       "4                  0            140        2.200000                        0   \n",
       "\n",
       "   num_unique_rheas  \n",
       "0                 0  \n",
       "1                 4  \n",
       "2                 0  \n",
       "3                 0  \n",
       "4                 0  "
      ]
     },
     "execution_count": 63,
     "metadata": {},
     "output_type": "execute_result"
    }
   ],
   "source": [
    "biomd_summary.head()"
   ]
  },
  {
   "cell_type": "code",
   "execution_count": 118,
   "id": "e96e72ec-ef21-43de-9ce2-3a5effc6028a",
   "metadata": {},
   "outputs": [
    {
     "name": "stdout",
     "output_type": "stream",
     "text": [
      "23.3\n",
      "5.5\n",
      "30.1\n",
      "2.2\n",
      "19.8\n",
      "6.2\n"
     ]
    }
   ],
   "source": [
    "print(np.round(np.mean(biomd_summary['num_species']), 1))\n",
    "print(np.round(np.mean(biomd_summary['num_annotated_species']), 1))\n",
    "\n",
    "print(np.round(np.mean(biomd_summary['num_reactions']), 1))\n",
    "print(np.round(np.mean(biomd_summary['num_annotated_reactions']), 1))\n",
    "\n",
    "print(np.round(np.mean(biomd_summary['num_annotated_species']/biomd_summary['num_species'])*100,1))\n",
    "print(np.round(np.mean(biomd_summary['num_annotated_reactions']/biomd_summary['num_reactions'])*100,1))"
   ]
  },
  {
   "cell_type": "code",
   "execution_count": 64,
   "id": "51fbd016-3091-43fe-914d-6345b489ab06",
   "metadata": {},
   "outputs": [
    {
     "name": "stdout",
     "output_type": "stream",
     "text": [
      "We're at 0\n",
      "We're at 10\n",
      "We're at 20\n",
      "We're at 30\n",
      "We're at 40\n",
      "We're at 50\n",
      "We're at 60\n",
      "We're at 70\n",
      "We're at 80\n",
      "We're at 90\n",
      "We're at 100\n"
     ]
    }
   ],
   "source": [
    "# summary of biggs\n",
    "biggs = [val for val in os.listdir(BIGG_DIR) if val[-3:]=='xml']\n",
    "\n",
    "total_chebis = []\n",
    "total_rheas = []\n",
    "total_specs = []\n",
    "total_reacs = []\n",
    "\n",
    "models = []\n",
    "num_species = []\n",
    "name_lengths = []\n",
    "num_annotated_species = []\n",
    "num_unique_chebis = []\n",
    "num_reactions = []\n",
    "num_components = []\n",
    "num_annotated_reactions = []\n",
    "num_unique_rheas = []\n",
    "\n",
    "\n",
    "for idx, one_bigg in enumerate(biggs):\n",
    "  if idx % 10 == 0:\n",
    "    print(\"We're at\", idx)\n",
    "  one_fpath = os.path.join(BIGG_DIR, one_bigg)\n",
    "  recom = recommender.Recommender(libsbml_fpath=one_fpath)\n",
    "  models.append(one_bigg)\n",
    "  num_species.append(len(recom.species.names))\n",
    "  name_lengths.append(np.mean([len(recom.species.names[k]) \\\n",
    "                               for k in recom.species.names.keys()]))\n",
    "  num_annotated_species.append(len(recom.species.exist_annotation))\n",
    "  unique_chebis = list(set(itertools.chain(*[recom.species.exist_annotation[k] \\\n",
    "                  for k in recom.species.exist_annotation.keys()])))\n",
    "  num_reactions.append(len(recom.reactions.reaction_components))\n",
    "  num_components.append(np.mean([len(recom.reactions.reaction_components[k]) \\\n",
    "                           for k in recom.reactions.reaction_components.keys()]))\n",
    "  num_annotated_reactions.append(len(recom.reactions.exist_annotation))\n",
    "  unique_rheas = list(set(itertools.chain(*[recom.reactions.exist_annotation[k] \\\n",
    "                 for k in recom.reactions.exist_annotation.keys()])))\n",
    "  num_unique_chebis.append(len(unique_chebis))\n",
    "  num_unique_rheas.append(len(unique_rheas))\n",
    "  total_specs.append(list(recom.species.names.keys()))\n",
    "  total_reacs.append(list(recom.reactions.reaction_components.keys()))\n",
    "  total_chebis.append(unique_chebis)\n",
    "  total_rheas.append(unique_rheas)\n",
    "\n",
    "bigg_summary = pd.DataFrame({'model': models,\n",
    "                              'num_species': num_species,\n",
    "                              'name_lengths': name_lengths,\n",
    "                              'num_annotated_species': num_annotated_species,\n",
    "                              'num_unique_chebis': num_unique_chebis,\n",
    "                              'num_reactions': num_reactions, \n",
    "                              'num_components': num_components,\n",
    "                              'num_annotated_reactions': num_annotated_reactions,\n",
    "                              'num_unique_rheas': num_unique_rheas})\n",
    "specs = list(set(itertools.chain(*total_specs)))\n",
    "reacs = list(set(itertools.chain(*total_reacs)))\n",
    "chebis = list(set(itertools.chain(*total_chebis)))\n",
    "rheas = list(set(itertools.chain(*total_rheas)))\n",
    "bigg_total = {'specs': specs, 'reacs': reacs,\n",
    "              'chebis':chebis, 'rheas': rheas}"
   ]
  },
  {
   "cell_type": "code",
   "execution_count": 120,
   "id": "1cb616e9-49f2-4642-86a9-7db8159c5e83",
   "metadata": {},
   "outputs": [
    {
     "name": "stdout",
     "output_type": "stream",
     "text": [
      "1674.1\n",
      "1245.5\n",
      "2328.0\n",
      "1119.9\n",
      "76.9\n",
      "51.4\n"
     ]
    }
   ],
   "source": [
    "print(np.round(np.mean(bigg_summary['num_species']), 1))\n",
    "print(np.round(np.mean(bigg_summary['num_annotated_species']), 1))\n",
    "\n",
    "print(np.round(np.mean(bigg_summary['num_reactions']), 1))\n",
    "print(np.round(np.mean(bigg_summary['num_annotated_reactions']), 1))\n",
    "\n",
    "print(np.round(np.mean(bigg_summary['num_annotated_species']/bigg_summary['num_species'])*100,1))\n",
    "print(np.round(np.mean(bigg_summary['num_annotated_reactions']/bigg_summary['num_reactions'])*100,1))"
   ]
  },
  {
   "cell_type": "code",
   "execution_count": 114,
   "id": "bad4b62f-4d82-448d-8a24-e7d936a586d5",
   "metadata": {},
   "outputs": [
    {
     "data": {
      "image/png": "[encoded data removed]",
      "text/plain": [
       "<Figure size 640x480 with 1 Axes>"
      ]
     },
     "metadata": {},
     "output_type": "display_data"
    }
   ],
   "source": [
    "x=list(biomd_summary['num_species'])*7\n",
    "y=list(bigg_summary['num_species'])*67\n",
    "z=list(agora_summary['num_species'])\n",
    "\n",
    "bins_max = np.max(list(x)+list(y)+list(z))\n",
    "\n",
    "bins = np.linspace(-10, bins_max, 50)\n",
    "\n",
    "plt.hist(x, bins, alpha=0.5, label='BioModels')\n",
    "plt.hist(y, bins, alpha=0.5, label='BiGG')\n",
    "plt.hist(z, bins, alpha=0.5, label='AGORA 2')\n",
    "plt.legend(loc='upper right')\n",
    "plt.savefig(os.path.join(PRES_DIR, 'compare_num_species.png'))\n",
    "plt.show()"
   ]
  },
  {
   "cell_type": "code",
   "execution_count": 112,
   "id": "a8a90f54-4622-41c1-93d4-32d46adddf61",
   "metadata": {},
   "outputs": [
    {
     "data": {
      "text/plain": [
       "<matplotlib.legend.Legend at 0x2f57ab4d0>"
      ]
     },
     "execution_count": 112,
     "metadata": {},
     "output_type": "execute_result"
    },
    {
     "data": {
      "image/png": "[encoded data removed]",
      "text/plain": [
       "<Figure size 640x480 with 1 Axes>"
      ]
     },
     "metadata": {},
     "output_type": "display_data"
    }
   ],
   "source": [
    "x=list(biomd_summary['num_species'])*7\n",
    "bins = np.linspace(-10, np.max(x), 50)\n",
    "plt.hist(x, bins, alpha=0.5, color='b', label='BioModels (1,000)')\n",
    "plt.legend()"
   ]
  },
  {
   "cell_type": "code",
   "execution_count": 99,
   "id": "a09656b6-a28a-4cb4-ac2e-889011e22b3d",
   "metadata": {},
   "outputs": [
    {
     "data": {
      "text/plain": [
       "5000"
      ]
     },
     "execution_count": 99,
     "metadata": {},
     "output_type": "execute_result"
    }
   ],
   "source": [
    "len(x)"
   ]
  },
  {
   "cell_type": "code",
   "execution_count": 111,
   "id": "6f4df613-542e-4487-9c36-83891c265ac2",
   "metadata": {},
   "outputs": [
    {
     "data": {
      "text/plain": [
       "<matplotlib.legend.Legend at 0x2d36ad2d0>"
      ]
     },
     "execution_count": 111,
     "metadata": {},
     "output_type": "execute_result"
    },
    {
     "data": {
      "image/png": "[encoded data removed]",
      "text/plain": [
       "<Figure size 640x480 with 1 Axes>"
      ]
     },
     "metadata": {},
     "output_type": "display_data"
    }
   ],
   "source": [
    "y=list(bigg_summary['num_species'])*67\n",
    "bins = np.linspace(-10, np.max(y), 50)\n",
    "plt.hist(y, bins, alpha=0.5, color='r', label='BiGG (108)')\n",
    "plt.legend()"
   ]
  },
  {
   "cell_type": "code",
   "execution_count": 110,
   "id": "4fde40db-eefd-42a5-bbd3-e0c702da1aaf",
   "metadata": {},
   "outputs": [
    {
     "data": {
      "text/plain": [
       "<matplotlib.legend.Legend at 0x3266d2f90>"
      ]
     },
     "execution_count": 110,
     "metadata": {},
     "output_type": "execute_result"
    },
    {
     "data": {
      "image/png": "[encoded data removed]",
      "text/plain": [
       "<Figure size 640x480 with 1 Axes>"
      ]
     },
     "metadata": {},
     "output_type": "display_data"
    }
   ],
   "source": [
    "z=list(agora_summary['num_species'])\n",
    "bins = np.linspace(-10, np.max(z), 50)\n",
    "plt.hist(z, bins, alpha=0.5, color='g', label='AGORA2 (5,556)')\n",
    "plt.legend()"
   ]
  },
  {
   "cell_type": "code",
   "execution_count": 116,
   "id": "1dccc9cc-867f-4320-9dd0-4688a9836b8c",
   "metadata": {},
   "outputs": [
    {
     "data": {
      "image/png": "[encoded data removed]",
      "text/plain": [
       "<Figure size 640x480 with 1 Axes>"
      ]
     },
     "metadata": {},
     "output_type": "display_data"
    }
   ],
   "source": [
    "x=list(agora_summary['num_species'])\n",
    "y=list(agora_summary['num_annotated_species'])\n",
    "\n",
    "bins_max = np.max(list(x)+list(y))\n",
    "\n",
    "bins = np.linspace(-10, bins_max, 50)\n",
    "\n",
    "plt.hist(x, bins, alpha=0.5, color='g', label='AGORA2 (species)')\n",
    "plt.hist(y, bins, alpha=0.5, label='AGORA2 (annotated species)')\n",
    "plt.legend(loc='upper right')\n",
    "plt.title('AGORA2 species vs. annotated species')\n",
    "# plt.savefig(os.path.join(PRES_DIR, 'compare_num_species.png'))\n",
    "plt.show()"
   ]
  },
  {
   "cell_type": "code",
   "execution_count": 123,
   "id": "68cb01c0-9e4f-4f61-b395-d86f894fa839",
   "metadata": {},
   "outputs": [
    {
     "name": "stdout",
     "output_type": "stream",
     "text": [
      "507\n",
      "2633\n",
      "1284.0\n"
     ]
    },
    {
     "data": {
      "text/plain": [
       "<matplotlib.legend.Legend at 0x2f66ae850>"
      ]
     },
     "execution_count": 123,
     "metadata": {},
     "output_type": "execute_result"
    },
    {
     "data": {
      "image/png": "[encoded data removed]",
      "text/plain": [
       "<Figure size 640x480 with 1 Axes>"
      ]
     },
     "metadata": {},
     "output_type": "display_data"
    }
   ],
   "source": [
    "z=list(agora_summary['num_reactions'])\n",
    "print(np.min(z))\n",
    "print(np.max(z))\n",
    "print(np.median(z))\n",
    "bins = np.linspace(-10, np.max(z), 50)\n",
    "plt.hist(z, bins, alpha=0.5, color='g', label='AGORA2 (5,556)')\n",
    "plt.legend()"
   ]
  },
  {
   "cell_type": "code",
   "execution_count": 127,
   "id": "5cd2c667-b0ce-4cda-8923-d566c41548f5",
   "metadata": {},
   "outputs": [
    {
     "data": {
      "image/png": "[encoded data removed]",
      "text/plain": [
       "<Figure size 640x480 with 1 Axes>"
      ]
     },
     "metadata": {},
     "output_type": "display_data"
    }
   ],
   "source": [
    "x=list(biomd_summary['num_reactions'])*7\n",
    "y=list(bigg_summary['num_reactions'])*67\n",
    "z=list(agora_summary['num_reactions'])\n",
    "\n",
    "bins_max = np.max(list(x)+list(y)+list(z))\n",
    "\n",
    "bins = np.linspace(-10, bins_max, 50)\n",
    "\n",
    "plt.hist(x, bins, alpha=0.5, label='BioModels')\n",
    "plt.hist(y, bins, alpha=0.5, label='BiGG')\n",
    "plt.hist(z, bins, alpha=0.5, label='AGORA 2')\n",
    "plt.legend(loc='upper right')\n",
    "plt.savefig(os.path.join(PRES_DIR, 'compare_num_reactions.png'))\n",
    "plt.show()"
   ]
  },
  {
   "cell_type": "code",
   "execution_count": 148,
   "id": "6ef53d5b-83ac-4fba-a2cb-de5f9166a53d",
   "metadata": {},
   "outputs": [
    {
     "name": "stdout",
     "output_type": "stream",
     "text": [
      "Model Bifidobacterium_breve_MCC_1604.xml\n",
      "\n",
      "\n",
      "M_14m3hpalmACP__91__c__93__: 14-methyl-3-hydroxy-hexa-decanoyl-ACP\n",
      "M_14m3hpentdecACP__91__c__93__: 14-methyl-3-hydroxy-pentadecanoyl-ACP\n",
      "M_14m3opalmACP__91__c__93__: 14-methyl-3-oxo-hexa-decanoyl-ACP\n",
      "M_14m3opentdecACP__91__c__93__: 14-methyl-3-oxo-pentadecanoyl-ACP\n",
      "M_15m3hpalmACP__91__c__93__: 15-methyl-3-hydroxy-hexa-decanoyl-ACP\n",
      "M_15m3opalmACP__91__c__93__: 15-methyl-3-oxo-hexa-decanoyl-ACP\n",
      "M_1agpe120__91__c__93__: 1-Acyl-sn-glycero-3-phosphoethanolamine (n-C12:0)\n",
      "M_1agpe140__91__c__93__: 1-Acyl-sn-glycero-3-phosphoethanolamine (n-C14:0)\n",
      "M_1agpe141__91__c__93__: 1-Acyl-sn-glycero-3-phosphoethanolamine (n-C14:1)\n",
      "M_1agpe160__91__c__93__: 1-Acyl-sn-glycero-3-phosphoethanolamine (n-C16:0)\n",
      "...\n",
      "\n"
     ]
    }
   ],
   "source": [
    "one_a = agoras[1000]\n",
    "one_fpath = os.path.join(SAVE_FPATH, one_a)\n",
    "recom = recommender.Recommender(libsbml_fpath=one_fpath)\n",
    "model = recom.sbml_document.getModel()\n",
    "print(\"Model %s\\n\\n\" % one_a)\n",
    "for one_s in model.getListOfSpecies()[20:30]:\n",
    "  print(\"%s: %s\" % (one_s.getId(), one_s.name))\n",
    "print(\"...\\n\")"
   ]
  },
  {
   "cell_type": "code",
   "execution_count": 150,
   "id": "e1b1985e-3946-4ce7-a509-abae66217a6b",
   "metadata": {},
   "outputs": [
    {
     "name": "stdout",
     "output_type": "stream",
     "text": [
      "Model iCHOv1.xml\n",
      "\n",
      "\n",
      "M_10fthf7glu_l: 10-formyltetrahydrofolate-[Glu](7)\n",
      "M_10fthf7glu_m: 10-formyltetrahydrofolate-[Glu](7)\n",
      "M_3mob_c: 3-Methyl-2-oxobutanoate\n",
      "M_3mob_e: 3-Methyl-2-oxobutanoate\n",
      "M_10fthf_c: 10-Formyltetrahydrofolate\n",
      "M_3mob_m: 3-Methyl-2-oxobutanoate\n",
      "M_2kmb_c: 2-keto-4-methylthiobutyrate\n",
      "M_3mop_c: (S)-3-Methyl-2-oxopentanoate\n",
      "M_3mop_e: (S)-3-Methyl-2-oxopentanoate\n",
      "M_10fthf_e: 10-Formyltetrahydrofolate\n",
      "...\n",
      "\n"
     ]
    }
   ],
   "source": [
    "one_a = biggs[0]\n",
    "one_fpath = os.path.join(BIGG_DIR, one_a)\n",
    "recom = recommender.Recommender(libsbml_fpath=one_fpath)\n",
    "model = recom.sbml_document.getModel()\n",
    "print(\"Model %s\\n\\n\" % one_a)\n",
    "for one_s in model.getListOfSpecies()[10:20]:\n",
    "  print(\"%s: %s\" % (one_s.getId(), one_s.name))\n",
    "print(\"...\\n\")"
   ]
  },
  {
   "cell_type": "code",
   "execution_count": 156,
   "id": "0e3c6987-f108-4978-84e3-dd30c0795973",
   "metadata": {},
   "outputs": [],
   "source": [
    "def printElement(one_r):\n",
    "  stoi = one_r.stoichiometry\n",
    "  name = one_r.species\n",
    "  if stoi == 1:\n",
    "    return name\n",
    "  else:\n",
    "    return \"%s * %s\" % (str(stoi), name)\n",
    "\n",
    "def printReaction(one_r):\n",
    "  \"\"\"\n",
    "  print reactions.. :) \n",
    "  \"\"\"\n",
    "  reactants = [printElement(val) for val in one_r.getListOfReactants()]\n",
    "  products = [printElement(val) for val in one_r.getListOfProducts()]\n",
    "  result = \"%s: %s => %s\" % (one_r.getId(), \" + \".join(reactants), \" + \".join(products))\n",
    "  return result\n",
    "  "
   ]
  },
  {
   "cell_type": "code",
   "execution_count": 157,
   "id": "645ac2e4-5e99-42c6-9efa-6d5be5935c8d",
   "metadata": {},
   "outputs": [
    {
     "data": {
      "text/plain": [
       "'R_24_25VITD2Hm: M_25hvitd2_m + M_h_m + M_nadph_m + M_o2_m => M_2425dhvitd2_m + M_h2o_m + M_nadp_m'"
      ]
     },
     "execution_count": 157,
     "metadata": {},
     "output_type": "execute_result"
    }
   ],
   "source": [
    "one_r = model.getListOfReactions()[0]\n",
    "printReaction(one_r)"
   ]
  },
  {
   "cell_type": "code",
   "execution_count": 177,
   "id": "e774d996-d7fd-4934-aa5b-4b32ea054514",
   "metadata": {},
   "outputs": [
    {
     "name": "stdout",
     "output_type": "stream",
     "text": [
      "Model Abiotrophia_defectiva_ATCC_49176.xml\n",
      "\n",
      "\n",
      "R_THRS: M_h2o__91__c__93__ + M_phom__91__c__93__ => M_pi__91__c__93__ + M_thr_L__91__c__93__\n",
      "R_GRTT: M_grdp__91__c__93__ + M_ipdp__91__c__93__ => M_frdp__91__c__93__ + M_ppi__91__c__93__\n",
      "R_PSD161: M_h__91__c__93__ + M_ps161__91__c__93__ => M_co2__91__c__93__ + M_pe161__91__c__93__\n",
      "R_EX_succ__40__e__41__: M_succ__91__e__93__ => \n",
      "R_TREH: M_h2o__91__c__93__ + M_tre__91__c__93__ => 2.0 * M_glc_D__91__c__93__\n",
      "...\n",
      "\n"
     ]
    }
   ],
   "source": [
    "import random\n",
    "\n",
    "one_a = agoras[0]\n",
    "one_fpath = os.path.join(SAVE_FPATH, one_a)\n",
    "recom = recommender.Recommender(libsbml_fpath=one_fpath)\n",
    "model = recom.sbml_document.getModel()\n",
    "print(\"Model %s\\n\\n\" % one_a)\n",
    "sel_idx = random.sample(range(model.getNumReactions()), 5)\n",
    "rids = ['R_THRS', 'R_GRTT', 'R_PSD161', 'R_EX_succ__40__e__41__', 'R_TREH']\n",
    "for idx in rids:\n",
    "  one_r = model.getReaction(idx)\n",
    "  print(printReaction(one_r))\n",
    "print(\"...\\n\")"
   ]
  },
  {
   "cell_type": "code",
   "execution_count": 185,
   "id": "8db8703d-fd6b-4d95-8269-a11db2bd08dd",
   "metadata": {},
   "outputs": [
    {
     "name": "stdout",
     "output_type": "stream",
     "text": [
      "Model Abiotrophia_defectiva_ATCC_49176.xml\n",
      "\n",
      "\n",
      "<annotation xmlns:sbml=\"http://www.sbml.org/sbml/level3/version1/core\">\n",
      "  <rdf:RDF xmlns:rdf=\"http://www.w3.org/1999/02/22-rdf-syntax-ns#\" xmlns:dcterms=\"http://purl.org/dc/terms/\" xmlns:vCard=\"http://www.w3.org/2001/vcard-rdf/3.0#\" xmlns:vCard4=\"http://www.w3.org/2006/vcard/ns#\" xmlns:bqbiol=\"http://biomodels.net/biology-qualifiers/\" xmlns:bqmodel=\"http://biomodels.net/model-qualifiers/\">\n",
      "    <rdf:Description rdf:about=\"#M_2mop__91__c__93__\">\n",
      "      <bqbiol:is>\n",
      "        <rdf:Bag>\n",
      "          <rdf:li rdf:resource=\"http://identifiers.org/bigg.metabolite/2mop\"/>\n",
      "          <rdf:li rdf:resource=\"http://identifiers.org/biocyc/CH3-MALONATE-S-ALD\"/>\n",
      "          <rdf:li rdf:resource=\"http://identifiers.org/chebi/CHEBI:1\"/>\n",
      "          <rdf:li rdf:resource=\"http://identifiers.org/hmdb/HMDB0001172\"/>\n",
      "          <rdf:li rdf:resource=\"http://identifiers.org/inchi/InChI=1S/C4H6O3/c1-3(2-5)4(6)7/h2-3H\"/>\n",
      "          <rdf:li rdf:resource=\"http://identifiers.org/kegg.compound/C00349\"/>\n",
      "          <rdf:li rdf:resource=\"http://identifiers.org/metanetx.chemical/MNXM305\"/>\n",
      "          <rdf:li rdf:resource=\"http://identifiers.org/pubchem.compound/296\"/>\n",
      "          <rdf:li rdf:resource=\"http://identifiers.org/seed.compound/cpd00287\"/>\n",
      "        </rdf:Bag>\n",
      "      </bqbiol:is>\n",
      "      <bqbiol:hasProperty>\n",
      "        <rdf:Bag>\n",
      "          <rdf:li rdf:resource=\"http://identifiers.org/sbo/SBO:0000247\"/>\n",
      "        </rdf:Bag>\n",
      "      </bqbiol:hasProperty>\n",
      "    </rdf:Description>\n",
      "  </rdf:RDF>\n",
      "</annotation>\n"
     ]
    }
   ],
   "source": [
    "one_a = agoras[0]\n",
    "one_fpath = os.path.join(SAVE_FPATH, one_a)\n",
    "recom = recommender.Recommender(libsbml_fpath=one_fpath)\n",
    "model = recom.sbml_document.getModel()\n",
    "print(\"Model %s\\n\\n\" % one_a)\n",
    "\n",
    "one_s = model.getSpecies(110)\n",
    "print(one_s.getAnnotationString())"
   ]
  },
  {
   "cell_type": "code",
   "execution_count": 182,
   "id": "98b61242-0593-4212-b815-24a98cc4a41a",
   "metadata": {},
   "outputs": [
    {
     "name": "stdout",
     "output_type": "stream",
     "text": [
      "Model iEcHS_1320.xml\n",
      "\n",
      "\n",
      "R_Kabcpp: M_atp_c + M_h2o_c + M_k_p => M_adp_c + M_h_c + M_k_c + M_pi_c\n",
      "R_ACOTA: M_acorn_c + M_akg_c => M_acg5sa_c + M_glu__L_c\n",
      "R_3OAS60: M_butACP_c + M_h_c + M_malACP_c => M_3ohexACP_c + M_ACP_c + M_co2_c\n",
      "R_PG140abcpp: M_atp_c + M_h2o_c + M_pg140_c => M_adp_c + M_h_c + M_pg140_p + M_pi_c\n",
      "R_HYPOE: M_h2o_c + M_pyam5p_c => M_pi_c + M_pydam_c\n",
      "...\n",
      "\n"
     ]
    }
   ],
   "source": [
    "one_a = biggs[10]\n",
    "one_fpath = os.path.join(BIGG_DIR, one_a)\n",
    "recom = recommender.Recommender(libsbml_fpath=one_fpath)\n",
    "model = recom.sbml_document.getModel()\n",
    "print(\"Model %s\\n\\n\" % one_a)\n",
    "sel_idx = random.sample(range(model.getNumReactions()), 5)\n",
    "# rids = ['R_THRS', 'R_GRTT', 'R_PSD161', 'R_EX_succ__40__e__41__', 'R_TREH']\n",
    "for idx in sel_idx:\n",
    "  one_r = model.getReaction(idx)\n",
    "  print(printReaction(one_r))\n",
    "print(\"...\\n\")"
   ]
  },
  {
   "cell_type": "code",
   "execution_count": 193,
   "id": "019161c2-e74f-4e5b-ad36-c37bba0f2825",
   "metadata": {},
   "outputs": [
    {
     "name": "stdout",
     "output_type": "stream",
     "text": [
      "2376\n",
      "1241\n"
     ]
    }
   ],
   "source": [
    "print(len(agora_total['chebis']))\n",
    "print(len(agora_total['rheas']))"
   ]
  },
  {
   "cell_type": "code",
   "execution_count": 195,
   "id": "392fa100-6568-4c90-9b5b-48687b984a9f",
   "metadata": {},
   "outputs": [
    {
     "name": "stdout",
     "output_type": "stream",
     "text": [
      "9816\n",
      "2592\n"
     ]
    }
   ],
   "source": [
    "print(len(bigg_total['chebis']))\n",
    "print(len(bigg_total['rheas']))"
   ]
  },
  {
   "cell_type": "code",
   "execution_count": 196,
   "id": "202b4950-587d-4a65-a969-b0144e6e4da8",
   "metadata": {},
   "outputs": [
    {
     "name": "stdout",
     "output_type": "stream",
     "text": [
      "1036\n",
      "587\n"
     ]
    }
   ],
   "source": [
    "print(len(biomd_total['chebis']))\n",
    "print(len(biomd_total['rheas']))"
   ]
  },
  {
   "cell_type": "code",
   "execution_count": 198,
   "id": "a3a1c31f-61cd-49ea-8e4d-d079dd649231",
   "metadata": {},
   "outputs": [
    {
     "data": {
      "text/html": [
       "<div>\n",
       "<style scoped>\n",
       "    .dataframe tbody tr th:only-of-type {\n",
       "        vertical-align: middle;\n",
       "    }\n",
       "\n",
       "    .dataframe tbody tr th {\n",
       "        vertical-align: top;\n",
       "    }\n",
       "\n",
       "    .dataframe thead th {\n",
       "        text-align: right;\n",
       "    }\n",
       "</style>\n",
       "<table border=\"1\" class=\"dataframe\">\n",
       "  <thead>\n",
       "    <tr style=\"text-align: right;\">\n",
       "      <th></th>\n",
       "      <th>database</th>\n",
       "      <th>AGORA2</th>\n",
       "      <th>BiGG</th>\n",
       "      <th>BioModels</th>\n",
       "    </tr>\n",
       "  </thead>\n",
       "  <tbody>\n",
       "    <tr>\n",
       "      <th>0</th>\n",
       "      <td>ChEBI (species)</td>\n",
       "      <td>2376</td>\n",
       "      <td>9816</td>\n",
       "      <td>1036</td>\n",
       "    </tr>\n",
       "    <tr>\n",
       "      <th>1</th>\n",
       "      <td>Rhea (reactions)</td>\n",
       "      <td>1241</td>\n",
       "      <td>2592</td>\n",
       "      <td>587</td>\n",
       "    </tr>\n",
       "  </tbody>\n",
       "</table>\n",
       "</div>"
      ],
      "text/plain": [
       "           database  AGORA2  BiGG  BioModels\n",
       "0   ChEBI (species)    2376  9816       1036\n",
       "1  Rhea (reactions)    1241  2592        587"
      ]
     },
     "execution_count": 198,
     "metadata": {},
     "output_type": "execute_result"
    }
   ],
   "source": [
    "bars_dict = {'database': ['ChEBI (species)', 'Rhea (reactions)'],\n",
    "             'AGORA2': [len(agora_total['chebis']), len(agora_total['rheas'])],\n",
    "             'BiGG': [len(bigg_total['chebis']), len(bigg_total['rheas'])],\n",
    "             'BioModels': [len(biomd_total['chebis']), len(biomd_total['rheas'])]}\n",
    "bars_df = pd.DataFrame(bars_dict)\n",
    "bars_df"
   ]
  },
  {
   "cell_type": "code",
   "execution_count": 203,
   "id": "11a4c8e3-70f9-4ea3-9867-346d6bb5ec0d",
   "metadata": {},
   "outputs": [
    {
     "data": {
      "text/plain": [
       "<matplotlib.legend.Legend at 0x2f46e6850>"
      ]
     },
     "execution_count": 203,
     "metadata": {},
     "output_type": "execute_result"
    },
    {
     "data": {
      "image/png": "[encoded data removed]",
      "text/plain": [
       "<Figure size 640x480 with 1 Axes>"
      ]
     },
     "metadata": {},
     "output_type": "display_data"
    }
   ],
   "source": [
    "width = 0.17       \n",
    "ind = ind = np.arange(2)\n",
    "# Plotting\n",
    "plt.bar(ind, bars_df['AGORA2'], width, label='AGORA2')\n",
    "plt.bar(ind + width + 0.01, bars_df['BiGG'], width, label='BiGG')\n",
    "plt.bar(ind + width*2 + 0.02, bars_df['BioModels'], width, label='BioModels')\n",
    "plt.xticks(ind + width + 0.01, bars_df['database'])\n",
    "plt.legend()\n",
    "# plt.ylim([0,1.23])\n",
    "# plt.yticks(np.arange(0.0, 1.2, step=0.2))"
   ]
  },
  {
   "cell_type": "code",
   "execution_count": 209,
   "id": "86b1fd85-c2d2-4e0c-9179-38ec026b5f00",
   "metadata": {},
   "outputs": [
    {
     "name": "stdout",
     "output_type": "stream",
     "text": [
      "<annotation xmlns:sbml=\"http://www.sbml.org/sbml/level3/version1/core\">\n",
      "  <rdf:RDF xmlns:rdf=\"http://www.w3.org/1999/02/22-rdf-syntax-ns#\" xmlns:dcterms=\"http://purl.org/dc/terms/\" xmlns:vCard=\"http://www.w3.org/2001/vcard-rdf/3.0#\" xmlns:vCard4=\"http://www.w3.org/2006/vcard/ns#\" xmlns:bqbiol=\"http://biomodels.net/biology-qualifiers/\" xmlns:bqmodel=\"http://biomodels.net/model-qualifiers/\">\n",
      "    <rdf:Description rdf:about=\"#R_UAMAS\">\n",
      "      <bqbiol:is>\n",
      "        <rdf:Bag>\n",
      "          <rdf:li rdf:resource=\"http://identifiers.org/ec-code/6.3.2.8\"/>\n",
      "          <rdf:li rdf:resource=\"http://identifiers.org/metanetx.reaction/MNXR55986\"/>\n",
      "          <rdf:li rdf:resource=\"http://identifiers.org/seed.reactions/rxn02286\"/>\n",
      "        </rdf:Bag>\n",
      "      </bqbiol:is>\n",
      "      <bqbiol:hasProperty>\n",
      "        <rdf:Bag>\n",
      "          <rdf:li rdf:resource=\"http://identifiers.org/sbo/SBO:0000176\"/>\n",
      "        </rdf:Bag>\n",
      "      </bqbiol:hasProperty>\n",
      "    </rdf:Description>\n",
      "  </rdf:RDF>\n",
      "</annotation>\n"
     ]
    }
   ],
   "source": [
    "print(model.getReaction(1000).getAnnotationString())"
   ]
  },
  {
   "cell_type": "code",
   "execution_count": 212,
   "id": "6bed1333-e4bd-47c5-82ec-5a060838dff2",
   "metadata": {},
   "outputs": [],
   "source": [
    "agora_chebi_set = set(agora_total['chebis'])\n",
    "bigg_chebi_set = set(bigg_total['chebis'])\n",
    "biomd_chebi_set = set(biomd_total['chebis'])\n",
    "\n",
    "\n",
    "agora_rhea_set = set(agora_total['rheas'])\n",
    "bigg_rhea_set = set(bigg_total['rheas'])\n",
    "biomd_rhea_set = set(biomd_total['rheas'])"
   ]
  },
  {
   "cell_type": "code",
   "execution_count": 221,
   "id": "ab6c90f1-8b98-4a10-9b48-efc06f50c241",
   "metadata": {},
   "outputs": [
    {
     "data": {
      "image/png": "[encoded data removed]",
      "text/plain": [
       "<Figure size 600x800 with 1 Axes>"
      ]
     },
     "metadata": {},
     "output_type": "display_data"
    }
   ],
   "source": [
    "from matplotlib_venn import venn3, venn3_unweighted\n",
    "fig = plt.figure(figsize=(6, 8))\n",
    "venn3_unweighted([agora_chebi_set, bigg_chebi_set, biomd_chebi_set],\n",
    "                 set_labels=['AGORA2', 'BiGG', 'BioModels'])\n",
    "plt.show()"
   ]
  },
  {
   "cell_type": "code",
   "execution_count": 222,
   "id": "00a0a585-24bf-4bc4-bc04-080018476b44",
   "metadata": {},
   "outputs": [
    {
     "data": {
      "image/png": "[encoded data removed]",
      "text/plain": [
       "<Figure size 600x800 with 1 Axes>"
      ]
     },
     "metadata": {},
     "output_type": "display_data"
    }
   ],
   "source": [
    "fig = plt.figure(figsize=(6, 8))\n",
    "venn3_unweighted([agora_rhea_set, bigg_rhea_set, biomd_rhea_set],\n",
    "                 set_labels=['AGORA2', 'BiGG', 'BioModels'])\n",
    "plt.show()"
   ]
  },
  {
   "cell_type": "code",
   "execution_count": 211,
   "id": "323aea4b-f074-47c2-8b04-4046a3e65459",
   "metadata": {},
   "outputs": [
    {
     "data": {
      "text/plain": [
       "dict_keys(['specs', 'reacs', 'chebis', 'rheas'])"
      ]
     },
     "execution_count": 211,
     "metadata": {},
     "output_type": "execute_result"
    }
   ],
   "source": [
    "agora_total.keys()"
   ]
  },
  {
   "cell_type": "code",
   "execution_count": null,
   "id": "3259ac8b-7ecd-4583-bc65-cd5bdc1f25d4",
   "metadata": {},
   "outputs": [],
   "source": []
  }
 ],
 "metadata": {
  "kernelspec": {
   "display_name": "Python 3 (ipykernel)",
   "language": "python",
   "name": "python3"
  },
  "language_info": {
   "codemirror_mode": {
    "name": "ipython",
    "version": 3
   },
   "file_extension": ".py",
   "mimetype": "text/x-python",
   "name": "python",
   "nbconvert_exporter": "python",
   "pygments_lexer": "ipython3",
   "version": "3.11.2"
  }
 },
 "nbformat": 4,
 "nbformat_minor": 5
}
