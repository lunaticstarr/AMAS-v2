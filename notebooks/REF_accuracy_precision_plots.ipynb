{
 "cells": [
  {
   "cell_type": "code",
   "execution_count": 1,
   "id": "8fc0543e-c4e6-413a-8c13-7c1295bab1f0",
   "metadata": {},
   "outputs": [
    {
     "name": "stdout",
     "output_type": "stream",
     "text": [
      "Number of BiGG models to be analyzed: 108\n",
      "Number of BioModels to be analyzed for SPECIES: 306\n",
      "Number of BioModels to be analyzed for REACTIONS: 131\n"
     ]
    }
   ],
   "source": [
    "# new accuracy & precision plots; \n",
    "# collect all data so that no other loading of data would be needed. \n",
    "import collections\n",
    "\n",
    "import compress_pickle\n",
    "import copy\n",
    "import editdistance\n",
    "import itertools\n",
    "import libsbml\n",
    "import numpy as np\n",
    "import operator\n",
    "import os\n",
    "import pickle\n",
    "import pandas as pd\n",
    "import sys\n",
    "import time\n",
    "import matplotlib.pyplot as plt\n",
    "%matplotlib inline  \n",
    "\n",
    "BIOMD_12 = 'BIOMD0000000012.xml'\n",
    "BASE_DIR = '/Users/woosubshin/Desktop/AutomateAnnotation/'\n",
    "DATA_DIR = os.path.join(BASE_DIR, \"DATA\")\n",
    "ALGO_DIR = os.path.join(DATA_DIR, \"algo\")\n",
    "CHEBI_DIR = os.path.join(DATA_DIR, \"chebi\")\n",
    "FIGURE_DIR = '/Users/woosubshin/Desktop/AutomateAnnotation/AMAS_suppl/figure_files'\n",
    "RHEA_DIR = os.path.join(DATA_DIR, \"rhea\")\n",
    "BIOMODEL_DIR = os.path.join(DATA_DIR, \"biomodels/curated_biomodels_31mar2021\")\n",
    "BIGG_DIR = '/Users/woosubshin/Desktop/AutomateAnnotation/DATA/bigg'\n",
    "ecoli_fpath = os.path.join(BIGG_DIR, \"e_coli_core.xml\")\n",
    "\n",
    "PROJ_DIR = os.path.join(os.getcwd(), os.pardir)\n",
    "AMAS_DIR = os.path.join(PROJ_DIR, \"AMAS\")\n",
    "sys.path.append(PROJ_DIR)\n",
    "\n",
    "SUPPL_DIR = os.path.join(PROJ_DIR, os.pardir, \"AMAS_suppl\")\n",
    "ACCURACY_DIR = os.path.join(SUPPL_DIR, \"data_for_credibility\")\n",
    "\n",
    "# address changed - as of May 12, 2023. \n",
    "MANU_FIGURE_DIR = '/Users/woosubshin/Desktop/AutomateAnnotation/writeup/AMAS/Manu_figures_new'\n",
    "SUPPL_FIGURE_DIR = '/Users/woosubshin/Desktop/AutomateAnnotation/writeup/AMAS/Supple_figures_new'\n",
    "# TEMPFIG_DIR = os.path.join(FIGURE_DIR, 'temp')\n",
    "\n",
    "from AMAS import species_annotation as sa\n",
    "from AMAS import reaction_annotation as ra\n",
    "from AMAS import recommender\n",
    "from AMAS import constants as cn\n",
    "from AMAS import iterator as it\n",
    "from AMAS import tools\n",
    "\n",
    "biggs = [val for val in os.listdir(BIGG_DIR) if val[-4:]=='.xml']\n",
    "print(\"Number of BiGG models to be analyzed: %d\" % len(biggs))\n",
    "\n",
    "spec_ml_df = pd.read_csv(os.path.join(ACCURACY_DIR, 'biomd_individual_species_accuracy.csv'))\n",
    "biomds_spec = np.unique(spec_ml_df['model'])\n",
    "print(\"Number of BioModels to be analyzed for SPECIES: %d\" % len(biomds_spec))\n",
    "\n",
    "reac_ml_df = pd.read_csv(os.path.join(ACCURACY_DIR, 'biomd_individual_reactions_accuracy.csv'))\n",
    "biomds_reac = np.unique(reac_ml_df['model'])\n",
    "print(\"Number of BioModels to be analyzed for REACTIONS: %d\" % len(biomds_reac))"
   ]
  },
  {
   "cell_type": "markdown",
   "id": "951f7f04-ee2a-4d4e-9d8f-e2c617574c29",
   "metadata": {},
   "source": [
    "## 1. Data & Plots for BioModels Species"
   ]
  },
  {
   "cell_type": "code",
   "execution_count": 2,
   "id": "2622b93f-a2c9-4413-92c1-497afe82b937",
   "metadata": {},
   "outputs": [
    {
     "name": "stdout",
     "output_type": "stream",
     "text": [
      "We are at 0\n",
      "We are at 50\n",
      "We are at 100\n",
      "We are at 150\n",
      "We are at 200\n",
      "We are at 250\n",
      "We are at 300\n",
      "Total time for prediction: 3167.27\n",
      "Average time for prediction: 0.65\n"
     ]
    }
   ],
   "source": [
    "# First data; BioModels Species\n",
    "\n",
    "total_time = 0\n",
    "\n",
    "model_names = []\n",
    "len_names = []\n",
    "num_cands = []\n",
    "num_formulas = []\n",
    "match_scores = []\n",
    "is_correct_included = []\n",
    "inv_num_candidates = []\n",
    "total_recalls = []\n",
    "total_precisions = []\n",
    "#\n",
    "for idx, one_biomd in enumerate(biomds_spec):\n",
    "  if idx % 50 == 0:\n",
    "    print(\"We are at\", idx)\n",
    "  one_fpath = os.path.join(BIOMODEL_DIR, one_biomd)\n",
    "  recom = recommender.Recommender(libsbml_fpath=one_fpath)\n",
    "  # find species that can be evaluated\n",
    "  specs2evaluate = list(recom.species.exist_annotation_formula.keys())\n",
    "  # run algorithm if there is at least one species to evaluate\n",
    "  if specs2evaluate:\n",
    "    time1 = time.time()\n",
    "    recoms = recom.getSpeciesListRecommendation(pred_ids=specs2evaluate,\n",
    "                                                mssc='top',\n",
    "                                                cutoff=0.0)\n",
    "    time2 = time.time()\n",
    "    pred_time = time2 - time1 \n",
    "    total_time += pred_time\n",
    "    # statistics\n",
    "    refs = {val:recom.species.exist_annotation_formula[val] \\\n",
    "            for val in specs2evaluate}\n",
    "    preds_raw = {val.id: [k[0] for k in val.candidates] for val in recoms}\n",
    "\n",
    "    preds = {k: list(set([cn.REF_CHEBI2FORMULA[k] for k in preds_raw[k] if k in cn.REF_CHEBI2FORMULA.keys()])) \\\n",
    "             for k in preds_raw.keys()}\n",
    "    recalls = tools.getRecall(ref=refs, pred=preds, mean=False)\n",
    "    precisions = tools.getPrecision(ref=refs, pred=preds, mean=False)\n",
    "\n",
    "    # one_recom per each species\n",
    "    for one_recom in recoms:\n",
    "      model_names.append(one_biomd)\n",
    "      one_spec = one_recom.id\n",
    "      len_names.append(len(recom.species.getNameToUse(one_spec)))\n",
    "      num_cands.append(len(one_recom.candidates))\n",
    "      num_formulas.append(len(recom.species.formula[one_recom.id]))\n",
    "      match_scores.append(one_recom.candidates[0][1])\n",
    "      if recalls[one_spec] > 0:\n",
    "        is_correct_included.append(1)\n",
    "      else:\n",
    "        is_correct_included.append(0)\n",
    "      inv_num_candidates.append(1/len(one_recom.candidates))\n",
    "      total_recalls.append(recalls[one_spec])\n",
    "      total_precisions.append(precisions[one_spec])\n",
    "\n",
    "biomd_spec_df = pd.DataFrame({'model': model_names,\n",
    "                              'name_length': len_names,\n",
    "                              'num_candidates': num_cands,\n",
    "                              'num_formulas': num_formulas,\n",
    "                              'match_score': match_scores,\n",
    "                              'accuracy': is_correct_included,\n",
    "                              'exactness': inv_num_candidates,\n",
    "                              'recall': total_recalls,\n",
    "                              'precision': total_precisions})\n",
    "\n",
    "print(\"Total time for prediction: %.02f\" % total_time)\n",
    "print(\"Average time for prediction: %.02f\" % (total_time/biomd_spec_df.shape[0]))"
   ]
  },
  {
   "cell_type": "code",
   "execution_count": 16,
   "id": "4322609e-748c-4ca3-9c18-23c33e0cd8c2",
   "metadata": {},
   "outputs": [
    {
     "data": {
      "text/plain": [
       "(4902, 9)"
      ]
     },
     "execution_count": 16,
     "metadata": {},
     "output_type": "execute_result"
    }
   ],
   "source": [
    "biomd_spec_df.to_csv(os.path.join(ACCURACY_DIR, 'biomd_species_plot_data.csv'), index=False)\n",
    "\n",
    "# biomd_spec_df = pd.read_csv(os.path.join(ACCURACY_DIR, 'biomd_species_plot_data.csv'))\n",
    "biomd_spec_df.shape"
   ]
  },
  {
   "cell_type": "code",
   "execution_count": 2,
   "id": "48af3610-b8be-4723-8db6-c6c49017389e",
   "metadata": {},
   "outputs": [],
   "source": [
    "E_COLI_PATH = os.path.join(cn.TEST_DIR, 'e_coli_core.xml')\n",
    "INIT_SPEC_FORMULA = {'M_accoa_c': ['C23N7O17P3S'],\n",
    "                     'M_for_c': ['CO2'], \n",
    "                     'M_adp_c': ['C115N8O85', 'C21ClN3O2', 'C19N2O2S',\n",
    "                                 'C17Cl2F3N7O2S', 'C16NO6', 'C19O2',\n",
    "                                 'C26N7O2S', 'C19O9P', 'C28N6OS',\n",
    "                                 'C16F3IN2O4', 'C35N4O4', 'C18N4O11',\n",
    "                                 'C26FIN5O4', 'C20O4', 'C12',\n",
    "                                 'C10N5O10P2', 'C8NO6', 'C29N6O4S',\n",
    "                                 'C18ClN2O6S2', 'C27O5', 'C18O2',\n",
    "                                 'C9N4O5', 'C20N2O5S', 'C101N7O75',\n",
    "                                 'C14N2O'],\n",
    "                     'M_pyr_c': ['C3O3'],\n",
    "                     'M_coa_c': ['C21N7O16P3S'],\n",
    "                     'M_fdp_c': ['C6O12P2'],\n",
    "                     'M_f6p_c': ['C6O9P'],\n",
    "                     'M_atp_c': ['C20O4', 'C18ClN2O6S2'],\n",
    "                     'M_h_c': ['H']}\n",
    "\n",
    "REACTION_CANDIDATES = {'R_PFK': [('RHEA:12420', 0.8), ('RHEA:13377', 0.8),\n",
    "                                 ('RHEA:14213', 0.8), ('RHEA:15653', 0.8),\n",
    "                                 ('RHEA:16109', 0.8), ('RHEA:20105', 0.8)],\n",
    "                       'R_PFL': [('RHEA:11844', 1.0), ('RHEA:17425', 0.8),\n",
    "                                 ('RHEA:22988', 0.8), ('RHEA:22992', 0.8),\n",
    "                                 ('RHEA:28042', 0.8), ('RHEA:12765', 0.667),\n",
    "                                 ('RHEA:21912', 0.667), ('RHEA:44140', 0.667)]}\n",
    "\n",
    "R_PFK = 'R_PFK'\n",
    "R_PFL = 'R_PFL'\n",
    "REACTIONS = [R_PFK, R_PFL]\n",
    "\n",
    "\n",
    "ONE_RHEA = 'RHEA:12420'\n",
    "ONE_CHEBI = 'CHEBI:15378'\n",
    "MOLECULE_H = 'H'\n",
    "TWO_CHEBI = 'CHEBI:58695'\n",
    "MOLECULE_C6O9P = 'C6O9P'\n",
    "\n",
    "SPECIES_ATP = 'M_atp_c'\n",
    "CHEBI_ATP = 'CHEBI:30616'\n",
    "FORMULA_ATP = 'C10N5O13P3'\n",
    "\n",
    "ONE_RES_CHEBI = {'M_atp_c': ['CHEBI:30616']}\n",
    "ONE_SPEC2FORMULA = {'M_atp_c': ['C10N5O13P3']}"
   ]
  },
  {
   "cell_type": "code",
   "execution_count": 3,
   "id": "43ed4a17-b93e-43b2-9441-ae1d671f9676",
   "metadata": {},
   "outputs": [],
   "source": [
    "reac_cl = ra.ReactionAnnotation(libsbml_fpath = E_COLI_PATH)\n",
    "reac_cl.candidates = REACTION_CANDIDATES\n",
    "anot_iter = it.Iterator(cur_spec_formula=copy.deepcopy(INIT_SPEC_FORMULA),\n",
    "                        reaction_cl=reac_cl,\n",
    "                        reactions_to_update=REACTIONS)"
   ]
  },
  {
   "cell_type": "code",
   "execution_count": 4,
   "id": "56415ce6-3168-4ef2-9903-bc9502a683c7",
   "metadata": {},
   "outputs": [],
   "source": [
    "res = anot_iter.getUpdatedMatchScore(cur_spec_formulas=copy.deepcopy(INIT_SPEC_FORMULA),\n",
    "                                     inp_spec2formula_dict=ONE_SPEC2FORMULA)\n",
    "# self.assertEqual(res[it.NEW_SCORE], 1.0)\n",
    "# self.assertEqual(res[it.OLD_SCORE], 0.9)\n",
    "# self.assertTrue(res[it.INCREASED])"
   ]
  },
  {
   "cell_type": "code",
   "execution_count": 5,
   "id": "68361a1b-501d-498d-9891-0b940d6964e3",
   "metadata": {},
   "outputs": [
    {
     "data": {
      "text/plain": [
       "0.6785714285714286"
      ]
     },
     "execution_count": 5,
     "metadata": {},
     "output_type": "execute_result"
    }
   ],
   "source": [
    "res[it.NEW_SCORE]"
   ]
  },
  {
   "cell_type": "code",
   "execution_count": 6,
   "id": "eaed9ba3-4203-4de6-af5c-9d1714669078",
   "metadata": {},
   "outputs": [
    {
     "data": {
      "text/plain": [
       "0.6538461538461539"
      ]
     },
     "execution_count": 6,
     "metadata": {},
     "output_type": "execute_result"
    }
   ],
   "source": [
    "res[it.OLD_SCORE]"
   ]
  },
  {
   "cell_type": "code",
   "execution_count": 7,
   "id": "3bac7d24-71fd-48aa-9673-76b8b56820ee",
   "metadata": {},
   "outputs": [],
   "source": [
    "res_match = anot_iter.match()"
   ]
  },
  {
   "cell_type": "code",
   "execution_count": 8,
   "id": "d9ea7586-50c9-4556-a92a-85bb82d2f4ca",
   "metadata": {},
   "outputs": [
    {
     "data": {
      "text/plain": [
       "{'M_atp_c': ['CHEBI:30616'],\n",
       " 'M_f6p_c': ['CHEBI:58695'],\n",
       " 'M_adp_c': ['CHEBI:456216'],\n",
       " 'M_fdp_c': ['CHEBI:58694'],\n",
       " 'M_h_c': ['CHEBI:15378']}"
      ]
     },
     "execution_count": 8,
     "metadata": {},
     "output_type": "execute_result"
    }
   ],
   "source": [
    "res_match"
   ]
  },
  {
   "cell_type": "code",
   "execution_count": 4,
   "id": "797aede5-cbdc-4140-b99d-46434b0dbd79",
   "metadata": {},
   "outputs": [],
   "source": [
    "def draw_plot(df, degen_col, val_col, x_label, save_path):\n",
    "  \"\"\"\n",
    "  Draw a (scatter) plot and save it\n",
    "  \n",
    "  Parameters\n",
    "  ----------\n",
    "  df: pandas.DataFrame\n",
    "  \n",
    "  degen_col: str\n",
    "      Column name for degenerate case\n",
    "      \n",
    "  val_col: str\n",
    "      Column name for values to summarize\n",
    "      \n",
    "  x_lavel: str\n",
    "      Name of X axis\n",
    "  \n",
    "  save_path: str\n",
    "      File path to save it. \n",
    "  \"\"\"\n",
    "  cutoffs = np.arange(0.0, 1.05, step=0.001)\n",
    "  vals = dict()\n",
    "\n",
    "  for one_degen in range(0, 5):\n",
    "    ys = []\n",
    "    xs = []\n",
    "    val_tuples = []\n",
    "    cut_df = df[df[degen_col]>one_degen]\n",
    "    for one_c in cutoffs:\n",
    "      xs.append(one_c)\n",
    "      sub_df = cut_df[cut_df['match_score']>=one_c]\n",
    "      prop_or_mean_value = np.mean(sub_df[val_col])\n",
    "      ys.append(prop_or_mean_value)\n",
    "      val_tuples.append((one_c, prop_or_mean_value))\n",
    "    vals[str(one_degen)] = val_tuples\n",
    "    plt.scatter(xs, ys, s=5, label='reject: <=%d'%one_degen)\n",
    "  plt.legend(loc='lower left')\n",
    "  plt.ylim([-0.05,1.05])\n",
    "  plt.xlabel(x_label)\n",
    "  plt.ylabel(val_col)\n",
    "  plt.savefig(save_path, dpi=300, bbox_inches='tight', pad_inches=0.0)\n",
    "  plt.show()"
   ]
  },
  {
   "cell_type": "code",
   "execution_count": 17,
   "id": "aab37ffd-a090-4a7f-83e8-36872dd2f2ce",
   "metadata": {},
   "outputs": [
    {
     "data": {
      "image/png": "[encoded data removed]",
      "text/plain": [
       "<Figure size 640x480 with 1 Axes>"
      ]
     },
     "metadata": {},
     "output_type": "display_data"
    }
   ],
   "source": [
    "draw_plot(df=biomd_spec_df,\n",
    "          degen_col='name_length',\n",
    "          val_col='accuracy',\n",
    "          x_label='match score cutoff',\n",
    "          save_path=os.path.join(MANU_FIGURE_DIR, 'f21-accuracy-species-biomd.pdf'))"
   ]
  },
  {
   "cell_type": "code",
   "execution_count": null,
   "id": "58a45ea0-7b2f-4ec4-aa27-236371d0edf0",
   "metadata": {},
   "outputs": [],
   "source": []
  },
  {
   "cell_type": "markdown",
   "id": "951321d2-a7b1-4789-9846-fc690a56b2f0",
   "metadata": {},
   "source": [
    "## 2. Data & Plots for BioModels Reactions"
   ]
  },
  {
   "cell_type": "code",
   "execution_count": 9,
   "id": "e2a2297e-e39f-40b4-b7ae-0f0317452c11",
   "metadata": {},
   "outputs": [
    {
     "name": "stdout",
     "output_type": "stream",
     "text": [
      "We are at 0\n",
      "We are at 20\n",
      "We are at 40\n",
      "We are at 60\n",
      "We are at 80\n",
      "We are at 100\n",
      "We are at 120\n",
      "Total time for prediction: 1663.10\n",
      "Average time for prediction: 0.78\n"
     ]
    }
   ],
   "source": [
    "def getRheaElementNum(inp_rhea, inp_df=ra.REF_MAT):\n",
    "  \"\"\"\n",
    "  Get Number of elements of\n",
    "  the given rhea term.\n",
    "  \n",
    "  Parameters\n",
    "  ----------\n",
    "  inp_rhea: str\n",
    "  \n",
    "  Returns\n",
    "  -------\n",
    "  : int\n",
    "  \"\"\"\n",
    "  return len(inp_df.loc[inp_rhea, :].to_numpy().nonzero()[0])\n",
    "\n",
    "total_time = 0\n",
    "\n",
    "model_names = []\n",
    "num_rhea_eles = []\n",
    "num_query_eles = []\n",
    "num_candidates = []\n",
    "val_match_scores = []\n",
    "is_correct_included = []\n",
    "inv_num_candidates = []\n",
    "total_recalls = []\n",
    "total_precisions = []\n",
    "\n",
    "\n",
    "for idx, one_biomd in enumerate(biomds_reac):\n",
    "  if idx % 20 == 0:\n",
    "    print(\"We are at\", idx)\n",
    "  one_fpath = os.path.join(BIOMODEL_DIR, one_biomd)\n",
    "  recom = recommender.Recommender(libsbml_fpath=one_fpath)\n",
    "  reac2evaluate = list(recom.reactions.exist_annotation.keys())\n",
    "  if reac2evaluate:  \n",
    "    time1 = time.time()\n",
    "    recoms = recom.getReactionListRecommendation(pred_ids=reac2evaluate,\n",
    "                                                 mssc='top',\n",
    "                                                 cutoff=0.0)\n",
    "    time2 = time.time()\n",
    "    pred_time = time2 - time1 \n",
    "    total_time += pred_time    \n",
    "    refs = {val:recom.reactions.exist_annotation[val] \\\n",
    "            for val in reac2evaluate}   \n",
    "    preds = {val.id: [k[0] for k in val.candidates] for val in recom}\n",
    "\n",
    "    recalls = tools.getRecall(ref=refs, pred=preds, mean=False)\n",
    "    precisions = tools.getPrecision(ref=refs, pred=preds, mean=False)\n",
    "\n",
    "    for one_recom in recom:\n",
    "      one_reac = one_recom.id\n",
    "      match_scores = [val[1] for val in one_recom.candidates]\n",
    "      num_ref_elements = [getRheaElementNum(val[0]) for val in one_recom.candidates]\n",
    "      #\n",
    "      mean_num_rhea_elements = np.mean(num_ref_elements)   \n",
    "      # this is actually the number of reaction components;\n",
    "      num_query_ele = len(recom.reactions.reaction_components[one_reac])\n",
    "      num_cands = len(match_scores)\n",
    "      mean_match_score = np.mean(match_scores)\n",
    "      #\n",
    "      model_names.append(one_biomd)\n",
    "      num_rhea_eles.append(mean_num_rhea_elements)\n",
    "      num_query_eles.append(num_query_ele)\n",
    "      num_candidates.append(num_cands)\n",
    "      val_match_scores.append(mean_match_score)\n",
    "      if recalls[one_reac] > 0.0:\n",
    "        is_correct_included.append(1)\n",
    "      else:\n",
    "        is_correct_included.append(0)\n",
    "      inv_num_candidates.append(1/len(one_recom.candidates))\n",
    "      total_recalls.append(recalls[one_reac])\n",
    "      total_precisions.append(precisions[one_reac])\n",
    "        \n",
    "biomd_reac_df = pd.DataFrame({'model': model_names,\n",
    "                              'mean_num_rhea_elements': num_rhea_eles,\n",
    "                              'num_query_elements': num_query_eles,\n",
    "                              'num_candidates': num_candidates,\n",
    "                              'match_score': val_match_scores,\n",
    "                              'accuracy': is_correct_included,\n",
    "                              'exactness': inv_num_candidates,\n",
    "                              'recall': total_recalls,\n",
    "                              'precision': total_precisions})\n",
    "\n",
    "print(\"Total time for prediction: %.02f\" % total_time)\n",
    "print(\"Average time for prediction: %.02f\" % (total_time/biomd_reac_df.shape[0]))"
   ]
  },
  {
   "cell_type": "code",
   "execution_count": 11,
   "id": "78ebebd6-79d5-42a5-831e-34205aa02cd8",
   "metadata": {},
   "outputs": [
    {
     "data": {
      "text/plain": [
       "(2140, 9)"
      ]
     },
     "execution_count": 11,
     "metadata": {},
     "output_type": "execute_result"
    }
   ],
   "source": [
    "biomd_reac_df.to_csv(os.path.join(ACCURACY_DIR, 'biomd_reactions_plot_data.csv'), index=False)\n",
    "\n",
    "# biomd_reac_df = pd.read_csv(os.path.join(ACCURACY_DIR, 'biomd_reactions_plot_data.csv'))\n",
    "biomd_reac_df.shape"
   ]
  },
  {
   "cell_type": "code",
   "execution_count": 12,
   "id": "0d7f6cbc-3522-4962-95ac-e861ac70cbfb",
   "metadata": {},
   "outputs": [
    {
     "data": {
      "text/html": [
       "<div>\n",
       "<style scoped>\n",
       "    .dataframe tbody tr th:only-of-type {\n",
       "        vertical-align: middle;\n",
       "    }\n",
       "\n",
       "    .dataframe tbody tr th {\n",
       "        vertical-align: top;\n",
       "    }\n",
       "\n",
       "    .dataframe thead th {\n",
       "        text-align: right;\n",
       "    }\n",
       "</style>\n",
       "<table border=\"1\" class=\"dataframe\">\n",
       "  <thead>\n",
       "    <tr style=\"text-align: right;\">\n",
       "      <th></th>\n",
       "      <th>model</th>\n",
       "      <th>mean_num_rhea_elements</th>\n",
       "      <th>num_query_elements</th>\n",
       "      <th>num_candidates</th>\n",
       "      <th>match_score</th>\n",
       "      <th>accuracy</th>\n",
       "      <th>exactness</th>\n",
       "      <th>recall</th>\n",
       "      <th>precision</th>\n",
       "    </tr>\n",
       "  </thead>\n",
       "  <tbody>\n",
       "    <tr>\n",
       "      <th>0</th>\n",
       "      <td>BIOMD0000000003.xml</td>\n",
       "      <td>4.650943</td>\n",
       "      <td>1</td>\n",
       "      <td>106</td>\n",
       "      <td>1.0</td>\n",
       "      <td>0</td>\n",
       "      <td>0.009434</td>\n",
       "      <td>0.0</td>\n",
       "      <td>0.0</td>\n",
       "    </tr>\n",
       "    <tr>\n",
       "      <th>1</th>\n",
       "      <td>BIOMD0000000003.xml</td>\n",
       "      <td>4.650943</td>\n",
       "      <td>1</td>\n",
       "      <td>106</td>\n",
       "      <td>1.0</td>\n",
       "      <td>0</td>\n",
       "      <td>0.009434</td>\n",
       "      <td>0.0</td>\n",
       "      <td>0.0</td>\n",
       "    </tr>\n",
       "    <tr>\n",
       "      <th>2</th>\n",
       "      <td>BIOMD0000000004.xml</td>\n",
       "      <td>4.693548</td>\n",
       "      <td>2</td>\n",
       "      <td>248</td>\n",
       "      <td>0.5</td>\n",
       "      <td>0</td>\n",
       "      <td>0.004032</td>\n",
       "      <td>0.0</td>\n",
       "      <td>0.0</td>\n",
       "    </tr>\n",
       "    <tr>\n",
       "      <th>3</th>\n",
       "      <td>BIOMD0000000004.xml</td>\n",
       "      <td>4.693548</td>\n",
       "      <td>2</td>\n",
       "      <td>248</td>\n",
       "      <td>0.5</td>\n",
       "      <td>0</td>\n",
       "      <td>0.004032</td>\n",
       "      <td>0.0</td>\n",
       "      <td>0.0</td>\n",
       "    </tr>\n",
       "    <tr>\n",
       "      <th>4</th>\n",
       "      <td>BIOMD0000000005.xml</td>\n",
       "      <td>2.600000</td>\n",
       "      <td>2</td>\n",
       "      <td>5</td>\n",
       "      <td>1.0</td>\n",
       "      <td>0</td>\n",
       "      <td>0.200000</td>\n",
       "      <td>0.0</td>\n",
       "      <td>0.0</td>\n",
       "    </tr>\n",
       "  </tbody>\n",
       "</table>\n",
       "</div>"
      ],
      "text/plain": [
       "                 model  mean_num_rhea_elements  num_query_elements  \\\n",
       "0  BIOMD0000000003.xml                4.650943                   1   \n",
       "1  BIOMD0000000003.xml                4.650943                   1   \n",
       "2  BIOMD0000000004.xml                4.693548                   2   \n",
       "3  BIOMD0000000004.xml                4.693548                   2   \n",
       "4  BIOMD0000000005.xml                2.600000                   2   \n",
       "\n",
       "   num_candidates  match_score  accuracy  exactness  recall  precision  \n",
       "0             106          1.0         0   0.009434     0.0        0.0  \n",
       "1             106          1.0         0   0.009434     0.0        0.0  \n",
       "2             248          0.5         0   0.004032     0.0        0.0  \n",
       "3             248          0.5         0   0.004032     0.0        0.0  \n",
       "4               5          1.0         0   0.200000     0.0        0.0  "
      ]
     },
     "execution_count": 12,
     "metadata": {},
     "output_type": "execute_result"
    }
   ],
   "source": [
    "biomd_reac_df.head()"
   ]
  },
  {
   "cell_type": "code",
   "execution_count": 13,
   "id": "117ad043-5c7d-45a9-8909-40bf103c2207",
   "metadata": {},
   "outputs": [
    {
     "data": {
      "image/png": "[encoded data removed]",
      "text/plain": [
       "<Figure size 640x480 with 1 Axes>"
      ]
     },
     "metadata": {},
     "output_type": "display_data"
    }
   ],
   "source": [
    "draw_plot(df=biomd_reac_df,\n",
    "          degen_col='num_query_elements',\n",
    "          val_col='accuracy',\n",
    "          x_label='match score cutoff',\n",
    "          save_path=os.path.join(MANU_FIGURE_DIR, 'f22-accuracy-reactions-biomd.pdf'))"
   ]
  },
  {
   "cell_type": "code",
   "execution_count": 13,
   "id": "ac066878-0deb-4afb-932d-7b88d05286a2",
   "metadata": {},
   "outputs": [],
   "source": [
    "# draw_plot(df=biomd_reac_df,\n",
    "#           degen_col='num_query_elements',\n",
    "#           val_col='precision',\n",
    "#           x_label='minimum match score',\n",
    "#           save_path=os.path.join(TEMPFIG_DIR, 'biomd_reactions_precision.png'))"
   ]
  },
  {
   "cell_type": "code",
   "execution_count": 11,
   "id": "05decde5-87f8-4e9d-9f9b-4aef7ae1bec5",
   "metadata": {},
   "outputs": [
    {
     "data": {
      "text/plain": [
       "6"
      ]
     },
     "execution_count": 11,
     "metadata": {},
     "output_type": "execute_result"
    }
   ],
   "source": [
    "3+3"
   ]
  },
  {
   "cell_type": "markdown",
   "id": "61c76065-8900-4baf-b26e-ff10462993ea",
   "metadata": {},
   "source": [
    "## 3. Data & Plots for BiGG Species"
   ]
  },
  {
   "cell_type": "code",
   "execution_count": 18,
   "id": "be7516be-1859-4f5a-9511-ab2270faa582",
   "metadata": {},
   "outputs": [
    {
     "name": "stdout",
     "output_type": "stream",
     "text": [
      "We are at 0\n",
      "We are at 10\n",
      "We are at 20\n",
      "We are at 30\n",
      "We are at 40\n",
      "We are at 50\n",
      "We are at 60\n",
      "We are at 70\n",
      "We are at 80\n",
      "We are at 90\n",
      "We are at 100\n"
     ]
    }
   ],
   "source": [
    "bigg_num_species = []\n",
    "for idx, one_bigg in enumerate(biggs):\n",
    "  if idx % 10 == 0:\n",
    "    print(\"We are at\", idx)\n",
    "  one_fpath = os.path.join(BIGG_DIR, one_bigg)\n",
    "  recom = recommender.Recommender(libsbml_fpath=one_fpath)\n",
    "  specs2evaluate = list(recom.species.exist_annotation_formula.keys())\n",
    "  bigg_num_species.append(len(specs2evaluate))"
   ]
  },
  {
   "cell_type": "code",
   "execution_count": 24,
   "id": "87075949-440a-4b60-a4a4-1f6eb6a18c72",
   "metadata": {},
   "outputs": [
    {
     "name": "stdout",
     "output_type": "stream",
     "text": [
      "We are at 0\n",
      "We are at 5\n"
     ]
    },
    {
     "ename": "KeyboardInterrupt",
     "evalue": "",
     "output_type": "error",
     "traceback": [
      "\u001b[0;31m---------------------------------------------------------------------------\u001b[0m",
      "\u001b[0;31mKeyboardInterrupt\u001b[0m                         Traceback (most recent call last)",
      "Cell \u001b[0;32mIn[24], line 24\u001b[0m\n\u001b[1;32m     22\u001b[0m \u001b[38;5;28;01mif\u001b[39;00m specs2evaluate:\n\u001b[1;32m     23\u001b[0m   time1 \u001b[38;5;241m=\u001b[39m time\u001b[38;5;241m.\u001b[39mtime()\n\u001b[0;32m---> 24\u001b[0m   recoms \u001b[38;5;241m=\u001b[39m \u001b[43mrecom\u001b[49m\u001b[38;5;241;43m.\u001b[39;49m\u001b[43mgetSpeciesListRecommendation\u001b[49m\u001b[43m(\u001b[49m\u001b[43mpred_ids\u001b[49m\u001b[38;5;241;43m=\u001b[39;49m\u001b[43mspecs2evaluate\u001b[49m\u001b[43m,\u001b[49m\n\u001b[1;32m     25\u001b[0m \u001b[43m                                              \u001b[49m\u001b[43mmssc\u001b[49m\u001b[38;5;241;43m=\u001b[39;49m\u001b[38;5;124;43m'\u001b[39;49m\u001b[38;5;124;43mtop\u001b[39;49m\u001b[38;5;124;43m'\u001b[39;49m\u001b[43m,\u001b[49m\n\u001b[1;32m     26\u001b[0m \u001b[43m                                              \u001b[49m\u001b[43mcutoff\u001b[49m\u001b[38;5;241;43m=\u001b[39;49m\u001b[38;5;241;43m0.0\u001b[39;49m\u001b[43m)\u001b[49m\n\u001b[1;32m     27\u001b[0m   time2 \u001b[38;5;241m=\u001b[39m time\u001b[38;5;241m.\u001b[39mtime()\n\u001b[1;32m     28\u001b[0m   pred_time \u001b[38;5;241m=\u001b[39m time2 \u001b[38;5;241m-\u001b[39m time1 \n",
      "File \u001b[0;32m~/Desktop/AutomateAnnotation/AMAS/notebooks/../AMAS/recommender.py:359\u001b[0m, in \u001b[0;36mRecommender.getSpeciesListRecommendation\u001b[0;34m(self, pred_strs, pred_ids, method, mssc, cutoff, update, get_df)\u001b[0m\n\u001b[1;32m    356\u001b[0m   ids_dict \u001b[38;5;241m=\u001b[39m {k:\u001b[38;5;28mself\u001b[39m\u001b[38;5;241m.\u001b[39mspecies\u001b[38;5;241m.\u001b[39mgetNameToUse(inp_id\u001b[38;5;241m=\u001b[39mk) \\\n\u001b[1;32m    357\u001b[0m               \u001b[38;5;28;01mfor\u001b[39;00m k \u001b[38;5;129;01min\u001b[39;00m pred_ids}\n\u001b[1;32m    358\u001b[0m   inp_strs \u001b[38;5;241m=\u001b[39m [ids_dict[k] \u001b[38;5;28;01mfor\u001b[39;00m k \u001b[38;5;129;01min\u001b[39;00m ids_dict\u001b[38;5;241m.\u001b[39mkeys()]\n\u001b[0;32m--> 359\u001b[0m pred_res \u001b[38;5;241m=\u001b[39m \u001b[43mscoring_methods\u001b[49m\u001b[43m[\u001b[49m\u001b[43mmethod\u001b[49m\u001b[43m]\u001b[49m\u001b[43m(\u001b[49m\u001b[43minp_strs\u001b[49m\u001b[43m)\u001b[49m\n\u001b[1;32m    360\u001b[0m \u001b[38;5;66;03m# convert {name_used:[]} to {id:[]} and apply mssc\u001b[39;00m\n\u001b[1;32m    361\u001b[0m conv_res \u001b[38;5;241m=\u001b[39m {k:\u001b[38;5;28mself\u001b[39m\u001b[38;5;241m.\u001b[39mapplyMSSC(pred_res[ids_dict[k]], mssc, cutoff) \\\n\u001b[1;32m    362\u001b[0m             \u001b[38;5;28;01mfor\u001b[39;00m k \u001b[38;5;129;01min\u001b[39;00m ids_dict\u001b[38;5;241m.\u001b[39mkeys()}\n",
      "File \u001b[0;32m~/Desktop/AutomateAnnotation/AMAS/notebooks/../AMAS/species_annotation.py:132\u001b[0m, in \u001b[0;36mSpeciesAnnotation.getCScores\u001b[0;34m(self, inp_strs, ref_df, chebi_df)\u001b[0m\n\u001b[1;32m    130\u001b[0m cscores \u001b[38;5;241m=\u001b[39m \u001b[38;5;28mdict\u001b[39m()\n\u001b[1;32m    131\u001b[0m \u001b[38;5;28;01mfor\u001b[39;00m spec \u001b[38;5;129;01min\u001b[39;00m unq_strs:\n\u001b[0;32m--> 132\u001b[0m   df_max \u001b[38;5;241m=\u001b[39m \u001b[43mmulti_mat\u001b[49m\u001b[38;5;241;43m.\u001b[39;49m\u001b[43mgroupby\u001b[49m\u001b[43m(\u001b[49m\u001b[43mcn\u001b[49m\u001b[38;5;241;43m.\u001b[39;49m\u001b[43mCHEBI\u001b[49m\u001b[43m)\u001b[49m\u001b[38;5;241;43m.\u001b[39;49m\u001b[43mmax\u001b[49m\u001b[43m(\u001b[49m\u001b[43mspec\u001b[49m\u001b[43m)\u001b[49m\n\u001b[1;32m    133\u001b[0m   spec_cscore \u001b[38;5;241m=\u001b[39m \u001b[38;5;28mlist\u001b[39m(\u001b[38;5;28mzip\u001b[39m(df_max\u001b[38;5;241m.\u001b[39mindex, df_max[spec]))\n\u001b[1;32m    134\u001b[0m   spec_cscore\u001b[38;5;241m.\u001b[39msort(key\u001b[38;5;241m=\u001b[39moperator\u001b[38;5;241m.\u001b[39mitemgetter(\u001b[38;5;241m1\u001b[39m), reverse\u001b[38;5;241m=\u001b[39m\u001b[38;5;28;01mTrue\u001b[39;00m)\n",
      "File \u001b[0;32m~/miniconda3/envs/amas_dev/lib/python3.11/site-packages/pandas/core/groupby/groupby.py:2509\u001b[0m, in \u001b[0;36mGroupBy.max\u001b[0;34m(self, numeric_only, min_count, engine, engine_kwargs)\u001b[0m\n\u001b[1;32m   2507\u001b[0m     \u001b[38;5;28;01mreturn\u001b[39;00m \u001b[38;5;28mself\u001b[39m\u001b[38;5;241m.\u001b[39m_numba_agg_general(sliding_min_max, engine_kwargs, \u001b[38;5;28;01mTrue\u001b[39;00m)\n\u001b[1;32m   2508\u001b[0m \u001b[38;5;28;01melse\u001b[39;00m:\n\u001b[0;32m-> 2509\u001b[0m     \u001b[38;5;28;01mreturn\u001b[39;00m \u001b[38;5;28;43mself\u001b[39;49m\u001b[38;5;241;43m.\u001b[39;49m\u001b[43m_agg_general\u001b[49m\u001b[43m(\u001b[49m\n\u001b[1;32m   2510\u001b[0m \u001b[43m        \u001b[49m\u001b[43mnumeric_only\u001b[49m\u001b[38;5;241;43m=\u001b[39;49m\u001b[43mnumeric_only\u001b[49m\u001b[43m,\u001b[49m\n\u001b[1;32m   2511\u001b[0m \u001b[43m        \u001b[49m\u001b[43mmin_count\u001b[49m\u001b[38;5;241;43m=\u001b[39;49m\u001b[43mmin_count\u001b[49m\u001b[43m,\u001b[49m\n\u001b[1;32m   2512\u001b[0m \u001b[43m        \u001b[49m\u001b[43malias\u001b[49m\u001b[38;5;241;43m=\u001b[39;49m\u001b[38;5;124;43m\"\u001b[39;49m\u001b[38;5;124;43mmax\u001b[39;49m\u001b[38;5;124;43m\"\u001b[39;49m\u001b[43m,\u001b[49m\n\u001b[1;32m   2513\u001b[0m \u001b[43m        \u001b[49m\u001b[43mnpfunc\u001b[49m\u001b[38;5;241;43m=\u001b[39;49m\u001b[43mnp\u001b[49m\u001b[38;5;241;43m.\u001b[39;49m\u001b[43mmax\u001b[49m\u001b[43m,\u001b[49m\n\u001b[1;32m   2514\u001b[0m \u001b[43m    \u001b[49m\u001b[43m)\u001b[49m\n",
      "File \u001b[0;32m~/miniconda3/envs/amas_dev/lib/python3.11/site-packages/pandas/core/groupby/groupby.py:1711\u001b[0m, in \u001b[0;36mGroupBy._agg_general\u001b[0;34m(self, numeric_only, min_count, alias, npfunc)\u001b[0m\n\u001b[1;32m   1699\u001b[0m \u001b[38;5;129m@final\u001b[39m\n\u001b[1;32m   1700\u001b[0m \u001b[38;5;28;01mdef\u001b[39;00m \u001b[38;5;21m_agg_general\u001b[39m(\n\u001b[1;32m   1701\u001b[0m     \u001b[38;5;28mself\u001b[39m,\n\u001b[0;32m   (...)\u001b[0m\n\u001b[1;32m   1706\u001b[0m     npfunc: Callable,\n\u001b[1;32m   1707\u001b[0m ):\n\u001b[1;32m   1709\u001b[0m     \u001b[38;5;28;01mwith\u001b[39;00m \u001b[38;5;28mself\u001b[39m\u001b[38;5;241m.\u001b[39m_group_selection_context():\n\u001b[1;32m   1710\u001b[0m         \u001b[38;5;66;03m# try a cython aggregation if we can\u001b[39;00m\n\u001b[0;32m-> 1711\u001b[0m         result \u001b[38;5;241m=\u001b[39m \u001b[38;5;28;43mself\u001b[39;49m\u001b[38;5;241;43m.\u001b[39;49m\u001b[43m_cython_agg_general\u001b[49m\u001b[43m(\u001b[49m\n\u001b[1;32m   1712\u001b[0m \u001b[43m            \u001b[49m\u001b[43mhow\u001b[49m\u001b[38;5;241;43m=\u001b[39;49m\u001b[43malias\u001b[49m\u001b[43m,\u001b[49m\n\u001b[1;32m   1713\u001b[0m \u001b[43m            \u001b[49m\u001b[43malt\u001b[49m\u001b[38;5;241;43m=\u001b[39;49m\u001b[43mnpfunc\u001b[49m\u001b[43m,\u001b[49m\n\u001b[1;32m   1714\u001b[0m \u001b[43m            \u001b[49m\u001b[43mnumeric_only\u001b[49m\u001b[38;5;241;43m=\u001b[39;49m\u001b[43mnumeric_only\u001b[49m\u001b[43m,\u001b[49m\n\u001b[1;32m   1715\u001b[0m \u001b[43m            \u001b[49m\u001b[43mmin_count\u001b[49m\u001b[38;5;241;43m=\u001b[39;49m\u001b[43mmin_count\u001b[49m\u001b[43m,\u001b[49m\n\u001b[1;32m   1716\u001b[0m \u001b[43m        \u001b[49m\u001b[43m)\u001b[49m\n\u001b[1;32m   1717\u001b[0m         \u001b[38;5;28;01mreturn\u001b[39;00m result\u001b[38;5;241m.\u001b[39m__finalize__(\u001b[38;5;28mself\u001b[39m\u001b[38;5;241m.\u001b[39mobj, method\u001b[38;5;241m=\u001b[39m\u001b[38;5;124m\"\u001b[39m\u001b[38;5;124mgroupby\u001b[39m\u001b[38;5;124m\"\u001b[39m)\n",
      "File \u001b[0;32m~/miniconda3/envs/amas_dev/lib/python3.11/site-packages/pandas/core/groupby/groupby.py:1810\u001b[0m, in \u001b[0;36mGroupBy._cython_agg_general\u001b[0;34m(self, how, alt, numeric_only, min_count, ignore_failures, **kwargs)\u001b[0m\n\u001b[1;32m   1806\u001b[0m     \u001b[38;5;28;01mreturn\u001b[39;00m result\n\u001b[1;32m   1808\u001b[0m \u001b[38;5;66;03m# TypeError -> we may have an exception in trying to aggregate\u001b[39;00m\n\u001b[1;32m   1809\u001b[0m \u001b[38;5;66;03m#  continue and exclude the block\u001b[39;00m\n\u001b[0;32m-> 1810\u001b[0m new_mgr \u001b[38;5;241m=\u001b[39m \u001b[43mdata\u001b[49m\u001b[38;5;241;43m.\u001b[39;49m\u001b[43mgrouped_reduce\u001b[49m\u001b[43m(\u001b[49m\u001b[43marray_func\u001b[49m\u001b[43m,\u001b[49m\u001b[43m \u001b[49m\u001b[43mignore_failures\u001b[49m\u001b[38;5;241;43m=\u001b[39;49m\u001b[43mignore_failures\u001b[49m\u001b[43m)\u001b[49m\n\u001b[1;32m   1812\u001b[0m \u001b[38;5;28;01mif\u001b[39;00m \u001b[38;5;129;01mnot\u001b[39;00m is_ser \u001b[38;5;129;01mand\u001b[39;00m \u001b[38;5;28mlen\u001b[39m(new_mgr) \u001b[38;5;241m<\u001b[39m orig_len:\n\u001b[1;32m   1813\u001b[0m     warn_dropping_nuisance_columns_deprecated(\u001b[38;5;28mtype\u001b[39m(\u001b[38;5;28mself\u001b[39m), how, numeric_only)\n",
      "File \u001b[0;32m~/miniconda3/envs/amas_dev/lib/python3.11/site-packages/pandas/core/internals/managers.py:1527\u001b[0m, in \u001b[0;36mBlockManager.grouped_reduce\u001b[0;34m(self, func, ignore_failures)\u001b[0m\n\u001b[1;32m   1525\u001b[0m \u001b[38;5;28;01melse\u001b[39;00m:\n\u001b[1;32m   1526\u001b[0m     \u001b[38;5;28;01mtry\u001b[39;00m:\n\u001b[0;32m-> 1527\u001b[0m         applied \u001b[38;5;241m=\u001b[39m \u001b[43mblk\u001b[49m\u001b[38;5;241;43m.\u001b[39;49m\u001b[43mapply\u001b[49m\u001b[43m(\u001b[49m\u001b[43mfunc\u001b[49m\u001b[43m)\u001b[49m\n\u001b[1;32m   1528\u001b[0m     \u001b[38;5;28;01mexcept\u001b[39;00m (\u001b[38;5;167;01mTypeError\u001b[39;00m, \u001b[38;5;167;01mNotImplementedError\u001b[39;00m):\n\u001b[1;32m   1529\u001b[0m         \u001b[38;5;28;01mif\u001b[39;00m \u001b[38;5;129;01mnot\u001b[39;00m ignore_failures:\n",
      "File \u001b[0;32m~/miniconda3/envs/amas_dev/lib/python3.11/site-packages/pandas/core/internals/blocks.py:351\u001b[0m, in \u001b[0;36mBlock.apply\u001b[0;34m(self, func, **kwargs)\u001b[0m\n\u001b[1;32m    345\u001b[0m \u001b[38;5;129m@final\u001b[39m\n\u001b[1;32m    346\u001b[0m \u001b[38;5;28;01mdef\u001b[39;00m \u001b[38;5;21mapply\u001b[39m(\u001b[38;5;28mself\u001b[39m, func, \u001b[38;5;241m*\u001b[39m\u001b[38;5;241m*\u001b[39mkwargs) \u001b[38;5;241m-\u001b[39m\u001b[38;5;241m>\u001b[39m \u001b[38;5;28mlist\u001b[39m[Block]:\n\u001b[1;32m    347\u001b[0m \u001b[38;5;250m    \u001b[39m\u001b[38;5;124;03m\"\"\"\u001b[39;00m\n\u001b[1;32m    348\u001b[0m \u001b[38;5;124;03m    apply the function to my values; return a block if we are not\u001b[39;00m\n\u001b[1;32m    349\u001b[0m \u001b[38;5;124;03m    one\u001b[39;00m\n\u001b[1;32m    350\u001b[0m \u001b[38;5;124;03m    \"\"\"\u001b[39;00m\n\u001b[0;32m--> 351\u001b[0m     result \u001b[38;5;241m=\u001b[39m \u001b[43mfunc\u001b[49m\u001b[43m(\u001b[49m\u001b[38;5;28;43mself\u001b[39;49m\u001b[38;5;241;43m.\u001b[39;49m\u001b[43mvalues\u001b[49m\u001b[43m,\u001b[49m\u001b[43m \u001b[49m\u001b[38;5;241;43m*\u001b[39;49m\u001b[38;5;241;43m*\u001b[39;49m\u001b[43mkwargs\u001b[49m\u001b[43m)\u001b[49m\n\u001b[1;32m    353\u001b[0m     \u001b[38;5;28;01mreturn\u001b[39;00m \u001b[38;5;28mself\u001b[39m\u001b[38;5;241m.\u001b[39m_split_op_result(result)\n",
      "File \u001b[0;32m~/miniconda3/envs/amas_dev/lib/python3.11/site-packages/pandas/core/groupby/groupby.py:1791\u001b[0m, in \u001b[0;36mGroupBy._cython_agg_general.<locals>.array_func\u001b[0;34m(values)\u001b[0m\n\u001b[1;32m   1789\u001b[0m \u001b[38;5;28;01mdef\u001b[39;00m \u001b[38;5;21marray_func\u001b[39m(values: ArrayLike) \u001b[38;5;241m-\u001b[39m\u001b[38;5;241m>\u001b[39m ArrayLike:\n\u001b[1;32m   1790\u001b[0m     \u001b[38;5;28;01mtry\u001b[39;00m:\n\u001b[0;32m-> 1791\u001b[0m         result \u001b[38;5;241m=\u001b[39m \u001b[38;5;28;43mself\u001b[39;49m\u001b[38;5;241;43m.\u001b[39;49m\u001b[43mgrouper\u001b[49m\u001b[38;5;241;43m.\u001b[39;49m\u001b[43m_cython_operation\u001b[49m\u001b[43m(\u001b[49m\n\u001b[1;32m   1792\u001b[0m \u001b[43m            \u001b[49m\u001b[38;5;124;43m\"\u001b[39;49m\u001b[38;5;124;43maggregate\u001b[39;49m\u001b[38;5;124;43m\"\u001b[39;49m\u001b[43m,\u001b[49m\n\u001b[1;32m   1793\u001b[0m \u001b[43m            \u001b[49m\u001b[43mvalues\u001b[49m\u001b[43m,\u001b[49m\n\u001b[1;32m   1794\u001b[0m \u001b[43m            \u001b[49m\u001b[43mhow\u001b[49m\u001b[43m,\u001b[49m\n\u001b[1;32m   1795\u001b[0m \u001b[43m            \u001b[49m\u001b[43maxis\u001b[49m\u001b[38;5;241;43m=\u001b[39;49m\u001b[43mdata\u001b[49m\u001b[38;5;241;43m.\u001b[39;49m\u001b[43mndim\u001b[49m\u001b[43m \u001b[49m\u001b[38;5;241;43m-\u001b[39;49m\u001b[43m \u001b[49m\u001b[38;5;241;43m1\u001b[39;49m\u001b[43m,\u001b[49m\n\u001b[1;32m   1796\u001b[0m \u001b[43m            \u001b[49m\u001b[43mmin_count\u001b[49m\u001b[38;5;241;43m=\u001b[39;49m\u001b[43mmin_count\u001b[49m\u001b[43m,\u001b[49m\n\u001b[1;32m   1797\u001b[0m \u001b[43m            \u001b[49m\u001b[38;5;241;43m*\u001b[39;49m\u001b[38;5;241;43m*\u001b[39;49m\u001b[43mkwargs\u001b[49m\u001b[43m,\u001b[49m\n\u001b[1;32m   1798\u001b[0m \u001b[43m        \u001b[49m\u001b[43m)\u001b[49m\n\u001b[1;32m   1799\u001b[0m     \u001b[38;5;28;01mexcept\u001b[39;00m \u001b[38;5;167;01mNotImplementedError\u001b[39;00m:\n\u001b[1;32m   1800\u001b[0m         \u001b[38;5;66;03m# generally if we have numeric_only=False\u001b[39;00m\n\u001b[1;32m   1801\u001b[0m         \u001b[38;5;66;03m# and non-applicable functions\u001b[39;00m\n\u001b[1;32m   1802\u001b[0m         \u001b[38;5;66;03m# try to python agg\u001b[39;00m\n\u001b[1;32m   1803\u001b[0m         \u001b[38;5;66;03m# TODO: shouldn't min_count matter?\u001b[39;00m\n\u001b[1;32m   1804\u001b[0m         result \u001b[38;5;241m=\u001b[39m \u001b[38;5;28mself\u001b[39m\u001b[38;5;241m.\u001b[39m_agg_py_fallback(values, ndim\u001b[38;5;241m=\u001b[39mdata\u001b[38;5;241m.\u001b[39mndim, alt\u001b[38;5;241m=\u001b[39malt)\n",
      "File \u001b[0;32m~/miniconda3/envs/amas_dev/lib/python3.11/site-packages/pandas/core/groupby/ops.py:1039\u001b[0m, in \u001b[0;36mBaseGrouper._cython_operation\u001b[0;34m(self, kind, values, how, axis, min_count, **kwargs)\u001b[0m\n\u001b[1;32m   1037\u001b[0m ids, _, _ \u001b[38;5;241m=\u001b[39m \u001b[38;5;28mself\u001b[39m\u001b[38;5;241m.\u001b[39mgroup_info\n\u001b[1;32m   1038\u001b[0m ngroups \u001b[38;5;241m=\u001b[39m \u001b[38;5;28mself\u001b[39m\u001b[38;5;241m.\u001b[39mngroups\n\u001b[0;32m-> 1039\u001b[0m \u001b[38;5;28;01mreturn\u001b[39;00m \u001b[43mcy_op\u001b[49m\u001b[38;5;241;43m.\u001b[39;49m\u001b[43mcython_operation\u001b[49m\u001b[43m(\u001b[49m\n\u001b[1;32m   1040\u001b[0m \u001b[43m    \u001b[49m\u001b[43mvalues\u001b[49m\u001b[38;5;241;43m=\u001b[39;49m\u001b[43mvalues\u001b[49m\u001b[43m,\u001b[49m\n\u001b[1;32m   1041\u001b[0m \u001b[43m    \u001b[49m\u001b[43maxis\u001b[49m\u001b[38;5;241;43m=\u001b[39;49m\u001b[43maxis\u001b[49m\u001b[43m,\u001b[49m\n\u001b[1;32m   1042\u001b[0m \u001b[43m    \u001b[49m\u001b[43mmin_count\u001b[49m\u001b[38;5;241;43m=\u001b[39;49m\u001b[43mmin_count\u001b[49m\u001b[43m,\u001b[49m\n\u001b[1;32m   1043\u001b[0m \u001b[43m    \u001b[49m\u001b[43mcomp_ids\u001b[49m\u001b[38;5;241;43m=\u001b[39;49m\u001b[43mids\u001b[49m\u001b[43m,\u001b[49m\n\u001b[1;32m   1044\u001b[0m \u001b[43m    \u001b[49m\u001b[43mngroups\u001b[49m\u001b[38;5;241;43m=\u001b[39;49m\u001b[43mngroups\u001b[49m\u001b[43m,\u001b[49m\n\u001b[1;32m   1045\u001b[0m \u001b[43m    \u001b[49m\u001b[38;5;241;43m*\u001b[39;49m\u001b[38;5;241;43m*\u001b[39;49m\u001b[43mkwargs\u001b[49m\u001b[43m,\u001b[49m\n\u001b[1;32m   1046\u001b[0m \u001b[43m\u001b[49m\u001b[43m)\u001b[49m\n",
      "File \u001b[0;32m~/miniconda3/envs/amas_dev/lib/python3.11/site-packages/pandas/core/groupby/ops.py:708\u001b[0m, in \u001b[0;36mWrappedCythonOp.cython_operation\u001b[0;34m(self, values, axis, min_count, comp_ids, ngroups, **kwargs)\u001b[0m\n\u001b[1;32m    698\u001b[0m \u001b[38;5;28;01mif\u001b[39;00m \u001b[38;5;129;01mnot\u001b[39;00m \u001b[38;5;28misinstance\u001b[39m(values, np\u001b[38;5;241m.\u001b[39mndarray):\n\u001b[1;32m    699\u001b[0m     \u001b[38;5;66;03m# i.e. ExtensionArray\u001b[39;00m\n\u001b[1;32m    700\u001b[0m     \u001b[38;5;28;01mreturn\u001b[39;00m \u001b[38;5;28mself\u001b[39m\u001b[38;5;241m.\u001b[39m_ea_wrap_cython_operation(\n\u001b[1;32m    701\u001b[0m         values,\n\u001b[1;32m    702\u001b[0m         min_count\u001b[38;5;241m=\u001b[39mmin_count,\n\u001b[0;32m   (...)\u001b[0m\n\u001b[1;32m    705\u001b[0m         \u001b[38;5;241m*\u001b[39m\u001b[38;5;241m*\u001b[39mkwargs,\n\u001b[1;32m    706\u001b[0m     )\n\u001b[0;32m--> 708\u001b[0m \u001b[38;5;28;01mreturn\u001b[39;00m \u001b[38;5;28;43mself\u001b[39;49m\u001b[38;5;241;43m.\u001b[39;49m\u001b[43m_cython_op_ndim_compat\u001b[49m\u001b[43m(\u001b[49m\n\u001b[1;32m    709\u001b[0m \u001b[43m    \u001b[49m\u001b[43mvalues\u001b[49m\u001b[43m,\u001b[49m\n\u001b[1;32m    710\u001b[0m \u001b[43m    \u001b[49m\u001b[43mmin_count\u001b[49m\u001b[38;5;241;43m=\u001b[39;49m\u001b[43mmin_count\u001b[49m\u001b[43m,\u001b[49m\n\u001b[1;32m    711\u001b[0m \u001b[43m    \u001b[49m\u001b[43mngroups\u001b[49m\u001b[38;5;241;43m=\u001b[39;49m\u001b[43mngroups\u001b[49m\u001b[43m,\u001b[49m\n\u001b[1;32m    712\u001b[0m \u001b[43m    \u001b[49m\u001b[43mcomp_ids\u001b[49m\u001b[38;5;241;43m=\u001b[39;49m\u001b[43mcomp_ids\u001b[49m\u001b[43m,\u001b[49m\n\u001b[1;32m    713\u001b[0m \u001b[43m    \u001b[49m\u001b[43mmask\u001b[49m\u001b[38;5;241;43m=\u001b[39;49m\u001b[38;5;28;43;01mNone\u001b[39;49;00m\u001b[43m,\u001b[49m\n\u001b[1;32m    714\u001b[0m \u001b[43m    \u001b[49m\u001b[38;5;241;43m*\u001b[39;49m\u001b[38;5;241;43m*\u001b[39;49m\u001b[43mkwargs\u001b[49m\u001b[43m,\u001b[49m\n\u001b[1;32m    715\u001b[0m \u001b[43m\u001b[49m\u001b[43m)\u001b[49m\n",
      "File \u001b[0;32m~/miniconda3/envs/amas_dev/lib/python3.11/site-packages/pandas/core/groupby/ops.py:527\u001b[0m, in \u001b[0;36mWrappedCythonOp._cython_op_ndim_compat\u001b[0;34m(self, values, min_count, ngroups, comp_ids, mask, result_mask, **kwargs)\u001b[0m\n\u001b[1;32m    524\u001b[0m     \u001b[38;5;66;03m# otherwise we have OHLC\u001b[39;00m\n\u001b[1;32m    525\u001b[0m     \u001b[38;5;28;01mreturn\u001b[39;00m res\u001b[38;5;241m.\u001b[39mT\n\u001b[0;32m--> 527\u001b[0m \u001b[38;5;28;01mreturn\u001b[39;00m \u001b[38;5;28;43mself\u001b[39;49m\u001b[38;5;241;43m.\u001b[39;49m\u001b[43m_call_cython_op\u001b[49m\u001b[43m(\u001b[49m\n\u001b[1;32m    528\u001b[0m \u001b[43m    \u001b[49m\u001b[43mvalues\u001b[49m\u001b[43m,\u001b[49m\n\u001b[1;32m    529\u001b[0m \u001b[43m    \u001b[49m\u001b[43mmin_count\u001b[49m\u001b[38;5;241;43m=\u001b[39;49m\u001b[43mmin_count\u001b[49m\u001b[43m,\u001b[49m\n\u001b[1;32m    530\u001b[0m \u001b[43m    \u001b[49m\u001b[43mngroups\u001b[49m\u001b[38;5;241;43m=\u001b[39;49m\u001b[43mngroups\u001b[49m\u001b[43m,\u001b[49m\n\u001b[1;32m    531\u001b[0m \u001b[43m    \u001b[49m\u001b[43mcomp_ids\u001b[49m\u001b[38;5;241;43m=\u001b[39;49m\u001b[43mcomp_ids\u001b[49m\u001b[43m,\u001b[49m\n\u001b[1;32m    532\u001b[0m \u001b[43m    \u001b[49m\u001b[43mmask\u001b[49m\u001b[38;5;241;43m=\u001b[39;49m\u001b[43mmask\u001b[49m\u001b[43m,\u001b[49m\n\u001b[1;32m    533\u001b[0m \u001b[43m    \u001b[49m\u001b[43mresult_mask\u001b[49m\u001b[38;5;241;43m=\u001b[39;49m\u001b[43mresult_mask\u001b[49m\u001b[43m,\u001b[49m\n\u001b[1;32m    534\u001b[0m \u001b[43m    \u001b[49m\u001b[38;5;241;43m*\u001b[39;49m\u001b[38;5;241;43m*\u001b[39;49m\u001b[43mkwargs\u001b[49m\u001b[43m,\u001b[49m\n\u001b[1;32m    535\u001b[0m \u001b[43m\u001b[49m\u001b[43m)\u001b[49m\n",
      "File \u001b[0;32m~/miniconda3/envs/amas_dev/lib/python3.11/site-packages/pandas/core/groupby/ops.py:579\u001b[0m, in \u001b[0;36mWrappedCythonOp._call_cython_op\u001b[0;34m(self, values, min_count, ngroups, comp_ids, mask, result_mask, **kwargs)\u001b[0m\n\u001b[1;32m    577\u001b[0m counts \u001b[38;5;241m=\u001b[39m np\u001b[38;5;241m.\u001b[39mzeros(ngroups, dtype\u001b[38;5;241m=\u001b[39mnp\u001b[38;5;241m.\u001b[39mint64)\n\u001b[1;32m    578\u001b[0m \u001b[38;5;28;01mif\u001b[39;00m \u001b[38;5;28mself\u001b[39m\u001b[38;5;241m.\u001b[39mhow \u001b[38;5;129;01min\u001b[39;00m [\u001b[38;5;124m\"\u001b[39m\u001b[38;5;124mmin\u001b[39m\u001b[38;5;124m\"\u001b[39m, \u001b[38;5;124m\"\u001b[39m\u001b[38;5;124mmax\u001b[39m\u001b[38;5;124m\"\u001b[39m, \u001b[38;5;124m\"\u001b[39m\u001b[38;5;124mmean\u001b[39m\u001b[38;5;124m\"\u001b[39m, \u001b[38;5;124m\"\u001b[39m\u001b[38;5;124mlast\u001b[39m\u001b[38;5;124m\"\u001b[39m, \u001b[38;5;124m\"\u001b[39m\u001b[38;5;124mfirst\u001b[39m\u001b[38;5;124m\"\u001b[39m]:\n\u001b[0;32m--> 579\u001b[0m     \u001b[43mfunc\u001b[49m\u001b[43m(\u001b[49m\n\u001b[1;32m    580\u001b[0m \u001b[43m        \u001b[49m\u001b[43mout\u001b[49m\u001b[38;5;241;43m=\u001b[39;49m\u001b[43mresult\u001b[49m\u001b[43m,\u001b[49m\n\u001b[1;32m    581\u001b[0m \u001b[43m        \u001b[49m\u001b[43mcounts\u001b[49m\u001b[38;5;241;43m=\u001b[39;49m\u001b[43mcounts\u001b[49m\u001b[43m,\u001b[49m\n\u001b[1;32m    582\u001b[0m \u001b[43m        \u001b[49m\u001b[43mvalues\u001b[49m\u001b[38;5;241;43m=\u001b[39;49m\u001b[43mvalues\u001b[49m\u001b[43m,\u001b[49m\n\u001b[1;32m    583\u001b[0m \u001b[43m        \u001b[49m\u001b[43mlabels\u001b[49m\u001b[38;5;241;43m=\u001b[39;49m\u001b[43mcomp_ids\u001b[49m\u001b[43m,\u001b[49m\n\u001b[1;32m    584\u001b[0m \u001b[43m        \u001b[49m\u001b[43mmin_count\u001b[49m\u001b[38;5;241;43m=\u001b[39;49m\u001b[43mmin_count\u001b[49m\u001b[43m,\u001b[49m\n\u001b[1;32m    585\u001b[0m \u001b[43m        \u001b[49m\u001b[43mmask\u001b[49m\u001b[38;5;241;43m=\u001b[39;49m\u001b[43mmask\u001b[49m\u001b[43m,\u001b[49m\n\u001b[1;32m    586\u001b[0m \u001b[43m        \u001b[49m\u001b[43mresult_mask\u001b[49m\u001b[38;5;241;43m=\u001b[39;49m\u001b[43mresult_mask\u001b[49m\u001b[43m,\u001b[49m\n\u001b[1;32m    587\u001b[0m \u001b[43m        \u001b[49m\u001b[43mis_datetimelike\u001b[49m\u001b[38;5;241;43m=\u001b[39;49m\u001b[43mis_datetimelike\u001b[49m\u001b[43m,\u001b[49m\n\u001b[1;32m    588\u001b[0m \u001b[43m    \u001b[49m\u001b[43m)\u001b[49m\n\u001b[1;32m    589\u001b[0m \u001b[38;5;28;01melif\u001b[39;00m \u001b[38;5;28mself\u001b[39m\u001b[38;5;241m.\u001b[39mhow \u001b[38;5;129;01min\u001b[39;00m [\u001b[38;5;124m\"\u001b[39m\u001b[38;5;124msum\u001b[39m\u001b[38;5;124m\"\u001b[39m]:\n\u001b[1;32m    590\u001b[0m     \u001b[38;5;66;03m# We support datetimelike\u001b[39;00m\n\u001b[1;32m    591\u001b[0m     func(\n\u001b[1;32m    592\u001b[0m         out\u001b[38;5;241m=\u001b[39mresult,\n\u001b[1;32m    593\u001b[0m         counts\u001b[38;5;241m=\u001b[39mcounts,\n\u001b[0;32m   (...)\u001b[0m\n\u001b[1;32m    599\u001b[0m         is_datetimelike\u001b[38;5;241m=\u001b[39mis_datetimelike,\n\u001b[1;32m    600\u001b[0m     )\n",
      "\u001b[0;31mKeyboardInterrupt\u001b[0m: "
     ]
    }
   ],
   "source": [
    "# BiGG Species\n",
    "\n",
    "total_time = 0\n",
    "\n",
    "model_names = []\n",
    "len_names = []\n",
    "num_cands = []\n",
    "num_formulas = []\n",
    "match_scores = []\n",
    "is_correct_included = []\n",
    "inv_num_candidates = []\n",
    "total_recalls = []\n",
    "total_precisions = []\n",
    "#\n",
    "for idx, one_bigg in enumerate(biggs):\n",
    "  if idx % 5 == 0:\n",
    "    print(\"We are at\", idx)\n",
    "  one_fpath = os.path.join(BIGG_DIR, one_bigg)\n",
    "  recom = recommender.Recommender(libsbml_fpath=one_fpath)\n",
    "  specs2evaluate = list(recom.species.exist_annotation_formula.keys())\n",
    "  # run algorithm if there is at least one species to evaluate\n",
    "  if specs2evaluate:\n",
    "    time1 = time.time()\n",
    "    recoms = recom.getSpeciesListRecommendation(pred_ids=specs2evaluate,\n",
    "                                                mssc='top',\n",
    "                                                cutoff=0.0)\n",
    "    time2 = time.time()\n",
    "    pred_time = time2 - time1 \n",
    "    total_time += pred_time\n",
    "    # statistics\n",
    "    refs = {val:recom.species.exist_annotation_formula[val] \\\n",
    "            for val in specs2evaluate}\n",
    "    \n",
    "    preds_raw = {val.id: [k[0] for k in val.candidates] for val in recoms}\n",
    "\n",
    "    preds = {k: list(set([cn.REF_CHEBI2FORMULA[k] \\\n",
    "                          for k in preds_raw[k] if k in cn.REF_CHEBI2FORMULA.keys()])) \\\n",
    "             for k in preds_raw.keys()}\n",
    "    recalls = tools.getRecall(ref=refs, pred=preds, mean=False)\n",
    "    precisions = tools.getPrecision(ref=refs, pred=preds, mean=False)\n",
    "\n",
    "    # one_recom per each species\n",
    "    for one_recom in recoms:\n",
    "      model_names.append(one_bigg)\n",
    "      one_spec = one_recom.id\n",
    "      len_names.append(len(recom.species.getNameToUse(one_spec)))\n",
    "      num_cands.append(len(one_recom.candidates))\n",
    "      num_formulas.append(len(recom.species.formula[one_recom.id]))\n",
    "      match_scores.append(one_recom.candidates[0][1])\n",
    "      if recalls[one_spec] > 0:\n",
    "        is_correct_included.append(1)\n",
    "      else:\n",
    "        is_correct_included.append(0)\n",
    "      inv_num_candidates.append(1/len(one_recom.candidates))\n",
    "      total_recalls.append(recalls[one_spec])\n",
    "      total_precisions.append(precisions[one_spec])\n",
    "\n",
    "bigg_spec_df = pd.DataFrame({'model': model_names,\n",
    "                             'name_length': len_names,\n",
    "                             'num_candidates': num_cands,\n",
    "                             'num_formulas': num_formulas,\n",
    "                             'match_score': match_scores,\n",
    "                             'accuracy': is_correct_included,\n",
    "                             'exactness': inv_num_candidates,\n",
    "                             'recall': total_recalls,\n",
    "                             'precision': total_precisions})\n",
    "\n",
    "print(\"Total time for prediction: %.02f\" % total_time)\n",
    "print(\"Average time for prediction: %.02f\" % (total_time/bigg_spec_df.shape[0]))"
   ]
  },
  {
   "cell_type": "code",
   "execution_count": 25,
   "id": "eefe370f-17b6-49d3-b6bd-ea0ad000aa8f",
   "metadata": {},
   "outputs": [
    {
     "data": {
      "text/plain": [
       "9"
      ]
     },
     "execution_count": 25,
     "metadata": {},
     "output_type": "execute_result"
    }
   ],
   "source": [
    "idx"
   ]
  },
  {
   "cell_type": "code",
   "execution_count": 22,
   "id": "9339409d-7f8a-47e3-aaf4-09403234ebaf",
   "metadata": {},
   "outputs": [
    {
     "data": {
      "text/plain": [
       "(72, 9)"
      ]
     },
     "execution_count": 22,
     "metadata": {},
     "output_type": "execute_result"
    }
   ],
   "source": [
    "# bigg_spec_df.to_csv(os.path.join(ACCURACY_DIR, 'bigg_species_plot_data.csv'), index=False)\n",
    "\n",
    "# bigg_spec_df = pd.read_csv(os.path.join(ACCURACY_DIR, 'bigg_species_plot_data.csv'))\n",
    "bigg_spec_df.shape"
   ]
  },
  {
   "cell_type": "code",
   "execution_count": 23,
   "id": "ac559254-ef09-48d3-a9ea-71376c07e0d7",
   "metadata": {},
   "outputs": [
    {
     "data": {
      "text/html": [
       "<div>\n",
       "<style scoped>\n",
       "    .dataframe tbody tr th:only-of-type {\n",
       "        vertical-align: middle;\n",
       "    }\n",
       "\n",
       "    .dataframe tbody tr th {\n",
       "        vertical-align: top;\n",
       "    }\n",
       "\n",
       "    .dataframe thead th {\n",
       "        text-align: right;\n",
       "    }\n",
       "</style>\n",
       "<table border=\"1\" class=\"dataframe\">\n",
       "  <thead>\n",
       "    <tr style=\"text-align: right;\">\n",
       "      <th></th>\n",
       "      <th>model</th>\n",
       "      <th>name_length</th>\n",
       "      <th>num_candidates</th>\n",
       "      <th>num_formulas</th>\n",
       "      <th>match_score</th>\n",
       "      <th>accuracy</th>\n",
       "      <th>exactness</th>\n",
       "      <th>recall</th>\n",
       "      <th>precision</th>\n",
       "    </tr>\n",
       "  </thead>\n",
       "  <tbody>\n",
       "    <tr>\n",
       "      <th>0</th>\n",
       "      <td>iCHOv1.xml</td>\n",
       "      <td>9</td>\n",
       "      <td>3</td>\n",
       "      <td>1</td>\n",
       "      <td>1.0</td>\n",
       "      <td>1</td>\n",
       "      <td>0.333333</td>\n",
       "      <td>1.0</td>\n",
       "      <td>1.0</td>\n",
       "    </tr>\n",
       "    <tr>\n",
       "      <th>1</th>\n",
       "      <td>iCHOv1.xml</td>\n",
       "      <td>11</td>\n",
       "      <td>3</td>\n",
       "      <td>2</td>\n",
       "      <td>1.0</td>\n",
       "      <td>1</td>\n",
       "      <td>0.333333</td>\n",
       "      <td>1.0</td>\n",
       "      <td>0.5</td>\n",
       "    </tr>\n",
       "    <tr>\n",
       "      <th>2</th>\n",
       "      <td>iCHOv1.xml</td>\n",
       "      <td>11</td>\n",
       "      <td>3</td>\n",
       "      <td>2</td>\n",
       "      <td>1.0</td>\n",
       "      <td>1</td>\n",
       "      <td>0.333333</td>\n",
       "      <td>1.0</td>\n",
       "      <td>0.5</td>\n",
       "    </tr>\n",
       "    <tr>\n",
       "      <th>3</th>\n",
       "      <td>iCHOv1.xml</td>\n",
       "      <td>11</td>\n",
       "      <td>2</td>\n",
       "      <td>1</td>\n",
       "      <td>1.0</td>\n",
       "      <td>1</td>\n",
       "      <td>0.500000</td>\n",
       "      <td>1.0</td>\n",
       "      <td>1.0</td>\n",
       "    </tr>\n",
       "    <tr>\n",
       "      <th>4</th>\n",
       "      <td>iCHOv1.xml</td>\n",
       "      <td>11</td>\n",
       "      <td>2</td>\n",
       "      <td>1</td>\n",
       "      <td>1.0</td>\n",
       "      <td>1</td>\n",
       "      <td>0.500000</td>\n",
       "      <td>1.0</td>\n",
       "      <td>1.0</td>\n",
       "    </tr>\n",
       "  </tbody>\n",
       "</table>\n",
       "</div>"
      ],
      "text/plain": [
       "        model  name_length  num_candidates  num_formulas  match_score  \\\n",
       "0  iCHOv1.xml            9               3             1          1.0   \n",
       "1  iCHOv1.xml           11               3             2          1.0   \n",
       "2  iCHOv1.xml           11               3             2          1.0   \n",
       "3  iCHOv1.xml           11               2             1          1.0   \n",
       "4  iCHOv1.xml           11               2             1          1.0   \n",
       "\n",
       "   accuracy  exactness  recall  precision  \n",
       "0         1   0.333333     1.0        1.0  \n",
       "1         1   0.333333     1.0        0.5  \n",
       "2         1   0.333333     1.0        0.5  \n",
       "3         1   0.500000     1.0        1.0  \n",
       "4         1   0.500000     1.0        1.0  "
      ]
     },
     "execution_count": 23,
     "metadata": {},
     "output_type": "execute_result"
    }
   ],
   "source": [
    "bigg_spec_df.head()"
   ]
  },
  {
   "cell_type": "code",
   "execution_count": 23,
   "id": "2497ad0e-b870-4202-88cc-1caf5305246d",
   "metadata": {},
   "outputs": [
    {
     "data": {
      "image/png": "[encoded data removed]",
      "text/plain": [
       "<Figure size 640x480 with 1 Axes>"
      ]
     },
     "metadata": {},
     "output_type": "display_data"
    }
   ],
   "source": [
    "draw_plot(df=bigg_spec_df,\n",
    "          degen_col='name_length',\n",
    "          val_col='accuracy',\n",
    "          x_label='match score cutoff',\n",
    "          save_path=os.path.join(MANU_FIGURE_DIR, 'f11-accuracy-species-bigg.pdf'))"
   ]
  },
  {
   "cell_type": "code",
   "execution_count": 18,
   "id": "1e09710a-e7e2-4a89-86c0-74fe0212aa44",
   "metadata": {},
   "outputs": [],
   "source": [
    "# draw_plot(df=bigg_spec_df,\n",
    "#           degen_col='name_length',\n",
    "#           val_col='precision',\n",
    "#           x_label='minimum match score',\n",
    "#           save_path=os.path.join(TEMPFIG_DIR, 'bigg_species_precision.png'))"
   ]
  },
  {
   "cell_type": "code",
   "execution_count": null,
   "id": "31015376-eb8a-4ad2-8f75-420344bc5c15",
   "metadata": {},
   "outputs": [],
   "source": []
  },
  {
   "cell_type": "code",
   "execution_count": null,
   "id": "7742583a-8dbc-4405-b2ab-0298fcd36ea0",
   "metadata": {},
   "outputs": [],
   "source": []
  },
  {
   "cell_type": "code",
   "execution_count": 21,
   "id": "e2853cb6-61d5-4546-b262-de3808f0475e",
   "metadata": {},
   "outputs": [],
   "source": [
    "# TODO: (1) DO THE SAME THING WITH (one bigg model with about 1000 species?!\n",
    "# as 108/306 models wanted to be added\n",
    "# (2) do the same two plots of reactions"
   ]
  },
  {
   "cell_type": "code",
   "execution_count": 22,
   "id": "e1212e63-83e4-4a58-8b60-ee5963846e0c",
   "metadata": {},
   "outputs": [],
   "source": [
    "# num_bigg_specs = []\n",
    "# num_bigg_reacs = []\n",
    "# for idx, one_biomd in enumerate(biggs):\n",
    "#   if idx % 30 == 0:\n",
    "#     print(\"We are at\", idx)\n",
    "#   one_fpath = os.path.join(BIGG_DIR, one_biomd)\n",
    "#   recom = recommender.Recommender(libsbml_fpath=one_fpath)\n",
    "#   specs2evaluate = list(recom.species.exist_annotation_formula.keys())\n",
    "#   reacs2evaluate = list(recom.reactions.exist_annotation.keys())\n",
    "#   num_bigg_specs.append(len(specs2evaluate))\n",
    "#   num_bigg_reacs.append(len(reacs2evaluate))"
   ]
  },
  {
   "cell_type": "code",
   "execution_count": 23,
   "id": "d1983f57-cbd6-4170-8d03-158fb135d281",
   "metadata": {},
   "outputs": [],
   "source": [
    "# bigg_df = pd.DataFrame(zip(biggs, num_bigg_specs, num_bigg_reacs), columns=['model', 'species', 'reactions'])\n",
    "# bigg_df.head()"
   ]
  },
  {
   "cell_type": "markdown",
   "id": "2be27afd-f35a-4cbf-8efe-0e469f52d365",
   "metadata": {},
   "source": [
    "## 4. Data & Plots for BiGG Reactions"
   ]
  },
  {
   "cell_type": "code",
   "execution_count": null,
   "id": "a3c52391-0063-4212-9ac5-6fa572c8da71",
   "metadata": {},
   "outputs": [],
   "source": []
  },
  {
   "cell_type": "code",
   "execution_count": 19,
   "id": "89270e86-6b34-4cb0-8e89-1df1bc9a97bc",
   "metadata": {},
   "outputs": [],
   "source": [
    "# # BiGG reactions (by predicting species annotations)\n",
    "# model_names = []\n",
    "# num_rhea_eles = []\n",
    "# num_query_eles = []\n",
    "# num_candidates = []\n",
    "# val_match_scores = []\n",
    "# is_correct_included = []\n",
    "# total_recalls = []\n",
    "# total_precisions = []\n",
    "\n",
    "\n",
    "# for idx, one_bigg in enumerate(biggs):\n",
    "#   if idx % 10 == 0:\n",
    "#     print(\"We are at\", idx)\n",
    "#   one_fpath = os.path.join(BIGG_DIR, one_bigg)\n",
    "#   recom = recommender.Recommender(libsbml_fpath=one_fpath)\n",
    "#   reac2evaluate = list(recom.reactions.exist_annotation.keys())\n",
    "#   if reac2evaluate:  \n",
    "#     recoms = recom.getReactionListRecommendation(pred_ids=reac2evaluate)\n",
    "    \n",
    "#     refs = {val:recom.reactions.exist_annotation[val] \\\n",
    "#             for val in reac2evaluate}   \n",
    "#     preds = {val.id: [k[0] for k in val.candidates] for val in recoms}\n",
    "\n",
    "#     recalls = tools.getRecall(ref=refs, pred=preds, mean=False)\n",
    "#     precisions = tools.getPrecision(ref=refs, pred=preds, mean=False)\n",
    "\n",
    "#     for one_recom in recoms:\n",
    "#       one_reac = one_recom.id\n",
    "#       match_scores = [val[1] for val in one_recom.candidates]\n",
    "#       num_ref_elements = [getRheaElementNum(val[0]) for val in one_recom.candidates]\n",
    "#       #\n",
    "#       mean_num_rhea_elements = np.mean(num_ref_elements)   \n",
    "#       # this is actually the number of reaction components;\n",
    "#       num_query_ele = len(recom.reactions.reaction_components[one_reac])\n",
    "#       num_cands = len(match_scores)\n",
    "#       mean_match_score = np.mean(match_scores)\n",
    "#       #\n",
    "#       model_names.append(one_bigg)\n",
    "#       num_rhea_eles.append(mean_num_rhea_elements)\n",
    "#       num_query_eles.append(num_query_ele)\n",
    "#       num_candidates.append(num_cands)\n",
    "#       val_match_scores.append(mean_match_score)\n",
    "#       if recalls[one_reac] > 0.0:\n",
    "#         is_correct_included.append(1)\n",
    "#       else:\n",
    "#         is_correct_included.append(0)\n",
    "#       total_recalls.append(recalls[one_reac])\n",
    "#       total_precisions.append(precisions[one_reac])\n",
    "        \n",
    "# bigg_reac_df_pred = pd.DataFrame({'model': model_names,\n",
    "#                                   'mean_num_rhea_elements': num_rhea_eles,\n",
    "#                                   'num_query_elements': num_query_eles,\n",
    "#                                   'num_candidates': num_candidates,\n",
    "#                                   'match_score': val_match_scores,\n",
    "#                                   'accuracy': is_correct_included,\n",
    "#                                   'recall': total_recalls,\n",
    "#                                   'precision': total_precisions})\n",
    "# bigg_reac_df_pred.head()"
   ]
  },
  {
   "cell_type": "code",
   "execution_count": 20,
   "id": "625bdad2-fd1f-43a3-812e-c1a5f8cdbc79",
   "metadata": {},
   "outputs": [
    {
     "data": {
      "text/html": [
       "<div>\n",
       "<style scoped>\n",
       "    .dataframe tbody tr th:only-of-type {\n",
       "        vertical-align: middle;\n",
       "    }\n",
       "\n",
       "    .dataframe tbody tr th {\n",
       "        vertical-align: top;\n",
       "    }\n",
       "\n",
       "    .dataframe thead th {\n",
       "        text-align: right;\n",
       "    }\n",
       "</style>\n",
       "<table border=\"1\" class=\"dataframe\">\n",
       "  <thead>\n",
       "    <tr style=\"text-align: right;\">\n",
       "      <th></th>\n",
       "      <th>model</th>\n",
       "      <th>mean_num_rhea_elements</th>\n",
       "      <th>num_query_elements</th>\n",
       "      <th>num_candidates</th>\n",
       "      <th>match_score</th>\n",
       "      <th>accuracy</th>\n",
       "      <th>recall</th>\n",
       "      <th>precision</th>\n",
       "    </tr>\n",
       "  </thead>\n",
       "  <tbody>\n",
       "    <tr>\n",
       "      <th>0</th>\n",
       "      <td>iCHOv1.xml</td>\n",
       "      <td>5.0</td>\n",
       "      <td>4</td>\n",
       "      <td>2</td>\n",
       "      <td>1.0</td>\n",
       "      <td>0</td>\n",
       "      <td>0.0</td>\n",
       "      <td>0.0</td>\n",
       "    </tr>\n",
       "    <tr>\n",
       "      <th>1</th>\n",
       "      <td>iCHOv1.xml</td>\n",
       "      <td>5.0</td>\n",
       "      <td>5</td>\n",
       "      <td>2</td>\n",
       "      <td>0.8</td>\n",
       "      <td>0</td>\n",
       "      <td>0.0</td>\n",
       "      <td>0.0</td>\n",
       "    </tr>\n",
       "    <tr>\n",
       "      <th>2</th>\n",
       "      <td>iCHOv1.xml</td>\n",
       "      <td>4.0</td>\n",
       "      <td>4</td>\n",
       "      <td>1</td>\n",
       "      <td>1.0</td>\n",
       "      <td>1</td>\n",
       "      <td>0.5</td>\n",
       "      <td>1.0</td>\n",
       "    </tr>\n",
       "    <tr>\n",
       "      <th>3</th>\n",
       "      <td>iCHOv1.xml</td>\n",
       "      <td>5.0</td>\n",
       "      <td>5</td>\n",
       "      <td>2</td>\n",
       "      <td>0.8</td>\n",
       "      <td>0</td>\n",
       "      <td>0.0</td>\n",
       "      <td>0.0</td>\n",
       "    </tr>\n",
       "    <tr>\n",
       "      <th>4</th>\n",
       "      <td>iCHOv1.xml</td>\n",
       "      <td>4.0</td>\n",
       "      <td>5</td>\n",
       "      <td>1</td>\n",
       "      <td>1.0</td>\n",
       "      <td>0</td>\n",
       "      <td>0.0</td>\n",
       "      <td>0.0</td>\n",
       "    </tr>\n",
       "  </tbody>\n",
       "</table>\n",
       "</div>"
      ],
      "text/plain": [
       "        model  mean_num_rhea_elements  num_query_elements  num_candidates  \\\n",
       "0  iCHOv1.xml                     5.0                   4               2   \n",
       "1  iCHOv1.xml                     5.0                   5               2   \n",
       "2  iCHOv1.xml                     4.0                   4               1   \n",
       "3  iCHOv1.xml                     5.0                   5               2   \n",
       "4  iCHOv1.xml                     4.0                   5               1   \n",
       "\n",
       "   match_score  accuracy  recall  precision  \n",
       "0          1.0         0     0.0        0.0  \n",
       "1          0.8         0     0.0        0.0  \n",
       "2          1.0         1     0.5        1.0  \n",
       "3          0.8         0     0.0        0.0  \n",
       "4          1.0         0     0.0        0.0  "
      ]
     },
     "execution_count": 20,
     "metadata": {},
     "output_type": "execute_result"
    }
   ],
   "source": [
    "# bigg_reac_df_pred.to_csv(os.path.join(ACCURACY_DIR, 'bigg_reactions_plot_data_pred_species.csv'), index=False)\n",
    "\n",
    "bigg_reac_df_pred = pd.read_csv(os.path.join(ACCURACY_DIR, 'bigg_reactions_plot_data_pred_species.csv'))\n",
    "bigg_reac_df_pred.head()"
   ]
  },
  {
   "cell_type": "code",
   "execution_count": 21,
   "id": "d8222e97-00c8-41ad-aebf-dad1296a49b4",
   "metadata": {},
   "outputs": [
    {
     "data": {
      "text/plain": [
       "108"
      ]
     },
     "execution_count": 21,
     "metadata": {},
     "output_type": "execute_result"
    }
   ],
   "source": [
    "len(np.unique(bigg_reac_df_pred['model']))"
   ]
  },
  {
   "cell_type": "code",
   "execution_count": 22,
   "id": "c4794757-78b2-4b71-8cd8-58679e50481b",
   "metadata": {},
   "outputs": [
    {
     "data": {
      "image/png": "[encoded data removed]",
      "text/plain": [
       "<Figure size 640x480 with 1 Axes>"
      ]
     },
     "metadata": {},
     "output_type": "display_data"
    }
   ],
   "source": [
    "draw_plot(df=bigg_reac_df_pred,\n",
    "          degen_col='num_query_elements',\n",
    "          val_col='accuracy',\n",
    "          x_label='match score cutoff',\n",
    "          save_path=os.path.join(MANU_FIGURE_DIR, 'f12-accuracy-reactions-bigg.pdf'))"
   ]
  },
  {
   "cell_type": "code",
   "execution_count": 24,
   "id": "920c2879-7092-4769-ab72-b59555ab1b31",
   "metadata": {},
   "outputs": [],
   "source": [
    "# draw_plot(df=bigg_reac_df_pred,\n",
    "#           degen_col='num_query_elements',\n",
    "#           val_col='precision',\n",
    "#           x_label='minimum match score',\n",
    "#           save_path=os.path.join(TEMPFIG_DIR, 'bigg_reactions_precision_pred_species.png'))"
   ]
  },
  {
   "cell_type": "code",
   "execution_count": null,
   "id": "699e993f-d140-43d9-95d4-629915348a61",
   "metadata": {},
   "outputs": [],
   "source": []
  },
  {
   "cell_type": "code",
   "execution_count": 25,
   "id": "11d5d81b-7e6c-4e6b-a808-1c367132beff",
   "metadata": {},
   "outputs": [],
   "source": [
    "# # BiGG reactions; using existing species annotations; \n",
    "# model_names = []\n",
    "# num_rhea_eles = []\n",
    "# num_query_eles = []\n",
    "# num_candidates = []\n",
    "# val_match_scores = []\n",
    "# is_correct_included = []\n",
    "# total_recalls = []\n",
    "# total_precisions = []\n",
    "\n",
    "# # for idx, one_bigg in enumerate(['e_coli_core.xml']):\n",
    "\n",
    "# for idx, one_bigg in enumerate(biggs):\n",
    "#   if idx % 10 == 0:\n",
    "#     print(\"We are at: %d\" % idx)\n",
    "#   one_fpath = os.path.join(BIGG_DIR, one_bigg)\n",
    "#   recom = recommender.Recommender(libsbml_fpath=one_fpath)\n",
    "#   reacs2eval_raw = list(recom.reactions.exist_annotation.keys())\n",
    "#   reacs2eval = []\n",
    "#   for one_r in reacs2eval_raw: \n",
    "#     comps = recom.reactions.reaction_components[one_r]\n",
    "#     if all([val in recom.species.exist_annotation_formula.keys() \\\n",
    "#               for val in comps]):\n",
    "#       reacs2eval.append(one_r)\n",
    "#   res = recom.reactions.predictAnnotation(inp_spec_dict=recom.species.exist_annotation_formula,\n",
    "#                                           inp_reac_list=reacs2eval,\n",
    "#                                           inp_ref_mat=ra.REF_MAT,\n",
    "#                                           update=False)\n",
    "\n",
    "#   refs = {val:recom.reactions.exist_annotation[val] \\\n",
    "#           for val in reacs2eval}   \n",
    "#   preds = res['candidates']\n",
    "#   recalls = tools.getRecall(ref=refs, pred=preds, mean=False) \n",
    "#   precisions = tools.getPrecision(ref=refs, pred=preds, mean=False)    \n",
    "      \n",
    "#   for one_k in res['match_score']:\n",
    "#     one_reac = one_k\n",
    "#     match_scores = [val[1] for val in res['match_score'][one_k]]\n",
    "#     num_ref_elements = [getRheaElementNum(val) for val in res['candidates'][one_k]]\n",
    "#     mean_num_rhea_elements = np.mean(num_ref_elements)   \n",
    "#     num_query_ele = len(recom.reactions.reaction_components[one_reac])\n",
    "#     num_cands = len(match_scores)\n",
    "#     mean_match_score = np.mean(match_scores)\n",
    "#     model_names.append(one_bigg)\n",
    "#     num_rhea_eles.append(mean_num_rhea_elements)\n",
    "#     num_query_eles.append(num_query_ele)\n",
    "#     num_candidates.append(num_cands)\n",
    "#     val_match_scores.append(mean_match_score)\n",
    "#     if any(set(res['candidates'][one_k]).intersection(recom.reactions.exist_annotation[one_k])):\n",
    "#       is_correct_included.append(1)\n",
    "#     else:\n",
    "#       is_correct_included.append(0)\n",
    "    \n",
    "#     total_recalls.append(recalls[one_reac])\n",
    "#     total_precisions.append(precisions[one_reac])\n",
    "\n",
    "         \n",
    "# bigg_reac_df_exist = pd.DataFrame({'model': model_names,\n",
    "#                                    'mean_num_rhea_elements': num_rhea_eles,\n",
    "#                                    'num_query_elements': num_query_eles,\n",
    "#                                    'num_candidates': num_candidates,\n",
    "#                                    'match_score': val_match_scores,\n",
    "#                                    'accuracy': is_correct_included,\n",
    "#                                    'recall': total_recalls,\n",
    "#                                    'precision': total_precisions})\n",
    "# bigg_reac_df_exist.tail()"
   ]
  },
  {
   "cell_type": "code",
   "execution_count": 26,
   "id": "72753fbf-4346-42a8-9b33-740839af6107",
   "metadata": {},
   "outputs": [],
   "source": [
    "# len(np.unique(bigg_reac_df_exist['model']))"
   ]
  },
  {
   "cell_type": "code",
   "execution_count": 54,
   "id": "d4ffc73b-f574-4069-977c-a57ffa55d290",
   "metadata": {},
   "outputs": [],
   "source": [
    "# bigg_reac_df_exist.to_csv(os.path.join(ACCURACY_DIR, 'bigg_reactions_plot_data_exist_species.csv'), index=False)\n",
    "\n",
    "# # bigg_reac_test_df_exist = pd.read_csv(os.path.join(ACCURACY_DIR, 'bigg_reactions_plot_data_exist_species.csv'))\n",
    "# # bigg_reac_test_df_exist.shape"
   ]
  },
  {
   "cell_type": "code",
   "execution_count": 27,
   "id": "5b25a0e7-725c-4a10-be26-8f5567eda58c",
   "metadata": {},
   "outputs": [],
   "source": [
    "# draw_plot(df=bigg_reac_df_exist,\n",
    "#           degen_col='num_query_elements',\n",
    "#           val_col='accuracy',\n",
    "#           x_label='minimum match score',\n",
    "#           save_path=os.path.join(TEMPFIG_DIR, 'bigg_reactions_accuracy_exist_species.png'))"
   ]
  },
  {
   "cell_type": "code",
   "execution_count": 28,
   "id": "19515657-863d-44b8-a9b4-dfefb4d3c1bb",
   "metadata": {},
   "outputs": [],
   "source": [
    "# draw_plot(df=bigg_reac_df_exist,\n",
    "#           degen_col='num_query_elements',\n",
    "#           val_col='precision',\n",
    "#           x_label='minimum match score',\n",
    "#           save_path=os.path.join(TEMPFIG_DIR, 'bigg_reactions_precision_exist_species.png'))"
   ]
  },
  {
   "cell_type": "code",
   "execution_count": null,
   "id": "f14f5ebd-b830-4e48-8f33-6f05ec95e906",
   "metadata": {},
   "outputs": [],
   "source": []
  },
  {
   "cell_type": "markdown",
   "id": "3f54c531-350f-4839-9db6-c78385c1f53c",
   "metadata": {},
   "source": [
    "## 5. Histograms of match scores"
   ]
  },
  {
   "cell_type": "code",
   "execution_count": 29,
   "id": "72f56081-14b9-4238-a716-a4e6a10001cf",
   "metadata": {},
   "outputs": [],
   "source": [
    "# # histograms: biomodels species\n",
    "# plt.hist(biomd_spec_df['match_score'])"
   ]
  },
  {
   "cell_type": "code",
   "execution_count": 30,
   "id": "19fa143c-5118-4455-a9fd-681680dde0a4",
   "metadata": {},
   "outputs": [],
   "source": [
    "def draw_match_score_bar(df, save_path):\n",
    "  \"\"\"\n",
    "  Draw a plot and save it\n",
    "  \n",
    "  Parameters\n",
    "  ----------\n",
    "  df: pandas.DataFrame\n",
    "      Should have 'match_score' column\n",
    "  \n",
    "  save_path: str\n",
    "      File path to save it. \n",
    "  \"\"\"\n",
    "  xs = []\n",
    "  ys = []\n",
    "  total_elements = df.shape[0]\n",
    "  for min_score in np.arange(0.0, 1.01, step=0.01):\n",
    "    xs.append(min_score)\n",
    "    ys.append(df[df['match_score']<=min_score].shape[0]/total_elements)\n",
    "  plt.bar(xs, ys, width=0.008)\n",
    "  plt.xlim([-0.05, 1.05])\n",
    "  plt.xlabel(\"match score cutoff\")\n",
    "  plt.ylabel(\"cumulative probability\")\n",
    "\n",
    "  plt.savefig(save_path, dpi=300, bbox_inches='tight', pad_inches=0.0)\n",
    "  plt.show()"
   ]
  },
  {
   "cell_type": "code",
   "execution_count": 32,
   "id": "ddf8f802-b826-44a5-b40c-9ed91c3a55d3",
   "metadata": {},
   "outputs": [
    {
     "data": {
      "text/plain": [
       "'/Users/woosubshin/Desktop/AutomateAnnotation/writeup/AMAS/Supple_figures_new'"
      ]
     },
     "execution_count": 32,
     "metadata": {},
     "output_type": "execute_result"
    }
   ],
   "source": [
    "SUPPL_FIGURE_DIR"
   ]
  },
  {
   "cell_type": "code",
   "execution_count": 33,
   "id": "afcf9e94-8cc8-46ec-b125-5a32a843f06e",
   "metadata": {},
   "outputs": [
    {
     "data": {
      "image/png": "[encoded data removed]",
      "text/plain": [
       "<Figure size 640x480 with 1 Axes>"
      ]
     },
     "metadata": {},
     "output_type": "display_data"
    }
   ],
   "source": [
    "# cumulative distribution of match score: biomodel species\n",
    "draw_match_score_bar(df=biomd_spec_df,\n",
    "                     save_path=os.path.join(SUPPL_FIGURE_DIR, \n",
    "                                            'f21-matchscore-species-biomd.pdf'))"
   ]
  },
  {
   "cell_type": "code",
   "execution_count": 34,
   "id": "f09d83ae-29c2-4bb5-a3de-902f917ce984",
   "metadata": {},
   "outputs": [
    {
     "data": {
      "image/png": "[encoded data removed]",
      "text/plain": [
       "<Figure size 640x480 with 1 Axes>"
      ]
     },
     "metadata": {},
     "output_type": "display_data"
    }
   ],
   "source": [
    "# cumulative distribution of match score: biomodel species\n",
    "draw_match_score_bar(df=biomd_reac_df,\n",
    "                     save_path=os.path.join(SUPPL_FIGURE_DIR,\n",
    "                                            'f22-matchscore-reactions-biomd.pdf'))"
   ]
  },
  {
   "cell_type": "code",
   "execution_count": 35,
   "id": "15c4aae5-248e-4836-82e1-e8e5d43327f7",
   "metadata": {},
   "outputs": [
    {
     "data": {
      "image/png": "[encoded data removed]",
      "text/plain": [
       "<Figure size 640x480 with 1 Axes>"
      ]
     },
     "metadata": {},
     "output_type": "display_data"
    }
   ],
   "source": [
    "# cumulative distribution of match score: biomodel reactions\n",
    "draw_match_score_bar(df=bigg_spec_df,\n",
    "                     save_path=os.path.join(SUPPL_FIGURE_DIR,\n",
    "                                            'f11-matchscore-species-bigg.pdf'))"
   ]
  },
  {
   "cell_type": "code",
   "execution_count": 37,
   "id": "c5a55b57-8c80-4fbb-ad77-50efe563bb20",
   "metadata": {},
   "outputs": [
    {
     "data": {
      "image/png": "[encoded data removed]",
      "text/plain": [
       "<Figure size 640x480 with 1 Axes>"
      ]
     },
     "metadata": {},
     "output_type": "display_data"
    }
   ],
   "source": [
    "# cumulative distribution of match score: bigg reactions, pred_species\n",
    "draw_match_score_bar(df=bigg_reac_df_pred,\n",
    "                     save_path=os.path.join(SUPPL_FIGURE_DIR,\n",
    "                                            'f12-matchscore-reactions-bigg.pdf'))"
   ]
  },
  {
   "cell_type": "code",
   "execution_count": 36,
   "id": "de843589-14ea-411c-b844-51cc25a568c1",
   "metadata": {},
   "outputs": [],
   "source": [
    "# # cumulative distribution of match score: bigg reactions, pred_species\n",
    "# draw_match_score_bar(df=bigg_reac_df_exist,\n",
    "#                      save_path=os.path.join(TEMPFIG_DIR, 'bigg_reactions_existspecies_cdf_match_score.png'))"
   ]
  },
  {
   "cell_type": "code",
   "execution_count": null,
   "id": "847082ac-5027-4c94-8985-23946a51da77",
   "metadata": {},
   "outputs": [],
   "source": []
  },
  {
   "cell_type": "markdown",
   "id": "e50b9548-71fe-4725-ae0d-1e5de250c8d4",
   "metadata": {},
   "source": [
    "## *Proportion of null predictions"
   ]
  },
  {
   "cell_type": "code",
   "execution_count": 38,
   "id": "76304534-cf1a-4192-94d9-5a29a37d6eda",
   "metadata": {},
   "outputs": [],
   "source": [
    "def proportion_null_pred(df):\n",
    "  \"\"\"\n",
    "  Compute proportion of null predictions\n",
    "  \n",
    "  Parameters\n",
    "  ----------\n",
    "  df: pandas.DataFrame\n",
    "      Should have 'match_score' column\n",
    "  \"\"\"\n",
    "  xs = []\n",
    "  ys = []\n",
    "  total_elements = df.shape[0]\n",
    "  for min_score in np.arange(1.00, 0.45, step=-0.05):\n",
    "    xs.append(min_score)\n",
    "    predicted_obs = df[df['match_score']>=min_score].shape[0]\n",
    "    ys.append(1.0 - predicted_obs/total_elements)\n",
    "  comb_list = list(zip(xs, ys))\n",
    "  for tup in comb_list:\n",
    "    # print(\"%.02f: %.02f\" % (tup[0], tup[1]))\n",
    "    print(\"%.02f\" % (tup[1]))\n",
    "  return comb_list"
   ]
  },
  {
   "cell_type": "code",
   "execution_count": 39,
   "id": "3da272da-368c-464f-97db-f7a9133aee2a",
   "metadata": {},
   "outputs": [
    {
     "name": "stdout",
     "output_type": "stream",
     "text": [
      "0.77\n",
      "0.77\n",
      "0.75\n",
      "0.74\n",
      "0.63\n",
      "0.59\n",
      "0.55\n",
      "0.48\n",
      "0.35\n",
      "0.32\n",
      "0.28\n"
     ]
    }
   ],
   "source": [
    "res = proportion_null_pred(df=bigg_reac_df_pred)"
   ]
  },
  {
   "cell_type": "code",
   "execution_count": null,
   "id": "c360d936-d234-4c78-bf51-fc6b1bb48003",
   "metadata": {},
   "outputs": [],
   "source": []
  },
  {
   "cell_type": "markdown",
   "id": "f9b0bab7-4ce9-4188-8877-a4a64c75270c",
   "metadata": {},
   "source": [
    "## \"Exactness\" plots"
   ]
  },
  {
   "cell_type": "code",
   "execution_count": 41,
   "id": "62f5a469-9e45-4104-a7fa-84b1d5a8b88f",
   "metadata": {},
   "outputs": [],
   "source": [
    "# EXACTNESS_DIR = os.path.join(TEMPFIG_DIR, 'plots/exactness_scatter')"
   ]
  },
  {
   "cell_type": "code",
   "execution_count": 42,
   "id": "97fa5a6a-31fb-471d-a4ba-08809a9161b4",
   "metadata": {},
   "outputs": [],
   "source": [
    "def draw_exact_plot(df, degen_col, val_col, x_label, save_path):\n",
    "  \"\"\"\n",
    "  Draw an exactness pot and save it\n",
    "  \n",
    "  Parameters\n",
    "  ----------\n",
    "  df: pandas.DataFrame\n",
    "  \n",
    "  degen_col: str\n",
    "      Column name for degenerate case\n",
    "      \n",
    "  val_col: str\n",
    "      Column name to compute exactness\n",
    "      \n",
    "  x_lavel: str\n",
    "      Name of X axis\n",
    "  \n",
    "  save_path: str\n",
    "      File path to save it. \n",
    "  \"\"\"\n",
    "  cutoffs = np.arange(0.0, 1.05, step=0.001)\n",
    "  vals = dict()\n",
    "  for one_degen in range(0, 5):\n",
    "    ys = []\n",
    "    xs = []\n",
    "    val_tuples = []\n",
    "    cut_df = df[df[degen_col]>one_degen]\n",
    "    for one_c in cutoffs:\n",
    "      xs.append(one_c)\n",
    "      sub_df = cut_df[cut_df['match_score']>=one_c]\n",
    "      ave_exactness = np.mean(1/sub_df[val_col])\n",
    "      ys.append(ave_exactness)\n",
    "      # val_tuples.append((one_c, ave_exactness))\n",
    "    vals[str(one_degen)] = val_tuples\n",
    "    plt.scatter(xs, ys, s=5, label='reject: <=%d'%one_degen)\n",
    "  plt.legend(loc='lower left')\n",
    "  plt.ylim([-0.05,1.05])\n",
    "  plt.xlabel(x_label)\n",
    "  plt.ylabel('exactness')\n",
    "  plt.savefig(save_path, dpi=300, bbox_inches='tight', pad_inches=0.0)\n",
    "  plt.show()"
   ]
  },
  {
   "cell_type": "code",
   "execution_count": 45,
   "id": "88776003-04b8-429b-a4ba-18f474bff4a9",
   "metadata": {},
   "outputs": [
    {
     "data": {
      "image/png": "[encoded data removed]",
      "text/plain": [
       "<Figure size 640x480 with 1 Axes>"
      ]
     },
     "metadata": {},
     "output_type": "display_data"
    }
   ],
   "source": [
    "draw_exact_plot(df=biomd_spec_df,\n",
    "                degen_col='name_length',\n",
    "                val_col='num_formulas',\n",
    "                x_label='match score cutoff',\n",
    "                save_path=os.path.join(SUPPL_FIGURE_DIR,\n",
    "                                       'f21-exactness-species-biomd.pdf'))"
   ]
  },
  {
   "cell_type": "code",
   "execution_count": 273,
   "id": "46c007c9-e42b-49dc-a4d8-9428ce54cb33",
   "metadata": {},
   "outputs": [],
   "source": [
    "# almost same as precision, but exactness has a much higher starting point; \n",
    "# some valules have large predicted sets (and it still has a correct valule)"
   ]
  },
  {
   "cell_type": "code",
   "execution_count": 46,
   "id": "73ad4c78-35c1-46ec-b45b-acac7b372fbb",
   "metadata": {},
   "outputs": [
    {
     "data": {
      "image/png": "[encoded data removed]",
      "text/plain": [
       "<Figure size 640x480 with 1 Axes>"
      ]
     },
     "metadata": {},
     "output_type": "display_data"
    }
   ],
   "source": [
    "draw_exact_plot(df=biomd_reac_df,\n",
    "                degen_col='num_query_elements',\n",
    "                val_col='num_candidates',\n",
    "                x_label='match score cutoff',\n",
    "                save_path=os.path.join(SUPPL_FIGURE_DIR,\n",
    "                                       'f22-exactness-reactions-biomd.pdf'))"
   ]
  },
  {
   "cell_type": "code",
   "execution_count": 48,
   "id": "0bc4b005-3b0b-4983-9c84-c212ee145e6d",
   "metadata": {},
   "outputs": [
    {
     "data": {
      "image/png": "[encoded data removed]",
      "text/plain": [
       "<Figure size 640x480 with 1 Axes>"
      ]
     },
     "metadata": {},
     "output_type": "display_data"
    }
   ],
   "source": [
    "draw_exact_plot(df=bigg_spec_df,\n",
    "                degen_col='name_length',\n",
    "                val_col='num_formulas',\n",
    "                x_label='match score cutoff',\n",
    "                save_path=os.path.join(SUPPL_FIGURE_DIR,\n",
    "                                       'f11-exactness-species-bigg.pdf'))"
   ]
  },
  {
   "cell_type": "code",
   "execution_count": 49,
   "id": "014ba6b7-0aa9-43ec-9b53-ccc8f2c4a23e",
   "metadata": {},
   "outputs": [],
   "source": [
    "# draw_exact_plot(df=bigg_reac_df_exist,\n",
    "#                 degen_col='num_query_elements',\n",
    "#                 val_col='num_candidates',\n",
    "#                 x_label='minimum match score',\n",
    "#                 save_path=os.path.join(EXACTNESS_DIR, 'bigg_reactions_exactness_exist_species.png'))"
   ]
  },
  {
   "cell_type": "code",
   "execution_count": null,
   "id": "e7a6a4f6-395f-461d-885f-43b38b427fdf",
   "metadata": {},
   "outputs": [],
   "source": []
  },
  {
   "cell_type": "code",
   "execution_count": 50,
   "id": "e14823ad-4856-4f15-b627-46ea1514644c",
   "metadata": {},
   "outputs": [
    {
     "data": {
      "image/png": "[encoded data removed]",
      "text/plain": [
       "<Figure size 640x480 with 1 Axes>"
      ]
     },
     "metadata": {},
     "output_type": "display_data"
    }
   ],
   "source": [
    "draw_exact_plot(df=bigg_reac_df_pred,\n",
    "                degen_col='num_query_elements',\n",
    "                val_col='num_candidates',\n",
    "                x_label='match score cutoff',\n",
    "                save_path=os.path.join(SUPPL_FIGURE_DIR,\n",
    "                                       'f12-exactness-reactions-bigg.pdf'))"
   ]
  },
  {
   "cell_type": "code",
   "execution_count": null,
   "id": "d57bba6c-81b0-44a9-a4cc-31132c8e8a1c",
   "metadata": {},
   "outputs": [],
   "source": []
  },
  {
   "cell_type": "markdown",
   "id": "efcc4f38-f429-4840-940c-7aa928e21f36",
   "metadata": {},
   "source": [
    "## All Combined Bar plots"
   ]
  },
  {
   "cell_type": "code",
   "execution_count": 51,
   "id": "ff9e0cef-0302-4adc-b589-f9bd6573be12",
   "metadata": {},
   "outputs": [],
   "source": [
    "# COMB_BARS_DIR = '/Usears/woosubs/Desktop/AutomateAnnotation/AMAS_suppl/figure_files/temp/plots/all_comb_bars'"
   ]
  },
  {
   "cell_type": "code",
   "execution_count": 52,
   "id": "27c45a99-f8a1-4fe2-b7d1-a3ad2adf810e",
   "metadata": {
    "tags": []
   },
   "outputs": [],
   "source": [
    "plot_min_scores = [0.4, 0.8, 0.9, 0.95]\n",
    "\n",
    "def getCombData(df,\n",
    "                degen_col,\n",
    "                degen_cut,\n",
    "                val_col,\n",
    "                min_scores=plot_min_scores):\n",
    "  \"\"\"\n",
    "  Get data to draw bar plots describing\n",
    "  accuracy, exactness, and nonempty. \n",
    "  \n",
    "  \n",
    "  Parameters\n",
    "  ----------\n",
    "  df: pandas.DataFrame\n",
    "  \n",
    "  degen_col: str\n",
    "      Column name for degenerate case\n",
    "\n",
    "  degen_cut: int\n",
    "      Number of degenerate cases\n",
    "      (only observations with higher values\n",
    "      willl be chosen)\n",
    "\n",
    "  val_col: str\n",
    "      Column name to compute exactness\n",
    "      \n",
    "  min_scores: list-float\n",
    "      List of minimum match scores\n",
    "      \n",
    "  Returns\n",
    "  -------\n",
    "  pandas.DataFrame\n",
    "  \"\"\"\n",
    "  min_accuracy = []\n",
    "  min_exactness = []\n",
    "  prop_nonempty = []\n",
    "  cut_df = df[df[degen_col]>degen_cut]\n",
    "  for one_c in min_scores:\n",
    "    sub_df = cut_df[cut_df['match_score']>=one_c]\n",
    "    min_accuracy.append(np.mean(sub_df['accuracy']))\n",
    "    min_exactness.append(np.mean(1/sub_df[val_col]))\n",
    "    prop_nonempty.append(sub_df.shape[0]/cut_df.shape[0])\n",
    "  res_dict = {'match score cutoff': min_scores,\n",
    "              'accuracy': min_accuracy,\n",
    "              'exactness': min_exactness,\n",
    "              'nonempty': prop_nonempty}\n",
    "  comb_df = pd.DataFrame(res_dict)\n",
    "  return comb_df\n",
    "\n",
    "def getCombBars(df, save_path):\n",
    "  \"\"\"\n",
    "  Draw combined bar graph\n",
    "  and save it. \n",
    "  \n",
    "  Parameters\n",
    "  ----------\n",
    "  df: pandas.DataFrame\n",
    "  \n",
    "  save_path: str\n",
    "  \"\"\"\n",
    "  min_scores=[str(val) for val in plot_min_scores]\n",
    "  ind = np.arange(len(min_scores))\n",
    "  # Figure size\n",
    "  plt.figure(figsize=(10,5))\n",
    "  # Width of a bar \n",
    "  width = 0.17       \n",
    "\n",
    "  # Plotting\n",
    "  plt.bar(ind, df['accuracy'], width, label='accuracy')\n",
    "  plt.bar(ind + width + 0.01, df['exactness'], width, label='exactness')\n",
    "  plt.bar(ind + width*2 + 0.02, df['nonempty'], width, label='nonempty')\n",
    "  plt.xticks(ind + width + 0.01, min_scores)\n",
    "  plt.ylim([0,1.23])\n",
    "  plt.yticks(np.arange(0.0, 1.2, step=0.2))\n",
    "  plt.xlabel('match score cutoff')\n",
    "  plt.legend()\n",
    "  plt.savefig(save_path, dpi=300, bbox_inches='tight', pad_inches=0.0)\n",
    "  plt.show()"
   ]
  },
  {
   "cell_type": "code",
   "execution_count": 53,
   "id": "99fa6c9f-c0b8-43c4-9518-42e938e8c23c",
   "metadata": {},
   "outputs": [],
   "source": [
    "bars_biomd_spec = getCombData(df=biomd_spec_df,\n",
    "                  degen_col='name_length',\n",
    "                  degen_cut=2,\n",
    "                  val_col='num_formulas')\n",
    "\n",
    "bars_bigg_spec =  getCombData(df=bigg_spec_df,\n",
    "                  degen_col='name_length',\n",
    "                  degen_cut=2,\n",
    "                  val_col='num_formulas')\n",
    "\n",
    "bars_biomd_reac = getCombData(df=biomd_reac_df,\n",
    "                  degen_col='num_query_elements',\n",
    "                  degen_cut=2,\n",
    "                  val_col='num_candidates')\n",
    "\n",
    "# bars_bigg_reac_exist = getCombData(df=bigg_reac_df_exist,\n",
    "#                        degen_col='num_query_elements',\n",
    "#                        degen_cut=2,\n",
    "#                        val_col='num_candidates')\n",
    "\n",
    "bars_bigg_reac = getCombData(df=bigg_reac_df_pred,\n",
    "                             degen_col='num_query_elements',\n",
    "                             degen_cut=2,\n",
    "                             val_col='num_candidates')\n",
    "\n"
   ]
  },
  {
   "cell_type": "code",
   "execution_count": 54,
   "id": "7e1a2721-cc51-41b9-88cf-ac24a469fefe",
   "metadata": {},
   "outputs": [
    {
     "data": {
      "text/html": [
       "<div>\n",
       "<style scoped>\n",
       "    .dataframe tbody tr th:only-of-type {\n",
       "        vertical-align: middle;\n",
       "    }\n",
       "\n",
       "    .dataframe tbody tr th {\n",
       "        vertical-align: top;\n",
       "    }\n",
       "\n",
       "    .dataframe thead th {\n",
       "        text-align: right;\n",
       "    }\n",
       "</style>\n",
       "<table border=\"1\" class=\"dataframe\">\n",
       "  <thead>\n",
       "    <tr style=\"text-align: right;\">\n",
       "      <th></th>\n",
       "      <th>match score cutoff</th>\n",
       "      <th>accuracy</th>\n",
       "      <th>exactness</th>\n",
       "      <th>nonempty</th>\n",
       "    </tr>\n",
       "  </thead>\n",
       "  <tbody>\n",
       "    <tr>\n",
       "      <th>0</th>\n",
       "      <td>0.40</td>\n",
       "      <td>0.612794</td>\n",
       "      <td>0.839696</td>\n",
       "      <td>1.000000</td>\n",
       "    </tr>\n",
       "    <tr>\n",
       "      <th>1</th>\n",
       "      <td>0.80</td>\n",
       "      <td>0.616976</td>\n",
       "      <td>0.840514</td>\n",
       "      <td>0.993222</td>\n",
       "    </tr>\n",
       "    <tr>\n",
       "      <th>2</th>\n",
       "      <td>0.90</td>\n",
       "      <td>0.666823</td>\n",
       "      <td>0.850514</td>\n",
       "      <td>0.903410</td>\n",
       "    </tr>\n",
       "    <tr>\n",
       "      <th>3</th>\n",
       "      <td>0.95</td>\n",
       "      <td>0.773660</td>\n",
       "      <td>0.838373</td>\n",
       "      <td>0.743063</td>\n",
       "    </tr>\n",
       "  </tbody>\n",
       "</table>\n",
       "</div>"
      ],
      "text/plain": [
       "   match score cutoff  accuracy  exactness  nonempty\n",
       "0                0.40  0.612794   0.839696  1.000000\n",
       "1                0.80  0.616976   0.840514  0.993222\n",
       "2                0.90  0.666823   0.850514  0.903410\n",
       "3                0.95  0.773660   0.838373  0.743063"
      ]
     },
     "execution_count": 54,
     "metadata": {},
     "output_type": "execute_result"
    }
   ],
   "source": [
    "bars_biomd_spec"
   ]
  },
  {
   "cell_type": "code",
   "execution_count": 55,
   "id": "835cd6f1-f0cf-41b6-bac2-563bb7a2bb28",
   "metadata": {},
   "outputs": [
    {
     "data": {
      "image/png": "[encoded data removed]",
      "text/plain": [
       "<Figure size 1000x500 with 1 Axes>"
      ]
     },
     "metadata": {},
     "output_type": "display_data"
    }
   ],
   "source": [
    "getCombBars(df=bars_biomd_spec,\n",
    "            save_path=os.path.join(MANU_FIGURE_DIR,\n",
    "                                   'f21-bars-species-biomd.pdf'))"
   ]
  },
  {
   "cell_type": "code",
   "execution_count": 56,
   "id": "a131dd1e-565b-4ed1-b211-4d54f048a84c",
   "metadata": {},
   "outputs": [
    {
     "data": {
      "image/png": "[encoded data removed]",
      "text/plain": [
       "<Figure size 1000x500 with 1 Axes>"
      ]
     },
     "metadata": {},
     "output_type": "display_data"
    }
   ],
   "source": [
    "getCombBars(df=bars_biomd_reac,\n",
    "            save_path=os.path.join(MANU_FIGURE_DIR,\n",
    "                                   'f22-bars-reactions-biomd.pdf'))"
   ]
  },
  {
   "cell_type": "code",
   "execution_count": 58,
   "id": "b00eaed1-4b10-4529-8ce1-f3c7f12116b9",
   "metadata": {},
   "outputs": [
    {
     "data": {
      "image/png": "[encoded data removed]",
      "text/plain": [
       "<Figure size 1000x500 with 1 Axes>"
      ]
     },
     "metadata": {},
     "output_type": "display_data"
    }
   ],
   "source": [
    "getCombBars(df=bars_bigg_spec,\n",
    "            save_path=os.path.join(MANU_FIGURE_DIR,\n",
    "                                   'f11-bars-species-bigg.pdf'))"
   ]
  },
  {
   "cell_type": "code",
   "execution_count": 57,
   "id": "cb01792f-d56c-4f1f-a069-807e6dfd4863",
   "metadata": {},
   "outputs": [],
   "source": [
    "# getCombBars(df=bars_bigg_reac_exist,\n",
    "#             save_path=os.path.join(COMB_BARS_DIR, 'bigg_reac_bars_exist_species.png'))"
   ]
  },
  {
   "cell_type": "code",
   "execution_count": 59,
   "id": "397966cc-d675-4e30-b688-a3a97f05f174",
   "metadata": {},
   "outputs": [
    {
     "data": {
      "image/png": "[encoded data removed]",
      "text/plain": [
       "<Figure size 1000x500 with 1 Axes>"
      ]
     },
     "metadata": {},
     "output_type": "display_data"
    }
   ],
   "source": [
    "getCombBars(df=bars_bigg_reac,\n",
    "            save_path=os.path.join(MANU_FIGURE_DIR,\n",
    "                                   'f12-bars-reactions-bigg.pdf'))"
   ]
  },
  {
   "cell_type": "code",
   "execution_count": null,
   "id": "ae7ab9ea-05f7-459f-aefd-e0b646a4cebe",
   "metadata": {},
   "outputs": [],
   "source": []
  },
  {
   "cell_type": "markdown",
   "id": "c3a4ed1e-be29-46d2-bb58-a07cea7200c9",
   "metadata": {},
   "source": [
    "## Another plot: accuracy for four cases (pred_species) with match score 0.9, reject=2"
   ]
  },
  {
   "cell_type": "code",
   "execution_count": 35,
   "id": "fc707594-d158-4651-99a1-eb99faed985a",
   "metadata": {},
   "outputs": [],
   "source": [
    "def getAccuracyVal(df,\n",
    "                   len_col,\n",
    "                   cutoff=0.9,\n",
    "                   reject=2):\n",
    "    \"\"\"\n",
    "    Get accuracy score\n",
    "    \n",
    "    Parameters\n",
    "    ----------\n",
    "    df: pandas.DataFrame\n",
    "    \n",
    "    cutoff: float\n",
    "    \n",
    "    reject: int\n",
    "    \n",
    "    Returns\n",
    "    -------\n",
    "    : float\n",
    "    \"\"\"\n",
    "    sub_df = df[(df[len_col]>reject) & (df['match_score']>=cutoff)]\n",
    "    return np.round(np.mean(sub_df['accuracy']), 2)"
   ]
  },
  {
   "cell_type": "code",
   "execution_count": 36,
   "id": "bfccfa15-73a4-4181-9455-a624e43190b9",
   "metadata": {},
   "outputs": [
    {
     "name": "stdout",
     "output_type": "stream",
     "text": [
      "0.77\n",
      "0.94\n",
      "0.97\n",
      "0.92\n"
     ]
    }
   ],
   "source": [
    "biomd_spec_ac = getAccuracyVal(df=biomd_spec_df,\n",
    "                               len_col='name_length',\n",
    "                               cutoff=0.95)\n",
    "print(biomd_spec_ac)\n",
    "\n",
    "biomd_reac_ac = getAccuracyVal(df=biomd_reac_df,\n",
    "                               len_col='num_query_elements',\n",
    "                               cutoff=0.95)\n",
    "print(biomd_reac_ac)\n",
    "\n",
    "bigg_spec_ac = getAccuracyVal(df=bigg_spec_df,\n",
    "                               len_col='name_length',\n",
    "                               cutoff=0.95)\n",
    "print(bigg_spec_ac)\n",
    "\n",
    "bigg_reac_ac = getAccuracyVal(df=bigg_reac_df_pred,\n",
    "                               len_col='num_query_elements',\n",
    "                               cutoff=0.95)\n",
    "print(bigg_reac_ac)"
   ]
  },
  {
   "cell_type": "code",
   "execution_count": 8,
   "id": "cdbb6ab4-9123-449e-b536-66cf75c75bd6",
   "metadata": {},
   "outputs": [
    {
     "data": {
      "text/html": [
       "<div>\n",
       "<style scoped>\n",
       "    .dataframe tbody tr th:only-of-type {\n",
       "        vertical-align: middle;\n",
       "    }\n",
       "\n",
       "    .dataframe tbody tr th {\n",
       "        vertical-align: top;\n",
       "    }\n",
       "\n",
       "    .dataframe thead th {\n",
       "        text-align: right;\n",
       "    }\n",
       "</style>\n",
       "<table border=\"1\" class=\"dataframe\">\n",
       "  <thead>\n",
       "    <tr style=\"text-align: right;\">\n",
       "      <th></th>\n",
       "      <th>model</th>\n",
       "      <th>name_length</th>\n",
       "      <th>num_candidates</th>\n",
       "      <th>num_formulas</th>\n",
       "      <th>match_score</th>\n",
       "      <th>accuracy</th>\n",
       "      <th>recall</th>\n",
       "      <th>precision</th>\n",
       "    </tr>\n",
       "  </thead>\n",
       "  <tbody>\n",
       "    <tr>\n",
       "      <th>0</th>\n",
       "      <td>BIOMD0000000002.xml</td>\n",
       "      <td>3</td>\n",
       "      <td>2</td>\n",
       "      <td>2</td>\n",
       "      <td>1.000</td>\n",
       "      <td>1</td>\n",
       "      <td>1.0</td>\n",
       "      <td>0.500</td>\n",
       "    </tr>\n",
       "    <tr>\n",
       "      <th>1</th>\n",
       "      <td>BIOMD0000000013.xml</td>\n",
       "      <td>5</td>\n",
       "      <td>4</td>\n",
       "      <td>3</td>\n",
       "      <td>0.866</td>\n",
       "      <td>1</td>\n",
       "      <td>1.0</td>\n",
       "      <td>0.333</td>\n",
       "    </tr>\n",
       "    <tr>\n",
       "      <th>2</th>\n",
       "      <td>BIOMD0000000013.xml</td>\n",
       "      <td>6</td>\n",
       "      <td>6</td>\n",
       "      <td>6</td>\n",
       "      <td>0.894</td>\n",
       "      <td>0</td>\n",
       "      <td>0.0</td>\n",
       "      <td>0.000</td>\n",
       "    </tr>\n",
       "    <tr>\n",
       "      <th>3</th>\n",
       "      <td>BIOMD0000000013.xml</td>\n",
       "      <td>10</td>\n",
       "      <td>2</td>\n",
       "      <td>1</td>\n",
       "      <td>0.849</td>\n",
       "      <td>1</td>\n",
       "      <td>1.0</td>\n",
       "      <td>1.000</td>\n",
       "    </tr>\n",
       "    <tr>\n",
       "      <th>4</th>\n",
       "      <td>BIOMD0000000013.xml</td>\n",
       "      <td>6</td>\n",
       "      <td>1</td>\n",
       "      <td>1</td>\n",
       "      <td>0.868</td>\n",
       "      <td>0</td>\n",
       "      <td>0.0</td>\n",
       "      <td>0.000</td>\n",
       "    </tr>\n",
       "  </tbody>\n",
       "</table>\n",
       "</div>"
      ],
      "text/plain": [
       "                 model  name_length  num_candidates  num_formulas  \\\n",
       "0  BIOMD0000000002.xml            3               2             2   \n",
       "1  BIOMD0000000013.xml            5               4             3   \n",
       "2  BIOMD0000000013.xml            6               6             6   \n",
       "3  BIOMD0000000013.xml           10               2             1   \n",
       "4  BIOMD0000000013.xml            6               1             1   \n",
       "\n",
       "   match_score  accuracy  recall  precision  \n",
       "0        1.000         1     1.0      0.500  \n",
       "1        0.866         1     1.0      0.333  \n",
       "2        0.894         0     0.0      0.000  \n",
       "3        0.849         1     1.0      1.000  \n",
       "4        0.868         0     0.0      0.000  "
      ]
     },
     "execution_count": 8,
     "metadata": {},
     "output_type": "execute_result"
    }
   ],
   "source": []
  },
  {
   "cell_type": "code",
   "execution_count": 9,
   "id": "123b0bf3-83da-4bbc-ab7a-4aeb5f65500d",
   "metadata": {},
   "outputs": [
    {
     "data": {
      "text/html": [
       "<div>\n",
       "<style scoped>\n",
       "    .dataframe tbody tr th:only-of-type {\n",
       "        vertical-align: middle;\n",
       "    }\n",
       "\n",
       "    .dataframe tbody tr th {\n",
       "        vertical-align: top;\n",
       "    }\n",
       "\n",
       "    .dataframe thead th {\n",
       "        text-align: right;\n",
       "    }\n",
       "</style>\n",
       "<table border=\"1\" class=\"dataframe\">\n",
       "  <thead>\n",
       "    <tr style=\"text-align: right;\">\n",
       "      <th></th>\n",
       "      <th>model</th>\n",
       "      <th>mean_num_rhea_elements</th>\n",
       "      <th>num_query_elements</th>\n",
       "      <th>num_candidates</th>\n",
       "      <th>match_score</th>\n",
       "      <th>accuracy</th>\n",
       "      <th>recall</th>\n",
       "      <th>precision</th>\n",
       "    </tr>\n",
       "  </thead>\n",
       "  <tbody>\n",
       "    <tr>\n",
       "      <th>0</th>\n",
       "      <td>BIOMD0000000003.xml</td>\n",
       "      <td>4.650943</td>\n",
       "      <td>1</td>\n",
       "      <td>106</td>\n",
       "      <td>0.242528</td>\n",
       "      <td>0</td>\n",
       "      <td>0.0</td>\n",
       "      <td>0.0</td>\n",
       "    </tr>\n",
       "    <tr>\n",
       "      <th>1</th>\n",
       "      <td>BIOMD0000000003.xml</td>\n",
       "      <td>4.650943</td>\n",
       "      <td>1</td>\n",
       "      <td>106</td>\n",
       "      <td>0.242528</td>\n",
       "      <td>0</td>\n",
       "      <td>0.0</td>\n",
       "      <td>0.0</td>\n",
       "    </tr>\n",
       "    <tr>\n",
       "      <th>2</th>\n",
       "      <td>BIOMD0000000004.xml</td>\n",
       "      <td>4.693548</td>\n",
       "      <td>2</td>\n",
       "      <td>248</td>\n",
       "      <td>0.233302</td>\n",
       "      <td>0</td>\n",
       "      <td>0.0</td>\n",
       "      <td>0.0</td>\n",
       "    </tr>\n",
       "    <tr>\n",
       "      <th>3</th>\n",
       "      <td>BIOMD0000000004.xml</td>\n",
       "      <td>4.693548</td>\n",
       "      <td>2</td>\n",
       "      <td>248</td>\n",
       "      <td>0.233302</td>\n",
       "      <td>0</td>\n",
       "      <td>0.0</td>\n",
       "      <td>0.0</td>\n",
       "    </tr>\n",
       "    <tr>\n",
       "      <th>4</th>\n",
       "      <td>BIOMD0000000005.xml</td>\n",
       "      <td>4.272727</td>\n",
       "      <td>2</td>\n",
       "      <td>22</td>\n",
       "      <td>0.292455</td>\n",
       "      <td>0</td>\n",
       "      <td>0.0</td>\n",
       "      <td>0.0</td>\n",
       "    </tr>\n",
       "  </tbody>\n",
       "</table>\n",
       "</div>"
      ],
      "text/plain": [
       "                 model  mean_num_rhea_elements  num_query_elements  \\\n",
       "0  BIOMD0000000003.xml                4.650943                   1   \n",
       "1  BIOMD0000000003.xml                4.650943                   1   \n",
       "2  BIOMD0000000004.xml                4.693548                   2   \n",
       "3  BIOMD0000000004.xml                4.693548                   2   \n",
       "4  BIOMD0000000005.xml                4.272727                   2   \n",
       "\n",
       "   num_candidates  match_score  accuracy  recall  precision  \n",
       "0             106     0.242528         0     0.0        0.0  \n",
       "1             106     0.242528         0     0.0        0.0  \n",
       "2             248     0.233302         0     0.0        0.0  \n",
       "3             248     0.233302         0     0.0        0.0  \n",
       "4              22     0.292455         0     0.0        0.0  "
      ]
     },
     "execution_count": 9,
     "metadata": {},
     "output_type": "execute_result"
    }
   ],
   "source": [
    "biomd_reac_df.head()"
   ]
  },
  {
   "cell_type": "code",
   "execution_count": 10,
   "id": "25f60b25-de92-40ac-9ba9-759f237d4a37",
   "metadata": {},
   "outputs": [
    {
     "data": {
      "text/html": [
       "<div>\n",
       "<style scoped>\n",
       "    .dataframe tbody tr th:only-of-type {\n",
       "        vertical-align: middle;\n",
       "    }\n",
       "\n",
       "    .dataframe tbody tr th {\n",
       "        vertical-align: top;\n",
       "    }\n",
       "\n",
       "    .dataframe thead th {\n",
       "        text-align: right;\n",
       "    }\n",
       "</style>\n",
       "<table border=\"1\" class=\"dataframe\">\n",
       "  <thead>\n",
       "    <tr style=\"text-align: right;\">\n",
       "      <th></th>\n",
       "      <th>model</th>\n",
       "      <th>name_length</th>\n",
       "      <th>num_candidates</th>\n",
       "      <th>num_formulas</th>\n",
       "      <th>match_score</th>\n",
       "      <th>accuracy</th>\n",
       "      <th>recall</th>\n",
       "      <th>precision</th>\n",
       "    </tr>\n",
       "  </thead>\n",
       "  <tbody>\n",
       "    <tr>\n",
       "      <th>0</th>\n",
       "      <td>iCHOv1.xml</td>\n",
       "      <td>23</td>\n",
       "      <td>3</td>\n",
       "      <td>1</td>\n",
       "      <td>1.000</td>\n",
       "      <td>1</td>\n",
       "      <td>1.0</td>\n",
       "      <td>1.0</td>\n",
       "    </tr>\n",
       "    <tr>\n",
       "      <th>1</th>\n",
       "      <td>iCHOv1.xml</td>\n",
       "      <td>23</td>\n",
       "      <td>3</td>\n",
       "      <td>1</td>\n",
       "      <td>1.000</td>\n",
       "      <td>1</td>\n",
       "      <td>1.0</td>\n",
       "      <td>1.0</td>\n",
       "    </tr>\n",
       "    <tr>\n",
       "      <th>2</th>\n",
       "      <td>iCHOv1.xml</td>\n",
       "      <td>25</td>\n",
       "      <td>1</td>\n",
       "      <td>1</td>\n",
       "      <td>1.000</td>\n",
       "      <td>1</td>\n",
       "      <td>1.0</td>\n",
       "      <td>1.0</td>\n",
       "    </tr>\n",
       "    <tr>\n",
       "      <th>3</th>\n",
       "      <td>iCHOv1.xml</td>\n",
       "      <td>23</td>\n",
       "      <td>3</td>\n",
       "      <td>1</td>\n",
       "      <td>1.000</td>\n",
       "      <td>1</td>\n",
       "      <td>1.0</td>\n",
       "      <td>1.0</td>\n",
       "    </tr>\n",
       "    <tr>\n",
       "      <th>4</th>\n",
       "      <td>iCHOv1.xml</td>\n",
       "      <td>27</td>\n",
       "      <td>1</td>\n",
       "      <td>1</td>\n",
       "      <td>0.958</td>\n",
       "      <td>0</td>\n",
       "      <td>0.0</td>\n",
       "      <td>0.0</td>\n",
       "    </tr>\n",
       "  </tbody>\n",
       "</table>\n",
       "</div>"
      ],
      "text/plain": [
       "        model  name_length  num_candidates  num_formulas  match_score  \\\n",
       "0  iCHOv1.xml           23               3             1        1.000   \n",
       "1  iCHOv1.xml           23               3             1        1.000   \n",
       "2  iCHOv1.xml           25               1             1        1.000   \n",
       "3  iCHOv1.xml           23               3             1        1.000   \n",
       "4  iCHOv1.xml           27               1             1        0.958   \n",
       "\n",
       "   accuracy  recall  precision  \n",
       "0         1     1.0        1.0  \n",
       "1         1     1.0        1.0  \n",
       "2         1     1.0        1.0  \n",
       "3         1     1.0        1.0  \n",
       "4         0     0.0        0.0  "
      ]
     },
     "execution_count": 10,
     "metadata": {},
     "output_type": "execute_result"
    }
   ],
   "source": [
    "bigg_spec_df.head()"
   ]
  },
  {
   "cell_type": "code",
   "execution_count": 11,
   "id": "d98af880-b5bd-4bdf-9859-3122c34a6fe5",
   "metadata": {},
   "outputs": [
    {
     "data": {
      "text/html": [
       "<div>\n",
       "<style scoped>\n",
       "    .dataframe tbody tr th:only-of-type {\n",
       "        vertical-align: middle;\n",
       "    }\n",
       "\n",
       "    .dataframe tbody tr th {\n",
       "        vertical-align: top;\n",
       "    }\n",
       "\n",
       "    .dataframe thead th {\n",
       "        text-align: right;\n",
       "    }\n",
       "</style>\n",
       "<table border=\"1\" class=\"dataframe\">\n",
       "  <thead>\n",
       "    <tr style=\"text-align: right;\">\n",
       "      <th></th>\n",
       "      <th>model</th>\n",
       "      <th>mean_num_rhea_elements</th>\n",
       "      <th>num_query_elements</th>\n",
       "      <th>num_candidates</th>\n",
       "      <th>match_score</th>\n",
       "      <th>accuracy</th>\n",
       "      <th>recall</th>\n",
       "      <th>precision</th>\n",
       "    </tr>\n",
       "  </thead>\n",
       "  <tbody>\n",
       "    <tr>\n",
       "      <th>0</th>\n",
       "      <td>iCHOv1.xml</td>\n",
       "      <td>5.0</td>\n",
       "      <td>4</td>\n",
       "      <td>2</td>\n",
       "      <td>1.0</td>\n",
       "      <td>0</td>\n",
       "      <td>0.0</td>\n",
       "      <td>0.0</td>\n",
       "    </tr>\n",
       "    <tr>\n",
       "      <th>1</th>\n",
       "      <td>iCHOv1.xml</td>\n",
       "      <td>5.0</td>\n",
       "      <td>5</td>\n",
       "      <td>2</td>\n",
       "      <td>0.8</td>\n",
       "      <td>0</td>\n",
       "      <td>0.0</td>\n",
       "      <td>0.0</td>\n",
       "    </tr>\n",
       "    <tr>\n",
       "      <th>2</th>\n",
       "      <td>iCHOv1.xml</td>\n",
       "      <td>4.0</td>\n",
       "      <td>4</td>\n",
       "      <td>1</td>\n",
       "      <td>1.0</td>\n",
       "      <td>1</td>\n",
       "      <td>0.5</td>\n",
       "      <td>1.0</td>\n",
       "    </tr>\n",
       "    <tr>\n",
       "      <th>3</th>\n",
       "      <td>iCHOv1.xml</td>\n",
       "      <td>5.0</td>\n",
       "      <td>5</td>\n",
       "      <td>2</td>\n",
       "      <td>0.8</td>\n",
       "      <td>0</td>\n",
       "      <td>0.0</td>\n",
       "      <td>0.0</td>\n",
       "    </tr>\n",
       "    <tr>\n",
       "      <th>4</th>\n",
       "      <td>iCHOv1.xml</td>\n",
       "      <td>4.0</td>\n",
       "      <td>5</td>\n",
       "      <td>1</td>\n",
       "      <td>1.0</td>\n",
       "      <td>0</td>\n",
       "      <td>0.0</td>\n",
       "      <td>0.0</td>\n",
       "    </tr>\n",
       "  </tbody>\n",
       "</table>\n",
       "</div>"
      ],
      "text/plain": [
       "        model  mean_num_rhea_elements  num_query_elements  num_candidates  \\\n",
       "0  iCHOv1.xml                     5.0                   4               2   \n",
       "1  iCHOv1.xml                     5.0                   5               2   \n",
       "2  iCHOv1.xml                     4.0                   4               1   \n",
       "3  iCHOv1.xml                     5.0                   5               2   \n",
       "4  iCHOv1.xml                     4.0                   5               1   \n",
       "\n",
       "   match_score  accuracy  recall  precision  \n",
       "0          1.0         0     0.0        0.0  \n",
       "1          0.8         0     0.0        0.0  \n",
       "2          1.0         1     0.5        1.0  \n",
       "3          0.8         0     0.0        0.0  \n",
       "4          1.0         0     0.0        0.0  "
      ]
     },
     "execution_count": 11,
     "metadata": {},
     "output_type": "execute_result"
    }
   ],
   "source": [
    "bigg_reac_df_pred.head()"
   ]
  },
  {
   "cell_type": "code",
   "execution_count": null,
   "id": "f42c9c29-198e-45f2-ab81-140bb2f2123f",
   "metadata": {},
   "outputs": [],
   "source": []
  }
 ],
 "metadata": {
  "kernelspec": {
   "display_name": "Python 3 (ipykernel)",
   "language": "python",
   "name": "python3"
  },
  "language_info": {
   "codemirror_mode": {
    "name": "ipython",
    "version": 3
   },
   "file_extension": ".py",
   "mimetype": "text/x-python",
   "name": "python",
   "nbconvert_exporter": "python",
   "pygments_lexer": "ipython3",
   "version": "3.11.2"
  }
 },
 "nbformat": 4,
 "nbformat_minor": 5
}
