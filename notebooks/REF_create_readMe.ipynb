{
 "cells": [
  {
   "cell_type": "code",
   "execution_count": 1,
   "id": "9545839e",
   "metadata": {},
   "outputs": [],
   "source": [
    "# Create example for readMe\n",
    "import libsbml\n",
    "import os\n",
    "import sys\n",
    "\n",
    "BASE_DIR = '/Users/woosubs/Desktop/AutomateAnnotation/'\n",
    "DATA_DIR = os.path.join(BASE_DIR, \"DATA\")\n",
    "CHEBI_DIR = os.path.join(DATA_DIR, \"chebi\")\n",
    "RHEA_DIR = os.path.join(DATA_DIR, \"rhea\")\n",
    "BIOMODEL_DIR = os.path.join(DATA_DIR, \"biomodels/curated_biomodels_31mar2021\")\n",
    "BIGG_DIR = '/Users/woosubs/Desktop/AutomateAnnotation/DATA/bigg'\n",
    "ecoli_fpath = os.path.join(BIGG_DIR, \"e_coli_core.xml\")\n",
    "PROJ_DIR = os.path.join(os.getcwd(), os.pardir)\n",
    "sys.path.append(PROJ_DIR)"
   ]
  },
  {
   "cell_type": "code",
   "execution_count": 2,
   "id": "087220bd",
   "metadata": {},
   "outputs": [],
   "source": [
    "from AMAS import recommender\n",
    "\n",
    "MODEL_190 = 'BIOMD0000000190.xml'\n",
    "recom = recommender.Recommender(MODEL_190)"
   ]
  },
  {
   "cell_type": "code",
   "execution_count": 3,
   "id": "e75ad75d",
   "metadata": {},
   "outputs": [],
   "source": [
    "species_annotation = recom.getSpeciesAnnotation(pred_id='SAM')"
   ]
  },
  {
   "cell_type": "code",
   "execution_count": 4,
   "id": "99c294b4",
   "metadata": {},
   "outputs": [
    {
     "data": {
      "text/plain": [
       "'S-adenosyl-L-methionine'"
      ]
     },
     "execution_count": 4,
     "metadata": {},
     "output_type": "execute_result"
    }
   ],
   "source": [
    "recom.species.getNameToUse('SAM')"
   ]
  },
  {
   "cell_type": "code",
   "execution_count": 25,
   "id": "ec1f880e",
   "metadata": {},
   "outputs": [],
   "source": [
    "# Alternativel, user can use pred_str to make a direct prediction"
   ]
  },
  {
   "cell_type": "code",
   "execution_count": 30,
   "id": "3ab490f6",
   "metadata": {},
   "outputs": [],
   "source": [
    "species_annotation = recom.getSpeciesAnnotation(pred_str='S-adenosyl-L-methionine')"
   ]
  },
  {
   "cell_type": "code",
   "execution_count": 29,
   "id": "8fead93e",
   "metadata": {},
   "outputs": [
    {
     "name": "stdout",
     "output_type": "stream",
     "text": [
      "Recommendation(id='DLL', credibility=0.78, candidates=[('CHEBI:73429', 0.75), ('CHEBI:73430', 0.75), ('CHEBI:15570', 0.67), ('CHEBI:18320', 0.67), ('CHEBI:16855', 0.67), ('CHEBI:28225', 0.67), ('CHEBI:15966', 0.67), ('CHEBI:27730', 0.67), ('CHEBI:37690', 0.67), ('CHEBI:53412', 0.67), ('CHEBI:74541', 0.67), ('CHEBI:91269', 0.67), ('CHEBI:68596', 0.5), ('CHEBI:73531', 0.5), ('CHEBI:74528', 0.5)], urls=['https://www.ebi.ac.uk/chebi/searchId.do?chebiId=CHEBI%3A73429', 'https://www.ebi.ac.uk/chebi/searchId.do?chebiId=CHEBI%3A73430', 'https://www.ebi.ac.uk/chebi/searchId.do?chebiId=CHEBI%3A15570', 'https://www.ebi.ac.uk/chebi/searchId.do?chebiId=CHEBI%3A18320', 'https://www.ebi.ac.uk/chebi/searchId.do?chebiId=CHEBI%3A16855', 'https://www.ebi.ac.uk/chebi/searchId.do?chebiId=CHEBI%3A28225', 'https://www.ebi.ac.uk/chebi/searchId.do?chebiId=CHEBI%3A15966', 'https://www.ebi.ac.uk/chebi/searchId.do?chebiId=CHEBI%3A27730', 'https://www.ebi.ac.uk/chebi/searchId.do?chebiId=CHEBI%3A37690', 'https://www.ebi.ac.uk/chebi/searchId.do?chebiId=CHEBI%3A53412', 'https://www.ebi.ac.uk/chebi/searchId.do?chebiId=CHEBI%3A74541', 'https://www.ebi.ac.uk/chebi/searchId.do?chebiId=CHEBI%3A91269', 'https://www.ebi.ac.uk/chebi/searchId.do?chebiId=CHEBI%3A68596', 'https://www.ebi.ac.uk/chebi/searchId.do?chebiId=CHEBI%3A73531', 'https://www.ebi.ac.uk/chebi/searchId.do?chebiId=CHEBI%3A74528'])\n"
     ]
    }
   ],
   "source": [
    "species_annotation = recom.getSpeciesAnnotation(pred_str='DLL')\n",
    "print(species_annotation)"
   ]
  },
  {
   "cell_type": "code",
   "execution_count": null,
   "id": "9de72b1b",
   "metadata": {},
   "outputs": [],
   "source": []
  },
  {
   "cell_type": "code",
   "execution_count": 20,
   "id": "f17c07b8",
   "metadata": {},
   "outputs": [
    {
     "name": "stdout",
     "output_type": "stream",
     "text": [
      "Species ID: SAM\n",
      "Credibility: 1.0\n",
      "CHEBI terms and match score: ('CHEBI:15414', 1.0), ('CHEBI:59789', 1.0)\n",
      "URLs: https://www.ebi.ac.uk/chebi/searchId.do?chebiId=CHEBI%3A15414\n",
      "      https://www.ebi.ac.uk/chebi/searchId.do?chebiId=CHEBI%3A59789\n"
     ]
    }
   ],
   "source": [
    "print(\"Species ID:\", species_annotation.id)\n",
    "print(\"Credibility:\", species_annotation.credibility)\n",
    "print(\"CHEBI terms and match score: %s, %s\" % \n",
    "      (str(species_annotation.candidates[0]),\n",
    "      str(species_annotation.candidates[1])))\n",
    "print(\"URLs: %s\\n      %s\" % (species_annotation.urls[0], species_annotation.urls[1]))"
   ]
  },
  {
   "cell_type": "code",
   "execution_count": 21,
   "id": "d548e8b9",
   "metadata": {},
   "outputs": [],
   "source": [
    "reaction_annotation = recom.getReactionAnnotation(pred_id='ODC')"
   ]
  },
  {
   "cell_type": "code",
   "execution_count": 22,
   "id": "e392ef6a",
   "metadata": {},
   "outputs": [
    {
     "data": {
      "text/plain": [
       "Recommendation(id='ODC', credibility=1.0, candidates=[('RHEA:28830', 1.0), ('RHEA:22967', 0.5), ('RHEA:59051', 0.5)], urls=['https://www.rhea-db.org/rhea/28830', 'https://www.rhea-db.org/rhea/22967', 'https://www.rhea-db.org/rhea/59051'])"
      ]
     },
     "execution_count": 22,
     "metadata": {},
     "output_type": "execute_result"
    }
   ],
   "source": [
    "reaction_annotation"
   ]
  },
  {
   "cell_type": "code",
   "execution_count": 23,
   "id": "efc91649",
   "metadata": {},
   "outputs": [
    {
     "name": "stdout",
     "output_type": "stream",
     "text": [
      "Reaction ID: ODC\n",
      "Credibility: 1.0\n",
      "Rhea terms and match score: ('RHEA:28830', 1.0), ('RHEA:22967', 0.5)\n",
      "URLs: https://www.rhea-db.org/rhea/28830\n",
      "      https://www.rhea-db.org/rhea/22967\n"
     ]
    }
   ],
   "source": [
    "print(\"Reaction ID:\", reaction_annotation.id)\n",
    "print(\"Credibility:\", reaction_annotation.credibility)\n",
    "print(\"Rhea terms and match score: %s, %s\" % \n",
    "      (str(reaction_annotation.candidates[0]),\n",
    "      str(reaction_annotation.candidates[1])))\n",
    "print(\"URLs: %s\\n      %s\" % (reaction_annotation.urls[0], reaction_annotation.urls[1]))"
   ]
  },
  {
   "cell_type": "code",
   "execution_count": 11,
   "id": "33000678",
   "metadata": {},
   "outputs": [
    {
     "name": "stdout",
     "output_type": "stream",
     "text": [
      "{'chebi': ['CHEBI:15414', 'CHEBI:67040'], 'match_score': [('CHEBI:15414', 1.0), ('CHEBI:67040', 1.0)], 'formula': ['C15N6O5S']}\n"
     ]
    }
   ],
   "source": [
    "pred_res = recom.species.predictAnnotationByEditDistance('SAM')\n",
    "print(pred_res)"
   ]
  },
  {
   "cell_type": "code",
   "execution_count": null,
   "id": "78bc8785",
   "metadata": {},
   "outputs": [],
   "source": []
  },
  {
   "cell_type": "code",
   "execution_count": 6,
   "id": "86ebbc93",
   "metadata": {},
   "outputs": [
    {
     "data": {
      "text/plain": [
       "Recommendation(id='ABC', credibility=0.93, candidates=[('CHEBI:421707', 1.0)], urls=['https://www.ebi.ac.uk/chebi/searchId.do?chebiId=CHEBI%3A421707'])"
      ]
     },
     "execution_count": 6,
     "metadata": {},
     "output_type": "execute_result"
    }
   ],
   "source": [
    "recom = recommender.Recommender()\n",
    "recom.getSpeciesAnnotation('ABC')"
   ]
  },
  {
   "cell_type": "code",
   "execution_count": null,
   "id": "67ad6ca3",
   "metadata": {},
   "outputs": [],
   "source": []
  }
 ],
 "metadata": {
  "kernelspec": {
   "display_name": "Python 3 (ipykernel)",
   "language": "python",
   "name": "python3"
  },
  "language_info": {
   "codemirror_mode": {
    "name": "ipython",
    "version": 3
   },
   "file_extension": ".py",
   "mimetype": "text/x-python",
   "name": "python",
   "nbconvert_exporter": "python",
   "pygments_lexer": "ipython3",
   "version": "3.11.2"
  }
 },
 "nbformat": 4,
 "nbformat_minor": 5
}
