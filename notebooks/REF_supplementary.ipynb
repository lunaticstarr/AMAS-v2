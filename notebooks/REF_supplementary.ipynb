{
 "cells": [
  {
   "cell_type": "code",
   "execution_count": 1,
   "id": "01143b02-87e4-4569-92d5-5148af03d035",
   "metadata": {},
   "outputs": [],
   "source": [
    "# Data for figure/tables in supplementary materials \n",
    "\n",
    "import collections\n",
    "import compress_pickle\n",
    "import itertools\n",
    "import libsbml\n",
    "import numpy as np\n",
    "import os\n",
    "import pickle\n",
    "import pandas as pd\n",
    "import sys\n",
    "import time\n",
    "import matplotlib.pyplot as plt\n",
    "%matplotlib inline  \n",
    "\n",
    "BIOMD_12 = 'BIOMD0000000012.xml'\n",
    "BASE_DIR = '/Users/woosubs/Desktop/AutomateAnnotation/'\n",
    "DATA_DIR = os.path.join(BASE_DIR, \"DATA\")\n",
    "ALGO_DIR = os.path.join(DATA_DIR, \"algo\")\n",
    "CHEBI_DIR = os.path.join(DATA_DIR, \"chebi\")\n",
    "RHEA_DIR = os.path.join(DATA_DIR, \"rhea\")\n",
    "BIOMODEL_DIR = os.path.join(DATA_DIR, \"biomodels/curated_biomodels_31mar2021\")\n",
    "BIGG_DIR = '/Users/woosubs/Desktop/AutomateAnnotation/DATA/bigg'\n",
    "ecoli_fpath = os.path.join(BIGG_DIR, \"e_coli_core.xml\")\n",
    "\n",
    "PROJ_DIR = os.path.join(os.getcwd(), os.pardir)\n",
    "AMAS_DIR = os.path.join(PROJ_DIR, \"AMAS\")\n",
    "sys.path.append(PROJ_DIR)\n",
    "\n",
    "SUPPL_DIR = os.path.join(PROJ_DIR, os.pardir, \"AMAS_suppl\")\n",
    "ACCURACY_DIR = os.path.join(SUPPL_DIR, \"data_for_credibility\")\n",
    "RESULT_DIR = '/Users/woosubs/Desktop/AutomateAnnotation/AMAS_suppl/result_files'\n",
    "\n",
    "from AMAS import annotation_maker as am\n",
    "from AMAS import species_annotation as sa\n",
    "from AMAS import reaction_annotation as ra\n",
    "from AMAS import recommender\n",
    "from AMAS import constants as cn\n",
    "from AMAS import iterator as it\n",
    "from AMAS import tools"
   ]
  },
  {
   "cell_type": "code",
   "execution_count": 2,
   "id": "e320c6c2-1642-45f1-8524-e3fc6b9035c1",
   "metadata": {},
   "outputs": [],
   "source": [
    "recom = recommender.Recommender(libsbml_fpath=ecoli_fpath)"
   ]
  },
  {
   "cell_type": "code",
   "execution_count": 5,
   "id": "e3b8563b-91cc-4889-8c52-5f7a15d186fe",
   "metadata": {},
   "outputs": [],
   "source": [
    "model = recom.sbml_document.model"
   ]
  },
  {
   "cell_type": "code",
   "execution_count": 12,
   "id": "aced33e5-e645-4e4d-a481-fdb53eb4fd0b",
   "metadata": {},
   "outputs": [
    {
     "name": "stdout",
     "output_type": "stream",
     "text": [
      "['M_glc__D_e', 'M_gln__L_c', 'M_gln__L_e', 'M_glu__L_c', 'M_glu__L_e', 'M_glx_c', 'M_h2o_c', 'M_h2o_e', 'M_h_c', 'M_h_e', 'M_icit_c', 'M_lac__D_c', 'M_lac__D_e', 'M_mal__L_c', 'M_mal__L_e', 'M_nad_c', 'M_nadh_c', 'M_nadp_c', 'M_nadph_c', 'M_nh4_c', 'M_13dpg_c', 'M_nh4_e', 'M_o2_c', 'M_2pg_c', 'M_o2_e', 'M_3pg_c', 'M_oaa_c', 'M_pep_c', 'M_6pgc_c', 'M_pi_c', 'M_6pgl_c', 'M_pi_e', 'M_ac_c', 'M_pyr_c', 'M_pyr_e', 'M_q8_c', 'M_q8h2_c', 'M_r5p_c', 'M_ru5p__D_c', 'M_ac_e', 'M_acald_c', 'M_s7p_c', 'M_acald_e', 'M_accoa_c', 'M_succ_c', 'M_succ_e', 'M_succoa_c', 'M_acon_C_c', 'M_xu5p__D_c', 'M_actp_c', 'M_adp_c', 'M_akg_c', 'M_akg_e', 'M_amp_c', 'M_atp_c', 'M_cit_c', 'M_co2_c', 'M_co2_e', 'M_coa_c', 'M_dhap_c', 'M_e4p_c', 'M_etoh_c', 'M_etoh_e', 'M_f6p_c', 'M_fdp_c', 'M_for_c', 'M_for_e', 'M_fru_e', 'M_fum_c', 'M_fum_e', 'M_g3p_c', 'M_g6p_c']\n"
     ]
    }
   ],
   "source": [
    "print(recom.getSpeciesIDs())"
   ]
  },
  {
   "cell_type": "markdown",
   "id": "f93bd7dd-d68f-4480-aa79-75c156eaaa22",
   "metadata": {},
   "source": [
    "### S1. ChEBI terms and converting it as chemical formula"
   ]
  },
  {
   "cell_type": "code",
   "execution_count": 30,
   "id": "2f55a611-ba4d-4133-a821-010518366151",
   "metadata": {},
   "outputs": [
    {
     "name": "stdout",
     "output_type": "stream",
     "text": [
      "0.16842105263157894\n"
     ]
    }
   ],
   "source": [
    "# check how many times it was used\n",
    "num_all_r = 0\n",
    "num_r_with_h2o = 0\n",
    "for one_r in model.getListOfReactions():\n",
    "  num_all_r += 1\n",
    "  reactants = [val.species for val in one_r.getListOfReactants()]\n",
    "  products = [val.species for val in one_r.getListOfReactants()]\n",
    "  components = set(reactants + products)\n",
    "  if 'M_h2o_c' in components or 'M_h2o_e' in components or 'M_o2_c' in components:\n",
    "    num_r_with_h2o += 1\n",
    "print(num_r_with_h2o / num_all_r)"
   ]
  },
  {
   "cell_type": "code",
   "execution_count": 28,
   "id": "b16b0429-d7eb-4f88-99a3-ec22612accad",
   "metadata": {},
   "outputs": [
    {
     "data": {
      "text/plain": [
       "95"
      ]
     },
     "execution_count": 28,
     "metadata": {},
     "output_type": "execute_result"
    }
   ],
   "source": [
    "num_all_r"
   ]
  },
  {
   "cell_type": "code",
   "execution_count": null,
   "id": "566a3361-2337-45ca-b3a2-d6d008068a18",
   "metadata": {},
   "outputs": [],
   "source": []
  },
  {
   "cell_type": "code",
   "execution_count": 31,
   "id": "ab2a9577-eca0-4ec8-be78-71158ceb9798",
   "metadata": {},
   "outputs": [
    {
     "name": "stdout",
     "output_type": "stream",
     "text": [
      "H2O H2O\n",
      "<sbml:annotation xmlns:sbml=\"http://www.sbml.org/sbml/level3/version1/core\">\n",
      "  <rdf:RDF xmlns:rdf=\"http://www.w3.org/1999/02/22-rdf-syntax-ns#\">\n",
      "    <rdf:Description rdf:about=\"#M_h2o_e\">\n",
      "      <bqbiol:is xmlns:bqbiol=\"http://biomodels.net/biology-qualifiers/\">\n",
      "        <rdf:Bag>\n",
      "          <rdf:li rdf:resource=\"http://identifiers.org/bigg.metabolite/h2o\"/>\n",
      "          <rdf:li rdf:resource=\"http://identifiers.org/biocyc/META:CPD-15815\"/>\n",
      "          <rdf:li rdf:resource=\"http://identifiers.org/biocyc/META:OXONIUM\"/>\n",
      "          <rdf:li rdf:resource=\"http://identifiers.org/biocyc/META:HYDROXYL-GROUP\"/>\n",
      "          <rdf:li rdf:resource=\"http://identifiers.org/biocyc/META:WATER\"/>\n",
      "          <rdf:li rdf:resource=\"http://identifiers.org/biocyc/META:OH\"/>\n",
      "          <rdf:li rdf:resource=\"http://identifiers.org/chebi/CHEBI:13352\"/>\n",
      "          <rdf:li rdf:resource=\"http://identifiers.org/chebi/CHEBI:30490\"/>\n",
      "          <rdf:li rdf:resource=\"http://identifiers.org/chebi/CHEBI:43228\"/>\n",
      "          <rdf:li rdf:resource=\"http://identifiers.org/chebi/CHEBI:33813\"/>\n",
      "          <rdf:li rdf:resource=\"http://identifiers.org/chebi/CHEBI:44292\"/>\n",
      "          <rdf:li rdf:resource=\"http://identifiers.org/chebi/CHEBI:44641\"/>\n",
      "          <rdf:li rdf:resource=\"http://identifiers.org/chebi/CHEBI:27313\"/>\n",
      "          <rdf:li rdf:resource=\"http://identifiers.org/chebi/CHEBI:42043\"/>\n",
      "          <rdf:li rdf:resource=\"http://identifiers.org/chebi/CHEBI:44819\"/>\n",
      "          <rdf:li rdf:resource=\"http://identifiers.org/chebi/CHEBI:29356\"/>\n",
      "          <rdf:li rdf:resource=\"http://identifiers.org/chebi/CHEBI:5594\"/>\n",
      "          <rdf:li rdf:resource=\"http://identifiers.org/chebi/CHEBI:10743\"/>\n",
      "          <rdf:li rdf:resource=\"http://identifiers.org/chebi/CHEBI:15377\"/>\n",
      "          <rdf:li rdf:resource=\"http://identifiers.org/chebi/CHEBI:42857\"/>\n",
      "          <rdf:li rdf:resource=\"http://identifiers.org/chebi/CHEBI:13365\"/>\n",
      "          <rdf:li rdf:resource=\"http://identifiers.org/chebi/CHEBI:29412\"/>\n",
      "          <rdf:li rdf:resource=\"http://identifiers.org/chebi/CHEBI:16234\"/>\n",
      "          <rdf:li rdf:resource=\"http://identifiers.org/chebi/CHEBI:13419\"/>\n",
      "          <rdf:li rdf:resource=\"http://identifiers.org/chebi/CHEBI:5585\"/>\n",
      "          <rdf:li rdf:resource=\"http://identifiers.org/chebi/CHEBI:44701\"/>\n",
      "          <rdf:li rdf:resource=\"http://identifiers.org/envipath/650babc9-9d68-4b73-9332-11972ca26f7b/compound/799908db-b8c9-4982-86cb-1f225e2ad08c\"/>\n",
      "          <rdf:li rdf:resource=\"http://identifiers.org/envipath/650babc9-9d68-4b73-9332-11972ca26f7b/compound/e7f34a8e-cded-4793-b6d5-792335b38636\"/>\n",
      "          <rdf:li rdf:resource=\"http://identifiers.org/envipath/5882df9c-dae1-4d80-a40e-db4724271456/compound/969d0227-3069-4e44-9525-7ae7bad84170\"/>\n",
      "          <rdf:li rdf:resource=\"http://identifiers.org/hmdb/HMDB02111\"/>\n",
      "          <rdf:li rdf:resource=\"http://identifiers.org/hmdb/HMDB01039\"/>\n",
      "          <rdf:li rdf:resource=\"http://identifiers.org/inchi_key/XLYOFNOQVPJJNP-UHFFFAOYSA-N\"/>\n",
      "          <rdf:li rdf:resource=\"http://identifiers.org/kegg.compound/C00001\"/>\n",
      "          <rdf:li rdf:resource=\"http://identifiers.org/kegg.compound/C01328\"/>\n",
      "          <rdf:li rdf:resource=\"http://identifiers.org/kegg.drug/D00001\"/>\n",
      "          <rdf:li rdf:resource=\"http://identifiers.org/kegg.drug/D06322\"/>\n",
      "          <rdf:li rdf:resource=\"http://identifiers.org/metanetx.chemical/MNXM2\"/>\n",
      "          <rdf:li rdf:resource=\"http://identifiers.org/reactome.compound/113521\"/>\n",
      "          <rdf:li rdf:resource=\"http://identifiers.org/reactome.compound/141343\"/>\n",
      "          <rdf:li rdf:resource=\"http://identifiers.org/reactome.compound/2022884\"/>\n",
      "          <rdf:li rdf:resource=\"http://identifiers.org/reactome.compound/5278291\"/>\n",
      "          <rdf:li rdf:resource=\"http://identifiers.org/reactome.compound/29356\"/>\n",
      "          <rdf:li rdf:resource=\"http://identifiers.org/reactome.compound/189422\"/>\n",
      "          <rdf:li rdf:resource=\"http://identifiers.org/reactome.compound/5668574\"/>\n",
      "          <rdf:li rdf:resource=\"http://identifiers.org/reactome.compound/5693747\"/>\n",
      "          <rdf:li rdf:resource=\"http://identifiers.org/reactome.compound/109276\"/>\n",
      "          <rdf:li rdf:resource=\"http://identifiers.org/reactome.compound/113519\"/>\n",
      "          <rdf:li rdf:resource=\"http://identifiers.org/reactome.compound/1605715\"/>\n",
      "          <rdf:li rdf:resource=\"http://identifiers.org/reactome.compound/8851517\"/>\n",
      "          <rdf:li rdf:resource=\"http://identifiers.org/reactome.compound/113518\"/>\n",
      "          <rdf:li rdf:resource=\"http://identifiers.org/reactome.compound/351603\"/>\n",
      "          <rdf:li rdf:resource=\"http://identifiers.org/sabiork/40\"/>\n",
      "          <rdf:li rdf:resource=\"http://identifiers.org/seed.compound/cpd27222\"/>\n",
      "          <rdf:li rdf:resource=\"http://identifiers.org/seed.compound/cpd00001\"/>\n",
      "          <rdf:li rdf:resource=\"http://identifiers.org/seed.compound/cpd15275\"/>\n",
      "        </rdf:Bag>\n",
      "      </bqbiol:is>\n",
      "    </rdf:Description>\n",
      "  </rdf:RDF>\n",
      "</sbml:annotation>\n"
     ]
    }
   ],
   "source": [
    "one_s = model.getSpecies('M_h2o_e')\n",
    "print(one_s.name)\n",
    "print(one_s.getAnnotationString())"
   ]
  },
  {
   "cell_type": "code",
   "execution_count": null,
   "id": "83269fdd-1e39-4371-8848-eb50c8152e86",
   "metadata": {},
   "outputs": [],
   "source": [
    "one"
   ]
  }
 ],
 "metadata": {
  "kernelspec": {
   "display_name": "Python 3 (ipykernel)",
   "language": "python",
   "name": "python3"
  },
  "language_info": {
   "codemirror_mode": {
    "name": "ipython",
    "version": 3
   },
   "file_extension": ".py",
   "mimetype": "text/x-python",
   "name": "python",
   "nbconvert_exporter": "python",
   "pygments_lexer": "ipython3",
   "version": "3.11.2"
  }
 },
 "nbformat": 4,
 "nbformat_minor": 5
}
