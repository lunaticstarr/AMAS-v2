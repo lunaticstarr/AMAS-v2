{
 "cells": [
  {
   "cell_type": "code",
   "execution_count": 2,
   "id": "43a9ac82-5ab6-40bb-a5ae-e6a827da25e3",
   "metadata": {},
   "outputs": [
    {
     "name": "stderr",
     "output_type": "stream",
     "text": [
      "\u001b[32mINFO    [bioservices.Rhea:363]: \u001b[0m \u001b[32mInitialising Rhea service (REST)\u001b[0m\n"
     ]
    },
    {
     "data": {
      "text/html": [
       "<div>\n",
       "<style scoped>\n",
       "    .dataframe tbody tr th:only-of-type {\n",
       "        vertical-align: middle;\n",
       "    }\n",
       "\n",
       "    .dataframe tbody tr th {\n",
       "        vertical-align: top;\n",
       "    }\n",
       "\n",
       "    .dataframe thead th {\n",
       "        text-align: right;\n",
       "    }\n",
       "</style>\n",
       "<table border=\"1\" class=\"dataframe\">\n",
       "  <thead>\n",
       "    <tr style=\"text-align: right;\">\n",
       "      <th></th>\n",
       "      <th>Reaction identifier</th>\n",
       "      <th>Equation</th>\n",
       "      <th>ChEBI name</th>\n",
       "      <th>ChEBI identifier</th>\n",
       "      <th>EC number</th>\n",
       "      <th>Enzymes</th>\n",
       "      <th>PubMed</th>\n",
       "      <th>Cross-reference (EcoCyc)</th>\n",
       "      <th>Cross-reference (MetaCyc)</th>\n",
       "      <th>Cross-reference (KEGG)</th>\n",
       "      <th>Cross-reference (Reactome)</th>\n",
       "    </tr>\n",
       "  </thead>\n",
       "  <tbody>\n",
       "    <tr>\n",
       "      <th>0</th>\n",
       "      <td>RHEA:10000</td>\n",
       "      <td>H2O + pentanamide = NH4(+) + pentanoate</td>\n",
       "      <td>H2O;pentanamide;NH4(+);pentanoate</td>\n",
       "      <td>CHEBI:15377;CHEBI:16459;CHEBI:28938;CHEBI:31011</td>\n",
       "      <td>EC:3.5.1.50</td>\n",
       "      <td>0</td>\n",
       "      <td>NaN</td>\n",
       "      <td>NaN</td>\n",
       "      <td>MetaCyc:PENTANAMIDASE-RXN</td>\n",
       "      <td>KEGG:R02938</td>\n",
       "      <td>NaN</td>\n",
       "    </tr>\n",
       "    <tr>\n",
       "      <th>1</th>\n",
       "      <td>RHEA:10004</td>\n",
       "      <td>benzyl isothiocyanate = benzyl thiocyanate</td>\n",
       "      <td>benzyl isothiocyanate;benzyl thiocyanate</td>\n",
       "      <td>CHEBI:17484;CHEBI:16017</td>\n",
       "      <td>EC:5.99.1.1</td>\n",
       "      <td>0</td>\n",
       "      <td>13997458</td>\n",
       "      <td>NaN</td>\n",
       "      <td>MetaCyc:THIOCYANATE-ISOMERASE-RXN</td>\n",
       "      <td>KEGG:R04010</td>\n",
       "      <td>NaN</td>\n",
       "    </tr>\n",
       "    <tr>\n",
       "      <th>2</th>\n",
       "      <td>RHEA:10008</td>\n",
       "      <td>[protein]-dithiol + a hydroperoxide = [protein...</td>\n",
       "      <td>L-cysteine residue;a hydroperoxide;L-cystine r...</td>\n",
       "      <td>CHEBI:29950;CHEBI:35924;CHEBI:50058;CHEBI:3087...</td>\n",
       "      <td>NaN</td>\n",
       "      <td>8</td>\n",
       "      <td>12033427;9587003;12517450;10751410</td>\n",
       "      <td>NaN</td>\n",
       "      <td>NaN</td>\n",
       "      <td>NaN</td>\n",
       "      <td>NaN</td>\n",
       "    </tr>\n",
       "    <tr>\n",
       "      <th>3</th>\n",
       "      <td>RHEA:10012</td>\n",
       "      <td>(R)-6-hydroxynicotine + H2O + O2 = 6-hydroxyps...</td>\n",
       "      <td>(R)-6-hydroxynicotine;H2O;O2;6-hydroxypseudoox...</td>\n",
       "      <td>CHEBI:58413;CHEBI:15377;CHEBI:15379;CHEBI:5868...</td>\n",
       "      <td>EC:1.5.3.6</td>\n",
       "      <td>1</td>\n",
       "      <td>16095622;2680607</td>\n",
       "      <td>NaN</td>\n",
       "      <td>MetaCyc:R-6-HYDROXYNICOTINE-OXIDASE-RXN</td>\n",
       "      <td>KEGG:R07170</td>\n",
       "      <td>NaN</td>\n",
       "    </tr>\n",
       "    <tr>\n",
       "      <th>4</th>\n",
       "      <td>RHEA:10016</td>\n",
       "      <td>H2O + O-sinapoylcholine = (E)-sinapate + choli...</td>\n",
       "      <td>H2O;O-sinapoylcholine;(E)-sinapate;choline;H(+)</td>\n",
       "      <td>CHEBI:15377;CHEBI:16353;CHEBI:30023;CHEBI:1535...</td>\n",
       "      <td>EC:3.1.1.49</td>\n",
       "      <td>1</td>\n",
       "      <td>18036206</td>\n",
       "      <td>NaN</td>\n",
       "      <td>MetaCyc:SINAPINE-ESTERASE-RXN</td>\n",
       "      <td>KEGG:R02381</td>\n",
       "      <td>NaN</td>\n",
       "    </tr>\n",
       "  </tbody>\n",
       "</table>\n",
       "</div>"
      ],
      "text/plain": [
       "  Reaction identifier                                           Equation  \\\n",
       "0          RHEA:10000            H2O + pentanamide = NH4(+) + pentanoate   \n",
       "1          RHEA:10004         benzyl isothiocyanate = benzyl thiocyanate   \n",
       "2          RHEA:10008  [protein]-dithiol + a hydroperoxide = [protein...   \n",
       "3          RHEA:10012  (R)-6-hydroxynicotine + H2O + O2 = 6-hydroxyps...   \n",
       "4          RHEA:10016  H2O + O-sinapoylcholine = (E)-sinapate + choli...   \n",
       "\n",
       "                                          ChEBI name  \\\n",
       "0                  H2O;pentanamide;NH4(+);pentanoate   \n",
       "1           benzyl isothiocyanate;benzyl thiocyanate   \n",
       "2  L-cysteine residue;a hydroperoxide;L-cystine r...   \n",
       "3  (R)-6-hydroxynicotine;H2O;O2;6-hydroxypseudoox...   \n",
       "4    H2O;O-sinapoylcholine;(E)-sinapate;choline;H(+)   \n",
       "\n",
       "                                    ChEBI identifier    EC number  Enzymes  \\\n",
       "0    CHEBI:15377;CHEBI:16459;CHEBI:28938;CHEBI:31011  EC:3.5.1.50        0   \n",
       "1                            CHEBI:17484;CHEBI:16017  EC:5.99.1.1        0   \n",
       "2  CHEBI:29950;CHEBI:35924;CHEBI:50058;CHEBI:3087...          NaN        8   \n",
       "3  CHEBI:58413;CHEBI:15377;CHEBI:15379;CHEBI:5868...   EC:1.5.3.6        1   \n",
       "4  CHEBI:15377;CHEBI:16353;CHEBI:30023;CHEBI:1535...  EC:3.1.1.49        1   \n",
       "\n",
       "                               PubMed Cross-reference (EcoCyc)  \\\n",
       "0                                 NaN                      NaN   \n",
       "1                            13997458                      NaN   \n",
       "2  12033427;9587003;12517450;10751410                      NaN   \n",
       "3                    16095622;2680607                      NaN   \n",
       "4                            18036206                      NaN   \n",
       "\n",
       "                 Cross-reference (MetaCyc) Cross-reference (KEGG)  \\\n",
       "0                MetaCyc:PENTANAMIDASE-RXN            KEGG:R02938   \n",
       "1        MetaCyc:THIOCYANATE-ISOMERASE-RXN            KEGG:R04010   \n",
       "2                                      NaN                    NaN   \n",
       "3  MetaCyc:R-6-HYDROXYNICOTINE-OXIDASE-RXN            KEGG:R07170   \n",
       "4            MetaCyc:SINAPINE-ESTERASE-RXN            KEGG:R02381   \n",
       "\n",
       "  Cross-reference (Reactome)  \n",
       "0                        NaN  \n",
       "1                        NaN  \n",
       "2                        NaN  \n",
       "3                        NaN  \n",
       "4                        NaN  "
      ]
     },
     "execution_count": 2,
     "metadata": {},
     "output_type": "execute_result"
    }
   ],
   "source": [
    "# construct all the important rhea files (esp. rhea2formula)\n",
    "from bioservices import Rhea\n",
    "r = Rhea()\n",
    "df = r.search(\"\")\n",
    "df.head()"
   ]
  },
  {
   "cell_type": "code",
   "execution_count": 65,
   "id": "689668b2-6312-4fce-bcc7-5ff3e96e5c76",
   "metadata": {},
   "outputs": [],
   "source": [
    "import compress_pickle\n",
    "import itertools\n",
    "import networkx as nx\n",
    "import numpy as np\n",
    "import os\n",
    "import pandas as pd\n",
    "import pickle"
   ]
  },
  {
   "cell_type": "markdown",
   "id": "561649f2-f4da-4467-8251-dfc067940f0d",
   "metadata": {},
   "source": [
    "## Map Rhea to proper directions (master or bi)"
   ]
  },
  {
   "cell_type": "code",
   "execution_count": 4,
   "id": "faa6a7d9-bb9f-46c0-b875-d21a316ecfe3",
   "metadata": {},
   "outputs": [
    {
     "name": "stdout",
     "output_type": "stream",
     "text": [
      "(13651, 4)\n",
      "(15453, 4)\n"
     ]
    }
   ],
   "source": [
    "new_direc = pd.read_csv(\"rhea-directions_18jan2023.tsv\", delimiter='\\t', keep_default_na=False)\n",
    "# print(old_direc.shape)"
   ]
  },
  {
   "cell_type": "code",
   "execution_count": 5,
   "id": "04641c6a-3633-46d4-83e0-8134c44ae4b5",
   "metadata": {},
   "outputs": [],
   "source": [
    "all2rhea_bi = dict()\n",
    "all2rhea_master = dict()\n",
    "\n",
    "for idx in new_direc.index:\n",
    "  one_row = new_direc.loc[idx, :]\n",
    "  # updating all2bi\n",
    "  for direction_type in one_row.index:\n",
    "    all2rhea_bi['RHEA:'+str(one_row[direction_type])] = 'RHEA:'+str(one_row['RHEA_ID_BI'])\n",
    "    all2rhea_master['RHEA:'+str(one_row[direction_type])] = 'RHEA:'+str(one_row['RHEA_ID_MASTER'])"
   ]
  },
  {
   "cell_type": "code",
   "execution_count": 124,
   "id": "b2d3bc33-6402-41b9-90f6-847b06348ba3",
   "metadata": {},
   "outputs": [],
   "source": [
    "# compress_pickle.dump(all2rhea_bi, 'rhea_all2bi_18jan2023.lzma',\n",
    "#                      compression=\"lzma\", set_default_extension=False)\n",
    "# compress_pickle.dump(all2rhea_master, 'rhea_all2master_18jan2023.lzma',\n",
    "#                      compression=\"lzma\", set_default_extension=False)"
   ]
  },
  {
   "cell_type": "code",
   "execution_count": 26,
   "id": "b9b1cf4d-48c7-4039-87f4-619a1b0c2ff4",
   "metadata": {},
   "outputs": [],
   "source": [
    "## Just for testing\n",
    "# with open('rhea_all2bi_18jan2023.lzma', 'rb') as f:\n",
    "#   rhea2bi = compress_pickle.load(f)\n",
    "# with open('rhea_all2master_18jan2023.lzma', 'rb') as f:\n",
    "#   rhea2master = compress_pickle.load(f)"
   ]
  },
  {
   "cell_type": "markdown",
   "id": "33c31ccf-831c-405a-82b0-88116efd9b9e",
   "metadata": {},
   "source": [
    "## Next, get Rhea2CHEBI & Rhea2Formula"
   ]
  },
  {
   "cell_type": "code",
   "execution_count": 21,
   "id": "76fef1d1-8ca6-4834-ac2c-02756f60d898",
   "metadata": {},
   "outputs": [],
   "source": [
    "CHEBI_DIR = '/Users/woosubs/Desktop/AutomateAnnotation/DATA/chebi'\n",
    "with open(os.path.join(CHEBI_DIR, 'chebi_shortened_formula_30apr2022.pickle'), 'rb') as f:\n",
    "  chebi2sformula = pickle.load(f)\n",
    "with open(os.path.join(CHEBI_DIR, 'chebi_second2prime_29apr2022.pickle'), 'rb') as f:\n",
    "  chebi2prime = pickle.load(f)"
   ]
  },
  {
   "cell_type": "code",
   "execution_count": 22,
   "id": "0285f396-a274-4e46-8850-18c4756d377f",
   "metadata": {},
   "outputs": [
    {
     "data": {
      "text/plain": [
       "'CHEBI:16651'"
      ]
     },
     "execution_count": 22,
     "metadata": {},
     "output_type": "execute_result"
    }
   ],
   "source": [
    "chebi2prime['CHEBI:16651']"
   ]
  },
  {
   "cell_type": "code",
   "execution_count": 80,
   "id": "85f8d315-b07a-4149-a761-601a4007ccb5",
   "metadata": {},
   "outputs": [],
   "source": [
    "mrhea2chebi = dict()\n",
    "mrhea2sformula = dict()\n",
    "for idx in df.index:\n",
    "  one_row = df.loc[idx, :]\n",
    "  one_mrhea = all2rhea_master[one_row['Reaction identifier']]\n",
    "  chebi_ids = one_row['ChEBI identifier'].split(';')\n",
    "  ## TODO: NEED TO MAP TO PRIMARY TERMS FIRST; \n",
    "  chebi_primes = [chebi2prime[val] for val in chebi_ids if val in chebi2prime.keys()]\n",
    "  # only store unique elements\n",
    "  sforms = list(set([chebi2sformula[val] for val in chebi_primes if val in chebi2sformula.keys()]))\n",
    "  # map once again, as long as elemennts exist;\n",
    "  if len(sforms)>0:\n",
    "    mrhea2chebi[one_mrhea] = chebi_primes\n",
    "    mrhea2sformula[one_mrhea] = sforms"
   ]
  },
  {
   "cell_type": "code",
   "execution_count": 83,
   "id": "4ed217f1-20b2-4325-8e60-f98e64af62b6",
   "metadata": {},
   "outputs": [],
   "source": [
    "# compress_pickle.dump(mrhea2chebi, 'mrhea2chebi_prime_18jan2023.lzma',\n",
    "#                      compression=\"lzma\", set_default_extension=False)\n",
    "# compress_pickle.dump(mrhea2sformula, 'mrhea2sformula_18jan2023.lzma',\n",
    "#                      compression=\"lzma\", set_default_extension=False)"
   ]
  },
  {
   "cell_type": "markdown",
   "id": "c3638671-68f2-45eb-bd66-015ef5e7a4dc",
   "metadata": {},
   "source": [
    "## Now, Create REF-MAT (or REF-DAT) "
   ]
  },
  {
   "cell_type": "code",
   "execution_count": 84,
   "id": "7b0bd231-8a18-4193-85c7-681d770bbda8",
   "metadata": {},
   "outputs": [],
   "source": [
    "# 1. collect all formulas (columns)\n",
    "formulas = []\n",
    "for one_k in mrhea2sformula.keys():\n",
    "  one_list_formula = mrhea2sformula[one_k]\n",
    "  formulas.append(one_list_formula)\n",
    "all_formulas = list(set(itertools.chain(*formulas)))\n",
    "\n",
    "# set index as the list of Rhea terms\n",
    "ref_mat = pd.DataFrame(0, index=list(mrhea2sformula.keys()), columns=all_formulas)\n",
    "\n",
    "for one_k in mrhea2sformula.keys():\n",
    "  one_list_formula = mrhea2sformula[one_k]\n",
    "  ref_mat.loc[one_k, one_list_formula] = 1"
   ]
  },
  {
   "cell_type": "code",
   "execution_count": 85,
   "id": "0f348874-78b4-4785-9803-2307ab681e14",
   "metadata": {},
   "outputs": [
    {
     "data": {
      "text/plain": [
       "(15451, 4003)"
      ]
     },
     "execution_count": 85,
     "metadata": {},
     "output_type": "execute_result"
    }
   ],
   "source": [
    "ref_mat.shape"
   ]
  },
  {
   "cell_type": "code",
   "execution_count": 101,
   "id": "b0e5a92c-3fe5-4554-a8cc-3f13bc67ea97",
   "metadata": {},
   "outputs": [],
   "source": [
    "# ref_dat is a decomposed version of ref_mat, to reduce size\n",
    "# do it by columns (smaller number than rhea reactions)\n",
    "nonzero_vals = []\n",
    "for cidx in range(len(ref_mat.columns)):\n",
    "  one_col = ref_mat.iloc[:, cidx]\n",
    "  nonzero_vals.append((cidx, list(one_col.to_numpy().nonzero()[0])))\n",
    "ref_dat = (all_formulas, list(mrhea2sformula.keys()), nonzero_vals)"
   ]
  },
  {
   "cell_type": "code",
   "execution_count": 102,
   "id": "91ddc374-86b3-4278-b288-6dd3f8d35e92",
   "metadata": {},
   "outputs": [],
   "source": [
    "# testing if data works well\n",
    "# first of list is list of columns\n",
    "cols = ref_dat[0]\n",
    "# second, list of indices\n",
    "inds = ref_dat[1]\n",
    "# third, list of index (column, [non-zero rows])\n",
    "ref_mat_pairs = ref_dat[2]\n",
    "REF_MAT = pd.DataFrame(0, index=inds, columns=cols)\n",
    "for val in ref_mat_pairs:\n",
    "  REF_MAT.iloc[val[1], val[0]] = 1"
   ]
  },
  {
   "cell_type": "code",
   "execution_count": 107,
   "id": "ad87570b-8cda-490f-9778-bff272c136d9",
   "metadata": {},
   "outputs": [
    {
     "data": {
      "text/plain": [
       "True"
      ]
     },
     "execution_count": 107,
     "metadata": {},
     "output_type": "execute_result"
    }
   ],
   "source": [
    "np.sum(np.sum(ref_mat == REF_MAT)) == ref_mat.shape[0] * ref_mat.shape[1]"
   ]
  },
  {
   "cell_type": "code",
   "execution_count": 116,
   "id": "e5e10e6f-d846-4bff-bc00-20a8bb9a8d35",
   "metadata": {},
   "outputs": [],
   "source": [
    "# compress_pickle.dump(ref_dat, 'data2ref_mat_18jan2023.lzma',\n",
    "#                      compression=\"lzma\", set_default_extension=False)"
   ]
  },
  {
   "cell_type": "code",
   "execution_count": null,
   "id": "479cc410-1bc1-4ba9-829f-b25fd7c4ba44",
   "metadata": {},
   "outputs": [],
   "source": []
  },
  {
   "cell_type": "markdown",
   "id": "41e90055-665d-4f0e-a461-ad108c421948",
   "metadata": {},
   "source": [
    "## Next, EC2Rhea(Master) and KEGG2Rhea(Master) for taking out existing annotations"
   ]
  },
  {
   "cell_type": "code",
   "execution_count": 44,
   "id": "7167e916-e0c5-43f6-89a4-56563a75c76b",
   "metadata": {},
   "outputs": [],
   "source": [
    "rhea2ec = pd.read_csv(\"rhea2ec_18jan2023.tsv\", delimiter='\\t', keep_default_na=False)\n",
    "rhea2kegg = pd.read_csv(\"rhea2kegg_reaction_18jan2023.tsv\", delimiter='\\t', keep_default_na=False)\n",
    "rhea2go = pd.read_csv(\"rhea2go_18jan2023.tsv\", delimiter='\\t', keep_default_na=False)"
   ]
  },
  {
   "cell_type": "code",
   "execution_count": 122,
   "id": "6f3212ae-fd08-4d31-8c8f-91272786244d",
   "metadata": {},
   "outputs": [
    {
     "name": "stdout",
     "output_type": "stream",
     "text": [
      "6637\n",
      "5964\n",
      "4354\n"
     ]
    }
   ],
   "source": [
    "kegg2mrhea = dict()\n",
    "for idx in rhea2kegg.index:\n",
    "  one_row = rhea2kegg.loc[idx, :]\n",
    "  kegg_str = 'KEGG:'+one_row['ID']\n",
    "  if kegg_str in kegg2mrhea.keys():\n",
    "    kegg2mrhea[kegg_str].append('RHEA:'+str(one_row['MASTER_ID']))\n",
    "  else:\n",
    "    kegg2mrhea[kegg_str] = ['RHEA:'+str(one_row['MASTER_ID'])]\n",
    "print(len(kegg2mrhea))\n",
    "#\n",
    "ec2mrhea = dict()\n",
    "for idx in rhea2ec.index:\n",
    "  one_row = rhea2ec.loc[idx, :]\n",
    "  ec_str = 'EC:'+one_row['ID']\n",
    "  if ec_str in ec2mrhea.keys():\n",
    "    ec2mrhea[ec_str].append('RHEA:'+str(one_row['MASTER_ID']))\n",
    "  else:\n",
    "    ec2mrhea[ec_str] = ['RHEA:'+str(one_row['MASTER_ID'])]\n",
    "print(len(ec2mrhea))\n",
    "#\n",
    "go2mrhea = dict()\n",
    "for idx in rhea2go.index:\n",
    "  one_row = rhea2go.loc[idx, :]\n",
    "  go_str = one_row['ID']\n",
    "  if go_str in go2mrhea.keys():\n",
    "    go2mrhea[go_str].append('RHEA:'+str(one_row['MASTER_ID']))\n",
    "  else:\n",
    "    go2mrhea[go_str] = ['RHEA:'+str(one_row['MASTER_ID'])]\n",
    "print(len(go2mrhea))"
   ]
  },
  {
   "cell_type": "code",
   "execution_count": 123,
   "id": "a9aac58d-4ffb-4b71-a9c2-eeefcbdc3afe",
   "metadata": {},
   "outputs": [],
   "source": [
    "compress_pickle.dump(kegg2mrhea, 'kegg2mrhea_18jan2023.lzma',\n",
    "                     compression=\"lzma\", set_default_extension=False)\n",
    "compress_pickle.dump(ec2mrhea, 'ec2mrhea_18jan2023.lzma',\n",
    "                     compression=\"lzma\", set_default_extension=False)\n",
    "compress_pickle.dump(go2mrhea, 'go2mrhea_18jan2023.lzma',\n",
    "                     compression=\"lzma\", set_default_extension=False)"
   ]
  },
  {
   "cell_type": "code",
   "execution_count": null,
   "id": "f764ae9c-6eac-4e2b-8b22-f000523617bb",
   "metadata": {},
   "outputs": [],
   "source": []
  }
 ],
 "metadata": {
  "kernelspec": {
   "display_name": "Python 3 (ipykernel)",
   "language": "python",
   "name": "python3"
  },
  "language_info": {
   "codemirror_mode": {
    "name": "ipython",
    "version": 3
   },
   "file_extension": ".py",
   "mimetype": "text/x-python",
   "name": "python",
   "nbconvert_exporter": "python",
   "pygments_lexer": "ipython3",
   "version": "3.11.2"
  }
 },
 "nbformat": 4,
 "nbformat_minor": 5
}
