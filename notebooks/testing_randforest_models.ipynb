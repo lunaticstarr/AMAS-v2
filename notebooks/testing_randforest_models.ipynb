{
 "cells": [
  {
   "cell_type": "code",
   "execution_count": 1,
   "id": "7e9abcab-d2bc-4429-8e9e-204cd5352e49",
   "metadata": {},
   "outputs": [],
   "source": [
    "# testing ML models\n",
    "import collections\n",
    "import copy\n",
    "import itertools\n",
    "import libsbml\n",
    "import numpy as np\n",
    "import os\n",
    "import pickle\n",
    "import pandas as pd\n",
    "import sys\n",
    "import matplotlib.pyplot as plt\n",
    "%matplotlib inline  \n",
    "\n",
    "BIOMD_12 = 'BIOMD0000000012.xml'\n",
    "BASE_DIR = '/Users/woosubs/Desktop/AutomateAnnotation/'\n",
    "DATA_DIR = os.path.join(BASE_DIR, \"DATA\")\n",
    "ALGO_DIR = os.path.join(DATA_DIR, \"algo\")\n",
    "CHEBI_DIR = os.path.join(DATA_DIR, \"chebi\")\n",
    "RHEA_DIR = os.path.join(DATA_DIR, \"rhea\")\n",
    "BIOMODEL_DIR = os.path.join(DATA_DIR, \"biomodels/curated_biomodels_31mar2021\")\n",
    "BIGG_DIR = '/Users/woosubs/Desktop/AutomateAnnotation/DATA/bigg'\n",
    "ecoli_fpath = os.path.join(BIGG_DIR, \"e_coli_core.xml\")\n",
    "\n",
    "PROJ_DIR = os.path.join(os.getcwd(), os.pardir)\n",
    "AMAS_DIR = os.path.join(PROJ_DIR, \"AMAS\")\n",
    "sys.path.append(PROJ_DIR)\n",
    "\n",
    "SUPPL_DIR = os.path.join(PROJ_DIR, os.pardir, \"AMAS_suppl\")\n",
    "ACCURACY_DIR = os.path.join(SUPPL_DIR, \"data_for_credibility\")\n",
    "\n",
    "from AMAS import species_annotation as sa\n",
    "from AMAS import reaction_annotation as ra\n",
    "from AMAS import recommender\n",
    "from AMAS import constants as cn\n",
    "from AMAS import iterator as it\n",
    "from AMAS import tools"
   ]
  },
  {
   "cell_type": "code",
   "execution_count": 2,
   "id": "ba2a4f63-19d1-4677-a443-eac0c8eb1477",
   "metadata": {},
   "outputs": [
    {
     "data": {
      "text/plain": [
       "{'name_used': 'ATP',\n",
       " 'chebi': ['CHEBI:74926',\n",
       "  'CHEBI:30616',\n",
       "  'CHEBI:37537',\n",
       "  'CHEBI:15702',\n",
       "  'CHEBI:53394',\n",
       "  'CHEBI:15422'],\n",
       " 'match_score': [('CHEBI:74926', 1.0),\n",
       "  ('CHEBI:30616', 1.0),\n",
       "  ('CHEBI:37537', 1.0),\n",
       "  ('CHEBI:15702', 1.0),\n",
       "  ('CHEBI:53394', 1.0),\n",
       "  ('CHEBI:15422', 1.0)],\n",
       " 'formula': ['C10N5O13P3', 'C36O8', 'C7O4', 'O40PW12', 'C8O4']}"
      ]
     },
     "execution_count": 2,
     "metadata": {},
     "output_type": "execute_result"
    }
   ],
   "source": [
    "# # Integrating model with AMAS; \n",
    "one_biomd = 'BIOMD0000000634.xml'\n",
    "one_fpath = os.path.join(BIOMODEL_DIR, one_biomd)\n",
    "recom = recommender.Recommender(libsbml_fpath=one_fpath)\n",
    "recom.species.exist_annotation\n",
    "pred_res = recom.species.predictAnnotationByCosineSimilarity(inp_ids=['ATP'])['ATP']\n",
    "pred_res"
   ]
  },
  {
   "cell_type": "code",
   "execution_count": 3,
   "id": "f8aa6f18-2755-4e70-8731-0eea55c04de4",
   "metadata": {},
   "outputs": [
    {
     "data": {
      "text/plain": [
       "0.8342991901651113"
      ]
     },
     "execution_count": 3,
     "metadata": {},
     "output_type": "execute_result"
    }
   ],
   "source": [
    "recom.species.evaluatePredictedSpeciesAnnotation(pred_res)"
   ]
  },
  {
   "cell_type": "code",
   "execution_count": 4,
   "id": "d6c65272-adfe-4e36-9553-f584a468fbe8",
   "metadata": {},
   "outputs": [],
   "source": [
    "BIOMD_190_PATH = os.path.join(cn.TEST_DIR, 'BIOMD0000000190.xml')\n",
    "BIOMD_634_PATH = os.path.join(cn.TEST_DIR, 'BIOMD0000000634.xml')\n",
    "ONE_SPEC_CAND = ('CHEBI:15414', 1.0)\n",
    "ONE_SPEC_URL = 'https://www.ebi.ac.uk/chebi/searchId.do?chebiId=CHEBI%3A15414'\n",
    "TWO_SPEC_CAND = ('CHEBI:15729', 1.0)\n",
    "TWO_SPEC_URL = 'https://www.ebi.ac.uk/chebi/searchId.do?chebiId=CHEBI%3A15729'\n",
    "\n",
    "ONE_REAC_CAND = ('RHEA:28830', 1.0)\n",
    "ONE_REAC_URL = 'https://www.rhea-db.org/rhea/28830'\n",
    "\n",
    "SPECIES_SAM = 'SAM'\n",
    "SPECIES_SAM_NAME = 'S-adenosyl-L-methionine'\n",
    "SPECIES_ORN = 'ORN'\n",
    "SPECIES_ATP = 'ATP'\n",
    "REACTION_ODC = 'ODC'\n",
    "REACTION_SAMDC = 'SAMdc'\n",
    "REACTION_SPMS = 'SpmS'\n",
    "\n",
    "ONE_CHEBI = 'CHEBI:15414'"
   ]
  },
  {
   "cell_type": "code",
   "execution_count": 5,
   "id": "631a65cd-78a2-4eb0-bfe5-86e8af74cea0",
   "metadata": {},
   "outputs": [],
   "source": [
    "recom = recommender.Recommender(libsbml_fpath=BIOMD_190_PATH)"
   ]
  },
  {
   "cell_type": "code",
   "execution_count": 6,
   "id": "72a0ed24-0131-4b3e-9bf5-09bcbd397aaa",
   "metadata": {},
   "outputs": [
    {
     "data": {
      "text/plain": [
       "Recommendation(id='SAM', credibility=0.974, candidates=[('CHEBI:15414', 1.0), ('CHEBI:59789', 1.0)], urls=['https://www.ebi.ac.uk/chebi/searchId.do?chebiId=CHEBI%3A15414', 'https://www.ebi.ac.uk/chebi/searchId.do?chebiId=CHEBI%3A59789'], labels=['S-adenosyl-L-methionine', 'S-adenosyl-L-methionine zwitterion'])"
      ]
     },
     "execution_count": 6,
     "metadata": {},
     "output_type": "execute_result"
    }
   ],
   "source": [
    "specs = recom.getSpeciesListRecommendation(pred_ids=[SPECIES_SAM, SPECIES_ORN],\n",
    "                                           update=False, method='edist')\n",
    "one_res = specs[0]\n",
    "one_res"
   ]
  },
  {
   "cell_type": "code",
   "execution_count": 7,
   "id": "296aaec5-2371-4acf-bffd-fa1c463e09d1",
   "metadata": {},
   "outputs": [],
   "source": [
    "# For species\n",
    "\n",
    "E_COLI_PATH = os.path.join(cn.TEST_DIR, 'e_coli_core.xml')\n",
    "BIOMD_248_PATH = os.path.join(cn.TEST_DIR, 'BIOMD0000000248.xml')\n",
    "# IDs of species\n",
    "M_FDP_C = 'M_fdp_c'\n",
    "M_ATP_C = 'M_atp_c'\n",
    "M_AMP_C = 'M_amp_c'\n",
    "M_GLUCOSE = 'M_glc__D_e'\n",
    "D_GLUCOSE = 'D-Glucose'\n",
    "\n",
    "ONESET_SPECIES_IDS = [M_FDP_C, M_ATP_C]\n",
    "ONE_CHEBI = 'CHEBI:15414'\n",
    "ATP_CHEBI = 'CHEBI:30616'\n",
    "ATP_FORMULA = 'C10N5O13P3'\n",
    "spec_cl = sa.SpeciesAnnotation(libsbml_fpath = E_COLI_PATH)"
   ]
  },
  {
   "cell_type": "code",
   "execution_count": 8,
   "id": "5fa14057-d232-4cd0-a154-751452b71ea7",
   "metadata": {},
   "outputs": [
    {
     "data": {
      "text/plain": [
       "0.8590126303427104"
      ]
     },
     "execution_count": 8,
     "metadata": {},
     "output_type": "execute_result"
    }
   ],
   "source": [
    "fdp_pred_spec = spec_cl.predictAnnotationByEditDistance(inp_str=M_FDP_C)\n",
    "fdp_score = spec_cl.evaluatePredictedSpeciesAnnotation(pred_result=fdp_pred_spec)\n",
    "fdp_score"
   ]
  },
  {
   "cell_type": "code",
   "execution_count": 17,
   "id": "ade77a34-fde8-4c7d-b1a3-ba295641c1b2",
   "metadata": {},
   "outputs": [
    {
     "data": {
      "text/plain": [
       "0.9070469526596386"
      ]
     },
     "execution_count": 17,
     "metadata": {},
     "output_type": "execute_result"
    }
   ],
   "source": [
    "atp_pred_spec = spec_cl.predictAnnotationByEditDistance(inp_str=M_ATP_C)\n",
    "atp_score = spec_cl.evaluatePredictedSpeciesAnnotation(pred_result=atp_pred_spec)\n",
    "atp_score"
   ]
  },
  {
   "cell_type": "code",
   "execution_count": 10,
   "id": "9eb878cd-f0d6-43ef-b698-a4deff4015fb",
   "metadata": {},
   "outputs": [
    {
     "data": {
      "text/plain": [
       "{'M_atp_c': {'name_used': 'ATP C10H12N5O13P3',\n",
       "  'chebi': ['CHEBI:153955'],\n",
       "  'match_score': [('CHEBI:153955', 0.84)],\n",
       "  'formula': ['C30N4O29P3']}}"
      ]
     },
     "execution_count": 10,
     "metadata": {},
     "output_type": "execute_result"
    }
   ],
   "source": [
    "atp_pred_spec"
   ]
  },
  {
   "cell_type": "code",
   "execution_count": 11,
   "id": "3bd64f7d-9ae3-484f-94bd-28454a4fe0c7",
   "metadata": {},
   "outputs": [],
   "source": [
    "# For reactions\n",
    "E_COLI_PATH = os.path.join(cn.TEST_DIR, 'e_coli_core.xml')\n",
    "BIOMD_248_PATH = os.path.join(cn.TEST_DIR, 'BIOMD0000000248.xml')\n",
    "# ID of a reaction\n",
    "R_PFK = 'R_PFK'\n",
    "ATP = 'M_atp_c'\n",
    "COMPONENTS = {'M_fdp_c', 'M_adp_c', 'M_atp_c', 'M_f6p_c', 'M_h_c'}\n",
    "ONE_CANDIDATE = 'RHEA:12423'\n",
    "ONE_CHEBI = 'CHEBI:30616'\n",
    "\n",
    "# Dummy data for calculating accuracy, recalll & precision\n",
    "DUMMY_REF = {'a': ['ABC', 'BCD'],\n",
    "              'b': ['DEF']}\n",
    "DUMMY_PRED = {'a': ['ABC'],\n",
    "             'b': ['AAA']}\n",
    "recom = recommender.Recommender(libsbml_fpath=ecoli_fpath)"
   ]
  },
  {
   "cell_type": "code",
   "execution_count": 12,
   "id": "e6451284-7c6e-41a4-a106-b161a17c9729",
   "metadata": {},
   "outputs": [
    {
     "data": {
      "text/plain": [
       "0.811"
      ]
     },
     "execution_count": 12,
     "metadata": {},
     "output_type": "execute_result"
    }
   ],
   "source": [
    "pred_species = recom.species.predictAnnotationByCosineSimilarity(inp_ids=COMPONENTS)\n",
    "spec_formula_dict = {val: pred_species[val][cn.FORMULA] for val in COMPONENTS}  \n",
    "pred_reaction = recom.reactions.predictAnnotation(inp_spec_dict=spec_formula_dict,\n",
    "                                                  inp_reac_list=[R_PFK],\n",
    "                                                  update=True)\n",
    "cred_res = recom.reactions.evaluatePredictedReactionAnnotation(pred_result=pred_reaction)\n",
    "np.round(cred_res[R_PFK], cn.ROUND_DIGITS)"
   ]
  },
  {
   "cell_type": "code",
   "execution_count": 13,
   "id": "113ae7e8-3af3-4ed5-9319-68cc86f2e870",
   "metadata": {},
   "outputs": [
    {
     "data": {
      "text/plain": [
       "Recommendation(id='ODC', credibility=0.815, candidates=[('RHEA:28827', 1.0), ('RHEA:22964', 0.5), ('RHEA:59048', 0.5)], urls=['https://www.rhea-db.org/rhea/28827', 'https://www.rhea-db.org/rhea/22964', 'https://www.rhea-db.org/rhea/59048'], labels=['L-ornithine(out) + putrescine(in) = L-ornithine(in) + putrescine(out)', 'ornithine decarboxylase activity', 'D-ornithine + H(+) = CO2 + putrescine'])"
      ]
     },
     "execution_count": 13,
     "metadata": {},
     "output_type": "execute_result"
    }
   ],
   "source": [
    "REACTION_ODC = 'ODC'\n",
    "REACTION_SAMDC = 'SAMdc'\n",
    "\n",
    "one_biomd = 'BIOMD0000000190.xml'\n",
    "one_fpath = os.path.join(BIOMODEL_DIR, one_biomd)\n",
    "recom = recommender.Recommender(libsbml_fpath=one_fpath)\n",
    "\n",
    "recom.getReactionRecommendation(REACTION_ODC)"
   ]
  },
  {
   "cell_type": "code",
   "execution_count": null,
   "id": "ef60cf5c-21ff-4a11-adc9-fa7806b5cd43",
   "metadata": {},
   "outputs": [],
   "source": []
  },
  {
   "cell_type": "code",
   "execution_count": null,
   "id": "84f7d18a-a6c2-453c-9c23-de7697d79a1b",
   "metadata": {},
   "outputs": [],
   "source": []
  }
 ],
 "metadata": {
  "kernelspec": {
   "display_name": "Python 3 (ipykernel)",
   "language": "python",
   "name": "python3"
  },
  "language_info": {
   "codemirror_mode": {
    "name": "ipython",
    "version": 3
   },
   "file_extension": ".py",
   "mimetype": "text/x-python",
   "name": "python",
   "nbconvert_exporter": "python",
   "pygments_lexer": "ipython3",
   "version": "3.9.15"
  }
 },
 "nbformat": 4,
 "nbformat_minor": 5
}
