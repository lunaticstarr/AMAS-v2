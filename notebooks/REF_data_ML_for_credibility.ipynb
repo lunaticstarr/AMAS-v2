{
 "cells": [
  {
   "cell_type": "code",
   "execution_count": 1,
   "id": "b859e401-1d81-455d-8486-4d973daf907f",
   "metadata": {},
   "outputs": [],
   "source": [
    "# collect data and get models to predict credibility score\n",
    "import collections\n",
    "import copy\n",
    "import itertools\n",
    "import libsbml\n",
    "import numpy as np\n",
    "import os\n",
    "import pickle\n",
    "import pandas as pd\n",
    "import sys\n",
    "import matplotlib.pyplot as plt\n",
    "%matplotlib inline  \n",
    "\n",
    "BIOMD_12 = 'BIOMD0000000012.xml'\n",
    "BASE_DIR = '/Users/woosubs/Desktop/AutomateAnnotation/'\n",
    "DATA_DIR = os.path.join(BASE_DIR, \"DATA\")\n",
    "ALGO_DIR = os.path.join(DATA_DIR, \"algo\")\n",
    "CHEBI_DIR = os.path.join(DATA_DIR, \"chebi\")\n",
    "RHEA_DIR = os.path.join(DATA_DIR, \"rhea\")\n",
    "BIOMODEL_DIR = os.path.join(DATA_DIR, \"biomodels/curated_biomodels_31mar2021\")\n",
    "BIGG_DIR = '/Users/woosubs/Desktop/AutomateAnnotation/DATA/bigg'\n",
    "ecoli_fpath = os.path.join(BIGG_DIR, \"e_coli_core.xml\")\n",
    "\n",
    "PROJ_DIR = os.path.join(os.getcwd(), os.pardir)\n",
    "AMAS_DIR = os.path.join(PROJ_DIR, \"AMAS\")\n",
    "sys.path.append(PROJ_DIR)\n",
    "\n",
    "SUPPL_DIR = os.path.join(PROJ_DIR, os.pardir, \"AMAS_suppl\")\n",
    "ACCURACY_DIR = os.path.join(SUPPL_DIR, \"csv_for_accuracy\")\n",
    "\n",
    "from AMAS import species_annotation as sa\n",
    "from AMAS import reaction_annotation as ra\n",
    "from AMAS import recommender\n",
    "from AMAS import constants as cn\n",
    "from AMAS import iterator as it\n",
    "from AMAS import tools"
   ]
  },
  {
   "cell_type": "markdown",
   "id": "c876d7c6-c985-4294-b51c-4a69ad0f5679",
   "metadata": {},
   "source": [
    "## Data for species prediction"
   ]
  },
  {
   "cell_type": "code",
   "execution_count": 2,
   "id": "6631f640-725c-4c3b-b2ab-ac5c51f970ff",
   "metadata": {},
   "outputs": [],
   "source": [
    "biomds = [val for val in os.listdir(BIOMODEL_DIR) if val[-4:]=='.xml']"
   ]
  },
  {
   "cell_type": "code",
   "execution_count": 39,
   "id": "9adb008d-12af-480d-b799-7f02c8662cfd",
   "metadata": {},
   "outputs": [
    {
     "name": "stdout",
     "output_type": "stream",
     "text": [
      "We are at 0\n",
      "We are at 100\n",
      "We are at 200\n",
      "We are at 300\n",
      "We are at 400\n",
      "We are at 500\n",
      "We are at 600\n",
      "We are at 700\n",
      "We are at 800\n",
      "We are at 900\n"
     ]
    }
   ],
   "source": [
    "model_names = []\n",
    "len_names = []\n",
    "num_cands = []\n",
    "num_formulas = []\n",
    "match_scores = []\n",
    "is_correct_included = []\n",
    "#\n",
    "for idx, one_biomd in enumerate(biomds):\n",
    "  if idx % 100 == 0:\n",
    "    print(\"We are at\", idx)\n",
    "  one_fpath = os.path.join(BIOMODEL_DIR, one_biomd)\n",
    "  recom = recommender.Recommender(libsbml_fpath=one_fpath)\n",
    "  specs2evaluate = list(recom.species.exist_annotation_formula.keys())\n",
    "  # run algorithm if there is at least one species to evaluate\n",
    "  if specs2evaluate:\n",
    "    recoms = recom.getSpeciesListAnnotation(pred_ids=recom.species.exist_annotation_formula.keys())\n",
    "    recalls = recom.getSpeciesStatistics(model_mean=False)[cn.RECALL]\n",
    "    for one_recom in recoms:\n",
    "      model_names.append(one_biomd)\n",
    "      one_spec = one_recom.id\n",
    "      len_names.append(len(recom.species.getNameToUse(one_spec)))\n",
    "      num_cands.append(len(one_recom.candidates))\n",
    "      num_formulas.append(len(recom.species.formula[one_recom.id]))\n",
    "      match_scores.append(one_recom.candidates[0][1])\n",
    "      if recalls[one_spec] > 0:\n",
    "        is_correct_included.append(1)\n",
    "      else:\n",
    "        is_correct_included.append(0)"
   ]
  },
  {
   "cell_type": "code",
   "execution_count": 41,
   "id": "ed81c8d1-e4f9-4d8e-9968-1d2b76ead1e4",
   "metadata": {},
   "outputs": [],
   "source": [
    "spec_df = pd.DataFrame({'model': model_names,\n",
    "                        'name_length': len_names,\n",
    "                        'num_candidates': num_cands,\n",
    "                        'num_formulas': num_formulas,\n",
    "                        'match_score': match_scores,\n",
    "                        'accuracy': is_correct_included})"
   ]
  },
  {
   "cell_type": "code",
   "execution_count": 4,
   "id": "cdccf6c0-3f84-4952-83e3-59de85cb00db",
   "metadata": {},
   "outputs": [],
   "source": [
    "spec_df = pd.read_csv(os.path.join(ACCURACY_DIR, 'individual_species_accuracy.csv'))"
   ]
  },
  {
   "cell_type": "code",
   "execution_count": 5,
   "id": "1c575a37-fe33-478e-82a1-d6f0609bade9",
   "metadata": {},
   "outputs": [
    {
     "data": {
      "text/html": [
       "<div>\n",
       "<style scoped>\n",
       "    .dataframe tbody tr th:only-of-type {\n",
       "        vertical-align: middle;\n",
       "    }\n",
       "\n",
       "    .dataframe tbody tr th {\n",
       "        vertical-align: top;\n",
       "    }\n",
       "\n",
       "    .dataframe thead th {\n",
       "        text-align: right;\n",
       "    }\n",
       "</style>\n",
       "<table border=\"1\" class=\"dataframe\">\n",
       "  <thead>\n",
       "    <tr style=\"text-align: right;\">\n",
       "      <th></th>\n",
       "      <th>model</th>\n",
       "      <th>name_length</th>\n",
       "      <th>num_candidates</th>\n",
       "      <th>num_formulas</th>\n",
       "      <th>match_score</th>\n",
       "      <th>accuracy</th>\n",
       "    </tr>\n",
       "  </thead>\n",
       "  <tbody>\n",
       "    <tr>\n",
       "      <th>0</th>\n",
       "      <td>BIOMD0000000634.xml</td>\n",
       "      <td>3</td>\n",
       "      <td>6</td>\n",
       "      <td>5</td>\n",
       "      <td>1.000</td>\n",
       "      <td>1</td>\n",
       "    </tr>\n",
       "    <tr>\n",
       "      <th>1</th>\n",
       "      <td>BIOMD0000000634.xml</td>\n",
       "      <td>3</td>\n",
       "      <td>13</td>\n",
       "      <td>11</td>\n",
       "      <td>1.000</td>\n",
       "      <td>1</td>\n",
       "    </tr>\n",
       "    <tr>\n",
       "      <th>2</th>\n",
       "      <td>BIOMD0000000634.xml</td>\n",
       "      <td>3</td>\n",
       "      <td>14</td>\n",
       "      <td>12</td>\n",
       "      <td>1.000</td>\n",
       "      <td>1</td>\n",
       "    </tr>\n",
       "    <tr>\n",
       "      <th>3</th>\n",
       "      <td>BIOMD0000000152.xml</td>\n",
       "      <td>2</td>\n",
       "      <td>7</td>\n",
       "      <td>5</td>\n",
       "      <td>1.000</td>\n",
       "      <td>1</td>\n",
       "    </tr>\n",
       "    <tr>\n",
       "      <th>4</th>\n",
       "      <td>BIOMD0000000152.xml</td>\n",
       "      <td>15</td>\n",
       "      <td>1</td>\n",
       "      <td>1</td>\n",
       "      <td>0.873</td>\n",
       "      <td>0</td>\n",
       "    </tr>\n",
       "  </tbody>\n",
       "</table>\n",
       "</div>"
      ],
      "text/plain": [
       "                 model  name_length  num_candidates  num_formulas  \\\n",
       "0  BIOMD0000000634.xml            3               6             5   \n",
       "1  BIOMD0000000634.xml            3              13            11   \n",
       "2  BIOMD0000000634.xml            3              14            12   \n",
       "3  BIOMD0000000152.xml            2               7             5   \n",
       "4  BIOMD0000000152.xml           15               1             1   \n",
       "\n",
       "   match_score  accuracy  \n",
       "0        1.000         1  \n",
       "1        1.000         1  \n",
       "2        1.000         1  \n",
       "3        1.000         1  \n",
       "4        0.873         0  "
      ]
     },
     "execution_count": 5,
     "metadata": {},
     "output_type": "execute_result"
    }
   ],
   "source": [
    "spec_df.head()"
   ]
  },
  {
   "cell_type": "code",
   "execution_count": 95,
   "id": "0e7b9623-f804-485c-873a-5dd7d5a15339",
   "metadata": {},
   "outputs": [],
   "source": [
    "# data was saved somewhere else\n",
    "# spec_df.to_csv(os.path.join(ACCURACY_DIR, 'individual_species_accuracy.csv'), index=False)"
   ]
  },
  {
   "cell_type": "code",
   "execution_count": 24,
   "id": "7f3ca454-fd36-4381-9e3c-4b9a7a203480",
   "metadata": {},
   "outputs": [
    {
     "data": {
      "text/plain": [
       "0.5980956598759964"
      ]
     },
     "execution_count": 24,
     "metadata": {},
     "output_type": "execute_result"
    }
   ],
   "source": [
    "np.sum(spec_df['accuracy']) / spec_df.shape[0]"
   ]
  },
  {
   "cell_type": "markdown",
   "id": "531647f2-ed52-4361-afe9-e6c87bbee939",
   "metadata": {},
   "source": [
    "## Cross validation score will be computed using three classifiers\n",
    "## 1. RandForest, 2. AdaBoost, 3. SVC \n",
    "## and the best performing one was chosen. "
   ]
  },
  {
   "cell_type": "code",
   "execution_count": 7,
   "id": "fdceee72-c4dd-4ceb-ae72-c9ab12aca860",
   "metadata": {},
   "outputs": [],
   "source": [
    "from sklearn.model_selection import cross_val_score\n",
    "X = spec_df.iloc[:,1:-1].to_numpy()\n",
    "y = spec_df.loc[:,'accuracy']"
   ]
  },
  {
   "cell_type": "code",
   "execution_count": 85,
   "id": "f920bde1-de7f-49fb-93c2-2bcc7f0ed8fb",
   "metadata": {},
   "outputs": [
    {
     "name": "stdout",
     "output_type": "stream",
     "text": [
      "AdaBoost 10-Fold CV Score 0.8739958401193023\n"
     ]
    }
   ],
   "source": [
    "from sklearn.ensemble import AdaBoostClassifier\n",
    "clf = AdaBoostClassifier(n_estimators=100, random_state=0)\n",
    "clf.fit(X, y)\n",
    "scores = cross_val_score(clf, X, y, cv=10)\n",
    "print(\"AdaBoost 10-Fold CV Score\", np.mean(scores))"
   ]
  },
  {
   "cell_type": "code",
   "execution_count": 88,
   "id": "066b7d20-9bf2-43e1-8126-188b394ad59c",
   "metadata": {},
   "outputs": [
    {
     "name": "stdout",
     "output_type": "stream",
     "text": [
      "RandomForest 10-Fold CV Score 0.8757657516237269\n"
     ]
    }
   ],
   "source": [
    "from sklearn.ensemble import RandomForestClassifier\n",
    "clf = RandomForestClassifier(max_depth=5, random_state=0)\n",
    "clf.fit(X, y)\n",
    "scores = cross_val_score(clf, X, y, cv=10)\n",
    "print(\"RandomForest 10-Fold CV Score\", np.mean(scores))"
   ]
  },
  {
   "cell_type": "code",
   "execution_count": 8,
   "id": "97a0ec62-6652-4147-8a36-db5960fe6684",
   "metadata": {},
   "outputs": [
    {
     "name": "stdout",
     "output_type": "stream",
     "text": [
      "[[0.16893219 0.83106781]\n",
      " [0.08797943 0.91202057]\n",
      " [0.08797943 0.91202057]\n",
      " ...\n",
      " [0.10496656 0.89503344]\n",
      " [0.03587128 0.96412872]\n",
      " [0.07806988 0.92193012]]\n"
     ]
    }
   ],
   "source": [
    "from sklearn.ensemble import RandomForestClassifier\n",
    "clf = RandomForestClassifier(max_depth=5, random_state=0)\n",
    "clf.fit(X, y)\n",
    "print(clf.predict_proba(X))"
   ]
  },
  {
   "cell_type": "code",
   "execution_count": 97,
   "id": "4e157fd6-16d3-471e-8956-1f5303a84f3d",
   "metadata": {},
   "outputs": [
    {
     "data": {
      "text/plain": [
       "array([0, 1])"
      ]
     },
     "execution_count": 97,
     "metadata": {},
     "output_type": "execute_result"
    }
   ],
   "source": [
    "# classes_ scores predicted label for predict_proba\n",
    "clf.classes_"
   ]
  },
  {
   "cell_type": "code",
   "execution_count": 98,
   "id": "c08c8336-ec72-42bf-9afe-d961c2a2ce89",
   "metadata": {},
   "outputs": [
    {
     "data": {
      "text/plain": [
       "(array([ 811.,  635.,  170.,   82.,   38.,  140.,  209.,  179.,  416.,\n",
       "        1836.]),\n",
       " array([0.02660685, 0.12151182, 0.21641678, 0.31132174, 0.4062267 ,\n",
       "        0.50113167, 0.59603663, 0.69094159, 0.78584655, 0.88075152,\n",
       "        0.97565648]),\n",
       " <BarContainer object of 10 artists>)"
      ]
     },
     "execution_count": 98,
     "metadata": {},
     "output_type": "execute_result"
    },
    {
     "data": {
      "image/png": "[encoded data removed]",
      "text/plain": [
       "<Figure size 640x480 with 1 Axes>"
      ]
     },
     "metadata": {},
     "output_type": "display_data"
    }
   ],
   "source": [
    "# more dynamic with RForest\n",
    "plt.hist(pd.DataFrame(clf.predict_proba(X))[1])"
   ]
  },
  {
   "cell_type": "code",
   "execution_count": 92,
   "id": "1a064164-dab1-4061-8c44-f8f8f2741f90",
   "metadata": {},
   "outputs": [
    {
     "name": "stdout",
     "output_type": "stream",
     "text": [
      "SVC 10-Fold CV Score 0.8584963601043893\n"
     ]
    }
   ],
   "source": [
    "from sklearn.pipeline import make_pipeline\n",
    "from sklearn.preprocessing import StandardScaler\n",
    "from sklearn.svm import SVC\n",
    "clf = make_pipeline(StandardScaler(), SVC(gamma='auto'))\n",
    "scores = cross_val_score(clf, X, y, cv=10)\n",
    "print(\"SVC 10-Fold CV Score\", np.mean(scores))"
   ]
  },
  {
   "cell_type": "code",
   "execution_count": 9,
   "id": "53ba5848-0f9c-4a07-a6b6-ef07ac690651",
   "metadata": {},
   "outputs": [],
   "source": [
    "# Save model\n",
    "import compress_pickle\n",
    "# compress_pickle.dump(clf,\n",
    "#                      os.path.join(cn.REF_DIR, 'species_rf_fitted.lzma'), \n",
    "#                      compression=\"lzma\", set_default_extension=False)"
   ]
  },
  {
   "cell_type": "code",
   "execution_count": 10,
   "id": "b0ebb067-a12b-4098-9bb5-ecf016f1b627",
   "metadata": {},
   "outputs": [],
   "source": [
    "one_ml = compress_pickle.load(os.path.join(cn.REF_DIR, 'species_rf_fitted.lzma'))"
   ]
  },
  {
   "cell_type": "code",
   "execution_count": 105,
   "id": "d12ef08c-275c-473e-a249-ba36b80f1a6c",
   "metadata": {},
   "outputs": [
    {
     "data": {
      "text/plain": [
       "array([[0.8707612, 0.1292388]])"
      ]
     },
     "execution_count": 105,
     "metadata": {},
     "output_type": "execute_result"
    }
   ],
   "source": [
    "one_ml.predict_proba([[1, 2, 3, 4]])"
   ]
  },
  {
   "cell_type": "code",
   "execution_count": 11,
   "id": "d17651a7-a1d3-4068-8341-778c3fe22765",
   "metadata": {},
   "outputs": [
    {
     "data": {
      "text/plain": [
       "{'name_used': 'ATP',\n",
       " 'chebi': ['CHEBI:15422',\n",
       "  'CHEBI:53394',\n",
       "  'CHEBI:37537',\n",
       "  'CHEBI:30616',\n",
       "  'CHEBI:15702',\n",
       "  'CHEBI:74926'],\n",
       " 'match_score': [('CHEBI:15422', 1.0),\n",
       "  ('CHEBI:53394', 1.0),\n",
       "  ('CHEBI:37537', 1.0),\n",
       "  ('CHEBI:30616', 1.0),\n",
       "  ('CHEBI:15702', 1.0),\n",
       "  ('CHEBI:74926', 1.0)],\n",
       " 'formula': ['C8O4', 'C7O4', 'O40PW12', 'C10N5O13P3', 'C36O8']}"
      ]
     },
     "execution_count": 11,
     "metadata": {},
     "output_type": "execute_result"
    }
   ],
   "source": [
    "# Integrating model with AMAS; \n",
    "one_biomd = 'BIOMD0000000634.xml'\n",
    "one_fpath = os.path.join(BIOMODEL_DIR, one_biomd)\n",
    "recom = recommender.Recommender(libsbml_fpath=one_fpath)\n",
    "recom.species.exist_annotation\n",
    "pred_res = recom.species.predictAnnotationByCosineSimilarity(inp_ids=['ATP'])['ATP']\n",
    "pred_res"
   ]
  },
  {
   "cell_type": "code",
   "execution_count": 12,
   "id": "a2536479-31ca-4a5d-a868-674e1a6a8a18",
   "metadata": {},
   "outputs": [
    {
     "data": {
      "text/plain": [
       "0.8392526274099765"
      ]
     },
     "execution_count": 12,
     "metadata": {},
     "output_type": "execute_result"
    }
   ],
   "source": [
    "recom.species.evaluatePredictedSpeciesAnnotation(pred_res)"
   ]
  },
  {
   "cell_type": "code",
   "execution_count": 13,
   "id": "6ac2cbef-ab66-408b-80e6-322a8260e113",
   "metadata": {},
   "outputs": [],
   "source": [
    "BIOMD_190_PATH = os.path.join(cn.TEST_DIR, 'BIOMD0000000190.xml')\n",
    "BIOMD_634_PATH = os.path.join(cn.TEST_DIR, 'BIOMD0000000634.xml')\n",
    "ONE_SPEC_CAND = ('CHEBI:15414', 1.0)\n",
    "ONE_SPEC_URL = 'https://www.ebi.ac.uk/chebi/searchId.do?chebiId=CHEBI%3A15414'\n",
    "TWO_SPEC_CAND = ('CHEBI:15729', 1.0)\n",
    "TWO_SPEC_URL = 'https://www.ebi.ac.uk/chebi/searchId.do?chebiId=CHEBI%3A15729'\n",
    "\n",
    "ONE_REAC_CAND = ('RHEA:28830', 1.0)\n",
    "ONE_REAC_URL = 'https://www.rhea-db.org/rhea/28830'\n",
    "\n",
    "SPECIES_SAM = 'SAM'\n",
    "SPECIES_SAM_NAME = 'S-adenosyl-L-methionine'\n",
    "SPECIES_ORN = 'ORN'\n",
    "SPECIES_ATP = 'ATP'\n",
    "REACTION_ODC = 'ODC'\n",
    "REACTION_SAMDC = 'SAMdc'\n",
    "REACTION_SPMS = 'SpmS'\n",
    "\n",
    "ONE_CHEBI = 'CHEBI:15414'"
   ]
  },
  {
   "cell_type": "code",
   "execution_count": 14,
   "id": "63af0d3c-40bd-4008-9261-cca3180d1b7f",
   "metadata": {},
   "outputs": [],
   "source": [
    "recom = recommender.Recommender(libsbml_fpath=BIOMD_190_PATH)"
   ]
  },
  {
   "cell_type": "code",
   "execution_count": 17,
   "id": "e03d2c00-e576-4779-b3bf-a8d748396a52",
   "metadata": {},
   "outputs": [
    {
     "data": {
      "text/plain": [
       "Recommendation(id='ORN', credibility=0.972, candidates=[('CHEBI:15729', 1.0), ('CHEBI:46911', 1.0)], urls=['https://www.ebi.ac.uk/chebi/searchId.do?chebiId=CHEBI%3A15729', 'https://www.ebi.ac.uk/chebi/searchId.do?chebiId=CHEBI%3A46911'])"
      ]
     },
     "execution_count": 17,
     "metadata": {},
     "output_type": "execute_result"
    }
   ],
   "source": [
    "specs = recom.getSpeciesListAnnotation(pred_ids=[SPECIES_SAM, SPECIES_ORN],\n",
    "                                            update=False, method='edist')\n",
    "one_res = specs[1]\n",
    "one_res"
   ]
  },
  {
   "cell_type": "code",
   "execution_count": 18,
   "id": "75e5be4b-229e-41d5-97da-521c3f2ab396",
   "metadata": {},
   "outputs": [],
   "source": [
    "E_COLI_PATH = os.path.join(cn.TEST_DIR, 'e_coli_core.xml')\n",
    "BIOMD_248_PATH = os.path.join(cn.TEST_DIR, 'BIOMD0000000248.xml')\n",
    "# IDs of species\n",
    "M_FDP_C = 'M_fdp_c'\n",
    "M_ATP_C = 'M_atp_c'\n",
    "M_AMP_C = 'M_amp_c'\n",
    "M_GLUCOSE = 'M_glc__D_e'\n",
    "D_GLUCOSE = 'D-Glucose'\n",
    "\n",
    "ONESET_SPECIES_IDS = [M_FDP_C, M_ATP_C]\n",
    "ONE_CHEBI = 'CHEBI:15414'\n",
    "ATP_CHEBI = 'CHEBI:30616'\n",
    "ATP_FORMULA = 'C10N5O13P3'\n",
    "spec_cl = sa.SpeciesAnnotation(libsbml_fpath = E_COLI_PATH)"
   ]
  },
  {
   "cell_type": "code",
   "execution_count": 21,
   "id": "63ba2d98-a4fa-47b1-96bc-b1323e0083e2",
   "metadata": {},
   "outputs": [
    {
     "data": {
      "text/plain": [
       "0.9040594285226827"
      ]
     },
     "execution_count": 21,
     "metadata": {},
     "output_type": "execute_result"
    }
   ],
   "source": [
    "fdp_pred_spec = spec_cl.predictAnnotationByEditDistance(inp_str=M_FDP_C)\n",
    "fdp_score = spec_cl.evaluatePredictedSpeciesAnnotation(pred_result=fdp_pred_spec)\n",
    "fdp_score"
   ]
  },
  {
   "cell_type": "code",
   "execution_count": 28,
   "id": "ea12ce3e-60cc-4ad9-a046-7ca7879a3eef",
   "metadata": {},
   "outputs": [
    {
     "data": {
      "text/plain": [
       "0.9580057948796256"
      ]
     },
     "execution_count": 28,
     "metadata": {},
     "output_type": "execute_result"
    }
   ],
   "source": [
    "atp_pred_spec = spec_cl.predictAnnotationByCosineSimilarity(inp_ids=[M_ATP_C])\n",
    "atp_score = spec_cl.evaluatePredictedSpeciesAnnotation(pred_result=atp_pred_spec[M_ATP_C])\n",
    "atp_score"
   ]
  },
  {
   "cell_type": "code",
   "execution_count": 27,
   "id": "302ccb7a-1e1b-4e76-91a3-f4b47ba0194c",
   "metadata": {},
   "outputs": [
    {
     "data": {
      "text/plain": [
       "{'M_atp_c': {'name_used': 'ATP C10H12N5O13P3',\n",
       "  'chebi': ['CHEBI:153955'],\n",
       "  'match_score': [('CHEBI:153955', 0.84)],\n",
       "  'formula': ['C30N4O29P3']}}"
      ]
     },
     "execution_count": 27,
     "metadata": {},
     "output_type": "execute_result"
    }
   ],
   "source": [
    "atp_pred_spec"
   ]
  },
  {
   "cell_type": "code",
   "execution_count": 30,
   "id": "df8e686f-cd68-4663-937b-1294ba4612a2",
   "metadata": {},
   "outputs": [
    {
     "data": {
      "text/plain": [
       "'1.1.3'"
      ]
     },
     "execution_count": 30,
     "metadata": {},
     "output_type": "execute_result"
    }
   ],
   "source": [
    "import sklearn\n",
    "sklearn.__version__"
   ]
  },
  {
   "cell_type": "markdown",
   "id": "1bd3e5c9-6bf3-4ec3-a660-f6f189ebe5e3",
   "metadata": {},
   "source": [
    "## Data for Reactions Prediction"
   ]
  },
  {
   "cell_type": "code",
   "execution_count": 9,
   "id": "11aa0712-96c6-4b3d-b205-27f39a55b150",
   "metadata": {},
   "outputs": [
    {
     "name": "stdout",
     "output_type": "stream",
     "text": [
      "We are at 0\n",
      "We are at 100\n",
      "We are at 200\n",
      "We are at 300\n",
      "We are at 400\n",
      "We are at 500\n",
      "We are at 600\n",
      "We are at 700\n",
      "We are at 800\n",
      "We are at 900\n"
     ]
    }
   ],
   "source": [
    "def getRheaElementNum(inp_rhea, inp_df=ra.REF_MAT):\n",
    "  \"\"\"\n",
    "  Get Number of elements of\n",
    "  the given rhea term.\n",
    "  \n",
    "  Parameters\n",
    "  ----------\n",
    "  inp_rhea: str\n",
    "  \n",
    "  Returns\n",
    "  -------\n",
    "  : int\n",
    "  \"\"\"\n",
    "  return len(inp_df.loc[inp_rhea, :].to_numpy().nonzero()[0])\n",
    "\n",
    "model_names = []\n",
    "num_rhea_eles = []\n",
    "num_query_eles = []\n",
    "num_candidates = []\n",
    "val_match_scores = []\n",
    "is_correct_included = []\n",
    "\n",
    "\n",
    "for idx, one_biomd in enumerate(biomds):\n",
    "  if idx % 100 == 0:\n",
    "    print(\"We are at\", idx)\n",
    "  one_fpath = os.path.join(BIOMODEL_DIR, one_biomd)\n",
    "  recom = recommender.Recommender(libsbml_fpath=one_fpath)\n",
    "  reac2evaluate = list(recom.reactions.exist_annotation.keys())\n",
    "  if reac2evaluate:  \n",
    "    recoms = recom.getReactionListAnnotation(pred_ids=reac2evaluate)\n",
    "    recalls = recom.getReactionStatistics(model_mean=False)[cn.RECALL]\n",
    "    for one_recom in recoms:\n",
    "      reaction_id = one_recom.id\n",
    "      match_scores = [val[1] for val in one_recom.candidates]\n",
    "      num_ref_elements = [getRheaElementNum(val[0]) for val in one_recom.candidates]\n",
    "      #\n",
    "      mean_num_rhea_elements = np.mean(num_ref_elements)   \n",
    "      # this is actually the number of reaction components;\n",
    "      num_query_ele = len(recom.reactions.reaction_components[reaction_id])\n",
    "      num_cands = len(match_scores)\n",
    "      mean_match_score = np.mean(match_scores)\n",
    "      #\n",
    "      model_names.append(one_biomd)\n",
    "      num_rhea_eles.append(mean_num_rhea_elements)\n",
    "      num_query_eles.append(num_query_ele)\n",
    "      num_candidates.append(num_cands)\n",
    "      val_match_scores.append(mean_match_score)\n",
    "      if recalls[reaction_id] > 0.0:\n",
    "        is_correct_included.append(1)\n",
    "      else:\n",
    "        is_correct_included.append(0)"
   ]
  },
  {
   "cell_type": "code",
   "execution_count": 10,
   "id": "4416cb4e-b83a-4614-8ce6-c2d912c34bad",
   "metadata": {},
   "outputs": [
    {
     "data": {
      "text/html": [
       "<div>\n",
       "<style scoped>\n",
       "    .dataframe tbody tr th:only-of-type {\n",
       "        vertical-align: middle;\n",
       "    }\n",
       "\n",
       "    .dataframe tbody tr th {\n",
       "        vertical-align: top;\n",
       "    }\n",
       "\n",
       "    .dataframe thead th {\n",
       "        text-align: right;\n",
       "    }\n",
       "</style>\n",
       "<table border=\"1\" class=\"dataframe\">\n",
       "  <thead>\n",
       "    <tr style=\"text-align: right;\">\n",
       "      <th></th>\n",
       "      <th>model</th>\n",
       "      <th>mean_num_rhea_elements</th>\n",
       "      <th>num_query_elements</th>\n",
       "      <th>num_candidates</th>\n",
       "      <th>match_score</th>\n",
       "      <th>accuracy</th>\n",
       "    </tr>\n",
       "  </thead>\n",
       "  <tbody>\n",
       "    <tr>\n",
       "      <th>0</th>\n",
       "      <td>BIOMD0000000152.xml</td>\n",
       "      <td>5.111111</td>\n",
       "      <td>3</td>\n",
       "      <td>9</td>\n",
       "      <td>0.209524</td>\n",
       "      <td>0</td>\n",
       "    </tr>\n",
       "    <tr>\n",
       "      <th>1</th>\n",
       "      <td>BIOMD0000000152.xml</td>\n",
       "      <td>4.807692</td>\n",
       "      <td>3</td>\n",
       "      <td>52</td>\n",
       "      <td>0.234844</td>\n",
       "      <td>0</td>\n",
       "    </tr>\n",
       "    <tr>\n",
       "      <th>2</th>\n",
       "      <td>BIOMD0000000152.xml</td>\n",
       "      <td>4.560000</td>\n",
       "      <td>3</td>\n",
       "      <td>25</td>\n",
       "      <td>0.222000</td>\n",
       "      <td>0</td>\n",
       "    </tr>\n",
       "    <tr>\n",
       "      <th>3</th>\n",
       "      <td>BIOMD0000000152.xml</td>\n",
       "      <td>5.313953</td>\n",
       "      <td>3</td>\n",
       "      <td>86</td>\n",
       "      <td>0.196235</td>\n",
       "      <td>0</td>\n",
       "    </tr>\n",
       "    <tr>\n",
       "      <th>4</th>\n",
       "      <td>BIOMD0000000152.xml</td>\n",
       "      <td>4.000000</td>\n",
       "      <td>3</td>\n",
       "      <td>1</td>\n",
       "      <td>0.500000</td>\n",
       "      <td>0</td>\n",
       "    </tr>\n",
       "  </tbody>\n",
       "</table>\n",
       "</div>"
      ],
      "text/plain": [
       "                 model  mean_num_rhea_elements  num_query_elements  \\\n",
       "0  BIOMD0000000152.xml                5.111111                   3   \n",
       "1  BIOMD0000000152.xml                4.807692                   3   \n",
       "2  BIOMD0000000152.xml                4.560000                   3   \n",
       "3  BIOMD0000000152.xml                5.313953                   3   \n",
       "4  BIOMD0000000152.xml                4.000000                   3   \n",
       "\n",
       "   num_candidates  match_score  accuracy  \n",
       "0               9     0.209524         0  \n",
       "1              52     0.234844         0  \n",
       "2              25     0.222000         0  \n",
       "3              86     0.196235         0  \n",
       "4               1     0.500000         0  "
      ]
     },
     "execution_count": 10,
     "metadata": {},
     "output_type": "execute_result"
    }
   ],
   "source": [
    "reac_df = pd.DataFrame({'model': model_names,\n",
    "                        'mean_num_rhea_elements': num_rhea_eles,\n",
    "                        'num_query_elements': num_query_eles,\n",
    "                        'num_candidates': num_candidates,\n",
    "                        'match_score': val_match_scores,\n",
    "                        'accuracy': is_correct_included})\n",
    "reac_df.head()"
   ]
  },
  {
   "cell_type": "code",
   "execution_count": 11,
   "id": "614f5514-207d-43d9-9d8a-e76eaeefad0a",
   "metadata": {},
   "outputs": [
    {
     "data": {
      "text/plain": [
       "(2183, 6)"
      ]
     },
     "execution_count": 11,
     "metadata": {},
     "output_type": "execute_result"
    }
   ],
   "source": [
    "reac_df.shape"
   ]
  },
  {
   "cell_type": "code",
   "execution_count": 13,
   "id": "a7be8d44-2941-4325-a1ec-d4d050e2201a",
   "metadata": {},
   "outputs": [
    {
     "data": {
      "text/plain": [
       "0.6468163078332569"
      ]
     },
     "execution_count": 13,
     "metadata": {},
     "output_type": "execute_result"
    }
   ],
   "source": [
    "np.mean(reac_df['accuracy'])"
   ]
  },
  {
   "cell_type": "code",
   "execution_count": 14,
   "id": "d41185c1-0a02-44b5-9989-1108b6dc2f55",
   "metadata": {},
   "outputs": [],
   "source": [
    "# data was saved somewhere else\n",
    "# reac_df.to_csv(os.path.join(ACCURACY_DIR, 'individual_reactions_accuracy.csv'), index=False)"
   ]
  },
  {
   "cell_type": "code",
   "execution_count": 17,
   "id": "b12d85b4-8d1d-4944-855c-5e5f632f029d",
   "metadata": {},
   "outputs": [
    {
     "name": "stdout",
     "output_type": "stream",
     "text": [
      "RandomForest 10-Fold CV Score 0.8135687654476144\n"
     ]
    }
   ],
   "source": [
    "from sklearn.model_selection import cross_val_score\n",
    "X = reac_df.iloc[:,1:-1].to_numpy()\n",
    "y = reac_df.loc[:,'accuracy']\n",
    "\n",
    "from sklearn.ensemble import RandomForestClassifier\n",
    "clf = RandomForestClassifier(max_depth=5, random_state=0)\n",
    "clf.fit(X, y)\n",
    "scores = cross_val_score(clf, X, y, cv=10)\n",
    "print(\"RandomForest 10-Fold CV Score\", np.mean(scores))"
   ]
  },
  {
   "cell_type": "code",
   "execution_count": 18,
   "id": "af35d947-705e-410e-843b-10772b53497f",
   "metadata": {},
   "outputs": [
    {
     "data": {
      "text/plain": [
       "(array([246., 120.,  91., 101.,  95., 157., 229., 254., 307., 583.]),\n",
       " array([0.06385101, 0.15657975, 0.24930849, 0.34203723, 0.43476597,\n",
       "        0.5274947 , 0.62022344, 0.71295218, 0.80568092, 0.89840966,\n",
       "        0.9911384 ]),\n",
       " <BarContainer object of 10 artists>)"
      ]
     },
     "execution_count": 18,
     "metadata": {},
     "output_type": "execute_result"
    },
    {
     "data": {
      "image/png": "[encoded data removed]",
      "text/plain": [
       "<Figure size 640x480 with 1 Axes>"
      ]
     },
     "metadata": {},
     "output_type": "display_data"
    }
   ],
   "source": [
    "clf = RandomForestClassifier(max_depth=5, random_state=0)\n",
    "clf.fit(X, y)\n",
    "# print(clf.predict_proba(X))\n",
    "plt.hist(pd.DataFrame(clf.predict_proba(X))[1])"
   ]
  },
  {
   "cell_type": "code",
   "execution_count": 19,
   "id": "b03446ed-cdf4-479c-abe1-01c93e21d135",
   "metadata": {},
   "outputs": [],
   "source": [
    "# Save model\n",
    "import compress_pickle\n",
    "# compress_pickle.dump(clf,\n",
    "#                      os.path.join(cn.REF_DIR, 'reactions_rf_fitted.lzma'), \n",
    "#                      compression=\"lzma\", set_default_extension=False)"
   ]
  },
  {
   "cell_type": "code",
   "execution_count": 3,
   "id": "d68e3fed-ee3c-4795-83ae-a67d1f27ffd9",
   "metadata": {},
   "outputs": [],
   "source": [
    "E_COLI_PATH = os.path.join(cn.TEST_DIR, 'e_coli_core.xml')\n",
    "BIOMD_248_PATH = os.path.join(cn.TEST_DIR, 'BIOMD0000000248.xml')\n",
    "# ID of a reaction\n",
    "R_PFK = 'R_PFK'\n",
    "ATP = 'M_atp_c'\n",
    "COMPONENTS = {'M_fdp_c', 'M_adp_c', 'M_atp_c', 'M_f6p_c', 'M_h_c'}\n",
    "ONE_CANDIDATE = 'RHEA:12423'\n",
    "ONE_CHEBI = 'CHEBI:30616'\n",
    "\n",
    "# Dummy data for calculating accuracy, recalll & precision\n",
    "DUMMY_REF = {'a': ['ABC', 'BCD'],\n",
    "              'b': ['DEF']}\n",
    "DUMMY_PRED = {'a': ['ABC'],\n",
    "             'b': ['AAA']}\n",
    "recom = recommender.Recommender(libsbml_fpath=ecoli_fpath)"
   ]
  },
  {
   "cell_type": "code",
   "execution_count": 15,
   "id": "64eeb0d7-3070-4b6a-80d7-c41779246d71",
   "metadata": {},
   "outputs": [
    {
     "data": {
      "text/plain": [
       "0.801"
      ]
     },
     "execution_count": 15,
     "metadata": {},
     "output_type": "execute_result"
    }
   ],
   "source": [
    "pred_species = recom.species.predictAnnotationByCosineSimilarity(inp_ids=COMPONENTS)\n",
    "spec_formula_dict = {val: pred_species[val][cn.FORMULA] for val in COMPONENTS}  \n",
    "pred_reaction = recom.reactions.predictAnnotation(inp_spec_dict=spec_formula_dict,\n",
    "                                                  inp_reac_list=[R_PFK],\n",
    "                                                  update=True)\n",
    "cred_res = recom.reactions.evaluatePredictedReactionAnnotation(pred_result=pred_reaction)\n",
    "np.round(cred_res[R_PFK], cn.ROUND_DIGITS)"
   ]
  },
  {
   "cell_type": "code",
   "execution_count": 16,
   "id": "1451e173-f6e2-4fa6-bbce-157889b17ab6",
   "metadata": {},
   "outputs": [
    {
     "data": {
      "text/plain": [
       "{'M_adp_c': {'name_used': 'ADP C10H12N5O10P2',\n",
       "  'chebi': ['CHEBI:186230', 'CHEBI:186206'],\n",
       "  'match_score': [('CHEBI:186230', 0.873), ('CHEBI:186206', 0.873)],\n",
       "  'formula': ['C30O8P', 'C39O8P']},\n",
       " 'M_f6p_c': {'name_used': 'D-Fructose 6-phosphate',\n",
       "  'chebi': ['CHEBI:57579', 'CHEBI:61527', 'CHEBI:61553', 'CHEBI:15946'],\n",
       "  'match_score': [('CHEBI:57579', 1.0),\n",
       "   ('CHEBI:61527', 1.0),\n",
       "   ('CHEBI:61553', 1.0),\n",
       "   ('CHEBI:15946', 1.0)],\n",
       "  'formula': ['C6O9P']},\n",
       " 'M_atp_c': {'name_used': 'ATP C10H12N5O13P3',\n",
       "  'chebi': ['CHEBI:153955'],\n",
       "  'match_score': [('CHEBI:153955', 0.84)],\n",
       "  'formula': ['C30N4O29P3']},\n",
       " 'M_h_c': {'name_used': 'H+',\n",
       "  'chebi': ['CHEBI:30220',\n",
       "   'CHEBI:15971',\n",
       "   'CHEBI:48237',\n",
       "   'CHEBI:15378',\n",
       "   'CHEBI:74051',\n",
       "   'CHEBI:29979',\n",
       "   'CHEBI:29235',\n",
       "   'CHEBI:48238',\n",
       "   'CHEBI:49637',\n",
       "   'CHEBI:29239'],\n",
       "  'match_score': [('CHEBI:30220', 1.0),\n",
       "   ('CHEBI:15971', 1.0),\n",
       "   ('CHEBI:48237', 1.0),\n",
       "   ('CHEBI:15378', 1.0),\n",
       "   ('CHEBI:74051', 1.0),\n",
       "   ('CHEBI:29979', 1.0),\n",
       "   ('CHEBI:29235', 1.0),\n",
       "   ('CHEBI:48238', 1.0),\n",
       "   ('CHEBI:49637', 1.0),\n",
       "   ('CHEBI:29239', 1.0)],\n",
       "  'formula': ['H', 'C12N6O3', 'C6N3O2', '[3He]', 'C6N3O']},\n",
       " 'M_fdp_c': {'name_used': 'D-Fructose 1,6-bisphosphate',\n",
       "  'chebi': ['CHEBI:16905', 'CHEBI:49299'],\n",
       "  'match_score': [('CHEBI:16905', 1.0), ('CHEBI:49299', 1.0)],\n",
       "  'formula': ['C6O12P2']}}"
      ]
     },
     "execution_count": 16,
     "metadata": {},
     "output_type": "execute_result"
    }
   ],
   "source": [
    "pred_species"
   ]
  },
  {
   "cell_type": "code",
   "execution_count": 10,
   "id": "bbdec5a3-037e-486f-b600-c278b74bccc7",
   "metadata": {},
   "outputs": [
    {
     "data": {
      "text/plain": [
       "{'candidates': {'R_PFK': Index(['RHEA:12423', 'RHEA:13380', 'RHEA:13616', 'RHEA:14216', 'RHEA:15656',\n",
       "         'RHEA:16112', 'RHEA:16772', 'RHEA:20108', 'RHEA:20644', 'RHEA:33806'],\n",
       "        dtype='object')},\n",
       " 'match_score': {'R_PFK': [('RHEA:12423', 0.6),\n",
       "   ('RHEA:13380', 0.6),\n",
       "   ('RHEA:13616', 0.6),\n",
       "   ('RHEA:14216', 0.6),\n",
       "   ('RHEA:15656', 0.6),\n",
       "   ('RHEA:16112', 0.6),\n",
       "   ('RHEA:16772', 0.6),\n",
       "   ('RHEA:20108', 0.6),\n",
       "   ('RHEA:20644', 0.6),\n",
       "   ('RHEA:33806', 0.6)]},\n",
       " 'query_df':              R_PFK\n",
       " C10N2O11P        0\n",
       " C45CoN4O14       0\n",
       " C17N4O10P        0\n",
       " C45O             0\n",
       " C20O2            0\n",
       " ...            ...\n",
       " C10N2O3          0\n",
       " C17N5O17P3R      0\n",
       " C32N5O8P         0\n",
       " C40N9O13         0\n",
       " C22N2O2          0\n",
       " \n",
       " [3790 rows x 1 columns]}"
      ]
     },
     "execution_count": 10,
     "metadata": {},
     "output_type": "execute_result"
    }
   ],
   "source": [
    "pred_reaction"
   ]
  },
  {
   "cell_type": "code",
   "execution_count": 23,
   "id": "a15a30d6-0e41-4e50-b992-7a34b49cf1d3",
   "metadata": {},
   "outputs": [],
   "source": [
    "recom = recommender.Recommender(libsbml_fpath=ecoli_fpath)\n",
    "reac2evaluate = list(recom.reactions.exist_annotation.keys())\n",
    "\n",
    "pred_ids = reac2evaluate\n",
    "specs_to_annotate = list(set(itertools.chain(*[recom.reactions.reaction_components[val] \\\n",
    "                                                   for val in pred_ids])))\n",
    "pred_formulas = {}\n",
    "remaining_species = [val for val in specs_to_annotate]\n",
    "spec_results = recom.getSpeciesListAnnotation(pred_ids=remaining_species,\n",
    "                                               update=True)\n",
    "for one_recom in spec_results:\n",
    "  chebis = [val[0] for val in one_recom.candidates]\n",
    "  forms = list(set([cn.REF_CHEBI2FORMULA[k] \\\n",
    "            for k in chebis if k in cn.REF_CHEBI2FORMULA.keys()]))\n",
    "  pred_formulas[one_recom.id] = forms\n",
    "\n",
    "\n",
    "pred_result = recom.reactions.predictAnnotation(inp_spec_dict=pred_formulas,\n",
    "                                                  inp_reac_list=reac2evaluate)"
   ]
  },
  {
   "cell_type": "code",
   "execution_count": 67,
   "id": "aeb10010-33f6-4806-928d-223f00b1dcbe",
   "metadata": {},
   "outputs": [],
   "source": [
    "candidates_dict = pred_result[cn.CANDIDATES]\n",
    "match_score_dict = pred_result[cn.MATCH_SCORE]\n",
    "mean_rheas_num_dict = {one_k: np.mean([getRheaElementNum(val) \\\n",
    "                                       for val in candidates_dict[one_k]]) \\\n",
    "                       for one_k in candidates_dict.keys()}\n",
    "num_reac_comp_dict = {one_k: len(recom.reactions.reaction_components[one_k]) \\\n",
    "                      for one_k in candidates_dict.keys()}\n",
    "num_candidates = {one_k: len(candidates_dict[one_k]) \\\n",
    "                      for one_k in candidates_dict.keys()}\n",
    "mean_match_scores = {one_k: np.mean([val[1] for val in match_score_dict[one_k]]) \\\n",
    "                      for one_k in candidates_dict.keys()}\n",
    "df2pred = pd.DataFrame([mean_rheas_num_dict,\n",
    "                        num_reac_comp_dict,\n",
    "                        num_candidates,\n",
    "                        mean_match_scores]).T\n",
    "cred_pred = REACTION_RF.predict_proba(df2pred)\n",
    "prob_1_dict = {val: cred_pred[idx][1] for idx, val in enumerate(df2pred.index)}\n",
    "# return prob_1_dict"
   ]
  },
  {
   "cell_type": "code",
   "execution_count": null,
   "id": "eee39987-8aff-4f8e-9336-9ff0c77b577c",
   "metadata": {},
   "outputs": [],
   "source": []
  },
  {
   "cell_type": "code",
   "execution_count": 18,
   "id": "d2c22646-1d4e-4328-bb00-f48c468941c8",
   "metadata": {},
   "outputs": [
    {
     "data": {
      "text/plain": [
       "Recommendation(id='ODC', credibility=0.817, candidates=[('RHEA:28830', 1.0), ('RHEA:22967', 0.5), ('RHEA:59051', 0.5)], urls=['https://www.rhea-db.org/rhea/28830', 'https://www.rhea-db.org/rhea/22967', 'https://www.rhea-db.org/rhea/59051'])"
      ]
     },
     "execution_count": 18,
     "metadata": {},
     "output_type": "execute_result"
    }
   ],
   "source": [
    "REACTION_ODC = 'ODC'\n",
    "REACTION_SAMDC = 'SAMdc'\n",
    "\n",
    "one_biomd = 'BIOMD0000000190.xml'\n",
    "one_fpath = os.path.join(BIOMODEL_DIR, one_biomd)\n",
    "recom = recommender.Recommender(libsbml_fpath=one_fpath)\n",
    "\n",
    "recom.getReactionAnnotation(REACTION_ODC)"
   ]
  },
  {
   "cell_type": "code",
   "execution_count": null,
   "id": "a9197073-9ed4-473d-9798-e2b48aded5af",
   "metadata": {},
   "outputs": [],
   "source": []
  }
 ],
 "metadata": {
  "kernelspec": {
   "display_name": "Python 3 (ipykernel)",
   "language": "python",
   "name": "python3"
  },
  "language_info": {
   "codemirror_mode": {
    "name": "ipython",
    "version": 3
   },
   "file_extension": ".py",
   "mimetype": "text/x-python",
   "name": "python",
   "nbconvert_exporter": "python",
   "pygments_lexer": "ipython3",
   "version": "3.9.15"
  }
 },
 "nbformat": 4,
 "nbformat_minor": 5
}
