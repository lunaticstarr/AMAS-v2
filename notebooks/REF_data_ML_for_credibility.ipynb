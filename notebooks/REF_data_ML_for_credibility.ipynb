{
 "cells": [
  {
   "cell_type": "code",
   "execution_count": 1,
   "id": "b859e401-1d81-455d-8486-4d973daf907f",
   "metadata": {},
   "outputs": [],
   "source": [
    "# collect data and get models to predict credibility score\n",
    "import collections\n",
    "import copy\n",
    "import itertools\n",
    "import libsbml\n",
    "import numpy as np\n",
    "import os\n",
    "import pickle\n",
    "import pandas as pd\n",
    "import sys\n",
    "import matplotlib.pyplot as plt\n",
    "%matplotlib inline  \n",
    "\n",
    "BIOMD_12 = 'BIOMD0000000012.xml'\n",
    "BASE_DIR = '/Users/woosubs/Desktop/AutomateAnnotation/'\n",
    "DATA_DIR = os.path.join(BASE_DIR, \"DATA\")\n",
    "ALGO_DIR = os.path.join(DATA_DIR, \"algo\")\n",
    "CHEBI_DIR = os.path.join(DATA_DIR, \"chebi\")\n",
    "RHEA_DIR = os.path.join(DATA_DIR, \"rhea\")\n",
    "BIOMODEL_DIR = os.path.join(DATA_DIR, \"biomodels/curated_biomodels_31mar2021\")\n",
    "BIGG_DIR = '/Users/woosubs/Desktop/AutomateAnnotation/DATA/bigg'\n",
    "ecoli_fpath = os.path.join(BIGG_DIR, \"e_coli_core.xml\")\n",
    "\n",
    "PROJ_DIR = os.path.join(os.getcwd(), os.pardir)\n",
    "AMAS_DIR = os.path.join(PROJ_DIR, \"AMAS\")\n",
    "sys.path.append(PROJ_DIR)\n",
    "\n",
    "SUPPL_DIR = os.path.join(PROJ_DIR, os.pardir, \"AMAS_suppl\")\n",
    "ACCURACY_DIR = os.path.join(SUPPL_DIR, \"data_for_credibility\")\n",
    "\n",
    "from AMAS import species_annotation as sa\n",
    "from AMAS import reaction_annotation as ra\n",
    "from AMAS import recommender\n",
    "from AMAS import constants as cn\n",
    "from AMAS import iterator as it\n",
    "from AMAS import tools"
   ]
  },
  {
   "cell_type": "code",
   "execution_count": 2,
   "id": "183f155b-03cb-44e6-9841-4df8f0b944d9",
   "metadata": {},
   "outputs": [],
   "source": [
    "# reader = libsbml.SBMLReader()\n",
    "# document = reader.readSBML(one_fpath)\n",
    "# model = document.getModel()"
   ]
  },
  {
   "cell_type": "code",
   "execution_count": 3,
   "id": "0edef968-5bbe-425e-a381-413049d5ca7e",
   "metadata": {},
   "outputs": [],
   "source": [
    "# one_species = model.getListOfSpecies()[0]"
   ]
  },
  {
   "cell_type": "code",
   "execution_count": null,
   "id": "1552d376-6e60-463a-b6f8-1c6d6b733ce2",
   "metadata": {},
   "outputs": [],
   "source": []
  },
  {
   "cell_type": "markdown",
   "id": "c876d7c6-c985-4294-b51c-4a69ad0f5679",
   "metadata": {},
   "source": [
    "## Data for species prediction"
   ]
  },
  {
   "cell_type": "code",
   "execution_count": 4,
   "id": "6631f640-725c-4c3b-b2ab-ac5c51f970ff",
   "metadata": {},
   "outputs": [],
   "source": [
    "biomds = [val for val in os.listdir(BIOMODEL_DIR) if val[-4:]=='.xml']"
   ]
  },
  {
   "cell_type": "code",
   "execution_count": 8,
   "id": "9adb008d-12af-480d-b799-7f02c8662cfd",
   "metadata": {},
   "outputs": [
    {
     "name": "stdout",
     "output_type": "stream",
     "text": [
      "We are at 0\n",
      "We are at 100\n",
      "We are at 200\n",
      "We are at 300\n",
      "We are at 400\n",
      "We are at 500\n",
      "We are at 600\n",
      "We are at 700\n",
      "We are at 800\n",
      "We are at 900\n"
     ]
    }
   ],
   "source": [
    "model_names = []\n",
    "len_names = []\n",
    "num_cands = []\n",
    "num_formulas = []\n",
    "match_scores = []\n",
    "is_correct_included = []\n",
    "#\n",
    "for idx, one_biomd in enumerate(biomds):\n",
    "  if idx % 100 == 0:\n",
    "    print(\"We are at\", idx)\n",
    "  one_fpath = os.path.join(BIOMODEL_DIR, one_biomd)\n",
    "  recom = recommender.Recommender(libsbml_fpath=one_fpath)\n",
    "  specs2evaluate = list(recom.species.exist_annotation_formula.keys())\n",
    "  # run algorithm if there is at least one species to evaluate\n",
    "  if specs2evaluate:\n",
    "    recoms = recom.getSpeciesListRecommendation(pred_ids=recom.species.exist_annotation_formula.keys())\n",
    "    recalls = recom.getSpeciesStatistics(model_mean=False)[cn.RECALL]\n",
    "    for one_recom in recoms:\n",
    "      model_names.append(one_biomd)\n",
    "      one_spec = one_recom.id\n",
    "      len_names.append(len(recom.species.getNameToUse(one_spec)))\n",
    "      num_cands.append(len(one_recom.candidates))\n",
    "      num_formulas.append(len(recom.species.formula[one_recom.id]))\n",
    "      match_scores.append(one_recom.candidates[0][1])\n",
    "      if recalls[one_spec] > 0:\n",
    "        is_correct_included.append(1)\n",
    "      else:\n",
    "        is_correct_included.append(0)"
   ]
  },
  {
   "cell_type": "code",
   "execution_count": 10,
   "id": "ed81c8d1-e4f9-4d8e-9968-1d2b76ead1e4",
   "metadata": {},
   "outputs": [],
   "source": [
    "spec_df = pd.DataFrame({'model': model_names,\n",
    "                        'name_length': len_names,\n",
    "                        'num_candidates': num_cands,\n",
    "                        'num_formulas': num_formulas,\n",
    "                        'match_score': match_scores,\n",
    "                        'accuracy': is_correct_included})"
   ]
  },
  {
   "cell_type": "code",
   "execution_count": 33,
   "id": "bf78cf65-241a-4603-9990-702193a1a697",
   "metadata": {},
   "outputs": [
    {
     "data": {
      "text/html": [
       "<div>\n",
       "<style scoped>\n",
       "    .dataframe tbody tr th:only-of-type {\n",
       "        vertical-align: middle;\n",
       "    }\n",
       "\n",
       "    .dataframe tbody tr th {\n",
       "        vertical-align: top;\n",
       "    }\n",
       "\n",
       "    .dataframe thead th {\n",
       "        text-align: right;\n",
       "    }\n",
       "</style>\n",
       "<table border=\"1\" class=\"dataframe\">\n",
       "  <thead>\n",
       "    <tr style=\"text-align: right;\">\n",
       "      <th></th>\n",
       "      <th>model</th>\n",
       "      <th>name_length</th>\n",
       "      <th>num_candidates</th>\n",
       "      <th>num_formulas</th>\n",
       "      <th>match_score</th>\n",
       "      <th>accuracy</th>\n",
       "    </tr>\n",
       "  </thead>\n",
       "  <tbody>\n",
       "    <tr>\n",
       "      <th>0</th>\n",
       "      <td>BIOMD0000000634.xml</td>\n",
       "      <td>3</td>\n",
       "      <td>6</td>\n",
       "      <td>5</td>\n",
       "      <td>1.000</td>\n",
       "      <td>1</td>\n",
       "    </tr>\n",
       "    <tr>\n",
       "      <th>1</th>\n",
       "      <td>BIOMD0000000634.xml</td>\n",
       "      <td>3</td>\n",
       "      <td>13</td>\n",
       "      <td>11</td>\n",
       "      <td>1.000</td>\n",
       "      <td>1</td>\n",
       "    </tr>\n",
       "    <tr>\n",
       "      <th>2</th>\n",
       "      <td>BIOMD0000000634.xml</td>\n",
       "      <td>3</td>\n",
       "      <td>14</td>\n",
       "      <td>12</td>\n",
       "      <td>1.000</td>\n",
       "      <td>1</td>\n",
       "    </tr>\n",
       "    <tr>\n",
       "      <th>3</th>\n",
       "      <td>BIOMD0000000152.xml</td>\n",
       "      <td>2</td>\n",
       "      <td>7</td>\n",
       "      <td>5</td>\n",
       "      <td>1.000</td>\n",
       "      <td>1</td>\n",
       "    </tr>\n",
       "    <tr>\n",
       "      <th>4</th>\n",
       "      <td>BIOMD0000000152.xml</td>\n",
       "      <td>15</td>\n",
       "      <td>1</td>\n",
       "      <td>1</td>\n",
       "      <td>0.873</td>\n",
       "      <td>0</td>\n",
       "    </tr>\n",
       "  </tbody>\n",
       "</table>\n",
       "</div>"
      ],
      "text/plain": [
       "                 model  name_length  num_candidates  num_formulas  \\\n",
       "0  BIOMD0000000634.xml            3               6             5   \n",
       "1  BIOMD0000000634.xml            3              13            11   \n",
       "2  BIOMD0000000634.xml            3              14            12   \n",
       "3  BIOMD0000000152.xml            2               7             5   \n",
       "4  BIOMD0000000152.xml           15               1             1   \n",
       "\n",
       "   match_score  accuracy  \n",
       "0        1.000         1  \n",
       "1        1.000         1  \n",
       "2        1.000         1  \n",
       "3        1.000         1  \n",
       "4        0.873         0  "
      ]
     },
     "execution_count": 33,
     "metadata": {},
     "output_type": "execute_result"
    }
   ],
   "source": [
    "spec_df.head()"
   ]
  },
  {
   "cell_type": "code",
   "execution_count": 11,
   "id": "dd7880ab-5005-4f79-8369-130ff2f2652b",
   "metadata": {},
   "outputs": [
    {
     "data": {
      "text/plain": [
       "(4902, 6)"
      ]
     },
     "execution_count": 11,
     "metadata": {},
     "output_type": "execute_result"
    }
   ],
   "source": [
    "spec_df.shape"
   ]
  },
  {
   "cell_type": "code",
   "execution_count": 12,
   "id": "58c20645-7e41-4e68-b4c5-50a69a7755ab",
   "metadata": {},
   "outputs": [],
   "source": [
    "spec_df.to_csv(os.path.join(ACCURACY_DIR, 'biomd_individual_species_accuracy.csv'), index=False)"
   ]
  },
  {
   "cell_type": "code",
   "execution_count": 5,
   "id": "cdccf6c0-3f84-4952-83e3-59de85cb00db",
   "metadata": {},
   "outputs": [],
   "source": [
    "# spec_df = pd.read_csv(os.path.join(ACCURACY_DIR, 'biomd_individual_species_accuracy.csv'))\n",
    "# spec_df.shape"
   ]
  },
  {
   "cell_type": "code",
   "execution_count": 13,
   "id": "7dda59db-b9fb-453f-8557-032813d39972",
   "metadata": {},
   "outputs": [
    {
     "data": {
      "text/plain": [
       "306"
      ]
     },
     "execution_count": 13,
     "metadata": {},
     "output_type": "execute_result"
    }
   ],
   "source": [
    "len(np.unique(spec_df['model']))"
   ]
  },
  {
   "cell_type": "code",
   "execution_count": 14,
   "id": "7f3ca454-fd36-4381-9e3c-4b9a7a203480",
   "metadata": {},
   "outputs": [
    {
     "data": {
      "text/plain": [
       "0.6015911872705019"
      ]
     },
     "execution_count": 14,
     "metadata": {},
     "output_type": "execute_result"
    }
   ],
   "source": [
    "np.sum(spec_df['accuracy']) / spec_df.shape[0]"
   ]
  },
  {
   "cell_type": "markdown",
   "id": "531647f2-ed52-4361-afe9-e6c87bbee939",
   "metadata": {},
   "source": [
    "## Cross validation score will be computed using three classifiers\n",
    "## 1. RandForest, 2. AdaBoost, 3. SVC \n",
    "## and the best performing one was chosen. "
   ]
  },
  {
   "cell_type": "code",
   "execution_count": 15,
   "id": "fdceee72-c4dd-4ceb-ae72-c9ab12aca860",
   "metadata": {},
   "outputs": [],
   "source": [
    "from sklearn.model_selection import cross_val_score\n",
    "X = spec_df.iloc[:,1:-1].to_numpy()\n",
    "y = spec_df.loc[:,'accuracy']"
   ]
  },
  {
   "cell_type": "code",
   "execution_count": 18,
   "id": "f920bde1-de7f-49fb-93c2-2bcc7f0ed8fb",
   "metadata": {},
   "outputs": [
    {
     "name": "stdout",
     "output_type": "stream",
     "text": [
      "AdaBoost 10-Fold CV Score 0.8737366474084542\n"
     ]
    }
   ],
   "source": [
    "from sklearn.ensemble import AdaBoostClassifier\n",
    "clf = AdaBoostClassifier(n_estimators=100, random_state=0)\n",
    "clf.fit(X, y)\n",
    "scores = cross_val_score(clf, X, y, cv=10)\n",
    "print(\"AdaBoost 10-Fold CV Score\", np.mean(scores))"
   ]
  },
  {
   "cell_type": "code",
   "execution_count": 24,
   "id": "aae7a481-93a1-4c0c-be02-1f32bee7de87",
   "metadata": {},
   "outputs": [
    {
     "name": "stdout",
     "output_type": "stream",
     "text": [
      "SVC 10-Fold CV Score 0.8547732657217673\n"
     ]
    }
   ],
   "source": [
    "from sklearn.pipeline import make_pipeline\n",
    "from sklearn.preprocessing import StandardScaler\n",
    "from sklearn.svm import SVC\n",
    "clf = make_pipeline(StandardScaler(), SVC(gamma='auto'))\n",
    "scores = cross_val_score(clf, X, y, cv=10)\n",
    "print(\"SVC 10-Fold CV Score\", np.mean(scores))"
   ]
  },
  {
   "cell_type": "code",
   "execution_count": 25,
   "id": "066b7d20-9bf2-43e1-8126-188b394ad59c",
   "metadata": {},
   "outputs": [
    {
     "name": "stdout",
     "output_type": "stream",
     "text": [
      "RandomForest 10-Fold CV Score 0.8712939024897128\n"
     ]
    }
   ],
   "source": [
    "from sklearn.ensemble import RandomForestClassifier\n",
    "clf = RandomForestClassifier(max_depth=5, random_state=0)\n",
    "clf.fit(X, y)\n",
    "scores = cross_val_score(clf, X, y, cv=10)\n",
    "print(\"RandomForest 10-Fold CV Score\", np.mean(scores))"
   ]
  },
  {
   "cell_type": "code",
   "execution_count": 26,
   "id": "97a0ec62-6652-4147-8a36-db5960fe6684",
   "metadata": {},
   "outputs": [
    {
     "name": "stdout",
     "output_type": "stream",
     "text": [
      "[[0.19732619 0.80267381]\n",
      " [0.08437177 0.91562823]\n",
      " [0.08437177 0.91562823]\n",
      " ...\n",
      " [0.0359217  0.9640783 ]\n",
      " [0.05319045 0.94680955]\n",
      " [0.96332851 0.03667149]]\n"
     ]
    }
   ],
   "source": [
    "from sklearn.ensemble import RandomForestClassifier\n",
    "clf = RandomForestClassifier(max_depth=5, random_state=0)\n",
    "clf.fit(X, y)\n",
    "print(clf.predict_proba(X))"
   ]
  },
  {
   "cell_type": "code",
   "execution_count": 27,
   "id": "4e157fd6-16d3-471e-8956-1f5303a84f3d",
   "metadata": {},
   "outputs": [
    {
     "data": {
      "text/plain": [
       "array([0, 1])"
      ]
     },
     "execution_count": 27,
     "metadata": {},
     "output_type": "execute_result"
    }
   ],
   "source": [
    "# classes_ scores predicted label for predict_proba\n",
    "clf.classes_"
   ]
  },
  {
   "cell_type": "code",
   "execution_count": 28,
   "id": "c08c8336-ec72-42bf-9afe-d961c2a2ce89",
   "metadata": {},
   "outputs": [
    {
     "data": {
      "text/plain": [
       "(array([ 823.,  617.,  262.,   74.,   60.,  137.,  207.,  387.,  443.,\n",
       "        1892.]),\n",
       " array([0.02231631, 0.11782878, 0.21334124, 0.30885371, 0.40436618,\n",
       "        0.49987864, 0.59539111, 0.69090357, 0.78641604, 0.88192851,\n",
       "        0.97744097]),\n",
       " <BarContainer object of 10 artists>)"
      ]
     },
     "execution_count": 28,
     "metadata": {},
     "output_type": "execute_result"
    },
    {
     "data": {
      "image/png": "[encoded data removed]",
      "text/plain": [
       "<Figure size 640x480 with 1 Axes>"
      ]
     },
     "metadata": {},
     "output_type": "display_data"
    }
   ],
   "source": [
    "# more dynamic with RForest\n",
    "plt.hist(pd.DataFrame(clf.predict_proba(X))[1])"
   ]
  },
  {
   "cell_type": "code",
   "execution_count": 29,
   "id": "53ba5848-0f9c-4a07-a6b6-ef07ac690651",
   "metadata": {},
   "outputs": [],
   "source": [
    "# Save model\n",
    "import compress_pickle\n",
    "compress_pickle.dump(clf,\n",
    "                     os.path.join(cn.REF_DIR, 'species_rf_fitted.lzma'), \n",
    "                     compression=\"lzma\", set_default_extension=False)"
   ]
  },
  {
   "cell_type": "code",
   "execution_count": 30,
   "id": "b0ebb067-a12b-4098-9bb5-ecf016f1b627",
   "metadata": {},
   "outputs": [],
   "source": [
    "one_ml = compress_pickle.load(os.path.join(cn.REF_DIR, 'species_rf_fitted.lzma'))"
   ]
  },
  {
   "cell_type": "code",
   "execution_count": 31,
   "id": "d12ef08c-275c-473e-a249-ba36b80f1a6c",
   "metadata": {},
   "outputs": [
    {
     "data": {
      "text/plain": [
       "array([[0.84372661, 0.15627339]])"
      ]
     },
     "execution_count": 31,
     "metadata": {},
     "output_type": "execute_result"
    }
   ],
   "source": [
    "one_ml.predict_proba([[1, 2, 3, 4]])"
   ]
  },
  {
   "cell_type": "code",
   "execution_count": 37,
   "id": "542a6ef2-2489-4e3b-a688-343df89ec72d",
   "metadata": {},
   "outputs": [
    {
     "data": {
      "text/plain": [
       "array([0.13316645, 0.09327187, 0.02793352, 0.74562817])"
      ]
     },
     "execution_count": 37,
     "metadata": {},
     "output_type": "execute_result"
    }
   ],
   "source": [
    "clf.feature_importances_"
   ]
  },
  {
   "cell_type": "markdown",
   "id": "1bd3e5c9-6bf3-4ec3-a660-f6f189ebe5e3",
   "metadata": {},
   "source": [
    "## Data for Reactions Prediction"
   ]
  },
  {
   "cell_type": "code",
   "execution_count": 39,
   "id": "11aa0712-96c6-4b3d-b205-27f39a55b150",
   "metadata": {},
   "outputs": [
    {
     "name": "stdout",
     "output_type": "stream",
     "text": [
      "We are at 0\n",
      "We are at 100\n",
      "We are at 200\n",
      "We are at 300\n",
      "We are at 400\n",
      "We are at 500\n",
      "We are at 600\n",
      "We are at 700\n",
      "We are at 800\n",
      "We are at 900\n"
     ]
    }
   ],
   "source": [
    "def getRheaElementNum(inp_rhea, inp_df=ra.REF_MAT):\n",
    "  \"\"\"\n",
    "  Get Number of elements of\n",
    "  the given rhea term.\n",
    "  \n",
    "  Parameters\n",
    "  ----------\n",
    "  inp_rhea: str\n",
    "  \n",
    "  Returns\n",
    "  -------\n",
    "  : int\n",
    "  \"\"\"\n",
    "  return len(inp_df.loc[inp_rhea, :].to_numpy().nonzero()[0])\n",
    "\n",
    "model_names = []\n",
    "num_rhea_eles = []\n",
    "num_query_eles = []\n",
    "num_candidates = []\n",
    "val_match_scores = []\n",
    "is_correct_included = []\n",
    "\n",
    "\n",
    "for idx, one_biomd in enumerate(biomds):\n",
    "  if idx % 100 == 0:\n",
    "    print(\"We are at\", idx)\n",
    "  one_fpath = os.path.join(BIOMODEL_DIR, one_biomd)\n",
    "  recom = recommender.Recommender(libsbml_fpath=one_fpath)\n",
    "  reac2evaluate = list(recom.reactions.exist_annotation.keys())\n",
    "  if reac2evaluate:  \n",
    "    recoms = recom.getReactionListRecommendation(pred_ids=reac2evaluate)\n",
    "    recalls = recom.getReactionStatistics(model_mean=False)[cn.RECALL]\n",
    "    for one_recom in recoms:\n",
    "      reaction_id = one_recom.id\n",
    "      match_scores = [val[1] for val in one_recom.candidates]\n",
    "      num_ref_elements = [getRheaElementNum(val[0]) for val in one_recom.candidates]\n",
    "      #\n",
    "      mean_num_rhea_elements = np.mean(num_ref_elements)   \n",
    "      # this is actually the number of reaction components;\n",
    "      num_query_ele = len(recom.reactions.reaction_components[reaction_id])\n",
    "      num_cands = len(match_scores)\n",
    "      mean_match_score = np.mean(match_scores)\n",
    "      #\n",
    "      model_names.append(one_biomd)\n",
    "      num_rhea_eles.append(mean_num_rhea_elements)\n",
    "      num_query_eles.append(num_query_ele)\n",
    "      num_candidates.append(num_cands)\n",
    "      val_match_scores.append(mean_match_score)\n",
    "      if recalls[reaction_id] > 0.0:\n",
    "        is_correct_included.append(1)\n",
    "      else:\n",
    "        is_correct_included.append(0)"
   ]
  },
  {
   "cell_type": "code",
   "execution_count": 40,
   "id": "4416cb4e-b83a-4614-8ce6-c2d912c34bad",
   "metadata": {},
   "outputs": [
    {
     "data": {
      "text/html": [
       "<div>\n",
       "<style scoped>\n",
       "    .dataframe tbody tr th:only-of-type {\n",
       "        vertical-align: middle;\n",
       "    }\n",
       "\n",
       "    .dataframe tbody tr th {\n",
       "        vertical-align: top;\n",
       "    }\n",
       "\n",
       "    .dataframe thead th {\n",
       "        text-align: right;\n",
       "    }\n",
       "</style>\n",
       "<table border=\"1\" class=\"dataframe\">\n",
       "  <thead>\n",
       "    <tr style=\"text-align: right;\">\n",
       "      <th></th>\n",
       "      <th>model</th>\n",
       "      <th>mean_num_rhea_elements</th>\n",
       "      <th>num_query_elements</th>\n",
       "      <th>num_candidates</th>\n",
       "      <th>match_score</th>\n",
       "      <th>accuracy</th>\n",
       "    </tr>\n",
       "  </thead>\n",
       "  <tbody>\n",
       "    <tr>\n",
       "      <th>0</th>\n",
       "      <td>BIOMD0000000152.xml</td>\n",
       "      <td>5.111111</td>\n",
       "      <td>3</td>\n",
       "      <td>9</td>\n",
       "      <td>0.209556</td>\n",
       "      <td>0</td>\n",
       "    </tr>\n",
       "    <tr>\n",
       "      <th>1</th>\n",
       "      <td>BIOMD0000000152.xml</td>\n",
       "      <td>4.732143</td>\n",
       "      <td>3</td>\n",
       "      <td>56</td>\n",
       "      <td>0.237464</td>\n",
       "      <td>0</td>\n",
       "    </tr>\n",
       "    <tr>\n",
       "      <th>2</th>\n",
       "      <td>BIOMD0000000152.xml</td>\n",
       "      <td>4.560000</td>\n",
       "      <td>3</td>\n",
       "      <td>25</td>\n",
       "      <td>0.222000</td>\n",
       "      <td>0</td>\n",
       "    </tr>\n",
       "    <tr>\n",
       "      <th>3</th>\n",
       "      <td>BIOMD0000000152.xml</td>\n",
       "      <td>5.340426</td>\n",
       "      <td>3</td>\n",
       "      <td>94</td>\n",
       "      <td>0.195660</td>\n",
       "      <td>0</td>\n",
       "    </tr>\n",
       "    <tr>\n",
       "      <th>4</th>\n",
       "      <td>BIOMD0000000152.xml</td>\n",
       "      <td>4.000000</td>\n",
       "      <td>3</td>\n",
       "      <td>1</td>\n",
       "      <td>0.500000</td>\n",
       "      <td>0</td>\n",
       "    </tr>\n",
       "  </tbody>\n",
       "</table>\n",
       "</div>"
      ],
      "text/plain": [
       "                 model  mean_num_rhea_elements  num_query_elements  \\\n",
       "0  BIOMD0000000152.xml                5.111111                   3   \n",
       "1  BIOMD0000000152.xml                4.732143                   3   \n",
       "2  BIOMD0000000152.xml                4.560000                   3   \n",
       "3  BIOMD0000000152.xml                5.340426                   3   \n",
       "4  BIOMD0000000152.xml                4.000000                   3   \n",
       "\n",
       "   num_candidates  match_score  accuracy  \n",
       "0               9     0.209556         0  \n",
       "1              56     0.237464         0  \n",
       "2              25     0.222000         0  \n",
       "3              94     0.195660         0  \n",
       "4               1     0.500000         0  "
      ]
     },
     "execution_count": 40,
     "metadata": {},
     "output_type": "execute_result"
    }
   ],
   "source": [
    "reac_df = pd.DataFrame({'model': model_names,\n",
    "                        'mean_num_rhea_elements': num_rhea_eles,\n",
    "                        'num_query_elements': num_query_eles,\n",
    "                        'num_candidates': num_candidates,\n",
    "                        'match_score': val_match_scores,\n",
    "                        'accuracy': is_correct_included})\n",
    "reac_df.head()"
   ]
  },
  {
   "cell_type": "code",
   "execution_count": 45,
   "id": "e20a84ef-0dac-4243-8b15-8b21e6815c7c",
   "metadata": {},
   "outputs": [
    {
     "data": {
      "text/html": [
       "<div>\n",
       "<style scoped>\n",
       "    .dataframe tbody tr th:only-of-type {\n",
       "        vertical-align: middle;\n",
       "    }\n",
       "\n",
       "    .dataframe tbody tr th {\n",
       "        vertical-align: top;\n",
       "    }\n",
       "\n",
       "    .dataframe thead th {\n",
       "        text-align: right;\n",
       "    }\n",
       "</style>\n",
       "<table border=\"1\" class=\"dataframe\">\n",
       "  <thead>\n",
       "    <tr style=\"text-align: right;\">\n",
       "      <th></th>\n",
       "      <th>model</th>\n",
       "      <th>mean_num_rhea_elements</th>\n",
       "      <th>num_query_elements</th>\n",
       "      <th>num_candidates</th>\n",
       "      <th>match_score</th>\n",
       "      <th>accuracy</th>\n",
       "    </tr>\n",
       "  </thead>\n",
       "  <tbody>\n",
       "    <tr>\n",
       "      <th>2183</th>\n",
       "      <td>BIOMD0000000177.xml</td>\n",
       "      <td>5.923077</td>\n",
       "      <td>4</td>\n",
       "      <td>13</td>\n",
       "      <td>0.522385</td>\n",
       "      <td>1</td>\n",
       "    </tr>\n",
       "    <tr>\n",
       "      <th>2184</th>\n",
       "      <td>BIOMD0000000177.xml</td>\n",
       "      <td>6.813559</td>\n",
       "      <td>3</td>\n",
       "      <td>59</td>\n",
       "      <td>0.300085</td>\n",
       "      <td>0</td>\n",
       "    </tr>\n",
       "    <tr>\n",
       "      <th>2185</th>\n",
       "      <td>BIOMD0000000177.xml</td>\n",
       "      <td>4.750000</td>\n",
       "      <td>4</td>\n",
       "      <td>4</td>\n",
       "      <td>0.450000</td>\n",
       "      <td>1</td>\n",
       "    </tr>\n",
       "    <tr>\n",
       "      <th>2186</th>\n",
       "      <td>BIOMD0000000177.xml</td>\n",
       "      <td>6.042553</td>\n",
       "      <td>3</td>\n",
       "      <td>47</td>\n",
       "      <td>0.523255</td>\n",
       "      <td>1</td>\n",
       "    </tr>\n",
       "    <tr>\n",
       "      <th>2187</th>\n",
       "      <td>BIOMD0000000177.xml</td>\n",
       "      <td>6.000000</td>\n",
       "      <td>3</td>\n",
       "      <td>1</td>\n",
       "      <td>0.333000</td>\n",
       "      <td>0</td>\n",
       "    </tr>\n",
       "  </tbody>\n",
       "</table>\n",
       "</div>"
      ],
      "text/plain": [
       "                    model  mean_num_rhea_elements  num_query_elements  \\\n",
       "2183  BIOMD0000000177.xml                5.923077                   4   \n",
       "2184  BIOMD0000000177.xml                6.813559                   3   \n",
       "2185  BIOMD0000000177.xml                4.750000                   4   \n",
       "2186  BIOMD0000000177.xml                6.042553                   3   \n",
       "2187  BIOMD0000000177.xml                6.000000                   3   \n",
       "\n",
       "      num_candidates  match_score  accuracy  \n",
       "2183              13     0.522385         1  \n",
       "2184              59     0.300085         0  \n",
       "2185               4     0.450000         1  \n",
       "2186              47     0.523255         1  \n",
       "2187               1     0.333000         0  "
      ]
     },
     "execution_count": 45,
     "metadata": {},
     "output_type": "execute_result"
    }
   ],
   "source": [
    "reac_df_prev.tail()"
   ]
  },
  {
   "cell_type": "code",
   "execution_count": 47,
   "id": "a7be8d44-2941-4325-a1ec-d4d050e2201a",
   "metadata": {},
   "outputs": [
    {
     "data": {
      "text/plain": [
       "0.6416819012797075"
      ]
     },
     "execution_count": 47,
     "metadata": {},
     "output_type": "execute_result"
    }
   ],
   "source": [
    "np.mean(reac_df['accuracy'])"
   ]
  },
  {
   "cell_type": "code",
   "execution_count": 48,
   "id": "d41185c1-0a02-44b5-9989-1108b6dc2f55",
   "metadata": {},
   "outputs": [],
   "source": [
    "# data was saved somewhere else\n",
    "# reac_df.to_csv(os.path.join(ACCURACY_DIR, 'biomd_individual_reactions_accuracy.csv'), index=False)"
   ]
  },
  {
   "cell_type": "code",
   "execution_count": 52,
   "id": "4ddcac6b-ac8b-4f1f-987d-9ce0f87ec36c",
   "metadata": {},
   "outputs": [],
   "source": [
    "reac_df = pd.read_csv(os.path.join(ACCURACY_DIR, 'biomd_individual_reactions_accuracy.csv'))"
   ]
  },
  {
   "cell_type": "code",
   "execution_count": 53,
   "id": "5e8c5342-48e0-43ac-839d-3e742a575394",
   "metadata": {},
   "outputs": [
    {
     "data": {
      "text/plain": [
       "131"
      ]
     },
     "execution_count": 53,
     "metadata": {},
     "output_type": "execute_result"
    }
   ],
   "source": [
    "len(np.unique(reac_df['model']))"
   ]
  },
  {
   "cell_type": "code",
   "execution_count": 54,
   "id": "b12d85b4-8d1d-4944-855c-5e5f632f029d",
   "metadata": {},
   "outputs": [
    {
     "name": "stdout",
     "output_type": "stream",
     "text": [
      "RandomForest 10-Fold CV Score 0.810762012483767\n"
     ]
    }
   ],
   "source": [
    "from sklearn.model_selection import cross_val_score\n",
    "X = reac_df.iloc[:,1:-1].to_numpy()\n",
    "y = reac_df.loc[:,'accuracy']\n",
    "\n",
    "from sklearn.ensemble import RandomForestClassifier\n",
    "clf = RandomForestClassifier(max_depth=5, random_state=0)\n",
    "clf.fit(X, y)\n",
    "scores = cross_val_score(clf, X, y, cv=10)\n",
    "print(\"RandomForest 10-Fold CV Score\", np.mean(scores))"
   ]
  },
  {
   "cell_type": "code",
   "execution_count": 55,
   "id": "af35d947-705e-410e-843b-10772b53497f",
   "metadata": {},
   "outputs": [
    {
     "data": {
      "text/plain": [
       "(array([248.,  96.,  73., 115., 148., 177., 238., 285., 230., 578.]),\n",
       " array([0.05465006, 0.14816086, 0.24167166, 0.33518246, 0.42869326,\n",
       "        0.52220406, 0.61571486, 0.70922566, 0.80273646, 0.89624726,\n",
       "        0.98975806]),\n",
       " <BarContainer object of 10 artists>)"
      ]
     },
     "execution_count": 55,
     "metadata": {},
     "output_type": "execute_result"
    },
    {
     "data": {
      "image/png": "[encoded data removed]",
      "text/plain": [
       "<Figure size 640x480 with 1 Axes>"
      ]
     },
     "metadata": {},
     "output_type": "display_data"
    }
   ],
   "source": [
    "clf = RandomForestClassifier(max_depth=5, random_state=0)\n",
    "clf.fit(X, y)\n",
    "# print(clf.predict_proba(X))\n",
    "plt.hist(pd.DataFrame(clf.predict_proba(X))[1])"
   ]
  },
  {
   "cell_type": "code",
   "execution_count": 56,
   "id": "b03446ed-cdf4-479c-abe1-01c93e21d135",
   "metadata": {},
   "outputs": [],
   "source": [
    "# Save model\n",
    "import compress_pickle\n",
    "# compress_pickle.dump(clf,\n",
    "#                      os.path.join(cn.REF_DIR, 'reactions_rf_fitted.lzma'), \n",
    "#                      compression=\"lzma\", set_default_extension=False)"
   ]
  },
  {
   "cell_type": "code",
   "execution_count": 57,
   "id": "04e6c700-926b-45d2-b9fd-a2e0b28f20b0",
   "metadata": {},
   "outputs": [
    {
     "data": {
      "text/plain": [
       "array([0.136844  , 0.11755676, 0.19563893, 0.54996031])"
      ]
     },
     "execution_count": 57,
     "metadata": {},
     "output_type": "execute_result"
    }
   ],
   "source": [
    "clf.feature_importances_"
   ]
  },
  {
   "cell_type": "code",
   "execution_count": 23,
   "id": "a15a30d6-0e41-4e50-b992-7a34b49cf1d3",
   "metadata": {},
   "outputs": [],
   "source": [
    "recom = recommender.Recommender(libsbml_fpath=ecoli_fpath)\n",
    "reac2evaluate = list(recom.reactions.exist_annotation.keys())\n",
    "\n",
    "pred_ids = reac2evaluate\n",
    "specs_to_annotate = list(set(itertools.chain(*[recom.reactions.reaction_components[val] \\\n",
    "                                                   for val in pred_ids])))\n",
    "pred_formulas = {}\n",
    "remaining_species = [val for val in specs_to_annotate]\n",
    "spec_results = recom.getSpeciesListAnnotation(pred_ids=remaining_species,\n",
    "                                               update=True)\n",
    "for one_recom in spec_results:\n",
    "  chebis = [val[0] for val in one_recom.candidates]\n",
    "  forms = list(set([cn.REF_CHEBI2FORMULA[k] \\\n",
    "            for k in chebis if k in cn.REF_CHEBI2FORMULA.keys()]))\n",
    "  pred_formulas[one_recom.id] = forms\n",
    "\n",
    "\n",
    "pred_result = recom.reactions.predictAnnotation(inp_spec_dict=pred_formulas,\n",
    "                                                  inp_reac_list=reac2evaluate)"
   ]
  },
  {
   "cell_type": "code",
   "execution_count": 67,
   "id": "aeb10010-33f6-4806-928d-223f00b1dcbe",
   "metadata": {},
   "outputs": [],
   "source": [
    "candidates_dict = pred_result[cn.CANDIDATES]\n",
    "match_score_dict = pred_result[cn.MATCH_SCORE]\n",
    "mean_rheas_num_dict = {one_k: np.mean([getRheaElementNum(val) \\\n",
    "                                       for val in candidates_dict[one_k]]) \\\n",
    "                       for one_k in candidates_dict.keys()}\n",
    "num_reac_comp_dict = {one_k: len(recom.reactions.reaction_components[one_k]) \\\n",
    "                      for one_k in candidates_dict.keys()}\n",
    "num_candidates = {one_k: len(candidates_dict[one_k]) \\\n",
    "                      for one_k in candidates_dict.keys()}\n",
    "mean_match_scores = {one_k: np.mean([val[1] for val in match_score_dict[one_k]]) \\\n",
    "                      for one_k in candidates_dict.keys()}\n",
    "df2pred = pd.DataFrame([mean_rheas_num_dict,\n",
    "                        num_reac_comp_dict,\n",
    "                        num_candidates,\n",
    "                        mean_match_scores]).T\n",
    "cred_pred = REACTION_RF.predict_proba(df2pred)\n",
    "prob_1_dict = {val: cred_pred[idx][1] for idx, val in enumerate(df2pred.index)}\n",
    "# return prob_1_dict"
   ]
  },
  {
   "cell_type": "code",
   "execution_count": null,
   "id": "eee39987-8aff-4f8e-9336-9ff0c77b577c",
   "metadata": {},
   "outputs": [],
   "source": []
  },
  {
   "cell_type": "code",
   "execution_count": 18,
   "id": "d2c22646-1d4e-4328-bb00-f48c468941c8",
   "metadata": {},
   "outputs": [
    {
     "data": {
      "text/plain": [
       "Recommendation(id='ODC', credibility=0.817, candidates=[('RHEA:28830', 1.0), ('RHEA:22967', 0.5), ('RHEA:59051', 0.5)], urls=['https://www.rhea-db.org/rhea/28830', 'https://www.rhea-db.org/rhea/22967', 'https://www.rhea-db.org/rhea/59051'])"
      ]
     },
     "execution_count": 18,
     "metadata": {},
     "output_type": "execute_result"
    }
   ],
   "source": []
  },
  {
   "cell_type": "code",
   "execution_count": null,
   "id": "a9197073-9ed4-473d-9798-e2b48aded5af",
   "metadata": {},
   "outputs": [],
   "source": []
  }
 ],
 "metadata": {
  "kernelspec": {
   "display_name": "Python 3 (ipykernel)",
   "language": "python",
   "name": "python3"
  },
  "language_info": {
   "codemirror_mode": {
    "name": "ipython",
    "version": 3
   },
   "file_extension": ".py",
   "mimetype": "text/x-python",
   "name": "python",
   "nbconvert_exporter": "python",
   "pygments_lexer": "ipython3",
   "version": "3.9.15"
  }
 },
 "nbformat": 4,
 "nbformat_minor": 5
}
