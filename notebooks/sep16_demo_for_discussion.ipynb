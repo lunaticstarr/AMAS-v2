{
 "cells": [
  {
   "cell_type": "code",
   "execution_count": 1,
   "id": "8577e12b",
   "metadata": {},
   "outputs": [],
   "source": [
    "# Demo for discussion \n",
    "\n",
    "import libsbml\n",
    "import os\n",
    "import sys\n",
    "\n",
    "BASE_DIR = '/Users/woosubs/Desktop/AutomateAnnotation/'\n",
    "DATA_DIR = os.path.join(BASE_DIR, \"DATA\")\n",
    "CHEBI_DIR = os.path.join(DATA_DIR, \"chebi\")\n",
    "RHEA_DIR = os.path.join(DATA_DIR, \"rhea\")\n",
    "BIOMODEL_DIR = os.path.join(DATA_DIR, \"biomodels/curated_biomodels_31mar2021\")\n",
    "BIGG_DIR = '/Users/woosubs/Desktop/AutomateAnnotation/DATA/bigg'\n",
    "ecoli_fpath = os.path.join(BIGG_DIR, \"e_coli_core.xml\")\n",
    "PROJ_DIR = os.path.join(os.getcwd(), os.pardir)\n",
    "sys.path.append(PROJ_DIR)\n",
    "\n",
    "from AMAS import recommender"
   ]
  },
  {
   "cell_type": "markdown",
   "id": "9bec7a30",
   "metadata": {},
   "source": [
    "### Three ways to load model to Recommender"
   ]
  },
  {
   "cell_type": "code",
   "execution_count": null,
   "id": "b88983ed",
   "metadata": {},
   "outputs": [],
   "source": [
    "one_biomd = 'BIOMD0000000190.xml'\n",
    "one_biomd_fpath = os.path.join(BIOMODEL_DIR, one_biomd)"
   ]
  },
  {
   "cell_type": "code",
   "execution_count": 30,
   "id": "bf2c00d8",
   "metadata": {},
   "outputs": [
    {
     "data": {
      "text/plain": [
       "\"<class 'libsbml.SBMLDocument'>\""
      ]
     },
     "execution_count": 30,
     "metadata": {},
     "output_type": "execute_result"
    }
   ],
   "source": [
    "str(type(document))"
   ]
  },
  {
   "cell_type": "code",
   "execution_count": 32,
   "id": "9ccd4e6c",
   "metadata": {},
   "outputs": [
    {
     "name": "stdout",
     "output_type": "stream",
     "text": [
      "File Type of document is: <class 'libsbml.SBMLDocument'> \n",
      "\n",
      "{'SAM': 'S-adenosyl-L-methionine', 'A': 'S-adenosylmethioninamine', 'P': 'Putrescine', 'S': 'Spermine', 'D': 'Spermidine', 'aS': 'N1-Acetylspermine', 'aD': 'N1-Acetylspermidine', 'Met': 'Methionine', 'ORN': 'L-Ornithine', 'AcCoA': 'Acetyl-CoA', 'CoA': 'CoA'}\n",
      "\n",
      "{'ODC': ['ORN', 'P'], 'SAMdc': ['SAM', 'A'], 'SSAT_for_S': ['AcCoA', 'S', 'aS', 'CoA'], 'SSAT_for_D': ['aD', 'AcCoA', 'D', 'CoA'], 'PAO_for_aD': ['aD', 'P'], 'PAO_for_aS': ['D', 'aS'], 'SpdS': ['P', 'D', 'A'], 'SpmS': ['D', 'S', 'A'], 'MAT': ['Met', 'SAM'], 'VCoA': ['AcCoA', 'CoA'], 'VacCoA': ['AcCoA', 'CoA'], 'P_efflux': ['P'], 'aD_efflux': ['aD']}\n"
     ]
    }
   ],
   "source": [
    "# First, sending a libsbml.SBMLDocument class instance\n",
    "reader = libsbml.SBMLReader()\n",
    "document = reader.readSBML(one_biomd_fpath)\n",
    "# \n",
    "print(\"File Type of document is: %s \\n\" % str(type(document)))\n",
    "recom = recommender.Recommender(document)\n",
    "# checking if model was loaded successfully\n",
    "print(recom.species.names)\n",
    "print()\n",
    "print(recom.reactions.reaction_components)"
   ]
  },
  {
   "cell_type": "code",
   "execution_count": 19,
   "id": "aea47d75",
   "metadata": {},
   "outputs": [
    {
     "name": "stdout",
     "output_type": "stream",
     "text": [
      "{'SAM': 'S-adenosyl-L-methionine', 'A': 'S-adenosylmethioninamine', 'P': 'Putrescine', 'S': 'Spermine', 'D': 'Spermidine', 'aS': 'N1-Acetylspermine', 'aD': 'N1-Acetylspermidine', 'Met': 'Methionine', 'ORN': 'L-Ornithine', 'AcCoA': 'Acetyl-CoA', 'CoA': 'CoA'}\n",
      "\n",
      "{'ODC': ['ORN', 'P'], 'SAMdc': ['SAM', 'A'], 'SSAT_for_S': ['AcCoA', 'S', 'aS', 'CoA'], 'SSAT_for_D': ['aD', 'AcCoA', 'D', 'CoA'], 'PAO_for_aD': ['aD', 'P'], 'PAO_for_aS': ['D', 'aS'], 'SpdS': ['P', 'D', 'A'], 'SpmS': ['D', 'S', 'A'], 'MAT': ['Met', 'SAM'], 'VCoA': ['AcCoA', 'CoA'], 'VacCoA': ['AcCoA', 'CoA'], 'P_efflux': ['P'], 'aD_efflux': ['aD']}\n"
     ]
    }
   ],
   "source": [
    "# Second, give the path of an SBML model\n",
    "recom = recommender.Recommender(one_biomd_fpath)\n",
    "# checking if model was loaded successfully\n",
    "print(recom.species.names)\n",
    "print()\n",
    "print(recom.reactions.reaction_components)"
   ]
  },
  {
   "cell_type": "code",
   "execution_count": 33,
   "id": "a487fef3",
   "metadata": {},
   "outputs": [
    {
     "data": {
      "text/plain": [
       "tuple"
      ]
     },
     "execution_count": 33,
     "metadata": {},
     "output_type": "execute_result"
    }
   ],
   "source": [
    "type((spec_tuple, reac_tuple))"
   ]
  },
  {
   "cell_type": "code",
   "execution_count": 25,
   "id": "721481f0",
   "metadata": {},
   "outputs": [
    {
     "name": "stdout",
     "output_type": "stream",
     "text": [
      "{'SAM': 'S-adenosyl-L-methionine', 'A': 'S-adenosylmethioninamine', 'P': 'Putrescine', 'S': 'Spermine', 'D': 'Spermidine', 'aS': 'N1-Acetylspermine', 'aD': 'N1-Acetylspermidine', 'Met': 'Methionine', 'ORN': 'L-Ornithine', 'AcCoA': 'Acetyl-CoA', 'CoA': 'CoA'}\n",
      "\n",
      "{'ODC': ['ORN', 'P'], 'SAMdc': ['SAM', 'A'], 'SSAT_for_S': ['AcCoA', 'S', 'aS', 'CoA'], 'SSAT_for_D': ['aD', 'AcCoA', 'D', 'CoA'], 'PAO_for_aD': ['aD', 'P'], 'PAO_for_aS': ['D', 'aS'], 'SpdS': ['P', 'D', 'A'], 'SpmS': ['D', 'S', 'A'], 'MAT': ['Met', 'SAM'], 'VCoA': ['AcCoA', 'CoA'], 'VacCoA': ['AcCoA', 'CoA'], 'P_efflux': ['P'], 'aD_efflux': ['aD']}\n"
     ]
    }
   ],
   "source": [
    "# Lastly, a model_spec tuple\n",
    "spec_tuple, reac_tuple = recom._parseSBML(one_biomd_fpath)\n",
    "recom = recommender.Recommender(model_specs=(spec_tuple, reac_tuple))\n",
    "# checking if model was loaded successfully\n",
    "print(recom.species.names)\n",
    "print()\n",
    "print(recom.reactions.reaction_components)"
   ]
  },
  {
   "cell_type": "code",
   "execution_count": null,
   "id": "f518e6d9",
   "metadata": {},
   "outputs": [],
   "source": []
  },
  {
   "cell_type": "markdown",
   "id": "728bbdbe",
   "metadata": {},
   "source": [
    "### Predicting Species and Reaction Annotations"
   ]
  },
  {
   "cell_type": "code",
   "execution_count": 39,
   "id": "18cb3b5e",
   "metadata": {},
   "outputs": [],
   "source": [
    "# Predicting individual species recommendation using this method.\n",
    "species_annotation = recom.getSpeciesAnnotation('SAM')"
   ]
  },
  {
   "cell_type": "code",
   "execution_count": 40,
   "id": "43e75f9e",
   "metadata": {},
   "outputs": [
    {
     "name": "stdout",
     "output_type": "stream",
     "text": [
      "Recommendation(id='SAM', credibility_score=1.0, candidates=[('CHEBI:15414', 1.0), ('CHEBI:59789', 1.0)], urls=['https://www.ebi.ac.uk/chebi/searchId.do?chebiId=CHEBI%3A15414', 'https://www.ebi.ac.uk/chebi/searchId.do?chebiId=CHEBI%3A59789'])\n"
     ]
    }
   ],
   "source": [
    "print(species_annotation[0])"
   ]
  },
  {
   "cell_type": "code",
   "execution_count": 44,
   "id": "d5de4287",
   "metadata": {},
   "outputs": [],
   "source": [
    "reaction_annotations = recom.getReactionAnnotation('ODC')"
   ]
  },
  {
   "cell_type": "code",
   "execution_count": 46,
   "id": "d1d1deb0",
   "metadata": {},
   "outputs": [
    {
     "name": "stdout",
     "output_type": "stream",
     "text": [
      "Recommendation(id='ODC', credibility_score=1.0, candidates=[('RHEA:28830', 1.0), ('RHEA:22967', 0.5), ('RHEA:59051', 0.5)], urls=['https://www.rhea-db.org/rhea/28830', 'https://www.rhea-db.org/rhea/22967', 'https://www.rhea-db.org/rhea/59051'])\n"
     ]
    }
   ],
   "source": [
    "print(reaction_annotations[0])"
   ]
  },
  {
   "cell_type": "code",
   "execution_count": null,
   "id": "ee9e3ea1",
   "metadata": {},
   "outputs": [],
   "source": []
  },
  {
   "cell_type": "markdown",
   "id": "5f2e6e89",
   "metadata": {},
   "source": [
    "### Next step? "
   ]
  },
  {
   "cell_type": "code",
   "execution_count": 49,
   "id": "9cdfa8c7",
   "metadata": {},
   "outputs": [],
   "source": [
    "# TBC"
   ]
  },
  {
   "cell_type": "code",
   "execution_count": null,
   "id": "be98f6de",
   "metadata": {},
   "outputs": [],
   "source": []
  }
 ],
 "metadata": {
  "kernelspec": {
   "display_name": "pyo",
   "language": "python",
   "name": "pyo"
  },
  "language_info": {
   "codemirror_mode": {
    "name": "ipython",
    "version": 3
   },
   "file_extension": ".py",
   "mimetype": "text/x-python",
   "name": "python",
   "nbconvert_exporter": "python",
   "pygments_lexer": "ipython3",
   "version": "3.8.8"
  }
 },
 "nbformat": 4,
 "nbformat_minor": 5
}
