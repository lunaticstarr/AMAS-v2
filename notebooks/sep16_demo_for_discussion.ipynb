{
 "cells": [
  {
   "cell_type": "code",
   "execution_count": 1,
   "id": "0bbcab77",
   "metadata": {},
   "outputs": [],
   "source": [
    "# Demo for discussion \n",
    "\n",
    "import libsbml\n",
    "import os\n",
    "import sys\n",
    "\n",
    "BASE_DIR = '/Users/woosubs/Desktop/AutomateAnnotation/'\n",
    "DATA_DIR = os.path.join(BASE_DIR, \"DATA\")\n",
    "CHEBI_DIR = os.path.join(DATA_DIR, \"chebi\")\n",
    "RHEA_DIR = os.path.join(DATA_DIR, \"rhea\")\n",
    "BIOMODEL_DIR = os.path.join(DATA_DIR, \"biomodels/curated_biomodels_31mar2021\")\n",
    "BIGG_DIR = '/Users/woosubs/Desktop/AutomateAnnotation/DATA/bigg'\n",
    "ecoli_fpath = os.path.join(BIGG_DIR, \"e_coli_core.xml\")\n",
    "PROJ_DIR = os.path.join(os.getcwd(), os.pardir)\n",
    "sys.path.append(PROJ_DIR)\n",
    "\n",
    "from AMAS import recommender"
   ]
  },
  {
   "cell_type": "markdown",
   "id": "c409b5fe",
   "metadata": {},
   "source": [
    "### Three ways to load model to Recommender"
   ]
  },
  {
   "cell_type": "code",
   "execution_count": 2,
   "id": "4f8aa46d",
   "metadata": {},
   "outputs": [],
   "source": [
    "one_biomd = 'BIOMD0000000190.xml'\n",
    "one_biomd_fpath = os.path.join(BIOMODEL_DIR, one_biomd)"
   ]
  },
  {
   "cell_type": "code",
   "execution_count": 3,
   "id": "d377ef08",
   "metadata": {},
   "outputs": [
    {
     "name": "stdout",
     "output_type": "stream",
     "text": [
      "File Type of document is: <class 'libsbml.SBMLDocument'> \n",
      "\n",
      "{'SAM': 'S-adenosyl-L-methionine', 'A': 'S-adenosylmethioninamine', 'P': 'Putrescine', 'S': 'Spermine', 'D': 'Spermidine', 'aS': 'N1-Acetylspermine', 'aD': 'N1-Acetylspermidine', 'Met': 'Methionine', 'ORN': 'L-Ornithine', 'AcCoA': 'Acetyl-CoA', 'CoA': 'CoA'}\n",
      "\n",
      "{'ODC': ['P', 'ORN'], 'SAMdc': ['A', 'SAM'], 'SSAT_for_S': ['CoA', 'S', 'AcCoA', 'aS'], 'SSAT_for_D': ['aD', 'CoA', 'D', 'AcCoA'], 'PAO_for_aD': ['P', 'aD'], 'PAO_for_aS': ['D', 'aS'], 'SpdS': ['P', 'A', 'D'], 'SpmS': ['A', 'D', 'S'], 'MAT': ['SAM', 'Met'], 'VCoA': ['CoA', 'AcCoA'], 'VacCoA': ['CoA', 'AcCoA'], 'P_efflux': ['P'], 'aD_efflux': ['aD']}\n"
     ]
    }
   ],
   "source": [
    "# First, sending a libsbml.SBMLDocument class instance\n",
    "reader = libsbml.SBMLReader()\n",
    "document = reader.readSBML(one_biomd_fpath)\n",
    "# \n",
    "print(\"File Type of document is: %s \\n\" % str(type(document)))\n",
    "recom = recommender.Recommender(document)\n",
    "# checking if model was loaded successfully\n",
    "print(recom.species.names)\n",
    "print()\n",
    "print(recom.reactions.reaction_components)"
   ]
  },
  {
   "cell_type": "code",
   "execution_count": 4,
   "id": "555350b3",
   "metadata": {},
   "outputs": [
    {
     "name": "stdout",
     "output_type": "stream",
     "text": [
      "{'SAM': 'S-adenosyl-L-methionine', 'A': 'S-adenosylmethioninamine', 'P': 'Putrescine', 'S': 'Spermine', 'D': 'Spermidine', 'aS': 'N1-Acetylspermine', 'aD': 'N1-Acetylspermidine', 'Met': 'Methionine', 'ORN': 'L-Ornithine', 'AcCoA': 'Acetyl-CoA', 'CoA': 'CoA'}\n",
      "\n",
      "{'ODC': ['P', 'ORN'], 'SAMdc': ['A', 'SAM'], 'SSAT_for_S': ['CoA', 'S', 'AcCoA', 'aS'], 'SSAT_for_D': ['aD', 'CoA', 'D', 'AcCoA'], 'PAO_for_aD': ['P', 'aD'], 'PAO_for_aS': ['D', 'aS'], 'SpdS': ['P', 'A', 'D'], 'SpmS': ['A', 'D', 'S'], 'MAT': ['SAM', 'Met'], 'VCoA': ['CoA', 'AcCoA'], 'VacCoA': ['CoA', 'AcCoA'], 'P_efflux': ['P'], 'aD_efflux': ['aD']}\n"
     ]
    }
   ],
   "source": [
    "# Second, give the path of an SBML model\n",
    "recom = recommender.Recommender(one_biomd_fpath)\n",
    "# checking if model was loaded successfully\n",
    "print(recom.species.names)\n",
    "print()\n",
    "print(recom.reactions.reaction_components)"
   ]
  },
  {
   "cell_type": "code",
   "execution_count": 5,
   "id": "d64f54a1",
   "metadata": {},
   "outputs": [
    {
     "name": "stdout",
     "output_type": "stream",
     "text": [
      "{'SAM': 'S-adenosyl-L-methionine', 'A': 'S-adenosylmethioninamine', 'P': 'Putrescine', 'S': 'Spermine', 'D': 'Spermidine', 'aS': 'N1-Acetylspermine', 'aD': 'N1-Acetylspermidine', 'Met': 'Methionine', 'ORN': 'L-Ornithine', 'AcCoA': 'Acetyl-CoA', 'CoA': 'CoA'}\n",
      "\n",
      "{'ODC': ['P', 'ORN'], 'SAMdc': ['A', 'SAM'], 'SSAT_for_S': ['CoA', 'S', 'AcCoA', 'aS'], 'SSAT_for_D': ['aD', 'CoA', 'D', 'AcCoA'], 'PAO_for_aD': ['P', 'aD'], 'PAO_for_aS': ['D', 'aS'], 'SpdS': ['P', 'A', 'D'], 'SpmS': ['A', 'D', 'S'], 'MAT': ['SAM', 'Met'], 'VCoA': ['CoA', 'AcCoA'], 'VacCoA': ['CoA', 'AcCoA'], 'P_efflux': ['P'], 'aD_efflux': ['aD']}\n"
     ]
    }
   ],
   "source": [
    "# Lastly, a model_spec tuple\n",
    "spec_tuple, reac_tuple = recom._parseSBML(one_biomd_fpath)\n",
    "recom = recommender.Recommender(model_specs=(spec_tuple, reac_tuple))\n",
    "# checking if model was loaded successfully\n",
    "print(recom.species.names)\n",
    "print()\n",
    "print(recom.reactions.reaction_components)"
   ]
  },
  {
   "cell_type": "code",
   "execution_count": null,
   "id": "5f281c66",
   "metadata": {},
   "outputs": [],
   "source": []
  },
  {
   "cell_type": "markdown",
   "id": "c95e906e",
   "metadata": {},
   "source": [
    "### Predicting Species and Reaction Annotations"
   ]
  },
  {
   "cell_type": "code",
   "execution_count": 6,
   "id": "60bbe30b",
   "metadata": {},
   "outputs": [],
   "source": [
    "# Predicting individual species recommendation using this method.\n",
    "species_annotation = recom.getSpeciesAnnotation('SAM')"
   ]
  },
  {
   "cell_type": "code",
   "execution_count": 7,
   "id": "8ed45af6",
   "metadata": {},
   "outputs": [
    {
     "name": "stdout",
     "output_type": "stream",
     "text": [
      "Recommendation(id='SAM', credibility=1.0, candidates=[('CHEBI:15414', 1.0), ('CHEBI:59789', 1.0)], urls=['https://www.ebi.ac.uk/chebi/searchId.do?chebiId=CHEBI%3A15414', 'https://www.ebi.ac.uk/chebi/searchId.do?chebiId=CHEBI%3A59789'])\n"
     ]
    }
   ],
   "source": [
    "print(species_annotation[0])"
   ]
  },
  {
   "cell_type": "code",
   "execution_count": 14,
   "id": "30512e54",
   "metadata": {},
   "outputs": [],
   "source": [
    "reaction_annotation = recom.getReactionAnnotation('ODC')"
   ]
  },
  {
   "cell_type": "code",
   "execution_count": 9,
   "id": "27c10d29",
   "metadata": {},
   "outputs": [
    {
     "name": "stdout",
     "output_type": "stream",
     "text": [
      "Recommendation(id='ODC', credibility=1.0, candidates=[('RHEA:28830', 1.0), ('RHEA:22967', 0.5), ('RHEA:59051', 0.5)], urls=['https://www.rhea-db.org/rhea/28830', 'https://www.rhea-db.org/rhea/22967', 'https://www.rhea-db.org/rhea/59051'])\n"
     ]
    }
   ],
   "source": [
    "print(reaction_annotations[0])"
   ]
  },
  {
   "cell_type": "code",
   "execution_count": 12,
   "id": "92a8070d",
   "metadata": {},
   "outputs": [
    {
     "name": "stdout",
     "output_type": "stream",
     "text": [
      "SAM\n",
      "1.0\n",
      "[('CHEBI:15414', 1.0), ('CHEBI:59789', 1.0)]\n",
      "['https://www.ebi.ac.uk/chebi/searchId.do?chebiId=CHEBI%3A15414', 'https://www.ebi.ac.uk/chebi/searchId.do?chebiId=CHEBI%3A59789']\n"
     ]
    }
   ],
   "source": [
    "one_res = species_annotation[0]\n",
    "print(one_res.id)\n",
    "print(one_res.credibility)\n",
    "print(one_res.candidates)\n",
    "print(one_res.urls)"
   ]
  },
  {
   "cell_type": "code",
   "execution_count": 15,
   "id": "8c78cb03",
   "metadata": {},
   "outputs": [
    {
     "name": "stdout",
     "output_type": "stream",
     "text": [
      "ODC\n",
      "1.0\n",
      "[('RHEA:28830', 1.0), ('RHEA:22967', 0.5), ('RHEA:59051', 0.5)]\n",
      "['https://www.rhea-db.org/rhea/28830', 'https://www.rhea-db.org/rhea/22967', 'https://www.rhea-db.org/rhea/59051']\n"
     ]
    }
   ],
   "source": [
    "one_res = reaction_annotation[0]\n",
    "print(one_res.id)\n",
    "print(one_res.credibility)\n",
    "print(one_res.candidates)\n",
    "print(one_res.urls)"
   ]
  },
  {
   "cell_type": "markdown",
   "id": "0ce9f5ea",
   "metadata": {},
   "source": [
    "### Next step? "
   ]
  },
  {
   "cell_type": "code",
   "execution_count": null,
   "id": "6e47ca42",
   "metadata": {},
   "outputs": [],
   "source": [
    "# TBC"
   ]
  },
  {
   "cell_type": "code",
   "execution_count": null,
   "id": "1d32d0cd",
   "metadata": {},
   "outputs": [],
   "source": []
  }
 ],
 "metadata": {
  "kernelspec": {
   "display_name": "pyo",
   "language": "python",
   "name": "pyo"
  },
  "language_info": {
   "codemirror_mode": {
    "name": "ipython",
    "version": 3
   },
   "file_extension": ".py",
   "mimetype": "text/x-python",
   "name": "python",
   "nbconvert_exporter": "python",
   "pygments_lexer": "ipython3",
   "version": "3.8.8"
  }
 },
 "nbformat": 4,
 "nbformat_minor": 5
}
