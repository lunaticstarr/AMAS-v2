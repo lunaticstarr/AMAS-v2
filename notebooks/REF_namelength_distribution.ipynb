{
 "cells": [
  {
   "cell_type": "code",
   "execution_count": 1,
   "id": "e27c310e-88e6-4f33-a292-f25ece759e49",
   "metadata": {},
   "outputs": [],
   "source": [
    "# To assist the scatter plot decisions, find the (histogram) distribution of the name lengths\n",
    "import collections\n",
    "\n",
    "import compress_pickle\n",
    "import copy\n",
    "import editdistance\n",
    "import itertools\n",
    "import libsbml\n",
    "import numpy as np\n",
    "import os\n",
    "import pickle\n",
    "import pandas as pd\n",
    "import sys\n",
    "import time\n",
    "import matplotlib.pyplot as plt\n",
    "%matplotlib inline  \n",
    "\n",
    "BIOMD_12 = 'BIOMD0000000012.xml'\n",
    "BASE_DIR = '/Users/woosubshin/Desktop/AutomateAnnotation/'\n",
    "DATA_DIR = os.path.join(BASE_DIR, \"DATA\")\n",
    "ALGO_DIR = os.path.join(DATA_DIR, \"algo\")\n",
    "CHEBI_DIR = os.path.join(DATA_DIR, \"chebi\")\n",
    "FIGURE_DIR = '/Users/woosubshin/Desktop/AutomateAnnotation/AMAS_suppl/figure_files'\n",
    "RHEA_DIR = os.path.join(DATA_DIR, \"rhea\")\n",
    "BIOMODEL_DIR = os.path.join(DATA_DIR, \"biomodels/curated_biomodels_31mar2021\")\n",
    "BIGG_DIR = '/Users/woosubshin/Desktop/AutomateAnnotation/DATA/bigg'\n",
    "ecoli_fpath = os.path.join(BIGG_DIR, \"e_coli_core.xml\")\n",
    "\n",
    "PROJ_DIR = os.path.join(os.getcwd(), os.pardir)\n",
    "AMAS_DIR = os.path.join(PROJ_DIR, \"AMAS\")\n",
    "sys.path.append(PROJ_DIR)\n",
    "\n",
    "SUPPL_DIR = os.path.join(PROJ_DIR, os.pardir, \"AMAS_suppl\")\n",
    "ACCURACY_DIR = os.path.join(SUPPL_DIR, \"data_for_credibility\")\n",
    "\n",
    "MANU_FIGURE_DIR = '/Users/woosubshin/Desktop/AutomateAnnotation/writeup/AMAS/Manu_figures_new'\n",
    "SUPPL_FIGURE_DIR = '/Users/woosubshin/Desktop/AutomateAnnotation/writeup/AMAS/Supple_figures_new'\n",
    "\n",
    "from AMAS import species_annotation as sa\n",
    "from AMAS import reaction_annotation as ra\n",
    "from AMAS import recommender\n",
    "from AMAS import constants as cn\n",
    "from AMAS import iterator as it\n",
    "from AMAS import tools"
   ]
  },
  {
   "cell_type": "code",
   "execution_count": 2,
   "id": "355016f9-cfd2-4e9f-a875-2d7fda68a0d8",
   "metadata": {},
   "outputs": [
    {
     "name": "stdout",
     "output_type": "stream",
     "text": [
      "1000\n",
      "108\n"
     ]
    }
   ],
   "source": [
    "biomodels = [val for val in os.listdir(BIOMODEL_DIR) if val[-4:]=='.xml']\n",
    "biggs = [val for val in os.listdir(BIGG_DIR) if val[-4:]=='.xml']\n",
    "print(len(biomodels))\n",
    "print(len(biggs))"
   ]
  },
  {
   "cell_type": "code",
   "execution_count": 3,
   "id": "49ecf170-08e7-433a-ad5d-1d8c77848630",
   "metadata": {},
   "outputs": [
    {
     "name": "stdout",
     "output_type": "stream",
     "text": [
      "(4902, 6)\n",
      "(133233, 6)\n"
     ]
    }
   ],
   "source": [
    "# First, biomodels plot\n",
    "spec_biomd_df = pd.read_csv(os.path.join(ACCURACY_DIR, 'biomd_individual_species_accuracy.csv'))\n",
    "print(spec_biomd_df.shape)\n",
    "\n",
    "spec_bigg_df = pd.read_csv(os.path.join(ACCURACY_DIR, 'bigg_individual_species_accuracy.csv'))\n",
    "print(spec_bigg_df.shape)"
   ]
  },
  {
   "cell_type": "code",
   "execution_count": 4,
   "id": "817b01c4-5421-4041-aacb-0ae980945779",
   "metadata": {},
   "outputs": [
    {
     "data": {
      "text/html": [
       "<div>\n",
       "<style scoped>\n",
       "    .dataframe tbody tr th:only-of-type {\n",
       "        vertical-align: middle;\n",
       "    }\n",
       "\n",
       "    .dataframe tbody tr th {\n",
       "        vertical-align: top;\n",
       "    }\n",
       "\n",
       "    .dataframe thead th {\n",
       "        text-align: right;\n",
       "    }\n",
       "</style>\n",
       "<table border=\"1\" class=\"dataframe\">\n",
       "  <thead>\n",
       "    <tr style=\"text-align: right;\">\n",
       "      <th></th>\n",
       "      <th>model</th>\n",
       "      <th>name_length</th>\n",
       "      <th>num_candidates</th>\n",
       "      <th>num_formulas</th>\n",
       "      <th>match_score</th>\n",
       "      <th>accuracy</th>\n",
       "    </tr>\n",
       "  </thead>\n",
       "  <tbody>\n",
       "    <tr>\n",
       "      <th>0</th>\n",
       "      <td>BIOMD0000000634.xml</td>\n",
       "      <td>3</td>\n",
       "      <td>6</td>\n",
       "      <td>5</td>\n",
       "      <td>1.000</td>\n",
       "      <td>1</td>\n",
       "    </tr>\n",
       "    <tr>\n",
       "      <th>1</th>\n",
       "      <td>BIOMD0000000634.xml</td>\n",
       "      <td>3</td>\n",
       "      <td>13</td>\n",
       "      <td>11</td>\n",
       "      <td>1.000</td>\n",
       "      <td>1</td>\n",
       "    </tr>\n",
       "    <tr>\n",
       "      <th>2</th>\n",
       "      <td>BIOMD0000000634.xml</td>\n",
       "      <td>3</td>\n",
       "      <td>14</td>\n",
       "      <td>12</td>\n",
       "      <td>1.000</td>\n",
       "      <td>1</td>\n",
       "    </tr>\n",
       "    <tr>\n",
       "      <th>3</th>\n",
       "      <td>BIOMD0000000152.xml</td>\n",
       "      <td>2</td>\n",
       "      <td>7</td>\n",
       "      <td>5</td>\n",
       "      <td>1.000</td>\n",
       "      <td>1</td>\n",
       "    </tr>\n",
       "    <tr>\n",
       "      <th>4</th>\n",
       "      <td>BIOMD0000000152.xml</td>\n",
       "      <td>15</td>\n",
       "      <td>1</td>\n",
       "      <td>1</td>\n",
       "      <td>0.873</td>\n",
       "      <td>0</td>\n",
       "    </tr>\n",
       "  </tbody>\n",
       "</table>\n",
       "</div>"
      ],
      "text/plain": [
       "                 model  name_length  num_candidates  num_formulas  \\\n",
       "0  BIOMD0000000634.xml            3               6             5   \n",
       "1  BIOMD0000000634.xml            3              13            11   \n",
       "2  BIOMD0000000634.xml            3              14            12   \n",
       "3  BIOMD0000000152.xml            2               7             5   \n",
       "4  BIOMD0000000152.xml           15               1             1   \n",
       "\n",
       "   match_score  accuracy  \n",
       "0        1.000         1  \n",
       "1        1.000         1  \n",
       "2        1.000         1  \n",
       "3        1.000         1  \n",
       "4        0.873         0  "
      ]
     },
     "execution_count": 4,
     "metadata": {},
     "output_type": "execute_result"
    }
   ],
   "source": [
    "spec_biomd_df.head()"
   ]
  },
  {
   "cell_type": "code",
   "execution_count": 5,
   "id": "09273d9e-09d2-4521-8bb0-8188423c238b",
   "metadata": {},
   "outputs": [
    {
     "name": "stdout",
     "output_type": "stream",
     "text": [
      "Bimodels: maximum length of the query term: 122\n",
      "Biggs: maximum length of the query term: 147\n"
     ]
    }
   ],
   "source": [
    "print(\"Bimodels: maximum length of the query term: %d\" % np.max(spec_biomd_df['name_length']))\n",
    "print(\"Biggs: maximum length of the query term: %d\" % np.max(spec_bigg_df['name_length']))"
   ]
  },
  {
   "cell_type": "code",
   "execution_count": 6,
   "id": "2a3ea1e3-3c96-4d18-ba68-ef536e3fd34e",
   "metadata": {},
   "outputs": [
    {
     "data": {
      "image/png": "[encoded data removed]",
      "text/plain": [
       "<Figure size 640x480 with 1 Axes>"
      ]
     },
     "metadata": {},
     "output_type": "display_data"
    }
   ],
   "source": [
    "xs = []\n",
    "ys = []\n",
    "total_elements = spec_biomd_df.shape[0]\n",
    "for one_len in range(1, np.max(spec_biomd_df['name_length'])):\n",
    "  xs.append(one_len)\n",
    "  ys.append(spec_biomd_df[spec_biomd_df['name_length']>=one_len].shape[0]/total_elements)\n",
    "    \n",
    "plt.bar(xs, ys)\n",
    "plt.xlabel(\"length of species name\")\n",
    "plt.ylabel(\"proportion of species\")\n",
    "# plt.title(\"Biomodels: Length of query terms vs. Proportion of species\")\n",
    "\n",
    "FIGURE_DIR = '/Users/woosubs/Desktop/AutomateAnnotation/AMAS_suppl/figure_files'\n",
    "TEMPFIG_DIR = os.path.join(FIGURE_DIR, 'temp')\n",
    "plt.savefig(os.path.join(SUPPL_FIGURE_DIR, 'barplot_biomd_name_length.pdf'), dpi=300,\n",
    "            bbox_inches='tight', pad_inches=0.0)"
   ]
  },
  {
   "cell_type": "code",
   "execution_count": 7,
   "id": "ae74811f-e8fb-41c2-9cbe-231f63889791",
   "metadata": {},
   "outputs": [
    {
     "data": {
      "image/png": "[encoded data removed]",
      "text/plain": [
       "<Figure size 640x480 with 1 Axes>"
      ]
     },
     "metadata": {},
     "output_type": "display_data"
    }
   ],
   "source": [
    "xs = []\n",
    "ys = []\n",
    "total_elements = spec_bigg_df.shape[0]\n",
    "for one_len in range(1, np.max(spec_bigg_df['name_length'])):\n",
    "  xs.append(one_len)\n",
    "  ys.append(spec_bigg_df[spec_bigg_df['name_length']>=one_len].shape[0]/total_elements)\n",
    "    \n",
    "plt.bar(xs, ys)\n",
    "plt.xlabel(\"length of species name\")\n",
    "plt.ylabel(\"proportion of species\")\n",
    "# plt.title(\"BiGG: Length of query terms vs. Proportion of species\")\n",
    "\n",
    "FIGURE_DIR = '/Users/woosubs/Desktop/AutomateAnnotation/AMAS_suppl/figure_files'\n",
    "TEMPFIG_DIR = os.path.join(FIGURE_DIR, 'temp')\n",
    "plt.savefig(os.path.join(SUPPL_FIGURE_DIR, 'barplot_bigg_name_length.pdf'), dpi=300,\n",
    "            bbox_inches='tight', pad_inches=0.0)"
   ]
  },
  {
   "cell_type": "code",
   "execution_count": null,
   "id": "e30b72de-07d3-449b-8a41-78b6a3b3c143",
   "metadata": {},
   "outputs": [],
   "source": []
  },
  {
   "cell_type": "code",
   "execution_count": null,
   "id": "3a4c1481-067f-4721-bdda-dc0b46bb9dcf",
   "metadata": {},
   "outputs": [],
   "source": [
    "# Reactions?"
   ]
  },
  {
   "cell_type": "code",
   "execution_count": 29,
   "id": "c878dffa-04e7-4390-b1bb-84a81208556b",
   "metadata": {},
   "outputs": [
    {
     "data": {
      "text/plain": [
       "148331"
      ]
     },
     "execution_count": 29,
     "metadata": {},
     "output_type": "execute_result"
    }
   ],
   "source": [
    "len(cn.REF_CHEBI2FORMULA)"
   ]
  },
  {
   "cell_type": "code",
   "execution_count": null,
   "id": "c94eb080-c4f1-4f15-bf44-ae6381ed0dbe",
   "metadata": {},
   "outputs": [],
   "source": []
  }
 ],
 "metadata": {
  "kernelspec": {
   "display_name": "Python 3 (ipykernel)",
   "language": "python",
   "name": "python3"
  },
  "language_info": {
   "codemirror_mode": {
    "name": "ipython",
    "version": 3
   },
   "file_extension": ".py",
   "mimetype": "text/x-python",
   "name": "python",
   "nbconvert_exporter": "python",
   "pygments_lexer": "ipython3",
   "version": "3.11.2"
  }
 },
 "nbformat": 4,
 "nbformat_minor": 5
}
