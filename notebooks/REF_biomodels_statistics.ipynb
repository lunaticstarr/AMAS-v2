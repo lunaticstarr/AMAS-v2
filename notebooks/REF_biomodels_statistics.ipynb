{
 "cells": [
  {
   "cell_type": "code",
   "execution_count": 1,
   "id": "64a5b66d-d9cd-4340-bd8b-82daadb9614b",
   "metadata": {},
   "outputs": [],
   "source": [
    "# Generate biomodels statistics\n",
    "\n",
    "import collections\n",
    "import copy\n",
    "import itertools\n",
    "import libsbml\n",
    "import numpy as np\n",
    "import os\n",
    "import pickle\n",
    "import pandas as pd\n",
    "import sys\n",
    "import matplotlib.pyplot as plt\n",
    "%matplotlib inline  \n",
    "\n",
    "BIOMD_12 = 'BIOMD0000000012.xml'\n",
    "BASE_DIR = '/Users/woosubs/Desktop/AutomateAnnotation/'\n",
    "DATA_DIR = os.path.join(BASE_DIR, \"DATA\")\n",
    "ALGO_DIR = os.path.join(DATA_DIR, \"algo\")\n",
    "CHEBI_DIR = os.path.join(DATA_DIR, \"chebi\")\n",
    "RHEA_DIR = os.path.join(DATA_DIR, \"rhea\")\n",
    "BIOMODEL_DIR = os.path.join(DATA_DIR, \"biomodels/curated_biomodels_31mar2021\")\n",
    "BIGG_DIR = '/Users/woosubs/Desktop/AutomateAnnotation/DATA/bigg'\n",
    "ecoli_fpath = os.path.join(BIGG_DIR, \"e_coli_core.xml\")\n",
    "\n",
    "PROJ_DIR = os.path.join(os.getcwd(), os.pardir)\n",
    "AMAS_DIR = os.path.join(PROJ_DIR, \"AMAS\")\n",
    "sys.path.append(PROJ_DIR)\n",
    "\n",
    "from AMAS import species_annotation as sa\n",
    "from AMAS import reaction_annotation as ra\n",
    "from AMAS import recommender\n",
    "from AMAS import constants as cn\n",
    "from AMAS import iterator as it\n",
    "from AMAS import tools"
   ]
  },
  {
   "cell_type": "code",
   "execution_count": 2,
   "id": "3ba863c6-b0a2-4094-88a1-7114394a6e7e",
   "metadata": {},
   "outputs": [
    {
     "name": "stdout",
     "output_type": "stream",
     "text": [
      "We are at 0\n",
      "We are at 100\n",
      "We are at 200\n",
      "We are at 300\n",
      "We are at 400\n",
      "We are at 500\n",
      "We are at 600\n",
      "We are at 700\n",
      "We are at 800\n",
      "We are at 900\n"
     ]
    }
   ],
   "source": [
    "# get numbers of species and reactions\n",
    "biomds = [val for val in os.listdir(BIOMODEL_DIR) if val[-4:]=='.xml']\n",
    "\n",
    "models = []\n",
    "num_species = []\n",
    "num_reactions = []\n",
    "num_sum = []\n",
    "for idx, one_biomd in enumerate(biomds):\n",
    "  if idx % 100 == 0:\n",
    "    print(\"We are at\", idx)\n",
    "  one_fpath = os.path.join(BIOMODEL_DIR, one_biomd)\n",
    "  reader = libsbml.SBMLReader()\n",
    "  document = reader.readSBML(one_fpath)\n",
    "  model = document.getModel()\n",
    "  models.append(one_biomd)\n",
    "  num_species.append(len(model.getListOfSpecies()))\n",
    "  num_reactions.append(len(model.getListOfReactions()))\n",
    "  num_sum.append(len(model.getListOfSpecies()) + len(model.getListOfReactions()))"
   ]
  },
  {
   "cell_type": "code",
   "execution_count": 3,
   "id": "6d2363a6-dc89-4f7c-b484-19ab05bfb35c",
   "metadata": {},
   "outputs": [
    {
     "data": {
      "text/html": [
       "<div>\n",
       "<style scoped>\n",
       "    .dataframe tbody tr th:only-of-type {\n",
       "        vertical-align: middle;\n",
       "    }\n",
       "\n",
       "    .dataframe tbody tr th {\n",
       "        vertical-align: top;\n",
       "    }\n",
       "\n",
       "    .dataframe thead th {\n",
       "        text-align: right;\n",
       "    }\n",
       "</style>\n",
       "<table border=\"1\" class=\"dataframe\">\n",
       "  <thead>\n",
       "    <tr style=\"text-align: right;\">\n",
       "      <th></th>\n",
       "      <th>model</th>\n",
       "      <th>num_species</th>\n",
       "      <th>num_reactions</th>\n",
       "      <th>num_sum</th>\n",
       "    </tr>\n",
       "  </thead>\n",
       "  <tbody>\n",
       "    <tr>\n",
       "      <th>0</th>\n",
       "      <td>BIOMD0000000634.xml</td>\n",
       "      <td>69</td>\n",
       "      <td>112</td>\n",
       "      <td>181</td>\n",
       "    </tr>\n",
       "    <tr>\n",
       "      <th>1</th>\n",
       "      <td>BIOMD0000000152.xml</td>\n",
       "      <td>64</td>\n",
       "      <td>120</td>\n",
       "      <td>184</td>\n",
       "    </tr>\n",
       "    <tr>\n",
       "      <th>2</th>\n",
       "      <td>BIOMD0000000146.xml</td>\n",
       "      <td>36</td>\n",
       "      <td>34</td>\n",
       "      <td>70</td>\n",
       "    </tr>\n",
       "    <tr>\n",
       "      <th>3</th>\n",
       "      <td>BIOMD0000000620.xml</td>\n",
       "      <td>35</td>\n",
       "      <td>20</td>\n",
       "      <td>55</td>\n",
       "    </tr>\n",
       "    <tr>\n",
       "      <th>4</th>\n",
       "      <td>BIOMD0000000608.xml</td>\n",
       "      <td>52</td>\n",
       "      <td>140</td>\n",
       "      <td>192</td>\n",
       "    </tr>\n",
       "    <tr>\n",
       "      <th>...</th>\n",
       "      <td>...</td>\n",
       "      <td>...</td>\n",
       "      <td>...</td>\n",
       "      <td>...</td>\n",
       "    </tr>\n",
       "    <tr>\n",
       "      <th>995</th>\n",
       "      <td>BIOMD0000000605.xml</td>\n",
       "      <td>29</td>\n",
       "      <td>58</td>\n",
       "      <td>87</td>\n",
       "    </tr>\n",
       "    <tr>\n",
       "      <th>996</th>\n",
       "      <td>BIOMD0000000163.xml</td>\n",
       "      <td>16</td>\n",
       "      <td>26</td>\n",
       "      <td>42</td>\n",
       "    </tr>\n",
       "    <tr>\n",
       "      <th>997</th>\n",
       "      <td>BIOMD0000000177.xml</td>\n",
       "      <td>28</td>\n",
       "      <td>21</td>\n",
       "      <td>49</td>\n",
       "    </tr>\n",
       "    <tr>\n",
       "      <th>998</th>\n",
       "      <td>BIOMD0000000611.xml</td>\n",
       "      <td>66</td>\n",
       "      <td>62</td>\n",
       "      <td>128</td>\n",
       "    </tr>\n",
       "    <tr>\n",
       "      <th>999</th>\n",
       "      <td>BIOMD0000000639.xml</td>\n",
       "      <td>17</td>\n",
       "      <td>10</td>\n",
       "      <td>27</td>\n",
       "    </tr>\n",
       "  </tbody>\n",
       "</table>\n",
       "<p>1000 rows × 4 columns</p>\n",
       "</div>"
      ],
      "text/plain": [
       "                   model  num_species  num_reactions  num_sum\n",
       "0    BIOMD0000000634.xml           69            112      181\n",
       "1    BIOMD0000000152.xml           64            120      184\n",
       "2    BIOMD0000000146.xml           36             34       70\n",
       "3    BIOMD0000000620.xml           35             20       55\n",
       "4    BIOMD0000000608.xml           52            140      192\n",
       "..                   ...          ...            ...      ...\n",
       "995  BIOMD0000000605.xml           29             58       87\n",
       "996  BIOMD0000000163.xml           16             26       42\n",
       "997  BIOMD0000000177.xml           28             21       49\n",
       "998  BIOMD0000000611.xml           66             62      128\n",
       "999  BIOMD0000000639.xml           17             10       27\n",
       "\n",
       "[1000 rows x 4 columns]"
      ]
     },
     "execution_count": 3,
     "metadata": {},
     "output_type": "execute_result"
    }
   ],
   "source": [
    "df = pd.DataFrame({'model': models, 'num_species':num_species, \n",
    "                   'num_reactions': num_reactions, 'num_sum': num_sum})\n",
    "df"
   ]
  },
  {
   "cell_type": "code",
   "execution_count": 4,
   "id": "bf0bae59-0343-426e-9891-ba54746ff94c",
   "metadata": {},
   "outputs": [
    {
     "data": {
      "text/plain": [
       "1708"
      ]
     },
     "execution_count": 4,
     "metadata": {},
     "output_type": "execute_result"
    }
   ],
   "source": [
    "np.max(df['num_sum'])"
   ]
  },
  {
   "cell_type": "code",
   "execution_count": 5,
   "id": "87bcd569-7bf5-497a-9fe6-02c95dfea9c8",
   "metadata": {},
   "outputs": [
    {
     "data": {
      "text/html": [
       "<div>\n",
       "<style scoped>\n",
       "    .dataframe tbody tr th:only-of-type {\n",
       "        vertical-align: middle;\n",
       "    }\n",
       "\n",
       "    .dataframe tbody tr th {\n",
       "        vertical-align: top;\n",
       "    }\n",
       "\n",
       "    .dataframe thead th {\n",
       "        text-align: right;\n",
       "    }\n",
       "</style>\n",
       "<table border=\"1\" class=\"dataframe\">\n",
       "  <thead>\n",
       "    <tr style=\"text-align: right;\">\n",
       "      <th></th>\n",
       "      <th>model</th>\n",
       "      <th>num_species</th>\n",
       "      <th>num_reactions</th>\n",
       "      <th>num_sum</th>\n",
       "    </tr>\n",
       "  </thead>\n",
       "  <tbody>\n",
       "    <tr>\n",
       "      <th>22</th>\n",
       "      <td>BIOMD0000000595.xml</td>\n",
       "      <td>218</td>\n",
       "      <td>1490</td>\n",
       "      <td>1708</td>\n",
       "    </tr>\n",
       "  </tbody>\n",
       "</table>\n",
       "</div>"
      ],
      "text/plain": [
       "                  model  num_species  num_reactions  num_sum\n",
       "22  BIOMD0000000595.xml          218           1490     1708"
      ]
     },
     "execution_count": 5,
     "metadata": {},
     "output_type": "execute_result"
    }
   ],
   "source": [
    "df[df['num_sum'] == np.max(df['num_sum'])]"
   ]
  },
  {
   "cell_type": "code",
   "execution_count": 6,
   "id": "56bab9ae-ffa6-462f-95dc-9c96d1b5ed55",
   "metadata": {},
   "outputs": [],
   "source": [
    "one_biomd = 'BIOMD0000000595.xml'\n",
    "one_fpath = os.path.join(BIOMODEL_DIR, one_biomd)\n",
    "reader = libsbml.SBMLReader()\n",
    "document = reader.readSBML(one_fpath)\n",
    "model = document.getModel()"
   ]
  },
  {
   "cell_type": "code",
   "execution_count": 7,
   "id": "1d1233ae-cf27-4c81-8124-dd70df7d2843",
   "metadata": {},
   "outputs": [],
   "source": [
    "one_spec = model.getListOfSpecies()[10]"
   ]
  },
  {
   "cell_type": "code",
   "execution_count": 8,
   "id": "00841efd-2ab4-4273-936d-3aa7ddc3fc79",
   "metadata": {},
   "outputs": [
    {
     "name": "stdout",
     "output_type": "stream",
     "text": [
      "212\n",
      "1490\n"
     ]
    }
   ],
   "source": [
    "null_spec_count = 0\n",
    "for one_spec in model.getListOfSpecies():\n",
    "  if not one_spec.getAnnotationString():\n",
    "    null_spec_count += 1\n",
    "print(null_spec_count)\n",
    "\n",
    "null_reac_count = 0\n",
    "for one_reac in model.getListOfReactions():\n",
    "  if not one_reac.getAnnotationString():\n",
    "    null_reac_count += 1\n",
    "print(null_reac_count)"
   ]
  },
  {
   "cell_type": "code",
   "execution_count": 9,
   "id": "e5ad6f1c-268d-491b-b147-f8aee449aeb9",
   "metadata": {},
   "outputs": [
    {
     "data": {
      "text/plain": [
       "''"
      ]
     },
     "execution_count": 9,
     "metadata": {},
     "output_type": "execute_result"
    }
   ],
   "source": [
    "one_reac.getAnnotationString()"
   ]
  },
  {
   "cell_type": "code",
   "execution_count": 10,
   "id": "6fcc37f0-a3be-448d-ab66-21c67d7bc794",
   "metadata": {},
   "outputs": [],
   "source": [
    "if '': \n",
    "  print('haha')"
   ]
  },
  {
   "cell_type": "code",
   "execution_count": 11,
   "id": "c3134b44-088e-49e3-9da0-ebae7a388843",
   "metadata": {},
   "outputs": [
    {
     "data": {
      "text/plain": [
       "218"
      ]
     },
     "execution_count": 11,
     "metadata": {},
     "output_type": "execute_result"
    }
   ],
   "source": [
    "len(model.getListOfSpecies())"
   ]
  },
  {
   "cell_type": "code",
   "execution_count": null,
   "id": "484c05fd-b91e-4781-ac3f-b02bb587032a",
   "metadata": {},
   "outputs": [],
   "source": []
  },
  {
   "cell_type": "code",
   "execution_count": null,
   "id": "bf7532a0-32c4-43aa-8ae1-94c3534293d2",
   "metadata": {},
   "outputs": [],
   "source": []
  }
 ],
 "metadata": {
  "kernelspec": {
   "display_name": "Python 3 (ipykernel)",
   "language": "python",
   "name": "python3"
  },
  "language_info": {
   "codemirror_mode": {
    "name": "ipython",
    "version": 3
   },
   "file_extension": ".py",
   "mimetype": "text/x-python",
   "name": "python",
   "nbconvert_exporter": "python",
   "pygments_lexer": "ipython3",
   "version": "3.9.15"
  }
 },
 "nbformat": 4,
 "nbformat_minor": 5
}
