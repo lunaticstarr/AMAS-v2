{
 "cells": [
  {
   "cell_type": "code",
   "execution_count": 1,
   "metadata": {},
   "outputs": [],
   "source": [
    "import requests\n",
    "import csv\n",
    "from io import StringIO"
   ]
  },
  {
   "cell_type": "code",
   "execution_count": 12,
   "metadata": {},
   "outputs": [],
   "source": [
    "def query_chebi(chemical_name,size):\n",
    "    url = 'https://www.ebi.ac.uk/ebisearch/ws/rest/chebi'\n",
    "    params = {\n",
    "        'query': chemical_name,\n",
    "        'fields': 'acc',\n",
    "        'size': size\n",
    "    }\n",
    "    headers = {\n",
    "        'Accept': 'text/csv',\n",
    "    }\n",
    "\n",
    "    response = requests.get(url, params=params, headers=headers)\n",
    "\n",
    "    if response.status_code == 200:\n",
    "        csv_data = response.text\n",
    "        # Parse CSV data\n",
    "        csv_reader = csv.reader(StringIO(csv_data))\n",
    "        results = list(csv_reader)[1:]  # Skip the first row (header)\n",
    "        return results\n",
    "    else:\n",
    "        print(f\"Error: {response.status_code}\")\n",
    "        return None\n"
   ]
  },
  {
   "cell_type": "code",
   "execution_count": 13,
   "metadata": {},
   "outputs": [
    {
     "data": {
      "text/plain": [
       "[['CHEBI:82664'],\n",
       " ['CHEBI:53438'],\n",
       " ['CHEBI:132238'],\n",
       " ['CHEBI:24873'],\n",
       " ['CHEBI:29033']]"
      ]
     },
     "execution_count": 13,
     "metadata": {},
     "output_type": "execute_result"
    }
   ],
   "source": [
    "# Example usage:\n",
    "chemical_name = 'iron'\n",
    "results = query_chebi(chemical_name,5)\n",
    "\n",
    "results"
   ]
  }
 ],
 "metadata": {
  "kernelspec": {
   "display_name": "amas",
   "language": "python",
   "name": "python3"
  },
  "language_info": {
   "codemirror_mode": {
    "name": "ipython",
    "version": 3
   },
   "file_extension": ".py",
   "mimetype": "text/x-python",
   "name": "python",
   "nbconvert_exporter": "python",
   "pygments_lexer": "ipython3",
   "version": "3.11.2"
  }
 },
 "nbformat": 4,
 "nbformat_minor": 2
}
