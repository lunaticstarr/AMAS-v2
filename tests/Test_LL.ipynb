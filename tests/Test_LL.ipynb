{
 "cells": [
  {
   "cell_type": "code",
   "execution_count": 1,
   "metadata": {},
   "outputs": [],
   "source": [
    "import os\n",
    "import pandas as pd\n",
    "import collections\n",
    "import compress_pickle\n",
    "import copy\n",
    "import fnmatch\n",
    "import itertools\n",
    "import libsbml\n",
    "import numpy as np\n",
    "import time\n",
    "import matplotlib.pyplot as plt\n",
    "\n",
    "# Import my local AMAS package\n",
    "import sys\n",
    "sys.path.insert(0, '/Users/luna/Desktop/CRBM/AMAS_proj/AMAS-main')\n",
    "from AMAS import recommender\n",
    "from AMAS import constants as cn "
   ]
  },
  {
   "cell_type": "code",
   "execution_count": 2,
   "metadata": {},
   "outputs": [],
   "source": [
    "# Directory\n",
    "biomd_model_dir = '/Users/luna/Desktop/CRBM/AMAS_proj/Models/BioModels'\n",
    "bigg_model_dir = '/Users/luna/Desktop/CRBM/AMAS_proj/Models/BiggModels'\n",
    "output_dir = '/Users/luna/Desktop/CRBM/AMAS_proj/Results/'"
   ]
  },
  {
   "cell_type": "code",
   "execution_count": null,
   "metadata": {},
   "outputs": [],
   "source": [
    "# Test for errors for all model files\n",
    "model_files = [f for f in os.listdir(biomd_model_dir) if f.endswith('.xml')]\n",
    "\n",
    "for idx, model_file in enumerate(model_files):\n",
    "    if idx % 100 == 0:\n",
    "        print(\"We are at\", idx)\n",
    "    print(\"processing\", model_file)\n",
    "    one_fpath = os.path.join(biomd_model_dir, model_file)\n",
    "    try:\n",
    "        recom = recommender.Recommender(libsbml_fpath=one_fpath)\n",
    "    except Exception as e:\n",
    "        with open('error_log.txt', 'a') as log_file:\n",
    "            log_file.write(f\"Error processing {model_file}: {str(e)}\\n\")\n",
    "        continue"
   ]
  },
  {
   "cell_type": "markdown",
   "metadata": {},
   "source": [
    "## Functions"
   ]
  },
  {
   "cell_type": "code",
   "execution_count": 46,
   "metadata": {},
   "outputs": [],
   "source": [
    "def generate_model_species_statistics(model_dir, output_csv):\n",
    "    model_statistics_data = []\n",
    "\n",
    "    # All SBML files in the model directory\n",
    "    model_files = [f for f in os.listdir(model_dir) if f.endswith('.xml')]\n",
    "\n",
    "    for idx, model_file in enumerate(model_files):\n",
    "        if idx % 100 == 0:\n",
    "            print(\"We are at\", idx)\n",
    "        one_fpath = os.path.join(model_dir, model_file)\n",
    "        reader = libsbml.SBMLReader()\n",
    "        document = reader.readSBML(one_fpath)\n",
    "        model = document.getModel()\n",
    "        recom = recommender.Recommender(libsbml_fpath=one_fpath)\n",
    "\n",
    "        # Get species statistics\n",
    "        num_species = model.getNumSpecies()\n",
    "        specs2evaluate = list(recom.species.exist_annotation_formula.keys())\n",
    "        num_annotated_species = len(specs2evaluate)\n",
    "        annotated = num_annotated_species > 0\n",
    "        \n",
    "        # Append the results for this species\n",
    "        model_statistics_data.append({\n",
    "            'model': model_file,\n",
    "            'annotated': annotated,\n",
    "            'num_species': num_species,\n",
    "            'num_annotated_species': num_annotated_species\n",
    "        })\n",
    "\n",
    "\n",
    "    # Create a DataFrame from the collected data\n",
    "    df = pd.DataFrame(model_statistics_data)\n",
    "\n",
    "    # Save the DataFrame to a CSV file\n",
    "    df.to_csv(output_csv, index=False)\n",
    "\n",
    "\n",
    "def generate_species_accuracy(model_dir, output_csv):\n",
    "    model_files = [f for f in os.listdir(model_dir) if f.endswith('.xml')]\n",
    "    \n",
    "    model_names = []\n",
    "    species_id = []\n",
    "    species_name = []\n",
    "    len_names = []\n",
    "    predictions = []\n",
    "    num_cands = []\n",
    "    num_formulas = []\n",
    "    match_scores = []\n",
    "    recall = []\n",
    "    precision = []\n",
    "    is_correct_included = []\n",
    "    processing_time = []\n",
    "\n",
    "    for idx,model_file in enumerate(model_files):\n",
    "        print(\"We are at\", idx)\n",
    "        one_fpath = os.path.join(model_dir, model_file)\n",
    "        recom = recommender.Recommender(libsbml_fpath=one_fpath)\n",
    "        specs2evaluate = list(recom.species.exist_annotation_formula.keys())\n",
    "        # run algorithm if there is at least one species to evaluate\n",
    "        if specs2evaluate:\n",
    "            time_start = time.time()\n",
    "            recoms = recom.getSpeciesListRecommendation(pred_ids=specs2evaluate)\n",
    "            time_end = time.time()\n",
    "            recalls = recom.getSpeciesStatistics(model_mean=False)[cn.RECALL]\n",
    "            precisions = recom.getSpeciesStatistics(model_mean=False)[cn.PRECISION]\n",
    "            for one_recom in recoms:\n",
    "                model_names.append(model_file)\n",
    "                one_spec = one_recom.id\n",
    "                species_id.append(one_spec)\n",
    "                species_name.append(recom.species.getNameToUse(one_spec))\n",
    "                len_names.append(len(species_name[-1]))\n",
    "                predictions.append(one_recom.candidates)\n",
    "                num_cands.append(len(one_recom.candidates))\n",
    "                num_formulas.append(len(recom.species.formula[one_spec]))\n",
    "                match_scores.append(one_recom.candidates[0][1])\n",
    "                recall.append(recalls[one_spec])\n",
    "                precision.append(precisions[one_spec])\n",
    "                processing_time.append(time_end - time_start)\n",
    "                if recall[-1] > 0:\n",
    "                    is_correct_included.append(1)\n",
    "                else:\n",
    "                    is_correct_included.append(0)\n",
    "\n",
    "    # Create a DataFrame from the collected data\n",
    "    spec_df = pd.DataFrame({'model': model_names,\n",
    "                        'species_id': species_id,\n",
    "                        'species_name': species_name,\n",
    "                        'name_length': len_names,\n",
    "                        'predictions': predictions,\n",
    "                        'num_candidates': num_cands,\n",
    "                        'num_formulas': num_formulas,\n",
    "                        'match_score': match_scores,\n",
    "                        'recall': recall,\n",
    "                        'precision': precision,\n",
    "                        'accuracy': is_correct_included,\n",
    "                        'processing_time': processing_time})\n",
    "\n",
    "    # Save the DataFrame to a CSV file\n",
    "    spec_df.to_csv(output_csv, index=False)\n",
    "\n",
    "\n",
    "def generate_model_reaction_statistics(model_dir, output_csv):\n",
    "    model_statistics_data = []\n",
    "\n",
    "    # All SBML files in the model directory\n",
    "    model_files = [f for f in os.listdir(model_dir) if f.endswith('.xml')]\n",
    "\n",
    "    for idx, model_file in enumerate(model_files):\n",
    "        print(\"We are at\", idx)\n",
    "        one_fpath = os.path.join(model_dir, model_file)\n",
    "        reader = libsbml.SBMLReader()\n",
    "        document = reader.readSBML(one_fpath)\n",
    "        model = document.getModel()\n",
    "        recom = recommender.Recommender(libsbml_fpath=one_fpath)\n",
    "\n",
    "        # Get reaction statistics\n",
    "        num_reactions = model.getNumReactions()\n",
    "        reacs2evaluate = list(recom.reactions.exist_annotation.keys())\n",
    "        num_annotated_reactions = len(reacs2evaluate)\n",
    "        annotated = num_annotated_reactions > 0\n",
    "        \n",
    "        # Append the results for this species\n",
    "        model_statistics_data.append({\n",
    "            'model': model_file,\n",
    "            'annotated': annotated,\n",
    "            'num_reactions': num_reactions,\n",
    "            'num_annotated_reactions': num_annotated_reactions\n",
    "        })\n",
    "\n",
    "\n",
    "    # Create a DataFrame from the collected data\n",
    "    df = pd.DataFrame(model_statistics_data)\n",
    "\n",
    "    # Save the DataFrame to a CSV file\n",
    "    df.to_csv(output_csv, index=False)\n",
    "\n",
    "def generate_reaction_accuracy(model_dir, output_csv):\n",
    "    model_files = [f for f in os.listdir(model_dir) if f.endswith('.xml')]\n",
    "    \n",
    "    model_names = []\n",
    "    reaction_id = []\n",
    "    predictions = []\n",
    "    num_cands = []\n",
    "    match_scores = []\n",
    "    recall = []\n",
    "    precision = []\n",
    "    processing_time = []\n",
    "    is_correct_included = []\n",
    "\n",
    "    for idx,model_file in enumerate(model_files):\n",
    "        print(\"We are at\", idx)\n",
    "        one_fpath = os.path.join(model_dir, model_file)\n",
    "        recom = recommender.Recommender(libsbml_fpath=one_fpath)\n",
    "        reacs2evaluate = list(recom.reactions.exist_annotation.keys())\n",
    "        # run algorithm if there is at least one reaction to evaluate\n",
    "        if reacs2evaluate:\n",
    "            time_start = time.time()\n",
    "            recoms = recom.getReactionListRecommendation(pred_ids=reacs2evaluate)\n",
    "            time_end = time.time()\n",
    "            recalls = recom.getReactionStatistics(model_mean=False)[cn.RECALL]\n",
    "            precisions = recom.getReactionStatistics(model_mean=False)[cn.PRECISION]\n",
    "            for one_recom in recoms:\n",
    "                model_names.append(model_file)\n",
    "                one_reac = one_recom.id\n",
    "                reaction_id.append(one_reac)\n",
    "                predictions.append(one_recom.candidates)\n",
    "                num_cands.append(len(one_recom.candidates))\n",
    "                match_scores.append(one_recom.candidates[0][1])\n",
    "                recall.append(recalls[one_reac])\n",
    "                precision.append(precisions[one_reac])\n",
    "                if recall[-1] > 0:\n",
    "                    is_correct_included.append(1)\n",
    "                else:\n",
    "                    is_correct_included.append(0)\n",
    "                processing_time.append(time_end - time_start)\n",
    "    # Create a DataFrame from the collected data\n",
    "    reac_df = pd.DataFrame({'model': model_names,\n",
    "                        'reaction_id': reaction_id,\n",
    "                        'predictions': predictions,\n",
    "                        'num_candidates': num_cands,\n",
    "                        'match_score': match_scores,\n",
    "                        'recall': recall,\n",
    "                        'precision': precision,\n",
    "                        'accuracy': is_correct_included,\n",
    "                        'processing_time': processing_time})\n",
    "\n",
    "    # Save the DataFrame to a CSV file\n",
    "    reac_df.to_csv(output_csv, index=False)"
   ]
  },
  {
   "cell_type": "markdown",
   "metadata": {},
   "source": [
    "## Model statistics and evaluation results\n",
    "\n",
    "### BioModels species statistics\n"
   ]
  },
  {
   "cell_type": "code",
   "execution_count": 129,
   "metadata": {},
   "outputs": [
    {
     "name": "stdout",
     "output_type": "stream",
     "text": [
      "We are at 0\n",
      "We are at 100\n",
      "We are at 200\n",
      "We are at 300\n",
      "We are at 400\n",
      "We are at 500\n",
      "We are at 600\n",
      "We are at 700\n",
      "We are at 800\n",
      "We are at 900\n",
      "We are at 1000\n"
     ]
    }
   ],
   "source": [
    "output_csv = 'biomd_model_species_statistics.csv'\n",
    "generate_model_species_statistics(biomd_model_dir, output_dir+output_csv)\n"
   ]
  },
  {
   "cell_type": "code",
   "execution_count": 19,
   "metadata": {},
   "outputs": [
    {
     "data": {
      "text/html": [
       "<div>\n",
       "<style scoped>\n",
       "    .dataframe tbody tr th:only-of-type {\n",
       "        vertical-align: middle;\n",
       "    }\n",
       "\n",
       "    .dataframe tbody tr th {\n",
       "        vertical-align: top;\n",
       "    }\n",
       "\n",
       "    .dataframe thead th {\n",
       "        text-align: right;\n",
       "    }\n",
       "</style>\n",
       "<table border=\"1\" class=\"dataframe\">\n",
       "  <thead>\n",
       "    <tr style=\"text-align: right;\">\n",
       "      <th></th>\n",
       "      <th>model</th>\n",
       "      <th>annotated</th>\n",
       "      <th>num_species</th>\n",
       "      <th>num_annotated_species</th>\n",
       "      <th>processing_time</th>\n",
       "    </tr>\n",
       "  </thead>\n",
       "  <tbody>\n",
       "    <tr>\n",
       "      <th>0</th>\n",
       "      <td>BIOMD0000000634.xml</td>\n",
       "      <td>True</td>\n",
       "      <td>69</td>\n",
       "      <td>3</td>\n",
       "      <td>0.897954</td>\n",
       "    </tr>\n",
       "    <tr>\n",
       "      <th>1</th>\n",
       "      <td>BIOMD0000000152.xml</td>\n",
       "      <td>True</td>\n",
       "      <td>64</td>\n",
       "      <td>5</td>\n",
       "      <td>1.382807</td>\n",
       "    </tr>\n",
       "    <tr>\n",
       "      <th>2</th>\n",
       "      <td>BIOMD0000000146.xml</td>\n",
       "      <td>True</td>\n",
       "      <td>36</td>\n",
       "      <td>1</td>\n",
       "      <td>0.297854</td>\n",
       "    </tr>\n",
       "    <tr>\n",
       "      <th>3</th>\n",
       "      <td>BIOMD0000000620.xml</td>\n",
       "      <td>True</td>\n",
       "      <td>35</td>\n",
       "      <td>1</td>\n",
       "      <td>0.309514</td>\n",
       "    </tr>\n",
       "    <tr>\n",
       "      <th>4</th>\n",
       "      <td>BIOMD0000000608.xml</td>\n",
       "      <td>False</td>\n",
       "      <td>52</td>\n",
       "      <td>0</td>\n",
       "      <td>NaN</td>\n",
       "    </tr>\n",
       "  </tbody>\n",
       "</table>\n",
       "</div>"
      ],
      "text/plain": [
       "                 model  annotated  num_species  num_annotated_species  \\\n",
       "0  BIOMD0000000634.xml       True           69                      3   \n",
       "1  BIOMD0000000152.xml       True           64                      5   \n",
       "2  BIOMD0000000146.xml       True           36                      1   \n",
       "3  BIOMD0000000620.xml       True           35                      1   \n",
       "4  BIOMD0000000608.xml      False           52                      0   \n",
       "\n",
       "   processing_time  \n",
       "0         0.897954  \n",
       "1         1.382807  \n",
       "2         0.297854  \n",
       "3         0.309514  \n",
       "4              NaN  "
      ]
     },
     "execution_count": 19,
     "metadata": {},
     "output_type": "execute_result"
    }
   ],
   "source": [
    "# Read in the output CSV file\n",
    "biomd_model_species_statistics = pd.read_csv(output_dir+'biomd_model_species_statistics.csv')\n",
    "biomd_model_species_statistics.head()"
   ]
  },
  {
   "cell_type": "code",
   "execution_count": 20,
   "metadata": {},
   "outputs": [
    {
     "name": "stdout",
     "output_type": "stream",
     "text": [
      "\n",
      "\n",
      "<BioModels Species>\n",
      "Number of Models with Annotated Species: 314\n",
      "Ave. number of species: 58.74\n",
      "Ave. number of annotated species: 30.71\n",
      "Ave. processing time (per model): 9.70\n",
      "Ave. processing time (per element, per model): 0.32\n"
     ]
    }
   ],
   "source": [
    "print(\"\\n\\n<BioModels Species>\")\n",
    "# Models with annotated species\n",
    "annotated_species_df = biomd_model_species_statistics[biomd_model_species_statistics['annotated']]\n",
    "spec_biomodels = np.unique(annotated_species_df['model'])\n",
    "print(\"Number of Models with Annotated Species: %d\" % len(spec_biomodels))\n",
    "\n",
    "# Ave. number of species in models with annotated species\n",
    "ave_num_specs = annotated_species_df['num_species'].mean()\n",
    "print(\"Ave. number of species: %.02f\" % ave_num_specs)\n",
    "\n",
    "# Ave. number of annotated species in models with annotated species\n",
    "ave_num_annoted_specs = annotated_species_df['num_annotated_species'].mean()\n",
    "print(\"Ave. number of annotated species: %.02f\" % ave_num_annoted_specs)\n",
    "\n",
    "# Ave. processing time (per model)\n",
    "ave_processing_time = annotated_species_df['processing_time'].mean()\n",
    "print(\"Ave. processing time (per model): %.02f\" % ave_processing_time)\n",
    "\n",
    "# Ave. processing time (per element, per model)\n",
    "ave_processing_time_per_element = ave_processing_time / ave_num_annoted_specs\n",
    "print(\"Ave. processing time (per element, per model): %.02f\" % ave_processing_time_per_element)"
   ]
  },
  {
   "cell_type": "code",
   "execution_count": 22,
   "metadata": {},
   "outputs": [
    {
     "name": "stdout",
     "output_type": "stream",
     "text": [
      "\n",
      "\n",
      "<BioModels Species first 1000>\n",
      "Number of Models with Annotated Species: 306\n",
      "Ave. number of species: 39.89\n",
      "Ave. number of annotated species: 16.02\n",
      "Ave. processing time (per model): 4.42\n",
      "Ave. processing time (per element, per model): 0.28\n"
     ]
    }
   ],
   "source": [
    "# only consider the first 1000 models\n",
    "biomd_model_species_statistics_first1000 = biomd_model_species_statistics.sort_values(by='model').head(1000)\n",
    "\n",
    "print(\"\\n\\n<BioModels Species first 1000>\")\n",
    "# Models with annotated species\n",
    "annotated_species_df = biomd_model_species_statistics_first1000[biomd_model_species_statistics_first1000['annotated']]\n",
    "spec_biomodels = np.unique(annotated_species_df['model'])\n",
    "print(\"Number of Models with Annotated Species: %d\" % len(spec_biomodels))\n",
    "\n",
    "# Ave. number of species in models with annotated species\n",
    "ave_num_specs = annotated_species_df['num_species'].mean()\n",
    "print(\"Ave. number of species: %.02f\" % ave_num_specs)\n",
    "\n",
    "# Ave. number of annotated species in models with annotated species\n",
    "ave_num_annoted_specs = annotated_species_df['num_annotated_species'].mean()\n",
    "print(\"Ave. number of annotated species: %.02f\" % ave_num_annoted_specs)\n",
    "\n",
    "# Ave. processing time (per model)\n",
    "ave_processing_time = annotated_species_df['processing_time'].mean()\n",
    "print(\"Ave. processing time (per model): %.02f\" % ave_processing_time)\n",
    "\n",
    "# Ave. processing time (per element, per model)\n",
    "ave_processing_time_per_element = ave_processing_time / ave_num_annoted_specs\n",
    "print(\"Ave. processing time (per element, per model): %.02f\" % ave_processing_time_per_element)\n"
   ]
  },
  {
   "cell_type": "code",
   "execution_count": 117,
   "metadata": {},
   "outputs": [
    {
     "name": "stdout",
     "output_type": "stream",
     "text": [
      "We are at 0\n",
      "We are at 100\n",
      "We are at 200\n",
      "We are at 300\n",
      "We are at 400\n",
      "We are at 500\n",
      "We are at 600\n",
      "We are at 700\n",
      "We are at 800\n",
      "We are at 900\n",
      "We are at 1000\n"
     ]
    }
   ],
   "source": [
    "output_csv = 'biomd_species_accuracy.csv'\n",
    "generate_species_accuracy(biomd_model_dir, output_dir+output_csv)"
   ]
  },
  {
   "cell_type": "code",
   "execution_count": 3,
   "metadata": {},
   "outputs": [
    {
     "data": {
      "text/html": [
       "<div>\n",
       "<style scoped>\n",
       "    .dataframe tbody tr th:only-of-type {\n",
       "        vertical-align: middle;\n",
       "    }\n",
       "\n",
       "    .dataframe tbody tr th {\n",
       "        vertical-align: top;\n",
       "    }\n",
       "\n",
       "    .dataframe thead th {\n",
       "        text-align: right;\n",
       "    }\n",
       "</style>\n",
       "<table border=\"1\" class=\"dataframe\">\n",
       "  <thead>\n",
       "    <tr style=\"text-align: right;\">\n",
       "      <th></th>\n",
       "      <th>model</th>\n",
       "      <th>species_id</th>\n",
       "      <th>species_name</th>\n",
       "      <th>name_length</th>\n",
       "      <th>predictions</th>\n",
       "      <th>num_candidates</th>\n",
       "      <th>num_formulas</th>\n",
       "      <th>match_score</th>\n",
       "      <th>recall</th>\n",
       "      <th>precision</th>\n",
       "      <th>accuracy</th>\n",
       "    </tr>\n",
       "  </thead>\n",
       "  <tbody>\n",
       "    <tr>\n",
       "      <th>0</th>\n",
       "      <td>BIOMD0000000634.xml</td>\n",
       "      <td>ATP</td>\n",
       "      <td>ATP</td>\n",
       "      <td>3</td>\n",
       "      <td>[('CHEBI:15422', np.float64(1.0)), ('CHEBI:157...</td>\n",
       "      <td>6</td>\n",
       "      <td>5</td>\n",
       "      <td>1.000</td>\n",
       "      <td>1.0</td>\n",
       "      <td>0.200</td>\n",
       "      <td>1</td>\n",
       "    </tr>\n",
       "    <tr>\n",
       "      <th>1</th>\n",
       "      <td>BIOMD0000000634.xml</td>\n",
       "      <td>ADP</td>\n",
       "      <td>ADP</td>\n",
       "      <td>3</td>\n",
       "      <td>[('CHEBI:131833', np.float64(1.0)), ('CHEBI:13...</td>\n",
       "      <td>13</td>\n",
       "      <td>11</td>\n",
       "      <td>1.000</td>\n",
       "      <td>1.0</td>\n",
       "      <td>0.091</td>\n",
       "      <td>1</td>\n",
       "    </tr>\n",
       "    <tr>\n",
       "      <th>2</th>\n",
       "      <td>BIOMD0000000634.xml</td>\n",
       "      <td>AMP</td>\n",
       "      <td>AMP</td>\n",
       "      <td>3</td>\n",
       "      <td>[('CHEBI:138016', np.float64(1.0)), ('CHEBI:16...</td>\n",
       "      <td>14</td>\n",
       "      <td>12</td>\n",
       "      <td>1.000</td>\n",
       "      <td>1.0</td>\n",
       "      <td>0.083</td>\n",
       "      <td>1</td>\n",
       "    </tr>\n",
       "    <tr>\n",
       "      <th>3</th>\n",
       "      <td>BIOMD0000000152.xml</td>\n",
       "      <td>Ca</td>\n",
       "      <td>Ca</td>\n",
       "      <td>2</td>\n",
       "      <td>[('CHEBI:14750', np.float64(1.0)), ('CHEBI:157...</td>\n",
       "      <td>7</td>\n",
       "      <td>5</td>\n",
       "      <td>1.000</td>\n",
       "      <td>1.0</td>\n",
       "      <td>0.200</td>\n",
       "      <td>1</td>\n",
       "    </tr>\n",
       "    <tr>\n",
       "      <th>4</th>\n",
       "      <td>BIOMD0000000152.xml</td>\n",
       "      <td>PP2BinactiveCa2</td>\n",
       "      <td>PP2BinactiveCa2</td>\n",
       "      <td>15</td>\n",
       "      <td>[('CHEBI:31348', np.float64(0.873))]</td>\n",
       "      <td>1</td>\n",
       "      <td>1</td>\n",
       "      <td>0.873</td>\n",
       "      <td>0.0</td>\n",
       "      <td>0.000</td>\n",
       "      <td>0</td>\n",
       "    </tr>\n",
       "  </tbody>\n",
       "</table>\n",
       "</div>"
      ],
      "text/plain": [
       "                 model       species_id     species_name  name_length  \\\n",
       "0  BIOMD0000000634.xml              ATP              ATP            3   \n",
       "1  BIOMD0000000634.xml              ADP              ADP            3   \n",
       "2  BIOMD0000000634.xml              AMP              AMP            3   \n",
       "3  BIOMD0000000152.xml               Ca               Ca            2   \n",
       "4  BIOMD0000000152.xml  PP2BinactiveCa2  PP2BinactiveCa2           15   \n",
       "\n",
       "                                         predictions  num_candidates  \\\n",
       "0  [('CHEBI:15422', np.float64(1.0)), ('CHEBI:157...               6   \n",
       "1  [('CHEBI:131833', np.float64(1.0)), ('CHEBI:13...              13   \n",
       "2  [('CHEBI:138016', np.float64(1.0)), ('CHEBI:16...              14   \n",
       "3  [('CHEBI:14750', np.float64(1.0)), ('CHEBI:157...               7   \n",
       "4               [('CHEBI:31348', np.float64(0.873))]               1   \n",
       "\n",
       "   num_formulas  match_score  recall  precision  accuracy  \n",
       "0             5        1.000     1.0      0.200         1  \n",
       "1            11        1.000     1.0      0.091         1  \n",
       "2            12        1.000     1.0      0.083         1  \n",
       "3             5        1.000     1.0      0.200         1  \n",
       "4             1        0.873     0.0      0.000         0  "
      ]
     },
     "execution_count": 3,
     "metadata": {},
     "output_type": "execute_result"
    }
   ],
   "source": [
    "# Read in the output CSV file\n",
    "biomd_species_accuracy = pd.read_csv(output_dir+'biomd_species_accuracy.csv')\n",
    "biomd_species_accuracy.head()"
   ]
  },
  {
   "cell_type": "code",
   "execution_count": 37,
   "metadata": {},
   "outputs": [
    {
     "name": "stdout",
     "output_type": "stream",
     "text": [
      "\n",
      "\n",
      "<BioModels Species>\n",
      "Number of models assessed: 314\n",
      "Average recall (per model): 0.48\n",
      "Average precision (per model): 0.32\n",
      "Average match score (per model): 0.97\n",
      "Average accuracy (per model): 0.48\n"
     ]
    }
   ],
   "source": [
    "print(\"\\n\\n<BioModels Species>\")\n",
    "print(\"Number of models assessed: %d\" % biomd_species_accuracy['model'].nunique())\n",
    "print(\"Average recall (per model): %.02f\" % biomd_species_accuracy.groupby('model')['recall'].mean().mean())\n",
    "print(\"Average precision (per model): %.02f\" % biomd_species_accuracy.groupby('model')['precision'].mean().mean())\n",
    "print(\"Average match score (per model): %.02f\" % biomd_species_accuracy.groupby('model')['match_score'].mean().mean())\n",
    "print(\"Average accuracy (per model): %.02f\" % biomd_species_accuracy.groupby('model')['accuracy'].mean().mean())"
   ]
  },
  {
   "cell_type": "code",
   "execution_count": 38,
   "metadata": {},
   "outputs": [
    {
     "data": {
      "image/png": "[encoded data removed]",
      "text/plain": [
       "<Figure size 640x480 with 1 Axes>"
      ]
     },
     "metadata": {},
     "output_type": "display_data"
    }
   ],
   "source": [
    "# BioModels species\n",
    "df1 = biomd_species_accuracy.groupby('model')[['recall', 'precision']].mean()\n",
    "ax = plt.gca()\n",
    "ax.hist(x=[df1['recall'], df1['precision']], bins=20, color=['navy', 'gold'], label=['Recall', 'Precision'])\n",
    "ax.set_xlabel('Scores')\n",
    "ax.set_ylabel('Frequency')\n",
    "ax.set_title('Histogram of Recall and Precision Scores for BioModels Species')\n",
    "ax.legend(loc='upper right')\n",
    "plt.savefig(os.path.join(output_dir, 'biomd_spec_hist.png'), dpi=300, bbox_inches='tight', pad_inches=0.0)"
   ]
  },
  {
   "cell_type": "code",
   "execution_count": 36,
   "metadata": {},
   "outputs": [
    {
     "name": "stdout",
     "output_type": "stream",
     "text": [
      "\n",
      "\n",
      "<BioModels Species first 1000>\n",
      "Number of models assessed: 306\n",
      "Average recall (per model): 0.48\n",
      "Average precision (per model): 0.31\n",
      "Average match score (per model): 0.97\n",
      "Average accuracy (per model): 0.48\n"
     ]
    }
   ],
   "source": [
    "# Only consider model id less than BIOMD0000001000.xml\n",
    "biomd_species_accuracy_first1000 = biomd_species_accuracy[biomd_species_accuracy['model'] < 'BIOMD0000001000.xml']\n",
    "print(\"\\n\\n<BioModels Species first 1000>\")\n",
    "print(\"Number of models assessed: %d\" % biomd_species_accuracy_first1000['model'].nunique())\n",
    "print(\"Average recall (per model): %.02f\" % biomd_species_accuracy_first1000.groupby('model')['recall'].mean().mean())\n",
    "print(\"Average precision (per model): %.02f\" % biomd_species_accuracy_first1000.groupby('model')['precision'].mean().mean())\n",
    "print(\"Average match score (per model): %.02f\" % biomd_species_accuracy_first1000.groupby('model')['match_score'].mean().mean())\n",
    "print(\"Average accuracy (per model): %.02f\" % biomd_species_accuracy_first1000.groupby('model')['accuracy'].mean().mean())"
   ]
  },
  {
   "cell_type": "markdown",
   "metadata": {},
   "source": [
    "### BioModels reaction statistics"
   ]
  },
  {
   "cell_type": "code",
   "execution_count": 135,
   "metadata": {},
   "outputs": [
    {
     "name": "stdout",
     "output_type": "stream",
     "text": [
      "We are at 0\n",
      "We are at 100\n",
      "We are at 200\n",
      "We are at 300\n",
      "We are at 400\n",
      "We are at 500\n",
      "We are at 600\n",
      "We are at 700\n",
      "We are at 800\n",
      "We are at 900\n",
      "We are at 1000\n"
     ]
    }
   ],
   "source": [
    "output_csv = 'biomd_model_reaction_statistics.csv'\n",
    "generate_model_reaction_statistics(biomd_model_dir, output_dir+output_csv)"
   ]
  },
  {
   "cell_type": "code",
   "execution_count": 30,
   "metadata": {},
   "outputs": [
    {
     "data": {
      "text/html": [
       "<div>\n",
       "<style scoped>\n",
       "    .dataframe tbody tr th:only-of-type {\n",
       "        vertical-align: middle;\n",
       "    }\n",
       "\n",
       "    .dataframe tbody tr th {\n",
       "        vertical-align: top;\n",
       "    }\n",
       "\n",
       "    .dataframe thead th {\n",
       "        text-align: right;\n",
       "    }\n",
       "</style>\n",
       "<table border=\"1\" class=\"dataframe\">\n",
       "  <thead>\n",
       "    <tr style=\"text-align: right;\">\n",
       "      <th></th>\n",
       "      <th>model</th>\n",
       "      <th>annotated</th>\n",
       "      <th>num_reactions</th>\n",
       "      <th>num_annotated_reactions</th>\n",
       "      <th>processing_time</th>\n",
       "    </tr>\n",
       "  </thead>\n",
       "  <tbody>\n",
       "    <tr>\n",
       "      <th>0</th>\n",
       "      <td>BIOMD0000000634.xml</td>\n",
       "      <td>False</td>\n",
       "      <td>112</td>\n",
       "      <td>0</td>\n",
       "      <td>NaN</td>\n",
       "    </tr>\n",
       "    <tr>\n",
       "      <th>1</th>\n",
       "      <td>BIOMD0000000152.xml</td>\n",
       "      <td>True</td>\n",
       "      <td>120</td>\n",
       "      <td>34</td>\n",
       "      <td>20.656115</td>\n",
       "    </tr>\n",
       "    <tr>\n",
       "      <th>2</th>\n",
       "      <td>BIOMD0000000146.xml</td>\n",
       "      <td>False</td>\n",
       "      <td>34</td>\n",
       "      <td>0</td>\n",
       "      <td>NaN</td>\n",
       "    </tr>\n",
       "    <tr>\n",
       "      <th>3</th>\n",
       "      <td>BIOMD0000000620.xml</td>\n",
       "      <td>False</td>\n",
       "      <td>20</td>\n",
       "      <td>0</td>\n",
       "      <td>NaN</td>\n",
       "    </tr>\n",
       "    <tr>\n",
       "      <th>4</th>\n",
       "      <td>BIOMD0000000608.xml</td>\n",
       "      <td>False</td>\n",
       "      <td>140</td>\n",
       "      <td>0</td>\n",
       "      <td>NaN</td>\n",
       "    </tr>\n",
       "  </tbody>\n",
       "</table>\n",
       "</div>"
      ],
      "text/plain": [
       "                 model  annotated  num_reactions  num_annotated_reactions  \\\n",
       "0  BIOMD0000000634.xml      False            112                        0   \n",
       "1  BIOMD0000000152.xml       True            120                       34   \n",
       "2  BIOMD0000000146.xml      False             34                        0   \n",
       "3  BIOMD0000000620.xml      False             20                        0   \n",
       "4  BIOMD0000000608.xml      False            140                        0   \n",
       "\n",
       "   processing_time  \n",
       "0              NaN  \n",
       "1        20.656115  \n",
       "2              NaN  \n",
       "3              NaN  \n",
       "4              NaN  "
      ]
     },
     "execution_count": 30,
     "metadata": {},
     "output_type": "execute_result"
    }
   ],
   "source": [
    "# Read in the output CSV file\n",
    "biomd_model_reaction_statistics = pd.read_csv(output_dir+'biomd_model_reaction_statistics.csv')\n",
    "biomd_model_reaction_statistics.head()"
   ]
  },
  {
   "cell_type": "code",
   "execution_count": 31,
   "metadata": {},
   "outputs": [
    {
     "name": "stdout",
     "output_type": "stream",
     "text": [
      "\n",
      "\n",
      "<BioModels Reactions>\n",
      "Number of Models with Annotated Reactions: 135\n",
      "Ave. number of reactions: 103.90\n",
      "Ave. number of annotated reactions: 46.93\n",
      "Ave. processing time (per model): 30.53\n",
      "Ave. processing time (per element, per model): 0.65\n"
     ]
    }
   ],
   "source": [
    "print(\"\\n\\n<BioModels Reactions>\")\n",
    "# Models with annotated reactions\n",
    "annotated_reactions_df = biomd_model_reaction_statistics[biomd_model_reaction_statistics['annotated']]\n",
    "spec_biomodels = np.unique(annotated_reactions_df['model'])\n",
    "print(\"Number of Models with Annotated Reactions: %d\" % len(spec_biomodels))\n",
    "\n",
    "# Ave. number of reactions in models with annotated reactions\n",
    "ave_num_reactions = annotated_reactions_df['num_reactions'].mean()\n",
    "print(\"Ave. number of reactions: %.02f\" % ave_num_reactions)\n",
    "\n",
    "# Ave. number of annotated reactions in models with annotated reactions\n",
    "ave_num_annoted_reactions = annotated_reactions_df['num_annotated_reactions'].mean()\n",
    "print(\"Ave. number of annotated reactions: %.02f\" % ave_num_annoted_reactions)\n",
    "\n",
    "# Ave. processing time (per model)\n",
    "ave_processing_time = annotated_reactions_df['processing_time'].mean()\n",
    "print(\"Ave. processing time (per model): %.02f\" % ave_processing_time)\n",
    "\n",
    "# Ave. processing time (per element, per model)\n",
    "ave_processing_time_per_element = ave_processing_time / ave_num_annoted_reactions\n",
    "print(\"Ave. processing time (per element, per model): %.02f\" % ave_processing_time_per_element)"
   ]
  },
  {
   "cell_type": "code",
   "execution_count": 32,
   "metadata": {},
   "outputs": [
    {
     "name": "stdout",
     "output_type": "stream",
     "text": [
      "\n",
      "\n",
      "<BioModels Reactions first 1000>\n",
      "Number of Models with Annotated Reactions: 131\n",
      "Ave. number of reactions: 42.64\n",
      "Ave. number of annotated reactions: 16.70\n",
      "Ave. processing time (per model): 8.62\n",
      "Ave. processing time (per element, per model): 0.52\n"
     ]
    }
   ],
   "source": [
    "# Only consider the first 1000 models\n",
    "biomd_model_reaction_statistics_first1000 = biomd_model_reaction_statistics.sort_values(by='model').head(1000)\n",
    "\n",
    "print(\"\\n\\n<BioModels Reactions first 1000>\")\n",
    "# Models with annotated reactions\n",
    "annotated_reactions_df = biomd_model_reaction_statistics_first1000[biomd_model_reaction_statistics_first1000['annotated']]\n",
    "spec_biomodels = np.unique(annotated_reactions_df['model'])\n",
    "print(\"Number of Models with Annotated Reactions: %d\" % len(spec_biomodels))\n",
    "\n",
    "# Ave. number of reactions in models with annotated reactions\n",
    "ave_num_reactions = annotated_reactions_df['num_reactions'].mean()\n",
    "print(\"Ave. number of reactions: %.02f\" % ave_num_reactions)\n",
    "\n",
    "# Ave. number of annotated reactions in models with annotated reactions\n",
    "ave_num_annoted_reactions = annotated_reactions_df['num_annotated_reactions'].mean()\n",
    "print(\"Ave. number of annotated reactions: %.02f\" % ave_num_annoted_reactions)\n",
    "\n",
    "# Ave. processing time (per model)\n",
    "ave_processing_time = annotated_reactions_df['processing_time'].mean()\n",
    "print(\"Ave. processing time (per model): %.02f\" % ave_processing_time)\n",
    "\n",
    "# Ave. processing time (per element, per model)\n",
    "ave_processing_time_per_element = ave_processing_time / ave_num_annoted_reactions\n",
    "print(\"Ave. processing time (per element, per model): %.02f\" % ave_processing_time_per_element)\n",
    "\n"
   ]
  },
  {
   "cell_type": "code",
   "execution_count": 122,
   "metadata": {},
   "outputs": [
    {
     "name": "stdout",
     "output_type": "stream",
     "text": [
      "We are at 0\n",
      "We are at 100\n",
      "We are at 200\n",
      "We are at 300\n",
      "We are at 400\n",
      "We are at 500\n",
      "We are at 600\n",
      "We are at 700\n",
      "We are at 800\n",
      "We are at 900\n",
      "We are at 1000\n"
     ]
    }
   ],
   "source": [
    "output_csv = 'biomd_reaction_accuracy.csv'\n",
    "generate_reaction_accuracy(biomd_model_dir, output_dir+output_csv)"
   ]
  },
  {
   "cell_type": "code",
   "execution_count": 9,
   "metadata": {},
   "outputs": [],
   "source": [
    "# Because the number of reaction candidates, the csv file is too large\n",
    "# Save a smaller version with only the first 10 candidates\n",
    "biomd_reaction_accuracy = pd.read_csv(output_dir+'biomd_reaction_accuracy.csv')\n",
    "biomd_reaction_accuracy_small = biomd_reaction_accuracy.copy()\n",
    "biomd_reaction_accuracy_small['predictions'] = biomd_reaction_accuracy_small['predictions'].apply(lambda x: x[:10])\n",
    "biomd_reaction_accuracy_small.to_csv(output_dir+'biomd_reaction_accuracy_small.csv', index=False)\n"
   ]
  },
  {
   "cell_type": "code",
   "execution_count": 40,
   "metadata": {},
   "outputs": [
    {
     "name": "stdout",
     "output_type": "stream",
     "text": [
      "\n",
      "\n",
      "<BioModels Reactions>\n",
      "Number of models assessed: 135\n",
      "Average recall (per model): 0.34\n",
      "Average precision (per model): 0.09\n",
      "Average match score (per model): 0.61\n",
      "Average accuracy (per model): 0.37\n"
     ]
    }
   ],
   "source": [
    "biomd_reaction_accuracy_small = pd.read_csv(output_dir+'biomd_reaction_accuracy_small.csv')\n",
    "print(\"\\n\\n<BioModels Reactions>\")\n",
    "print(\"Number of models assessed: %d\" % biomd_reaction_accuracy_small['model'].nunique())\n",
    "print(\"Average recall (per model): %.02f\" % biomd_reaction_accuracy_small.groupby('model')['recall'].mean().mean())\n",
    "print(\"Average precision (per model): %.02f\" % biomd_reaction_accuracy_small.groupby('model')['precision'].mean().mean())\n",
    "print(\"Average match score (per model): %.02f\" % biomd_reaction_accuracy_small.groupby('model')['match_score'].mean().mean())\n",
    "print(\"Average accuracy (per model): %.02f\" % biomd_reaction_accuracy_small.groupby('model')['accuracy'].mean().mean())\n"
   ]
  },
  {
   "cell_type": "code",
   "execution_count": 39,
   "metadata": {},
   "outputs": [
    {
     "name": "stdout",
     "output_type": "stream",
     "text": [
      "\n",
      "\n",
      "<BioModels Reactions first 1000>\n",
      "Number of models assessed: 131\n",
      "Average recall (per model): 0.34\n",
      "Average precision (per model): 0.09\n",
      "Average match score (per model): 0.61\n",
      "Average accuracy (per model): 0.36\n"
     ]
    }
   ],
   "source": [
    "biomd_reaction_accuracy_small_first1000 = biomd_reaction_accuracy_small[biomd_reaction_accuracy_small['model'] < 'BIOMD0000001000.xml']\n",
    "print(\"\\n\\n<BioModels Reactions first 1000>\")\n",
    "print(\"Number of models assessed: %d\" % biomd_reaction_accuracy_small_first1000['model'].nunique())\n",
    "print(\"Average recall (per model): %.02f\" % biomd_reaction_accuracy_small_first1000.groupby('model')['recall'].mean().mean())\n",
    "print(\"Average precision (per model): %.02f\" % biomd_reaction_accuracy_small_first1000.groupby('model')['precision'].mean().mean())\n",
    "print(\"Average match score (per model): %.02f\" % biomd_reaction_accuracy_small_first1000.groupby('model')['match_score'].mean().mean())\n",
    "print(\"Average accuracy (per model): %.02f\" % biomd_reaction_accuracy_small_first1000.groupby('model')['accuracy'].mean().mean())\n"
   ]
  },
  {
   "cell_type": "code",
   "execution_count": 41,
   "metadata": {},
   "outputs": [
    {
     "data": {
      "image/png": "[encoded data removed]",
      "text/plain": [
       "<Figure size 640x480 with 1 Axes>"
      ]
     },
     "metadata": {},
     "output_type": "display_data"
    }
   ],
   "source": [
    "# BioModels reactions\n",
    "df2 = biomd_reaction_accuracy_small.groupby('model')[['recall', 'precision']].mean()\n",
    "ax = plt.gca()\n",
    "ax.hist(x=[df2['recall'], df2['precision']], bins=20, color=['navy', 'gold'], label=['Recall', 'Precision'])\n",
    "ax.set_xlabel('Scores')\n",
    "ax.set_ylabel('Frequency')\n",
    "ax.set_title('Histogram of Recall and Precision Scores for BioModels Reactions')\n",
    "ax.legend(loc='upper right')\n",
    "plt.savefig(os.path.join(output_dir, 'biomd_reac_hist.png'), dpi=300, bbox_inches='tight', pad_inches=0.0)"
   ]
  },
  {
   "cell_type": "markdown",
   "metadata": {},
   "source": [
    "### Bigg models species statistics"
   ]
  },
  {
   "cell_type": "code",
   "execution_count": 138,
   "metadata": {},
   "outputs": [
    {
     "name": "stdout",
     "output_type": "stream",
     "text": [
      "We are at 0\n",
      "We are at 100\n"
     ]
    }
   ],
   "source": [
    "output_csv = 'bigg_model_species_statistics.csv'\n",
    "generate_model_species_statistics(bigg_model_dir, output_dir+output_csv)"
   ]
  },
  {
   "cell_type": "code",
   "execution_count": 43,
   "metadata": {},
   "outputs": [
    {
     "name": "stdout",
     "output_type": "stream",
     "text": [
      "\n",
      "\n",
      "<Bigg Models Species>\n",
      "Number of Models with Annotated Species: 108\n",
      "Ave. number of species: 1674.09\n",
      "Ave. number of annotated species: 1233.64\n",
      "Ave. processing time (per model): 323.13\n",
      "Ave. processing time (per element, per model): 0.26\n"
     ]
    }
   ],
   "source": [
    "print(\"\\n\\n<Bigg Models Species>\")\n",
    "# Models with annotated species\n",
    "annotated_species_df = pd.read_csv(output_dir+'bigg_model_species_statistics.csv')\n",
    "spec_biomodels = np.unique(annotated_species_df['model'])\n",
    "print(\"Number of Models with Annotated Species: %d\" % len(spec_biomodels))\n",
    "\n",
    "# Ave. number of species in models with annotated species\n",
    "ave_num_specs = annotated_species_df['num_species'].mean()\n",
    "print(\"Ave. number of species: %.02f\" % ave_num_specs)\n",
    "\n",
    "# Ave. number of annotated species in models with annotated species\n",
    "ave_num_annoted_specs = annotated_species_df['num_annotated_species'].mean()\n",
    "print(\"Ave. number of annotated species: %.02f\" % ave_num_annoted_specs)\n",
    "\n",
    "# Ave. processing time (per model)\n",
    "ave_processing_time = annotated_species_df['processing_time'].mean()\n",
    "print(\"Ave. processing time (per model): %.02f\" % ave_processing_time)\n",
    "\n",
    "# Ave. processing time (per element, per model)\n",
    "ave_processing_time_per_element = ave_processing_time / ave_num_annoted_specs\n",
    "print(\"Ave. processing time (per element, per model): %.02f\" % ave_processing_time_per_element)\n"
   ]
  },
  {
   "cell_type": "code",
   "execution_count": 15,
   "metadata": {},
   "outputs": [
    {
     "name": "stdout",
     "output_type": "stream",
     "text": [
      "We are at 0\n",
      "We are at 1\n",
      "We are at 2\n",
      "We are at 3\n",
      "We are at 4\n",
      "We are at 5\n",
      "We are at 6\n",
      "We are at 7\n",
      "We are at 8\n",
      "We are at 9\n",
      "We are at 10\n",
      "We are at 11\n",
      "We are at 12\n",
      "We are at 13\n",
      "We are at 14\n",
      "We are at 15\n",
      "We are at 16\n",
      "We are at 17\n",
      "We are at 18\n",
      "We are at 19\n",
      "We are at 20\n",
      "We are at 21\n",
      "We are at 22\n",
      "We are at 23\n",
      "We are at 24\n",
      "We are at 25\n",
      "We are at 26\n",
      "We are at 27\n",
      "We are at 28\n",
      "We are at 29\n",
      "We are at 30\n",
      "We are at 31\n",
      "We are at 32\n",
      "We are at 33\n",
      "We are at 34\n",
      "We are at 35\n",
      "We are at 36\n",
      "We are at 37\n",
      "We are at 38\n",
      "We are at 39\n",
      "We are at 40\n",
      "We are at 41\n",
      "We are at 42\n",
      "We are at 43\n",
      "We are at 44\n",
      "We are at 45\n",
      "We are at 46\n",
      "We are at 47\n",
      "We are at 48\n",
      "We are at 49\n",
      "We are at 50\n",
      "We are at 51\n",
      "We are at 52\n",
      "We are at 53\n",
      "We are at 54\n",
      "We are at 55\n",
      "We are at 56\n",
      "We are at 57\n",
      "We are at 58\n",
      "We are at 59\n",
      "We are at 60\n",
      "We are at 61\n",
      "We are at 62\n",
      "We are at 63\n",
      "We are at 64\n",
      "We are at 65\n",
      "We are at 66\n",
      "We are at 67\n",
      "We are at 68\n",
      "We are at 69\n",
      "We are at 70\n",
      "We are at 71\n",
      "We are at 72\n",
      "We are at 73\n",
      "We are at 74\n",
      "We are at 75\n",
      "We are at 76\n",
      "We are at 77\n",
      "We are at 78\n",
      "We are at 79\n",
      "We are at 80\n",
      "We are at 81\n",
      "We are at 82\n",
      "We are at 83\n",
      "We are at 84\n",
      "We are at 85\n",
      "We are at 86\n",
      "We are at 87\n",
      "We are at 88\n",
      "We are at 89\n",
      "We are at 90\n",
      "We are at 91\n",
      "We are at 92\n",
      "We are at 93\n",
      "We are at 94\n",
      "We are at 95\n",
      "We are at 96\n",
      "We are at 97\n",
      "We are at 98\n",
      "We are at 99\n",
      "We are at 100\n",
      "We are at 101\n",
      "We are at 102\n",
      "We are at 103\n",
      "We are at 104\n",
      "We are at 105\n",
      "We are at 106\n",
      "We are at 107\n"
     ]
    }
   ],
   "source": [
    "output_csv = 'bigg_species_accuracy.csv'\n",
    "generate_species_accuracy(bigg_model_dir, output_dir+output_csv)"
   ]
  },
  {
   "cell_type": "code",
   "execution_count": 139,
   "metadata": {},
   "outputs": [
    {
     "name": "stdout",
     "output_type": "stream",
     "text": [
      "We are at 0\n",
      "We are at 100\n"
     ]
    }
   ],
   "source": [
    "output_csv = 'bigg_model_reaction_statistics.csv'\n",
    "generate_model_reaction_statistics(bigg_model_dir, output_dir+output_csv)"
   ]
  },
  {
   "cell_type": "code",
   "execution_count": 45,
   "metadata": {},
   "outputs": [
    {
     "name": "stdout",
     "output_type": "stream",
     "text": [
      "\n",
      "\n",
      "<Bigg Species>\n",
      "Number of models assessed: 108\n",
      "Average recall (per model): 0.85\n",
      "Average precision (per model): 0.81\n",
      "Average match score (per model): 0.98\n",
      "Average accuracy (per model): 0.86\n"
     ]
    }
   ],
   "source": [
    "bigg_species_accuracy = pd.read_csv(output_dir+'bigg_species_accuracy.csv')\n",
    "print(\"\\n\\n<Bigg Species>\")\n",
    "print(\"Number of models assessed: %d\" % bigg_species_accuracy['model'].nunique())\n",
    "print(\"Average recall (per model): %.02f\" % bigg_species_accuracy.groupby('model')['recall'].mean().mean())\n",
    "print(\"Average precision (per model): %.02f\" % bigg_species_accuracy.groupby('model')['precision'].mean().mean())\n",
    "print(\"Average match score (per model): %.02f\" % bigg_species_accuracy.groupby('model')['match_score'].mean().mean())\n",
    "print(\"Average accuracy (per model): %.02f\" % bigg_species_accuracy.groupby('model')['accuracy'].mean().mean())"
   ]
  },
  {
   "cell_type": "code",
   "execution_count": 48,
   "metadata": {},
   "outputs": [
    {
     "data": {
      "image/png": "[encoded data removed]",
      "text/plain": [
       "<Figure size 640x480 with 1 Axes>"
      ]
     },
     "metadata": {},
     "output_type": "display_data"
    }
   ],
   "source": [
    "# Bigg species\n",
    "df1 = bigg_species_accuracy.groupby('model')[['recall', 'precision']].mean()\n",
    "ax = plt.gca()\n",
    "ax.hist(x=[df1['recall'], df1['precision']], bins=20, color=['navy', 'gold'], label=['Recall', 'Precision'], range=(0, 1))\n",
    "ax.set_xlabel('Scores')\n",
    "ax.set_ylabel('Frequency')\n",
    "ax.set_title('Histogram of Recall and Precision Scores for Bigg Species')\n",
    "ax.legend(loc='upper right')\n",
    "plt.savefig(os.path.join(output_dir, 'biomd_spec_hist.png'), dpi=300, bbox_inches='tight', pad_inches=0.0)"
   ]
  },
  {
   "cell_type": "code",
   "execution_count": 44,
   "metadata": {},
   "outputs": [
    {
     "name": "stdout",
     "output_type": "stream",
     "text": [
      "\n",
      "\n",
      "<Bigg Models Reactions>\n",
      "Number of Models with Annotated Reactions: 108\n",
      "Ave. number of reactions: 2328.00\n",
      "Ave. number of annotated reactions: 1119.92\n",
      "Ave. processing time (per model): 727.05\n",
      "Ave. processing time (per element, per model): 0.65\n"
     ]
    }
   ],
   "source": [
    "print(\"\\n\\n<Bigg Models Reactions>\")\n",
    "# Models with annotated reactions\n",
    "annotated_reactions_df = pd.read_csv(output_dir+'bigg_model_reaction_statistics.csv')\n",
    "spec_biomodels = np.unique(annotated_reactions_df['model'])\n",
    "print(\"Number of Models with Annotated Reactions: %d\" % len(spec_biomodels))\n",
    "\n",
    "# Ave. number of reactions in models with annotated reactions\n",
    "ave_num_reactions = annotated_reactions_df['num_reactions'].mean()\n",
    "print(\"Ave. number of reactions: %.02f\" % ave_num_reactions)\n",
    "\n",
    "# Ave. number of annotated reactions in models with annotated reactions\n",
    "ave_num_annoted_reactions = annotated_reactions_df['num_annotated_reactions'].mean()\n",
    "print(\"Ave. number of annotated reactions: %.02f\" % ave_num_annoted_reactions)\n",
    "\n",
    "# Ave. processing time (per model)\n",
    "ave_processing_time = annotated_reactions_df['processing_time'].mean()\n",
    "print(\"Ave. processing time (per model): %.02f\" % ave_processing_time)\n",
    "\n",
    "# Ave. processing time (per element, per model)\n",
    "ave_processing_time_per_element = ave_processing_time / ave_num_annoted_reactions\n",
    "print(\"Ave. processing time (per element, per model): %.02f\" % ave_processing_time_per_element)\n"
   ]
  },
  {
   "cell_type": "code",
   "execution_count": 49,
   "metadata": {},
   "outputs": [
    {
     "name": "stdout",
     "output_type": "stream",
     "text": [
      "We are at 0\n",
      "We are at 1\n",
      "We are at 2\n",
      "We are at 3\n",
      "We are at 4\n",
      "We are at 5\n",
      "We are at 6\n",
      "We are at 7\n",
      "We are at 8\n",
      "We are at 9\n",
      "We are at 10\n",
      "We are at 11\n",
      "We are at 12\n",
      "We are at 13\n",
      "We are at 14\n",
      "We are at 15\n",
      "We are at 16\n",
      "We are at 17\n",
      "We are at 18\n",
      "We are at 19\n",
      "We are at 20\n",
      "We are at 21\n",
      "We are at 22\n",
      "We are at 23\n",
      "We are at 24\n",
      "We are at 25\n",
      "We are at 26\n",
      "We are at 27\n",
      "We are at 28\n",
      "We are at 29\n",
      "We are at 30\n",
      "We are at 31\n",
      "We are at 32\n",
      "We are at 33\n",
      "We are at 34\n",
      "We are at 35\n",
      "We are at 36\n",
      "We are at 37\n",
      "We are at 38\n",
      "We are at 39\n",
      "We are at 40\n",
      "We are at 41\n",
      "We are at 42\n",
      "We are at 43\n",
      "We are at 44\n",
      "We are at 45\n",
      "We are at 46\n",
      "We are at 47\n",
      "We are at 48\n",
      "We are at 49\n",
      "We are at 50\n",
      "We are at 51\n",
      "We are at 52\n",
      "We are at 53\n",
      "We are at 54\n",
      "We are at 55\n",
      "We are at 56\n",
      "We are at 57\n",
      "We are at 58\n",
      "We are at 59\n",
      "We are at 60\n",
      "We are at 61\n",
      "We are at 62\n",
      "We are at 63\n",
      "We are at 64\n",
      "We are at 65\n",
      "We are at 66\n",
      "We are at 67\n",
      "We are at 68\n",
      "We are at 69\n",
      "We are at 70\n",
      "We are at 71\n",
      "We are at 72\n",
      "We are at 73\n",
      "We are at 74\n",
      "We are at 75\n",
      "We are at 76\n",
      "We are at 77\n",
      "We are at 78\n",
      "We are at 79\n",
      "We are at 80\n",
      "We are at 81\n",
      "We are at 82\n",
      "We are at 83\n",
      "We are at 84\n",
      "We are at 85\n",
      "We are at 86\n",
      "We are at 87\n",
      "We are at 88\n",
      "We are at 89\n",
      "We are at 90\n",
      "We are at 91\n",
      "We are at 92\n",
      "We are at 93\n",
      "We are at 94\n",
      "We are at 95\n",
      "We are at 96\n",
      "We are at 97\n",
      "We are at 98\n",
      "We are at 99\n",
      "We are at 100\n",
      "We are at 101\n",
      "We are at 102\n",
      "We are at 103\n",
      "We are at 104\n",
      "We are at 105\n",
      "We are at 106\n",
      "We are at 107\n"
     ]
    }
   ],
   "source": [
    "output_csv = 'bigg_reaction_accuracy.csv'\n",
    "generate_reaction_accuracy(bigg_model_dir, output_dir+output_csv)"
   ]
  },
  {
   "cell_type": "code",
   "execution_count": 50,
   "metadata": {},
   "outputs": [
    {
     "name": "stdout",
     "output_type": "stream",
     "text": [
      "\n",
      "\n",
      "<Bigg Reactions>\n",
      "Number of models assessed: 108\n",
      "Average recall (per model): 0.56\n",
      "Average precision (per model): 0.30\n",
      "Average match score (per model): 0.83\n",
      "Average accuracy (per model): 0.67\n"
     ]
    }
   ],
   "source": [
    "bigg_reaction_accuracy = pd.read_csv(output_dir+'bigg_reaction_accuracy.csv')\n",
    "print(\"\\n\\n<Bigg Reactions>\")\n",
    "print(\"Number of models assessed: %d\" % bigg_reaction_accuracy['model'].nunique())\n",
    "print(\"Average recall (per model): %.02f\" % bigg_reaction_accuracy.groupby('model')['recall'].mean().mean())\n",
    "print(\"Average precision (per model): %.02f\" % bigg_reaction_accuracy.groupby('model')['precision'].mean().mean())\n",
    "print(\"Average match score (per model): %.02f\" % bigg_reaction_accuracy.groupby('model')['match_score'].mean().mean())\n",
    "print(\"Average accuracy (per model): %.02f\" % bigg_reaction_accuracy.groupby('model')['accuracy'].mean().mean())"
   ]
  },
  {
   "cell_type": "code",
   "execution_count": 51,
   "metadata": {},
   "outputs": [
    {
     "data": {
      "image/png": "[encoded data removed]",
      "text/plain": [
       "<Figure size 640x480 with 1 Axes>"
      ]
     },
     "metadata": {},
     "output_type": "display_data"
    }
   ],
   "source": [
    "# Bigg reactions\n",
    "df2 = bigg_reaction_accuracy.groupby('model')[['recall', 'precision']].mean()\n",
    "ax = plt.gca()\n",
    "ax.hist(x=[df2['recall'], df2['precision']], bins=20, color=['navy', 'gold'], label=['Recall', 'Precision'], range=(0, 1))\n",
    "ax.set_xlabel('Scores')\n",
    "ax.set_ylabel('Frequency')\n",
    "ax.set_title('Histogram of Recall and Precision Scores for Bigg Reactions')\n",
    "ax.legend(loc='upper right')\n",
    "plt.savefig(os.path.join(output_dir, 'biomd_reac_hist.png'), dpi=300, bbox_inches='tight', pad_inches=0.0)"
   ]
  }
 ],
 "metadata": {
  "kernelspec": {
   "display_name": "py3112",
   "language": "python",
   "name": "python3"
  },
  "language_info": {
   "codemirror_mode": {
    "name": "ipython",
    "version": 3
   },
   "file_extension": ".py",
   "mimetype": "text/x-python",
   "name": "python",
   "nbconvert_exporter": "python",
   "pygments_lexer": "ipython3",
   "version": "3.11.2"
  }
 },
 "nbformat": 4,
 "nbformat_minor": 2
}
